{
 "cells": [
  {
   "cell_type": "markdown",
   "metadata": {},
   "source": [
    "<img width=\"800px\" src=\"../fidle/img/00-Fidle-header-01.svg\"></img>\n",
    "\n",
    "# <!-- TITLE --> [VAE6] - Generation of a clustered dataset\n",
    "<!-- DESC --> Episode 2 : Analysis of the CelebA dataset and creation of an clustered and usable dataset\n",
    "<!-- AUTHOR : Jean-Luc Parouty (CNRS/SIMaP) -->\n",
    "\n",
    "## Objectives :\n",
    " - Formatting our dataset in **cluster files**, using batch mode\n",
    " - Adapting a notebook for batch use\n",
    "\n",
    "\n",
    "The [CelebFaces Attributes Dataset (CelebA)](http://mmlab.ie.cuhk.edu.hk/projects/CelebA.html) contains about **200,000 images** (202599,218,178,3).  \n",
    "The size and the number of files of this dataset make it impossible to use it as it is.  \n",
    "A formatting in the form of clusters of n images is essential.\n",
    "\n",
    "\n",
    "## What we're going to do :\n",
    " - Lire les images\n",
    " - redimensionner et normaliser celles-ci,\n",
    " - Constituer des clusters d'images en format npy\n"
   ]
  },
  {
   "cell_type": "markdown",
   "metadata": {},
   "source": [
    "## Step 1 - Import and init"
   ]
  },
  {
   "cell_type": "code",
   "execution_count": 1,
   "metadata": {
    "execution": {
     "iopub.execute_input": "2021-03-22T13:49:54.973616Z",
     "iopub.status.busy": "2021-03-22T13:49:54.973145Z",
     "iopub.status.idle": "2021-03-22T13:49:57.660942Z",
     "shell.execute_reply": "2021-03-22T13:49:57.661429Z"
    }
   },
   "outputs": [
    {
     "data": {
      "text/html": [
       "<style>\n",
       "\n",
       "div.warn {    \n",
       "    background-color: #fcf2f2;\n",
       "    border-color: #dFb5b4;\n",
       "    border-left: 5px solid #dfb5b4;\n",
       "    padding: 0.5em;\n",
       "    font-weight: bold;\n",
       "    font-size: 1.1em;;\n",
       "    }\n",
       "\n",
       "\n",
       "\n",
       "div.nota {    \n",
       "    background-color: #DAFFDE;\n",
       "    border-left: 5px solid #92CC99;\n",
       "    padding: 0.5em;\n",
       "    }\n",
       "\n",
       "div.todo:before { content:url(data:image/svg+xml;base64,PHN2ZyB4bWxucz0iaHR0cDovL3d3dy53My5vcmcvMjAwMC9zdmciIHdpZHRoPSI1My44OTEyIiBoZWlnaHQ9IjE0My4zOTAyIiB2aWV3Qm94PSIwIDAgNTMuODkxMiAxNDMuMzkwMiI+PHRpdGxlPjAwLUJvYi10b2RvPC90aXRsZT48cGF0aCBkPSJNMjMuNDU2OCwxMTQuMzAxNmExLjgwNjMsMS44MDYzLDAsMSwxLDEuODE1NywxLjgyNEExLjgyMDksMS44MjA5LDAsMCwxLDIzLjQ1NjgsMTE0LjMwMTZabS0xMC42NjEyLDEuODIyQTEuODI3MiwxLjgyNzIsMCwxLDAsMTAuOTgsMTE0LjMsMS44MiwxLjgyLDAsMCwwLDEyLjc5NTYsMTE2LjEyMzZabS03LjcwNyw0LjU4NzR2LTVzLjQ4NjMtOS4xMjIzLDguMDIxNS0xMS45Njc1YTE5LjIwODIsMTkuMjA4MiwwLDAsMSw2LjA0ODYtMS4yNDU0LDE5LjE3NzgsMTkuMTc3OCwwLDAsMSw2LjA0ODcsMS4yNDc1YzcuNTM1MSwyLjgzNDcsOC4wMTc0LDExLjk2NzQsOC4wMTc0LDExLjk2NzR2NS4wMjM0bC4wMDQyLDcuNjgydjIuNGMuMDE2Ny4xOTkyLjAzMzYuMzkyMS4wMzM2LjU4NzEsMCwuMjEzOC0uMDE2OC40MTA5LS4wMzM2LjYzMzJ2LjA1ODdoLS4wMDg0YTguMzcxOSw4LjM3MTksMCwwLDEtNy4zNzM4LDcuNjU0N3MtLjk5NTMsMy42MzgtNi42OTMzLDMuNjM4LTYuNjkzNC0zLjYzOC02LjY5MzQtMy42MzhhOC4zNyw4LjM3LDAsMCwxLTcuMzcxNi03LjY1NDdINS4wODQzdi0uMDU4N2MtLjAxODktLjIyLS4wMjk0LS40MTk0LS4wMjk0LS42MzMyLDAtLjE5MjkuMDE2Ny0uMzgzNy4wMjk0LS41ODcxdi0yLjRtMTguMDkzNy00LjA0YTEuMTU2NSwxLjE1NjUsMCwxLDAtMi4zMTI2LDAsMS4xNTY0LDEuMTU2NCwwLDEsMCwyLjMxMjYsMFptNC4wODM0LDBhMS4xNTk1LDEuMTU5NSwwLDEsMC0xLjE2MzYsMS4xN0ExLjE3NSwxLjE3NSwwLDAsMCwyNy4yNjE0LDEyNC4zNzc5Wk05LjM3MzksMTE0LjYzNWMwLDMuMTA5MywyLjQxMzIsMy4zMSwyLjQxMzIsMy4zMWExMzMuOTI0MywxMzMuOTI0MywwLDAsMCwxNC43MzQ4LDBzMi40MTExLS4xOTI5LDIuNDExMS0zLjMxYTguMDc3Myw4LjA3NzMsMCwwLDAtMi40MTExLTUuNTUxOWMtNC41LTMuNTAzMy05LjkxMjYtMy41MDMzLTE0Ljc0MTEsMEE4LjA4NTEsOC4wODUxLDAsMCwwLDkuMzczOSwxMTQuNjM1WiIgc3R5bGU9ImZpbGw6IzAxMDEwMSIvPjxjaXJjbGUgY3g9IjMzLjE0MzYiIGN5PSIxMjQuNTM0IiByPSIzLjgzNjMiIHN0eWxlPSJmaWxsOiMwMTAxMDEiLz48cmVjdCB4PSIzNS42NjU5IiB5PSIxMTIuOTYyNSIgd2lkdGg9IjIuMDc3IiBoZWlnaHQ9IjEwLjU0NTgiIHRyYW5zZm9ybT0idHJhbnNsYXRlKDIxLjYgMjQxLjExMjEpIHJvdGF0ZSgtMTU1Ljc0NikiIHN0eWxlPSJmaWxsOiMwMTAxMDEiLz48Y2lyY2xlIGN4PSIzOC44NzA0IiBjeT0iMTEzLjQyNzkiIHI9IjIuNDA4NSIgc3R5bGU9ImZpbGw6IzAxMDEwMSIvPjxjaXJjbGUgY3g9IjUuMjI0OCIgY3k9IjEyNC41MzQiIHI9IjMuODM2MyIgc3R5bGU9ImZpbGw6IzAxMDEwMSIvPjxyZWN0IHg9IjEuNDE2NCIgeT0iMTI0LjYzMDEiIHdpZHRoPSIyLjA3NyIgaGVpZ2h0PSIxMC41NDU4IiB0cmFuc2Zvcm09InRyYW5zbGF0ZSg0LjkwOTcgMjU5LjgwNikgcm90YXRlKC0xODApIiBzdHlsZT0iZmlsbDojMDEwMTAxIi8+PGNpcmNsZSBjeD0iMi40MDkxIiBjeT0iMTM3LjA5OTYiIHI9IjIuNDA4NSIgc3R5bGU9ImZpbGw6IzAxMDEwMSIvPjxwYXRoIGQ9Ik0xOC4wNTExLDEwMC4xMDY2aC0uMDE0NlYxMDIuNjFoMi4zdi0yLjQyNzlhMi40MjI5LDIuNDIyOSwwLDEsMC0yLjI4NTQtLjA3NTVaIiBzdHlsZT0iZmlsbDojMDEwMTAxIi8+PHBhdGggZD0iTTM5LjQyMTQsMjcuMjU4djEuMDVBMTEuOTQ1MiwxMS45NDUyLDAsMCwwLDQ0LjU5NTQsNS43OWEuMjQ0OS4yNDQ5LDAsMCwxLS4wMjM1LS40MjI3TDQ2Ljc1LDMuOTUxNWEuMzg5Mi4zODkyLDAsMCwxLC40MjYyLDAsMTQuODQ0MiwxNC44NDQyLDAsMCwxLTcuNzU0MywyNy4yNTkxdjEuMDY3YS40NS40NSwwLDAsMS0uNzA0Ny4zNzU4bC0zLjg0MTktMi41MWEuNDUuNDUsMCwwLDEsMC0uNzUxNmwzLjg0MTktMi41MWEuNDUuNDUsMCwwLDEsLjY5NDYuMzc1OFpNNDMuMjMsMi41ODkyLDM5LjM4NzguMDc5NGEuNDUuNDUsMCwwLDAtLjcwNDYuMzc1OHYxLjA2N2ExNC44NDQyLDE0Ljg0NDIsMCwwLDAtNy43NTQzLDI3LjI1OTEuMzg5LjM4OSwwLDAsMCwuNDI2MSwwbDIuMTc3Ny0xLjQxOTNhLjI0NS4yNDUsMCwwLDAtLjAyMzUtLjQyMjgsMTEuOTQ1MSwxMS45NDUxLDAsMCwxLDUuMTc0LTIyLjUxNDZ2MS4wNWEuNDUuNDUsMCwwLDAsLjcwNDYuMzc1OGwzLjg1NTMtMi41MWEuNDUuNDUsMCwwLDAsMC0uNzUxNlpNMzkuMDUyMywxNC4yNDU4YTIuMTIwNiwyLjEyMDYsMCwxLDAsMi4xMjA2LDIuMTIwNmgwQTIuMTI0LDIuMTI0LDAsMCwwLDM5LjA1MjMsMTQuMjQ1OFptNi4wNzMyLTQuNzc4MS44MjU0LjgyNTVhMS4wNTY4LDEuMDU2OCwwLDAsMSwuMTE3NSwxLjM0MjFsLS44MDIsMS4xNDQyYTcuMTAxOCw3LjEwMTgsMCwwLDEsLjcxMTQsMS43MTEybDEuMzc1Ny4yNDE2YTEuMDU2OSwxLjA1NjksMCwwLDEsLjg3NTcsMS4wNHYxLjE2NDNhMS4wNTY5LDEuMDU2OSwwLDAsMS0uODc1NywxLjA0bC0xLjM3MjQuMjQxNkE3LjExLDcuMTEsMCwwLDEsNDUuMjcsMTkuOTNsLjgwMTksMS4xNDQyYTEuMDU3LDEuMDU3LDAsMCwxLS4xMTc0LDEuMzQyMmwtLjgyODguODQ4OWExLjA1NywxLjA1NywwLDAsMS0xLjM0MjEuMTE3NGwtMS4xNDQyLS44MDE5YTcuMTMzOCw3LjEzMzgsMCwwLDEtMS43MTEzLjcxMTNsLS4yNDE2LDEuMzcyNGExLjA1NjgsMS4wNTY4LDAsMCwxLTEuMDQuODc1N0gzOC40Njg0YTEuMDU2OCwxLjA1NjgsMCwwLDEtMS4wNC0uODc1N2wtLjI0MTYtMS4zNzI0YTcuMTM1NSw3LjEzNTUsMCwwLDEtMS43MTEzLS43MTEzbC0xLjE0NDEuODAxOWExLjA1NzEsMS4wNTcxLDAsMCwxLTEuMzQyMi0uMTE3NGwtLjgzNTUtLjgyNTVhMS4wNTcsMS4wNTcsMCwwLDEtLjExNzQtMS4zNDIxbC44MDE5LTEuMTQ0MmE3LjEyMSw3LjEyMSwwLDAsMS0uNzExMy0xLjcxMTJsLTEuMzcyNC0uMjQxNmExLjA1NjksMS4wNTY5LDAsMCwxLS44NzU3LTEuMDRWMTUuNzgyNmExLjA1NjksMS4wNTY5LDAsMCwxLC44NzU3LTEuMDRsMS4zNzU3LS4yNDE2YTcuMTEsNy4xMSwwLDAsMSwuNzExNC0xLjcxMTJsLS44MDItMS4xNDQyYTEuMDU3LDEuMDU3LDAsMCwxLC4xMTc1LTEuMzQyMmwuODI1NC0uODI1NEExLjA1NjgsMS4wNTY4LDAsMCwxLDM0LjMyNDUsOS4zNmwxLjE0NDIuODAxOUE3LjEzNTUsNy4xMzU1LDAsMCwxLDM3LjE4LDkuNDUxbC4yNDE2LTEuMzcyNGExLjA1NjgsMS4wNTY4LDAsMCwxLDEuMDQtLjg3NTdoMS4xNjc3YTEuMDU2OSwxLjA1NjksMCwwLDEsMS4wNC44NzU3bC4yNDE2LDEuMzcyNGE3LjEyNSw3LjEyNSwwLDAsMSwxLjcxMTIuNzExM0w0My43NjY2LDkuMzZBMS4wNTY5LDEuMDU2OSwwLDAsMSw0NS4xMjU1LDkuNDY3N1ptLTIuMDMsNi44OTg3QTQuMDQzMyw0LjA0MzMsMCwxLDAsMzkuMDUyMywyMC40MWgwQTQuMDQ2NSw0LjA0NjUsMCwwLDAsNDMuMDk1NSwxNi4zNjY0WiIgc3R5bGU9ImZpbGw6I2UxMjIyOSIvPjxwb2x5Z29uIHBvaW50cz0iMzkuNDEzIDM0Ljc1NyAzOS41MzcgMzQuNzU3IDM5LjY3NSAzNC43NTcgMzkuNjc1IDEwOS41MSAzOS41MzcgMTA5LjUxIDM5LjQxMyAxMDkuNTEgMzkuNDEzIDM0Ljc1NyAzOS40MTMgMzQuNzU3IiBzdHlsZT0iZmlsbDpub25lO3N0cm9rZTojOTk5O3N0cm9rZS1saW5lY2FwOnJvdW5kO3N0cm9rZS1taXRlcmxpbWl0OjEwO3N0cm9rZS13aWR0aDowLjMwODg1NDQ1MDU2MDE2MThweDtmaWxsLXJ1bGU6ZXZlbm9kZCIvPjwvc3ZnPg==);\n",
       "    float:left;\n",
       "    margin-right:20px;\n",
       "    margin-top:-20px;\n",
       "    margin-bottom:20px;\n",
       "}\n",
       "div.todo{\n",
       "    font-weight: bold;\n",
       "    font-size: 1.1em;\n",
       "    margin-top:40px;\n",
       "}\n",
       "div.todo ul{\n",
       "    margin: 0.2em;\n",
       "}\n",
       "div.todo li{\n",
       "    margin-left:60px;\n",
       "    margin-top:0;\n",
       "    margin-bottom:0;\n",
       "}\n",
       "\n",
       "div .comment{\n",
       "    font-size:0.8em;\n",
       "    color:#696969;\n",
       "}\n",
       "\n",
       "\n",
       "\n",
       "</style>\n",
       "\n"
      ],
      "text/plain": [
       "<IPython.core.display.HTML object>"
      ]
     },
     "metadata": {},
     "output_type": "display_data"
    },
    {
     "data": {
      "text/markdown": [
       "**\\*\\* Overrided parameters : \\*\\***"
      ],
      "text/plain": [
       "<IPython.core.display.Markdown object>"
      ]
     },
     "metadata": {},
     "output_type": "display_data"
    },
    {
     "name": "stdout",
     "output_type": "stream",
     "text": [
      "run_dir              : ./run/VAE6_done\n"
     ]
    },
    {
     "data": {
      "text/markdown": [
       "<br>**FIDLE 2020 - Practical Work Module**"
      ],
      "text/plain": [
       "<IPython.core.display.Markdown object>"
      ]
     },
     "metadata": {},
     "output_type": "display_data"
    },
    {
     "name": "stdout",
     "output_type": "stream",
     "text": [
      "Version              : 2.0.22\n",
      "Notebook id          : VAE6\n",
      "Run time             : Monday 22 March 2021, 14:49:57\n",
      "TensorFlow version   : 2.4.0\n",
      "Keras version        : 2.4.0\n",
      "Datasets dir         : /gpfswork/rech/mlh/uja62cb/datasets\n",
      "Run dir              : ./run/VAE6_done\n",
      "Update keras cache   : False\n",
      "Save figs            : True\n",
      "Path figs            : ./run/VAE6_done/figs\n"
     ]
    }
   ],
   "source": [
    "import numpy as np\n",
    "import matplotlib.pyplot as plt\n",
    "import pandas as pd\n",
    "from skimage import io, transform\n",
    "\n",
    "import os,pathlib,time,sys,json,glob\n",
    "import csv\n",
    "import math, random\n",
    "\n",
    "from importlib import reload\n",
    "\n",
    "sys.path.append('..')\n",
    "import fidle.pwk as pwk\n",
    "\n",
    "run_dir='./run/VAE6'\n",
    "datasets_dir = pwk.init('VAE6', run_dir)"
   ]
  },
  {
   "cell_type": "markdown",
   "metadata": {},
   "source": [
    "## Step 2 - Parameters\n",
    "All the dataset will be use for training  \n",
    "Reading the 200,000 images can take a long time **(>20 minutes)** and a lot of place **(>170 GB)**  \n",
    "Example :  \n",
    "Image Sizes: 128x128 : 74 GB  \n",
    "Image Sizes: 192x160 : 138 GB  \n",
    "\n",
    "You can define theses parameters :  \n",
    "`scale` : 1 mean 100% of the dataset - set 0.05 for tests  \n",
    "`image_size` : images size in the clusters, should be 128x128 or 192,160 - original size is (218,178)  \n",
    "`output_dir` : where to write clusters, could be :\n",
    " - `./data`, for tests purpose\n",
    " - `<datasets_dir>/celeba/enhanced` to add clusters in your datasets dir.  \n",
    " \n",
    "`cluster_size` : number of images in a cluster, 10000 is fine. (will be adjust by scale)\n",
    "\n",
    "**Note :** If the target folder is not empty and exit_if_exist is True, the construction is blocked.  "
   ]
  },
  {
   "cell_type": "code",
   "execution_count": 2,
   "metadata": {
    "execution": {
     "iopub.execute_input": "2021-03-22T13:49:57.665411Z",
     "iopub.status.busy": "2021-03-22T13:49:57.664939Z",
     "iopub.status.idle": "2021-03-22T13:49:57.666609Z",
     "shell.execute_reply": "2021-03-22T13:49:57.667088Z"
    }
   },
   "outputs": [],
   "source": [
    "# ---- Parameters you can change -----------------------------------\n",
    "\n",
    "# ---- Tests\n",
    "scale         = 0.02\n",
    "seed          = 123\n",
    "cluster_size  = 10000\n",
    "image_size    = (128,128)\n",
    "output_dir    = './data'\n",
    "exit_if_exist = False\n",
    "\n",
    "# ---- Full clusters generation, medium size\n",
    "# scale         = 1.\n",
    "# seed          = 123\n",
    "# cluster_size  = 10000\n",
    "# image_size    = (128,128)\n",
    "# output_dir    = f'{datasets_dir}/celeba/enhanced'\n",
    "# exit_if_exist = True\n",
    "\n",
    "# ---- Full clusters generation, large size\n",
    "# scale         = 1.\n",
    "# seed          = 123\n",
    "# cluster_size  = 10000\n",
    "# image_size    = (192,160)\n",
    "# output_dir    = f'{datasets_dir}/celeba/enhanced'\n",
    "# exit_if_exist = True"
   ]
  },
  {
   "cell_type": "code",
   "execution_count": 3,
   "metadata": {
    "execution": {
     "iopub.execute_input": "2021-03-22T13:49:57.670341Z",
     "iopub.status.busy": "2021-03-22T13:49:57.669877Z",
     "iopub.status.idle": "2021-03-22T13:49:57.673533Z",
     "shell.execute_reply": "2021-03-22T13:49:57.673049Z"
    }
   },
   "outputs": [
    {
     "data": {
      "text/markdown": [
       "**\\*\\* Overrided parameters : \\*\\***"
      ],
      "text/plain": [
       "<IPython.core.display.Markdown object>"
      ]
     },
     "metadata": {},
     "output_type": "display_data"
    },
    {
     "name": "stdout",
     "output_type": "stream",
     "text": [
      "scale                : 0.02\n",
      "seed                 : 123\n",
      "cluster_size         : 10000\n",
      "image_size           : (128, 128)\n",
      "output_dir           : ./data\n",
      "exit_if_exist        : False\n"
     ]
    }
   ],
   "source": [
    "# ---- Used for continous integration - Just forget this line\n",
    "#\n",
    "pwk.override('scale', 'seed', 'cluster_size', 'image_size', 'output_dir', 'exit_if_exist')"
   ]
  },
  {
   "cell_type": "markdown",
   "metadata": {},
   "source": [
    "## Step 3 - Cluster construction"
   ]
  },
  {
   "cell_type": "markdown",
   "metadata": {},
   "source": [
    "### 3.1 - Directories and files :"
   ]
  },
  {
   "cell_type": "code",
   "execution_count": 4,
   "metadata": {
    "execution": {
     "iopub.execute_input": "2021-03-22T13:49:57.676484Z",
     "iopub.status.busy": "2021-03-22T13:49:57.676022Z",
     "iopub.status.idle": "2021-03-22T13:49:57.677682Z",
     "shell.execute_reply": "2021-03-22T13:49:57.678148Z"
    }
   },
   "outputs": [],
   "source": [
    "dataset_csv = f'{datasets_dir}/celeba/origine/list_attr_celeba.csv'\n",
    "dataset_img = f'{datasets_dir}/celeba/origine/img_align_celeba'"
   ]
  },
  {
   "cell_type": "markdown",
   "metadata": {},
   "source": [
    "### 3.2 - Cooking function"
   ]
  },
  {
   "cell_type": "code",
   "execution_count": 5,
   "metadata": {
    "execution": {
     "iopub.execute_input": "2021-03-22T13:49:57.690589Z",
     "iopub.status.busy": "2021-03-22T13:49:57.688473Z",
     "iopub.status.idle": "2021-03-22T13:49:57.692166Z",
     "shell.execute_reply": "2021-03-22T13:49:57.692634Z"
    }
   },
   "outputs": [],
   "source": [
    "def read_and_save( dataset_csv, dataset_img, shuffle=True, seed=None, scale=1,\n",
    "                   cluster_size=1000, cluster_dir='./dataset_cluster', cluster_name='images',\n",
    "                   image_size=(128,128),\n",
    "                   exit_if_exist=True):\n",
    "    '''\n",
    "    Will read the images and save a clustered dataset\n",
    "    args:\n",
    "        dataset_csv : list and description of original images\n",
    "        dataset_img : original images directory\n",
    "        shuffle     : shuffle data if True  (True)\n",
    "        seed        : random seed value. False mean no seed, None mean using /dev/urandom (None)\n",
    "        scale       : scale of dataset to use. 1. mean 100% (1.)\n",
    "        cluster_size : Size of generated cluster (10000)\n",
    "        cluster_dir  : Directory of generated clusters (''./dataset_cluster')\n",
    "        cluster_name : Name of generated clusters ('images')\n",
    "        image_size   : Size of generated images (128,128)\n",
    "        exit_if_exist : Exit if clusters still exists.\n",
    "    '''\n",
    "    global pwk\n",
    "    \n",
    "    def save_cluster(imgs,desc,cols,id):\n",
    "        file_img  = f'{cluster_dir}/{cluster_name}-{id:03d}.npy'\n",
    "        file_desc = f'{cluster_dir}/{cluster_name}-{id:03d}.csv'\n",
    "        np.save(file_img,  np.array(imgs))\n",
    "        df=pd.DataFrame(data=desc,columns=cols)\n",
    "        df.to_csv(file_desc, index=False)\n",
    "        return [],[],id+1\n",
    "    \n",
    "    pwk.chrono_start()\n",
    "    \n",
    "    # ---- Seed\n",
    "    #\n",
    "    if seed is not False:\n",
    "        np.random.seed(seed)\n",
    "        print(f'Seeded ({seed})')\n",
    "            \n",
    "    # ---- Read dataset description\n",
    "    #\n",
    "    dataset_desc = pd.read_csv(dataset_csv, header=0)\n",
    "    n=len(dataset_desc)\n",
    "    print(f'Description loaded ({n} images).')\n",
    "    \n",
    "    # ---- Shuffle\n",
    "    #\n",
    "    if shuffle:\n",
    "        dataset_desc = dataset_desc.reindex(np.random.permutation(dataset_desc.index))\n",
    "        print('Shuffled.')\n",
    "    cols = list(dataset_desc.columns)\n",
    "\n",
    "    # ---- Check if cluster files exist\n",
    "    #\n",
    "    if exit_if_exist and os.path.isfile(f'{cluster_dir}/images-000.npy'):\n",
    "        print('\\n*** Oups. There are already clusters in the target folder!\\n')\n",
    "        return 0,0\n",
    "    pwk.mkdir(cluster_dir)\n",
    "\n",
    "    # ---- Rescale\n",
    "    #\n",
    "    n=int(len(dataset_desc)*scale)\n",
    "    dataset = dataset_desc[:n]\n",
    "    cluster_size = int(cluster_size*scale)\n",
    "    print('Rescaled.')\n",
    "    pwk.subtitle('Parameters :')\n",
    "    print(f'Scale is : {scale}')\n",
    "    print(f'Image size is     : {image_size}')\n",
    "    print(f'dataset length is : {n}')\n",
    "    print(f'cluster size is   : {cluster_size}')\n",
    "    print(f'clusters nb  is   :',int(n/cluster_size + 1))\n",
    "    print(f'cluster dir  is   : {cluster_dir}')\n",
    "    \n",
    "    # ---- Read and save clusters\n",
    "    #\n",
    "    pwk.subtitle('Running...')\n",
    "    imgs, desc, cluster_id = [],[],0\n",
    "    #\n",
    "    for i,row in dataset.iterrows():\n",
    "        #\n",
    "        filename = f'{dataset_img}/{row.image_id}'\n",
    "        #\n",
    "        # ---- Read image, resize (and normalize)\n",
    "        #\n",
    "        img = io.imread(filename)\n",
    "        img = transform.resize(img, image_size)\n",
    "        #\n",
    "        # ---- Add image and description\n",
    "        #\n",
    "        imgs.append( img )\n",
    "        desc.append( row.values )\n",
    "        #\n",
    "        # ---- Progress bar\n",
    "        #\n",
    "        pwk.update_progress(f'Cluster {cluster_id:03d} :',len(imgs),cluster_size)\n",
    "        #\n",
    "        # ---- Save cluster if full\n",
    "        #\n",
    "        if len(imgs)==cluster_size:\n",
    "            imgs,desc,cluster_id=save_cluster(imgs,desc,cols, cluster_id)\n",
    "\n",
    "    # ---- Save uncomplete cluster\n",
    "    if len(imgs)>0 : imgs,desc,cluster_id=save_cluster(imgs,desc,cols,cluster_id)\n",
    "\n",
    "    duration=pwk.chrono_stop()\n",
    "    return cluster_id,duration\n"
   ]
  },
  {
   "cell_type": "markdown",
   "metadata": {},
   "source": [
    "### 3.3 - Clusters building"
   ]
  },
  {
   "cell_type": "code",
   "execution_count": 6,
   "metadata": {
    "execution": {
     "iopub.execute_input": "2021-03-22T13:49:57.698558Z",
     "iopub.status.busy": "2021-03-22T13:49:57.698085Z",
     "iopub.status.idle": "2021-03-22T13:51:44.055974Z",
     "shell.execute_reply": "2021-03-22T13:51:44.056463Z"
    }
   },
   "outputs": [
    {
     "name": "stdout",
     "output_type": "stream",
     "text": [
      "Seeded (123)\n"
     ]
    },
    {
     "name": "stdout",
     "output_type": "stream",
     "text": [
      "Description loaded (202599 images).\n",
      "Shuffled.\n",
      "Rescaled.\n"
     ]
    },
    {
     "data": {
      "text/markdown": [
       "<br>**Parameters :**"
      ],
      "text/plain": [
       "<IPython.core.display.Markdown object>"
      ]
     },
     "metadata": {},
     "output_type": "display_data"
    },
    {
     "name": "stdout",
     "output_type": "stream",
     "text": [
      "Scale is : 0.02\n",
      "Image size is     : (128, 128)\n",
      "dataset length is : 4051\n",
      "cluster size is   : 200\n",
      "clusters nb  is   : 21\n",
      "cluster dir  is   : ./data/clusters-128x128\n"
     ]
    },
    {
     "data": {
      "text/markdown": [
       "<br>**Running...**"
      ],
      "text/plain": [
       "<IPython.core.display.Markdown object>"
      ]
     },
     "metadata": {},
     "output_type": "display_data"
    },
    {
     "name": "stdout",
     "output_type": "stream",
     "text": [
      "Cluster 000 :    [#---------------------------------------]   2.5% of 200\r"
     ]
    },
    {
     "name": "stdout",
     "output_type": "stream",
     "text": [
      "Cluster 000 :    [##--------------------------------------]   5.0% of 200\r"
     ]
    },
    {
     "name": "stdout",
     "output_type": "stream",
     "text": [
      "Cluster 000 :    [###-------------------------------------]   7.5% of 200\r"
     ]
    },
    {
     "name": "stdout",
     "output_type": "stream",
     "text": [
      "Cluster 000 :    [####------------------------------------]  10.0% of 200\r"
     ]
    },
    {
     "name": "stdout",
     "output_type": "stream",
     "text": [
      "Cluster 000 :    [#####-----------------------------------]  12.5% of 200\r"
     ]
    },
    {
     "name": "stdout",
     "output_type": "stream",
     "text": [
      "Cluster 000 :    [######----------------------------------]  15.0% of 200\r"
     ]
    },
    {
     "name": "stdout",
     "output_type": "stream",
     "text": [
      "Cluster 000 :    [#######---------------------------------]  17.5% of 200\r"
     ]
    },
    {
     "name": "stdout",
     "output_type": "stream",
     "text": [
      "Cluster 000 :    [########--------------------------------]  20.0% of 200\r"
     ]
    },
    {
     "name": "stdout",
     "output_type": "stream",
     "text": [
      "Cluster 000 :    [#########-------------------------------]  22.5% of 200\r"
     ]
    },
    {
     "name": "stdout",
     "output_type": "stream",
     "text": [
      "Cluster 000 :    [##########------------------------------]  25.0% of 200\r"
     ]
    },
    {
     "name": "stdout",
     "output_type": "stream",
     "text": [
      "Cluster 000 :    [###########-----------------------------]  27.5% of 200\r"
     ]
    },
    {
     "name": "stdout",
     "output_type": "stream",
     "text": [
      "Cluster 000 :    [############----------------------------]  30.0% of 200\r"
     ]
    },
    {
     "name": "stdout",
     "output_type": "stream",
     "text": [
      "Cluster 000 :    [#############---------------------------]  32.5% of 200\r"
     ]
    },
    {
     "name": "stdout",
     "output_type": "stream",
     "text": [
      "Cluster 000 :    [##############--------------------------]  35.0% of 200\r"
     ]
    },
    {
     "name": "stdout",
     "output_type": "stream",
     "text": [
      "Cluster 000 :    [###############-------------------------]  37.5% of 200\r"
     ]
    },
    {
     "name": "stdout",
     "output_type": "stream",
     "text": [
      "Cluster 000 :    [################------------------------]  40.0% of 200\r"
     ]
    },
    {
     "name": "stdout",
     "output_type": "stream",
     "text": [
      "Cluster 000 :    [#################-----------------------]  42.5% of 200\r"
     ]
    },
    {
     "name": "stdout",
     "output_type": "stream",
     "text": [
      "Cluster 000 :    [##################----------------------]  45.0% of 200\r"
     ]
    },
    {
     "name": "stdout",
     "output_type": "stream",
     "text": [
      "Cluster 000 :    [###################---------------------]  47.5% of 200\r"
     ]
    },
    {
     "name": "stdout",
     "output_type": "stream",
     "text": [
      "Cluster 000 :    [####################--------------------]  50.0% of 200\r"
     ]
    },
    {
     "name": "stdout",
     "output_type": "stream",
     "text": [
      "Cluster 000 :    [#####################-------------------]  52.5% of 200\r"
     ]
    },
    {
     "name": "stdout",
     "output_type": "stream",
     "text": [
      "Cluster 000 :    [######################------------------]  55.0% of 200\r",
      "Cluster 000 :    [#######################-----------------]  57.5% of 200\r"
     ]
    },
    {
     "name": "stdout",
     "output_type": "stream",
     "text": [
      "Cluster 000 :    [########################----------------]  60.0% of 200\r",
      "Cluster 000 :    [#########################---------------]  62.5% of 200\r"
     ]
    },
    {
     "name": "stdout",
     "output_type": "stream",
     "text": [
      "Cluster 000 :    [##########################--------------]  65.0% of 200\r",
      "Cluster 000 :    [###########################-------------]  67.5% of 200\r"
     ]
    },
    {
     "name": "stdout",
     "output_type": "stream",
     "text": [
      "Cluster 000 :    [############################------------]  70.0% of 200\r",
      "Cluster 000 :    [#############################-----------]  72.5% of 200\r"
     ]
    },
    {
     "name": "stdout",
     "output_type": "stream",
     "text": [
      "Cluster 000 :    [##############################----------]  75.0% of 200\r"
     ]
    },
    {
     "name": "stdout",
     "output_type": "stream",
     "text": [
      "Cluster 000 :    [###############################---------]  77.5% of 200\r",
      "Cluster 000 :    [################################--------]  80.0% of 200\r"
     ]
    },
    {
     "name": "stdout",
     "output_type": "stream",
     "text": [
      "Cluster 000 :    [#################################-------]  82.5% of 200\r",
      "Cluster 000 :    [##################################------]  85.0% of 200\r"
     ]
    },
    {
     "name": "stdout",
     "output_type": "stream",
     "text": [
      "Cluster 000 :    [###################################-----]  87.5% of 200\r",
      "Cluster 000 :    [####################################----]  90.0% of 200\r"
     ]
    },
    {
     "name": "stdout",
     "output_type": "stream",
     "text": [
      "Cluster 000 :    [#####################################---]  92.5% of 200\r"
     ]
    },
    {
     "name": "stdout",
     "output_type": "stream",
     "text": [
      "Cluster 000 :    [######################################--]  95.0% of 200\r",
      "Cluster 000 :    [#######################################-]  97.5% of 200\r"
     ]
    },
    {
     "name": "stdout",
     "output_type": "stream",
     "text": [
      "Cluster 000 :    [########################################] 100.0% of 200\n"
     ]
    },
    {
     "name": "stdout",
     "output_type": "stream",
     "text": [
      "Cluster 001 :    [#---------------------------------------]   2.5% of 200\r",
      "Cluster 001 :    [##--------------------------------------]   5.0% of 200\r"
     ]
    },
    {
     "name": "stdout",
     "output_type": "stream",
     "text": [
      "Cluster 001 :    [###-------------------------------------]   7.5% of 200\r",
      "Cluster 001 :    [####------------------------------------]  10.0% of 200\r"
     ]
    },
    {
     "name": "stdout",
     "output_type": "stream",
     "text": [
      "Cluster 001 :    [#####-----------------------------------]  12.5% of 200\r",
      "Cluster 001 :    [######----------------------------------]  15.0% of 200\r"
     ]
    },
    {
     "name": "stdout",
     "output_type": "stream",
     "text": [
      "Cluster 001 :    [#######---------------------------------]  17.5% of 200\r",
      "Cluster 001 :    [########--------------------------------]  20.0% of 200\r"
     ]
    },
    {
     "name": "stdout",
     "output_type": "stream",
     "text": [
      "Cluster 001 :    [#########-------------------------------]  22.5% of 200\r",
      "Cluster 001 :    [##########------------------------------]  25.0% of 200\r"
     ]
    },
    {
     "name": "stdout",
     "output_type": "stream",
     "text": [
      "Cluster 001 :    [###########-----------------------------]  27.5% of 200\r",
      "Cluster 001 :    [############----------------------------]  30.0% of 200\r"
     ]
    },
    {
     "name": "stdout",
     "output_type": "stream",
     "text": [
      "Cluster 001 :    [#############---------------------------]  32.5% of 200\r",
      "Cluster 001 :    [##############--------------------------]  35.0% of 200\r"
     ]
    },
    {
     "name": "stdout",
     "output_type": "stream",
     "text": [
      "Cluster 001 :    [###############-------------------------]  37.5% of 200\r",
      "Cluster 001 :    [################------------------------]  40.0% of 200\r"
     ]
    },
    {
     "name": "stdout",
     "output_type": "stream",
     "text": [
      "Cluster 001 :    [#################-----------------------]  42.5% of 200\r",
      "Cluster 001 :    [##################----------------------]  45.0% of 200\r"
     ]
    },
    {
     "name": "stdout",
     "output_type": "stream",
     "text": [
      "Cluster 001 :    [###################---------------------]  47.5% of 200\r",
      "Cluster 001 :    [####################--------------------]  50.0% of 200\r"
     ]
    },
    {
     "name": "stdout",
     "output_type": "stream",
     "text": [
      "Cluster 001 :    [#####################-------------------]  52.5% of 200\r",
      "Cluster 001 :    [######################------------------]  55.0% of 200\r"
     ]
    },
    {
     "name": "stdout",
     "output_type": "stream",
     "text": [
      "Cluster 001 :    [#######################-----------------]  57.5% of 200\r",
      "Cluster 001 :    [########################----------------]  60.0% of 200\r"
     ]
    },
    {
     "name": "stdout",
     "output_type": "stream",
     "text": [
      "Cluster 001 :    [#########################---------------]  62.5% of 200\r"
     ]
    },
    {
     "name": "stdout",
     "output_type": "stream",
     "text": [
      "Cluster 001 :    [##########################--------------]  65.0% of 200\r",
      "Cluster 001 :    [###########################-------------]  67.5% of 200\r"
     ]
    },
    {
     "name": "stdout",
     "output_type": "stream",
     "text": [
      "Cluster 001 :    [############################------------]  70.0% of 200\r",
      "Cluster 001 :    [#############################-----------]  72.5% of 200\r"
     ]
    },
    {
     "name": "stdout",
     "output_type": "stream",
     "text": [
      "Cluster 001 :    [##############################----------]  75.0% of 200\r",
      "Cluster 001 :    [###############################---------]  77.5% of 200\r"
     ]
    },
    {
     "name": "stdout",
     "output_type": "stream",
     "text": [
      "Cluster 001 :    [################################--------]  80.0% of 200\r",
      "Cluster 001 :    [#################################-------]  82.5% of 200\r"
     ]
    },
    {
     "name": "stdout",
     "output_type": "stream",
     "text": [
      "Cluster 001 :    [##################################------]  85.0% of 200\r",
      "Cluster 001 :    [###################################-----]  87.5% of 200\r"
     ]
    },
    {
     "name": "stdout",
     "output_type": "stream",
     "text": [
      "Cluster 001 :    [####################################----]  90.0% of 200\r",
      "Cluster 001 :    [#####################################---]  92.5% of 200\r"
     ]
    },
    {
     "name": "stdout",
     "output_type": "stream",
     "text": [
      "Cluster 001 :    [######################################--]  95.0% of 200\r",
      "Cluster 001 :    [#######################################-]  97.5% of 200\r"
     ]
    },
    {
     "name": "stdout",
     "output_type": "stream",
     "text": [
      "Cluster 001 :    [########################################] 100.0% of 200\n"
     ]
    },
    {
     "name": "stdout",
     "output_type": "stream",
     "text": [
      "Cluster 002 :    [#---------------------------------------]   2.5% of 200\r"
     ]
    },
    {
     "name": "stdout",
     "output_type": "stream",
     "text": [
      "Cluster 002 :    [##--------------------------------------]   5.0% of 200\r",
      "Cluster 002 :    [###-------------------------------------]   7.5% of 200\r"
     ]
    },
    {
     "name": "stdout",
     "output_type": "stream",
     "text": [
      "Cluster 002 :    [####------------------------------------]  10.0% of 200\r",
      "Cluster 002 :    [#####-----------------------------------]  12.5% of 200\r"
     ]
    },
    {
     "name": "stdout",
     "output_type": "stream",
     "text": [
      "Cluster 002 :    [######----------------------------------]  15.0% of 200\r",
      "Cluster 002 :    [#######---------------------------------]  17.5% of 200\r"
     ]
    },
    {
     "name": "stdout",
     "output_type": "stream",
     "text": [
      "Cluster 002 :    [########--------------------------------]  20.0% of 200\r",
      "Cluster 002 :    [#########-------------------------------]  22.5% of 200\r"
     ]
    },
    {
     "name": "stdout",
     "output_type": "stream",
     "text": [
      "Cluster 002 :    [##########------------------------------]  25.0% of 200\r",
      "Cluster 002 :    [###########-----------------------------]  27.5% of 200\r",
      "Cluster 002 :    [############----------------------------]  30.0% of 200\r"
     ]
    },
    {
     "name": "stdout",
     "output_type": "stream",
     "text": [
      "Cluster 002 :    [#############---------------------------]  32.5% of 200\r",
      "Cluster 002 :    [##############--------------------------]  35.0% of 200\r"
     ]
    },
    {
     "name": "stdout",
     "output_type": "stream",
     "text": [
      "Cluster 002 :    [###############-------------------------]  37.5% of 200\r",
      "Cluster 002 :    [################------------------------]  40.0% of 200\r"
     ]
    },
    {
     "name": "stdout",
     "output_type": "stream",
     "text": [
      "Cluster 002 :    [#################-----------------------]  42.5% of 200\r",
      "Cluster 002 :    [##################----------------------]  45.0% of 200\r"
     ]
    },
    {
     "name": "stdout",
     "output_type": "stream",
     "text": [
      "Cluster 002 :    [###################---------------------]  47.5% of 200\r",
      "Cluster 002 :    [####################--------------------]  50.0% of 200\r"
     ]
    },
    {
     "name": "stdout",
     "output_type": "stream",
     "text": [
      "Cluster 002 :    [#####################-------------------]  52.5% of 200\r",
      "Cluster 002 :    [######################------------------]  55.0% of 200\r"
     ]
    },
    {
     "name": "stdout",
     "output_type": "stream",
     "text": [
      "Cluster 002 :    [#######################-----------------]  57.5% of 200\r",
      "Cluster 002 :    [########################----------------]  60.0% of 200\r"
     ]
    },
    {
     "name": "stdout",
     "output_type": "stream",
     "text": [
      "Cluster 002 :    [#########################---------------]  62.5% of 200\r",
      "Cluster 002 :    [##########################--------------]  65.0% of 200\r"
     ]
    },
    {
     "name": "stdout",
     "output_type": "stream",
     "text": [
      "Cluster 002 :    [###########################-------------]  67.5% of 200\r"
     ]
    },
    {
     "name": "stdout",
     "output_type": "stream",
     "text": [
      "Cluster 002 :    [############################------------]  70.0% of 200\r",
      "Cluster 002 :    [#############################-----------]  72.5% of 200\r"
     ]
    },
    {
     "name": "stdout",
     "output_type": "stream",
     "text": [
      "Cluster 002 :    [##############################----------]  75.0% of 200\r",
      "Cluster 002 :    [###############################---------]  77.5% of 200\r"
     ]
    },
    {
     "name": "stdout",
     "output_type": "stream",
     "text": [
      "Cluster 002 :    [################################--------]  80.0% of 200\r",
      "Cluster 002 :    [#################################-------]  82.5% of 200\r"
     ]
    },
    {
     "name": "stdout",
     "output_type": "stream",
     "text": [
      "Cluster 002 :    [##################################------]  85.0% of 200\r",
      "Cluster 002 :    [###################################-----]  87.5% of 200\r"
     ]
    },
    {
     "name": "stdout",
     "output_type": "stream",
     "text": [
      "Cluster 002 :    [####################################----]  90.0% of 200\r",
      "Cluster 002 :    [#####################################---]  92.5% of 200\r"
     ]
    },
    {
     "name": "stdout",
     "output_type": "stream",
     "text": [
      "Cluster 002 :    [######################################--]  95.0% of 200\r",
      "Cluster 002 :    [#######################################-]  97.5% of 200\r"
     ]
    },
    {
     "name": "stdout",
     "output_type": "stream",
     "text": [
      "Cluster 002 :    [########################################] 100.0% of 200\n"
     ]
    },
    {
     "name": "stdout",
     "output_type": "stream",
     "text": [
      "Cluster 003 :    [#---------------------------------------]   2.5% of 200\r",
      "Cluster 003 :    [##--------------------------------------]   5.0% of 200\r"
     ]
    },
    {
     "name": "stdout",
     "output_type": "stream",
     "text": [
      "Cluster 003 :    [###-------------------------------------]   7.5% of 200\r",
      "Cluster 003 :    [####------------------------------------]  10.0% of 200\r"
     ]
    },
    {
     "name": "stdout",
     "output_type": "stream",
     "text": [
      "Cluster 003 :    [#####-----------------------------------]  12.5% of 200\r",
      "Cluster 003 :    [######----------------------------------]  15.0% of 200\r"
     ]
    },
    {
     "name": "stdout",
     "output_type": "stream",
     "text": [
      "Cluster 003 :    [#######---------------------------------]  17.5% of 200\r",
      "Cluster 003 :    [########--------------------------------]  20.0% of 200\r"
     ]
    },
    {
     "name": "stdout",
     "output_type": "stream",
     "text": [
      "Cluster 003 :    [#########-------------------------------]  22.5% of 200\r",
      "Cluster 003 :    [##########------------------------------]  25.0% of 200\r"
     ]
    },
    {
     "name": "stdout",
     "output_type": "stream",
     "text": [
      "Cluster 003 :    [###########-----------------------------]  27.5% of 200\r",
      "Cluster 003 :    [############----------------------------]  30.0% of 200\r"
     ]
    },
    {
     "name": "stdout",
     "output_type": "stream",
     "text": [
      "Cluster 003 :    [#############---------------------------]  32.5% of 200\r",
      "Cluster 003 :    [##############--------------------------]  35.0% of 200\r"
     ]
    },
    {
     "name": "stdout",
     "output_type": "stream",
     "text": [
      "Cluster 003 :    [###############-------------------------]  37.5% of 200\r",
      "Cluster 003 :    [################------------------------]  40.0% of 200\r"
     ]
    },
    {
     "name": "stdout",
     "output_type": "stream",
     "text": [
      "Cluster 003 :    [#################-----------------------]  42.5% of 200\r",
      "Cluster 003 :    [##################----------------------]  45.0% of 200\r"
     ]
    },
    {
     "name": "stdout",
     "output_type": "stream",
     "text": [
      "Cluster 003 :    [###################---------------------]  47.5% of 200\r",
      "Cluster 003 :    [####################--------------------]  50.0% of 200\r"
     ]
    },
    {
     "name": "stdout",
     "output_type": "stream",
     "text": [
      "Cluster 003 :    [#####################-------------------]  52.5% of 200\r",
      "Cluster 003 :    [######################------------------]  55.0% of 200\r"
     ]
    },
    {
     "name": "stdout",
     "output_type": "stream",
     "text": [
      "Cluster 003 :    [#######################-----------------]  57.5% of 200\r",
      "Cluster 003 :    [########################----------------]  60.0% of 200\r"
     ]
    },
    {
     "name": "stdout",
     "output_type": "stream",
     "text": [
      "Cluster 003 :    [#########################---------------]  62.5% of 200\r",
      "Cluster 003 :    [##########################--------------]  65.0% of 200\r"
     ]
    },
    {
     "name": "stdout",
     "output_type": "stream",
     "text": [
      "Cluster 003 :    [###########################-------------]  67.5% of 200\r",
      "Cluster 003 :    [############################------------]  70.0% of 200\r"
     ]
    },
    {
     "name": "stdout",
     "output_type": "stream",
     "text": [
      "Cluster 003 :    [#############################-----------]  72.5% of 200\r"
     ]
    },
    {
     "name": "stdout",
     "output_type": "stream",
     "text": [
      "Cluster 003 :    [##############################----------]  75.0% of 200\r"
     ]
    },
    {
     "name": "stdout",
     "output_type": "stream",
     "text": [
      "Cluster 003 :    [###############################---------]  77.5% of 200\r",
      "Cluster 003 :    [################################--------]  80.0% of 200\r"
     ]
    },
    {
     "name": "stdout",
     "output_type": "stream",
     "text": [
      "Cluster 003 :    [#################################-------]  82.5% of 200\r",
      "Cluster 003 :    [##################################------]  85.0% of 200\r"
     ]
    },
    {
     "name": "stdout",
     "output_type": "stream",
     "text": [
      "Cluster 003 :    [###################################-----]  87.5% of 200\r",
      "Cluster 003 :    [####################################----]  90.0% of 200\r"
     ]
    },
    {
     "name": "stdout",
     "output_type": "stream",
     "text": [
      "Cluster 003 :    [#####################################---]  92.5% of 200\r",
      "Cluster 003 :    [######################################--]  95.0% of 200\r"
     ]
    },
    {
     "name": "stdout",
     "output_type": "stream",
     "text": [
      "Cluster 003 :    [#######################################-]  97.5% of 200\r",
      "Cluster 003 :    [########################################] 100.0% of 200\n"
     ]
    },
    {
     "name": "stdout",
     "output_type": "stream",
     "text": [
      "Cluster 004 :    [#---------------------------------------]   2.5% of 200\r",
      "Cluster 004 :    [##--------------------------------------]   5.0% of 200\r",
      "Cluster 004 :    [###-------------------------------------]   7.5% of 200\r"
     ]
    },
    {
     "name": "stdout",
     "output_type": "stream",
     "text": [
      "Cluster 004 :    [####------------------------------------]  10.0% of 200\r",
      "Cluster 004 :    [#####-----------------------------------]  12.5% of 200\r"
     ]
    },
    {
     "name": "stdout",
     "output_type": "stream",
     "text": [
      "Cluster 004 :    [######----------------------------------]  15.0% of 200\r",
      "Cluster 004 :    [#######---------------------------------]  17.5% of 200\r"
     ]
    },
    {
     "name": "stdout",
     "output_type": "stream",
     "text": [
      "Cluster 004 :    [########--------------------------------]  20.0% of 200\r",
      "Cluster 004 :    [#########-------------------------------]  22.5% of 200\r"
     ]
    },
    {
     "name": "stdout",
     "output_type": "stream",
     "text": [
      "Cluster 004 :    [##########------------------------------]  25.0% of 200\r",
      "Cluster 004 :    [###########-----------------------------]  27.5% of 200\r",
      "Cluster 004 :    [############----------------------------]  30.0% of 200\r"
     ]
    },
    {
     "name": "stdout",
     "output_type": "stream",
     "text": [
      "Cluster 004 :    [#############---------------------------]  32.5% of 200\r",
      "Cluster 004 :    [##############--------------------------]  35.0% of 200\r"
     ]
    },
    {
     "name": "stdout",
     "output_type": "stream",
     "text": [
      "Cluster 004 :    [###############-------------------------]  37.5% of 200\r",
      "Cluster 004 :    [################------------------------]  40.0% of 200\r"
     ]
    },
    {
     "name": "stdout",
     "output_type": "stream",
     "text": [
      "Cluster 004 :    [#################-----------------------]  42.5% of 200\r",
      "Cluster 004 :    [##################----------------------]  45.0% of 200\r"
     ]
    },
    {
     "name": "stdout",
     "output_type": "stream",
     "text": [
      "Cluster 004 :    [###################---------------------]  47.5% of 200\r",
      "Cluster 004 :    [####################--------------------]  50.0% of 200\r"
     ]
    },
    {
     "name": "stdout",
     "output_type": "stream",
     "text": [
      "Cluster 004 :    [#####################-------------------]  52.5% of 200\r",
      "Cluster 004 :    [######################------------------]  55.0% of 200\r"
     ]
    },
    {
     "name": "stdout",
     "output_type": "stream",
     "text": [
      "Cluster 004 :    [#######################-----------------]  57.5% of 200\r"
     ]
    },
    {
     "name": "stdout",
     "output_type": "stream",
     "text": [
      "Cluster 004 :    [########################----------------]  60.0% of 200\r",
      "Cluster 004 :    [#########################---------------]  62.5% of 200\r"
     ]
    },
    {
     "name": "stdout",
     "output_type": "stream",
     "text": [
      "Cluster 004 :    [##########################--------------]  65.0% of 200\r",
      "Cluster 004 :    [###########################-------------]  67.5% of 200\r"
     ]
    },
    {
     "name": "stdout",
     "output_type": "stream",
     "text": [
      "Cluster 004 :    [############################------------]  70.0% of 200\r"
     ]
    },
    {
     "name": "stdout",
     "output_type": "stream",
     "text": [
      "Cluster 004 :    [#############################-----------]  72.5% of 200\r",
      "Cluster 004 :    [##############################----------]  75.0% of 200\r"
     ]
    },
    {
     "name": "stdout",
     "output_type": "stream",
     "text": [
      "Cluster 004 :    [###############################---------]  77.5% of 200\r",
      "Cluster 004 :    [################################--------]  80.0% of 200\r"
     ]
    },
    {
     "name": "stdout",
     "output_type": "stream",
     "text": [
      "Cluster 004 :    [#################################-------]  82.5% of 200\r",
      "Cluster 004 :    [##################################------]  85.0% of 200\r"
     ]
    },
    {
     "name": "stdout",
     "output_type": "stream",
     "text": [
      "Cluster 004 :    [###################################-----]  87.5% of 200\r",
      "Cluster 004 :    [####################################----]  90.0% of 200\r"
     ]
    },
    {
     "name": "stdout",
     "output_type": "stream",
     "text": [
      "Cluster 004 :    [#####################################---]  92.5% of 200\r",
      "Cluster 004 :    [######################################--]  95.0% of 200\r"
     ]
    },
    {
     "name": "stdout",
     "output_type": "stream",
     "text": [
      "Cluster 004 :    [#######################################-]  97.5% of 200\r",
      "Cluster 004 :    [########################################] 100.0% of 200\n"
     ]
    },
    {
     "name": "stdout",
     "output_type": "stream",
     "text": [
      "Cluster 005 :    [#---------------------------------------]   2.5% of 200\r",
      "Cluster 005 :    [##--------------------------------------]   5.0% of 200\r"
     ]
    },
    {
     "name": "stdout",
     "output_type": "stream",
     "text": [
      "Cluster 005 :    [###-------------------------------------]   7.5% of 200\r",
      "Cluster 005 :    [####------------------------------------]  10.0% of 200\r"
     ]
    },
    {
     "name": "stdout",
     "output_type": "stream",
     "text": [
      "Cluster 005 :    [#####-----------------------------------]  12.5% of 200\r",
      "Cluster 005 :    [######----------------------------------]  15.0% of 200\r"
     ]
    },
    {
     "name": "stdout",
     "output_type": "stream",
     "text": [
      "Cluster 005 :    [#######---------------------------------]  17.5% of 200\r",
      "Cluster 005 :    [########--------------------------------]  20.0% of 200\r"
     ]
    },
    {
     "name": "stdout",
     "output_type": "stream",
     "text": [
      "Cluster 005 :    [#########-------------------------------]  22.5% of 200\r",
      "Cluster 005 :    [##########------------------------------]  25.0% of 200\r"
     ]
    },
    {
     "name": "stdout",
     "output_type": "stream",
     "text": [
      "Cluster 005 :    [###########-----------------------------]  27.5% of 200\r",
      "Cluster 005 :    [############----------------------------]  30.0% of 200\r"
     ]
    },
    {
     "name": "stdout",
     "output_type": "stream",
     "text": [
      "Cluster 005 :    [#############---------------------------]  32.5% of 200\r",
      "Cluster 005 :    [##############--------------------------]  35.0% of 200\r"
     ]
    },
    {
     "name": "stdout",
     "output_type": "stream",
     "text": [
      "Cluster 005 :    [###############-------------------------]  37.5% of 200\r",
      "Cluster 005 :    [################------------------------]  40.0% of 200\r"
     ]
    },
    {
     "name": "stdout",
     "output_type": "stream",
     "text": [
      "Cluster 005 :    [#################-----------------------]  42.5% of 200\r"
     ]
    },
    {
     "name": "stdout",
     "output_type": "stream",
     "text": [
      "Cluster 005 :    [##################----------------------]  45.0% of 200\r",
      "Cluster 005 :    [###################---------------------]  47.5% of 200\r"
     ]
    },
    {
     "name": "stdout",
     "output_type": "stream",
     "text": [
      "Cluster 005 :    [####################--------------------]  50.0% of 200\r",
      "Cluster 005 :    [#####################-------------------]  52.5% of 200\r"
     ]
    },
    {
     "name": "stdout",
     "output_type": "stream",
     "text": [
      "Cluster 005 :    [######################------------------]  55.0% of 200\r",
      "Cluster 005 :    [#######################-----------------]  57.5% of 200\r"
     ]
    },
    {
     "name": "stdout",
     "output_type": "stream",
     "text": [
      "Cluster 005 :    [########################----------------]  60.0% of 200\r",
      "Cluster 005 :    [#########################---------------]  62.5% of 200\r"
     ]
    },
    {
     "name": "stdout",
     "output_type": "stream",
     "text": [
      "Cluster 005 :    [##########################--------------]  65.0% of 200\r",
      "Cluster 005 :    [###########################-------------]  67.5% of 200\r"
     ]
    },
    {
     "name": "stdout",
     "output_type": "stream",
     "text": [
      "Cluster 005 :    [############################------------]  70.0% of 200\r",
      "Cluster 005 :    [#############################-----------]  72.5% of 200\r"
     ]
    },
    {
     "name": "stdout",
     "output_type": "stream",
     "text": [
      "Cluster 005 :    [##############################----------]  75.0% of 200\r",
      "Cluster 005 :    [###############################---------]  77.5% of 200\r"
     ]
    },
    {
     "name": "stdout",
     "output_type": "stream",
     "text": [
      "Cluster 005 :    [################################--------]  80.0% of 200\r",
      "Cluster 005 :    [#################################-------]  82.5% of 200\r"
     ]
    },
    {
     "name": "stdout",
     "output_type": "stream",
     "text": [
      "Cluster 005 :    [##################################------]  85.0% of 200\r",
      "Cluster 005 :    [###################################-----]  87.5% of 200\r",
      "Cluster 005 :    [####################################----]  90.0% of 200\r"
     ]
    },
    {
     "name": "stdout",
     "output_type": "stream",
     "text": [
      "Cluster 005 :    [#####################################---]  92.5% of 200\r",
      "Cluster 005 :    [######################################--]  95.0% of 200\r"
     ]
    },
    {
     "name": "stdout",
     "output_type": "stream",
     "text": [
      "Cluster 005 :    [#######################################-]  97.5% of 200\r",
      "Cluster 005 :    [########################################] 100.0% of 200\n"
     ]
    },
    {
     "name": "stdout",
     "output_type": "stream",
     "text": [
      "Cluster 006 :    [#---------------------------------------]   2.5% of 200\r",
      "Cluster 006 :    [##--------------------------------------]   5.0% of 200\r"
     ]
    },
    {
     "name": "stdout",
     "output_type": "stream",
     "text": [
      "Cluster 006 :    [###-------------------------------------]   7.5% of 200\r",
      "Cluster 006 :    [####------------------------------------]  10.0% of 200\r"
     ]
    },
    {
     "name": "stdout",
     "output_type": "stream",
     "text": [
      "Cluster 006 :    [#####-----------------------------------]  12.5% of 200\r",
      "Cluster 006 :    [######----------------------------------]  15.0% of 200\r",
      "Cluster 006 :    [#######---------------------------------]  17.5% of 200\r"
     ]
    },
    {
     "name": "stdout",
     "output_type": "stream",
     "text": [
      "Cluster 006 :    [########--------------------------------]  20.0% of 200\r",
      "Cluster 006 :    [#########-------------------------------]  22.5% of 200\r"
     ]
    },
    {
     "name": "stdout",
     "output_type": "stream",
     "text": [
      "Cluster 006 :    [##########------------------------------]  25.0% of 200\r",
      "Cluster 006 :    [###########-----------------------------]  27.5% of 200\r"
     ]
    },
    {
     "name": "stdout",
     "output_type": "stream",
     "text": [
      "Cluster 006 :    [############----------------------------]  30.0% of 200\r",
      "Cluster 006 :    [#############---------------------------]  32.5% of 200\r"
     ]
    },
    {
     "name": "stdout",
     "output_type": "stream",
     "text": [
      "Cluster 006 :    [##############--------------------------]  35.0% of 200\r",
      "Cluster 006 :    [###############-------------------------]  37.5% of 200\r"
     ]
    },
    {
     "name": "stdout",
     "output_type": "stream",
     "text": [
      "Cluster 006 :    [################------------------------]  40.0% of 200\r",
      "Cluster 006 :    [#################-----------------------]  42.5% of 200\r"
     ]
    },
    {
     "name": "stdout",
     "output_type": "stream",
     "text": [
      "Cluster 006 :    [##################----------------------]  45.0% of 200\r",
      "Cluster 006 :    [###################---------------------]  47.5% of 200\r"
     ]
    },
    {
     "name": "stdout",
     "output_type": "stream",
     "text": [
      "Cluster 006 :    [####################--------------------]  50.0% of 200\r",
      "Cluster 006 :    [#####################-------------------]  52.5% of 200\r"
     ]
    },
    {
     "name": "stdout",
     "output_type": "stream",
     "text": [
      "Cluster 006 :    [######################------------------]  55.0% of 200\r",
      "Cluster 006 :    [#######################-----------------]  57.5% of 200\r"
     ]
    },
    {
     "name": "stdout",
     "output_type": "stream",
     "text": [
      "Cluster 006 :    [########################----------------]  60.0% of 200\r",
      "Cluster 006 :    [#########################---------------]  62.5% of 200\r"
     ]
    },
    {
     "name": "stdout",
     "output_type": "stream",
     "text": [
      "Cluster 006 :    [##########################--------------]  65.0% of 200\r"
     ]
    },
    {
     "name": "stdout",
     "output_type": "stream",
     "text": [
      "Cluster 006 :    [###########################-------------]  67.5% of 200\r",
      "Cluster 006 :    [############################------------]  70.0% of 200\r"
     ]
    },
    {
     "name": "stdout",
     "output_type": "stream",
     "text": [
      "Cluster 006 :    [#############################-----------]  72.5% of 200\r",
      "Cluster 006 :    [##############################----------]  75.0% of 200\r"
     ]
    },
    {
     "name": "stdout",
     "output_type": "stream",
     "text": [
      "Cluster 006 :    [###############################---------]  77.5% of 200\r",
      "Cluster 006 :    [################################--------]  80.0% of 200\r"
     ]
    },
    {
     "name": "stdout",
     "output_type": "stream",
     "text": [
      "Cluster 006 :    [#################################-------]  82.5% of 200\r",
      "Cluster 006 :    [##################################------]  85.0% of 200\r",
      "Cluster 006 :    [###################################-----]  87.5% of 200\r"
     ]
    },
    {
     "name": "stdout",
     "output_type": "stream",
     "text": [
      "Cluster 006 :    [####################################----]  90.0% of 200\r",
      "Cluster 006 :    [#####################################---]  92.5% of 200\r"
     ]
    },
    {
     "name": "stdout",
     "output_type": "stream",
     "text": [
      "Cluster 006 :    [######################################--]  95.0% of 200\r",
      "Cluster 006 :    [#######################################-]  97.5% of 200\r"
     ]
    },
    {
     "name": "stdout",
     "output_type": "stream",
     "text": [
      "Cluster 006 :    [########################################] 100.0% of 200\n"
     ]
    },
    {
     "name": "stdout",
     "output_type": "stream",
     "text": [
      "Cluster 007 :    [#---------------------------------------]   2.5% of 200\r",
      "Cluster 007 :    [##--------------------------------------]   5.0% of 200\r"
     ]
    },
    {
     "name": "stdout",
     "output_type": "stream",
     "text": [
      "Cluster 007 :    [###-------------------------------------]   7.5% of 200\r",
      "Cluster 007 :    [####------------------------------------]  10.0% of 200\r",
      "Cluster 007 :    [#####-----------------------------------]  12.5% of 200\r"
     ]
    },
    {
     "name": "stdout",
     "output_type": "stream",
     "text": [
      "Cluster 007 :    [######----------------------------------]  15.0% of 200\r",
      "Cluster 007 :    [#######---------------------------------]  17.5% of 200\r"
     ]
    },
    {
     "name": "stdout",
     "output_type": "stream",
     "text": [
      "Cluster 007 :    [########--------------------------------]  20.0% of 200\r",
      "Cluster 007 :    [#########-------------------------------]  22.5% of 200\r"
     ]
    },
    {
     "name": "stdout",
     "output_type": "stream",
     "text": [
      "Cluster 007 :    [##########------------------------------]  25.0% of 200\r",
      "Cluster 007 :    [###########-----------------------------]  27.5% of 200\r"
     ]
    },
    {
     "name": "stdout",
     "output_type": "stream",
     "text": [
      "Cluster 007 :    [############----------------------------]  30.0% of 200\r",
      "Cluster 007 :    [#############---------------------------]  32.5% of 200\r",
      "Cluster 007 :    [##############--------------------------]  35.0% of 200\r"
     ]
    },
    {
     "name": "stdout",
     "output_type": "stream",
     "text": [
      "Cluster 007 :    [###############-------------------------]  37.5% of 200\r",
      "Cluster 007 :    [################------------------------]  40.0% of 200\r"
     ]
    },
    {
     "name": "stdout",
     "output_type": "stream",
     "text": [
      "Cluster 007 :    [#################-----------------------]  42.5% of 200\r",
      "Cluster 007 :    [##################----------------------]  45.0% of 200\r"
     ]
    },
    {
     "name": "stdout",
     "output_type": "stream",
     "text": [
      "Cluster 007 :    [###################---------------------]  47.5% of 200\r",
      "Cluster 007 :    [####################--------------------]  50.0% of 200\r"
     ]
    },
    {
     "name": "stdout",
     "output_type": "stream",
     "text": [
      "Cluster 007 :    [#####################-------------------]  52.5% of 200\r",
      "Cluster 007 :    [######################------------------]  55.0% of 200\r"
     ]
    },
    {
     "name": "stdout",
     "output_type": "stream",
     "text": [
      "Cluster 007 :    [#######################-----------------]  57.5% of 200\r",
      "Cluster 007 :    [########################----------------]  60.0% of 200\r"
     ]
    },
    {
     "name": "stdout",
     "output_type": "stream",
     "text": [
      "Cluster 007 :    [#########################---------------]  62.5% of 200\r",
      "Cluster 007 :    [##########################--------------]  65.0% of 200\r"
     ]
    },
    {
     "name": "stdout",
     "output_type": "stream",
     "text": [
      "Cluster 007 :    [###########################-------------]  67.5% of 200\r",
      "Cluster 007 :    [############################------------]  70.0% of 200\r",
      "Cluster 007 :    [#############################-----------]  72.5% of 200\r"
     ]
    },
    {
     "name": "stdout",
     "output_type": "stream",
     "text": [
      "Cluster 007 :    [##############################----------]  75.0% of 200\r",
      "Cluster 007 :    [###############################---------]  77.5% of 200\r"
     ]
    },
    {
     "name": "stdout",
     "output_type": "stream",
     "text": [
      "Cluster 007 :    [################################--------]  80.0% of 200\r",
      "Cluster 007 :    [#################################-------]  82.5% of 200\r"
     ]
    },
    {
     "name": "stdout",
     "output_type": "stream",
     "text": [
      "Cluster 007 :    [##################################------]  85.0% of 200\r",
      "Cluster 007 :    [###################################-----]  87.5% of 200\r"
     ]
    },
    {
     "name": "stdout",
     "output_type": "stream",
     "text": [
      "Cluster 007 :    [####################################----]  90.0% of 200\r",
      "Cluster 007 :    [#####################################---]  92.5% of 200\r"
     ]
    },
    {
     "name": "stdout",
     "output_type": "stream",
     "text": [
      "Cluster 007 :    [######################################--]  95.0% of 200\r",
      "Cluster 007 :    [#######################################-]  97.5% of 200\r"
     ]
    },
    {
     "name": "stdout",
     "output_type": "stream",
     "text": [
      "Cluster 007 :    [########################################] 100.0% of 200\n"
     ]
    },
    {
     "name": "stdout",
     "output_type": "stream",
     "text": [
      "Cluster 008 :    [#---------------------------------------]   2.5% of 200\r",
      "Cluster 008 :    [##--------------------------------------]   5.0% of 200\r"
     ]
    },
    {
     "name": "stdout",
     "output_type": "stream",
     "text": [
      "Cluster 008 :    [###-------------------------------------]   7.5% of 200\r",
      "Cluster 008 :    [####------------------------------------]  10.0% of 200\r"
     ]
    },
    {
     "name": "stdout",
     "output_type": "stream",
     "text": [
      "Cluster 008 :    [#####-----------------------------------]  12.5% of 200\r",
      "Cluster 008 :    [######----------------------------------]  15.0% of 200\r"
     ]
    },
    {
     "name": "stdout",
     "output_type": "stream",
     "text": [
      "Cluster 008 :    [#######---------------------------------]  17.5% of 200\r",
      "Cluster 008 :    [########--------------------------------]  20.0% of 200\r"
     ]
    },
    {
     "name": "stdout",
     "output_type": "stream",
     "text": [
      "Cluster 008 :    [#########-------------------------------]  22.5% of 200\r",
      "Cluster 008 :    [##########------------------------------]  25.0% of 200\r"
     ]
    },
    {
     "name": "stdout",
     "output_type": "stream",
     "text": [
      "Cluster 008 :    [###########-----------------------------]  27.5% of 200\r",
      "Cluster 008 :    [############----------------------------]  30.0% of 200\r"
     ]
    },
    {
     "name": "stdout",
     "output_type": "stream",
     "text": [
      "Cluster 008 :    [#############---------------------------]  32.5% of 200\r",
      "Cluster 008 :    [##############--------------------------]  35.0% of 200\r"
     ]
    },
    {
     "name": "stdout",
     "output_type": "stream",
     "text": [
      "Cluster 008 :    [###############-------------------------]  37.5% of 200\r",
      "Cluster 008 :    [################------------------------]  40.0% of 200\r"
     ]
    },
    {
     "name": "stdout",
     "output_type": "stream",
     "text": [
      "Cluster 008 :    [#################-----------------------]  42.5% of 200\r",
      "Cluster 008 :    [##################----------------------]  45.0% of 200\r",
      "Cluster 008 :    [###################---------------------]  47.5% of 200\r"
     ]
    },
    {
     "name": "stdout",
     "output_type": "stream",
     "text": [
      "Cluster 008 :    [####################--------------------]  50.0% of 200\r",
      "Cluster 008 :    [#####################-------------------]  52.5% of 200\r",
      "Cluster 008 :    [######################------------------]  55.0% of 200\r"
     ]
    },
    {
     "name": "stdout",
     "output_type": "stream",
     "text": [
      "Cluster 008 :    [#######################-----------------]  57.5% of 200\r",
      "Cluster 008 :    [########################----------------]  60.0% of 200\r",
      "Cluster 008 :    [#########################---------------]  62.5% of 200\r"
     ]
    },
    {
     "name": "stdout",
     "output_type": "stream",
     "text": [
      "Cluster 008 :    [##########################--------------]  65.0% of 200\r",
      "Cluster 008 :    [###########################-------------]  67.5% of 200\r"
     ]
    },
    {
     "name": "stdout",
     "output_type": "stream",
     "text": [
      "Cluster 008 :    [############################------------]  70.0% of 200\r",
      "Cluster 008 :    [#############################-----------]  72.5% of 200\r"
     ]
    },
    {
     "name": "stdout",
     "output_type": "stream",
     "text": [
      "Cluster 008 :    [##############################----------]  75.0% of 200\r",
      "Cluster 008 :    [###############################---------]  77.5% of 200\r"
     ]
    },
    {
     "name": "stdout",
     "output_type": "stream",
     "text": [
      "Cluster 008 :    [################################--------]  80.0% of 200\r",
      "Cluster 008 :    [#################################-------]  82.5% of 200\r"
     ]
    },
    {
     "name": "stdout",
     "output_type": "stream",
     "text": [
      "Cluster 008 :    [##################################------]  85.0% of 200\r",
      "Cluster 008 :    [###################################-----]  87.5% of 200\r"
     ]
    },
    {
     "name": "stdout",
     "output_type": "stream",
     "text": [
      "Cluster 008 :    [####################################----]  90.0% of 200\r",
      "Cluster 008 :    [#####################################---]  92.5% of 200\r"
     ]
    },
    {
     "name": "stdout",
     "output_type": "stream",
     "text": [
      "Cluster 008 :    [######################################--]  95.0% of 200\r",
      "Cluster 008 :    [#######################################-]  97.5% of 200\r"
     ]
    },
    {
     "name": "stdout",
     "output_type": "stream",
     "text": [
      "Cluster 008 :    [########################################] 100.0% of 200\n"
     ]
    },
    {
     "name": "stdout",
     "output_type": "stream",
     "text": [
      "Cluster 009 :    [#---------------------------------------]   2.5% of 200\r",
      "Cluster 009 :    [##--------------------------------------]   5.0% of 200\r"
     ]
    },
    {
     "name": "stdout",
     "output_type": "stream",
     "text": [
      "Cluster 009 :    [###-------------------------------------]   7.5% of 200\r",
      "Cluster 009 :    [####------------------------------------]  10.0% of 200\r"
     ]
    },
    {
     "name": "stdout",
     "output_type": "stream",
     "text": [
      "Cluster 009 :    [#####-----------------------------------]  12.5% of 200\r",
      "Cluster 009 :    [######----------------------------------]  15.0% of 200\r"
     ]
    },
    {
     "name": "stdout",
     "output_type": "stream",
     "text": [
      "Cluster 009 :    [#######---------------------------------]  17.5% of 200\r",
      "Cluster 009 :    [########--------------------------------]  20.0% of 200\r"
     ]
    },
    {
     "name": "stdout",
     "output_type": "stream",
     "text": [
      "Cluster 009 :    [#########-------------------------------]  22.5% of 200\r",
      "Cluster 009 :    [##########------------------------------]  25.0% of 200\r",
      "Cluster 009 :    [###########-----------------------------]  27.5% of 200\r"
     ]
    },
    {
     "name": "stdout",
     "output_type": "stream",
     "text": [
      "Cluster 009 :    [############----------------------------]  30.0% of 200\r",
      "Cluster 009 :    [#############---------------------------]  32.5% of 200\r"
     ]
    },
    {
     "name": "stdout",
     "output_type": "stream",
     "text": [
      "Cluster 009 :    [##############--------------------------]  35.0% of 200\r",
      "Cluster 009 :    [###############-------------------------]  37.5% of 200\r"
     ]
    },
    {
     "name": "stdout",
     "output_type": "stream",
     "text": [
      "Cluster 009 :    [################------------------------]  40.0% of 200\r",
      "Cluster 009 :    [#################-----------------------]  42.5% of 200\r"
     ]
    },
    {
     "name": "stdout",
     "output_type": "stream",
     "text": [
      "Cluster 009 :    [##################----------------------]  45.0% of 200\r",
      "Cluster 009 :    [###################---------------------]  47.5% of 200\r"
     ]
    },
    {
     "name": "stdout",
     "output_type": "stream",
     "text": [
      "Cluster 009 :    [####################--------------------]  50.0% of 200\r",
      "Cluster 009 :    [#####################-------------------]  52.5% of 200\r"
     ]
    },
    {
     "name": "stdout",
     "output_type": "stream",
     "text": [
      "Cluster 009 :    [######################------------------]  55.0% of 200\r",
      "Cluster 009 :    [#######################-----------------]  57.5% of 200\r"
     ]
    },
    {
     "name": "stdout",
     "output_type": "stream",
     "text": [
      "Cluster 009 :    [########################----------------]  60.0% of 200\r",
      "Cluster 009 :    [#########################---------------]  62.5% of 200\r"
     ]
    },
    {
     "name": "stdout",
     "output_type": "stream",
     "text": [
      "Cluster 009 :    [##########################--------------]  65.0% of 200\r",
      "Cluster 009 :    [###########################-------------]  67.5% of 200\r"
     ]
    },
    {
     "name": "stdout",
     "output_type": "stream",
     "text": [
      "Cluster 009 :    [############################------------]  70.0% of 200\r",
      "Cluster 009 :    [#############################-----------]  72.5% of 200\r"
     ]
    },
    {
     "name": "stdout",
     "output_type": "stream",
     "text": [
      "Cluster 009 :    [##############################----------]  75.0% of 200\r",
      "Cluster 009 :    [###############################---------]  77.5% of 200\r"
     ]
    },
    {
     "name": "stdout",
     "output_type": "stream",
     "text": [
      "Cluster 009 :    [################################--------]  80.0% of 200\r",
      "Cluster 009 :    [#################################-------]  82.5% of 200\r"
     ]
    },
    {
     "name": "stdout",
     "output_type": "stream",
     "text": [
      "Cluster 009 :    [##################################------]  85.0% of 200\r",
      "Cluster 009 :    [###################################-----]  87.5% of 200\r",
      "Cluster 009 :    [####################################----]  90.0% of 200\r"
     ]
    },
    {
     "name": "stdout",
     "output_type": "stream",
     "text": [
      "Cluster 009 :    [#####################################---]  92.5% of 200\r",
      "Cluster 009 :    [######################################--]  95.0% of 200\r"
     ]
    },
    {
     "name": "stdout",
     "output_type": "stream",
     "text": [
      "Cluster 009 :    [#######################################-]  97.5% of 200\r",
      "Cluster 009 :    [########################################] 100.0% of 200\n"
     ]
    },
    {
     "name": "stdout",
     "output_type": "stream",
     "text": [
      "Cluster 010 :    [#---------------------------------------]   2.5% of 200\r",
      "Cluster 010 :    [##--------------------------------------]   5.0% of 200\r",
      "Cluster 010 :    [###-------------------------------------]   7.5% of 200\r"
     ]
    },
    {
     "name": "stdout",
     "output_type": "stream",
     "text": [
      "Cluster 010 :    [####------------------------------------]  10.0% of 200\r",
      "Cluster 010 :    [#####-----------------------------------]  12.5% of 200\r"
     ]
    },
    {
     "name": "stdout",
     "output_type": "stream",
     "text": [
      "Cluster 010 :    [######----------------------------------]  15.0% of 200\r",
      "Cluster 010 :    [#######---------------------------------]  17.5% of 200\r"
     ]
    },
    {
     "name": "stdout",
     "output_type": "stream",
     "text": [
      "Cluster 010 :    [########--------------------------------]  20.0% of 200\r",
      "Cluster 010 :    [#########-------------------------------]  22.5% of 200\r"
     ]
    },
    {
     "name": "stdout",
     "output_type": "stream",
     "text": [
      "Cluster 010 :    [##########------------------------------]  25.0% of 200\r",
      "Cluster 010 :    [###########-----------------------------]  27.5% of 200\r"
     ]
    },
    {
     "name": "stdout",
     "output_type": "stream",
     "text": [
      "Cluster 010 :    [############----------------------------]  30.0% of 200\r",
      "Cluster 010 :    [#############---------------------------]  32.5% of 200\r",
      "Cluster 010 :    [##############--------------------------]  35.0% of 200\r"
     ]
    },
    {
     "name": "stdout",
     "output_type": "stream",
     "text": [
      "Cluster 010 :    [###############-------------------------]  37.5% of 200\r",
      "Cluster 010 :    [################------------------------]  40.0% of 200\r"
     ]
    },
    {
     "name": "stdout",
     "output_type": "stream",
     "text": [
      "Cluster 010 :    [#################-----------------------]  42.5% of 200\r",
      "Cluster 010 :    [##################----------------------]  45.0% of 200\r"
     ]
    },
    {
     "name": "stdout",
     "output_type": "stream",
     "text": [
      "Cluster 010 :    [###################---------------------]  47.5% of 200\r",
      "Cluster 010 :    [####################--------------------]  50.0% of 200\r"
     ]
    },
    {
     "name": "stdout",
     "output_type": "stream",
     "text": [
      "Cluster 010 :    [#####################-------------------]  52.5% of 200\r",
      "Cluster 010 :    [######################------------------]  55.0% of 200\r"
     ]
    },
    {
     "name": "stdout",
     "output_type": "stream",
     "text": [
      "Cluster 010 :    [#######################-----------------]  57.5% of 200\r",
      "Cluster 010 :    [########################----------------]  60.0% of 200\r"
     ]
    },
    {
     "name": "stdout",
     "output_type": "stream",
     "text": [
      "Cluster 010 :    [#########################---------------]  62.5% of 200\r",
      "Cluster 010 :    [##########################--------------]  65.0% of 200\r"
     ]
    },
    {
     "name": "stdout",
     "output_type": "stream",
     "text": [
      "Cluster 010 :    [###########################-------------]  67.5% of 200\r",
      "Cluster 010 :    [############################------------]  70.0% of 200\r",
      "Cluster 010 :    [#############################-----------]  72.5% of 200\r"
     ]
    },
    {
     "name": "stdout",
     "output_type": "stream",
     "text": [
      "Cluster 010 :    [##############################----------]  75.0% of 200\r",
      "Cluster 010 :    [###############################---------]  77.5% of 200\r"
     ]
    },
    {
     "name": "stdout",
     "output_type": "stream",
     "text": [
      "Cluster 010 :    [################################--------]  80.0% of 200\r",
      "Cluster 010 :    [#################################-------]  82.5% of 200\r"
     ]
    },
    {
     "name": "stdout",
     "output_type": "stream",
     "text": [
      "Cluster 010 :    [##################################------]  85.0% of 200\r",
      "Cluster 010 :    [###################################-----]  87.5% of 200\r"
     ]
    },
    {
     "name": "stdout",
     "output_type": "stream",
     "text": [
      "Cluster 010 :    [####################################----]  90.0% of 200\r",
      "Cluster 010 :    [#####################################---]  92.5% of 200\r"
     ]
    },
    {
     "name": "stdout",
     "output_type": "stream",
     "text": [
      "Cluster 010 :    [######################################--]  95.0% of 200\r",
      "Cluster 010 :    [#######################################-]  97.5% of 200\r"
     ]
    },
    {
     "name": "stdout",
     "output_type": "stream",
     "text": [
      "Cluster 010 :    [########################################] 100.0% of 200\n"
     ]
    },
    {
     "name": "stdout",
     "output_type": "stream",
     "text": [
      "Cluster 011 :    [#---------------------------------------]   2.5% of 200\r",
      "Cluster 011 :    [##--------------------------------------]   5.0% of 200\r"
     ]
    },
    {
     "name": "stdout",
     "output_type": "stream",
     "text": [
      "Cluster 011 :    [###-------------------------------------]   7.5% of 200\r",
      "Cluster 011 :    [####------------------------------------]  10.0% of 200\r",
      "Cluster 011 :    [#####-----------------------------------]  12.5% of 200\r"
     ]
    },
    {
     "name": "stdout",
     "output_type": "stream",
     "text": [
      "Cluster 011 :    [######----------------------------------]  15.0% of 200\r",
      "Cluster 011 :    [#######---------------------------------]  17.5% of 200\r"
     ]
    },
    {
     "name": "stdout",
     "output_type": "stream",
     "text": [
      "Cluster 011 :    [########--------------------------------]  20.0% of 200\r",
      "Cluster 011 :    [#########-------------------------------]  22.5% of 200\r"
     ]
    },
    {
     "name": "stdout",
     "output_type": "stream",
     "text": [
      "Cluster 011 :    [##########------------------------------]  25.0% of 200\r",
      "Cluster 011 :    [###########-----------------------------]  27.5% of 200\r",
      "Cluster 011 :    [############----------------------------]  30.0% of 200\r"
     ]
    },
    {
     "name": "stdout",
     "output_type": "stream",
     "text": [
      "Cluster 011 :    [#############---------------------------]  32.5% of 200\r",
      "Cluster 011 :    [##############--------------------------]  35.0% of 200\r",
      "Cluster 011 :    [###############-------------------------]  37.5% of 200\r"
     ]
    },
    {
     "name": "stdout",
     "output_type": "stream",
     "text": [
      "Cluster 011 :    [################------------------------]  40.0% of 200\r",
      "Cluster 011 :    [#################-----------------------]  42.5% of 200\r"
     ]
    },
    {
     "name": "stdout",
     "output_type": "stream",
     "text": [
      "Cluster 011 :    [##################----------------------]  45.0% of 200\r",
      "Cluster 011 :    [###################---------------------]  47.5% of 200\r",
      "Cluster 011 :    [####################--------------------]  50.0% of 200\r"
     ]
    },
    {
     "name": "stdout",
     "output_type": "stream",
     "text": [
      "Cluster 011 :    [#####################-------------------]  52.5% of 200\r",
      "Cluster 011 :    [######################------------------]  55.0% of 200\r",
      "Cluster 011 :    [#######################-----------------]  57.5% of 200\r"
     ]
    },
    {
     "name": "stdout",
     "output_type": "stream",
     "text": [
      "Cluster 011 :    [########################----------------]  60.0% of 200\r",
      "Cluster 011 :    [#########################---------------]  62.5% of 200\r",
      "Cluster 011 :    [##########################--------------]  65.0% of 200\r"
     ]
    },
    {
     "name": "stdout",
     "output_type": "stream",
     "text": [
      "Cluster 011 :    [###########################-------------]  67.5% of 200\r",
      "Cluster 011 :    [############################------------]  70.0% of 200\r"
     ]
    },
    {
     "name": "stdout",
     "output_type": "stream",
     "text": [
      "Cluster 011 :    [#############################-----------]  72.5% of 200\r",
      "Cluster 011 :    [##############################----------]  75.0% of 200\r"
     ]
    },
    {
     "name": "stdout",
     "output_type": "stream",
     "text": [
      "Cluster 011 :    [###############################---------]  77.5% of 200\r",
      "Cluster 011 :    [################################--------]  80.0% of 200\r"
     ]
    },
    {
     "name": "stdout",
     "output_type": "stream",
     "text": [
      "Cluster 011 :    [#################################-------]  82.5% of 200\r",
      "Cluster 011 :    [##################################------]  85.0% of 200\r"
     ]
    },
    {
     "name": "stdout",
     "output_type": "stream",
     "text": [
      "Cluster 011 :    [###################################-----]  87.5% of 200\r",
      "Cluster 011 :    [####################################----]  90.0% of 200\r"
     ]
    },
    {
     "name": "stdout",
     "output_type": "stream",
     "text": [
      "Cluster 011 :    [#####################################---]  92.5% of 200\r",
      "Cluster 011 :    [######################################--]  95.0% of 200\r"
     ]
    },
    {
     "name": "stdout",
     "output_type": "stream",
     "text": [
      "Cluster 011 :    [#######################################-]  97.5% of 200\r",
      "Cluster 011 :    [########################################] 100.0% of 200\n"
     ]
    },
    {
     "name": "stdout",
     "output_type": "stream",
     "text": [
      "Cluster 012 :    [#---------------------------------------]   2.5% of 200\r",
      "Cluster 012 :    [##--------------------------------------]   5.0% of 200\r",
      "Cluster 012 :    [###-------------------------------------]   7.5% of 200\r"
     ]
    },
    {
     "name": "stdout",
     "output_type": "stream",
     "text": [
      "Cluster 012 :    [####------------------------------------]  10.0% of 200\r",
      "Cluster 012 :    [#####-----------------------------------]  12.5% of 200\r"
     ]
    },
    {
     "name": "stdout",
     "output_type": "stream",
     "text": [
      "Cluster 012 :    [######----------------------------------]  15.0% of 200\r",
      "Cluster 012 :    [#######---------------------------------]  17.5% of 200\r"
     ]
    },
    {
     "name": "stdout",
     "output_type": "stream",
     "text": [
      "Cluster 012 :    [########--------------------------------]  20.0% of 200\r",
      "Cluster 012 :    [#########-------------------------------]  22.5% of 200\r"
     ]
    },
    {
     "name": "stdout",
     "output_type": "stream",
     "text": [
      "Cluster 012 :    [##########------------------------------]  25.0% of 200\r",
      "Cluster 012 :    [###########-----------------------------]  27.5% of 200\r"
     ]
    },
    {
     "name": "stdout",
     "output_type": "stream",
     "text": [
      "Cluster 012 :    [############----------------------------]  30.0% of 200\r",
      "Cluster 012 :    [#############---------------------------]  32.5% of 200\r",
      "Cluster 012 :    [##############--------------------------]  35.0% of 200\r"
     ]
    },
    {
     "name": "stdout",
     "output_type": "stream",
     "text": [
      "Cluster 012 :    [###############-------------------------]  37.5% of 200\r",
      "Cluster 012 :    [################------------------------]  40.0% of 200\r"
     ]
    },
    {
     "name": "stdout",
     "output_type": "stream",
     "text": [
      "Cluster 012 :    [#################-----------------------]  42.5% of 200\r",
      "Cluster 012 :    [##################----------------------]  45.0% of 200\r"
     ]
    },
    {
     "name": "stdout",
     "output_type": "stream",
     "text": [
      "Cluster 012 :    [###################---------------------]  47.5% of 200\r",
      "Cluster 012 :    [####################--------------------]  50.0% of 200\r"
     ]
    },
    {
     "name": "stdout",
     "output_type": "stream",
     "text": [
      "Cluster 012 :    [#####################-------------------]  52.5% of 200\r",
      "Cluster 012 :    [######################------------------]  55.0% of 200\r",
      "Cluster 012 :    [#######################-----------------]  57.5% of 200\r"
     ]
    },
    {
     "name": "stdout",
     "output_type": "stream",
     "text": [
      "Cluster 012 :    [########################----------------]  60.0% of 200\r",
      "Cluster 012 :    [#########################---------------]  62.5% of 200\r"
     ]
    },
    {
     "name": "stdout",
     "output_type": "stream",
     "text": [
      "Cluster 012 :    [##########################--------------]  65.0% of 200\r",
      "Cluster 012 :    [###########################-------------]  67.5% of 200\r"
     ]
    },
    {
     "name": "stdout",
     "output_type": "stream",
     "text": [
      "Cluster 012 :    [############################------------]  70.0% of 200\r",
      "Cluster 012 :    [#############################-----------]  72.5% of 200\r"
     ]
    },
    {
     "name": "stdout",
     "output_type": "stream",
     "text": [
      "Cluster 012 :    [##############################----------]  75.0% of 200\r",
      "Cluster 012 :    [###############################---------]  77.5% of 200\r"
     ]
    },
    {
     "name": "stdout",
     "output_type": "stream",
     "text": [
      "Cluster 012 :    [################################--------]  80.0% of 200\r",
      "Cluster 012 :    [#################################-------]  82.5% of 200\r",
      "Cluster 012 :    [##################################------]  85.0% of 200\r"
     ]
    },
    {
     "name": "stdout",
     "output_type": "stream",
     "text": [
      "Cluster 012 :    [###################################-----]  87.5% of 200\r",
      "Cluster 012 :    [####################################----]  90.0% of 200\r"
     ]
    },
    {
     "name": "stdout",
     "output_type": "stream",
     "text": [
      "Cluster 012 :    [#####################################---]  92.5% of 200\r",
      "Cluster 012 :    [######################################--]  95.0% of 200\r"
     ]
    },
    {
     "name": "stdout",
     "output_type": "stream",
     "text": [
      "Cluster 012 :    [#######################################-]  97.5% of 200\r",
      "Cluster 012 :    [########################################] 100.0% of 200\n"
     ]
    },
    {
     "name": "stdout",
     "output_type": "stream",
     "text": [
      "Cluster 013 :    [#---------------------------------------]   2.5% of 200\r",
      "Cluster 013 :    [##--------------------------------------]   5.0% of 200\r"
     ]
    },
    {
     "name": "stdout",
     "output_type": "stream",
     "text": [
      "Cluster 013 :    [###-------------------------------------]   7.5% of 200\r",
      "Cluster 013 :    [####------------------------------------]  10.0% of 200\r"
     ]
    },
    {
     "name": "stdout",
     "output_type": "stream",
     "text": [
      "Cluster 013 :    [#####-----------------------------------]  12.5% of 200\r",
      "Cluster 013 :    [######----------------------------------]  15.0% of 200\r"
     ]
    },
    {
     "name": "stdout",
     "output_type": "stream",
     "text": [
      "Cluster 013 :    [#######---------------------------------]  17.5% of 200\r",
      "Cluster 013 :    [########--------------------------------]  20.0% of 200\r",
      "Cluster 013 :    [#########-------------------------------]  22.5% of 200\r"
     ]
    },
    {
     "name": "stdout",
     "output_type": "stream",
     "text": [
      "Cluster 013 :    [##########------------------------------]  25.0% of 200\r",
      "Cluster 013 :    [###########-----------------------------]  27.5% of 200\r",
      "Cluster 013 :    [############----------------------------]  30.0% of 200\r"
     ]
    },
    {
     "name": "stdout",
     "output_type": "stream",
     "text": [
      "Cluster 013 :    [#############---------------------------]  32.5% of 200\r",
      "Cluster 013 :    [##############--------------------------]  35.0% of 200\r"
     ]
    },
    {
     "name": "stdout",
     "output_type": "stream",
     "text": [
      "Cluster 013 :    [###############-------------------------]  37.5% of 200\r",
      "Cluster 013 :    [################------------------------]  40.0% of 200\r"
     ]
    },
    {
     "name": "stdout",
     "output_type": "stream",
     "text": [
      "Cluster 013 :    [#################-----------------------]  42.5% of 200\r",
      "Cluster 013 :    [##################----------------------]  45.0% of 200\r",
      "Cluster 013 :    [###################---------------------]  47.5% of 200\r"
     ]
    },
    {
     "name": "stdout",
     "output_type": "stream",
     "text": [
      "Cluster 013 :    [####################--------------------]  50.0% of 200\r",
      "Cluster 013 :    [#####################-------------------]  52.5% of 200\r",
      "Cluster 013 :    [######################------------------]  55.0% of 200\r"
     ]
    },
    {
     "name": "stdout",
     "output_type": "stream",
     "text": [
      "Cluster 013 :    [#######################-----------------]  57.5% of 200\r",
      "Cluster 013 :    [########################----------------]  60.0% of 200\r"
     ]
    },
    {
     "name": "stdout",
     "output_type": "stream",
     "text": [
      "Cluster 013 :    [#########################---------------]  62.5% of 200\r",
      "Cluster 013 :    [##########################--------------]  65.0% of 200\r",
      "Cluster 013 :    [###########################-------------]  67.5% of 200\r"
     ]
    },
    {
     "name": "stdout",
     "output_type": "stream",
     "text": [
      "Cluster 013 :    [############################------------]  70.0% of 200\r",
      "Cluster 013 :    [#############################-----------]  72.5% of 200\r"
     ]
    },
    {
     "name": "stdout",
     "output_type": "stream",
     "text": [
      "Cluster 013 :    [##############################----------]  75.0% of 200\r",
      "Cluster 013 :    [###############################---------]  77.5% of 200\r",
      "Cluster 013 :    [################################--------]  80.0% of 200\r"
     ]
    },
    {
     "name": "stdout",
     "output_type": "stream",
     "text": [
      "Cluster 013 :    [#################################-------]  82.5% of 200\r",
      "Cluster 013 :    [##################################------]  85.0% of 200\r"
     ]
    },
    {
     "name": "stdout",
     "output_type": "stream",
     "text": [
      "Cluster 013 :    [###################################-----]  87.5% of 200\r",
      "Cluster 013 :    [####################################----]  90.0% of 200\r",
      "Cluster 013 :    [#####################################---]  92.5% of 200\r"
     ]
    },
    {
     "name": "stdout",
     "output_type": "stream",
     "text": [
      "Cluster 013 :    [######################################--]  95.0% of 200\r",
      "Cluster 013 :    [#######################################-]  97.5% of 200\r"
     ]
    },
    {
     "name": "stdout",
     "output_type": "stream",
     "text": [
      "Cluster 013 :    [########################################] 100.0% of 200\n"
     ]
    },
    {
     "name": "stdout",
     "output_type": "stream",
     "text": [
      "Cluster 014 :    [#---------------------------------------]   2.5% of 200\r",
      "Cluster 014 :    [##--------------------------------------]   5.0% of 200\r"
     ]
    },
    {
     "name": "stdout",
     "output_type": "stream",
     "text": [
      "Cluster 014 :    [###-------------------------------------]   7.5% of 200\r",
      "Cluster 014 :    [####------------------------------------]  10.0% of 200\r",
      "Cluster 014 :    [#####-----------------------------------]  12.5% of 200\r"
     ]
    },
    {
     "name": "stdout",
     "output_type": "stream",
     "text": [
      "Cluster 014 :    [######----------------------------------]  15.0% of 200\r",
      "Cluster 014 :    [#######---------------------------------]  17.5% of 200\r"
     ]
    },
    {
     "name": "stdout",
     "output_type": "stream",
     "text": [
      "Cluster 014 :    [########--------------------------------]  20.0% of 200\r",
      "Cluster 014 :    [#########-------------------------------]  22.5% of 200\r"
     ]
    },
    {
     "name": "stdout",
     "output_type": "stream",
     "text": [
      "Cluster 014 :    [##########------------------------------]  25.0% of 200\r",
      "Cluster 014 :    [###########-----------------------------]  27.5% of 200\r"
     ]
    },
    {
     "name": "stdout",
     "output_type": "stream",
     "text": [
      "Cluster 014 :    [############----------------------------]  30.0% of 200\r",
      "Cluster 014 :    [#############---------------------------]  32.5% of 200\r"
     ]
    },
    {
     "name": "stdout",
     "output_type": "stream",
     "text": [
      "Cluster 014 :    [##############--------------------------]  35.0% of 200\r",
      "Cluster 014 :    [###############-------------------------]  37.5% of 200\r"
     ]
    },
    {
     "name": "stdout",
     "output_type": "stream",
     "text": [
      "Cluster 014 :    [################------------------------]  40.0% of 200\r",
      "Cluster 014 :    [#################-----------------------]  42.5% of 200\r"
     ]
    },
    {
     "name": "stdout",
     "output_type": "stream",
     "text": [
      "Cluster 014 :    [##################----------------------]  45.0% of 200\r",
      "Cluster 014 :    [###################---------------------]  47.5% of 200\r"
     ]
    },
    {
     "name": "stdout",
     "output_type": "stream",
     "text": [
      "Cluster 014 :    [####################--------------------]  50.0% of 200\r",
      "Cluster 014 :    [#####################-------------------]  52.5% of 200\r"
     ]
    },
    {
     "name": "stdout",
     "output_type": "stream",
     "text": [
      "Cluster 014 :    [######################------------------]  55.0% of 200\r",
      "Cluster 014 :    [#######################-----------------]  57.5% of 200\r"
     ]
    },
    {
     "name": "stdout",
     "output_type": "stream",
     "text": [
      "Cluster 014 :    [########################----------------]  60.0% of 200\r",
      "Cluster 014 :    [#########################---------------]  62.5% of 200\r"
     ]
    },
    {
     "name": "stdout",
     "output_type": "stream",
     "text": [
      "Cluster 014 :    [##########################--------------]  65.0% of 200\r",
      "Cluster 014 :    [###########################-------------]  67.5% of 200\r"
     ]
    },
    {
     "name": "stdout",
     "output_type": "stream",
     "text": [
      "Cluster 014 :    [############################------------]  70.0% of 200\r",
      "Cluster 014 :    [#############################-----------]  72.5% of 200\r",
      "Cluster 014 :    [##############################----------]  75.0% of 200\r"
     ]
    },
    {
     "name": "stdout",
     "output_type": "stream",
     "text": [
      "Cluster 014 :    [###############################---------]  77.5% of 200\r",
      "Cluster 014 :    [################################--------]  80.0% of 200\r"
     ]
    },
    {
     "name": "stdout",
     "output_type": "stream",
     "text": [
      "Cluster 014 :    [#################################-------]  82.5% of 200\r",
      "Cluster 014 :    [##################################------]  85.0% of 200\r"
     ]
    },
    {
     "name": "stdout",
     "output_type": "stream",
     "text": [
      "Cluster 014 :    [###################################-----]  87.5% of 200\r",
      "Cluster 014 :    [####################################----]  90.0% of 200\r"
     ]
    },
    {
     "name": "stdout",
     "output_type": "stream",
     "text": [
      "Cluster 014 :    [#####################################---]  92.5% of 200\r",
      "Cluster 014 :    [######################################--]  95.0% of 200\r"
     ]
    },
    {
     "name": "stdout",
     "output_type": "stream",
     "text": [
      "Cluster 014 :    [#######################################-]  97.5% of 200\r",
      "Cluster 014 :    [########################################] 100.0% of 200\n"
     ]
    },
    {
     "name": "stdout",
     "output_type": "stream",
     "text": [
      "Cluster 015 :    [#---------------------------------------]   2.5% of 200\r",
      "Cluster 015 :    [##--------------------------------------]   5.0% of 200\r"
     ]
    },
    {
     "name": "stdout",
     "output_type": "stream",
     "text": [
      "Cluster 015 :    [###-------------------------------------]   7.5% of 200\r",
      "Cluster 015 :    [####------------------------------------]  10.0% of 200\r",
      "Cluster 015 :    [#####-----------------------------------]  12.5% of 200\r"
     ]
    },
    {
     "name": "stdout",
     "output_type": "stream",
     "text": [
      "Cluster 015 :    [######----------------------------------]  15.0% of 200\r",
      "Cluster 015 :    [#######---------------------------------]  17.5% of 200\r"
     ]
    },
    {
     "name": "stdout",
     "output_type": "stream",
     "text": [
      "Cluster 015 :    [########--------------------------------]  20.0% of 200\r",
      "Cluster 015 :    [#########-------------------------------]  22.5% of 200\r"
     ]
    },
    {
     "name": "stdout",
     "output_type": "stream",
     "text": [
      "Cluster 015 :    [##########------------------------------]  25.0% of 200\r",
      "Cluster 015 :    [###########-----------------------------]  27.5% of 200\r"
     ]
    },
    {
     "name": "stdout",
     "output_type": "stream",
     "text": [
      "Cluster 015 :    [############----------------------------]  30.0% of 200\r",
      "Cluster 015 :    [#############---------------------------]  32.5% of 200\r"
     ]
    },
    {
     "name": "stdout",
     "output_type": "stream",
     "text": [
      "Cluster 015 :    [##############--------------------------]  35.0% of 200\r",
      "Cluster 015 :    [###############-------------------------]  37.5% of 200\r"
     ]
    },
    {
     "name": "stdout",
     "output_type": "stream",
     "text": [
      "Cluster 015 :    [################------------------------]  40.0% of 200\r",
      "Cluster 015 :    [#################-----------------------]  42.5% of 200\r",
      "Cluster 015 :    [##################----------------------]  45.0% of 200\r"
     ]
    },
    {
     "name": "stdout",
     "output_type": "stream",
     "text": [
      "Cluster 015 :    [###################---------------------]  47.5% of 200\r",
      "Cluster 015 :    [####################--------------------]  50.0% of 200\r",
      "Cluster 015 :    [#####################-------------------]  52.5% of 200\r"
     ]
    },
    {
     "name": "stdout",
     "output_type": "stream",
     "text": [
      "Cluster 015 :    [######################------------------]  55.0% of 200\r",
      "Cluster 015 :    [#######################-----------------]  57.5% of 200\r"
     ]
    },
    {
     "name": "stdout",
     "output_type": "stream",
     "text": [
      "Cluster 015 :    [########################----------------]  60.0% of 200\r",
      "Cluster 015 :    [#########################---------------]  62.5% of 200\r",
      "Cluster 015 :    [##########################--------------]  65.0% of 200\r"
     ]
    },
    {
     "name": "stdout",
     "output_type": "stream",
     "text": [
      "Cluster 015 :    [###########################-------------]  67.5% of 200\r",
      "Cluster 015 :    [############################------------]  70.0% of 200\r"
     ]
    },
    {
     "name": "stdout",
     "output_type": "stream",
     "text": [
      "Cluster 015 :    [#############################-----------]  72.5% of 200\r",
      "Cluster 015 :    [##############################----------]  75.0% of 200\r"
     ]
    },
    {
     "name": "stdout",
     "output_type": "stream",
     "text": [
      "Cluster 015 :    [###############################---------]  77.5% of 200\r",
      "Cluster 015 :    [################################--------]  80.0% of 200\r",
      "Cluster 015 :    [#################################-------]  82.5% of 200\r"
     ]
    },
    {
     "name": "stdout",
     "output_type": "stream",
     "text": [
      "Cluster 015 :    [##################################------]  85.0% of 200\r",
      "Cluster 015 :    [###################################-----]  87.5% of 200\r"
     ]
    },
    {
     "name": "stdout",
     "output_type": "stream",
     "text": [
      "Cluster 015 :    [####################################----]  90.0% of 200\r",
      "Cluster 015 :    [#####################################---]  92.5% of 200\r"
     ]
    },
    {
     "name": "stdout",
     "output_type": "stream",
     "text": [
      "Cluster 015 :    [######################################--]  95.0% of 200\r",
      "Cluster 015 :    [#######################################-]  97.5% of 200\r"
     ]
    },
    {
     "name": "stdout",
     "output_type": "stream",
     "text": [
      "Cluster 015 :    [########################################] 100.0% of 200\n"
     ]
    },
    {
     "name": "stdout",
     "output_type": "stream",
     "text": [
      "Cluster 016 :    [#---------------------------------------]   2.5% of 200\r",
      "Cluster 016 :    [##--------------------------------------]   5.0% of 200\r"
     ]
    },
    {
     "name": "stdout",
     "output_type": "stream",
     "text": [
      "Cluster 016 :    [###-------------------------------------]   7.5% of 200\r",
      "Cluster 016 :    [####------------------------------------]  10.0% of 200\r"
     ]
    },
    {
     "name": "stdout",
     "output_type": "stream",
     "text": [
      "Cluster 016 :    [#####-----------------------------------]  12.5% of 200\r",
      "Cluster 016 :    [######----------------------------------]  15.0% of 200\r"
     ]
    },
    {
     "name": "stdout",
     "output_type": "stream",
     "text": [
      "Cluster 016 :    [#######---------------------------------]  17.5% of 200\r",
      "Cluster 016 :    [########--------------------------------]  20.0% of 200\r"
     ]
    },
    {
     "name": "stdout",
     "output_type": "stream",
     "text": [
      "Cluster 016 :    [#########-------------------------------]  22.5% of 200\r",
      "Cluster 016 :    [##########------------------------------]  25.0% of 200\r"
     ]
    },
    {
     "name": "stdout",
     "output_type": "stream",
     "text": [
      "Cluster 016 :    [###########-----------------------------]  27.5% of 200\r",
      "Cluster 016 :    [############----------------------------]  30.0% of 200\r",
      "Cluster 016 :    [#############---------------------------]  32.5% of 200\r"
     ]
    },
    {
     "name": "stdout",
     "output_type": "stream",
     "text": [
      "Cluster 016 :    [##############--------------------------]  35.0% of 200\r"
     ]
    },
    {
     "name": "stdout",
     "output_type": "stream",
     "text": [
      "Cluster 016 :    [###############-------------------------]  37.5% of 200\r",
      "Cluster 016 :    [################------------------------]  40.0% of 200\r"
     ]
    },
    {
     "name": "stdout",
     "output_type": "stream",
     "text": [
      "Cluster 016 :    [#################-----------------------]  42.5% of 200\r",
      "Cluster 016 :    [##################----------------------]  45.0% of 200\r"
     ]
    },
    {
     "name": "stdout",
     "output_type": "stream",
     "text": [
      "Cluster 016 :    [###################---------------------]  47.5% of 200\r",
      "Cluster 016 :    [####################--------------------]  50.0% of 200\r"
     ]
    },
    {
     "name": "stdout",
     "output_type": "stream",
     "text": [
      "Cluster 016 :    [#####################-------------------]  52.5% of 200\r",
      "Cluster 016 :    [######################------------------]  55.0% of 200\r"
     ]
    },
    {
     "name": "stdout",
     "output_type": "stream",
     "text": [
      "Cluster 016 :    [#######################-----------------]  57.5% of 200\r",
      "Cluster 016 :    [########################----------------]  60.0% of 200\r"
     ]
    },
    {
     "name": "stdout",
     "output_type": "stream",
     "text": [
      "Cluster 016 :    [#########################---------------]  62.5% of 200\r",
      "Cluster 016 :    [##########################--------------]  65.0% of 200\r"
     ]
    },
    {
     "name": "stdout",
     "output_type": "stream",
     "text": [
      "Cluster 016 :    [###########################-------------]  67.5% of 200\r",
      "Cluster 016 :    [############################------------]  70.0% of 200\r"
     ]
    },
    {
     "name": "stdout",
     "output_type": "stream",
     "text": [
      "Cluster 016 :    [#############################-----------]  72.5% of 200\r",
      "Cluster 016 :    [##############################----------]  75.0% of 200\r"
     ]
    },
    {
     "name": "stdout",
     "output_type": "stream",
     "text": [
      "Cluster 016 :    [###############################---------]  77.5% of 200\r",
      "Cluster 016 :    [################################--------]  80.0% of 200\r"
     ]
    },
    {
     "name": "stdout",
     "output_type": "stream",
     "text": [
      "Cluster 016 :    [#################################-------]  82.5% of 200\r",
      "Cluster 016 :    [##################################------]  85.0% of 200\r"
     ]
    },
    {
     "name": "stdout",
     "output_type": "stream",
     "text": [
      "Cluster 016 :    [###################################-----]  87.5% of 200\r",
      "Cluster 016 :    [####################################----]  90.0% of 200\r"
     ]
    },
    {
     "name": "stdout",
     "output_type": "stream",
     "text": [
      "Cluster 016 :    [#####################################---]  92.5% of 200\r",
      "Cluster 016 :    [######################################--]  95.0% of 200\r"
     ]
    },
    {
     "name": "stdout",
     "output_type": "stream",
     "text": [
      "Cluster 016 :    [#######################################-]  97.5% of 200\r",
      "Cluster 016 :    [########################################] 100.0% of 200\n"
     ]
    },
    {
     "name": "stdout",
     "output_type": "stream",
     "text": [
      "Cluster 017 :    [#---------------------------------------]   2.5% of 200\r",
      "Cluster 017 :    [##--------------------------------------]   5.0% of 200\r"
     ]
    },
    {
     "name": "stdout",
     "output_type": "stream",
     "text": [
      "Cluster 017 :    [###-------------------------------------]   7.5% of 200\r",
      "Cluster 017 :    [####------------------------------------]  10.0% of 200\r"
     ]
    },
    {
     "name": "stdout",
     "output_type": "stream",
     "text": [
      "Cluster 017 :    [#####-----------------------------------]  12.5% of 200\r",
      "Cluster 017 :    [######----------------------------------]  15.0% of 200\r",
      "Cluster 017 :    [#######---------------------------------]  17.5% of 200\r"
     ]
    },
    {
     "name": "stdout",
     "output_type": "stream",
     "text": [
      "Cluster 017 :    [########--------------------------------]  20.0% of 200\r",
      "Cluster 017 :    [#########-------------------------------]  22.5% of 200\r"
     ]
    },
    {
     "name": "stdout",
     "output_type": "stream",
     "text": [
      "Cluster 017 :    [##########------------------------------]  25.0% of 200\r",
      "Cluster 017 :    [###########-----------------------------]  27.5% of 200\r",
      "Cluster 017 :    [############----------------------------]  30.0% of 200\r"
     ]
    },
    {
     "name": "stdout",
     "output_type": "stream",
     "text": [
      "Cluster 017 :    [#############---------------------------]  32.5% of 200\r",
      "Cluster 017 :    [##############--------------------------]  35.0% of 200\r",
      "Cluster 017 :    [###############-------------------------]  37.5% of 200\r"
     ]
    },
    {
     "name": "stdout",
     "output_type": "stream",
     "text": [
      "Cluster 017 :    [################------------------------]  40.0% of 200\r",
      "Cluster 017 :    [#################-----------------------]  42.5% of 200\r"
     ]
    },
    {
     "name": "stdout",
     "output_type": "stream",
     "text": [
      "Cluster 017 :    [##################----------------------]  45.0% of 200\r",
      "Cluster 017 :    [###################---------------------]  47.5% of 200\r"
     ]
    },
    {
     "name": "stdout",
     "output_type": "stream",
     "text": [
      "Cluster 017 :    [####################--------------------]  50.0% of 200\r",
      "Cluster 017 :    [#####################-------------------]  52.5% of 200\r"
     ]
    },
    {
     "name": "stdout",
     "output_type": "stream",
     "text": [
      "Cluster 017 :    [######################------------------]  55.0% of 200\r",
      "Cluster 017 :    [#######################-----------------]  57.5% of 200\r"
     ]
    },
    {
     "name": "stdout",
     "output_type": "stream",
     "text": [
      "Cluster 017 :    [########################----------------]  60.0% of 200\r",
      "Cluster 017 :    [#########################---------------]  62.5% of 200\r"
     ]
    },
    {
     "name": "stdout",
     "output_type": "stream",
     "text": [
      "Cluster 017 :    [##########################--------------]  65.0% of 200\r",
      "Cluster 017 :    [###########################-------------]  67.5% of 200\r",
      "Cluster 017 :    [############################------------]  70.0% of 200\r"
     ]
    },
    {
     "name": "stdout",
     "output_type": "stream",
     "text": [
      "Cluster 017 :    [#############################-----------]  72.5% of 200\r",
      "Cluster 017 :    [##############################----------]  75.0% of 200\r"
     ]
    },
    {
     "name": "stdout",
     "output_type": "stream",
     "text": [
      "Cluster 017 :    [###############################---------]  77.5% of 200\r",
      "Cluster 017 :    [################################--------]  80.0% of 200\r"
     ]
    },
    {
     "name": "stdout",
     "output_type": "stream",
     "text": [
      "Cluster 017 :    [#################################-------]  82.5% of 200\r",
      "Cluster 017 :    [##################################------]  85.0% of 200\r"
     ]
    },
    {
     "name": "stdout",
     "output_type": "stream",
     "text": [
      "Cluster 017 :    [###################################-----]  87.5% of 200\r",
      "Cluster 017 :    [####################################----]  90.0% of 200\r"
     ]
    },
    {
     "name": "stdout",
     "output_type": "stream",
     "text": [
      "Cluster 017 :    [#####################################---]  92.5% of 200\r",
      "Cluster 017 :    [######################################--]  95.0% of 200\r"
     ]
    },
    {
     "name": "stdout",
     "output_type": "stream",
     "text": [
      "Cluster 017 :    [#######################################-]  97.5% of 200\r",
      "Cluster 017 :    [########################################] 100.0% of 200\n"
     ]
    },
    {
     "name": "stdout",
     "output_type": "stream",
     "text": [
      "Cluster 018 :    [#---------------------------------------]   2.5% of 200\r",
      "Cluster 018 :    [##--------------------------------------]   5.0% of 200\r",
      "Cluster 018 :    [###-------------------------------------]   7.5% of 200\r"
     ]
    },
    {
     "name": "stdout",
     "output_type": "stream",
     "text": [
      "Cluster 018 :    [####------------------------------------]  10.0% of 200\r",
      "Cluster 018 :    [#####-----------------------------------]  12.5% of 200\r"
     ]
    },
    {
     "name": "stdout",
     "output_type": "stream",
     "text": [
      "Cluster 018 :    [######----------------------------------]  15.0% of 200\r",
      "Cluster 018 :    [#######---------------------------------]  17.5% of 200\r"
     ]
    },
    {
     "name": "stdout",
     "output_type": "stream",
     "text": [
      "Cluster 018 :    [########--------------------------------]  20.0% of 200\r",
      "Cluster 018 :    [#########-------------------------------]  22.5% of 200\r",
      "Cluster 018 :    [##########------------------------------]  25.0% of 200\r"
     ]
    },
    {
     "name": "stdout",
     "output_type": "stream",
     "text": [
      "Cluster 018 :    [###########-----------------------------]  27.5% of 200\r",
      "Cluster 018 :    [############----------------------------]  30.0% of 200\r",
      "Cluster 018 :    [#############---------------------------]  32.5% of 200\r"
     ]
    },
    {
     "name": "stdout",
     "output_type": "stream",
     "text": [
      "Cluster 018 :    [##############--------------------------]  35.0% of 200\r",
      "Cluster 018 :    [###############-------------------------]  37.5% of 200\r"
     ]
    },
    {
     "name": "stdout",
     "output_type": "stream",
     "text": [
      "Cluster 018 :    [################------------------------]  40.0% of 200\r",
      "Cluster 018 :    [#################-----------------------]  42.5% of 200\r"
     ]
    },
    {
     "name": "stdout",
     "output_type": "stream",
     "text": [
      "Cluster 018 :    [##################----------------------]  45.0% of 200\r",
      "Cluster 018 :    [###################---------------------]  47.5% of 200\r"
     ]
    },
    {
     "name": "stdout",
     "output_type": "stream",
     "text": [
      "Cluster 018 :    [####################--------------------]  50.0% of 200\r",
      "Cluster 018 :    [#####################-------------------]  52.5% of 200\r"
     ]
    },
    {
     "name": "stdout",
     "output_type": "stream",
     "text": [
      "Cluster 018 :    [######################------------------]  55.0% of 200\r",
      "Cluster 018 :    [#######################-----------------]  57.5% of 200\r",
      "Cluster 018 :    [########################----------------]  60.0% of 200\r"
     ]
    },
    {
     "name": "stdout",
     "output_type": "stream",
     "text": [
      "Cluster 018 :    [#########################---------------]  62.5% of 200\r",
      "Cluster 018 :    [##########################--------------]  65.0% of 200\r"
     ]
    },
    {
     "name": "stdout",
     "output_type": "stream",
     "text": [
      "Cluster 018 :    [###########################-------------]  67.5% of 200\r",
      "Cluster 018 :    [############################------------]  70.0% of 200\r"
     ]
    },
    {
     "name": "stdout",
     "output_type": "stream",
     "text": [
      "Cluster 018 :    [#############################-----------]  72.5% of 200\r",
      "Cluster 018 :    [##############################----------]  75.0% of 200\r"
     ]
    },
    {
     "name": "stdout",
     "output_type": "stream",
     "text": [
      "Cluster 018 :    [###############################---------]  77.5% of 200\r",
      "Cluster 018 :    [################################--------]  80.0% of 200\r"
     ]
    },
    {
     "name": "stdout",
     "output_type": "stream",
     "text": [
      "Cluster 018 :    [#################################-------]  82.5% of 200\r",
      "Cluster 018 :    [##################################------]  85.0% of 200\r",
      "Cluster 018 :    [###################################-----]  87.5% of 200\r"
     ]
    },
    {
     "name": "stdout",
     "output_type": "stream",
     "text": [
      "Cluster 018 :    [####################################----]  90.0% of 200\r",
      "Cluster 018 :    [#####################################---]  92.5% of 200\r"
     ]
    },
    {
     "name": "stdout",
     "output_type": "stream",
     "text": [
      "Cluster 018 :    [######################################--]  95.0% of 200\r",
      "Cluster 018 :    [#######################################-]  97.5% of 200\r"
     ]
    },
    {
     "name": "stdout",
     "output_type": "stream",
     "text": [
      "Cluster 018 :    [########################################] 100.0% of 200\n"
     ]
    },
    {
     "name": "stdout",
     "output_type": "stream",
     "text": [
      "Cluster 019 :    [#---------------------------------------]   2.5% of 200\r",
      "Cluster 019 :    [##--------------------------------------]   5.0% of 200\r"
     ]
    },
    {
     "name": "stdout",
     "output_type": "stream",
     "text": [
      "Cluster 019 :    [###-------------------------------------]   7.5% of 200\r",
      "Cluster 019 :    [####------------------------------------]  10.0% of 200\r"
     ]
    },
    {
     "name": "stdout",
     "output_type": "stream",
     "text": [
      "Cluster 019 :    [#####-----------------------------------]  12.5% of 200\r",
      "Cluster 019 :    [######----------------------------------]  15.0% of 200\r"
     ]
    },
    {
     "name": "stdout",
     "output_type": "stream",
     "text": [
      "Cluster 019 :    [#######---------------------------------]  17.5% of 200\r",
      "Cluster 019 :    [########--------------------------------]  20.0% of 200\r"
     ]
    },
    {
     "name": "stdout",
     "output_type": "stream",
     "text": [
      "Cluster 019 :    [#########-------------------------------]  22.5% of 200\r",
      "Cluster 019 :    [##########------------------------------]  25.0% of 200\r"
     ]
    },
    {
     "name": "stdout",
     "output_type": "stream",
     "text": [
      "Cluster 019 :    [###########-----------------------------]  27.5% of 200\r",
      "Cluster 019 :    [############----------------------------]  30.0% of 200\r"
     ]
    },
    {
     "name": "stdout",
     "output_type": "stream",
     "text": [
      "Cluster 019 :    [#############---------------------------]  32.5% of 200\r",
      "Cluster 019 :    [##############--------------------------]  35.0% of 200\r"
     ]
    },
    {
     "name": "stdout",
     "output_type": "stream",
     "text": [
      "Cluster 019 :    [###############-------------------------]  37.5% of 200\r",
      "Cluster 019 :    [################------------------------]  40.0% of 200\r"
     ]
    },
    {
     "name": "stdout",
     "output_type": "stream",
     "text": [
      "Cluster 019 :    [#################-----------------------]  42.5% of 200\r",
      "Cluster 019 :    [##################----------------------]  45.0% of 200\r"
     ]
    },
    {
     "name": "stdout",
     "output_type": "stream",
     "text": [
      "Cluster 019 :    [###################---------------------]  47.5% of 200\r",
      "Cluster 019 :    [####################--------------------]  50.0% of 200\r"
     ]
    },
    {
     "name": "stdout",
     "output_type": "stream",
     "text": [
      "Cluster 019 :    [#####################-------------------]  52.5% of 200\r",
      "Cluster 019 :    [######################------------------]  55.0% of 200\r",
      "Cluster 019 :    [#######################-----------------]  57.5% of 200\r"
     ]
    },
    {
     "name": "stdout",
     "output_type": "stream",
     "text": [
      "Cluster 019 :    [########################----------------]  60.0% of 200\r",
      "Cluster 019 :    [#########################---------------]  62.5% of 200\r"
     ]
    },
    {
     "name": "stdout",
     "output_type": "stream",
     "text": [
      "Cluster 019 :    [##########################--------------]  65.0% of 200\r",
      "Cluster 019 :    [###########################-------------]  67.5% of 200\r"
     ]
    },
    {
     "name": "stdout",
     "output_type": "stream",
     "text": [
      "Cluster 019 :    [############################------------]  70.0% of 200\r",
      "Cluster 019 :    [#############################-----------]  72.5% of 200\r",
      "Cluster 019 :    [##############################----------]  75.0% of 200\r"
     ]
    },
    {
     "name": "stdout",
     "output_type": "stream",
     "text": [
      "Cluster 019 :    [###############################---------]  77.5% of 200\r",
      "Cluster 019 :    [################################--------]  80.0% of 200\r"
     ]
    },
    {
     "name": "stdout",
     "output_type": "stream",
     "text": [
      "Cluster 019 :    [#################################-------]  82.5% of 200\r",
      "Cluster 019 :    [##################################------]  85.0% of 200\r"
     ]
    },
    {
     "name": "stdout",
     "output_type": "stream",
     "text": [
      "Cluster 019 :    [###################################-----]  87.5% of 200\r",
      "Cluster 019 :    [####################################----]  90.0% of 200\r"
     ]
    },
    {
     "name": "stdout",
     "output_type": "stream",
     "text": [
      "Cluster 019 :    [#####################################---]  92.5% of 200\r",
      "Cluster 019 :    [######################################--]  95.0% of 200\r"
     ]
    },
    {
     "name": "stdout",
     "output_type": "stream",
     "text": [
      "Cluster 019 :    [#######################################-]  97.5% of 200\r",
      "Cluster 019 :    [########################################] 100.0% of 200\n"
     ]
    },
    {
     "name": "stdout",
     "output_type": "stream",
     "text": [
      "Cluster 020 :    [#---------------------------------------]   2.5% of 200\r",
      "Cluster 020 :    [##--------------------------------------]   5.0% of 200\r"
     ]
    },
    {
     "name": "stdout",
     "output_type": "stream",
     "text": [
      "Cluster 020 :    [###-------------------------------------]   7.5% of 200\r",
      "Cluster 020 :    [####------------------------------------]  10.0% of 200\r"
     ]
    },
    {
     "name": "stdout",
     "output_type": "stream",
     "text": [
      "Cluster 020 :    [#####-----------------------------------]  12.5% of 200\r",
      "Cluster 020 :    [######----------------------------------]  15.0% of 200\r"
     ]
    },
    {
     "name": "stdout",
     "output_type": "stream",
     "text": [
      "Cluster 020 :    [#######---------------------------------]  17.5% of 200\r",
      "Cluster 020 :    [########--------------------------------]  20.0% of 200\r",
      "Cluster 020 :    [#########-------------------------------]  22.5% of 200\r"
     ]
    },
    {
     "name": "stdout",
     "output_type": "stream",
     "text": [
      "Cluster 020 :    [##########------------------------------]  25.0% of 200\r"
     ]
    },
    {
     "data": {
      "text/markdown": [
       "<br>**Ressources :**"
      ],
      "text/plain": [
       "<IPython.core.display.Markdown object>"
      ]
     },
     "metadata": {},
     "output_type": "display_data"
    },
    {
     "name": "stdout",
     "output_type": "stream",
     "text": [
      "Duration     :  0:01:46\n",
      "Size         :  1.5 Go\n"
     ]
    },
    {
     "data": {
      "text/markdown": [
       "<br>**Estimation with scale=1 :**"
      ],
      "text/plain": [
       "<IPython.core.display.Markdown object>"
      ]
     },
     "metadata": {},
     "output_type": "display_data"
    },
    {
     "name": "stdout",
     "output_type": "stream",
     "text": [
      "Duration     :  1:28:37\n",
      "Size         :  74.2 Go\n"
     ]
    }
   ],
   "source": [
    "# ---- Build clusters\n",
    "#\n",
    "lx,ly        = image_size\n",
    "cluster_dir  = f'{output_dir}/clusters-{lx}x{ly}'\n",
    "\n",
    "cluster_nb,duration = read_and_save( dataset_csv, dataset_img,\n",
    "                                     shuffle       = True,\n",
    "                                     seed          = seed,\n",
    "                                     scale         = scale,\n",
    "                                     cluster_size  = cluster_size, \n",
    "                                     cluster_dir   = cluster_dir,\n",
    "                                     image_size    = image_size,\n",
    "                                     exit_if_exist = exit_if_exist)\n",
    "\n",
    "# ---- Conclusion...\n",
    "\n",
    "directory = pathlib.Path(cluster_dir)\n",
    "s=sum(f.stat().st_size for f in directory.glob('**/*') if f.is_file())\n",
    "\n",
    "pwk.subtitle('Ressources :')\n",
    "print('Duration     : ',pwk.hdelay(duration))\n",
    "print('Size         : ',pwk.hsize(s))\n",
    "\n",
    "pwk.subtitle('Estimation with scale=1 :')\n",
    "print('Duration     : ',pwk.hdelay(duration*(1/scale)))\n",
    "print('Size         : ',pwk.hsize(s*(1/scale)))\n"
   ]
  },
  {
   "cell_type": "code",
   "execution_count": 7,
   "metadata": {
    "execution": {
     "iopub.execute_input": "2021-03-22T13:51:44.059863Z",
     "iopub.status.busy": "2021-03-22T13:51:44.059390Z",
     "iopub.status.idle": "2021-03-22T13:51:44.061629Z",
     "shell.execute_reply": "2021-03-22T13:51:44.062112Z"
    }
   },
   "outputs": [
    {
     "name": "stdout",
     "output_type": "stream",
     "text": [
      "End time is : Monday 22 March 2021, 14:51:44\n",
      "Duration is : 00:01:46 403ms\n",
      "This notebook ends here\n"
     ]
    }
   ],
   "source": [
    "pwk.end()"
   ]
  },
  {
   "cell_type": "markdown",
   "metadata": {},
   "source": [
    "---\n",
    "<img width=\"80px\" src=\"../fidle/img/00-Fidle-logo-01.svg\"></img>"
   ]
  }
 ],
 "metadata": {
  "kernelspec": {
   "display_name": "Python 3",
   "language": "python",
   "name": "python3"
  },
  "language_info": {
   "codemirror_mode": {
    "name": "ipython",
    "version": 3
   },
   "file_extension": ".py",
   "mimetype": "text/x-python",
   "name": "python",
   "nbconvert_exporter": "python",
   "pygments_lexer": "ipython3",
   "version": "3.7.9"
  }
 },
 "nbformat": 4,
 "nbformat_minor": 4
}
