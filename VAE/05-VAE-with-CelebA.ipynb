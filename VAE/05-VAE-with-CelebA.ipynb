{
 "cells": [
  {
   "cell_type": "markdown",
   "metadata": {},
   "source": [
    "Variational AutoEncoder (VAE) with CelebA\n",
    "=========================================\n",
    "---\n",
    "Formation Introduction au Deep Learning  (FIDLE) - S. Arias, E. Maldonado, JL. Parouty - CNRS/SARI/DEVLOG - 2020  \n",
    "\n",
    "## Episode 1 - Train a model\n",
    "\n",
    " - Defining a VAE model\n",
    " - Build the model\n",
    " - Train it\n",
    " - Follow the learning process with Tensorboard\n"
   ]
  },
  {
   "cell_type": "markdown",
   "metadata": {},
   "source": [
    "## Step 1 - Init python stuff"
   ]
  },
  {
   "cell_type": "code",
   "execution_count": 1,
   "metadata": {},
   "outputs": [
    {
     "name": "stdout",
     "output_type": "stream",
     "text": [
      "\n",
      "FIDLE 2020 - Variational AutoEncoder (VAE)\n",
      "TensorFlow version   : 2.0.0\n",
      "VAE version          : 1.24\n",
      "\n",
      "FIDLE 2020 - DataGenerator\n",
      "Version              : 0.4\n"
     ]
    }
   ],
   "source": [
    "import numpy as np\n",
    "import sys\n",
    "from importlib import reload\n",
    "\n",
    "import modules.vae\n",
    "import modules.data_generator\n",
    "\n",
    "reload(modules.data_generator)\n",
    "reload(modules.vae)\n",
    "\n",
    "from modules.vae  import VariationalAutoencoder\n",
    "from modules.data_generator import DataGenerator\n",
    "\n",
    "VariationalAutoencoder.about()\n",
    "DataGenerator.about()"
   ]
  },
  {
   "cell_type": "markdown",
   "metadata": {},
   "source": [
    "## Step 2 - Prepare data\n",
    "### 2.1 - Dataset localisation"
   ]
  },
  {
   "cell_type": "code",
   "execution_count": 2,
   "metadata": {},
   "outputs": [],
   "source": [
    "dataset_dir  = '/bettik/PROJECTS/pr-fidle/datasets/celeba'\n",
    "\n",
    "train_dir    = f'{dataset_dir}/clusters-xs.train'\n",
    "test_dir     = f'{dataset_dir}/clusters-xs.test'"
   ]
  },
  {
   "cell_type": "markdown",
   "metadata": {},
   "source": [
    "### 2.2 - DataGenerator\n",
    "Ok, everything's perfect, now let's instantiate our generator for the entire dataset."
   ]
  },
  {
   "cell_type": "code",
   "execution_count": 3,
   "metadata": {},
   "outputs": [
    {
     "name": "stdout",
     "output_type": "stream",
     "text": [
      "Datasize : 31\n"
     ]
    }
   ],
   "source": [
    "data_gen = DataGenerator(train_dir, 32, k_size=1)\n",
    "print(f'Datasize : {len(data_gen)}')"
   ]
  },
  {
   "cell_type": "code",
   "execution_count": 4,
   "metadata": {},
   "outputs": [
    {
     "data": {
      "text/plain": [
       "(100, 128, 128, 3)"
      ]
     },
     "execution_count": 4,
     "metadata": {},
     "output_type": "execute_result"
    }
   ],
   "source": [
    "x_train = np.load(f'{dataset_dir}/clusters-xs.train/images-000.npy')\n",
    "x_test  = np.load(f'{dataset_dir}/clusters-xs.test/images-000.npy')\n",
    "x_train.shape"
   ]
  },
  {
   "cell_type": "markdown",
   "metadata": {},
   "source": [
    "## Step 3 - Get VAE model"
   ]
  },
  {
   "cell_type": "code",
   "execution_count": 5,
   "metadata": {},
   "outputs": [
    {
     "name": "stdout",
     "output_type": "stream",
     "text": [
      "Model initialized.\n",
      "Outputs will be in  : ./run/CelebA.000\n",
      "Config saved in     : ./run/CelebA.000/models/vae_config.json\n"
     ]
    }
   ],
   "source": [
    "tag = 'CelebA.000'\n",
    "\n",
    "input_shape = (128, 128, 3)\n",
    "z_dim       = 200\n",
    "verbose     = 0\n",
    "\n",
    "encoder= [ {'type':'Conv2D',          'filters':32, 'kernel_size':(3,3), 'strides':2, 'padding':'same', 'activation':'relu'},\n",
    "           {'type':'Conv2D',          'filters':64, 'kernel_size':(3,3), 'strides':2, 'padding':'same', 'activation':'relu'},\n",
    "           {'type':'Conv2D',          'filters':64, 'kernel_size':(3,3), 'strides':2, 'padding':'same', 'activation':'relu'},\n",
    "           {'type':'Conv2D',          'filters':64, 'kernel_size':(3,3), 'strides':2, 'padding':'same', 'activation':'relu'}\n",
    "         ]\n",
    "\n",
    "decoder= [ {'type':'Conv2DTranspose', 'filters':64, 'kernel_size':(3,3), 'strides':2, 'padding':'same', 'activation':'relu'},\n",
    "           {'type':'Conv2DTranspose', 'filters':64, 'kernel_size':(3,3), 'strides':2, 'padding':'same', 'activation':'relu'},\n",
    "           {'type':'Conv2DTranspose', 'filters':32, 'kernel_size':(3,3), 'strides':2, 'padding':'same', 'activation':'relu'},\n",
    "           {'type':'Conv2DTranspose', 'filters':3,  'kernel_size':(3,3), 'strides':2, 'padding':'same', 'activation':'sigmoid'}\n",
    "         ]\n",
    "\n",
    "vae = modules.vae.VariationalAutoencoder(input_shape    = input_shape, \n",
    "                                         encoder_layers = encoder, \n",
    "                                         decoder_layers = decoder,\n",
    "                                         z_dim          = z_dim, \n",
    "                                         verbose        = verbose,\n",
    "                                         run_tag        = tag)\n",
    "vae.save(model=None)"
   ]
  },
  {
   "cell_type": "markdown",
   "metadata": {},
   "source": [
    "## Step 4 - Compile it"
   ]
  },
  {
   "cell_type": "code",
   "execution_count": 6,
   "metadata": {},
   "outputs": [
    {
     "name": "stdout",
     "output_type": "stream",
     "text": [
      "Compiled.\n",
      "Optimizer is Adam with learning_rate=0.0005\n"
     ]
    }
   ],
   "source": [
    "learning_rate = 0.0005\n",
    "r_loss_factor = 10000\n",
    "\n",
    "vae.compile(learning_rate, r_loss_factor)"
   ]
  },
  {
   "cell_type": "markdown",
   "metadata": {},
   "source": [
    "## Step 5 - Train"
   ]
  },
  {
   "cell_type": "code",
   "execution_count": 7,
   "metadata": {},
   "outputs": [],
   "source": [
    "batch_size        = 32\n",
    "epochs            = 100\n",
    "image_periodicity = 1      # for each epoch\n",
    "chkpt_periodicity = 2      # for each epoch\n",
    "initial_epoch     = 0\n",
    "dataset_size      = 1"
   ]
  },
  {
   "cell_type": "code",
   "execution_count": 8,
   "metadata": {},
   "outputs": [
    {
     "name": "stdout",
     "output_type": "stream",
     "text": [
      "Epoch 1/100\n",
      "31/31 [==============================] - 4s 121ms/step - loss: 1752.0090 - vae_r_loss: 1650.9930 - vae_kl_loss: 101.0159 - val_loss: 9974.5858 - val_vae_r_loss: 2591.9692 - val_vae_kl_loss: 7378.4531\n",
      "Epoch 2/100\n",
      "31/31 [==============================] - 1s 22ms/step - loss: 47.2324 - vae_r_loss: 21.1155 - vae_kl_loss: 26.1169 - val_loss: 3840.9212 - val_vae_r_loss: 2597.2668 - val_vae_kl_loss: 1238.6332\n",
      "Epoch 3/100\n",
      "31/31 [==============================] - 1s 22ms/step - loss: 13.5731 - vae_r_loss: 4.5347 - vae_kl_loss: 9.0384 - val_loss: 3455.3730 - val_vae_r_loss: 2597.2986 - val_vae_kl_loss: 852.8594\n",
      "Epoch 4/100\n",
      "31/31 [==============================] - 1s 24ms/step - loss: 10.3041 - vae_r_loss: 2.9343 - vae_kl_loss: 7.3698 - val_loss: 3249.3819 - val_vae_r_loss: 2597.3027 - val_vae_kl_loss: 646.7916\n",
      "Epoch 5/100\n",
      "31/31 [==============================] - 1s 24ms/step - loss: 10.3462 - vae_r_loss: 2.1483 - vae_kl_loss: 8.1979 - val_loss: 3376.0797 - val_vae_r_loss: 2597.3054 - val_vae_kl_loss: 773.5024\n",
      "Epoch 6/100\n",
      "31/31 [==============================] - 1s 23ms/step - loss: 7.7532 - vae_r_loss: 1.7696 - vae_kl_loss: 5.9836 - val_loss: 3037.3299 - val_vae_r_loss: 2597.3049 - val_vae_kl_loss: 434.6010\n",
      "Epoch 7/100\n",
      "31/31 [==============================] - 1s 23ms/step - loss: 7.7963 - vae_r_loss: 1.2268 - vae_kl_loss: 6.5695 - val_loss: 2915.3310 - val_vae_r_loss: 2597.3049 - val_vae_kl_loss: 312.5463\n",
      "Epoch 8/100\n",
      "31/31 [==============================] - 1s 23ms/step - loss: 9.6198 - vae_r_loss: 2.6430 - vae_kl_loss: 6.9767 - val_loss: 3224.5529 - val_vae_r_loss: 2597.3057 - val_vae_kl_loss: 622.0019\n",
      "Epoch 9/100\n",
      "31/31 [==============================] - 1s 23ms/step - loss: 8.3856 - vae_r_loss: 1.0792 - vae_kl_loss: 7.3064 - val_loss: 2814.9760 - val_vae_r_loss: 2597.3054 - val_vae_kl_loss: 212.1907\n",
      "Epoch 10/100\n",
      "31/31 [==============================] - 1s 25ms/step - loss: 5.6962 - vae_r_loss: 0.7116 - vae_kl_loss: 4.9845 - val_loss: 2760.5530 - val_vae_r_loss: 2597.3049 - val_vae_kl_loss: 157.7409\n",
      "Epoch 11/100\n",
      "31/31 [==============================] - 1s 22ms/step - loss: 5.5857 - vae_r_loss: 0.8194 - vae_kl_loss: 4.7664 - val_loss: 2749.9134 - val_vae_r_loss: 2597.3054 - val_vae_kl_loss: 147.0898\n",
      "Epoch 12/100\n",
      "31/31 [==============================] - 1s 23ms/step - loss: 9.7976 - vae_r_loss: 2.8916 - vae_kl_loss: 6.9060 - val_loss: 2743.4260 - val_vae_r_loss: 2597.3057 - val_vae_kl_loss: 140.6118\n",
      "Epoch 13/100\n",
      "31/31 [==============================] - 1s 23ms/step - loss: 7.9170 - vae_r_loss: 0.7273 - vae_kl_loss: 7.1898 - val_loss: 2789.6441 - val_vae_r_loss: 2597.3057 - val_vae_kl_loss: 186.8370\n",
      "Epoch 14/100\n",
      "31/31 [==============================] - 1s 23ms/step - loss: 6.3107 - vae_r_loss: 0.9292 - vae_kl_loss: 5.3815 - val_loss: 2713.8632 - val_vae_r_loss: 2597.3057 - val_vae_kl_loss: 111.0189\n",
      "Epoch 15/100\n",
      "31/31 [==============================] - 1s 27ms/step - loss: 7.6135 - vae_r_loss: 2.4590 - vae_kl_loss: 5.1545 - val_loss: 2803.2004 - val_vae_r_loss: 2597.3059 - val_vae_kl_loss: 200.3891\n",
      "Epoch 16/100\n",
      "31/31 [==============================] - 1s 24ms/step - loss: 8.8498 - vae_r_loss: 0.7190 - vae_kl_loss: 8.1309 - val_loss: 2686.0843 - val_vae_r_loss: 2597.3057 - val_vae_kl_loss: 83.2373\n",
      "Epoch 17/100\n",
      "31/31 [==============================] - 1s 23ms/step - loss: 6.4990 - vae_r_loss: 0.7640 - vae_kl_loss: 5.7350 - val_loss: 2677.4121 - val_vae_r_loss: 2597.3057 - val_vae_kl_loss: 74.5636\n",
      "Epoch 18/100\n",
      "31/31 [==============================] - 1s 23ms/step - loss: 5.4660 - vae_r_loss: 0.6942 - vae_kl_loss: 4.7718 - val_loss: 2647.2851 - val_vae_r_loss: 2597.3054 - val_vae_kl_loss: 44.4293\n",
      "Epoch 19/100\n",
      "31/31 [==============================] - 1s 23ms/step - loss: 4.1535 - vae_r_loss: 0.3998 - vae_kl_loss: 3.7537 - val_loss: 2628.7546 - val_vae_r_loss: 2597.3037 - val_vae_kl_loss: 25.8931\n",
      "Epoch 20/100\n",
      "31/31 [==============================] - 1s 22ms/step - loss: 5.8190 - vae_r_loss: 1.0210 - vae_kl_loss: 4.7980 - val_loss: 2634.1849 - val_vae_r_loss: 2597.3049 - val_vae_kl_loss: 31.3224\n",
      "Epoch 21/100\n",
      "31/31 [==============================] - 1s 23ms/step - loss: 4.3975 - vae_r_loss: 0.4594 - vae_kl_loss: 3.9381 - val_loss: 2629.4696 - val_vae_r_loss: 2597.3049 - val_vae_kl_loss: 26.6040\n",
      "Epoch 22/100\n",
      "31/31 [==============================] - 1s 22ms/step - loss: 8.3215 - vae_r_loss: 2.5931 - vae_kl_loss: 5.7284 - val_loss: 2656.5836 - val_vae_r_loss: 2597.3059 - val_vae_kl_loss: 53.7247\n",
      "Epoch 23/100\n",
      "31/31 [==============================] - 1s 23ms/step - loss: 5.7583 - vae_r_loss: 0.7271 - vae_kl_loss: 5.0312 - val_loss: 2629.3017 - val_vae_r_loss: 2597.3022 - val_vae_kl_loss: 26.4350\n",
      "Epoch 24/100\n",
      "31/31 [==============================] - 1s 22ms/step - loss: 5.1012 - vae_r_loss: 0.2192 - vae_kl_loss: 4.8820 - val_loss: 2626.5264 - val_vae_r_loss: 2597.3047 - val_vae_kl_loss: 23.6568\n",
      "Epoch 25/100\n",
      "31/31 [==============================] - 1s 23ms/step - loss: 4.7624 - vae_r_loss: 0.5899 - vae_kl_loss: 4.1726 - val_loss: 2623.9341 - val_vae_r_loss: 2597.3042 - val_vae_kl_loss: 21.0640\n",
      "Epoch 26/100\n",
      "31/31 [==============================] - 1s 22ms/step - loss: 4.8173 - vae_r_loss: 1.2436 - vae_kl_loss: 3.5737 - val_loss: 2631.2147 - val_vae_r_loss: 2597.3054 - val_vae_kl_loss: 28.3396\n",
      "Epoch 27/100\n",
      "31/31 [==============================] - 1s 23ms/step - loss: 5.5965 - vae_r_loss: 1.8233 - vae_kl_loss: 3.7733 - val_loss: 2632.9510 - val_vae_r_loss: 2597.3057 - val_vae_kl_loss: 30.0730\n",
      "Epoch 28/100\n",
      "31/31 [==============================] - 1s 23ms/step - loss: 3.7962 - vae_r_loss: 0.2014 - vae_kl_loss: 3.5948 - val_loss: 2618.4342 - val_vae_r_loss: 2597.3020 - val_vae_kl_loss: 15.5644\n",
      "Epoch 29/100\n",
      "31/31 [==============================] - 1s 23ms/step - loss: 3.1298 - vae_r_loss: 0.4670 - vae_kl_loss: 2.6629 - val_loss: 2620.4904 - val_vae_r_loss: 2597.3049 - val_vae_kl_loss: 17.6172\n",
      "Epoch 30/100\n",
      "31/31 [==============================] - 1s 23ms/step - loss: 4.4967 - vae_r_loss: 0.9741 - vae_kl_loss: 3.5226 - val_loss: 2624.1335 - val_vae_r_loss: 2597.3057 - val_vae_kl_loss: 21.2570\n",
      "Epoch 31/100\n",
      "31/31 [==============================] - 1s 23ms/step - loss: 5.7900 - vae_r_loss: 2.1685 - vae_kl_loss: 3.6214 - val_loss: 2627.9476 - val_vae_r_loss: 2597.3037 - val_vae_kl_loss: 25.0711\n",
      "Epoch 32/100\n",
      "31/31 [==============================] - 1s 23ms/step - loss: 4.4981 - vae_r_loss: 0.2835 - vae_kl_loss: 4.2146 - val_loss: 2621.2886 - val_vae_r_loss: 2597.3054 - val_vae_kl_loss: 18.4134\n",
      "Epoch 33/100\n",
      "31/31 [==============================] - 1s 25ms/step - loss: 3.0225 - vae_r_loss: 0.7580 - vae_kl_loss: 2.2645 - val_loss: 2616.8455 - val_vae_r_loss: 2597.3049 - val_vae_kl_loss: 13.9724\n",
      "Epoch 34/100\n",
      "31/31 [==============================] - 1s 24ms/step - loss: 3.9294 - vae_r_loss: 1.2010 - vae_kl_loss: 2.7284 - val_loss: 2619.3243 - val_vae_r_loss: 2597.3054 - val_vae_kl_loss: 16.4495\n",
      "Epoch 35/100\n",
      "31/31 [==============================] - 1s 23ms/step - loss: 3.0007 - vae_r_loss: 0.6562 - vae_kl_loss: 2.3445 - val_loss: 2617.8672 - val_vae_r_loss: 2597.3054 - val_vae_kl_loss: 14.9928\n",
      "Epoch 36/100\n",
      "31/31 [==============================] - 1s 22ms/step - loss: 2.3916 - vae_r_loss: 0.2563 - vae_kl_loss: 2.1352 - val_loss: 2615.1731 - val_vae_r_loss: 2597.3042 - val_vae_kl_loss: 12.3010\n",
      "Epoch 37/100\n",
      "31/31 [==============================] - 1s 22ms/step - loss: 2.4076 - vae_r_loss: 0.7955 - vae_kl_loss: 1.6122 - val_loss: 2614.3706 - val_vae_r_loss: 2597.3054 - val_vae_kl_loss: 11.4979\n",
      "Epoch 38/100\n",
      "31/31 [==============================] - 1s 24ms/step - loss: 2.2819 - vae_r_loss: 0.6372 - vae_kl_loss: 1.6446 - val_loss: 2614.3076 - val_vae_r_loss: 2597.3052 - val_vae_kl_loss: 11.4348\n",
      "Epoch 39/100\n",
      "31/31 [==============================] - 1s 22ms/step - loss: 1.8319 - vae_r_loss: 0.3842 - vae_kl_loss: 1.4477 - val_loss: 2612.5709 - val_vae_r_loss: 2597.3057 - val_vae_kl_loss: 9.6984\n",
      "Epoch 40/100\n",
      "31/31 [==============================] - 1s 23ms/step - loss: 1.6935 - vae_r_loss: 0.4746 - vae_kl_loss: 1.2190 - val_loss: 2611.5622 - val_vae_r_loss: 2597.3057 - val_vae_kl_loss: 8.6899\n",
      "Epoch 41/100\n",
      "31/31 [==============================] - 1s 23ms/step - loss: 1.2920 - vae_r_loss: 0.3265 - vae_kl_loss: 0.9654 - val_loss: 2610.1165 - val_vae_r_loss: 2597.3054 - val_vae_kl_loss: 7.2452\n",
      "Epoch 42/100\n",
      "31/31 [==============================] - 1s 22ms/step - loss: 1.2638 - vae_r_loss: 0.5207 - vae_kl_loss: 0.7431 - val_loss: 2609.3259 - val_vae_r_loss: 2597.3042 - val_vae_kl_loss: 6.4596\n",
      "Epoch 43/100\n",
      "31/31 [==============================] - 1s 23ms/step - loss: 1.1951 - vae_r_loss: 0.5011 - vae_kl_loss: 0.6940 - val_loss: 2609.1113 - val_vae_r_loss: 2597.3008 - val_vae_kl_loss: 6.2445\n",
      "Epoch 44/100\n",
      "31/31 [==============================] - 1s 23ms/step - loss: 0.8184 - vae_r_loss: 0.2798 - vae_kl_loss: 0.5386 - val_loss: 2607.8114 - val_vae_r_loss: 2597.2991 - val_vae_kl_loss: 4.9466\n",
      "Epoch 45/100\n",
      "31/31 [==============================] - 1s 23ms/step - loss: 0.6280 - vae_r_loss: 0.2451 - vae_kl_loss: 0.3830 - val_loss: 2607.0174 - val_vae_r_loss: 2597.3000 - val_vae_kl_loss: 4.1522\n",
      "Epoch 46/100\n",
      "31/31 [==============================] - 1s 23ms/step - loss: 0.4727 - vae_r_loss: 0.1872 - vae_kl_loss: 0.2855 - val_loss: 2606.3609 - val_vae_r_loss: 2597.3035 - val_vae_kl_loss: 3.4934\n",
      "Epoch 47/100\n",
      "31/31 [==============================] - 1s 23ms/step - loss: 0.4104 - vae_r_loss: 0.1956 - vae_kl_loss: 0.2148 - val_loss: 2605.8405 - val_vae_r_loss: 2597.2485 - val_vae_kl_loss: 3.0225\n",
      "Epoch 48/100\n",
      "31/31 [==============================] - 1s 23ms/step - loss: 0.3354 - vae_r_loss: 0.1739 - vae_kl_loss: 0.1615 - val_loss: 2605.4153 - val_vae_r_loss: 2597.2593 - val_vae_kl_loss: 2.5875\n",
      "Epoch 49/100\n",
      "31/31 [==============================] - 1s 22ms/step - loss: 0.2580 - vae_r_loss: 0.1383 - vae_kl_loss: 0.1197 - val_loss: 2605.1062 - val_vae_r_loss: 2597.2798 - val_vae_kl_loss: 2.2601\n",
      "Epoch 50/100\n",
      "31/31 [==============================] - 1s 23ms/step - loss: 0.2168 - vae_r_loss: 0.1265 - vae_kl_loss: 0.0902 - val_loss: 2604.8293 - val_vae_r_loss: 2597.2607 - val_vae_kl_loss: 2.0006\n",
      "Epoch 51/100\n",
      "28/31 [==========================>...] - ETA: 0s - loss: 0.1750 - vae_r_loss: 0.1056 - vae_kl_loss: 0.0694"
     ]
    },
    {
     "ename": "KeyboardInterrupt",
     "evalue": "",
     "output_type": "error",
     "traceback": [
      "\u001b[0;31m---------------------------------------------------------------------------\u001b[0m",
      "\u001b[0;31mKeyboardInterrupt\u001b[0m                         Traceback (most recent call last)",
      "\u001b[0;32m<ipython-input-8-ff752c89732f>\u001b[0m in \u001b[0;36m<module>\u001b[0;34m\u001b[0m\n\u001b[1;32m      5\u001b[0m           \u001b[0mimage_periodicity\u001b[0m \u001b[0;34m=\u001b[0m \u001b[0mimage_periodicity\u001b[0m\u001b[0;34m,\u001b[0m\u001b[0;34m\u001b[0m\u001b[0;34m\u001b[0m\u001b[0m\n\u001b[1;32m      6\u001b[0m           \u001b[0mchkpt_periodicity\u001b[0m \u001b[0;34m=\u001b[0m \u001b[0mchkpt_periodicity\u001b[0m\u001b[0;34m,\u001b[0m\u001b[0;34m\u001b[0m\u001b[0;34m\u001b[0m\u001b[0m\n\u001b[0;32m----> 7\u001b[0;31m           \u001b[0minitial_epoch\u001b[0m     \u001b[0;34m=\u001b[0m \u001b[0minitial_epoch\u001b[0m\u001b[0;34m\u001b[0m\u001b[0;34m\u001b[0m\u001b[0m\n\u001b[0m\u001b[1;32m      8\u001b[0m          )\n",
      "\u001b[0;32m~/fidle/VAE/modules/vae.py\u001b[0m in \u001b[0;36mtrain\u001b[0;34m(self, x_train, x_test, data_generator, batch_size, epochs, image_periodicity, chkpt_periodicity, initial_epoch, k_size)\u001b[0m\n\u001b[1;32m    236\u001b[0m                                           \u001b[0minitial_epoch\u001b[0m \u001b[0;34m=\u001b[0m \u001b[0minitial_epoch\u001b[0m\u001b[0;34m,\u001b[0m\u001b[0;34m\u001b[0m\u001b[0;34m\u001b[0m\u001b[0m\n\u001b[1;32m    237\u001b[0m                                           \u001b[0mcallbacks\u001b[0m \u001b[0;34m=\u001b[0m \u001b[0;34m[\u001b[0m\u001b[0;34m]\u001b[0m\u001b[0;34m,\u001b[0m \u001b[0;31m#callbacks_list,\u001b[0m\u001b[0;34m\u001b[0m\u001b[0;34m\u001b[0m\u001b[0m\n\u001b[0;32m--> 238\u001b[0;31m                                           \u001b[0mvalidation_data\u001b[0m \u001b[0;34m=\u001b[0m \u001b[0;34m(\u001b[0m\u001b[0mx_test\u001b[0m\u001b[0;34m,\u001b[0m \u001b[0mx_test\u001b[0m\u001b[0;34m)\u001b[0m\u001b[0;34m\u001b[0m\u001b[0;34m\u001b[0m\u001b[0m\n\u001b[0m\u001b[1;32m    239\u001b[0m                                          )\n\u001b[1;32m    240\u001b[0m \u001b[0;34m\u001b[0m\u001b[0m\n",
      "\u001b[0;32m~/.conda/envs/deeplearning2/lib/python3.7/site-packages/tensorflow_core/python/keras/engine/training.py\u001b[0m in \u001b[0;36mfit\u001b[0;34m(self, x, y, batch_size, epochs, verbose, callbacks, validation_split, validation_data, shuffle, class_weight, sample_weight, initial_epoch, steps_per_epoch, validation_steps, validation_freq, max_queue_size, workers, use_multiprocessing, **kwargs)\u001b[0m\n\u001b[1;32m    726\u001b[0m         \u001b[0mmax_queue_size\u001b[0m\u001b[0;34m=\u001b[0m\u001b[0mmax_queue_size\u001b[0m\u001b[0;34m,\u001b[0m\u001b[0;34m\u001b[0m\u001b[0;34m\u001b[0m\u001b[0m\n\u001b[1;32m    727\u001b[0m         \u001b[0mworkers\u001b[0m\u001b[0;34m=\u001b[0m\u001b[0mworkers\u001b[0m\u001b[0;34m,\u001b[0m\u001b[0;34m\u001b[0m\u001b[0;34m\u001b[0m\u001b[0m\n\u001b[0;32m--> 728\u001b[0;31m         use_multiprocessing=use_multiprocessing)\n\u001b[0m\u001b[1;32m    729\u001b[0m \u001b[0;34m\u001b[0m\u001b[0m\n\u001b[1;32m    730\u001b[0m   def evaluate(self,\n",
      "\u001b[0;32m~/.conda/envs/deeplearning2/lib/python3.7/site-packages/tensorflow_core/python/keras/engine/training_generator.py\u001b[0m in \u001b[0;36mfit\u001b[0;34m(self, model, x, y, batch_size, epochs, verbose, callbacks, validation_split, validation_data, shuffle, class_weight, sample_weight, initial_epoch, steps_per_epoch, validation_steps, validation_freq, max_queue_size, workers, use_multiprocessing)\u001b[0m\n\u001b[1;32m    601\u001b[0m         \u001b[0mshuffle\u001b[0m\u001b[0;34m=\u001b[0m\u001b[0mshuffle\u001b[0m\u001b[0;34m,\u001b[0m\u001b[0;34m\u001b[0m\u001b[0;34m\u001b[0m\u001b[0m\n\u001b[1;32m    602\u001b[0m         \u001b[0minitial_epoch\u001b[0m\u001b[0;34m=\u001b[0m\u001b[0minitial_epoch\u001b[0m\u001b[0;34m,\u001b[0m\u001b[0;34m\u001b[0m\u001b[0;34m\u001b[0m\u001b[0m\n\u001b[0;32m--> 603\u001b[0;31m         steps_name='steps_per_epoch')\n\u001b[0m\u001b[1;32m    604\u001b[0m \u001b[0;34m\u001b[0m\u001b[0m\n\u001b[1;32m    605\u001b[0m   def evaluate(self,\n",
      "\u001b[0;32m~/.conda/envs/deeplearning2/lib/python3.7/site-packages/tensorflow_core/python/keras/engine/training_generator.py\u001b[0m in \u001b[0;36mmodel_iteration\u001b[0;34m(model, data, steps_per_epoch, epochs, verbose, callbacks, validation_data, validation_steps, validation_freq, class_weight, max_queue_size, workers, use_multiprocessing, shuffle, initial_epoch, mode, batch_size, steps_name, **kwargs)\u001b[0m\n\u001b[1;32m    321\u001b[0m           \u001b[0mverbose\u001b[0m\u001b[0;34m=\u001b[0m\u001b[0;36m0\u001b[0m\u001b[0;34m,\u001b[0m\u001b[0;34m\u001b[0m\u001b[0;34m\u001b[0m\u001b[0m\n\u001b[1;32m    322\u001b[0m           \u001b[0mmode\u001b[0m\u001b[0;34m=\u001b[0m\u001b[0mModeKeys\u001b[0m\u001b[0;34m.\u001b[0m\u001b[0mTEST\u001b[0m\u001b[0;34m,\u001b[0m\u001b[0;34m\u001b[0m\u001b[0;34m\u001b[0m\u001b[0m\n\u001b[0;32m--> 323\u001b[0;31m           steps_name='validation_steps')\n\u001b[0m\u001b[1;32m    324\u001b[0m \u001b[0;34m\u001b[0m\u001b[0m\n\u001b[1;32m    325\u001b[0m       \u001b[0;32mif\u001b[0m \u001b[0;32mnot\u001b[0m \u001b[0misinstance\u001b[0m\u001b[0;34m(\u001b[0m\u001b[0mval_results\u001b[0m\u001b[0;34m,\u001b[0m \u001b[0mlist\u001b[0m\u001b[0;34m)\u001b[0m\u001b[0;34m:\u001b[0m\u001b[0;34m\u001b[0m\u001b[0;34m\u001b[0m\u001b[0m\n",
      "\u001b[0;32m~/.conda/envs/deeplearning2/lib/python3.7/site-packages/tensorflow_core/python/keras/engine/training_generator.py\u001b[0m in \u001b[0;36mmodel_iteration\u001b[0;34m(model, data, steps_per_epoch, epochs, verbose, callbacks, validation_data, validation_steps, validation_freq, class_weight, max_queue_size, workers, use_multiprocessing, shuffle, initial_epoch, mode, batch_size, steps_name, **kwargs)\u001b[0m\n\u001b[1;32m    161\u001b[0m         \u001b[0muse_multiprocessing\u001b[0m\u001b[0;34m=\u001b[0m\u001b[0muse_multiprocessing\u001b[0m\u001b[0;34m,\u001b[0m\u001b[0;34m\u001b[0m\u001b[0;34m\u001b[0m\u001b[0m\n\u001b[1;32m    162\u001b[0m         \u001b[0mmax_queue_size\u001b[0m\u001b[0;34m=\u001b[0m\u001b[0mmax_queue_size\u001b[0m\u001b[0;34m,\u001b[0m\u001b[0;34m\u001b[0m\u001b[0;34m\u001b[0m\u001b[0m\n\u001b[0;32m--> 163\u001b[0;31m         shuffle=shuffle)\n\u001b[0m\u001b[1;32m    164\u001b[0m \u001b[0;34m\u001b[0m\u001b[0m\n\u001b[1;32m    165\u001b[0m   num_samples_or_steps, use_steps = _get_num_samples_or_steps(\n",
      "\u001b[0;32m~/.conda/envs/deeplearning2/lib/python3.7/site-packages/tensorflow_core/python/keras/engine/training_generator.py\u001b[0m in \u001b[0;36m_make_enqueued_generator\u001b[0;34m(generator, workers, use_multiprocessing, max_queue_size, shuffle)\u001b[0m\n\u001b[1;32m    513\u001b[0m       enqueuer = data_utils.GeneratorEnqueuer(\n\u001b[1;32m    514\u001b[0m           generator, use_multiprocessing=use_multiprocessing)\n\u001b[0;32m--> 515\u001b[0;31m     \u001b[0menqueuer\u001b[0m\u001b[0;34m.\u001b[0m\u001b[0mstart\u001b[0m\u001b[0;34m(\u001b[0m\u001b[0mworkers\u001b[0m\u001b[0;34m=\u001b[0m\u001b[0mworkers\u001b[0m\u001b[0;34m,\u001b[0m \u001b[0mmax_queue_size\u001b[0m\u001b[0;34m=\u001b[0m\u001b[0mmax_queue_size\u001b[0m\u001b[0;34m)\u001b[0m\u001b[0;34m\u001b[0m\u001b[0;34m\u001b[0m\u001b[0m\n\u001b[0m\u001b[1;32m    516\u001b[0m     \u001b[0moutput_generator\u001b[0m \u001b[0;34m=\u001b[0m \u001b[0menqueuer\u001b[0m\u001b[0;34m.\u001b[0m\u001b[0mget\u001b[0m\u001b[0;34m(\u001b[0m\u001b[0;34m)\u001b[0m\u001b[0;34m\u001b[0m\u001b[0;34m\u001b[0m\u001b[0m\n\u001b[1;32m    517\u001b[0m   \u001b[0;32melse\u001b[0m\u001b[0;34m:\u001b[0m\u001b[0;34m\u001b[0m\u001b[0;34m\u001b[0m\u001b[0m\n",
      "\u001b[0;32m~/.conda/envs/deeplearning2/lib/python3.7/site-packages/tensorflow_core/python/keras/utils/data_utils.py\u001b[0m in \u001b[0;36mstart\u001b[0;34m(self, workers, max_queue_size)\u001b[0m\n\u001b[1;32m    645\u001b[0m     \u001b[0mself\u001b[0m\u001b[0;34m.\u001b[0m\u001b[0mrun_thread\u001b[0m \u001b[0;34m=\u001b[0m \u001b[0mthreading\u001b[0m\u001b[0;34m.\u001b[0m\u001b[0mThread\u001b[0m\u001b[0;34m(\u001b[0m\u001b[0mtarget\u001b[0m\u001b[0;34m=\u001b[0m\u001b[0mself\u001b[0m\u001b[0;34m.\u001b[0m\u001b[0m_run\u001b[0m\u001b[0;34m)\u001b[0m\u001b[0;34m\u001b[0m\u001b[0;34m\u001b[0m\u001b[0m\n\u001b[1;32m    646\u001b[0m     \u001b[0mself\u001b[0m\u001b[0;34m.\u001b[0m\u001b[0mrun_thread\u001b[0m\u001b[0;34m.\u001b[0m\u001b[0mdaemon\u001b[0m \u001b[0;34m=\u001b[0m \u001b[0;32mTrue\u001b[0m\u001b[0;34m\u001b[0m\u001b[0;34m\u001b[0m\u001b[0m\n\u001b[0;32m--> 647\u001b[0;31m     \u001b[0mself\u001b[0m\u001b[0;34m.\u001b[0m\u001b[0mrun_thread\u001b[0m\u001b[0;34m.\u001b[0m\u001b[0mstart\u001b[0m\u001b[0;34m(\u001b[0m\u001b[0;34m)\u001b[0m\u001b[0;34m\u001b[0m\u001b[0;34m\u001b[0m\u001b[0m\n\u001b[0m\u001b[1;32m    648\u001b[0m \u001b[0;34m\u001b[0m\u001b[0m\n\u001b[1;32m    649\u001b[0m   \u001b[0;32mdef\u001b[0m \u001b[0m_send_sequence\u001b[0m\u001b[0;34m(\u001b[0m\u001b[0mself\u001b[0m\u001b[0;34m)\u001b[0m\u001b[0;34m:\u001b[0m\u001b[0;34m\u001b[0m\u001b[0;34m\u001b[0m\u001b[0m\n",
      "\u001b[0;32m~/.conda/envs/deeplearning2/lib/python3.7/threading.py\u001b[0m in \u001b[0;36mstart\u001b[0;34m(self)\u001b[0m\n\u001b[1;32m    855\u001b[0m                 \u001b[0;32mdel\u001b[0m \u001b[0m_limbo\u001b[0m\u001b[0;34m[\u001b[0m\u001b[0mself\u001b[0m\u001b[0;34m]\u001b[0m\u001b[0;34m\u001b[0m\u001b[0;34m\u001b[0m\u001b[0m\n\u001b[1;32m    856\u001b[0m             \u001b[0;32mraise\u001b[0m\u001b[0;34m\u001b[0m\u001b[0;34m\u001b[0m\u001b[0m\n\u001b[0;32m--> 857\u001b[0;31m         \u001b[0mself\u001b[0m\u001b[0;34m.\u001b[0m\u001b[0m_started\u001b[0m\u001b[0;34m.\u001b[0m\u001b[0mwait\u001b[0m\u001b[0;34m(\u001b[0m\u001b[0;34m)\u001b[0m\u001b[0;34m\u001b[0m\u001b[0;34m\u001b[0m\u001b[0m\n\u001b[0m\u001b[1;32m    858\u001b[0m \u001b[0;34m\u001b[0m\u001b[0m\n\u001b[1;32m    859\u001b[0m     \u001b[0;32mdef\u001b[0m \u001b[0mrun\u001b[0m\u001b[0;34m(\u001b[0m\u001b[0mself\u001b[0m\u001b[0;34m)\u001b[0m\u001b[0;34m:\u001b[0m\u001b[0;34m\u001b[0m\u001b[0;34m\u001b[0m\u001b[0m\n",
      "\u001b[0;32m~/.conda/envs/deeplearning2/lib/python3.7/threading.py\u001b[0m in \u001b[0;36mwait\u001b[0;34m(self, timeout)\u001b[0m\n\u001b[1;32m    550\u001b[0m             \u001b[0msignaled\u001b[0m \u001b[0;34m=\u001b[0m \u001b[0mself\u001b[0m\u001b[0;34m.\u001b[0m\u001b[0m_flag\u001b[0m\u001b[0;34m\u001b[0m\u001b[0;34m\u001b[0m\u001b[0m\n\u001b[1;32m    551\u001b[0m             \u001b[0;32mif\u001b[0m \u001b[0;32mnot\u001b[0m \u001b[0msignaled\u001b[0m\u001b[0;34m:\u001b[0m\u001b[0;34m\u001b[0m\u001b[0;34m\u001b[0m\u001b[0m\n\u001b[0;32m--> 552\u001b[0;31m                 \u001b[0msignaled\u001b[0m \u001b[0;34m=\u001b[0m \u001b[0mself\u001b[0m\u001b[0;34m.\u001b[0m\u001b[0m_cond\u001b[0m\u001b[0;34m.\u001b[0m\u001b[0mwait\u001b[0m\u001b[0;34m(\u001b[0m\u001b[0mtimeout\u001b[0m\u001b[0;34m)\u001b[0m\u001b[0;34m\u001b[0m\u001b[0;34m\u001b[0m\u001b[0m\n\u001b[0m\u001b[1;32m    553\u001b[0m             \u001b[0;32mreturn\u001b[0m \u001b[0msignaled\u001b[0m\u001b[0;34m\u001b[0m\u001b[0;34m\u001b[0m\u001b[0m\n\u001b[1;32m    554\u001b[0m \u001b[0;34m\u001b[0m\u001b[0m\n",
      "\u001b[0;32m~/.conda/envs/deeplearning2/lib/python3.7/threading.py\u001b[0m in \u001b[0;36mwait\u001b[0;34m(self, timeout)\u001b[0m\n\u001b[1;32m    294\u001b[0m         \u001b[0;32mtry\u001b[0m\u001b[0;34m:\u001b[0m    \u001b[0;31m# restore state no matter what (e.g., KeyboardInterrupt)\u001b[0m\u001b[0;34m\u001b[0m\u001b[0;34m\u001b[0m\u001b[0m\n\u001b[1;32m    295\u001b[0m             \u001b[0;32mif\u001b[0m \u001b[0mtimeout\u001b[0m \u001b[0;32mis\u001b[0m \u001b[0;32mNone\u001b[0m\u001b[0;34m:\u001b[0m\u001b[0;34m\u001b[0m\u001b[0;34m\u001b[0m\u001b[0m\n\u001b[0;32m--> 296\u001b[0;31m                 \u001b[0mwaiter\u001b[0m\u001b[0;34m.\u001b[0m\u001b[0macquire\u001b[0m\u001b[0;34m(\u001b[0m\u001b[0;34m)\u001b[0m\u001b[0;34m\u001b[0m\u001b[0;34m\u001b[0m\u001b[0m\n\u001b[0m\u001b[1;32m    297\u001b[0m                 \u001b[0mgotit\u001b[0m \u001b[0;34m=\u001b[0m \u001b[0;32mTrue\u001b[0m\u001b[0;34m\u001b[0m\u001b[0;34m\u001b[0m\u001b[0m\n\u001b[1;32m    298\u001b[0m             \u001b[0;32melse\u001b[0m\u001b[0;34m:\u001b[0m\u001b[0;34m\u001b[0m\u001b[0;34m\u001b[0m\u001b[0m\n",
      "\u001b[0;31mKeyboardInterrupt\u001b[0m: "
     ]
    }
   ],
   "source": [
    "vae.train(#x_train     = x_train,\n",
    "          data_generator    = data_gen,\n",
    "          x_test            = x_test,\n",
    "          epochs            = epochs,\n",
    "          image_periodicity = image_periodicity,\n",
    "          chkpt_periodicity = chkpt_periodicity,\n",
    "          initial_epoch     = initial_epoch\n",
    "         )"
   ]
  },
  {
   "cell_type": "code",
   "execution_count": null,
   "metadata": {},
   "outputs": [],
   "source": []
  },
  {
   "cell_type": "code",
   "execution_count": null,
   "metadata": {},
   "outputs": [],
   "source": []
  }
 ],
 "metadata": {
  "kernelspec": {
   "display_name": "Python 3",
   "language": "python",
   "name": "python3"
  },
  "language_info": {
   "codemirror_mode": {
    "name": "ipython",
    "version": 3
   },
   "file_extension": ".py",
   "mimetype": "text/x-python",
   "name": "python",
   "nbconvert_exporter": "python",
   "pygments_lexer": "ipython3",
   "version": "3.7.5"
  }
 },
 "nbformat": 4,
 "nbformat_minor": 4
}
