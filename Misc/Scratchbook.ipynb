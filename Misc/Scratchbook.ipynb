{
 "cells": [
  {
   "cell_type": "markdown",
   "id": "alpha-bahrain",
   "metadata": {},
   "source": [
    "<img width=\"800px\" src=\"../fidle/img/00-Fidle-header-01.svg\"></img>\n",
    "\n",
    "# <!-- TITLE --> [SCRATCH1] - Scratchbook\n",
    "<!-- DESC --> A scratchbook for small examples\n",
    "<!-- AUTHOR : Jean-Luc Parouty (CNRS/SIMaP) -->\n",
    "\n",
    "## Objectives :\n",
    " - Take a quick look at thousands of little things\n",
    "\n",
    "## Inside this scratchbook :\n",
    "\n",
    "[1 - LSTM Keras layer](#1---LSTM-Keras-layer)\n"
   ]
  },
  {
   "cell_type": "markdown",
   "id": "accessory-church",
   "metadata": {},
   "source": [
    "# One init to rule them all"
   ]
  },
  {
   "cell_type": "code",
   "execution_count": 1,
   "id": "floppy-organic",
   "metadata": {},
   "outputs": [],
   "source": [
    "import tensorflow as tf\n",
    "from tensorflow import keras\n",
    "from tensorflow.keras.callbacks import TensorBoard\n",
    "from tensorflow.keras.preprocessing.sequence import TimeseriesGenerator\n",
    "\n",
    "import numpy as np\n",
    "import math, random"
   ]
  },
  {
   "cell_type": "markdown",
   "id": "danish-rebound",
   "metadata": {},
   "source": [
    "## 1 - LSTM Keras layer"
   ]
  },
  {
   "cell_type": "code",
   "execution_count": 17,
   "id": "opposite-plasma",
   "metadata": {},
   "outputs": [
    {
     "name": "stdout",
     "output_type": "stream",
     "text": [
      "Inputs shape is :  (32, 20, 8)\n",
      "Output shape is :  (32, 16)\n"
     ]
    }
   ],
   "source": [
    "inputs  = tf.random.normal([32, 20, 8])\n",
    "\n",
    "lstm    = tf.keras.layers.LSTM(16)\n",
    "output  = lstm(inputs)\n",
    "\n",
    "print('Inputs shape is : ', inputs.shape)\n",
    "print('Output shape is : ', output.shape)"
   ]
  },
  {
   "cell_type": "code",
   "execution_count": 29,
   "id": "forbidden-murray",
   "metadata": {},
   "outputs": [
    {
     "name": "stdout",
     "output_type": "stream",
     "text": [
      "Output shape :  (32, 20, 20)\n",
      "Memory state :  (32, 20)\n",
      "Carry  state :  (32, 20)\n"
     ]
    }
   ],
   "source": [
    "lstm = tf.keras.layers.LSTM(20, return_sequences=True, return_state=True)\n",
    "\n",
    "output, memory_state, carry_state = lstm(inputs)\n",
    "\n",
    "print('Output shape : ', output.shape)\n",
    "print('Memory state : ', memory_state.shape)\n",
    "print('Carry  state : ', carry_state.shape)\n"
   ]
  },
  {
   "cell_type": "code",
   "execution_count": 30,
   "id": "verified-fruit",
   "metadata": {},
   "outputs": [
    {
     "data": {
      "text/plain": [
       "<tf.Tensor: shape=(20,), dtype=float32, numpy=\n",
       "array([-0.0174353 , -0.05081974, -0.04655018, -0.32286584,  0.04371583,\n",
       "        0.00813733,  0.19542098,  0.00932144,  0.05667783,  0.40550408,\n",
       "       -0.05310456,  0.05051089,  0.16859534, -0.15717325, -0.06320478,\n",
       "        0.08673657,  0.14486386, -0.00984205, -0.01904174,  0.18143968],\n",
       "      dtype=float32)>"
      ]
     },
     "execution_count": 30,
     "metadata": {},
     "output_type": "execute_result"
    }
   ],
   "source": [
    "# --- See the last vector of the output\n",
    "output[-1,-1]"
   ]
  },
  {
   "cell_type": "code",
   "execution_count": 33,
   "id": "homeless-library",
   "metadata": {},
   "outputs": [
    {
     "data": {
      "text/plain": [
       "<tf.Tensor: shape=(20,), dtype=float32, numpy=\n",
       "array([-0.0174353 , -0.05081974, -0.04655018, -0.32286584,  0.04371583,\n",
       "        0.00813733,  0.19542098,  0.00932144,  0.05667783,  0.40550408,\n",
       "       -0.05310456,  0.05051089,  0.16859534, -0.15717325, -0.06320478,\n",
       "        0.08673657,  0.14486386, -0.00984205, -0.01904174,  0.18143968],\n",
       "      dtype=float32)>"
      ]
     },
     "execution_count": 33,
     "metadata": {},
     "output_type": "execute_result"
    }
   ],
   "source": [
    "# ---- Memory state is the last output\n",
    "memory_state[-1]"
   ]
  },
  {
   "cell_type": "code",
   "execution_count": 32,
   "id": "preliminary-psychiatry",
   "metadata": {},
   "outputs": [
    {
     "data": {
      "text/plain": [
       "<tf.Tensor: shape=(20,), dtype=float32, numpy=\n",
       "array([-0.03481168, -0.11190109, -0.07686044, -0.74444455,  0.09519605,\n",
       "        0.01375953,  0.4971139 ,  0.02084009,  0.0941705 ,  0.6564664 ,\n",
       "       -0.07501178,  0.11393531,  0.5034484 , -0.46511504, -0.20532629,\n",
       "        0.12056433,  0.42408258, -0.01648504, -0.03014653,  0.44732788],\n",
       "      dtype=float32)>"
      ]
     },
     "execution_count": 32,
     "metadata": {},
     "output_type": "execute_result"
    }
   ],
   "source": [
    "carry_state[-1]"
   ]
  },
  {
   "cell_type": "code",
   "execution_count": null,
   "id": "heard-processing",
   "metadata": {},
   "outputs": [],
   "source": []
  }
 ],
 "metadata": {
  "kernelspec": {
   "display_name": "Python 3",
   "language": "python",
   "name": "python3"
  },
  "language_info": {
   "codemirror_mode": {
    "name": "ipython",
    "version": 3
   },
   "file_extension": ".py",
   "mimetype": "text/x-python",
   "name": "python",
   "nbconvert_exporter": "python",
   "pygments_lexer": "ipython3",
   "version": "3.8.5"
  }
 },
 "nbformat": 4,
 "nbformat_minor": 5
}
