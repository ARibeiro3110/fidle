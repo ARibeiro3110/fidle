{
 "cells": [
  {
   "cell_type": "markdown",
   "metadata": {
    "slideshow": {
     "slide_type": "slide"
    }
   },
   "source": [
    "<img width=\"800px\" src=\"../fidle/img/00-Fidle-header-01.svg\"></img>\n",
    "\n",
    "# <!-- TITLE --> [NP1] - A short introduction to Numpy\n",
    "<!-- DESC --> Numpy is an essential tool for the Scientific Python.\n",
    "<!-- AUTHOR : Jean-Luc Parouty (CNRS/SIMaP) -->\n",
    "\n",
    "## Objectives :\n",
    " - Comprendre les grands principes de Numpy et son potentiel\n",
    "\n",
    "Note : This notebook is strongly inspired by the UGA Python Introduction Course  \n",
    "See : **https://gricad-gitlab.univ-grenoble-alpes.fr/python-uga/py-training-2017**"
   ]
  },
  {
   "cell_type": "markdown",
   "metadata": {
    "slideshow": {
     "slide_type": "slide"
    }
   },
   "source": [
    "## Step 1 - Numpy the beginning\n",
    "\n",
    "Code using `numpy` usually starts with the import statement"
   ]
  },
  {
   "cell_type": "code",
   "execution_count": 1,
   "metadata": {
    "execution": {
     "iopub.execute_input": "2021-02-09T20:11:39.257967Z",
     "iopub.status.busy": "2021-02-09T20:11:39.257501Z",
     "iopub.status.idle": "2021-02-09T20:11:39.392948Z",
     "shell.execute_reply": "2021-02-09T20:11:39.393442Z"
    }
   },
   "outputs": [],
   "source": [
    "import numpy as np"
   ]
  },
  {
   "cell_type": "markdown",
   "metadata": {},
   "source": [
    "NumPy provides the type `np.ndarray`. Such array are multidimensionnal sequences of homogeneous elements. They can be created for example with the commands:"
   ]
  },
  {
   "cell_type": "code",
   "execution_count": 2,
   "metadata": {
    "execution": {
     "iopub.execute_input": "2021-02-09T20:11:39.402976Z",
     "iopub.status.busy": "2021-02-09T20:11:39.402505Z",
     "iopub.status.idle": "2021-02-09T20:11:39.404700Z",
     "shell.execute_reply": "2021-02-09T20:11:39.405182Z"
    }
   },
   "outputs": [
    {
     "data": {
      "text/plain": [
       "array([10. , 12.5, 15. , 17.5, 20. ])"
      ]
     },
     "execution_count": 1,
     "metadata": {},
     "output_type": "execute_result"
    }
   ],
   "source": [
    "# from a list\n",
    "l = [10.0, 12.5, 15.0, 17.5, 20.0]\n",
    "np.array(l)"
   ]
  },
  {
   "cell_type": "code",
   "execution_count": 3,
   "metadata": {
    "execution": {
     "iopub.execute_input": "2021-02-09T20:11:39.408383Z",
     "iopub.status.busy": "2021-02-09T20:11:39.407916Z",
     "iopub.status.idle": "2021-02-09T20:11:39.410035Z",
     "shell.execute_reply": "2021-02-09T20:11:39.410531Z"
    }
   },
   "outputs": [
    {
     "data": {
      "text/plain": [
       "array([4.65919133e-310, 0.00000000e+000, 0.00000000e+000, 0.00000000e+000])"
      ]
     },
     "execution_count": 1,
     "metadata": {},
     "output_type": "execute_result"
    }
   ],
   "source": [
    "# fast but the values can be anything\n",
    "np.empty(4)"
   ]
  },
  {
   "cell_type": "code",
   "execution_count": 4,
   "metadata": {
    "execution": {
     "iopub.execute_input": "2021-02-09T20:11:39.413780Z",
     "iopub.status.busy": "2021-02-09T20:11:39.413311Z",
     "iopub.status.idle": "2021-02-09T20:11:39.415494Z",
     "shell.execute_reply": "2021-02-09T20:11:39.415974Z"
    }
   },
   "outputs": [
    {
     "data": {
      "text/plain": [
       "array([[0., 0., 0., 0., 0., 0.],\n",
       "       [0., 0., 0., 0., 0., 0.]])"
      ]
     },
     "execution_count": 1,
     "metadata": {},
     "output_type": "execute_result"
    }
   ],
   "source": [
    "# slower than np.empty but the values are all 0.\n",
    "np.zeros([2, 6])"
   ]
  },
  {
   "cell_type": "code",
   "execution_count": 5,
   "metadata": {
    "execution": {
     "iopub.execute_input": "2021-02-09T20:11:39.419915Z",
     "iopub.status.busy": "2021-02-09T20:11:39.419444Z",
     "iopub.status.idle": "2021-02-09T20:11:39.422249Z",
     "shell.execute_reply": "2021-02-09T20:11:39.422729Z"
    }
   },
   "outputs": [
    {
     "name": "stdout",
     "output_type": "stream",
     "text": [
      "(2, 3, 4) 24 float64\n"
     ]
    },
    {
     "data": {
      "text/plain": [
       "array([[[1., 1., 1., 1.],\n",
       "        [1., 1., 1., 1.],\n",
       "        [1., 1., 1., 1.]],\n",
       "\n",
       "       [[1., 1., 1., 1.],\n",
       "        [1., 1., 1., 1.],\n",
       "        [1., 1., 1., 1.]]])"
      ]
     },
     "execution_count": 1,
     "metadata": {},
     "output_type": "execute_result"
    }
   ],
   "source": [
    "# multidimensional array\n",
    "a = np.ones([2, 3, 4])\n",
    "print(a.shape, a.size, a.dtype)\n",
    "a"
   ]
  },
  {
   "cell_type": "code",
   "execution_count": 6,
   "metadata": {
    "execution": {
     "iopub.execute_input": "2021-02-09T20:11:39.425799Z",
     "iopub.status.busy": "2021-02-09T20:11:39.425324Z",
     "iopub.status.idle": "2021-02-09T20:11:39.428019Z",
     "shell.execute_reply": "2021-02-09T20:11:39.427522Z"
    }
   },
   "outputs": [
    {
     "data": {
      "text/plain": [
       "array([0, 1, 2, 3])"
      ]
     },
     "execution_count": 1,
     "metadata": {},
     "output_type": "execute_result"
    }
   ],
   "source": [
    "# like range but produce 1D numpy array\n",
    "np.arange(4)"
   ]
  },
  {
   "cell_type": "code",
   "execution_count": 7,
   "metadata": {
    "execution": {
     "iopub.execute_input": "2021-02-09T20:11:39.431128Z",
     "iopub.status.busy": "2021-02-09T20:11:39.430662Z",
     "iopub.status.idle": "2021-02-09T20:11:39.432841Z",
     "shell.execute_reply": "2021-02-09T20:11:39.433309Z"
    }
   },
   "outputs": [
    {
     "data": {
      "text/plain": [
       "array([0., 1., 2., 3.])"
      ]
     },
     "execution_count": 1,
     "metadata": {},
     "output_type": "execute_result"
    }
   ],
   "source": [
    "# np.arange can produce arrays of floats\n",
    "np.arange(4.)"
   ]
  },
  {
   "cell_type": "code",
   "execution_count": 8,
   "metadata": {
    "execution": {
     "iopub.execute_input": "2021-02-09T20:11:39.436640Z",
     "iopub.status.busy": "2021-02-09T20:11:39.436172Z",
     "iopub.status.idle": "2021-02-09T20:11:39.438346Z",
     "shell.execute_reply": "2021-02-09T20:11:39.438829Z"
    }
   },
   "outputs": [
    {
     "data": {
      "text/plain": [
       "array([10. , 12.5, 15. , 17.5, 20. ])"
      ]
     },
     "execution_count": 1,
     "metadata": {},
     "output_type": "execute_result"
    }
   ],
   "source": [
    "# another convenient function to generate 1D arrays\n",
    "np.linspace(10, 20, 5)"
   ]
  },
  {
   "cell_type": "markdown",
   "metadata": {},
   "source": [
    "A NumPy array can be easily converted to a Python list."
   ]
  },
  {
   "cell_type": "code",
   "execution_count": 9,
   "metadata": {
    "execution": {
     "iopub.execute_input": "2021-02-09T20:11:39.442258Z",
     "iopub.status.busy": "2021-02-09T20:11:39.441789Z",
     "iopub.status.idle": "2021-02-09T20:11:39.443983Z",
     "shell.execute_reply": "2021-02-09T20:11:39.444460Z"
    }
   },
   "outputs": [
    {
     "data": {
      "text/plain": [
       "[10.0, 12.5, 15.0, 17.5, 20.0]"
      ]
     },
     "execution_count": 1,
     "metadata": {},
     "output_type": "execute_result"
    }
   ],
   "source": [
    "a = np.linspace(10, 20 ,5)\n",
    "list(a)"
   ]
  },
  {
   "cell_type": "code",
   "execution_count": 10,
   "metadata": {
    "execution": {
     "iopub.execute_input": "2021-02-09T20:11:39.447444Z",
     "iopub.status.busy": "2021-02-09T20:11:39.446982Z",
     "iopub.status.idle": "2021-02-09T20:11:39.449128Z",
     "shell.execute_reply": "2021-02-09T20:11:39.449612Z"
    }
   },
   "outputs": [
    {
     "data": {
      "text/plain": [
       "[10.0, 12.5, 15.0, 17.5, 20.0]"
      ]
     },
     "execution_count": 1,
     "metadata": {},
     "output_type": "execute_result"
    }
   ],
   "source": [
    "# Or even better\n",
    "a.tolist()"
   ]
  },
  {
   "cell_type": "markdown",
   "metadata": {
    "slideshow": {
     "slide_type": "slide"
    }
   },
   "source": [
    "## Step 2 - Access elements\n",
    "\n",
    "Elements in a `numpy` array can be accessed using indexing and slicing in any dimension. It also offers the same functionalities available in Fortan or Matlab.\n",
    "\n",
    "### 2.1 - Indexes and slices\n",
    "For example, we can create an array `A` and perform any kind of selection operations on it."
   ]
  },
  {
   "cell_type": "code",
   "execution_count": 11,
   "metadata": {
    "execution": {
     "iopub.execute_input": "2021-02-09T20:11:39.453267Z",
     "iopub.status.busy": "2021-02-09T20:11:39.452805Z",
     "iopub.status.idle": "2021-02-09T20:11:39.454988Z",
     "shell.execute_reply": "2021-02-09T20:11:39.455462Z"
    }
   },
   "outputs": [
    {
     "data": {
      "text/plain": [
       "array([[0.46485225, 0.73232722, 0.51320577, 0.14375509, 0.05170148],\n",
       "       [0.92370388, 0.0381834 , 0.107334  , 0.41029461, 0.30672234],\n",
       "       [0.63511942, 0.12015643, 0.82060024, 0.68078113, 0.58313842],\n",
       "       [0.61677487, 0.55152902, 0.87316518, 0.25162352, 0.02578575]])"
      ]
     },
     "execution_count": 1,
     "metadata": {},
     "output_type": "execute_result"
    }
   ],
   "source": [
    "A = np.random.random([4, 5])\n",
    "A"
   ]
  },
  {
   "cell_type": "code",
   "execution_count": 12,
   "metadata": {
    "execution": {
     "iopub.execute_input": "2021-02-09T20:11:39.458503Z",
     "iopub.status.busy": "2021-02-09T20:11:39.458033Z",
     "iopub.status.idle": "2021-02-09T20:11:39.460207Z",
     "shell.execute_reply": "2021-02-09T20:11:39.460690Z"
    }
   },
   "outputs": [
    {
     "data": {
      "text/plain": [
       "0.9237038849219404"
      ]
     },
     "execution_count": 1,
     "metadata": {},
     "output_type": "execute_result"
    }
   ],
   "source": [
    "# Get the element from second line, first column\n",
    "A[1, 0]"
   ]
  },
  {
   "cell_type": "code",
   "execution_count": 13,
   "metadata": {
    "execution": {
     "iopub.execute_input": "2021-02-09T20:11:39.463842Z",
     "iopub.status.busy": "2021-02-09T20:11:39.463367Z",
     "iopub.status.idle": "2021-02-09T20:11:39.465554Z",
     "shell.execute_reply": "2021-02-09T20:11:39.466028Z"
    }
   },
   "outputs": [
    {
     "data": {
      "text/plain": [
       "array([[0.46485225, 0.73232722, 0.51320577, 0.14375509, 0.05170148],\n",
       "       [0.92370388, 0.0381834 , 0.107334  , 0.41029461, 0.30672234]])"
      ]
     },
     "execution_count": 1,
     "metadata": {},
     "output_type": "execute_result"
    }
   ],
   "source": [
    "# Get the first two lines\n",
    "A[:2]"
   ]
  },
  {
   "cell_type": "code",
   "execution_count": 14,
   "metadata": {
    "execution": {
     "iopub.execute_input": "2021-02-09T20:11:39.469180Z",
     "iopub.status.busy": "2021-02-09T20:11:39.468715Z",
     "iopub.status.idle": "2021-02-09T20:11:39.470880Z",
     "shell.execute_reply": "2021-02-09T20:11:39.471354Z"
    }
   },
   "outputs": [
    {
     "data": {
      "text/plain": [
       "array([0.05170148, 0.30672234, 0.58313842, 0.02578575])"
      ]
     },
     "execution_count": 1,
     "metadata": {},
     "output_type": "execute_result"
    }
   ],
   "source": [
    "# Get the last column\n",
    "A[:, -1]"
   ]
  },
  {
   "cell_type": "code",
   "execution_count": 15,
   "metadata": {
    "execution": {
     "iopub.execute_input": "2021-02-09T20:11:39.474576Z",
     "iopub.status.busy": "2021-02-09T20:11:39.474102Z",
     "iopub.status.idle": "2021-02-09T20:11:39.476251Z",
     "shell.execute_reply": "2021-02-09T20:11:39.476732Z"
    }
   },
   "outputs": [
    {
     "data": {
      "text/plain": [
       "array([[0.46485225, 0.51320577, 0.05170148],\n",
       "       [0.92370388, 0.107334  , 0.30672234]])"
      ]
     },
     "execution_count": 1,
     "metadata": {},
     "output_type": "execute_result"
    }
   ],
   "source": [
    "# Get the first two lines and the columns with an even index\n",
    "A[:2, ::2]"
   ]
  },
  {
   "cell_type": "markdown",
   "metadata": {
    "slideshow": {
     "slide_type": "slide"
    }
   },
   "source": [
    "### 2.2 -  Using a mask to select elements validating a condition:"
   ]
  },
  {
   "cell_type": "code",
   "execution_count": 16,
   "metadata": {
    "execution": {
     "iopub.execute_input": "2021-02-09T20:11:39.480046Z",
     "iopub.status.busy": "2021-02-09T20:11:39.479572Z",
     "iopub.status.idle": "2021-02-09T20:11:39.481817Z",
     "shell.execute_reply": "2021-02-09T20:11:39.482290Z"
    }
   },
   "outputs": [
    {
     "name": "stdout",
     "output_type": "stream",
     "text": [
      "[[False  True  True False False]\n",
      " [ True False False False False]\n",
      " [ True False  True  True  True]\n",
      " [ True  True  True False False]]\n",
      "[0.73232722 0.51320577 0.92370388 0.63511942 0.82060024 0.68078113\n",
      " 0.58313842 0.61677487 0.55152902 0.87316518]\n"
     ]
    }
   ],
   "source": [
    "cond = A > 0.5\n",
    "print(cond)\n",
    "print(A[cond])"
   ]
  },
  {
   "cell_type": "markdown",
   "metadata": {},
   "source": [
    "The mask is in fact a particular case of the advanced indexing capabilities provided by NumPy. For example, it is even possible to use lists for indexing:"
   ]
  },
  {
   "cell_type": "code",
   "execution_count": 17,
   "metadata": {
    "execution": {
     "iopub.execute_input": "2021-02-09T20:11:39.486180Z",
     "iopub.status.busy": "2021-02-09T20:11:39.485712Z",
     "iopub.status.idle": "2021-02-09T20:11:39.488257Z",
     "shell.execute_reply": "2021-02-09T20:11:39.488740Z"
    }
   },
   "outputs": [
    {
     "name": "stdout",
     "output_type": "stream",
     "text": [
      "[[0.46485225 0.73232722 0.51320577 0.14375509 0.05170148]\n",
      " [0.92370388 0.0381834  0.107334   0.41029461 0.30672234]\n",
      " [0.63511942 0.12015643 0.82060024 0.68078113 0.58313842]\n",
      " [0.61677487 0.55152902 0.87316518 0.25162352 0.02578575]]\n"
     ]
    },
    {
     "data": {
      "text/plain": [
       "array([[0.46485225, 0.73232722, 0.05170148],\n",
       "       [0.92370388, 0.0381834 , 0.30672234],\n",
       "       [0.63511942, 0.12015643, 0.58313842],\n",
       "       [0.61677487, 0.55152902, 0.02578575]])"
      ]
     },
     "execution_count": 1,
     "metadata": {},
     "output_type": "execute_result"
    }
   ],
   "source": [
    "# Selecting only particular columns\n",
    "print(A)\n",
    "A[:, [0, 1, 4]]"
   ]
  },
  {
   "cell_type": "markdown",
   "metadata": {
    "slideshow": {
     "slide_type": "slide"
    }
   },
   "source": [
    "## Step 3 -  Perform array manipulations\n",
    "### 3.1 - Apply arithmetic operations to whole arrays (element-wise):"
   ]
  },
  {
   "cell_type": "code",
   "execution_count": 18,
   "metadata": {
    "execution": {
     "iopub.execute_input": "2021-02-09T20:11:39.492190Z",
     "iopub.status.busy": "2021-02-09T20:11:39.491725Z",
     "iopub.status.idle": "2021-02-09T20:11:39.493897Z",
     "shell.execute_reply": "2021-02-09T20:11:39.494374Z"
    }
   },
   "outputs": [
    {
     "data": {
      "text/plain": [
       "array([[29.86461015, 32.85957535, 30.39543781, 26.45821648, 25.5196878 ],\n",
       "       [35.09026772, 25.383292  , 26.08486056, 29.27128772, 28.16130203],\n",
       "       [31.75457084, 26.21600192, 33.8793872 , 32.27127425, 31.17143463],\n",
       "       [31.5481599 , 30.8194745 , 34.49406922, 27.57954964, 25.2585224 ]])"
      ]
     },
     "execution_count": 1,
     "metadata": {},
     "output_type": "execute_result"
    }
   ],
   "source": [
    "(A+5)**2"
   ]
  },
  {
   "cell_type": "markdown",
   "metadata": {},
   "source": [
    "### 3.2 - Apply functions element-wise:"
   ]
  },
  {
   "cell_type": "code",
   "execution_count": 19,
   "metadata": {
    "execution": {
     "iopub.execute_input": "2021-02-09T20:11:39.497791Z",
     "iopub.status.busy": "2021-02-09T20:11:39.497315Z",
     "iopub.status.idle": "2021-02-09T20:11:39.499501Z",
     "shell.execute_reply": "2021-02-09T20:11:39.499977Z"
    }
   },
   "outputs": [
    {
     "data": {
      "text/plain": [
       "array([[1.59177899, 2.0799154 , 1.67063829, 1.15460131, 1.05306133],\n",
       "       [2.51860175, 1.03892176, 1.11330603, 1.50726177, 1.35896359],\n",
       "       [1.8872475 , 1.12767324, 2.2718631 , 1.97542019, 1.79165258],\n",
       "       [1.85294241, 1.73590523, 2.39447782, 1.28611176, 1.02612108]])"
      ]
     },
     "execution_count": 1,
     "metadata": {},
     "output_type": "execute_result"
    }
   ],
   "source": [
    "np.exp(A) # With numpy arrays, use the functions from numpy !"
   ]
  },
  {
   "cell_type": "markdown",
   "metadata": {},
   "source": [
    "### 3.3 - Setting parts of arrays"
   ]
  },
  {
   "cell_type": "code",
   "execution_count": 20,
   "metadata": {
    "execution": {
     "iopub.execute_input": "2021-02-09T20:11:39.503285Z",
     "iopub.status.busy": "2021-02-09T20:11:39.502813Z",
     "iopub.status.idle": "2021-02-09T20:11:39.504840Z",
     "shell.execute_reply": "2021-02-09T20:11:39.505314Z"
    }
   },
   "outputs": [
    {
     "name": "stdout",
     "output_type": "stream",
     "text": [
      "[[0.         0.73232722 0.51320577 0.14375509 0.05170148]\n",
      " [0.         0.0381834  0.107334   0.41029461 0.30672234]\n",
      " [0.         0.12015643 0.82060024 0.68078113 0.58313842]\n",
      " [0.         0.55152902 0.87316518 0.25162352 0.02578575]]\n"
     ]
    }
   ],
   "source": [
    "A[:, 0] = 0.\n",
    "print(A)"
   ]
  },
  {
   "cell_type": "code",
   "execution_count": 21,
   "metadata": {
    "execution": {
     "iopub.execute_input": "2021-02-09T20:11:39.508851Z",
     "iopub.status.busy": "2021-02-09T20:11:39.508373Z",
     "iopub.status.idle": "2021-02-09T20:11:39.510368Z",
     "shell.execute_reply": "2021-02-09T20:11:39.510853Z"
    }
   },
   "outputs": [
    {
     "name": "stdout",
     "output_type": "stream",
     "text": [
      "[[ 0.          1.36550981  1.94853618  6.95627519 19.3418075 ]\n",
      " [ 0.         26.18938916  9.31671255  2.43727309  3.26027765]\n",
      " [ 0.          8.32248396  1.21862016  1.46890088  1.71485871]\n",
      " [ 0.          1.81314121  1.14525868  3.97419122 38.78111046]]\n"
     ]
    }
   ],
   "source": [
    "# BONUS: Safe element-wise inverse with masks\n",
    "cond = (A != 0)\n",
    "A[cond] = 1./A[cond]\n",
    "print(A)"
   ]
  },
  {
   "cell_type": "markdown",
   "metadata": {
    "slideshow": {
     "slide_type": "slide"
    }
   },
   "source": [
    "## Step 4 - Attributes and methods of `np.ndarray` (see the [doc](https://docs.scipy.org/doc/numpy/reference/generated/numpy.ndarray.html#numpy.ndarray))"
   ]
  },
  {
   "cell_type": "code",
   "execution_count": 22,
   "metadata": {
    "execution": {
     "iopub.execute_input": "2021-02-09T20:11:39.515516Z",
     "iopub.status.busy": "2021-02-09T20:11:39.514060Z",
     "iopub.status.idle": "2021-02-09T20:11:39.522128Z",
     "shell.execute_reply": "2021-02-09T20:11:39.522607Z"
    }
   },
   "outputs": [
    {
     "name": "stdout",
     "output_type": "stream",
     "text": [
      "T               all             any             argmax          argmin          argpartition    \n",
      "argsort         astype          base            byteswap        choose          clip            \n",
      "compress        conj            conjugate       copy            ctypes          cumprod         \n",
      "cumsum          data            diagonal        dot             dtype           dump            \n",
      "dumps           fill            flags           flat            flatten         getfield        \n",
      "imag            item            itemset         itemsize        max             mean            \n",
      "min             nbytes          ndim            newbyteorder    nonzero         partition       \n",
      "prod            ptp             put             ravel           real            repeat          \n",
      "reshape         resize          round           searchsorted    setfield        setflags        \n",
      "shape           size            sort            squeeze         std             strides         \n",
      "sum             swapaxes        take            tobytes         tofile          tolist          \n",
      "tostring        trace           transpose       var             view            "
     ]
    }
   ],
   "source": [
    "for i,v in enumerate([s for s in dir(A) if not s.startswith('__')]):\n",
    "    print(f'{v:16}', end='')\n",
    "    if (i+1) % 6 == 0 :print('')"
   ]
  },
  {
   "cell_type": "code",
   "execution_count": 23,
   "metadata": {
    "execution": {
     "iopub.execute_input": "2021-02-09T20:11:39.526938Z",
     "iopub.status.busy": "2021-02-09T20:11:39.526459Z",
     "iopub.status.idle": "2021-02-09T20:11:39.528811Z",
     "shell.execute_reply": "2021-02-09T20:11:39.529284Z"
    }
   },
   "outputs": [
    {
     "name": "stdout",
     "output_type": "stream",
     "text": [
      "[[ 0.          1.36550981  1.94853618  6.95627519 19.3418075 ]\n",
      " [ 0.         26.18938916  9.31671255  2.43727309  3.26027765]\n",
      " [ 0.          8.32248396  1.21862016  1.46890088  1.71485871]\n",
      " [ 0.          1.81314121  1.14525868  3.97419122 38.78111046]]\n",
      "Mean value 6.462717319910349\n",
      "Mean line [ 0.          9.42263103  3.40728189  3.70916009 15.77451358]\n",
      "Mean column [5.92242574 8.24073049 2.54497274 9.14274031]\n"
     ]
    }
   ],
   "source": [
    "\n",
    "# Ex1: Get the mean through different dimensions\n",
    "\n",
    "print(A)\n",
    "print('Mean value',  A.mean())\n",
    "print('Mean line',   A.mean(axis=0))\n",
    "print('Mean column', A.mean(axis=1))"
   ]
  },
  {
   "cell_type": "code",
   "execution_count": 24,
   "metadata": {
    "execution": {
     "iopub.execute_input": "2021-02-09T20:11:39.533234Z",
     "iopub.status.busy": "2021-02-09T20:11:39.532766Z",
     "iopub.status.idle": "2021-02-09T20:11:39.534986Z",
     "shell.execute_reply": "2021-02-09T20:11:39.535458Z"
    }
   },
   "outputs": [
    {
     "name": "stdout",
     "output_type": "stream",
     "text": [
      "[[ 0.          1.36550981  1.94853618  6.95627519 19.3418075 ]\n",
      " [ 0.         26.18938916  9.31671255  2.43727309  3.26027765]\n",
      " [ 0.          8.32248396  1.21862016  1.46890088  1.71485871]\n",
      " [ 0.          1.81314121  1.14525868  3.97419122 38.78111046]]\n",
      "(4, 5)\n",
      "[ 0.          1.36550981  1.94853618  6.95627519 19.3418075   0.\n",
      " 26.18938916  9.31671255  2.43727309  3.26027765  0.          8.32248396\n",
      "  1.21862016  1.46890088  1.71485871  0.          1.81314121  1.14525868\n",
      "  3.97419122 38.78111046] (20,)\n"
     ]
    }
   ],
   "source": [
    "\n",
    "# Ex2: Convert a 2D array in 1D keeping all elements\n",
    "\n",
    "print(A)\n",
    "print(A.shape)\n",
    "A_flat = A.flatten()\n",
    "print(A_flat, A_flat.shape)"
   ]
  },
  {
   "cell_type": "markdown",
   "metadata": {
    "slideshow": {
     "slide_type": "subslide"
    }
   },
   "source": [
    "### 4.1 - Remark: dot product"
   ]
  },
  {
   "cell_type": "code",
   "execution_count": 25,
   "metadata": {
    "execution": {
     "iopub.execute_input": "2021-02-09T20:11:39.539145Z",
     "iopub.status.busy": "2021-02-09T20:11:39.538675Z",
     "iopub.status.idle": "2021-02-09T20:11:39.540710Z",
     "shell.execute_reply": "2021-02-09T20:11:39.541185Z"
    }
   },
   "outputs": [
    {
     "name": "stdout",
     "output_type": "stream",
     "text": [
      "[ 0.  1.  2.  3.  4.  5.  6.  7.  8.  9. 10.]\n",
      "385.0\n"
     ]
    }
   ],
   "source": [
    "b = np.linspace(0, 10, 11)\n",
    "c = b @ b\n",
    "# before 3.5:\n",
    "# c = b.dot(b)\n",
    "print(b)\n",
    "print(c)"
   ]
  },
  {
   "cell_type": "markdown",
   "metadata": {},
   "source": [
    "### 4.2 -  For Matlab users\n",
    "\n",
    "|     ` `       | Matlab | Numpy |\n",
    "| ------------- | ------ | ----- |\n",
    "| element wise  |  `.*`  |  `*`  |\n",
    "|  dot product  |  `*`   |  `@`  |"
   ]
  },
  {
   "cell_type": "markdown",
   "metadata": {},
   "source": [
    "`numpy` arrays can also be sorted, even when they are composed of complex data if the type of the columns are explicitly stated with `dtypes`."
   ]
  },
  {
   "cell_type": "markdown",
   "metadata": {
    "slideshow": {
     "slide_type": "subslide"
    }
   },
   "source": [
    "### 4.3 -  NumPy and SciPy sub-packages:\n",
    "\n",
    "We already saw `numpy.random` to generate `numpy` arrays filled with random values. This submodule also provides functions related to distributions (Poisson, gaussian, etc.) and permutations."
   ]
  },
  {
   "cell_type": "markdown",
   "metadata": {},
   "source": [
    "To perform linear algebra with dense matrices, we can use the submodule `numpy.linalg`. For instance, in order to compute the determinant of a random matrix, we use the method `det`"
   ]
  },
  {
   "cell_type": "code",
   "execution_count": 26,
   "metadata": {
    "execution": {
     "iopub.execute_input": "2021-02-09T20:11:39.544855Z",
     "iopub.status.busy": "2021-02-09T20:11:39.544285Z",
     "iopub.status.idle": "2021-02-09T20:11:39.547441Z",
     "shell.execute_reply": "2021-02-09T20:11:39.547923Z"
    }
   },
   "outputs": [
    {
     "name": "stdout",
     "output_type": "stream",
     "text": [
      "[[9.56836171e-01 7.19362354e-02 2.07764602e-01 4.38405492e-01\n",
      "  8.73166351e-01]\n",
      " [1.34277360e-02 6.56361795e-01 2.30159519e-02 4.10282583e-01\n",
      "  5.00503570e-01]\n",
      " [9.68682521e-02 3.26598287e-01 3.26153408e-01 1.18674725e-04\n",
      "  5.98285842e-01]\n",
      " [9.78735713e-01 9.67735830e-01 7.99099077e-01 8.74040025e-01\n",
      "  1.00530509e-01]\n",
      " [4.52251579e-01 3.49620921e-01 8.85593416e-01 3.14769889e-01\n",
      "  1.66888836e-01]]\n"
     ]
    },
    {
     "data": {
      "text/plain": [
       "0.12696528603254728"
      ]
     },
     "execution_count": 1,
     "metadata": {},
     "output_type": "execute_result"
    }
   ],
   "source": [
    "A = np.random.random([5,5])\n",
    "print(A)\n",
    "np.linalg.det(A)"
   ]
  },
  {
   "cell_type": "code",
   "execution_count": 27,
   "metadata": {
    "execution": {
     "iopub.execute_input": "2021-02-09T20:11:39.552101Z",
     "iopub.status.busy": "2021-02-09T20:11:39.551637Z",
     "iopub.status.idle": "2021-02-09T20:11:39.554691Z",
     "shell.execute_reply": "2021-02-09T20:11:39.554193Z"
    }
   },
   "outputs": [
    {
     "name": "stdout",
     "output_type": "stream",
     "text": [
      "[[0.65636179 0.02301595]\n",
      " [0.32659829 0.32615341]]\n"
     ]
    },
    {
     "data": {
      "text/plain": [
       "array([[ 1.57899445, -0.11142628],\n",
       "       [-1.58114823,  3.17762012]])"
      ]
     },
     "execution_count": 1,
     "metadata": {},
     "output_type": "execute_result"
    }
   ],
   "source": [
    "squared_subA = A[1:3, 1:3]\n",
    "print(squared_subA)\n",
    "np.linalg.inv(squared_subA)"
   ]
  },
  {
   "cell_type": "markdown",
   "metadata": {
    "slideshow": {
     "slide_type": "slide"
    }
   },
   "source": [
    "### 4.4 -  Introduction to Pandas: Python Data Analysis Library\n",
    "\n",
    "Pandas is an open source library providing high-performance, easy-to-use data structures and data analysis tools for Python.\n",
    "\n",
    "[Pandas tutorial](https://pandas.pydata.org/pandas-docs/stable/10min.html)\n",
    "[Grenoble Python Working Session](https://github.com/iutzeler/Pres_Pandas/)\n",
    "[Pandas for SQL Users](http://sergilehkyi.com/translating-sql-to-pandas/)\n",
    "[Pandas Introduction Training HPC Python@UGA](https://gricad-gitlab.univ-grenoble-alpes.fr/python-uga/training-hpc/-/blob/master/ipynb/11_pandas.ipynb)"
   ]
  },
  {
   "cell_type": "markdown",
   "metadata": {},
   "source": [
    "---\n",
    "<img width=\"80px\" src=\"../fidle/img/00-Fidle-logo-01.svg\"></img>"
   ]
  }
 ],
 "metadata": {
  "celltoolbar": "Diaporama",
  "kernelspec": {
   "display_name": "Python 3",
   "language": "python",
   "name": "python3"
  },
  "language_info": {
   "codemirror_mode": {
    "name": "ipython",
    "version": 3
   },
   "file_extension": ".py",
   "mimetype": "text/x-python",
   "name": "python",
   "nbconvert_exporter": "python",
   "pygments_lexer": "ipython3",
   "version": "3.7.9"
  }
 },
 "nbformat": 4,
 "nbformat_minor": 4
}
