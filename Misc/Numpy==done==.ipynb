{
 "cells": [
  {
   "cell_type": "markdown",
   "metadata": {
    "slideshow": {
     "slide_type": "slide"
    }
   },
   "source": [
    "<img width=\"800px\" src=\"../fidle/img/00-Fidle-header-01.svg\"></img>\n",
    "\n",
    "# <!-- TITLE --> [NP1] - A short introduction to Numpy\n",
    "<!-- DESC --> Numpy is an essential tool for the Scientific Python.\n",
    "<!-- AUTHOR : Jean-Luc Parouty (CNRS/SIMaP) -->\n",
    "\n",
    "## Objectives :\n",
    " - Comprendre les grands principes de Numpy et son potentiel\n",
    "\n",
    "Note : This notebook is strongly inspired by the UGA Python Introduction Course  \n",
    "See : **https://gricad-gitlab.univ-grenoble-alpes.fr/python-uga/py-training-2017**"
   ]
  },
  {
   "cell_type": "markdown",
   "metadata": {
    "slideshow": {
     "slide_type": "slide"
    }
   },
   "source": [
    "## Step 1 - Numpy the beginning\n",
    "\n",
    "Code using `numpy` usually starts with the import statement"
   ]
  },
  {
   "cell_type": "code",
   "execution_count": 1,
   "metadata": {
    "execution": {
     "iopub.execute_input": "2021-03-01T20:45:28.798736Z",
     "iopub.status.busy": "2021-03-01T20:45:28.798263Z",
     "iopub.status.idle": "2021-03-01T20:45:28.934916Z",
     "shell.execute_reply": "2021-03-01T20:45:28.934296Z"
    }
   },
   "outputs": [],
   "source": [
    "import numpy as np"
   ]
  },
  {
   "cell_type": "markdown",
   "metadata": {},
   "source": [
    "NumPy provides the type `np.ndarray`. Such array are multidimensionnal sequences of homogeneous elements. They can be created for example with the commands:"
   ]
  },
  {
   "cell_type": "code",
   "execution_count": 2,
   "metadata": {
    "execution": {
     "iopub.execute_input": "2021-03-01T20:45:28.944369Z",
     "iopub.status.busy": "2021-03-01T20:45:28.943893Z",
     "iopub.status.idle": "2021-03-01T20:45:28.946668Z",
     "shell.execute_reply": "2021-03-01T20:45:28.946156Z"
    }
   },
   "outputs": [
    {
     "data": {
      "text/plain": [
       "array([10. , 12.5, 15. , 17.5, 20. ])"
      ]
     },
     "execution_count": 1,
     "metadata": {},
     "output_type": "execute_result"
    }
   ],
   "source": [
    "# from a list\n",
    "l = [10.0, 12.5, 15.0, 17.5, 20.0]\n",
    "np.array(l)"
   ]
  },
  {
   "cell_type": "code",
   "execution_count": 3,
   "metadata": {
    "execution": {
     "iopub.execute_input": "2021-03-01T20:45:28.949892Z",
     "iopub.status.busy": "2021-03-01T20:45:28.949413Z",
     "iopub.status.idle": "2021-03-01T20:45:28.951595Z",
     "shell.execute_reply": "2021-03-01T20:45:28.952087Z"
    }
   },
   "outputs": [
    {
     "data": {
      "text/plain": [
       "array([4.66119024e-310, 0.00000000e+000, 0.00000000e+000, 1.13663970e-310])"
      ]
     },
     "execution_count": 1,
     "metadata": {},
     "output_type": "execute_result"
    }
   ],
   "source": [
    "# fast but the values can be anything\n",
    "np.empty(4)"
   ]
  },
  {
   "cell_type": "code",
   "execution_count": 4,
   "metadata": {
    "execution": {
     "iopub.execute_input": "2021-03-01T20:45:28.955355Z",
     "iopub.status.busy": "2021-03-01T20:45:28.954866Z",
     "iopub.status.idle": "2021-03-01T20:45:28.957042Z",
     "shell.execute_reply": "2021-03-01T20:45:28.957528Z"
    }
   },
   "outputs": [
    {
     "data": {
      "text/plain": [
       "array([[0., 0., 0., 0., 0., 0.],\n",
       "       [0., 0., 0., 0., 0., 0.]])"
      ]
     },
     "execution_count": 1,
     "metadata": {},
     "output_type": "execute_result"
    }
   ],
   "source": [
    "# slower than np.empty but the values are all 0.\n",
    "np.zeros([2, 6])"
   ]
  },
  {
   "cell_type": "code",
   "execution_count": 5,
   "metadata": {
    "execution": {
     "iopub.execute_input": "2021-03-01T20:45:28.961505Z",
     "iopub.status.busy": "2021-03-01T20:45:28.961030Z",
     "iopub.status.idle": "2021-03-01T20:45:28.963897Z",
     "shell.execute_reply": "2021-03-01T20:45:28.964381Z"
    }
   },
   "outputs": [
    {
     "name": "stdout",
     "output_type": "stream",
     "text": [
      "(2, 3, 4) 24 float64\n"
     ]
    },
    {
     "data": {
      "text/plain": [
       "array([[[1., 1., 1., 1.],\n",
       "        [1., 1., 1., 1.],\n",
       "        [1., 1., 1., 1.]],\n",
       "\n",
       "       [[1., 1., 1., 1.],\n",
       "        [1., 1., 1., 1.],\n",
       "        [1., 1., 1., 1.]]])"
      ]
     },
     "execution_count": 1,
     "metadata": {},
     "output_type": "execute_result"
    }
   ],
   "source": [
    "# multidimensional array\n",
    "a = np.ones([2, 3, 4])\n",
    "print(a.shape, a.size, a.dtype)\n",
    "a"
   ]
  },
  {
   "cell_type": "code",
   "execution_count": 6,
   "metadata": {
    "execution": {
     "iopub.execute_input": "2021-03-01T20:45:28.967491Z",
     "iopub.status.busy": "2021-03-01T20:45:28.967017Z",
     "iopub.status.idle": "2021-03-01T20:45:28.969125Z",
     "shell.execute_reply": "2021-03-01T20:45:28.969614Z"
    }
   },
   "outputs": [
    {
     "data": {
      "text/plain": [
       "array([0, 1, 2, 3])"
      ]
     },
     "execution_count": 1,
     "metadata": {},
     "output_type": "execute_result"
    }
   ],
   "source": [
    "# like range but produce 1D numpy array\n",
    "np.arange(4)"
   ]
  },
  {
   "cell_type": "code",
   "execution_count": 7,
   "metadata": {
    "execution": {
     "iopub.execute_input": "2021-03-01T20:45:28.972765Z",
     "iopub.status.busy": "2021-03-01T20:45:28.972290Z",
     "iopub.status.idle": "2021-03-01T20:45:28.974436Z",
     "shell.execute_reply": "2021-03-01T20:45:28.974929Z"
    }
   },
   "outputs": [
    {
     "data": {
      "text/plain": [
       "array([0., 1., 2., 3.])"
      ]
     },
     "execution_count": 1,
     "metadata": {},
     "output_type": "execute_result"
    }
   ],
   "source": [
    "# np.arange can produce arrays of floats\n",
    "np.arange(4.)"
   ]
  },
  {
   "cell_type": "code",
   "execution_count": 8,
   "metadata": {
    "execution": {
     "iopub.execute_input": "2021-03-01T20:45:28.978263Z",
     "iopub.status.busy": "2021-03-01T20:45:28.977779Z",
     "iopub.status.idle": "2021-03-01T20:45:28.979948Z",
     "shell.execute_reply": "2021-03-01T20:45:28.980444Z"
    }
   },
   "outputs": [
    {
     "data": {
      "text/plain": [
       "array([10. , 12.5, 15. , 17.5, 20. ])"
      ]
     },
     "execution_count": 1,
     "metadata": {},
     "output_type": "execute_result"
    }
   ],
   "source": [
    "# another convenient function to generate 1D arrays\n",
    "np.linspace(10, 20, 5)"
   ]
  },
  {
   "cell_type": "markdown",
   "metadata": {},
   "source": [
    "A NumPy array can be easily converted to a Python list."
   ]
  },
  {
   "cell_type": "code",
   "execution_count": 9,
   "metadata": {
    "execution": {
     "iopub.execute_input": "2021-03-01T20:45:28.983931Z",
     "iopub.status.busy": "2021-03-01T20:45:28.983446Z",
     "iopub.status.idle": "2021-03-01T20:45:28.985634Z",
     "shell.execute_reply": "2021-03-01T20:45:28.986141Z"
    }
   },
   "outputs": [
    {
     "data": {
      "text/plain": [
       "[10.0, 12.5, 15.0, 17.5, 20.0]"
      ]
     },
     "execution_count": 1,
     "metadata": {},
     "output_type": "execute_result"
    }
   ],
   "source": [
    "a = np.linspace(10, 20 ,5)\n",
    "list(a)"
   ]
  },
  {
   "cell_type": "code",
   "execution_count": 10,
   "metadata": {
    "execution": {
     "iopub.execute_input": "2021-03-01T20:45:28.989188Z",
     "iopub.status.busy": "2021-03-01T20:45:28.988704Z",
     "iopub.status.idle": "2021-03-01T20:45:28.990891Z",
     "shell.execute_reply": "2021-03-01T20:45:28.991381Z"
    }
   },
   "outputs": [
    {
     "data": {
      "text/plain": [
       "[10.0, 12.5, 15.0, 17.5, 20.0]"
      ]
     },
     "execution_count": 1,
     "metadata": {},
     "output_type": "execute_result"
    }
   ],
   "source": [
    "# Or even better\n",
    "a.tolist()"
   ]
  },
  {
   "cell_type": "markdown",
   "metadata": {
    "slideshow": {
     "slide_type": "slide"
    }
   },
   "source": [
    "## Step 2 - Access elements\n",
    "\n",
    "Elements in a `numpy` array can be accessed using indexing and slicing in any dimension. It also offers the same functionalities available in Fortan or Matlab.\n",
    "\n",
    "### 2.1 - Indexes and slices\n",
    "For example, we can create an array `A` and perform any kind of selection operations on it."
   ]
  },
  {
   "cell_type": "code",
   "execution_count": 11,
   "metadata": {
    "execution": {
     "iopub.execute_input": "2021-03-01T20:45:28.995101Z",
     "iopub.status.busy": "2021-03-01T20:45:28.994614Z",
     "iopub.status.idle": "2021-03-01T20:45:28.996853Z",
     "shell.execute_reply": "2021-03-01T20:45:28.997350Z"
    }
   },
   "outputs": [
    {
     "data": {
      "text/plain": [
       "array([[0.68466038, 0.10212594, 0.858061  , 0.61606751, 0.56962721],\n",
       "       [0.05245775, 0.12954074, 0.49620453, 0.64202354, 0.9178979 ],\n",
       "       [0.02578128, 0.47428909, 0.47421845, 0.6399125 , 0.06569729],\n",
       "       [0.18209463, 0.17988008, 0.34872391, 0.88722222, 0.19661421]])"
      ]
     },
     "execution_count": 1,
     "metadata": {},
     "output_type": "execute_result"
    }
   ],
   "source": [
    "A = np.random.random([4, 5])\n",
    "A"
   ]
  },
  {
   "cell_type": "code",
   "execution_count": 12,
   "metadata": {
    "execution": {
     "iopub.execute_input": "2021-03-01T20:45:29.000412Z",
     "iopub.status.busy": "2021-03-01T20:45:28.999933Z",
     "iopub.status.idle": "2021-03-01T20:45:29.002138Z",
     "shell.execute_reply": "2021-03-01T20:45:29.002630Z"
    }
   },
   "outputs": [
    {
     "data": {
      "text/plain": [
       "0.052457754929972844"
      ]
     },
     "execution_count": 1,
     "metadata": {},
     "output_type": "execute_result"
    }
   ],
   "source": [
    "# Get the element from second line, first column\n",
    "A[1, 0]"
   ]
  },
  {
   "cell_type": "code",
   "execution_count": 13,
   "metadata": {
    "execution": {
     "iopub.execute_input": "2021-03-01T20:45:29.005808Z",
     "iopub.status.busy": "2021-03-01T20:45:29.005336Z",
     "iopub.status.idle": "2021-03-01T20:45:29.007485Z",
     "shell.execute_reply": "2021-03-01T20:45:29.007985Z"
    }
   },
   "outputs": [
    {
     "data": {
      "text/plain": [
       "array([[0.68466038, 0.10212594, 0.858061  , 0.61606751, 0.56962721],\n",
       "       [0.05245775, 0.12954074, 0.49620453, 0.64202354, 0.9178979 ]])"
      ]
     },
     "execution_count": 1,
     "metadata": {},
     "output_type": "execute_result"
    }
   ],
   "source": [
    "# Get the first two lines\n",
    "A[:2]"
   ]
  },
  {
   "cell_type": "code",
   "execution_count": 14,
   "metadata": {
    "execution": {
     "iopub.execute_input": "2021-03-01T20:45:29.011168Z",
     "iopub.status.busy": "2021-03-01T20:45:29.010684Z",
     "iopub.status.idle": "2021-03-01T20:45:29.012888Z",
     "shell.execute_reply": "2021-03-01T20:45:29.013380Z"
    }
   },
   "outputs": [
    {
     "data": {
      "text/plain": [
       "array([0.56962721, 0.9178979 , 0.06569729, 0.19661421])"
      ]
     },
     "execution_count": 1,
     "metadata": {},
     "output_type": "execute_result"
    }
   ],
   "source": [
    "# Get the last column\n",
    "A[:, -1]"
   ]
  },
  {
   "cell_type": "code",
   "execution_count": 15,
   "metadata": {
    "execution": {
     "iopub.execute_input": "2021-03-01T20:45:29.016595Z",
     "iopub.status.busy": "2021-03-01T20:45:29.016117Z",
     "iopub.status.idle": "2021-03-01T20:45:29.018278Z",
     "shell.execute_reply": "2021-03-01T20:45:29.018769Z"
    }
   },
   "outputs": [
    {
     "data": {
      "text/plain": [
       "array([[0.68466038, 0.858061  , 0.56962721],\n",
       "       [0.05245775, 0.49620453, 0.9178979 ]])"
      ]
     },
     "execution_count": 1,
     "metadata": {},
     "output_type": "execute_result"
    }
   ],
   "source": [
    "# Get the first two lines and the columns with an even index\n",
    "A[:2, ::2]"
   ]
  },
  {
   "cell_type": "markdown",
   "metadata": {
    "slideshow": {
     "slide_type": "slide"
    }
   },
   "source": [
    "### 2.2 -  Using a mask to select elements validating a condition:"
   ]
  },
  {
   "cell_type": "code",
   "execution_count": 16,
   "metadata": {
    "execution": {
     "iopub.execute_input": "2021-03-01T20:45:29.022285Z",
     "iopub.status.busy": "2021-03-01T20:45:29.021791Z",
     "iopub.status.idle": "2021-03-01T20:45:29.023903Z",
     "shell.execute_reply": "2021-03-01T20:45:29.024394Z"
    }
   },
   "outputs": [
    {
     "name": "stdout",
     "output_type": "stream",
     "text": [
      "[[ True False  True  True  True]\n",
      " [False False False  True  True]\n",
      " [False False False  True False]\n",
      " [False False False  True False]]\n",
      "[0.68466038 0.858061   0.61606751 0.56962721 0.64202354 0.9178979\n",
      " 0.6399125  0.88722222]\n"
     ]
    }
   ],
   "source": [
    "cond = A > 0.5\n",
    "print(cond)\n",
    "print(A[cond])"
   ]
  },
  {
   "cell_type": "markdown",
   "metadata": {},
   "source": [
    "The mask is in fact a particular case of the advanced indexing capabilities provided by NumPy. For example, it is even possible to use lists for indexing:"
   ]
  },
  {
   "cell_type": "code",
   "execution_count": 17,
   "metadata": {
    "execution": {
     "iopub.execute_input": "2021-03-01T20:45:29.028214Z",
     "iopub.status.busy": "2021-03-01T20:45:29.027518Z",
     "iopub.status.idle": "2021-03-01T20:45:29.030825Z",
     "shell.execute_reply": "2021-03-01T20:45:29.031322Z"
    }
   },
   "outputs": [
    {
     "name": "stdout",
     "output_type": "stream",
     "text": [
      "[[0.68466038 0.10212594 0.858061   0.61606751 0.56962721]\n",
      " [0.05245775 0.12954074 0.49620453 0.64202354 0.9178979 ]\n",
      " [0.02578128 0.47428909 0.47421845 0.6399125  0.06569729]\n",
      " [0.18209463 0.17988008 0.34872391 0.88722222 0.19661421]]\n"
     ]
    },
    {
     "data": {
      "text/plain": [
       "array([[0.68466038, 0.10212594, 0.56962721],\n",
       "       [0.05245775, 0.12954074, 0.9178979 ],\n",
       "       [0.02578128, 0.47428909, 0.06569729],\n",
       "       [0.18209463, 0.17988008, 0.19661421]])"
      ]
     },
     "execution_count": 1,
     "metadata": {},
     "output_type": "execute_result"
    }
   ],
   "source": [
    "# Selecting only particular columns\n",
    "print(A)\n",
    "A[:, [0, 1, 4]]"
   ]
  },
  {
   "cell_type": "markdown",
   "metadata": {
    "slideshow": {
     "slide_type": "slide"
    }
   },
   "source": [
    "## Step 3 -  Perform array manipulations\n",
    "### 3.1 - Apply arithmetic operations to whole arrays (element-wise):"
   ]
  },
  {
   "cell_type": "code",
   "execution_count": 18,
   "metadata": {
    "execution": {
     "iopub.execute_input": "2021-03-01T20:45:29.034816Z",
     "iopub.status.busy": "2021-03-01T20:45:29.034342Z",
     "iopub.status.idle": "2021-03-01T20:45:29.037071Z",
     "shell.execute_reply": "2021-03-01T20:45:29.036556Z"
    }
   },
   "outputs": [
    {
     "data": {
      "text/plain": [
       "array([[32.31536365, 26.03168914, 34.3168787 , 31.54021428, 31.02074727],\n",
       "       [25.52732937, 26.31218821, 30.2082642 , 31.83242966, 35.02151561],\n",
       "       [25.25847747, 29.96784109, 29.96706758, 31.80861302, 25.66128906],\n",
       "       [26.85410474, 26.83115766, 28.60884745, 34.65938549, 27.00479927]])"
      ]
     },
     "execution_count": 1,
     "metadata": {},
     "output_type": "execute_result"
    }
   ],
   "source": [
    "(A+5)**2"
   ]
  },
  {
   "cell_type": "markdown",
   "metadata": {},
   "source": [
    "### 3.2 - Apply functions element-wise:"
   ]
  },
  {
   "cell_type": "code",
   "execution_count": 19,
   "metadata": {
    "execution": {
     "iopub.execute_input": "2021-03-01T20:45:29.040500Z",
     "iopub.status.busy": "2021-03-01T20:45:29.040028Z",
     "iopub.status.idle": "2021-03-01T20:45:29.042802Z",
     "shell.execute_reply": "2021-03-01T20:45:29.042278Z"
    }
   },
   "outputs": [
    {
     "data": {
      "text/plain": [
       "array([[1.98309822, 1.10752295, 2.35858297, 1.85163218, 1.76760798],\n",
       "       [1.05385804, 1.13830549, 1.64247545, 1.90032238, 2.50402116],\n",
       "       [1.02611649, 1.60687146, 1.60675794, 1.89631495, 1.06790341],\n",
       "       [1.19972772, 1.1970738 , 1.41725784, 2.42837479, 1.21727434]])"
      ]
     },
     "execution_count": 1,
     "metadata": {},
     "output_type": "execute_result"
    }
   ],
   "source": [
    "np.exp(A) # With numpy arrays, use the functions from numpy !"
   ]
  },
  {
   "cell_type": "markdown",
   "metadata": {},
   "source": [
    "### 3.3 - Setting parts of arrays"
   ]
  },
  {
   "cell_type": "code",
   "execution_count": 20,
   "metadata": {
    "execution": {
     "iopub.execute_input": "2021-03-01T20:45:29.046157Z",
     "iopub.status.busy": "2021-03-01T20:45:29.045672Z",
     "iopub.status.idle": "2021-03-01T20:45:29.047660Z",
     "shell.execute_reply": "2021-03-01T20:45:29.048159Z"
    }
   },
   "outputs": [
    {
     "name": "stdout",
     "output_type": "stream",
     "text": [
      "[[0.         0.10212594 0.858061   0.61606751 0.56962721]\n",
      " [0.         0.12954074 0.49620453 0.64202354 0.9178979 ]\n",
      " [0.         0.47428909 0.47421845 0.6399125  0.06569729]\n",
      " [0.         0.17988008 0.34872391 0.88722222 0.19661421]]\n"
     ]
    }
   ],
   "source": [
    "A[:, 0] = 0.\n",
    "print(A)"
   ]
  },
  {
   "cell_type": "code",
   "execution_count": 21,
   "metadata": {
    "execution": {
     "iopub.execute_input": "2021-03-01T20:45:29.051694Z",
     "iopub.status.busy": "2021-03-01T20:45:29.051221Z",
     "iopub.status.idle": "2021-03-01T20:45:29.053263Z",
     "shell.execute_reply": "2021-03-01T20:45:29.053745Z"
    }
   },
   "outputs": [
    {
     "name": "stdout",
     "output_type": "stream",
     "text": [
      "[[ 0.          9.7918312   1.16541831  1.62319873  1.75553411]\n",
      " [ 0.          7.71957912  2.01529802  1.55757528  1.08944578]\n",
      " [ 0.          2.10841871  2.10873282  1.56271365 15.22132749]\n",
      " [ 0.          5.55925921  2.86759805  1.12711334  5.08610232]]\n"
     ]
    }
   ],
   "source": [
    "# BONUS: Safe element-wise inverse with masks\n",
    "cond = (A != 0)\n",
    "A[cond] = 1./A[cond]\n",
    "print(A)"
   ]
  },
  {
   "cell_type": "markdown",
   "metadata": {
    "slideshow": {
     "slide_type": "slide"
    }
   },
   "source": [
    "## Step 4 - Attributes and methods of `np.ndarray` (see the [doc](https://docs.scipy.org/doc/numpy/reference/generated/numpy.ndarray.html#numpy.ndarray))"
   ]
  },
  {
   "cell_type": "code",
   "execution_count": 22,
   "metadata": {
    "execution": {
     "iopub.execute_input": "2021-03-01T20:45:29.058932Z",
     "iopub.status.busy": "2021-03-01T20:45:29.058447Z",
     "iopub.status.idle": "2021-03-01T20:45:29.064966Z",
     "shell.execute_reply": "2021-03-01T20:45:29.065453Z"
    }
   },
   "outputs": [
    {
     "name": "stdout",
     "output_type": "stream",
     "text": [
      "T               all             any             argmax          argmin          argpartition    \n",
      "argsort         astype          base            byteswap        choose          clip            \n",
      "compress        conj            conjugate       copy            ctypes          cumprod         \n",
      "cumsum          data            diagonal        dot             dtype           dump            \n",
      "dumps           fill            flags           flat            flatten         getfield        \n",
      "imag            item            itemset         itemsize        max             mean            \n",
      "min             nbytes          ndim            newbyteorder    nonzero         partition       \n",
      "prod            ptp             put             ravel           real            repeat          \n",
      "reshape         resize          round           searchsorted    setfield        setflags        \n",
      "shape           size            sort            squeeze         std             strides         \n",
      "sum             swapaxes        take            tobytes         tofile          tolist          \n",
      "tostring        trace           transpose       var             view            "
     ]
    }
   ],
   "source": [
    "for i,v in enumerate([s for s in dir(A) if not s.startswith('__')]):\n",
    "    print(f'{v:16}', end='')\n",
    "    if (i+1) % 6 == 0 :print('')"
   ]
  },
  {
   "cell_type": "code",
   "execution_count": 23,
   "metadata": {
    "execution": {
     "iopub.execute_input": "2021-03-01T20:45:29.069331Z",
     "iopub.status.busy": "2021-03-01T20:45:29.068541Z",
     "iopub.status.idle": "2021-03-01T20:45:29.071711Z",
     "shell.execute_reply": "2021-03-01T20:45:29.072202Z"
    }
   },
   "outputs": [
    {
     "name": "stdout",
     "output_type": "stream",
     "text": [
      "[[ 0.          9.7918312   1.16541831  1.62319873  1.75553411]\n",
      " [ 0.          7.71957912  2.01529802  1.55757528  1.08944578]\n",
      " [ 0.          2.10841871  2.10873282  1.56271365 15.22132749]\n",
      " [ 0.          5.55925921  2.86759805  1.12711334  5.08610232]]\n",
      "Mean value 3.117957307645095\n",
      "Mean line [0.         6.29477206 2.0392618  1.46765025 5.78810243]\n",
      "Mean column [2.86719647 2.47637964 4.20023853 2.92801458]\n"
     ]
    }
   ],
   "source": [
    "\n",
    "# Ex1: Get the mean through different dimensions\n",
    "\n",
    "print(A)\n",
    "print('Mean value',  A.mean())\n",
    "print('Mean line',   A.mean(axis=0))\n",
    "print('Mean column', A.mean(axis=1))"
   ]
  },
  {
   "cell_type": "code",
   "execution_count": 24,
   "metadata": {
    "execution": {
     "iopub.execute_input": "2021-03-01T20:45:29.076196Z",
     "iopub.status.busy": "2021-03-01T20:45:29.075699Z",
     "iopub.status.idle": "2021-03-01T20:45:29.077914Z",
     "shell.execute_reply": "2021-03-01T20:45:29.078406Z"
    }
   },
   "outputs": [
    {
     "name": "stdout",
     "output_type": "stream",
     "text": [
      "[[ 0.          9.7918312   1.16541831  1.62319873  1.75553411]\n",
      " [ 0.          7.71957912  2.01529802  1.55757528  1.08944578]\n",
      " [ 0.          2.10841871  2.10873282  1.56271365 15.22132749]\n",
      " [ 0.          5.55925921  2.86759805  1.12711334  5.08610232]]\n",
      "(4, 5)\n",
      "[ 0.          9.7918312   1.16541831  1.62319873  1.75553411  0.\n",
      "  7.71957912  2.01529802  1.55757528  1.08944578  0.          2.10841871\n",
      "  2.10873282  1.56271365 15.22132749  0.          5.55925921  2.86759805\n",
      "  1.12711334  5.08610232] (20,)\n"
     ]
    }
   ],
   "source": [
    "\n",
    "# Ex2: Convert a 2D array in 1D keeping all elements\n",
    "\n",
    "print(A)\n",
    "print(A.shape)\n",
    "A_flat = A.flatten()\n",
    "print(A_flat, A_flat.shape)"
   ]
  },
  {
   "cell_type": "markdown",
   "metadata": {
    "slideshow": {
     "slide_type": "subslide"
    }
   },
   "source": [
    "### 4.1 - Remark: dot product"
   ]
  },
  {
   "cell_type": "code",
   "execution_count": 25,
   "metadata": {
    "execution": {
     "iopub.execute_input": "2021-03-01T20:45:29.082109Z",
     "iopub.status.busy": "2021-03-01T20:45:29.081618Z",
     "iopub.status.idle": "2021-03-01T20:45:29.083714Z",
     "shell.execute_reply": "2021-03-01T20:45:29.084209Z"
    }
   },
   "outputs": [
    {
     "name": "stdout",
     "output_type": "stream",
     "text": [
      "[ 0.  1.  2.  3.  4.  5.  6.  7.  8.  9. 10.]\n",
      "385.0\n"
     ]
    }
   ],
   "source": [
    "b = np.linspace(0, 10, 11)\n",
    "c = b @ b\n",
    "# before 3.5:\n",
    "# c = b.dot(b)\n",
    "print(b)\n",
    "print(c)"
   ]
  },
  {
   "cell_type": "markdown",
   "metadata": {},
   "source": [
    "### 4.2 -  For Matlab users\n",
    "\n",
    "|     ` `       | Matlab | Numpy |\n",
    "| ------------- | ------ | ----- |\n",
    "| element wise  |  `.*`  |  `*`  |\n",
    "|  dot product  |  `*`   |  `@`  |"
   ]
  },
  {
   "cell_type": "markdown",
   "metadata": {},
   "source": [
    "`numpy` arrays can also be sorted, even when they are composed of complex data if the type of the columns are explicitly stated with `dtypes`."
   ]
  },
  {
   "cell_type": "markdown",
   "metadata": {
    "slideshow": {
     "slide_type": "subslide"
    }
   },
   "source": [
    "### 4.3 -  NumPy and SciPy sub-packages:\n",
    "\n",
    "We already saw `numpy.random` to generate `numpy` arrays filled with random values. This submodule also provides functions related to distributions (Poisson, gaussian, etc.) and permutations."
   ]
  },
  {
   "cell_type": "markdown",
   "metadata": {},
   "source": [
    "To perform linear algebra with dense matrices, we can use the submodule `numpy.linalg`. For instance, in order to compute the determinant of a random matrix, we use the method `det`"
   ]
  },
  {
   "cell_type": "code",
   "execution_count": 26,
   "metadata": {
    "execution": {
     "iopub.execute_input": "2021-03-01T20:45:29.088395Z",
     "iopub.status.busy": "2021-03-01T20:45:29.087916Z",
     "iopub.status.idle": "2021-03-01T20:45:29.090464Z",
     "shell.execute_reply": "2021-03-01T20:45:29.090965Z"
    }
   },
   "outputs": [
    {
     "name": "stdout",
     "output_type": "stream",
     "text": [
      "[[0.38614553 0.65087767 0.5913754  0.23127365 0.28382037]\n",
      " [0.64429244 0.08354686 0.93369949 0.0466408  0.31443924]\n",
      " [0.84408828 0.90796151 0.36525699 0.7304793  0.7133164 ]\n",
      " [0.70400366 0.59993675 0.29428693 0.20094961 0.92550522]\n",
      " [0.38397041 0.31066874 0.97098562 0.98861879 0.28024308]]\n"
     ]
    },
    {
     "data": {
      "text/plain": [
       "-0.14599823084769464"
      ]
     },
     "execution_count": 1,
     "metadata": {},
     "output_type": "execute_result"
    }
   ],
   "source": [
    "A = np.random.random([5,5])\n",
    "print(A)\n",
    "np.linalg.det(A)"
   ]
  },
  {
   "cell_type": "code",
   "execution_count": 27,
   "metadata": {
    "execution": {
     "iopub.execute_input": "2021-03-01T20:45:29.095242Z",
     "iopub.status.busy": "2021-03-01T20:45:29.094757Z",
     "iopub.status.idle": "2021-03-01T20:45:29.099125Z",
     "shell.execute_reply": "2021-03-01T20:45:29.098612Z"
    }
   },
   "outputs": [
    {
     "name": "stdout",
     "output_type": "stream",
     "text": [
      "[[0.08354686 0.93369949]\n",
      " [0.90796151 0.36525699]]\n"
     ]
    },
    {
     "data": {
      "text/plain": [
       "array([[-0.44693579,  1.14249346],\n",
       "       [ 1.11099995, -0.10222961]])"
      ]
     },
     "execution_count": 1,
     "metadata": {},
     "output_type": "execute_result"
    }
   ],
   "source": [
    "squared_subA = A[1:3, 1:3]\n",
    "print(squared_subA)\n",
    "np.linalg.inv(squared_subA)"
   ]
  },
  {
   "cell_type": "markdown",
   "metadata": {
    "slideshow": {
     "slide_type": "slide"
    }
   },
   "source": [
    "### 4.4 -  Introduction to Pandas: Python Data Analysis Library\n",
    "\n",
    "Pandas is an open source library providing high-performance, easy-to-use data structures and data analysis tools for Python.\n",
    "\n",
    "[Pandas tutorial](https://pandas.pydata.org/pandas-docs/stable/10min.html)\n",
    "[Grenoble Python Working Session](https://github.com/iutzeler/Pres_Pandas/)\n",
    "[Pandas for SQL Users](http://sergilehkyi.com/translating-sql-to-pandas/)\n",
    "[Pandas Introduction Training HPC Python@UGA](https://gricad-gitlab.univ-grenoble-alpes.fr/python-uga/training-hpc/-/blob/master/ipynb/11_pandas.ipynb)"
   ]
  },
  {
   "cell_type": "markdown",
   "metadata": {},
   "source": [
    "---\n",
    "<img width=\"80px\" src=\"../fidle/img/00-Fidle-logo-01.svg\"></img>"
   ]
  }
 ],
 "metadata": {
  "celltoolbar": "Diaporama",
  "kernelspec": {
   "display_name": "Python 3",
   "language": "python",
   "name": "python3"
  },
  "language_info": {
   "codemirror_mode": {
    "name": "ipython",
    "version": 3
   },
   "file_extension": ".py",
   "mimetype": "text/x-python",
   "name": "python",
   "nbconvert_exporter": "python",
   "pygments_lexer": "ipython3",
   "version": "3.7.9"
  }
 },
 "nbformat": 4,
 "nbformat_minor": 4
}
