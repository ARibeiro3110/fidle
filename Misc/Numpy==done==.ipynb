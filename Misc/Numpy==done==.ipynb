{
 "cells": [
  {
   "cell_type": "markdown",
   "metadata": {
    "slideshow": {
     "slide_type": "slide"
    }
   },
   "source": [
    "<img width=\"800px\" src=\"../fidle/img/00-Fidle-header-01.svg\"></img>\n",
    "\n",
    "# <!-- TITLE --> [NP1] - A short introduction to Numpy\n",
    "<!-- DESC --> Numpy is an essential tool for the Scientific Python.\n",
    "<!-- AUTHOR : Jean-Luc Parouty (CNRS/SIMaP) -->\n",
    "\n",
    "## Objectives :\n",
    " - Comprendre les grands principes de Numpy et son potentiel\n",
    "\n",
    "Note : This notebook is strongly inspired by the UGA Python Introduction Course  \n",
    "See : **https://gricad-gitlab.univ-grenoble-alpes.fr/python-uga/py-training-2017**"
   ]
  },
  {
   "cell_type": "markdown",
   "metadata": {
    "slideshow": {
     "slide_type": "slide"
    }
   },
   "source": [
    "## Step 1 - Numpy the beginning\n",
    "\n",
    "Code using `numpy` usually starts with the import statement"
   ]
  },
  {
   "cell_type": "code",
   "execution_count": 1,
   "metadata": {
    "execution": {
     "iopub.execute_input": "2021-02-10T11:11:50.953532Z",
     "iopub.status.busy": "2021-02-10T11:11:50.953057Z",
     "iopub.status.idle": "2021-02-10T11:11:51.090443Z",
     "shell.execute_reply": "2021-02-10T11:11:51.090949Z"
    }
   },
   "outputs": [],
   "source": [
    "import numpy as np"
   ]
  },
  {
   "cell_type": "markdown",
   "metadata": {},
   "source": [
    "NumPy provides the type `np.ndarray`. Such array are multidimensionnal sequences of homogeneous elements. They can be created for example with the commands:"
   ]
  },
  {
   "cell_type": "code",
   "execution_count": 2,
   "metadata": {
    "execution": {
     "iopub.execute_input": "2021-02-10T11:11:51.100389Z",
     "iopub.status.busy": "2021-02-10T11:11:51.099924Z",
     "iopub.status.idle": "2021-02-10T11:11:51.102679Z",
     "shell.execute_reply": "2021-02-10T11:11:51.102161Z"
    }
   },
   "outputs": [
    {
     "data": {
      "text/plain": [
       "array([10. , 12.5, 15. , 17.5, 20. ])"
      ]
     },
     "execution_count": 1,
     "metadata": {},
     "output_type": "execute_result"
    }
   ],
   "source": [
    "# from a list\n",
    "l = [10.0, 12.5, 15.0, 17.5, 20.0]\n",
    "np.array(l)"
   ]
  },
  {
   "cell_type": "code",
   "execution_count": 3,
   "metadata": {
    "execution": {
     "iopub.execute_input": "2021-02-10T11:11:51.105890Z",
     "iopub.status.busy": "2021-02-10T11:11:51.105388Z",
     "iopub.status.idle": "2021-02-10T11:11:51.107530Z",
     "shell.execute_reply": "2021-02-10T11:11:51.108017Z"
    }
   },
   "outputs": [
    {
     "data": {
      "text/plain": [
       "array([4.63658425e-310, 0.00000000e+000, 0.00000000e+000, 0.00000000e+000])"
      ]
     },
     "execution_count": 1,
     "metadata": {},
     "output_type": "execute_result"
    }
   ],
   "source": [
    "# fast but the values can be anything\n",
    "np.empty(4)"
   ]
  },
  {
   "cell_type": "code",
   "execution_count": 4,
   "metadata": {
    "execution": {
     "iopub.execute_input": "2021-02-10T11:11:51.111279Z",
     "iopub.status.busy": "2021-02-10T11:11:51.110810Z",
     "iopub.status.idle": "2021-02-10T11:11:51.113470Z",
     "shell.execute_reply": "2021-02-10T11:11:51.112964Z"
    }
   },
   "outputs": [
    {
     "data": {
      "text/plain": [
       "array([[0., 0., 0., 0., 0., 0.],\n",
       "       [0., 0., 0., 0., 0., 0.]])"
      ]
     },
     "execution_count": 1,
     "metadata": {},
     "output_type": "execute_result"
    }
   ],
   "source": [
    "# slower than np.empty but the values are all 0.\n",
    "np.zeros([2, 6])"
   ]
  },
  {
   "cell_type": "code",
   "execution_count": 5,
   "metadata": {
    "execution": {
     "iopub.execute_input": "2021-02-10T11:11:51.117359Z",
     "iopub.status.busy": "2021-02-10T11:11:51.116888Z",
     "iopub.status.idle": "2021-02-10T11:11:51.119779Z",
     "shell.execute_reply": "2021-02-10T11:11:51.120254Z"
    }
   },
   "outputs": [
    {
     "name": "stdout",
     "output_type": "stream",
     "text": [
      "(2, 3, 4) 24 float64\n"
     ]
    },
    {
     "data": {
      "text/plain": [
       "array([[[1., 1., 1., 1.],\n",
       "        [1., 1., 1., 1.],\n",
       "        [1., 1., 1., 1.]],\n",
       "\n",
       "       [[1., 1., 1., 1.],\n",
       "        [1., 1., 1., 1.],\n",
       "        [1., 1., 1., 1.]]])"
      ]
     },
     "execution_count": 1,
     "metadata": {},
     "output_type": "execute_result"
    }
   ],
   "source": [
    "# multidimensional array\n",
    "a = np.ones([2, 3, 4])\n",
    "print(a.shape, a.size, a.dtype)\n",
    "a"
   ]
  },
  {
   "cell_type": "code",
   "execution_count": 6,
   "metadata": {
    "execution": {
     "iopub.execute_input": "2021-02-10T11:11:51.123324Z",
     "iopub.status.busy": "2021-02-10T11:11:51.122856Z",
     "iopub.status.idle": "2021-02-10T11:11:51.125023Z",
     "shell.execute_reply": "2021-02-10T11:11:51.125508Z"
    }
   },
   "outputs": [
    {
     "data": {
      "text/plain": [
       "array([0, 1, 2, 3])"
      ]
     },
     "execution_count": 1,
     "metadata": {},
     "output_type": "execute_result"
    }
   ],
   "source": [
    "# like range but produce 1D numpy array\n",
    "np.arange(4)"
   ]
  },
  {
   "cell_type": "code",
   "execution_count": 7,
   "metadata": {
    "execution": {
     "iopub.execute_input": "2021-02-10T11:11:51.128610Z",
     "iopub.status.busy": "2021-02-10T11:11:51.128138Z",
     "iopub.status.idle": "2021-02-10T11:11:51.130277Z",
     "shell.execute_reply": "2021-02-10T11:11:51.130763Z"
    }
   },
   "outputs": [
    {
     "data": {
      "text/plain": [
       "array([0., 1., 2., 3.])"
      ]
     },
     "execution_count": 1,
     "metadata": {},
     "output_type": "execute_result"
    }
   ],
   "source": [
    "# np.arange can produce arrays of floats\n",
    "np.arange(4.)"
   ]
  },
  {
   "cell_type": "code",
   "execution_count": 8,
   "metadata": {
    "execution": {
     "iopub.execute_input": "2021-02-10T11:11:51.134059Z",
     "iopub.status.busy": "2021-02-10T11:11:51.133592Z",
     "iopub.status.idle": "2021-02-10T11:11:51.136218Z",
     "shell.execute_reply": "2021-02-10T11:11:51.135723Z"
    }
   },
   "outputs": [
    {
     "data": {
      "text/plain": [
       "array([10. , 12.5, 15. , 17.5, 20. ])"
      ]
     },
     "execution_count": 1,
     "metadata": {},
     "output_type": "execute_result"
    }
   ],
   "source": [
    "# another convenient function to generate 1D arrays\n",
    "np.linspace(10, 20, 5)"
   ]
  },
  {
   "cell_type": "markdown",
   "metadata": {},
   "source": [
    "A NumPy array can be easily converted to a Python list."
   ]
  },
  {
   "cell_type": "code",
   "execution_count": 9,
   "metadata": {
    "execution": {
     "iopub.execute_input": "2021-02-10T11:11:51.139621Z",
     "iopub.status.busy": "2021-02-10T11:11:51.139145Z",
     "iopub.status.idle": "2021-02-10T11:11:51.141350Z",
     "shell.execute_reply": "2021-02-10T11:11:51.141841Z"
    }
   },
   "outputs": [
    {
     "data": {
      "text/plain": [
       "[10.0, 12.5, 15.0, 17.5, 20.0]"
      ]
     },
     "execution_count": 1,
     "metadata": {},
     "output_type": "execute_result"
    }
   ],
   "source": [
    "a = np.linspace(10, 20 ,5)\n",
    "list(a)"
   ]
  },
  {
   "cell_type": "code",
   "execution_count": 10,
   "metadata": {
    "execution": {
     "iopub.execute_input": "2021-02-10T11:11:51.144828Z",
     "iopub.status.busy": "2021-02-10T11:11:51.144354Z",
     "iopub.status.idle": "2021-02-10T11:11:51.146532Z",
     "shell.execute_reply": "2021-02-10T11:11:51.147013Z"
    }
   },
   "outputs": [
    {
     "data": {
      "text/plain": [
       "[10.0, 12.5, 15.0, 17.5, 20.0]"
      ]
     },
     "execution_count": 1,
     "metadata": {},
     "output_type": "execute_result"
    }
   ],
   "source": [
    "# Or even better\n",
    "a.tolist()"
   ]
  },
  {
   "cell_type": "markdown",
   "metadata": {
    "slideshow": {
     "slide_type": "slide"
    }
   },
   "source": [
    "## Step 2 - Access elements\n",
    "\n",
    "Elements in a `numpy` array can be accessed using indexing and slicing in any dimension. It also offers the same functionalities available in Fortan or Matlab.\n",
    "\n",
    "### 2.1 - Indexes and slices\n",
    "For example, we can create an array `A` and perform any kind of selection operations on it."
   ]
  },
  {
   "cell_type": "code",
   "execution_count": 11,
   "metadata": {
    "execution": {
     "iopub.execute_input": "2021-02-10T11:11:51.150696Z",
     "iopub.status.busy": "2021-02-10T11:11:51.150226Z",
     "iopub.status.idle": "2021-02-10T11:11:51.152440Z",
     "shell.execute_reply": "2021-02-10T11:11:51.152921Z"
    }
   },
   "outputs": [
    {
     "data": {
      "text/plain": [
       "array([[0.90023687, 0.11691004, 0.02323043, 0.93645919, 0.90806378],\n",
       "       [0.47066661, 0.51619476, 0.6331525 , 0.01788091, 0.22400261],\n",
       "       [0.00907019, 0.09682113, 0.11148512, 0.46883229, 0.15685269],\n",
       "       [0.51343916, 0.43011841, 0.29050278, 0.83415623, 0.04388041]])"
      ]
     },
     "execution_count": 1,
     "metadata": {},
     "output_type": "execute_result"
    }
   ],
   "source": [
    "A = np.random.random([4, 5])\n",
    "A"
   ]
  },
  {
   "cell_type": "code",
   "execution_count": 12,
   "metadata": {
    "execution": {
     "iopub.execute_input": "2021-02-10T11:11:51.155942Z",
     "iopub.status.busy": "2021-02-10T11:11:51.155474Z",
     "iopub.status.idle": "2021-02-10T11:11:51.157638Z",
     "shell.execute_reply": "2021-02-10T11:11:51.158116Z"
    }
   },
   "outputs": [
    {
     "data": {
      "text/plain": [
       "0.4706666144244742"
      ]
     },
     "execution_count": 1,
     "metadata": {},
     "output_type": "execute_result"
    }
   ],
   "source": [
    "# Get the element from second line, first column\n",
    "A[1, 0]"
   ]
  },
  {
   "cell_type": "code",
   "execution_count": 13,
   "metadata": {
    "execution": {
     "iopub.execute_input": "2021-02-10T11:11:51.161251Z",
     "iopub.status.busy": "2021-02-10T11:11:51.160786Z",
     "iopub.status.idle": "2021-02-10T11:11:51.162916Z",
     "shell.execute_reply": "2021-02-10T11:11:51.163387Z"
    }
   },
   "outputs": [
    {
     "data": {
      "text/plain": [
       "array([[0.90023687, 0.11691004, 0.02323043, 0.93645919, 0.90806378],\n",
       "       [0.47066661, 0.51619476, 0.6331525 , 0.01788091, 0.22400261]])"
      ]
     },
     "execution_count": 1,
     "metadata": {},
     "output_type": "execute_result"
    }
   ],
   "source": [
    "# Get the first two lines\n",
    "A[:2]"
   ]
  },
  {
   "cell_type": "code",
   "execution_count": 14,
   "metadata": {
    "execution": {
     "iopub.execute_input": "2021-02-10T11:11:51.166529Z",
     "iopub.status.busy": "2021-02-10T11:11:51.166057Z",
     "iopub.status.idle": "2021-02-10T11:11:51.168189Z",
     "shell.execute_reply": "2021-02-10T11:11:51.168673Z"
    }
   },
   "outputs": [
    {
     "data": {
      "text/plain": [
       "array([0.90806378, 0.22400261, 0.15685269, 0.04388041])"
      ]
     },
     "execution_count": 1,
     "metadata": {},
     "output_type": "execute_result"
    }
   ],
   "source": [
    "# Get the last column\n",
    "A[:, -1]"
   ]
  },
  {
   "cell_type": "code",
   "execution_count": 15,
   "metadata": {
    "execution": {
     "iopub.execute_input": "2021-02-10T11:11:51.171849Z",
     "iopub.status.busy": "2021-02-10T11:11:51.171374Z",
     "iopub.status.idle": "2021-02-10T11:11:51.173564Z",
     "shell.execute_reply": "2021-02-10T11:11:51.174043Z"
    }
   },
   "outputs": [
    {
     "data": {
      "text/plain": [
       "array([[0.90023687, 0.02323043, 0.90806378],\n",
       "       [0.47066661, 0.6331525 , 0.22400261]])"
      ]
     },
     "execution_count": 1,
     "metadata": {},
     "output_type": "execute_result"
    }
   ],
   "source": [
    "# Get the first two lines and the columns with an even index\n",
    "A[:2, ::2]"
   ]
  },
  {
   "cell_type": "markdown",
   "metadata": {
    "slideshow": {
     "slide_type": "slide"
    }
   },
   "source": [
    "### 2.2 -  Using a mask to select elements validating a condition:"
   ]
  },
  {
   "cell_type": "code",
   "execution_count": 16,
   "metadata": {
    "execution": {
     "iopub.execute_input": "2021-02-10T11:11:51.177478Z",
     "iopub.status.busy": "2021-02-10T11:11:51.177002Z",
     "iopub.status.idle": "2021-02-10T11:11:51.179624Z",
     "shell.execute_reply": "2021-02-10T11:11:51.179122Z"
    }
   },
   "outputs": [
    {
     "name": "stdout",
     "output_type": "stream",
     "text": [
      "[[ True False False  True  True]\n",
      " [False  True  True False False]\n",
      " [False False False False False]\n",
      " [ True False False  True False]]\n",
      "[0.90023687 0.93645919 0.90806378 0.51619476 0.6331525  0.51343916\n",
      " 0.83415623]\n"
     ]
    }
   ],
   "source": [
    "cond = A > 0.5\n",
    "print(cond)\n",
    "print(A[cond])"
   ]
  },
  {
   "cell_type": "markdown",
   "metadata": {},
   "source": [
    "The mask is in fact a particular case of the advanced indexing capabilities provided by NumPy. For example, it is even possible to use lists for indexing:"
   ]
  },
  {
   "cell_type": "code",
   "execution_count": 17,
   "metadata": {
    "execution": {
     "iopub.execute_input": "2021-02-10T11:11:51.183482Z",
     "iopub.status.busy": "2021-02-10T11:11:51.183009Z",
     "iopub.status.idle": "2021-02-10T11:11:51.185555Z",
     "shell.execute_reply": "2021-02-10T11:11:51.186032Z"
    }
   },
   "outputs": [
    {
     "name": "stdout",
     "output_type": "stream",
     "text": [
      "[[0.90023687 0.11691004 0.02323043 0.93645919 0.90806378]\n",
      " [0.47066661 0.51619476 0.6331525  0.01788091 0.22400261]\n",
      " [0.00907019 0.09682113 0.11148512 0.46883229 0.15685269]\n",
      " [0.51343916 0.43011841 0.29050278 0.83415623 0.04388041]]\n"
     ]
    },
    {
     "data": {
      "text/plain": [
       "array([[0.90023687, 0.11691004, 0.90806378],\n",
       "       [0.47066661, 0.51619476, 0.22400261],\n",
       "       [0.00907019, 0.09682113, 0.15685269],\n",
       "       [0.51343916, 0.43011841, 0.04388041]])"
      ]
     },
     "execution_count": 1,
     "metadata": {},
     "output_type": "execute_result"
    }
   ],
   "source": [
    "# Selecting only particular columns\n",
    "print(A)\n",
    "A[:, [0, 1, 4]]"
   ]
  },
  {
   "cell_type": "markdown",
   "metadata": {
    "slideshow": {
     "slide_type": "slide"
    }
   },
   "source": [
    "## Step 3 -  Perform array manipulations\n",
    "### 3.1 - Apply arithmetic operations to whole arrays (element-wise):"
   ]
  },
  {
   "cell_type": "code",
   "execution_count": 18,
   "metadata": {
    "execution": {
     "iopub.execute_input": "2021-02-10T11:11:51.189486Z",
     "iopub.status.busy": "2021-02-10T11:11:51.189011Z",
     "iopub.status.idle": "2021-02-10T11:11:51.191181Z",
     "shell.execute_reply": "2021-02-10T11:11:51.191667Z"
    }
   },
   "outputs": [
    {
     "data": {
      "text/plain": [
       "array([[34.81279516, 26.18276832, 25.23284396, 35.24154768, 34.90521766],\n",
       "       [29.92819321, 30.42840458, 31.73240713, 25.17912879, 27.29020329],\n",
       "       [25.09078418, 25.97758566, 26.12728014, 29.90812659, 26.59312965],\n",
       "       [30.39801137, 29.48618596, 27.98941962, 34.0373789 , 25.44072955]])"
      ]
     },
     "execution_count": 1,
     "metadata": {},
     "output_type": "execute_result"
    }
   ],
   "source": [
    "(A+5)**2"
   ]
  },
  {
   "cell_type": "markdown",
   "metadata": {},
   "source": [
    "### 3.2 - Apply functions element-wise:"
   ]
  },
  {
   "cell_type": "code",
   "execution_count": 19,
   "metadata": {
    "execution": {
     "iopub.execute_input": "2021-02-10T11:11:51.195093Z",
     "iopub.status.busy": "2021-02-10T11:11:51.194625Z",
     "iopub.status.idle": "2021-02-10T11:11:51.196790Z",
     "shell.execute_reply": "2021-02-10T11:11:51.197270Z"
    }
   },
   "outputs": [
    {
     "data": {
      "text/plain": [
       "array([[2.46018579, 1.1240183 , 1.02350236, 2.55093303, 2.479517  ],\n",
       "       [1.60106113, 1.67563929, 1.88353909, 1.01804173, 1.25107429],\n",
       "       [1.00911145, 1.1016633 , 1.11793711, 1.59812695, 1.16982327],\n",
       "       [1.67102826, 1.53743956, 1.33709958, 2.30287013, 1.04485739]])"
      ]
     },
     "execution_count": 1,
     "metadata": {},
     "output_type": "execute_result"
    }
   ],
   "source": [
    "np.exp(A) # With numpy arrays, use the functions from numpy !"
   ]
  },
  {
   "cell_type": "markdown",
   "metadata": {},
   "source": [
    "### 3.3 - Setting parts of arrays"
   ]
  },
  {
   "cell_type": "code",
   "execution_count": 20,
   "metadata": {
    "execution": {
     "iopub.execute_input": "2021-02-10T11:11:51.200588Z",
     "iopub.status.busy": "2021-02-10T11:11:51.200108Z",
     "iopub.status.idle": "2021-02-10T11:11:51.202132Z",
     "shell.execute_reply": "2021-02-10T11:11:51.202618Z"
    }
   },
   "outputs": [
    {
     "name": "stdout",
     "output_type": "stream",
     "text": [
      "[[0.         0.11691004 0.02323043 0.93645919 0.90806378]\n",
      " [0.         0.51619476 0.6331525  0.01788091 0.22400261]\n",
      " [0.         0.09682113 0.11148512 0.46883229 0.15685269]\n",
      " [0.         0.43011841 0.29050278 0.83415623 0.04388041]]\n"
     ]
    }
   ],
   "source": [
    "A[:, 0] = 0.\n",
    "print(A)"
   ]
  },
  {
   "cell_type": "code",
   "execution_count": 21,
   "metadata": {
    "execution": {
     "iopub.execute_input": "2021-02-10T11:11:51.206134Z",
     "iopub.status.busy": "2021-02-10T11:11:51.205662Z",
     "iopub.status.idle": "2021-02-10T11:11:51.207650Z",
     "shell.execute_reply": "2021-02-10T11:11:51.208129Z"
    }
   },
   "outputs": [
    {
     "name": "stdout",
     "output_type": "stream",
     "text": [
      "[[ 0.          8.5535856  43.04698411  1.0678522   1.10124423]\n",
      " [ 0.          1.93725331  1.57939832 55.92557835  4.46423365]\n",
      " [ 0.         10.32832369  8.96980688  2.1329589   6.37540872]\n",
      " [ 0.          2.32494117  3.4423079   1.1988162  22.78921493]]\n"
     ]
    }
   ],
   "source": [
    "# BONUS: Safe element-wise inverse with masks\n",
    "cond = (A != 0)\n",
    "A[cond] = 1./A[cond]\n",
    "print(A)"
   ]
  },
  {
   "cell_type": "markdown",
   "metadata": {
    "slideshow": {
     "slide_type": "slide"
    }
   },
   "source": [
    "## Step 4 - Attributes and methods of `np.ndarray` (see the [doc](https://docs.scipy.org/doc/numpy/reference/generated/numpy.ndarray.html#numpy.ndarray))"
   ]
  },
  {
   "cell_type": "code",
   "execution_count": 22,
   "metadata": {
    "execution": {
     "iopub.execute_input": "2021-02-10T11:11:51.212816Z",
     "iopub.status.busy": "2021-02-10T11:11:51.211348Z",
     "iopub.status.idle": "2021-02-10T11:11:51.219807Z",
     "shell.execute_reply": "2021-02-10T11:11:51.219310Z"
    }
   },
   "outputs": [
    {
     "name": "stdout",
     "output_type": "stream",
     "text": [
      "T               all             any             argmax          argmin          argpartition    \n",
      "argsort         astype          base            byteswap        choose          clip            \n",
      "compress        conj            conjugate       copy            ctypes          cumprod         \n",
      "cumsum          data            diagonal        dot             dtype           dump            \n",
      "dumps           fill            flags           flat            flatten         getfield        \n",
      "imag            item            itemset         itemsize        max             mean            \n",
      "min             nbytes          ndim            newbyteorder    nonzero         partition       \n",
      "prod            ptp             put             ravel           real            repeat          \n",
      "reshape         resize          round           searchsorted    setfield        setflags        \n",
      "shape           size            sort            squeeze         std             strides         \n",
      "sum             swapaxes        take            tobytes         tofile          tolist          \n",
      "tostring        trace           transpose       var             view            "
     ]
    }
   ],
   "source": [
    "for i,v in enumerate([s for s in dir(A) if not s.startswith('__')]):\n",
    "    print(f'{v:16}', end='')\n",
    "    if (i+1) % 6 == 0 :print('')"
   ]
  },
  {
   "cell_type": "code",
   "execution_count": 23,
   "metadata": {
    "execution": {
     "iopub.execute_input": "2021-02-10T11:11:51.224123Z",
     "iopub.status.busy": "2021-02-10T11:11:51.223648Z",
     "iopub.status.idle": "2021-02-10T11:11:51.226035Z",
     "shell.execute_reply": "2021-02-10T11:11:51.226518Z"
    }
   },
   "outputs": [
    {
     "name": "stdout",
     "output_type": "stream",
     "text": [
      "[[ 0.          8.5535856  43.04698411  1.0678522   1.10124423]\n",
      " [ 0.          1.93725331  1.57939832 55.92557835  4.46423365]\n",
      " [ 0.         10.32832369  8.96980688  2.1329589   6.37540872]\n",
      " [ 0.          2.32494117  3.4423079   1.1988162  22.78921493]]\n",
      "Mean value 8.761895407750362\n",
      "Mean line [ 0.          5.78602594 14.2596243  15.08130141  8.68252538]\n",
      "Mean column [10.75393323 12.78129273  5.56129964  5.95105604]\n"
     ]
    }
   ],
   "source": [
    "\n",
    "# Ex1: Get the mean through different dimensions\n",
    "\n",
    "print(A)\n",
    "print('Mean value',  A.mean())\n",
    "print('Mean line',   A.mean(axis=0))\n",
    "print('Mean column', A.mean(axis=1))"
   ]
  },
  {
   "cell_type": "code",
   "execution_count": 24,
   "metadata": {
    "execution": {
     "iopub.execute_input": "2021-02-10T11:11:51.230470Z",
     "iopub.status.busy": "2021-02-10T11:11:51.229997Z",
     "iopub.status.idle": "2021-02-10T11:11:51.232144Z",
     "shell.execute_reply": "2021-02-10T11:11:51.232625Z"
    }
   },
   "outputs": [
    {
     "name": "stdout",
     "output_type": "stream",
     "text": [
      "[[ 0.          8.5535856  43.04698411  1.0678522   1.10124423]\n",
      " [ 0.          1.93725331  1.57939832 55.92557835  4.46423365]\n",
      " [ 0.         10.32832369  8.96980688  2.1329589   6.37540872]\n",
      " [ 0.          2.32494117  3.4423079   1.1988162  22.78921493]]\n",
      "(4, 5)\n",
      "[ 0.          8.5535856  43.04698411  1.0678522   1.10124423  0.\n",
      "  1.93725331  1.57939832 55.92557835  4.46423365  0.         10.32832369\n",
      "  8.96980688  2.1329589   6.37540872  0.          2.32494117  3.4423079\n",
      "  1.1988162  22.78921493] (20,)\n"
     ]
    }
   ],
   "source": [
    "\n",
    "# Ex2: Convert a 2D array in 1D keeping all elements\n",
    "\n",
    "print(A)\n",
    "print(A.shape)\n",
    "A_flat = A.flatten()\n",
    "print(A_flat, A_flat.shape)"
   ]
  },
  {
   "cell_type": "markdown",
   "metadata": {
    "slideshow": {
     "slide_type": "subslide"
    }
   },
   "source": [
    "### 4.1 - Remark: dot product"
   ]
  },
  {
   "cell_type": "code",
   "execution_count": 25,
   "metadata": {
    "execution": {
     "iopub.execute_input": "2021-02-10T11:11:51.236075Z",
     "iopub.status.busy": "2021-02-10T11:11:51.235605Z",
     "iopub.status.idle": "2021-02-10T11:11:51.237843Z",
     "shell.execute_reply": "2021-02-10T11:11:51.238319Z"
    }
   },
   "outputs": [
    {
     "name": "stdout",
     "output_type": "stream",
     "text": [
      "[ 0.  1.  2.  3.  4.  5.  6.  7.  8.  9. 10.]\n",
      "385.0\n"
     ]
    }
   ],
   "source": [
    "b = np.linspace(0, 10, 11)\n",
    "c = b @ b\n",
    "# before 3.5:\n",
    "# c = b.dot(b)\n",
    "print(b)\n",
    "print(c)"
   ]
  },
  {
   "cell_type": "markdown",
   "metadata": {},
   "source": [
    "### 4.2 -  For Matlab users\n",
    "\n",
    "|     ` `       | Matlab | Numpy |\n",
    "| ------------- | ------ | ----- |\n",
    "| element wise  |  `.*`  |  `*`  |\n",
    "|  dot product  |  `*`   |  `@`  |"
   ]
  },
  {
   "cell_type": "markdown",
   "metadata": {},
   "source": [
    "`numpy` arrays can also be sorted, even when they are composed of complex data if the type of the columns are explicitly stated with `dtypes`."
   ]
  },
  {
   "cell_type": "markdown",
   "metadata": {
    "slideshow": {
     "slide_type": "subslide"
    }
   },
   "source": [
    "### 4.3 -  NumPy and SciPy sub-packages:\n",
    "\n",
    "We already saw `numpy.random` to generate `numpy` arrays filled with random values. This submodule also provides functions related to distributions (Poisson, gaussian, etc.) and permutations."
   ]
  },
  {
   "cell_type": "markdown",
   "metadata": {},
   "source": [
    "To perform linear algebra with dense matrices, we can use the submodule `numpy.linalg`. For instance, in order to compute the determinant of a random matrix, we use the method `det`"
   ]
  },
  {
   "cell_type": "code",
   "execution_count": 26,
   "metadata": {
    "execution": {
     "iopub.execute_input": "2021-02-10T11:11:51.242447Z",
     "iopub.status.busy": "2021-02-10T11:11:51.241972Z",
     "iopub.status.idle": "2021-02-10T11:11:51.244592Z",
     "shell.execute_reply": "2021-02-10T11:11:51.244972Z"
    }
   },
   "outputs": [
    {
     "name": "stdout",
     "output_type": "stream",
     "text": [
      "[[0.83764052 0.40958368 0.54489936 0.58521968 0.08475294]\n",
      " [0.92368861 0.7880218  0.11325541 0.31329903 0.26083491]\n",
      " [0.89783234 0.38385572 0.50943619 0.0023744  0.60152127]\n",
      " [0.93101479 0.52772295 0.35964418 0.77921721 0.32323606]\n",
      " [0.70334195 0.13389007 0.40467299 0.44377009 0.69673332]]\n"
     ]
    },
    {
     "data": {
      "text/plain": [
       "0.0012931102705524067"
      ]
     },
     "execution_count": 1,
     "metadata": {},
     "output_type": "execute_result"
    }
   ],
   "source": [
    "A = np.random.random([5,5])\n",
    "print(A)\n",
    "np.linalg.det(A)"
   ]
  },
  {
   "cell_type": "code",
   "execution_count": 27,
   "metadata": {
    "execution": {
     "iopub.execute_input": "2021-02-10T11:11:51.249136Z",
     "iopub.status.busy": "2021-02-10T11:11:51.248666Z",
     "iopub.status.idle": "2021-02-10T11:11:51.251710Z",
     "shell.execute_reply": "2021-02-10T11:11:51.251209Z"
    }
   },
   "outputs": [
    {
     "name": "stdout",
     "output_type": "stream",
     "text": [
      "[[0.7880218  0.11325541]\n",
      " [0.38385572 0.50943619]]\n"
     ]
    },
    {
     "data": {
      "text/plain": [
       "array([[ 1.42311309, -0.31637967],\n",
       "       [-1.0723033 ,  2.2013437 ]])"
      ]
     },
     "execution_count": 1,
     "metadata": {},
     "output_type": "execute_result"
    }
   ],
   "source": [
    "squared_subA = A[1:3, 1:3]\n",
    "print(squared_subA)\n",
    "np.linalg.inv(squared_subA)"
   ]
  },
  {
   "cell_type": "markdown",
   "metadata": {
    "slideshow": {
     "slide_type": "slide"
    }
   },
   "source": [
    "### 4.4 -  Introduction to Pandas: Python Data Analysis Library\n",
    "\n",
    "Pandas is an open source library providing high-performance, easy-to-use data structures and data analysis tools for Python.\n",
    "\n",
    "[Pandas tutorial](https://pandas.pydata.org/pandas-docs/stable/10min.html)\n",
    "[Grenoble Python Working Session](https://github.com/iutzeler/Pres_Pandas/)\n",
    "[Pandas for SQL Users](http://sergilehkyi.com/translating-sql-to-pandas/)\n",
    "[Pandas Introduction Training HPC Python@UGA](https://gricad-gitlab.univ-grenoble-alpes.fr/python-uga/training-hpc/-/blob/master/ipynb/11_pandas.ipynb)"
   ]
  },
  {
   "cell_type": "markdown",
   "metadata": {},
   "source": [
    "---\n",
    "<img width=\"80px\" src=\"../fidle/img/00-Fidle-logo-01.svg\"></img>"
   ]
  }
 ],
 "metadata": {
  "celltoolbar": "Diaporama",
  "kernelspec": {
   "display_name": "Python 3",
   "language": "python",
   "name": "python3"
  },
  "language_info": {
   "codemirror_mode": {
    "name": "ipython",
    "version": 3
   },
   "file_extension": ".py",
   "mimetype": "text/x-python",
   "name": "python",
   "nbconvert_exporter": "python",
   "pygments_lexer": "ipython3",
   "version": "3.7.9"
  }
 },
 "nbformat": 4,
 "nbformat_minor": 4
}
