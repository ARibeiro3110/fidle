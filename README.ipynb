{
 "cells": [
  {
   "cell_type": "code",
   "execution_count": 1,
   "metadata": {
    "execution": {
     "iopub.execute_input": "2021-01-07T21:19:54.709020Z",
     "iopub.status.busy": "2021-01-07T21:19:54.707336Z",
     "iopub.status.idle": "2021-01-07T21:19:54.713111Z",
     "shell.execute_reply": "2021-01-07T21:19:54.712591Z"
    },
    "jupyter": {
     "source_hidden": true
    }
   },
   "outputs": [
    {
     "data": {
      "text/markdown": [
       "<a name=\"top\"></a>\n",
       "\n",
       "[<img width=\"600px\" src=\"fidle/img/00-Fidle-titre-01.svg\"></img>](#top)\n",
       "\n",
       "<!-- --------------------------------------------------- -->\n",
       "<!-- To correctly view this README under Jupyter Lab     -->\n",
       "<!-- Open the notebook: README.ipynb!                    -->\n",
       "<!-- --------------------------------------------------- -->\n",
       "\n",
       "\n",
       "## A propos\n",
       "\n",
       "This repository contains all the documents and links of the **Fidle Training** .   \n",
       "Fidle (for Formation Introduction au Deep Learning) is a 2-day training session  \n",
       "co-organized by the Formation Permanente CNRS and the SARI and DEVLOG networks.  \n",
       "\n",
       "The objectives of this training are :\n",
       " - Understanding the **bases of Deep Learning** neural networks\n",
       " - Develop a **first experience** through simple and representative examples\n",
       " - Understanding **Tensorflow/Keras** and **Jupyter lab** technologies\n",
       " - Apprehend the **academic computing environments** Tier-2 or Tier-1 with powerfull GPU\n",
       "\n",
       "For more information, you can contact us at : \n",
       "[<img width=\"200px\" style=\"vertical-align:middle\" src=\"fidle/img/00-Mail_contact.svg\"></img>](#top)  \n",
       "Current Version : <!-- VERSION_BEGIN -->\n",
       "1.2b1 DEV\n",
       "<!-- VERSION_END -->\n",
       "\n",
       "\n",
       "## Course materials\n",
       "\n",
       "| | | |\n",
       "|:--:|:--:|:--:|\n",
       "| **[<img width=\"50px\" src=\"fidle/img/00-Fidle-pdf.svg\"></img><br>Course slides](https://cloud.univ-grenoble-alpes.fr/index.php/s/wxCztjYBbQ6zwd6)**<br>The course in pdf format<br>(12 Mo)| **[<img width=\"50px\" src=\"fidle/img/00-Notebooks.svg\"></img><br>Notebooks](https://gricad-gitlab.univ-grenoble-alpes.fr/talks/fidle/-/archive/master/fidle-master.zip)**<br> &nbsp;&nbsp;&nbsp;&nbsp;Get a Zip or clone this repository &nbsp;&nbsp;&nbsp;&nbsp;<br>(10 Mo)| **[<img width=\"50px\" src=\"fidle/img/00-Datasets-tar.svg\"></img><br>Datasets](https://cloud.univ-grenoble-alpes.fr/index.php/s/wxCztjYBbQ6zwd6)**<br>All the needed datasets<br>(1.2 Go)|\n",
       "\n",
       "Have a look about **[How to get and install](https://gricad-gitlab.univ-grenoble-alpes.fr/talks/fidle/-/wikis/Install-Fidle)** these notebooks and datasets.\n",
       "\n",
       "\n",
       "## Jupyter notebooks\n",
       "\n",
       "<!-- INDEX_BEGIN -->\n",
       "| | |\n",
       "|--|--|\n",
       "|LINR1| [Linear regression with direct resolution](LinearReg/01-Linear-Regression.ipynb)<br>Direct determination of linear regression |\n",
       "|GRAD1| [Linear regression with gradient descent](LinearReg/02-Gradient-descent.ipynb)<br>An example of gradient descent in the simple case of a linear regression.|\n",
       "|POLR1| [Complexity Syndrome](LinearReg/03-Polynomial-Regression.ipynb)<br>Illustration of the problem of complexity with the polynomial regression|\n",
       "|LOGR1| [Logistic regression, with sklearn](LinearReg/04-Logistic-Regression.ipynb)<br>Logistic Regression using Sklearn|\n",
       "|PER57| [Perceptron Model 1957](IRIS/01-Simple-Perceptron.ipynb)<br>A simple perceptron, with the IRIS dataset.|\n",
       "|MNIST1| [Simple classification with DNN](MNIST/01-DNN-MNIST.ipynb)<br>Example of classification with a fully connected neural network|\n",
       "|GTSRB1| [CNN with GTSRB dataset - Data analysis and preparation](GTSRB/01-Preparation-of-data.ipynb)<br>Episode 1 : Data analysis and creation of a usable dataset|\n",
       "|GTSRB2| [CNN with GTSRB dataset - First convolutions](GTSRB/02-First-convolutions.ipynb)<br>Episode 2 : First convolutions and first results|\n",
       "|GTSRB3| [CNN with GTSRB dataset - Monitoring ](GTSRB/03-Tracking-and-visualizing.ipynb)<br>Episode 3 : Monitoring and analysing training, managing checkpoints|\n",
       "|GTSRB4| [CNN with GTSRB dataset - Data augmentation ](GTSRB/04-Data-augmentation.ipynb)<br>Episode 4 : Improving the results with data augmentation|\n",
       "|GTSRB5| [CNN with GTSRB dataset - Full convolutions ](GTSRB/05-Full-convolutions.ipynb)<br>Episode 5 : A lot of models, a lot of datasets and a lot of results.|\n",
       "|GTSRB6| [Full convolutions as a batch](GTSRB/06-Notebook-as-a-batch.ipynb)<br>Episode 6 : Run Full convolution notebook as a batch|\n",
       "|GTSRB7| [CNN with GTSRB dataset - Show reports](GTSRB/07-Show-report.ipynb)<br>Episode 7 : Displaying a jobs report|\n",
       "|GTSRB10| [OAR batch submission](GTSRB/batch_oar.sh)<br>Bash script for OAR batch submission of GTSRB notebook |\n",
       "|GTSRB11| [SLURM batch script](GTSRB/batch_slurm.sh)<br>Bash script for SLURM batch submission of GTSRB notebooks |\n",
       "|IMDB1| [Text embedding with IMDB](IMDB/01-Embedding-Keras.ipynb)<br>A very classical example of word embedding for text classification (sentiment analysis)|\n",
       "|IMDB2| [Text embedding with IMDB - Reloaded](IMDB/02-Prediction.ipynb)<br>Example of reusing a previously saved model|\n",
       "|IMDB3| [Text embedding/LSTM model with IMDB](IMDB/03-LSTM-Keras.ipynb)<br>Still the same problem, but with a network combining embedding and LSTM|\n",
       "|SYNOP1| [Time series with RNN - Preparation of data](SYNOP/01-Preparation-of-data.ipynb)<br>Episode 1 : Data analysis and creation of a usable dataset|\n",
       "|SYNOP2| [Time series with RNN - Try a prediction](SYNOP/02-First-predictions.ipynb)<br>Episode 2 : Training session and first predictions|\n",
       "|SYNOP3| [Time series with RNN - 12h predictions](SYNOP/03-12h-predictions.ipynb)<br>Episode 3: Attempt to predict in the longer term |\n",
       "|VAE1| [Variational AutoEncoder (VAE) with MNIST](VAE/01-VAE-with-MNIST.ipynb)<br>Building a simple model with the MNIST dataset|\n",
       "|VAE2| [Variational AutoEncoder (VAE) with MNIST - Analysis](VAE/02-VAE-with-MNIST-post.ipynb)<br>Visualization and analysis of latent space|\n",
       "|VAE3| [About the CelebA dataset](VAE/05-About-CelebA.ipynb)<br>Presentation of the CelebA dataset and problems related to its size|\n",
       "|VAE6| [Preparation of the CelebA dataset](VAE/06-Prepare-CelebA-datasets.ipynb)<br>Preparation of a clustered dataset, batchable|\n",
       "|VAE7| [Checking the clustered CelebA dataset](VAE/07-Check-CelebA.ipynb)<br>Check the clustered dataset|\n",
       "|VAE8| [Variational AutoEncoder (VAE) with CelebA](VAE/08-VAE-with-CelebA.ipynb)<br>Building a VAE and train it, using a data generator|\n",
       "|VAE9| [Variational AutoEncoder (VAE) with CelebA - Analysis](VAE/09-VAE-withCelebA-post.ipynb)<br>Exploring latent space of our trained models|\n",
       "|VAE10| [SLURM batch script](VAE/batch_slurm.sh)<br>Bash script for SLURM batch submission of VAE notebooks |\n",
       "|ACTF1| [Activation functions](Misc/Activation-Functions.ipynb)<br>Some activation functions, with their derivatives.|\n",
       "|NP1| [A short introduction to Numpy](Misc/Numpy.ipynb)<br>Numpy is an essential tool for the Scientific Python.|\n",
       "|TSB1| [Tensorboard with/from Jupyter ](Misc/Using-Tensorboard.ipynb)<br>4 ways to use Tensorboard from the Jupyter environment|\n",
       "<!-- INDEX_END -->\n",
       "\n",
       "\n",
       "## Installation\n",
       "\n",
       "A procedure for **configuring** and **starting Jupyter** is available in the **[Wiki](https://gricad-gitlab.univ-grenoble-alpes.fr/talks/fidle/-/wikis/Install-Fidle)**.\n",
       "\n",
       "## Licence\n",
       "\n",
       "[<img width=\"100px\" src=\"fidle/img/00-fidle-CC BY-NC-SA.svg\"></img>](https://creativecommons.org/licenses/by-nc-sa/4.0/)  \n",
       "\\[en\\] Attribution - NonCommercial - ShareAlike 4.0 International (CC BY-NC-SA 4.0)  \n",
       "\\[Fr\\] Attribution - Pas d’Utilisation Commerciale - Partage dans les Mêmes Conditions 4.0 International  \n",
       "See [License](https://creativecommons.org/licenses/by-nc-sa/4.0/legalcode).  \n",
       "See [Disclaimer](https://creativecommons.org/licenses/by-nc-sa/4.0/#).  \n",
       "\n",
       "\n",
       "----\n",
       "[<img width=\"80px\" src=\"fidle/img/00-Fidle-logo-01.svg\"></img>](#top)\n"
      ],
      "text/plain": [
       "<IPython.core.display.Markdown object>"
      ]
     },
     "metadata": {},
     "output_type": "display_data"
    }
   ],
   "source": [
    "from IPython.display import display,Markdown\n",
    "display(Markdown(open('README.md', 'r').read()))\n",
    "#\n",
    "# This README is visible under Jupiter LAb ! :-)"
   ]
  }
 ],
 "metadata": {
  "language_info": {
   "codemirror_mode": {
    "name": "ipython",
    "version": 3
   },
   "file_extension": ".py",
   "mimetype": "text/x-python",
   "name": "python",
   "nbconvert_exporter": "python",
   "pygments_lexer": "ipython3",
   "version": "3.7.9"
  }
 },
 "nbformat": 4,
 "nbformat_minor": 4
}
