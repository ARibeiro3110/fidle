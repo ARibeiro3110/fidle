{
 "cells": [
  {
   "cell_type": "markdown",
   "metadata": {},
   "source": [
    "<img width=\"800px\" src=\"../fidle/img/00-Fidle-header-01.svg\"></img>\n",
    "\n",
    "\n",
    "## Continuous integration report\n",
    "\n",
    "Each notebook indicates its start and end of execution:\n",
    " - at the beginning, with `pwk.init()`\n",
    " - at the end, with `pwk.end()`  \n",
    " \n",
    "All of theses informations are saved in a json file - Final report is below and in a HTML file.  \n",
    "See ./log"
   ]
  },
  {
   "cell_type": "code",
   "execution_count": 1,
   "metadata": {},
   "outputs": [
    {
     "data": {
      "text/html": [
       "<style  type=\"text/css\" >\n",
       "    #T_58cf4_ td {\n",
       "          font-size: 110%;\n",
       "          text-align: left;\n",
       "    }    #T_58cf4_ th {\n",
       "          font-size: 110%;\n",
       "          text-align: left;\n",
       "    }#T_58cf4_row2_col7{\n",
       "            background-color:  OrangeRed;\n",
       "             color: white;\n",
       "            background-color:  OrangeRed;\n",
       "             color: white;\n",
       "        }</style><table id=\"T_58cf4_\" ><thead>    <tr>        <th class=\"col_heading level0 col0\" >id</th>        <th class=\"col_heading level0 col1\" >dir</th>        <th class=\"col_heading level0 col2\" >src</th>        <th class=\"col_heading level0 col3\" >out</th>        <th class=\"col_heading level0 col4\" >start</th>        <th class=\"col_heading level0 col5\" >end</th>        <th class=\"col_heading level0 col6\" >duration</th>        <th class=\"col_heading level0 col7\" >state</th>    </tr></thead><tbody>\n",
       "                <tr>\n",
       "                                <td id=\"T_58cf4_row0_col0\" class=\"data row0 col0\" ><a href='../LinearReg/01-Linear-Regression.ipynb'>LINR1</a></td>\n",
       "                        <td id=\"T_58cf4_row0_col1\" class=\"data row0 col1\" >LinearReg</td>\n",
       "                        <td id=\"T_58cf4_row0_col2\" class=\"data row0 col2\" ><a href='../LinearReg/01-Linear-Regression.ipynb'>01-Linear-Regression.ipynb</a></td>\n",
       "                        <td id=\"T_58cf4_row0_col3\" class=\"data row0 col3\" ><a href='../LinearReg/01-Linear-Regression==done==.ipynb'>01-Linear-Regression==done==.ipynb</a></td>\n",
       "                        <td id=\"T_58cf4_row0_col4\" class=\"data row0 col4\" >11/01/21 01:07:35</td>\n",
       "                        <td id=\"T_58cf4_row0_col5\" class=\"data row0 col5\" >11/01/21 01:07:39</td>\n",
       "                        <td id=\"T_58cf4_row0_col6\" class=\"data row0 col6\" >0:00:04</td>\n",
       "                        <td id=\"T_58cf4_row0_col7\" class=\"data row0 col7\" >ok</td>\n",
       "            </tr>\n",
       "            <tr>\n",
       "                                <td id=\"T_58cf4_row1_col0\" class=\"data row1 col0\" ><a href='../IRIS/01-Simple-Perceptron.ipynb'>PER57</a></td>\n",
       "                        <td id=\"T_58cf4_row1_col1\" class=\"data row1 col1\" >IRIS</td>\n",
       "                        <td id=\"T_58cf4_row1_col2\" class=\"data row1 col2\" ><a href='../IRIS/01-Simple-Perceptron.ipynb'>01-Simple-Perceptron.ipynb</a></td>\n",
       "                        <td id=\"T_58cf4_row1_col3\" class=\"data row1 col3\" ><a href='../IRIS/01-Simple-Perceptron==done==.ipynb'>01-Simple-Perceptron==done==.ipynb</a></td>\n",
       "                        <td id=\"T_58cf4_row1_col4\" class=\"data row1 col4\" >11/01/21 01:07:39</td>\n",
       "                        <td id=\"T_58cf4_row1_col5\" class=\"data row1 col5\" >11/01/21 01:07:42</td>\n",
       "                        <td id=\"T_58cf4_row1_col6\" class=\"data row1 col6\" >0:00:02</td>\n",
       "                        <td id=\"T_58cf4_row1_col7\" class=\"data row1 col7\" >ok</td>\n",
       "            </tr>\n",
       "            <tr>\n",
       "                                <td id=\"T_58cf4_row2_col0\" class=\"data row2 col0\" ><a href='../GTSRB/02-First-convolutions.ipynb'>GTSRB2</a></td>\n",
       "                        <td id=\"T_58cf4_row2_col1\" class=\"data row2 col1\" >GTSRB</td>\n",
       "                        <td id=\"T_58cf4_row2_col2\" class=\"data row2 col2\" ><a href='../GTSRB/02-First-convolutions.ipynb'>02-First-convolutions.ipynb</a></td>\n",
       "                        <td id=\"T_58cf4_row2_col3\" class=\"data row2 col3\" ><a href='../GTSRB/02-First-convolutions==ERROR==.ipynb'>02-First-convolutions==ERROR==.ipynb</a></td>\n",
       "                        <td id=\"T_58cf4_row2_col4\" class=\"data row2 col4\" >11/01/21 01:07:42</td>\n",
       "                        <td id=\"T_58cf4_row2_col5\" class=\"data row2 col5\" >11/01/21 01:07:44</td>\n",
       "                        <td id=\"T_58cf4_row2_col6\" class=\"data row2 col6\" >0:00:02</td>\n",
       "                        <td id=\"T_58cf4_row2_col7\" class=\"data row2 col7\" >ERROR</td>\n",
       "            </tr>\n",
       "    </tbody></table>"
      ],
      "text/plain": [
       "<pandas.io.formats.style.Styler at 0x7f1cf038af10>"
      ]
     },
     "metadata": {},
     "output_type": "display_data"
    }
   ],
   "source": [
    "import cookci\n",
    "cookci.build_ci_report()"
   ]
  },
  {
   "cell_type": "markdown",
   "metadata": {},
   "source": [
    "---\n",
    "<img width=\"80px\" src=\"../fidle/img/00-Fidle-logo-01.svg\"></img>"
   ]
  }
 ],
 "metadata": {
  "kernelspec": {
   "display_name": "Python 3",
   "language": "python",
   "name": "python3"
  },
  "language_info": {
   "codemirror_mode": {
    "name": "ipython",
    "version": 3
   },
   "file_extension": ".py",
   "mimetype": "text/x-python",
   "name": "python",
   "nbconvert_exporter": "python",
   "pygments_lexer": "ipython3",
   "version": "3.7.9"
  }
 },
 "nbformat": 4,
 "nbformat_minor": 4
}
