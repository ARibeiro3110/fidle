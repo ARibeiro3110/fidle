{
 "cells": [
  {
   "cell_type": "markdown",
   "metadata": {},
   "source": [
    "<img width=\"800px\" src=\"../fidle/img/00-Fidle-header-01.svg\"></img>\n",
    "\n",
    "\n",
    "## Mise a jour du catalog des notebooks et des READMEs\n",
    " - Génération du **catalog des notebooks** : `./log/catalog_nb.json`\n",
    " - Génération automatique de la **table des matières**\n",
    " - Mise à jour des **README** `README.md` et `REAME.ipynb`\n",
    " - #Reset du **finihed_file**\n",
    "\n"
   ]
  },
  {
   "cell_type": "markdown",
   "metadata": {},
   "source": [
    "## Step 1 - Load modules and init"
   ]
  },
  {
   "cell_type": "code",
   "execution_count": 1,
   "metadata": {},
   "outputs": [],
   "source": [
    "import nbformat\n",
    "from nbconvert.preprocessors import ExecutePreprocessor\n",
    "\n",
    "import re\n",
    "import sys, os, glob\n",
    "import json\n",
    "from collections import OrderedDict\n",
    "\n",
    "sys.path.append('..')\n",
    "import fidle.pwk as pwk\n",
    "import fidle.config as config\n",
    "import fidle.cooker as cooker"
   ]
  },
  {
   "cell_type": "markdown",
   "metadata": {},
   "source": [
    "## Step 2 - List of folders containing notebooks to be indexed :"
   ]
  },
  {
   "cell_type": "code",
   "execution_count": 2,
   "metadata": {},
   "outputs": [],
   "source": [
    "directories_to_index = ['LinearReg', 'IRIS', 'BHPD', 'MNIST', 'GTSRB', 'IMDB', 'SYNOP', 'VAE', 'Misc']"
   ]
  },
  {
   "cell_type": "markdown",
   "metadata": {},
   "source": [
    "## Step 3 - Catalog of notebooks"
   ]
  },
  {
   "cell_type": "code",
   "execution_count": 3,
   "metadata": {},
   "outputs": [
    {
     "name": "stdout",
     "output_type": "stream",
     "text": [
      "Catalog saved as ../fidle/log/catalog.json\n"
     ]
    }
   ],
   "source": [
    "\n",
    "# ---- Get the notebook list\n",
    "#\n",
    "notebooks_list = cooker.get_notebooks(directories_to_index)\n",
    "\n",
    "# ---- Get a detailled catalog for this list\n",
    "#\n",
    "catalog = cooker.get_catalog(notebooks_list)\n",
    "\n",
    "with open(config.CATALOG_FILE,'wt') as fp:\n",
    "    json.dump(catalog,fp,indent=4)\n",
    "    print(f'Catalog saved as {config.CATALOG_FILE}')    "
   ]
  },
  {
   "cell_type": "markdown",
   "metadata": {},
   "source": [
    "## Step 4 - README.md"
   ]
  },
  {
   "cell_type": "code",
   "execution_count": 4,
   "metadata": {},
   "outputs": [
    {
     "name": "stdout",
     "output_type": "stream",
     "text": [
      "README.md is updated.\n"
     ]
    }
   ],
   "source": [
    "# ---- Create a markdown index\n",
    "#\n",
    "lines=['| | |','|--|--|']\n",
    "tab='&nbsp;'*5\n",
    "for id, about in catalog.items():\n",
    "    id          = about['id']\n",
    "    dirname     = about['dirname']\n",
    "    basename    = about['basename']\n",
    "    title       = about['title']\n",
    "    description = about['description']\n",
    "      \n",
    "#     lines.append( f'[[{id}] - {title}]({dirname}/{basename})  ' )\n",
    "#     lines.append( f'{tab}{description}  ')\n",
    "    lines.append( f'|{id}| [{title}]({dirname}/{basename})<br>{description}|')\n",
    "\n",
    "index = '\\n'.join(lines)\n",
    "    \n",
    "# ---- Load README.md\n",
    "#\n",
    "with open('../README.md','r') as fp:\n",
    "    readme=fp.read()\n",
    "    \n",
    "# ---- Update index, version\n",
    "#\n",
    "readme = cooker.tag('INDEX',   index,          readme)\n",
    "readme = cooker.tag('VERSION', config.VERSION, readme)\n",
    "\n",
    "# ---- Save it\n",
    "#\n",
    "with open('../README.md','wt') as fp:\n",
    "    fp.write(readme)\n",
    "\n",
    "print('README.md is updated.')"
   ]
  },
  {
   "cell_type": "markdown",
   "metadata": {},
   "source": [
    "## Step 5 - README.ipynb\n",
    "Just execute README.ipynb"
   ]
  },
  {
   "cell_type": "raw",
   "metadata": {},
   "source": [
    "# ---- Load notebook\n",
    "#\n",
    "notebook = nbformat.read('../README.ipynb', nbformat.NO_CONVERT)\n",
    "\n",
    "# new_cell = nbformat.v4.new_markdown_cell(source=readme)\n",
    "# notebook.cells.append(new_cell)\n",
    "\n",
    "# ---- Execute it\n",
    "#\n",
    "ep = ExecutePreprocessor(timeout=600, kernel_name=\"python3\")\n",
    "ep.preprocess(notebook,  {'metadata': {'path': '..'}})\n",
    "\n",
    "# ---- Save it\n",
    "with open('../READMEv2.ipynb', mode=\"w\", encoding='utf-8') as fp:\n",
    "    nbformat.write(notebook)"
   ]
  },
  {
   "cell_type": "markdown",
   "metadata": {},
   "source": [
    "## Step 6 - More fun : Create and execute it !"
   ]
  },
  {
   "cell_type": "markdown",
   "metadata": {},
   "source": [
    "Plus rigolo, on va fabriquer le README.ipynb et l'executer :-)"
   ]
  },
  {
   "cell_type": "code",
   "execution_count": 5,
   "metadata": {},
   "outputs": [
    {
     "name": "stdout",
     "output_type": "stream",
     "text": [
      "README.ipynb built and saved\n"
     ]
    }
   ],
   "source": [
    "# ---- Create Notebook from scratch\n",
    "#\n",
    "notebook = nbformat.v4.new_notebook()\n",
    "\n",
    "# ---- Add a code cell\n",
    "#\n",
    "code = \"from IPython.display import display,Markdown\\n\"\n",
    "code+= \"display(Markdown(open('README.md', 'r').read()))\\n\"\n",
    "code+= \"#\\n\"\n",
    "code+= \"# This README is visible under Jupiter LAb ! :-)\"\n",
    "\n",
    "new_cell = nbformat.v4.new_code_cell(source=code)\n",
    "new_cell['metadata']= { \"jupyter\": { \"source_hidden\": True} }\n",
    "notebook.cells.append(new_cell)\n",
    "\n",
    "# ---- Run it\n",
    "#\n",
    "ep = ExecutePreprocessor(timeout=600, kernel_name=\"python3\")\n",
    "ep.preprocess(notebook,  {'metadata': {'path': '..'}})\n",
    "\n",
    "# ---- Save it\n",
    "#\n",
    "with open('../README.ipynb', mode=\"w\", encoding='utf-8') as fp:\n",
    "    nbformat.write(notebook, fp)\n",
    "print('README.ipynb built and saved')"
   ]
  },
  {
   "cell_type": "markdown",
   "metadata": {},
   "source": [
    "## Step 7 - Reset Finished_file"
   ]
  },
  {
   "cell_type": "code",
   "execution_count": 6,
   "metadata": {},
   "outputs": [],
   "source": [
    "# pwk.reset_finished_file()"
   ]
  },
  {
   "cell_type": "markdown",
   "metadata": {},
   "source": [
    "---\n",
    "<img width=\"80px\" src=\"../fidle/img/00-Fidle-logo-01.svg\"></img>"
   ]
  }
 ],
 "metadata": {
  "kernelspec": {
   "display_name": "Python 3",
   "language": "python",
   "name": "python3"
  },
  "language_info": {
   "codemirror_mode": {
    "name": "ipython",
    "version": 3
   },
   "file_extension": ".py",
   "mimetype": "text/x-python",
   "name": "python",
   "nbconvert_exporter": "python",
   "pygments_lexer": "ipython3",
   "version": "3.7.7"
  }
 },
 "nbformat": 4,
 "nbformat_minor": 4
}
