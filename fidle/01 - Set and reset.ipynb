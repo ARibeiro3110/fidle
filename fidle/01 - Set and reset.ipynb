{
 "cells": [
  {
   "cell_type": "markdown",
   "metadata": {},
   "source": [
    "<img width=\"800px\" src=\"../fidle/img/00-Fidle-header-01.svg\"></img>\n",
    "\n",
    "\n",
    "## Mise a jour du catalog des notebooks et des READMEs\n",
    " - Génération du **catalog des notebooks** : `./log/catalog_nb.json`\n",
    " - Génération automatique de la **table des matières**\n",
    " - Mise à jour des **README** `README.md` et `REAME.ipynb`\n",
    " - #Reset du **finihed_file**\n",
    "\n"
   ]
  },
  {
   "cell_type": "markdown",
   "metadata": {},
   "source": [
    "## Step 1 - Load modules and init"
   ]
  },
  {
   "cell_type": "code",
   "execution_count": 5,
   "metadata": {},
   "outputs": [],
   "source": [
    "import nbformat\n",
    "from nbconvert.preprocessors import ExecutePreprocessor\n",
    "from IPython.display import display,Image,Markdown,HTML\n",
    "import re\n",
    "import sys, os, glob\n",
    "import json\n",
    "from collections import OrderedDict\n",
    "from importlib import reload\n",
    "\n",
    "sys.path.append('..')\n",
    "import fidle.pwk as pwk\n",
    "import fidle.config as config\n",
    "import fidle.cooker as cooker\n"
   ]
  },
  {
   "cell_type": "markdown",
   "metadata": {},
   "source": [
    "## Step 2 - List of folders containing notebooks to be indexed :"
   ]
  },
  {
   "cell_type": "code",
   "execution_count": 6,
   "metadata": {},
   "outputs": [],
   "source": [
    "directories_to_index = ['LinearReg', 'IRIS', 'BHPD', 'MNIST', 'GTSRB', 'IMDB', 'SYNOP', 'VAE', 'Misc']"
   ]
  },
  {
   "cell_type": "markdown",
   "metadata": {},
   "source": [
    "## Step 3 - Catalog of notebooks\n",
    "### 3.1 - Build catalog"
   ]
  },
  {
   "cell_type": "code",
   "execution_count": 7,
   "metadata": {},
   "outputs": [
    {
     "name": "stdout",
     "output_type": "stream",
     "text": [
      "Catalog saved as ../fidle/log/catalog.json\n",
      "Entries :  32\n"
     ]
    }
   ],
   "source": [
    "# ---- Get the notebook list\n",
    "#\n",
    "files_list = cooker.get_files(directories_to_index)\n",
    "\n",
    "# ---- Get a detailled catalog for this list\n",
    "#\n",
    "catalog = cooker.get_catalog(files_list)\n",
    "\n",
    "with open(config.CATALOG_FILE,'wt') as fp:\n",
    "    json.dump(catalog,fp,indent=4)\n",
    "    print(f'Catalog saved as {config.CATALOG_FILE}')\n",
    "    print('Entries : ',len(catalog))"
   ]
  },
  {
   "cell_type": "markdown",
   "metadata": {},
   "source": [
    "### 3.2 build index"
   ]
  },
  {
   "cell_type": "code",
   "execution_count": 49,
   "metadata": {},
   "outputs": [
    {
     "data": {
      "text/markdown": [
       "**Index is :**"
      ],
      "text/plain": [
       "<IPython.core.display.Markdown object>"
      ]
     },
     "metadata": {},
     "output_type": "display_data"
    },
    {
     "data": {
      "text/html": [
       "<style>\n",
       "\n",
       ".fid_id {    \n",
       "    font-size:1.em;\n",
       "    color:black;\n",
       "    font-weight: bold; \n",
       "    padding:0px;\n",
       "    padding-left: 0px;\n",
       "    display: inline-block;\n",
       "    width: 60px;\n",
       "    }\n",
       "\n",
       ".fid_desc {    \n",
       "    font-size:1.em;\n",
       "    padding:0px;\n",
       "    padding-left: 60px;\n",
       "    display: inline-block;\n",
       "    width: 400px;\n",
       "    }\n",
       "\n",
       "\n",
       "\n",
       "div.fid_section {    \n",
       "    font-size:1.4em;\n",
       "    color:darkgray;\n",
       "    padding: 1.em;!important;\n",
       "    }\n",
       "\n",
       "</style>\n",
       "<div class=\"fid_section\">Linear and logistic regression</div>\n",
       "<div class=\"fid_line\">\n",
       "                     <span class=\"fid_id\">LINR1</span> <a href=\"LinearReg/01-Linear-Regression.ipynb\">Linear regression with direct resolution</a><br>\n",
       "                     <span class=\"fid_desc\">Direct determination of linear regression </span>\n",
       "                 </div>\n",
       "        \n",
       "<div class=\"fid_line\">\n",
       "                     <span class=\"fid_id\">GRAD1</span> <a href=\"LinearReg/02-Gradient-descent.ipynb\">Linear regression with gradient descent</a><br>\n",
       "                     <span class=\"fid_desc\">An example of gradient descent in the simple case of a linear regression.</span>\n",
       "                 </div>\n",
       "        \n",
       "<div class=\"fid_line\">\n",
       "                     <span class=\"fid_id\">POLR1</span> <a href=\"LinearReg/03-Polynomial-Regression.ipynb\">Complexity Syndrome</a><br>\n",
       "                     <span class=\"fid_desc\">Illustration of the problem of complexity with the polynomial regression</span>\n",
       "                 </div>\n",
       "        \n",
       "<div class=\"fid_line\">\n",
       "                     <span class=\"fid_id\">LOGR1</span> <a href=\"LinearReg/04-Logistic-Regression.ipynb\">Logistic regression, with sklearn</a><br>\n",
       "                     <span class=\"fid_desc\">Logistic Regression using Sklearn</span>\n",
       "                 </div>\n",
       "        \n",
       "<div class=\"fid_section\">Perceptron Model 1957</div>\n",
       "<div class=\"fid_line\">\n",
       "                     <span class=\"fid_id\">PER57</span> <a href=\"IRIS/01-Simple-Perceptron.ipynb\">Perceptron Model 1957</a><br>\n",
       "                     <span class=\"fid_desc\">A simple perceptron, with the IRIS dataset.</span>\n",
       "                 </div>\n",
       "        \n",
       "<div class=\"fid_section\">Basic regression using DNN</div>"
      ],
      "text/plain": [
       "<IPython.core.display.HTML object>"
      ]
     },
     "metadata": {},
     "output_type": "display_data"
    }
   ],
   "source": [
    "menu = {'LinearReg':'Linear and logistic regression', \n",
    "        'IRIS':'Perceptron Model 1957', \n",
    "        'BHPD':'Basic regression using DNN'}\n",
    "\n",
    "styles = open('css/readme.css', \"r\").read()\n",
    "# lines=[styles,'| | |','|--|--|']\n",
    "lines=[styles]\n",
    "\n",
    "for directory,title in menu.items():\n",
    "#     lines.append( f'|<div class=\"tagdir\"></div>| <div class=\"tagdesc\">{title}</div>|')\n",
    "    lines.append( f'<div class=\"fid_section\">{title}</div>')\n",
    "    entries = { k:v for k,v in catalog.items() if v['dirname']==directory }\n",
    "\n",
    "    for id, about in entries.items():\n",
    "        id          = about['id']\n",
    "        dirname     = about['dirname']\n",
    "        basename    = about['basename']\n",
    "        title       = about['title']\n",
    "        description = about['description']\n",
    "\n",
    "        link=f'{dirname}/{basename}'.replace(' ','%20')\n",
    "#         lines.append( f'|{id}| [{title}]({link})<br>{description}|')\n",
    "        line=f\"\"\"<div class=\"fid_line\">\n",
    "                     <span class=\"fid_id\">{id}</span> <a href=\"{link}\">{title}</a><br>\n",
    "                     <span class=\"fid_desc\">{description}</span>\n",
    "                 </div>\n",
    "        \"\"\"\n",
    "        lines.append( line)\n",
    "\n",
    "index = '\\n'.join(lines)\n",
    "display(Markdown('**Index is :**'))\n",
    "display(HTML(index))"
   ]
  },
  {
   "cell_type": "markdown",
   "metadata": {},
   "source": [
    "|||\n",
    "|-|-|\n",
    "|aaaa|ba dg dgf dfg d fgdfgr|\n",
    "|<div style=\"font-size:30px\">HJGJR</div>| kjh tretez lkjl kpo tr|"
   ]
  },
  {
   "cell_type": "markdown",
   "metadata": {},
   "source": [
    "### 3.2 build index"
   ]
  },
  {
   "cell_type": "code",
   "execution_count": 50,
   "metadata": {},
   "outputs": [
    {
     "data": {
      "text/markdown": [
       "**Index is :**"
      ],
      "text/plain": [
       "<IPython.core.display.Markdown object>"
      ]
     },
     "metadata": {},
     "output_type": "display_data"
    },
    {
     "data": {
      "text/markdown": [
       "| | |\n",
       "|--|--|\n",
       "|LINR1| [Linear regression with direct resolution](LinearReg/01-Linear-Regression.ipynb)<br>Direct determination of linear regression |\n",
       "|GRAD1| [Linear regression with gradient descent](LinearReg/02-Gradient-descent.ipynb)<br>An example of gradient descent in the simple case of a linear regression.|\n",
       "|POLR1| [Complexity Syndrome](LinearReg/03-Polynomial-Regression.ipynb)<br>Illustration of the problem of complexity with the polynomial regression|\n",
       "|LOGR1| [Logistic regression, with sklearn](LinearReg/04-Logistic-Regression.ipynb)<br>Logistic Regression using Sklearn|\n",
       "|PER57| [Perceptron Model 1957](IRIS/01-Simple-Perceptron.ipynb)<br>A simple perceptron, with the IRIS dataset.|\n",
       "|MNIST1| [Simple classification with DNN](MNIST/01-DNN-MNIST.ipynb)<br>Example of classification with a fully connected neural network|\n",
       "|GTSRB1| [CNN with GTSRB dataset - Data analysis and preparation](GTSRB/01-Preparation-of-data.ipynb)<br>Episode 1 : Data analysis and creation of a usable dataset|\n",
       "|GTSRB2| [CNN with GTSRB dataset - First convolutions](GTSRB/02-First-convolutions.ipynb)<br>Episode 2 : First convolutions and first results|\n",
       "|GTSRB3| [CNN with GTSRB dataset - Monitoring ](GTSRB/03-Tracking-and-visualizing.ipynb)<br>Episode 3 : Monitoring and analysing training, managing checkpoints|\n",
       "|GTSRB4| [CNN with GTSRB dataset - Data augmentation ](GTSRB/04-Data-augmentation.ipynb)<br>Episode 4 : Improving the results with data augmentation|\n",
       "|GTSRB5| [CNN with GTSRB dataset - Full convolutions ](GTSRB/05-Full-convolutions.ipynb)<br>Episode 5 : A lot of models, a lot of datasets and a lot of results.|\n",
       "|GTSRB6| [Full convolutions as a batch](GTSRB/06-Notebook-as-a-batch.ipynb)<br>Episode 6 : Run Full convolution notebook as a batch|\n",
       "|GTSRB7| [CNN with GTSRB dataset - Show reports](GTSRB/07-Show-report.ipynb)<br>Episode 7 : Displaying a jobs report|\n",
       "|GTSRB10| [OAR batch submission](GTSRB/batch_oar.sh)<br>Bash script for OAR batch submission of GTSRB notebook |\n",
       "|GTSRB11| [SLURM batch script](GTSRB/batch_slurm.sh)<br>Bash script for SLURM batch submission of GTSRB notebooks |\n",
       "|IMDB1| [Text embedding with IMDB](IMDB/01-Embedding-Keras.ipynb)<br>A very classical example of word embedding for text classification (sentiment analysis)|\n",
       "|IMDB2| [Text embedding with IMDB - Reloaded](IMDB/02-Prediction.ipynb)<br>Example of reusing a previously saved model|\n",
       "|IMDB3| [Text embedding/LSTM model with IMDB](IMDB/03-LSTM-Keras.ipynb)<br>Still the same problem, but with a network combining embedding and LSTM|\n",
       "|SYNOP1| [Time series with RNN - Preparation of data](SYNOP/01-Preparation-of-data.ipynb)<br>Episode 1 : Data analysis and creation of a usable dataset|\n",
       "|SYNOP2| [Time series with RNN - Try a prediction](SYNOP/02-First-predictions.ipynb)<br>Episode 2 : Training session and first predictions|\n",
       "|SYNOP3| [Time series with RNN - 12h predictions](SYNOP/03-12h-predictions.ipynb)<br>Episode 3: Attempt to predict in the longer term |\n",
       "|VAE1| [Variational AutoEncoder (VAE) with MNIST](VAE/01-VAE-with-MNIST.ipynb)<br>Building a simple model with the MNIST dataset|\n",
       "|VAE2| [Variational AutoEncoder (VAE) with MNIST - Analysis](VAE/02-VAE-with-MNIST-post.ipynb)<br>Visualization and analysis of latent space|\n",
       "|VAE3| [About the CelebA dataset](VAE/05-About-CelebA.ipynb)<br>Presentation of the CelebA dataset and problems related to its size|\n",
       "|VAE6| [Preparation of the CelebA dataset](VAE/06-Prepare-CelebA-datasets.ipynb)<br>Preparation of a clustered dataset, batchable|\n",
       "|VAE7| [Checking the clustered CelebA dataset](VAE/07-Check-CelebA.ipynb)<br>Check the clustered dataset|\n",
       "|VAE8| [Variational AutoEncoder (VAE) with CelebA](VAE/08-VAE-with-CelebA.ipynb)<br>Building a VAE and train it, using a data generator|\n",
       "|VAE9| [Variational AutoEncoder (VAE) with CelebA - Analysis](VAE/09-VAE-withCelebA-post.ipynb)<br>Exploring latent space of our trained models|\n",
       "|VAE10| [SLURM batch script](VAE/batch_slurm.sh)<br>Bash script for SLURM batch submission of VAE notebooks |\n",
       "|ACTF1| [Activation functions](Misc/Activation-Functions.ipynb)<br>Some activation functions, with their derivatives.|\n",
       "|NP1| [A short introduction to Numpy](Misc/Numpy.ipynb)<br>Numpy is an essential tool for the Scientific Python.|\n",
       "|TSB1| [Tensorboard with/from Jupyter ](Misc/Using-Tensorboard.ipynb)<br>4 ways to use Tensorboard from the Jupyter environment|"
      ],
      "text/plain": [
       "<IPython.core.display.Markdown object>"
      ]
     },
     "metadata": {},
     "output_type": "display_data"
    }
   ],
   "source": [
    "# ---- Create a markdown index\n",
    "#\n",
    "lines=['| | |','|--|--|']\n",
    "tab='&nbsp;'*5\n",
    "for id, about in catalog.items():\n",
    "    id          = about['id']\n",
    "    dirname     = about['dirname']\n",
    "    basename    = about['basename']\n",
    "    title       = about['title']\n",
    "    description = about['description']\n",
    "      \n",
    "    link=f'{dirname}/{basename}'.replace(' ','%20')\n",
    "    lines.append( f'|{id}| [{title}]({link})<br>{description}|')\n",
    "\n",
    "index = '\\n'.join(lines)\n",
    "display(Markdown('**Index is :**'))\n",
    "display(Markdown(index))"
   ]
  },
  {
   "cell_type": "markdown",
   "metadata": {},
   "source": [
    "## Step 4 - Update README.md"
   ]
  },
  {
   "cell_type": "code",
   "execution_count": 51,
   "metadata": {},
   "outputs": [
    {
     "name": "stdout",
     "output_type": "stream",
     "text": [
      "README.md is updated.\n"
     ]
    }
   ],
   "source": [
    "# ---- Load README.md\n",
    "#\n",
    "with open('../README.md','r') as fp:\n",
    "    readme=fp.read()\n",
    "    \n",
    "# ---- Update index, version\n",
    "#\n",
    "readme = cooker.tag('INDEX',   index,          readme)\n",
    "readme = cooker.tag('VERSION', config.VERSION, readme)\n",
    "\n",
    "# ---- Save it\n",
    "#\n",
    "with open('../README.md','wt') as fp:\n",
    "    fp.write(readme)\n",
    "\n",
    "print('README.md is updated.')"
   ]
  },
  {
   "cell_type": "markdown",
   "metadata": {},
   "source": [
    "## Step 5 - README.ipynb\n",
    "Just execute README.ipynb"
   ]
  },
  {
   "cell_type": "raw",
   "metadata": {},
   "source": [
    "# ---- Load notebook\n",
    "#\n",
    "notebook = nbformat.read('../README.ipynb', nbformat.NO_CONVERT)\n",
    "\n",
    "# new_cell = nbformat.v4.new_markdown_cell(source=readme)\n",
    "# notebook.cells.append(new_cell)\n",
    "\n",
    "# ---- Execute it\n",
    "#\n",
    "ep = ExecutePreprocessor(timeout=600, kernel_name=\"python3\")\n",
    "ep.preprocess(notebook,  {'metadata': {'path': '..'}})\n",
    "\n",
    "# ---- Save it\n",
    "with open('../READMEv2.ipynb', mode=\"w\", encoding='utf-8') as fp:\n",
    "    nbformat.write(notebook)"
   ]
  },
  {
   "cell_type": "markdown",
   "metadata": {},
   "source": [
    "## Step 6 - More fun : Create and execute it :-)"
   ]
  },
  {
   "cell_type": "markdown",
   "metadata": {},
   "source": [
    "Plus rigolo, on va fabriquer le README.ipynb et l'executer :-)"
   ]
  },
  {
   "cell_type": "code",
   "execution_count": 52,
   "metadata": {},
   "outputs": [
    {
     "name": "stdout",
     "output_type": "stream",
     "text": [
      "README.ipynb built and saved\n"
     ]
    }
   ],
   "source": [
    "# ---- Create Notebook from scratch\n",
    "#\n",
    "notebook = nbformat.v4.new_notebook()\n",
    "\n",
    "# ---- Add a code cell\n",
    "#\n",
    "code = \"from IPython.display import display,Markdown\\n\"\n",
    "code+= \"display(Markdown(open('README.md', 'r').read()))\\n\"\n",
    "code+= \"#\\n\"\n",
    "code+= \"# This README is visible under Jupiter LAb ! :-)\"\n",
    "\n",
    "new_cell = nbformat.v4.new_code_cell(source=code)\n",
    "new_cell['metadata']= { \"jupyter\": { \"source_hidden\": True} }\n",
    "notebook.cells.append(new_cell)\n",
    "\n",
    "# ---- Run it\n",
    "#\n",
    "ep = ExecutePreprocessor(timeout=600, kernel_name=\"python3\")\n",
    "ep.preprocess(notebook,  {'metadata': {'path': '..'}})\n",
    "\n",
    "# ---- Save it\n",
    "#\n",
    "with open('../README.ipynb', mode=\"w\", encoding='utf-8') as fp:\n",
    "    nbformat.write(notebook, fp)\n",
    "print('README.ipynb built and saved')"
   ]
  },
  {
   "cell_type": "markdown",
   "metadata": {},
   "source": [
    "## Step 7 - Reset Finished_file"
   ]
  },
  {
   "cell_type": "code",
   "execution_count": 53,
   "metadata": {},
   "outputs": [],
   "source": [
    "# pwk.reset_finished_file()"
   ]
  },
  {
   "cell_type": "markdown",
   "metadata": {},
   "source": [
    "---\n",
    "<img width=\"80px\" src=\"../fidle/img/00-Fidle-logo-01.svg\"></img>"
   ]
  }
 ],
 "metadata": {
  "kernelspec": {
   "display_name": "Python 3",
   "language": "python",
   "name": "python3"
  },
  "language_info": {
   "codemirror_mode": {
    "name": "ipython",
    "version": 3
   },
   "file_extension": ".py",
   "mimetype": "text/x-python",
   "name": "python",
   "nbconvert_exporter": "python",
   "pygments_lexer": "ipython3",
   "version": "3.7.9"
  }
 },
 "nbformat": 4,
 "nbformat_minor": 4
}
