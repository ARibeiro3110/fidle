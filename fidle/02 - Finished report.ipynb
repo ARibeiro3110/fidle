{
 "cells": [
  {
   "cell_type": "markdown",
   "metadata": {},
   "source": [
    "<img width=\"800px\" src=\"../fidle/img/00-Fidle-header-01.svg\"></img>\n",
    "\n",
    "\n",
    "## Continuous integration report\n",
    "\n",
    "Each notebook indicates its start and end of execution:\n",
    " - at the beginning, with `pwk.init()`\n",
    " - at the end, with `pwk.end()`  \n",
    " \n",
    "All of theses informations are saved in a json file - Final report is below and in a HTML file.  \n",
    "See ./log"
   ]
  },
  {
   "cell_type": "code",
   "execution_count": 1,
   "metadata": {
    "jupyter": {
     "source_hidden": true
    }
   },
   "outputs": [],
   "source": [
    "import sys\n",
    "from IPython.display import display\n",
    "sys.path.append('..')\n",
    "import fidle.config as config\n",
    "import fidle.cooker as cooker"
   ]
  },
  {
   "cell_type": "code",
   "execution_count": 3,
   "metadata": {},
   "outputs": [
    {
     "data": {
      "text/html": [
       "<style  type=\"text/css\" >\n",
       "    #T_5accec2e_3f19_11eb_8e56_19607a97f796 td {\n",
       "          font-size: 110%;\n",
       "          text-align: left;\n",
       "    }    #T_5accec2e_3f19_11eb_8e56_19607a97f796 th {\n",
       "          font-size: 110%;\n",
       "          text-align: left;\n",
       "    }</style><table id=\"T_5accec2e_3f19_11eb_8e56_19607a97f796\" ><thead>    <tr>        <th class=\"col_heading level0 col0\" >id</th>        <th class=\"col_heading level0 col1\" >repo</th>        <th class=\"col_heading level0 col2\" >name</th>        <th class=\"col_heading level0 col3\" >start</th>        <th class=\"col_heading level0 col4\" >end</th>        <th class=\"col_heading level0 col5\" >duration</th>    </tr></thead><tbody>\n",
       "                <tr>\n",
       "                                <td id=\"T_5accec2e_3f19_11eb_8e56_19607a97f796row0_col0\" class=\"data row0 col0\" ><a href=\"../LinearReg/01-Linear-Regression.ipynb\">LINR1</a></td>\n",
       "                        <td id=\"T_5accec2e_3f19_11eb_8e56_19607a97f796row0_col1\" class=\"data row0 col1\" >LinearReg</td>\n",
       "                        <td id=\"T_5accec2e_3f19_11eb_8e56_19607a97f796row0_col2\" class=\"data row0 col2\" ><a href=\"../LinearReg/01-Linear-Regression.ipynb\"><b>01-Linear-Regression.ipynb</b></a></td>\n",
       "                        <td id=\"T_5accec2e_3f19_11eb_8e56_19607a97f796row0_col3\" class=\"data row0 col3\" >Tuesday 15 December 2020, 14:04:04</td>\n",
       "                        <td id=\"T_5accec2e_3f19_11eb_8e56_19607a97f796row0_col4\" class=\"data row0 col4\" >Tuesday 15 December 2020, 14:04:04</td>\n",
       "                        <td id=\"T_5accec2e_3f19_11eb_8e56_19607a97f796row0_col5\" class=\"data row0 col5\" >00:00:00 295ms</td>\n",
       "            </tr>\n",
       "            <tr>\n",
       "                                <td id=\"T_5accec2e_3f19_11eb_8e56_19607a97f796row1_col0\" class=\"data row1 col0\" ><a href=\"../LinearReg/02-Gradient-descent.ipynb\">GRAD1</a></td>\n",
       "                        <td id=\"T_5accec2e_3f19_11eb_8e56_19607a97f796row1_col1\" class=\"data row1 col1\" >LinearReg</td>\n",
       "                        <td id=\"T_5accec2e_3f19_11eb_8e56_19607a97f796row1_col2\" class=\"data row1 col2\" ><a href=\"../LinearReg/02-Gradient-descent.ipynb\"><b>02-Gradient-descent.ipynb</b></a></td>\n",
       "                        <td id=\"T_5accec2e_3f19_11eb_8e56_19607a97f796row1_col3\" class=\"data row1 col3\" >Tuesday 15 December 2020, 15:05:11</td>\n",
       "                        <td id=\"T_5accec2e_3f19_11eb_8e56_19607a97f796row1_col4\" class=\"data row1 col4\" >Tuesday 15 December 2020, 15:05:14</td>\n",
       "                        <td id=\"T_5accec2e_3f19_11eb_8e56_19607a97f796row1_col5\" class=\"data row1 col5\" >00:00:03 120ms</td>\n",
       "            </tr>\n",
       "            <tr>\n",
       "                                <td id=\"T_5accec2e_3f19_11eb_8e56_19607a97f796row2_col0\" class=\"data row2 col0\" ><a href=\"../LinearReg/03-Polynomial-Regression.ipynb\">POLR1</a></td>\n",
       "                        <td id=\"T_5accec2e_3f19_11eb_8e56_19607a97f796row2_col1\" class=\"data row2 col1\" >LinearReg</td>\n",
       "                        <td id=\"T_5accec2e_3f19_11eb_8e56_19607a97f796row2_col2\" class=\"data row2 col2\" ><a href=\"../LinearReg/03-Polynomial-Regression.ipynb\"><b>03-Polynomial-Regression.ipynb</b></a></td>\n",
       "                        <td id=\"T_5accec2e_3f19_11eb_8e56_19607a97f796row2_col3\" class=\"data row2 col3\" >Tuesday 15 December 2020, 15:05:27</td>\n",
       "                        <td id=\"T_5accec2e_3f19_11eb_8e56_19607a97f796row2_col4\" class=\"data row2 col4\" >Tuesday 15 December 2020, 15:05:28</td>\n",
       "                        <td id=\"T_5accec2e_3f19_11eb_8e56_19607a97f796row2_col5\" class=\"data row2 col5\" >00:00:01 686ms</td>\n",
       "            </tr>\n",
       "            <tr>\n",
       "                                <td id=\"T_5accec2e_3f19_11eb_8e56_19607a97f796row3_col0\" class=\"data row3 col0\" ><a href=\"../LinearReg/04-Logistic-Regression.ipynb\">LOGR1</a></td>\n",
       "                        <td id=\"T_5accec2e_3f19_11eb_8e56_19607a97f796row3_col1\" class=\"data row3 col1\" >LinearReg</td>\n",
       "                        <td id=\"T_5accec2e_3f19_11eb_8e56_19607a97f796row3_col2\" class=\"data row3 col2\" ><a href=\"../LinearReg/04-Logistic-Regression.ipynb\"><b>04-Logistic-Regression.ipynb</b></a></td>\n",
       "                        <td id=\"T_5accec2e_3f19_11eb_8e56_19607a97f796row3_col3\" class=\"data row3 col3\" >Tuesday 15 December 2020, 15:05:42</td>\n",
       "                        <td id=\"T_5accec2e_3f19_11eb_8e56_19607a97f796row3_col4\" class=\"data row3 col4\" >Tuesday 15 December 2020, 15:06:44</td>\n",
       "                        <td id=\"T_5accec2e_3f19_11eb_8e56_19607a97f796row3_col5\" class=\"data row3 col5\" >00:01:02 112ms</td>\n",
       "            </tr>\n",
       "            <tr>\n",
       "                                <td id=\"T_5accec2e_3f19_11eb_8e56_19607a97f796row4_col0\" class=\"data row4 col0\" ><a href=\"../IRIS/01-Simple-Perceptron.ipynb\">PER57</a></td>\n",
       "                        <td id=\"T_5accec2e_3f19_11eb_8e56_19607a97f796row4_col1\" class=\"data row4 col1\" >IRIS</td>\n",
       "                        <td id=\"T_5accec2e_3f19_11eb_8e56_19607a97f796row4_col2\" class=\"data row4 col2\" ><a href=\"../IRIS/01-Simple-Perceptron.ipynb\"><b>01-Simple-Perceptron.ipynb</b></a></td>\n",
       "                        <td id=\"T_5accec2e_3f19_11eb_8e56_19607a97f796row4_col3\" class=\"data row4 col3\" >Tuesday 15 December 2020, 21:49:41</td>\n",
       "                        <td id=\"T_5accec2e_3f19_11eb_8e56_19607a97f796row4_col4\" class=\"data row4 col4\" >Tuesday 15 December 2020, 21:49:41</td>\n",
       "                        <td id=\"T_5accec2e_3f19_11eb_8e56_19607a97f796row4_col5\" class=\"data row4 col5\" >00:00:00 203ms</td>\n",
       "            </tr>\n",
       "            <tr>\n",
       "                                <td id=\"T_5accec2e_3f19_11eb_8e56_19607a97f796row5_col0\" class=\"data row5 col0\" ><a href=\"../BHPD/01-DNN-Regression.ipynb\">BHP1</a></td>\n",
       "                        <td id=\"T_5accec2e_3f19_11eb_8e56_19607a97f796row5_col1\" class=\"data row5 col1\" >BHPD</td>\n",
       "                        <td id=\"T_5accec2e_3f19_11eb_8e56_19607a97f796row5_col2\" class=\"data row5 col2\" ><a href=\"../BHPD/01-DNN-Regression.ipynb\"><b>01-DNN-Regression.ipynb</b></a></td>\n",
       "                        <td id=\"T_5accec2e_3f19_11eb_8e56_19607a97f796row5_col3\" class=\"data row5 col3\" >Tuesday 15 December 2020, 21:51:22</td>\n",
       "                        <td id=\"T_5accec2e_3f19_11eb_8e56_19607a97f796row5_col4\" class=\"data row5 col4\" >Tuesday 15 December 2020, 21:51:32</td>\n",
       "                        <td id=\"T_5accec2e_3f19_11eb_8e56_19607a97f796row5_col5\" class=\"data row5 col5\" >00:00:10 080ms</td>\n",
       "            </tr>\n",
       "            <tr>\n",
       "                                <td id=\"T_5accec2e_3f19_11eb_8e56_19607a97f796row6_col0\" class=\"data row6 col0\" ><a href=\"../BHPD/02-DNN-Regression-Premium.ipynb\">BHP2</a></td>\n",
       "                        <td id=\"T_5accec2e_3f19_11eb_8e56_19607a97f796row6_col1\" class=\"data row6 col1\" >BHPD</td>\n",
       "                        <td id=\"T_5accec2e_3f19_11eb_8e56_19607a97f796row6_col2\" class=\"data row6 col2\" ><a href=\"../BHPD/02-DNN-Regression-Premium.ipynb\"><b>02-DNN-Regression-Premium.ipynb</b></a></td>\n",
       "                        <td id=\"T_5accec2e_3f19_11eb_8e56_19607a97f796row6_col3\" class=\"data row6 col3\" >Tuesday 15 December 2020, 22:05:15</td>\n",
       "                        <td id=\"T_5accec2e_3f19_11eb_8e56_19607a97f796row6_col4\" class=\"data row6 col4\" >Tuesday 15 December 2020, 22:05:26</td>\n",
       "                        <td id=\"T_5accec2e_3f19_11eb_8e56_19607a97f796row6_col5\" class=\"data row6 col5\" >00:00:11 601ms</td>\n",
       "            </tr>\n",
       "    </tbody></table>"
      ],
      "text/plain": [
       "<pandas.io.formats.style.Styler at 0x7f4b4996e6d0>"
      ]
     },
     "metadata": {},
     "output_type": "display_data"
    }
   ],
   "source": [
    "df, output, html = cooker.get_ci_report()\n",
    "\n",
    "with open(config.CI_REPORT,\"wt\") as fp:\n",
    "    fp.write(html)\n",
    "\n",
    "display(output)"
   ]
  },
  {
   "cell_type": "markdown",
   "metadata": {},
   "source": [
    "---\n",
    "<img width=\"80px\" src=\"../fidle/img/00-Fidle-logo-01.svg\"></img>"
   ]
  }
 ],
 "metadata": {
  "kernelspec": {
   "display_name": "Python 3",
   "language": "python",
   "name": "python3"
  },
  "language_info": {
   "codemirror_mode": {
    "name": "ipython",
    "version": 3
   },
   "file_extension": ".py",
   "mimetype": "text/x-python",
   "name": "python",
   "nbconvert_exporter": "python",
   "pygments_lexer": "ipython3",
   "version": "3.7.7"
  }
 },
 "nbformat": 4,
 "nbformat_minor": 4
}
