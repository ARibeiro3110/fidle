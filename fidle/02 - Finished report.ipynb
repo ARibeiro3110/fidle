{
 "cells": [
  {
   "cell_type": "markdown",
   "metadata": {},
   "source": [
    "<img width=\"800px\" src=\"../fidle/img/00-Fidle-header-01.svg\"></img>\n",
    "\n",
    "\n",
    "## Continuous integration report\n",
    "\n",
    "Each notebook indicates its start and end of execution:\n",
    " - at the beginning, with `pwk.init()`\n",
    " - at the end, with `pwk.end()`  \n",
    " \n",
    "All of theses informations are saved in a json file - Final report is below and in a HTML file.  \n",
    "See ./log"
   ]
  },
  {
   "cell_type": "code",
   "execution_count": 1,
   "metadata": {
    "jupyter": {
     "source_hidden": true
    }
   },
   "outputs": [],
   "source": [
    "import sys\n",
    "from IPython.display import display\n",
    "sys.path.append('..')\n",
    "import fidle.config as config\n",
    "import fidle.cooker as cooker"
   ]
  },
  {
   "cell_type": "code",
   "execution_count": 2,
   "metadata": {},
   "outputs": [
    {
     "data": {
      "text/html": [
       "<style  type=\"text/css\" >\n",
       "    #T_51149260_3ee0_11eb_ab9c_bf552d03deff td {\n",
       "          font-size: 110%;\n",
       "          text-align: left;\n",
       "    }    #T_51149260_3ee0_11eb_ab9c_bf552d03deff th {\n",
       "          font-size: 110%;\n",
       "          text-align: left;\n",
       "    }</style><table id=\"T_51149260_3ee0_11eb_ab9c_bf552d03deff\" ><thead>    <tr>        <th class=\"col_heading level0 col0\" >id</th>        <th class=\"col_heading level0 col1\" >name</th>        <th class=\"col_heading level0 col2\" >start</th>        <th class=\"col_heading level0 col3\" >end</th>        <th class=\"col_heading level0 col4\" >duration</th>    </tr></thead><tbody>\n",
       "                <tr>\n",
       "                                <td id=\"T_51149260_3ee0_11eb_ab9c_bf552d03deffrow0_col0\" class=\"data row0 col0\" ><a href=\"../LinearReg/01-Linear-Regression.ipynb\">LINR1</a></td>\n",
       "                        <td id=\"T_51149260_3ee0_11eb_ab9c_bf552d03deffrow0_col1\" class=\"data row0 col1\" ><a href=\"../LinearReg/01-Linear-Regression.ipynb\"><b>01-Linear-Regression.ipynb</b></a></td>\n",
       "                        <td id=\"T_51149260_3ee0_11eb_ab9c_bf552d03deffrow0_col2\" class=\"data row0 col2\" >Tuesday 15 December 2020, 14:04:04</td>\n",
       "                        <td id=\"T_51149260_3ee0_11eb_ab9c_bf552d03deffrow0_col3\" class=\"data row0 col3\" >Tuesday 15 December 2020, 14:04:04</td>\n",
       "                        <td id=\"T_51149260_3ee0_11eb_ab9c_bf552d03deffrow0_col4\" class=\"data row0 col4\" >00:00:00 295ms</td>\n",
       "            </tr>\n",
       "            <tr>\n",
       "                                <td id=\"T_51149260_3ee0_11eb_ab9c_bf552d03deffrow1_col0\" class=\"data row1 col0\" ><a href=\"../LinearReg/02-Gradient-descent.ipynb\">GRAD1</a></td>\n",
       "                        <td id=\"T_51149260_3ee0_11eb_ab9c_bf552d03deffrow1_col1\" class=\"data row1 col1\" ><a href=\"../LinearReg/02-Gradient-descent.ipynb\"><b>02-Gradient-descent.ipynb</b></a></td>\n",
       "                        <td id=\"T_51149260_3ee0_11eb_ab9c_bf552d03deffrow1_col2\" class=\"data row1 col2\" >Tuesday 15 December 2020, 15:05:11</td>\n",
       "                        <td id=\"T_51149260_3ee0_11eb_ab9c_bf552d03deffrow1_col3\" class=\"data row1 col3\" >Tuesday 15 December 2020, 15:05:14</td>\n",
       "                        <td id=\"T_51149260_3ee0_11eb_ab9c_bf552d03deffrow1_col4\" class=\"data row1 col4\" >00:00:03 120ms</td>\n",
       "            </tr>\n",
       "            <tr>\n",
       "                                <td id=\"T_51149260_3ee0_11eb_ab9c_bf552d03deffrow2_col0\" class=\"data row2 col0\" ><a href=\"../LinearReg/03-Polynomial-Regression.ipynb\">POLR1</a></td>\n",
       "                        <td id=\"T_51149260_3ee0_11eb_ab9c_bf552d03deffrow2_col1\" class=\"data row2 col1\" ><a href=\"../LinearReg/03-Polynomial-Regression.ipynb\"><b>03-Polynomial-Regression.ipynb</b></a></td>\n",
       "                        <td id=\"T_51149260_3ee0_11eb_ab9c_bf552d03deffrow2_col2\" class=\"data row2 col2\" >Tuesday 15 December 2020, 15:05:27</td>\n",
       "                        <td id=\"T_51149260_3ee0_11eb_ab9c_bf552d03deffrow2_col3\" class=\"data row2 col3\" >Tuesday 15 December 2020, 15:05:28</td>\n",
       "                        <td id=\"T_51149260_3ee0_11eb_ab9c_bf552d03deffrow2_col4\" class=\"data row2 col4\" >00:00:01 686ms</td>\n",
       "            </tr>\n",
       "            <tr>\n",
       "                                <td id=\"T_51149260_3ee0_11eb_ab9c_bf552d03deffrow3_col0\" class=\"data row3 col0\" ><a href=\"../LinearReg/04-Logistic-Regression.ipynb\">LOGR1</a></td>\n",
       "                        <td id=\"T_51149260_3ee0_11eb_ab9c_bf552d03deffrow3_col1\" class=\"data row3 col1\" ><a href=\"../LinearReg/04-Logistic-Regression.ipynb\"><b>04-Logistic-Regression.ipynb</b></a></td>\n",
       "                        <td id=\"T_51149260_3ee0_11eb_ab9c_bf552d03deffrow3_col2\" class=\"data row3 col2\" >Tuesday 15 December 2020, 15:05:42</td>\n",
       "                        <td id=\"T_51149260_3ee0_11eb_ab9c_bf552d03deffrow3_col3\" class=\"data row3 col3\" >Tuesday 15 December 2020, 15:06:44</td>\n",
       "                        <td id=\"T_51149260_3ee0_11eb_ab9c_bf552d03deffrow3_col4\" class=\"data row3 col4\" >00:01:02 112ms</td>\n",
       "            </tr>\n",
       "    </tbody></table>"
      ],
      "text/plain": [
       "<pandas.io.formats.style.Styler at 0x7f6d1d0dd050>"
      ]
     },
     "metadata": {},
     "output_type": "display_data"
    }
   ],
   "source": [
    "df, output, html = cooker.get_ci_report()\n",
    "\n",
    "with open(config.CI_REPORT,\"wt\") as fp:\n",
    "    fp.write(html)\n",
    "\n",
    "display(output)"
   ]
  },
  {
   "cell_type": "markdown",
   "metadata": {},
   "source": [
    "---\n",
    "<img width=\"80px\" src=\"../fidle/img/00-Fidle-logo-01.svg\"></img>"
   ]
  }
 ],
 "metadata": {
  "kernelspec": {
   "display_name": "Python 3",
   "language": "python",
   "name": "python3"
  },
  "language_info": {
   "codemirror_mode": {
    "name": "ipython",
    "version": 3
   },
   "file_extension": ".py",
   "mimetype": "text/x-python",
   "name": "python",
   "nbconvert_exporter": "python",
   "pygments_lexer": "ipython3",
   "version": "3.7.7"
  }
 },
 "nbformat": 4,
 "nbformat_minor": 4
}
