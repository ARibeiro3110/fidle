{
 "cells": [
  {
   "cell_type": "markdown",
   "metadata": {},
   "source": [
    "<img width=\"800px\" src=\"../fidle/img/00-Fidle-header-01.svg\"></img>\n",
    "\n",
    "\n",
    "## Notebook Performance Statistics (Continuous integration)\n",
    " - List of executed notebooks \n",
    " - Runtime and status \n",
    "\n",
    "Each notebook indicates its start and end of execution:\n",
    " - at the beginning, with `pwk.init()`\n",
    " - at the end, with `pwk.end()`  \n",
    " \n",
    "All of theses informations are saved in a json file (FINISHED_FILE, cf config.py)."
   ]
  },
  {
   "cell_type": "code",
   "execution_count": 6,
   "metadata": {},
   "outputs": [],
   "source": [
    "import pandas as pd\n",
    "import sys, json\n",
    "from IPython.display import display, Markdown, HTML\n",
    "\n",
    "sys.path.append('..')\n",
    "import fidle.config as config"
   ]
  },
  {
   "cell_type": "code",
   "execution_count": 13,
   "metadata": {},
   "outputs": [
    {
     "data": {
      "text/html": [
       "<style  type=\"text/css\" >\n",
       "    #T_0a1357a2_3e4f_11eb_ad81_8794535e7583 td {\n",
       "          font-size: 110%;\n",
       "          text-align: left;\n",
       "    }    #T_0a1357a2_3e4f_11eb_ad81_8794535e7583 th {\n",
       "          font-size: 110%;\n",
       "          text-align: left;\n",
       "    }#T_0a1357a2_3e4f_11eb_ad81_8794535e7583row0_col4{\n",
       "            background-color:  yellow;\n",
       "        }</style><table id=\"T_0a1357a2_3e4f_11eb_ad81_8794535e7583\" ><thead>    <tr>        <th class=\"col_heading level0 col0\" >id</th>        <th class=\"col_heading level0 col1\" >name</th>        <th class=\"col_heading level0 col2\" >start</th>        <th class=\"col_heading level0 col3\" >end</th>        <th class=\"col_heading level0 col4\" >duration</th>    </tr></thead><tbody>\n",
       "                <tr>\n",
       "                                <td id=\"T_0a1357a2_3e4f_11eb_ad81_8794535e7583row0_col0\" class=\"data row0 col0\" ><a href=\"../LinearReg/01-Linear-Regression.ipynb\">LINR1</a></td>\n",
       "                        <td id=\"T_0a1357a2_3e4f_11eb_ad81_8794535e7583row0_col1\" class=\"data row0 col1\" ><a href=\"../LinearReg/01-Linear-Regression.ipynb\"><b>01-Linear-Regression.ipynb</b></a></td>\n",
       "                        <td id=\"T_0a1357a2_3e4f_11eb_ad81_8794535e7583row0_col2\" class=\"data row0 col2\" >Monday 14 December 2020, 21:55:06</td>\n",
       "                        <td id=\"T_0a1357a2_3e4f_11eb_ad81_8794535e7583row0_col3\" class=\"data row0 col3\" ></td>\n",
       "                        <td id=\"T_0a1357a2_3e4f_11eb_ad81_8794535e7583row0_col4\" class=\"data row0 col4\" >Pending...</td>\n",
       "            </tr>\n",
       "    </tbody></table>"
      ],
      "text/plain": [
       "<pandas.io.formats.style.Styler at 0x7f28b6a3da90>"
      ]
     },
     "metadata": {},
     "output_type": "display_data"
    }
   ],
   "source": [
    "# ---- Load catalog (notebooks descriptions)\n",
    "#\n",
    "with open(config.CATALOG_FILE) as fp:\n",
    "    catalog = json.load(fp)\n",
    "\n",
    "# ---- Load finished file\n",
    "#\n",
    "with open(config.FINISHED_FILE) as infile:\n",
    "    dict_finished = json.load( infile )\n",
    "\n",
    "df=pd.DataFrame(dict_finished).transpose()\n",
    "\n",
    "df.reset_index(inplace=True)\n",
    "df.rename(columns = {'index':'id'}, inplace=True)\n",
    "df['name']=''\n",
    "\n",
    "for index, row in df.iterrows():\n",
    "    id = row['id']\n",
    "    basename    = catalog[id]['basename']\n",
    "    dirname     = catalog[id]['dirname']\n",
    "    title       = catalog[id]['title']\n",
    "    description = catalog[id]['description']\n",
    "    row['id']   = f'<a href=\"../{dirname}/{basename}\">{id}</a>'\n",
    "    row['name'] = f'<a href=\"../{dirname}/{basename}\"><b>{basename}</b></a>'\n",
    "\n",
    "columns=['id','name','start','end','duration']\n",
    "\n",
    "styles = [\n",
    "    dict(selector=\"td\", props=[(\"font-size\", \"110%\"), (\"text-align\", \"left\")]),\n",
    "    dict(selector=\"th\", props=[(\"font-size\", \"110%\"), (\"text-align\", \"left\")])\n",
    "]\n",
    "\n",
    "\n",
    "def still_pending(v):\n",
    "    return 'background-color: yellow' if v == 'Pending...' else ''\n",
    "\n",
    "output = df[columns].style.set_table_styles(styles).hide_index().applymap(still_pending)\n",
    "\n",
    "display( output )\n"
   ]
  },
  {
   "cell_type": "markdown",
   "metadata": {},
   "source": [
    "---\n",
    "<img width=\"80px\" src=\"../fidle/img/00-Fidle-logo-01.svg\"></img>"
   ]
  },
  {
   "cell_type": "code",
   "execution_count": 21,
   "metadata": {},
   "outputs": [
    {
     "name": "stdout",
     "output_type": "stream",
     "text": [
      "<style  type=\"text/css\" >\n",
      "    #T_80832516_3e4f_11eb_ad81_8794535e7583 td {\n",
      "          font-size: 110%;\n",
      "          text-align: left;\n",
      "    }    #T_80832516_3e4f_11eb_ad81_8794535e7583 th {\n",
      "          font-size: 110%;\n",
      "          text-align: left;\n",
      "    }#T_80832516_3e4f_11eb_ad81_8794535e7583row0_col4{\n",
      "            background-color:  yellow;\n",
      "            background-color:  yellow;\n",
      "            background-color:  yellow;\n",
      "            background-color:  yellow;\n",
      "            background-color:  yellow;\n",
      "        }</style><table id=\"T_80832516_3e4f_11eb_ad81_8794535e7583\" ><thead>    <tr>        <th class=\"col_heading level0 col0\" >id</th>        <th class=\"col_heading level0 col1\" >name</th>        <th class=\"col_heading level0 col2\" >start</th>        <th class=\"col_heading level0 col3\" >end</th>        <th class=\"col_heading level0 col4\" >duration</th>    </tr></thead><tbody>\n",
      "                <tr>\n",
      "                                <td id=\"T_80832516_3e4f_11eb_ad81_8794535e7583row0_col0\" class=\"data row0 col0\" ><a href=\"../LinearReg/01-Linear-Regression.ipynb\">LINR1</a></td>\n",
      "                        <td id=\"T_80832516_3e4f_11eb_ad81_8794535e7583row0_col1\" class=\"data row0 col1\" ><a href=\"../LinearReg/01-Linear-Regression.ipynb\"><b>01-Linear-Regression.ipynb</b></a></td>\n",
      "                        <td id=\"T_80832516_3e4f_11eb_ad81_8794535e7583row0_col2\" class=\"data row0 col2\" >Monday 14 December 2020, 21:55:06</td>\n",
      "                        <td id=\"T_80832516_3e4f_11eb_ad81_8794535e7583row0_col3\" class=\"data row0 col3\" ></td>\n",
      "                        <td id=\"T_80832516_3e4f_11eb_ad81_8794535e7583row0_col4\" class=\"data row0 col4\" >Pending...</td>\n",
      "            </tr>\n",
      "    </tbody></table>\n"
     ]
    }
   ],
   "source": [
    "print(output.render())"
   ]
  },
  {
   "cell_type": "code",
   "execution_count": null,
   "metadata": {},
   "outputs": [],
   "source": []
  }
 ],
 "metadata": {
  "kernelspec": {
   "display_name": "Python 3",
   "language": "python",
   "name": "python3"
  },
  "language_info": {
   "codemirror_mode": {
    "name": "ipython",
    "version": 3
   },
   "file_extension": ".py",
   "mimetype": "text/x-python",
   "name": "python",
   "nbconvert_exporter": "python",
   "pygments_lexer": "ipython3",
   "version": "3.7.7"
  }
 },
 "nbformat": 4,
 "nbformat_minor": 4
}
