{
 "cells": [
  {
   "cell_type": "markdown",
   "metadata": {},
   "source": [
    "<img width=\"800px\" src=\"../fidle/img/00-Fidle-header-01.svg\"></img>\n",
    "\n",
    "\n",
    "## Continuous integration report\n",
    "\n",
    "Each notebook indicates its start and end of execution:\n",
    " - at the beginning, with `pwk.init()`\n",
    " - at the end, with `pwk.end()`  \n",
    " \n",
    "All of theses informations are saved in a json file - Final report is below and in a HTML file.  \n",
    "See ./log"
   ]
  },
  {
   "cell_type": "code",
   "execution_count": 1,
   "metadata": {
    "jupyter": {
     "source_hidden": true
    }
   },
   "outputs": [],
   "source": [
    "import sys\n",
    "from IPython.display import display\n",
    "sys.path.append('..')\n",
    "import fidle.config as config\n",
    "import fidle.cooker as cooker"
   ]
  },
  {
   "cell_type": "code",
   "execution_count": 2,
   "metadata": {},
   "outputs": [
    {
     "name": "stdout",
     "output_type": "stream",
     "text": [
      "**Warning : id [GTS12] not found in catalog...\n"
     ]
    },
    {
     "data": {
      "text/html": [
       "<style  type=\"text/css\" >\n",
       "    #T_b0a2806a_412f_11eb_9eb7_c1096f49db4a td {\n",
       "          font-size: 110%;\n",
       "          text-align: left;\n",
       "    }    #T_b0a2806a_412f_11eb_9eb7_c1096f49db4a th {\n",
       "          font-size: 110%;\n",
       "          text-align: left;\n",
       "    }</style><table id=\"T_b0a2806a_412f_11eb_9eb7_c1096f49db4a\" ><thead>    <tr>        <th class=\"col_heading level0 col0\" >id</th>        <th class=\"col_heading level0 col1\" >repo</th>        <th class=\"col_heading level0 col2\" >name</th>        <th class=\"col_heading level0 col3\" >start</th>        <th class=\"col_heading level0 col4\" >end</th>        <th class=\"col_heading level0 col5\" >duration</th>    </tr></thead><tbody>\n",
       "                <tr>\n",
       "                                <td id=\"T_b0a2806a_412f_11eb_9eb7_c1096f49db4arow0_col0\" class=\"data row0 col0\" ><a href=\"../GTSRB/02-First-convolutions.ipynb\">GTS2</a></td>\n",
       "                        <td id=\"T_b0a2806a_412f_11eb_9eb7_c1096f49db4arow0_col1\" class=\"data row0 col1\" >GTSRB</td>\n",
       "                        <td id=\"T_b0a2806a_412f_11eb_9eb7_c1096f49db4arow0_col2\" class=\"data row0 col2\" ><a href=\"../GTSRB/02-First-convolutions.ipynb\"><b>02-First-convolutions.ipynb</b></a></td>\n",
       "                        <td id=\"T_b0a2806a_412f_11eb_9eb7_c1096f49db4arow0_col3\" class=\"data row0 col3\" >Thursday 17 December 2020, 17:05:29</td>\n",
       "                        <td id=\"T_b0a2806a_412f_11eb_9eb7_c1096f49db4arow0_col4\" class=\"data row0 col4\" >Thursday 17 December 2020, 17:05:50</td>\n",
       "                        <td id=\"T_b0a2806a_412f_11eb_9eb7_c1096f49db4arow0_col5\" class=\"data row0 col5\" >00:00:20 263ms</td>\n",
       "            </tr>\n",
       "            <tr>\n",
       "                                <td id=\"T_b0a2806a_412f_11eb_9eb7_c1096f49db4arow1_col0\" class=\"data row1 col0\" ><a href=\"../GTSRB/03-Tracking-and-visualizing.ipynb\">GTS3</a></td>\n",
       "                        <td id=\"T_b0a2806a_412f_11eb_9eb7_c1096f49db4arow1_col1\" class=\"data row1 col1\" >GTSRB</td>\n",
       "                        <td id=\"T_b0a2806a_412f_11eb_9eb7_c1096f49db4arow1_col2\" class=\"data row1 col2\" ><a href=\"../GTSRB/03-Tracking-and-visualizing.ipynb\"><b>03-Tracking-and-visualizing.ipynb</b></a></td>\n",
       "                        <td id=\"T_b0a2806a_412f_11eb_9eb7_c1096f49db4arow1_col3\" class=\"data row1 col3\" >Thursday 17 December 2020, 17:48:33</td>\n",
       "                        <td id=\"T_b0a2806a_412f_11eb_9eb7_c1096f49db4arow1_col4\" class=\"data row1 col4\" >Thursday 17 December 2020, 17:50:22</td>\n",
       "                        <td id=\"T_b0a2806a_412f_11eb_9eb7_c1096f49db4arow1_col5\" class=\"data row1 col5\" >00:01:49 407ms</td>\n",
       "            </tr>\n",
       "            <tr>\n",
       "                                <td id=\"T_b0a2806a_412f_11eb_9eb7_c1096f49db4arow2_col0\" class=\"data row2 col0\" ><a href=\"../GTSRB/04-Data-augmentation.ipynb\">GTS4</a></td>\n",
       "                        <td id=\"T_b0a2806a_412f_11eb_9eb7_c1096f49db4arow2_col1\" class=\"data row2 col1\" >GTSRB</td>\n",
       "                        <td id=\"T_b0a2806a_412f_11eb_9eb7_c1096f49db4arow2_col2\" class=\"data row2 col2\" ><a href=\"../GTSRB/04-Data-augmentation.ipynb\"><b>04-Data-augmentation.ipynb</b></a></td>\n",
       "                        <td id=\"T_b0a2806a_412f_11eb_9eb7_c1096f49db4arow2_col3\" class=\"data row2 col3\" >Thursday 17 December 2020, 18:21:16</td>\n",
       "                        <td id=\"T_b0a2806a_412f_11eb_9eb7_c1096f49db4arow2_col4\" class=\"data row2 col4\" >Thursday 17 December 2020, 18:23:00</td>\n",
       "                        <td id=\"T_b0a2806a_412f_11eb_9eb7_c1096f49db4arow2_col5\" class=\"data row2 col5\" >00:01:44 577ms</td>\n",
       "            </tr>\n",
       "            <tr>\n",
       "                                <td id=\"T_b0a2806a_412f_11eb_9eb7_c1096f49db4arow3_col0\" class=\"data row3 col0\" ><a href=\"../GTSRB/05-Full-convolutions.ipynb\">GTS5</a></td>\n",
       "                        <td id=\"T_b0a2806a_412f_11eb_9eb7_c1096f49db4arow3_col1\" class=\"data row3 col1\" >GTSRB</td>\n",
       "                        <td id=\"T_b0a2806a_412f_11eb_9eb7_c1096f49db4arow3_col2\" class=\"data row3 col2\" ><a href=\"../GTSRB/05-Full-convolutions.ipynb\"><b>05-Full-convolutions.ipynb</b></a></td>\n",
       "                        <td id=\"T_b0a2806a_412f_11eb_9eb7_c1096f49db4arow3_col3\" class=\"data row3 col3\" >Thursday 17 December 2020, 22:07:09</td>\n",
       "                        <td id=\"T_b0a2806a_412f_11eb_9eb7_c1096f49db4arow3_col4\" class=\"data row3 col4\" >Thursday 17 December 2020, 22:08:26</td>\n",
       "                        <td id=\"T_b0a2806a_412f_11eb_9eb7_c1096f49db4arow3_col5\" class=\"data row3 col5\" >00:01:17 312ms</td>\n",
       "            </tr>\n",
       "            <tr>\n",
       "                                <td id=\"T_b0a2806a_412f_11eb_9eb7_c1096f49db4arow4_col0\" class=\"data row4 col0\" ><a href=\"../GTSRB/06-Notebook-as-a-batch.ipynb\">GTS6</a></td>\n",
       "                        <td id=\"T_b0a2806a_412f_11eb_9eb7_c1096f49db4arow4_col1\" class=\"data row4 col1\" >GTSRB</td>\n",
       "                        <td id=\"T_b0a2806a_412f_11eb_9eb7_c1096f49db4arow4_col2\" class=\"data row4 col2\" ><a href=\"../GTSRB/06-Notebook-as-a-batch.ipynb\"><b>06-Notebook-as-a-batch.ipynb</b></a></td>\n",
       "                        <td id=\"T_b0a2806a_412f_11eb_9eb7_c1096f49db4arow4_col3\" class=\"data row4 col3\" >Friday 18 December 2020, 13:33:50</td>\n",
       "                        <td id=\"T_b0a2806a_412f_11eb_9eb7_c1096f49db4arow4_col4\" class=\"data row4 col4\" >Friday 18 December 2020, 13:34:12</td>\n",
       "                        <td id=\"T_b0a2806a_412f_11eb_9eb7_c1096f49db4arow4_col5\" class=\"data row4 col5\" >00:00:22 377ms</td>\n",
       "            </tr>\n",
       "            <tr>\n",
       "                                <td id=\"T_b0a2806a_412f_11eb_9eb7_c1096f49db4arow5_col0\" class=\"data row5 col0\" >GTS12</td>\n",
       "                        <td id=\"T_b0a2806a_412f_11eb_9eb7_c1096f49db4arow5_col1\" class=\"data row5 col1\" >-</td>\n",
       "                        <td id=\"T_b0a2806a_412f_11eb_9eb7_c1096f49db4arow5_col2\" class=\"data row5 col2\" >-</td>\n",
       "                        <td id=\"T_b0a2806a_412f_11eb_9eb7_c1096f49db4arow5_col3\" class=\"data row5 col3\" >Friday 18 December 2020, 13:48:06</td>\n",
       "                        <td id=\"T_b0a2806a_412f_11eb_9eb7_c1096f49db4arow5_col4\" class=\"data row5 col4\" >Friday 18 December 2020, 13:48:07</td>\n",
       "                        <td id=\"T_b0a2806a_412f_11eb_9eb7_c1096f49db4arow5_col5\" class=\"data row5 col5\" >00:00:01 938ms</td>\n",
       "            </tr>\n",
       "    </tbody></table>"
      ],
      "text/plain": [
       "<pandas.io.formats.style.Styler at 0x15118d1ea450>"
      ]
     },
     "metadata": {},
     "output_type": "display_data"
    }
   ],
   "source": [
    "df, output, html = cooker.get_ci_report()\n",
    "\n",
    "with open(config.CI_REPORT,\"wt\") as fp:\n",
    "    fp.write(html)\n",
    "\n",
    "display(output)"
   ]
  },
  {
   "cell_type": "markdown",
   "metadata": {},
   "source": [
    "---\n",
    "<img width=\"80px\" src=\"../fidle/img/00-Fidle-logo-01.svg\"></img>"
   ]
  }
 ],
 "metadata": {
  "kernelspec": {
   "display_name": "Python 3",
   "language": "python",
   "name": "python3"
  },
  "language_info": {
   "codemirror_mode": {
    "name": "ipython",
    "version": 3
   },
   "file_extension": ".py",
   "mimetype": "text/x-python",
   "name": "python",
   "nbconvert_exporter": "python",
   "pygments_lexer": "ipython3",
   "version": "3.7.5"
  }
 },
 "nbformat": 4,
 "nbformat_minor": 4
}
