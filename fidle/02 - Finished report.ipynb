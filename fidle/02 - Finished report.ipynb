{
 "cells": [
  {
   "cell_type": "markdown",
   "metadata": {},
   "source": [
    "<img width=\"800px\" src=\"../fidle/img/00-Fidle-header-01.svg\"></img>\n",
    "\n",
    "\n",
    "## Continuous integration report\n",
    "\n",
    "Each notebook indicates its start and end of execution:\n",
    " - at the beginning, with `pwk.init()`\n",
    " - at the end, with `pwk.end()`  \n",
    " \n",
    "All of theses informations are saved in a json file - Final report is below and in a HTML file.  \n",
    "See ./log"
   ]
  },
  {
   "cell_type": "code",
   "execution_count": 2,
   "metadata": {
    "jupyter": {
     "source_hidden": true
    }
   },
   "outputs": [],
   "source": [
    "import sys\n",
    "from IPython.display import display\n",
    "sys.path.append('..')\n",
    "import fidle.config as config\n",
    "import fidle.cooker as cooker"
   ]
  },
  {
   "cell_type": "code",
   "execution_count": 4,
   "metadata": {},
   "outputs": [
    {
     "name": "stdout",
     "output_type": "stream",
     "text": [
      "**Warning : id [GTS12] not found in catalog...\n"
     ]
    },
    {
     "data": {
      "text/html": [
       "<style  type=\"text/css\" >\n",
       "    #T_507d4a14_41e6_11eb_923c_b959047b627c td {\n",
       "          font-size: 110%;\n",
       "          text-align: left;\n",
       "    }    #T_507d4a14_41e6_11eb_923c_b959047b627c th {\n",
       "          font-size: 110%;\n",
       "          text-align: left;\n",
       "    }</style><table id=\"T_507d4a14_41e6_11eb_923c_b959047b627c\" ><thead>    <tr>        <th class=\"col_heading level0 col0\" >id</th>        <th class=\"col_heading level0 col1\" >repo</th>        <th class=\"col_heading level0 col2\" >name</th>        <th class=\"col_heading level0 col3\" >start</th>        <th class=\"col_heading level0 col4\" >end</th>        <th class=\"col_heading level0 col5\" >duration</th>    </tr></thead><tbody>\n",
       "                <tr>\n",
       "                                <td id=\"T_507d4a14_41e6_11eb_923c_b959047b627crow0_col0\" class=\"data row0 col0\" ><a href=\"../GTSRB/02-First-convolutions.ipynb\">GTS2</a></td>\n",
       "                        <td id=\"T_507d4a14_41e6_11eb_923c_b959047b627crow0_col1\" class=\"data row0 col1\" >GTSRB</td>\n",
       "                        <td id=\"T_507d4a14_41e6_11eb_923c_b959047b627crow0_col2\" class=\"data row0 col2\" ><a href=\"../GTSRB/02-First-convolutions.ipynb\"><b>02-First-convolutions.ipynb</b></a></td>\n",
       "                        <td id=\"T_507d4a14_41e6_11eb_923c_b959047b627crow0_col3\" class=\"data row0 col3\" >Thursday 17 December 2020, 17:05:29</td>\n",
       "                        <td id=\"T_507d4a14_41e6_11eb_923c_b959047b627crow0_col4\" class=\"data row0 col4\" >Thursday 17 December 2020, 17:05:50</td>\n",
       "                        <td id=\"T_507d4a14_41e6_11eb_923c_b959047b627crow0_col5\" class=\"data row0 col5\" >00:00:20 263ms</td>\n",
       "            </tr>\n",
       "            <tr>\n",
       "                                <td id=\"T_507d4a14_41e6_11eb_923c_b959047b627crow1_col0\" class=\"data row1 col0\" ><a href=\"../GTSRB/03-Tracking-and-visualizing.ipynb\">GTS3</a></td>\n",
       "                        <td id=\"T_507d4a14_41e6_11eb_923c_b959047b627crow1_col1\" class=\"data row1 col1\" >GTSRB</td>\n",
       "                        <td id=\"T_507d4a14_41e6_11eb_923c_b959047b627crow1_col2\" class=\"data row1 col2\" ><a href=\"../GTSRB/03-Tracking-and-visualizing.ipynb\"><b>03-Tracking-and-visualizing.ipynb</b></a></td>\n",
       "                        <td id=\"T_507d4a14_41e6_11eb_923c_b959047b627crow1_col3\" class=\"data row1 col3\" >Thursday 17 December 2020, 17:48:33</td>\n",
       "                        <td id=\"T_507d4a14_41e6_11eb_923c_b959047b627crow1_col4\" class=\"data row1 col4\" >Thursday 17 December 2020, 17:50:22</td>\n",
       "                        <td id=\"T_507d4a14_41e6_11eb_923c_b959047b627crow1_col5\" class=\"data row1 col5\" >00:01:49 407ms</td>\n",
       "            </tr>\n",
       "            <tr>\n",
       "                                <td id=\"T_507d4a14_41e6_11eb_923c_b959047b627crow2_col0\" class=\"data row2 col0\" ><a href=\"../GTSRB/04-Data-augmentation.ipynb\">GTS4</a></td>\n",
       "                        <td id=\"T_507d4a14_41e6_11eb_923c_b959047b627crow2_col1\" class=\"data row2 col1\" >GTSRB</td>\n",
       "                        <td id=\"T_507d4a14_41e6_11eb_923c_b959047b627crow2_col2\" class=\"data row2 col2\" ><a href=\"../GTSRB/04-Data-augmentation.ipynb\"><b>04-Data-augmentation.ipynb</b></a></td>\n",
       "                        <td id=\"T_507d4a14_41e6_11eb_923c_b959047b627crow2_col3\" class=\"data row2 col3\" >Thursday 17 December 2020, 18:21:16</td>\n",
       "                        <td id=\"T_507d4a14_41e6_11eb_923c_b959047b627crow2_col4\" class=\"data row2 col4\" >Thursday 17 December 2020, 18:23:00</td>\n",
       "                        <td id=\"T_507d4a14_41e6_11eb_923c_b959047b627crow2_col5\" class=\"data row2 col5\" >00:01:44 577ms</td>\n",
       "            </tr>\n",
       "            <tr>\n",
       "                                <td id=\"T_507d4a14_41e6_11eb_923c_b959047b627crow3_col0\" class=\"data row3 col0\" ><a href=\"../GTSRB/05-Full-convolutions.ipynb\">GTS5</a></td>\n",
       "                        <td id=\"T_507d4a14_41e6_11eb_923c_b959047b627crow3_col1\" class=\"data row3 col1\" >GTSRB</td>\n",
       "                        <td id=\"T_507d4a14_41e6_11eb_923c_b959047b627crow3_col2\" class=\"data row3 col2\" ><a href=\"../GTSRB/05-Full-convolutions.ipynb\"><b>05-Full-convolutions.ipynb</b></a></td>\n",
       "                        <td id=\"T_507d4a14_41e6_11eb_923c_b959047b627crow3_col3\" class=\"data row3 col3\" >Thursday 17 December 2020, 22:07:09</td>\n",
       "                        <td id=\"T_507d4a14_41e6_11eb_923c_b959047b627crow3_col4\" class=\"data row3 col4\" >Thursday 17 December 2020, 22:08:26</td>\n",
       "                        <td id=\"T_507d4a14_41e6_11eb_923c_b959047b627crow3_col5\" class=\"data row3 col5\" >00:01:17 312ms</td>\n",
       "            </tr>\n",
       "            <tr>\n",
       "                                <td id=\"T_507d4a14_41e6_11eb_923c_b959047b627crow4_col0\" class=\"data row4 col0\" ><a href=\"../GTSRB/06-Notebook-as-a-batch.ipynb\">GTS6</a></td>\n",
       "                        <td id=\"T_507d4a14_41e6_11eb_923c_b959047b627crow4_col1\" class=\"data row4 col1\" >GTSRB</td>\n",
       "                        <td id=\"T_507d4a14_41e6_11eb_923c_b959047b627crow4_col2\" class=\"data row4 col2\" ><a href=\"../GTSRB/06-Notebook-as-a-batch.ipynb\"><b>06-Notebook-as-a-batch.ipynb</b></a></td>\n",
       "                        <td id=\"T_507d4a14_41e6_11eb_923c_b959047b627crow4_col3\" class=\"data row4 col3\" >Friday 18 December 2020, 13:33:50</td>\n",
       "                        <td id=\"T_507d4a14_41e6_11eb_923c_b959047b627crow4_col4\" class=\"data row4 col4\" >Friday 18 December 2020, 13:34:12</td>\n",
       "                        <td id=\"T_507d4a14_41e6_11eb_923c_b959047b627crow4_col5\" class=\"data row4 col5\" >00:00:22 377ms</td>\n",
       "            </tr>\n",
       "            <tr>\n",
       "                                <td id=\"T_507d4a14_41e6_11eb_923c_b959047b627crow5_col0\" class=\"data row5 col0\" >GTS12</td>\n",
       "                        <td id=\"T_507d4a14_41e6_11eb_923c_b959047b627crow5_col1\" class=\"data row5 col1\" >-</td>\n",
       "                        <td id=\"T_507d4a14_41e6_11eb_923c_b959047b627crow5_col2\" class=\"data row5 col2\" >-</td>\n",
       "                        <td id=\"T_507d4a14_41e6_11eb_923c_b959047b627crow5_col3\" class=\"data row5 col3\" >Friday 18 December 2020, 13:48:06</td>\n",
       "                        <td id=\"T_507d4a14_41e6_11eb_923c_b959047b627crow5_col4\" class=\"data row5 col4\" >Friday 18 December 2020, 13:48:07</td>\n",
       "                        <td id=\"T_507d4a14_41e6_11eb_923c_b959047b627crow5_col5\" class=\"data row5 col5\" >00:00:01 938ms</td>\n",
       "            </tr>\n",
       "            <tr>\n",
       "                                <td id=\"T_507d4a14_41e6_11eb_923c_b959047b627crow6_col0\" class=\"data row6 col0\" ><a href=\"../GTSRB/07-Show-report.ipynb\">GTS7</a></td>\n",
       "                        <td id=\"T_507d4a14_41e6_11eb_923c_b959047b627crow6_col1\" class=\"data row6 col1\" >GTSRB</td>\n",
       "                        <td id=\"T_507d4a14_41e6_11eb_923c_b959047b627crow6_col2\" class=\"data row6 col2\" ><a href=\"../GTSRB/07-Show-report.ipynb\"><b>07-Show-report.ipynb</b></a></td>\n",
       "                        <td id=\"T_507d4a14_41e6_11eb_923c_b959047b627crow6_col3\" class=\"data row6 col3\" >Friday 18 December 2020, 13:52:25</td>\n",
       "                        <td id=\"T_507d4a14_41e6_11eb_923c_b959047b627crow6_col4\" class=\"data row6 col4\" >Friday 18 December 2020, 13:52:25</td>\n",
       "                        <td id=\"T_507d4a14_41e6_11eb_923c_b959047b627crow6_col5\" class=\"data row6 col5\" >00:00:01 541ms</td>\n",
       "            </tr>\n",
       "            <tr>\n",
       "                                <td id=\"T_507d4a14_41e6_11eb_923c_b959047b627crow7_col0\" class=\"data row7 col0\" ><a href=\"../IMDB/01-Embedding-Keras.ipynb\">IMDB1</a></td>\n",
       "                        <td id=\"T_507d4a14_41e6_11eb_923c_b959047b627crow7_col1\" class=\"data row7 col1\" >IMDB</td>\n",
       "                        <td id=\"T_507d4a14_41e6_11eb_923c_b959047b627crow7_col2\" class=\"data row7 col2\" ><a href=\"../IMDB/01-Embedding-Keras.ipynb\"><b>01-Embedding-Keras.ipynb</b></a></td>\n",
       "                        <td id=\"T_507d4a14_41e6_11eb_923c_b959047b627crow7_col3\" class=\"data row7 col3\" >Friday 18 December 2020, 19:24:51</td>\n",
       "                        <td id=\"T_507d4a14_41e6_11eb_923c_b959047b627crow7_col4\" class=\"data row7 col4\" >Friday 18 December 2020, 19:51:40</td>\n",
       "                        <td id=\"T_507d4a14_41e6_11eb_923c_b959047b627crow7_col5\" class=\"data row7 col5\" >00:26:50 634ms</td>\n",
       "            </tr>\n",
       "            <tr>\n",
       "                                <td id=\"T_507d4a14_41e6_11eb_923c_b959047b627crow8_col0\" class=\"data row8 col0\" ><a href=\"../IMDB/02-Prediction.ipynb\">IMDB2</a></td>\n",
       "                        <td id=\"T_507d4a14_41e6_11eb_923c_b959047b627crow8_col1\" class=\"data row8 col1\" >IMDB</td>\n",
       "                        <td id=\"T_507d4a14_41e6_11eb_923c_b959047b627crow8_col2\" class=\"data row8 col2\" ><a href=\"../IMDB/02-Prediction.ipynb\"><b>02-Prediction.ipynb</b></a></td>\n",
       "                        <td id=\"T_507d4a14_41e6_11eb_923c_b959047b627crow8_col3\" class=\"data row8 col3\" >Friday 18 December 2020, 18:21:49</td>\n",
       "                        <td id=\"T_507d4a14_41e6_11eb_923c_b959047b627crow8_col4\" class=\"data row8 col4\" >Friday 18 December 2020, 18:21:50</td>\n",
       "                        <td id=\"T_507d4a14_41e6_11eb_923c_b959047b627crow8_col5\" class=\"data row8 col5\" >00:00:01 555ms</td>\n",
       "            </tr>\n",
       "            <tr>\n",
       "                                <td id=\"T_507d4a14_41e6_11eb_923c_b959047b627crow9_col0\" class=\"data row9 col0\" ><a href=\"../IMDB/03-LSTM-Keras.ipynb\">IMDB3</a></td>\n",
       "                        <td id=\"T_507d4a14_41e6_11eb_923c_b959047b627crow9_col1\" class=\"data row9 col1\" >IMDB</td>\n",
       "                        <td id=\"T_507d4a14_41e6_11eb_923c_b959047b627crow9_col2\" class=\"data row9 col2\" ><a href=\"../IMDB/03-LSTM-Keras.ipynb\"><b>03-LSTM-Keras.ipynb</b></a></td>\n",
       "                        <td id=\"T_507d4a14_41e6_11eb_923c_b959047b627crow9_col3\" class=\"data row9 col3\" >Friday 18 December 2020, 19:52:57</td>\n",
       "                        <td id=\"T_507d4a14_41e6_11eb_923c_b959047b627crow9_col4\" class=\"data row9 col4\" >Friday 18 December 2020, 19:53:06</td>\n",
       "                        <td id=\"T_507d4a14_41e6_11eb_923c_b959047b627crow9_col5\" class=\"data row9 col5\" >00:00:09 281ms</td>\n",
       "            </tr>\n",
       "            <tr>\n",
       "                                <td id=\"T_507d4a14_41e6_11eb_923c_b959047b627crow10_col0\" class=\"data row10 col0\" ><a href=\"../SYNOP/01-Preparation-of-data.ipynb\">SYNOP1</a></td>\n",
       "                        <td id=\"T_507d4a14_41e6_11eb_923c_b959047b627crow10_col1\" class=\"data row10 col1\" >SYNOP</td>\n",
       "                        <td id=\"T_507d4a14_41e6_11eb_923c_b959047b627crow10_col2\" class=\"data row10 col2\" ><a href=\"../SYNOP/01-Preparation-of-data.ipynb\"><b>01-Preparation-of-data.ipynb</b></a></td>\n",
       "                        <td id=\"T_507d4a14_41e6_11eb_923c_b959047b627crow10_col3\" class=\"data row10 col3\" >Saturday 19 December 2020, 10:43:18</td>\n",
       "                        <td id=\"T_507d4a14_41e6_11eb_923c_b959047b627crow10_col4\" class=\"data row10 col4\" >Saturday 19 December 2020, 10:43:22</td>\n",
       "                        <td id=\"T_507d4a14_41e6_11eb_923c_b959047b627crow10_col5\" class=\"data row10 col5\" >00:00:04 776ms</td>\n",
       "            </tr>\n",
       "            <tr>\n",
       "                                <td id=\"T_507d4a14_41e6_11eb_923c_b959047b627crow11_col0\" class=\"data row11 col0\" ><a href=\"../SYNOP/02-First-predictions.ipynb\">SYNOP2</a></td>\n",
       "                        <td id=\"T_507d4a14_41e6_11eb_923c_b959047b627crow11_col1\" class=\"data row11 col1\" >SYNOP</td>\n",
       "                        <td id=\"T_507d4a14_41e6_11eb_923c_b959047b627crow11_col2\" class=\"data row11 col2\" ><a href=\"../SYNOP/02-First-predictions.ipynb\"><b>02-First-predictions.ipynb</b></a></td>\n",
       "                        <td id=\"T_507d4a14_41e6_11eb_923c_b959047b627crow11_col3\" class=\"data row11 col3\" >Saturday 19 December 2020, 11:22:47</td>\n",
       "                        <td id=\"T_507d4a14_41e6_11eb_923c_b959047b627crow11_col4\" class=\"data row11 col4\" >Saturday 19 December 2020, 11:24:13</td>\n",
       "                        <td id=\"T_507d4a14_41e6_11eb_923c_b959047b627crow11_col5\" class=\"data row11 col5\" >00:01:25 329ms</td>\n",
       "            </tr>\n",
       "            <tr>\n",
       "                                <td id=\"T_507d4a14_41e6_11eb_923c_b959047b627crow12_col0\" class=\"data row12 col0\" ><a href=\"../SYNOP/03-12h-predictions.ipynb\">SYNOP3</a></td>\n",
       "                        <td id=\"T_507d4a14_41e6_11eb_923c_b959047b627crow12_col1\" class=\"data row12 col1\" >SYNOP</td>\n",
       "                        <td id=\"T_507d4a14_41e6_11eb_923c_b959047b627crow12_col2\" class=\"data row12 col2\" ><a href=\"../SYNOP/03-12h-predictions.ipynb\"><b>03-12h-predictions.ipynb</b></a></td>\n",
       "                        <td id=\"T_507d4a14_41e6_11eb_923c_b959047b627crow12_col3\" class=\"data row12 col3\" >Saturday 19 December 2020, 11:37:54</td>\n",
       "                        <td id=\"T_507d4a14_41e6_11eb_923c_b959047b627crow12_col4\" class=\"data row12 col4\" >Saturday 19 December 2020, 11:37:57</td>\n",
       "                        <td id=\"T_507d4a14_41e6_11eb_923c_b959047b627crow12_col5\" class=\"data row12 col5\" >00:00:03 329ms</td>\n",
       "            </tr>\n",
       "    </tbody></table>"
      ],
      "text/plain": [
       "<pandas.io.formats.style.Styler at 0x7fb4cbff0910>"
      ]
     },
     "metadata": {},
     "output_type": "display_data"
    }
   ],
   "source": [
    "df, output, html = cooker.get_ci_report()\n",
    "\n",
    "with open(config.CI_REPORT,\"wt\") as fp:\n",
    "    fp.write(html)\n",
    "\n",
    "display(output)"
   ]
  },
  {
   "cell_type": "markdown",
   "metadata": {},
   "source": [
    "---\n",
    "<img width=\"80px\" src=\"../fidle/img/00-Fidle-logo-01.svg\"></img>"
   ]
  }
 ],
 "metadata": {
  "kernelspec": {
   "display_name": "Python 3",
   "language": "python",
   "name": "python3"
  },
  "language_info": {
   "codemirror_mode": {
    "name": "ipython",
    "version": 3
   },
   "file_extension": ".py",
   "mimetype": "text/x-python",
   "name": "python",
   "nbconvert_exporter": "python",
   "pygments_lexer": "ipython3",
   "version": "3.7.7"
  }
 },
 "nbformat": 4,
 "nbformat_minor": 4
}
