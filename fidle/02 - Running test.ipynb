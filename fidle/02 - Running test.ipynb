{
 "cells": [
  {
   "cell_type": "markdown",
   "metadata": {},
   "source": [
    "<img width=\"800px\" src=\"../fidle/img/00-Fidle-header-01.svg\"></img>\n",
    "\n",
    "\n",
    "# Gestion des tests d'intégration continue\n",
    "\n",
    "**La liste des notebooks a éxécuter** et de leurs paramètres (override) est définie dans un **profile**.  \n",
    " - Un profile est un fichier yaml\n",
    " - Un profile par défaut est généré en (1).\n",
    "\n",
    "Lorqu'un **profile** est prêt, il peut être soumis pour **éxécution** (2)\n",
    " - Pour chaque notebook, les paramètres sont positionnés (variables d'env.)\n",
    " - Le notebook est lu, puis éxécuté\n",
    " - Après éxécution, le notebook est sauvegardé sous son nom moodifié (output_tag)\n",
    "\n",
    "Un **rapport d'éxécution** est généré durant l'éxécution des tests : [./logs/ci_report.json](./logs/ci_report.json)  \n",
    "A la fin des tests, ce rapport peut être visualisé via le notebook : [./03-ci_report.ipynb](./03%20-%20ci_report.ipynb)\n"
   ]
  },
  {
   "cell_type": "code",
   "execution_count": 1,
   "metadata": {},
   "outputs": [],
   "source": [
    "import cookci"
   ]
  },
  {
   "cell_type": "markdown",
   "metadata": {},
   "source": [
    "## Get and Save default profile\n",
    "Génère un profile par défaut comprenant tous les notebooks du moment...  \n",
    "...en tout cas présent dans catalog.json ;-)"
   ]
  },
  {
   "cell_type": "code",
   "execution_count": 2,
   "metadata": {},
   "outputs": [
    {
     "name": "stdout",
     "output_type": "stream",
     "text": [
      "Catalog saved as ./ci/default.yml\n",
      "Entries :  36\n"
     ]
    }
   ],
   "source": [
    "profile = cookci.get_ci_profile()\n",
    "cookci.save_profile(profile, './ci/default.yml')"
   ]
  },
  {
   "cell_type": "markdown",
   "metadata": {},
   "source": [
    "## Load a saved profile"
   ]
  },
  {
   "cell_type": "code",
   "execution_count": 3,
   "metadata": {},
   "outputs": [
    {
     "name": "stdout",
     "output_type": "stream",
     "text": [
      "./ci/smart.yml loaded.\n",
      "Entries :  3\n"
     ]
    }
   ],
   "source": [
    "smart_profile = cookci.load_profile('./ci/smart.yml')"
   ]
  },
  {
   "cell_type": "markdown",
   "metadata": {},
   "source": [
    "## Run this profile"
   ]
  },
  {
   "cell_type": "code",
   "execution_count": 4,
   "metadata": {},
   "outputs": [
    {
     "name": "stdout",
     "output_type": "stream",
     "text": [
      "Finished file has been reset.\n",
      "\n",
      "\n",
      "Notebook : LINR1\n",
      "    Run notebook.....done.\n",
      "    Duration :  0:00:04\n",
      "    Saved as :  01-Linear-Regression==done==.ipynb\n",
      "\n",
      "Notebook : PER57\n",
      "    Run notebook.....done.\n",
      "    Duration :  0:00:02\n",
      "    Saved as :  01-Simple-Perceptron==done==.ipynb\n",
      "\n",
      "Notebook : GTSRB2\n",
      "    set overrides :\n",
      "       FIDLE_OVERRIDE_GTSRB2_run_dir          = ./run/GTSRB2_ci\n",
      "       FIDLE_OVERRIDE_GTSRB2_dataset_name     = set-24x24-L\n",
      "       FIDLE_OVERRIDE_GTSRB2_batch_size       = 32\n",
      "       FIDLE_OVERRIDE_GTSRB2_epochs           = 3\n",
      "       FIDLE_OVERRIDE_GTSRB2_scale            = 0.1\n",
      "    Run notebook...\n",
      "    ************************************************************\n",
      "    ** AAARG.. An error occured :  CellExecutionError\n",
      "    ** See notebook :  02-First-convolutions==ERROR==.ipynb for details.\n",
      "    ************************************************************\n",
      "    Duration :  0:00:02\n",
      "    Saved as :  02-First-convolutions==ERROR==.ipynb\n"
     ]
    }
   ],
   "source": [
    "cookci.reset_ci_report()\n",
    "cookci.run_profile(smart_profile)"
   ]
  },
  {
   "cell_type": "markdown",
   "metadata": {},
   "source": [
    "---\n",
    "<img width=\"80px\" src=\"../fidle/img/00-Fidle-logo-01.svg\"></img>"
   ]
  }
 ],
 "metadata": {
  "kernelspec": {
   "display_name": "Python 3",
   "language": "python",
   "name": "python3"
  },
  "language_info": {
   "codemirror_mode": {
    "name": "ipython",
    "version": 3
   },
   "file_extension": ".py",
   "mimetype": "text/x-python",
   "name": "python",
   "nbconvert_exporter": "python",
   "pygments_lexer": "ipython3",
   "version": "3.7.9"
  }
 },
 "nbformat": 4,
 "nbformat_minor": 4
}
