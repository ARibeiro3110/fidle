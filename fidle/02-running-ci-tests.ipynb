{
 "cells": [
  {
   "cell_type": "markdown",
   "metadata": {},
   "source": [
    "<img width=\"800px\" src=\"../fidle/img/00-Fidle-header-01.svg\"></img>\n",
    "\n",
    "\n",
    "# Gestion des tests d'intégration continue\n",
    "\n",
    "**La liste des notebooks a éxécuter** et de leurs paramètres (override) est définie dans un **profile**.  \n",
    " - Un profile est un fichier yaml\n",
    " - Un profile par défaut (à complété !) peut être généré.\n",
    "\n",
    "Lorqu'un **profile** est prêt, il peut être soumis pour **éxécution**\n",
    " - Pour chaque notebook, les paramètres sont positionnés (variables d'env.)\n",
    " - Le notebook est lu, puis éxécuté\n",
    " - Après éxécution, le notebook est sauvegardé sous son nom taggé (output_tag)\n",
    "\n",
    "Un **rapport d'éxécution** est généré durant l'éxécution des tests.  \n",
    "A la fin des tests, ce rapport peut être visualisé via le notebook : [./03-ci-report.ipynb](./03-ci-report.ipynb)\n"
   ]
  },
  {
   "cell_type": "code",
   "execution_count": 1,
   "metadata": {},
   "outputs": [],
   "source": [
    "import cookci"
   ]
  },
  {
   "cell_type": "markdown",
   "metadata": {},
   "source": [
    "## Save a default profile\n",
    "Génère un profile par défaut comprenant tous les notebooks du moment...  \n",
    "...en tout cas présent dans catalog.json ;-)"
   ]
  },
  {
   "cell_type": "code",
   "execution_count": 2,
   "metadata": {},
   "outputs": [],
   "source": [
    "# profile = cookci.get_ci_profile()\n",
    "# cookci.save_profile(profile, './ci/default.yml')"
   ]
  },
  {
   "cell_type": "markdown",
   "metadata": {},
   "source": [
    "## Run a profile"
   ]
  },
  {
   "cell_type": "code",
   "execution_count": 3,
   "metadata": {},
   "outputs": [
    {
     "name": "stdout",
     "output_type": "stream",
     "text": [
      "\n",
      "Run profile session - FIDLE 2021\n",
      "Version : 1.0\n",
      "\n",
      "Load profile :./ci/smart_cpu.yml\n",
      "    Entries :  15\n",
      "\n",
      "Create new ci report : /home/pjluc/dev/fidle/fidle/logs/ci_report_smart.json\n",
      "\n",
      "Notebook : LINR1\n",
      "    Run notebook.....done.\n",
      "    Duration :  0:00:03\n",
      "    Saved as :  01-Linear-Regression==done==.ipynb\n",
      "\n",
      "Notebook : GRAD1\n",
      "    Run notebook.....done.\n",
      "    Duration :  0:00:06\n",
      "    Saved as :  02-Gradient-descent==done==.ipynb\n",
      "\n",
      "Notebook : POLR1\n",
      "    Run notebook.....done.\n",
      "    Duration :  0:00:03\n",
      "    Saved as :  03-Polynomial-Regression==done==.ipynb\n",
      "\n",
      "Notebook : LOGR1\n",
      "    Run notebook.....done.\n",
      "    Duration :  0:00:03\n",
      "    Saved as :  04-Logistic-Regression==done==.ipynb\n",
      "\n",
      "Notebook : PER57\n",
      "    Run notebook.....done.\n",
      "    Duration :  0:00:02\n",
      "    Saved as :  01-Simple-Perceptron==done==.ipynb\n",
      "\n",
      "Notebook : BHPD1\n",
      "    Run notebook.....done.\n",
      "    Duration :  0:00:13\n",
      "    Saved as :  01-DNN-Regression==done==.ipynb\n",
      "\n",
      "Notebook : BHPD2\n",
      "    Run notebook.....done.\n",
      "    Duration :  0:00:13\n",
      "    Saved as :  02-DNN-Regression-Premium==done==.ipynb\n",
      "\n",
      "Notebook : MNIST1\n",
      "    Run notebook.....done.\n",
      "    Duration :  0:00:37\n",
      "    Saved as :  01-DNN-MNIST==done==.ipynb\n",
      "\n",
      "Notebook : GTSRB1\n",
      "    set overrides :\n",
      "       FIDLE_OVERRIDE_GTSRB1_scale            = 0.05\n",
      "       FIDLE_OVERRIDE_GTSRB1_output_dir       = ./data\n",
      "    Run notebook.....done.\n",
      "    Duration :  0:01:24\n",
      "    Saved as :  01-Preparation-of-data==done==.ipynb\n",
      "\n",
      "Notebook : GTSRB2\n",
      "    set overrides :\n",
      "       FIDLE_OVERRIDE_GTSRB2_run_dir          = ./run/GTSRB2_ci\n",
      "       FIDLE_OVERRIDE_GTSRB2_dataset_name     = set-24x24-L\n",
      "       FIDLE_OVERRIDE_GTSRB2_batch_size       = 64\n",
      "       FIDLE_OVERRIDE_GTSRB2_epochs           = 5\n",
      "       FIDLE_OVERRIDE_GTSRB2_scale            = 1\n",
      "    Run notebook.....done.\n",
      "    Duration :  0:03:55\n",
      "    Saved as :  02-First-convolutions==done==.ipynb\n",
      "\n",
      "Notebook : GTSRB3\n",
      "    set overrides :\n",
      "       FIDLE_OVERRIDE_GTSRB3_run_dir          = ./run/GTSRB3_ci\n",
      "       FIDLE_OVERRIDE_GTSRB3_dataset_name     = set-24x24-L\n",
      "       FIDLE_OVERRIDE_GTSRB3_batch_size       = 64\n",
      "       FIDLE_OVERRIDE_GTSRB3_epochs           = 5\n",
      "       FIDLE_OVERRIDE_GTSRB3_scale            = 1\n",
      "    Run notebook.....done.\n",
      "    Duration :  0:04:22\n",
      "    Saved as :  03-Tracking-and-visualizing==done==.ipynb\n",
      "\n",
      "Notebook : GTSRB4\n",
      "    set overrides :\n",
      "       FIDLE_OVERRIDE_GTSRB4_run_dir          = ./run/GTSRB4_ci\n",
      "       FIDLE_OVERRIDE_GTSRB4_dataset_name     = set-24x24-L\n",
      "       FIDLE_OVERRIDE_GTSRB4_batch_size       = 64\n",
      "       FIDLE_OVERRIDE_GTSRB4_epochs           = 5\n",
      "       FIDLE_OVERRIDE_GTSRB4_scale            = 0.5\n",
      "    Run notebook...\n",
      "    ************************************************************\n",
      "    ** AAARG.. An error occured :  AssertionError\n",
      "    ** See notebook :  04-Data-augmentation==ERROR==.ipynb for details.\n",
      "    ************************************************************\n",
      "    Duration :  0:02:12\n",
      "    Saved as :  04-Data-augmentation==ERROR==.ipynb\n",
      "\n",
      "Notebook : GTSRB5\n",
      "    set overrides :\n",
      "       FIDLE_OVERRIDE_GTSRB5_run_dir          = ./run/GTSRB5_ci\n",
      "       FIDLE_OVERRIDE_GTSRB5_datasets         = ['set-24x24-L', 'set-24x24-RGB', 'set-48x48-RGB']\n",
      "       FIDLE_OVERRIDE_GTSRB5_models           = {'v1':'get_model_v1', 'v2':'get_model_v2', 'v3':'get_model_v3'}\n",
      "       FIDLE_OVERRIDE_GTSRB5_batch_size       = 64\n",
      "       FIDLE_OVERRIDE_GTSRB5_epochs           = 5\n",
      "       FIDLE_OVERRIDE_GTSRB5_scale            = 0.1\n",
      "       FIDLE_OVERRIDE_GTSRB5_with_datagen     = True\n",
      "       FIDLE_OVERRIDE_GTSRB5_verbose          = 0\n",
      "    Run notebook...\n",
      "    ************************************************************\n",
      "    ** AAARG.. An error occured :  CellExecutionError\n",
      "    ** See notebook :  05-Full-convolutions==ERROR==.ipynb for details.\n",
      "    ************************************************************\n",
      "    Duration :  0:00:02\n",
      "    Saved as :  05-Full-convolutions==ERROR==.ipynb\n",
      "\n",
      "Notebook : GTSRB6\n",
      "    Run notebook.....done.\n",
      "    Duration :  0:00:03\n",
      "    Saved as :  06-Notebook-as-a-batch==done==.ipynb\n",
      "\n",
      "Notebook : GTSRB7\n",
      "    set overrides :\n",
      "       FIDLE_OVERRIDE_GTSRB7_run_dir          = ./run/GTSRB7_ci\n",
      "       FIDLE_OVERRIDE_GTSRB7_report_dir       = ./run/GTSRB5\n",
      "    Run notebook.....done.\n",
      "    Duration :  0:00:02\n",
      "    Saved as :  07-Show-report==done==.ipynb\n",
      "\n",
      "End of running process\n",
      "    Duration : 0:13:29\n",
      "\n",
      "Complete ci report : /home/pjluc/dev/fidle/fidle/logs/ci_report_smart.json\n"
     ]
    }
   ],
   "source": [
    "cookci.run_profile('./ci/smart_cpu.yml', report_name='./logs/ci_report_smart.json')"
   ]
  },
  {
   "cell_type": "markdown",
   "metadata": {},
   "source": [
    "---\n",
    "<img width=\"80px\" src=\"../fidle/img/00-Fidle-logo-01.svg\"></img>"
   ]
  }
 ],
 "metadata": {
  "kernelspec": {
   "display_name": "Python 3",
   "language": "python",
   "name": "python3"
  },
  "language_info": {
   "codemirror_mode": {
    "name": "ipython",
    "version": 3
   },
   "file_extension": ".py",
   "mimetype": "text/x-python",
   "name": "python",
   "nbconvert_exporter": "python",
   "pygments_lexer": "ipython3",
   "version": "3.7.9"
  }
 },
 "nbformat": 4,
 "nbformat_minor": 4
}
