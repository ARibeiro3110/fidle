{
 "cells": [
  {
   "cell_type": "markdown",
   "metadata": {},
   "source": [
    "<img width=\"800px\" src=\"../fidle/img/00-Fidle-header-01.svg\"></img>\n",
    "\n",
    "\n",
    "# Gestion des tests d'intégration continue\n",
    "\n",
    "**La liste des notebooks a éxécuter** et de leurs paramètres (override) est définie dans un **profile**.  \n",
    " - Un profile est un fichier yaml\n",
    " - Un profile par défaut (à complété !) peut être généré.\n",
    "\n",
    "Lorqu'un **profile** est prêt, il peut être soumis pour **éxécution**\n",
    " - Pour chaque notebook, les paramètres sont positionnés (variables d'env.)\n",
    " - Le notebook est lu, puis éxécuté\n",
    " - Après éxécution, le notebook est sauvegardé sous son nom taggé (output_tag)\n",
    "\n",
    "Un **rapport d'éxécution** est généré durant l'éxécution des tests.  \n",
    "A la fin des tests, ce rapport peut être visualisé via le notebook : [./03-ci-report.ipynb](./03-ci-report.ipynb)\n"
   ]
  },
  {
   "cell_type": "code",
   "execution_count": 1,
   "metadata": {},
   "outputs": [],
   "source": [
    "import cookci\n",
    "import os\n",
    "\n",
    "os.environ['TF_CPP_MIN_LOG_LEVEL'] = '2'"
   ]
  },
  {
   "cell_type": "markdown",
   "metadata": {},
   "source": [
    "## Step 1 - Create default profile\n",
    "Génère un profile par défaut comprenant tous les notebooks du moment...  \n",
    "...avec la liste des overrides disponibles :-)"
   ]
  },
  {
   "cell_type": "code",
   "execution_count": 2,
   "metadata": {},
   "outputs": [
    {
     "name": "stdout",
     "output_type": "stream",
     "text": [
      "Profile saved as ./ci/default.yml\n",
      "Entries :  46\n"
     ]
    }
   ],
   "source": [
    "profile = cookci.get_default_profile()\n",
    "cookci.save_profile(profile, './ci/default.yml')"
   ]
  },
  {
   "cell_type": "markdown",
   "metadata": {},
   "source": [
    "## Step 2 - Profile"
   ]
  },
  {
   "cell_type": "code",
   "execution_count": 3,
   "metadata": {},
   "outputs": [],
   "source": [
    "profile_name = './ci/small_cpu.yml'\n",
    "# profile_name = './ci/fidle-ad_s05.yml'"
   ]
  },
  {
   "cell_type": "code",
   "execution_count": 4,
   "metadata": {},
   "outputs": [],
   "source": [
    "profile_name = os.getenv('FIDLE_OVERRIDE_PROFILE', profile_name )"
   ]
  },
  {
   "cell_type": "markdown",
   "metadata": {},
   "source": [
    "## Step 3 - Run it"
   ]
  },
  {
   "cell_type": "code",
   "execution_count": 5,
   "metadata": {},
   "outputs": [
    {
     "name": "stdout",
     "output_type": "stream",
     "text": [
      "\n",
      "Run profile session - FIDLE 2021\n",
      "Version : 1.0\n",
      "\n",
      "Load profile :./ci/small_cpu.yml\n",
      "    Entries :  7\n",
      "\n",
      "Create new ci report : /home/pjluc/dev/fidle/fidle/logs/ci_report.json\n",
      "Remove error file    : /home/pjluc/dev/fidle/fidle/logs/ci_ERROR.txt\n",
      "\n",
      "Run : Nb_LINR1\n",
      "    Run notebook.....done.\n",
      "    Duration :  0:00:05\n",
      "    Saved {output_name} as ipynb, html and pdf\n",
      "\n",
      "Run : Nb_GRAD1\n",
      "    Run notebook.....done.\n",
      "    Duration :  0:00:09\n",
      "    **Error during pdf convert...\n",
      "    Saved {output_name} as ipynb, html and pdf\n",
      "\n",
      "Run : Nb_POLR1\n",
      "    Run notebook.....done.\n",
      "    Duration :  0:00:06\n",
      "    **Error during pdf convert...\n",
      "    Saved {output_name} as ipynb, html and pdf\n",
      "\n",
      "Run : Nb_LOGR1\n",
      "    Run notebook.....done.\n",
      "    Duration :  0:00:06\n",
      "    **Error during pdf convert...\n",
      "    Saved {output_name} as ipynb, html and pdf\n",
      "\n",
      "Run : Nb_PER57\n",
      "    Run notebook.....done.\n",
      "    Duration :  0:00:05\n",
      "    Saved {output_name} as ipynb, html and pdf\n",
      "\n",
      "Run : Nb_BHPD1\n",
      "    set overrides :\n",
      "       FIDLE_OVERRIDE_BHPD1_fit_verbosity     = 2\n",
      "    Run notebook.....done.\n",
      "    Duration :  0:00:26\n",
      "    Saved {output_name} as ipynb, html and pdf\n",
      "\n",
      "Run : Nb_BHPD2\n",
      "    set overrides :\n",
      "       FIDLE_OVERRIDE_BHPD2_fit_verbosity     = 2\n",
      "    Run notebook.....done.\n",
      "    Duration :  0:00:42\n",
      "    Saved {output_name} as ipynb, html and pdf\n",
      "\n",
      "End of running process\n",
      "    Duration : 0:02:03\n",
      "\n",
      "Complete ci report : /home/pjluc/dev/fidle/fidle/logs/ci_report.json\n"
     ]
    }
   ],
   "source": [
    "cookci.run_profile(profile_name, report_name='./logs/ci_report.json')"
   ]
  },
  {
   "cell_type": "code",
   "execution_count": 7,
   "metadata": {},
   "outputs": [
    {
     "name": "stdout",
     "output_type": "stream",
     "text": [
      "./run/ci\n",
      "├── html\n",
      "│   ├── BHPD\n",
      "│   │   ├── 01-DNN-Regression==ci==.html\n",
      "│   │   └── 02-DNN-Regression-Premium==ci==.html\n",
      "│   ├── IRIS\n",
      "│   │   └── 01-Simple-Perceptron==ci==.html\n",
      "│   └── LinearReg\n",
      "│       ├── 01-Linear-Regression==ci==.html\n",
      "│       ├── 02-Gradient-descent==ci==.html\n",
      "│       ├── 03-Polynomial-Regression==ci==.html\n",
      "│       └── 04-Logistic-Regression==ci==.html\n",
      "├── ipynb\n",
      "│   ├── BHPD\n",
      "│   │   ├── 01-DNN-Regression==ci==.ipynb\n",
      "│   │   └── 02-DNN-Regression-Premium==ci==.ipynb\n",
      "│   ├── IRIS\n",
      "│   │   └── 01-Simple-Perceptron==ci==.ipynb\n",
      "│   └── LinearReg\n",
      "│       ├── 01-Linear-Regression==ci==.ipynb\n",
      "│       ├── 02-Gradient-descent==ci==.ipynb\n",
      "│       ├── 03-Polynomial-Regression==ci==.ipynb\n",
      "│       └── 04-Logistic-Regression==ci==.ipynb\n",
      "└── pdf\n",
      "    ├── BHPD\n",
      "    │   ├── 01-DNN-Regression==ci==.pdf\n",
      "    │   └── 02-DNN-Regression-Premium==ci==.pdf\n",
      "    ├── IRIS\n",
      "    │   └── 01-Simple-Perceptron==ci==.pdf\n",
      "    └── LinearReg\n",
      "        ├── 01-Linear-Regression==ci==.pdf\n",
      "        ├── 02-Gradient-descent==ci==.pdf\n",
      "        ├── 03-Polynomial-Regression==ci==.pdf\n",
      "        └── 04-Logistic-Regression==ci==.pdf\n",
      "\n",
      "12 directories, 21 files\n",
      "   491718    768 -rw-r--r--   1 pjluc    pjluc      783282 Oct 25 22:21 ../fidle/run/ci/html/BHPD/01-DNN-Regression==ci==.html\n",
      "   491660    760 -rw-r--r--   1 pjluc    pjluc      774460 Oct 25 22:22 ../fidle/run/ci/html/BHPD/02-DNN-Regression-Premium==ci==.html\n",
      "   491710    680 -rw-r--r--   1 pjluc    pjluc      693754 Oct 25 22:21 ../fidle/run/ci/html/IRIS/01-Simple-Perceptron==ci==.html\n",
      "   491690    648 -rw-r--r--   1 pjluc    pjluc      662112 Oct 25 22:20 ../fidle/run/ci/html/LinearReg/01-Linear-Regression==ci==.html\n",
      "   491695    836 -rw-r--r--   1 pjluc    pjluc      854754 Oct 25 22:20 ../fidle/run/ci/html/LinearReg/02-Gradient-descent==ci==.html\n",
      "   491702    708 -rw-r--r--   1 pjluc    pjluc      722111 Oct 25 22:21 ../fidle/run/ci/html/LinearReg/03-Polynomial-Regression==ci==.html\n",
      "   491705    880 -rw-r--r--   1 pjluc    pjluc      900013 Oct 25 22:21 ../fidle/run/ci/html/LinearReg/04-Logistic-Regression==ci==.html\n",
      "   491714    232 -rw-r--r--   1 pjluc    pjluc      234633 Oct 25 22:21 ../fidle/run/ci/ipynb/BHPD/01-DNN-Regression==ci==.ipynb\n",
      "   138007    216 -rw-r--r--   1 pjluc    pjluc      217906 Oct 25 22:22 ../fidle/run/ci/ipynb/BHPD/02-DNN-Regression-Premium==ci==.ipynb\n",
      "   491708    120 -rw-r--r--   1 pjluc    pjluc      121956 Oct 25 22:21 ../fidle/run/ci/ipynb/IRIS/01-Simple-Perceptron==ci==.ipynb\n",
      "   491687     96 -rw-r--r--   1 pjluc    pjluc       94494 Oct 25 22:20 ../fidle/run/ci/ipynb/LinearReg/01-Linear-Regression==ci==.ipynb\n",
      "   491694    288 -rw-r--r--   1 pjluc    pjluc      291917 Oct 25 22:20 ../fidle/run/ci/ipynb/LinearReg/02-Gradient-descent==ci==.ipynb\n",
      "   491696    144 -rw-r--r--   1 pjluc    pjluc      145643 Oct 25 22:21 ../fidle/run/ci/ipynb/LinearReg/03-Polynomial-Regression==ci==.ipynb\n",
      "   491704    300 -rw-r--r--   1 pjluc    pjluc      307021 Oct 25 22:21 ../fidle/run/ci/ipynb/LinearReg/04-Logistic-Regression==ci==.ipynb\n",
      "   491721    120 -rw-r--r--   1 pjluc    pjluc      121007 Oct 25 22:21 ../fidle/run/ci/pdf/BHPD/01-DNN-Regression==ci==.pdf\n",
      "   491677    124 -rw-r--r--   1 pjluc    pjluc      124238 Oct 25 22:22 ../fidle/run/ci/pdf/BHPD/02-DNN-Regression-Premium==ci==.pdf\n",
      "   491712     84 -rw-r--r--   1 pjluc    pjluc       82133 Oct 25 22:21 ../fidle/run/ci/pdf/IRIS/01-Simple-Perceptron==ci==.pdf\n",
      "   491693     76 -rw-r--r--   1 pjluc    pjluc       76374 Oct 25 22:20 ../fidle/run/ci/pdf/LinearReg/01-Linear-Regression==ci==.pdf\n",
      "   491697      0 -rw-r--r--   1 pjluc    pjluc           0 Oct 25 22:20 ../fidle/run/ci/pdf/LinearReg/02-Gradient-descent==ci==.pdf\n",
      "   491703      0 -rw-r--r--   1 pjluc    pjluc           0 Oct 25 22:21 ../fidle/run/ci/pdf/LinearReg/03-Polynomial-Regression==ci==.pdf\n",
      "   491706      0 -rw-r--r--   1 pjluc    pjluc           0 Oct 25 22:21 ../fidle/run/ci/pdf/LinearReg/04-Logistic-Regression==ci==.pdf\n"
     ]
    }
   ],
   "source": [
    "%%bash\n",
    "tree ./run/ci\n",
    "find .. -name \"*==ci==.*\" -ls | sort -k11\n",
    "# rm $(find .. -name \"*==ci==.ipynb\")\n",
    "# rm $(find .. -name \"*==ci==.html\")"
   ]
  },
  {
   "cell_type": "markdown",
   "metadata": {},
   "source": [
    "---\n",
    "<img width=\"80px\" src=\"../fidle/img/00-Fidle-logo-01.svg\"></img>"
   ]
  },
  {
   "cell_type": "markdown",
   "metadata": {},
   "source": []
  }
 ],
 "metadata": {
  "interpreter": {
   "hash": "8e38643e33497db9a306e3f311fa98cb1e65371278ca73ee4ea0c76aa5a4f387"
  },
  "kernelspec": {
   "display_name": "Python 3.9.7 64-bit ('fidle-cpu': conda)",
   "name": "python3"
  },
  "language_info": {
   "codemirror_mode": {
    "name": "ipython",
    "version": 3
   },
   "file_extension": ".py",
   "mimetype": "text/x-python",
   "name": "python",
   "nbconvert_exporter": "python",
   "pygments_lexer": "ipython3",
   "version": "3.9.7"
  }
 },
 "nbformat": 4,
 "nbformat_minor": 4
}
