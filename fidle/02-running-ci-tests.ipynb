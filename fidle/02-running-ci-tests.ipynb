{
 "cells": [
  {
   "cell_type": "markdown",
   "metadata": {},
   "source": [
    "<img width=\"800px\" src=\"../fidle/img/00-Fidle-header-01.svg\"></img>\n",
    "\n",
    "\n",
    "# Gestion des tests d'intégration continue\n",
    "\n",
    "**La liste des notebooks a éxécuter** et de leurs paramètres (override) est définie dans un **profile**.  \n",
    " - Un profile est un fichier yaml\n",
    " - Un profile par défaut (à complété !) peut être généré.\n",
    "\n",
    "Lorqu'un **profile** est prêt, il peut être soumis pour **éxécution**\n",
    " - Pour chaque notebook, les paramètres sont positionnés (variables d'env.)\n",
    " - Le notebook est lu, puis éxécuté\n",
    " - Après éxécution, le notebook est sauvegardé sous son nom taggé (output_tag)\n",
    "\n",
    "Un **rapport d'éxécution** est généré durant l'éxécution des tests.  \n",
    "A la fin des tests, ce rapport peut être visualisé via le notebook : [./03-ci-report.ipynb](./03-ci-report.ipynb)\n"
   ]
  },
  {
   "cell_type": "code",
   "execution_count": 1,
   "metadata": {},
   "outputs": [],
   "source": [
    "import cookci\n",
    "import os"
   ]
  },
  {
   "cell_type": "markdown",
   "metadata": {},
   "source": [
    "## Create default profile\n",
    "Génère un profile par défaut comprenant tous les notebooks du moment...  \n",
    "...avec la liste des overrides disponibles :-)"
   ]
  },
  {
   "cell_type": "code",
   "execution_count": 2,
   "metadata": {},
   "outputs": [
    {
     "name": "stdout",
     "output_type": "stream",
     "text": [
      "Profile saved as ./ci/default.yml\n",
      "Entries :  40\n"
     ]
    }
   ],
   "source": [
    "profile = cookci.get_default_profile()\n",
    "cookci.save_profile(profile, './ci/default.yml')"
   ]
  },
  {
   "cell_type": "markdown",
   "metadata": {},
   "source": [
    "## Profile"
   ]
  },
  {
   "cell_type": "code",
   "execution_count": 3,
   "metadata": {},
   "outputs": [],
   "source": [
    "# ---- Profile of tests\n",
    "#\n",
    "# profile_name = './ci/smart_cpu.yml'\n",
    "profile_name = './ci/fidle-ad_s04.yml'"
   ]
  },
  {
   "cell_type": "markdown",
   "metadata": {},
   "source": [
    "## Run it"
   ]
  },
  {
   "cell_type": "code",
   "execution_count": 4,
   "metadata": {},
   "outputs": [
    {
     "name": "stdout",
     "output_type": "stream",
     "text": [
      "\n",
      "Run profile session - FIDLE 2021\n",
      "Version : 1.0\n",
      "\n",
      "Load profile :./ci/fidle-ad_s04.yml\n",
      "    Entries :  4\n",
      "\n",
      "Create new ci report : /home/pjluc/dev/fidle/fidle/logs/ci_report.json\n",
      "Remove error file    : /home/pjluc/dev/fidle/fidle/logs/ci_ERROR.txt\n",
      "\n",
      "Run : Nb_LADYB1\n",
      "    set overrides :\n",
      "    Run notebook.....done.\n",
      "    Duration :  0:02:32\n",
      "    Saved as :  LADYB1-Ladybug==done==.ipynb\n",
      "\n",
      "Run : Nb_SYNOP1\n",
      "    set overrides :\n",
      "    Run notebook.....done.\n",
      "    Duration :  0:00:05\n",
      "    Saved as :  SYNOP1-Preparation-of-data==done==.ipynb\n",
      "\n",
      "Run : Nb_SYNOP2\n",
      "    set overrides :\n",
      "    Run notebook.....done.\n",
      "    Duration :  0:02:01\n",
      "    Saved as :  SYNOP2-First-predictions==done==.ipynb\n",
      "\n",
      "Run : Nb_SYNOP3\n",
      "    set overrides :\n",
      "    Run notebook.....done.\n",
      "    Duration :  0:00:07\n",
      "    Saved as :  SYNOP3-12h-predictions==done==.ipynb\n",
      "\n",
      "End of running process\n",
      "    Duration : 0:04:47\n",
      "\n",
      "Complete ci report : /home/pjluc/dev/fidle/fidle/logs/ci_report.json\n"
     ]
    }
   ],
   "source": [
    "# ---- Override for batch mode\n",
    "#\n",
    "profile_name = os.getenv('FIDLE_OVERRIDE_PROFILE', profile_name )\n",
    "\n",
    "cookci.run_profile(profile_name, report_name='./logs/ci_report.json')"
   ]
  },
  {
   "cell_type": "code",
   "execution_count": 5,
   "metadata": {},
   "outputs": [],
   "source": [
    "%%bash\n",
    "find .. -name \"*==ci==.ipynb\" -ls | sort -k11\n",
    "# rm $(find .. -name \"*==ci==.ipynb\")"
   ]
  },
  {
   "cell_type": "markdown",
   "metadata": {},
   "source": [
    "---\n",
    "<img width=\"80px\" src=\"../fidle/img/00-Fidle-logo-01.svg\"></img>"
   ]
  }
 ],
 "metadata": {
  "kernelspec": {
   "display_name": "Python 3",
   "language": "python",
   "name": "python3"
  },
  "language_info": {
   "codemirror_mode": {
    "name": "ipython",
    "version": 3
   },
   "file_extension": ".py",
   "mimetype": "text/x-python",
   "name": "python",
   "nbconvert_exporter": "python",
   "pygments_lexer": "ipython3",
   "version": "3.8.5"
  }
 },
 "nbformat": 4,
 "nbformat_minor": 4
}
