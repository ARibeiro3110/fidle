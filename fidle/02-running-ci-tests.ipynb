{
 "cells": [
  {
   "cell_type": "markdown",
   "metadata": {},
   "source": [
    "<img width=\"800px\" src=\"../fidle/img/00-Fidle-header-01.svg\"></img>\n",
    "\n",
    "\n",
    "# Gestion des tests d'intégration continue\n",
    "\n",
    "**La liste des notebooks a éxécuter** et de leurs paramètres (override) est définie dans un **profile**.  \n",
    " - Un profile est un fichier yaml\n",
    " - Un profile par défaut (à complété !) peut être généré.\n",
    "\n",
    "Lorqu'un **profile** est prêt, il peut être soumis pour **éxécution**\n",
    " - Pour chaque notebook, les paramètres sont positionnés (variables d'env.)\n",
    " - Le notebook est lu, puis éxécuté\n",
    " - Après éxécution, le notebook est sauvegardé sous son nom taggé (output_tag)\n",
    "\n",
    "Un **rapport d'éxécution** est généré durant l'éxécution des tests.  \n",
    "A la fin des tests, ce rapport peut être visualisé via le notebook : [./03-ci-report.ipynb](./03-ci-report.ipynb)\n"
   ]
  },
  {
   "cell_type": "code",
   "execution_count": 1,
   "metadata": {},
   "outputs": [],
   "source": [
    "import cookci\n",
    "import os\n",
    "\n",
    "os.environ['TF_CPP_MIN_LOG_LEVEL'] = '2'"
   ]
  },
  {
   "cell_type": "markdown",
   "metadata": {},
   "source": [
    "## Step 1 - Create default profile\n",
    "Génère un profile par défaut comprenant tous les notebooks du moment...  \n",
    "...avec la liste des overrides disponibles :-)"
   ]
  },
  {
   "cell_type": "code",
   "execution_count": 2,
   "metadata": {},
   "outputs": [
    {
     "name": "stdout",
     "output_type": "stream",
     "text": [
      "Profile saved as ./ci/default.yml\n",
      "Entries :  46\n"
     ]
    }
   ],
   "source": [
    "profile = cookci.get_default_profile()\n",
    "cookci.save_profile(profile, './ci/default.yml')"
   ]
  },
  {
   "cell_type": "markdown",
   "metadata": {},
   "source": [
    "## Step 2 - Profile"
   ]
  },
  {
   "cell_type": "code",
   "execution_count": 3,
   "metadata": {},
   "outputs": [],
   "source": [
    "profile_name = './ci/small_cpu.yml'\n",
    "# profile_name = './ci/fidle-ad_s05.yml'"
   ]
  },
  {
   "cell_type": "code",
   "execution_count": 4,
   "metadata": {},
   "outputs": [],
   "source": [
    "profile_name = os.getenv('FIDLE_OVERRIDE_PROFILE', profile_name )"
   ]
  },
  {
   "cell_type": "markdown",
   "metadata": {},
   "source": [
    "## Step 3 - Run it"
   ]
  },
  {
   "cell_type": "code",
   "execution_count": 5,
   "metadata": {},
   "outputs": [
    {
     "name": "stdout",
     "output_type": "stream",
     "text": [
      "\n",
      "Run profile session - FIDLE 2021\n",
      "Version : 1.0\n",
      "\n",
      "Load profile :./ci/small_cpu.yml\n",
      "    Entries :  7\n",
      "\n",
      "Create new ci report : /home/pjluc/dev/fidle/fidle/logs/ci_report.json\n",
      "Remove error file    : /home/pjluc/dev/fidle/fidle/logs/ci_ERROR.txt\n",
      "\n",
      "Run : Nb_LINR1\n",
      "    Run notebook.....done.\n",
      "    Duration :  0:00:06\n",
      "=>  ../fidle/img/00-Fidle-header-01.svg\n",
      "=>  ../fidle/img/00-Fidle-logo-01.svg\n",
      "    Saved as :  ./run/ci/01-Linear-Regression==ci==.ipynb\n",
      "    Saved as :  ./run/ci/01-Linear-Regression==ci==.html\n",
      "\n",
      "Run : Nb_GRAD1\n",
      "    Run notebook.....done.\n",
      "    Duration :  0:00:09\n",
      "=>  ../fidle/img/00-Fidle-header-01.svg\n",
      "=>  ../fidle/img/00-Fidle-logo-01.svg\n",
      "    Saved as :  ./run/ci/02-Gradient-descent==ci==.ipynb\n",
      "    Saved as :  ./run/ci/02-Gradient-descent==ci==.html\n",
      "\n",
      "Run : Nb_POLR1\n",
      "    Run notebook.....done.\n",
      "    Duration :  0:00:06\n",
      "=>  ../fidle/img/00-Fidle-header-01.svg\n",
      "=>  ../fidle/img/00-Fidle-logo-01.svg\n",
      "    Saved as :  ./run/ci/03-Polynomial-Regression==ci==.ipynb\n",
      "    Saved as :  ./run/ci/03-Polynomial-Regression==ci==.html\n",
      "\n",
      "Run : Nb_LOGR1\n",
      "    Run notebook.....done.\n",
      "    Duration :  0:00:06\n",
      "=>  ../fidle/img/00-Fidle-header-01.svg\n",
      "=>  ../fidle/img/00-Fidle-logo-01.svg\n",
      "    Saved as :  ./run/ci/04-Logistic-Regression==ci==.ipynb\n",
      "    Saved as :  ./run/ci/04-Logistic-Regression==ci==.html\n",
      "\n",
      "Run : Nb_PER57\n",
      "    Run notebook.....done.\n",
      "    Duration :  0:00:05\n",
      "=>  ../fidle/img/00-Fidle-header-01.svg\n",
      "=>  ../fidle/img/00-Fidle-logo-01.svg\n",
      "    Saved as :  ./run/ci/01-Simple-Perceptron==ci==.ipynb\n",
      "    Saved as :  ./run/ci/01-Simple-Perceptron==ci==.html\n",
      "\n",
      "Run : Nb_BHPD1\n",
      "    set overrides :\n",
      "       FIDLE_OVERRIDE_BHPD1_fit_verbosity     = 2\n",
      "    Run notebook..."
     ]
    }
   ],
   "source": [
    "cookci.run_profile(profile_name, report_name='./logs/ci_report.json')"
   ]
  },
  {
   "cell_type": "code",
   "execution_count": null,
   "metadata": {},
   "outputs": [],
   "source": [
    "%%bash\n",
    "find .. -name \"*==ci==.*\" -ls | sort -k11\n",
    "# rm $(find .. -name \"*==ci==.ipynb\")\n",
    "# rm $(find .. -name \"*==ci==.html\")"
   ]
  },
  {
   "cell_type": "markdown",
   "metadata": {},
   "source": [
    "---\n",
    "<img width=\"80px\" src=\"../fidle/img/00-Fidle-logo-01.svg\"></img>"
   ]
  },
  {
   "cell_type": "code",
   "execution_count": null,
   "metadata": {},
   "outputs": [],
   "source": [
    "import base64\n",
    "\n",
    "def get_base64_image(file):\n",
    "\n",
    "    with open(file, \"rb\") as image_file:\n",
    "        img64 = base64.b64encode(image_file.read())\n",
    "    src=\"data:image/svg+xml;base64,\"+img64.decode(\"utf-8\") \n",
    "    return src"
   ]
  },
  {
   "cell_type": "code",
   "execution_count": null,
   "metadata": {},
   "outputs": [],
   "source": [
    "import re\n",
    "s='qsdqd<img width=\"800px\" src=\"img/00-Fidle-header-01.svg\"></img>qsdqd'\n",
    "\n",
    "def get_base64_image(file):\n",
    "\n",
    "    with open(file, \"rb\") as image_file:\n",
    "        img64 = base64.b64encode(image_file.read())\n",
    "    src=\"data:image/svg+xml;base64,\"+img64.decode(\"utf-8\") \n",
    "    return src\n",
    "\n",
    "    \n",
    "def img_embedder64(html):\n",
    "    '''\n",
    "    Images embedder. Search images src=\"...\" link and replace them\n",
    "    by base64 embedded images.\n",
    "    params:\n",
    "        html: input html\n",
    "    return:\n",
    "        output html\n",
    "    '''\n",
    "    for img_tag in re.findall('.*(<img .*>).*', html):\n",
    "        for src_tag in re.findall('.*src=[\\'\\\"](.*)[\\'\\\"].*', img_tag):\n",
    "            if src_tag.startswith('data:'): continue\n",
    "            src_b64 = get_base64_image(src_tag)\n",
    "            img_b64 = img_tag.replace(src_tag, src_b64)\n",
    "            html = html.replace(img_tag,img_b64)\n",
    "    return html\n",
    "\n"
   ]
  },
  {
   "cell_type": "code",
   "execution_count": null,
   "metadata": {},
   "outputs": [],
   "source": []
  },
  {
   "cell_type": "markdown",
   "metadata": {},
   "source": []
  }
 ],
 "metadata": {
  "interpreter": {
   "hash": "8e38643e33497db9a306e3f311fa98cb1e65371278ca73ee4ea0c76aa5a4f387"
  },
  "kernelspec": {
   "display_name": "Python 3.9.7 64-bit ('fidle-cpu': conda)",
   "name": "python3"
  },
  "language_info": {
   "codemirror_mode": {
    "name": "ipython",
    "version": 3
   },
   "file_extension": ".py",
   "mimetype": "text/x-python",
   "name": "python",
   "nbconvert_exporter": "python",
   "pygments_lexer": "ipython3",
   "version": "3.9.7"
  }
 },
 "nbformat": 4,
 "nbformat_minor": 4
}
