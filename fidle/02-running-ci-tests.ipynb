{
 "cells": [
  {
   "cell_type": "markdown",
   "metadata": {},
   "source": [
    "<img width=\"800px\" src=\"../fidle/img/00-Fidle-header-01.svg\"></img>\n",
    "\n",
    "\n",
    "# Gestion des tests d'intégration continue\n",
    "\n",
    "**La liste des notebooks a éxécuter** et de leurs paramètres (override) est définie dans un **profile**.  \n",
    " - Un profile est un fichier yaml\n",
    " - Un profile par défaut (à complété !) peut être généré.\n",
    "\n",
    "Lorqu'un **profile** est prêt, il peut être soumis pour **éxécution**\n",
    " - Pour chaque notebook, les paramètres sont positionnés (variables d'env.)\n",
    " - Le notebook est lu, puis éxécuté\n",
    " - Après éxécution, le notebook est sauvegardé sous son nom taggé (output_tag)\n",
    "\n",
    "Un **rapport d'éxécution** est généré durant l'éxécution des tests.  \n",
    "A la fin des tests, ce rapport peut être visualisé via le notebook : [./03-ci-report.ipynb](./03-ci-report.ipynb)\n"
   ]
  },
  {
   "cell_type": "code",
   "execution_count": 1,
   "metadata": {},
   "outputs": [],
   "source": [
    "import cookci"
   ]
  },
  {
   "cell_type": "markdown",
   "metadata": {},
   "source": [
    "## Save a default profile\n",
    "Génère un profile par défaut comprenant tous les notebooks du moment...  \n",
    "...avec la liste des overrides disponibles :-)"
   ]
  },
  {
   "cell_type": "code",
   "execution_count": 2,
   "metadata": {},
   "outputs": [],
   "source": [
    "# profile = cookci.get_ci_profile()\n",
    "# cookci.save_profile(profile, './ci/default.yml')"
   ]
  },
  {
   "cell_type": "markdown",
   "metadata": {},
   "source": [
    "## Run a profile"
   ]
  },
  {
   "cell_type": "code",
   "execution_count": 3,
   "metadata": {},
   "outputs": [
    {
     "name": "stdout",
     "output_type": "stream",
     "text": [
      "\n",
      "Run profile session - FIDLE 2021\n",
      "Version : 1.0\n",
      "\n",
      "Load profile :./ci/full_fad_s01.yml\n",
      "    Entries :  8\n",
      "\n",
      "Create new ci report : /home/pjluc/dev/fidle/fidle/logs/ci_report.json\n",
      "\n",
      "Notebook : LINR1\n",
      "    Run notebook.....done.\n",
      "    Duration :  0:00:04\n",
      "    Saved as :  01-Linear-Regression==done==.ipynb\n",
      "\n",
      "Notebook : GRAD1\n",
      "    Run notebook.....done.\n",
      "    Duration :  0:00:08\n",
      "    Saved as :  02-Gradient-descent==done==.ipynb\n",
      "\n",
      "Notebook : POLR1\n",
      "    Run notebook.....done.\n",
      "    Duration :  0:00:04\n",
      "    Saved as :  03-Polynomial-Regression==done==.ipynb\n",
      "\n",
      "Notebook : LOGR1\n",
      "    Run notebook.....done.\n",
      "    Duration :  0:00:03\n",
      "    Saved as :  04-Logistic-Regression==done==.ipynb\n",
      "\n",
      "Notebook : PER57\n",
      "    Run notebook.....done.\n",
      "    Duration :  0:00:02\n",
      "    Saved as :  01-Simple-Perceptron==done==.ipynb\n",
      "\n",
      "Notebook : BHPD1\n",
      "    Run notebook.....done.\n",
      "    Duration :  0:00:09\n",
      "    Saved as :  01-DNN-Regression==done==.ipynb\n",
      "\n",
      "Notebook : BHPD2\n",
      "    Run notebook.....done.\n",
      "    Duration :  0:00:11\n",
      "    Saved as :  02-DNN-Regression-Premium==done==.ipynb\n",
      "\n",
      "Notebook : MNIST1\n",
      "    Run notebook.....done.\n",
      "    Duration :  0:00:39\n",
      "    Saved as :  01-DNN-MNIST==done==.ipynb\n",
      "\n",
      "End of running process\n",
      "    Duration : 0:01:24\n",
      "\n",
      "Complete ci report : /home/pjluc/dev/fidle/fidle/logs/ci_report.json\n"
     ]
    }
   ],
   "source": [
    "profile_name = './ci/full_fad_s01.yml'\n",
    "# profile_name = './ci/full_gpu.yml'\n",
    "\n",
    "cookci.run_profile(profile_name, report_name='./logs/ci_report.json')"
   ]
  },
  {
   "cell_type": "code",
   "execution_count": 4,
   "metadata": {},
   "outputs": [
    {
     "name": "stdout",
     "output_type": "stream",
     "text": [
      "   333612    100 -rw-r--r--   1 pjluc    pjluc       98363 Jan 26 19:54 ../LinearReg/03-Polynomial-Regression==done==.ipynb\n",
      "   333611    240 -rw-r--r--   1 pjluc    pjluc      243582 Jan 26 19:54 ../LinearReg/02-Gradient-descent==done==.ipynb\n",
      "   333610     44 -rw-r--r--   1 pjluc    pjluc       43938 Jan 26 19:54 ../LinearReg/01-Linear-Regression==done==.ipynb\n",
      "   333613    260 -rw-r--r--   1 pjluc    pjluc      265080 Jan 26 19:54 ../LinearReg/04-Logistic-Regression==done==.ipynb\n",
      "   333609     72 -rw-r--r--   1 pjluc    pjluc       69648 Jan 26 19:54 ../IRIS/01-Simple-Perceptron==done==.ipynb\n",
      "   333614    864 -rw-r--r--   1 pjluc    pjluc      882799 Jan 26 19:55 ../MNIST/01-DNN-MNIST==done==.ipynb\n",
      "   333607    204 -rw-r--r--   1 pjluc    pjluc      207529 Jan 26 19:55 ../BHPD/02-DNN-Regression-Premium==done==.ipynb\n",
      "    65628    164 -rw-r--r--   1 pjluc    pjluc      166136 Jan 26 16:06 ../BHPD/01-DNN-Regression==ERROR==.ipynb\n",
      "    65630     32 -rw-r--r--   1 pjluc    pjluc       31359 Jan 26 16:06 ../BHPD/02-DNN-Regression-Premium==ERROR==.ipynb\n",
      "   326327    168 -rw-r--r--   1 pjluc    pjluc      170965 Jan 26 19:54 ../BHPD/01-DNN-Regression==done==.ipynb\n"
     ]
    }
   ],
   "source": [
    "%%bash\n",
    "find .. -name \"*==*==.ipynb\" -ls\n",
    "# rm $(find .. -name \"*==*==.ipynb\")"
   ]
  },
  {
   "cell_type": "markdown",
   "metadata": {},
   "source": [
    "---\n",
    "<img width=\"80px\" src=\"../fidle/img/00-Fidle-logo-01.svg\"></img>"
   ]
  }
 ],
 "metadata": {
  "kernelspec": {
   "display_name": "Python 3",
   "language": "python",
   "name": "python3"
  },
  "language_info": {
   "codemirror_mode": {
    "name": "ipython",
    "version": 3
   },
   "file_extension": ".py",
   "mimetype": "text/x-python",
   "name": "python",
   "nbconvert_exporter": "python",
   "pygments_lexer": "ipython3",
   "version": "3.8.5"
  }
 },
 "nbformat": 4,
 "nbformat_minor": 4
}
