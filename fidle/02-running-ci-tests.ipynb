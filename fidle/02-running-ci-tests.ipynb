{
 "cells": [
  {
   "cell_type": "markdown",
   "metadata": {},
   "source": [
    "<img width=\"800px\" src=\"../fidle/img/00-Fidle-header-01.svg\"></img>\n",
    "\n",
    "\n",
    "# Gestion des tests d'intégration continue\n",
    "\n",
    "**La liste des notebooks a éxécuter** et de leurs paramètres (override) est définie dans un **profile**.  \n",
    " - Un profile est un fichier yaml\n",
    " - Un profile par défaut (à complété !) peut être généré.\n",
    "\n",
    "Lorqu'un **profile** est prêt, il peut être soumis pour **éxécution**\n",
    " - Pour chaque notebook, les paramètres sont positionnés (variables d'env.)\n",
    " - Le notebook est lu, puis éxécuté\n",
    " - Après éxécution, le notebook est sauvegardé sous son nom taggé (output_tag)\n",
    "\n",
    "Un **rapport d'éxécution** est généré durant l'éxécution des tests.  \n",
    "A la fin des tests, ce rapport peut être visualisé via le notebook : [./03-ci-report.ipynb](./03-ci-report.ipynb)\n"
   ]
  },
  {
   "cell_type": "code",
   "execution_count": 4,
   "metadata": {},
   "outputs": [],
   "source": [
    "import cookci"
   ]
  },
  {
   "cell_type": "markdown",
   "metadata": {},
   "source": [
    "## Save a default profile\n",
    "Génère un profile par défaut comprenant tous les notebooks du moment...  \n",
    "...avec la liste des overrides disponibles :-)"
   ]
  },
  {
   "cell_type": "code",
   "execution_count": 5,
   "metadata": {},
   "outputs": [],
   "source": [
    "# profile = cookci.get_ci_profile()\n",
    "# cookci.save_profile(profile, './ci/default.yml')"
   ]
  },
  {
   "cell_type": "markdown",
   "metadata": {},
   "source": [
    "## Run a profile"
   ]
  },
  {
   "cell_type": "code",
   "execution_count": 6,
   "metadata": {},
   "outputs": [
    {
     "name": "stdout",
     "output_type": "stream",
     "text": [
      "\n",
      "Run profile session - FIDLE 2021\n",
      "Version : 1.0\n",
      "\n",
      "Load profile :./ci/full_jdev.yml\n",
      "    Entries :  8\n",
      "\n",
      "Create new ci report : /home/pjluc/dev/fidle/fidle/logs/ci_report.json\n",
      "\n",
      "Notebook : LINR1\n",
      "    Run notebook.....done.\n",
      "    Duration :  0:00:04\n",
      "    Saved as :  01-Linear-Regression==done==.ipynb\n",
      "\n",
      "Notebook : GRAD1\n",
      "    Run notebook.....done.\n",
      "    Duration :  0:00:05\n",
      "    Saved as :  02-Gradient-descent==done==.ipynb\n",
      "\n",
      "Notebook : POLR1\n",
      "    Run notebook.....done.\n",
      "    Duration :  0:00:03\n",
      "    Saved as :  03-Polynomial-Regression==done==.ipynb\n",
      "\n",
      "Notebook : LOGR1\n",
      "    Run notebook.....done.\n",
      "    Duration :  0:00:03\n",
      "    Saved as :  04-Logistic-Regression==done==.ipynb\n",
      "\n",
      "Notebook : PER57\n",
      "    Run notebook.....done.\n",
      "    Duration :  0:00:02\n",
      "    Saved as :  01-Simple-Perceptron==done==.ipynb\n",
      "\n",
      "Notebook : BHPD1\n",
      "    Run notebook.....done.\n",
      "    Duration :  0:00:11\n",
      "    Saved as :  01-DNN-Regression==done==.ipynb\n",
      "\n",
      "Notebook : BHPD2\n",
      "    Run notebook.....done.\n",
      "    Duration :  0:00:11\n",
      "    Saved as :  02-DNN-Regression-Premium==done==.ipynb\n",
      "\n",
      "Notebook : MNIST1\n",
      "    Run notebook.....done.\n",
      "    Duration :  0:00:33\n",
      "    Saved as :  01-DNN-MNIST==done==.ipynb\n",
      "\n",
      "End of running process\n",
      "    Duration : 0:01:16\n",
      "\n",
      "Complete ci report : /home/pjluc/dev/fidle/fidle/logs/ci_report.json\n"
     ]
    }
   ],
   "source": [
    "profile_name = './ci/full_jdev.yml'\n",
    "# profile_name = './ci/full_gpu.yml'\n",
    "\n",
    "cookci.run_profile(profile_name, report_name='./logs/ci_report.json')"
   ]
  },
  {
   "cell_type": "code",
   "execution_count": 7,
   "metadata": {},
   "outputs": [
    {
     "name": "stdout",
     "output_type": "stream",
     "text": [
      "   318196    100 -rw-r--r--   1 pjluc    pjluc      100935 Jan 14 08:11 ../LinearReg/03-Polynomial-Regression==done==.ipynb\n",
      "   318138    240 -rw-r--r--   1 pjluc    pjluc      245591 Jan 14 08:11 ../LinearReg/02-Gradient-descent==done==.ipynb\n",
      "   313937     44 -rw-r--r--   1 pjluc    pjluc       43926 Jan 14 08:11 ../LinearReg/01-Linear-Regression==done==.ipynb\n",
      "   318210    260 -rw-r--r--   1 pjluc    pjluc      264920 Jan 14 08:11 ../LinearReg/04-Logistic-Regression==done==.ipynb\n",
      "   843697     72 -rw-r--r--   1 pjluc    pjluc       72520 Jan 14 08:11 ../IRIS/01-Simple-Perceptron==done==.ipynb\n",
      "   843701    856 -rw-r--r--   1 pjluc    pjluc      874407 Jan 14 08:12 ../MNIST/01-DNN-MNIST==done==.ipynb\n",
      "   843699    208 -rw-r--r--   1 pjluc    pjluc      209016 Jan 14 08:11 ../BHPD/02-DNN-Regression-Premium==done==.ipynb\n",
      "   843698    216 -rw-r--r--   1 pjluc    pjluc      219264 Jan 14 08:11 ../BHPD/01-DNN-Regression==done==.ipynb\n"
     ]
    }
   ],
   "source": [
    "%%bash\n",
    "find .. -name \"*==*==.ipynb\" -ls\n",
    "# rm $(find .. -name \"*==*==.ipynb\")"
   ]
  },
  {
   "cell_type": "markdown",
   "metadata": {},
   "source": [
    "---\n",
    "<img width=\"80px\" src=\"../fidle/img/00-Fidle-logo-01.svg\"></img>"
   ]
  }
 ],
 "metadata": {
  "kernelspec": {
   "display_name": "Python 3",
   "language": "python",
   "name": "python3"
  },
  "language_info": {
   "codemirror_mode": {
    "name": "ipython",
    "version": 3
   },
   "file_extension": ".py",
   "mimetype": "text/x-python",
   "name": "python",
   "nbconvert_exporter": "python",
   "pygments_lexer": "ipython3",
   "version": "3.7.9"
  }
 },
 "nbformat": 4,
 "nbformat_minor": 4
}
