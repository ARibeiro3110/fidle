{
 "cells": [
  {
   "cell_type": "markdown",
   "metadata": {},
   "source": [
    "<img width=\"800px\" src=\"../fidle/img/00-Fidle-header-01.svg\"></img>\n",
    "\n",
    "\n",
    "## Notebook Performance Statistics (Continuous integration)\n",
    " - List of executed notebooks \n",
    " - Runtime and status \n",
    "\n",
    "Each notebook indicates its start and end of execution:\n",
    " - at the beginning, during `pwk.init()`\n",
    " - at the end, with a `pwk.end()`\n",
    "This information is saved in a json file (FINISHED_FILE, cf config.py)."
   ]
  },
  {
   "cell_type": "code",
   "execution_count": 13,
   "metadata": {},
   "outputs": [],
   "source": [
    "import pandas as pd\n",
    "import os,sys,glob,json\n",
    "from pathlib import Path\n",
    "import pandas as pd\n",
    "from IPython.display import display, Markdown, HTML\n",
    "\n",
    "sys.path.append('..')\n",
    "import fidle.pwk    as pwk\n",
    "import fidle.config as config"
   ]
  },
  {
   "cell_type": "code",
   "execution_count": 32,
   "metadata": {},
   "outputs": [
    {
     "data": {
      "text/html": [
       "<table border=\"1\" class=\"dataframe\">\n",
       "  <thead>\n",
       "    <tr style=\"text-align: right;\">\n",
       "      <th></th>\n",
       "      <th>Notebook</th>\n",
       "      <th>path</th>\n",
       "      <th>start</th>\n",
       "      <th>end</th>\n",
       "      <th>duration</th>\n",
       "    </tr>\n",
       "  </thead>\n",
       "  <tbody>\n",
       "    <tr>\n",
       "      <th>0</th>\n",
       "      <td><a href=\"/home/pjluc/dev/fidle/LinearReg/01-Linear-Regression.ipynb\">01-Linear-Regression</a></td>\n",
       "      <td>/home/pjluc/dev/fidle/LinearReg</td>\n",
       "      <td>Wednesday 9 December 2020, 20:16:41</td>\n",
       "      <td>Wednesday 9 December 2020, 20:16:41</td>\n",
       "      <td>00:00:00 256ms</td>\n",
       "    </tr>\n",
       "    <tr>\n",
       "      <th>1</th>\n",
       "      <td><a href=\"/home/pjluc/dev/fidle/LinearReg/02-Gradient-descent.ipynb\">02-Gradient-descent</a></td>\n",
       "      <td>/home/pjluc/dev/fidle/LinearReg</td>\n",
       "      <td>Wednesday 9 December 2020, 20:16:56</td>\n",
       "      <td>Wednesday 9 December 2020, 20:17:00</td>\n",
       "      <td>00:00:03 279ms</td>\n",
       "    </tr>\n",
       "    <tr>\n",
       "      <th>2</th>\n",
       "      <td><a href=\"/home/pjluc/dev/fidle/LinearReg/03-Polynomial-Regression.ipynb\">03-Polynomial-Regression</a></td>\n",
       "      <td>/home/pjluc/dev/fidle/LinearReg</td>\n",
       "      <td>Wednesday 9 December 2020, 20:20:32</td>\n",
       "      <td>Wednesday 9 December 2020, 20:20:33</td>\n",
       "      <td>00:00:01 682ms</td>\n",
       "    </tr>\n",
       "  </tbody>\n",
       "</table>"
      ],
      "text/plain": [
       "<IPython.core.display.HTML object>"
      ]
     },
     "execution_count": 32,
     "metadata": {},
     "output_type": "execute_result"
    }
   ],
   "source": [
    "with open(config.FINISHED_FILE) as infile:\n",
    "    dict_finished = json.load( infile )\n",
    "\n",
    "df=pd.DataFrame(dict_finished).transpose()\n",
    "\n",
    "df.reset_index(inplace=True)\n",
    "df.rename(columns = {'index':'Notebook'}, inplace=True)\n",
    "\n",
    "# df['Notebook'] = '<a href=\"{}/{}.ipynb\">{}</a>'.format(df['path'],df['Notebook'],df['Notebook'])\n",
    "\n",
    "df['Notebook'] = df.apply(\n",
    "            lambda x: '<a href=\"{}/{}.ipynb\">{}</a>'.format(x['path'],x['Notebook'],x['Notebook']), axis=1\n",
    "            )\n",
    "        \n",
    "\n",
    "\n",
    "HTML(df.to_html(\n",
    "    render_links=True,\n",
    "    escape=False))"
   ]
  },
  {
   "cell_type": "markdown",
   "metadata": {},
   "source": [
    "---\n",
    "<img width=\"80px\" src=\"../fidle/img/00-Fidle-logo-01.svg\"></img>"
   ]
  },
  {
   "cell_type": "code",
   "execution_count": null,
   "metadata": {},
   "outputs": [],
   "source": []
  }
 ],
 "metadata": {
  "kernelspec": {
   "display_name": "Python 3",
   "language": "python",
   "name": "python3"
  },
  "language_info": {
   "codemirror_mode": {
    "name": "ipython",
    "version": 3
   },
   "file_extension": ".py",
   "mimetype": "text/x-python",
   "name": "python",
   "nbconvert_exporter": "python",
   "pygments_lexer": "ipython3",
   "version": "3.7.7"
  }
 },
 "nbformat": 4,
 "nbformat_minor": 4
}
