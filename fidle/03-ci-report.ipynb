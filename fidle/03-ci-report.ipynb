{
 "cells": [
  {
   "cell_type": "markdown",
   "metadata": {},
   "source": [
    "<img width=\"800px\" src=\"../fidle/img/00-Fidle-header-01.svg\"></img>\n",
    "\n",
    "\n",
    "## Continuous integration report\n",
    "\n",
    "Réalisation des tests : [02-running-ci-tests.ipynb](02-running-ci-tests.ipynb)  \n",
    "Résultats bruts : [./logs/ci_report.json](./logs/ci_report.json)  "
   ]
  },
  {
   "cell_type": "code",
   "execution_count": 1,
   "metadata": {},
   "outputs": [
    {
     "data": {
      "text/markdown": [
       "### About :"
      ],
      "text/plain": [
       "<IPython.core.display.Markdown object>"
      ]
     },
     "metadata": {},
     "output_type": "display_data"
    },
    {
     "data": {
      "text/markdown": [
       "**Version** : 1.0  \n",
       "**Output_Tag** : ==done==  \n",
       "**Save_Figs** : False  \n",
       "**Description** : A basic profile example  \n",
       "**Host** : Oban  \n",
       "**Profile** : ./ci/smart.yml  \n",
       "**Start** : 11/01/21 16:20:47  \n",
       "**End** : 11/01/21 16:20:52  \n",
       "**Duration** : 0:00:05  \n"
      ],
      "text/plain": [
       "<IPython.core.display.Markdown object>"
      ]
     },
     "metadata": {},
     "output_type": "display_data"
    },
    {
     "data": {
      "text/markdown": [
       "### Details :"
      ],
      "text/plain": [
       "<IPython.core.display.Markdown object>"
      ]
     },
     "metadata": {},
     "output_type": "display_data"
    },
    {
     "data": {
      "text/html": [
       "<style  type=\"text/css\" >\n",
       "    #T_5a52f_ td {\n",
       "          font-size: 110%;\n",
       "          text-align: left;\n",
       "    }    #T_5a52f_ th {\n",
       "          font-size: 110%;\n",
       "          text-align: left;\n",
       "    }</style><table id=\"T_5a52f_\" ><thead>    <tr>        <th class=\"col_heading level0 col0\" >Id</th>        <th class=\"col_heading level0 col1\" >Dir</th>        <th class=\"col_heading level0 col2\" >Src</th>        <th class=\"col_heading level0 col3\" >Out</th>        <th class=\"col_heading level0 col4\" >Start</th>        <th class=\"col_heading level0 col5\" >End</th>        <th class=\"col_heading level0 col6\" >Duration</th>        <th class=\"col_heading level0 col7\" >State</th>    </tr></thead><tbody>\n",
       "                <tr>\n",
       "                                <td id=\"T_5a52f_row0_col0\" class=\"data row0 col0\" ><a href='../LinearReg/01-Linear-Regression.ipynb'>LINR1</a></td>\n",
       "                        <td id=\"T_5a52f_row0_col1\" class=\"data row0 col1\" >LinearReg</td>\n",
       "                        <td id=\"T_5a52f_row0_col2\" class=\"data row0 col2\" ><a href='../LinearReg/01-Linear-Regression.ipynb'>01-Linear-Regression.ipynb</a></td>\n",
       "                        <td id=\"T_5a52f_row0_col3\" class=\"data row0 col3\" ><a href='../LinearReg/01-Linear-Regression==done==.ipynb'>01-Linear-Regression==done==.ipynb</a></td>\n",
       "                        <td id=\"T_5a52f_row0_col4\" class=\"data row0 col4\" >11/01/21 16:20:47</td>\n",
       "                        <td id=\"T_5a52f_row0_col5\" class=\"data row0 col5\" >11/01/21 16:20:50</td>\n",
       "                        <td id=\"T_5a52f_row0_col6\" class=\"data row0 col6\" >0:00:02</td>\n",
       "                        <td id=\"T_5a52f_row0_col7\" class=\"data row0 col7\" >ok</td>\n",
       "            </tr>\n",
       "            <tr>\n",
       "                                <td id=\"T_5a52f_row1_col0\" class=\"data row1 col0\" ><a href='../IRIS/01-Simple-Perceptron.ipynb'>PER57</a></td>\n",
       "                        <td id=\"T_5a52f_row1_col1\" class=\"data row1 col1\" >IRIS</td>\n",
       "                        <td id=\"T_5a52f_row1_col2\" class=\"data row1 col2\" ><a href='../IRIS/01-Simple-Perceptron.ipynb'>01-Simple-Perceptron.ipynb</a></td>\n",
       "                        <td id=\"T_5a52f_row1_col3\" class=\"data row1 col3\" ><a href='../IRIS/01-Simple-Perceptron==done==.ipynb'>01-Simple-Perceptron==done==.ipynb</a></td>\n",
       "                        <td id=\"T_5a52f_row1_col4\" class=\"data row1 col4\" >11/01/21 16:20:50</td>\n",
       "                        <td id=\"T_5a52f_row1_col5\" class=\"data row1 col5\" >11/01/21 16:20:52</td>\n",
       "                        <td id=\"T_5a52f_row1_col6\" class=\"data row1 col6\" >0:00:02</td>\n",
       "                        <td id=\"T_5a52f_row1_col7\" class=\"data row1 col7\" >ok</td>\n",
       "            </tr>\n",
       "    </tbody></table>"
      ],
      "text/plain": [
       "<pandas.io.formats.style.Styler at 0x7fa37bdc43d0>"
      ]
     },
     "metadata": {},
     "output_type": "display_data"
    },
    {
     "data": {
      "text/markdown": [
       "<br>HTML report saved as : [./logs/ci_report.html](./logs/ci_report.html)"
      ],
      "text/plain": [
       "<IPython.core.display.Markdown object>"
      ]
     },
     "metadata": {},
     "output_type": "display_data"
    }
   ],
   "source": [
    "import cookci\n",
    "cookci.build_ci_report(report_name='./logs/ci_report_smart.json')"
   ]
  },
  {
   "cell_type": "markdown",
   "metadata": {},
   "source": [
    "---\n",
    "<img width=\"80px\" src=\"../fidle/img/00-Fidle-logo-01.svg\"></img>"
   ]
  }
 ],
 "metadata": {
  "kernelspec": {
   "display_name": "Python 3",
   "language": "python",
   "name": "python3"
  },
  "language_info": {
   "codemirror_mode": {
    "name": "ipython",
    "version": 3
   },
   "file_extension": ".py",
   "mimetype": "text/x-python",
   "name": "python",
   "nbconvert_exporter": "python",
   "pygments_lexer": "ipython3",
   "version": "3.7.9"
  }
 },
 "nbformat": 4,
 "nbformat_minor": 4
}
