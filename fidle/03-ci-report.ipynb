{
 "cells": [
  {
   "cell_type": "markdown",
   "metadata": {},
   "source": [
    "<img width=\"800px\" src=\"../fidle/img/00-Fidle-header-01.svg\"></img>\n",
    "\n",
    "\n",
    "## Continuous integration report\n",
    "\n",
    "Réalisation des tests : [02-running-ci-tests.ipynb](02-running-ci-tests.ipynb)  \n",
    "Résultats bruts : [./logs/ci_report.json](./logs/ci_report.json)  "
   ]
  },
  {
   "cell_type": "code",
   "execution_count": 2,
   "metadata": {},
   "outputs": [
    {
     "data": {
      "text/markdown": [
       "### About :"
      ],
      "text/plain": [
       "<IPython.core.display.Markdown object>"
      ]
     },
     "metadata": {},
     "output_type": "display_data"
    },
    {
     "data": {
      "text/markdown": [
       "**Version** : 1.0  \n",
       "**Output_Tag** : ==done==  \n",
       "**Save_Figs** : True  \n",
       "**Description** : Runned notebooks (done)  \n",
       "**Host** : Oban  \n",
       "**Profile** : ./ci/full_fad_s01.yml  \n",
       "**Start** : 26/01/21 16:10:38  \n",
       "**End** : 26/01/21 16:12:04  \n",
       "**Duration** : 0:01:26  \n"
      ],
      "text/plain": [
       "<IPython.core.display.Markdown object>"
      ]
     },
     "metadata": {},
     "output_type": "display_data"
    },
    {
     "data": {
      "text/markdown": [
       "### Details :"
      ],
      "text/plain": [
       "<IPython.core.display.Markdown object>"
      ]
     },
     "metadata": {},
     "output_type": "display_data"
    },
    {
     "data": {
      "text/html": [
       "<style  type=\"text/css\" >\n",
       "    #T_d83b1_ td {\n",
       "          font-size: 110%;\n",
       "          text-align: left;\n",
       "    }    #T_d83b1_ th {\n",
       "          font-size: 110%;\n",
       "          text-align: left;\n",
       "    }</style><table id=\"T_d83b1_\" ><thead>    <tr>        <th class=\"col_heading level0 col0\" >Id</th>        <th class=\"col_heading level0 col1\" >Dir</th>        <th class=\"col_heading level0 col2\" >Src</th>        <th class=\"col_heading level0 col3\" >Out</th>        <th class=\"col_heading level0 col4\" >Start</th>        <th class=\"col_heading level0 col5\" >End</th>        <th class=\"col_heading level0 col6\" >Duration</th>        <th class=\"col_heading level0 col7\" >State</th>    </tr></thead><tbody>\n",
       "                <tr>\n",
       "                                <td id=\"T_d83b1_row0_col0\" class=\"data row0 col0\" ><a href='../LinearReg/01-Linear-Regression.ipynb'>LINR1</a></td>\n",
       "                        <td id=\"T_d83b1_row0_col1\" class=\"data row0 col1\" >LinearReg</td>\n",
       "                        <td id=\"T_d83b1_row0_col2\" class=\"data row0 col2\" ><a href='../LinearReg/01-Linear-Regression.ipynb'>01-Linear-Regression.ipynb</a></td>\n",
       "                        <td id=\"T_d83b1_row0_col3\" class=\"data row0 col3\" ><a href='../LinearReg/01-Linear-Regression==done==.ipynb'>01-Linear-Regression==done==.ipynb</a></td>\n",
       "                        <td id=\"T_d83b1_row0_col4\" class=\"data row0 col4\" >26/01/21 16:10:38</td>\n",
       "                        <td id=\"T_d83b1_row0_col5\" class=\"data row0 col5\" >26/01/21 16:10:42</td>\n",
       "                        <td id=\"T_d83b1_row0_col6\" class=\"data row0 col6\" >0:00:04</td>\n",
       "                        <td id=\"T_d83b1_row0_col7\" class=\"data row0 col7\" >ok</td>\n",
       "            </tr>\n",
       "            <tr>\n",
       "                                <td id=\"T_d83b1_row1_col0\" class=\"data row1 col0\" ><a href='../LinearReg/02-Gradient-descent.ipynb'>GRAD1</a></td>\n",
       "                        <td id=\"T_d83b1_row1_col1\" class=\"data row1 col1\" >LinearReg</td>\n",
       "                        <td id=\"T_d83b1_row1_col2\" class=\"data row1 col2\" ><a href='../LinearReg/02-Gradient-descent.ipynb'>02-Gradient-descent.ipynb</a></td>\n",
       "                        <td id=\"T_d83b1_row1_col3\" class=\"data row1 col3\" ><a href='../LinearReg/02-Gradient-descent==done==.ipynb'>02-Gradient-descent==done==.ipynb</a></td>\n",
       "                        <td id=\"T_d83b1_row1_col4\" class=\"data row1 col4\" >26/01/21 16:10:42</td>\n",
       "                        <td id=\"T_d83b1_row1_col5\" class=\"data row1 col5\" >26/01/21 16:10:50</td>\n",
       "                        <td id=\"T_d83b1_row1_col6\" class=\"data row1 col6\" >0:00:08</td>\n",
       "                        <td id=\"T_d83b1_row1_col7\" class=\"data row1 col7\" >ok</td>\n",
       "            </tr>\n",
       "            <tr>\n",
       "                                <td id=\"T_d83b1_row2_col0\" class=\"data row2 col0\" ><a href='../LinearReg/03-Polynomial-Regression.ipynb'>POLR1</a></td>\n",
       "                        <td id=\"T_d83b1_row2_col1\" class=\"data row2 col1\" >LinearReg</td>\n",
       "                        <td id=\"T_d83b1_row2_col2\" class=\"data row2 col2\" ><a href='../LinearReg/03-Polynomial-Regression.ipynb'>03-Polynomial-Regression.ipynb</a></td>\n",
       "                        <td id=\"T_d83b1_row2_col3\" class=\"data row2 col3\" ><a href='../LinearReg/03-Polynomial-Regression==done==.ipynb'>03-Polynomial-Regression==done==.ipynb</a></td>\n",
       "                        <td id=\"T_d83b1_row2_col4\" class=\"data row2 col4\" >26/01/21 16:10:50</td>\n",
       "                        <td id=\"T_d83b1_row2_col5\" class=\"data row2 col5\" >26/01/21 16:10:55</td>\n",
       "                        <td id=\"T_d83b1_row2_col6\" class=\"data row2 col6\" >0:00:04</td>\n",
       "                        <td id=\"T_d83b1_row2_col7\" class=\"data row2 col7\" >ok</td>\n",
       "            </tr>\n",
       "            <tr>\n",
       "                                <td id=\"T_d83b1_row3_col0\" class=\"data row3 col0\" ><a href='../LinearReg/04-Logistic-Regression.ipynb'>LOGR1</a></td>\n",
       "                        <td id=\"T_d83b1_row3_col1\" class=\"data row3 col1\" >LinearReg</td>\n",
       "                        <td id=\"T_d83b1_row3_col2\" class=\"data row3 col2\" ><a href='../LinearReg/04-Logistic-Regression.ipynb'>04-Logistic-Regression.ipynb</a></td>\n",
       "                        <td id=\"T_d83b1_row3_col3\" class=\"data row3 col3\" ><a href='../LinearReg/04-Logistic-Regression==done==.ipynb'>04-Logistic-Regression==done==.ipynb</a></td>\n",
       "                        <td id=\"T_d83b1_row3_col4\" class=\"data row3 col4\" >26/01/21 16:10:55</td>\n",
       "                        <td id=\"T_d83b1_row3_col5\" class=\"data row3 col5\" >26/01/21 16:10:59</td>\n",
       "                        <td id=\"T_d83b1_row3_col6\" class=\"data row3 col6\" >0:00:03</td>\n",
       "                        <td id=\"T_d83b1_row3_col7\" class=\"data row3 col7\" >ok</td>\n",
       "            </tr>\n",
       "            <tr>\n",
       "                                <td id=\"T_d83b1_row4_col0\" class=\"data row4 col0\" ><a href='../IRIS/01-Simple-Perceptron.ipynb'>PER57</a></td>\n",
       "                        <td id=\"T_d83b1_row4_col1\" class=\"data row4 col1\" >IRIS</td>\n",
       "                        <td id=\"T_d83b1_row4_col2\" class=\"data row4 col2\" ><a href='../IRIS/01-Simple-Perceptron.ipynb'>01-Simple-Perceptron.ipynb</a></td>\n",
       "                        <td id=\"T_d83b1_row4_col3\" class=\"data row4 col3\" ><a href='../IRIS/01-Simple-Perceptron==done==.ipynb'>01-Simple-Perceptron==done==.ipynb</a></td>\n",
       "                        <td id=\"T_d83b1_row4_col4\" class=\"data row4 col4\" >26/01/21 16:10:59</td>\n",
       "                        <td id=\"T_d83b1_row4_col5\" class=\"data row4 col5\" >26/01/21 16:11:02</td>\n",
       "                        <td id=\"T_d83b1_row4_col6\" class=\"data row4 col6\" >0:00:02</td>\n",
       "                        <td id=\"T_d83b1_row4_col7\" class=\"data row4 col7\" >ok</td>\n",
       "            </tr>\n",
       "            <tr>\n",
       "                                <td id=\"T_d83b1_row5_col0\" class=\"data row5 col0\" ><a href='../BHPD/01-DNN-Regression.ipynb'>BHPD1</a></td>\n",
       "                        <td id=\"T_d83b1_row5_col1\" class=\"data row5 col1\" >BHPD</td>\n",
       "                        <td id=\"T_d83b1_row5_col2\" class=\"data row5 col2\" ><a href='../BHPD/01-DNN-Regression.ipynb'>01-DNN-Regression.ipynb</a></td>\n",
       "                        <td id=\"T_d83b1_row5_col3\" class=\"data row5 col3\" ><a href='../BHPD/01-DNN-Regression==done==.ipynb'>01-DNN-Regression==done==.ipynb</a></td>\n",
       "                        <td id=\"T_d83b1_row5_col4\" class=\"data row5 col4\" >26/01/21 16:11:02</td>\n",
       "                        <td id=\"T_d83b1_row5_col5\" class=\"data row5 col5\" >26/01/21 16:11:11</td>\n",
       "                        <td id=\"T_d83b1_row5_col6\" class=\"data row5 col6\" >0:00:09</td>\n",
       "                        <td id=\"T_d83b1_row5_col7\" class=\"data row5 col7\" >ok</td>\n",
       "            </tr>\n",
       "            <tr>\n",
       "                                <td id=\"T_d83b1_row6_col0\" class=\"data row6 col0\" ><a href='../BHPD/02-DNN-Regression-Premium.ipynb'>BHPD2</a></td>\n",
       "                        <td id=\"T_d83b1_row6_col1\" class=\"data row6 col1\" >BHPD</td>\n",
       "                        <td id=\"T_d83b1_row6_col2\" class=\"data row6 col2\" ><a href='../BHPD/02-DNN-Regression-Premium.ipynb'>02-DNN-Regression-Premium.ipynb</a></td>\n",
       "                        <td id=\"T_d83b1_row6_col3\" class=\"data row6 col3\" ><a href='../BHPD/02-DNN-Regression-Premium==done==.ipynb'>02-DNN-Regression-Premium==done==.ipynb</a></td>\n",
       "                        <td id=\"T_d83b1_row6_col4\" class=\"data row6 col4\" >26/01/21 16:11:11</td>\n",
       "                        <td id=\"T_d83b1_row6_col5\" class=\"data row6 col5\" >26/01/21 16:11:24</td>\n",
       "                        <td id=\"T_d83b1_row6_col6\" class=\"data row6 col6\" >0:00:13</td>\n",
       "                        <td id=\"T_d83b1_row6_col7\" class=\"data row6 col7\" >ok</td>\n",
       "            </tr>\n",
       "            <tr>\n",
       "                                <td id=\"T_d83b1_row7_col0\" class=\"data row7 col0\" ><a href='../MNIST/01-DNN-MNIST.ipynb'>MNIST1</a></td>\n",
       "                        <td id=\"T_d83b1_row7_col1\" class=\"data row7 col1\" >MNIST</td>\n",
       "                        <td id=\"T_d83b1_row7_col2\" class=\"data row7 col2\" ><a href='../MNIST/01-DNN-MNIST.ipynb'>01-DNN-MNIST.ipynb</a></td>\n",
       "                        <td id=\"T_d83b1_row7_col3\" class=\"data row7 col3\" ><a href='../MNIST/01-DNN-MNIST==done==.ipynb'>01-DNN-MNIST==done==.ipynb</a></td>\n",
       "                        <td id=\"T_d83b1_row7_col4\" class=\"data row7 col4\" >26/01/21 16:11:24</td>\n",
       "                        <td id=\"T_d83b1_row7_col5\" class=\"data row7 col5\" >26/01/21 16:12:04</td>\n",
       "                        <td id=\"T_d83b1_row7_col6\" class=\"data row7 col6\" >0:00:40</td>\n",
       "                        <td id=\"T_d83b1_row7_col7\" class=\"data row7 col7\" >ok</td>\n",
       "            </tr>\n",
       "    </tbody></table>"
      ],
      "text/plain": [
       "<pandas.io.formats.style.Styler at 0x7f48c34be3a0>"
      ]
     },
     "metadata": {},
     "output_type": "display_data"
    },
    {
     "data": {
      "text/markdown": [
       "<br>HTML report saved as : [./logs/ci_report.html](./logs/ci_report.html)"
      ],
      "text/plain": [
       "<IPython.core.display.Markdown object>"
      ]
     },
     "metadata": {},
     "output_type": "display_data"
    }
   ],
   "source": [
    "import cookci\n",
    "cookci.build_ci_report(report_name='./logs/ci_report.json')"
   ]
  },
  {
   "cell_type": "markdown",
   "metadata": {},
   "source": [
    "---\n",
    "<img width=\"80px\" src=\"../fidle/img/00-Fidle-logo-01.svg\"></img>"
   ]
  },
  {
   "cell_type": "code",
   "execution_count": null,
   "metadata": {},
   "outputs": [],
   "source": []
  }
 ],
 "metadata": {
  "kernelspec": {
   "display_name": "Python 3",
   "language": "python",
   "name": "python3"
  },
  "language_info": {
   "codemirror_mode": {
    "name": "ipython",
    "version": 3
   },
   "file_extension": ".py",
   "mimetype": "text/x-python",
   "name": "python",
   "nbconvert_exporter": "python",
   "pygments_lexer": "ipython3",
   "version": "3.8.5"
  }
 },
 "nbformat": 4,
 "nbformat_minor": 4
}
