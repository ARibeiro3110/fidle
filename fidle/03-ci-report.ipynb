{
 "cells": [
  {
   "cell_type": "markdown",
   "metadata": {},
   "source": [
    "<img width=\"800px\" src=\"../fidle/img/00-Fidle-header-01.svg\"></img>\n",
    "\n",
    "\n",
    "## Continuous integration report\n",
    "\n",
    "Réalisation des tests : [02-running-ci-tests.ipynb](02-running-ci-tests.ipynb)  \n",
    "Résultats bruts : [./logs/ci_report.json](./logs/ci_report.json)  "
   ]
  },
  {
   "cell_type": "code",
   "execution_count": 1,
   "metadata": {},
   "outputs": [
    {
     "data": {
      "text/markdown": [
       "### About :"
      ],
      "text/plain": [
       "<IPython.core.display.Markdown object>"
      ]
     },
     "metadata": {},
     "output_type": "display_data"
    },
    {
     "data": {
      "text/markdown": [
       "**Version** : 1.0  \n",
       "**Output_Tag** : ==done==  \n",
       "**Save_Figs** : True  \n",
       "**Description** : Light profile for S04 with CPU  \n",
       "**Host** : Oban  \n",
       "**Profile** : ./ci/fidle-ad_s04.yml  \n",
       "**Start** : 07/03/21 21:13:23  \n",
       "**End** : 07/03/21 21:18:10  \n",
       "**Duration** : 0:04:47  \n"
      ],
      "text/plain": [
       "<IPython.core.display.Markdown object>"
      ]
     },
     "metadata": {},
     "output_type": "display_data"
    },
    {
     "data": {
      "text/markdown": [
       "### Details :"
      ],
      "text/plain": [
       "<IPython.core.display.Markdown object>"
      ]
     },
     "metadata": {},
     "output_type": "display_data"
    },
    {
     "data": {
      "text/html": [
       "<style  type=\"text/css\" >\n",
       "    #T_82c8a_ td {\n",
       "          font-size: 110%;\n",
       "          text-align: left;\n",
       "    }    #T_82c8a_ th {\n",
       "          font-size: 110%;\n",
       "          text-align: left;\n",
       "    }</style><table id=\"T_82c8a_\" ><thead>    <tr>        <th class=\"col_heading level0 col0\" >Run</th>        <th class=\"col_heading level0 col1\" >Id</th>        <th class=\"col_heading level0 col2\" >Dir</th>        <th class=\"col_heading level0 col3\" >Src</th>        <th class=\"col_heading level0 col4\" >Out</th>        <th class=\"col_heading level0 col5\" >Start</th>        <th class=\"col_heading level0 col6\" >End</th>        <th class=\"col_heading level0 col7\" >Duration</th>        <th class=\"col_heading level0 col8\" >State</th>    </tr></thead><tbody>\n",
       "                <tr>\n",
       "                                <td id=\"T_82c8a_row0_col0\" class=\"data row0 col0\" >Nb_LADYB1</td>\n",
       "                        <td id=\"T_82c8a_row0_col1\" class=\"data row0 col1\" ><a href='../SYNOP/LADYB1-Ladybug.ipynb'>LADYB1</a></td>\n",
       "                        <td id=\"T_82c8a_row0_col2\" class=\"data row0 col2\" >SYNOP</td>\n",
       "                        <td id=\"T_82c8a_row0_col3\" class=\"data row0 col3\" ><a href='../SYNOP/LADYB1-Ladybug.ipynb'>LADYB1-Ladybug.ipynb</a></td>\n",
       "                        <td id=\"T_82c8a_row0_col4\" class=\"data row0 col4\" ><a href='../SYNOP/LADYB1-Ladybug==done==.ipynb'>LADYB1-Ladybug==done==.ipynb</a></td>\n",
       "                        <td id=\"T_82c8a_row0_col5\" class=\"data row0 col5\" >07/03/21 21:13:23</td>\n",
       "                        <td id=\"T_82c8a_row0_col6\" class=\"data row0 col6\" >07/03/21 21:15:55</td>\n",
       "                        <td id=\"T_82c8a_row0_col7\" class=\"data row0 col7\" >0:02:32</td>\n",
       "                        <td id=\"T_82c8a_row0_col8\" class=\"data row0 col8\" >ok</td>\n",
       "            </tr>\n",
       "            <tr>\n",
       "                                <td id=\"T_82c8a_row1_col0\" class=\"data row1 col0\" >Nb_SYNOP1</td>\n",
       "                        <td id=\"T_82c8a_row1_col1\" class=\"data row1 col1\" ><a href='../SYNOP/SYNOP1-Preparation-of-data.ipynb'>SYNOP1</a></td>\n",
       "                        <td id=\"T_82c8a_row1_col2\" class=\"data row1 col2\" >SYNOP</td>\n",
       "                        <td id=\"T_82c8a_row1_col3\" class=\"data row1 col3\" ><a href='../SYNOP/SYNOP1-Preparation-of-data.ipynb'>SYNOP1-Preparation-of-data.ipynb</a></td>\n",
       "                        <td id=\"T_82c8a_row1_col4\" class=\"data row1 col4\" ><a href='../SYNOP/SYNOP1-Preparation-of-data==done==.ipynb'>SYNOP1-Preparation-of-data==done==.ipynb</a></td>\n",
       "                        <td id=\"T_82c8a_row1_col5\" class=\"data row1 col5\" >07/03/21 21:15:56</td>\n",
       "                        <td id=\"T_82c8a_row1_col6\" class=\"data row1 col6\" >07/03/21 21:16:01</td>\n",
       "                        <td id=\"T_82c8a_row1_col7\" class=\"data row1 col7\" >0:00:05</td>\n",
       "                        <td id=\"T_82c8a_row1_col8\" class=\"data row1 col8\" >ok</td>\n",
       "            </tr>\n",
       "            <tr>\n",
       "                                <td id=\"T_82c8a_row2_col0\" class=\"data row2 col0\" >Nb_SYNOP2</td>\n",
       "                        <td id=\"T_82c8a_row2_col1\" class=\"data row2 col1\" ><a href='../SYNOP/SYNOP2-First-predictions.ipynb'>SYNOP2</a></td>\n",
       "                        <td id=\"T_82c8a_row2_col2\" class=\"data row2 col2\" >SYNOP</td>\n",
       "                        <td id=\"T_82c8a_row2_col3\" class=\"data row2 col3\" ><a href='../SYNOP/SYNOP2-First-predictions.ipynb'>SYNOP2-First-predictions.ipynb</a></td>\n",
       "                        <td id=\"T_82c8a_row2_col4\" class=\"data row2 col4\" ><a href='../SYNOP/SYNOP2-First-predictions==done==.ipynb'>SYNOP2-First-predictions==done==.ipynb</a></td>\n",
       "                        <td id=\"T_82c8a_row2_col5\" class=\"data row2 col5\" >07/03/21 21:16:01</td>\n",
       "                        <td id=\"T_82c8a_row2_col6\" class=\"data row2 col6\" >07/03/21 21:18:02</td>\n",
       "                        <td id=\"T_82c8a_row2_col7\" class=\"data row2 col7\" >0:02:01</td>\n",
       "                        <td id=\"T_82c8a_row2_col8\" class=\"data row2 col8\" >ok</td>\n",
       "            </tr>\n",
       "            <tr>\n",
       "                                <td id=\"T_82c8a_row3_col0\" class=\"data row3 col0\" >Nb_SYNOP3</td>\n",
       "                        <td id=\"T_82c8a_row3_col1\" class=\"data row3 col1\" ><a href='../SYNOP/SYNOP3-12h-predictions.ipynb'>SYNOP3</a></td>\n",
       "                        <td id=\"T_82c8a_row3_col2\" class=\"data row3 col2\" >SYNOP</td>\n",
       "                        <td id=\"T_82c8a_row3_col3\" class=\"data row3 col3\" ><a href='../SYNOP/SYNOP3-12h-predictions.ipynb'>SYNOP3-12h-predictions.ipynb</a></td>\n",
       "                        <td id=\"T_82c8a_row3_col4\" class=\"data row3 col4\" ><a href='../SYNOP/SYNOP3-12h-predictions==done==.ipynb'>SYNOP3-12h-predictions==done==.ipynb</a></td>\n",
       "                        <td id=\"T_82c8a_row3_col5\" class=\"data row3 col5\" >07/03/21 21:18:03</td>\n",
       "                        <td id=\"T_82c8a_row3_col6\" class=\"data row3 col6\" >07/03/21 21:18:10</td>\n",
       "                        <td id=\"T_82c8a_row3_col7\" class=\"data row3 col7\" >0:00:07</td>\n",
       "                        <td id=\"T_82c8a_row3_col8\" class=\"data row3 col8\" >ok</td>\n",
       "            </tr>\n",
       "    </tbody></table>"
      ],
      "text/plain": [
       "<pandas.io.formats.style.Styler at 0x7f7dde7f9040>"
      ]
     },
     "metadata": {},
     "output_type": "display_data"
    },
    {
     "data": {
      "text/markdown": [
       "<br>HTML report saved as : [./logs/ci_report.html](./logs/ci_report.html)"
      ],
      "text/plain": [
       "<IPython.core.display.Markdown object>"
      ]
     },
     "metadata": {},
     "output_type": "display_data"
    }
   ],
   "source": [
    "import cookci\n",
    "cookci.build_ci_report(report_name='./logs/ci_report.json')"
   ]
  },
  {
   "cell_type": "markdown",
   "metadata": {},
   "source": [
    "---\n",
    "<img width=\"80px\" src=\"../fidle/img/00-Fidle-logo-01.svg\"></img>"
   ]
  },
  {
   "cell_type": "code",
   "execution_count": null,
   "metadata": {},
   "outputs": [],
   "source": []
  }
 ],
 "metadata": {
  "kernelspec": {
   "display_name": "Python 3",
   "language": "python",
   "name": "python3"
  },
  "language_info": {
   "codemirror_mode": {
    "name": "ipython",
    "version": 3
   },
   "file_extension": ".py",
   "mimetype": "text/x-python",
   "name": "python",
   "nbconvert_exporter": "python",
   "pygments_lexer": "ipython3",
   "version": "3.8.5"
  }
 },
 "nbformat": 4,
 "nbformat_minor": 4
}
