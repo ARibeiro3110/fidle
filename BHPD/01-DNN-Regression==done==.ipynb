{
 "cells": [
  {
   "cell_type": "markdown",
   "metadata": {},
   "source": [
    "<img width=\"800px\" src=\"../fidle/img/00-Fidle-header-01.svg\"></img>\n",
    "\n",
    "\n",
    "# <!-- TITLE --> [BHPD1] - Regression with a Dense Network (DNN)\n",
    "<!-- DESC --> Simple example of a regression with the dataset Boston Housing Prices Dataset (BHPD)\n",
    "<!-- AUTHOR : Jean-Luc Parouty (CNRS/SIMaP) -->\n",
    "\n",
    "## Objectives :\n",
    " - Predicts **housing prices** from a set of house features. \n",
    " - Understanding the **principle** and the **architecture** of a regression with a **dense neural network**  \n",
    "\n",
    "\n",
    "The **[Boston Housing Prices Dataset](https://www.cs.toronto.edu/~delve/data/boston/bostonDetail.html)** consists of price of houses in various places in Boston.  \n",
    "Alongside with price, the dataset also provide theses informations : \n",
    "\n",
    " - CRIM: This is the per capita crime rate by town\n",
    " - ZN: This is the proportion of residential land zoned for lots larger than 25,000 sq.ft\n",
    " - INDUS: This is the proportion of non-retail business acres per town\n",
    " - CHAS: This is the Charles River dummy variable (this is equal to 1 if tract bounds river; 0 otherwise)\n",
    " - NOX: This is the nitric oxides concentration (parts per 10 million)\n",
    " - RM: This is the average number of rooms per dwelling\n",
    " - AGE: This is the proportion of owner-occupied units built prior to 1940\n",
    " - DIS: This is the weighted distances to five Boston employment centers\n",
    " - RAD: This is the index of accessibility to radial highways\n",
    " - TAX: This is the full-value property-tax rate per 10,000 dollars\n",
    " - PTRATIO: This is the pupil-teacher ratio by town\n",
    " - B: This is calculated as 1000(Bk — 0.63)^2, where Bk is the proportion of people of African American descent by town\n",
    " - LSTAT: This is the percentage lower status of the population\n",
    " - MEDV: This is the median value of owner-occupied homes in 1000 dollars\n",
    "## What we're going to do :\n",
    "\n",
    " - Retrieve data\n",
    " - Preparing the data\n",
    " - Build a model\n",
    " - Train the model\n",
    " - Evaluate the result\n"
   ]
  },
  {
   "cell_type": "markdown",
   "metadata": {},
   "source": [
    "## Step 1 - Import and init"
   ]
  },
  {
   "cell_type": "code",
   "execution_count": 1,
   "metadata": {
    "execution": {
     "iopub.execute_input": "2021-01-14T07:11:17.995164Z",
     "iopub.status.busy": "2021-01-14T07:11:17.994838Z",
     "iopub.status.idle": "2021-01-14T07:11:19.332433Z",
     "shell.execute_reply": "2021-01-14T07:11:19.332801Z"
    }
   },
   "outputs": [
    {
     "data": {
      "text/html": [
       "<style>\n",
       "\n",
       "div.warn {    \n",
       "    background-color: #fcf2f2;\n",
       "    border-color: #dFb5b4;\n",
       "    border-left: 5px solid #dfb5b4;\n",
       "    padding: 0.5em;\n",
       "    font-weight: bold;\n",
       "    font-size: 1.1em;;\n",
       "    }\n",
       "\n",
       "\n",
       "\n",
       "div.nota {    \n",
       "    background-color: #DAFFDE;\n",
       "    border-left: 5px solid #92CC99;\n",
       "    padding: 0.5em;\n",
       "    }\n",
       "\n",
       "div.todo:before { content:url(data:image/svg+xml;base64,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);\n",
       "    float:left;\n",
       "    margin-right:20px;\n",
       "    margin-top:-20px;\n",
       "    margin-bottom:20px;\n",
       "}\n",
       "div.todo{\n",
       "    font-weight: bold;\n",
       "    font-size: 1.1em;\n",
       "    margin-top:40px;\n",
       "}\n",
       "div.todo ul{\n",
       "    margin: 0.2em;\n",
       "}\n",
       "div.todo li{\n",
       "    margin-left:60px;\n",
       "    margin-top:0;\n",
       "    margin-bottom:0;\n",
       "}\n",
       "\n",
       "div .comment{\n",
       "    font-size:0.8em;\n",
       "    color:#696969;\n",
       "}\n",
       "\n",
       "\n",
       "\n",
       "</style>\n",
       "\n"
      ],
      "text/plain": [
       "<IPython.core.display.HTML object>"
      ]
     },
     "metadata": {},
     "output_type": "display_data"
    },
    {
     "data": {
      "text/markdown": [
       "<br>**FIDLE 2020 - Practical Work Module**"
      ],
      "text/plain": [
       "<IPython.core.display.Markdown object>"
      ]
     },
     "metadata": {},
     "output_type": "display_data"
    },
    {
     "name": "stdout",
     "output_type": "stream",
     "text": [
      "Version              : 2.0\n",
      "Notebook id          : BHPD1\n",
      "Run time             : Thursday 14 January 2021, 08:11:19\n",
      "TensorFlow version   : 2.2.0\n",
      "Keras version        : 2.3.0-tf\n",
      "Datasets dir         : /home/pjluc/datasets/fidle\n",
      "Run dir              : ./run\n",
      "Update keras cache   : False\n",
      "Save figs            : True\n",
      "Path figs            : ./run/figs\n"
     ]
    }
   ],
   "source": [
    "import tensorflow as tf\n",
    "from tensorflow import keras\n",
    "\n",
    "import numpy as np\n",
    "import matplotlib.pyplot as plt\n",
    "import pandas as pd\n",
    "import os,sys\n",
    "\n",
    "sys.path.append('..')\n",
    "import fidle.pwk as pwk\n",
    "\n",
    "datasets_dir = pwk.init('BHPD1')"
   ]
  },
  {
   "cell_type": "markdown",
   "metadata": {},
   "source": [
    "## Step 2 - Retrieve data\n",
    "\n",
    "### 2.1 - Option 1  : From Keras\n",
    "Boston housing is a famous historic dataset, so we can get it directly from [Keras datasets](https://www.tensorflow.org/api_docs/python/tf/keras/datasets)  "
   ]
  },
  {
   "cell_type": "code",
   "execution_count": 2,
   "metadata": {
    "execution": {
     "iopub.execute_input": "2021-01-14T07:11:19.335678Z",
     "iopub.status.busy": "2021-01-14T07:11:19.335359Z",
     "iopub.status.idle": "2021-01-14T07:11:19.338208Z",
     "shell.execute_reply": "2021-01-14T07:11:19.337910Z"
    }
   },
   "outputs": [],
   "source": [
    "# (x_train, y_train), (x_test, y_test) = keras.datasets.boston_housing.load_data(test_split=0.2, seed=113)"
   ]
  },
  {
   "cell_type": "markdown",
   "metadata": {},
   "source": [
    "### 2.2 - Option 2 : From a csv file\n",
    "More fun !"
   ]
  },
  {
   "cell_type": "code",
   "execution_count": 3,
   "metadata": {
    "execution": {
     "iopub.execute_input": "2021-01-14T07:11:19.341659Z",
     "iopub.status.busy": "2021-01-14T07:11:19.341245Z",
     "iopub.status.idle": "2021-01-14T07:11:19.382604Z",
     "shell.execute_reply": "2021-01-14T07:11:19.382262Z"
    }
   },
   "outputs": [
    {
     "data": {
      "text/html": [
       "<style  type=\"text/css\" >\n",
       "</style><table id=\"T_a658c_\" ><caption>Few lines of the dataset :</caption><thead>    <tr>        <th class=\"blank level0\" ></th>        <th class=\"col_heading level0 col0\" >crim</th>        <th class=\"col_heading level0 col1\" >zn</th>        <th class=\"col_heading level0 col2\" >indus</th>        <th class=\"col_heading level0 col3\" >chas</th>        <th class=\"col_heading level0 col4\" >nox</th>        <th class=\"col_heading level0 col5\" >rm</th>        <th class=\"col_heading level0 col6\" >age</th>        <th class=\"col_heading level0 col7\" >dis</th>        <th class=\"col_heading level0 col8\" >rad</th>        <th class=\"col_heading level0 col9\" >tax</th>        <th class=\"col_heading level0 col10\" >ptratio</th>        <th class=\"col_heading level0 col11\" >b</th>        <th class=\"col_heading level0 col12\" >lstat</th>        <th class=\"col_heading level0 col13\" >medv</th>    </tr></thead><tbody>\n",
       "                <tr>\n",
       "                        <th id=\"T_a658c_level0_row0\" class=\"row_heading level0 row0\" >0</th>\n",
       "                        <td id=\"T_a658c_row0_col0\" class=\"data row0 col0\" >0.01</td>\n",
       "                        <td id=\"T_a658c_row0_col1\" class=\"data row0 col1\" >18.00</td>\n",
       "                        <td id=\"T_a658c_row0_col2\" class=\"data row0 col2\" >2.31</td>\n",
       "                        <td id=\"T_a658c_row0_col3\" class=\"data row0 col3\" >0.00</td>\n",
       "                        <td id=\"T_a658c_row0_col4\" class=\"data row0 col4\" >0.54</td>\n",
       "                        <td id=\"T_a658c_row0_col5\" class=\"data row0 col5\" >6.58</td>\n",
       "                        <td id=\"T_a658c_row0_col6\" class=\"data row0 col6\" >65.20</td>\n",
       "                        <td id=\"T_a658c_row0_col7\" class=\"data row0 col7\" >4.09</td>\n",
       "                        <td id=\"T_a658c_row0_col8\" class=\"data row0 col8\" >1.00</td>\n",
       "                        <td id=\"T_a658c_row0_col9\" class=\"data row0 col9\" >296.00</td>\n",
       "                        <td id=\"T_a658c_row0_col10\" class=\"data row0 col10\" >15.30</td>\n",
       "                        <td id=\"T_a658c_row0_col11\" class=\"data row0 col11\" >396.90</td>\n",
       "                        <td id=\"T_a658c_row0_col12\" class=\"data row0 col12\" >4.98</td>\n",
       "                        <td id=\"T_a658c_row0_col13\" class=\"data row0 col13\" >24.00</td>\n",
       "            </tr>\n",
       "            <tr>\n",
       "                        <th id=\"T_a658c_level0_row1\" class=\"row_heading level0 row1\" >1</th>\n",
       "                        <td id=\"T_a658c_row1_col0\" class=\"data row1 col0\" >0.03</td>\n",
       "                        <td id=\"T_a658c_row1_col1\" class=\"data row1 col1\" >0.00</td>\n",
       "                        <td id=\"T_a658c_row1_col2\" class=\"data row1 col2\" >7.07</td>\n",
       "                        <td id=\"T_a658c_row1_col3\" class=\"data row1 col3\" >0.00</td>\n",
       "                        <td id=\"T_a658c_row1_col4\" class=\"data row1 col4\" >0.47</td>\n",
       "                        <td id=\"T_a658c_row1_col5\" class=\"data row1 col5\" >6.42</td>\n",
       "                        <td id=\"T_a658c_row1_col6\" class=\"data row1 col6\" >78.90</td>\n",
       "                        <td id=\"T_a658c_row1_col7\" class=\"data row1 col7\" >4.97</td>\n",
       "                        <td id=\"T_a658c_row1_col8\" class=\"data row1 col8\" >2.00</td>\n",
       "                        <td id=\"T_a658c_row1_col9\" class=\"data row1 col9\" >242.00</td>\n",
       "                        <td id=\"T_a658c_row1_col10\" class=\"data row1 col10\" >17.80</td>\n",
       "                        <td id=\"T_a658c_row1_col11\" class=\"data row1 col11\" >396.90</td>\n",
       "                        <td id=\"T_a658c_row1_col12\" class=\"data row1 col12\" >9.14</td>\n",
       "                        <td id=\"T_a658c_row1_col13\" class=\"data row1 col13\" >21.60</td>\n",
       "            </tr>\n",
       "            <tr>\n",
       "                        <th id=\"T_a658c_level0_row2\" class=\"row_heading level0 row2\" >2</th>\n",
       "                        <td id=\"T_a658c_row2_col0\" class=\"data row2 col0\" >0.03</td>\n",
       "                        <td id=\"T_a658c_row2_col1\" class=\"data row2 col1\" >0.00</td>\n",
       "                        <td id=\"T_a658c_row2_col2\" class=\"data row2 col2\" >7.07</td>\n",
       "                        <td id=\"T_a658c_row2_col3\" class=\"data row2 col3\" >0.00</td>\n",
       "                        <td id=\"T_a658c_row2_col4\" class=\"data row2 col4\" >0.47</td>\n",
       "                        <td id=\"T_a658c_row2_col5\" class=\"data row2 col5\" >7.18</td>\n",
       "                        <td id=\"T_a658c_row2_col6\" class=\"data row2 col6\" >61.10</td>\n",
       "                        <td id=\"T_a658c_row2_col7\" class=\"data row2 col7\" >4.97</td>\n",
       "                        <td id=\"T_a658c_row2_col8\" class=\"data row2 col8\" >2.00</td>\n",
       "                        <td id=\"T_a658c_row2_col9\" class=\"data row2 col9\" >242.00</td>\n",
       "                        <td id=\"T_a658c_row2_col10\" class=\"data row2 col10\" >17.80</td>\n",
       "                        <td id=\"T_a658c_row2_col11\" class=\"data row2 col11\" >392.83</td>\n",
       "                        <td id=\"T_a658c_row2_col12\" class=\"data row2 col12\" >4.03</td>\n",
       "                        <td id=\"T_a658c_row2_col13\" class=\"data row2 col13\" >34.70</td>\n",
       "            </tr>\n",
       "            <tr>\n",
       "                        <th id=\"T_a658c_level0_row3\" class=\"row_heading level0 row3\" >3</th>\n",
       "                        <td id=\"T_a658c_row3_col0\" class=\"data row3 col0\" >0.03</td>\n",
       "                        <td id=\"T_a658c_row3_col1\" class=\"data row3 col1\" >0.00</td>\n",
       "                        <td id=\"T_a658c_row3_col2\" class=\"data row3 col2\" >2.18</td>\n",
       "                        <td id=\"T_a658c_row3_col3\" class=\"data row3 col3\" >0.00</td>\n",
       "                        <td id=\"T_a658c_row3_col4\" class=\"data row3 col4\" >0.46</td>\n",
       "                        <td id=\"T_a658c_row3_col5\" class=\"data row3 col5\" >7.00</td>\n",
       "                        <td id=\"T_a658c_row3_col6\" class=\"data row3 col6\" >45.80</td>\n",
       "                        <td id=\"T_a658c_row3_col7\" class=\"data row3 col7\" >6.06</td>\n",
       "                        <td id=\"T_a658c_row3_col8\" class=\"data row3 col8\" >3.00</td>\n",
       "                        <td id=\"T_a658c_row3_col9\" class=\"data row3 col9\" >222.00</td>\n",
       "                        <td id=\"T_a658c_row3_col10\" class=\"data row3 col10\" >18.70</td>\n",
       "                        <td id=\"T_a658c_row3_col11\" class=\"data row3 col11\" >394.63</td>\n",
       "                        <td id=\"T_a658c_row3_col12\" class=\"data row3 col12\" >2.94</td>\n",
       "                        <td id=\"T_a658c_row3_col13\" class=\"data row3 col13\" >33.40</td>\n",
       "            </tr>\n",
       "            <tr>\n",
       "                        <th id=\"T_a658c_level0_row4\" class=\"row_heading level0 row4\" >4</th>\n",
       "                        <td id=\"T_a658c_row4_col0\" class=\"data row4 col0\" >0.07</td>\n",
       "                        <td id=\"T_a658c_row4_col1\" class=\"data row4 col1\" >0.00</td>\n",
       "                        <td id=\"T_a658c_row4_col2\" class=\"data row4 col2\" >2.18</td>\n",
       "                        <td id=\"T_a658c_row4_col3\" class=\"data row4 col3\" >0.00</td>\n",
       "                        <td id=\"T_a658c_row4_col4\" class=\"data row4 col4\" >0.46</td>\n",
       "                        <td id=\"T_a658c_row4_col5\" class=\"data row4 col5\" >7.15</td>\n",
       "                        <td id=\"T_a658c_row4_col6\" class=\"data row4 col6\" >54.20</td>\n",
       "                        <td id=\"T_a658c_row4_col7\" class=\"data row4 col7\" >6.06</td>\n",
       "                        <td id=\"T_a658c_row4_col8\" class=\"data row4 col8\" >3.00</td>\n",
       "                        <td id=\"T_a658c_row4_col9\" class=\"data row4 col9\" >222.00</td>\n",
       "                        <td id=\"T_a658c_row4_col10\" class=\"data row4 col10\" >18.70</td>\n",
       "                        <td id=\"T_a658c_row4_col11\" class=\"data row4 col11\" >396.90</td>\n",
       "                        <td id=\"T_a658c_row4_col12\" class=\"data row4 col12\" >5.33</td>\n",
       "                        <td id=\"T_a658c_row4_col13\" class=\"data row4 col13\" >36.20</td>\n",
       "            </tr>\n",
       "    </tbody></table>"
      ],
      "text/plain": [
       "<pandas.io.formats.style.Styler at 0x7fca4da69490>"
      ]
     },
     "metadata": {},
     "output_type": "display_data"
    },
    {
     "name": "stdout",
     "output_type": "stream",
     "text": [
      "Missing Data :  0   Shape is :  (506, 14)\n"
     ]
    }
   ],
   "source": [
    "data = pd.read_csv(f'{datasets_dir}/BHPD/origine/BostonHousing.csv', header=0)\n",
    "\n",
    "display(data.head(5).style.format(\"{0:.2f}\").set_caption(\"Few lines of the dataset :\"))\n",
    "print('Missing Data : ',data.isna().sum().sum(), '  Shape is : ', data.shape)"
   ]
  },
  {
   "cell_type": "markdown",
   "metadata": {},
   "source": [
    "## Step 3 - Preparing the data\n",
    "### 3.1 - Split data\n",
    "We will use 70% of the data for training and 30% for validation.  \n",
    "The dataset is **shuffled** and shared between **learning** and **testing**.  \n",
    "x will be input data and y the expected output"
   ]
  },
  {
   "cell_type": "code",
   "execution_count": 4,
   "metadata": {
    "execution": {
     "iopub.execute_input": "2021-01-14T07:11:19.390142Z",
     "iopub.status.busy": "2021-01-14T07:11:19.389749Z",
     "iopub.status.idle": "2021-01-14T07:11:19.392198Z",
     "shell.execute_reply": "2021-01-14T07:11:19.391841Z"
    }
   },
   "outputs": [
    {
     "name": "stdout",
     "output_type": "stream",
     "text": [
      "Original data shape was :  (506, 14)\n",
      "x_train :  (354, 13) y_train :  (354,)\n",
      "x_test  :  (152, 13) y_test  :  (152,)\n"
     ]
    }
   ],
   "source": [
    "# ---- Suffle and Split => train, test\n",
    "#\n",
    "data_train = data.sample(frac=0.7, axis=0)\n",
    "data_test  = data.drop(data_train.index)\n",
    "\n",
    "# ---- Split => x,y (medv is price)\n",
    "#\n",
    "x_train = data_train.drop('medv',  axis=1)\n",
    "y_train = data_train['medv']\n",
    "x_test  = data_test.drop('medv',   axis=1)\n",
    "y_test  = data_test['medv']\n",
    "\n",
    "print('Original data shape was : ',data.shape)\n",
    "print('x_train : ',x_train.shape, 'y_train : ',y_train.shape)\n",
    "print('x_test  : ',x_test.shape,  'y_test  : ',y_test.shape)"
   ]
  },
  {
   "cell_type": "markdown",
   "metadata": {},
   "source": [
    "### 3.2 - Data normalization\n",
    "**Note :** \n",
    " - All input data must be normalized, train and test.  \n",
    " - To do this we will **subtract the mean** and **divide by the standard deviation**.  \n",
    " - But test data should not be used in any way, even for normalization.  \n",
    " - The mean and the standard deviation will therefore only be calculated with the train data."
   ]
  },
  {
   "cell_type": "code",
   "execution_count": 5,
   "metadata": {
    "execution": {
     "iopub.execute_input": "2021-01-14T07:11:19.398787Z",
     "iopub.status.busy": "2021-01-14T07:11:19.398337Z",
     "iopub.status.idle": "2021-01-14T07:11:19.458125Z",
     "shell.execute_reply": "2021-01-14T07:11:19.457784Z"
    }
   },
   "outputs": [
    {
     "data": {
      "text/html": [
       "<style  type=\"text/css\" >\n",
       "</style><table id=\"T_91f6c_\" ><caption>Before normalization :</caption><thead>    <tr>        <th class=\"blank level0\" ></th>        <th class=\"col_heading level0 col0\" >crim</th>        <th class=\"col_heading level0 col1\" >zn</th>        <th class=\"col_heading level0 col2\" >indus</th>        <th class=\"col_heading level0 col3\" >chas</th>        <th class=\"col_heading level0 col4\" >nox</th>        <th class=\"col_heading level0 col5\" >rm</th>        <th class=\"col_heading level0 col6\" >age</th>        <th class=\"col_heading level0 col7\" >dis</th>        <th class=\"col_heading level0 col8\" >rad</th>        <th class=\"col_heading level0 col9\" >tax</th>        <th class=\"col_heading level0 col10\" >ptratio</th>        <th class=\"col_heading level0 col11\" >b</th>        <th class=\"col_heading level0 col12\" >lstat</th>    </tr></thead><tbody>\n",
       "                <tr>\n",
       "                        <th id=\"T_91f6c_level0_row0\" class=\"row_heading level0 row0\" >count</th>\n",
       "                        <td id=\"T_91f6c_row0_col0\" class=\"data row0 col0\" >354.00</td>\n",
       "                        <td id=\"T_91f6c_row0_col1\" class=\"data row0 col1\" >354.00</td>\n",
       "                        <td id=\"T_91f6c_row0_col2\" class=\"data row0 col2\" >354.00</td>\n",
       "                        <td id=\"T_91f6c_row0_col3\" class=\"data row0 col3\" >354.00</td>\n",
       "                        <td id=\"T_91f6c_row0_col4\" class=\"data row0 col4\" >354.00</td>\n",
       "                        <td id=\"T_91f6c_row0_col5\" class=\"data row0 col5\" >354.00</td>\n",
       "                        <td id=\"T_91f6c_row0_col6\" class=\"data row0 col6\" >354.00</td>\n",
       "                        <td id=\"T_91f6c_row0_col7\" class=\"data row0 col7\" >354.00</td>\n",
       "                        <td id=\"T_91f6c_row0_col8\" class=\"data row0 col8\" >354.00</td>\n",
       "                        <td id=\"T_91f6c_row0_col9\" class=\"data row0 col9\" >354.00</td>\n",
       "                        <td id=\"T_91f6c_row0_col10\" class=\"data row0 col10\" >354.00</td>\n",
       "                        <td id=\"T_91f6c_row0_col11\" class=\"data row0 col11\" >354.00</td>\n",
       "                        <td id=\"T_91f6c_row0_col12\" class=\"data row0 col12\" >354.00</td>\n",
       "            </tr>\n",
       "            <tr>\n",
       "                        <th id=\"T_91f6c_level0_row1\" class=\"row_heading level0 row1\" >mean</th>\n",
       "                        <td id=\"T_91f6c_row1_col0\" class=\"data row1 col0\" >3.83</td>\n",
       "                        <td id=\"T_91f6c_row1_col1\" class=\"data row1 col1\" >11.23</td>\n",
       "                        <td id=\"T_91f6c_row1_col2\" class=\"data row1 col2\" >11.09</td>\n",
       "                        <td id=\"T_91f6c_row1_col3\" class=\"data row1 col3\" >0.06</td>\n",
       "                        <td id=\"T_91f6c_row1_col4\" class=\"data row1 col4\" >0.55</td>\n",
       "                        <td id=\"T_91f6c_row1_col5\" class=\"data row1 col5\" >6.26</td>\n",
       "                        <td id=\"T_91f6c_row1_col6\" class=\"data row1 col6\" >68.56</td>\n",
       "                        <td id=\"T_91f6c_row1_col7\" class=\"data row1 col7\" >3.75</td>\n",
       "                        <td id=\"T_91f6c_row1_col8\" class=\"data row1 col8\" >9.52</td>\n",
       "                        <td id=\"T_91f6c_row1_col9\" class=\"data row1 col9\" >405.68</td>\n",
       "                        <td id=\"T_91f6c_row1_col10\" class=\"data row1 col10\" >18.44</td>\n",
       "                        <td id=\"T_91f6c_row1_col11\" class=\"data row1 col11\" >356.78</td>\n",
       "                        <td id=\"T_91f6c_row1_col12\" class=\"data row1 col12\" >12.99</td>\n",
       "            </tr>\n",
       "            <tr>\n",
       "                        <th id=\"T_91f6c_level0_row2\" class=\"row_heading level0 row2\" >std</th>\n",
       "                        <td id=\"T_91f6c_row2_col0\" class=\"data row2 col0\" >8.75</td>\n",
       "                        <td id=\"T_91f6c_row2_col1\" class=\"data row2 col1\" >22.79</td>\n",
       "                        <td id=\"T_91f6c_row2_col2\" class=\"data row2 col2\" >6.89</td>\n",
       "                        <td id=\"T_91f6c_row2_col3\" class=\"data row2 col3\" >0.25</td>\n",
       "                        <td id=\"T_91f6c_row2_col4\" class=\"data row2 col4\" >0.11</td>\n",
       "                        <td id=\"T_91f6c_row2_col5\" class=\"data row2 col5\" >0.73</td>\n",
       "                        <td id=\"T_91f6c_row2_col6\" class=\"data row2 col6\" >28.80</td>\n",
       "                        <td id=\"T_91f6c_row2_col7\" class=\"data row2 col7\" >2.06</td>\n",
       "                        <td id=\"T_91f6c_row2_col8\" class=\"data row2 col8\" >8.70</td>\n",
       "                        <td id=\"T_91f6c_row2_col9\" class=\"data row2 col9\" >170.12</td>\n",
       "                        <td id=\"T_91f6c_row2_col10\" class=\"data row2 col10\" >2.21</td>\n",
       "                        <td id=\"T_91f6c_row2_col11\" class=\"data row2 col11\" >89.35</td>\n",
       "                        <td id=\"T_91f6c_row2_col12\" class=\"data row2 col12\" >7.50</td>\n",
       "            </tr>\n",
       "            <tr>\n",
       "                        <th id=\"T_91f6c_level0_row3\" class=\"row_heading level0 row3\" >min</th>\n",
       "                        <td id=\"T_91f6c_row3_col0\" class=\"data row3 col0\" >0.01</td>\n",
       "                        <td id=\"T_91f6c_row3_col1\" class=\"data row3 col1\" >0.00</td>\n",
       "                        <td id=\"T_91f6c_row3_col2\" class=\"data row3 col2\" >1.21</td>\n",
       "                        <td id=\"T_91f6c_row3_col3\" class=\"data row3 col3\" >0.00</td>\n",
       "                        <td id=\"T_91f6c_row3_col4\" class=\"data row3 col4\" >0.39</td>\n",
       "                        <td id=\"T_91f6c_row3_col5\" class=\"data row3 col5\" >3.56</td>\n",
       "                        <td id=\"T_91f6c_row3_col6\" class=\"data row3 col6\" >6.20</td>\n",
       "                        <td id=\"T_91f6c_row3_col7\" class=\"data row3 col7\" >1.13</td>\n",
       "                        <td id=\"T_91f6c_row3_col8\" class=\"data row3 col8\" >1.00</td>\n",
       "                        <td id=\"T_91f6c_row3_col9\" class=\"data row3 col9\" >188.00</td>\n",
       "                        <td id=\"T_91f6c_row3_col10\" class=\"data row3 col10\" >12.60</td>\n",
       "                        <td id=\"T_91f6c_row3_col11\" class=\"data row3 col11\" >2.60</td>\n",
       "                        <td id=\"T_91f6c_row3_col12\" class=\"data row3 col12\" >1.73</td>\n",
       "            </tr>\n",
       "            <tr>\n",
       "                        <th id=\"T_91f6c_level0_row4\" class=\"row_heading level0 row4\" >25%</th>\n",
       "                        <td id=\"T_91f6c_row4_col0\" class=\"data row4 col0\" >0.08</td>\n",
       "                        <td id=\"T_91f6c_row4_col1\" class=\"data row4 col1\" >0.00</td>\n",
       "                        <td id=\"T_91f6c_row4_col2\" class=\"data row4 col2\" >5.19</td>\n",
       "                        <td id=\"T_91f6c_row4_col3\" class=\"data row4 col3\" >0.00</td>\n",
       "                        <td id=\"T_91f6c_row4_col4\" class=\"data row4 col4\" >0.45</td>\n",
       "                        <td id=\"T_91f6c_row4_col5\" class=\"data row4 col5\" >5.86</td>\n",
       "                        <td id=\"T_91f6c_row4_col6\" class=\"data row4 col6\" >43.47</td>\n",
       "                        <td id=\"T_91f6c_row4_col7\" class=\"data row4 col7\" >2.07</td>\n",
       "                        <td id=\"T_91f6c_row4_col8\" class=\"data row4 col8\" >4.00</td>\n",
       "                        <td id=\"T_91f6c_row4_col9\" class=\"data row4 col9\" >277.00</td>\n",
       "                        <td id=\"T_91f6c_row4_col10\" class=\"data row4 col10\" >17.10</td>\n",
       "                        <td id=\"T_91f6c_row4_col11\" class=\"data row4 col11\" >375.61</td>\n",
       "                        <td id=\"T_91f6c_row4_col12\" class=\"data row4 col12\" >7.19</td>\n",
       "            </tr>\n",
       "            <tr>\n",
       "                        <th id=\"T_91f6c_level0_row5\" class=\"row_heading level0 row5\" >50%</th>\n",
       "                        <td id=\"T_91f6c_row5_col0\" class=\"data row5 col0\" >0.27</td>\n",
       "                        <td id=\"T_91f6c_row5_col1\" class=\"data row5 col1\" >0.00</td>\n",
       "                        <td id=\"T_91f6c_row5_col2\" class=\"data row5 col2\" >8.56</td>\n",
       "                        <td id=\"T_91f6c_row5_col3\" class=\"data row5 col3\" >0.00</td>\n",
       "                        <td id=\"T_91f6c_row5_col4\" class=\"data row5 col4\" >0.54</td>\n",
       "                        <td id=\"T_91f6c_row5_col5\" class=\"data row5 col5\" >6.17</td>\n",
       "                        <td id=\"T_91f6c_row5_col6\" class=\"data row5 col6\" >78.20</td>\n",
       "                        <td id=\"T_91f6c_row5_col7\" class=\"data row5 col7\" >3.17</td>\n",
       "                        <td id=\"T_91f6c_row5_col8\" class=\"data row5 col8\" >5.00</td>\n",
       "                        <td id=\"T_91f6c_row5_col9\" class=\"data row5 col9\" >329.00</td>\n",
       "                        <td id=\"T_91f6c_row5_col10\" class=\"data row5 col10\" >19.10</td>\n",
       "                        <td id=\"T_91f6c_row5_col11\" class=\"data row5 col11\" >391.60</td>\n",
       "                        <td id=\"T_91f6c_row5_col12\" class=\"data row5 col12\" >11.43</td>\n",
       "            </tr>\n",
       "            <tr>\n",
       "                        <th id=\"T_91f6c_level0_row6\" class=\"row_heading level0 row6\" >75%</th>\n",
       "                        <td id=\"T_91f6c_row6_col0\" class=\"data row6 col0\" >3.83</td>\n",
       "                        <td id=\"T_91f6c_row6_col1\" class=\"data row6 col1\" >20.00</td>\n",
       "                        <td id=\"T_91f6c_row6_col2\" class=\"data row6 col2\" >18.10</td>\n",
       "                        <td id=\"T_91f6c_row6_col3\" class=\"data row6 col3\" >0.00</td>\n",
       "                        <td id=\"T_91f6c_row6_col4\" class=\"data row6 col4\" >0.62</td>\n",
       "                        <td id=\"T_91f6c_row6_col5\" class=\"data row6 col5\" >6.61</td>\n",
       "                        <td id=\"T_91f6c_row6_col6\" class=\"data row6 col6\" >94.57</td>\n",
       "                        <td id=\"T_91f6c_row6_col7\" class=\"data row6 col7\" >5.19</td>\n",
       "                        <td id=\"T_91f6c_row6_col8\" class=\"data row6 col8\" >24.00</td>\n",
       "                        <td id=\"T_91f6c_row6_col9\" class=\"data row6 col9\" >666.00</td>\n",
       "                        <td id=\"T_91f6c_row6_col10\" class=\"data row6 col10\" >20.20</td>\n",
       "                        <td id=\"T_91f6c_row6_col11\" class=\"data row6 col11\" >396.32</td>\n",
       "                        <td id=\"T_91f6c_row6_col12\" class=\"data row6 col12\" >17.30</td>\n",
       "            </tr>\n",
       "            <tr>\n",
       "                        <th id=\"T_91f6c_level0_row7\" class=\"row_heading level0 row7\" >max</th>\n",
       "                        <td id=\"T_91f6c_row7_col0\" class=\"data row7 col0\" >73.53</td>\n",
       "                        <td id=\"T_91f6c_row7_col1\" class=\"data row7 col1\" >100.00</td>\n",
       "                        <td id=\"T_91f6c_row7_col2\" class=\"data row7 col2\" >27.74</td>\n",
       "                        <td id=\"T_91f6c_row7_col3\" class=\"data row7 col3\" >1.00</td>\n",
       "                        <td id=\"T_91f6c_row7_col4\" class=\"data row7 col4\" >0.87</td>\n",
       "                        <td id=\"T_91f6c_row7_col5\" class=\"data row7 col5\" >8.72</td>\n",
       "                        <td id=\"T_91f6c_row7_col6\" class=\"data row7 col6\" >100.00</td>\n",
       "                        <td id=\"T_91f6c_row7_col7\" class=\"data row7 col7\" >10.71</td>\n",
       "                        <td id=\"T_91f6c_row7_col8\" class=\"data row7 col8\" >24.00</td>\n",
       "                        <td id=\"T_91f6c_row7_col9\" class=\"data row7 col9\" >711.00</td>\n",
       "                        <td id=\"T_91f6c_row7_col10\" class=\"data row7 col10\" >21.20</td>\n",
       "                        <td id=\"T_91f6c_row7_col11\" class=\"data row7 col11\" >396.90</td>\n",
       "                        <td id=\"T_91f6c_row7_col12\" class=\"data row7 col12\" >37.97</td>\n",
       "            </tr>\n",
       "    </tbody></table>"
      ],
      "text/plain": [
       "<pandas.io.formats.style.Styler at 0x7fca4da69490>"
      ]
     },
     "metadata": {},
     "output_type": "display_data"
    },
    {
     "data": {
      "text/html": [
       "<style  type=\"text/css\" >\n",
       "</style><table id=\"T_7f7f2_\" ><caption>After normalization :</caption><thead>    <tr>        <th class=\"blank level0\" ></th>        <th class=\"col_heading level0 col0\" >crim</th>        <th class=\"col_heading level0 col1\" >zn</th>        <th class=\"col_heading level0 col2\" >indus</th>        <th class=\"col_heading level0 col3\" >chas</th>        <th class=\"col_heading level0 col4\" >nox</th>        <th class=\"col_heading level0 col5\" >rm</th>        <th class=\"col_heading level0 col6\" >age</th>        <th class=\"col_heading level0 col7\" >dis</th>        <th class=\"col_heading level0 col8\" >rad</th>        <th class=\"col_heading level0 col9\" >tax</th>        <th class=\"col_heading level0 col10\" >ptratio</th>        <th class=\"col_heading level0 col11\" >b</th>        <th class=\"col_heading level0 col12\" >lstat</th>    </tr></thead><tbody>\n",
       "                <tr>\n",
       "                        <th id=\"T_7f7f2_level0_row0\" class=\"row_heading level0 row0\" >count</th>\n",
       "                        <td id=\"T_7f7f2_row0_col0\" class=\"data row0 col0\" >354.00</td>\n",
       "                        <td id=\"T_7f7f2_row0_col1\" class=\"data row0 col1\" >354.00</td>\n",
       "                        <td id=\"T_7f7f2_row0_col2\" class=\"data row0 col2\" >354.00</td>\n",
       "                        <td id=\"T_7f7f2_row0_col3\" class=\"data row0 col3\" >354.00</td>\n",
       "                        <td id=\"T_7f7f2_row0_col4\" class=\"data row0 col4\" >354.00</td>\n",
       "                        <td id=\"T_7f7f2_row0_col5\" class=\"data row0 col5\" >354.00</td>\n",
       "                        <td id=\"T_7f7f2_row0_col6\" class=\"data row0 col6\" >354.00</td>\n",
       "                        <td id=\"T_7f7f2_row0_col7\" class=\"data row0 col7\" >354.00</td>\n",
       "                        <td id=\"T_7f7f2_row0_col8\" class=\"data row0 col8\" >354.00</td>\n",
       "                        <td id=\"T_7f7f2_row0_col9\" class=\"data row0 col9\" >354.00</td>\n",
       "                        <td id=\"T_7f7f2_row0_col10\" class=\"data row0 col10\" >354.00</td>\n",
       "                        <td id=\"T_7f7f2_row0_col11\" class=\"data row0 col11\" >354.00</td>\n",
       "                        <td id=\"T_7f7f2_row0_col12\" class=\"data row0 col12\" >354.00</td>\n",
       "            </tr>\n",
       "            <tr>\n",
       "                        <th id=\"T_7f7f2_level0_row1\" class=\"row_heading level0 row1\" >mean</th>\n",
       "                        <td id=\"T_7f7f2_row1_col0\" class=\"data row1 col0\" >-0.00</td>\n",
       "                        <td id=\"T_7f7f2_row1_col1\" class=\"data row1 col1\" >0.00</td>\n",
       "                        <td id=\"T_7f7f2_row1_col2\" class=\"data row1 col2\" >0.00</td>\n",
       "                        <td id=\"T_7f7f2_row1_col3\" class=\"data row1 col3\" >0.00</td>\n",
       "                        <td id=\"T_7f7f2_row1_col4\" class=\"data row1 col4\" >-0.00</td>\n",
       "                        <td id=\"T_7f7f2_row1_col5\" class=\"data row1 col5\" >0.00</td>\n",
       "                        <td id=\"T_7f7f2_row1_col6\" class=\"data row1 col6\" >0.00</td>\n",
       "                        <td id=\"T_7f7f2_row1_col7\" class=\"data row1 col7\" >-0.00</td>\n",
       "                        <td id=\"T_7f7f2_row1_col8\" class=\"data row1 col8\" >0.00</td>\n",
       "                        <td id=\"T_7f7f2_row1_col9\" class=\"data row1 col9\" >0.00</td>\n",
       "                        <td id=\"T_7f7f2_row1_col10\" class=\"data row1 col10\" >0.00</td>\n",
       "                        <td id=\"T_7f7f2_row1_col11\" class=\"data row1 col11\" >-0.00</td>\n",
       "                        <td id=\"T_7f7f2_row1_col12\" class=\"data row1 col12\" >-0.00</td>\n",
       "            </tr>\n",
       "            <tr>\n",
       "                        <th id=\"T_7f7f2_level0_row2\" class=\"row_heading level0 row2\" >std</th>\n",
       "                        <td id=\"T_7f7f2_row2_col0\" class=\"data row2 col0\" >1.00</td>\n",
       "                        <td id=\"T_7f7f2_row2_col1\" class=\"data row2 col1\" >1.00</td>\n",
       "                        <td id=\"T_7f7f2_row2_col2\" class=\"data row2 col2\" >1.00</td>\n",
       "                        <td id=\"T_7f7f2_row2_col3\" class=\"data row2 col3\" >1.00</td>\n",
       "                        <td id=\"T_7f7f2_row2_col4\" class=\"data row2 col4\" >1.00</td>\n",
       "                        <td id=\"T_7f7f2_row2_col5\" class=\"data row2 col5\" >1.00</td>\n",
       "                        <td id=\"T_7f7f2_row2_col6\" class=\"data row2 col6\" >1.00</td>\n",
       "                        <td id=\"T_7f7f2_row2_col7\" class=\"data row2 col7\" >1.00</td>\n",
       "                        <td id=\"T_7f7f2_row2_col8\" class=\"data row2 col8\" >1.00</td>\n",
       "                        <td id=\"T_7f7f2_row2_col9\" class=\"data row2 col9\" >1.00</td>\n",
       "                        <td id=\"T_7f7f2_row2_col10\" class=\"data row2 col10\" >1.00</td>\n",
       "                        <td id=\"T_7f7f2_row2_col11\" class=\"data row2 col11\" >1.00</td>\n",
       "                        <td id=\"T_7f7f2_row2_col12\" class=\"data row2 col12\" >1.00</td>\n",
       "            </tr>\n",
       "            <tr>\n",
       "                        <th id=\"T_7f7f2_level0_row3\" class=\"row_heading level0 row3\" >min</th>\n",
       "                        <td id=\"T_7f7f2_row3_col0\" class=\"data row3 col0\" >-0.44</td>\n",
       "                        <td id=\"T_7f7f2_row3_col1\" class=\"data row3 col1\" >-0.49</td>\n",
       "                        <td id=\"T_7f7f2_row3_col2\" class=\"data row3 col2\" >-1.43</td>\n",
       "                        <td id=\"T_7f7f2_row3_col3\" class=\"data row3 col3\" >-0.26</td>\n",
       "                        <td id=\"T_7f7f2_row3_col4\" class=\"data row3 col4\" >-1.45</td>\n",
       "                        <td id=\"T_7f7f2_row3_col5\" class=\"data row3 col5\" >-3.69</td>\n",
       "                        <td id=\"T_7f7f2_row3_col6\" class=\"data row3 col6\" >-2.16</td>\n",
       "                        <td id=\"T_7f7f2_row3_col7\" class=\"data row3 col7\" >-1.27</td>\n",
       "                        <td id=\"T_7f7f2_row3_col8\" class=\"data row3 col8\" >-0.98</td>\n",
       "                        <td id=\"T_7f7f2_row3_col9\" class=\"data row3 col9\" >-1.28</td>\n",
       "                        <td id=\"T_7f7f2_row3_col10\" class=\"data row3 col10\" >-2.64</td>\n",
       "                        <td id=\"T_7f7f2_row3_col11\" class=\"data row3 col11\" >-3.96</td>\n",
       "                        <td id=\"T_7f7f2_row3_col12\" class=\"data row3 col12\" >-1.50</td>\n",
       "            </tr>\n",
       "            <tr>\n",
       "                        <th id=\"T_7f7f2_level0_row4\" class=\"row_heading level0 row4\" >25%</th>\n",
       "                        <td id=\"T_7f7f2_row4_col0\" class=\"data row4 col0\" >-0.43</td>\n",
       "                        <td id=\"T_7f7f2_row4_col1\" class=\"data row4 col1\" >-0.49</td>\n",
       "                        <td id=\"T_7f7f2_row4_col2\" class=\"data row4 col2\" >-0.86</td>\n",
       "                        <td id=\"T_7f7f2_row4_col3\" class=\"data row4 col3\" >-0.26</td>\n",
       "                        <td id=\"T_7f7f2_row4_col4\" class=\"data row4 col4\" >-0.92</td>\n",
       "                        <td id=\"T_7f7f2_row4_col5\" class=\"data row4 col5\" >-0.55</td>\n",
       "                        <td id=\"T_7f7f2_row4_col6\" class=\"data row4 col6\" >-0.87</td>\n",
       "                        <td id=\"T_7f7f2_row4_col7\" class=\"data row4 col7\" >-0.82</td>\n",
       "                        <td id=\"T_7f7f2_row4_col8\" class=\"data row4 col8\" >-0.63</td>\n",
       "                        <td id=\"T_7f7f2_row4_col9\" class=\"data row4 col9\" >-0.76</td>\n",
       "                        <td id=\"T_7f7f2_row4_col10\" class=\"data row4 col10\" >-0.61</td>\n",
       "                        <td id=\"T_7f7f2_row4_col11\" class=\"data row4 col11\" >0.21</td>\n",
       "                        <td id=\"T_7f7f2_row4_col12\" class=\"data row4 col12\" >-0.77</td>\n",
       "            </tr>\n",
       "            <tr>\n",
       "                        <th id=\"T_7f7f2_level0_row5\" class=\"row_heading level0 row5\" >50%</th>\n",
       "                        <td id=\"T_7f7f2_row5_col0\" class=\"data row5 col0\" >-0.41</td>\n",
       "                        <td id=\"T_7f7f2_row5_col1\" class=\"data row5 col1\" >-0.49</td>\n",
       "                        <td id=\"T_7f7f2_row5_col2\" class=\"data row5 col2\" >-0.37</td>\n",
       "                        <td id=\"T_7f7f2_row5_col3\" class=\"data row5 col3\" >-0.26</td>\n",
       "                        <td id=\"T_7f7f2_row5_col4\" class=\"data row5 col4\" >-0.14</td>\n",
       "                        <td id=\"T_7f7f2_row5_col5\" class=\"data row5 col5\" >-0.13</td>\n",
       "                        <td id=\"T_7f7f2_row5_col6\" class=\"data row5 col6\" >0.33</td>\n",
       "                        <td id=\"T_7f7f2_row5_col7\" class=\"data row5 col7\" >-0.28</td>\n",
       "                        <td id=\"T_7f7f2_row5_col8\" class=\"data row5 col8\" >-0.52</td>\n",
       "                        <td id=\"T_7f7f2_row5_col9\" class=\"data row5 col9\" >-0.45</td>\n",
       "                        <td id=\"T_7f7f2_row5_col10\" class=\"data row5 col10\" >0.30</td>\n",
       "                        <td id=\"T_7f7f2_row5_col11\" class=\"data row5 col11\" >0.39</td>\n",
       "                        <td id=\"T_7f7f2_row5_col12\" class=\"data row5 col12\" >-0.21</td>\n",
       "            </tr>\n",
       "            <tr>\n",
       "                        <th id=\"T_7f7f2_level0_row6\" class=\"row_heading level0 row6\" >75%</th>\n",
       "                        <td id=\"T_7f7f2_row6_col0\" class=\"data row6 col0\" >-0.00</td>\n",
       "                        <td id=\"T_7f7f2_row6_col1\" class=\"data row6 col1\" >0.38</td>\n",
       "                        <td id=\"T_7f7f2_row6_col2\" class=\"data row6 col2\" >1.02</td>\n",
       "                        <td id=\"T_7f7f2_row6_col3\" class=\"data row6 col3\" >-0.26</td>\n",
       "                        <td id=\"T_7f7f2_row6_col4\" class=\"data row6 col4\" >0.61</td>\n",
       "                        <td id=\"T_7f7f2_row6_col5\" class=\"data row6 col5\" >0.48</td>\n",
       "                        <td id=\"T_7f7f2_row6_col6\" class=\"data row6 col6\" >0.90</td>\n",
       "                        <td id=\"T_7f7f2_row6_col7\" class=\"data row6 col7\" >0.70</td>\n",
       "                        <td id=\"T_7f7f2_row6_col8\" class=\"data row6 col8\" >1.66</td>\n",
       "                        <td id=\"T_7f7f2_row6_col9\" class=\"data row6 col9\" >1.53</td>\n",
       "                        <td id=\"T_7f7f2_row6_col10\" class=\"data row6 col10\" >0.80</td>\n",
       "                        <td id=\"T_7f7f2_row6_col11\" class=\"data row6 col11\" >0.44</td>\n",
       "                        <td id=\"T_7f7f2_row6_col12\" class=\"data row6 col12\" >0.57</td>\n",
       "            </tr>\n",
       "            <tr>\n",
       "                        <th id=\"T_7f7f2_level0_row7\" class=\"row_heading level0 row7\" >max</th>\n",
       "                        <td id=\"T_7f7f2_row7_col0\" class=\"data row7 col0\" >7.96</td>\n",
       "                        <td id=\"T_7f7f2_row7_col1\" class=\"data row7 col1\" >3.90</td>\n",
       "                        <td id=\"T_7f7f2_row7_col2\" class=\"data row7 col2\" >2.42</td>\n",
       "                        <td id=\"T_7f7f2_row7_col3\" class=\"data row7 col3\" >3.79</td>\n",
       "                        <td id=\"T_7f7f2_row7_col4\" class=\"data row7 col4\" >2.78</td>\n",
       "                        <td id=\"T_7f7f2_row7_col5\" class=\"data row7 col5\" >3.36</td>\n",
       "                        <td id=\"T_7f7f2_row7_col6\" class=\"data row7 col6\" >1.09</td>\n",
       "                        <td id=\"T_7f7f2_row7_col7\" class=\"data row7 col7\" >3.39</td>\n",
       "                        <td id=\"T_7f7f2_row7_col8\" class=\"data row7 col8\" >1.66</td>\n",
       "                        <td id=\"T_7f7f2_row7_col9\" class=\"data row7 col9\" >1.79</td>\n",
       "                        <td id=\"T_7f7f2_row7_col10\" class=\"data row7 col10\" >1.25</td>\n",
       "                        <td id=\"T_7f7f2_row7_col11\" class=\"data row7 col11\" >0.45</td>\n",
       "                        <td id=\"T_7f7f2_row7_col12\" class=\"data row7 col12\" >3.33</td>\n",
       "            </tr>\n",
       "    </tbody></table>"
      ],
      "text/plain": [
       "<pandas.io.formats.style.Styler at 0x7fca4d81e910>"
      ]
     },
     "metadata": {},
     "output_type": "display_data"
    },
    {
     "data": {
      "text/html": [
       "<style  type=\"text/css\" >\n",
       "</style><table id=\"T_58565_\" ><caption>Few lines of the dataset :</caption><thead>    <tr>        <th class=\"blank level0\" ></th>        <th class=\"col_heading level0 col0\" >crim</th>        <th class=\"col_heading level0 col1\" >zn</th>        <th class=\"col_heading level0 col2\" >indus</th>        <th class=\"col_heading level0 col3\" >chas</th>        <th class=\"col_heading level0 col4\" >nox</th>        <th class=\"col_heading level0 col5\" >rm</th>        <th class=\"col_heading level0 col6\" >age</th>        <th class=\"col_heading level0 col7\" >dis</th>        <th class=\"col_heading level0 col8\" >rad</th>        <th class=\"col_heading level0 col9\" >tax</th>        <th class=\"col_heading level0 col10\" >ptratio</th>        <th class=\"col_heading level0 col11\" >b</th>        <th class=\"col_heading level0 col12\" >lstat</th>    </tr></thead><tbody>\n",
       "                <tr>\n",
       "                        <th id=\"T_58565_level0_row0\" class=\"row_heading level0 row0\" >503</th>\n",
       "                        <td id=\"T_58565_row0_col0\" class=\"data row0 col0\" >-0.43</td>\n",
       "                        <td id=\"T_58565_row0_col1\" class=\"data row0 col1\" >-0.49</td>\n",
       "                        <td id=\"T_58565_row0_col2\" class=\"data row0 col2\" >0.12</td>\n",
       "                        <td id=\"T_58565_row0_col3\" class=\"data row0 col3\" >-0.26</td>\n",
       "                        <td id=\"T_58565_row0_col4\" class=\"data row0 col4\" >0.17</td>\n",
       "                        <td id=\"T_58565_row0_col5\" class=\"data row0 col5\" >0.97</td>\n",
       "                        <td id=\"T_58565_row0_col6\" class=\"data row0 col6\" >0.78</td>\n",
       "                        <td id=\"T_58565_row0_col7\" class=\"data row0 col7\" >-0.77</td>\n",
       "                        <td id=\"T_58565_row0_col8\" class=\"data row0 col8\" >-0.98</td>\n",
       "                        <td id=\"T_58565_row0_col9\" class=\"data row0 col9\" >-0.78</td>\n",
       "                        <td id=\"T_58565_row0_col10\" class=\"data row0 col10\" >1.16</td>\n",
       "                        <td id=\"T_58565_row0_col11\" class=\"data row0 col11\" >0.45</td>\n",
       "                        <td id=\"T_58565_row0_col12\" class=\"data row0 col12\" >-0.98</td>\n",
       "            </tr>\n",
       "            <tr>\n",
       "                        <th id=\"T_58565_level0_row1\" class=\"row_heading level0 row1\" >121</th>\n",
       "                        <td id=\"T_58565_row1_col0\" class=\"data row1 col0\" >-0.43</td>\n",
       "                        <td id=\"T_58565_row1_col1\" class=\"data row1 col1\" >-0.49</td>\n",
       "                        <td id=\"T_58565_row1_col2\" class=\"data row1 col2\" >2.11</td>\n",
       "                        <td id=\"T_58565_row1_col3\" class=\"data row1 col3\" >-0.26</td>\n",
       "                        <td id=\"T_58565_row1_col4\" class=\"data row1 col4\" >0.24</td>\n",
       "                        <td id=\"T_58565_row1_col5\" class=\"data row1 col5\" >-0.35</td>\n",
       "                        <td id=\"T_58565_row1_col6\" class=\"data row1 col6\" >0.54</td>\n",
       "                        <td id=\"T_58565_row1_col7\" class=\"data row1 col7\" >-0.75</td>\n",
       "                        <td id=\"T_58565_row1_col8\" class=\"data row1 col8\" >-0.86</td>\n",
       "                        <td id=\"T_58565_row1_col9\" class=\"data row1 col9\" >-1.28</td>\n",
       "                        <td id=\"T_58565_row1_col10\" class=\"data row1 col10\" >0.30</td>\n",
       "                        <td id=\"T_58565_row1_col11\" class=\"data row1 col11\" >0.23</td>\n",
       "                        <td id=\"T_58565_row1_col12\" class=\"data row1 col12\" >0.17</td>\n",
       "            </tr>\n",
       "            <tr>\n",
       "                        <th id=\"T_58565_level0_row2\" class=\"row_heading level0 row2\" >228</th>\n",
       "                        <td id=\"T_58565_row2_col0\" class=\"data row2 col0\" >-0.40</td>\n",
       "                        <td id=\"T_58565_row2_col1\" class=\"data row2 col1\" >-0.49</td>\n",
       "                        <td id=\"T_58565_row2_col2\" class=\"data row2 col2\" >-0.71</td>\n",
       "                        <td id=\"T_58565_row2_col3\" class=\"data row2 col3\" >-0.26</td>\n",
       "                        <td id=\"T_58565_row2_col4\" class=\"data row2 col4\" >-0.44</td>\n",
       "                        <td id=\"T_58565_row2_col5\" class=\"data row2 col5\" >1.94</td>\n",
       "                        <td id=\"T_58565_row2_col6\" class=\"data row2 col6\" >-1.79</td>\n",
       "                        <td id=\"T_58565_row2_col7\" class=\"data row2 col7\" >-0.18</td>\n",
       "                        <td id=\"T_58565_row2_col8\" class=\"data row2 col8\" >-0.18</td>\n",
       "                        <td id=\"T_58565_row2_col9\" class=\"data row2 col9\" >-0.58</td>\n",
       "                        <td id=\"T_58565_row2_col10\" class=\"data row2 col10\" >-0.47</td>\n",
       "                        <td id=\"T_58565_row2_col11\" class=\"data row2 col11\" >0.23</td>\n",
       "                        <td id=\"T_58565_row2_col12\" class=\"data row2 col12\" >-1.21</td>\n",
       "            </tr>\n",
       "            <tr>\n",
       "                        <th id=\"T_58565_level0_row3\" class=\"row_heading level0 row3\" >478</th>\n",
       "                        <td id=\"T_58565_row3_col0\" class=\"data row3 col0\" >0.73</td>\n",
       "                        <td id=\"T_58565_row3_col1\" class=\"data row3 col1\" >-0.49</td>\n",
       "                        <td id=\"T_58565_row3_col2\" class=\"data row3 col2\" >1.02</td>\n",
       "                        <td id=\"T_58565_row3_col3\" class=\"data row3 col3\" >-0.26</td>\n",
       "                        <td id=\"T_58565_row3_col4\" class=\"data row3 col4\" >0.53</td>\n",
       "                        <td id=\"T_58565_row3_col5\" class=\"data row3 col5\" >-0.11</td>\n",
       "                        <td id=\"T_58565_row3_col6\" class=\"data row3 col6\" >0.98</td>\n",
       "                        <td id=\"T_58565_row3_col7\" class=\"data row3 col7\" >-0.77</td>\n",
       "                        <td id=\"T_58565_row3_col8\" class=\"data row3 col8\" >1.66</td>\n",
       "                        <td id=\"T_58565_row3_col9\" class=\"data row3 col9\" >1.53</td>\n",
       "                        <td id=\"T_58565_row3_col10\" class=\"data row3 col10\" >0.80</td>\n",
       "                        <td id=\"T_58565_row3_col11\" class=\"data row3 col11\" >0.26</td>\n",
       "                        <td id=\"T_58565_row3_col12\" class=\"data row3 col12\" >0.67</td>\n",
       "            </tr>\n",
       "            <tr>\n",
       "                        <th id=\"T_58565_level0_row4\" class=\"row_heading level0 row4\" >196</th>\n",
       "                        <td id=\"T_58565_row4_col0\" class=\"data row4 col0\" >-0.43</td>\n",
       "                        <td id=\"T_58565_row4_col1\" class=\"data row4 col1\" >3.02</td>\n",
       "                        <td id=\"T_58565_row4_col2\" class=\"data row4 col2\" >-1.39</td>\n",
       "                        <td id=\"T_58565_row4_col3\" class=\"data row4 col3\" >-0.26</td>\n",
       "                        <td id=\"T_58565_row4_col4\" class=\"data row4 col4\" >-1.32</td>\n",
       "                        <td id=\"T_58565_row4_col5\" class=\"data row4 col5\" >1.40</td>\n",
       "                        <td id=\"T_58565_row4_col6\" class=\"data row4 col6\" >-1.20</td>\n",
       "                        <td id=\"T_58565_row4_col7\" class=\"data row4 col7\" >1.73</td>\n",
       "                        <td id=\"T_58565_row4_col8\" class=\"data row4 col8\" >-0.86</td>\n",
       "                        <td id=\"T_58565_row4_col9\" class=\"data row4 col9\" >-0.45</td>\n",
       "                        <td id=\"T_58565_row4_col10\" class=\"data row4 col10\" >-2.64</td>\n",
       "                        <td id=\"T_58565_row4_col11\" class=\"data row4 col11\" >0.45</td>\n",
       "                        <td id=\"T_58565_row4_col12\" class=\"data row4 col12\" >-1.19</td>\n",
       "            </tr>\n",
       "    </tbody></table>"
      ],
      "text/plain": [
       "<pandas.io.formats.style.Styler at 0x7fca4f616ed0>"
      ]
     },
     "metadata": {},
     "output_type": "display_data"
    }
   ],
   "source": [
    "display(x_train.describe().style.format(\"{0:.2f}\").set_caption(\"Before normalization :\"))\n",
    "\n",
    "mean = x_train.mean()\n",
    "std  = x_train.std()\n",
    "x_train = (x_train - mean) / std\n",
    "x_test  = (x_test  - mean) / std\n",
    "\n",
    "display(x_train.describe().style.format(\"{0:.2f}\").set_caption(\"After normalization :\"))\n",
    "display(x_train.head(5).style.format(\"{0:.2f}\").set_caption(\"Few lines of the dataset :\"))\n",
    "\n",
    "x_train, y_train = np.array(x_train), np.array(y_train)\n",
    "x_test,  y_test  = np.array(x_test),  np.array(y_test)\n"
   ]
  },
  {
   "cell_type": "markdown",
   "metadata": {},
   "source": [
    "## Step 4 - Build a model\n",
    "About informations about : \n",
    " - [Optimizer](https://www.tensorflow.org/api_docs/python/tf/keras/optimizers)\n",
    " - [Activation](https://www.tensorflow.org/api_docs/python/tf/keras/activations)\n",
    " - [Loss](https://www.tensorflow.org/api_docs/python/tf/keras/losses)\n",
    " - [Metrics](https://www.tensorflow.org/api_docs/python/tf/keras/metrics)"
   ]
  },
  {
   "cell_type": "code",
   "execution_count": 6,
   "metadata": {
    "execution": {
     "iopub.execute_input": "2021-01-14T07:11:19.461934Z",
     "iopub.status.busy": "2021-01-14T07:11:19.461612Z",
     "iopub.status.idle": "2021-01-14T07:11:19.464012Z",
     "shell.execute_reply": "2021-01-14T07:11:19.463636Z"
    }
   },
   "outputs": [],
   "source": [
    "  def get_model_v1(shape):\n",
    "    \n",
    "    model = keras.models.Sequential()\n",
    "    model.add(keras.layers.Input(shape, name=\"InputLayer\"))\n",
    "    model.add(keras.layers.Dense(64, activation='relu', name='Dense_n1'))\n",
    "    model.add(keras.layers.Dense(64, activation='relu', name='Dense_n2'))\n",
    "    model.add(keras.layers.Dense(1, name='Output'))\n",
    "    \n",
    "    model.compile(optimizer = 'rmsprop',\n",
    "                  loss      = 'mse',\n",
    "                  metrics   = ['mae', 'mse'] )\n",
    "    return model"
   ]
  },
  {
   "cell_type": "markdown",
   "metadata": {},
   "source": [
    "## Step 5 - Train the model\n",
    "### 5.1 - Get it"
   ]
  },
  {
   "cell_type": "code",
   "execution_count": 7,
   "metadata": {
    "execution": {
     "iopub.execute_input": "2021-01-14T07:11:19.467070Z",
     "iopub.status.busy": "2021-01-14T07:11:19.466743Z",
     "iopub.status.idle": "2021-01-14T07:11:19.524053Z",
     "shell.execute_reply": "2021-01-14T07:11:19.523600Z"
    }
   },
   "outputs": [
    {
     "name": "stdout",
     "output_type": "stream",
     "text": [
      "Model: \"sequential\"\n",
      "_________________________________________________________________\n",
      "Layer (type)                 Output Shape              Param #   \n",
      "=================================================================\n",
      "Dense_n1 (Dense)             (None, 64)                896       \n",
      "_________________________________________________________________\n",
      "Dense_n2 (Dense)             (None, 64)                4160      \n",
      "_________________________________________________________________\n",
      "Output (Dense)               (None, 1)                 65        \n",
      "=================================================================\n",
      "Total params: 5,121\n",
      "Trainable params: 5,121\n",
      "Non-trainable params: 0\n",
      "_________________________________________________________________\n"
     ]
    }
   ],
   "source": [
    "model=get_model_v1( (13,) )\n",
    "\n",
    "model.summary()\n",
    "\n",
    "# img=keras.utils.plot_model( model, to_file='./run/model.png', show_shapes=True, show_layer_names=True, dpi=96)\n",
    "# display(img)"
   ]
  },
  {
   "cell_type": "markdown",
   "metadata": {},
   "source": [
    "### 5.2 - Train it"
   ]
  },
  {
   "cell_type": "code",
   "execution_count": 8,
   "metadata": {
    "execution": {
     "iopub.execute_input": "2021-01-14T07:11:19.527677Z",
     "iopub.status.busy": "2021-01-14T07:11:19.527319Z",
     "iopub.status.idle": "2021-01-14T07:11:27.244568Z",
     "shell.execute_reply": "2021-01-14T07:11:27.244221Z"
    }
   },
   "outputs": [
    {
     "name": "stdout",
     "output_type": "stream",
     "text": [
      "Epoch 1/100\n"
     ]
    },
    {
     "name": "stdout",
     "output_type": "stream",
     "text": [
      "\r",
      " 1/36 [..............................] - ETA: 0s - loss: 407.3206 - mae: 18.8522 - mse: 407.3206"
     ]
    },
    {
     "name": "stdout",
     "output_type": "stream",
     "text": [
      "\b\b\b\b\b\b\b\b\b\b\b\b\b\b\b\b\b\b\b\b\b\b\b\b\b\b\b\b\b\b\b\b\b\b\b\b\b\b\b\b\b\b\b\b\b\b\b\b\b\b\b\b\b\b\b\b\b\b\b\b\b\b\b\b\b\b\b\b\b\b\b\b\b\b\b\b\b\b\b\b\b\b\b\b\b\b\b\b\b\b\b\b\b\b\b\b\r",
      "36/36 [==============================] - 0s 5ms/step - loss: 512.6953 - mae: 20.4214 - mse: 512.6953 - val_loss: 371.6987 - val_mae: 17.6408 - val_mse: 371.6987\n"
     ]
    },
    {
     "name": "stdout",
     "output_type": "stream",
     "text": [
      "Epoch 2/100\n",
      "\r",
      " 1/36 [..............................] - ETA: 0s - loss: 416.8376 - mae: 19.2768 - mse: 416.8376"
     ]
    },
    {
     "name": "stdout",
     "output_type": "stream",
     "text": [
      "\b\b\b\b\b\b\b\b\b\b\b\b\b\b\b\b\b\b\b\b\b\b\b\b\b\b\b\b\b\b\b\b\b\b\b\b\b\b\b\b\b\b\b\b\b\b\b\b\b\b\b\b\b\b\b\b\b\b\b\b\b\b\b\b\b\b\b\b\b\b\b\b\b\b\b\b\b\b\b\b\b\b\b\b\b\b\b\b\b\b\b\b\b\b\b\b\r",
      "36/36 [==============================] - 0s 2ms/step - loss: 288.0607 - mae: 14.3196 - mse: 288.0607 - val_loss: 148.8738 - val_mae: 10.0385 - val_mse: 148.8738\n"
     ]
    },
    {
     "name": "stdout",
     "output_type": "stream",
     "text": [
      "Epoch 3/100\n",
      "\r",
      " 1/36 [..............................] - ETA: 0s - loss: 127.6482 - mae: 9.7656 - mse: 127.6482"
     ]
    },
    {
     "name": "stdout",
     "output_type": "stream",
     "text": [
      "\b\b\b\b\b\b\b\b\b\b\b\b\b\b\b\b\b\b\b\b\b\b\b\b\b\b\b\b\b\b\b\b\b\b\b\b\b\b\b\b\b\b\b\b\b\b\b\b\b\b\b\b\b\b\b\b\b\b\b\b\b\b\b\b\b\b\b\b\b\b\b\b\b\b\b\b\b\b\b\b\b\b\b\b\b\b\b\b\b\b\b\b\b\b\b\r",
      "36/36 [==============================] - 0s 2ms/step - loss: 113.5676 - mae: 7.8054 - mse: 113.5676 - val_loss: 63.2754 - val_mae: 6.2580 - val_mse: 63.2754\n"
     ]
    },
    {
     "name": "stdout",
     "output_type": "stream",
     "text": [
      "Epoch 4/100\n",
      "\r",
      " 1/36 [..............................] - ETA: 0s - loss: 45.3920 - mae: 4.4821 - mse: 45.3920"
     ]
    },
    {
     "name": "stdout",
     "output_type": "stream",
     "text": [
      "\b\b\b\b\b\b\b\b\b\b\b\b\b\b\b\b\b\b\b\b\b\b\b\b\b\b\b\b\b\b\b\b\b\b\b\b\b\b\b\b\b\b\b\b\b\b\b\b\b\b\b\b\b\b\b\b\b\b\b\b\b\b\b\b\b\b\b\b\b\b\b\b\b\b\b\b\b\b\b\b\b\b\b\b\b\b\b\b\b\b\b\b\b\r",
      "36/36 [==============================] - 0s 2ms/step - loss: 59.1808 - mae: 5.4870 - mse: 59.1808 - val_loss: 33.1852 - val_mae: 4.4691 - val_mse: 33.1852\n"
     ]
    },
    {
     "name": "stdout",
     "output_type": "stream",
     "text": [
      "Epoch 5/100\n",
      "\r",
      " 1/36 [..............................] - ETA: 0s - loss: 57.9958 - mae: 5.6935 - mse: 57.9958"
     ]
    },
    {
     "name": "stdout",
     "output_type": "stream",
     "text": [
      "\b\b\b\b\b\b\b\b\b\b\b\b\b\b\b\b\b\b\b\b\b\b\b\b\b\b\b\b\b\b\b\b\b\b\b\b\b\b\b\b\b\b\b\b\b\b\b\b\b\b\b\b\b\b\b\b\b\b\b\b\b\b\b\b\b\b\b\b\b\b\b\b\b\b\b\b\b\b\b\b\b\b\b\b\b\b\b\b\b\b\b\b\b\r",
      "36/36 [==============================] - 0s 2ms/step - loss: 38.4790 - mae: 4.3153 - mse: 38.4790 - val_loss: 22.4361 - val_mae: 3.5836 - val_mse: 22.4361\n"
     ]
    },
    {
     "name": "stdout",
     "output_type": "stream",
     "text": [
      "Epoch 6/100\n",
      "\r",
      " 1/36 [..............................] - ETA: 0s - loss: 69.7640 - mae: 5.7963 - mse: 69.7640"
     ]
    },
    {
     "name": "stdout",
     "output_type": "stream",
     "text": [
      "\b\b\b\b\b\b\b\b\b\b\b\b\b\b\b\b\b\b\b\b\b\b\b\b\b\b\b\b\b\b\b\b\b\b\b\b\b\b\b\b\b\b\b\b\b\b\b\b\b\b\b\b\b\b\b\b\b\b\b\b\b\b\b\b\b\b\b\b\b\b\b\b\b\b\b\b\b\b\b\b\b\b\b\b\b\b\b\b\b\b\b\b\b\r",
      "36/36 [==============================] - 0s 2ms/step - loss: 28.4822 - mae: 3.8363 - mse: 28.4822 - val_loss: 17.4567 - val_mae: 3.0233 - val_mse: 17.4567\n"
     ]
    },
    {
     "name": "stdout",
     "output_type": "stream",
     "text": [
      "Epoch 7/100\n",
      "\r",
      " 1/36 [..............................] - ETA: 0s - loss: 11.3394 - mae: 2.6114 - mse: 11.3394"
     ]
    },
    {
     "name": "stdout",
     "output_type": "stream",
     "text": [
      "\b\b\b\b\b\b\b\b\b\b\b\b\b\b\b\b\b\b\b\b\b\b\b\b\b\b\b\b\b\b\b\b\b\b\b\b\b\b\b\b\b\b\b\b\b\b\b\b\b\b\b\b\b\b\b\b\b\b\b\b\b\b\b\b\b\b\b\b\b\b\b\b\b\b\b\b\b\b\b\b\b\b\b\b\b\b\b\b\b\b\b\b\b\r",
      "36/36 [==============================] - 0s 2ms/step - loss: 23.7231 - mae: 3.4658 - mse: 23.7231 - val_loss: 16.7736 - val_mae: 2.9227 - val_mse: 16.7736\n"
     ]
    },
    {
     "name": "stdout",
     "output_type": "stream",
     "text": [
      "Epoch 8/100\n",
      "\r",
      " 1/36 [..............................] - ETA: 0s - loss: 24.4488 - mae: 3.8661 - mse: 24.4488"
     ]
    },
    {
     "name": "stdout",
     "output_type": "stream",
     "text": [
      "\b\b\b\b\b\b\b\b\b\b\b\b\b\b\b\b\b\b\b\b\b\b\b\b\b\b\b\b\b\b\b\b\b\b\b\b\b\b\b\b\b\b\b\b\b\b\b\b\b\b\b\b\b\b\b\b\b\b\b\b\b\b\b\b\b\b\b\b\b\b\b\b\b\b\b\b\b\b\b\b\b\b\b\b\b\b\b\b\b\b\b\b\b\r",
      "36/36 [==============================] - 0s 2ms/step - loss: 20.6117 - mae: 3.1927 - mse: 20.6117 - val_loss: 16.6082 - val_mae: 2.7662 - val_mse: 16.6082\n"
     ]
    },
    {
     "name": "stdout",
     "output_type": "stream",
     "text": [
      "Epoch 9/100\n",
      "\r",
      " 1/36 [..............................] - ETA: 0s - loss: 14.4122 - mae: 3.1264 - mse: 14.4122"
     ]
    },
    {
     "name": "stdout",
     "output_type": "stream",
     "text": [
      "\b\b\b\b\b\b\b\b\b\b\b\b\b\b\b\b\b\b\b\b\b\b\b\b\b\b\b\b\b\b\b\b\b\b\b\b\b\b\b\b\b\b\b\b\b\b\b\b\b\b\b\b\b\b\b\b\b\b\b\b\b\b\b\b\b\b\b\b\b\b\b\b\b\b\b\b\b\b\b\b\b\b\b\b\b\b\b\b\b\b\b\b\b\r",
      "36/36 [==============================] - 0s 2ms/step - loss: 18.6191 - mae: 3.0232 - mse: 18.6191 - val_loss: 17.2049 - val_mae: 2.7424 - val_mse: 17.2049\n"
     ]
    },
    {
     "name": "stdout",
     "output_type": "stream",
     "text": [
      "Epoch 10/100\n",
      "\r",
      " 1/36 [..............................] - ETA: 0s - loss: 5.4165 - mae: 1.9410 - mse: 5.4165"
     ]
    },
    {
     "name": "stdout",
     "output_type": "stream",
     "text": [
      "\b\b\b\b\b\b\b\b\b\b\b\b\b\b\b\b\b\b\b\b\b\b\b\b\b\b\b\b\b\b\b\b\b\b\b\b\b\b\b\b\b\b\b\b\b\b\b\b\b\b\b\b\b\b\b\b\b\b\b\b\b\b\b\b\b\b\b\b\b\b\b\b\b\b\b\b\b\b\b\b\b\b\b\b\b\b\b\b\b\b\b\r",
      "36/36 [==============================] - 0s 2ms/step - loss: 17.0503 - mae: 2.8785 - mse: 17.0503 - val_loss: 16.6766 - val_mae: 2.6310 - val_mse: 16.6766\n"
     ]
    },
    {
     "name": "stdout",
     "output_type": "stream",
     "text": [
      "Epoch 11/100\n",
      "\r",
      " 1/36 [..............................] - ETA: 0s - loss: 8.4784 - mae: 2.1575 - mse: 8.4784"
     ]
    },
    {
     "name": "stdout",
     "output_type": "stream",
     "text": [
      "\b\b\b\b\b\b\b\b\b\b\b\b\b\b\b\b\b\b\b\b\b\b\b\b\b\b\b\b\b\b\b\b\b\b\b\b\b\b\b\b\b\b\b\b\b\b\b\b\b\b\b\b\b\b\b\b\b\b\b\b\b\b\b\b\b\b\b\b\b\b\b\b\b\b\b\b\b\b\b\b\b\b\b\b\b\b\b\b\b\b\b\r",
      "36/36 [==============================] - 0s 2ms/step - loss: 15.7881 - mae: 2.8371 - mse: 15.7881 - val_loss: 17.9815 - val_mae: 2.7781 - val_mse: 17.9815\n"
     ]
    },
    {
     "name": "stdout",
     "output_type": "stream",
     "text": [
      "Epoch 12/100\n",
      "\r",
      " 1/36 [..............................] - ETA: 0s - loss: 13.8739 - mae: 2.6540 - mse: 13.8739"
     ]
    },
    {
     "name": "stdout",
     "output_type": "stream",
     "text": [
      "\b\b\b\b\b\b\b\b\b\b\b\b\b\b\b\b\b\b\b\b\b\b\b\b\b\b\b\b\b\b\b\b\b\b\b\b\b\b\b\b\b\b\b\b\b\b\b\b\b\b\b\b\b\b\b\b\b\b\b\b\b\b\b\b\b\b\b\b\b\b\b\b\b\b\b\b\b\b\b\b\b\b\b\b\b\b\b\b\b\b\b\b\b\r",
      "36/36 [==============================] - 0s 2ms/step - loss: 14.9784 - mae: 2.6886 - mse: 14.9784 - val_loss: 17.6274 - val_mae: 2.6635 - val_mse: 17.6274\n"
     ]
    },
    {
     "name": "stdout",
     "output_type": "stream",
     "text": [
      "Epoch 13/100\n",
      "\r",
      " 1/36 [..............................] - ETA: 0s - loss: 9.3338 - mae: 2.6182 - mse: 9.3338"
     ]
    },
    {
     "name": "stdout",
     "output_type": "stream",
     "text": [
      "\b\b\b\b\b\b\b\b\b\b\b\b\b\b\b\b\b\b\b\b\b\b\b\b\b\b\b\b\b\b\b\b\b\b\b\b\b\b\b\b\b\b\b\b\b\b\b\b\b\b\b\b\b\b\b\b\b\b\b\b\b\b\b\b\b\b\b\b\b\b\b\b\b\b\b\b\b\b\b\b\b\b\b\b\b\b\b\b\b\b\b\r",
      "36/36 [==============================] - 0s 2ms/step - loss: 14.2906 - mae: 2.6540 - mse: 14.2906 - val_loss: 16.9495 - val_mae: 2.6102 - val_mse: 16.9495\n"
     ]
    },
    {
     "name": "stdout",
     "output_type": "stream",
     "text": [
      "Epoch 14/100\n",
      "\r",
      " 1/36 [..............................] - ETA: 0s - loss: 10.4900 - mae: 2.5056 - mse: 10.4900"
     ]
    },
    {
     "name": "stdout",
     "output_type": "stream",
     "text": [
      "\b\b\b\b\b\b\b\b\b\b\b\b\b\b\b\b\b\b\b\b\b\b\b\b\b\b\b\b\b\b\b\b\b\b\b\b\b\b\b\b\b\b\b\b\b\b\b\b\b\b\b\b\b\b\b\b\b\b\b\b\b\b\b\b\b\b\b\b\b\b\b\b\b\b\b\b\b\b\b\b\b\b\b\b\b\b\b\b\b\b\b\b\b\r",
      "36/36 [==============================] - 0s 2ms/step - loss: 13.5513 - mae: 2.5605 - mse: 13.5513 - val_loss: 17.6257 - val_mae: 2.6396 - val_mse: 17.6257\n"
     ]
    },
    {
     "name": "stdout",
     "output_type": "stream",
     "text": [
      "Epoch 15/100\n",
      "\r",
      " 1/36 [..............................] - ETA: 0s - loss: 10.3618 - mae: 2.4442 - mse: 10.3618"
     ]
    },
    {
     "name": "stdout",
     "output_type": "stream",
     "text": [
      "\b\b\b\b\b\b\b\b\b\b\b\b\b\b\b\b\b\b\b\b\b\b\b\b\b\b\b\b\b\b\b\b\b\b\b\b\b\b\b\b\b\b\b\b\b\b\b\b\b\b\b\b\b\b\b\b\b\b\b\b\b\b\b\b\b\b\b\b\b\b\b\b\b\b\b\b\b\b\b\b\b\b\b\b\b\b\b\b\b\b\b\b\b\r",
      "36/36 [==============================] - 0s 2ms/step - loss: 12.7591 - mae: 2.5359 - mse: 12.7591 - val_loss: 16.8116 - val_mae: 2.6863 - val_mse: 16.8116\n"
     ]
    },
    {
     "name": "stdout",
     "output_type": "stream",
     "text": [
      "Epoch 16/100\n",
      "\r",
      " 1/36 [..............................] - ETA: 0s - loss: 12.4388 - mae: 2.4520 - mse: 12.4388"
     ]
    },
    {
     "name": "stdout",
     "output_type": "stream",
     "text": [
      "\b\b\b\b\b\b\b\b\b\b\b\b\b\b\b\b\b\b\b\b\b\b\b\b\b\b\b\b\b\b\b\b\b\b\b\b\b\b\b\b\b\b\b\b\b\b\b\b\b\b\b\b\b\b\b\b\b\b\b\b\b\b\b\b\b\b\b\b\b\b\b\b\b\b\b\b\b\b\b\b\b\b\b\b\b\b\b\b\b\b\b\b\b\r",
      "36/36 [==============================] - 0s 2ms/step - loss: 12.4915 - mae: 2.4515 - mse: 12.4915 - val_loss: 16.9179 - val_mae: 2.5154 - val_mse: 16.9179\n"
     ]
    },
    {
     "name": "stdout",
     "output_type": "stream",
     "text": [
      "Epoch 17/100\n",
      "\r",
      " 1/36 [..............................] - ETA: 0s - loss: 9.0083 - mae: 2.2781 - mse: 9.0083"
     ]
    },
    {
     "name": "stdout",
     "output_type": "stream",
     "text": [
      "\b\b\b\b\b\b\b\b\b\b\b\b\b\b\b\b\b\b\b\b\b\b\b\b\b\b\b\b\b\b\b\b\b\b\b\b\b\b\b\b\b\b\b\b\b\b\b\b\b\b\b\b\b\b\b\b\b\b\b\b\b\b\b\b\b\b\b\b\b\b\b\b\b\b\b\b\b\b\b\b\b\b\b\b\b\b\b\b\b\b\b\r",
      "36/36 [==============================] - 0s 2ms/step - loss: 12.1468 - mae: 2.4788 - mse: 12.1468 - val_loss: 16.8544 - val_mae: 2.5007 - val_mse: 16.8544\n"
     ]
    },
    {
     "name": "stdout",
     "output_type": "stream",
     "text": [
      "Epoch 18/100\n",
      "\r",
      " 1/36 [..............................] - ETA: 0s - loss: 7.3079 - mae: 2.0934 - mse: 7.3079"
     ]
    },
    {
     "name": "stdout",
     "output_type": "stream",
     "text": [
      "\b\b\b\b\b\b\b\b\b\b\b\b\b\b\b\b\b\b\b\b\b\b\b\b\b\b\b\b\b\b\b\b\b\b\b\b\b\b\b\b\b\b\b\b\b\b\b\b\b\b\b\b\b\b\b\b\b\b\b\b\b\b\b\b\b\b\b\b\b\b\b\b\b\b\b\b\b\b\b\b\b\b\b\b\b\b\b\b\b\b\b\r",
      "36/36 [==============================] - 0s 2ms/step - loss: 11.8557 - mae: 2.3900 - mse: 11.8557 - val_loss: 18.2582 - val_mae: 2.6944 - val_mse: 18.2582\n"
     ]
    },
    {
     "name": "stdout",
     "output_type": "stream",
     "text": [
      "Epoch 19/100\n",
      "\r",
      " 1/36 [..............................] - ETA: 0s - loss: 7.2752 - mae: 2.0977 - mse: 7.2752"
     ]
    },
    {
     "name": "stdout",
     "output_type": "stream",
     "text": [
      "\b\b\b\b\b\b\b\b\b\b\b\b\b\b\b\b\b\b\b\b\b\b\b\b\b\b\b\b\b\b\b\b\b\b\b\b\b\b\b\b\b\b\b\b\b\b\b\b\b\b\b\b\b\b\b\b\b\b\b\b\b\b\b\b\b\b\b\b\b\b\b\b\b\b\b\b\b\b\b\b\b\b\b\b\b\b\b\b\b\b\b\r",
      "36/36 [==============================] - 0s 2ms/step - loss: 11.5226 - mae: 2.3760 - mse: 11.5226 - val_loss: 17.4870 - val_mae: 2.5315 - val_mse: 17.4870\n"
     ]
    },
    {
     "name": "stdout",
     "output_type": "stream",
     "text": [
      "Epoch 20/100\n",
      "\r",
      " 1/36 [..............................] - ETA: 0s - loss: 12.8938 - mae: 3.0963 - mse: 12.8938"
     ]
    },
    {
     "name": "stdout",
     "output_type": "stream",
     "text": [
      "\b\b\b\b\b\b\b\b\b\b\b\b\b\b\b\b\b\b\b\b\b\b\b\b\b\b\b\b\b\b\b\b\b\b\b\b\b\b\b\b\b\b\b\b\b\b\b\b\b\b\b\b\b\b\b\b\b\b\b\b\b\b\b\b\b\b\b\b\b\b\b\b\b\b\b\b\b\b\b\b\b\b\b\b\b\b\b\b\b\b\b\b\b\r",
      "36/36 [==============================] - 0s 2ms/step - loss: 11.0516 - mae: 2.3540 - mse: 11.0516 - val_loss: 15.7856 - val_mae: 2.4997 - val_mse: 15.7856\n"
     ]
    },
    {
     "name": "stdout",
     "output_type": "stream",
     "text": [
      "Epoch 21/100\n",
      "\r",
      " 1/36 [..............................] - ETA: 0s - loss: 8.5917 - mae: 1.7147 - mse: 8.5917"
     ]
    },
    {
     "name": "stdout",
     "output_type": "stream",
     "text": [
      "\b\b\b\b\b\b\b\b\b\b\b\b\b\b\b\b\b\b\b\b\b\b\b\b\b\b\b\b\b\b\b\b\b\b\b\b\b\b\b\b\b\b\b\b\b\b\b\b\b\b\b\b\b\b\b\b\b\b\b\b\b\b\b\b\b\b\b\b\b\b\b\b\b\b\b\b\b\b\b\b\b\b\b\b\b\b\b\b\b\b\b\r",
      "36/36 [==============================] - 0s 2ms/step - loss: 11.0540 - mae: 2.3189 - mse: 11.0540 - val_loss: 15.8711 - val_mae: 2.4711 - val_mse: 15.8711\n"
     ]
    },
    {
     "name": "stdout",
     "output_type": "stream",
     "text": [
      "Epoch 22/100\n",
      "\r",
      " 1/36 [..............................] - ETA: 0s - loss: 5.7946 - mae: 1.9941 - mse: 5.7946"
     ]
    },
    {
     "name": "stdout",
     "output_type": "stream",
     "text": [
      "\b\b\b\b\b\b\b\b\b\b\b\b\b\b\b\b\b\b\b\b\b\b\b\b\b\b\b\b\b\b\b\b\b\b\b\b\b\b\b\b\b\b\b\b\b\b\b\b\b\b\b\b\b\b\b\b\b\b\b\b\b\b\b\b\b\b\b\b\b\b\b\b\b\b\b\b\b\b\b\b\b\b\b\b\b\b\b\b\b\b\b\r",
      "36/36 [==============================] - 0s 2ms/step - loss: 10.9296 - mae: 2.2981 - mse: 10.9296 - val_loss: 15.5044 - val_mae: 2.4868 - val_mse: 15.5044\n"
     ]
    },
    {
     "name": "stdout",
     "output_type": "stream",
     "text": [
      "Epoch 23/100\n",
      "\r",
      " 1/36 [..............................] - ETA: 0s - loss: 27.7916 - mae: 3.7462 - mse: 27.7916"
     ]
    },
    {
     "name": "stdout",
     "output_type": "stream",
     "text": [
      "\b\b\b\b\b\b\b\b\b\b\b\b\b\b\b\b\b\b\b\b\b\b\b\b\b\b\b\b\b\b\b\b\b\b\b\b\b\b\b\b\b\b\b\b\b\b\b\b\b\b\b\b\b\b\b\b\b\b\b\b\b\b\b\b\b\b\b\b\b\b\b\b\b\b\b\b\b\b\b\b\b\b\b\b\b\b\b\b\b\b\b\b\b\r",
      "36/36 [==============================] - 0s 2ms/step - loss: 10.7570 - mae: 2.2583 - mse: 10.7570 - val_loss: 16.8619 - val_mae: 2.4752 - val_mse: 16.8619\n"
     ]
    },
    {
     "name": "stdout",
     "output_type": "stream",
     "text": [
      "Epoch 24/100\n",
      "\r",
      " 1/36 [..............................] - ETA: 0s - loss: 5.5477 - mae: 1.8999 - mse: 5.5477"
     ]
    },
    {
     "name": "stdout",
     "output_type": "stream",
     "text": [
      "\b\b\b\b\b\b\b\b\b\b\b\b\b\b\b\b\b\b\b\b\b\b\b\b\b\b\b\b\b\b\b\b\b\b\b\b\b\b\b\b\b\b\b\b\b\b\b\b\b\b\b\b\b\b\b\b\b\b\b\b\b\b\b\b\b\b\b\b\b\b\b\b\b\b\b\b\b\b\b\b\b\b\b\b\b\b\b\b\b\b\b\r",
      "36/36 [==============================] - 0s 2ms/step - loss: 10.5309 - mae: 2.1914 - mse: 10.5309 - val_loss: 18.0421 - val_mae: 2.5139 - val_mse: 18.0421\n"
     ]
    },
    {
     "name": "stdout",
     "output_type": "stream",
     "text": [
      "Epoch 25/100\n",
      "\r",
      " 1/36 [..............................] - ETA: 0s - loss: 3.8592 - mae: 1.6594 - mse: 3.8592"
     ]
    },
    {
     "name": "stdout",
     "output_type": "stream",
     "text": [
      "\b\b\b\b\b\b\b\b\b\b\b\b\b\b\b\b\b\b\b\b\b\b\b\b\b\b\b\b\b\b\b\b\b\b\b\b\b\b\b\b\b\b\b\b\b\b\b\b\b\b\b\b\b\b\b\b\b\b\b\b\b\b\b\b\b\b\b\b\b\b\b\b\b\b\b\b\b\b\b\b\b\b\b\b\b\b\b\b\b\b\b\r",
      "36/36 [==============================] - 0s 2ms/step - loss: 10.2207 - mae: 2.2299 - mse: 10.2207 - val_loss: 15.7059 - val_mae: 2.4589 - val_mse: 15.7059\n"
     ]
    },
    {
     "name": "stdout",
     "output_type": "stream",
     "text": [
      "Epoch 26/100\n",
      "\r",
      " 1/36 [..............................] - ETA: 0s - loss: 24.1743 - mae: 3.4121 - mse: 24.1743"
     ]
    },
    {
     "name": "stdout",
     "output_type": "stream",
     "text": [
      "\b\b\b\b\b\b\b\b\b\b\b\b\b\b\b\b\b\b\b\b\b\b\b\b\b\b\b\b\b\b\b\b\b\b\b\b\b\b\b\b\b\b\b\b\b\b\b\b\b\b\b\b\b\b\b\b\b\b\b\b\b\b\b\b\b\b\b\b\b\b\b\b\b\b\b\b\b\b\b\b\b\b\b\b\b\b\b\b\b\b\b\b\b\r",
      "36/36 [==============================] - 0s 2ms/step - loss: 10.2164 - mae: 2.2412 - mse: 10.2164 - val_loss: 17.6199 - val_mae: 2.5253 - val_mse: 17.6199\n"
     ]
    },
    {
     "name": "stdout",
     "output_type": "stream",
     "text": [
      "Epoch 27/100\n",
      "\r",
      " 1/36 [..............................] - ETA: 0s - loss: 7.3696 - mae: 2.0420 - mse: 7.3696"
     ]
    },
    {
     "name": "stdout",
     "output_type": "stream",
     "text": [
      "\b\b\b\b\b\b\b\b\b\b\b\b\b\b\b\b\b\b\b\b\b\b\b\b\b\b\b\b\b\b\b\b\b\b\b\b\b\b\b\b\b\b\b\b\b\b\b\b\b\b\b\b\b\b\b\b\b\b\b\b\b\b\b\b\b\b\b\b\b\b\b\b\b\b\b\b\b\b\b\b\b\b\b\b\b\b\b\b\b\b\b\r",
      "36/36 [==============================] - 0s 2ms/step - loss: 9.7297 - mae: 2.1741 - mse: 9.7297 - val_loss: 16.4737 - val_mae: 2.4798 - val_mse: 16.4737\n"
     ]
    },
    {
     "name": "stdout",
     "output_type": "stream",
     "text": [
      "Epoch 28/100\n",
      "\r",
      " 1/36 [..............................] - ETA: 0s - loss: 2.2318 - mae: 1.1947 - mse: 2.2318"
     ]
    },
    {
     "name": "stdout",
     "output_type": "stream",
     "text": [
      "\b\b\b\b\b\b\b\b\b\b\b\b\b\b\b\b\b\b\b\b\b\b\b\b\b\b\b\b\b\b\b\b\b\b\b\b\b\b\b\b\b\b\b\b\b\b\b\b\b\b\b\b\b\b\b\b\b\b\b\b\b\b\b\b\b\b\b\b\b\b\b\b\b\b\b\b\b\b\b\b\b\b\b\b\b\b\b\b\b\b\b\r",
      "36/36 [==============================] - 0s 2ms/step - loss: 9.8063 - mae: 2.1716 - mse: 9.8063 - val_loss: 15.2677 - val_mae: 2.4739 - val_mse: 15.2677\n"
     ]
    },
    {
     "name": "stdout",
     "output_type": "stream",
     "text": [
      "Epoch 29/100\n",
      "\r",
      " 1/36 [..............................] - ETA: 0s - loss: 22.2630 - mae: 3.0200 - mse: 22.2630"
     ]
    },
    {
     "name": "stdout",
     "output_type": "stream",
     "text": [
      "\b\b\b\b\b\b\b\b\b\b\b\b\b\b\b\b\b\b\b\b\b\b\b\b\b\b\b\b\b\b\b\b\b\b\b\b\b\b\b\b\b\b\b\b\b\b\b\b\b\b\b\b\b\b\b\b\b\b\b\b\b\b\b\b\b\b\b\b\b\b\b\b\b\b\b\b\b\b\b\b\b\b\b\b\b\b\b\b\b\b\b\b\b\r",
      "36/36 [==============================] - 0s 2ms/step - loss: 9.6612 - mae: 2.1797 - mse: 9.6612 - val_loss: 14.1823 - val_mae: 2.4188 - val_mse: 14.1823\n"
     ]
    },
    {
     "name": "stdout",
     "output_type": "stream",
     "text": [
      "Epoch 30/100\n",
      "\r",
      " 1/36 [..............................] - ETA: 0s - loss: 22.5960 - mae: 3.0913 - mse: 22.5960"
     ]
    },
    {
     "name": "stdout",
     "output_type": "stream",
     "text": [
      "\b\b\b\b\b\b\b\b\b\b\b\b\b\b\b\b\b\b\b\b\b\b\b\b\b\b\b\b\b\b\b\b\b\b\b\b\b\b\b\b\b\b\b\b\b\b\b\b\b\b\b\b\b\b\b\b\b\b\b\b\b\b\b\b\b\b\b\b\b\b\b\b\b\b\b\b\b\b\b\b\b\b\b\b\b\b\b\b\b\b\b\b\b\r",
      "36/36 [==============================] - 0s 2ms/step - loss: 9.6477 - mae: 2.1720 - mse: 9.6477 - val_loss: 15.4119 - val_mae: 2.4218 - val_mse: 15.4119\n"
     ]
    },
    {
     "name": "stdout",
     "output_type": "stream",
     "text": [
      "Epoch 31/100\n",
      "\r",
      " 1/36 [..............................] - ETA: 0s - loss: 4.5775 - mae: 1.8271 - mse: 4.5775"
     ]
    },
    {
     "name": "stdout",
     "output_type": "stream",
     "text": [
      "\b\b\b\b\b\b\b\b\b\b\b\b\b\b\b\b\b\b\b\b\b\b\b\b\b\b\b\b\b\b\b\b\b\b\b\b\b\b\b\b\b\b\b\b\b\b\b\b\b\b\b\b\b\b\b\b\b\b\b\b\b\b\b\b\b\b\b\b\b\b\b\b\b\b\b\b\b\b\b\b\b\b\b\b\b\b\b\b\b\b\b\r",
      "36/36 [==============================] - 0s 2ms/step - loss: 9.3244 - mae: 2.1315 - mse: 9.3244 - val_loss: 15.6595 - val_mae: 2.4155 - val_mse: 15.6595\n"
     ]
    },
    {
     "name": "stdout",
     "output_type": "stream",
     "text": [
      "Epoch 32/100\n",
      "\r",
      " 1/36 [..............................] - ETA: 0s - loss: 5.1524 - mae: 1.8350 - mse: 5.1524"
     ]
    },
    {
     "name": "stdout",
     "output_type": "stream",
     "text": [
      "\b\b\b\b\b\b\b\b\b\b\b\b\b\b\b\b\b\b\b\b\b\b\b\b\b\b\b\b\b\b\b\b\b\b\b\b\b\b\b\b\b\b\b\b\b\b\b\b\b\b\b\b\b\b\b\b\b\b\b\b\b\b\b\b\b\b\b\b\b\b\b\b\b\b\b\b\b\b\b\b\b\b\b\b\b\b\b\b\b\b\b\r",
      "36/36 [==============================] - 0s 2ms/step - loss: 9.2568 - mae: 2.1106 - mse: 9.2568 - val_loss: 14.5170 - val_mae: 2.5860 - val_mse: 14.5170\n"
     ]
    },
    {
     "name": "stdout",
     "output_type": "stream",
     "text": [
      "Epoch 33/100\n",
      "\r",
      " 1/36 [..............................] - ETA: 0s - loss: 15.8990 - mae: 2.7259 - mse: 15.8990"
     ]
    },
    {
     "name": "stdout",
     "output_type": "stream",
     "text": [
      "\b\b\b\b\b\b\b\b\b\b\b\b\b\b\b\b\b\b\b\b\b\b\b\b\b\b\b\b\b\b\b\b\b\b\b\b\b\b\b\b\b\b\b\b\b\b\b\b\b\b\b\b\b\b\b\b\b\b\b\b\b\b\b\b\b\b\b\b\b\b\b\b\b\b\b\b\b\b\b\b\b\b\b\b\b\b\b\b\b\b\b\b\b\r",
      "36/36 [==============================] - 0s 2ms/step - loss: 9.3815 - mae: 2.1274 - mse: 9.3815 - val_loss: 15.3208 - val_mae: 2.4046 - val_mse: 15.3208\n"
     ]
    },
    {
     "name": "stdout",
     "output_type": "stream",
     "text": [
      "Epoch 34/100\n",
      "\r",
      " 1/36 [..............................] - ETA: 0s - loss: 25.0873 - mae: 3.0151 - mse: 25.0873"
     ]
    },
    {
     "name": "stdout",
     "output_type": "stream",
     "text": [
      "\b\b\b\b\b\b\b\b\b\b\b\b\b\b\b\b\b\b\b\b\b\b\b\b\b\b\b\b\b\b\b\b\b\b\b\b\b\b\b\b\b\b\b\b\b\b\b\b\b\b\b\b\b\b\b\b\b\b\b\b\b\b\b\b\b\b\b\b\b\b\b\b\b\b\b\b\b\b\b\b\b\b\b\b\b\b\b\b\b\b\b\b\b\r",
      "36/36 [==============================] - 0s 2ms/step - loss: 8.8580 - mae: 2.1207 - mse: 8.8580 - val_loss: 14.9003 - val_mae: 2.4407 - val_mse: 14.9003\n"
     ]
    },
    {
     "name": "stdout",
     "output_type": "stream",
     "text": [
      "Epoch 35/100\n",
      "\r",
      " 1/36 [..............................] - ETA: 0s - loss: 47.2871 - mae: 3.2998 - mse: 47.2871"
     ]
    },
    {
     "name": "stdout",
     "output_type": "stream",
     "text": [
      "\b\b\b\b\b\b\b\b\b\b\b\b\b\b\b\b\b\b\b\b\b\b\b\b\b\b\b\b\b\b\b\b\b\b\b\b\b\b\b\b\b\b\b\b\b\b\b\b\b\b\b\b\b\b\b\b\b\b\b\b\b\b\b\b\b\b\b\b\b\b\b\b\b\b\b\b\b\b\b\b\b\b\b\b\b\b\b\b\b\b\b\b\b\r",
      "36/36 [==============================] - 0s 2ms/step - loss: 8.9432 - mae: 2.0632 - mse: 8.9432 - val_loss: 16.1420 - val_mae: 2.4350 - val_mse: 16.1420\n"
     ]
    },
    {
     "name": "stdout",
     "output_type": "stream",
     "text": [
      "Epoch 36/100\n",
      "\r",
      " 1/36 [..............................] - ETA: 0s - loss: 7.4445 - mae: 2.1548 - mse: 7.4445"
     ]
    },
    {
     "name": "stdout",
     "output_type": "stream",
     "text": [
      "\b\b\b\b\b\b\b\b\b\b\b\b\b\b\b\b\b\b\b\b\b\b\b\b\b\b\b\b\b\b\b\b\b\b\b\b\b\b\b\b\b\b\b\b\b\b\b\b\b\b\b\b\b\b\b\b\b\b\b\b\b\b\b\b\b\b\b\b\b\b\b\b\b\b\b\b\b\b\b\b\b\b\b\b\b\b\b\b\b\b\b\r",
      "36/36 [==============================] - 0s 2ms/step - loss: 8.6326 - mae: 2.0683 - mse: 8.6326 - val_loss: 14.2267 - val_mae: 2.4698 - val_mse: 14.2267\n"
     ]
    },
    {
     "name": "stdout",
     "output_type": "stream",
     "text": [
      "Epoch 37/100\n",
      "\r",
      " 1/36 [..............................] - ETA: 0s - loss: 7.3137 - mae: 2.2289 - mse: 7.3137"
     ]
    },
    {
     "name": "stdout",
     "output_type": "stream",
     "text": [
      "\b\b\b\b\b\b\b\b\b\b\b\b\b\b\b\b\b\b\b\b\b\b\b\b\b\b\b\b\b\b\b\b\b\b\b\b\b\b\b\b\b\b\b\b\b\b\b\b\b\b\b\b\b\b\b\b\b\b\b\b\b\b\b\b\b\b\b\b\b\b\b\b\b\b\b\b\b\b\b\b\b\b\b\b\b\b\b\b\b\b\b\r",
      "36/36 [==============================] - 0s 2ms/step - loss: 8.7341 - mae: 2.0698 - mse: 8.7341 - val_loss: 14.6117 - val_mae: 2.4487 - val_mse: 14.6117\n"
     ]
    },
    {
     "name": "stdout",
     "output_type": "stream",
     "text": [
      "Epoch 38/100\n",
      "\r",
      " 1/36 [..............................] - ETA: 0s - loss: 7.0914 - mae: 2.0325 - mse: 7.0914"
     ]
    },
    {
     "name": "stdout",
     "output_type": "stream",
     "text": [
      "\b\b\b\b\b\b\b\b\b\b\b\b\b\b\b\b\b\b\b\b\b\b\b\b\b\b\b\b\b\b\b\b\b\b\b\b\b\b\b\b\b\b\b\b\b\b\b\b\b\b\b\b\b\b\b\b\b\b\b\b\b\b\b\b\b\b\b\b\b\b\b\b\b\b\b\b\b\b\b\b\b\b\b\b\b\b\b\b\b\b\b\r",
      "36/36 [==============================] - 0s 2ms/step - loss: 8.6943 - mae: 2.0261 - mse: 8.6943 - val_loss: 15.2316 - val_mae: 2.5800 - val_mse: 15.2316\n"
     ]
    },
    {
     "name": "stdout",
     "output_type": "stream",
     "text": [
      "Epoch 39/100\n",
      "\r",
      " 1/36 [..............................] - ETA: 0s - loss: 3.2764 - mae: 1.5102 - mse: 3.2764"
     ]
    },
    {
     "name": "stdout",
     "output_type": "stream",
     "text": [
      "\b\b\b\b\b\b\b\b\b\b\b\b\b\b\b\b\b\b\b\b\b\b\b\b\b\b\b\b\b\b\b\b\b\b\b\b\b\b\b\b\b\b\b\b\b\b\b\b\b\b\b\b\b\b\b\b\b\b\b\b\b\b\b\b\b\b\b\b\b\b\b\b\b\b\b\b\b\b\b\b\b\b\b\b\b\b\b\b\b\b\b\r",
      "36/36 [==============================] - 0s 2ms/step - loss: 8.5876 - mae: 2.0295 - mse: 8.5876 - val_loss: 18.0986 - val_mae: 2.6038 - val_mse: 18.0986\n"
     ]
    },
    {
     "name": "stdout",
     "output_type": "stream",
     "text": [
      "Epoch 40/100\n",
      "\r",
      " 1/36 [..............................] - ETA: 0s - loss: 5.7968 - mae: 2.1062 - mse: 5.7968"
     ]
    },
    {
     "name": "stdout",
     "output_type": "stream",
     "text": [
      "\b\b\b\b\b\b\b\b\b\b\b\b\b\b\b\b\b\b\b\b\b\b\b\b\b\b\b\b\b\b\b\b\b\b\b\b\b\b\b\b\b\b\b\b\b\b\b\b\b\b\b\b\b\b\b\b\b\b\b\b\b\b\b\b\b\b\b\b\b\b\b\b\b\b\b\b\b\b\b\b\b\b\b\b\b\b\b\b\b\b\b\r",
      "36/36 [==============================] - 0s 3ms/step - loss: 8.5341 - mae: 2.0621 - mse: 8.5341 - val_loss: 13.5799 - val_mae: 2.4364 - val_mse: 13.5799\n"
     ]
    },
    {
     "name": "stdout",
     "output_type": "stream",
     "text": [
      "Epoch 41/100\n",
      "\r",
      " 1/36 [..............................] - ETA: 0s - loss: 20.1664 - mae: 3.0291 - mse: 20.1664"
     ]
    },
    {
     "name": "stdout",
     "output_type": "stream",
     "text": [
      "\b\b\b\b\b\b\b\b\b\b\b\b\b\b\b\b\b\b\b\b\b\b\b\b\b\b\b\b\b\b\b\b\b\b\b\b\b\b\b\b\b\b\b\b\b\b\b\b\b\b\b\b\b\b\b\b\b\b\b\b\b\b\b\b\b\b\b\b\b\b\b\b\b\b\b\b\b\b\b\b\b\b\b\b\b\b\b\b\b\b\b\b\b\r",
      "36/36 [==============================] - 0s 2ms/step - loss: 8.3663 - mae: 1.9890 - mse: 8.3663 - val_loss: 16.7243 - val_mae: 2.6952 - val_mse: 16.7243\n"
     ]
    },
    {
     "name": "stdout",
     "output_type": "stream",
     "text": [
      "Epoch 42/100\n",
      "\r",
      " 1/36 [..............................] - ETA: 0s - loss: 7.1991 - mae: 2.2748 - mse: 7.1991"
     ]
    },
    {
     "name": "stdout",
     "output_type": "stream",
     "text": [
      "\b\b\b\b\b\b\b\b\b\b\b\b\b\b\b\b\b\b\b\b\b\b\b\b\b\b\b\b\b\b\b\b\b\b\b\b\b\b\b\b\b\b\b\b\b\b\b\b\b\b\b\b\b\b\b\b\b\b\b\b\b\b\b\b\b\b\b\b\b\b\b\b\b\b\b\b\b\b\b\b\b\b\b\b\b\b\b\b\b\b\b\r",
      "36/36 [==============================] - 0s 2ms/step - loss: 8.2688 - mae: 2.0357 - mse: 8.2688 - val_loss: 14.7858 - val_mae: 2.3847 - val_mse: 14.7858\n"
     ]
    },
    {
     "name": "stdout",
     "output_type": "stream",
     "text": [
      "Epoch 43/100\n",
      "\r",
      " 1/36 [..............................] - ETA: 0s - loss: 1.8338 - mae: 1.0660 - mse: 1.8338"
     ]
    },
    {
     "name": "stdout",
     "output_type": "stream",
     "text": [
      "\b\b\b\b\b\b\b\b\b\b\b\b\b\b\b\b\b\b\b\b\b\b\b\b\b\b\b\b\b\b\b\b\b\b\b\b\b\b\b\b\b\b\b\b\b\b\b\b\b\b\b\b\b\b\b\b\b\b\b\b\b\b\b\b\b\b\b\b\b\b\b\b\b\b\b\b\b\b\b\b\b\b\b\b\b\b\b\b\b\b\b\r",
      "36/36 [==============================] - 0s 2ms/step - loss: 8.1713 - mae: 1.9501 - mse: 8.1713 - val_loss: 13.9294 - val_mae: 2.3886 - val_mse: 13.9294\n"
     ]
    },
    {
     "name": "stdout",
     "output_type": "stream",
     "text": [
      "Epoch 44/100\n",
      "\r",
      " 1/36 [..............................] - ETA: 0s - loss: 3.2799 - mae: 1.3167 - mse: 3.2799"
     ]
    },
    {
     "name": "stdout",
     "output_type": "stream",
     "text": [
      "\b\b\b\b\b\b\b\b\b\b\b\b\b\b\b\b\b\b\b\b\b\b\b\b\b\b\b\b\b\b\b\b\b\b\b\b\b\b\b\b\b\b\b\b\b\b\b\b\b\b\b\b\b\b\b\b\b\b\b\b\b\b\b\b\b\b\b\b\b\b\b\b\b\b\b\b\b\b\b\b\b\b\b\b\b\b\b\b\b\b\b\r",
      "36/36 [==============================] - 0s 2ms/step - loss: 8.0837 - mae: 1.9946 - mse: 8.0837 - val_loss: 15.0571 - val_mae: 2.3772 - val_mse: 15.0571\n"
     ]
    },
    {
     "name": "stdout",
     "output_type": "stream",
     "text": [
      "Epoch 45/100\n",
      "\r",
      " 1/36 [..............................] - ETA: 0s - loss: 12.0710 - mae: 2.5895 - mse: 12.0710"
     ]
    },
    {
     "name": "stdout",
     "output_type": "stream",
     "text": [
      "\b\b\b\b\b\b\b\b\b\b\b\b\b\b\b\b\b\b\b\b\b\b\b\b\b\b\b\b\b\b\b\b\b\b\b\b\b\b\b\b\b\b\b\b\b\b\b\b\b\b\b\b\b\b\b\b\b\b\b\b\b\b\b\b\b\b\b\b\b\b\b\b\b\b\b\b\b\b\b\b\b\b\b\b\b\b\b\b\b\b\b\b\b\r",
      "36/36 [==============================] - 0s 2ms/step - loss: 7.8297 - mae: 1.9675 - mse: 7.8297 - val_loss: 14.4700 - val_mae: 2.4497 - val_mse: 14.4700\n"
     ]
    },
    {
     "name": "stdout",
     "output_type": "stream",
     "text": [
      "Epoch 46/100\n",
      "\r",
      " 1/36 [..............................] - ETA: 0s - loss: 8.6554 - mae: 1.7192 - mse: 8.6554"
     ]
    },
    {
     "name": "stdout",
     "output_type": "stream",
     "text": [
      "\b\b\b\b\b\b\b\b\b\b\b\b\b\b\b\b\b\b\b\b\b\b\b\b\b\b\b\b\b\b\b\b\b\b\b\b\b\b\b\b\b\b\b\b\b\b\b\b\b\b\b\b\b\b\b\b\b\b\b\b\b\b\b\b\b\b\b\b\b\b\b\b\b\b\b\b\b\b\b\b\b\b\b\b\b\b\b\b\b\b\b\r",
      "36/36 [==============================] - 0s 2ms/step - loss: 7.8721 - mae: 1.9562 - mse: 7.8721 - val_loss: 15.6275 - val_mae: 2.5021 - val_mse: 15.6275\n"
     ]
    },
    {
     "name": "stdout",
     "output_type": "stream",
     "text": [
      "Epoch 47/100\n",
      "\r",
      " 1/36 [..............................] - ETA: 0s - loss: 6.6549 - mae: 1.7788 - mse: 6.6549"
     ]
    },
    {
     "name": "stdout",
     "output_type": "stream",
     "text": [
      "\b\b\b\b\b\b\b\b\b\b\b\b\b\b\b\b\b\b\b\b\b\b\b\b\b\b\b\b\b\b\b\b\b\b\b\b\b\b\b\b\b\b\b\b\b\b\b\b\b\b\b\b\b\b\b\b\b\b\b\b\b\b\b\b\b\b\b\b\b\b\b\b\b\b\b\b\b\b\b\b\b\b\b\b\b\b\b\b\b\b\b\r",
      "36/36 [==============================] - 0s 2ms/step - loss: 7.8012 - mae: 1.9234 - mse: 7.8012 - val_loss: 15.4175 - val_mae: 2.4128 - val_mse: 15.4175\n"
     ]
    },
    {
     "name": "stdout",
     "output_type": "stream",
     "text": [
      "Epoch 48/100\n",
      "\r",
      " 1/36 [..............................] - ETA: 0s - loss: 4.4386 - mae: 1.6254 - mse: 4.4386"
     ]
    },
    {
     "name": "stdout",
     "output_type": "stream",
     "text": [
      "\b\b\b\b\b\b\b\b\b\b\b\b\b\b\b\b\b\b\b\b\b\b\b\b\b\b\b\b\b\b\b\b\b\b\b\b\b\b\b\b\b\b\b\b\b\b\b\b\b\b\b\b\b\b\b\b\b\b\b\b\b\b\b\b\b\b\b\b\b\b\b\b\b\b\b\b\b\b\b\b\b\b\b\b\b\b\b\b\b\b\b\r",
      "36/36 [==============================] - 0s 2ms/step - loss: 7.6501 - mae: 1.9264 - mse: 7.6501 - val_loss: 13.8509 - val_mae: 2.4258 - val_mse: 13.8509\n"
     ]
    },
    {
     "name": "stdout",
     "output_type": "stream",
     "text": [
      "Epoch 49/100\n",
      "\r",
      " 1/36 [..............................] - ETA: 0s - loss: 3.6743 - mae: 1.6323 - mse: 3.6743"
     ]
    },
    {
     "name": "stdout",
     "output_type": "stream",
     "text": [
      "\b\b\b\b\b\b\b\b\b\b\b\b\b\b\b\b\b\b\b\b\b\b\b\b\b\b\b\b\b\b\b\b\b\b\b\b\b\b\b\b\b\b\b\b\b\b\b\b\b\b\b\b\b\b\b\b\b\b\b\b\b\b\b\b\b\b\b\b\b\b\b\b\b\b\b\b\b\b\b\b\b\b\b\b\b\b\b\b\b\b\b\r",
      "36/36 [==============================] - 0s 2ms/step - loss: 7.6558 - mae: 1.9328 - mse: 7.6558 - val_loss: 14.5430 - val_mae: 2.4151 - val_mse: 14.5430\n"
     ]
    },
    {
     "name": "stdout",
     "output_type": "stream",
     "text": [
      "Epoch 50/100\n",
      "\r",
      " 1/36 [..............................] - ETA: 0s - loss: 3.6029 - mae: 1.5487 - mse: 3.6029"
     ]
    },
    {
     "name": "stdout",
     "output_type": "stream",
     "text": [
      "\b\b\b\b\b\b\b\b\b\b\b\b\b\b\b\b\b\b\b\b\b\b\b\b\b\b\b\b\b\b\b\b\b\b\b\b\b\b\b\b\b\b\b\b\b\b\b\b\b\b\b\b\b\b\b\b\b\b\b\b\b\b\b\b\b\b\b\b\b\b\b\b\b\b\b\b\b\b\b\b\b\b\b\b\b\b\b\b\b\b\b\r",
      "36/36 [==============================] - 0s 2ms/step - loss: 7.6111 - mae: 1.9027 - mse: 7.6111 - val_loss: 14.9128 - val_mae: 2.3905 - val_mse: 14.9128\n"
     ]
    },
    {
     "name": "stdout",
     "output_type": "stream",
     "text": [
      "Epoch 51/100\n",
      "\r",
      " 1/36 [..............................] - ETA: 0s - loss: 3.6815 - mae: 1.6452 - mse: 3.6815"
     ]
    },
    {
     "name": "stdout",
     "output_type": "stream",
     "text": [
      "\b\b\b\b\b\b\b\b\b\b\b\b\b\b\b\b\b\b\b\b\b\b\b\b\b\b\b\b\b\b\b\b\b\b\b\b\b\b\b\b\b\b\b\b\b\b\b\b\b\b\b\b\b\b\b\b\b\b\b\b\b\b\b\b\b\b\b\b\b\b\b\b\b\b\b\b\b\b\b\b\b\b\b\b\b\b\b\b\b\b\b\r",
      "36/36 [==============================] - 0s 2ms/step - loss: 7.5492 - mae: 1.9115 - mse: 7.5492 - val_loss: 13.8725 - val_mae: 2.3764 - val_mse: 13.8725\n"
     ]
    },
    {
     "name": "stdout",
     "output_type": "stream",
     "text": [
      "Epoch 52/100\n",
      "\r",
      " 1/36 [..............................] - ETA: 0s - loss: 9.0226 - mae: 2.2680 - mse: 9.0226"
     ]
    },
    {
     "name": "stdout",
     "output_type": "stream",
     "text": [
      "\b\b\b\b\b\b\b\b\b\b\b\b\b\b\b\b\b\b\b\b\b\b\b\b\b\b\b\b\b\b\b\b\b\b\b\b\b\b\b\b\b\b\b\b\b\b\b\b\b\b\b\b\b\b\b\b\b\b\b\b\b\b\b\b\b\b\b\b\b\b\b\b\b\b\b\b\b\b\b\b\b\b\b\b\b\b\b\b\b\b\b\r",
      "36/36 [==============================] - 0s 2ms/step - loss: 7.3721 - mae: 1.9034 - mse: 7.3721 - val_loss: 14.9186 - val_mae: 2.4914 - val_mse: 14.9186\n"
     ]
    },
    {
     "name": "stdout",
     "output_type": "stream",
     "text": [
      "Epoch 53/100\n",
      "\r",
      " 1/36 [..............................] - ETA: 0s - loss: 7.9170 - mae: 2.0245 - mse: 7.9170"
     ]
    },
    {
     "name": "stdout",
     "output_type": "stream",
     "text": [
      "\b\b\b\b\b\b\b\b\b\b\b\b\b\b\b\b\b\b\b\b\b\b\b\b\b\b\b\b\b\b\b\b\b\b\b\b\b\b\b\b\b\b\b\b\b\b\b\b\b\b\b\b\b\b\b\b\b\b\b\b\b\b\b\b\b\b\b\b\b\b\b\b\b\b\b\b\b\b\b\b\b\b\b\b\b\b\b\b\b\b\b\r",
      "36/36 [==============================] - 0s 2ms/step - loss: 7.2422 - mae: 1.8615 - mse: 7.2422 - val_loss: 15.5612 - val_mae: 2.4342 - val_mse: 15.5612\n"
     ]
    },
    {
     "name": "stdout",
     "output_type": "stream",
     "text": [
      "Epoch 54/100\n",
      "\r",
      " 1/36 [..............................] - ETA: 0s - loss: 12.3707 - mae: 2.1982 - mse: 12.3707"
     ]
    },
    {
     "name": "stdout",
     "output_type": "stream",
     "text": [
      "\b\b\b\b\b\b\b\b\b\b\b\b\b\b\b\b\b\b\b\b\b\b\b\b\b\b\b\b\b\b\b\b\b\b\b\b\b\b\b\b\b\b\b\b\b\b\b\b\b\b\b\b\b\b\b\b\b\b\b\b\b\b\b\b\b\b\b\b\b\b\b\b\b\b\b\b\b\b\b\b\b\b\b\b\b\b\b\b\b\b\b\b\b\r",
      "36/36 [==============================] - 0s 2ms/step - loss: 7.3332 - mae: 1.9150 - mse: 7.3332 - val_loss: 15.2095 - val_mae: 2.4613 - val_mse: 15.2095\n"
     ]
    },
    {
     "name": "stdout",
     "output_type": "stream",
     "text": [
      "Epoch 55/100\n",
      "\r",
      " 1/36 [..............................] - ETA: 0s - loss: 7.1180 - mae: 2.1155 - mse: 7.1180"
     ]
    },
    {
     "name": "stdout",
     "output_type": "stream",
     "text": [
      "\b\b\b\b\b\b\b\b\b\b\b\b\b\b\b\b\b\b\b\b\b\b\b\b\b\b\b\b\b\b\b\b\b\b\b\b\b\b\b\b\b\b\b\b\b\b\b\b\b\b\b\b\b\b\b\b\b\b\b\b\b\b\b\b\b\b\b\b\b\b\b\b\b\b\b\b\b\b\b\b\b\b\b\b\b\b\b\b\b\b\b\r",
      "36/36 [==============================] - 0s 2ms/step - loss: 7.2277 - mae: 1.8782 - mse: 7.2277 - val_loss: 15.1990 - val_mae: 2.5274 - val_mse: 15.1990\n"
     ]
    },
    {
     "name": "stdout",
     "output_type": "stream",
     "text": [
      "Epoch 56/100\n",
      "\r",
      " 1/36 [..............................] - ETA: 0s - loss: 7.8213 - mae: 2.1155 - mse: 7.8213"
     ]
    },
    {
     "name": "stdout",
     "output_type": "stream",
     "text": [
      "\b\b\b\b\b\b\b\b\b\b\b\b\b\b\b\b\b\b\b\b\b\b\b\b\b\b\b\b\b\b\b\b\b\b\b\b\b\b\b\b\b\b\b\b\b\b\b\b\b\b\b\b\b\b\b\b\b\b\b\b\b\b\b\b\b\b\b\b\b\b\b\b\b\b\b\b\b\b\b\b\b\b\b\b\b\b\b\b\b\b\b\r",
      "36/36 [==============================] - 0s 2ms/step - loss: 7.0867 - mae: 1.8471 - mse: 7.0867 - val_loss: 15.9479 - val_mae: 2.5210 - val_mse: 15.9479\n"
     ]
    },
    {
     "name": "stdout",
     "output_type": "stream",
     "text": [
      "Epoch 57/100\n",
      "\r",
      " 1/36 [..............................] - ETA: 0s - loss: 7.0981 - mae: 2.2654 - mse: 7.0981"
     ]
    },
    {
     "name": "stdout",
     "output_type": "stream",
     "text": [
      "\b\b\b\b\b\b\b\b\b\b\b\b\b\b\b\b\b\b\b\b\b\b\b\b\b\b\b\b\b\b\b\b\b\b\b\b\b\b\b\b\b\b\b\b\b\b\b\b\b\b\b\b\b\b\b\b\b\b\b\b\b\b\b\b\b\b\b\b\b\b\b\b\b\b\b\b\b\b\b\b\b\b\b\b\b\b\b\b\b\b\b\r",
      "36/36 [==============================] - 0s 2ms/step - loss: 7.0518 - mae: 1.8468 - mse: 7.0518 - val_loss: 13.9539 - val_mae: 2.4011 - val_mse: 13.9539\n"
     ]
    },
    {
     "name": "stdout",
     "output_type": "stream",
     "text": [
      "Epoch 58/100\n",
      "\r",
      " 1/36 [..............................] - ETA: 0s - loss: 3.4035 - mae: 1.4639 - mse: 3.4035"
     ]
    },
    {
     "name": "stdout",
     "output_type": "stream",
     "text": [
      "\b\b\b\b\b\b\b\b\b\b\b\b\b\b\b\b\b\b\b\b\b\b\b\b\b\b\b\b\b\b\b\b\b\b\b\b\b\b\b\b\b\b\b\b\b\b\b\b\b\b\b\b\b\b\b\b\b\b\b\b\b\b\b\b\b\b\b\b\b\b\b\b\b\b\b\b\b\b\b\b\b\b\b\b\b\b\b\b\b\b\b\r",
      "36/36 [==============================] - 0s 2ms/step - loss: 7.0687 - mae: 1.8449 - mse: 7.0687 - val_loss: 13.0074 - val_mae: 2.4371 - val_mse: 13.0074\n"
     ]
    },
    {
     "name": "stdout",
     "output_type": "stream",
     "text": [
      "Epoch 59/100\n",
      "\r",
      " 1/36 [..............................] - ETA: 0s - loss: 4.0958 - mae: 1.5204 - mse: 4.0958"
     ]
    },
    {
     "name": "stdout",
     "output_type": "stream",
     "text": [
      "\b\b\b\b\b\b\b\b\b\b\b\b\b\b\b\b\b\b\b\b\b\b\b\b\b\b\b\b\b\b\b\b\b\b\b\b\b\b\b\b\b\b\b\b\b\b\b\b\b\b\b\b\b\b\b\b\b\b\b\b\b\b\b\b\b\b\b\b\b\b\b\b\b\b\b\b\b\b\b\b\b\b\b\b\b\b\b\b\b\b\b\r",
      "36/36 [==============================] - 0s 2ms/step - loss: 6.8857 - mae: 1.8453 - mse: 6.8857 - val_loss: 13.9144 - val_mae: 2.4056 - val_mse: 13.9144\n"
     ]
    },
    {
     "name": "stdout",
     "output_type": "stream",
     "text": [
      "Epoch 60/100\n",
      "\r",
      " 1/36 [..............................] - ETA: 0s - loss: 5.9802 - mae: 1.8256 - mse: 5.9802"
     ]
    },
    {
     "name": "stdout",
     "output_type": "stream",
     "text": [
      "\b\b\b\b\b\b\b\b\b\b\b\b\b\b\b\b\b\b\b\b\b\b\b\b\b\b\b\b\b\b\b\b\b\b\b\b\b\b\b\b\b\b\b\b\b\b\b\b\b\b\b\b\b\b\b\b\b\b\b\b\b\b\b\b\b\b\b\b\b\b\b\b\b\b\b\b\b\b\b\b\b\b\b\b\b\b\b\b\b\b\b\r",
      "36/36 [==============================] - 0s 2ms/step - loss: 6.9196 - mae: 1.8199 - mse: 6.9196 - val_loss: 14.6482 - val_mae: 2.4412 - val_mse: 14.6482\n"
     ]
    },
    {
     "name": "stdout",
     "output_type": "stream",
     "text": [
      "Epoch 61/100\n",
      "\r",
      " 1/36 [..............................] - ETA: 0s - loss: 4.4707 - mae: 1.7703 - mse: 4.4707"
     ]
    },
    {
     "name": "stdout",
     "output_type": "stream",
     "text": [
      "\b\b\b\b\b\b\b\b\b\b\b\b\b\b\b\b\b\b\b\b\b\b\b\b\b\b\b\b\b\b\b\b\b\b\b\b\b\b\b\b\b\b\b\b\b\b\b\b\b\b\b\b\b\b\b\b\b\b\b\b\b\b\b\b\b\b\b\b\b\b\b\b\b\b\b\b\b\b\b\b\b\b\b\b\b\b\b\b\b\b\b\r",
      "36/36 [==============================] - 0s 2ms/step - loss: 6.7712 - mae: 1.8107 - mse: 6.7712 - val_loss: 13.8300 - val_mae: 2.4093 - val_mse: 13.8300\n"
     ]
    },
    {
     "name": "stdout",
     "output_type": "stream",
     "text": [
      "Epoch 62/100\n",
      "\r",
      " 1/36 [..............................] - ETA: 0s - loss: 7.0282 - mae: 2.2276 - mse: 7.0282"
     ]
    },
    {
     "name": "stdout",
     "output_type": "stream",
     "text": [
      "\b\b\b\b\b\b\b\b\b\b\b\b\b\b\b\b\b\b\b\b\b\b\b\b\b\b\b\b\b\b\b\b\b\b\b\b\b\b\b\b\b\b\b\b\b\b\b\b\b\b\b\b\b\b\b\b\b\b\b\b\b\b\b\b\b\b\b\b\b\b\b\b\b\b\b\b\b\b\b\b\b\b\b\b\b\b\b\b\b\b\b\r",
      "36/36 [==============================] - 0s 2ms/step - loss: 6.6533 - mae: 1.8254 - mse: 6.6533 - val_loss: 13.9860 - val_mae: 2.4244 - val_mse: 13.9860\n"
     ]
    },
    {
     "name": "stdout",
     "output_type": "stream",
     "text": [
      "Epoch 63/100\n",
      "\r",
      " 1/36 [..............................] - ETA: 0s - loss: 3.3382 - mae: 1.0856 - mse: 3.3382"
     ]
    },
    {
     "name": "stdout",
     "output_type": "stream",
     "text": [
      "\b\b\b\b\b\b\b\b\b\b\b\b\b\b\b\b\b\b\b\b\b\b\b\b\b\b\b\b\b\b\b\b\b\b\b\b\b\b\b\b\b\b\b\b\b\b\b\b\b\b\b\b\b\b\b\b\b\b\b\b\b\b\b\b\b\b\b\b\b\b\b\b\b\b\b\b\b\b\b\b\b\b\b\b\b\b\b\b\b\b\b\r",
      "36/36 [==============================] - 0s 2ms/step - loss: 6.6135 - mae: 1.8061 - mse: 6.6135 - val_loss: 13.0682 - val_mae: 2.5226 - val_mse: 13.0682\n"
     ]
    },
    {
     "name": "stdout",
     "output_type": "stream",
     "text": [
      "Epoch 64/100\n",
      "\r",
      " 1/36 [..............................] - ETA: 0s - loss: 2.2947 - mae: 1.1612 - mse: 2.2947"
     ]
    },
    {
     "name": "stdout",
     "output_type": "stream",
     "text": [
      "\b\b\b\b\b\b\b\b\b\b\b\b\b\b\b\b\b\b\b\b\b\b\b\b\b\b\b\b\b\b\b\b\b\b\b\b\b\b\b\b\b\b\b\b\b\b\b\b\b\b\b\b\b\b\b\b\b\b\b\b\b\b\b\b\b\b\b\b\b\b\b\b\b\b\b\b\b\b\b\b\b\b\b\b\b\b\b\b\b\b\b\r",
      "36/36 [==============================] - 0s 2ms/step - loss: 6.6893 - mae: 1.7760 - mse: 6.6893 - val_loss: 13.0032 - val_mae: 2.4997 - val_mse: 13.0032\n"
     ]
    },
    {
     "name": "stdout",
     "output_type": "stream",
     "text": [
      "Epoch 65/100\n",
      "\r",
      " 1/36 [..............................] - ETA: 0s - loss: 9.3190 - mae: 2.0487 - mse: 9.3190"
     ]
    },
    {
     "name": "stdout",
     "output_type": "stream",
     "text": [
      "\b\b\b\b\b\b\b\b\b\b\b\b\b\b\b\b\b\b\b\b\b\b\b\b\b\b\b\b\b\b\b\b\b\b\b\b\b\b\b\b\b\b\b\b\b\b\b\b\b\b\b\b\b\b\b\b\b\b\b\b\b\b\b\b\b\b\b\b\b\b\b\b\b\b\b\b\b\b\b\b\b\b\b\b\b\b\b\b\b\b\b\r",
      "36/36 [==============================] - 0s 2ms/step - loss: 6.5807 - mae: 1.7694 - mse: 6.5807 - val_loss: 12.8187 - val_mae: 2.4031 - val_mse: 12.8187\n"
     ]
    },
    {
     "name": "stdout",
     "output_type": "stream",
     "text": [
      "Epoch 66/100\n",
      "\r",
      " 1/36 [..............................] - ETA: 0s - loss: 7.7041 - mae: 2.1078 - mse: 7.7041"
     ]
    },
    {
     "name": "stdout",
     "output_type": "stream",
     "text": [
      "\b\b\b\b\b\b\b\b\b\b\b\b\b\b\b\b\b\b\b\b\b\b\b\b\b\b\b\b\b\b\b\b\b\b\b\b\b\b\b\b\b\b\b\b\b\b\b\b\b\b\b\b\b\b\b\b\b\b\b\b\b\b\b\b\b\b\b\b\b\b\b\b\b\b\b\b\b\b\b\b\b\b\b\b\b\b\b\b\b\b\b\r",
      "36/36 [==============================] - 0s 2ms/step - loss: 6.6294 - mae: 1.7897 - mse: 6.6294 - val_loss: 13.4268 - val_mae: 2.3852 - val_mse: 13.4268\n"
     ]
    },
    {
     "name": "stdout",
     "output_type": "stream",
     "text": [
      "Epoch 67/100\n",
      "\r",
      " 1/36 [..............................] - ETA: 0s - loss: 7.1215 - mae: 2.1463 - mse: 7.1215"
     ]
    },
    {
     "name": "stdout",
     "output_type": "stream",
     "text": [
      "\b\b\b\b\b\b\b\b\b\b\b\b\b\b\b\b\b\b\b\b\b\b\b\b\b\b\b\b\b\b\b\b\b\b\b\b\b\b\b\b\b\b\b\b\b\b\b\b\b\b\b\b\b\b\b\b\b\b\b\b\b\b\b\b\b\b\b\b\b\b\b\b\b\b\b\b\b\b\b\b\b\b\b\b\b\b\b\b\b\b\b\r",
      "36/36 [==============================] - 0s 2ms/step - loss: 6.4963 - mae: 1.7647 - mse: 6.4963 - val_loss: 14.4899 - val_mae: 2.4291 - val_mse: 14.4899\n"
     ]
    },
    {
     "name": "stdout",
     "output_type": "stream",
     "text": [
      "Epoch 68/100\n",
      "\r",
      " 1/36 [..............................] - ETA: 0s - loss: 6.8348 - mae: 2.0396 - mse: 6.8348"
     ]
    },
    {
     "name": "stdout",
     "output_type": "stream",
     "text": [
      "\b\b\b\b\b\b\b\b\b\b\b\b\b\b\b\b\b\b\b\b\b\b\b\b\b\b\b\b\b\b\b\b\b\b\b\b\b\b\b\b\b\b\b\b\b\b\b\b\b\b\b\b\b\b\b\b\b\b\b\b\b\b\b\b\b\b\b\b\b\b\b\b\b\b\b\b\b\b\b\b\b\b\b\b\b\b\b\b\b\b\b\r",
      "36/36 [==============================] - 0s 2ms/step - loss: 6.4055 - mae: 1.7644 - mse: 6.4055 - val_loss: 13.8988 - val_mae: 2.4481 - val_mse: 13.8988\n"
     ]
    },
    {
     "name": "stdout",
     "output_type": "stream",
     "text": [
      "Epoch 69/100\n",
      "\r",
      " 1/36 [..............................] - ETA: 0s - loss: 4.1401 - mae: 1.6643 - mse: 4.1401"
     ]
    },
    {
     "name": "stdout",
     "output_type": "stream",
     "text": [
      "\b\b\b\b\b\b\b\b\b\b\b\b\b\b\b\b\b\b\b\b\b\b\b\b\b\b\b\b\b\b\b\b\b\b\b\b\b\b\b\b\b\b\b\b\b\b\b\b\b\b\b\b\b\b\b\b\b\b\b\b\b\b\b\b\b\b\b\b\b\b\b\b\b\b\b\b\b\b\b\b\b\b\b\b\b\b\b\b\b\b\b\r",
      "36/36 [==============================] - 0s 2ms/step - loss: 6.3309 - mae: 1.7587 - mse: 6.3309 - val_loss: 12.7296 - val_mae: 2.4945 - val_mse: 12.7296\n"
     ]
    },
    {
     "name": "stdout",
     "output_type": "stream",
     "text": [
      "Epoch 70/100\n",
      "\r",
      " 1/36 [..............................] - ETA: 0s - loss: 4.3014 - mae: 1.5148 - mse: 4.3014"
     ]
    },
    {
     "name": "stdout",
     "output_type": "stream",
     "text": [
      "\b\b\b\b\b\b\b\b\b\b\b\b\b\b\b\b\b\b\b\b\b\b\b\b\b\b\b\b\b\b\b\b\b\b\b\b\b\b\b\b\b\b\b\b\b\b\b\b\b\b\b\b\b\b\b\b\b\b\b\b\b\b\b\b\b\b\b\b\b\b\b\b\b\b\b\b\b\b\b\b\b\b\b\b\b\b\b\b\b\b\b\r",
      "36/36 [==============================] - 0s 2ms/step - loss: 6.3321 - mae: 1.7287 - mse: 6.3321 - val_loss: 12.9661 - val_mae: 2.4811 - val_mse: 12.9661\n"
     ]
    },
    {
     "name": "stdout",
     "output_type": "stream",
     "text": [
      "Epoch 71/100\n",
      "\r",
      " 1/36 [..............................] - ETA: 0s - loss: 2.4335 - mae: 1.0470 - mse: 2.4335"
     ]
    },
    {
     "name": "stdout",
     "output_type": "stream",
     "text": [
      "\b\b\b\b\b\b\b\b\b\b\b\b\b\b\b\b\b\b\b\b\b\b\b\b\b\b\b\b\b\b\b\b\b\b\b\b\b\b\b\b\b\b\b\b\b\b\b\b\b\b\b\b\b\b\b\b\b\b\b\b\b\b\b\b\b\b\b\b\b\b\b\b\b\b\b\b\b\b\b\b\b\b\b\b\b\b\b\b\b\b\b\r",
      "36/36 [==============================] - 0s 2ms/step - loss: 6.3025 - mae: 1.7535 - mse: 6.3025 - val_loss: 12.6502 - val_mae: 2.4611 - val_mse: 12.6502\n"
     ]
    },
    {
     "name": "stdout",
     "output_type": "stream",
     "text": [
      "Epoch 72/100\n",
      "\r",
      " 1/36 [..............................] - ETA: 0s - loss: 4.0539 - mae: 1.4353 - mse: 4.0539"
     ]
    },
    {
     "name": "stdout",
     "output_type": "stream",
     "text": [
      "\b\b\b\b\b\b\b\b\b\b\b\b\b\b\b\b\b\b\b\b\b\b\b\b\b\b\b\b\b\b\b\b\b\b\b\b\b\b\b\b\b\b\b\b\b\b\b\b\b\b\b\b\b\b\b\b\b\b\b\b\b\b\b\b\b\b\b\b\b\b\b\b\b\b\b\b\b\b\b\b\b\b\b\b\b\b\b\b\b\b\b\r",
      "36/36 [==============================] - 0s 2ms/step - loss: 6.2513 - mae: 1.7225 - mse: 6.2513 - val_loss: 12.7984 - val_mae: 2.4493 - val_mse: 12.7984\n"
     ]
    },
    {
     "name": "stdout",
     "output_type": "stream",
     "text": [
      "Epoch 73/100\n",
      "\r",
      " 1/36 [..............................] - ETA: 0s - loss: 3.2204 - mae: 1.3434 - mse: 3.2204"
     ]
    },
    {
     "name": "stdout",
     "output_type": "stream",
     "text": [
      "\b\b\b\b\b\b\b\b\b\b\b\b\b\b\b\b\b\b\b\b\b\b\b\b\b\b\b\b\b\b\b\b\b\b\b\b\b\b\b\b\b\b\b\b\b\b\b\b\b\b\b\b\b\b\b\b\b\b\b\b\b\b\b\b\b\b\b\b\b\b\b\b\b\b\b\b\b\b\b\b\b\b\b\b\b\b\b\b\b\b\b\r",
      "36/36 [==============================] - 0s 2ms/step - loss: 6.0639 - mae: 1.7208 - mse: 6.0639 - val_loss: 13.8270 - val_mae: 2.4772 - val_mse: 13.8270\n"
     ]
    },
    {
     "name": "stdout",
     "output_type": "stream",
     "text": [
      "Epoch 74/100\n",
      "\r",
      " 1/36 [..............................] - ETA: 0s - loss: 10.4668 - mae: 2.1620 - mse: 10.4668"
     ]
    },
    {
     "name": "stdout",
     "output_type": "stream",
     "text": [
      "\b\b\b\b\b\b\b\b\b\b\b\b\b\b\b\b\b\b\b\b\b\b\b\b\b\b\b\b\b\b\b\b\b\b\b\b\b\b\b\b\b\b\b\b\b\b\b\b\b\b\b\b\b\b\b\b\b\b\b\b\b\b\b\b\b\b\b\b\b\b\b\b\b\b\b\b\b\b\b\b\b\b\b\b\b\b\b\b\b\b\b\b\b\r",
      "36/36 [==============================] - 0s 2ms/step - loss: 6.1868 - mae: 1.7145 - mse: 6.1868 - val_loss: 14.1506 - val_mae: 2.5845 - val_mse: 14.1506\n"
     ]
    },
    {
     "name": "stdout",
     "output_type": "stream",
     "text": [
      "Epoch 75/100\n",
      "\r",
      " 1/36 [..............................] - ETA: 0s - loss: 3.4450 - mae: 1.7198 - mse: 3.4450"
     ]
    },
    {
     "name": "stdout",
     "output_type": "stream",
     "text": [
      "\b\b\b\b\b\b\b\b\b\b\b\b\b\b\b\b\b\b\b\b\b\b\b\b\b\b\b\b\b\b\b\b\b\b\b\b\b\b\b\b\b\b\b\b\b\b\b\b\b\b\b\b\b\b\b\b\b\b\b\b\b\b\b\b\b\b\b\b\b\b\b\b\b\b\b\b\b\b\b\b\b\b\b\b\b\b\b\b\b\b\b\r",
      "36/36 [==============================] - 0s 2ms/step - loss: 6.0078 - mae: 1.7327 - mse: 6.0078 - val_loss: 12.5845 - val_mae: 2.4593 - val_mse: 12.5845\n"
     ]
    },
    {
     "name": "stdout",
     "output_type": "stream",
     "text": [
      "Epoch 76/100\n",
      "\r",
      " 1/36 [..............................] - ETA: 0s - loss: 8.9283 - mae: 1.8763 - mse: 8.9283"
     ]
    },
    {
     "name": "stdout",
     "output_type": "stream",
     "text": [
      "\b\b\b\b\b\b\b\b\b\b\b\b\b\b\b\b\b\b\b\b\b\b\b\b\b\b\b\b\b\b\b\b\b\b\b\b\b\b\b\b\b\b\b\b\b\b\b\b\b\b\b\b\b\b\b\b\b\b\b\b\b\b\b\b\b\b\b\b\b\b\b\b\b\b\b\b\b\b\b\b\b\b\b\b\b\b\b\b\b\b\b\r",
      "36/36 [==============================] - 0s 2ms/step - loss: 5.9769 - mae: 1.6597 - mse: 5.9769 - val_loss: 13.7416 - val_mae: 2.4264 - val_mse: 13.7416\n"
     ]
    },
    {
     "name": "stdout",
     "output_type": "stream",
     "text": [
      "Epoch 77/100\n",
      "\r",
      " 1/36 [..............................] - ETA: 0s - loss: 1.7732 - mae: 1.1096 - mse: 1.7732"
     ]
    },
    {
     "name": "stdout",
     "output_type": "stream",
     "text": [
      "\b\b\b\b\b\b\b\b\b\b\b\b\b\b\b\b\b\b\b\b\b\b\b\b\b\b\b\b\b\b\b\b\b\b\b\b\b\b\b\b\b\b\b\b\b\b\b\b\b\b\b\b\b\b\b\b\b\b\b\b\b\b\b\b\b\b\b\b\b\b\b\b\b\b\b\b\b\b\b\b\b\b\b\b\b\b\b\b\b\b\b\r",
      "36/36 [==============================] - 0s 2ms/step - loss: 5.7378 - mae: 1.6430 - mse: 5.7378 - val_loss: 14.9285 - val_mae: 2.4672 - val_mse: 14.9285\n"
     ]
    },
    {
     "name": "stdout",
     "output_type": "stream",
     "text": [
      "Epoch 78/100\n",
      "\r",
      " 1/36 [..............................] - ETA: 0s - loss: 4.6906 - mae: 1.5438 - mse: 4.6906"
     ]
    },
    {
     "name": "stdout",
     "output_type": "stream",
     "text": [
      "\b\b\b\b\b\b\b\b\b\b\b\b\b\b\b\b\b\b\b\b\b\b\b\b\b\b\b\b\b\b\b\b\b\b\b\b\b\b\b\b\b\b\b\b\b\b\b\b\b\b\b\b\b\b\b\b\b\b\b\b\b\b\b\b\b\b\b\b\b\b\b\b\b\b\b\b\b\b\b\b\b\b\b\b\b\b\b\b\b\b\b\r",
      "36/36 [==============================] - 0s 2ms/step - loss: 6.0702 - mae: 1.7073 - mse: 6.0702 - val_loss: 13.5002 - val_mae: 2.4574 - val_mse: 13.5002\n"
     ]
    },
    {
     "name": "stdout",
     "output_type": "stream",
     "text": [
      "Epoch 79/100\n",
      "\r",
      " 1/36 [..............................] - ETA: 0s - loss: 9.5350 - mae: 2.0934 - mse: 9.5350"
     ]
    },
    {
     "name": "stdout",
     "output_type": "stream",
     "text": [
      "\b\b\b\b\b\b\b\b\b\b\b\b\b\b\b\b\b\b\b\b\b\b\b\b\b\b\b\b\b\b\b\b\b\b\b\b\b\b\b\b\b\b\b\b\b\b\b\b\b\b\b\b\b\b\b\b\b\b\b\b\b\b\b\b\b\b\b\b\b\b\b\b\b\b\b\b\b\b\b\b\b\b\b\b\b\b\b\b\b\b\b\r",
      "36/36 [==============================] - 0s 2ms/step - loss: 5.6094 - mae: 1.6573 - mse: 5.6094 - val_loss: 14.1111 - val_mae: 2.5431 - val_mse: 14.1111\n"
     ]
    },
    {
     "name": "stdout",
     "output_type": "stream",
     "text": [
      "Epoch 80/100\n",
      "\r",
      " 1/36 [..............................] - ETA: 0s - loss: 9.2028 - mae: 2.3519 - mse: 9.2028"
     ]
    },
    {
     "name": "stdout",
     "output_type": "stream",
     "text": [
      "\b\b\b\b\b\b\b\b\b\b\b\b\b\b\b\b\b\b\b\b\b\b\b\b\b\b\b\b\b\b\b\b\b\b\b\b\b\b\b\b\b\b\b\b\b\b\b\b\b\b\b\b\b\b\b\b\b\b\b\b\b\b\b\b\b\b\b\b\b\b\b\b\b\b\b\b\b\b\b\b\b\b\b\b\b\b\b\b\b\b\b\r",
      "36/36 [==============================] - 0s 2ms/step - loss: 5.6957 - mae: 1.6749 - mse: 5.6957 - val_loss: 13.2552 - val_mae: 2.5393 - val_mse: 13.2552\n"
     ]
    },
    {
     "name": "stdout",
     "output_type": "stream",
     "text": [
      "Epoch 81/100\n",
      "\r",
      " 1/36 [..............................] - ETA: 0s - loss: 2.7361 - mae: 1.4276 - mse: 2.7361"
     ]
    },
    {
     "name": "stdout",
     "output_type": "stream",
     "text": [
      "\b\b\b\b\b\b\b\b\b\b\b\b\b\b\b\b\b\b\b\b\b\b\b\b\b\b\b\b\b\b\b\b\b\b\b\b\b\b\b\b\b\b\b\b\b\b\b\b\b\b\b\b\b\b\b\b\b\b\b\b\b\b\b\b\b\b\b\b\b\b\b\b\b\b\b\b\b\b\b\b\b\b\b\b\b\b\b\b\b\b\b\r",
      "36/36 [==============================] - 0s 2ms/step - loss: 5.7200 - mae: 1.6645 - mse: 5.7200 - val_loss: 13.0018 - val_mae: 2.4606 - val_mse: 13.0018\n"
     ]
    },
    {
     "name": "stdout",
     "output_type": "stream",
     "text": [
      "Epoch 82/100\n",
      "\r",
      " 1/36 [..............................] - ETA: 0s - loss: 7.6291 - mae: 2.1848 - mse: 7.6291"
     ]
    },
    {
     "name": "stdout",
     "output_type": "stream",
     "text": [
      "\b\b\b\b\b\b\b\b\b\b\b\b\b\b\b\b\b\b\b\b\b\b\b\b\b\b\b\b\b\b\b\b\b\b\b\b\b\b\b\b\b\b\b\b\b\b\b\b\b\b\b\b\b\b\b\b\b\b\b\b\b\b\b\b\b\b\b\b\b\b\b\b\b\b\b\b\b\b\b\b\b\b\b\b\b\b\b\b\b\b\b\r",
      "36/36 [==============================] - 0s 2ms/step - loss: 5.6837 - mae: 1.6614 - mse: 5.6837 - val_loss: 12.9487 - val_mae: 2.4460 - val_mse: 12.9487\n"
     ]
    },
    {
     "name": "stdout",
     "output_type": "stream",
     "text": [
      "Epoch 83/100\n",
      "\r",
      " 1/36 [..............................] - ETA: 0s - loss: 11.1980 - mae: 2.2394 - mse: 11.1980"
     ]
    },
    {
     "name": "stdout",
     "output_type": "stream",
     "text": [
      "\b\b\b\b\b\b\b\b\b\b\b\b\b\b\b\b\b\b\b\b\b\b\b\b\b\b\b\b\b\b\b\b\b\b\b\b\b\b\b\b\b\b\b\b\b\b\b\b\b\b\b\b\b\b\b\b\b\b\b\b\b\b\b\b\b\b\b\b\b\b\b\b\b\b\b\b\b\b\b\b\b\b\b\b\b\b\b\b\b\b\b\b\b\r",
      "36/36 [==============================] - 0s 2ms/step - loss: 5.6187 - mae: 1.6395 - mse: 5.6187 - val_loss: 13.6152 - val_mae: 2.4410 - val_mse: 13.6152\n"
     ]
    },
    {
     "name": "stdout",
     "output_type": "stream",
     "text": [
      "Epoch 84/100\n",
      "\r",
      " 1/36 [..............................] - ETA: 0s - loss: 1.2645 - mae: 1.0280 - mse: 1.2645"
     ]
    },
    {
     "name": "stdout",
     "output_type": "stream",
     "text": [
      "\b\b\b\b\b\b\b\b\b\b\b\b\b\b\b\b\b\b\b\b\b\b\b\b\b\b\b\b\b\b\b\b\b\b\b\b\b\b\b\b\b\b\b\b\b\b\b\b\b\b\b\b\b\b\b\b\b\b\b\b\b\b\b\b\b\b\b\b\b\b\b\b\b\b\b\b\b\b\b\b\b\b\b\b\b\b\b\b\b\b\b\r",
      "36/36 [==============================] - 0s 2ms/step - loss: 5.5375 - mae: 1.6625 - mse: 5.5375 - val_loss: 13.7843 - val_mae: 2.4875 - val_mse: 13.7843\n"
     ]
    },
    {
     "name": "stdout",
     "output_type": "stream",
     "text": [
      "Epoch 85/100\n",
      "\r",
      " 1/36 [..............................] - ETA: 0s - loss: 6.9352 - mae: 1.8240 - mse: 6.9352"
     ]
    },
    {
     "name": "stdout",
     "output_type": "stream",
     "text": [
      "\b\b\b\b\b\b\b\b\b\b\b\b\b\b\b\b\b\b\b\b\b\b\b\b\b\b\b\b\b\b\b\b\b\b\b\b\b\b\b\b\b\b\b\b\b\b\b\b\b\b\b\b\b\b\b\b\b\b\b\b\b\b\b\b\b\b\b\b\b\b\b\b\b\b\b\b\b\b\b\b\b\b\b\b\b\b\b\b\b\b\b\r",
      "36/36 [==============================] - 0s 2ms/step - loss: 5.5747 - mae: 1.6138 - mse: 5.5747 - val_loss: 12.9473 - val_mae: 2.4488 - val_mse: 12.9473\n"
     ]
    },
    {
     "name": "stdout",
     "output_type": "stream",
     "text": [
      "Epoch 86/100\n",
      "\r",
      " 1/36 [..............................] - ETA: 0s - loss: 1.5318 - mae: 1.0513 - mse: 1.5318"
     ]
    },
    {
     "name": "stdout",
     "output_type": "stream",
     "text": [
      "\b\b\b\b\b\b\b\b\b\b\b\b\b\b\b\b\b\b\b\b\b\b\b\b\b\b\b\b\b\b\b\b\b\b\b\b\b\b\b\b\b\b\b\b\b\b\b\b\b\b\b\b\b\b\b\b\b\b\b\b\b\b\b\b\b\b\b\b\b\b\b\b\b\b\b\b\b\b\b\b\b\b\b\b\b\b\b\b\b\b\b\r",
      "36/36 [==============================] - 0s 2ms/step - loss: 5.4318 - mae: 1.5857 - mse: 5.4318 - val_loss: 13.7020 - val_mae: 2.5508 - val_mse: 13.7020\n"
     ]
    },
    {
     "name": "stdout",
     "output_type": "stream",
     "text": [
      "Epoch 87/100\n",
      "\r",
      " 1/36 [..............................] - ETA: 0s - loss: 1.8362 - mae: 0.9933 - mse: 1.8362"
     ]
    },
    {
     "name": "stdout",
     "output_type": "stream",
     "text": [
      "\b\b\b\b\b\b\b\b\b\b\b\b\b\b\b\b\b\b\b\b\b\b\b\b\b\b\b\b\b\b\b\b\b\b\b\b\b\b\b\b\b\b\b\b\b\b\b\b\b\b\b\b\b\b\b\b\b\b\b\b\b\b\b\b\b\b\b\b\b\b\b\b\b\b\b\b\b\b\b\b\b\b\b\b\b\b\b\b\b\b\b\r",
      "36/36 [==============================] - 0s 2ms/step - loss: 5.4703 - mae: 1.6559 - mse: 5.4703 - val_loss: 13.3855 - val_mae: 2.4788 - val_mse: 13.3855\n"
     ]
    },
    {
     "name": "stdout",
     "output_type": "stream",
     "text": [
      "Epoch 88/100\n",
      "\r",
      " 1/36 [..............................] - ETA: 0s - loss: 8.7715 - mae: 1.9173 - mse: 8.7715"
     ]
    },
    {
     "name": "stdout",
     "output_type": "stream",
     "text": [
      "\b\b\b\b\b\b\b\b\b\b\b\b\b\b\b\b\b\b\b\b\b\b\b\b\b\b\b\b\b\b\b\b\b\b\b\b\b\b\b\b\b\b\b\b\b\b\b\b\b\b\b\b\b\b\b\b\b\b\b\b\b\b\b\b\b\b\b\b\b\b\b\b\b\b\b\b\b\b\b\b\b\b\b\b\b\b\b\b\b\b\b\r",
      "36/36 [==============================] - 0s 2ms/step - loss: 5.3036 - mae: 1.6029 - mse: 5.3036 - val_loss: 14.0921 - val_mae: 2.4609 - val_mse: 14.0921\n"
     ]
    },
    {
     "name": "stdout",
     "output_type": "stream",
     "text": [
      "Epoch 89/100\n",
      "\r",
      " 1/36 [..............................] - ETA: 0s - loss: 3.0246 - mae: 1.4390 - mse: 3.0246"
     ]
    },
    {
     "name": "stdout",
     "output_type": "stream",
     "text": [
      "\b\b\b\b\b\b\b\b\b\b\b\b\b\b\b\b\b\b\b\b\b\b\b\b\b\b\b\b\b\b\b\b\b\b\b\b\b\b\b\b\b\b\b\b\b\b\b\b\b\b\b\b\b\b\b\b\b\b\b\b\b\b\b\b\b\b\b\b\b\b\b\b\b\b\b\b\b\b\b\b\b\b\b\b\b\b\b\b\b\b\b\r",
      "36/36 [==============================] - 0s 2ms/step - loss: 5.3773 - mae: 1.5968 - mse: 5.3773 - val_loss: 13.9248 - val_mae: 2.4907 - val_mse: 13.9248\n"
     ]
    },
    {
     "name": "stdout",
     "output_type": "stream",
     "text": [
      "Epoch 90/100\n",
      "\r",
      " 1/36 [..............................] - ETA: 0s - loss: 2.4601 - mae: 1.3539 - mse: 2.4601"
     ]
    },
    {
     "name": "stdout",
     "output_type": "stream",
     "text": [
      "\b\b\b\b\b\b\b\b\b\b\b\b\b\b\b\b\b\b\b\b\b\b\b\b\b\b\b\b\b\b\b\b\b\b\b\b\b\b\b\b\b\b\b\b\b\b\b\b\b\b\b\b\b\b\b\b\b\b\b\b\b\b\b\b\b\b\b\b\b\b\b\b\b\b\b\b\b\b\b\b\b\b\b\b\b\b\b\b\b\b\b\r",
      "36/36 [==============================] - 0s 2ms/step - loss: 5.2268 - mae: 1.5829 - mse: 5.2268 - val_loss: 14.6749 - val_mae: 2.5361 - val_mse: 14.6749\n"
     ]
    },
    {
     "name": "stdout",
     "output_type": "stream",
     "text": [
      "Epoch 91/100\n",
      "\r",
      " 1/36 [..............................] - ETA: 0s - loss: 3.8107 - mae: 1.6357 - mse: 3.8107"
     ]
    },
    {
     "name": "stdout",
     "output_type": "stream",
     "text": [
      "\b\b\b\b\b\b\b\b\b\b\b\b\b\b\b\b\b\b\b\b\b\b\b\b\b\b\b\b\b\b\b\b\b\b\b\b\b\b\b\b\b\b\b\b\b\b\b\b\b\b\b\b\b\b\b\b\b\b\b\b\b\b\b\b\b\b\b\b\b\b\b\b\b\b\b\b\b\b\b\b\b\b\b\b\b\b\b\b\b\b\b\r",
      "36/36 [==============================] - 0s 2ms/step - loss: 5.1736 - mae: 1.5926 - mse: 5.1736 - val_loss: 13.4514 - val_mae: 2.5856 - val_mse: 13.4514\n"
     ]
    },
    {
     "name": "stdout",
     "output_type": "stream",
     "text": [
      "Epoch 92/100\n",
      "\r",
      " 1/36 [..............................] - ETA: 0s - loss: 19.5630 - mae: 3.1410 - mse: 19.5630"
     ]
    },
    {
     "name": "stdout",
     "output_type": "stream",
     "text": [
      "\b\b\b\b\b\b\b\b\b\b\b\b\b\b\b\b\b\b\b\b\b\b\b\b\b\b\b\b\b\b\b\b\b\b\b\b\b\b\b\b\b\b\b\b\b\b\b\b\b\b\b\b\b\b\b\b\b\b\b\b\b\b\b\b\b\b\b\b\b\b\b\b\b\b\b\b\b\b\b\b\b\b\b\b\b\b\b\b\b\b\b\b\b\r",
      "36/36 [==============================] - 0s 2ms/step - loss: 5.2418 - mae: 1.5954 - mse: 5.2418 - val_loss: 12.6804 - val_mae: 2.4248 - val_mse: 12.6804\n"
     ]
    },
    {
     "name": "stdout",
     "output_type": "stream",
     "text": [
      "Epoch 93/100\n",
      "\r",
      " 1/36 [..............................] - ETA: 0s - loss: 3.0834 - mae: 1.4256 - mse: 3.0834"
     ]
    },
    {
     "name": "stdout",
     "output_type": "stream",
     "text": [
      "\b\b\b\b\b\b\b\b\b\b\b\b\b\b\b\b\b\b\b\b\b\b\b\b\b\b\b\b\b\b\b\b\b\b\b\b\b\b\b\b\b\b\b\b\b\b\b\b\b\b\b\b\b\b\b\b\b\b\b\b\b\b\b\b\b\b\b\b\b\b\b\b\b\b\b\b\b\b\b\b\b\b\b\b\b\b\b\b\b\b\b\r",
      "36/36 [==============================] - 0s 2ms/step - loss: 5.2488 - mae: 1.5989 - mse: 5.2488 - val_loss: 12.4736 - val_mae: 2.4226 - val_mse: 12.4736\n"
     ]
    },
    {
     "name": "stdout",
     "output_type": "stream",
     "text": [
      "Epoch 94/100\n",
      "\r",
      " 1/36 [..............................] - ETA: 0s - loss: 5.8809 - mae: 2.1107 - mse: 5.8809"
     ]
    },
    {
     "name": "stdout",
     "output_type": "stream",
     "text": [
      "\b\b\b\b\b\b\b\b\b\b\b\b\b\b\b\b\b\b\b\b\b\b\b\b\b\b\b\b\b\b\b\b\b\b\b\b\b\b\b\b\b\b\b\b\b\b\b\b\b\b\b\b\b\b\b\b\b\b\b\b\b\b\b\b\b\b\b\b\b\b\b\b\b\b\b\b\b\b\b\b\b\b\b\b\b\b\b\b\b\b\b\r",
      "36/36 [==============================] - 0s 2ms/step - loss: 5.0619 - mae: 1.5615 - mse: 5.0619 - val_loss: 13.4973 - val_mae: 2.4437 - val_mse: 13.4973\n"
     ]
    },
    {
     "name": "stdout",
     "output_type": "stream",
     "text": [
      "Epoch 95/100\n",
      "\r",
      " 1/36 [..............................] - ETA: 0s - loss: 2.7440 - mae: 1.3863 - mse: 2.7440"
     ]
    },
    {
     "name": "stdout",
     "output_type": "stream",
     "text": [
      "\b\b\b\b\b\b\b\b\b\b\b\b\b\b\b\b\b\b\b\b\b\b\b\b\b\b\b\b\b\b\b\b\b\b\b\b\b\b\b\b\b\b\b\b\b\b\b\b\b\b\b\b\b\b\b\b\b\b\b\b\b\b\b\b\b\b\b\b\b\b\b\b\b\b\b\b\b\b\b\b\b\b\b\b\b\b\b\b\b\b\b\r",
      "36/36 [==============================] - 0s 2ms/step - loss: 4.9695 - mae: 1.5607 - mse: 4.9695 - val_loss: 12.2446 - val_mae: 2.3704 - val_mse: 12.2446\n"
     ]
    },
    {
     "name": "stdout",
     "output_type": "stream",
     "text": [
      "Epoch 96/100\n",
      "\r",
      " 1/36 [..............................] - ETA: 0s - loss: 2.5596 - mae: 1.2999 - mse: 2.5596"
     ]
    },
    {
     "name": "stdout",
     "output_type": "stream",
     "text": [
      "\b\b\b\b\b\b\b\b\b\b\b\b\b\b\b\b\b\b\b\b\b\b\b\b\b\b\b\b\b\b\b\b\b\b\b\b\b\b\b\b\b\b\b\b\b\b\b\b\b\b\b\b\b\b\b\b\b\b\b\b\b\b\b\b\b\b\b\b\b\b\b\b\b\b\b\b\b\b\b\b\b\b\b\b\b\b\b\b\b\b\b\r",
      "36/36 [==============================] - 0s 2ms/step - loss: 5.0109 - mae: 1.5504 - mse: 5.0109 - val_loss: 12.8840 - val_mae: 2.5403 - val_mse: 12.8840\n"
     ]
    },
    {
     "name": "stdout",
     "output_type": "stream",
     "text": [
      "Epoch 97/100\n",
      "\r",
      " 1/36 [..............................] - ETA: 0s - loss: 3.7687 - mae: 1.5506 - mse: 3.7687"
     ]
    },
    {
     "name": "stdout",
     "output_type": "stream",
     "text": [
      "\b\b\b\b\b\b\b\b\b\b\b\b\b\b\b\b\b\b\b\b\b\b\b\b\b\b\b\b\b\b\b\b\b\b\b\b\b\b\b\b\b\b\b\b\b\b\b\b\b\b\b\b\b\b\b\b\b\b\b\b\b\b\b\b\b\b\b\b\b\b\b\b\b\b\b\b\b\b\b\b\b\b\b\b\b\b\b\b\b\b\b\r",
      "36/36 [==============================] - 0s 2ms/step - loss: 4.8156 - mae: 1.5307 - mse: 4.8156 - val_loss: 13.2364 - val_mae: 2.5249 - val_mse: 13.2364\n"
     ]
    },
    {
     "name": "stdout",
     "output_type": "stream",
     "text": [
      "Epoch 98/100\n",
      "\r",
      " 1/36 [..............................] - ETA: 0s - loss: 7.0708 - mae: 1.5772 - mse: 7.0708"
     ]
    },
    {
     "name": "stdout",
     "output_type": "stream",
     "text": [
      "\b\b\b\b\b\b\b\b\b\b\b\b\b\b\b\b\b\b\b\b\b\b\b\b\b\b\b\b\b\b\b\b\b\b\b\b\b\b\b\b\b\b\b\b\b\b\b\b\b\b\b\b\b\b\b\b\b\b\b\b\b\b\b\b\b\b\b\b\b\b\b\b\b\b\b\b\b\b\b\b\b\b\b\b\b\b\b\b\b\b\b\r",
      "36/36 [==============================] - 0s 2ms/step - loss: 4.9354 - mae: 1.5551 - mse: 4.9354 - val_loss: 12.9653 - val_mae: 2.3904 - val_mse: 12.9653\n"
     ]
    },
    {
     "name": "stdout",
     "output_type": "stream",
     "text": [
      "Epoch 99/100\n",
      "\r",
      " 1/36 [..............................] - ETA: 0s - loss: 2.7436 - mae: 1.3471 - mse: 2.7436"
     ]
    },
    {
     "name": "stdout",
     "output_type": "stream",
     "text": [
      "\b\b\b\b\b\b\b\b\b\b\b\b\b\b\b\b\b\b\b\b\b\b\b\b\b\b\b\b\b\b\b\b\b\b\b\b\b\b\b\b\b\b\b\b\b\b\b\b\b\b\b\b\b\b\b\b\b\b\b\b\b\b\b\b\b\b\b\b\b\b\b\b\b\b\b\b\b\b\b\b\b\b\b\b\b\b\b\b\b\b\b\r",
      "36/36 [==============================] - 0s 2ms/step - loss: 5.0056 - mae: 1.5565 - mse: 5.0056 - val_loss: 12.4294 - val_mae: 2.4691 - val_mse: 12.4294\n"
     ]
    },
    {
     "name": "stdout",
     "output_type": "stream",
     "text": [
      "Epoch 100/100\n",
      "\r",
      " 1/36 [..............................] - ETA: 0s - loss: 5.6867 - mae: 1.9347 - mse: 5.6867"
     ]
    },
    {
     "name": "stdout",
     "output_type": "stream",
     "text": [
      "\b\b\b\b\b\b\b\b\b\b\b\b\b\b\b\b\b\b\b\b\b\b\b\b\b\b\b\b\b\b\b\b\b\b\b\b\b\b\b\b\b\b\b\b\b\b\b\b\b\b\b\b\b\b\b\b\b\b\b\b\b\b\b\b\b\b\b\b\b\b\b\b\b\b\b\b\b\b\b\b\b\b\b\b\b\b\b\b\b\b\b\r",
      "36/36 [==============================] - 0s 2ms/step - loss: 4.7599 - mae: 1.5225 - mse: 4.7599 - val_loss: 14.2900 - val_mae: 2.5245 - val_mse: 14.2900\n"
     ]
    }
   ],
   "source": [
    "history = model.fit(x_train,\n",
    "                    y_train,\n",
    "                    epochs          = 100,\n",
    "                    batch_size      = 10,\n",
    "                    verbose         = 1,\n",
    "                    validation_data = (x_test, y_test))"
   ]
  },
  {
   "cell_type": "markdown",
   "metadata": {},
   "source": [
    "## Step 6 - Evaluate\n",
    "### 6.1 - Model evaluation\n",
    "MAE =  Mean Absolute Error (between the labels and predictions)  \n",
    "A mae equal to 3 represents an average error in prediction of $3k."
   ]
  },
  {
   "cell_type": "code",
   "execution_count": 9,
   "metadata": {
    "execution": {
     "iopub.execute_input": "2021-01-14T07:11:27.248032Z",
     "iopub.status.busy": "2021-01-14T07:11:27.247704Z",
     "iopub.status.idle": "2021-01-14T07:11:27.271323Z",
     "shell.execute_reply": "2021-01-14T07:11:27.271664Z"
    }
   },
   "outputs": [
    {
     "name": "stdout",
     "output_type": "stream",
     "text": [
      "x_test / loss      : 14.2900\n",
      "x_test / mae       : 2.5245\n",
      "x_test / mse       : 14.2900\n"
     ]
    }
   ],
   "source": [
    "score = model.evaluate(x_test, y_test, verbose=0)\n",
    "\n",
    "print('x_test / loss      : {:5.4f}'.format(score[0]))\n",
    "print('x_test / mae       : {:5.4f}'.format(score[1]))\n",
    "print('x_test / mse       : {:5.4f}'.format(score[2]))"
   ]
  },
  {
   "cell_type": "markdown",
   "metadata": {},
   "source": [
    "### 6.2 - Training history\n",
    "What was the best result during our training ?"
   ]
  },
  {
   "cell_type": "code",
   "execution_count": 10,
   "metadata": {
    "execution": {
     "iopub.execute_input": "2021-01-14T07:11:27.282826Z",
     "iopub.status.busy": "2021-01-14T07:11:27.282357Z",
     "iopub.status.idle": "2021-01-14T07:11:27.285322Z",
     "shell.execute_reply": "2021-01-14T07:11:27.285657Z"
    }
   },
   "outputs": [
    {
     "data": {
      "text/html": [
       "<div>\n",
       "<style scoped>\n",
       "    .dataframe tbody tr th:only-of-type {\n",
       "        vertical-align: middle;\n",
       "    }\n",
       "\n",
       "    .dataframe tbody tr th {\n",
       "        vertical-align: top;\n",
       "    }\n",
       "\n",
       "    .dataframe thead th {\n",
       "        text-align: right;\n",
       "    }\n",
       "</style>\n",
       "<table border=\"1\" class=\"dataframe\">\n",
       "  <thead>\n",
       "    <tr style=\"text-align: right;\">\n",
       "      <th></th>\n",
       "      <th>loss</th>\n",
       "      <th>mae</th>\n",
       "      <th>mse</th>\n",
       "      <th>val_loss</th>\n",
       "      <th>val_mae</th>\n",
       "      <th>val_mse</th>\n",
       "    </tr>\n",
       "  </thead>\n",
       "  <tbody>\n",
       "    <tr>\n",
       "      <th>0</th>\n",
       "      <td>512.695251</td>\n",
       "      <td>20.421410</td>\n",
       "      <td>512.695251</td>\n",
       "      <td>371.698700</td>\n",
       "      <td>17.640818</td>\n",
       "      <td>371.698700</td>\n",
       "    </tr>\n",
       "    <tr>\n",
       "      <th>1</th>\n",
       "      <td>288.060730</td>\n",
       "      <td>14.319571</td>\n",
       "      <td>288.060730</td>\n",
       "      <td>148.873795</td>\n",
       "      <td>10.038457</td>\n",
       "      <td>148.873795</td>\n",
       "    </tr>\n",
       "    <tr>\n",
       "      <th>2</th>\n",
       "      <td>113.567566</td>\n",
       "      <td>7.805418</td>\n",
       "      <td>113.567551</td>\n",
       "      <td>63.275372</td>\n",
       "      <td>6.258007</td>\n",
       "      <td>63.275372</td>\n",
       "    </tr>\n",
       "    <tr>\n",
       "      <th>3</th>\n",
       "      <td>59.180847</td>\n",
       "      <td>5.487036</td>\n",
       "      <td>59.180840</td>\n",
       "      <td>33.185242</td>\n",
       "      <td>4.469059</td>\n",
       "      <td>33.185242</td>\n",
       "    </tr>\n",
       "    <tr>\n",
       "      <th>4</th>\n",
       "      <td>38.479008</td>\n",
       "      <td>4.315325</td>\n",
       "      <td>38.479008</td>\n",
       "      <td>22.436140</td>\n",
       "      <td>3.583613</td>\n",
       "      <td>22.436140</td>\n",
       "    </tr>\n",
       "    <tr>\n",
       "      <th>...</th>\n",
       "      <td>...</td>\n",
       "      <td>...</td>\n",
       "      <td>...</td>\n",
       "      <td>...</td>\n",
       "      <td>...</td>\n",
       "      <td>...</td>\n",
       "    </tr>\n",
       "    <tr>\n",
       "      <th>95</th>\n",
       "      <td>5.010880</td>\n",
       "      <td>1.550388</td>\n",
       "      <td>5.010880</td>\n",
       "      <td>12.883963</td>\n",
       "      <td>2.540313</td>\n",
       "      <td>12.883963</td>\n",
       "    </tr>\n",
       "    <tr>\n",
       "      <th>96</th>\n",
       "      <td>4.815630</td>\n",
       "      <td>1.530723</td>\n",
       "      <td>4.815630</td>\n",
       "      <td>13.236412</td>\n",
       "      <td>2.524947</td>\n",
       "      <td>13.236412</td>\n",
       "    </tr>\n",
       "    <tr>\n",
       "      <th>97</th>\n",
       "      <td>4.935360</td>\n",
       "      <td>1.555126</td>\n",
       "      <td>4.935360</td>\n",
       "      <td>12.965294</td>\n",
       "      <td>2.390428</td>\n",
       "      <td>12.965294</td>\n",
       "    </tr>\n",
       "    <tr>\n",
       "      <th>98</th>\n",
       "      <td>5.005613</td>\n",
       "      <td>1.556515</td>\n",
       "      <td>5.005613</td>\n",
       "      <td>12.429406</td>\n",
       "      <td>2.469126</td>\n",
       "      <td>12.429406</td>\n",
       "    </tr>\n",
       "    <tr>\n",
       "      <th>99</th>\n",
       "      <td>4.759908</td>\n",
       "      <td>1.522508</td>\n",
       "      <td>4.759908</td>\n",
       "      <td>14.290004</td>\n",
       "      <td>2.524544</td>\n",
       "      <td>14.290004</td>\n",
       "    </tr>\n",
       "  </tbody>\n",
       "</table>\n",
       "<p>100 rows × 6 columns</p>\n",
       "</div>"
      ],
      "text/plain": [
       "          loss        mae         mse    val_loss    val_mae     val_mse\n",
       "0   512.695251  20.421410  512.695251  371.698700  17.640818  371.698700\n",
       "1   288.060730  14.319571  288.060730  148.873795  10.038457  148.873795\n",
       "2   113.567566   7.805418  113.567551   63.275372   6.258007   63.275372\n",
       "3    59.180847   5.487036   59.180840   33.185242   4.469059   33.185242\n",
       "4    38.479008   4.315325   38.479008   22.436140   3.583613   22.436140\n",
       "..         ...        ...         ...         ...        ...         ...\n",
       "95    5.010880   1.550388    5.010880   12.883963   2.540313   12.883963\n",
       "96    4.815630   1.530723    4.815630   13.236412   2.524947   13.236412\n",
       "97    4.935360   1.555126    4.935360   12.965294   2.390428   12.965294\n",
       "98    5.005613   1.556515    5.005613   12.429406   2.469126   12.429406\n",
       "99    4.759908   1.522508    4.759908   14.290004   2.524544   14.290004\n",
       "\n",
       "[100 rows x 6 columns]"
      ]
     },
     "metadata": {},
     "output_type": "display_data"
    }
   ],
   "source": [
    "df=pd.DataFrame(data=history.history)\n",
    "display(df)"
   ]
  },
  {
   "cell_type": "code",
   "execution_count": 11,
   "metadata": {
    "execution": {
     "iopub.execute_input": "2021-01-14T07:11:27.288802Z",
     "iopub.status.busy": "2021-01-14T07:11:27.288358Z",
     "iopub.status.idle": "2021-01-14T07:11:27.291066Z",
     "shell.execute_reply": "2021-01-14T07:11:27.290733Z"
    }
   },
   "outputs": [
    {
     "name": "stdout",
     "output_type": "stream",
     "text": [
      "min( val_mae ) : 2.3704\n"
     ]
    }
   ],
   "source": [
    "print(\"min( val_mae ) : {:.4f}\".format( min(history.history[\"val_mae\"]) ) )"
   ]
  },
  {
   "cell_type": "code",
   "execution_count": 12,
   "metadata": {
    "execution": {
     "iopub.execute_input": "2021-01-14T07:11:27.296795Z",
     "iopub.status.busy": "2021-01-14T07:11:27.296413Z",
     "iopub.status.idle": "2021-01-14T07:11:28.313345Z",
     "shell.execute_reply": "2021-01-14T07:11:28.312924Z"
    }
   },
   "outputs": [
    {
     "data": {
      "text/html": [
       "<div class=\"comment\">Saved: ./run/figs/BHPD1-01-history_0</div>"
      ],
      "text/plain": [
       "<IPython.core.display.HTML object>"
      ]
     },
     "metadata": {},
     "output_type": "display_data"
    },
    {
     "data": {
      "image/png": "[encoded data removed]",
      "text/plain": [
       "<Figure size 576x432 with 1 Axes>"
      ]
     },
     "metadata": {
      "needs_background": "light"
     },
     "output_type": "display_data"
    },
    {
     "data": {
      "text/html": [
       "<div class=\"comment\">Saved: ./run/figs/BHPD1-01-history_1</div>"
      ],
      "text/plain": [
       "<IPython.core.display.HTML object>"
      ]
     },
     "metadata": {},
     "output_type": "display_data"
    },
    {
     "data": {
      "image/png": "[encoded data removed]",
      "text/plain": [
       "<Figure size 576x432 with 1 Axes>"
      ]
     },
     "metadata": {
      "needs_background": "light"
     },
     "output_type": "display_data"
    },
    {
     "data": {
      "text/html": [
       "<div class=\"comment\">Saved: ./run/figs/BHPD1-01-history_2</div>"
      ],
      "text/plain": [
       "<IPython.core.display.HTML object>"
      ]
     },
     "metadata": {},
     "output_type": "display_data"
    },
    {
     "data": {
      "image/png": "[encoded data removed]",
      "text/plain": [
       "<Figure size 576x432 with 1 Axes>"
      ]
     },
     "metadata": {
      "needs_background": "light"
     },
     "output_type": "display_data"
    }
   ],
   "source": [
    "pwk.plot_history(history, plot={'MSE' :['mse', 'val_mse'],\n",
    "                                'MAE' :['mae', 'val_mae'],\n",
    "                                'LOSS':['loss','val_loss']}, save_as='01-history')"
   ]
  },
  {
   "cell_type": "markdown",
   "metadata": {},
   "source": [
    "## Step 7 - Make a prediction\n",
    "The data must be normalized with the parameters (mean, std) previously used."
   ]
  },
  {
   "cell_type": "code",
   "execution_count": 13,
   "metadata": {
    "execution": {
     "iopub.execute_input": "2021-01-14T07:11:28.316757Z",
     "iopub.status.busy": "2021-01-14T07:11:28.316418Z",
     "iopub.status.idle": "2021-01-14T07:11:28.319009Z",
     "shell.execute_reply": "2021-01-14T07:11:28.318619Z"
    }
   },
   "outputs": [],
   "source": [
    "my_data = [ 1.26425925, -0.48522739,  1.0436489 , -0.23112788,  1.37120745,\n",
    "       -2.14308942,  1.13489104, -1.06802005,  1.71189006,  1.57042287,\n",
    "        0.77859951,  0.14769795,  2.7585581 ]\n",
    "real_price = 10.4\n",
    "\n",
    "my_data=np.array(my_data).reshape(1,13)"
   ]
  },
  {
   "cell_type": "code",
   "execution_count": 14,
   "metadata": {
    "execution": {
     "iopub.execute_input": "2021-01-14T07:11:28.322754Z",
     "iopub.status.busy": "2021-01-14T07:11:28.321869Z",
     "iopub.status.idle": "2021-01-14T07:11:28.409681Z",
     "shell.execute_reply": "2021-01-14T07:11:28.409332Z"
    }
   },
   "outputs": [
    {
     "name": "stdout",
     "output_type": "stream",
     "text": [
      "Prediction : 10.24 K$\n",
      "Reality    : 10.40 K$\n"
     ]
    }
   ],
   "source": [
    "\n",
    "predictions = model.predict( my_data )\n",
    "print(\"Prediction : {:.2f} K$\".format(predictions[0][0]))\n",
    "print(\"Reality    : {:.2f} K$\".format(real_price))"
   ]
  },
  {
   "cell_type": "code",
   "execution_count": 15,
   "metadata": {
    "execution": {
     "iopub.execute_input": "2021-01-14T07:11:28.412496Z",
     "iopub.status.busy": "2021-01-14T07:11:28.412150Z",
     "iopub.status.idle": "2021-01-14T07:11:28.415355Z",
     "shell.execute_reply": "2021-01-14T07:11:28.415951Z"
    }
   },
   "outputs": [
    {
     "name": "stdout",
     "output_type": "stream",
     "text": [
      "End time is : Thursday 14 January 2021, 08:11:28\n",
      "Duration is : 00:00:09 085ms\n",
      "This notebook ends here\n"
     ]
    }
   ],
   "source": [
    "pwk.end()"
   ]
  },
  {
   "cell_type": "markdown",
   "metadata": {},
   "source": [
    "---\n",
    "<img width=\"80px\" src=\"../fidle/img/00-Fidle-logo-01.svg\"></img>"
   ]
  }
 ],
 "metadata": {
  "kernelspec": {
   "display_name": "Python 3",
   "language": "python",
   "name": "python3"
  },
  "language_info": {
   "codemirror_mode": {
    "name": "ipython",
    "version": 3
   },
   "file_extension": ".py",
   "mimetype": "text/x-python",
   "name": "python",
   "nbconvert_exporter": "python",
   "pygments_lexer": "ipython3",
   "version": "3.7.9"
  }
 },
 "nbformat": 4,
 "nbformat_minor": 4
}
