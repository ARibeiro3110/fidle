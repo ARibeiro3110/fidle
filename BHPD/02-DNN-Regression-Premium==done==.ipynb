{
 "cells": [
  {
   "cell_type": "markdown",
   "metadata": {},
   "source": [
    "<img width=\"800px\" src=\"../fidle/img/00-Fidle-header-01.svg\"></img>\n",
    "\n",
    "# <!-- TITLE --> [BHPD2] - Regression with a Dense Network (DNN) - Advanced code\n",
    "  <!-- DESC -->  A more advanced implementation of the precedent example\n",
    "  <!-- AUTHOR : Jean-Luc Parouty (CNRS/SIMaP) -->\n",
    "\n",
    "## Objectives :\n",
    " - Predicts **housing prices** from a set of house features. \n",
    " - Understanding the principle and the architecture of a regression with a dense neural network with backup and restore of the trained model. \n",
    "\n",
    "The **[Boston Housing Prices Dataset](https://www.cs.toronto.edu/~delve/data/boston/bostonDetail.html)** consists of price of houses in various places in Boston.  \n",
    "Alongside with price, the dataset also provide these information :\n",
    "\n",
    " - CRIM: This is the per capita crime rate by town\n",
    " - ZN: This is the proportion of residential land zoned for lots larger than 25,000 sq.ft\n",
    " - INDUS: This is the proportion of non-retail business acres per town\n",
    " - CHAS: This is the Charles River dummy variable (this is equal to 1 if tract bounds river; 0 otherwise)\n",
    " - NOX: This is the nitric oxides concentration (parts per 10 million)\n",
    " - RM: This is the average number of rooms per dwelling\n",
    " - AGE: This is the proportion of owner-occupied units built prior to 1940\n",
    " - DIS: This is the weighted distances to five Boston employment centers\n",
    " - RAD: This is the index of accessibility to radial highways\n",
    " - TAX: This is the full-value property-tax rate per 10,000 dollars\n",
    " - PTRATIO: This is the pupil-teacher ratio by town\n",
    " - B: This is calculated as 1000(Bk — 0.63)^2, where Bk is the proportion of people of African American descent by town\n",
    " - LSTAT: This is the percentage lower status of the population\n",
    " - MEDV: This is the median value of owner-occupied homes in 1000 dollars\n",
    "\n",
    "## What we're going to do :\n",
    "\n",
    " - (Retrieve data)\n",
    " - (Preparing the data)\n",
    " - (Build a model)\n",
    " - Train and save the model\n",
    " - Restore saved model\n",
    " - Evaluate the model\n",
    " - Make some predictions\n"
   ]
  },
  {
   "cell_type": "markdown",
   "metadata": {},
   "source": [
    "## Step 1 - Import and init"
   ]
  },
  {
   "cell_type": "code",
   "execution_count": 1,
   "metadata": {
    "execution": {
     "iopub.execute_input": "2021-01-26T15:11:11.972337Z",
     "iopub.status.busy": "2021-01-26T15:11:11.972015Z",
     "iopub.status.idle": "2021-01-26T15:11:13.354023Z",
     "shell.execute_reply": "2021-01-26T15:11:13.354358Z"
    }
   },
   "outputs": [
    {
     "data": {
      "text/html": [
       "<style>\n",
       "\n",
       "div.warn {    \n",
       "    background-color: #fcf2f2;\n",
       "    border-color: #dFb5b4;\n",
       "    border-left: 5px solid #dfb5b4;\n",
       "    padding: 0.5em;\n",
       "    font-weight: bold;\n",
       "    font-size: 1.1em;;\n",
       "    }\n",
       "\n",
       "\n",
       "\n",
       "div.nota {    \n",
       "    background-color: #DAFFDE;\n",
       "    border-left: 5px solid #92CC99;\n",
       "    padding: 0.5em;\n",
       "    }\n",
       "\n",
       "div.todo:before { content:url(data:image/svg+xml;base64,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);\n",
       "    float:left;\n",
       "    margin-right:20px;\n",
       "    margin-top:-20px;\n",
       "    margin-bottom:20px;\n",
       "}\n",
       "div.todo{\n",
       "    font-weight: bold;\n",
       "    font-size: 1.1em;\n",
       "    margin-top:40px;\n",
       "}\n",
       "div.todo ul{\n",
       "    margin: 0.2em;\n",
       "}\n",
       "div.todo li{\n",
       "    margin-left:60px;\n",
       "    margin-top:0;\n",
       "    margin-bottom:0;\n",
       "}\n",
       "\n",
       "div .comment{\n",
       "    font-size:0.8em;\n",
       "    color:#696969;\n",
       "}\n",
       "\n",
       "\n",
       "\n",
       "</style>\n",
       "\n"
      ],
      "text/plain": [
       "<IPython.core.display.HTML object>"
      ]
     },
     "metadata": {},
     "output_type": "display_data"
    },
    {
     "data": {
      "text/markdown": [
       "<br>**FIDLE 2020 - Practical Work Module**"
      ],
      "text/plain": [
       "<IPython.core.display.Markdown object>"
      ]
     },
     "metadata": {},
     "output_type": "display_data"
    },
    {
     "name": "stdout",
     "output_type": "stream",
     "text": [
      "Version              : 2.0.6\n",
      "Notebook id          : BHPD2\n",
      "Run time             : Tuesday 26 January 2021, 16:11:13\n",
      "TensorFlow version   : 2.2.0\n",
      "Keras version        : 2.3.0-tf\n",
      "Datasets dir         : /home/pjluc/tmp/datasets\n",
      "Run dir              : ./run\n",
      "Update keras cache   : False\n",
      "Save figs            : True\n",
      "Path figs            : ./run/figs\n"
     ]
    }
   ],
   "source": [
    "import tensorflow as tf\n",
    "from tensorflow import keras\n",
    "\n",
    "import numpy as np\n",
    "import matplotlib.pyplot as plt\n",
    "import pandas as pd\n",
    "import os,sys\n",
    "\n",
    "from IPython.display import Markdown\n",
    "from importlib import reload\n",
    "\n",
    "sys.path.append('..')\n",
    "import fidle.pwk as pwk\n",
    "\n",
    "datasets_dir = pwk.init('BHPD2')"
   ]
  },
  {
   "cell_type": "markdown",
   "metadata": {},
   "source": [
    "## Step 2 - Retrieve data\n",
    "\n",
    "### 2.1 - Option 1  : From Keras\n",
    "Boston housing is a famous historic dataset, so we can get it directly from [Keras datasets](https://www.tensorflow.org/api_docs/python/tf/keras/datasets)  "
   ]
  },
  {
   "cell_type": "code",
   "execution_count": 2,
   "metadata": {
    "execution": {
     "iopub.execute_input": "2021-01-26T15:11:13.357414Z",
     "iopub.status.busy": "2021-01-26T15:11:13.357101Z",
     "iopub.status.idle": "2021-01-26T15:11:13.360186Z",
     "shell.execute_reply": "2021-01-26T15:11:13.359664Z"
    }
   },
   "outputs": [],
   "source": [
    "# (x_train, y_train), (x_test, y_test) = keras.datasets.boston_housing.load_data(test_split=0.2, seed=113)"
   ]
  },
  {
   "cell_type": "markdown",
   "metadata": {},
   "source": [
    "### 2.2 - Option 2 : From a csv file\n",
    "More fun !"
   ]
  },
  {
   "cell_type": "code",
   "execution_count": 3,
   "metadata": {
    "execution": {
     "iopub.execute_input": "2021-01-26T15:11:13.363981Z",
     "iopub.status.busy": "2021-01-26T15:11:13.363607Z",
     "iopub.status.idle": "2021-01-26T15:11:13.449819Z",
     "shell.execute_reply": "2021-01-26T15:11:13.449542Z"
    }
   },
   "outputs": [
    {
     "data": {
      "text/html": [
       "<style  type=\"text/css\" >\n",
       "</style><table id=\"T_e467c_\" ><thead>    <tr>        <th class=\"blank level0\" ></th>        <th class=\"col_heading level0 col0\" >crim</th>        <th class=\"col_heading level0 col1\" >zn</th>        <th class=\"col_heading level0 col2\" >indus</th>        <th class=\"col_heading level0 col3\" >chas</th>        <th class=\"col_heading level0 col4\" >nox</th>        <th class=\"col_heading level0 col5\" >rm</th>        <th class=\"col_heading level0 col6\" >age</th>        <th class=\"col_heading level0 col7\" >dis</th>        <th class=\"col_heading level0 col8\" >rad</th>        <th class=\"col_heading level0 col9\" >tax</th>        <th class=\"col_heading level0 col10\" >ptratio</th>        <th class=\"col_heading level0 col11\" >b</th>        <th class=\"col_heading level0 col12\" >lstat</th>        <th class=\"col_heading level0 col13\" >medv</th>    </tr></thead><tbody>\n",
       "                <tr>\n",
       "                        <th id=\"T_e467c_level0_row0\" class=\"row_heading level0 row0\" >0</th>\n",
       "                        <td id=\"T_e467c_row0_col0\" class=\"data row0 col0\" >0.01</td>\n",
       "                        <td id=\"T_e467c_row0_col1\" class=\"data row0 col1\" >18.00</td>\n",
       "                        <td id=\"T_e467c_row0_col2\" class=\"data row0 col2\" >2.31</td>\n",
       "                        <td id=\"T_e467c_row0_col3\" class=\"data row0 col3\" >0.00</td>\n",
       "                        <td id=\"T_e467c_row0_col4\" class=\"data row0 col4\" >0.54</td>\n",
       "                        <td id=\"T_e467c_row0_col5\" class=\"data row0 col5\" >6.58</td>\n",
       "                        <td id=\"T_e467c_row0_col6\" class=\"data row0 col6\" >65.20</td>\n",
       "                        <td id=\"T_e467c_row0_col7\" class=\"data row0 col7\" >4.09</td>\n",
       "                        <td id=\"T_e467c_row0_col8\" class=\"data row0 col8\" >1.00</td>\n",
       "                        <td id=\"T_e467c_row0_col9\" class=\"data row0 col9\" >296.00</td>\n",
       "                        <td id=\"T_e467c_row0_col10\" class=\"data row0 col10\" >15.30</td>\n",
       "                        <td id=\"T_e467c_row0_col11\" class=\"data row0 col11\" >396.90</td>\n",
       "                        <td id=\"T_e467c_row0_col12\" class=\"data row0 col12\" >4.98</td>\n",
       "                        <td id=\"T_e467c_row0_col13\" class=\"data row0 col13\" >24.00</td>\n",
       "            </tr>\n",
       "            <tr>\n",
       "                        <th id=\"T_e467c_level0_row1\" class=\"row_heading level0 row1\" >1</th>\n",
       "                        <td id=\"T_e467c_row1_col0\" class=\"data row1 col0\" >0.03</td>\n",
       "                        <td id=\"T_e467c_row1_col1\" class=\"data row1 col1\" >0.00</td>\n",
       "                        <td id=\"T_e467c_row1_col2\" class=\"data row1 col2\" >7.07</td>\n",
       "                        <td id=\"T_e467c_row1_col3\" class=\"data row1 col3\" >0.00</td>\n",
       "                        <td id=\"T_e467c_row1_col4\" class=\"data row1 col4\" >0.47</td>\n",
       "                        <td id=\"T_e467c_row1_col5\" class=\"data row1 col5\" >6.42</td>\n",
       "                        <td id=\"T_e467c_row1_col6\" class=\"data row1 col6\" >78.90</td>\n",
       "                        <td id=\"T_e467c_row1_col7\" class=\"data row1 col7\" >4.97</td>\n",
       "                        <td id=\"T_e467c_row1_col8\" class=\"data row1 col8\" >2.00</td>\n",
       "                        <td id=\"T_e467c_row1_col9\" class=\"data row1 col9\" >242.00</td>\n",
       "                        <td id=\"T_e467c_row1_col10\" class=\"data row1 col10\" >17.80</td>\n",
       "                        <td id=\"T_e467c_row1_col11\" class=\"data row1 col11\" >396.90</td>\n",
       "                        <td id=\"T_e467c_row1_col12\" class=\"data row1 col12\" >9.14</td>\n",
       "                        <td id=\"T_e467c_row1_col13\" class=\"data row1 col13\" >21.60</td>\n",
       "            </tr>\n",
       "            <tr>\n",
       "                        <th id=\"T_e467c_level0_row2\" class=\"row_heading level0 row2\" >2</th>\n",
       "                        <td id=\"T_e467c_row2_col0\" class=\"data row2 col0\" >0.03</td>\n",
       "                        <td id=\"T_e467c_row2_col1\" class=\"data row2 col1\" >0.00</td>\n",
       "                        <td id=\"T_e467c_row2_col2\" class=\"data row2 col2\" >7.07</td>\n",
       "                        <td id=\"T_e467c_row2_col3\" class=\"data row2 col3\" >0.00</td>\n",
       "                        <td id=\"T_e467c_row2_col4\" class=\"data row2 col4\" >0.47</td>\n",
       "                        <td id=\"T_e467c_row2_col5\" class=\"data row2 col5\" >7.18</td>\n",
       "                        <td id=\"T_e467c_row2_col6\" class=\"data row2 col6\" >61.10</td>\n",
       "                        <td id=\"T_e467c_row2_col7\" class=\"data row2 col7\" >4.97</td>\n",
       "                        <td id=\"T_e467c_row2_col8\" class=\"data row2 col8\" >2.00</td>\n",
       "                        <td id=\"T_e467c_row2_col9\" class=\"data row2 col9\" >242.00</td>\n",
       "                        <td id=\"T_e467c_row2_col10\" class=\"data row2 col10\" >17.80</td>\n",
       "                        <td id=\"T_e467c_row2_col11\" class=\"data row2 col11\" >392.83</td>\n",
       "                        <td id=\"T_e467c_row2_col12\" class=\"data row2 col12\" >4.03</td>\n",
       "                        <td id=\"T_e467c_row2_col13\" class=\"data row2 col13\" >34.70</td>\n",
       "            </tr>\n",
       "            <tr>\n",
       "                        <th id=\"T_e467c_level0_row3\" class=\"row_heading level0 row3\" >3</th>\n",
       "                        <td id=\"T_e467c_row3_col0\" class=\"data row3 col0\" >0.03</td>\n",
       "                        <td id=\"T_e467c_row3_col1\" class=\"data row3 col1\" >0.00</td>\n",
       "                        <td id=\"T_e467c_row3_col2\" class=\"data row3 col2\" >2.18</td>\n",
       "                        <td id=\"T_e467c_row3_col3\" class=\"data row3 col3\" >0.00</td>\n",
       "                        <td id=\"T_e467c_row3_col4\" class=\"data row3 col4\" >0.46</td>\n",
       "                        <td id=\"T_e467c_row3_col5\" class=\"data row3 col5\" >7.00</td>\n",
       "                        <td id=\"T_e467c_row3_col6\" class=\"data row3 col6\" >45.80</td>\n",
       "                        <td id=\"T_e467c_row3_col7\" class=\"data row3 col7\" >6.06</td>\n",
       "                        <td id=\"T_e467c_row3_col8\" class=\"data row3 col8\" >3.00</td>\n",
       "                        <td id=\"T_e467c_row3_col9\" class=\"data row3 col9\" >222.00</td>\n",
       "                        <td id=\"T_e467c_row3_col10\" class=\"data row3 col10\" >18.70</td>\n",
       "                        <td id=\"T_e467c_row3_col11\" class=\"data row3 col11\" >394.63</td>\n",
       "                        <td id=\"T_e467c_row3_col12\" class=\"data row3 col12\" >2.94</td>\n",
       "                        <td id=\"T_e467c_row3_col13\" class=\"data row3 col13\" >33.40</td>\n",
       "            </tr>\n",
       "            <tr>\n",
       "                        <th id=\"T_e467c_level0_row4\" class=\"row_heading level0 row4\" >4</th>\n",
       "                        <td id=\"T_e467c_row4_col0\" class=\"data row4 col0\" >0.07</td>\n",
       "                        <td id=\"T_e467c_row4_col1\" class=\"data row4 col1\" >0.00</td>\n",
       "                        <td id=\"T_e467c_row4_col2\" class=\"data row4 col2\" >2.18</td>\n",
       "                        <td id=\"T_e467c_row4_col3\" class=\"data row4 col3\" >0.00</td>\n",
       "                        <td id=\"T_e467c_row4_col4\" class=\"data row4 col4\" >0.46</td>\n",
       "                        <td id=\"T_e467c_row4_col5\" class=\"data row4 col5\" >7.15</td>\n",
       "                        <td id=\"T_e467c_row4_col6\" class=\"data row4 col6\" >54.20</td>\n",
       "                        <td id=\"T_e467c_row4_col7\" class=\"data row4 col7\" >6.06</td>\n",
       "                        <td id=\"T_e467c_row4_col8\" class=\"data row4 col8\" >3.00</td>\n",
       "                        <td id=\"T_e467c_row4_col9\" class=\"data row4 col9\" >222.00</td>\n",
       "                        <td id=\"T_e467c_row4_col10\" class=\"data row4 col10\" >18.70</td>\n",
       "                        <td id=\"T_e467c_row4_col11\" class=\"data row4 col11\" >396.90</td>\n",
       "                        <td id=\"T_e467c_row4_col12\" class=\"data row4 col12\" >5.33</td>\n",
       "                        <td id=\"T_e467c_row4_col13\" class=\"data row4 col13\" >36.20</td>\n",
       "            </tr>\n",
       "    </tbody></table>"
      ],
      "text/plain": [
       "<pandas.io.formats.style.Styler at 0x7f811f6c7430>"
      ]
     },
     "metadata": {},
     "output_type": "display_data"
    },
    {
     "name": "stdout",
     "output_type": "stream",
     "text": [
      "Missing Data :  0   Shape is :  (506, 14)\n"
     ]
    }
   ],
   "source": [
    "data = pd.read_csv(f'{datasets_dir}/BHPD/origine/BostonHousing.csv', header=0)\n",
    "\n",
    "display(data.head(5).style.format(\"{0:.2f}\"))\n",
    "print('Missing Data : ',data.isna().sum().sum(), '  Shape is : ', data.shape)"
   ]
  },
  {
   "cell_type": "markdown",
   "metadata": {},
   "source": [
    "## Step 3 - Preparing the data\n",
    "### 3.1 - Split data\n",
    "We will use 80% of the data for training and 20% for validation.  \n",
    "x will be input data and y the expected output"
   ]
  },
  {
   "cell_type": "code",
   "execution_count": 4,
   "metadata": {
    "execution": {
     "iopub.execute_input": "2021-01-26T15:11:13.456249Z",
     "iopub.status.busy": "2021-01-26T15:11:13.455802Z",
     "iopub.status.idle": "2021-01-26T15:11:13.459408Z",
     "shell.execute_reply": "2021-01-26T15:11:13.459767Z"
    }
   },
   "outputs": [
    {
     "name": "stdout",
     "output_type": "stream",
     "text": [
      "Original data shape was :  (506, 14)\n",
      "x_train :  (354, 13) y_train :  (354,)\n",
      "x_test  :  (152, 13) y_test  :  (152,)\n"
     ]
    }
   ],
   "source": [
    "# ---- Split => train, test\n",
    "#\n",
    "data_train = data.sample(frac=0.7, axis=0)\n",
    "data_test  = data.drop(data_train.index)\n",
    "\n",
    "# ---- Split => x,y (medv is price)\n",
    "#\n",
    "x_train = data_train.drop('medv',  axis=1)\n",
    "y_train = data_train['medv']\n",
    "x_test  = data_test.drop('medv',   axis=1)\n",
    "y_test  = data_test['medv']\n",
    "\n",
    "print('Original data shape was : ',data.shape)\n",
    "print('x_train : ',x_train.shape, 'y_train : ',y_train.shape)\n",
    "print('x_test  : ',x_test.shape,  'y_test  : ',y_test.shape)"
   ]
  },
  {
   "cell_type": "markdown",
   "metadata": {},
   "source": [
    "### 3.2 - Data normalization\n",
    "**Note :** \n",
    " - All input data must be normalized, train and test.  \n",
    " - To do this we will subtract the mean and divide by the standard deviation.  \n",
    " - But test data should not be used in any way, even for normalization.  \n",
    " - The mean and the standard deviation will therefore only be calculated with the train data."
   ]
  },
  {
   "cell_type": "code",
   "execution_count": 5,
   "metadata": {
    "execution": {
     "iopub.execute_input": "2021-01-26T15:11:13.465464Z",
     "iopub.status.busy": "2021-01-26T15:11:13.465147Z",
     "iopub.status.idle": "2021-01-26T15:11:13.527821Z",
     "shell.execute_reply": "2021-01-26T15:11:13.527463Z"
    }
   },
   "outputs": [
    {
     "data": {
      "text/html": [
       "<style  type=\"text/css\" >\n",
       "</style><table id=\"T_1c3cd_\" ><caption>Before normalization :</caption><thead>    <tr>        <th class=\"blank level0\" ></th>        <th class=\"col_heading level0 col0\" >crim</th>        <th class=\"col_heading level0 col1\" >zn</th>        <th class=\"col_heading level0 col2\" >indus</th>        <th class=\"col_heading level0 col3\" >chas</th>        <th class=\"col_heading level0 col4\" >nox</th>        <th class=\"col_heading level0 col5\" >rm</th>        <th class=\"col_heading level0 col6\" >age</th>        <th class=\"col_heading level0 col7\" >dis</th>        <th class=\"col_heading level0 col8\" >rad</th>        <th class=\"col_heading level0 col9\" >tax</th>        <th class=\"col_heading level0 col10\" >ptratio</th>        <th class=\"col_heading level0 col11\" >b</th>        <th class=\"col_heading level0 col12\" >lstat</th>    </tr></thead><tbody>\n",
       "                <tr>\n",
       "                        <th id=\"T_1c3cd_level0_row0\" class=\"row_heading level0 row0\" >count</th>\n",
       "                        <td id=\"T_1c3cd_row0_col0\" class=\"data row0 col0\" >354.00</td>\n",
       "                        <td id=\"T_1c3cd_row0_col1\" class=\"data row0 col1\" >354.00</td>\n",
       "                        <td id=\"T_1c3cd_row0_col2\" class=\"data row0 col2\" >354.00</td>\n",
       "                        <td id=\"T_1c3cd_row0_col3\" class=\"data row0 col3\" >354.00</td>\n",
       "                        <td id=\"T_1c3cd_row0_col4\" class=\"data row0 col4\" >354.00</td>\n",
       "                        <td id=\"T_1c3cd_row0_col5\" class=\"data row0 col5\" >354.00</td>\n",
       "                        <td id=\"T_1c3cd_row0_col6\" class=\"data row0 col6\" >354.00</td>\n",
       "                        <td id=\"T_1c3cd_row0_col7\" class=\"data row0 col7\" >354.00</td>\n",
       "                        <td id=\"T_1c3cd_row0_col8\" class=\"data row0 col8\" >354.00</td>\n",
       "                        <td id=\"T_1c3cd_row0_col9\" class=\"data row0 col9\" >354.00</td>\n",
       "                        <td id=\"T_1c3cd_row0_col10\" class=\"data row0 col10\" >354.00</td>\n",
       "                        <td id=\"T_1c3cd_row0_col11\" class=\"data row0 col11\" >354.00</td>\n",
       "                        <td id=\"T_1c3cd_row0_col12\" class=\"data row0 col12\" >354.00</td>\n",
       "            </tr>\n",
       "            <tr>\n",
       "                        <th id=\"T_1c3cd_level0_row1\" class=\"row_heading level0 row1\" >mean</th>\n",
       "                        <td id=\"T_1c3cd_row1_col0\" class=\"data row1 col0\" >3.59</td>\n",
       "                        <td id=\"T_1c3cd_row1_col1\" class=\"data row1 col1\" >12.51</td>\n",
       "                        <td id=\"T_1c3cd_row1_col2\" class=\"data row1 col2\" >11.08</td>\n",
       "                        <td id=\"T_1c3cd_row1_col3\" class=\"data row1 col3\" >0.07</td>\n",
       "                        <td id=\"T_1c3cd_row1_col4\" class=\"data row1 col4\" >0.56</td>\n",
       "                        <td id=\"T_1c3cd_row1_col5\" class=\"data row1 col5\" >6.28</td>\n",
       "                        <td id=\"T_1c3cd_row1_col6\" class=\"data row1 col6\" >68.42</td>\n",
       "                        <td id=\"T_1c3cd_row1_col7\" class=\"data row1 col7\" >3.81</td>\n",
       "                        <td id=\"T_1c3cd_row1_col8\" class=\"data row1 col8\" >9.93</td>\n",
       "                        <td id=\"T_1c3cd_row1_col9\" class=\"data row1 col9\" >416.80</td>\n",
       "                        <td id=\"T_1c3cd_row1_col10\" class=\"data row1 col10\" >18.41</td>\n",
       "                        <td id=\"T_1c3cd_row1_col11\" class=\"data row1 col11\" >353.79</td>\n",
       "                        <td id=\"T_1c3cd_row1_col12\" class=\"data row1 col12\" >12.71</td>\n",
       "            </tr>\n",
       "            <tr>\n",
       "                        <th id=\"T_1c3cd_level0_row2\" class=\"row_heading level0 row2\" >std</th>\n",
       "                        <td id=\"T_1c3cd_row2_col0\" class=\"data row2 col0\" >7.90</td>\n",
       "                        <td id=\"T_1c3cd_row2_col1\" class=\"data row2 col1\" >24.26</td>\n",
       "                        <td id=\"T_1c3cd_row2_col2\" class=\"data row2 col2\" >6.86</td>\n",
       "                        <td id=\"T_1c3cd_row2_col3\" class=\"data row2 col3\" >0.26</td>\n",
       "                        <td id=\"T_1c3cd_row2_col4\" class=\"data row2 col4\" >0.12</td>\n",
       "                        <td id=\"T_1c3cd_row2_col5\" class=\"data row2 col5\" >0.70</td>\n",
       "                        <td id=\"T_1c3cd_row2_col6\" class=\"data row2 col6\" >28.72</td>\n",
       "                        <td id=\"T_1c3cd_row2_col7\" class=\"data row2 col7\" >2.18</td>\n",
       "                        <td id=\"T_1c3cd_row2_col8\" class=\"data row2 col8\" >8.89</td>\n",
       "                        <td id=\"T_1c3cd_row2_col9\" class=\"data row2 col9\" >167.37</td>\n",
       "                        <td id=\"T_1c3cd_row2_col10\" class=\"data row2 col10\" >2.23</td>\n",
       "                        <td id=\"T_1c3cd_row2_col11\" class=\"data row2 col11\" >94.94</td>\n",
       "                        <td id=\"T_1c3cd_row2_col12\" class=\"data row2 col12\" >6.89</td>\n",
       "            </tr>\n",
       "            <tr>\n",
       "                        <th id=\"T_1c3cd_level0_row3\" class=\"row_heading level0 row3\" >min</th>\n",
       "                        <td id=\"T_1c3cd_row3_col0\" class=\"data row3 col0\" >0.01</td>\n",
       "                        <td id=\"T_1c3cd_row3_col1\" class=\"data row3 col1\" >0.00</td>\n",
       "                        <td id=\"T_1c3cd_row3_col2\" class=\"data row3 col2\" >0.46</td>\n",
       "                        <td id=\"T_1c3cd_row3_col3\" class=\"data row3 col3\" >0.00</td>\n",
       "                        <td id=\"T_1c3cd_row3_col4\" class=\"data row3 col4\" >0.39</td>\n",
       "                        <td id=\"T_1c3cd_row3_col5\" class=\"data row3 col5\" >3.56</td>\n",
       "                        <td id=\"T_1c3cd_row3_col6\" class=\"data row3 col6\" >2.90</td>\n",
       "                        <td id=\"T_1c3cd_row3_col7\" class=\"data row3 col7\" >1.17</td>\n",
       "                        <td id=\"T_1c3cd_row3_col8\" class=\"data row3 col8\" >1.00</td>\n",
       "                        <td id=\"T_1c3cd_row3_col9\" class=\"data row3 col9\" >187.00</td>\n",
       "                        <td id=\"T_1c3cd_row3_col10\" class=\"data row3 col10\" >12.60</td>\n",
       "                        <td id=\"T_1c3cd_row3_col11\" class=\"data row3 col11\" >0.32</td>\n",
       "                        <td id=\"T_1c3cd_row3_col12\" class=\"data row3 col12\" >1.92</td>\n",
       "            </tr>\n",
       "            <tr>\n",
       "                        <th id=\"T_1c3cd_level0_row4\" class=\"row_heading level0 row4\" >25%</th>\n",
       "                        <td id=\"T_1c3cd_row4_col0\" class=\"data row4 col0\" >0.08</td>\n",
       "                        <td id=\"T_1c3cd_row4_col1\" class=\"data row4 col1\" >0.00</td>\n",
       "                        <td id=\"T_1c3cd_row4_col2\" class=\"data row4 col2\" >4.93</td>\n",
       "                        <td id=\"T_1c3cd_row4_col3\" class=\"data row4 col3\" >0.00</td>\n",
       "                        <td id=\"T_1c3cd_row4_col4\" class=\"data row4 col4\" >0.45</td>\n",
       "                        <td id=\"T_1c3cd_row4_col5\" class=\"data row4 col5\" >5.88</td>\n",
       "                        <td id=\"T_1c3cd_row4_col6\" class=\"data row4 col6\" >42.95</td>\n",
       "                        <td id=\"T_1c3cd_row4_col7\" class=\"data row4 col7\" >2.04</td>\n",
       "                        <td id=\"T_1c3cd_row4_col8\" class=\"data row4 col8\" >4.00</td>\n",
       "                        <td id=\"T_1c3cd_row4_col9\" class=\"data row4 col9\" >284.25</td>\n",
       "                        <td id=\"T_1c3cd_row4_col10\" class=\"data row4 col10\" >16.92</td>\n",
       "                        <td id=\"T_1c3cd_row4_col11\" class=\"data row4 col11\" >373.02</td>\n",
       "                        <td id=\"T_1c3cd_row4_col12\" class=\"data row4 col12\" >7.12</td>\n",
       "            </tr>\n",
       "            <tr>\n",
       "                        <th id=\"T_1c3cd_level0_row5\" class=\"row_heading level0 row5\" >50%</th>\n",
       "                        <td id=\"T_1c3cd_row5_col0\" class=\"data row5 col0\" >0.27</td>\n",
       "                        <td id=\"T_1c3cd_row5_col1\" class=\"data row5 col1\" >0.00</td>\n",
       "                        <td id=\"T_1c3cd_row5_col2\" class=\"data row5 col2\" >9.69</td>\n",
       "                        <td id=\"T_1c3cd_row5_col3\" class=\"data row5 col3\" >0.00</td>\n",
       "                        <td id=\"T_1c3cd_row5_col4\" class=\"data row5 col4\" >0.54</td>\n",
       "                        <td id=\"T_1c3cd_row5_col5\" class=\"data row5 col5\" >6.18</td>\n",
       "                        <td id=\"T_1c3cd_row5_col6\" class=\"data row5 col6\" >77.50</td>\n",
       "                        <td id=\"T_1c3cd_row5_col7\" class=\"data row5 col7\" >3.13</td>\n",
       "                        <td id=\"T_1c3cd_row5_col8\" class=\"data row5 col8\" >5.00</td>\n",
       "                        <td id=\"T_1c3cd_row5_col9\" class=\"data row5 col9\" >355.00</td>\n",
       "                        <td id=\"T_1c3cd_row5_col10\" class=\"data row5 col10\" >19.10</td>\n",
       "                        <td id=\"T_1c3cd_row5_col11\" class=\"data row5 col11\" >391.34</td>\n",
       "                        <td id=\"T_1c3cd_row5_col12\" class=\"data row5 col12\" >11.99</td>\n",
       "            </tr>\n",
       "            <tr>\n",
       "                        <th id=\"T_1c3cd_level0_row6\" class=\"row_heading level0 row6\" >75%</th>\n",
       "                        <td id=\"T_1c3cd_row6_col0\" class=\"data row6 col0\" >3.99</td>\n",
       "                        <td id=\"T_1c3cd_row6_col1\" class=\"data row6 col1\" >20.00</td>\n",
       "                        <td id=\"T_1c3cd_row6_col2\" class=\"data row6 col2\" >18.10</td>\n",
       "                        <td id=\"T_1c3cd_row6_col3\" class=\"data row6 col3\" >0.00</td>\n",
       "                        <td id=\"T_1c3cd_row6_col4\" class=\"data row6 col4\" >0.65</td>\n",
       "                        <td id=\"T_1c3cd_row6_col5\" class=\"data row6 col5\" >6.61</td>\n",
       "                        <td id=\"T_1c3cd_row6_col6\" class=\"data row6 col6\" >94.68</td>\n",
       "                        <td id=\"T_1c3cd_row6_col7\" class=\"data row6 col7\" >5.37</td>\n",
       "                        <td id=\"T_1c3cd_row6_col8\" class=\"data row6 col8\" >24.00</td>\n",
       "                        <td id=\"T_1c3cd_row6_col9\" class=\"data row6 col9\" >666.00</td>\n",
       "                        <td id=\"T_1c3cd_row6_col10\" class=\"data row6 col10\" >20.20</td>\n",
       "                        <td id=\"T_1c3cd_row6_col11\" class=\"data row6 col11\" >396.32</td>\n",
       "                        <td id=\"T_1c3cd_row6_col12\" class=\"data row6 col12\" >17.12</td>\n",
       "            </tr>\n",
       "            <tr>\n",
       "                        <th id=\"T_1c3cd_level0_row7\" class=\"row_heading level0 row7\" >max</th>\n",
       "                        <td id=\"T_1c3cd_row7_col0\" class=\"data row7 col0\" >73.53</td>\n",
       "                        <td id=\"T_1c3cd_row7_col1\" class=\"data row7 col1\" >95.00</td>\n",
       "                        <td id=\"T_1c3cd_row7_col2\" class=\"data row7 col2\" >27.74</td>\n",
       "                        <td id=\"T_1c3cd_row7_col3\" class=\"data row7 col3\" >1.00</td>\n",
       "                        <td id=\"T_1c3cd_row7_col4\" class=\"data row7 col4\" >0.87</td>\n",
       "                        <td id=\"T_1c3cd_row7_col5\" class=\"data row7 col5\" >8.78</td>\n",
       "                        <td id=\"T_1c3cd_row7_col6\" class=\"data row7 col6\" >100.00</td>\n",
       "                        <td id=\"T_1c3cd_row7_col7\" class=\"data row7 col7\" >12.13</td>\n",
       "                        <td id=\"T_1c3cd_row7_col8\" class=\"data row7 col8\" >24.00</td>\n",
       "                        <td id=\"T_1c3cd_row7_col9\" class=\"data row7 col9\" >711.00</td>\n",
       "                        <td id=\"T_1c3cd_row7_col10\" class=\"data row7 col10\" >22.00</td>\n",
       "                        <td id=\"T_1c3cd_row7_col11\" class=\"data row7 col11\" >396.90</td>\n",
       "                        <td id=\"T_1c3cd_row7_col12\" class=\"data row7 col12\" >34.41</td>\n",
       "            </tr>\n",
       "    </tbody></table>"
      ],
      "text/plain": [
       "<pandas.io.formats.style.Styler at 0x7f819d06c250>"
      ]
     },
     "metadata": {},
     "output_type": "display_data"
    },
    {
     "data": {
      "text/html": [
       "<style  type=\"text/css\" >\n",
       "</style><table id=\"T_81194_\" ><caption>After normalization :</caption><thead>    <tr>        <th class=\"blank level0\" ></th>        <th class=\"col_heading level0 col0\" >crim</th>        <th class=\"col_heading level0 col1\" >zn</th>        <th class=\"col_heading level0 col2\" >indus</th>        <th class=\"col_heading level0 col3\" >chas</th>        <th class=\"col_heading level0 col4\" >nox</th>        <th class=\"col_heading level0 col5\" >rm</th>        <th class=\"col_heading level0 col6\" >age</th>        <th class=\"col_heading level0 col7\" >dis</th>        <th class=\"col_heading level0 col8\" >rad</th>        <th class=\"col_heading level0 col9\" >tax</th>        <th class=\"col_heading level0 col10\" >ptratio</th>        <th class=\"col_heading level0 col11\" >b</th>        <th class=\"col_heading level0 col12\" >lstat</th>    </tr></thead><tbody>\n",
       "                <tr>\n",
       "                        <th id=\"T_81194_level0_row0\" class=\"row_heading level0 row0\" >count</th>\n",
       "                        <td id=\"T_81194_row0_col0\" class=\"data row0 col0\" >354.00</td>\n",
       "                        <td id=\"T_81194_row0_col1\" class=\"data row0 col1\" >354.00</td>\n",
       "                        <td id=\"T_81194_row0_col2\" class=\"data row0 col2\" >354.00</td>\n",
       "                        <td id=\"T_81194_row0_col3\" class=\"data row0 col3\" >354.00</td>\n",
       "                        <td id=\"T_81194_row0_col4\" class=\"data row0 col4\" >354.00</td>\n",
       "                        <td id=\"T_81194_row0_col5\" class=\"data row0 col5\" >354.00</td>\n",
       "                        <td id=\"T_81194_row0_col6\" class=\"data row0 col6\" >354.00</td>\n",
       "                        <td id=\"T_81194_row0_col7\" class=\"data row0 col7\" >354.00</td>\n",
       "                        <td id=\"T_81194_row0_col8\" class=\"data row0 col8\" >354.00</td>\n",
       "                        <td id=\"T_81194_row0_col9\" class=\"data row0 col9\" >354.00</td>\n",
       "                        <td id=\"T_81194_row0_col10\" class=\"data row0 col10\" >354.00</td>\n",
       "                        <td id=\"T_81194_row0_col11\" class=\"data row0 col11\" >354.00</td>\n",
       "                        <td id=\"T_81194_row0_col12\" class=\"data row0 col12\" >354.00</td>\n",
       "            </tr>\n",
       "            <tr>\n",
       "                        <th id=\"T_81194_level0_row1\" class=\"row_heading level0 row1\" >mean</th>\n",
       "                        <td id=\"T_81194_row1_col0\" class=\"data row1 col0\" >0.00</td>\n",
       "                        <td id=\"T_81194_row1_col1\" class=\"data row1 col1\" >0.00</td>\n",
       "                        <td id=\"T_81194_row1_col2\" class=\"data row1 col2\" >0.00</td>\n",
       "                        <td id=\"T_81194_row1_col3\" class=\"data row1 col3\" >-0.00</td>\n",
       "                        <td id=\"T_81194_row1_col4\" class=\"data row1 col4\" >0.00</td>\n",
       "                        <td id=\"T_81194_row1_col5\" class=\"data row1 col5\" >0.00</td>\n",
       "                        <td id=\"T_81194_row1_col6\" class=\"data row1 col6\" >0.00</td>\n",
       "                        <td id=\"T_81194_row1_col7\" class=\"data row1 col7\" >0.00</td>\n",
       "                        <td id=\"T_81194_row1_col8\" class=\"data row1 col8\" >-0.00</td>\n",
       "                        <td id=\"T_81194_row1_col9\" class=\"data row1 col9\" >0.00</td>\n",
       "                        <td id=\"T_81194_row1_col10\" class=\"data row1 col10\" >0.00</td>\n",
       "                        <td id=\"T_81194_row1_col11\" class=\"data row1 col11\" >-0.00</td>\n",
       "                        <td id=\"T_81194_row1_col12\" class=\"data row1 col12\" >0.00</td>\n",
       "            </tr>\n",
       "            <tr>\n",
       "                        <th id=\"T_81194_level0_row2\" class=\"row_heading level0 row2\" >std</th>\n",
       "                        <td id=\"T_81194_row2_col0\" class=\"data row2 col0\" >1.00</td>\n",
       "                        <td id=\"T_81194_row2_col1\" class=\"data row2 col1\" >1.00</td>\n",
       "                        <td id=\"T_81194_row2_col2\" class=\"data row2 col2\" >1.00</td>\n",
       "                        <td id=\"T_81194_row2_col3\" class=\"data row2 col3\" >1.00</td>\n",
       "                        <td id=\"T_81194_row2_col4\" class=\"data row2 col4\" >1.00</td>\n",
       "                        <td id=\"T_81194_row2_col5\" class=\"data row2 col5\" >1.00</td>\n",
       "                        <td id=\"T_81194_row2_col6\" class=\"data row2 col6\" >1.00</td>\n",
       "                        <td id=\"T_81194_row2_col7\" class=\"data row2 col7\" >1.00</td>\n",
       "                        <td id=\"T_81194_row2_col8\" class=\"data row2 col8\" >1.00</td>\n",
       "                        <td id=\"T_81194_row2_col9\" class=\"data row2 col9\" >1.00</td>\n",
       "                        <td id=\"T_81194_row2_col10\" class=\"data row2 col10\" >1.00</td>\n",
       "                        <td id=\"T_81194_row2_col11\" class=\"data row2 col11\" >1.00</td>\n",
       "                        <td id=\"T_81194_row2_col12\" class=\"data row2 col12\" >1.00</td>\n",
       "            </tr>\n",
       "            <tr>\n",
       "                        <th id=\"T_81194_level0_row3\" class=\"row_heading level0 row3\" >min</th>\n",
       "                        <td id=\"T_81194_row3_col0\" class=\"data row3 col0\" >-0.45</td>\n",
       "                        <td id=\"T_81194_row3_col1\" class=\"data row3 col1\" >-0.52</td>\n",
       "                        <td id=\"T_81194_row3_col2\" class=\"data row3 col2\" >-1.55</td>\n",
       "                        <td id=\"T_81194_row3_col3\" class=\"data row3 col3\" >-0.28</td>\n",
       "                        <td id=\"T_81194_row3_col4\" class=\"data row3 col4\" >-1.44</td>\n",
       "                        <td id=\"T_81194_row3_col5\" class=\"data row3 col5\" >-3.89</td>\n",
       "                        <td id=\"T_81194_row3_col6\" class=\"data row3 col6\" >-2.28</td>\n",
       "                        <td id=\"T_81194_row3_col7\" class=\"data row3 col7\" >-1.21</td>\n",
       "                        <td id=\"T_81194_row3_col8\" class=\"data row3 col8\" >-1.00</td>\n",
       "                        <td id=\"T_81194_row3_col9\" class=\"data row3 col9\" >-1.37</td>\n",
       "                        <td id=\"T_81194_row3_col10\" class=\"data row3 col10\" >-2.60</td>\n",
       "                        <td id=\"T_81194_row3_col11\" class=\"data row3 col11\" >-3.72</td>\n",
       "                        <td id=\"T_81194_row3_col12\" class=\"data row3 col12\" >-1.57</td>\n",
       "            </tr>\n",
       "            <tr>\n",
       "                        <th id=\"T_81194_level0_row4\" class=\"row_heading level0 row4\" >25%</th>\n",
       "                        <td id=\"T_81194_row4_col0\" class=\"data row4 col0\" >-0.44</td>\n",
       "                        <td id=\"T_81194_row4_col1\" class=\"data row4 col1\" >-0.52</td>\n",
       "                        <td id=\"T_81194_row4_col2\" class=\"data row4 col2\" >-0.90</td>\n",
       "                        <td id=\"T_81194_row4_col3\" class=\"data row4 col3\" >-0.28</td>\n",
       "                        <td id=\"T_81194_row4_col4\" class=\"data row4 col4\" >-0.91</td>\n",
       "                        <td id=\"T_81194_row4_col5\" class=\"data row4 col5\" >-0.57</td>\n",
       "                        <td id=\"T_81194_row4_col6\" class=\"data row4 col6\" >-0.89</td>\n",
       "                        <td id=\"T_81194_row4_col7\" class=\"data row4 col7\" >-0.81</td>\n",
       "                        <td id=\"T_81194_row4_col8\" class=\"data row4 col8\" >-0.67</td>\n",
       "                        <td id=\"T_81194_row4_col9\" class=\"data row4 col9\" >-0.79</td>\n",
       "                        <td id=\"T_81194_row4_col10\" class=\"data row4 col10\" >-0.66</td>\n",
       "                        <td id=\"T_81194_row4_col11\" class=\"data row4 col11\" >0.20</td>\n",
       "                        <td id=\"T_81194_row4_col12\" class=\"data row4 col12\" >-0.81</td>\n",
       "            </tr>\n",
       "            <tr>\n",
       "                        <th id=\"T_81194_level0_row5\" class=\"row_heading level0 row5\" >50%</th>\n",
       "                        <td id=\"T_81194_row5_col0\" class=\"data row5 col0\" >-0.42</td>\n",
       "                        <td id=\"T_81194_row5_col1\" class=\"data row5 col1\" >-0.52</td>\n",
       "                        <td id=\"T_81194_row5_col2\" class=\"data row5 col2\" >-0.20</td>\n",
       "                        <td id=\"T_81194_row5_col3\" class=\"data row5 col3\" >-0.28</td>\n",
       "                        <td id=\"T_81194_row5_col4\" class=\"data row5 col4\" >-0.16</td>\n",
       "                        <td id=\"T_81194_row5_col5\" class=\"data row5 col5\" >-0.14</td>\n",
       "                        <td id=\"T_81194_row5_col6\" class=\"data row5 col6\" >0.32</td>\n",
       "                        <td id=\"T_81194_row5_col7\" class=\"data row5 col7\" >-0.32</td>\n",
       "                        <td id=\"T_81194_row5_col8\" class=\"data row5 col8\" >-0.55</td>\n",
       "                        <td id=\"T_81194_row5_col9\" class=\"data row5 col9\" >-0.37</td>\n",
       "                        <td id=\"T_81194_row5_col10\" class=\"data row5 col10\" >0.31</td>\n",
       "                        <td id=\"T_81194_row5_col11\" class=\"data row5 col11\" >0.40</td>\n",
       "                        <td id=\"T_81194_row5_col12\" class=\"data row5 col12\" >-0.10</td>\n",
       "            </tr>\n",
       "            <tr>\n",
       "                        <th id=\"T_81194_level0_row6\" class=\"row_heading level0 row6\" >75%</th>\n",
       "                        <td id=\"T_81194_row6_col0\" class=\"data row6 col0\" >0.05</td>\n",
       "                        <td id=\"T_81194_row6_col1\" class=\"data row6 col1\" >0.31</td>\n",
       "                        <td id=\"T_81194_row6_col2\" class=\"data row6 col2\" >1.02</td>\n",
       "                        <td id=\"T_81194_row6_col3\" class=\"data row6 col3\" >-0.28</td>\n",
       "                        <td id=\"T_81194_row6_col4\" class=\"data row6 col4\" >0.75</td>\n",
       "                        <td id=\"T_81194_row6_col5\" class=\"data row6 col5\" >0.47</td>\n",
       "                        <td id=\"T_81194_row6_col6\" class=\"data row6 col6\" >0.91</td>\n",
       "                        <td id=\"T_81194_row6_col7\" class=\"data row6 col7\" >0.71</td>\n",
       "                        <td id=\"T_81194_row6_col8\" class=\"data row6 col8\" >1.58</td>\n",
       "                        <td id=\"T_81194_row6_col9\" class=\"data row6 col9\" >1.49</td>\n",
       "                        <td id=\"T_81194_row6_col10\" class=\"data row6 col10\" >0.81</td>\n",
       "                        <td id=\"T_81194_row6_col11\" class=\"data row6 col11\" >0.45</td>\n",
       "                        <td id=\"T_81194_row6_col12\" class=\"data row6 col12\" >0.64</td>\n",
       "            </tr>\n",
       "            <tr>\n",
       "                        <th id=\"T_81194_level0_row7\" class=\"row_heading level0 row7\" >max</th>\n",
       "                        <td id=\"T_81194_row7_col0\" class=\"data row7 col0\" >8.85</td>\n",
       "                        <td id=\"T_81194_row7_col1\" class=\"data row7 col1\" >3.40</td>\n",
       "                        <td id=\"T_81194_row7_col2\" class=\"data row7 col2\" >2.43</td>\n",
       "                        <td id=\"T_81194_row7_col3\" class=\"data row7 col3\" >3.62</td>\n",
       "                        <td id=\"T_81194_row7_col4\" class=\"data row7 col4\" >2.61</td>\n",
       "                        <td id=\"T_81194_row7_col5\" class=\"data row7 col5\" >3.58</td>\n",
       "                        <td id=\"T_81194_row7_col6\" class=\"data row7 col6\" >1.10</td>\n",
       "                        <td id=\"T_81194_row7_col7\" class=\"data row7 col7\" >3.81</td>\n",
       "                        <td id=\"T_81194_row7_col8\" class=\"data row7 col8\" >1.58</td>\n",
       "                        <td id=\"T_81194_row7_col9\" class=\"data row7 col9\" >1.76</td>\n",
       "                        <td id=\"T_81194_row7_col10\" class=\"data row7 col10\" >1.61</td>\n",
       "                        <td id=\"T_81194_row7_col11\" class=\"data row7 col11\" >0.45</td>\n",
       "                        <td id=\"T_81194_row7_col12\" class=\"data row7 col12\" >3.15</td>\n",
       "            </tr>\n",
       "    </tbody></table>"
      ],
      "text/plain": [
       "<pandas.io.formats.style.Styler at 0x7f819d067460>"
      ]
     },
     "metadata": {},
     "output_type": "display_data"
    }
   ],
   "source": [
    "display(x_train.describe().style.format(\"{0:.2f}\").set_caption(\"Before normalization :\"))\n",
    "\n",
    "mean = x_train.mean()\n",
    "std  = x_train.std()\n",
    "x_train = (x_train - mean) / std\n",
    "x_test  = (x_test  - mean) / std\n",
    "\n",
    "display(x_train.describe().style.format(\"{0:.2f}\").set_caption(\"After normalization :\"))\n",
    "\n",
    "x_train, y_train = np.array(x_train), np.array(y_train)\n",
    "x_test,  y_test  = np.array(x_test),  np.array(y_test)\n"
   ]
  },
  {
   "cell_type": "markdown",
   "metadata": {},
   "source": [
    "## Step 4 - Build a model\n",
    "More informations about : \n",
    " - [Optimizer](https://www.tensorflow.org/api_docs/python/tf/keras/optimizers)\n",
    " - [Activation](https://www.tensorflow.org/api_docs/python/tf/keras/activations)\n",
    " - [Loss](https://www.tensorflow.org/api_docs/python/tf/keras/losses)\n",
    " - [Metrics](https://www.tensorflow.org/api_docs/python/tf/keras/metrics)"
   ]
  },
  {
   "cell_type": "code",
   "execution_count": 6,
   "metadata": {
    "execution": {
     "iopub.execute_input": "2021-01-26T15:11:13.531795Z",
     "iopub.status.busy": "2021-01-26T15:11:13.531431Z",
     "iopub.status.idle": "2021-01-26T15:11:13.534120Z",
     "shell.execute_reply": "2021-01-26T15:11:13.533809Z"
    }
   },
   "outputs": [],
   "source": [
    "  def get_model_v1(shape):\n",
    "    \n",
    "    model = keras.models.Sequential()\n",
    "    model.add(keras.layers.Input(shape, name=\"InputLayer\"))\n",
    "    model.add(keras.layers.Dense(64, activation='relu', name='Dense_n1'))\n",
    "    model.add(keras.layers.Dense(64, activation='relu', name='Dense_n2'))\n",
    "    model.add(keras.layers.Dense(1, name='Output'))\n",
    "    \n",
    "    model.compile(optimizer = 'rmsprop',\n",
    "                  loss      = 'mse',\n",
    "                  metrics   = ['mae', 'mse'] )\n",
    "    return model"
   ]
  },
  {
   "cell_type": "markdown",
   "metadata": {},
   "source": [
    "## 5 - Train the model\n",
    "### 5.1 - Get it"
   ]
  },
  {
   "cell_type": "code",
   "execution_count": 7,
   "metadata": {
    "execution": {
     "iopub.execute_input": "2021-01-26T15:11:13.544825Z",
     "iopub.status.busy": "2021-01-26T15:11:13.539582Z",
     "iopub.status.idle": "2021-01-26T15:11:13.581612Z",
     "shell.execute_reply": "2021-01-26T15:11:13.581985Z"
    }
   },
   "outputs": [
    {
     "name": "stdout",
     "output_type": "stream",
     "text": [
      "Model: \"sequential\"\n",
      "_________________________________________________________________\n",
      "Layer (type)                 Output Shape              Param #   \n",
      "=================================================================\n",
      "Dense_n1 (Dense)             (None, 64)                896       \n",
      "_________________________________________________________________\n",
      "Dense_n2 (Dense)             (None, 64)                4160      \n",
      "_________________________________________________________________\n",
      "Output (Dense)               (None, 1)                 65        \n",
      "=================================================================\n",
      "Total params: 5,121\n",
      "Trainable params: 5,121\n",
      "Non-trainable params: 0\n",
      "_________________________________________________________________\n"
     ]
    }
   ],
   "source": [
    "model=get_model_v1( (13,) )\n",
    "\n",
    "model.summary()\n",
    "# img=keras.utils.plot_model( model, to_file='./run/model.png', show_shapes=True, show_layer_names=True, dpi=96)\n",
    "# display(img)"
   ]
  },
  {
   "cell_type": "markdown",
   "metadata": {},
   "source": [
    "### 5.2 - Add callback"
   ]
  },
  {
   "cell_type": "code",
   "execution_count": 8,
   "metadata": {
    "execution": {
     "iopub.execute_input": "2021-01-26T15:11:13.585231Z",
     "iopub.status.busy": "2021-01-26T15:11:13.584890Z",
     "iopub.status.idle": "2021-01-26T15:11:13.587508Z",
     "shell.execute_reply": "2021-01-26T15:11:13.587819Z"
    }
   },
   "outputs": [],
   "source": [
    "os.makedirs('./run/models',   mode=0o750, exist_ok=True)\n",
    "save_dir = \"./run/models/best_model.h5\"\n",
    "\n",
    "savemodel_callback = tf.keras.callbacks.ModelCheckpoint(filepath=save_dir, verbose=0, save_best_only=True)"
   ]
  },
  {
   "cell_type": "markdown",
   "metadata": {},
   "source": [
    "### 5.3 - Train it"
   ]
  },
  {
   "cell_type": "code",
   "execution_count": 9,
   "metadata": {
    "execution": {
     "iopub.execute_input": "2021-01-26T15:11:13.592376Z",
     "iopub.status.busy": "2021-01-26T15:11:13.592007Z",
     "iopub.status.idle": "2021-01-26T15:11:21.809235Z",
     "shell.execute_reply": "2021-01-26T15:11:21.808824Z"
    }
   },
   "outputs": [
    {
     "name": "stdout",
     "output_type": "stream",
     "text": [
      "Epoch 1/100\n"
     ]
    },
    {
     "name": "stdout",
     "output_type": "stream",
     "text": [
      "\r",
      " 1/36 [..............................] - ETA: 0s - loss: 789.2297 - mae: 26.3365 - mse: 789.2297"
     ]
    },
    {
     "name": "stdout",
     "output_type": "stream",
     "text": [
      "\b\b\b\b\b\b\b\b\b\b\b\b\b\b\b\b\b\b\b\b\b\b\b\b\b\b\b\b\b\b\b\b\b\b\b\b\b\b\b\b\b\b\b\b\b\b\b\b\b\b\b\b\b\b\b\b\b\b\b\b\b\b\b\b\b\b\b\b\b\b\b\b\b\b\b\b\b\b\b\b\b\b\b\b\b\b\b\b\b\b\b\b\b\b\b\b\r",
      "36/36 [==============================] - 0s 5ms/step - loss: 490.1920 - mae: 20.1346 - mse: 490.1920 - val_loss: 400.3235 - val_mae: 17.9279 - val_mse: 400.3235\n"
     ]
    },
    {
     "name": "stdout",
     "output_type": "stream",
     "text": [
      "Epoch 2/100\n",
      "\r",
      " 1/36 [..............................] - ETA: 0s - loss: 388.5272 - mae: 18.4144 - mse: 388.5272"
     ]
    },
    {
     "name": "stdout",
     "output_type": "stream",
     "text": [
      "\b\b\b\b\b\b\b\b\b\b\b\b\b\b\b\b\b\b\b\b\b\b\b\b\b\b\b\b\b\b\b\b\b\b\b\b\b\b\b\b\b\b\b\b\b\b\b\b\b\b\b\b\b\b\b\b\b\b\b\b\b\b\b\b\b\b\b\b\b\b\b\b\b\b\b\b\b\b\b\b\b\b\b\b\b\b\b\b\b\b\b\b\b\b\b\b\r",
      "36/36 [==============================] - 0s 2ms/step - loss: 243.5076 - mae: 13.3676 - mse: 243.5076 - val_loss: 158.8680 - val_mae: 10.3740 - val_mse: 158.8680\n"
     ]
    },
    {
     "name": "stdout",
     "output_type": "stream",
     "text": [
      "Epoch 3/100\n",
      "\r",
      " 1/36 [..............................] - ETA: 0s - loss: 123.3097 - mae: 9.8418 - mse: 123.3097"
     ]
    },
    {
     "name": "stdout",
     "output_type": "stream",
     "text": [
      "\b\b\b\b\b\b\b\b\b\b\b\b\b\b\b\b\b\b\b\b\b\b\b\b\b\b\b\b\b\b\b\b\b\b\b\b\b\b\b\b\b\b\b\b\b\b\b\b\b\b\b\b\b\b\b\b\b\b\b\b\b\b\b\b\b\b\b\b\b\b\b\b\b\b\b\b\b\b\b\b\b\b\b\b\b\b\b\b\b\b\b\b\b\b\b\r",
      "35/36 [============================>.] - ETA: 0s - loss: 85.3678 - mae: 6.8011 - mse: 85.3678  "
     ]
    },
    {
     "name": "stdout",
     "output_type": "stream",
     "text": [
      "\b\b\b\b\b\b\b\b\b\b\b\b\b\b\b\b\b\b\b\b\b\b\b\b\b\b\b\b\b\b\b\b\b\b\b\b\b\b\b\b\b\b\b\b\b\b\b\b\b\b\b\b\b\b\b\b\b\b\b\b\b\b\b\b\b\b\b\b\b\b\b\b\b\b\b\b\b\b\b\b\b\b\b\b\b\b\b\b\b\b\b\b\b\r",
      "36/36 [==============================] - 0s 3ms/step - loss: 84.6737 - mae: 6.7705 - mse: 84.6737 - val_loss: 62.8453 - val_mae: 5.7651 - val_mse: 62.8453\n"
     ]
    },
    {
     "name": "stdout",
     "output_type": "stream",
     "text": [
      "Epoch 4/100\n",
      "\r",
      " 1/36 [..............................] - ETA: 0s - loss: 56.9040 - mae: 5.8227 - mse: 56.9040"
     ]
    },
    {
     "name": "stdout",
     "output_type": "stream",
     "text": [
      "\b\b\b\b\b\b\b\b\b\b\b\b\b\b\b\b\b\b\b\b\b\b\b\b\b\b\b\b\b\b\b\b\b\b\b\b\b\b\b\b\b\b\b\b\b\b\b\b\b\b\b\b\b\b\b\b\b\b\b\b\b\b\b\b\b\b\b\b\b\b\b\b\b\b\b\b\b\b\b\b\b\b\b\b\b\b\b\b\b\b\b\b\b\r",
      "36/36 [==============================] - 0s 2ms/step - loss: 43.5140 - mae: 4.7684 - mse: 43.5140 - val_loss: 40.7181 - val_mae: 4.4866 - val_mse: 40.7181\n"
     ]
    },
    {
     "name": "stdout",
     "output_type": "stream",
     "text": [
      "Epoch 5/100\n",
      "\r",
      " 1/36 [..............................] - ETA: 0s - loss: 25.5895 - mae: 4.5046 - mse: 25.5895"
     ]
    },
    {
     "name": "stdout",
     "output_type": "stream",
     "text": [
      "\b\b\b\b\b\b\b\b\b\b\b\b\b\b\b\b\b\b\b\b\b\b\b\b\b\b\b\b\b\b\b\b\b\b\b\b\b\b\b\b\b\b\b\b\b\b\b\b\b\b\b\b\b\b\b\b\b\b\b\b\b\b\b\b\b\b\b\b\b\b\b\b\b\b\b\b\b\b\b\b\b\b\b\b\b\b\b\b\b\b\b\b\b\r",
      "36/36 [==============================] - 0s 2ms/step - loss: 29.2399 - mae: 3.9873 - mse: 29.2399 - val_loss: 31.8321 - val_mae: 4.0536 - val_mse: 31.8321\n"
     ]
    },
    {
     "name": "stdout",
     "output_type": "stream",
     "text": [
      "Epoch 6/100\n",
      "\r",
      " 1/36 [..............................] - ETA: 0s - loss: 28.6131 - mae: 4.2628 - mse: 28.6131"
     ]
    },
    {
     "name": "stdout",
     "output_type": "stream",
     "text": [
      "\b\b\b\b\b\b\b\b\b\b\b\b\b\b\b\b\b\b\b\b\b\b\b\b\b\b\b\b\b\b\b\b\b\b\b\b\b\b\b\b\b\b\b\b\b\b\b\b\b\b\b\b\b\b\b\b\b\b\b\b\b\b\b\b\b\b\b\b\b\b\b\b\b\b\b\b\b\b\b\b\b\b\b\b\b\b\b\b\b\b\b\b\b\r",
      "36/36 [==============================] - 0s 2ms/step - loss: 23.7302 - mae: 3.6071 - mse: 23.7302 - val_loss: 28.4820 - val_mae: 3.6431 - val_mse: 28.4820\n"
     ]
    },
    {
     "name": "stdout",
     "output_type": "stream",
     "text": [
      "Epoch 7/100\n",
      "\r",
      " 1/36 [..............................] - ETA: 0s - loss: 13.4863 - mae: 2.8797 - mse: 13.4863"
     ]
    },
    {
     "name": "stdout",
     "output_type": "stream",
     "text": [
      "\b\b\b\b\b\b\b\b\b\b\b\b\b\b\b\b\b\b\b\b\b\b\b\b\b\b\b\b\b\b\b\b\b\b\b\b\b\b\b\b\b\b\b\b\b\b\b\b\b\b\b\b\b\b\b\b\b\b\b\b\b\b\b\b\b\b\b\b\b\b\b\b\b\b\b\b\b\b\b\b\b\b\b\b\b\b\b\b\b\b\b\b\b\r",
      "36/36 [==============================] - 0s 2ms/step - loss: 20.9916 - mae: 3.3302 - mse: 20.9916 - val_loss: 25.1514 - val_mae: 3.5630 - val_mse: 25.1514\n"
     ]
    },
    {
     "name": "stdout",
     "output_type": "stream",
     "text": [
      "Epoch 8/100\n",
      "\r",
      " 1/36 [..............................] - ETA: 0s - loss: 48.1100 - mae: 5.2588 - mse: 48.1100"
     ]
    },
    {
     "name": "stdout",
     "output_type": "stream",
     "text": [
      "\b\b\b\b\b\b\b\b\b\b\b\b\b\b\b\b\b\b\b\b\b\b\b\b\b\b\b\b\b\b\b\b\b\b\b\b\b\b\b\b\b\b\b\b\b\b\b\b\b\b\b\b\b\b\b\b\b\b\b\b\b\b\b\b\b\b\b\b\b\b\b\b\b\b\b\b\b\b\b\b\b\b\b\b\b\b\b\b\b\b\b\b\b\r",
      "36/36 [==============================] - 0s 2ms/step - loss: 18.8880 - mae: 3.1365 - mse: 18.8880 - val_loss: 24.3134 - val_mae: 3.5267 - val_mse: 24.3134\n"
     ]
    },
    {
     "name": "stdout",
     "output_type": "stream",
     "text": [
      "Epoch 9/100\n",
      "\r",
      " 1/36 [..............................] - ETA: 0s - loss: 41.9494 - mae: 3.8969 - mse: 41.9494"
     ]
    },
    {
     "name": "stdout",
     "output_type": "stream",
     "text": [
      "\b\b\b\b\b\b\b\b\b\b\b\b\b\b\b\b\b\b\b\b\b\b\b\b\b\b\b\b\b\b\b\b\b\b\b\b\b\b\b\b\b\b\b\b\b\b\b\b\b\b\b\b\b\b\b\b\b\b\b\b\b\b\b\b\b\b\b\b\b\b\b\b\b\b\b\b\b\b\b\b\b\b\b\b\b\b\b\b\b\b\b\b\b\r",
      "36/36 [==============================] - 0s 2ms/step - loss: 17.4955 - mae: 2.9722 - mse: 17.4955 - val_loss: 20.5042 - val_mae: 3.0310 - val_mse: 20.5042\n"
     ]
    },
    {
     "name": "stdout",
     "output_type": "stream",
     "text": [
      "Epoch 10/100\n",
      "\r",
      " 1/36 [..............................] - ETA: 0s - loss: 17.7612 - mae: 3.2396 - mse: 17.7612"
     ]
    },
    {
     "name": "stdout",
     "output_type": "stream",
     "text": [
      "\b\b\b\b\b\b\b\b\b\b\b\b\b\b\b\b\b\b\b\b\b\b\b\b\b\b\b\b\b\b\b\b\b\b\b\b\b\b\b\b\b\b\b\b\b\b\b\b\b\b\b\b\b\b\b\b\b\b\b\b\b\b\b\b\b\b\b\b\b\b\b\b\b\b\b\b\b\b\b\b\b\b\b\b\b\b\b\b\b\b\b\b\b\r",
      "36/36 [==============================] - 0s 2ms/step - loss: 16.1869 - mae: 2.8582 - mse: 16.1869 - val_loss: 19.0167 - val_mae: 2.9268 - val_mse: 19.0168\n"
     ]
    },
    {
     "name": "stdout",
     "output_type": "stream",
     "text": [
      "Epoch 11/100\n",
      "\r",
      " 1/36 [..............................] - ETA: 0s - loss: 13.0373 - mae: 3.3431 - mse: 13.0373"
     ]
    },
    {
     "name": "stdout",
     "output_type": "stream",
     "text": [
      "\b\b\b\b\b\b\b\b\b\b\b\b\b\b\b\b\b\b\b\b\b\b\b\b\b\b\b\b\b\b\b\b\b\b\b\b\b\b\b\b\b\b\b\b\b\b\b\b\b\b\b\b\b\b\b\b\b\b\b\b\b\b\b\b\b\b\b\b\b\b\b\b\b\b\b\b\b\b\b\b\b\b\b\b\b\b\b\b\b\b\b\b\b\r",
      "36/36 [==============================] - 0s 2ms/step - loss: 15.0167 - mae: 2.7121 - mse: 15.0167 - val_loss: 18.4304 - val_mae: 3.0479 - val_mse: 18.4304\n"
     ]
    },
    {
     "name": "stdout",
     "output_type": "stream",
     "text": [
      "Epoch 12/100\n",
      "\r",
      " 1/36 [..............................] - ETA: 0s - loss: 12.4242 - mae: 3.2178 - mse: 12.4242"
     ]
    },
    {
     "name": "stdout",
     "output_type": "stream",
     "text": [
      "\b\b\b\b\b\b\b\b\b\b\b\b\b\b\b\b\b\b\b\b\b\b\b\b\b\b\b\b\b\b\b\b\b\b\b\b\b\b\b\b\b\b\b\b\b\b\b\b\b\b\b\b\b\b\b\b\b\b\b\b\b\b\b\b\b\b\b\b\b\b\b\b\b\b\b\b\b\b\b\b\b\b\b\b\b\b\b\b\b\b\b\b\b\r",
      "36/36 [==============================] - 0s 2ms/step - loss: 14.2538 - mae: 2.6421 - mse: 14.2538 - val_loss: 17.4586 - val_mae: 2.8057 - val_mse: 17.4586\n"
     ]
    },
    {
     "name": "stdout",
     "output_type": "stream",
     "text": [
      "Epoch 13/100\n",
      "\r",
      " 1/36 [..............................] - ETA: 0s - loss: 4.7718 - mae: 1.7164 - mse: 4.7718"
     ]
    },
    {
     "name": "stdout",
     "output_type": "stream",
     "text": [
      "\b\b\b\b\b\b\b\b\b\b\b\b\b\b\b\b\b\b\b\b\b\b\b\b\b\b\b\b\b\b\b\b\b\b\b\b\b\b\b\b\b\b\b\b\b\b\b\b\b\b\b\b\b\b\b\b\b\b\b\b\b\b\b\b\b\b\b\b\b\b\b\b\b\b\b\b\b\b\b\b\b\b\b\b\b\b\b\b\b\b\b\r",
      "36/36 [==============================] - 0s 2ms/step - loss: 13.7819 - mae: 2.5986 - mse: 13.7819 - val_loss: 16.9388 - val_mae: 2.7461 - val_mse: 16.9388\n"
     ]
    },
    {
     "name": "stdout",
     "output_type": "stream",
     "text": [
      "Epoch 14/100\n",
      "\r",
      " 1/36 [..............................] - ETA: 0s - loss: 4.5608 - mae: 1.8071 - mse: 4.5608"
     ]
    },
    {
     "name": "stdout",
     "output_type": "stream",
     "text": [
      "\b\b\b\b\b\b\b\b\b\b\b\b\b\b\b\b\b\b\b\b\b\b\b\b\b\b\b\b\b\b\b\b\b\b\b\b\b\b\b\b\b\b\b\b\b\b\b\b\b\b\b\b\b\b\b\b\b\b\b\b\b\b\b\b\b\b\b\b\b\b\b\b\b\b\b\b\b\b\b\b\b\b\b\b\b\b\b\b\b\b\b\r",
      "36/36 [==============================] - 0s 2ms/step - loss: 12.8846 - mae: 2.5294 - mse: 12.8846 - val_loss: 17.2516 - val_mae: 2.7554 - val_mse: 17.2516\n"
     ]
    },
    {
     "name": "stdout",
     "output_type": "stream",
     "text": [
      "Epoch 15/100\n",
      "\r",
      " 1/36 [..............................] - ETA: 0s - loss: 5.6014 - mae: 1.9940 - mse: 5.6014"
     ]
    },
    {
     "name": "stdout",
     "output_type": "stream",
     "text": [
      "\b\b\b\b\b\b\b\b\b\b\b\b\b\b\b\b\b\b\b\b\b\b\b\b\b\b\b\b\b\b\b\b\b\b\b\b\b\b\b\b\b\b\b\b\b\b\b\b\b\b\b\b\b\b\b\b\b\b\b\b\b\b\b\b\b\b\b\b\b\b\b\b\b\b\b\b\b\b\b\b\b\b\b\b\b\b\b\b\b\b\b\r",
      "36/36 [==============================] - 0s 2ms/step - loss: 12.6768 - mae: 2.4456 - mse: 12.6768 - val_loss: 16.4361 - val_mae: 2.8082 - val_mse: 16.4361\n"
     ]
    },
    {
     "name": "stdout",
     "output_type": "stream",
     "text": [
      "Epoch 16/100\n",
      "\r",
      " 1/36 [..............................] - ETA: 0s - loss: 17.0895 - mae: 3.0416 - mse: 17.0895"
     ]
    },
    {
     "name": "stdout",
     "output_type": "stream",
     "text": [
      "\b\b\b\b\b\b\b\b\b\b\b\b\b\b\b\b\b\b\b\b\b\b\b\b\b\b\b\b\b\b\b\b\b\b\b\b\b\b\b\b\b\b\b\b\b\b\b\b\b\b\b\b\b\b\b\b\b\b\b\b\b\b\b\b\b\b\b\b\b\b\b\b\b\b\b\b\b\b\b\b\b\b\b\b\b\b\b\b\b\b\b\b\b\r",
      "36/36 [==============================] - 0s 2ms/step - loss: 12.0759 - mae: 2.4669 - mse: 12.0759 - val_loss: 17.0790 - val_mae: 2.8120 - val_mse: 17.0790\n"
     ]
    },
    {
     "name": "stdout",
     "output_type": "stream",
     "text": [
      "Epoch 17/100\n",
      "\r",
      " 1/36 [..............................] - ETA: 0s - loss: 4.0176 - mae: 1.6579 - mse: 4.0176"
     ]
    },
    {
     "name": "stdout",
     "output_type": "stream",
     "text": [
      "\b\b\b\b\b\b\b\b\b\b\b\b\b\b\b\b\b\b\b\b\b\b\b\b\b\b\b\b\b\b\b\b\b\b\b\b\b\b\b\b\b\b\b\b\b\b\b\b\b\b\b\b\b\b\b\b\b\b\b\b\b\b\b\b\b\b\b\b\b\b\b\b\b\b\b\b\b\b\b\b\b\b\b\b\b\b\b\b\b\b\b\r",
      "36/36 [==============================] - 0s 2ms/step - loss: 11.8501 - mae: 2.3821 - mse: 11.8501 - val_loss: 16.7642 - val_mae: 2.6477 - val_mse: 16.7642\n"
     ]
    },
    {
     "name": "stdout",
     "output_type": "stream",
     "text": [
      "Epoch 18/100\n",
      "\r",
      " 1/36 [..............................] - ETA: 0s - loss: 5.2755 - mae: 2.1353 - mse: 5.2755"
     ]
    },
    {
     "name": "stdout",
     "output_type": "stream",
     "text": [
      "\b\b\b\b\b\b\b\b\b\b\b\b\b\b\b\b\b\b\b\b\b\b\b\b\b\b\b\b\b\b\b\b\b\b\b\b\b\b\b\b\b\b\b\b\b\b\b\b\b\b\b\b\b\b\b\b\b\b\b\b\b\b\b\b\b\b\b\b\b\b\b\b\b\b\b\b\b\b\b\b\b\b\b\b\b\b\b\b\b\b\b\r",
      "36/36 [==============================] - 0s 2ms/step - loss: 11.2110 - mae: 2.3728 - mse: 11.2110 - val_loss: 15.3097 - val_mae: 2.5568 - val_mse: 15.3097\n"
     ]
    },
    {
     "name": "stdout",
     "output_type": "stream",
     "text": [
      "Epoch 19/100\n",
      "\r",
      " 1/36 [..............................] - ETA: 0s - loss: 3.6383 - mae: 1.6684 - mse: 3.6383"
     ]
    },
    {
     "name": "stdout",
     "output_type": "stream",
     "text": [
      "\b\b\b\b\b\b\b\b\b\b\b\b\b\b\b\b\b\b\b\b\b\b\b\b\b\b\b\b\b\b\b\b\b\b\b\b\b\b\b\b\b\b\b\b\b\b\b\b\b\b\b\b\b\b\b\b\b\b\b\b\b\b\b\b\b\b\b\b\b\b\b\b\b\b\b\b\b\b\b\b\b\b\b\b\b\b\b\b\b\b\b\r",
      "36/36 [==============================] - 0s 2ms/step - loss: 11.2974 - mae: 2.3447 - mse: 11.2974 - val_loss: 15.3766 - val_mae: 2.6201 - val_mse: 15.3766\n"
     ]
    },
    {
     "name": "stdout",
     "output_type": "stream",
     "text": [
      "Epoch 20/100\n",
      "\r",
      " 1/36 [..............................] - ETA: 0s - loss: 5.3210 - mae: 2.0364 - mse: 5.3210"
     ]
    },
    {
     "name": "stdout",
     "output_type": "stream",
     "text": [
      "\b\b\b\b\b\b\b\b\b\b\b\b\b\b\b\b\b\b\b\b\b\b\b\b\b\b\b\b\b\b\b\b\b\b\b\b\b\b\b\b\b\b\b\b\b\b\b\b\b\b\b\b\b\b\b\b\b\b\b\b\b\b\b\b\b\b\b\b\b\b\b\b\b\b\b\b\b\b\b\b\b\b\b\b\b\b\b\b\b\b\b\r",
      "36/36 [==============================] - 0s 2ms/step - loss: 11.1116 - mae: 2.3240 - mse: 11.1116 - val_loss: 15.4354 - val_mae: 2.6671 - val_mse: 15.4354\n"
     ]
    },
    {
     "name": "stdout",
     "output_type": "stream",
     "text": [
      "Epoch 21/100\n",
      "\r",
      " 1/36 [..............................] - ETA: 0s - loss: 22.3915 - mae: 3.1857 - mse: 22.3915"
     ]
    },
    {
     "name": "stdout",
     "output_type": "stream",
     "text": [
      "\b\b\b\b\b\b\b\b\b\b\b\b\b\b\b\b\b\b\b\b\b\b\b\b\b\b\b\b\b\b\b\b\b\b\b\b\b\b\b\b\b\b\b\b\b\b\b\b\b\b\b\b\b\b\b\b\b\b\b\b\b\b\b\b\b\b\b\b\b\b\b\b\b\b\b\b\b\b\b\b\b\b\b\b\b\b\b\b\b\b\b\b\b\r",
      "36/36 [==============================] - 0s 2ms/step - loss: 10.7894 - mae: 2.2745 - mse: 10.7894 - val_loss: 15.6384 - val_mae: 2.7457 - val_mse: 15.6384\n"
     ]
    },
    {
     "name": "stdout",
     "output_type": "stream",
     "text": [
      "Epoch 22/100\n",
      "\r",
      " 1/36 [..............................] - ETA: 0s - loss: 6.4214 - mae: 2.1479 - mse: 6.4214"
     ]
    },
    {
     "name": "stdout",
     "output_type": "stream",
     "text": [
      "\b\b\b\b\b\b\b\b\b\b\b\b\b\b\b\b\b\b\b\b\b\b\b\b\b\b\b\b\b\b\b\b\b\b\b\b\b\b\b\b\b\b\b\b\b\b\b\b\b\b\b\b\b\b\b\b\b\b\b\b\b\b\b\b\b\b\b\b\b\b\b\b\b\b\b\b\b\b\b\b\b\b\b\b\b\b\b\b\b\b\b\r",
      "36/36 [==============================] - 0s 2ms/step - loss: 10.6817 - mae: 2.2611 - mse: 10.6817 - val_loss: 15.9030 - val_mae: 2.6089 - val_mse: 15.9029\n"
     ]
    },
    {
     "name": "stdout",
     "output_type": "stream",
     "text": [
      "Epoch 23/100\n",
      "\r",
      " 1/36 [..............................] - ETA: 0s - loss: 4.2436 - mae: 1.6992 - mse: 4.2436"
     ]
    },
    {
     "name": "stdout",
     "output_type": "stream",
     "text": [
      "\b\b\b\b\b\b\b\b\b\b\b\b\b\b\b\b\b\b\b\b\b\b\b\b\b\b\b\b\b\b\b\b\b\b\b\b\b\b\b\b\b\b\b\b\b\b\b\b\b\b\b\b\b\b\b\b\b\b\b\b\b\b\b\b\b\b\b\b\b\b\b\b\b\b\b\b\b\b\b\b\b\b\b\b\b\b\b\b\b\b\b\r",
      "36/36 [==============================] - 0s 2ms/step - loss: 10.7614 - mae: 2.2213 - mse: 10.7614 - val_loss: 14.6001 - val_mae: 2.6063 - val_mse: 14.6001\n"
     ]
    },
    {
     "name": "stdout",
     "output_type": "stream",
     "text": [
      "Epoch 24/100\n",
      "\r",
      " 1/36 [..............................] - ETA: 0s - loss: 25.7706 - mae: 3.5717 - mse: 25.7706"
     ]
    },
    {
     "name": "stdout",
     "output_type": "stream",
     "text": [
      "\b\b\b\b\b\b\b\b\b\b\b\b\b\b\b\b\b\b\b\b\b\b\b\b\b\b\b\b\b\b\b\b\b\b\b\b\b\b\b\b\b\b\b\b\b\b\b\b\b\b\b\b\b\b\b\b\b\b\b\b\b\b\b\b\b\b\b\b\b\b\b\b\b\b\b\b\b\b\b\b\b\b\b\b\b\b\b\b\b\b\b\b\b\r",
      "36/36 [==============================] - 0s 2ms/step - loss: 10.2193 - mae: 2.1972 - mse: 10.2193 - val_loss: 15.6784 - val_mae: 2.5965 - val_mse: 15.6784\n"
     ]
    },
    {
     "name": "stdout",
     "output_type": "stream",
     "text": [
      "Epoch 25/100\n",
      "\r",
      " 1/36 [..............................] - ETA: 0s - loss: 5.5324 - mae: 1.9912 - mse: 5.5324"
     ]
    },
    {
     "name": "stdout",
     "output_type": "stream",
     "text": [
      "\b\b\b\b\b\b\b\b\b\b\b\b\b\b\b\b\b\b\b\b\b\b\b\b\b\b\b\b\b\b\b\b\b\b\b\b\b\b\b\b\b\b\b\b\b\b\b\b\b\b\b\b\b\b\b\b\b\b\b\b\b\b\b\b\b\b\b\b\b\b\b\b\b\b\b\b\b\b\b\b\b\b\b\b\b\b\b\b\b\b\b\r",
      "36/36 [==============================] - 0s 2ms/step - loss: 10.1249 - mae: 2.1809 - mse: 10.1249 - val_loss: 15.2282 - val_mae: 2.5837 - val_mse: 15.2282\n"
     ]
    },
    {
     "name": "stdout",
     "output_type": "stream",
     "text": [
      "Epoch 26/100\n",
      "\r",
      " 1/36 [..............................] - ETA: 0s - loss: 2.2377 - mae: 1.1077 - mse: 2.2377"
     ]
    },
    {
     "name": "stdout",
     "output_type": "stream",
     "text": [
      "\b\b\b\b\b\b\b\b\b\b\b\b\b\b\b\b\b\b\b\b\b\b\b\b\b\b\b\b\b\b\b\b\b\b\b\b\b\b\b\b\b\b\b\b\b\b\b\b\b\b\b\b\b\b\b\b\b\b\b\b\b\b\b\b\b\b\b\b\b\b\b\b\b\b\b\b\b\b\b\b\b\b\b\b\b\b\b\b\b\b\b\r",
      "36/36 [==============================] - 0s 2ms/step - loss: 9.9233 - mae: 2.1763 - mse: 9.9233 - val_loss: 15.6670 - val_mae: 2.6928 - val_mse: 15.6670\n"
     ]
    },
    {
     "name": "stdout",
     "output_type": "stream",
     "text": [
      "Epoch 27/100\n",
      "\r",
      " 1/36 [..............................] - ETA: 0s - loss: 11.4387 - mae: 2.7029 - mse: 11.4387"
     ]
    },
    {
     "name": "stdout",
     "output_type": "stream",
     "text": [
      "\b\b\b\b\b\b\b\b\b\b\b\b\b\b\b\b\b\b\b\b\b\b\b\b\b\b\b\b\b\b\b\b\b\b\b\b\b\b\b\b\b\b\b\b\b\b\b\b\b\b\b\b\b\b\b\b\b\b\b\b\b\b\b\b\b\b\b\b\b\b\b\b\b\b\b\b\b\b\b\b\b\b\b\b\b\b\b\b\b\b\b\b\b\r",
      "36/36 [==============================] - 0s 2ms/step - loss: 9.6919 - mae: 2.1547 - mse: 9.6919 - val_loss: 14.1283 - val_mae: 2.5286 - val_mse: 14.1283\n"
     ]
    },
    {
     "name": "stdout",
     "output_type": "stream",
     "text": [
      "Epoch 28/100\n",
      "\r",
      " 1/36 [..............................] - ETA: 0s - loss: 4.8911 - mae: 1.9812 - mse: 4.8911"
     ]
    },
    {
     "name": "stdout",
     "output_type": "stream",
     "text": [
      "\b\b\b\b\b\b\b\b\b\b\b\b\b\b\b\b\b\b\b\b\b\b\b\b\b\b\b\b\b\b\b\b\b\b\b\b\b\b\b\b\b\b\b\b\b\b\b\b\b\b\b\b\b\b\b\b\b\b\b\b\b\b\b\b\b\b\b\b\b\b\b\b\b\b\b\b\b\b\b\b\b\b\b\b\b\b\b\b\b\b\b\r",
      "36/36 [==============================] - 0s 2ms/step - loss: 9.7451 - mae: 2.1941 - mse: 9.7451 - val_loss: 14.1609 - val_mae: 2.5382 - val_mse: 14.1609\n"
     ]
    },
    {
     "name": "stdout",
     "output_type": "stream",
     "text": [
      "Epoch 29/100\n",
      "\r",
      " 1/36 [..............................] - ETA: 0s - loss: 4.6152 - mae: 1.7277 - mse: 4.6152"
     ]
    },
    {
     "name": "stdout",
     "output_type": "stream",
     "text": [
      "\b\b\b\b\b\b\b\b\b\b\b\b\b\b\b\b\b\b\b\b\b\b\b\b\b\b\b\b\b\b\b\b\b\b\b\b\b\b\b\b\b\b\b\b\b\b\b\b\b\b\b\b\b\b\b\b\b\b\b\b\b\b\b\b\b\b\b\b\b\b\b\b\b\b\b\b\b\b\b\b\b\b\b\b\b\b\b\b\b\b\b\r",
      "36/36 [==============================] - 0s 2ms/step - loss: 9.3923 - mae: 2.1035 - mse: 9.3923 - val_loss: 14.8381 - val_mae: 2.7038 - val_mse: 14.8381\n"
     ]
    },
    {
     "name": "stdout",
     "output_type": "stream",
     "text": [
      "Epoch 30/100\n",
      "\r",
      " 1/36 [..............................] - ETA: 0s - loss: 7.5951 - mae: 2.3817 - mse: 7.5951"
     ]
    },
    {
     "name": "stdout",
     "output_type": "stream",
     "text": [
      "\b\b\b\b\b\b\b\b\b\b\b\b\b\b\b\b\b\b\b\b\b\b\b\b\b\b\b\b\b\b\b\b\b\b\b\b\b\b\b\b\b\b\b\b\b\b\b\b\b\b\b\b\b\b\b\b\b\b\b\b\b\b\b\b\b\b\b\b\b\b\b\b\b\b\b\b\b\b\b\b\b\b\b\b\b\b\b\b\b\b\b\r",
      "36/36 [==============================] - 0s 2ms/step - loss: 9.3849 - mae: 2.1030 - mse: 9.3849 - val_loss: 13.7527 - val_mae: 2.5303 - val_mse: 13.7527\n"
     ]
    },
    {
     "name": "stdout",
     "output_type": "stream",
     "text": [
      "Epoch 31/100\n",
      "\r",
      " 1/36 [..............................] - ETA: 0s - loss: 10.3757 - mae: 2.2797 - mse: 10.3757"
     ]
    },
    {
     "name": "stdout",
     "output_type": "stream",
     "text": [
      "\b\b\b\b\b\b\b\b\b\b\b\b\b\b\b\b\b\b\b\b\b\b\b\b\b\b\b\b\b\b\b\b\b\b\b\b\b\b\b\b\b\b\b\b\b\b\b\b\b\b\b\b\b\b\b\b\b\b\b\b\b\b\b\b\b\b\b\b\b\b\b\b\b\b\b\b\b\b\b\b\b\b\b\b\b\b\b\b\b\b\b\b\b\r",
      "36/36 [==============================] - 0s 2ms/step - loss: 9.2955 - mae: 2.0881 - mse: 9.2955 - val_loss: 13.9640 - val_mae: 2.4943 - val_mse: 13.9640\n"
     ]
    },
    {
     "name": "stdout",
     "output_type": "stream",
     "text": [
      "Epoch 32/100\n",
      "\r",
      " 1/36 [..............................] - ETA: 0s - loss: 1.7013 - mae: 1.0237 - mse: 1.7013"
     ]
    },
    {
     "name": "stdout",
     "output_type": "stream",
     "text": [
      "\b\b\b\b\b\b\b\b\b\b\b\b\b\b\b\b\b\b\b\b\b\b\b\b\b\b\b\b\b\b\b\b\b\b\b\b\b\b\b\b\b\b\b\b\b\b\b\b\b\b\b\b\b\b\b\b\b\b\b\b\b\b\b\b\b\b\b\b\b\b\b\b\b\b\b\b\b\b\b\b\b\b\b\b\b\b\b\b\b\b\b\r",
      "36/36 [==============================] - 0s 2ms/step - loss: 8.9611 - mae: 2.0217 - mse: 8.9611 - val_loss: 14.2293 - val_mae: 2.5926 - val_mse: 14.2293\n"
     ]
    },
    {
     "name": "stdout",
     "output_type": "stream",
     "text": [
      "Epoch 33/100\n",
      "\r",
      " 1/36 [..............................] - ETA: 0s - loss: 29.0072 - mae: 3.0677 - mse: 29.0072"
     ]
    },
    {
     "name": "stdout",
     "output_type": "stream",
     "text": [
      "\b\b\b\b\b\b\b\b\b\b\b\b\b\b\b\b\b\b\b\b\b\b\b\b\b\b\b\b\b\b\b\b\b\b\b\b\b\b\b\b\b\b\b\b\b\b\b\b\b\b\b\b\b\b\b\b\b\b\b\b\b\b\b\b\b\b\b\b\b\b\b\b\b\b\b\b\b\b\b\b\b\b\b\b\b\b\b\b\b\b\b\b\b\r",
      "36/36 [==============================] - 0s 2ms/step - loss: 9.0227 - mae: 2.0812 - mse: 9.0227 - val_loss: 14.0698 - val_mae: 2.5126 - val_mse: 14.0698\n"
     ]
    },
    {
     "name": "stdout",
     "output_type": "stream",
     "text": [
      "Epoch 34/100\n",
      "\r",
      " 1/36 [..............................] - ETA: 0s - loss: 4.3387 - mae: 1.4956 - mse: 4.3387"
     ]
    },
    {
     "name": "stdout",
     "output_type": "stream",
     "text": [
      "\b\b\b\b\b\b\b\b\b\b\b\b\b\b\b\b\b\b\b\b\b\b\b\b\b\b\b\b\b\b\b\b\b\b\b\b\b\b\b\b\b\b\b\b\b\b\b\b\b\b\b\b\b\b\b\b\b\b\b\b\b\b\b\b\b\b\b\b\b\b\b\b\b\b\b\b\b\b\b\b\b\b\b\b\b\b\b\b\b\b\b\r",
      "36/36 [==============================] - 0s 2ms/step - loss: 9.0294 - mae: 2.0612 - mse: 9.0294 - val_loss: 14.0525 - val_mae: 2.6183 - val_mse: 14.0525\n"
     ]
    },
    {
     "name": "stdout",
     "output_type": "stream",
     "text": [
      "Epoch 35/100\n",
      "\r",
      " 1/36 [..............................] - ETA: 0s - loss: 3.9999 - mae: 1.7044 - mse: 3.9999"
     ]
    },
    {
     "name": "stdout",
     "output_type": "stream",
     "text": [
      "\b\b\b\b\b\b\b\b\b\b\b\b\b\b\b\b\b\b\b\b\b\b\b\b\b\b\b\b\b\b\b\b\b\b\b\b\b\b\b\b\b\b\b\b\b\b\b\b\b\b\b\b\b\b\b\b\b\b\b\b\b\b\b\b\b\b\b\b\b\b\b\b\b\b\b\b\b\b\b\b\b\b\b\b\b\b\b\b\b\b\b\r",
      "36/36 [==============================] - 0s 2ms/step - loss: 8.7516 - mae: 2.0113 - mse: 8.7516 - val_loss: 13.3438 - val_mae: 2.4716 - val_mse: 13.3438\n"
     ]
    },
    {
     "name": "stdout",
     "output_type": "stream",
     "text": [
      "Epoch 36/100\n",
      "\r",
      " 1/36 [..............................] - ETA: 0s - loss: 9.9559 - mae: 2.1261 - mse: 9.9559"
     ]
    },
    {
     "name": "stdout",
     "output_type": "stream",
     "text": [
      "\b\b\b\b\b\b\b\b\b\b\b\b\b\b\b\b\b\b\b\b\b\b\b\b\b\b\b\b\b\b\b\b\b\b\b\b\b\b\b\b\b\b\b\b\b\b\b\b\b\b\b\b\b\b\b\b\b\b\b\b\b\b\b\b\b\b\b\b\b\b\b\b\b\b\b\b\b\b\b\b\b\b\b\b\b\b\b\b\b\b\b\r",
      "36/36 [==============================] - 0s 2ms/step - loss: 8.5895 - mae: 2.0199 - mse: 8.5895 - val_loss: 14.1211 - val_mae: 2.5441 - val_mse: 14.1211\n"
     ]
    },
    {
     "name": "stdout",
     "output_type": "stream",
     "text": [
      "Epoch 37/100\n",
      "\r",
      " 1/36 [..............................] - ETA: 0s - loss: 6.2959 - mae: 1.7283 - mse: 6.2959"
     ]
    },
    {
     "name": "stdout",
     "output_type": "stream",
     "text": [
      "\b\b\b\b\b\b\b\b\b\b\b\b\b\b\b\b\b\b\b\b\b\b\b\b\b\b\b\b\b\b\b\b\b\b\b\b\b\b\b\b\b\b\b\b\b\b\b\b\b\b\b\b\b\b\b\b\b\b\b\b\b\b\b\b\b\b\b\b\b\b\b\b\b\b\b\b\b\b\b\b\b\b\b\b\b\b\b\b\b\b\b\r",
      "36/36 [==============================] - 0s 2ms/step - loss: 8.5076 - mae: 2.0127 - mse: 8.5076 - val_loss: 14.9473 - val_mae: 2.6213 - val_mse: 14.9473\n"
     ]
    },
    {
     "name": "stdout",
     "output_type": "stream",
     "text": [
      "Epoch 38/100\n",
      "\r",
      " 1/36 [..............................] - ETA: 0s - loss: 9.4354 - mae: 2.2976 - mse: 9.4354"
     ]
    },
    {
     "name": "stdout",
     "output_type": "stream",
     "text": [
      "\b\b\b\b\b\b\b\b\b\b\b\b\b\b\b\b\b\b\b\b\b\b\b\b\b\b\b\b\b\b\b\b\b\b\b\b\b\b\b\b\b\b\b\b\b\b\b\b\b\b\b\b\b\b\b\b\b\b\b\b\b\b\b\b\b\b\b\b\b\b\b\b\b\b\b\b\b\b\b\b\b\b\b\b\b\b\b\b\b\b\b\r",
      "36/36 [==============================] - 0s 2ms/step - loss: 8.3655 - mae: 1.9468 - mse: 8.3655 - val_loss: 16.0129 - val_mae: 2.9967 - val_mse: 16.0129\n"
     ]
    },
    {
     "name": "stdout",
     "output_type": "stream",
     "text": [
      "Epoch 39/100\n",
      "\r",
      " 1/36 [..............................] - ETA: 0s - loss: 7.0406 - mae: 2.2434 - mse: 7.0406"
     ]
    },
    {
     "name": "stdout",
     "output_type": "stream",
     "text": [
      "\b\b\b\b\b\b\b\b\b\b\b\b\b\b\b\b\b\b\b\b\b\b\b\b\b\b\b\b\b\b\b\b\b\b\b\b\b\b\b\b\b\b\b\b\b\b\b\b\b\b\b\b\b\b\b\b\b\b\b\b\b\b\b\b\b\b\b\b\b\b\b\b\b\b\b\b\b\b\b\b\b\b\b\b\b\b\b\b\b\b\b\r",
      "36/36 [==============================] - 0s 2ms/step - loss: 8.3378 - mae: 1.9972 - mse: 8.3378 - val_loss: 12.9133 - val_mae: 2.5104 - val_mse: 12.9133\n"
     ]
    },
    {
     "name": "stdout",
     "output_type": "stream",
     "text": [
      "Epoch 40/100\n",
      "\r",
      " 1/36 [..............................] - ETA: 0s - loss: 7.8621 - mae: 2.2893 - mse: 7.8621"
     ]
    },
    {
     "name": "stdout",
     "output_type": "stream",
     "text": [
      "\b\b\b\b\b\b\b\b\b\b\b\b\b\b\b\b\b\b\b\b\b\b\b\b\b\b\b\b\b\b\b\b\b\b\b\b\b\b\b\b\b\b\b\b\b\b\b\b\b\b\b\b\b\b\b\b\b\b\b\b\b\b\b\b\b\b\b\b\b\b\b\b\b\b\b\b\b\b\b\b\b\b\b\b\b\b\b\b\b\b\b\r",
      "36/36 [==============================] - 0s 2ms/step - loss: 8.2431 - mae: 1.9952 - mse: 8.2431 - val_loss: 13.2183 - val_mae: 2.4690 - val_mse: 13.2183\n"
     ]
    },
    {
     "name": "stdout",
     "output_type": "stream",
     "text": [
      "Epoch 41/100\n",
      "\r",
      " 1/36 [..............................] - ETA: 0s - loss: 4.2978 - mae: 1.7720 - mse: 4.2978"
     ]
    },
    {
     "name": "stdout",
     "output_type": "stream",
     "text": [
      "\b\b\b\b\b\b\b\b\b\b\b\b\b\b\b\b\b\b\b\b\b\b\b\b\b\b\b\b\b\b\b\b\b\b\b\b\b\b\b\b\b\b\b\b\b\b\b\b\b\b\b\b\b\b\b\b\b\b\b\b\b\b\b\b\b\b\b\b\b\b\b\b\b\b\b\b\b\b\b\b\b\b\b\b\b\b\b\b\b\b\b\r",
      "36/36 [==============================] - 0s 2ms/step - loss: 8.1977 - mae: 1.9636 - mse: 8.1977 - val_loss: 13.3909 - val_mae: 2.5680 - val_mse: 13.3909\n"
     ]
    },
    {
     "name": "stdout",
     "output_type": "stream",
     "text": [
      "Epoch 42/100\n",
      "\r",
      " 1/36 [..............................] - ETA: 0s - loss: 7.7478 - mae: 2.3700 - mse: 7.7478"
     ]
    },
    {
     "name": "stdout",
     "output_type": "stream",
     "text": [
      "\b\b\b\b\b\b\b\b\b\b\b\b\b\b\b\b\b\b\b\b\b\b\b\b\b\b\b\b\b\b\b\b\b\b\b\b\b\b\b\b\b\b\b\b\b\b\b\b\b\b\b\b\b\b\b\b\b\b\b\b\b\b\b\b\b\b\b\b\b\b\b\b\b\b\b\b\b\b\b\b\b\b\b\b\b\b\b\b\b\b\b\r",
      "36/36 [==============================] - 0s 2ms/step - loss: 8.2985 - mae: 1.9830 - mse: 8.2985 - val_loss: 13.5719 - val_mae: 2.5750 - val_mse: 13.5719\n"
     ]
    },
    {
     "name": "stdout",
     "output_type": "stream",
     "text": [
      "Epoch 43/100\n",
      "\r",
      " 1/36 [..............................] - ETA: 0s - loss: 5.0734 - mae: 1.8705 - mse: 5.0734"
     ]
    },
    {
     "name": "stdout",
     "output_type": "stream",
     "text": [
      "\b\b\b\b\b\b\b\b\b\b\b\b\b\b\b\b\b\b\b\b\b\b\b\b\b\b\b\b\b\b\b\b\b\b\b\b\b\b\b\b\b\b\b\b\b\b\b\b\b\b\b\b\b\b\b\b\b\b\b\b\b\b\b\b\b\b\b\b\b\b\b\b\b\b\b\b\b\b\b\b\b\b\b\b\b\b\b\b\b\b\b\r",
      "36/36 [==============================] - 0s 2ms/step - loss: 8.0263 - mae: 1.9229 - mse: 8.0263 - val_loss: 13.7250 - val_mae: 2.5314 - val_mse: 13.7250\n"
     ]
    },
    {
     "name": "stdout",
     "output_type": "stream",
     "text": [
      "Epoch 44/100\n",
      "\r",
      " 1/36 [..............................] - ETA: 0s - loss: 3.5913 - mae: 1.5571 - mse: 3.5913"
     ]
    },
    {
     "name": "stdout",
     "output_type": "stream",
     "text": [
      "\b\b\b\b\b\b\b\b\b\b\b\b\b\b\b\b\b\b\b\b\b\b\b\b\b\b\b\b\b\b\b\b\b\b\b\b\b\b\b\b\b\b\b\b\b\b\b\b\b\b\b\b\b\b\b\b\b\b\b\b\b\b\b\b\b\b\b\b\b\b\b\b\b\b\b\b\b\b\b\b\b\b\b\b\b\b\b\b\b\b\b\r",
      "36/36 [==============================] - 0s 2ms/step - loss: 7.7840 - mae: 1.9168 - mse: 7.7840 - val_loss: 13.1653 - val_mae: 2.4561 - val_mse: 13.1653\n"
     ]
    },
    {
     "name": "stdout",
     "output_type": "stream",
     "text": [
      "Epoch 45/100\n",
      "\r",
      " 1/36 [..............................] - ETA: 0s - loss: 6.7348 - mae: 1.9642 - mse: 6.7348"
     ]
    },
    {
     "name": "stdout",
     "output_type": "stream",
     "text": [
      "\b\b\b\b\b\b\b\b\b\b\b\b\b\b\b\b\b\b\b\b\b\b\b\b\b\b\b\b\b\b\b\b\b\b\b\b\b\b\b\b\b\b\b\b\b\b\b\b\b\b\b\b\b\b\b\b\b\b\b\b\b\b\b\b\b\b\b\b\b\b\b\b\b\b\b\b\b\b\b\b\b\b\b\b\b\b\b\b\b\b\b\r",
      "36/36 [==============================] - 0s 2ms/step - loss: 7.8550 - mae: 1.9512 - mse: 7.8550 - val_loss: 12.6144 - val_mae: 2.5175 - val_mse: 12.6144\n"
     ]
    },
    {
     "name": "stdout",
     "output_type": "stream",
     "text": [
      "Epoch 46/100\n",
      "\r",
      " 1/36 [..............................] - ETA: 0s - loss: 7.1294 - mae: 1.8667 - mse: 7.1294"
     ]
    },
    {
     "name": "stdout",
     "output_type": "stream",
     "text": [
      "\b\b\b\b\b\b\b\b\b\b\b\b\b\b\b\b\b\b\b\b\b\b\b\b\b\b\b\b\b\b\b\b\b\b\b\b\b\b\b\b\b\b\b\b\b\b\b\b\b\b\b\b\b\b\b\b\b\b\b\b\b\b\b\b\b\b\b\b\b\b\b\b\b\b\b\b\b\b\b\b\b\b\b\b\b\b\b\b\b\b\b\r",
      "36/36 [==============================] - 0s 2ms/step - loss: 7.8599 - mae: 1.9569 - mse: 7.8599 - val_loss: 12.6077 - val_mae: 2.4727 - val_mse: 12.6077\n"
     ]
    },
    {
     "name": "stdout",
     "output_type": "stream",
     "text": [
      "Epoch 47/100\n",
      "\r",
      " 1/36 [..............................] - ETA: 0s - loss: 2.3414 - mae: 1.0427 - mse: 2.3414"
     ]
    },
    {
     "name": "stdout",
     "output_type": "stream",
     "text": [
      "\b\b\b\b\b\b\b\b\b\b\b\b\b\b\b\b\b\b\b\b\b\b\b\b\b\b\b\b\b\b\b\b\b\b\b\b\b\b\b\b\b\b\b\b\b\b\b\b\b\b\b\b\b\b\b\b\b\b\b\b\b\b\b\b\b\b\b\b\b\b\b\b\b\b\b\b\b\b\b\b\b\b\b\b\b\b\b\b\b\b\b\r",
      "36/36 [==============================] - 0s 2ms/step - loss: 7.8154 - mae: 1.8915 - mse: 7.8154 - val_loss: 12.8613 - val_mae: 2.4571 - val_mse: 12.8613\n"
     ]
    },
    {
     "name": "stdout",
     "output_type": "stream",
     "text": [
      "Epoch 48/100\n",
      "\r",
      " 1/36 [..............................] - ETA: 0s - loss: 1.9289 - mae: 0.9229 - mse: 1.9289"
     ]
    },
    {
     "name": "stdout",
     "output_type": "stream",
     "text": [
      "\b\b\b\b\b\b\b\b\b\b\b\b\b\b\b\b\b\b\b\b\b\b\b\b\b\b\b\b\b\b\b\b\b\b\b\b\b\b\b\b\b\b\b\b\b\b\b\b\b\b\b\b\b\b\b\b\b\b\b\b\b\b\b\b\b\b\b\b\b\b\b\b\b\b\b\b\b\b\b\b\b\b\b\b\b\b\b\b\b\b\b\r",
      "36/36 [==============================] - 0s 2ms/step - loss: 7.4309 - mae: 1.8785 - mse: 7.4309 - val_loss: 14.9141 - val_mae: 2.5885 - val_mse: 14.9141\n"
     ]
    },
    {
     "name": "stdout",
     "output_type": "stream",
     "text": [
      "Epoch 49/100\n",
      "\r",
      " 1/36 [..............................] - ETA: 0s - loss: 10.4623 - mae: 2.0517 - mse: 10.4623"
     ]
    },
    {
     "name": "stdout",
     "output_type": "stream",
     "text": [
      "\b\b\b\b\b\b\b\b\b\b\b\b\b\b\b\b\b\b\b\b\b\b\b\b\b\b\b\b\b\b\b\b\b\b\b\b\b\b\b\b\b\b\b\b\b\b\b\b\b\b\b\b\b\b\b\b\b\b\b\b\b\b\b\b\b\b\b\b\b\b\b\b\b\b\b\b\b\b\b\b\b\b\b\b\b\b\b\b\b\b\b\b\b\r",
      "36/36 [==============================] - 0s 2ms/step - loss: 7.5172 - mae: 1.8802 - mse: 7.5172 - val_loss: 13.3405 - val_mae: 2.5187 - val_mse: 13.3405\n"
     ]
    },
    {
     "name": "stdout",
     "output_type": "stream",
     "text": [
      "Epoch 50/100\n",
      "\r",
      " 1/36 [..............................] - ETA: 0s - loss: 3.7719 - mae: 1.6304 - mse: 3.7719"
     ]
    },
    {
     "name": "stdout",
     "output_type": "stream",
     "text": [
      "\b\b\b\b\b\b\b\b\b\b\b\b\b\b\b\b\b\b\b\b\b\b\b\b\b\b\b\b\b\b\b\b\b\b\b\b\b\b\b\b\b\b\b\b\b\b\b\b\b\b\b\b\b\b\b\b\b\b\b\b\b\b\b\b\b\b\b\b\b\b\b\b\b\b\b\b\b\b\b\b\b\b\b\b\b\b\b\b\b\b\b\r",
      "36/36 [==============================] - 0s 2ms/step - loss: 7.5482 - mae: 1.8925 - mse: 7.5482 - val_loss: 12.2768 - val_mae: 2.4135 - val_mse: 12.2768\n"
     ]
    },
    {
     "name": "stdout",
     "output_type": "stream",
     "text": [
      "Epoch 51/100\n",
      "\r",
      " 1/36 [..............................] - ETA: 0s - loss: 6.6832 - mae: 1.8979 - mse: 6.6832"
     ]
    },
    {
     "name": "stdout",
     "output_type": "stream",
     "text": [
      "\b\b\b\b\b\b\b\b\b\b\b\b\b\b\b\b\b\b\b\b\b\b\b\b\b\b\b\b\b\b\b\b\b\b\b\b\b\b\b\b\b\b\b\b\b\b\b\b\b\b\b\b\b\b\b\b\b\b\b\b\b\b\b\b\b\b\b\b\b\b\b\b\b\b\b\b\b\b\b\b\b\b\b\b\b\b\b\b\b\b\b\r",
      "36/36 [==============================] - 0s 2ms/step - loss: 7.3205 - mae: 1.8904 - mse: 7.3205 - val_loss: 12.3155 - val_mae: 2.4075 - val_mse: 12.3155\n"
     ]
    },
    {
     "name": "stdout",
     "output_type": "stream",
     "text": [
      "Epoch 52/100\n",
      "\r",
      " 1/36 [..............................] - ETA: 0s - loss: 5.1183 - mae: 1.7874 - mse: 5.1183"
     ]
    },
    {
     "name": "stdout",
     "output_type": "stream",
     "text": [
      "\b\b\b\b\b\b\b\b\b\b\b\b\b\b\b\b\b\b\b\b\b\b\b\b\b\b\b\b\b\b\b\b\b\b\b\b\b\b\b\b\b\b\b\b\b\b\b\b\b\b\b\b\b\b\b\b\b\b\b\b\b\b\b\b\b\b\b\b\b\b\b\b\b\b\b\b\b\b\b\b\b\b\b\b\b\b\b\b\b\b\b\r",
      "36/36 [==============================] - 0s 2ms/step - loss: 7.2283 - mae: 1.8878 - mse: 7.2283 - val_loss: 12.6281 - val_mae: 2.3866 - val_mse: 12.6281\n"
     ]
    },
    {
     "name": "stdout",
     "output_type": "stream",
     "text": [
      "Epoch 53/100\n",
      "\r",
      " 1/36 [..............................] - ETA: 0s - loss: 4.2185 - mae: 1.5925 - mse: 4.2185"
     ]
    },
    {
     "name": "stdout",
     "output_type": "stream",
     "text": [
      "\b\b\b\b\b\b\b\b\b\b\b\b\b\b\b\b\b\b\b\b\b\b\b\b\b\b\b\b\b\b\b\b\b\b\b\b\b\b\b\b\b\b\b\b\b\b\b\b\b\b\b\b\b\b\b\b\b\b\b\b\b\b\b\b\b\b\b\b\b\b\b\b\b\b\b\b\b\b\b\b\b\b\b\b\b\b\b\b\b\b\b\r",
      "36/36 [==============================] - 0s 2ms/step - loss: 7.2048 - mae: 1.8427 - mse: 7.2048 - val_loss: 12.6665 - val_mae: 2.4466 - val_mse: 12.6665\n"
     ]
    },
    {
     "name": "stdout",
     "output_type": "stream",
     "text": [
      "Epoch 54/100\n",
      "\r",
      " 1/36 [..............................] - ETA: 0s - loss: 46.2204 - mae: 3.7168 - mse: 46.2204"
     ]
    },
    {
     "name": "stdout",
     "output_type": "stream",
     "text": [
      "\b\b\b\b\b\b\b\b\b\b\b\b\b\b\b\b\b\b\b\b\b\b\b\b\b\b\b\b\b\b\b\b\b\b\b\b\b\b\b\b\b\b\b\b\b\b\b\b\b\b\b\b\b\b\b\b\b\b\b\b\b\b\b\b\b\b\b\b\b\b\b\b\b\b\b\b\b\b\b\b\b\b\b\b\b\b\b\b\b\b\b\b\b\r",
      "36/36 [==============================] - 0s 2ms/step - loss: 7.0233 - mae: 1.8355 - mse: 7.0233 - val_loss: 12.9432 - val_mae: 2.4135 - val_mse: 12.9432\n"
     ]
    },
    {
     "name": "stdout",
     "output_type": "stream",
     "text": [
      "Epoch 55/100\n",
      "\r",
      " 1/36 [..............................] - ETA: 0s - loss: 3.3886 - mae: 1.4049 - mse: 3.3886"
     ]
    },
    {
     "name": "stdout",
     "output_type": "stream",
     "text": [
      "\b\b\b\b\b\b\b\b\b\b\b\b\b\b\b\b\b\b\b\b\b\b\b\b\b\b\b\b\b\b\b\b\b\b\b\b\b\b\b\b\b\b\b\b\b\b\b\b\b\b\b\b\b\b\b\b\b\b\b\b\b\b\b\b\b\b\b\b\b\b\b\b\b\b\b\b\b\b\b\b\b\b\b\b\b\b\b\b\b\b\b\r",
      "36/36 [==============================] - 0s 2ms/step - loss: 6.9198 - mae: 1.8756 - mse: 6.9198 - val_loss: 12.0267 - val_mae: 2.3811 - val_mse: 12.0267\n"
     ]
    },
    {
     "name": "stdout",
     "output_type": "stream",
     "text": [
      "Epoch 56/100\n",
      "\r",
      " 1/36 [..............................] - ETA: 0s - loss: 3.6256 - mae: 1.6881 - mse: 3.6256"
     ]
    },
    {
     "name": "stdout",
     "output_type": "stream",
     "text": [
      "\b\b\b\b\b\b\b\b\b\b\b\b\b\b\b\b\b\b\b\b\b\b\b\b\b\b\b\b\b\b\b\b\b\b\b\b\b\b\b\b\b\b\b\b\b\b\b\b\b\b\b\b\b\b\b\b\b\b\b\b\b\b\b\b\b\b\b\b\b\b\b\b\b\b\b\b\b\b\b\b\b\b\b\b\b\b\b\b\b\b\b\r",
      "36/36 [==============================] - 0s 2ms/step - loss: 7.0188 - mae: 1.8313 - mse: 7.0188 - val_loss: 13.4204 - val_mae: 2.7211 - val_mse: 13.4204\n"
     ]
    },
    {
     "name": "stdout",
     "output_type": "stream",
     "text": [
      "Epoch 57/100\n",
      "\r",
      " 1/36 [..............................] - ETA: 0s - loss: 3.0646 - mae: 1.5393 - mse: 3.0646"
     ]
    },
    {
     "name": "stdout",
     "output_type": "stream",
     "text": [
      "\b\b\b\b\b\b\b\b\b\b\b\b\b\b\b\b\b\b\b\b\b\b\b\b\b\b\b\b\b\b\b\b\b\b\b\b\b\b\b\b\b\b\b\b\b\b\b\b\b\b\b\b\b\b\b\b\b\b\b\b\b\b\b\b\b\b\b\b\b\b\b\b\b\b\b\b\b\b\b\b\b\b\b\b\b\b\b\b\b\b\b\r",
      "36/36 [==============================] - 0s 2ms/step - loss: 6.8576 - mae: 1.8177 - mse: 6.8576 - val_loss: 11.9274 - val_mae: 2.3876 - val_mse: 11.9274\n"
     ]
    },
    {
     "name": "stdout",
     "output_type": "stream",
     "text": [
      "Epoch 58/100\n",
      "\r",
      " 1/36 [..............................] - ETA: 0s - loss: 4.7752 - mae: 1.8080 - mse: 4.7752"
     ]
    },
    {
     "name": "stdout",
     "output_type": "stream",
     "text": [
      "\b\b\b\b\b\b\b\b\b\b\b\b\b\b\b\b\b\b\b\b\b\b\b\b\b\b\b\b\b\b\b\b\b\b\b\b\b\b\b\b\b\b\b\b\b\b\b\b\b\b\b\b\b\b\b\b\b\b\b\b\b\b\b\b\b\b\b\b\b\b\b\b\b\b\b\b\b\b\b\b\b\b\b\b\b\b\b\b\b\b\b\r",
      "36/36 [==============================] - 0s 2ms/step - loss: 6.7224 - mae: 1.8302 - mse: 6.7224 - val_loss: 11.7541 - val_mae: 2.3634 - val_mse: 11.7541\n"
     ]
    },
    {
     "name": "stdout",
     "output_type": "stream",
     "text": [
      "Epoch 59/100\n",
      "\r",
      " 1/36 [..............................] - ETA: 0s - loss: 2.1849 - mae: 1.2227 - mse: 2.1849"
     ]
    },
    {
     "name": "stdout",
     "output_type": "stream",
     "text": [
      "\b\b\b\b\b\b\b\b\b\b\b\b\b\b\b\b\b\b\b\b\b\b\b\b\b\b\b\b\b\b\b\b\b\b\b\b\b\b\b\b\b\b\b\b\b\b\b\b\b\b\b\b\b\b\b\b\b\b\b\b\b\b\b\b\b\b\b\b\b\b\b\b\b\b\b\b\b\b\b\b\b\b\b\b\b\b\b\b\b\b\b\r",
      "36/36 [==============================] - 0s 2ms/step - loss: 6.5203 - mae: 1.8080 - mse: 6.5203 - val_loss: 12.3871 - val_mae: 2.3990 - val_mse: 12.3871\n"
     ]
    },
    {
     "name": "stdout",
     "output_type": "stream",
     "text": [
      "Epoch 60/100\n",
      "\r",
      " 1/36 [..............................] - ETA: 0s - loss: 6.9132 - mae: 2.2178 - mse: 6.9132"
     ]
    },
    {
     "name": "stdout",
     "output_type": "stream",
     "text": [
      "\b\b\b\b\b\b\b\b\b\b\b\b\b\b\b\b\b\b\b\b\b\b\b\b\b\b\b\b\b\b\b\b\b\b\b\b\b\b\b\b\b\b\b\b\b\b\b\b\b\b\b\b\b\b\b\b\b\b\b\b\b\b\b\b\b\b\b\b\b\b\b\b\b\b\b\b\b\b\b\b\b\b\b\b\b\b\b\b\b\b\b\r",
      "36/36 [==============================] - 0s 2ms/step - loss: 6.6835 - mae: 1.8123 - mse: 6.6835 - val_loss: 12.9390 - val_mae: 2.4603 - val_mse: 12.9390\n"
     ]
    },
    {
     "name": "stdout",
     "output_type": "stream",
     "text": [
      "Epoch 61/100\n",
      "\r",
      " 1/36 [..............................] - ETA: 0s - loss: 3.9258 - mae: 1.6678 - mse: 3.9258"
     ]
    },
    {
     "name": "stdout",
     "output_type": "stream",
     "text": [
      "\b\b\b\b\b\b\b\b\b\b\b\b\b\b\b\b\b\b\b\b\b\b\b\b\b\b\b\b\b\b\b\b\b\b\b\b\b\b\b\b\b\b\b\b\b\b\b\b\b\b\b\b\b\b\b\b\b\b\b\b\b\b\b\b\b\b\b\b\b\b\b\b\b\b\b\b\b\b\b\b\b\b\b\b\b\b\b\b\b\b\b\r",
      "36/36 [==============================] - 0s 2ms/step - loss: 6.4623 - mae: 1.7705 - mse: 6.4623 - val_loss: 13.1334 - val_mae: 2.5527 - val_mse: 13.1334\n"
     ]
    },
    {
     "name": "stdout",
     "output_type": "stream",
     "text": [
      "Epoch 62/100\n",
      "\r",
      " 1/36 [..............................] - ETA: 0s - loss: 6.3565 - mae: 2.2262 - mse: 6.3565"
     ]
    },
    {
     "name": "stdout",
     "output_type": "stream",
     "text": [
      "\b\b\b\b\b\b\b\b\b\b\b\b\b\b\b\b\b\b\b\b\b\b\b\b\b\b\b\b\b\b\b\b\b\b\b\b\b\b\b\b\b\b\b\b\b\b\b\b\b\b\b\b\b\b\b\b\b\b\b\b\b\b\b\b\b\b\b\b\b\b\b\b\b\b\b\b\b\b\b\b\b\b\b\b\b\b\b\b\b\b\b\r",
      "36/36 [==============================] - 0s 2ms/step - loss: 6.5736 - mae: 1.7826 - mse: 6.5736 - val_loss: 12.6240 - val_mae: 2.5111 - val_mse: 12.6240\n"
     ]
    },
    {
     "name": "stdout",
     "output_type": "stream",
     "text": [
      "Epoch 63/100\n",
      "\r",
      " 1/36 [..............................] - ETA: 0s - loss: 3.8692 - mae: 1.5904 - mse: 3.8692"
     ]
    },
    {
     "name": "stdout",
     "output_type": "stream",
     "text": [
      "\b\b\b\b\b\b\b\b\b\b\b\b\b\b\b\b\b\b\b\b\b\b\b\b\b\b\b\b\b\b\b\b\b\b\b\b\b\b\b\b\b\b\b\b\b\b\b\b\b\b\b\b\b\b\b\b\b\b\b\b\b\b\b\b\b\b\b\b\b\b\b\b\b\b\b\b\b\b\b\b\b\b\b\b\b\b\b\b\b\b\b\r",
      "36/36 [==============================] - 0s 2ms/step - loss: 6.6151 - mae: 1.7981 - mse: 6.6151 - val_loss: 12.1113 - val_mae: 2.4282 - val_mse: 12.1113\n"
     ]
    },
    {
     "name": "stdout",
     "output_type": "stream",
     "text": [
      "Epoch 64/100\n",
      "\r",
      " 1/36 [..............................] - ETA: 0s - loss: 4.4650 - mae: 1.7936 - mse: 4.4650"
     ]
    },
    {
     "name": "stdout",
     "output_type": "stream",
     "text": [
      "\b\b\b\b\b\b\b\b\b\b\b\b\b\b\b\b\b\b\b\b\b\b\b\b\b\b\b\b\b\b\b\b\b\b\b\b\b\b\b\b\b\b\b\b\b\b\b\b\b\b\b\b\b\b\b\b\b\b\b\b\b\b\b\b\b\b\b\b\b\b\b\b\b\b\b\b\b\b\b\b\b\b\b\b\b\b\b\b\b\b\b\r",
      "36/36 [==============================] - 0s 2ms/step - loss: 6.3145 - mae: 1.7612 - mse: 6.3145 - val_loss: 12.0467 - val_mae: 2.5314 - val_mse: 12.0467\n"
     ]
    },
    {
     "name": "stdout",
     "output_type": "stream",
     "text": [
      "Epoch 65/100\n",
      "\r",
      " 1/36 [..............................] - ETA: 0s - loss: 8.3727 - mae: 2.3840 - mse: 8.3727"
     ]
    },
    {
     "name": "stdout",
     "output_type": "stream",
     "text": [
      "\b\b\b\b\b\b\b\b\b\b\b\b\b\b\b\b\b\b\b\b\b\b\b\b\b\b\b\b\b\b\b\b\b\b\b\b\b\b\b\b\b\b\b\b\b\b\b\b\b\b\b\b\b\b\b\b\b\b\b\b\b\b\b\b\b\b\b\b\b\b\b\b\b\b\b\b\b\b\b\b\b\b\b\b\b\b\b\b\b\b\b\r",
      "36/36 [==============================] - 0s 2ms/step - loss: 6.3090 - mae: 1.7931 - mse: 6.3090 - val_loss: 11.9528 - val_mae: 2.4584 - val_mse: 11.9528\n"
     ]
    },
    {
     "name": "stdout",
     "output_type": "stream",
     "text": [
      "Epoch 66/100\n",
      "\r",
      " 1/36 [..............................] - ETA: 0s - loss: 2.5810 - mae: 1.2768 - mse: 2.5810"
     ]
    },
    {
     "name": "stdout",
     "output_type": "stream",
     "text": [
      "\b\b\b\b\b\b\b\b\b\b\b\b\b\b\b\b\b\b\b\b\b\b\b\b\b\b\b\b\b\b\b\b\b\b\b\b\b\b\b\b\b\b\b\b\b\b\b\b\b\b\b\b\b\b\b\b\b\b\b\b\b\b\b\b\b\b\b\b\b\b\b\b\b\b\b\b\b\b\b\b\b\b\b\b\b\b\b\b\b\b\b\r",
      "36/36 [==============================] - 0s 2ms/step - loss: 6.2595 - mae: 1.7417 - mse: 6.2595 - val_loss: 11.9418 - val_mae: 2.4955 - val_mse: 11.9418\n"
     ]
    },
    {
     "name": "stdout",
     "output_type": "stream",
     "text": [
      "Epoch 67/100\n",
      "\r",
      " 1/36 [..............................] - ETA: 0s - loss: 41.1246 - mae: 3.7465 - mse: 41.1246"
     ]
    },
    {
     "name": "stdout",
     "output_type": "stream",
     "text": [
      "\b\b\b\b\b\b\b\b\b\b\b\b\b\b\b\b\b\b\b\b\b\b\b\b\b\b\b\b\b\b\b\b\b\b\b\b\b\b\b\b\b\b\b\b\b\b\b\b\b\b\b\b\b\b\b\b\b\b\b\b\b\b\b\b\b\b\b\b\b\b\b\b\b\b\b\b\b\b\b\b\b\b\b\b\b\b\b\b\b\b\b\b\b\r",
      "36/36 [==============================] - 0s 2ms/step - loss: 6.1648 - mae: 1.7757 - mse: 6.1648 - val_loss: 11.3975 - val_mae: 2.3143 - val_mse: 11.3975\n"
     ]
    },
    {
     "name": "stdout",
     "output_type": "stream",
     "text": [
      "Epoch 68/100\n",
      "\r",
      " 1/36 [..............................] - ETA: 0s - loss: 2.5277 - mae: 1.1879 - mse: 2.5277"
     ]
    },
    {
     "name": "stdout",
     "output_type": "stream",
     "text": [
      "\b\b\b\b\b\b\b\b\b\b\b\b\b\b\b\b\b\b\b\b\b\b\b\b\b\b\b\b\b\b\b\b\b\b\b\b\b\b\b\b\b\b\b\b\b\b\b\b\b\b\b\b\b\b\b\b\b\b\b\b\b\b\b\b\b\b\b\b\b\b\b\b\b\b\b\b\b\b\b\b\b\b\b\b\b\b\b\b\b\b\b\r",
      "36/36 [==============================] - 0s 2ms/step - loss: 6.0316 - mae: 1.7394 - mse: 6.0316 - val_loss: 12.9436 - val_mae: 2.4545 - val_mse: 12.9436\n"
     ]
    },
    {
     "name": "stdout",
     "output_type": "stream",
     "text": [
      "Epoch 69/100\n",
      "\r",
      " 1/36 [..............................] - ETA: 0s - loss: 4.7709 - mae: 1.8244 - mse: 4.7709"
     ]
    },
    {
     "name": "stdout",
     "output_type": "stream",
     "text": [
      "\b\b\b\b\b\b\b\b\b\b\b\b\b\b\b\b\b\b\b\b\b\b\b\b\b\b\b\b\b\b\b\b\b\b\b\b\b\b\b\b\b\b\b\b\b\b\b\b\b\b\b\b\b\b\b\b\b\b\b\b\b\b\b\b\b\b\b\b\b\b\b\b\b\b\b\b\b\b\b\b\b\b\b\b\b\b\b\b\b\b\b\r",
      "36/36 [==============================] - 0s 2ms/step - loss: 6.0497 - mae: 1.7391 - mse: 6.0497 - val_loss: 12.3473 - val_mae: 2.5819 - val_mse: 12.3473\n"
     ]
    },
    {
     "name": "stdout",
     "output_type": "stream",
     "text": [
      "Epoch 70/100\n",
      "\r",
      " 1/36 [..............................] - ETA: 0s - loss: 3.5775 - mae: 1.4766 - mse: 3.5775"
     ]
    },
    {
     "name": "stdout",
     "output_type": "stream",
     "text": [
      "\b\b\b\b\b\b\b\b\b\b\b\b\b\b\b\b\b\b\b\b\b\b\b\b\b\b\b\b\b\b\b\b\b\b\b\b\b\b\b\b\b\b\b\b\b\b\b\b\b\b\b\b\b\b\b\b\b\b\b\b\b\b\b\b\b\b\b\b\b\b\b\b\b\b\b\b\b\b\b\b\b\b\b\b\b\b\b\b\b\b\b\r",
      "36/36 [==============================] - 0s 2ms/step - loss: 5.9074 - mae: 1.7288 - mse: 5.9074 - val_loss: 11.5661 - val_mae: 2.3705 - val_mse: 11.5661\n"
     ]
    },
    {
     "name": "stdout",
     "output_type": "stream",
     "text": [
      "Epoch 71/100\n",
      "\r",
      " 1/36 [..............................] - ETA: 0s - loss: 5.8586 - mae: 2.0126 - mse: 5.8586"
     ]
    },
    {
     "name": "stdout",
     "output_type": "stream",
     "text": [
      "\b\b\b\b\b\b\b\b\b\b\b\b\b\b\b\b\b\b\b\b\b\b\b\b\b\b\b\b\b\b\b\b\b\b\b\b\b\b\b\b\b\b\b\b\b\b\b\b\b\b\b\b\b\b\b\b\b\b\b\b\b\b\b\b\b\b\b\b\b\b\b\b\b\b\b\b\b\b\b\b\b\b\b\b\b\b\b\b\b\b\b\r",
      "36/36 [==============================] - 0s 2ms/step - loss: 5.9333 - mae: 1.7099 - mse: 5.9333 - val_loss: 11.9268 - val_mae: 2.3874 - val_mse: 11.9268\n"
     ]
    },
    {
     "name": "stdout",
     "output_type": "stream",
     "text": [
      "Epoch 72/100\n",
      "\r",
      " 1/36 [..............................] - ETA: 0s - loss: 1.3440 - mae: 1.0062 - mse: 1.3440"
     ]
    },
    {
     "name": "stdout",
     "output_type": "stream",
     "text": [
      "\b\b\b\b\b\b\b\b\b\b\b\b\b\b\b\b\b\b\b\b\b\b\b\b\b\b\b\b\b\b\b\b\b\b\b\b\b\b\b\b\b\b\b\b\b\b\b\b\b\b\b\b\b\b\b\b\b\b\b\b\b\b\b\b\b\b\b\b\b\b\b\b\b\b\b\b\b\b\b\b\b\b\b\b\b\b\b\b\b\b\b\r",
      "36/36 [==============================] - 0s 2ms/step - loss: 6.0889 - mae: 1.7559 - mse: 6.0889 - val_loss: 11.4048 - val_mae: 2.3403 - val_mse: 11.4048\n"
     ]
    },
    {
     "name": "stdout",
     "output_type": "stream",
     "text": [
      "Epoch 73/100\n",
      "\r",
      " 1/36 [..............................] - ETA: 0s - loss: 9.2074 - mae: 2.2444 - mse: 9.2074"
     ]
    },
    {
     "name": "stdout",
     "output_type": "stream",
     "text": [
      "\b\b\b\b\b\b\b\b\b\b\b\b\b\b\b\b\b\b\b\b\b\b\b\b\b\b\b\b\b\b\b\b\b\b\b\b\b\b\b\b\b\b\b\b\b\b\b\b\b\b\b\b\b\b\b\b\b\b\b\b\b\b\b\b\b\b\b\b\b\b\b\b\b\b\b\b\b\b\b\b\b\b\b\b\b\b\b\b\b\b\b\r",
      "36/36 [==============================] - 0s 2ms/step - loss: 5.8944 - mae: 1.7038 - mse: 5.8944 - val_loss: 12.5398 - val_mae: 2.5254 - val_mse: 12.5398\n"
     ]
    },
    {
     "name": "stdout",
     "output_type": "stream",
     "text": [
      "Epoch 74/100\n",
      "\r",
      " 1/36 [..............................] - ETA: 0s - loss: 5.6049 - mae: 1.9092 - mse: 5.6049"
     ]
    },
    {
     "name": "stdout",
     "output_type": "stream",
     "text": [
      "\b\b\b\b\b\b\b\b\b\b\b\b\b\b\b\b\b\b\b\b\b\b\b\b\b\b\b\b\b\b\b\b\b\b\b\b\b\b\b\b\b\b\b\b\b\b\b\b\b\b\b\b\b\b\b\b\b\b\b\b\b\b\b\b\b\b\b\b\b\b\b\b\b\b\b\b\b\b\b\b\b\b\b\b\b\b\b\b\b\b\b\r",
      "36/36 [==============================] - 0s 2ms/step - loss: 5.7702 - mae: 1.6731 - mse: 5.7702 - val_loss: 11.8589 - val_mae: 2.4291 - val_mse: 11.8589\n"
     ]
    },
    {
     "name": "stdout",
     "output_type": "stream",
     "text": [
      "Epoch 75/100\n",
      "\r",
      " 1/36 [..............................] - ETA: 0s - loss: 11.4862 - mae: 2.8122 - mse: 11.4862"
     ]
    },
    {
     "name": "stdout",
     "output_type": "stream",
     "text": [
      "\b\b\b\b\b\b\b\b\b\b\b\b\b\b\b\b\b\b\b\b\b\b\b\b\b\b\b\b\b\b\b\b\b\b\b\b\b\b\b\b\b\b\b\b\b\b\b\b\b\b\b\b\b\b\b\b\b\b\b\b\b\b\b\b\b\b\b\b\b\b\b\b\b\b\b\b\b\b\b\b\b\b\b\b\b\b\b\b\b\b\b\b\b\r",
      "36/36 [==============================] - 0s 2ms/step - loss: 5.6214 - mae: 1.6770 - mse: 5.6214 - val_loss: 13.0445 - val_mae: 2.6862 - val_mse: 13.0445\n"
     ]
    },
    {
     "name": "stdout",
     "output_type": "stream",
     "text": [
      "Epoch 76/100\n",
      "\r",
      " 1/36 [..............................] - ETA: 0s - loss: 16.1102 - mae: 3.3538 - mse: 16.1102"
     ]
    },
    {
     "name": "stdout",
     "output_type": "stream",
     "text": [
      "\b\b\b\b\b\b\b\b\b\b\b\b\b\b\b\b\b\b\b\b\b\b\b\b\b\b\b\b\b\b\b\b\b\b\b\b\b\b\b\b\b\b\b\b\b\b\b\b\b\b\b\b\b\b\b\b\b\b\b\b\b\b\b\b\b\b\b\b\b\b\b\b\b\b\b\b\b\b\b\b\b\b\b\b\b\b\b\b\b\b\b\b\b\r",
      "36/36 [==============================] - 0s 2ms/step - loss: 5.7656 - mae: 1.7123 - mse: 5.7656 - val_loss: 11.1105 - val_mae: 2.3023 - val_mse: 11.1105\n"
     ]
    },
    {
     "name": "stdout",
     "output_type": "stream",
     "text": [
      "Epoch 77/100\n",
      "\r",
      " 1/36 [..............................] - ETA: 0s - loss: 2.2238 - mae: 1.1720 - mse: 2.2238"
     ]
    },
    {
     "name": "stdout",
     "output_type": "stream",
     "text": [
      "\b\b\b\b\b\b\b\b\b\b\b\b\b\b\b\b\b\b\b\b\b\b\b\b\b\b\b\b\b\b\b\b\b\b\b\b\b\b\b\b\b\b\b\b\b\b\b\b\b\b\b\b\b\b\b\b\b\b\b\b\b\b\b\b\b\b\b\b\b\b\b\b\b\b\b\b\b\b\b\b\b\b\b\b\b\b\b\b\b\b\b\r",
      "36/36 [==============================] - 0s 2ms/step - loss: 5.5032 - mae: 1.6921 - mse: 5.5032 - val_loss: 11.3942 - val_mae: 2.3032 - val_mse: 11.3942\n"
     ]
    },
    {
     "name": "stdout",
     "output_type": "stream",
     "text": [
      "Epoch 78/100\n",
      "\r",
      " 1/36 [..............................] - ETA: 0s - loss: 4.7189 - mae: 1.7934 - mse: 4.7189"
     ]
    },
    {
     "name": "stdout",
     "output_type": "stream",
     "text": [
      "\b\b\b\b\b\b\b\b\b\b\b\b\b\b\b\b\b\b\b\b\b\b\b\b\b\b\b\b\b\b\b\b\b\b\b\b\b\b\b\b\b\b\b\b\b\b\b\b\b\b\b\b\b\b\b\b\b\b\b\b\b\b\b\b\b\b\b\b\b\b\b\b\b\b\b\b\b\b\b\b\b\b\b\b\b\b\b\b\b\b\b\r",
      "36/36 [==============================] - 0s 2ms/step - loss: 5.4934 - mae: 1.6632 - mse: 5.4934 - val_loss: 11.3899 - val_mae: 2.3005 - val_mse: 11.3899\n"
     ]
    },
    {
     "name": "stdout",
     "output_type": "stream",
     "text": [
      "Epoch 79/100\n",
      "\r",
      " 1/36 [..............................] - ETA: 0s - loss: 8.2901 - mae: 2.0116 - mse: 8.2901"
     ]
    },
    {
     "name": "stdout",
     "output_type": "stream",
     "text": [
      "\b\b\b\b\b\b\b\b\b\b\b\b\b\b\b\b\b\b\b\b\b\b\b\b\b\b\b\b\b\b\b\b\b\b\b\b\b\b\b\b\b\b\b\b\b\b\b\b\b\b\b\b\b\b\b\b\b\b\b\b\b\b\b\b\b\b\b\b\b\b\b\b\b\b\b\b\b\b\b\b\b\b\b\b\b\b\b\b\b\b\b\r",
      "36/36 [==============================] - 0s 2ms/step - loss: 5.4496 - mae: 1.6426 - mse: 5.4496 - val_loss: 11.0353 - val_mae: 2.3698 - val_mse: 11.0353\n"
     ]
    },
    {
     "name": "stdout",
     "output_type": "stream",
     "text": [
      "Epoch 80/100\n",
      "\r",
      " 1/36 [..............................] - ETA: 0s - loss: 7.3579 - mae: 1.9061 - mse: 7.3579"
     ]
    },
    {
     "name": "stdout",
     "output_type": "stream",
     "text": [
      "\b\b\b\b\b\b\b\b\b\b\b\b\b\b\b\b\b\b\b\b\b\b\b\b\b\b\b\b\b\b\b\b\b\b\b\b\b\b\b\b\b\b\b\b\b\b\b\b\b\b\b\b\b\b\b\b\b\b\b\b\b\b\b\b\b\b\b\b\b\b\b\b\b\b\b\b\b\b\b\b\b\b\b\b\b\b\b\b\b\b\b\r",
      "36/36 [==============================] - 0s 2ms/step - loss: 5.5562 - mae: 1.6544 - mse: 5.5562 - val_loss: 11.6129 - val_mae: 2.3694 - val_mse: 11.6129\n"
     ]
    },
    {
     "name": "stdout",
     "output_type": "stream",
     "text": [
      "Epoch 81/100\n",
      "\r",
      " 1/36 [..............................] - ETA: 0s - loss: 2.6983 - mae: 1.3810 - mse: 2.6983"
     ]
    },
    {
     "name": "stdout",
     "output_type": "stream",
     "text": [
      "\b\b\b\b\b\b\b\b\b\b\b\b\b\b\b\b\b\b\b\b\b\b\b\b\b\b\b\b\b\b\b\b\b\b\b\b\b\b\b\b\b\b\b\b\b\b\b\b\b\b\b\b\b\b\b\b\b\b\b\b\b\b\b\b\b\b\b\b\b\b\b\b\b\b\b\b\b\b\b\b\b\b\b\b\b\b\b\b\b\b\b\r",
      "36/36 [==============================] - 0s 2ms/step - loss: 5.4741 - mae: 1.6917 - mse: 5.4741 - val_loss: 11.5591 - val_mae: 2.3489 - val_mse: 11.5591\n"
     ]
    },
    {
     "name": "stdout",
     "output_type": "stream",
     "text": [
      "Epoch 82/100\n",
      "\r",
      " 1/36 [..............................] - ETA: 0s - loss: 6.9033 - mae: 2.1730 - mse: 6.9033"
     ]
    },
    {
     "name": "stdout",
     "output_type": "stream",
     "text": [
      "\b\b\b\b\b\b\b\b\b\b\b\b\b\b\b\b\b\b\b\b\b\b\b\b\b\b\b\b\b\b\b\b\b\b\b\b\b\b\b\b\b\b\b\b\b\b\b\b\b\b\b\b\b\b\b\b\b\b\b\b\b\b\b\b\b\b\b\b\b\b\b\b\b\b\b\b\b\b\b\b\b\b\b\b\b\b\b\b\b\b\b\r",
      "36/36 [==============================] - 0s 2ms/step - loss: 5.3043 - mae: 1.6494 - mse: 5.3043 - val_loss: 11.0908 - val_mae: 2.3098 - val_mse: 11.0908\n"
     ]
    },
    {
     "name": "stdout",
     "output_type": "stream",
     "text": [
      "Epoch 83/100\n",
      "\r",
      " 1/36 [..............................] - ETA: 0s - loss: 3.6204 - mae: 1.3808 - mse: 3.6204"
     ]
    },
    {
     "name": "stdout",
     "output_type": "stream",
     "text": [
      "\b\b\b\b\b\b\b\b\b\b\b\b\b\b\b\b\b\b\b\b\b\b\b\b\b\b\b\b\b\b\b\b\b\b\b\b\b\b\b\b\b\b\b\b\b\b\b\b\b\b\b\b\b\b\b\b\b\b\b\b\b\b\b\b\b\b\b\b\b\b\b\b\b\b\b\b\b\b\b\b\b\b\b\b\b\b\b\b\b\b\b\r",
      "36/36 [==============================] - 0s 2ms/step - loss: 5.1877 - mae: 1.6246 - mse: 5.1877 - val_loss: 12.5221 - val_mae: 2.4265 - val_mse: 12.5221\n"
     ]
    },
    {
     "name": "stdout",
     "output_type": "stream",
     "text": [
      "Epoch 84/100\n",
      "\r",
      " 1/36 [..............................] - ETA: 0s - loss: 5.4169 - mae: 1.9446 - mse: 5.4169"
     ]
    },
    {
     "name": "stdout",
     "output_type": "stream",
     "text": [
      "\b\b\b\b\b\b\b\b\b\b\b\b\b\b\b\b\b\b\b\b\b\b\b\b\b\b\b\b\b\b\b\b\b\b\b\b\b\b\b\b\b\b\b\b\b\b\b\b\b\b\b\b\b\b\b\b\b\b\b\b\b\b\b\b\b\b\b\b\b\b\b\b\b\b\b\b\b\b\b\b\b\b\b\b\b\b\b\b\b\b\b\r",
      "36/36 [==============================] - 0s 2ms/step - loss: 5.4322 - mae: 1.6741 - mse: 5.4322 - val_loss: 11.1412 - val_mae: 2.2819 - val_mse: 11.1412\n"
     ]
    },
    {
     "name": "stdout",
     "output_type": "stream",
     "text": [
      "Epoch 85/100\n",
      "\r",
      " 1/36 [..............................] - ETA: 0s - loss: 1.8210 - mae: 1.0157 - mse: 1.8210"
     ]
    },
    {
     "name": "stdout",
     "output_type": "stream",
     "text": [
      "\b\b\b\b\b\b\b\b\b\b\b\b\b\b\b\b\b\b\b\b\b\b\b\b\b\b\b\b\b\b\b\b\b\b\b\b\b\b\b\b\b\b\b\b\b\b\b\b\b\b\b\b\b\b\b\b\b\b\b\b\b\b\b\b\b\b\b\b\b\b\b\b\b\b\b\b\b\b\b\b\b\b\b\b\b\b\b\b\b\b\b\r",
      "36/36 [==============================] - 0s 2ms/step - loss: 5.3105 - mae: 1.6562 - mse: 5.3105 - val_loss: 11.9328 - val_mae: 2.4001 - val_mse: 11.9328\n"
     ]
    },
    {
     "name": "stdout",
     "output_type": "stream",
     "text": [
      "Epoch 86/100\n",
      "\r",
      " 1/36 [..............................] - ETA: 0s - loss: 4.5370 - mae: 1.7690 - mse: 4.5370"
     ]
    },
    {
     "name": "stdout",
     "output_type": "stream",
     "text": [
      "\b\b\b\b\b\b\b\b\b\b\b\b\b\b\b\b\b\b\b\b\b\b\b\b\b\b\b\b\b\b\b\b\b\b\b\b\b\b\b\b\b\b\b\b\b\b\b\b\b\b\b\b\b\b\b\b\b\b\b\b\b\b\b\b\b\b\b\b\b\b\b\b\b\b\b\b\b\b\b\b\b\b\b\b\b\b\b\b\b\b\b\r",
      "36/36 [==============================] - 0s 2ms/step - loss: 5.1209 - mae: 1.5886 - mse: 5.1209 - val_loss: 10.8046 - val_mae: 2.2924 - val_mse: 10.8046\n"
     ]
    },
    {
     "name": "stdout",
     "output_type": "stream",
     "text": [
      "Epoch 87/100\n",
      "\r",
      " 1/36 [..............................] - ETA: 0s - loss: 4.9659 - mae: 1.6842 - mse: 4.9659"
     ]
    },
    {
     "name": "stdout",
     "output_type": "stream",
     "text": [
      "\b\b\b\b\b\b\b\b\b\b\b\b\b\b\b\b\b\b\b\b\b\b\b\b\b\b\b\b\b\b\b\b\b\b\b\b\b\b\b\b\b\b\b\b\b\b\b\b\b\b\b\b\b\b\b\b\b\b\b\b\b\b\b\b\b\b\b\b\b\b\b\b\b\b\b\b\b\b\b\b\b\b\b\b\b\b\b\b\b\b\b\r",
      "36/36 [==============================] - 0s 2ms/step - loss: 5.1133 - mae: 1.5917 - mse: 5.1133 - val_loss: 11.2856 - val_mae: 2.3395 - val_mse: 11.2856\n"
     ]
    },
    {
     "name": "stdout",
     "output_type": "stream",
     "text": [
      "Epoch 88/100\n",
      "\r",
      " 1/36 [..............................] - ETA: 0s - loss: 3.0641 - mae: 1.2849 - mse: 3.0641"
     ]
    },
    {
     "name": "stdout",
     "output_type": "stream",
     "text": [
      "\b\b\b\b\b\b\b\b\b\b\b\b\b\b\b\b\b\b\b\b\b\b\b\b\b\b\b\b\b\b\b\b\b\b\b\b\b\b\b\b\b\b\b\b\b\b\b\b\b\b\b\b\b\b\b\b\b\b\b\b\b\b\b\b\b\b\b\b\b\b\b\b\b\b\b\b\b\b\b\b\b\b\b\b\b\b\b\b\b\b\b\r",
      "36/36 [==============================] - 0s 2ms/step - loss: 5.0041 - mae: 1.6101 - mse: 5.0041 - val_loss: 11.0964 - val_mae: 2.3262 - val_mse: 11.0964\n"
     ]
    },
    {
     "name": "stdout",
     "output_type": "stream",
     "text": [
      "Epoch 89/100\n",
      "\r",
      " 1/36 [..............................] - ETA: 0s - loss: 2.2846 - mae: 1.2575 - mse: 2.2846"
     ]
    },
    {
     "name": "stdout",
     "output_type": "stream",
     "text": [
      "\b\b\b\b\b\b\b\b\b\b\b\b\b\b\b\b\b\b\b\b\b\b\b\b\b\b\b\b\b\b\b\b\b\b\b\b\b\b\b\b\b\b\b\b\b\b\b\b\b\b\b\b\b\b\b\b\b\b\b\b\b\b\b\b\b\b\b\b\b\b\b\b\b\b\b\b\b\b\b\b\b\b\b\b\b\b\b\b\b\b\b\r",
      "36/36 [==============================] - 0s 2ms/step - loss: 4.9866 - mae: 1.5814 - mse: 4.9866 - val_loss: 11.5426 - val_mae: 2.3631 - val_mse: 11.5426\n"
     ]
    },
    {
     "name": "stdout",
     "output_type": "stream",
     "text": [
      "Epoch 90/100\n",
      "\r",
      " 1/36 [..............................] - ETA: 0s - loss: 6.5598 - mae: 2.2636 - mse: 6.5598"
     ]
    },
    {
     "name": "stdout",
     "output_type": "stream",
     "text": [
      "\b\b\b\b\b\b\b\b\b\b\b\b\b\b\b\b\b\b\b\b\b\b\b\b\b\b\b\b\b\b\b\b\b\b\b\b\b\b\b\b\b\b\b\b\b\b\b\b\b\b\b\b\b\b\b\b\b\b\b\b\b\b\b\b\b\b\b\b\b\b\b\b\b\b\b\b\b\b\b\b\b\b\b\b\b\b\b\b\b\b\b\r",
      "36/36 [==============================] - 0s 2ms/step - loss: 4.7862 - mae: 1.5408 - mse: 4.7862 - val_loss: 10.8012 - val_mae: 2.3194 - val_mse: 10.8012\n"
     ]
    },
    {
     "name": "stdout",
     "output_type": "stream",
     "text": [
      "Epoch 91/100\n",
      "\r",
      " 1/36 [..............................] - ETA: 0s - loss: 4.5877 - mae: 1.4147 - mse: 4.5877"
     ]
    },
    {
     "name": "stdout",
     "output_type": "stream",
     "text": [
      "\b\b\b\b\b\b\b\b\b\b\b\b\b\b\b\b\b\b\b\b\b\b\b\b\b\b\b\b\b\b\b\b\b\b\b\b\b\b\b\b\b\b\b\b\b\b\b\b\b\b\b\b\b\b\b\b\b\b\b\b\b\b\b\b\b\b\b\b\b\b\b\b\b\b\b\b\b\b\b\b\b\b\b\b\b\b\b\b\b\b\b\r",
      "36/36 [==============================] - 0s 2ms/step - loss: 4.9639 - mae: 1.5621 - mse: 4.9639 - val_loss: 10.9588 - val_mae: 2.4438 - val_mse: 10.9588\n"
     ]
    },
    {
     "name": "stdout",
     "output_type": "stream",
     "text": [
      "Epoch 92/100\n",
      "\r",
      " 1/36 [..............................] - ETA: 0s - loss: 4.4417 - mae: 1.5357 - mse: 4.4417"
     ]
    },
    {
     "name": "stdout",
     "output_type": "stream",
     "text": [
      "\b\b\b\b\b\b\b\b\b\b\b\b\b\b\b\b\b\b\b\b\b\b\b\b\b\b\b\b\b\b\b\b\b\b\b\b\b\b\b\b\b\b\b\b\b\b\b\b\b\b\b\b\b\b\b\b\b\b\b\b\b\b\b\b\b\b\b\b\b\b\b\b\b\b\b\b\b\b\b\b\b\b\b\b\b\b\b\b\b\b\b\r",
      "36/36 [==============================] - 0s 2ms/step - loss: 4.9230 - mae: 1.5725 - mse: 4.9230 - val_loss: 11.3730 - val_mae: 2.4857 - val_mse: 11.3730\n"
     ]
    },
    {
     "name": "stdout",
     "output_type": "stream",
     "text": [
      "Epoch 93/100\n",
      "\r",
      " 1/36 [..............................] - ETA: 0s - loss: 3.4063 - mae: 1.3139 - mse: 3.4063"
     ]
    },
    {
     "name": "stdout",
     "output_type": "stream",
     "text": [
      "\b\b\b\b\b\b\b\b\b\b\b\b\b\b\b\b\b\b\b\b\b\b\b\b\b\b\b\b\b\b\b\b\b\b\b\b\b\b\b\b\b\b\b\b\b\b\b\b\b\b\b\b\b\b\b\b\b\b\b\b\b\b\b\b\b\b\b\b\b\b\b\b\b\b\b\b\b\b\b\b\b\b\b\b\b\b\b\b\b\b\b\r",
      "36/36 [==============================] - 0s 2ms/step - loss: 4.8097 - mae: 1.5729 - mse: 4.8097 - val_loss: 12.8997 - val_mae: 2.5450 - val_mse: 12.8997\n"
     ]
    },
    {
     "name": "stdout",
     "output_type": "stream",
     "text": [
      "Epoch 94/100\n",
      "\r",
      " 1/36 [..............................] - ETA: 0s - loss: 3.8630 - mae: 1.6128 - mse: 3.8630"
     ]
    },
    {
     "name": "stdout",
     "output_type": "stream",
     "text": [
      "\b\b\b\b\b\b\b\b\b\b\b\b\b\b\b\b\b\b\b\b\b\b\b\b\b\b\b\b\b\b\b\b\b\b\b\b\b\b\b\b\b\b\b\b\b\b\b\b\b\b\b\b\b\b\b\b\b\b\b\b\b\b\b\b\b\b\b\b\b\b\b\b\b\b\b\b\b\b\b\b\b\b\b\b\b\b\b\b\b\b\b\r",
      "36/36 [==============================] - 0s 2ms/step - loss: 4.5946 - mae: 1.5054 - mse: 4.5946 - val_loss: 10.6785 - val_mae: 2.2874 - val_mse: 10.6785\n"
     ]
    },
    {
     "name": "stdout",
     "output_type": "stream",
     "text": [
      "Epoch 95/100\n",
      "\r",
      " 1/36 [..............................] - ETA: 0s - loss: 9.7030 - mae: 1.9510 - mse: 9.7030"
     ]
    },
    {
     "name": "stdout",
     "output_type": "stream",
     "text": [
      "\b\b\b\b\b\b\b\b\b\b\b\b\b\b\b\b\b\b\b\b\b\b\b\b\b\b\b\b\b\b\b\b\b\b\b\b\b\b\b\b\b\b\b\b\b\b\b\b\b\b\b\b\b\b\b\b\b\b\b\b\b\b\b\b\b\b\b\b\b\b\b\b\b\b\b\b\b\b\b\b\b\b\b\b\b\b\b\b\b\b\b\r",
      "36/36 [==============================] - 0s 2ms/step - loss: 4.6245 - mae: 1.5235 - mse: 4.6245 - val_loss: 10.5119 - val_mae: 2.2557 - val_mse: 10.5119\n"
     ]
    },
    {
     "name": "stdout",
     "output_type": "stream",
     "text": [
      "Epoch 96/100\n",
      "\r",
      " 1/36 [..............................] - ETA: 0s - loss: 6.5622 - mae: 1.7688 - mse: 6.5622"
     ]
    },
    {
     "name": "stdout",
     "output_type": "stream",
     "text": [
      "\b\b\b\b\b\b\b\b\b\b\b\b\b\b\b\b\b\b\b\b\b\b\b\b\b\b\b\b\b\b\b\b\b\b\b\b\b\b\b\b\b\b\b\b\b\b\b\b\b\b\b\b\b\b\b\b\b\b\b\b\b\b\b\b\b\b\b\b\b\b\b\b\b\b\b\b\b\b\b\b\b\b\b\b\b\b\b\b\b\b\b\r",
      "36/36 [==============================] - 0s 2ms/step - loss: 4.6283 - mae: 1.5389 - mse: 4.6283 - val_loss: 11.0924 - val_mae: 2.3161 - val_mse: 11.0924\n"
     ]
    },
    {
     "name": "stdout",
     "output_type": "stream",
     "text": [
      "Epoch 97/100\n",
      "\r",
      " 1/36 [..............................] - ETA: 0s - loss: 9.9376 - mae: 2.1553 - mse: 9.9376"
     ]
    },
    {
     "name": "stdout",
     "output_type": "stream",
     "text": [
      "\b\b\b\b\b\b\b\b\b\b\b\b\b\b\b\b\b\b\b\b\b\b\b\b\b\b\b\b\b\b\b\b\b\b\b\b\b\b\b\b\b\b\b\b\b\b\b\b\b\b\b\b\b\b\b\b\b\b\b\b\b\b\b\b\b\b\b\b\b\b\b\b\b\b\b\b\b\b\b\b\b\b\b\b\b\b\b\b\b\b\b\r",
      "36/36 [==============================] - 0s 2ms/step - loss: 4.7585 - mae: 1.5580 - mse: 4.7585 - val_loss: 12.1603 - val_mae: 2.4097 - val_mse: 12.1603\n"
     ]
    },
    {
     "name": "stdout",
     "output_type": "stream",
     "text": [
      "Epoch 98/100\n",
      "\r",
      " 1/36 [..............................] - ETA: 0s - loss: 2.5867 - mae: 1.2264 - mse: 2.5867"
     ]
    },
    {
     "name": "stdout",
     "output_type": "stream",
     "text": [
      "\b\b\b\b\b\b\b\b\b\b\b\b\b\b\b\b\b\b\b\b\b\b\b\b\b\b\b\b\b\b\b\b\b\b\b\b\b\b\b\b\b\b\b\b\b\b\b\b\b\b\b\b\b\b\b\b\b\b\b\b\b\b\b\b\b\b\b\b\b\b\b\b\b\b\b\b\b\b\b\b\b\b\b\b\b\b\b\b\b\b\b\r",
      "36/36 [==============================] - 0s 2ms/step - loss: 4.6709 - mae: 1.5014 - mse: 4.6709 - val_loss: 11.0388 - val_mae: 2.2822 - val_mse: 11.0388\n"
     ]
    },
    {
     "name": "stdout",
     "output_type": "stream",
     "text": [
      "Epoch 99/100\n",
      "\r",
      " 1/36 [..............................] - ETA: 0s - loss: 2.1308 - mae: 1.2632 - mse: 2.1308"
     ]
    },
    {
     "name": "stdout",
     "output_type": "stream",
     "text": [
      "\b\b\b\b\b\b\b\b\b\b\b\b\b\b\b\b\b\b\b\b\b\b\b\b\b\b\b\b\b\b\b\b\b\b\b\b\b\b\b\b\b\b\b\b\b\b\b\b\b\b\b\b\b\b\b\b\b\b\b\b\b\b\b\b\b\b\b\b\b\b\b\b\b\b\b\b\b\b\b\b\b\b\b\b\b\b\b\b\b\b\b\r",
      "36/36 [==============================] - 0s 2ms/step - loss: 4.7336 - mae: 1.5488 - mse: 4.7336 - val_loss: 11.7667 - val_mae: 2.3805 - val_mse: 11.7667\n"
     ]
    },
    {
     "name": "stdout",
     "output_type": "stream",
     "text": [
      "Epoch 100/100\n",
      "\r",
      " 1/36 [..............................] - ETA: 0s - loss: 9.0234 - mae: 2.3488 - mse: 9.0234"
     ]
    },
    {
     "name": "stdout",
     "output_type": "stream",
     "text": [
      "\b\b\b\b\b\b\b\b\b\b\b\b\b\b\b\b\b\b\b\b\b\b\b\b\b\b\b\b\b\b\b\b\b\b\b\b\b\b\b\b\b\b\b\b\b\b\b\b\b\b\b\b\b\b\b\b\b\b\b\b\b\b\b\b\b\b\b\b\b\b\b\b\b\b\b\b\b\b\b\b\b\b\b\b\b\b\b\b\b\b\b\r",
      "36/36 [==============================] - 0s 2ms/step - loss: 4.4814 - mae: 1.5239 - mse: 4.4814 - val_loss: 10.8222 - val_mae: 2.3810 - val_mse: 10.8222\n"
     ]
    }
   ],
   "source": [
    "history = model.fit(x_train,\n",
    "                    y_train,\n",
    "                    epochs          = 100,\n",
    "                    batch_size      = 10,\n",
    "                    verbose         = 1,\n",
    "                    validation_data = (x_test, y_test),\n",
    "                    callbacks       = [savemodel_callback])"
   ]
  },
  {
   "cell_type": "markdown",
   "metadata": {},
   "source": [
    "## Step 6 - Evaluate\n",
    "### 6.1 - Model evaluation\n",
    "MAE =  Mean Absolute Error (between the labels and predictions)  \n",
    "A mae equal to 3 represents an average error in prediction of $3k."
   ]
  },
  {
   "cell_type": "code",
   "execution_count": 10,
   "metadata": {
    "execution": {
     "iopub.execute_input": "2021-01-26T15:11:21.812922Z",
     "iopub.status.busy": "2021-01-26T15:11:21.812578Z",
     "iopub.status.idle": "2021-01-26T15:11:21.839835Z",
     "shell.execute_reply": "2021-01-26T15:11:21.839450Z"
    }
   },
   "outputs": [
    {
     "name": "stdout",
     "output_type": "stream",
     "text": [
      "x_test / loss      : 10.8222\n",
      "x_test / mae       : 2.3810\n",
      "x_test / mse       : 10.8222\n"
     ]
    }
   ],
   "source": [
    "score = model.evaluate(x_test, y_test, verbose=0)\n",
    "\n",
    "print('x_test / loss      : {:5.4f}'.format(score[0]))\n",
    "print('x_test / mae       : {:5.4f}'.format(score[1]))\n",
    "print('x_test / mse       : {:5.4f}'.format(score[2]))"
   ]
  },
  {
   "cell_type": "markdown",
   "metadata": {},
   "source": [
    "### 6.2 - Training history\n",
    "What was the best result during our training ?"
   ]
  },
  {
   "cell_type": "code",
   "execution_count": 11,
   "metadata": {
    "execution": {
     "iopub.execute_input": "2021-01-26T15:11:21.842868Z",
     "iopub.status.busy": "2021-01-26T15:11:21.842534Z",
     "iopub.status.idle": "2021-01-26T15:11:21.845226Z",
     "shell.execute_reply": "2021-01-26T15:11:21.844937Z"
    }
   },
   "outputs": [
    {
     "name": "stdout",
     "output_type": "stream",
     "text": [
      "min( val_mae ) : 2.2557\n"
     ]
    }
   ],
   "source": [
    "print(\"min( val_mae ) : {:.4f}\".format( min(history.history[\"val_mae\"]) ) )"
   ]
  },
  {
   "cell_type": "code",
   "execution_count": 12,
   "metadata": {
    "execution": {
     "iopub.execute_input": "2021-01-26T15:11:21.857410Z",
     "iopub.status.busy": "2021-01-26T15:11:21.857083Z",
     "iopub.status.idle": "2021-01-26T15:11:22.910868Z",
     "shell.execute_reply": "2021-01-26T15:11:22.910525Z"
    }
   },
   "outputs": [
    {
     "data": {
      "text/html": [
       "<div class=\"comment\">Saved: ./run/figs/BHPD2-01-history_0</div>"
      ],
      "text/plain": [
       "<IPython.core.display.HTML object>"
      ]
     },
     "metadata": {},
     "output_type": "display_data"
    },
    {
     "data": {
      "image/png": "[encoded data removed]",
      "text/plain": [
       "<Figure size 576x432 with 1 Axes>"
      ]
     },
     "metadata": {
      "needs_background": "light"
     },
     "output_type": "display_data"
    },
    {
     "data": {
      "text/html": [
       "<div class=\"comment\">Saved: ./run/figs/BHPD2-01-history_1</div>"
      ],
      "text/plain": [
       "<IPython.core.display.HTML object>"
      ]
     },
     "metadata": {},
     "output_type": "display_data"
    },
    {
     "data": {
      "image/png": "[encoded data removed]",
      "text/plain": [
       "<Figure size 576x432 with 1 Axes>"
      ]
     },
     "metadata": {
      "needs_background": "light"
     },
     "output_type": "display_data"
    },
    {
     "data": {
      "text/html": [
       "<div class=\"comment\">Saved: ./run/figs/BHPD2-01-history_2</div>"
      ],
      "text/plain": [
       "<IPython.core.display.HTML object>"
      ]
     },
     "metadata": {},
     "output_type": "display_data"
    },
    {
     "data": {
      "image/png": "[encoded data removed]",
      "text/plain": [
       "<Figure size 576x432 with 1 Axes>"
      ]
     },
     "metadata": {
      "needs_background": "light"
     },
     "output_type": "display_data"
    }
   ],
   "source": [
    "pwk.plot_history(history, plot={'MSE' :['mse', 'val_mse'],\n",
    "                                'MAE' :['mae', 'val_mae'],\n",
    "                                'LOSS':['loss','val_loss']}, save_as='01-history')"
   ]
  },
  {
   "cell_type": "markdown",
   "metadata": {},
   "source": [
    "## Step 7 - Restore a model :"
   ]
  },
  {
   "cell_type": "markdown",
   "metadata": {},
   "source": [
    "### 7.1 - Reload model"
   ]
  },
  {
   "cell_type": "code",
   "execution_count": 13,
   "metadata": {
    "execution": {
     "iopub.execute_input": "2021-01-26T15:11:22.919898Z",
     "iopub.status.busy": "2021-01-26T15:11:22.918789Z",
     "iopub.status.idle": "2021-01-26T15:11:22.951912Z",
     "shell.execute_reply": "2021-01-26T15:11:22.951614Z"
    }
   },
   "outputs": [
    {
     "name": "stdout",
     "output_type": "stream",
     "text": [
      "Model: \"sequential\"\n",
      "_________________________________________________________________\n",
      "Layer (type)                 Output Shape              Param #   \n",
      "=================================================================\n",
      "Dense_n1 (Dense)             (None, 64)                896       \n",
      "_________________________________________________________________\n",
      "Dense_n2 (Dense)             (None, 64)                4160      \n",
      "_________________________________________________________________\n",
      "Output (Dense)               (None, 1)                 65        \n",
      "=================================================================\n",
      "Total params: 5,121\n",
      "Trainable params: 5,121\n",
      "Non-trainable params: 0\n",
      "_________________________________________________________________\n",
      "Loaded.\n"
     ]
    }
   ],
   "source": [
    "loaded_model = tf.keras.models.load_model('./run/models/best_model.h5')\n",
    "loaded_model.summary()\n",
    "print(\"Loaded.\")"
   ]
  },
  {
   "cell_type": "markdown",
   "metadata": {},
   "source": [
    "### 7.2 - Evaluate it :"
   ]
  },
  {
   "cell_type": "code",
   "execution_count": 14,
   "metadata": {
    "execution": {
     "iopub.execute_input": "2021-01-26T15:11:22.955215Z",
     "iopub.status.busy": "2021-01-26T15:11:22.954784Z",
     "iopub.status.idle": "2021-01-26T15:11:23.068852Z",
     "shell.execute_reply": "2021-01-26T15:11:23.068460Z"
    }
   },
   "outputs": [
    {
     "name": "stdout",
     "output_type": "stream",
     "text": [
      "x_test / loss      : 10.5119\n",
      "x_test / mae       : 2.2557\n",
      "x_test / mse       : 10.5119\n"
     ]
    }
   ],
   "source": [
    "score = loaded_model.evaluate(x_test, y_test, verbose=0)\n",
    "\n",
    "print('x_test / loss      : {:5.4f}'.format(score[0]))\n",
    "print('x_test / mae       : {:5.4f}'.format(score[1]))\n",
    "print('x_test / mse       : {:5.4f}'.format(score[2]))"
   ]
  },
  {
   "cell_type": "markdown",
   "metadata": {},
   "source": [
    "### 7.3 - Make a prediction"
   ]
  },
  {
   "cell_type": "code",
   "execution_count": 15,
   "metadata": {
    "execution": {
     "iopub.execute_input": "2021-01-26T15:11:23.072072Z",
     "iopub.status.busy": "2021-01-26T15:11:23.071733Z",
     "iopub.status.idle": "2021-01-26T15:11:23.074237Z",
     "shell.execute_reply": "2021-01-26T15:11:23.073864Z"
    }
   },
   "outputs": [],
   "source": [
    "my_data = [ 1.26425925, -0.48522739,  1.0436489 , -0.23112788,  1.37120745,\n",
    "       -2.14308942,  1.13489104, -1.06802005,  1.71189006,  1.57042287,\n",
    "        0.77859951,  0.14769795,  2.7585581 ]\n",
    "real_price = 10.4\n",
    "\n",
    "my_data=np.array(my_data).reshape(1,13)"
   ]
  },
  {
   "cell_type": "code",
   "execution_count": 16,
   "metadata": {
    "execution": {
     "iopub.execute_input": "2021-01-26T15:11:23.077793Z",
     "iopub.status.busy": "2021-01-26T15:11:23.076964Z",
     "iopub.status.idle": "2021-01-26T15:11:23.157572Z",
     "shell.execute_reply": "2021-01-26T15:11:23.157110Z"
    }
   },
   "outputs": [
    {
     "name": "stdout",
     "output_type": "stream",
     "text": [
      "Prediction : 8.55 K$   Reality : 10.40 K$\n"
     ]
    }
   ],
   "source": [
    "predictions = loaded_model.predict( my_data )\n",
    "print(\"Prediction : {:.2f} K$   Reality : {:.2f} K$\".format(predictions[0][0], real_price))"
   ]
  },
  {
   "cell_type": "code",
   "execution_count": 17,
   "metadata": {
    "execution": {
     "iopub.execute_input": "2021-01-26T15:11:23.160304Z",
     "iopub.status.busy": "2021-01-26T15:11:23.159939Z",
     "iopub.status.idle": "2021-01-26T15:11:23.163831Z",
     "shell.execute_reply": "2021-01-26T15:11:23.163482Z"
    }
   },
   "outputs": [
    {
     "name": "stdout",
     "output_type": "stream",
     "text": [
      "End time is : Tuesday 26 January 2021, 16:11:23\n",
      "Duration is : 00:00:10 812ms\n",
      "This notebook ends here\n"
     ]
    }
   ],
   "source": [
    "pwk.end()"
   ]
  },
  {
   "cell_type": "markdown",
   "metadata": {},
   "source": [
    "---\n",
    "<img width=\"80px\" src=\"../fidle/img/00-Fidle-logo-01.svg\"></img>"
   ]
  }
 ],
 "metadata": {
  "kernelspec": {
   "display_name": "Python 3",
   "language": "python",
   "name": "python3"
  },
  "language_info": {
   "codemirror_mode": {
    "name": "ipython",
    "version": 3
   },
   "file_extension": ".py",
   "mimetype": "text/x-python",
   "name": "python",
   "nbconvert_exporter": "python",
   "pygments_lexer": "ipython3",
   "version": "3.8.5"
  }
 },
 "nbformat": 4,
 "nbformat_minor": 4
}
