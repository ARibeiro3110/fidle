{
 "cells": [
  {
   "cell_type": "markdown",
   "metadata": {},
   "source": [
    "<img width=\"800px\" src=\"../fidle/img/00-Fidle-header-01.svg\"></img>\n",
    "\n",
    "# <!-- TITLE --> [BHPD2] - Regression with a Dense Network (DNN) - Advanced code\n",
    "  <!-- DESC -->  A more advanced implementation of the precedent example\n",
    "  <!-- AUTHOR : Jean-Luc Parouty (CNRS/SIMaP) -->\n",
    "\n",
    "## Objectives :\n",
    " - Predicts **housing prices** from a set of house features. \n",
    " - Understanding the principle and the architecture of a regression with a dense neural network with backup and restore of the trained model. \n",
    "\n",
    "The **[Boston Housing Prices Dataset](https://www.cs.toronto.edu/~delve/data/boston/bostonDetail.html)** consists of price of houses in various places in Boston.  \n",
    "Alongside with price, the dataset also provide these information :\n",
    "\n",
    " - CRIM: This is the per capita crime rate by town\n",
    " - ZN: This is the proportion of residential land zoned for lots larger than 25,000 sq.ft\n",
    " - INDUS: This is the proportion of non-retail business acres per town\n",
    " - CHAS: This is the Charles River dummy variable (this is equal to 1 if tract bounds river; 0 otherwise)\n",
    " - NOX: This is the nitric oxides concentration (parts per 10 million)\n",
    " - RM: This is the average number of rooms per dwelling\n",
    " - AGE: This is the proportion of owner-occupied units built prior to 1940\n",
    " - DIS: This is the weighted distances to five Boston employment centers\n",
    " - RAD: This is the index of accessibility to radial highways\n",
    " - TAX: This is the full-value property-tax rate per 10,000 dollars\n",
    " - PTRATIO: This is the pupil-teacher ratio by town\n",
    " - B: This is calculated as 1000(Bk — 0.63)^2, where Bk is the proportion of people of African American descent by town\n",
    " - LSTAT: This is the percentage lower status of the population\n",
    " - MEDV: This is the median value of owner-occupied homes in 1000 dollars\n",
    "\n",
    "## What we're going to do :\n",
    "\n",
    " - (Retrieve data)\n",
    " - (Preparing the data)\n",
    " - (Build a model)\n",
    " - Train and save the model\n",
    " - Restore saved model\n",
    " - Evaluate the model\n",
    " - Make some predictions\n"
   ]
  },
  {
   "cell_type": "markdown",
   "metadata": {},
   "source": [
    "## Step 1 - Import and init"
   ]
  },
  {
   "cell_type": "code",
   "execution_count": 1,
   "metadata": {
    "execution": {
     "iopub.execute_input": "2021-01-26T18:54:49.877617Z",
     "iopub.status.busy": "2021-01-26T18:54:49.877305Z",
     "iopub.status.idle": "2021-01-26T18:54:51.232850Z",
     "shell.execute_reply": "2021-01-26T18:54:51.232453Z"
    }
   },
   "outputs": [
    {
     "data": {
      "text/html": [
       "<style>\n",
       "\n",
       "div.warn {    \n",
       "    background-color: #fcf2f2;\n",
       "    border-color: #dFb5b4;\n",
       "    border-left: 5px solid #dfb5b4;\n",
       "    padding: 0.5em;\n",
       "    font-weight: bold;\n",
       "    font-size: 1.1em;;\n",
       "    }\n",
       "\n",
       "\n",
       "\n",
       "div.nota {    \n",
       "    background-color: #DAFFDE;\n",
       "    border-left: 5px solid #92CC99;\n",
       "    padding: 0.5em;\n",
       "    }\n",
       "\n",
       "div.todo:before { content:url(data:image/svg+xml;base64,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);\n",
       "    float:left;\n",
       "    margin-right:20px;\n",
       "    margin-top:-20px;\n",
       "    margin-bottom:20px;\n",
       "}\n",
       "div.todo{\n",
       "    font-weight: bold;\n",
       "    font-size: 1.1em;\n",
       "    margin-top:40px;\n",
       "}\n",
       "div.todo ul{\n",
       "    margin: 0.2em;\n",
       "}\n",
       "div.todo li{\n",
       "    margin-left:60px;\n",
       "    margin-top:0;\n",
       "    margin-bottom:0;\n",
       "}\n",
       "\n",
       "div .comment{\n",
       "    font-size:0.8em;\n",
       "    color:#696969;\n",
       "}\n",
       "\n",
       "\n",
       "\n",
       "</style>\n",
       "\n"
      ],
      "text/plain": [
       "<IPython.core.display.HTML object>"
      ]
     },
     "metadata": {},
     "output_type": "display_data"
    },
    {
     "data": {
      "text/markdown": [
       "<br>**FIDLE 2020 - Practical Work Module**"
      ],
      "text/plain": [
       "<IPython.core.display.Markdown object>"
      ]
     },
     "metadata": {},
     "output_type": "display_data"
    },
    {
     "name": "stdout",
     "output_type": "stream",
     "text": [
      "Version              : 2.0.7\n",
      "Notebook id          : BHPD2\n",
      "Run time             : Tuesday 26 January 2021, 19:54:51\n",
      "TensorFlow version   : 2.2.0\n",
      "Keras version        : 2.3.0-tf\n",
      "Datasets dir         : /home/pjluc/datasets/fidle\n",
      "Run dir              : ./run\n",
      "Update keras cache   : False\n",
      "Save figs            : True\n",
      "Path figs            : ./run/figs\n"
     ]
    }
   ],
   "source": [
    "import tensorflow as tf\n",
    "from tensorflow import keras\n",
    "\n",
    "import numpy as np\n",
    "import matplotlib.pyplot as plt\n",
    "import pandas as pd\n",
    "import os,sys\n",
    "\n",
    "from IPython.display import Markdown\n",
    "from importlib import reload\n",
    "\n",
    "sys.path.append('..')\n",
    "import fidle.pwk as pwk\n",
    "\n",
    "datasets_dir = pwk.init('BHPD2')"
   ]
  },
  {
   "cell_type": "markdown",
   "metadata": {},
   "source": [
    "## Step 2 - Retrieve data\n",
    "\n",
    "### 2.1 - Option 1  : From Keras\n",
    "Boston housing is a famous historic dataset, so we can get it directly from [Keras datasets](https://www.tensorflow.org/api_docs/python/tf/keras/datasets)  "
   ]
  },
  {
   "cell_type": "code",
   "execution_count": 2,
   "metadata": {
    "execution": {
     "iopub.execute_input": "2021-01-26T18:54:51.235862Z",
     "iopub.status.busy": "2021-01-26T18:54:51.235559Z",
     "iopub.status.idle": "2021-01-26T18:54:51.238037Z",
     "shell.execute_reply": "2021-01-26T18:54:51.237711Z"
    }
   },
   "outputs": [],
   "source": [
    "# (x_train, y_train), (x_test, y_test) = keras.datasets.boston_housing.load_data(test_split=0.2, seed=113)"
   ]
  },
  {
   "cell_type": "markdown",
   "metadata": {},
   "source": [
    "### 2.2 - Option 2 : From a csv file\n",
    "More fun !"
   ]
  },
  {
   "cell_type": "code",
   "execution_count": 3,
   "metadata": {
    "execution": {
     "iopub.execute_input": "2021-01-26T18:54:51.241362Z",
     "iopub.status.busy": "2021-01-26T18:54:51.241056Z",
     "iopub.status.idle": "2021-01-26T18:54:51.326096Z",
     "shell.execute_reply": "2021-01-26T18:54:51.325765Z"
    }
   },
   "outputs": [
    {
     "data": {
      "text/html": [
       "<style  type=\"text/css\" >\n",
       "</style><table id=\"T_1d243_\" ><thead>    <tr>        <th class=\"blank level0\" ></th>        <th class=\"col_heading level0 col0\" >crim</th>        <th class=\"col_heading level0 col1\" >zn</th>        <th class=\"col_heading level0 col2\" >indus</th>        <th class=\"col_heading level0 col3\" >chas</th>        <th class=\"col_heading level0 col4\" >nox</th>        <th class=\"col_heading level0 col5\" >rm</th>        <th class=\"col_heading level0 col6\" >age</th>        <th class=\"col_heading level0 col7\" >dis</th>        <th class=\"col_heading level0 col8\" >rad</th>        <th class=\"col_heading level0 col9\" >tax</th>        <th class=\"col_heading level0 col10\" >ptratio</th>        <th class=\"col_heading level0 col11\" >b</th>        <th class=\"col_heading level0 col12\" >lstat</th>        <th class=\"col_heading level0 col13\" >medv</th>    </tr></thead><tbody>\n",
       "                <tr>\n",
       "                        <th id=\"T_1d243_level0_row0\" class=\"row_heading level0 row0\" >0</th>\n",
       "                        <td id=\"T_1d243_row0_col0\" class=\"data row0 col0\" >0.01</td>\n",
       "                        <td id=\"T_1d243_row0_col1\" class=\"data row0 col1\" >18.00</td>\n",
       "                        <td id=\"T_1d243_row0_col2\" class=\"data row0 col2\" >2.31</td>\n",
       "                        <td id=\"T_1d243_row0_col3\" class=\"data row0 col3\" >0.00</td>\n",
       "                        <td id=\"T_1d243_row0_col4\" class=\"data row0 col4\" >0.54</td>\n",
       "                        <td id=\"T_1d243_row0_col5\" class=\"data row0 col5\" >6.58</td>\n",
       "                        <td id=\"T_1d243_row0_col6\" class=\"data row0 col6\" >65.20</td>\n",
       "                        <td id=\"T_1d243_row0_col7\" class=\"data row0 col7\" >4.09</td>\n",
       "                        <td id=\"T_1d243_row0_col8\" class=\"data row0 col8\" >1.00</td>\n",
       "                        <td id=\"T_1d243_row0_col9\" class=\"data row0 col9\" >296.00</td>\n",
       "                        <td id=\"T_1d243_row0_col10\" class=\"data row0 col10\" >15.30</td>\n",
       "                        <td id=\"T_1d243_row0_col11\" class=\"data row0 col11\" >396.90</td>\n",
       "                        <td id=\"T_1d243_row0_col12\" class=\"data row0 col12\" >4.98</td>\n",
       "                        <td id=\"T_1d243_row0_col13\" class=\"data row0 col13\" >24.00</td>\n",
       "            </tr>\n",
       "            <tr>\n",
       "                        <th id=\"T_1d243_level0_row1\" class=\"row_heading level0 row1\" >1</th>\n",
       "                        <td id=\"T_1d243_row1_col0\" class=\"data row1 col0\" >0.03</td>\n",
       "                        <td id=\"T_1d243_row1_col1\" class=\"data row1 col1\" >0.00</td>\n",
       "                        <td id=\"T_1d243_row1_col2\" class=\"data row1 col2\" >7.07</td>\n",
       "                        <td id=\"T_1d243_row1_col3\" class=\"data row1 col3\" >0.00</td>\n",
       "                        <td id=\"T_1d243_row1_col4\" class=\"data row1 col4\" >0.47</td>\n",
       "                        <td id=\"T_1d243_row1_col5\" class=\"data row1 col5\" >6.42</td>\n",
       "                        <td id=\"T_1d243_row1_col6\" class=\"data row1 col6\" >78.90</td>\n",
       "                        <td id=\"T_1d243_row1_col7\" class=\"data row1 col7\" >4.97</td>\n",
       "                        <td id=\"T_1d243_row1_col8\" class=\"data row1 col8\" >2.00</td>\n",
       "                        <td id=\"T_1d243_row1_col9\" class=\"data row1 col9\" >242.00</td>\n",
       "                        <td id=\"T_1d243_row1_col10\" class=\"data row1 col10\" >17.80</td>\n",
       "                        <td id=\"T_1d243_row1_col11\" class=\"data row1 col11\" >396.90</td>\n",
       "                        <td id=\"T_1d243_row1_col12\" class=\"data row1 col12\" >9.14</td>\n",
       "                        <td id=\"T_1d243_row1_col13\" class=\"data row1 col13\" >21.60</td>\n",
       "            </tr>\n",
       "            <tr>\n",
       "                        <th id=\"T_1d243_level0_row2\" class=\"row_heading level0 row2\" >2</th>\n",
       "                        <td id=\"T_1d243_row2_col0\" class=\"data row2 col0\" >0.03</td>\n",
       "                        <td id=\"T_1d243_row2_col1\" class=\"data row2 col1\" >0.00</td>\n",
       "                        <td id=\"T_1d243_row2_col2\" class=\"data row2 col2\" >7.07</td>\n",
       "                        <td id=\"T_1d243_row2_col3\" class=\"data row2 col3\" >0.00</td>\n",
       "                        <td id=\"T_1d243_row2_col4\" class=\"data row2 col4\" >0.47</td>\n",
       "                        <td id=\"T_1d243_row2_col5\" class=\"data row2 col5\" >7.18</td>\n",
       "                        <td id=\"T_1d243_row2_col6\" class=\"data row2 col6\" >61.10</td>\n",
       "                        <td id=\"T_1d243_row2_col7\" class=\"data row2 col7\" >4.97</td>\n",
       "                        <td id=\"T_1d243_row2_col8\" class=\"data row2 col8\" >2.00</td>\n",
       "                        <td id=\"T_1d243_row2_col9\" class=\"data row2 col9\" >242.00</td>\n",
       "                        <td id=\"T_1d243_row2_col10\" class=\"data row2 col10\" >17.80</td>\n",
       "                        <td id=\"T_1d243_row2_col11\" class=\"data row2 col11\" >392.83</td>\n",
       "                        <td id=\"T_1d243_row2_col12\" class=\"data row2 col12\" >4.03</td>\n",
       "                        <td id=\"T_1d243_row2_col13\" class=\"data row2 col13\" >34.70</td>\n",
       "            </tr>\n",
       "            <tr>\n",
       "                        <th id=\"T_1d243_level0_row3\" class=\"row_heading level0 row3\" >3</th>\n",
       "                        <td id=\"T_1d243_row3_col0\" class=\"data row3 col0\" >0.03</td>\n",
       "                        <td id=\"T_1d243_row3_col1\" class=\"data row3 col1\" >0.00</td>\n",
       "                        <td id=\"T_1d243_row3_col2\" class=\"data row3 col2\" >2.18</td>\n",
       "                        <td id=\"T_1d243_row3_col3\" class=\"data row3 col3\" >0.00</td>\n",
       "                        <td id=\"T_1d243_row3_col4\" class=\"data row3 col4\" >0.46</td>\n",
       "                        <td id=\"T_1d243_row3_col5\" class=\"data row3 col5\" >7.00</td>\n",
       "                        <td id=\"T_1d243_row3_col6\" class=\"data row3 col6\" >45.80</td>\n",
       "                        <td id=\"T_1d243_row3_col7\" class=\"data row3 col7\" >6.06</td>\n",
       "                        <td id=\"T_1d243_row3_col8\" class=\"data row3 col8\" >3.00</td>\n",
       "                        <td id=\"T_1d243_row3_col9\" class=\"data row3 col9\" >222.00</td>\n",
       "                        <td id=\"T_1d243_row3_col10\" class=\"data row3 col10\" >18.70</td>\n",
       "                        <td id=\"T_1d243_row3_col11\" class=\"data row3 col11\" >394.63</td>\n",
       "                        <td id=\"T_1d243_row3_col12\" class=\"data row3 col12\" >2.94</td>\n",
       "                        <td id=\"T_1d243_row3_col13\" class=\"data row3 col13\" >33.40</td>\n",
       "            </tr>\n",
       "            <tr>\n",
       "                        <th id=\"T_1d243_level0_row4\" class=\"row_heading level0 row4\" >4</th>\n",
       "                        <td id=\"T_1d243_row4_col0\" class=\"data row4 col0\" >0.07</td>\n",
       "                        <td id=\"T_1d243_row4_col1\" class=\"data row4 col1\" >0.00</td>\n",
       "                        <td id=\"T_1d243_row4_col2\" class=\"data row4 col2\" >2.18</td>\n",
       "                        <td id=\"T_1d243_row4_col3\" class=\"data row4 col3\" >0.00</td>\n",
       "                        <td id=\"T_1d243_row4_col4\" class=\"data row4 col4\" >0.46</td>\n",
       "                        <td id=\"T_1d243_row4_col5\" class=\"data row4 col5\" >7.15</td>\n",
       "                        <td id=\"T_1d243_row4_col6\" class=\"data row4 col6\" >54.20</td>\n",
       "                        <td id=\"T_1d243_row4_col7\" class=\"data row4 col7\" >6.06</td>\n",
       "                        <td id=\"T_1d243_row4_col8\" class=\"data row4 col8\" >3.00</td>\n",
       "                        <td id=\"T_1d243_row4_col9\" class=\"data row4 col9\" >222.00</td>\n",
       "                        <td id=\"T_1d243_row4_col10\" class=\"data row4 col10\" >18.70</td>\n",
       "                        <td id=\"T_1d243_row4_col11\" class=\"data row4 col11\" >396.90</td>\n",
       "                        <td id=\"T_1d243_row4_col12\" class=\"data row4 col12\" >5.33</td>\n",
       "                        <td id=\"T_1d243_row4_col13\" class=\"data row4 col13\" >36.20</td>\n",
       "            </tr>\n",
       "    </tbody></table>"
      ],
      "text/plain": [
       "<pandas.io.formats.style.Styler at 0x7f6e6994a8e0>"
      ]
     },
     "metadata": {},
     "output_type": "display_data"
    },
    {
     "name": "stdout",
     "output_type": "stream",
     "text": [
      "Missing Data :  0   Shape is :  (506, 14)\n"
     ]
    }
   ],
   "source": [
    "data = pd.read_csv(f'{datasets_dir}/BHPD/origine/BostonHousing.csv', header=0)\n",
    "\n",
    "display(data.head(5).style.format(\"{0:.2f}\"))\n",
    "print('Missing Data : ',data.isna().sum().sum(), '  Shape is : ', data.shape)"
   ]
  },
  {
   "cell_type": "markdown",
   "metadata": {},
   "source": [
    "## Step 3 - Preparing the data\n",
    "### 3.1 - Split data\n",
    "We will use 80% of the data for training and 20% for validation.  \n",
    "x will be input data and y the expected output"
   ]
  },
  {
   "cell_type": "code",
   "execution_count": 4,
   "metadata": {
    "execution": {
     "iopub.execute_input": "2021-01-26T18:54:51.332628Z",
     "iopub.status.busy": "2021-01-26T18:54:51.332222Z",
     "iopub.status.idle": "2021-01-26T18:54:51.335065Z",
     "shell.execute_reply": "2021-01-26T18:54:51.334590Z"
    }
   },
   "outputs": [
    {
     "name": "stdout",
     "output_type": "stream",
     "text": [
      "Original data shape was :  (506, 14)\n",
      "x_train :  (354, 13) y_train :  (354,)\n",
      "x_test  :  (152, 13) y_test  :  (152,)\n"
     ]
    }
   ],
   "source": [
    "# ---- Split => train, test\n",
    "#\n",
    "data_train = data.sample(frac=0.7, axis=0)\n",
    "data_test  = data.drop(data_train.index)\n",
    "\n",
    "# ---- Split => x,y (medv is price)\n",
    "#\n",
    "x_train = data_train.drop('medv',  axis=1)\n",
    "y_train = data_train['medv']\n",
    "x_test  = data_test.drop('medv',   axis=1)\n",
    "y_test  = data_test['medv']\n",
    "\n",
    "print('Original data shape was : ',data.shape)\n",
    "print('x_train : ',x_train.shape, 'y_train : ',y_train.shape)\n",
    "print('x_test  : ',x_test.shape,  'y_test  : ',y_test.shape)"
   ]
  },
  {
   "cell_type": "markdown",
   "metadata": {},
   "source": [
    "### 3.2 - Data normalization\n",
    "**Note :** \n",
    " - All input data must be normalized, train and test.  \n",
    " - To do this we will subtract the mean and divide by the standard deviation.  \n",
    " - But test data should not be used in any way, even for normalization.  \n",
    " - The mean and the standard deviation will therefore only be calculated with the train data."
   ]
  },
  {
   "cell_type": "code",
   "execution_count": 5,
   "metadata": {
    "execution": {
     "iopub.execute_input": "2021-01-26T18:54:51.343984Z",
     "iopub.status.busy": "2021-01-26T18:54:51.340643Z",
     "iopub.status.idle": "2021-01-26T18:54:51.398278Z",
     "shell.execute_reply": "2021-01-26T18:54:51.397946Z"
    }
   },
   "outputs": [
    {
     "data": {
      "text/html": [
       "<style  type=\"text/css\" >\n",
       "</style><table id=\"T_88a4c_\" ><caption>Before normalization :</caption><thead>    <tr>        <th class=\"blank level0\" ></th>        <th class=\"col_heading level0 col0\" >crim</th>        <th class=\"col_heading level0 col1\" >zn</th>        <th class=\"col_heading level0 col2\" >indus</th>        <th class=\"col_heading level0 col3\" >chas</th>        <th class=\"col_heading level0 col4\" >nox</th>        <th class=\"col_heading level0 col5\" >rm</th>        <th class=\"col_heading level0 col6\" >age</th>        <th class=\"col_heading level0 col7\" >dis</th>        <th class=\"col_heading level0 col8\" >rad</th>        <th class=\"col_heading level0 col9\" >tax</th>        <th class=\"col_heading level0 col10\" >ptratio</th>        <th class=\"col_heading level0 col11\" >b</th>        <th class=\"col_heading level0 col12\" >lstat</th>    </tr></thead><tbody>\n",
       "                <tr>\n",
       "                        <th id=\"T_88a4c_level0_row0\" class=\"row_heading level0 row0\" >count</th>\n",
       "                        <td id=\"T_88a4c_row0_col0\" class=\"data row0 col0\" >354.00</td>\n",
       "                        <td id=\"T_88a4c_row0_col1\" class=\"data row0 col1\" >354.00</td>\n",
       "                        <td id=\"T_88a4c_row0_col2\" class=\"data row0 col2\" >354.00</td>\n",
       "                        <td id=\"T_88a4c_row0_col3\" class=\"data row0 col3\" >354.00</td>\n",
       "                        <td id=\"T_88a4c_row0_col4\" class=\"data row0 col4\" >354.00</td>\n",
       "                        <td id=\"T_88a4c_row0_col5\" class=\"data row0 col5\" >354.00</td>\n",
       "                        <td id=\"T_88a4c_row0_col6\" class=\"data row0 col6\" >354.00</td>\n",
       "                        <td id=\"T_88a4c_row0_col7\" class=\"data row0 col7\" >354.00</td>\n",
       "                        <td id=\"T_88a4c_row0_col8\" class=\"data row0 col8\" >354.00</td>\n",
       "                        <td id=\"T_88a4c_row0_col9\" class=\"data row0 col9\" >354.00</td>\n",
       "                        <td id=\"T_88a4c_row0_col10\" class=\"data row0 col10\" >354.00</td>\n",
       "                        <td id=\"T_88a4c_row0_col11\" class=\"data row0 col11\" >354.00</td>\n",
       "                        <td id=\"T_88a4c_row0_col12\" class=\"data row0 col12\" >354.00</td>\n",
       "            </tr>\n",
       "            <tr>\n",
       "                        <th id=\"T_88a4c_level0_row1\" class=\"row_heading level0 row1\" >mean</th>\n",
       "                        <td id=\"T_88a4c_row1_col0\" class=\"data row1 col0\" >3.87</td>\n",
       "                        <td id=\"T_88a4c_row1_col1\" class=\"data row1 col1\" >10.97</td>\n",
       "                        <td id=\"T_88a4c_row1_col2\" class=\"data row1 col2\" >10.94</td>\n",
       "                        <td id=\"T_88a4c_row1_col3\" class=\"data row1 col3\" >0.07</td>\n",
       "                        <td id=\"T_88a4c_row1_col4\" class=\"data row1 col4\" >0.55</td>\n",
       "                        <td id=\"T_88a4c_row1_col5\" class=\"data row1 col5\" >6.33</td>\n",
       "                        <td id=\"T_88a4c_row1_col6\" class=\"data row1 col6\" >68.45</td>\n",
       "                        <td id=\"T_88a4c_row1_col7\" class=\"data row1 col7\" >3.75</td>\n",
       "                        <td id=\"T_88a4c_row1_col8\" class=\"data row1 col8\" >9.55</td>\n",
       "                        <td id=\"T_88a4c_row1_col9\" class=\"data row1 col9\" >405.29</td>\n",
       "                        <td id=\"T_88a4c_row1_col10\" class=\"data row1 col10\" >18.34</td>\n",
       "                        <td id=\"T_88a4c_row1_col11\" class=\"data row1 col11\" >357.47</td>\n",
       "                        <td id=\"T_88a4c_row1_col12\" class=\"data row1 col12\" >12.55</td>\n",
       "            </tr>\n",
       "            <tr>\n",
       "                        <th id=\"T_88a4c_level0_row2\" class=\"row_heading level0 row2\" >std</th>\n",
       "                        <td id=\"T_88a4c_row2_col0\" class=\"data row2 col0\" >9.31</td>\n",
       "                        <td id=\"T_88a4c_row2_col1\" class=\"data row2 col1\" >22.80</td>\n",
       "                        <td id=\"T_88a4c_row2_col2\" class=\"data row2 col2\" >6.73</td>\n",
       "                        <td id=\"T_88a4c_row2_col3\" class=\"data row2 col3\" >0.26</td>\n",
       "                        <td id=\"T_88a4c_row2_col4\" class=\"data row2 col4\" >0.12</td>\n",
       "                        <td id=\"T_88a4c_row2_col5\" class=\"data row2 col5\" >0.71</td>\n",
       "                        <td id=\"T_88a4c_row2_col6\" class=\"data row2 col6\" >28.41</td>\n",
       "                        <td id=\"T_88a4c_row2_col7\" class=\"data row2 col7\" >2.02</td>\n",
       "                        <td id=\"T_88a4c_row2_col8\" class=\"data row2 col8\" >8.76</td>\n",
       "                        <td id=\"T_88a4c_row2_col9\" class=\"data row2 col9\" >169.75</td>\n",
       "                        <td id=\"T_88a4c_row2_col10\" class=\"data row2 col10\" >2.21</td>\n",
       "                        <td id=\"T_88a4c_row2_col11\" class=\"data row2 col11\" >89.67</td>\n",
       "                        <td id=\"T_88a4c_row2_col12\" class=\"data row2 col12\" >7.35</td>\n",
       "            </tr>\n",
       "            <tr>\n",
       "                        <th id=\"T_88a4c_level0_row3\" class=\"row_heading level0 row3\" >min</th>\n",
       "                        <td id=\"T_88a4c_row3_col0\" class=\"data row3 col0\" >0.01</td>\n",
       "                        <td id=\"T_88a4c_row3_col1\" class=\"data row3 col1\" >0.00</td>\n",
       "                        <td id=\"T_88a4c_row3_col2\" class=\"data row3 col2\" >0.46</td>\n",
       "                        <td id=\"T_88a4c_row3_col3\" class=\"data row3 col3\" >0.00</td>\n",
       "                        <td id=\"T_88a4c_row3_col4\" class=\"data row3 col4\" >0.39</td>\n",
       "                        <td id=\"T_88a4c_row3_col5\" class=\"data row3 col5\" >3.56</td>\n",
       "                        <td id=\"T_88a4c_row3_col6\" class=\"data row3 col6\" >2.90</td>\n",
       "                        <td id=\"T_88a4c_row3_col7\" class=\"data row3 col7\" >1.13</td>\n",
       "                        <td id=\"T_88a4c_row3_col8\" class=\"data row3 col8\" >1.00</td>\n",
       "                        <td id=\"T_88a4c_row3_col9\" class=\"data row3 col9\" >187.00</td>\n",
       "                        <td id=\"T_88a4c_row3_col10\" class=\"data row3 col10\" >12.60</td>\n",
       "                        <td id=\"T_88a4c_row3_col11\" class=\"data row3 col11\" >2.52</td>\n",
       "                        <td id=\"T_88a4c_row3_col12\" class=\"data row3 col12\" >1.73</td>\n",
       "            </tr>\n",
       "            <tr>\n",
       "                        <th id=\"T_88a4c_level0_row4\" class=\"row_heading level0 row4\" >25%</th>\n",
       "                        <td id=\"T_88a4c_row4_col0\" class=\"data row4 col0\" >0.08</td>\n",
       "                        <td id=\"T_88a4c_row4_col1\" class=\"data row4 col1\" >0.00</td>\n",
       "                        <td id=\"T_88a4c_row4_col2\" class=\"data row4 col2\" >5.13</td>\n",
       "                        <td id=\"T_88a4c_row4_col3\" class=\"data row4 col3\" >0.00</td>\n",
       "                        <td id=\"T_88a4c_row4_col4\" class=\"data row4 col4\" >0.45</td>\n",
       "                        <td id=\"T_88a4c_row4_col5\" class=\"data row4 col5\" >5.92</td>\n",
       "                        <td id=\"T_88a4c_row4_col6\" class=\"data row4 col6\" >45.02</td>\n",
       "                        <td id=\"T_88a4c_row4_col7\" class=\"data row4 col7\" >2.08</td>\n",
       "                        <td id=\"T_88a4c_row4_col8\" class=\"data row4 col8\" >4.00</td>\n",
       "                        <td id=\"T_88a4c_row4_col9\" class=\"data row4 col9\" >277.00</td>\n",
       "                        <td id=\"T_88a4c_row4_col10\" class=\"data row4 col10\" >16.92</td>\n",
       "                        <td id=\"T_88a4c_row4_col11\" class=\"data row4 col11\" >375.24</td>\n",
       "                        <td id=\"T_88a4c_row4_col12\" class=\"data row4 col12\" >6.72</td>\n",
       "            </tr>\n",
       "            <tr>\n",
       "                        <th id=\"T_88a4c_level0_row5\" class=\"row_heading level0 row5\" >50%</th>\n",
       "                        <td id=\"T_88a4c_row5_col0\" class=\"data row5 col0\" >0.26</td>\n",
       "                        <td id=\"T_88a4c_row5_col1\" class=\"data row5 col1\" >0.00</td>\n",
       "                        <td id=\"T_88a4c_row5_col2\" class=\"data row5 col2\" >8.56</td>\n",
       "                        <td id=\"T_88a4c_row5_col3\" class=\"data row5 col3\" >0.00</td>\n",
       "                        <td id=\"T_88a4c_row5_col4\" class=\"data row5 col4\" >0.53</td>\n",
       "                        <td id=\"T_88a4c_row5_col5\" class=\"data row5 col5\" >6.25</td>\n",
       "                        <td id=\"T_88a4c_row5_col6\" class=\"data row5 col6\" >78.20</td>\n",
       "                        <td id=\"T_88a4c_row5_col7\" class=\"data row5 col7\" >3.30</td>\n",
       "                        <td id=\"T_88a4c_row5_col8\" class=\"data row5 col8\" >5.00</td>\n",
       "                        <td id=\"T_88a4c_row5_col9\" class=\"data row5 col9\" >322.00</td>\n",
       "                        <td id=\"T_88a4c_row5_col10\" class=\"data row5 col10\" >18.70</td>\n",
       "                        <td id=\"T_88a4c_row5_col11\" class=\"data row5 col11\" >392.05</td>\n",
       "                        <td id=\"T_88a4c_row5_col12\" class=\"data row5 col12\" >10.66</td>\n",
       "            </tr>\n",
       "            <tr>\n",
       "                        <th id=\"T_88a4c_level0_row6\" class=\"row_heading level0 row6\" >75%</th>\n",
       "                        <td id=\"T_88a4c_row6_col0\" class=\"data row6 col0\" >3.85</td>\n",
       "                        <td id=\"T_88a4c_row6_col1\" class=\"data row6 col1\" >12.50</td>\n",
       "                        <td id=\"T_88a4c_row6_col2\" class=\"data row6 col2\" >18.10</td>\n",
       "                        <td id=\"T_88a4c_row6_col3\" class=\"data row6 col3\" >0.00</td>\n",
       "                        <td id=\"T_88a4c_row6_col4\" class=\"data row6 col4\" >0.62</td>\n",
       "                        <td id=\"T_88a4c_row6_col5\" class=\"data row6 col5\" >6.69</td>\n",
       "                        <td id=\"T_88a4c_row6_col6\" class=\"data row6 col6\" >94.10</td>\n",
       "                        <td id=\"T_88a4c_row6_col7\" class=\"data row6 col7\" >5.11</td>\n",
       "                        <td id=\"T_88a4c_row6_col8\" class=\"data row6 col8\" >24.00</td>\n",
       "                        <td id=\"T_88a4c_row6_col9\" class=\"data row6 col9\" >666.00</td>\n",
       "                        <td id=\"T_88a4c_row6_col10\" class=\"data row6 col10\" >20.20</td>\n",
       "                        <td id=\"T_88a4c_row6_col11\" class=\"data row6 col11\" >396.90</td>\n",
       "                        <td id=\"T_88a4c_row6_col12\" class=\"data row6 col12\" >17.11</td>\n",
       "            </tr>\n",
       "            <tr>\n",
       "                        <th id=\"T_88a4c_level0_row7\" class=\"row_heading level0 row7\" >max</th>\n",
       "                        <td id=\"T_88a4c_row7_col0\" class=\"data row7 col0\" >88.98</td>\n",
       "                        <td id=\"T_88a4c_row7_col1\" class=\"data row7 col1\" >100.00</td>\n",
       "                        <td id=\"T_88a4c_row7_col2\" class=\"data row7 col2\" >27.74</td>\n",
       "                        <td id=\"T_88a4c_row7_col3\" class=\"data row7 col3\" >1.00</td>\n",
       "                        <td id=\"T_88a4c_row7_col4\" class=\"data row7 col4\" >0.87</td>\n",
       "                        <td id=\"T_88a4c_row7_col5\" class=\"data row7 col5\" >8.72</td>\n",
       "                        <td id=\"T_88a4c_row7_col6\" class=\"data row7 col6\" >100.00</td>\n",
       "                        <td id=\"T_88a4c_row7_col7\" class=\"data row7 col7\" >12.13</td>\n",
       "                        <td id=\"T_88a4c_row7_col8\" class=\"data row7 col8\" >24.00</td>\n",
       "                        <td id=\"T_88a4c_row7_col9\" class=\"data row7 col9\" >711.00</td>\n",
       "                        <td id=\"T_88a4c_row7_col10\" class=\"data row7 col10\" >22.00</td>\n",
       "                        <td id=\"T_88a4c_row7_col11\" class=\"data row7 col11\" >396.90</td>\n",
       "                        <td id=\"T_88a4c_row7_col12\" class=\"data row7 col12\" >36.98</td>\n",
       "            </tr>\n",
       "    </tbody></table>"
      ],
      "text/plain": [
       "<pandas.io.formats.style.Styler at 0x7f6e6980c7f0>"
      ]
     },
     "metadata": {},
     "output_type": "display_data"
    },
    {
     "data": {
      "text/html": [
       "<style  type=\"text/css\" >\n",
       "</style><table id=\"T_c304f_\" ><caption>After normalization :</caption><thead>    <tr>        <th class=\"blank level0\" ></th>        <th class=\"col_heading level0 col0\" >crim</th>        <th class=\"col_heading level0 col1\" >zn</th>        <th class=\"col_heading level0 col2\" >indus</th>        <th class=\"col_heading level0 col3\" >chas</th>        <th class=\"col_heading level0 col4\" >nox</th>        <th class=\"col_heading level0 col5\" >rm</th>        <th class=\"col_heading level0 col6\" >age</th>        <th class=\"col_heading level0 col7\" >dis</th>        <th class=\"col_heading level0 col8\" >rad</th>        <th class=\"col_heading level0 col9\" >tax</th>        <th class=\"col_heading level0 col10\" >ptratio</th>        <th class=\"col_heading level0 col11\" >b</th>        <th class=\"col_heading level0 col12\" >lstat</th>    </tr></thead><tbody>\n",
       "                <tr>\n",
       "                        <th id=\"T_c304f_level0_row0\" class=\"row_heading level0 row0\" >count</th>\n",
       "                        <td id=\"T_c304f_row0_col0\" class=\"data row0 col0\" >354.00</td>\n",
       "                        <td id=\"T_c304f_row0_col1\" class=\"data row0 col1\" >354.00</td>\n",
       "                        <td id=\"T_c304f_row0_col2\" class=\"data row0 col2\" >354.00</td>\n",
       "                        <td id=\"T_c304f_row0_col3\" class=\"data row0 col3\" >354.00</td>\n",
       "                        <td id=\"T_c304f_row0_col4\" class=\"data row0 col4\" >354.00</td>\n",
       "                        <td id=\"T_c304f_row0_col5\" class=\"data row0 col5\" >354.00</td>\n",
       "                        <td id=\"T_c304f_row0_col6\" class=\"data row0 col6\" >354.00</td>\n",
       "                        <td id=\"T_c304f_row0_col7\" class=\"data row0 col7\" >354.00</td>\n",
       "                        <td id=\"T_c304f_row0_col8\" class=\"data row0 col8\" >354.00</td>\n",
       "                        <td id=\"T_c304f_row0_col9\" class=\"data row0 col9\" >354.00</td>\n",
       "                        <td id=\"T_c304f_row0_col10\" class=\"data row0 col10\" >354.00</td>\n",
       "                        <td id=\"T_c304f_row0_col11\" class=\"data row0 col11\" >354.00</td>\n",
       "                        <td id=\"T_c304f_row0_col12\" class=\"data row0 col12\" >354.00</td>\n",
       "            </tr>\n",
       "            <tr>\n",
       "                        <th id=\"T_c304f_level0_row1\" class=\"row_heading level0 row1\" >mean</th>\n",
       "                        <td id=\"T_c304f_row1_col0\" class=\"data row1 col0\" >0.00</td>\n",
       "                        <td id=\"T_c304f_row1_col1\" class=\"data row1 col1\" >0.00</td>\n",
       "                        <td id=\"T_c304f_row1_col2\" class=\"data row1 col2\" >0.00</td>\n",
       "                        <td id=\"T_c304f_row1_col3\" class=\"data row1 col3\" >-0.00</td>\n",
       "                        <td id=\"T_c304f_row1_col4\" class=\"data row1 col4\" >-0.00</td>\n",
       "                        <td id=\"T_c304f_row1_col5\" class=\"data row1 col5\" >0.00</td>\n",
       "                        <td id=\"T_c304f_row1_col6\" class=\"data row1 col6\" >-0.00</td>\n",
       "                        <td id=\"T_c304f_row1_col7\" class=\"data row1 col7\" >-0.00</td>\n",
       "                        <td id=\"T_c304f_row1_col8\" class=\"data row1 col8\" >-0.00</td>\n",
       "                        <td id=\"T_c304f_row1_col9\" class=\"data row1 col9\" >-0.00</td>\n",
       "                        <td id=\"T_c304f_row1_col10\" class=\"data row1 col10\" >0.00</td>\n",
       "                        <td id=\"T_c304f_row1_col11\" class=\"data row1 col11\" >-0.00</td>\n",
       "                        <td id=\"T_c304f_row1_col12\" class=\"data row1 col12\" >-0.00</td>\n",
       "            </tr>\n",
       "            <tr>\n",
       "                        <th id=\"T_c304f_level0_row2\" class=\"row_heading level0 row2\" >std</th>\n",
       "                        <td id=\"T_c304f_row2_col0\" class=\"data row2 col0\" >1.00</td>\n",
       "                        <td id=\"T_c304f_row2_col1\" class=\"data row2 col1\" >1.00</td>\n",
       "                        <td id=\"T_c304f_row2_col2\" class=\"data row2 col2\" >1.00</td>\n",
       "                        <td id=\"T_c304f_row2_col3\" class=\"data row2 col3\" >1.00</td>\n",
       "                        <td id=\"T_c304f_row2_col4\" class=\"data row2 col4\" >1.00</td>\n",
       "                        <td id=\"T_c304f_row2_col5\" class=\"data row2 col5\" >1.00</td>\n",
       "                        <td id=\"T_c304f_row2_col6\" class=\"data row2 col6\" >1.00</td>\n",
       "                        <td id=\"T_c304f_row2_col7\" class=\"data row2 col7\" >1.00</td>\n",
       "                        <td id=\"T_c304f_row2_col8\" class=\"data row2 col8\" >1.00</td>\n",
       "                        <td id=\"T_c304f_row2_col9\" class=\"data row2 col9\" >1.00</td>\n",
       "                        <td id=\"T_c304f_row2_col10\" class=\"data row2 col10\" >1.00</td>\n",
       "                        <td id=\"T_c304f_row2_col11\" class=\"data row2 col11\" >1.00</td>\n",
       "                        <td id=\"T_c304f_row2_col12\" class=\"data row2 col12\" >1.00</td>\n",
       "            </tr>\n",
       "            <tr>\n",
       "                        <th id=\"T_c304f_level0_row3\" class=\"row_heading level0 row3\" >min</th>\n",
       "                        <td id=\"T_c304f_row3_col0\" class=\"data row3 col0\" >-0.41</td>\n",
       "                        <td id=\"T_c304f_row3_col1\" class=\"data row3 col1\" >-0.48</td>\n",
       "                        <td id=\"T_c304f_row3_col2\" class=\"data row3 col2\" >-1.56</td>\n",
       "                        <td id=\"T_c304f_row3_col3\" class=\"data row3 col3\" >-0.28</td>\n",
       "                        <td id=\"T_c304f_row3_col4\" class=\"data row3 col4\" >-1.47</td>\n",
       "                        <td id=\"T_c304f_row3_col5\" class=\"data row3 col5\" >-3.90</td>\n",
       "                        <td id=\"T_c304f_row3_col6\" class=\"data row3 col6\" >-2.31</td>\n",
       "                        <td id=\"T_c304f_row3_col7\" class=\"data row3 col7\" >-1.30</td>\n",
       "                        <td id=\"T_c304f_row3_col8\" class=\"data row3 col8\" >-0.98</td>\n",
       "                        <td id=\"T_c304f_row3_col9\" class=\"data row3 col9\" >-1.29</td>\n",
       "                        <td id=\"T_c304f_row3_col10\" class=\"data row3 col10\" >-2.60</td>\n",
       "                        <td id=\"T_c304f_row3_col11\" class=\"data row3 col11\" >-3.96</td>\n",
       "                        <td id=\"T_c304f_row3_col12\" class=\"data row3 col12\" >-1.47</td>\n",
       "            </tr>\n",
       "            <tr>\n",
       "                        <th id=\"T_c304f_level0_row4\" class=\"row_heading level0 row4\" >25%</th>\n",
       "                        <td id=\"T_c304f_row4_col0\" class=\"data row4 col0\" >-0.41</td>\n",
       "                        <td id=\"T_c304f_row4_col1\" class=\"data row4 col1\" >-0.48</td>\n",
       "                        <td id=\"T_c304f_row4_col2\" class=\"data row4 col2\" >-0.86</td>\n",
       "                        <td id=\"T_c304f_row4_col3\" class=\"data row4 col3\" >-0.28</td>\n",
       "                        <td id=\"T_c304f_row4_col4\" class=\"data row4 col4\" >-0.91</td>\n",
       "                        <td id=\"T_c304f_row4_col5\" class=\"data row4 col5\" >-0.59</td>\n",
       "                        <td id=\"T_c304f_row4_col6\" class=\"data row4 col6\" >-0.82</td>\n",
       "                        <td id=\"T_c304f_row4_col7\" class=\"data row4 col7\" >-0.83</td>\n",
       "                        <td id=\"T_c304f_row4_col8\" class=\"data row4 col8\" >-0.63</td>\n",
       "                        <td id=\"T_c304f_row4_col9\" class=\"data row4 col9\" >-0.76</td>\n",
       "                        <td id=\"T_c304f_row4_col10\" class=\"data row4 col10\" >-0.64</td>\n",
       "                        <td id=\"T_c304f_row4_col11\" class=\"data row4 col11\" >0.20</td>\n",
       "                        <td id=\"T_c304f_row4_col12\" class=\"data row4 col12\" >-0.79</td>\n",
       "            </tr>\n",
       "            <tr>\n",
       "                        <th id=\"T_c304f_level0_row5\" class=\"row_heading level0 row5\" >50%</th>\n",
       "                        <td id=\"T_c304f_row5_col0\" class=\"data row5 col0\" >-0.39</td>\n",
       "                        <td id=\"T_c304f_row5_col1\" class=\"data row5 col1\" >-0.48</td>\n",
       "                        <td id=\"T_c304f_row5_col2\" class=\"data row5 col2\" >-0.35</td>\n",
       "                        <td id=\"T_c304f_row5_col3\" class=\"data row5 col3\" >-0.28</td>\n",
       "                        <td id=\"T_c304f_row5_col4\" class=\"data row5 col4\" >-0.19</td>\n",
       "                        <td id=\"T_c304f_row5_col5\" class=\"data row5 col5\" >-0.13</td>\n",
       "                        <td id=\"T_c304f_row5_col6\" class=\"data row5 col6\" >0.34</td>\n",
       "                        <td id=\"T_c304f_row5_col7\" class=\"data row5 col7\" >-0.22</td>\n",
       "                        <td id=\"T_c304f_row5_col8\" class=\"data row5 col8\" >-0.52</td>\n",
       "                        <td id=\"T_c304f_row5_col9\" class=\"data row5 col9\" >-0.49</td>\n",
       "                        <td id=\"T_c304f_row5_col10\" class=\"data row5 col10\" >0.16</td>\n",
       "                        <td id=\"T_c304f_row5_col11\" class=\"data row5 col11\" >0.39</td>\n",
       "                        <td id=\"T_c304f_row5_col12\" class=\"data row5 col12\" >-0.26</td>\n",
       "            </tr>\n",
       "            <tr>\n",
       "                        <th id=\"T_c304f_level0_row6\" class=\"row_heading level0 row6\" >75%</th>\n",
       "                        <td id=\"T_c304f_row6_col0\" class=\"data row6 col0\" >-0.00</td>\n",
       "                        <td id=\"T_c304f_row6_col1\" class=\"data row6 col1\" >0.07</td>\n",
       "                        <td id=\"T_c304f_row6_col2\" class=\"data row6 col2\" >1.07</td>\n",
       "                        <td id=\"T_c304f_row6_col3\" class=\"data row6 col3\" >-0.28</td>\n",
       "                        <td id=\"T_c304f_row6_col4\" class=\"data row6 col4\" >0.61</td>\n",
       "                        <td id=\"T_c304f_row6_col5\" class=\"data row6 col5\" >0.50</td>\n",
       "                        <td id=\"T_c304f_row6_col6\" class=\"data row6 col6\" >0.90</td>\n",
       "                        <td id=\"T_c304f_row6_col7\" class=\"data row6 col7\" >0.67</td>\n",
       "                        <td id=\"T_c304f_row6_col8\" class=\"data row6 col8\" >1.65</td>\n",
       "                        <td id=\"T_c304f_row6_col9\" class=\"data row6 col9\" >1.54</td>\n",
       "                        <td id=\"T_c304f_row6_col10\" class=\"data row6 col10\" >0.84</td>\n",
       "                        <td id=\"T_c304f_row6_col11\" class=\"data row6 col11\" >0.44</td>\n",
       "                        <td id=\"T_c304f_row6_col12\" class=\"data row6 col12\" >0.62</td>\n",
       "            </tr>\n",
       "            <tr>\n",
       "                        <th id=\"T_c304f_level0_row7\" class=\"row_heading level0 row7\" >max</th>\n",
       "                        <td id=\"T_c304f_row7_col0\" class=\"data row7 col0\" >9.14</td>\n",
       "                        <td id=\"T_c304f_row7_col1\" class=\"data row7 col1\" >3.90</td>\n",
       "                        <td id=\"T_c304f_row7_col2\" class=\"data row7 col2\" >2.50</td>\n",
       "                        <td id=\"T_c304f_row7_col3\" class=\"data row7 col3\" >3.62</td>\n",
       "                        <td id=\"T_c304f_row7_col4\" class=\"data row7 col4\" >2.76</td>\n",
       "                        <td id=\"T_c304f_row7_col5\" class=\"data row7 col5\" >3.36</td>\n",
       "                        <td id=\"T_c304f_row7_col6\" class=\"data row7 col6\" >1.11</td>\n",
       "                        <td id=\"T_c304f_row7_col7\" class=\"data row7 col7\" >4.14</td>\n",
       "                        <td id=\"T_c304f_row7_col8\" class=\"data row7 col8\" >1.65</td>\n",
       "                        <td id=\"T_c304f_row7_col9\" class=\"data row7 col9\" >1.80</td>\n",
       "                        <td id=\"T_c304f_row7_col10\" class=\"data row7 col10\" >1.66</td>\n",
       "                        <td id=\"T_c304f_row7_col11\" class=\"data row7 col11\" >0.44</td>\n",
       "                        <td id=\"T_c304f_row7_col12\" class=\"data row7 col12\" >3.32</td>\n",
       "            </tr>\n",
       "    </tbody></table>"
      ],
      "text/plain": [
       "<pandas.io.formats.style.Styler at 0x7f6e6994a6a0>"
      ]
     },
     "metadata": {},
     "output_type": "display_data"
    }
   ],
   "source": [
    "display(x_train.describe().style.format(\"{0:.2f}\").set_caption(\"Before normalization :\"))\n",
    "\n",
    "mean = x_train.mean()\n",
    "std  = x_train.std()\n",
    "x_train = (x_train - mean) / std\n",
    "x_test  = (x_test  - mean) / std\n",
    "\n",
    "display(x_train.describe().style.format(\"{0:.2f}\").set_caption(\"After normalization :\"))\n",
    "\n",
    "x_train, y_train = np.array(x_train), np.array(y_train)\n",
    "x_test,  y_test  = np.array(x_test),  np.array(y_test)\n"
   ]
  },
  {
   "cell_type": "markdown",
   "metadata": {},
   "source": [
    "## Step 4 - Build a model\n",
    "More informations about : \n",
    " - [Optimizer](https://www.tensorflow.org/api_docs/python/tf/keras/optimizers)\n",
    " - [Activation](https://www.tensorflow.org/api_docs/python/tf/keras/activations)\n",
    " - [Loss](https://www.tensorflow.org/api_docs/python/tf/keras/losses)\n",
    " - [Metrics](https://www.tensorflow.org/api_docs/python/tf/keras/metrics)"
   ]
  },
  {
   "cell_type": "code",
   "execution_count": 6,
   "metadata": {
    "execution": {
     "iopub.execute_input": "2021-01-26T18:54:51.402434Z",
     "iopub.status.busy": "2021-01-26T18:54:51.402098Z",
     "iopub.status.idle": "2021-01-26T18:54:51.404354Z",
     "shell.execute_reply": "2021-01-26T18:54:51.404066Z"
    }
   },
   "outputs": [],
   "source": [
    "  def get_model_v1(shape):\n",
    "    \n",
    "    model = keras.models.Sequential()\n",
    "    model.add(keras.layers.Input(shape, name=\"InputLayer\"))\n",
    "    model.add(keras.layers.Dense(64, activation='relu', name='Dense_n1'))\n",
    "    model.add(keras.layers.Dense(64, activation='relu', name='Dense_n2'))\n",
    "    model.add(keras.layers.Dense(1, name='Output'))\n",
    "    \n",
    "    model.compile(optimizer = 'rmsprop',\n",
    "                  loss      = 'mse',\n",
    "                  metrics   = ['mae', 'mse'] )\n",
    "    return model"
   ]
  },
  {
   "cell_type": "markdown",
   "metadata": {},
   "source": [
    "## 5 - Train the model\n",
    "### 5.1 - Get it"
   ]
  },
  {
   "cell_type": "code",
   "execution_count": 7,
   "metadata": {
    "execution": {
     "iopub.execute_input": "2021-01-26T18:54:51.409617Z",
     "iopub.status.busy": "2021-01-26T18:54:51.409284Z",
     "iopub.status.idle": "2021-01-26T18:54:51.448503Z",
     "shell.execute_reply": "2021-01-26T18:54:51.448197Z"
    }
   },
   "outputs": [
    {
     "name": "stdout",
     "output_type": "stream",
     "text": [
      "Model: \"sequential\"\n",
      "_________________________________________________________________\n",
      "Layer (type)                 Output Shape              Param #   \n",
      "=================================================================\n",
      "Dense_n1 (Dense)             (None, 64)                896       \n",
      "_________________________________________________________________\n",
      "Dense_n2 (Dense)             (None, 64)                4160      \n",
      "_________________________________________________________________\n",
      "Output (Dense)               (None, 1)                 65        \n",
      "=================================================================\n",
      "Total params: 5,121\n",
      "Trainable params: 5,121\n",
      "Non-trainable params: 0\n",
      "_________________________________________________________________\n"
     ]
    }
   ],
   "source": [
    "model=get_model_v1( (13,) )\n",
    "\n",
    "model.summary()\n",
    "# img=keras.utils.plot_model( model, to_file='./run/model.png', show_shapes=True, show_layer_names=True, dpi=96)\n",
    "# display(img)"
   ]
  },
  {
   "cell_type": "markdown",
   "metadata": {},
   "source": [
    "### 5.2 - Add callback"
   ]
  },
  {
   "cell_type": "code",
   "execution_count": 8,
   "metadata": {
    "execution": {
     "iopub.execute_input": "2021-01-26T18:54:51.452200Z",
     "iopub.status.busy": "2021-01-26T18:54:51.451889Z",
     "iopub.status.idle": "2021-01-26T18:54:51.454148Z",
     "shell.execute_reply": "2021-01-26T18:54:51.453829Z"
    }
   },
   "outputs": [],
   "source": [
    "os.makedirs('./run/models',   mode=0o750, exist_ok=True)\n",
    "save_dir = \"./run/models/best_model.h5\"\n",
    "\n",
    "savemodel_callback = tf.keras.callbacks.ModelCheckpoint(filepath=save_dir, verbose=0, save_best_only=True)"
   ]
  },
  {
   "cell_type": "markdown",
   "metadata": {},
   "source": [
    "### 5.3 - Train it"
   ]
  },
  {
   "cell_type": "code",
   "execution_count": 9,
   "metadata": {
    "execution": {
     "iopub.execute_input": "2021-01-26T18:54:51.461357Z",
     "iopub.status.busy": "2021-01-26T18:54:51.461003Z",
     "iopub.status.idle": "2021-01-26T18:54:59.500129Z",
     "shell.execute_reply": "2021-01-26T18:54:59.500538Z"
    }
   },
   "outputs": [
    {
     "name": "stdout",
     "output_type": "stream",
     "text": [
      "Epoch 1/100\n"
     ]
    },
    {
     "name": "stdout",
     "output_type": "stream",
     "text": [
      "\r",
      " 1/36 [..............................] - ETA: 0s - loss: 524.3780 - mae: 21.8794 - mse: 524.3780"
     ]
    },
    {
     "name": "stdout",
     "output_type": "stream",
     "text": [
      "\b\b\b\b\b\b\b\b\b\b\b\b\b\b\b\b\b\b\b\b\b\b\b\b\b\b\b\b\b\b\b\b\b\b\b\b\b\b\b\b\b\b\b\b\b\b\b\b\b\b\b\b\b\b\b\b\b\b\b\b\b\b\b\b\b\b\b\b\b\b\b\b\b\b\b\b\b\b\b\b\b\b\b\b\b\b\b\b\b\b\b\b\b\b\b\b\r",
      "36/36 [==============================] - 0s 5ms/step - loss: 467.0979 - mae: 19.3228 - mse: 467.0979 - val_loss: 233.6538 - val_mae: 13.8746 - val_mse: 233.6538\n"
     ]
    },
    {
     "name": "stdout",
     "output_type": "stream",
     "text": [
      "Epoch 2/100\n",
      "\r",
      " 1/36 [..............................] - ETA: 0s - loss: 300.4113 - mae: 16.4995 - mse: 300.4113"
     ]
    },
    {
     "name": "stdout",
     "output_type": "stream",
     "text": [
      "\b\b\b\b\b\b\b\b\b\b\b\b\b\b\b\b\b\b\b\b\b\b\b\b\b\b\b\b\b\b\b\b\b\b\b\b\b\b\b\b\b\b\b\b\b\b\b\b\b\b\b\b\b\b\b\b\b\b\b\b\b\b\b\b\b\b\b\b\b\b\b\b\b\b\b\b\b\b\b\b\b\b\b\b\b\b\b\b\b\b\b\b\b\b\b\b\r",
      "36/36 [==============================] - 0s 2ms/step - loss: 195.0283 - mae: 11.6077 - mse: 195.0283 - val_loss: 70.7818 - val_mae: 6.9216 - val_mse: 70.7818\n"
     ]
    },
    {
     "name": "stdout",
     "output_type": "stream",
     "text": [
      "Epoch 3/100\n",
      "\r",
      " 1/36 [..............................] - ETA: 0s - loss: 47.1706 - mae: 5.7595 - mse: 47.1706"
     ]
    },
    {
     "name": "stdout",
     "output_type": "stream",
     "text": [
      "\b\b\b\b\b\b\b\b\b\b\b\b\b\b\b\b\b\b\b\b\b\b\b\b\b\b\b\b\b\b\b\b\b\b\b\b\b\b\b\b\b\b\b\b\b\b\b\b\b\b\b\b\b\b\b\b\b\b\b\b\b\b\b\b\b\b\b\b\b\b\b\b\b\b\b\b\b\b\b\b\b\b\b\b\b\b\b\b\b\b\b\b\b\r",
      "36/36 [==============================] - 0s 3ms/step - loss: 71.8525 - mae: 6.4334 - mse: 71.8524 - val_loss: 38.6592 - val_mae: 4.8970 - val_mse: 38.6592\n"
     ]
    },
    {
     "name": "stdout",
     "output_type": "stream",
     "text": [
      "Epoch 4/100\n",
      "\r",
      " 1/36 [..............................] - ETA: 0s - loss: 49.9734 - mae: 6.3892 - mse: 49.9734"
     ]
    },
    {
     "name": "stdout",
     "output_type": "stream",
     "text": [
      "\b\b\b\b\b\b\b\b\b\b\b\b\b\b\b\b\b\b\b\b\b\b\b\b\b\b\b\b\b\b\b\b\b\b\b\b\b\b\b\b\b\b\b\b\b\b\b\b\b\b\b\b\b\b\b\b\b\b\b\b\b\b\b\b\b\b\b\b\b\b\b\b\b\b\b\b\b\b\b\b\b\b\b\b\b\b\b\b\b\b\b\b\b\r",
      "36/36 [==============================] - 0s 2ms/step - loss: 40.7974 - mae: 4.7092 - mse: 40.7974 - val_loss: 24.0020 - val_mae: 3.7493 - val_mse: 24.0020\n"
     ]
    },
    {
     "name": "stdout",
     "output_type": "stream",
     "text": [
      "Epoch 5/100\n",
      "\r",
      " 1/36 [..............................] - ETA: 0s - loss: 22.6004 - mae: 3.4561 - mse: 22.6004"
     ]
    },
    {
     "name": "stdout",
     "output_type": "stream",
     "text": [
      "\b\b\b\b\b\b\b\b\b\b\b\b\b\b\b\b\b\b\b\b\b\b\b\b\b\b\b\b\b\b\b\b\b\b\b\b\b\b\b\b\b\b\b\b\b\b\b\b\b\b\b\b\b\b\b\b\b\b\b\b\b\b\b\b\b\b\b\b\b\b\b\b\b\b\b\b\b\b\b\b\b\b\b\b\b\b\b\b\b\b\b\b\b\r",
      "36/36 [==============================] - 0s 2ms/step - loss: 28.5347 - mae: 3.8565 - mse: 28.5347 - val_loss: 16.7191 - val_mae: 3.0819 - val_mse: 16.7191\n"
     ]
    },
    {
     "name": "stdout",
     "output_type": "stream",
     "text": [
      "Epoch 6/100\n",
      "\r",
      " 1/36 [..............................] - ETA: 0s - loss: 13.3642 - mae: 3.0078 - mse: 13.3642"
     ]
    },
    {
     "name": "stdout",
     "output_type": "stream",
     "text": [
      "\b\b\b\b\b\b\b\b\b\b\b\b\b\b\b\b\b\b\b\b\b\b\b\b\b\b\b\b\b\b\b\b\b\b\b\b\b\b\b\b\b\b\b\b\b\b\b\b\b\b\b\b\b\b\b\b\b\b\b\b\b\b\b\b\b\b\b\b\b\b\b\b\b\b\b\b\b\b\b\b\b\b\b\b\b\b\b\b\b\b\b\b\b\r",
      "36/36 [==============================] - 0s 2ms/step - loss: 23.4328 - mae: 3.3963 - mse: 23.4328 - val_loss: 14.4259 - val_mae: 2.6260 - val_mse: 14.4259\n"
     ]
    },
    {
     "name": "stdout",
     "output_type": "stream",
     "text": [
      "Epoch 7/100\n",
      "\r",
      " 1/36 [..............................] - ETA: 0s - loss: 11.6618 - mae: 2.4882 - mse: 11.6618"
     ]
    },
    {
     "name": "stdout",
     "output_type": "stream",
     "text": [
      "\b\b\b\b\b\b\b\b\b\b\b\b\b\b\b\b\b\b\b\b\b\b\b\b\b\b\b\b\b\b\b\b\b\b\b\b\b\b\b\b\b\b\b\b\b\b\b\b\b\b\b\b\b\b\b\b\b\b\b\b\b\b\b\b\b\b\b\b\b\b\b\b\b\b\b\b\b\b\b\b\b\b\b\b\b\b\b\b\b\b\b\b\b\r",
      "36/36 [==============================] - 0s 2ms/step - loss: 20.8500 - mae: 3.1541 - mse: 20.8500 - val_loss: 13.3741 - val_mae: 2.4950 - val_mse: 13.3741\n"
     ]
    },
    {
     "name": "stdout",
     "output_type": "stream",
     "text": [
      "Epoch 8/100\n",
      "\r",
      " 1/36 [..............................] - ETA: 0s - loss: 10.1724 - mae: 2.5022 - mse: 10.1724"
     ]
    },
    {
     "name": "stdout",
     "output_type": "stream",
     "text": [
      "\b\b\b\b\b\b\b\b\b\b\b\b\b\b\b\b\b\b\b\b\b\b\b\b\b\b\b\b\b\b\b\b\b\b\b\b\b\b\b\b\b\b\b\b\b\b\b\b\b\b\b\b\b\b\b\b\b\b\b\b\b\b\b\b\b\b\b\b\b\b\b\b\b\b\b\b\b\b\b\b\b\b\b\b\b\b\b\b\b\b\b\b\b\r",
      "36/36 [==============================] - 0s 2ms/step - loss: 18.3349 - mae: 2.9900 - mse: 18.3349 - val_loss: 15.4015 - val_mae: 2.6979 - val_mse: 15.4015\n"
     ]
    },
    {
     "name": "stdout",
     "output_type": "stream",
     "text": [
      "Epoch 9/100\n",
      "\r",
      " 1/36 [..............................] - ETA: 0s - loss: 21.0187 - mae: 3.2410 - mse: 21.0187"
     ]
    },
    {
     "name": "stdout",
     "output_type": "stream",
     "text": [
      "\b\b\b\b\b\b\b\b\b\b\b\b\b\b\b\b\b\b\b\b\b\b\b\b\b\b\b\b\b\b\b\b\b\b\b\b\b\b\b\b\b\b\b\b\b\b\b\b\b\b\b\b\b\b\b\b\b\b\b\b\b\b\b\b\b\b\b\b\b\b\b\b\b\b\b\b\b\b\b\b\b\b\b\b\b\b\b\b\b\b\b\b\b\r",
      "36/36 [==============================] - 0s 2ms/step - loss: 17.0373 - mae: 2.9033 - mse: 17.0373 - val_loss: 13.4447 - val_mae: 2.4656 - val_mse: 13.4447\n"
     ]
    },
    {
     "name": "stdout",
     "output_type": "stream",
     "text": [
      "Epoch 10/100\n",
      "\r",
      " 1/36 [..............................] - ETA: 0s - loss: 30.8257 - mae: 4.0180 - mse: 30.8257"
     ]
    },
    {
     "name": "stdout",
     "output_type": "stream",
     "text": [
      "\b\b\b\b\b\b\b\b\b\b\b\b\b\b\b\b\b\b\b\b\b\b\b\b\b\b\b\b\b\b\b\b\b\b\b\b\b\b\b\b\b\b\b\b\b\b\b\b\b\b\b\b\b\b\b\b\b\b\b\b\b\b\b\b\b\b\b\b\b\b\b\b\b\b\b\b\b\b\b\b\b\b\b\b\b\b\b\b\b\b\b\b\b\r",
      "36/36 [==============================] - 0s 2ms/step - loss: 16.0808 - mae: 2.7871 - mse: 16.0808 - val_loss: 12.8156 - val_mae: 2.4046 - val_mse: 12.8156\n"
     ]
    },
    {
     "name": "stdout",
     "output_type": "stream",
     "text": [
      "Epoch 11/100\n",
      "\r",
      " 1/36 [..............................] - ETA: 0s - loss: 71.0791 - mae: 4.3979 - mse: 71.0791"
     ]
    },
    {
     "name": "stdout",
     "output_type": "stream",
     "text": [
      "\b\b\b\b\b\b\b\b\b\b\b\b\b\b\b\b\b\b\b\b\b\b\b\b\b\b\b\b\b\b\b\b\b\b\b\b\b\b\b\b\b\b\b\b\b\b\b\b\b\b\b\b\b\b\b\b\b\b\b\b\b\b\b\b\b\b\b\b\b\b\b\b\b\b\b\b\b\b\b\b\b\b\b\b\b\b\b\b\b\b\b\b\b\r",
      "36/36 [==============================] - 0s 2ms/step - loss: 14.9430 - mae: 2.6840 - mse: 14.9430 - val_loss: 14.8045 - val_mae: 2.7067 - val_mse: 14.8045\n"
     ]
    },
    {
     "name": "stdout",
     "output_type": "stream",
     "text": [
      "Epoch 12/100\n",
      "\r",
      " 1/36 [..............................] - ETA: 0s - loss: 14.6289 - mae: 2.2989 - mse: 14.6289"
     ]
    },
    {
     "name": "stdout",
     "output_type": "stream",
     "text": [
      "\b\b\b\b\b\b\b\b\b\b\b\b\b\b\b\b\b\b\b\b\b\b\b\b\b\b\b\b\b\b\b\b\b\b\b\b\b\b\b\b\b\b\b\b\b\b\b\b\b\b\b\b\b\b\b\b\b\b\b\b\b\b\b\b\b\b\b\b\b\b\b\b\b\b\b\b\b\b\b\b\b\b\b\b\b\b\b\b\b\b\b\b\b\r",
      "36/36 [==============================] - 0s 2ms/step - loss: 14.5115 - mae: 2.6697 - mse: 14.5115 - val_loss: 14.0469 - val_mae: 2.5745 - val_mse: 14.0469\n"
     ]
    },
    {
     "name": "stdout",
     "output_type": "stream",
     "text": [
      "Epoch 13/100\n",
      "\r",
      " 1/36 [..............................] - ETA: 0s - loss: 8.7410 - mae: 2.5464 - mse: 8.7410"
     ]
    },
    {
     "name": "stdout",
     "output_type": "stream",
     "text": [
      "\b\b\b\b\b\b\b\b\b\b\b\b\b\b\b\b\b\b\b\b\b\b\b\b\b\b\b\b\b\b\b\b\b\b\b\b\b\b\b\b\b\b\b\b\b\b\b\b\b\b\b\b\b\b\b\b\b\b\b\b\b\b\b\b\b\b\b\b\b\b\b\b\b\b\b\b\b\b\b\b\b\b\b\b\b\b\b\b\b\b\b\r",
      "36/36 [==============================] - 0s 2ms/step - loss: 13.4514 - mae: 2.5984 - mse: 13.4514 - val_loss: 14.1000 - val_mae: 2.4858 - val_mse: 14.1000\n"
     ]
    },
    {
     "name": "stdout",
     "output_type": "stream",
     "text": [
      "Epoch 14/100\n",
      "\r",
      " 1/36 [..............................] - ETA: 0s - loss: 0.4068 - mae: 0.5584 - mse: 0.4068"
     ]
    },
    {
     "name": "stdout",
     "output_type": "stream",
     "text": [
      "\b\b\b\b\b\b\b\b\b\b\b\b\b\b\b\b\b\b\b\b\b\b\b\b\b\b\b\b\b\b\b\b\b\b\b\b\b\b\b\b\b\b\b\b\b\b\b\b\b\b\b\b\b\b\b\b\b\b\b\b\b\b\b\b\b\b\b\b\b\b\b\b\b\b\b\b\b\b\b\b\b\b\b\b\b\b\b\b\b\b\b\r",
      "36/36 [==============================] - 0s 2ms/step - loss: 13.2222 - mae: 2.5593 - mse: 13.2222 - val_loss: 14.2723 - val_mae: 2.5066 - val_mse: 14.2723\n"
     ]
    },
    {
     "name": "stdout",
     "output_type": "stream",
     "text": [
      "Epoch 15/100\n",
      "\r",
      " 1/36 [..............................] - ETA: 0s - loss: 1.5703 - mae: 0.9647 - mse: 1.5703"
     ]
    },
    {
     "name": "stdout",
     "output_type": "stream",
     "text": [
      "\b\b\b\b\b\b\b\b\b\b\b\b\b\b\b\b\b\b\b\b\b\b\b\b\b\b\b\b\b\b\b\b\b\b\b\b\b\b\b\b\b\b\b\b\b\b\b\b\b\b\b\b\b\b\b\b\b\b\b\b\b\b\b\b\b\b\b\b\b\b\b\b\b\b\b\b\b\b\b\b\b\b\b\b\b\b\b\b\b\b\b\r",
      "36/36 [==============================] - 0s 2ms/step - loss: 12.6321 - mae: 2.5047 - mse: 12.6321 - val_loss: 15.0925 - val_mae: 2.5999 - val_mse: 15.0925\n"
     ]
    },
    {
     "name": "stdout",
     "output_type": "stream",
     "text": [
      "Epoch 16/100\n",
      "\r",
      " 1/36 [..............................] - ETA: 0s - loss: 10.1997 - mae: 2.4069 - mse: 10.1997"
     ]
    },
    {
     "name": "stdout",
     "output_type": "stream",
     "text": [
      "\b\b\b\b\b\b\b\b\b\b\b\b\b\b\b\b\b\b\b\b\b\b\b\b\b\b\b\b\b\b\b\b\b\b\b\b\b\b\b\b\b\b\b\b\b\b\b\b\b\b\b\b\b\b\b\b\b\b\b\b\b\b\b\b\b\b\b\b\b\b\b\b\b\b\b\b\b\b\b\b\b\b\b\b\b\b\b\b\b\b\b\b\b\r",
      "36/36 [==============================] - 0s 2ms/step - loss: 12.4821 - mae: 2.4709 - mse: 12.4821 - val_loss: 14.6766 - val_mae: 2.5090 - val_mse: 14.6766\n"
     ]
    },
    {
     "name": "stdout",
     "output_type": "stream",
     "text": [
      "Epoch 17/100\n",
      "\r",
      " 1/36 [..............................] - ETA: 0s - loss: 12.9664 - mae: 2.9900 - mse: 12.9664"
     ]
    },
    {
     "name": "stdout",
     "output_type": "stream",
     "text": [
      "\b\b\b\b\b\b\b\b\b\b\b\b\b\b\b\b\b\b\b\b\b\b\b\b\b\b\b\b\b\b\b\b\b\b\b\b\b\b\b\b\b\b\b\b\b\b\b\b\b\b\b\b\b\b\b\b\b\b\b\b\b\b\b\b\b\b\b\b\b\b\b\b\b\b\b\b\b\b\b\b\b\b\b\b\b\b\b\b\b\b\b\b\b\r",
      "36/36 [==============================] - 0s 2ms/step - loss: 11.8343 - mae: 2.4466 - mse: 11.8343 - val_loss: 17.5553 - val_mae: 2.7488 - val_mse: 17.5553\n"
     ]
    },
    {
     "name": "stdout",
     "output_type": "stream",
     "text": [
      "Epoch 18/100\n",
      "\r",
      " 1/36 [..............................] - ETA: 0s - loss: 3.9327 - mae: 1.4241 - mse: 3.9327"
     ]
    },
    {
     "name": "stdout",
     "output_type": "stream",
     "text": [
      "\b\b\b\b\b\b\b\b\b\b\b\b\b\b\b\b\b\b\b\b\b\b\b\b\b\b\b\b\b\b\b\b\b\b\b\b\b\b\b\b\b\b\b\b\b\b\b\b\b\b\b\b\b\b\b\b\b\b\b\b\b\b\b\b\b\b\b\b\b\b\b\b\b\b\b\b\b\b\b\b\b\b\b\b\b\b\b\b\b\b\b\r",
      "36/36 [==============================] - 0s 2ms/step - loss: 11.8791 - mae: 2.4358 - mse: 11.8791 - val_loss: 15.9580 - val_mae: 2.6200 - val_mse: 15.9580\n"
     ]
    },
    {
     "name": "stdout",
     "output_type": "stream",
     "text": [
      "Epoch 19/100\n",
      "\r",
      " 1/36 [..............................] - ETA: 0s - loss: 13.9959 - mae: 2.1576 - mse: 13.9959"
     ]
    },
    {
     "name": "stdout",
     "output_type": "stream",
     "text": [
      "\b\b\b\b\b\b\b\b\b\b\b\b\b\b\b\b\b\b\b\b\b\b\b\b\b\b\b\b\b\b\b\b\b\b\b\b\b\b\b\b\b\b\b\b\b\b\b\b\b\b\b\b\b\b\b\b\b\b\b\b\b\b\b\b\b\b\b\b\b\b\b\b\b\b\b\b\b\b\b\b\b\b\b\b\b\b\b\b\b\b\b\b\b\r",
      "36/36 [==============================] - 0s 2ms/step - loss: 11.5409 - mae: 2.3841 - mse: 11.5409 - val_loss: 13.7806 - val_mae: 2.4106 - val_mse: 13.7806\n"
     ]
    },
    {
     "name": "stdout",
     "output_type": "stream",
     "text": [
      "Epoch 20/100\n",
      "\r",
      " 1/36 [..............................] - ETA: 0s - loss: 2.1087 - mae: 1.1726 - mse: 2.1087"
     ]
    },
    {
     "name": "stdout",
     "output_type": "stream",
     "text": [
      "\b\b\b\b\b\b\b\b\b\b\b\b\b\b\b\b\b\b\b\b\b\b\b\b\b\b\b\b\b\b\b\b\b\b\b\b\b\b\b\b\b\b\b\b\b\b\b\b\b\b\b\b\b\b\b\b\b\b\b\b\b\b\b\b\b\b\b\b\b\b\b\b\b\b\b\b\b\b\b\b\b\b\b\b\b\b\b\b\b\b\b\r",
      "36/36 [==============================] - 0s 2ms/step - loss: 11.2718 - mae: 2.3894 - mse: 11.2718 - val_loss: 13.4664 - val_mae: 2.4109 - val_mse: 13.4664\n"
     ]
    },
    {
     "name": "stdout",
     "output_type": "stream",
     "text": [
      "Epoch 21/100\n",
      "\r",
      " 1/36 [..............................] - ETA: 0s - loss: 6.3415 - mae: 1.9045 - mse: 6.3415"
     ]
    },
    {
     "name": "stdout",
     "output_type": "stream",
     "text": [
      "\b\b\b\b\b\b\b\b\b\b\b\b\b\b\b\b\b\b\b\b\b\b\b\b\b\b\b\b\b\b\b\b\b\b\b\b\b\b\b\b\b\b\b\b\b\b\b\b\b\b\b\b\b\b\b\b\b\b\b\b\b\b\b\b\b\b\b\b\b\b\b\b\b\b\b\b\b\b\b\b\b\b\b\b\b\b\b\b\b\b\b\r",
      "36/36 [==============================] - 0s 2ms/step - loss: 10.9951 - mae: 2.3595 - mse: 10.9951 - val_loss: 13.3964 - val_mae: 2.4144 - val_mse: 13.3964\n"
     ]
    },
    {
     "name": "stdout",
     "output_type": "stream",
     "text": [
      "Epoch 22/100\n",
      "\r",
      " 1/36 [..............................] - ETA: 0s - loss: 9.5904 - mae: 2.4972 - mse: 9.5904"
     ]
    },
    {
     "name": "stdout",
     "output_type": "stream",
     "text": [
      "\b\b\b\b\b\b\b\b\b\b\b\b\b\b\b\b\b\b\b\b\b\b\b\b\b\b\b\b\b\b\b\b\b\b\b\b\b\b\b\b\b\b\b\b\b\b\b\b\b\b\b\b\b\b\b\b\b\b\b\b\b\b\b\b\b\b\b\b\b\b\b\b\b\b\b\b\b\b\b\b\b\b\b\b\b\b\b\b\b\b\b\r",
      "36/36 [==============================] - 0s 2ms/step - loss: 11.0492 - mae: 2.3240 - mse: 11.0492 - val_loss: 14.8691 - val_mae: 2.5965 - val_mse: 14.8691\n"
     ]
    },
    {
     "name": "stdout",
     "output_type": "stream",
     "text": [
      "Epoch 23/100\n",
      "\r",
      " 1/36 [..............................] - ETA: 0s - loss: 4.6876 - mae: 1.8583 - mse: 4.6876"
     ]
    },
    {
     "name": "stdout",
     "output_type": "stream",
     "text": [
      "\b\b\b\b\b\b\b\b\b\b\b\b\b\b\b\b\b\b\b\b\b\b\b\b\b\b\b\b\b\b\b\b\b\b\b\b\b\b\b\b\b\b\b\b\b\b\b\b\b\b\b\b\b\b\b\b\b\b\b\b\b\b\b\b\b\b\b\b\b\b\b\b\b\b\b\b\b\b\b\b\b\b\b\b\b\b\b\b\b\b\b\r",
      "36/36 [==============================] - 0s 2ms/step - loss: 10.9001 - mae: 2.3505 - mse: 10.9001 - val_loss: 14.0787 - val_mae: 2.4629 - val_mse: 14.0787\n"
     ]
    },
    {
     "name": "stdout",
     "output_type": "stream",
     "text": [
      "Epoch 24/100\n",
      "\r",
      " 1/36 [..............................] - ETA: 0s - loss: 4.5074 - mae: 1.7547 - mse: 4.5074"
     ]
    },
    {
     "name": "stdout",
     "output_type": "stream",
     "text": [
      "\b\b\b\b\b\b\b\b\b\b\b\b\b\b\b\b\b\b\b\b\b\b\b\b\b\b\b\b\b\b\b\b\b\b\b\b\b\b\b\b\b\b\b\b\b\b\b\b\b\b\b\b\b\b\b\b\b\b\b\b\b\b\b\b\b\b\b\b\b\b\b\b\b\b\b\b\b\b\b\b\b\b\b\b\b\b\b\b\b\b\b\r",
      "36/36 [==============================] - 0s 2ms/step - loss: 10.4978 - mae: 2.3235 - mse: 10.4978 - val_loss: 15.2084 - val_mae: 2.5026 - val_mse: 15.2084\n"
     ]
    },
    {
     "name": "stdout",
     "output_type": "stream",
     "text": [
      "Epoch 25/100\n",
      "\r",
      " 1/36 [..............................] - ETA: 0s - loss: 13.8617 - mae: 2.6182 - mse: 13.8617"
     ]
    },
    {
     "name": "stdout",
     "output_type": "stream",
     "text": [
      "\b\b\b\b\b\b\b\b\b\b\b\b\b\b\b\b\b\b\b\b\b\b\b\b\b\b\b\b\b\b\b\b\b\b\b\b\b\b\b\b\b\b\b\b\b\b\b\b\b\b\b\b\b\b\b\b\b\b\b\b\b\b\b\b\b\b\b\b\b\b\b\b\b\b\b\b\b\b\b\b\b\b\b\b\b\b\b\b\b\b\b\b\b\r",
      "36/36 [==============================] - 0s 2ms/step - loss: 10.2588 - mae: 2.2522 - mse: 10.2588 - val_loss: 13.9885 - val_mae: 2.4260 - val_mse: 13.9885\n"
     ]
    },
    {
     "name": "stdout",
     "output_type": "stream",
     "text": [
      "Epoch 26/100\n",
      "\r",
      " 1/36 [..............................] - ETA: 0s - loss: 3.5520 - mae: 1.4436 - mse: 3.5520"
     ]
    },
    {
     "name": "stdout",
     "output_type": "stream",
     "text": [
      "\b\b\b\b\b\b\b\b\b\b\b\b\b\b\b\b\b\b\b\b\b\b\b\b\b\b\b\b\b\b\b\b\b\b\b\b\b\b\b\b\b\b\b\b\b\b\b\b\b\b\b\b\b\b\b\b\b\b\b\b\b\b\b\b\b\b\b\b\b\b\b\b\b\b\b\b\b\b\b\b\b\b\b\b\b\b\b\b\b\b\b\r",
      "36/36 [==============================] - 0s 2ms/step - loss: 10.3342 - mae: 2.2388 - mse: 10.3342 - val_loss: 14.8985 - val_mae: 2.4891 - val_mse: 14.8985\n"
     ]
    },
    {
     "name": "stdout",
     "output_type": "stream",
     "text": [
      "Epoch 27/100\n",
      "\r",
      " 1/36 [..............................] - ETA: 0s - loss: 3.1920 - mae: 1.4843 - mse: 3.1920"
     ]
    },
    {
     "name": "stdout",
     "output_type": "stream",
     "text": [
      "\b\b\b\b\b\b\b\b\b\b\b\b\b\b\b\b\b\b\b\b\b\b\b\b\b\b\b\b\b\b\b\b\b\b\b\b\b\b\b\b\b\b\b\b\b\b\b\b\b\b\b\b\b\b\b\b\b\b\b\b\b\b\b\b\b\b\b\b\b\b\b\b\b\b\b\b\b\b\b\b\b\b\b\b\b\b\b\b\b\b\b\r",
      "36/36 [==============================] - 0s 2ms/step - loss: 10.2799 - mae: 2.2577 - mse: 10.2799 - val_loss: 14.5281 - val_mae: 2.4353 - val_mse: 14.5281\n"
     ]
    },
    {
     "name": "stdout",
     "output_type": "stream",
     "text": [
      "Epoch 28/100\n",
      "\r",
      " 1/36 [..............................] - ETA: 0s - loss: 7.7371 - mae: 2.6583 - mse: 7.7371"
     ]
    },
    {
     "name": "stdout",
     "output_type": "stream",
     "text": [
      "\b\b\b\b\b\b\b\b\b\b\b\b\b\b\b\b\b\b\b\b\b\b\b\b\b\b\b\b\b\b\b\b\b\b\b\b\b\b\b\b\b\b\b\b\b\b\b\b\b\b\b\b\b\b\b\b\b\b\b\b\b\b\b\b\b\b\b\b\b\b\b\b\b\b\b\b\b\b\b\b\b\b\b\b\b\b\b\b\b\b\b\r",
      "36/36 [==============================] - 0s 2ms/step - loss: 10.1663 - mae: 2.2689 - mse: 10.1663 - val_loss: 15.2487 - val_mae: 2.4824 - val_mse: 15.2487\n"
     ]
    },
    {
     "name": "stdout",
     "output_type": "stream",
     "text": [
      "Epoch 29/100\n",
      "\r",
      " 1/36 [..............................] - ETA: 0s - loss: 2.9523 - mae: 1.4449 - mse: 2.9523"
     ]
    },
    {
     "name": "stdout",
     "output_type": "stream",
     "text": [
      "\b\b\b\b\b\b\b\b\b\b\b\b\b\b\b\b\b\b\b\b\b\b\b\b\b\b\b\b\b\b\b\b\b\b\b\b\b\b\b\b\b\b\b\b\b\b\b\b\b\b\b\b\b\b\b\b\b\b\b\b\b\b\b\b\b\b\b\b\b\b\b\b\b\b\b\b\b\b\b\b\b\b\b\b\b\b\b\b\b\b\b\r",
      "36/36 [==============================] - 0s 2ms/step - loss: 9.7568 - mae: 2.2178 - mse: 9.7568 - val_loss: 13.6135 - val_mae: 2.4157 - val_mse: 13.6135\n"
     ]
    },
    {
     "name": "stdout",
     "output_type": "stream",
     "text": [
      "Epoch 30/100\n",
      "\r",
      " 1/36 [..............................] - ETA: 0s - loss: 3.4264 - mae: 1.4332 - mse: 3.4264"
     ]
    },
    {
     "name": "stdout",
     "output_type": "stream",
     "text": [
      "\b\b\b\b\b\b\b\b\b\b\b\b\b\b\b\b\b\b\b\b\b\b\b\b\b\b\b\b\b\b\b\b\b\b\b\b\b\b\b\b\b\b\b\b\b\b\b\b\b\b\b\b\b\b\b\b\b\b\b\b\b\b\b\b\b\b\b\b\b\b\b\b\b\b\b\b\b\b\b\b\b\b\b\b\b\b\b\b\b\b\b\r",
      "36/36 [==============================] - 0s 2ms/step - loss: 9.7425 - mae: 2.1890 - mse: 9.7425 - val_loss: 14.3603 - val_mae: 2.3989 - val_mse: 14.3603\n"
     ]
    },
    {
     "name": "stdout",
     "output_type": "stream",
     "text": [
      "Epoch 31/100\n",
      "\r",
      " 1/36 [..............................] - ETA: 0s - loss: 14.0334 - mae: 2.7793 - mse: 14.0334"
     ]
    },
    {
     "name": "stdout",
     "output_type": "stream",
     "text": [
      "\b\b\b\b\b\b\b\b\b\b\b\b\b\b\b\b\b\b\b\b\b\b\b\b\b\b\b\b\b\b\b\b\b\b\b\b\b\b\b\b\b\b\b\b\b\b\b\b\b\b\b\b\b\b\b\b\b\b\b\b\b\b\b\b\b\b\b\b\b\b\b\b\b\b\b\b\b\b\b\b\b\b\b\b\b\b\b\b\b\b\b\b\b\r",
      "36/36 [==============================] - 0s 2ms/step - loss: 9.5316 - mae: 2.1989 - mse: 9.5316 - val_loss: 15.8344 - val_mae: 2.4792 - val_mse: 15.8344\n"
     ]
    },
    {
     "name": "stdout",
     "output_type": "stream",
     "text": [
      "Epoch 32/100\n",
      "\r",
      " 1/36 [..............................] - ETA: 0s - loss: 4.4990 - mae: 1.6793 - mse: 4.4990"
     ]
    },
    {
     "name": "stdout",
     "output_type": "stream",
     "text": [
      "\b\b\b\b\b\b\b\b\b\b\b\b\b\b\b\b\b\b\b\b\b\b\b\b\b\b\b\b\b\b\b\b\b\b\b\b\b\b\b\b\b\b\b\b\b\b\b\b\b\b\b\b\b\b\b\b\b\b\b\b\b\b\b\b\b\b\b\b\b\b\b\b\b\b\b\b\b\b\b\b\b\b\b\b\b\b\b\b\b\b\b\r",
      "36/36 [==============================] - 0s 2ms/step - loss: 9.4923 - mae: 2.1851 - mse: 9.4923 - val_loss: 15.3201 - val_mae: 2.4703 - val_mse: 15.3201\n"
     ]
    },
    {
     "name": "stdout",
     "output_type": "stream",
     "text": [
      "Epoch 33/100\n",
      "\r",
      " 1/36 [..............................] - ETA: 0s - loss: 5.1678 - mae: 2.0134 - mse: 5.1678"
     ]
    },
    {
     "name": "stdout",
     "output_type": "stream",
     "text": [
      "\b\b\b\b\b\b\b\b\b\b\b\b\b\b\b\b\b\b\b\b\b\b\b\b\b\b\b\b\b\b\b\b\b\b\b\b\b\b\b\b\b\b\b\b\b\b\b\b\b\b\b\b\b\b\b\b\b\b\b\b\b\b\b\b\b\b\b\b\b\b\b\b\b\b\b\b\b\b\b\b\b\b\b\b\b\b\b\b\b\b\b\r",
      "36/36 [==============================] - 0s 2ms/step - loss: 9.2678 - mae: 2.1497 - mse: 9.2678 - val_loss: 14.2147 - val_mae: 2.4070 - val_mse: 14.2147\n"
     ]
    },
    {
     "name": "stdout",
     "output_type": "stream",
     "text": [
      "Epoch 34/100\n",
      "\r",
      " 1/36 [..............................] - ETA: 0s - loss: 11.6074 - mae: 3.1264 - mse: 11.6074"
     ]
    },
    {
     "name": "stdout",
     "output_type": "stream",
     "text": [
      "\b\b\b\b\b\b\b\b\b\b\b\b\b\b\b\b\b\b\b\b\b\b\b\b\b\b\b\b\b\b\b\b\b\b\b\b\b\b\b\b\b\b\b\b\b\b\b\b\b\b\b\b\b\b\b\b\b\b\b\b\b\b\b\b\b\b\b\b\b\b\b\b\b\b\b\b\b\b\b\b\b\b\b\b\b\b\b\b\b\b\b\b\b\r",
      "36/36 [==============================] - 0s 2ms/step - loss: 9.2110 - mae: 2.1784 - mse: 9.2110 - val_loss: 15.0654 - val_mae: 2.4302 - val_mse: 15.0654\n"
     ]
    },
    {
     "name": "stdout",
     "output_type": "stream",
     "text": [
      "Epoch 35/100\n",
      "\r",
      " 1/36 [..............................] - ETA: 0s - loss: 3.7268 - mae: 1.5328 - mse: 3.7268"
     ]
    },
    {
     "name": "stdout",
     "output_type": "stream",
     "text": [
      "\b\b\b\b\b\b\b\b\b\b\b\b\b\b\b\b\b\b\b\b\b\b\b\b\b\b\b\b\b\b\b\b\b\b\b\b\b\b\b\b\b\b\b\b\b\b\b\b\b\b\b\b\b\b\b\b\b\b\b\b\b\b\b\b\b\b\b\b\b\b\b\b\b\b\b\b\b\b\b\b\b\b\b\b\b\b\b\b\b\b\b\r",
      "36/36 [==============================] - 0s 2ms/step - loss: 9.1832 - mae: 2.1923 - mse: 9.1832 - val_loss: 16.7386 - val_mae: 2.5730 - val_mse: 16.7386\n"
     ]
    },
    {
     "name": "stdout",
     "output_type": "stream",
     "text": [
      "Epoch 36/100\n",
      "\r",
      " 1/36 [..............................] - ETA: 0s - loss: 8.6838 - mae: 2.0733 - mse: 8.6838"
     ]
    },
    {
     "name": "stdout",
     "output_type": "stream",
     "text": [
      "\b\b\b\b\b\b\b\b\b\b\b\b\b\b\b\b\b\b\b\b\b\b\b\b\b\b\b\b\b\b\b\b\b\b\b\b\b\b\b\b\b\b\b\b\b\b\b\b\b\b\b\b\b\b\b\b\b\b\b\b\b\b\b\b\b\b\b\b\b\b\b\b\b\b\b\b\b\b\b\b\b\b\b\b\b\b\b\b\b\b\b\r",
      "36/36 [==============================] - 0s 2ms/step - loss: 9.1930 - mae: 2.1447 - mse: 9.1930 - val_loss: 16.6296 - val_mae: 2.5571 - val_mse: 16.6296\n"
     ]
    },
    {
     "name": "stdout",
     "output_type": "stream",
     "text": [
      "Epoch 37/100\n",
      "\r",
      " 1/36 [..............................] - ETA: 0s - loss: 9.4591 - mae: 2.3174 - mse: 9.4591"
     ]
    },
    {
     "name": "stdout",
     "output_type": "stream",
     "text": [
      "\b\b\b\b\b\b\b\b\b\b\b\b\b\b\b\b\b\b\b\b\b\b\b\b\b\b\b\b\b\b\b\b\b\b\b\b\b\b\b\b\b\b\b\b\b\b\b\b\b\b\b\b\b\b\b\b\b\b\b\b\b\b\b\b\b\b\b\b\b\b\b\b\b\b\b\b\b\b\b\b\b\b\b\b\b\b\b\b\b\b\b\r",
      "36/36 [==============================] - 0s 2ms/step - loss: 9.0360 - mae: 2.1081 - mse: 9.0360 - val_loss: 15.0219 - val_mae: 2.5468 - val_mse: 15.0219\n"
     ]
    },
    {
     "name": "stdout",
     "output_type": "stream",
     "text": [
      "Epoch 38/100\n",
      "\r",
      " 1/36 [..............................] - ETA: 0s - loss: 20.9985 - mae: 3.1362 - mse: 20.9985"
     ]
    },
    {
     "name": "stdout",
     "output_type": "stream",
     "text": [
      "\b\b\b\b\b\b\b\b\b\b\b\b\b\b\b\b\b\b\b\b\b\b\b\b\b\b\b\b\b\b\b\b\b\b\b\b\b\b\b\b\b\b\b\b\b\b\b\b\b\b\b\b\b\b\b\b\b\b\b\b\b\b\b\b\b\b\b\b\b\b\b\b\b\b\b\b\b\b\b\b\b\b\b\b\b\b\b\b\b\b\b\b\b\r",
      "36/36 [==============================] - 0s 2ms/step - loss: 9.2309 - mae: 2.1284 - mse: 9.2309 - val_loss: 14.6210 - val_mae: 2.4106 - val_mse: 14.6210\n"
     ]
    },
    {
     "name": "stdout",
     "output_type": "stream",
     "text": [
      "Epoch 39/100\n",
      "\r",
      " 1/36 [..............................] - ETA: 0s - loss: 9.2294 - mae: 2.1900 - mse: 9.2294"
     ]
    },
    {
     "name": "stdout",
     "output_type": "stream",
     "text": [
      "\b\b\b\b\b\b\b\b\b\b\b\b\b\b\b\b\b\b\b\b\b\b\b\b\b\b\b\b\b\b\b\b\b\b\b\b\b\b\b\b\b\b\b\b\b\b\b\b\b\b\b\b\b\b\b\b\b\b\b\b\b\b\b\b\b\b\b\b\b\b\b\b\b\b\b\b\b\b\b\b\b\b\b\b\b\b\b\b\b\b\b\r",
      "36/36 [==============================] - 0s 2ms/step - loss: 8.6420 - mae: 2.0510 - mse: 8.6420 - val_loss: 15.9267 - val_mae: 2.5104 - val_mse: 15.9267\n"
     ]
    },
    {
     "name": "stdout",
     "output_type": "stream",
     "text": [
      "Epoch 40/100\n",
      "\r",
      " 1/36 [..............................] - ETA: 0s - loss: 8.7841 - mae: 2.2367 - mse: 8.7841"
     ]
    },
    {
     "name": "stdout",
     "output_type": "stream",
     "text": [
      "\b\b\b\b\b\b\b\b\b\b\b\b\b\b\b\b\b\b\b\b\b\b\b\b\b\b\b\b\b\b\b\b\b\b\b\b\b\b\b\b\b\b\b\b\b\b\b\b\b\b\b\b\b\b\b\b\b\b\b\b\b\b\b\b\b\b\b\b\b\b\b\b\b\b\b\b\b\b\b\b\b\b\b\b\b\b\b\b\b\b\b\r",
      "36/36 [==============================] - 0s 2ms/step - loss: 8.9458 - mae: 2.1086 - mse: 8.9458 - val_loss: 15.1429 - val_mae: 2.4586 - val_mse: 15.1429\n"
     ]
    },
    {
     "name": "stdout",
     "output_type": "stream",
     "text": [
      "Epoch 41/100\n",
      "\r",
      " 1/36 [..............................] - ETA: 0s - loss: 18.0614 - mae: 2.7943 - mse: 18.0614"
     ]
    },
    {
     "name": "stdout",
     "output_type": "stream",
     "text": [
      "\b\b\b\b\b\b\b\b\b\b\b\b\b\b\b\b\b\b\b\b\b\b\b\b\b\b\b\b\b\b\b\b\b\b\b\b\b\b\b\b\b\b\b\b\b\b\b\b\b\b\b\b\b\b\b\b\b\b\b\b\b\b\b\b\b\b\b\b\b\b\b\b\b\b\b\b\b\b\b\b\b\b\b\b\b\b\b\b\b\b\b\b\b\r",
      "36/36 [==============================] - 0s 2ms/step - loss: 8.6823 - mae: 2.0774 - mse: 8.6823 - val_loss: 15.4000 - val_mae: 2.5159 - val_mse: 15.4000\n"
     ]
    },
    {
     "name": "stdout",
     "output_type": "stream",
     "text": [
      "Epoch 42/100\n",
      "\r",
      " 1/36 [..............................] - ETA: 0s - loss: 2.1116 - mae: 1.2488 - mse: 2.1116"
     ]
    },
    {
     "name": "stdout",
     "output_type": "stream",
     "text": [
      "\b\b\b\b\b\b\b\b\b\b\b\b\b\b\b\b\b\b\b\b\b\b\b\b\b\b\b\b\b\b\b\b\b\b\b\b\b\b\b\b\b\b\b\b\b\b\b\b\b\b\b\b\b\b\b\b\b\b\b\b\b\b\b\b\b\b\b\b\b\b\b\b\b\b\b\b\b\b\b\b\b\b\b\b\b\b\b\b\b\b\b\r",
      "36/36 [==============================] - 0s 2ms/step - loss: 8.7357 - mae: 2.1002 - mse: 8.7357 - val_loss: 14.7425 - val_mae: 2.4641 - val_mse: 14.7425\n"
     ]
    },
    {
     "name": "stdout",
     "output_type": "stream",
     "text": [
      "Epoch 43/100\n",
      "\r",
      " 1/36 [..............................] - ETA: 0s - loss: 4.9758 - mae: 1.8679 - mse: 4.9758"
     ]
    },
    {
     "name": "stdout",
     "output_type": "stream",
     "text": [
      "\b\b\b\b\b\b\b\b\b\b\b\b\b\b\b\b\b\b\b\b\b\b\b\b\b\b\b\b\b\b\b\b\b\b\b\b\b\b\b\b\b\b\b\b\b\b\b\b\b\b\b\b\b\b\b\b\b\b\b\b\b\b\b\b\b\b\b\b\b\b\b\b\b\b\b\b\b\b\b\b\b\b\b\b\b\b\b\b\b\b\b\r",
      "36/36 [==============================] - 0s 2ms/step - loss: 8.6302 - mae: 2.0474 - mse: 8.6302 - val_loss: 14.1730 - val_mae: 2.3890 - val_mse: 14.1730\n"
     ]
    },
    {
     "name": "stdout",
     "output_type": "stream",
     "text": [
      "Epoch 44/100\n",
      "\r",
      " 1/36 [..............................] - ETA: 0s - loss: 4.7192 - mae: 1.5913 - mse: 4.7192"
     ]
    },
    {
     "name": "stdout",
     "output_type": "stream",
     "text": [
      "\b\b\b\b\b\b\b\b\b\b\b\b\b\b\b\b\b\b\b\b\b\b\b\b\b\b\b\b\b\b\b\b\b\b\b\b\b\b\b\b\b\b\b\b\b\b\b\b\b\b\b\b\b\b\b\b\b\b\b\b\b\b\b\b\b\b\b\b\b\b\b\b\b\b\b\b\b\b\b\b\b\b\b\b\b\b\b\b\b\b\b\r",
      "36/36 [==============================] - 0s 2ms/step - loss: 8.5196 - mae: 2.0489 - mse: 8.5196 - val_loss: 13.7067 - val_mae: 2.3802 - val_mse: 13.7067\n"
     ]
    },
    {
     "name": "stdout",
     "output_type": "stream",
     "text": [
      "Epoch 45/100\n",
      "\r",
      " 1/36 [..............................] - ETA: 0s - loss: 5.7594 - mae: 1.8951 - mse: 5.7594"
     ]
    },
    {
     "name": "stdout",
     "output_type": "stream",
     "text": [
      "\b\b\b\b\b\b\b\b\b\b\b\b\b\b\b\b\b\b\b\b\b\b\b\b\b\b\b\b\b\b\b\b\b\b\b\b\b\b\b\b\b\b\b\b\b\b\b\b\b\b\b\b\b\b\b\b\b\b\b\b\b\b\b\b\b\b\b\b\b\b\b\b\b\b\b\b\b\b\b\b\b\b\b\b\b\b\b\b\b\b\b\r",
      "36/36 [==============================] - 0s 2ms/step - loss: 8.1720 - mae: 2.0400 - mse: 8.1720 - val_loss: 14.6779 - val_mae: 2.4595 - val_mse: 14.6779\n"
     ]
    },
    {
     "name": "stdout",
     "output_type": "stream",
     "text": [
      "Epoch 46/100\n",
      "\r",
      " 1/36 [..............................] - ETA: 0s - loss: 2.8601 - mae: 1.5299 - mse: 2.8601"
     ]
    },
    {
     "name": "stdout",
     "output_type": "stream",
     "text": [
      "\b\b\b\b\b\b\b\b\b\b\b\b\b\b\b\b\b\b\b\b\b\b\b\b\b\b\b\b\b\b\b\b\b\b\b\b\b\b\b\b\b\b\b\b\b\b\b\b\b\b\b\b\b\b\b\b\b\b\b\b\b\b\b\b\b\b\b\b\b\b\b\b\b\b\b\b\b\b\b\b\b\b\b\b\b\b\b\b\b\b\b\r",
      "36/36 [==============================] - 0s 2ms/step - loss: 8.3514 - mae: 2.0421 - mse: 8.3514 - val_loss: 15.1503 - val_mae: 2.4545 - val_mse: 15.1503\n"
     ]
    },
    {
     "name": "stdout",
     "output_type": "stream",
     "text": [
      "Epoch 47/100\n",
      "\r",
      " 1/36 [..............................] - ETA: 0s - loss: 4.5904 - mae: 1.7153 - mse: 4.5904"
     ]
    },
    {
     "name": "stdout",
     "output_type": "stream",
     "text": [
      "\b\b\b\b\b\b\b\b\b\b\b\b\b\b\b\b\b\b\b\b\b\b\b\b\b\b\b\b\b\b\b\b\b\b\b\b\b\b\b\b\b\b\b\b\b\b\b\b\b\b\b\b\b\b\b\b\b\b\b\b\b\b\b\b\b\b\b\b\b\b\b\b\b\b\b\b\b\b\b\b\b\b\b\b\b\b\b\b\b\b\b\r",
      "36/36 [==============================] - 0s 2ms/step - loss: 8.3631 - mae: 2.0426 - mse: 8.3631 - val_loss: 14.6039 - val_mae: 2.4286 - val_mse: 14.6039\n"
     ]
    },
    {
     "name": "stdout",
     "output_type": "stream",
     "text": [
      "Epoch 48/100\n",
      "\r",
      " 1/36 [..............................] - ETA: 0s - loss: 9.0141 - mae: 2.2861 - mse: 9.0141"
     ]
    },
    {
     "name": "stdout",
     "output_type": "stream",
     "text": [
      "\b\b\b\b\b\b\b\b\b\b\b\b\b\b\b\b\b\b\b\b\b\b\b\b\b\b\b\b\b\b\b\b\b\b\b\b\b\b\b\b\b\b\b\b\b\b\b\b\b\b\b\b\b\b\b\b\b\b\b\b\b\b\b\b\b\b\b\b\b\b\b\b\b\b\b\b\b\b\b\b\b\b\b\b\b\b\b\b\b\b\b\r",
      "36/36 [==============================] - 0s 2ms/step - loss: 8.1321 - mae: 2.0243 - mse: 8.1321 - val_loss: 14.4469 - val_mae: 2.4445 - val_mse: 14.4469\n"
     ]
    },
    {
     "name": "stdout",
     "output_type": "stream",
     "text": [
      "Epoch 49/100\n",
      "\r",
      " 1/36 [..............................] - ETA: 0s - loss: 3.7271 - mae: 1.5320 - mse: 3.7271"
     ]
    },
    {
     "name": "stdout",
     "output_type": "stream",
     "text": [
      "\b\b\b\b\b\b\b\b\b\b\b\b\b\b\b\b\b\b\b\b\b\b\b\b\b\b\b\b\b\b\b\b\b\b\b\b\b\b\b\b\b\b\b\b\b\b\b\b\b\b\b\b\b\b\b\b\b\b\b\b\b\b\b\b\b\b\b\b\b\b\b\b\b\b\b\b\b\b\b\b\b\b\b\b\b\b\b\b\b\b\b\r",
      "36/36 [==============================] - 0s 2ms/step - loss: 8.0881 - mae: 1.9876 - mse: 8.0881 - val_loss: 15.2589 - val_mae: 2.4690 - val_mse: 15.2589\n"
     ]
    },
    {
     "name": "stdout",
     "output_type": "stream",
     "text": [
      "Epoch 50/100\n",
      "\r",
      " 1/36 [..............................] - ETA: 0s - loss: 6.7356 - mae: 1.8957 - mse: 6.7356"
     ]
    },
    {
     "name": "stdout",
     "output_type": "stream",
     "text": [
      "\b\b\b\b\b\b\b\b\b\b\b\b\b\b\b\b\b\b\b\b\b\b\b\b\b\b\b\b\b\b\b\b\b\b\b\b\b\b\b\b\b\b\b\b\b\b\b\b\b\b\b\b\b\b\b\b\b\b\b\b\b\b\b\b\b\b\b\b\b\b\b\b\b\b\b\b\b\b\b\b\b\b\b\b\b\b\b\b\b\b\b\r",
      "36/36 [==============================] - 0s 2ms/step - loss: 8.0124 - mae: 2.0130 - mse: 8.0124 - val_loss: 14.5596 - val_mae: 2.4763 - val_mse: 14.5596\n"
     ]
    },
    {
     "name": "stdout",
     "output_type": "stream",
     "text": [
      "Epoch 51/100\n",
      "\r",
      " 1/36 [..............................] - ETA: 0s - loss: 5.1331 - mae: 1.9320 - mse: 5.1331"
     ]
    },
    {
     "name": "stdout",
     "output_type": "stream",
     "text": [
      "\b\b\b\b\b\b\b\b\b\b\b\b\b\b\b\b\b\b\b\b\b\b\b\b\b\b\b\b\b\b\b\b\b\b\b\b\b\b\b\b\b\b\b\b\b\b\b\b\b\b\b\b\b\b\b\b\b\b\b\b\b\b\b\b\b\b\b\b\b\b\b\b\b\b\b\b\b\b\b\b\b\b\b\b\b\b\b\b\b\b\b\r",
      "36/36 [==============================] - 0s 2ms/step - loss: 7.8940 - mae: 2.0164 - mse: 7.8940 - val_loss: 14.5787 - val_mae: 2.4224 - val_mse: 14.5787\n"
     ]
    },
    {
     "name": "stdout",
     "output_type": "stream",
     "text": [
      "Epoch 52/100\n",
      "\r",
      " 1/36 [..............................] - ETA: 0s - loss: 3.4331 - mae: 1.3843 - mse: 3.4331"
     ]
    },
    {
     "name": "stdout",
     "output_type": "stream",
     "text": [
      "\b\b\b\b\b\b\b\b\b\b\b\b\b\b\b\b\b\b\b\b\b\b\b\b\b\b\b\b\b\b\b\b\b\b\b\b\b\b\b\b\b\b\b\b\b\b\b\b\b\b\b\b\b\b\b\b\b\b\b\b\b\b\b\b\b\b\b\b\b\b\b\b\b\b\b\b\b\b\b\b\b\b\b\b\b\b\b\b\b\b\b\r",
      "36/36 [==============================] - 0s 2ms/step - loss: 7.9610 - mae: 1.9934 - mse: 7.9610 - val_loss: 14.8363 - val_mae: 2.4663 - val_mse: 14.8363\n"
     ]
    },
    {
     "name": "stdout",
     "output_type": "stream",
     "text": [
      "Epoch 53/100\n",
      "\r",
      " 1/36 [..............................] - ETA: 0s - loss: 8.6012 - mae: 2.3403 - mse: 8.6012"
     ]
    },
    {
     "name": "stdout",
     "output_type": "stream",
     "text": [
      "\b\b\b\b\b\b\b\b\b\b\b\b\b\b\b\b\b\b\b\b\b\b\b\b\b\b\b\b\b\b\b\b\b\b\b\b\b\b\b\b\b\b\b\b\b\b\b\b\b\b\b\b\b\b\b\b\b\b\b\b\b\b\b\b\b\b\b\b\b\b\b\b\b\b\b\b\b\b\b\b\b\b\b\b\b\b\b\b\b\b\b\r",
      "36/36 [==============================] - 0s 2ms/step - loss: 7.9056 - mae: 1.9895 - mse: 7.9056 - val_loss: 14.7140 - val_mae: 2.4339 - val_mse: 14.7140\n"
     ]
    },
    {
     "name": "stdout",
     "output_type": "stream",
     "text": [
      "Epoch 54/100\n",
      "\r",
      " 1/36 [..............................] - ETA: 0s - loss: 2.6286 - mae: 1.4415 - mse: 2.6286"
     ]
    },
    {
     "name": "stdout",
     "output_type": "stream",
     "text": [
      "\b\b\b\b\b\b\b\b\b\b\b\b\b\b\b\b\b\b\b\b\b\b\b\b\b\b\b\b\b\b\b\b\b\b\b\b\b\b\b\b\b\b\b\b\b\b\b\b\b\b\b\b\b\b\b\b\b\b\b\b\b\b\b\b\b\b\b\b\b\b\b\b\b\b\b\b\b\b\b\b\b\b\b\b\b\b\b\b\b\b\b\r",
      "36/36 [==============================] - 0s 2ms/step - loss: 7.7244 - mae: 1.9424 - mse: 7.7244 - val_loss: 16.0774 - val_mae: 2.5150 - val_mse: 16.0774\n"
     ]
    },
    {
     "name": "stdout",
     "output_type": "stream",
     "text": [
      "Epoch 55/100\n",
      "\r",
      " 1/36 [..............................] - ETA: 0s - loss: 3.2998 - mae: 1.4676 - mse: 3.2998"
     ]
    },
    {
     "name": "stdout",
     "output_type": "stream",
     "text": [
      "\b\b\b\b\b\b\b\b\b\b\b\b\b\b\b\b\b\b\b\b\b\b\b\b\b\b\b\b\b\b\b\b\b\b\b\b\b\b\b\b\b\b\b\b\b\b\b\b\b\b\b\b\b\b\b\b\b\b\b\b\b\b\b\b\b\b\b\b\b\b\b\b\b\b\b\b\b\b\b\b\b\b\b\b\b\b\b\b\b\b\b\r",
      "36/36 [==============================] - 0s 2ms/step - loss: 7.8389 - mae: 1.9635 - mse: 7.8389 - val_loss: 16.1387 - val_mae: 2.5277 - val_mse: 16.1387\n"
     ]
    },
    {
     "name": "stdout",
     "output_type": "stream",
     "text": [
      "Epoch 56/100\n",
      "\r",
      " 1/36 [..............................] - ETA: 0s - loss: 3.9341 - mae: 1.7867 - mse: 3.9341"
     ]
    },
    {
     "name": "stdout",
     "output_type": "stream",
     "text": [
      "\b\b\b\b\b\b\b\b\b\b\b\b\b\b\b\b\b\b\b\b\b\b\b\b\b\b\b\b\b\b\b\b\b\b\b\b\b\b\b\b\b\b\b\b\b\b\b\b\b\b\b\b\b\b\b\b\b\b\b\b\b\b\b\b\b\b\b\b\b\b\b\b\b\b\b\b\b\b\b\b\b\b\b\b\b\b\b\b\b\b\b\r",
      "36/36 [==============================] - 0s 2ms/step - loss: 7.7986 - mae: 1.9289 - mse: 7.7986 - val_loss: 14.0436 - val_mae: 2.3858 - val_mse: 14.0436\n"
     ]
    },
    {
     "name": "stdout",
     "output_type": "stream",
     "text": [
      "Epoch 57/100\n",
      "\r",
      " 1/36 [..............................] - ETA: 0s - loss: 5.3039 - mae: 1.8666 - mse: 5.3039"
     ]
    },
    {
     "name": "stdout",
     "output_type": "stream",
     "text": [
      "\b\b\b\b\b\b\b\b\b\b\b\b\b\b\b\b\b\b\b\b\b\b\b\b\b\b\b\b\b\b\b\b\b\b\b\b\b\b\b\b\b\b\b\b\b\b\b\b\b\b\b\b\b\b\b\b\b\b\b\b\b\b\b\b\b\b\b\b\b\b\b\b\b\b\b\b\b\b\b\b\b\b\b\b\b\b\b\b\b\b\b\r",
      "36/36 [==============================] - 0s 2ms/step - loss: 7.7347 - mae: 1.9653 - mse: 7.7347 - val_loss: 16.0307 - val_mae: 2.5073 - val_mse: 16.0307\n"
     ]
    },
    {
     "name": "stdout",
     "output_type": "stream",
     "text": [
      "Epoch 58/100\n",
      "\r",
      " 1/36 [..............................] - ETA: 0s - loss: 4.2712 - mae: 1.6009 - mse: 4.2712"
     ]
    },
    {
     "name": "stdout",
     "output_type": "stream",
     "text": [
      "\b\b\b\b\b\b\b\b\b\b\b\b\b\b\b\b\b\b\b\b\b\b\b\b\b\b\b\b\b\b\b\b\b\b\b\b\b\b\b\b\b\b\b\b\b\b\b\b\b\b\b\b\b\b\b\b\b\b\b\b\b\b\b\b\b\b\b\b\b\b\b\b\b\b\b\b\b\b\b\b\b\b\b\b\b\b\b\b\b\b\b\r",
      "36/36 [==============================] - 0s 2ms/step - loss: 7.6502 - mae: 1.9473 - mse: 7.6502 - val_loss: 15.0453 - val_mae: 2.4536 - val_mse: 15.0453\n"
     ]
    },
    {
     "name": "stdout",
     "output_type": "stream",
     "text": [
      "Epoch 59/100\n",
      "\r",
      " 1/36 [..............................] - ETA: 0s - loss: 2.6673 - mae: 1.4025 - mse: 2.6673"
     ]
    },
    {
     "name": "stdout",
     "output_type": "stream",
     "text": [
      "\b\b\b\b\b\b\b\b\b\b\b\b\b\b\b\b\b\b\b\b\b\b\b\b\b\b\b\b\b\b\b\b\b\b\b\b\b\b\b\b\b\b\b\b\b\b\b\b\b\b\b\b\b\b\b\b\b\b\b\b\b\b\b\b\b\b\b\b\b\b\b\b\b\b\b\b\b\b\b\b\b\b\b\b\b\b\b\b\b\b\b\r",
      "36/36 [==============================] - 0s 2ms/step - loss: 7.7385 - mae: 1.9794 - mse: 7.7385 - val_loss: 14.0465 - val_mae: 2.4256 - val_mse: 14.0465\n"
     ]
    },
    {
     "name": "stdout",
     "output_type": "stream",
     "text": [
      "Epoch 60/100\n",
      "\r",
      " 1/36 [..............................] - ETA: 0s - loss: 5.8596 - mae: 1.7951 - mse: 5.8596"
     ]
    },
    {
     "name": "stdout",
     "output_type": "stream",
     "text": [
      "\b\b\b\b\b\b\b\b\b\b\b\b\b\b\b\b\b\b\b\b\b\b\b\b\b\b\b\b\b\b\b\b\b\b\b\b\b\b\b\b\b\b\b\b\b\b\b\b\b\b\b\b\b\b\b\b\b\b\b\b\b\b\b\b\b\b\b\b\b\b\b\b\b\b\b\b\b\b\b\b\b\b\b\b\b\b\b\b\b\b\b\r",
      "36/36 [==============================] - 0s 2ms/step - loss: 7.5400 - mae: 1.9326 - mse: 7.5400 - val_loss: 14.9136 - val_mae: 2.4297 - val_mse: 14.9136\n"
     ]
    },
    {
     "name": "stdout",
     "output_type": "stream",
     "text": [
      "Epoch 61/100\n",
      "\r",
      " 1/36 [..............................] - ETA: 0s - loss: 8.2948 - mae: 2.2312 - mse: 8.2948"
     ]
    },
    {
     "name": "stdout",
     "output_type": "stream",
     "text": [
      "\b\b\b\b\b\b\b\b\b\b\b\b\b\b\b\b\b\b\b\b\b\b\b\b\b\b\b\b\b\b\b\b\b\b\b\b\b\b\b\b\b\b\b\b\b\b\b\b\b\b\b\b\b\b\b\b\b\b\b\b\b\b\b\b\b\b\b\b\b\b\b\b\b\b\b\b\b\b\b\b\b\b\b\b\b\b\b\b\b\b\b\r",
      "36/36 [==============================] - 0s 2ms/step - loss: 7.5158 - mae: 1.9477 - mse: 7.5158 - val_loss: 13.8976 - val_mae: 2.3596 - val_mse: 13.8976\n"
     ]
    },
    {
     "name": "stdout",
     "output_type": "stream",
     "text": [
      "Epoch 62/100\n",
      "\r",
      " 1/36 [..............................] - ETA: 0s - loss: 0.8109 - mae: 0.7242 - mse: 0.8109"
     ]
    },
    {
     "name": "stdout",
     "output_type": "stream",
     "text": [
      "\b\b\b\b\b\b\b\b\b\b\b\b\b\b\b\b\b\b\b\b\b\b\b\b\b\b\b\b\b\b\b\b\b\b\b\b\b\b\b\b\b\b\b\b\b\b\b\b\b\b\b\b\b\b\b\b\b\b\b\b\b\b\b\b\b\b\b\b\b\b\b\b\b\b\b\b\b\b\b\b\b\b\b\b\b\b\b\b\b\b\b\r",
      "36/36 [==============================] - 0s 2ms/step - loss: 7.1355 - mae: 1.8770 - mse: 7.1355 - val_loss: 14.2426 - val_mae: 2.4852 - val_mse: 14.2426\n"
     ]
    },
    {
     "name": "stdout",
     "output_type": "stream",
     "text": [
      "Epoch 63/100\n",
      "\r",
      " 1/36 [..............................] - ETA: 0s - loss: 10.5279 - mae: 2.9457 - mse: 10.5279"
     ]
    },
    {
     "name": "stdout",
     "output_type": "stream",
     "text": [
      "\b\b\b\b\b\b\b\b\b\b\b\b\b\b\b\b\b\b\b\b\b\b\b\b\b\b\b\b\b\b\b\b\b\b\b\b\b\b\b\b\b\b\b\b\b\b\b\b\b\b\b\b\b\b\b\b\b\b\b\b\b\b\b\b\b\b\b\b\b\b\b\b\b\b\b\b\b\b\b\b\b\b\b\b\b\b\b\b\b\b\b\b\b\r",
      "36/36 [==============================] - 0s 2ms/step - loss: 7.4383 - mae: 1.9106 - mse: 7.4383 - val_loss: 15.3962 - val_mae: 2.3995 - val_mse: 15.3962\n"
     ]
    },
    {
     "name": "stdout",
     "output_type": "stream",
     "text": [
      "Epoch 64/100\n",
      "\r",
      " 1/36 [..............................] - ETA: 0s - loss: 4.7740 - mae: 1.9687 - mse: 4.7740"
     ]
    },
    {
     "name": "stdout",
     "output_type": "stream",
     "text": [
      "\b\b\b\b\b\b\b\b\b\b\b\b\b\b\b\b\b\b\b\b\b\b\b\b\b\b\b\b\b\b\b\b\b\b\b\b\b\b\b\b\b\b\b\b\b\b\b\b\b\b\b\b\b\b\b\b\b\b\b\b\b\b\b\b\b\b\b\b\b\b\b\b\b\b\b\b\b\b\b\b\b\b\b\b\b\b\b\b\b\b\b\r",
      "36/36 [==============================] - 0s 2ms/step - loss: 7.4743 - mae: 1.9232 - mse: 7.4743 - val_loss: 13.9791 - val_mae: 2.3958 - val_mse: 13.9791\n"
     ]
    },
    {
     "name": "stdout",
     "output_type": "stream",
     "text": [
      "Epoch 65/100\n",
      "\r",
      " 1/36 [..............................] - ETA: 0s - loss: 4.7843 - mae: 1.7182 - mse: 4.7843"
     ]
    },
    {
     "name": "stdout",
     "output_type": "stream",
     "text": [
      "\b\b\b\b\b\b\b\b\b\b\b\b\b\b\b\b\b\b\b\b\b\b\b\b\b\b\b\b\b\b\b\b\b\b\b\b\b\b\b\b\b\b\b\b\b\b\b\b\b\b\b\b\b\b\b\b\b\b\b\b\b\b\b\b\b\b\b\b\b\b\b\b\b\b\b\b\b\b\b\b\b\b\b\b\b\b\b\b\b\b\b\r",
      "36/36 [==============================] - 0s 2ms/step - loss: 7.1600 - mae: 1.8693 - mse: 7.1600 - val_loss: 13.7072 - val_mae: 2.3503 - val_mse: 13.7072\n"
     ]
    },
    {
     "name": "stdout",
     "output_type": "stream",
     "text": [
      "Epoch 66/100\n",
      "\r",
      " 1/36 [..............................] - ETA: 0s - loss: 7.3701 - mae: 2.0469 - mse: 7.3701"
     ]
    },
    {
     "name": "stdout",
     "output_type": "stream",
     "text": [
      "\b\b\b\b\b\b\b\b\b\b\b\b\b\b\b\b\b\b\b\b\b\b\b\b\b\b\b\b\b\b\b\b\b\b\b\b\b\b\b\b\b\b\b\b\b\b\b\b\b\b\b\b\b\b\b\b\b\b\b\b\b\b\b\b\b\b\b\b\b\b\b\b\b\b\b\b\b\b\b\b\b\b\b\b\b\b\b\b\b\b\b\r",
      "36/36 [==============================] - 0s 2ms/step - loss: 7.0752 - mae: 1.8628 - mse: 7.0752 - val_loss: 14.7468 - val_mae: 2.3948 - val_mse: 14.7468\n"
     ]
    },
    {
     "name": "stdout",
     "output_type": "stream",
     "text": [
      "Epoch 67/100\n",
      "\r",
      " 1/36 [..............................] - ETA: 0s - loss: 5.7056 - mae: 1.9900 - mse: 5.7056"
     ]
    },
    {
     "name": "stdout",
     "output_type": "stream",
     "text": [
      "\b\b\b\b\b\b\b\b\b\b\b\b\b\b\b\b\b\b\b\b\b\b\b\b\b\b\b\b\b\b\b\b\b\b\b\b\b\b\b\b\b\b\b\b\b\b\b\b\b\b\b\b\b\b\b\b\b\b\b\b\b\b\b\b\b\b\b\b\b\b\b\b\b\b\b\b\b\b\b\b\b\b\b\b\b\b\b\b\b\b\b\r",
      "36/36 [==============================] - 0s 2ms/step - loss: 7.1401 - mae: 1.9092 - mse: 7.1401 - val_loss: 14.2114 - val_mae: 2.3728 - val_mse: 14.2114\n"
     ]
    },
    {
     "name": "stdout",
     "output_type": "stream",
     "text": [
      "Epoch 68/100\n",
      "\r",
      " 1/36 [..............................] - ETA: 0s - loss: 5.8795 - mae: 1.4984 - mse: 5.8795"
     ]
    },
    {
     "name": "stdout",
     "output_type": "stream",
     "text": [
      "\b\b\b\b\b\b\b\b\b\b\b\b\b\b\b\b\b\b\b\b\b\b\b\b\b\b\b\b\b\b\b\b\b\b\b\b\b\b\b\b\b\b\b\b\b\b\b\b\b\b\b\b\b\b\b\b\b\b\b\b\b\b\b\b\b\b\b\b\b\b\b\b\b\b\b\b\b\b\b\b\b\b\b\b\b\b\b\b\b\b\b\r",
      "36/36 [==============================] - 0s 2ms/step - loss: 6.9136 - mae: 1.8636 - mse: 6.9136 - val_loss: 14.8033 - val_mae: 2.4386 - val_mse: 14.8033\n"
     ]
    },
    {
     "name": "stdout",
     "output_type": "stream",
     "text": [
      "Epoch 69/100\n",
      "\r",
      " 1/36 [..............................] - ETA: 0s - loss: 4.0329 - mae: 1.7263 - mse: 4.0329"
     ]
    },
    {
     "name": "stdout",
     "output_type": "stream",
     "text": [
      "\b\b\b\b\b\b\b\b\b\b\b\b\b\b\b\b\b\b\b\b\b\b\b\b\b\b\b\b\b\b\b\b\b\b\b\b\b\b\b\b\b\b\b\b\b\b\b\b\b\b\b\b\b\b\b\b\b\b\b\b\b\b\b\b\b\b\b\b\b\b\b\b\b\b\b\b\b\b\b\b\b\b\b\b\b\b\b\b\b\b\b\r",
      "36/36 [==============================] - 0s 2ms/step - loss: 7.0336 - mae: 1.8776 - mse: 7.0336 - val_loss: 14.7238 - val_mae: 2.3882 - val_mse: 14.7238\n"
     ]
    },
    {
     "name": "stdout",
     "output_type": "stream",
     "text": [
      "Epoch 70/100\n",
      "\r",
      " 1/36 [..............................] - ETA: 0s - loss: 12.6251 - mae: 2.7934 - mse: 12.6251"
     ]
    },
    {
     "name": "stdout",
     "output_type": "stream",
     "text": [
      "\b\b\b\b\b\b\b\b\b\b\b\b\b\b\b\b\b\b\b\b\b\b\b\b\b\b\b\b\b\b\b\b\b\b\b\b\b\b\b\b\b\b\b\b\b\b\b\b\b\b\b\b\b\b\b\b\b\b\b\b\b\b\b\b\b\b\b\b\b\b\b\b\b\b\b\b\b\b\b\b\b\b\b\b\b\b\b\b\b\b\b\b\b\r",
      "36/36 [==============================] - 0s 2ms/step - loss: 6.8156 - mae: 1.8977 - mse: 6.8156 - val_loss: 15.0940 - val_mae: 2.4950 - val_mse: 15.0940\n"
     ]
    },
    {
     "name": "stdout",
     "output_type": "stream",
     "text": [
      "Epoch 71/100\n",
      "\r",
      " 1/36 [..............................] - ETA: 0s - loss: 1.1399 - mae: 0.8653 - mse: 1.1399"
     ]
    },
    {
     "name": "stdout",
     "output_type": "stream",
     "text": [
      "\b\b\b\b\b\b\b\b\b\b\b\b\b\b\b\b\b\b\b\b\b\b\b\b\b\b\b\b\b\b\b\b\b\b\b\b\b\b\b\b\b\b\b\b\b\b\b\b\b\b\b\b\b\b\b\b\b\b\b\b\b\b\b\b\b\b\b\b\b\b\b\b\b\b\b\b\b\b\b\b\b\b\b\b\b\b\b\b\b\b\b\r",
      "36/36 [==============================] - 0s 2ms/step - loss: 6.9174 - mae: 1.8331 - mse: 6.9174 - val_loss: 14.0430 - val_mae: 2.3384 - val_mse: 14.0430\n"
     ]
    },
    {
     "name": "stdout",
     "output_type": "stream",
     "text": [
      "Epoch 72/100\n",
      "\r",
      " 1/36 [..............................] - ETA: 0s - loss: 3.0696 - mae: 1.5824 - mse: 3.0696"
     ]
    },
    {
     "name": "stdout",
     "output_type": "stream",
     "text": [
      "\b\b\b\b\b\b\b\b\b\b\b\b\b\b\b\b\b\b\b\b\b\b\b\b\b\b\b\b\b\b\b\b\b\b\b\b\b\b\b\b\b\b\b\b\b\b\b\b\b\b\b\b\b\b\b\b\b\b\b\b\b\b\b\b\b\b\b\b\b\b\b\b\b\b\b\b\b\b\b\b\b\b\b\b\b\b\b\b\b\b\b\r",
      "36/36 [==============================] - 0s 2ms/step - loss: 6.9711 - mae: 1.8535 - mse: 6.9711 - val_loss: 13.9134 - val_mae: 2.4337 - val_mse: 13.9134\n"
     ]
    },
    {
     "name": "stdout",
     "output_type": "stream",
     "text": [
      "Epoch 73/100\n",
      "\r",
      " 1/36 [..............................] - ETA: 0s - loss: 3.5400 - mae: 1.5347 - mse: 3.5400"
     ]
    },
    {
     "name": "stdout",
     "output_type": "stream",
     "text": [
      "\b\b\b\b\b\b\b\b\b\b\b\b\b\b\b\b\b\b\b\b\b\b\b\b\b\b\b\b\b\b\b\b\b\b\b\b\b\b\b\b\b\b\b\b\b\b\b\b\b\b\b\b\b\b\b\b\b\b\b\b\b\b\b\b\b\b\b\b\b\b\b\b\b\b\b\b\b\b\b\b\b\b\b\b\b\b\b\b\b\b\b\r",
      "36/36 [==============================] - 0s 2ms/step - loss: 6.8811 - mae: 1.8291 - mse: 6.8811 - val_loss: 16.3174 - val_mae: 2.4833 - val_mse: 16.3174\n"
     ]
    },
    {
     "name": "stdout",
     "output_type": "stream",
     "text": [
      "Epoch 74/100\n",
      "\r",
      " 1/36 [..............................] - ETA: 0s - loss: 4.6116 - mae: 1.8242 - mse: 4.6116"
     ]
    },
    {
     "name": "stdout",
     "output_type": "stream",
     "text": [
      "\b\b\b\b\b\b\b\b\b\b\b\b\b\b\b\b\b\b\b\b\b\b\b\b\b\b\b\b\b\b\b\b\b\b\b\b\b\b\b\b\b\b\b\b\b\b\b\b\b\b\b\b\b\b\b\b\b\b\b\b\b\b\b\b\b\b\b\b\b\b\b\b\b\b\b\b\b\b\b\b\b\b\b\b\b\b\b\b\b\b\b\r",
      "36/36 [==============================] - 0s 2ms/step - loss: 6.7210 - mae: 1.8362 - mse: 6.7210 - val_loss: 16.4496 - val_mae: 2.6405 - val_mse: 16.4496\n"
     ]
    },
    {
     "name": "stdout",
     "output_type": "stream",
     "text": [
      "Epoch 75/100\n",
      "\r",
      " 1/36 [..............................] - ETA: 0s - loss: 2.6639 - mae: 1.2706 - mse: 2.6639"
     ]
    },
    {
     "name": "stdout",
     "output_type": "stream",
     "text": [
      "\b\b\b\b\b\b\b\b\b\b\b\b\b\b\b\b\b\b\b\b\b\b\b\b\b\b\b\b\b\b\b\b\b\b\b\b\b\b\b\b\b\b\b\b\b\b\b\b\b\b\b\b\b\b\b\b\b\b\b\b\b\b\b\b\b\b\b\b\b\b\b\b\b\b\b\b\b\b\b\b\b\b\b\b\b\b\b\b\b\b\b\r",
      "36/36 [==============================] - 0s 2ms/step - loss: 6.4526 - mae: 1.8317 - mse: 6.4526 - val_loss: 14.5849 - val_mae: 2.3787 - val_mse: 14.5849\n"
     ]
    },
    {
     "name": "stdout",
     "output_type": "stream",
     "text": [
      "Epoch 76/100\n",
      "\r",
      " 1/36 [..............................] - ETA: 0s - loss: 3.5765 - mae: 1.3809 - mse: 3.5765"
     ]
    },
    {
     "name": "stdout",
     "output_type": "stream",
     "text": [
      "\b\b\b\b\b\b\b\b\b\b\b\b\b\b\b\b\b\b\b\b\b\b\b\b\b\b\b\b\b\b\b\b\b\b\b\b\b\b\b\b\b\b\b\b\b\b\b\b\b\b\b\b\b\b\b\b\b\b\b\b\b\b\b\b\b\b\b\b\b\b\b\b\b\b\b\b\b\b\b\b\b\b\b\b\b\b\b\b\b\b\b\r",
      "36/36 [==============================] - 0s 2ms/step - loss: 6.8096 - mae: 1.8264 - mse: 6.8096 - val_loss: 14.0300 - val_mae: 2.3813 - val_mse: 14.0300\n"
     ]
    },
    {
     "name": "stdout",
     "output_type": "stream",
     "text": [
      "Epoch 77/100\n",
      "\r",
      " 1/36 [..............................] - ETA: 0s - loss: 7.4393 - mae: 2.0469 - mse: 7.4393"
     ]
    },
    {
     "name": "stdout",
     "output_type": "stream",
     "text": [
      "\b\b\b\b\b\b\b\b\b\b\b\b\b\b\b\b\b\b\b\b\b\b\b\b\b\b\b\b\b\b\b\b\b\b\b\b\b\b\b\b\b\b\b\b\b\b\b\b\b\b\b\b\b\b\b\b\b\b\b\b\b\b\b\b\b\b\b\b\b\b\b\b\b\b\b\b\b\b\b\b\b\b\b\b\b\b\b\b\b\b\b\r",
      "36/36 [==============================] - 0s 2ms/step - loss: 6.7130 - mae: 1.8331 - mse: 6.7130 - val_loss: 14.7615 - val_mae: 2.4091 - val_mse: 14.7615\n"
     ]
    },
    {
     "name": "stdout",
     "output_type": "stream",
     "text": [
      "Epoch 78/100\n",
      "\r",
      " 1/36 [..............................] - ETA: 0s - loss: 2.2347 - mae: 1.2485 - mse: 2.2347"
     ]
    },
    {
     "name": "stdout",
     "output_type": "stream",
     "text": [
      "\b\b\b\b\b\b\b\b\b\b\b\b\b\b\b\b\b\b\b\b\b\b\b\b\b\b\b\b\b\b\b\b\b\b\b\b\b\b\b\b\b\b\b\b\b\b\b\b\b\b\b\b\b\b\b\b\b\b\b\b\b\b\b\b\b\b\b\b\b\b\b\b\b\b\b\b\b\b\b\b\b\b\b\b\b\b\b\b\b\b\b\r",
      "36/36 [==============================] - 0s 2ms/step - loss: 6.5669 - mae: 1.7903 - mse: 6.5669 - val_loss: 15.3815 - val_mae: 2.4935 - val_mse: 15.3815\n"
     ]
    },
    {
     "name": "stdout",
     "output_type": "stream",
     "text": [
      "Epoch 79/100\n",
      "\r",
      " 1/36 [..............................] - ETA: 0s - loss: 6.1785 - mae: 1.9218 - mse: 6.1785"
     ]
    },
    {
     "name": "stdout",
     "output_type": "stream",
     "text": [
      "\b\b\b\b\b\b\b\b\b\b\b\b\b\b\b\b\b\b\b\b\b\b\b\b\b\b\b\b\b\b\b\b\b\b\b\b\b\b\b\b\b\b\b\b\b\b\b\b\b\b\b\b\b\b\b\b\b\b\b\b\b\b\b\b\b\b\b\b\b\b\b\b\b\b\b\b\b\b\b\b\b\b\b\b\b\b\b\b\b\b\b\r",
      "36/36 [==============================] - 0s 2ms/step - loss: 6.4530 - mae: 1.7566 - mse: 6.4530 - val_loss: 16.3558 - val_mae: 2.5345 - val_mse: 16.3558\n"
     ]
    },
    {
     "name": "stdout",
     "output_type": "stream",
     "text": [
      "Epoch 80/100\n",
      "\r",
      " 1/36 [..............................] - ETA: 0s - loss: 5.1926 - mae: 1.4807 - mse: 5.1926"
     ]
    },
    {
     "name": "stdout",
     "output_type": "stream",
     "text": [
      "\b\b\b\b\b\b\b\b\b\b\b\b\b\b\b\b\b\b\b\b\b\b\b\b\b\b\b\b\b\b\b\b\b\b\b\b\b\b\b\b\b\b\b\b\b\b\b\b\b\b\b\b\b\b\b\b\b\b\b\b\b\b\b\b\b\b\b\b\b\b\b\b\b\b\b\b\b\b\b\b\b\b\b\b\b\b\b\b\b\b\b\r",
      "36/36 [==============================] - 0s 2ms/step - loss: 6.6219 - mae: 1.8413 - mse: 6.6219 - val_loss: 14.7696 - val_mae: 2.4149 - val_mse: 14.7696\n"
     ]
    },
    {
     "name": "stdout",
     "output_type": "stream",
     "text": [
      "Epoch 81/100\n",
      "\r",
      " 1/36 [..............................] - ETA: 0s - loss: 1.9190 - mae: 1.0705 - mse: 1.9190"
     ]
    },
    {
     "name": "stdout",
     "output_type": "stream",
     "text": [
      "\b\b\b\b\b\b\b\b\b\b\b\b\b\b\b\b\b\b\b\b\b\b\b\b\b\b\b\b\b\b\b\b\b\b\b\b\b\b\b\b\b\b\b\b\b\b\b\b\b\b\b\b\b\b\b\b\b\b\b\b\b\b\b\b\b\b\b\b\b\b\b\b\b\b\b\b\b\b\b\b\b\b\b\b\b\b\b\b\b\b\b\r",
      "36/36 [==============================] - 0s 2ms/step - loss: 6.6603 - mae: 1.8003 - mse: 6.6603 - val_loss: 13.7775 - val_mae: 2.3500 - val_mse: 13.7775\n"
     ]
    },
    {
     "name": "stdout",
     "output_type": "stream",
     "text": [
      "Epoch 82/100\n",
      "\r",
      " 1/36 [..............................] - ETA: 0s - loss: 3.3197 - mae: 1.5457 - mse: 3.3197"
     ]
    },
    {
     "name": "stdout",
     "output_type": "stream",
     "text": [
      "\b\b\b\b\b\b\b\b\b\b\b\b\b\b\b\b\b\b\b\b\b\b\b\b\b\b\b\b\b\b\b\b\b\b\b\b\b\b\b\b\b\b\b\b\b\b\b\b\b\b\b\b\b\b\b\b\b\b\b\b\b\b\b\b\b\b\b\b\b\b\b\b\b\b\b\b\b\b\b\b\b\b\b\b\b\b\b\b\b\b\b\r",
      "36/36 [==============================] - 0s 2ms/step - loss: 6.3589 - mae: 1.7343 - mse: 6.3589 - val_loss: 15.0073 - val_mae: 2.4953 - val_mse: 15.0073\n"
     ]
    },
    {
     "name": "stdout",
     "output_type": "stream",
     "text": [
      "Epoch 83/100\n",
      "\r",
      " 1/36 [..............................] - ETA: 0s - loss: 11.7523 - mae: 2.6792 - mse: 11.7523"
     ]
    },
    {
     "name": "stdout",
     "output_type": "stream",
     "text": [
      "\b\b\b\b\b\b\b\b\b\b\b\b\b\b\b\b\b\b\b\b\b\b\b\b\b\b\b\b\b\b\b\b\b\b\b\b\b\b\b\b\b\b\b\b\b\b\b\b\b\b\b\b\b\b\b\b\b\b\b\b\b\b\b\b\b\b\b\b\b\b\b\b\b\b\b\b\b\b\b\b\b\b\b\b\b\b\b\b\b\b\b\b\b\r",
      "36/36 [==============================] - 0s 2ms/step - loss: 6.2588 - mae: 1.7325 - mse: 6.2588 - val_loss: 14.7608 - val_mae: 2.3840 - val_mse: 14.7608\n"
     ]
    },
    {
     "name": "stdout",
     "output_type": "stream",
     "text": [
      "Epoch 84/100\n",
      "\r",
      " 1/36 [..............................] - ETA: 0s - loss: 8.0812 - mae: 2.3686 - mse: 8.0812"
     ]
    },
    {
     "name": "stdout",
     "output_type": "stream",
     "text": [
      "\b\b\b\b\b\b\b\b\b\b\b\b\b\b\b\b\b\b\b\b\b\b\b\b\b\b\b\b\b\b\b\b\b\b\b\b\b\b\b\b\b\b\b\b\b\b\b\b\b\b\b\b\b\b\b\b\b\b\b\b\b\b\b\b\b\b\b\b\b\b\b\b\b\b\b\b\b\b\b\b\b\b\b\b\b\b\b\b\b\b\b\r",
      "36/36 [==============================] - 0s 2ms/step - loss: 6.2373 - mae: 1.7702 - mse: 6.2373 - val_loss: 13.0614 - val_mae: 2.3295 - val_mse: 13.0614\n"
     ]
    },
    {
     "name": "stdout",
     "output_type": "stream",
     "text": [
      "Epoch 85/100\n",
      "\r",
      " 1/36 [..............................] - ETA: 0s - loss: 4.5227 - mae: 1.6712 - mse: 4.5227"
     ]
    },
    {
     "name": "stdout",
     "output_type": "stream",
     "text": [
      "\b\b\b\b\b\b\b\b\b\b\b\b\b\b\b\b\b\b\b\b\b\b\b\b\b\b\b\b\b\b\b\b\b\b\b\b\b\b\b\b\b\b\b\b\b\b\b\b\b\b\b\b\b\b\b\b\b\b\b\b\b\b\b\b\b\b\b\b\b\b\b\b\b\b\b\b\b\b\b\b\b\b\b\b\b\b\b\b\b\b\b\r",
      "36/36 [==============================] - 0s 2ms/step - loss: 6.3546 - mae: 1.7625 - mse: 6.3546 - val_loss: 15.1437 - val_mae: 2.4176 - val_mse: 15.1437\n"
     ]
    },
    {
     "name": "stdout",
     "output_type": "stream",
     "text": [
      "Epoch 86/100\n",
      "\r",
      " 1/36 [..............................] - ETA: 0s - loss: 22.2285 - mae: 3.5777 - mse: 22.2285"
     ]
    },
    {
     "name": "stdout",
     "output_type": "stream",
     "text": [
      "\b\b\b\b\b\b\b\b\b\b\b\b\b\b\b\b\b\b\b\b\b\b\b\b\b\b\b\b\b\b\b\b\b\b\b\b\b\b\b\b\b\b\b\b\b\b\b\b\b\b\b\b\b\b\b\b\b\b\b\b\b\b\b\b\b\b\b\b\b\b\b\b\b\b\b\b\b\b\b\b\b\b\b\b\b\b\b\b\b\b\b\b\b\r",
      "36/36 [==============================] - 0s 2ms/step - loss: 6.1964 - mae: 1.7627 - mse: 6.1964 - val_loss: 12.9910 - val_mae: 2.2780 - val_mse: 12.9910\n"
     ]
    },
    {
     "name": "stdout",
     "output_type": "stream",
     "text": [
      "Epoch 87/100\n",
      "\r",
      " 1/36 [..............................] - ETA: 0s - loss: 1.6928 - mae: 1.0097 - mse: 1.6928"
     ]
    },
    {
     "name": "stdout",
     "output_type": "stream",
     "text": [
      "\b\b\b\b\b\b\b\b\b\b\b\b\b\b\b\b\b\b\b\b\b\b\b\b\b\b\b\b\b\b\b\b\b\b\b\b\b\b\b\b\b\b\b\b\b\b\b\b\b\b\b\b\b\b\b\b\b\b\b\b\b\b\b\b\b\b\b\b\b\b\b\b\b\b\b\b\b\b\b\b\b\b\b\b\b\b\b\b\b\b\b\r",
      "36/36 [==============================] - 0s 2ms/step - loss: 6.2703 - mae: 1.7670 - mse: 6.2703 - val_loss: 15.5408 - val_mae: 2.4313 - val_mse: 15.5408\n"
     ]
    },
    {
     "name": "stdout",
     "output_type": "stream",
     "text": [
      "Epoch 88/100\n",
      "\r",
      " 1/36 [..............................] - ETA: 0s - loss: 11.0804 - mae: 2.5742 - mse: 11.0804"
     ]
    },
    {
     "name": "stdout",
     "output_type": "stream",
     "text": [
      "\b\b\b\b\b\b\b\b\b\b\b\b\b\b\b\b\b\b\b\b\b\b\b\b\b\b\b\b\b\b\b\b\b\b\b\b\b\b\b\b\b\b\b\b\b\b\b\b\b\b\b\b\b\b\b\b\b\b\b\b\b\b\b\b\b\b\b\b\b\b\b\b\b\b\b\b\b\b\b\b\b\b\b\b\b\b\b\b\b\b\b\b\b\r",
      "36/36 [==============================] - 0s 2ms/step - loss: 6.0789 - mae: 1.7209 - mse: 6.0789 - val_loss: 15.5079 - val_mae: 2.5342 - val_mse: 15.5079\n"
     ]
    },
    {
     "name": "stdout",
     "output_type": "stream",
     "text": [
      "Epoch 89/100\n",
      "\r",
      " 1/36 [..............................] - ETA: 0s - loss: 2.4022 - mae: 1.1846 - mse: 2.4022"
     ]
    },
    {
     "name": "stdout",
     "output_type": "stream",
     "text": [
      "\b\b\b\b\b\b\b\b\b\b\b\b\b\b\b\b\b\b\b\b\b\b\b\b\b\b\b\b\b\b\b\b\b\b\b\b\b\b\b\b\b\b\b\b\b\b\b\b\b\b\b\b\b\b\b\b\b\b\b\b\b\b\b\b\b\b\b\b\b\b\b\b\b\b\b\b\b\b\b\b\b\b\b\b\b\b\b\b\b\b\b\r",
      "36/36 [==============================] - 0s 2ms/step - loss: 6.0784 - mae: 1.7213 - mse: 6.0784 - val_loss: 14.3816 - val_mae: 2.3466 - val_mse: 14.3816\n"
     ]
    },
    {
     "name": "stdout",
     "output_type": "stream",
     "text": [
      "Epoch 90/100\n",
      "\r",
      " 1/36 [..............................] - ETA: 0s - loss: 3.4785 - mae: 1.5728 - mse: 3.4785"
     ]
    },
    {
     "name": "stdout",
     "output_type": "stream",
     "text": [
      "\b\b\b\b\b\b\b\b\b\b\b\b\b\b\b\b\b\b\b\b\b\b\b\b\b\b\b\b\b\b\b\b\b\b\b\b\b\b\b\b\b\b\b\b\b\b\b\b\b\b\b\b\b\b\b\b\b\b\b\b\b\b\b\b\b\b\b\b\b\b\b\b\b\b\b\b\b\b\b\b\b\b\b\b\b\b\b\b\b\b\b\r",
      "36/36 [==============================] - 0s 2ms/step - loss: 6.1128 - mae: 1.7268 - mse: 6.1128 - val_loss: 16.6192 - val_mae: 2.5139 - val_mse: 16.6192\n"
     ]
    },
    {
     "name": "stdout",
     "output_type": "stream",
     "text": [
      "Epoch 91/100\n",
      "\r",
      " 1/36 [..............................] - ETA: 0s - loss: 27.2806 - mae: 2.7764 - mse: 27.2806"
     ]
    },
    {
     "name": "stdout",
     "output_type": "stream",
     "text": [
      "\b\b\b\b\b\b\b\b\b\b\b\b\b\b\b\b\b\b\b\b\b\b\b\b\b\b\b\b\b\b\b\b\b\b\b\b\b\b\b\b\b\b\b\b\b\b\b\b\b\b\b\b\b\b\b\b\b\b\b\b\b\b\b\b\b\b\b\b\b\b\b\b\b\b\b\b\b\b\b\b\b\b\b\b\b\b\b\b\b\b\b\b\b\r",
      "36/36 [==============================] - 0s 2ms/step - loss: 5.8864 - mae: 1.7132 - mse: 5.8864 - val_loss: 14.4315 - val_mae: 2.3763 - val_mse: 14.4315\n"
     ]
    },
    {
     "name": "stdout",
     "output_type": "stream",
     "text": [
      "Epoch 92/100\n",
      "\r",
      " 1/36 [..............................] - ETA: 0s - loss: 2.9265 - mae: 1.0562 - mse: 2.9265"
     ]
    },
    {
     "name": "stdout",
     "output_type": "stream",
     "text": [
      "\b\b\b\b\b\b\b\b\b\b\b\b\b\b\b\b\b\b\b\b\b\b\b\b\b\b\b\b\b\b\b\b\b\b\b\b\b\b\b\b\b\b\b\b\b\b\b\b\b\b\b\b\b\b\b\b\b\b\b\b\b\b\b\b\b\b\b\b\b\b\b\b\b\b\b\b\b\b\b\b\b\b\b\b\b\b\b\b\b\b\b\r",
      "36/36 [==============================] - 0s 2ms/step - loss: 5.8879 - mae: 1.7024 - mse: 5.8879 - val_loss: 16.6779 - val_mae: 2.4720 - val_mse: 16.6779\n"
     ]
    },
    {
     "name": "stdout",
     "output_type": "stream",
     "text": [
      "Epoch 93/100\n",
      "\r",
      " 1/36 [..............................] - ETA: 0s - loss: 5.2463 - mae: 1.8951 - mse: 5.2463"
     ]
    },
    {
     "name": "stdout",
     "output_type": "stream",
     "text": [
      "\b\b\b\b\b\b\b\b\b\b\b\b\b\b\b\b\b\b\b\b\b\b\b\b\b\b\b\b\b\b\b\b\b\b\b\b\b\b\b\b\b\b\b\b\b\b\b\b\b\b\b\b\b\b\b\b\b\b\b\b\b\b\b\b\b\b\b\b\b\b\b\b\b\b\b\b\b\b\b\b\b\b\b\b\b\b\b\b\b\b\b\r",
      "36/36 [==============================] - 0s 2ms/step - loss: 5.8037 - mae: 1.6887 - mse: 5.8037 - val_loss: 15.9713 - val_mae: 2.4067 - val_mse: 15.9713\n"
     ]
    },
    {
     "name": "stdout",
     "output_type": "stream",
     "text": [
      "Epoch 94/100\n",
      "\r",
      " 1/36 [..............................] - ETA: 0s - loss: 3.7421 - mae: 1.5942 - mse: 3.7421"
     ]
    },
    {
     "name": "stdout",
     "output_type": "stream",
     "text": [
      "\b\b\b\b\b\b\b\b\b\b\b\b\b\b\b\b\b\b\b\b\b\b\b\b\b\b\b\b\b\b\b\b\b\b\b\b\b\b\b\b\b\b\b\b\b\b\b\b\b\b\b\b\b\b\b\b\b\b\b\b\b\b\b\b\b\b\b\b\b\b\b\b\b\b\b\b\b\b\b\b\b\b\b\b\b\b\b\b\b\b\b\r",
      "36/36 [==============================] - 0s 2ms/step - loss: 5.8810 - mae: 1.7098 - mse: 5.8810 - val_loss: 16.5537 - val_mae: 2.5610 - val_mse: 16.5537\n"
     ]
    },
    {
     "name": "stdout",
     "output_type": "stream",
     "text": [
      "Epoch 95/100\n",
      "\r",
      " 1/36 [..............................] - ETA: 0s - loss: 8.8835 - mae: 2.4127 - mse: 8.8835"
     ]
    },
    {
     "name": "stdout",
     "output_type": "stream",
     "text": [
      "\b\b\b\b\b\b\b\b\b\b\b\b\b\b\b\b\b\b\b\b\b\b\b\b\b\b\b\b\b\b\b\b\b\b\b\b\b\b\b\b\b\b\b\b\b\b\b\b\b\b\b\b\b\b\b\b\b\b\b\b\b\b\b\b\b\b\b\b\b\b\b\b\b\b\b\b\b\b\b\b\b\b\b\b\b\b\b\b\b\b\b\r",
      "36/36 [==============================] - 0s 2ms/step - loss: 5.7393 - mae: 1.6982 - mse: 5.7393 - val_loss: 14.0193 - val_mae: 2.3236 - val_mse: 14.0193\n"
     ]
    },
    {
     "name": "stdout",
     "output_type": "stream",
     "text": [
      "Epoch 96/100\n",
      "\r",
      " 1/36 [..............................] - ETA: 0s - loss: 4.8111 - mae: 1.7065 - mse: 4.8111"
     ]
    },
    {
     "name": "stdout",
     "output_type": "stream",
     "text": [
      "\b\b\b\b\b\b\b\b\b\b\b\b\b\b\b\b\b\b\b\b\b\b\b\b\b\b\b\b\b\b\b\b\b\b\b\b\b\b\b\b\b\b\b\b\b\b\b\b\b\b\b\b\b\b\b\b\b\b\b\b\b\b\b\b\b\b\b\b\b\b\b\b\b\b\b\b\b\b\b\b\b\b\b\b\b\b\b\b\b\b\b\r",
      "36/36 [==============================] - 0s 2ms/step - loss: 5.8743 - mae: 1.6746 - mse: 5.8743 - val_loss: 14.1893 - val_mae: 2.3718 - val_mse: 14.1893\n"
     ]
    },
    {
     "name": "stdout",
     "output_type": "stream",
     "text": [
      "Epoch 97/100\n",
      "\r",
      " 1/36 [..............................] - ETA: 0s - loss: 3.2796 - mae: 1.4831 - mse: 3.2796"
     ]
    },
    {
     "name": "stdout",
     "output_type": "stream",
     "text": [
      "\b\b\b\b\b\b\b\b\b\b\b\b\b\b\b\b\b\b\b\b\b\b\b\b\b\b\b\b\b\b\b\b\b\b\b\b\b\b\b\b\b\b\b\b\b\b\b\b\b\b\b\b\b\b\b\b\b\b\b\b\b\b\b\b\b\b\b\b\b\b\b\b\b\b\b\b\b\b\b\b\b\b\b\b\b\b\b\b\b\b\b\r",
      "36/36 [==============================] - 0s 2ms/step - loss: 5.6164 - mae: 1.6906 - mse: 5.6164 - val_loss: 15.9081 - val_mae: 2.5012 - val_mse: 15.9081\n"
     ]
    },
    {
     "name": "stdout",
     "output_type": "stream",
     "text": [
      "Epoch 98/100\n",
      "\r",
      " 1/36 [..............................] - ETA: 0s - loss: 2.7548 - mae: 1.3051 - mse: 2.7548"
     ]
    },
    {
     "name": "stdout",
     "output_type": "stream",
     "text": [
      "\b\b\b\b\b\b\b\b\b\b\b\b\b\b\b\b\b\b\b\b\b\b\b\b\b\b\b\b\b\b\b\b\b\b\b\b\b\b\b\b\b\b\b\b\b\b\b\b\b\b\b\b\b\b\b\b\b\b\b\b\b\b\b\b\b\b\b\b\b\b\b\b\b\b\b\b\b\b\b\b\b\b\b\b\b\b\b\b\b\b\b\r",
      "36/36 [==============================] - 0s 2ms/step - loss: 5.8722 - mae: 1.7056 - mse: 5.8722 - val_loss: 15.3236 - val_mae: 2.4015 - val_mse: 15.3236\n"
     ]
    },
    {
     "name": "stdout",
     "output_type": "stream",
     "text": [
      "Epoch 99/100\n",
      "\r",
      " 1/36 [..............................] - ETA: 0s - loss: 9.3855 - mae: 2.0815 - mse: 9.3855"
     ]
    },
    {
     "name": "stdout",
     "output_type": "stream",
     "text": [
      "\b\b\b\b\b\b\b\b\b\b\b\b\b\b\b\b\b\b\b\b\b\b\b\b\b\b\b\b\b\b\b\b\b\b\b\b\b\b\b\b\b\b\b\b\b\b\b\b\b\b\b\b\b\b\b\b\b\b\b\b\b\b\b\b\b\b\b\b\b\b\b\b\b\b\b\b\b\b\b\b\b\b\b\b\b\b\b\b\b\b\b\r",
      "36/36 [==============================] - 0s 2ms/step - loss: 5.7431 - mae: 1.6898 - mse: 5.7431 - val_loss: 13.8955 - val_mae: 2.3869 - val_mse: 13.8955\n"
     ]
    },
    {
     "name": "stdout",
     "output_type": "stream",
     "text": [
      "Epoch 100/100\n",
      "\r",
      " 1/36 [..............................] - ETA: 0s - loss: 3.1694 - mae: 1.5027 - mse: 3.1694"
     ]
    },
    {
     "name": "stdout",
     "output_type": "stream",
     "text": [
      "\b\b\b\b\b\b\b\b\b\b\b\b\b\b\b\b\b\b\b\b\b\b\b\b\b\b\b\b\b\b\b\b\b\b\b\b\b\b\b\b\b\b\b\b\b\b\b\b\b\b\b\b\b\b\b\b\b\b\b\b\b\b\b\b\b\b\b\b\b\b\b\b\b\b\b\b\b\b\b\b\b\b\b\b\b\b\b\b\b\b\b\r",
      "36/36 [==============================] - 0s 2ms/step - loss: 5.5598 - mae: 1.6766 - mse: 5.5598 - val_loss: 14.1941 - val_mae: 2.3762 - val_mse: 14.1941\n"
     ]
    }
   ],
   "source": [
    "history = model.fit(x_train,\n",
    "                    y_train,\n",
    "                    epochs          = 100,\n",
    "                    batch_size      = 10,\n",
    "                    verbose         = 1,\n",
    "                    validation_data = (x_test, y_test),\n",
    "                    callbacks       = [savemodel_callback])"
   ]
  },
  {
   "cell_type": "markdown",
   "metadata": {},
   "source": [
    "## Step 6 - Evaluate\n",
    "### 6.1 - Model evaluation\n",
    "MAE =  Mean Absolute Error (between the labels and predictions)  \n",
    "A mae equal to 3 represents an average error in prediction of $3k."
   ]
  },
  {
   "cell_type": "code",
   "execution_count": 10,
   "metadata": {
    "execution": {
     "iopub.execute_input": "2021-01-26T18:54:59.506543Z",
     "iopub.status.busy": "2021-01-26T18:54:59.504021Z",
     "iopub.status.idle": "2021-01-26T18:54:59.529586Z",
     "shell.execute_reply": "2021-01-26T18:54:59.529250Z"
    }
   },
   "outputs": [
    {
     "name": "stdout",
     "output_type": "stream",
     "text": [
      "x_test / loss      : 14.1941\n",
      "x_test / mae       : 2.3762\n",
      "x_test / mse       : 14.1941\n"
     ]
    }
   ],
   "source": [
    "score = model.evaluate(x_test, y_test, verbose=0)\n",
    "\n",
    "print('x_test / loss      : {:5.4f}'.format(score[0]))\n",
    "print('x_test / mae       : {:5.4f}'.format(score[1]))\n",
    "print('x_test / mse       : {:5.4f}'.format(score[2]))"
   ]
  },
  {
   "cell_type": "markdown",
   "metadata": {},
   "source": [
    "### 6.2 - Training history\n",
    "What was the best result during our training ?"
   ]
  },
  {
   "cell_type": "code",
   "execution_count": 11,
   "metadata": {
    "execution": {
     "iopub.execute_input": "2021-01-26T18:54:59.532534Z",
     "iopub.status.busy": "2021-01-26T18:54:59.532217Z",
     "iopub.status.idle": "2021-01-26T18:54:59.534595Z",
     "shell.execute_reply": "2021-01-26T18:54:59.534259Z"
    }
   },
   "outputs": [
    {
     "name": "stdout",
     "output_type": "stream",
     "text": [
      "min( val_mae ) : 2.2780\n"
     ]
    }
   ],
   "source": [
    "print(\"min( val_mae ) : {:.4f}\".format( min(history.history[\"val_mae\"]) ) )"
   ]
  },
  {
   "cell_type": "code",
   "execution_count": 12,
   "metadata": {
    "execution": {
     "iopub.execute_input": "2021-01-26T18:54:59.547731Z",
     "iopub.status.busy": "2021-01-26T18:54:59.547236Z",
     "iopub.status.idle": "2021-01-26T18:55:00.541812Z",
     "shell.execute_reply": "2021-01-26T18:55:00.541487Z"
    }
   },
   "outputs": [
    {
     "data": {
      "text/html": [
       "<div class=\"comment\">Saved: ./run/figs/BHPD2-01-history_0</div>"
      ],
      "text/plain": [
       "<IPython.core.display.HTML object>"
      ]
     },
     "metadata": {},
     "output_type": "display_data"
    },
    {
     "data": {
      "image/png": "[encoded data removed]",
      "text/plain": [
       "<Figure size 576x432 with 1 Axes>"
      ]
     },
     "metadata": {
      "needs_background": "light"
     },
     "output_type": "display_data"
    },
    {
     "data": {
      "text/html": [
       "<div class=\"comment\">Saved: ./run/figs/BHPD2-01-history_1</div>"
      ],
      "text/plain": [
       "<IPython.core.display.HTML object>"
      ]
     },
     "metadata": {},
     "output_type": "display_data"
    },
    {
     "data": {
      "image/png": "[encoded data removed]",
      "text/plain": [
       "<Figure size 576x432 with 1 Axes>"
      ]
     },
     "metadata": {
      "needs_background": "light"
     },
     "output_type": "display_data"
    },
    {
     "data": {
      "text/html": [
       "<div class=\"comment\">Saved: ./run/figs/BHPD2-01-history_2</div>"
      ],
      "text/plain": [
       "<IPython.core.display.HTML object>"
      ]
     },
     "metadata": {},
     "output_type": "display_data"
    },
    {
     "data": {
      "image/png": "[encoded data removed]",
      "text/plain": [
       "<Figure size 576x432 with 1 Axes>"
      ]
     },
     "metadata": {
      "needs_background": "light"
     },
     "output_type": "display_data"
    }
   ],
   "source": [
    "pwk.plot_history(history, plot={'MSE' :['mse', 'val_mse'],\n",
    "                                'MAE' :['mae', 'val_mae'],\n",
    "                                'LOSS':['loss','val_loss']}, save_as='01-history')"
   ]
  },
  {
   "cell_type": "markdown",
   "metadata": {},
   "source": [
    "## Step 7 - Restore a model :"
   ]
  },
  {
   "cell_type": "markdown",
   "metadata": {},
   "source": [
    "### 7.1 - Reload model"
   ]
  },
  {
   "cell_type": "code",
   "execution_count": 13,
   "metadata": {
    "execution": {
     "iopub.execute_input": "2021-01-26T18:55:00.552032Z",
     "iopub.status.busy": "2021-01-26T18:55:00.550519Z",
     "iopub.status.idle": "2021-01-26T18:55:00.583322Z",
     "shell.execute_reply": "2021-01-26T18:55:00.583571Z"
    }
   },
   "outputs": [
    {
     "name": "stdout",
     "output_type": "stream",
     "text": [
      "Model: \"sequential\"\n",
      "_________________________________________________________________\n",
      "Layer (type)                 Output Shape              Param #   \n",
      "=================================================================\n",
      "Dense_n1 (Dense)             (None, 64)                896       \n",
      "_________________________________________________________________\n",
      "Dense_n2 (Dense)             (None, 64)                4160      \n",
      "_________________________________________________________________\n",
      "Output (Dense)               (None, 1)                 65        \n",
      "=================================================================\n",
      "Total params: 5,121\n",
      "Trainable params: 5,121\n",
      "Non-trainable params: 0\n",
      "_________________________________________________________________\n",
      "Loaded.\n"
     ]
    }
   ],
   "source": [
    "loaded_model = tf.keras.models.load_model('./run/models/best_model.h5')\n",
    "loaded_model.summary()\n",
    "print(\"Loaded.\")"
   ]
  },
  {
   "cell_type": "markdown",
   "metadata": {},
   "source": [
    "### 7.2 - Evaluate it :"
   ]
  },
  {
   "cell_type": "code",
   "execution_count": 14,
   "metadata": {
    "execution": {
     "iopub.execute_input": "2021-01-26T18:55:00.589580Z",
     "iopub.status.busy": "2021-01-26T18:55:00.587643Z",
     "iopub.status.idle": "2021-01-26T18:55:00.700749Z",
     "shell.execute_reply": "2021-01-26T18:55:00.700395Z"
    }
   },
   "outputs": [
    {
     "name": "stdout",
     "output_type": "stream",
     "text": [
      "x_test / loss      : 12.8156\n",
      "x_test / mae       : 2.4046\n",
      "x_test / mse       : 12.8156\n"
     ]
    }
   ],
   "source": [
    "score = loaded_model.evaluate(x_test, y_test, verbose=0)\n",
    "\n",
    "print('x_test / loss      : {:5.4f}'.format(score[0]))\n",
    "print('x_test / mae       : {:5.4f}'.format(score[1]))\n",
    "print('x_test / mse       : {:5.4f}'.format(score[2]))"
   ]
  },
  {
   "cell_type": "markdown",
   "metadata": {},
   "source": [
    "### 7.3 - Make a prediction"
   ]
  },
  {
   "cell_type": "code",
   "execution_count": 15,
   "metadata": {
    "execution": {
     "iopub.execute_input": "2021-01-26T18:55:00.704054Z",
     "iopub.status.busy": "2021-01-26T18:55:00.703745Z",
     "iopub.status.idle": "2021-01-26T18:55:00.706328Z",
     "shell.execute_reply": "2021-01-26T18:55:00.705975Z"
    }
   },
   "outputs": [],
   "source": [
    "my_data = [ 1.26425925, -0.48522739,  1.0436489 , -0.23112788,  1.37120745,\n",
    "       -2.14308942,  1.13489104, -1.06802005,  1.71189006,  1.57042287,\n",
    "        0.77859951,  0.14769795,  2.7585581 ]\n",
    "real_price = 10.4\n",
    "\n",
    "my_data=np.array(my_data).reshape(1,13)"
   ]
  },
  {
   "cell_type": "code",
   "execution_count": 16,
   "metadata": {
    "execution": {
     "iopub.execute_input": "2021-01-26T18:55:00.709827Z",
     "iopub.status.busy": "2021-01-26T18:55:00.709501Z",
     "iopub.status.idle": "2021-01-26T18:55:00.790764Z",
     "shell.execute_reply": "2021-01-26T18:55:00.790423Z"
    }
   },
   "outputs": [
    {
     "name": "stdout",
     "output_type": "stream",
     "text": [
      "Prediction : 9.21 K$   Reality : 10.40 K$\n"
     ]
    }
   ],
   "source": [
    "predictions = loaded_model.predict( my_data )\n",
    "print(\"Prediction : {:.2f} K$   Reality : {:.2f} K$\".format(predictions[0][0], real_price))"
   ]
  },
  {
   "cell_type": "code",
   "execution_count": 17,
   "metadata": {
    "execution": {
     "iopub.execute_input": "2021-01-26T18:55:00.793688Z",
     "iopub.status.busy": "2021-01-26T18:55:00.793274Z",
     "iopub.status.idle": "2021-01-26T18:55:00.797096Z",
     "shell.execute_reply": "2021-01-26T18:55:00.797459Z"
    }
   },
   "outputs": [
    {
     "name": "stdout",
     "output_type": "stream",
     "text": [
      "End time is : Tuesday 26 January 2021, 19:55:00\n",
      "Duration is : 00:00:10 565ms\n",
      "This notebook ends here\n"
     ]
    }
   ],
   "source": [
    "pwk.end()"
   ]
  },
  {
   "cell_type": "markdown",
   "metadata": {},
   "source": [
    "---\n",
    "<img width=\"80px\" src=\"../fidle/img/00-Fidle-logo-01.svg\"></img>"
   ]
  }
 ],
 "metadata": {
  "kernelspec": {
   "display_name": "Python 3",
   "language": "python",
   "name": "python3"
  },
  "language_info": {
   "codemirror_mode": {
    "name": "ipython",
    "version": 3
   },
   "file_extension": ".py",
   "mimetype": "text/x-python",
   "name": "python",
   "nbconvert_exporter": "python",
   "pygments_lexer": "ipython3",
   "version": "3.8.5"
  }
 },
 "nbformat": 4,
 "nbformat_minor": 4
}
