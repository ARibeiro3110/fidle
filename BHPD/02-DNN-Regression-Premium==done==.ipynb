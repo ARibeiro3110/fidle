{
 "cells": [
  {
   "cell_type": "markdown",
   "metadata": {},
   "source": [
    "<img width=\"800px\" src=\"../fidle/img/00-Fidle-header-01.svg\"></img>\n",
    "\n",
    "# <!-- TITLE --> [BHPD2] - Regression with a Dense Network (DNN) - Advanced code\n",
    "  <!-- DESC -->  A more advanced implementation of the precedent example\n",
    "  <!-- AUTHOR : Jean-Luc Parouty (CNRS/SIMaP) -->\n",
    "\n",
    "## Objectives :\n",
    " - Predicts **housing prices** from a set of house features. \n",
    " - Understanding the principle and the architecture of a regression with a dense neural network with backup and restore of the trained model. \n",
    "\n",
    "The **[Boston Housing Prices Dataset](https://www.cs.toronto.edu/~delve/data/boston/bostonDetail.html)** consists of price of houses in various places in Boston.  \n",
    "Alongside with price, the dataset also provide these information :\n",
    "\n",
    " - CRIM: This is the per capita crime rate by town\n",
    " - ZN: This is the proportion of residential land zoned for lots larger than 25,000 sq.ft\n",
    " - INDUS: This is the proportion of non-retail business acres per town\n",
    " - CHAS: This is the Charles River dummy variable (this is equal to 1 if tract bounds river; 0 otherwise)\n",
    " - NOX: This is the nitric oxides concentration (parts per 10 million)\n",
    " - RM: This is the average number of rooms per dwelling\n",
    " - AGE: This is the proportion of owner-occupied units built prior to 1940\n",
    " - DIS: This is the weighted distances to five Boston employment centers\n",
    " - RAD: This is the index of accessibility to radial highways\n",
    " - TAX: This is the full-value property-tax rate per 10,000 dollars\n",
    " - PTRATIO: This is the pupil-teacher ratio by town\n",
    " - B: This is calculated as 1000(Bk — 0.63)^2, where Bk is the proportion of people of African American descent by town\n",
    " - LSTAT: This is the percentage lower status of the population\n",
    " - MEDV: This is the median value of owner-occupied homes in 1000 dollars\n",
    "\n",
    "## What we're going to do :\n",
    "\n",
    " - (Retrieve data)\n",
    " - (Preparing the data)\n",
    " - (Build a model)\n",
    " - Train and save the model\n",
    " - Restore saved model\n",
    " - Evaluate the model\n",
    " - Make some predictions\n"
   ]
  },
  {
   "cell_type": "markdown",
   "metadata": {},
   "source": [
    "## Step 1 - Import and init"
   ]
  },
  {
   "cell_type": "code",
   "execution_count": 1,
   "metadata": {
    "execution": {
     "iopub.execute_input": "2021-02-09T17:32:19.857087Z",
     "iopub.status.busy": "2021-02-09T17:32:19.856623Z",
     "iopub.status.idle": "2021-02-09T17:32:22.401744Z",
     "shell.execute_reply": "2021-02-09T17:32:22.402224Z"
    }
   },
   "outputs": [
    {
     "data": {
      "text/html": [
       "<style>\n",
       "\n",
       "div.warn {    \n",
       "    background-color: #fcf2f2;\n",
       "    border-color: #dFb5b4;\n",
       "    border-left: 5px solid #dfb5b4;\n",
       "    padding: 0.5em;\n",
       "    font-weight: bold;\n",
       "    font-size: 1.1em;;\n",
       "    }\n",
       "\n",
       "\n",
       "\n",
       "div.nota {    \n",
       "    background-color: #DAFFDE;\n",
       "    border-left: 5px solid #92CC99;\n",
       "    padding: 0.5em;\n",
       "    }\n",
       "\n",
       "div.todo:before { content:url(data:image/svg+xml;base64,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);\n",
       "    float:left;\n",
       "    margin-right:20px;\n",
       "    margin-top:-20px;\n",
       "    margin-bottom:20px;\n",
       "}\n",
       "div.todo{\n",
       "    font-weight: bold;\n",
       "    font-size: 1.1em;\n",
       "    margin-top:40px;\n",
       "}\n",
       "div.todo ul{\n",
       "    margin: 0.2em;\n",
       "}\n",
       "div.todo li{\n",
       "    margin-left:60px;\n",
       "    margin-top:0;\n",
       "    margin-bottom:0;\n",
       "}\n",
       "\n",
       "div .comment{\n",
       "    font-size:0.8em;\n",
       "    color:#696969;\n",
       "}\n",
       "\n",
       "\n",
       "\n",
       "</style>\n",
       "\n"
      ],
      "text/plain": [
       "<IPython.core.display.HTML object>"
      ]
     },
     "metadata": {},
     "output_type": "display_data"
    },
    {
     "data": {
      "text/markdown": [
       "<br>**FIDLE 2020 - Practical Work Module**"
      ],
      "text/plain": [
       "<IPython.core.display.Markdown object>"
      ]
     },
     "metadata": {},
     "output_type": "display_data"
    },
    {
     "name": "stdout",
     "output_type": "stream",
     "text": [
      "Version              : 2.0.12\n",
      "Notebook id          : BHPD2\n",
      "Run time             : Tuesday 09 February 2021, 18:32:22\n",
      "TensorFlow version   : 2.4.0\n",
      "Keras version        : 2.4.0\n",
      "Datasets dir         : /gpfswork/rech/mlh/uja62cb/datasets\n",
      "Run dir              : ./run\n",
      "Update keras cache   : False\n",
      "Save figs            : True\n",
      "Path figs            : ./run/figs\n"
     ]
    }
   ],
   "source": [
    "import tensorflow as tf\n",
    "from tensorflow import keras\n",
    "\n",
    "import numpy as np\n",
    "import matplotlib.pyplot as plt\n",
    "import pandas as pd\n",
    "import os,sys\n",
    "\n",
    "from IPython.display import Markdown\n",
    "from importlib import reload\n",
    "\n",
    "sys.path.append('..')\n",
    "import fidle.pwk as pwk\n",
    "\n",
    "datasets_dir = pwk.init('BHPD2')"
   ]
  },
  {
   "cell_type": "markdown",
   "metadata": {},
   "source": [
    "## Step 2 - Retrieve data\n",
    "\n",
    "### 2.1 - Option 1  : From Keras\n",
    "Boston housing is a famous historic dataset, so we can get it directly from [Keras datasets](https://www.tensorflow.org/api_docs/python/tf/keras/datasets)  "
   ]
  },
  {
   "cell_type": "code",
   "execution_count": 2,
   "metadata": {
    "execution": {
     "iopub.execute_input": "2021-02-09T17:32:22.405450Z",
     "iopub.status.busy": "2021-02-09T17:32:22.404994Z",
     "iopub.status.idle": "2021-02-09T17:32:22.406626Z",
     "shell.execute_reply": "2021-02-09T17:32:22.407087Z"
    }
   },
   "outputs": [],
   "source": [
    "# (x_train, y_train), (x_test, y_test) = keras.datasets.boston_housing.load_data(test_split=0.2, seed=113)"
   ]
  },
  {
   "cell_type": "markdown",
   "metadata": {},
   "source": [
    "### 2.2 - Option 2 : From a csv file\n",
    "More fun !"
   ]
  },
  {
   "cell_type": "code",
   "execution_count": 3,
   "metadata": {
    "execution": {
     "iopub.execute_input": "2021-02-09T17:32:22.411098Z",
     "iopub.status.busy": "2021-02-09T17:32:22.410451Z",
     "iopub.status.idle": "2021-02-09T17:32:22.501239Z",
     "shell.execute_reply": "2021-02-09T17:32:22.501721Z"
    }
   },
   "outputs": [
    {
     "data": {
      "text/html": [
       "<style  type=\"text/css\" >\n",
       "</style><table id=\"T_c46dcae2_6afc_11eb_bdd0_ac1f6bce6ef5\" ><thead>    <tr>        <th class=\"blank level0\" ></th>        <th class=\"col_heading level0 col0\" >crim</th>        <th class=\"col_heading level0 col1\" >zn</th>        <th class=\"col_heading level0 col2\" >indus</th>        <th class=\"col_heading level0 col3\" >chas</th>        <th class=\"col_heading level0 col4\" >nox</th>        <th class=\"col_heading level0 col5\" >rm</th>        <th class=\"col_heading level0 col6\" >age</th>        <th class=\"col_heading level0 col7\" >dis</th>        <th class=\"col_heading level0 col8\" >rad</th>        <th class=\"col_heading level0 col9\" >tax</th>        <th class=\"col_heading level0 col10\" >ptratio</th>        <th class=\"col_heading level0 col11\" >b</th>        <th class=\"col_heading level0 col12\" >lstat</th>        <th class=\"col_heading level0 col13\" >medv</th>    </tr></thead><tbody>\n",
       "                <tr>\n",
       "                        <th id=\"T_c46dcae2_6afc_11eb_bdd0_ac1f6bce6ef5level0_row0\" class=\"row_heading level0 row0\" >0</th>\n",
       "                        <td id=\"T_c46dcae2_6afc_11eb_bdd0_ac1f6bce6ef5row0_col0\" class=\"data row0 col0\" >0.01</td>\n",
       "                        <td id=\"T_c46dcae2_6afc_11eb_bdd0_ac1f6bce6ef5row0_col1\" class=\"data row0 col1\" >18.00</td>\n",
       "                        <td id=\"T_c46dcae2_6afc_11eb_bdd0_ac1f6bce6ef5row0_col2\" class=\"data row0 col2\" >2.31</td>\n",
       "                        <td id=\"T_c46dcae2_6afc_11eb_bdd0_ac1f6bce6ef5row0_col3\" class=\"data row0 col3\" >0.00</td>\n",
       "                        <td id=\"T_c46dcae2_6afc_11eb_bdd0_ac1f6bce6ef5row0_col4\" class=\"data row0 col4\" >0.54</td>\n",
       "                        <td id=\"T_c46dcae2_6afc_11eb_bdd0_ac1f6bce6ef5row0_col5\" class=\"data row0 col5\" >6.58</td>\n",
       "                        <td id=\"T_c46dcae2_6afc_11eb_bdd0_ac1f6bce6ef5row0_col6\" class=\"data row0 col6\" >65.20</td>\n",
       "                        <td id=\"T_c46dcae2_6afc_11eb_bdd0_ac1f6bce6ef5row0_col7\" class=\"data row0 col7\" >4.09</td>\n",
       "                        <td id=\"T_c46dcae2_6afc_11eb_bdd0_ac1f6bce6ef5row0_col8\" class=\"data row0 col8\" >1.00</td>\n",
       "                        <td id=\"T_c46dcae2_6afc_11eb_bdd0_ac1f6bce6ef5row0_col9\" class=\"data row0 col9\" >296.00</td>\n",
       "                        <td id=\"T_c46dcae2_6afc_11eb_bdd0_ac1f6bce6ef5row0_col10\" class=\"data row0 col10\" >15.30</td>\n",
       "                        <td id=\"T_c46dcae2_6afc_11eb_bdd0_ac1f6bce6ef5row0_col11\" class=\"data row0 col11\" >396.90</td>\n",
       "                        <td id=\"T_c46dcae2_6afc_11eb_bdd0_ac1f6bce6ef5row0_col12\" class=\"data row0 col12\" >4.98</td>\n",
       "                        <td id=\"T_c46dcae2_6afc_11eb_bdd0_ac1f6bce6ef5row0_col13\" class=\"data row0 col13\" >24.00</td>\n",
       "            </tr>\n",
       "            <tr>\n",
       "                        <th id=\"T_c46dcae2_6afc_11eb_bdd0_ac1f6bce6ef5level0_row1\" class=\"row_heading level0 row1\" >1</th>\n",
       "                        <td id=\"T_c46dcae2_6afc_11eb_bdd0_ac1f6bce6ef5row1_col0\" class=\"data row1 col0\" >0.03</td>\n",
       "                        <td id=\"T_c46dcae2_6afc_11eb_bdd0_ac1f6bce6ef5row1_col1\" class=\"data row1 col1\" >0.00</td>\n",
       "                        <td id=\"T_c46dcae2_6afc_11eb_bdd0_ac1f6bce6ef5row1_col2\" class=\"data row1 col2\" >7.07</td>\n",
       "                        <td id=\"T_c46dcae2_6afc_11eb_bdd0_ac1f6bce6ef5row1_col3\" class=\"data row1 col3\" >0.00</td>\n",
       "                        <td id=\"T_c46dcae2_6afc_11eb_bdd0_ac1f6bce6ef5row1_col4\" class=\"data row1 col4\" >0.47</td>\n",
       "                        <td id=\"T_c46dcae2_6afc_11eb_bdd0_ac1f6bce6ef5row1_col5\" class=\"data row1 col5\" >6.42</td>\n",
       "                        <td id=\"T_c46dcae2_6afc_11eb_bdd0_ac1f6bce6ef5row1_col6\" class=\"data row1 col6\" >78.90</td>\n",
       "                        <td id=\"T_c46dcae2_6afc_11eb_bdd0_ac1f6bce6ef5row1_col7\" class=\"data row1 col7\" >4.97</td>\n",
       "                        <td id=\"T_c46dcae2_6afc_11eb_bdd0_ac1f6bce6ef5row1_col8\" class=\"data row1 col8\" >2.00</td>\n",
       "                        <td id=\"T_c46dcae2_6afc_11eb_bdd0_ac1f6bce6ef5row1_col9\" class=\"data row1 col9\" >242.00</td>\n",
       "                        <td id=\"T_c46dcae2_6afc_11eb_bdd0_ac1f6bce6ef5row1_col10\" class=\"data row1 col10\" >17.80</td>\n",
       "                        <td id=\"T_c46dcae2_6afc_11eb_bdd0_ac1f6bce6ef5row1_col11\" class=\"data row1 col11\" >396.90</td>\n",
       "                        <td id=\"T_c46dcae2_6afc_11eb_bdd0_ac1f6bce6ef5row1_col12\" class=\"data row1 col12\" >9.14</td>\n",
       "                        <td id=\"T_c46dcae2_6afc_11eb_bdd0_ac1f6bce6ef5row1_col13\" class=\"data row1 col13\" >21.60</td>\n",
       "            </tr>\n",
       "            <tr>\n",
       "                        <th id=\"T_c46dcae2_6afc_11eb_bdd0_ac1f6bce6ef5level0_row2\" class=\"row_heading level0 row2\" >2</th>\n",
       "                        <td id=\"T_c46dcae2_6afc_11eb_bdd0_ac1f6bce6ef5row2_col0\" class=\"data row2 col0\" >0.03</td>\n",
       "                        <td id=\"T_c46dcae2_6afc_11eb_bdd0_ac1f6bce6ef5row2_col1\" class=\"data row2 col1\" >0.00</td>\n",
       "                        <td id=\"T_c46dcae2_6afc_11eb_bdd0_ac1f6bce6ef5row2_col2\" class=\"data row2 col2\" >7.07</td>\n",
       "                        <td id=\"T_c46dcae2_6afc_11eb_bdd0_ac1f6bce6ef5row2_col3\" class=\"data row2 col3\" >0.00</td>\n",
       "                        <td id=\"T_c46dcae2_6afc_11eb_bdd0_ac1f6bce6ef5row2_col4\" class=\"data row2 col4\" >0.47</td>\n",
       "                        <td id=\"T_c46dcae2_6afc_11eb_bdd0_ac1f6bce6ef5row2_col5\" class=\"data row2 col5\" >7.18</td>\n",
       "                        <td id=\"T_c46dcae2_6afc_11eb_bdd0_ac1f6bce6ef5row2_col6\" class=\"data row2 col6\" >61.10</td>\n",
       "                        <td id=\"T_c46dcae2_6afc_11eb_bdd0_ac1f6bce6ef5row2_col7\" class=\"data row2 col7\" >4.97</td>\n",
       "                        <td id=\"T_c46dcae2_6afc_11eb_bdd0_ac1f6bce6ef5row2_col8\" class=\"data row2 col8\" >2.00</td>\n",
       "                        <td id=\"T_c46dcae2_6afc_11eb_bdd0_ac1f6bce6ef5row2_col9\" class=\"data row2 col9\" >242.00</td>\n",
       "                        <td id=\"T_c46dcae2_6afc_11eb_bdd0_ac1f6bce6ef5row2_col10\" class=\"data row2 col10\" >17.80</td>\n",
       "                        <td id=\"T_c46dcae2_6afc_11eb_bdd0_ac1f6bce6ef5row2_col11\" class=\"data row2 col11\" >392.83</td>\n",
       "                        <td id=\"T_c46dcae2_6afc_11eb_bdd0_ac1f6bce6ef5row2_col12\" class=\"data row2 col12\" >4.03</td>\n",
       "                        <td id=\"T_c46dcae2_6afc_11eb_bdd0_ac1f6bce6ef5row2_col13\" class=\"data row2 col13\" >34.70</td>\n",
       "            </tr>\n",
       "            <tr>\n",
       "                        <th id=\"T_c46dcae2_6afc_11eb_bdd0_ac1f6bce6ef5level0_row3\" class=\"row_heading level0 row3\" >3</th>\n",
       "                        <td id=\"T_c46dcae2_6afc_11eb_bdd0_ac1f6bce6ef5row3_col0\" class=\"data row3 col0\" >0.03</td>\n",
       "                        <td id=\"T_c46dcae2_6afc_11eb_bdd0_ac1f6bce6ef5row3_col1\" class=\"data row3 col1\" >0.00</td>\n",
       "                        <td id=\"T_c46dcae2_6afc_11eb_bdd0_ac1f6bce6ef5row3_col2\" class=\"data row3 col2\" >2.18</td>\n",
       "                        <td id=\"T_c46dcae2_6afc_11eb_bdd0_ac1f6bce6ef5row3_col3\" class=\"data row3 col3\" >0.00</td>\n",
       "                        <td id=\"T_c46dcae2_6afc_11eb_bdd0_ac1f6bce6ef5row3_col4\" class=\"data row3 col4\" >0.46</td>\n",
       "                        <td id=\"T_c46dcae2_6afc_11eb_bdd0_ac1f6bce6ef5row3_col5\" class=\"data row3 col5\" >7.00</td>\n",
       "                        <td id=\"T_c46dcae2_6afc_11eb_bdd0_ac1f6bce6ef5row3_col6\" class=\"data row3 col6\" >45.80</td>\n",
       "                        <td id=\"T_c46dcae2_6afc_11eb_bdd0_ac1f6bce6ef5row3_col7\" class=\"data row3 col7\" >6.06</td>\n",
       "                        <td id=\"T_c46dcae2_6afc_11eb_bdd0_ac1f6bce6ef5row3_col8\" class=\"data row3 col8\" >3.00</td>\n",
       "                        <td id=\"T_c46dcae2_6afc_11eb_bdd0_ac1f6bce6ef5row3_col9\" class=\"data row3 col9\" >222.00</td>\n",
       "                        <td id=\"T_c46dcae2_6afc_11eb_bdd0_ac1f6bce6ef5row3_col10\" class=\"data row3 col10\" >18.70</td>\n",
       "                        <td id=\"T_c46dcae2_6afc_11eb_bdd0_ac1f6bce6ef5row3_col11\" class=\"data row3 col11\" >394.63</td>\n",
       "                        <td id=\"T_c46dcae2_6afc_11eb_bdd0_ac1f6bce6ef5row3_col12\" class=\"data row3 col12\" >2.94</td>\n",
       "                        <td id=\"T_c46dcae2_6afc_11eb_bdd0_ac1f6bce6ef5row3_col13\" class=\"data row3 col13\" >33.40</td>\n",
       "            </tr>\n",
       "            <tr>\n",
       "                        <th id=\"T_c46dcae2_6afc_11eb_bdd0_ac1f6bce6ef5level0_row4\" class=\"row_heading level0 row4\" >4</th>\n",
       "                        <td id=\"T_c46dcae2_6afc_11eb_bdd0_ac1f6bce6ef5row4_col0\" class=\"data row4 col0\" >0.07</td>\n",
       "                        <td id=\"T_c46dcae2_6afc_11eb_bdd0_ac1f6bce6ef5row4_col1\" class=\"data row4 col1\" >0.00</td>\n",
       "                        <td id=\"T_c46dcae2_6afc_11eb_bdd0_ac1f6bce6ef5row4_col2\" class=\"data row4 col2\" >2.18</td>\n",
       "                        <td id=\"T_c46dcae2_6afc_11eb_bdd0_ac1f6bce6ef5row4_col3\" class=\"data row4 col3\" >0.00</td>\n",
       "                        <td id=\"T_c46dcae2_6afc_11eb_bdd0_ac1f6bce6ef5row4_col4\" class=\"data row4 col4\" >0.46</td>\n",
       "                        <td id=\"T_c46dcae2_6afc_11eb_bdd0_ac1f6bce6ef5row4_col5\" class=\"data row4 col5\" >7.15</td>\n",
       "                        <td id=\"T_c46dcae2_6afc_11eb_bdd0_ac1f6bce6ef5row4_col6\" class=\"data row4 col6\" >54.20</td>\n",
       "                        <td id=\"T_c46dcae2_6afc_11eb_bdd0_ac1f6bce6ef5row4_col7\" class=\"data row4 col7\" >6.06</td>\n",
       "                        <td id=\"T_c46dcae2_6afc_11eb_bdd0_ac1f6bce6ef5row4_col8\" class=\"data row4 col8\" >3.00</td>\n",
       "                        <td id=\"T_c46dcae2_6afc_11eb_bdd0_ac1f6bce6ef5row4_col9\" class=\"data row4 col9\" >222.00</td>\n",
       "                        <td id=\"T_c46dcae2_6afc_11eb_bdd0_ac1f6bce6ef5row4_col10\" class=\"data row4 col10\" >18.70</td>\n",
       "                        <td id=\"T_c46dcae2_6afc_11eb_bdd0_ac1f6bce6ef5row4_col11\" class=\"data row4 col11\" >396.90</td>\n",
       "                        <td id=\"T_c46dcae2_6afc_11eb_bdd0_ac1f6bce6ef5row4_col12\" class=\"data row4 col12\" >5.33</td>\n",
       "                        <td id=\"T_c46dcae2_6afc_11eb_bdd0_ac1f6bce6ef5row4_col13\" class=\"data row4 col13\" >36.20</td>\n",
       "            </tr>\n",
       "    </tbody></table>"
      ],
      "text/plain": [
       "<pandas.io.formats.style.Styler at 0x150eae8d25d0>"
      ]
     },
     "metadata": {},
     "output_type": "display_data"
    },
    {
     "name": "stdout",
     "output_type": "stream",
     "text": [
      "Missing Data :  0   Shape is :  (506, 14)\n"
     ]
    }
   ],
   "source": [
    "data = pd.read_csv(f'{datasets_dir}/BHPD/origine/BostonHousing.csv', header=0)\n",
    "\n",
    "display(data.head(5).style.format(\"{0:.2f}\"))\n",
    "print('Missing Data : ',data.isna().sum().sum(), '  Shape is : ', data.shape)"
   ]
  },
  {
   "cell_type": "markdown",
   "metadata": {},
   "source": [
    "## Step 3 - Preparing the data\n",
    "### 3.1 - Split data\n",
    "We will use 80% of the data for training and 20% for validation.  \n",
    "x will be input data and y the expected output"
   ]
  },
  {
   "cell_type": "code",
   "execution_count": 4,
   "metadata": {
    "execution": {
     "iopub.execute_input": "2021-02-09T17:32:22.510059Z",
     "iopub.status.busy": "2021-02-09T17:32:22.507482Z",
     "iopub.status.idle": "2021-02-09T17:32:22.512692Z",
     "shell.execute_reply": "2021-02-09T17:32:22.513160Z"
    }
   },
   "outputs": [
    {
     "name": "stdout",
     "output_type": "stream",
     "text": [
      "Original data shape was :  (506, 14)\n",
      "x_train :  (354, 13) y_train :  (354,)\n",
      "x_test  :  (152, 13) y_test  :  (152,)\n"
     ]
    }
   ],
   "source": [
    "# ---- Split => train, test\n",
    "#\n",
    "data_train = data.sample(frac=0.7, axis=0)\n",
    "data_test  = data.drop(data_train.index)\n",
    "\n",
    "# ---- Split => x,y (medv is price)\n",
    "#\n",
    "x_train = data_train.drop('medv',  axis=1)\n",
    "y_train = data_train['medv']\n",
    "x_test  = data_test.drop('medv',   axis=1)\n",
    "y_test  = data_test['medv']\n",
    "\n",
    "print('Original data shape was : ',data.shape)\n",
    "print('x_train : ',x_train.shape, 'y_train : ',y_train.shape)\n",
    "print('x_test  : ',x_test.shape,  'y_test  : ',y_test.shape)"
   ]
  },
  {
   "cell_type": "markdown",
   "metadata": {},
   "source": [
    "### 3.2 - Data normalization\n",
    "**Note :** \n",
    " - All input data must be normalized, train and test.  \n",
    " - To do this we will subtract the mean and divide by the standard deviation.  \n",
    " - But test data should not be used in any way, even for normalization.  \n",
    " - The mean and the standard deviation will therefore only be calculated with the train data."
   ]
  },
  {
   "cell_type": "code",
   "execution_count": 5,
   "metadata": {
    "execution": {
     "iopub.execute_input": "2021-02-09T17:32:22.524911Z",
     "iopub.status.busy": "2021-02-09T17:32:22.517306Z",
     "iopub.status.idle": "2021-02-09T17:32:22.600855Z",
     "shell.execute_reply": "2021-02-09T17:32:22.601328Z"
    }
   },
   "outputs": [
    {
     "data": {
      "text/html": [
       "<style  type=\"text/css\" >\n",
       "</style><table id=\"T_c4785cda_6afc_11eb_a4c5_ac1f6bce6ef5\" ><caption>Before normalization :</caption><thead>    <tr>        <th class=\"blank level0\" ></th>        <th class=\"col_heading level0 col0\" >crim</th>        <th class=\"col_heading level0 col1\" >zn</th>        <th class=\"col_heading level0 col2\" >indus</th>        <th class=\"col_heading level0 col3\" >chas</th>        <th class=\"col_heading level0 col4\" >nox</th>        <th class=\"col_heading level0 col5\" >rm</th>        <th class=\"col_heading level0 col6\" >age</th>        <th class=\"col_heading level0 col7\" >dis</th>        <th class=\"col_heading level0 col8\" >rad</th>        <th class=\"col_heading level0 col9\" >tax</th>        <th class=\"col_heading level0 col10\" >ptratio</th>        <th class=\"col_heading level0 col11\" >b</th>        <th class=\"col_heading level0 col12\" >lstat</th>    </tr></thead><tbody>\n",
       "                <tr>\n",
       "                        <th id=\"T_c4785cda_6afc_11eb_a4c5_ac1f6bce6ef5level0_row0\" class=\"row_heading level0 row0\" >count</th>\n",
       "                        <td id=\"T_c4785cda_6afc_11eb_a4c5_ac1f6bce6ef5row0_col0\" class=\"data row0 col0\" >354.00</td>\n",
       "                        <td id=\"T_c4785cda_6afc_11eb_a4c5_ac1f6bce6ef5row0_col1\" class=\"data row0 col1\" >354.00</td>\n",
       "                        <td id=\"T_c4785cda_6afc_11eb_a4c5_ac1f6bce6ef5row0_col2\" class=\"data row0 col2\" >354.00</td>\n",
       "                        <td id=\"T_c4785cda_6afc_11eb_a4c5_ac1f6bce6ef5row0_col3\" class=\"data row0 col3\" >354.00</td>\n",
       "                        <td id=\"T_c4785cda_6afc_11eb_a4c5_ac1f6bce6ef5row0_col4\" class=\"data row0 col4\" >354.00</td>\n",
       "                        <td id=\"T_c4785cda_6afc_11eb_a4c5_ac1f6bce6ef5row0_col5\" class=\"data row0 col5\" >354.00</td>\n",
       "                        <td id=\"T_c4785cda_6afc_11eb_a4c5_ac1f6bce6ef5row0_col6\" class=\"data row0 col6\" >354.00</td>\n",
       "                        <td id=\"T_c4785cda_6afc_11eb_a4c5_ac1f6bce6ef5row0_col7\" class=\"data row0 col7\" >354.00</td>\n",
       "                        <td id=\"T_c4785cda_6afc_11eb_a4c5_ac1f6bce6ef5row0_col8\" class=\"data row0 col8\" >354.00</td>\n",
       "                        <td id=\"T_c4785cda_6afc_11eb_a4c5_ac1f6bce6ef5row0_col9\" class=\"data row0 col9\" >354.00</td>\n",
       "                        <td id=\"T_c4785cda_6afc_11eb_a4c5_ac1f6bce6ef5row0_col10\" class=\"data row0 col10\" >354.00</td>\n",
       "                        <td id=\"T_c4785cda_6afc_11eb_a4c5_ac1f6bce6ef5row0_col11\" class=\"data row0 col11\" >354.00</td>\n",
       "                        <td id=\"T_c4785cda_6afc_11eb_a4c5_ac1f6bce6ef5row0_col12\" class=\"data row0 col12\" >354.00</td>\n",
       "            </tr>\n",
       "            <tr>\n",
       "                        <th id=\"T_c4785cda_6afc_11eb_a4c5_ac1f6bce6ef5level0_row1\" class=\"row_heading level0 row1\" >mean</th>\n",
       "                        <td id=\"T_c4785cda_6afc_11eb_a4c5_ac1f6bce6ef5row1_col0\" class=\"data row1 col0\" >3.71</td>\n",
       "                        <td id=\"T_c4785cda_6afc_11eb_a4c5_ac1f6bce6ef5row1_col1\" class=\"data row1 col1\" >10.06</td>\n",
       "                        <td id=\"T_c4785cda_6afc_11eb_a4c5_ac1f6bce6ef5row1_col2\" class=\"data row1 col2\" >11.32</td>\n",
       "                        <td id=\"T_c4785cda_6afc_11eb_a4c5_ac1f6bce6ef5row1_col3\" class=\"data row1 col3\" >0.06</td>\n",
       "                        <td id=\"T_c4785cda_6afc_11eb_a4c5_ac1f6bce6ef5row1_col4\" class=\"data row1 col4\" >0.55</td>\n",
       "                        <td id=\"T_c4785cda_6afc_11eb_a4c5_ac1f6bce6ef5row1_col5\" class=\"data row1 col5\" >6.28</td>\n",
       "                        <td id=\"T_c4785cda_6afc_11eb_a4c5_ac1f6bce6ef5row1_col6\" class=\"data row1 col6\" >68.75</td>\n",
       "                        <td id=\"T_c4785cda_6afc_11eb_a4c5_ac1f6bce6ef5row1_col7\" class=\"data row1 col7\" >3.75</td>\n",
       "                        <td id=\"T_c4785cda_6afc_11eb_a4c5_ac1f6bce6ef5row1_col8\" class=\"data row1 col8\" >9.66</td>\n",
       "                        <td id=\"T_c4785cda_6afc_11eb_a4c5_ac1f6bce6ef5row1_col9\" class=\"data row1 col9\" >409.98</td>\n",
       "                        <td id=\"T_c4785cda_6afc_11eb_a4c5_ac1f6bce6ef5row1_col10\" class=\"data row1 col10\" >18.57</td>\n",
       "                        <td id=\"T_c4785cda_6afc_11eb_a4c5_ac1f6bce6ef5row1_col11\" class=\"data row1 col11\" >359.04</td>\n",
       "                        <td id=\"T_c4785cda_6afc_11eb_a4c5_ac1f6bce6ef5row1_col12\" class=\"data row1 col12\" >12.59</td>\n",
       "            </tr>\n",
       "            <tr>\n",
       "                        <th id=\"T_c4785cda_6afc_11eb_a4c5_ac1f6bce6ef5level0_row2\" class=\"row_heading level0 row2\" >std</th>\n",
       "                        <td id=\"T_c4785cda_6afc_11eb_a4c5_ac1f6bce6ef5row2_col0\" class=\"data row2 col0\" >9.21</td>\n",
       "                        <td id=\"T_c4785cda_6afc_11eb_a4c5_ac1f6bce6ef5row2_col1\" class=\"data row2 col1\" >22.07</td>\n",
       "                        <td id=\"T_c4785cda_6afc_11eb_a4c5_ac1f6bce6ef5row2_col2\" class=\"data row2 col2\" >6.87</td>\n",
       "                        <td id=\"T_c4785cda_6afc_11eb_a4c5_ac1f6bce6ef5row2_col3\" class=\"data row2 col3\" >0.24</td>\n",
       "                        <td id=\"T_c4785cda_6afc_11eb_a4c5_ac1f6bce6ef5row2_col4\" class=\"data row2 col4\" >0.11</td>\n",
       "                        <td id=\"T_c4785cda_6afc_11eb_a4c5_ac1f6bce6ef5row2_col5\" class=\"data row2 col5\" >0.71</td>\n",
       "                        <td id=\"T_c4785cda_6afc_11eb_a4c5_ac1f6bce6ef5row2_col6\" class=\"data row2 col6\" >27.93</td>\n",
       "                        <td id=\"T_c4785cda_6afc_11eb_a4c5_ac1f6bce6ef5row2_col7\" class=\"data row2 col7\" >2.05</td>\n",
       "                        <td id=\"T_c4785cda_6afc_11eb_a4c5_ac1f6bce6ef5row2_col8\" class=\"data row2 col8\" >8.81</td>\n",
       "                        <td id=\"T_c4785cda_6afc_11eb_a4c5_ac1f6bce6ef5row2_col9\" class=\"data row2 col9\" >171.70</td>\n",
       "                        <td id=\"T_c4785cda_6afc_11eb_a4c5_ac1f6bce6ef5row2_col10\" class=\"data row2 col10\" >2.13</td>\n",
       "                        <td id=\"T_c4785cda_6afc_11eb_a4c5_ac1f6bce6ef5row2_col11\" class=\"data row2 col11\" >88.47</td>\n",
       "                        <td id=\"T_c4785cda_6afc_11eb_a4c5_ac1f6bce6ef5row2_col12\" class=\"data row2 col12\" >7.11</td>\n",
       "            </tr>\n",
       "            <tr>\n",
       "                        <th id=\"T_c4785cda_6afc_11eb_a4c5_ac1f6bce6ef5level0_row3\" class=\"row_heading level0 row3\" >min</th>\n",
       "                        <td id=\"T_c4785cda_6afc_11eb_a4c5_ac1f6bce6ef5row3_col0\" class=\"data row3 col0\" >0.01</td>\n",
       "                        <td id=\"T_c4785cda_6afc_11eb_a4c5_ac1f6bce6ef5row3_col1\" class=\"data row3 col1\" >0.00</td>\n",
       "                        <td id=\"T_c4785cda_6afc_11eb_a4c5_ac1f6bce6ef5row3_col2\" class=\"data row3 col2\" >1.21</td>\n",
       "                        <td id=\"T_c4785cda_6afc_11eb_a4c5_ac1f6bce6ef5row3_col3\" class=\"data row3 col3\" >0.00</td>\n",
       "                        <td id=\"T_c4785cda_6afc_11eb_a4c5_ac1f6bce6ef5row3_col4\" class=\"data row3 col4\" >0.39</td>\n",
       "                        <td id=\"T_c4785cda_6afc_11eb_a4c5_ac1f6bce6ef5row3_col5\" class=\"data row3 col5\" >3.56</td>\n",
       "                        <td id=\"T_c4785cda_6afc_11eb_a4c5_ac1f6bce6ef5row3_col6\" class=\"data row3 col6\" >6.20</td>\n",
       "                        <td id=\"T_c4785cda_6afc_11eb_a4c5_ac1f6bce6ef5row3_col7\" class=\"data row3 col7\" >1.13</td>\n",
       "                        <td id=\"T_c4785cda_6afc_11eb_a4c5_ac1f6bce6ef5row3_col8\" class=\"data row3 col8\" >1.00</td>\n",
       "                        <td id=\"T_c4785cda_6afc_11eb_a4c5_ac1f6bce6ef5row3_col9\" class=\"data row3 col9\" >187.00</td>\n",
       "                        <td id=\"T_c4785cda_6afc_11eb_a4c5_ac1f6bce6ef5row3_col10\" class=\"data row3 col10\" >12.60</td>\n",
       "                        <td id=\"T_c4785cda_6afc_11eb_a4c5_ac1f6bce6ef5row3_col11\" class=\"data row3 col11\" >2.52</td>\n",
       "                        <td id=\"T_c4785cda_6afc_11eb_a4c5_ac1f6bce6ef5row3_col12\" class=\"data row3 col12\" >1.73</td>\n",
       "            </tr>\n",
       "            <tr>\n",
       "                        <th id=\"T_c4785cda_6afc_11eb_a4c5_ac1f6bce6ef5level0_row4\" class=\"row_heading level0 row4\" >25%</th>\n",
       "                        <td id=\"T_c4785cda_6afc_11eb_a4c5_ac1f6bce6ef5row4_col0\" class=\"data row4 col0\" >0.09</td>\n",
       "                        <td id=\"T_c4785cda_6afc_11eb_a4c5_ac1f6bce6ef5row4_col1\" class=\"data row4 col1\" >0.00</td>\n",
       "                        <td id=\"T_c4785cda_6afc_11eb_a4c5_ac1f6bce6ef5row4_col2\" class=\"data row4 col2\" >5.19</td>\n",
       "                        <td id=\"T_c4785cda_6afc_11eb_a4c5_ac1f6bce6ef5row4_col3\" class=\"data row4 col3\" >0.00</td>\n",
       "                        <td id=\"T_c4785cda_6afc_11eb_a4c5_ac1f6bce6ef5row4_col4\" class=\"data row4 col4\" >0.45</td>\n",
       "                        <td id=\"T_c4785cda_6afc_11eb_a4c5_ac1f6bce6ef5row4_col5\" class=\"data row4 col5\" >5.89</td>\n",
       "                        <td id=\"T_c4785cda_6afc_11eb_a4c5_ac1f6bce6ef5row4_col6\" class=\"data row4 col6\" >45.02</td>\n",
       "                        <td id=\"T_c4785cda_6afc_11eb_a4c5_ac1f6bce6ef5row4_col7\" class=\"data row4 col7\" >2.11</td>\n",
       "                        <td id=\"T_c4785cda_6afc_11eb_a4c5_ac1f6bce6ef5row4_col8\" class=\"data row4 col8\" >4.00</td>\n",
       "                        <td id=\"T_c4785cda_6afc_11eb_a4c5_ac1f6bce6ef5row4_col9\" class=\"data row4 col9\" >279.00</td>\n",
       "                        <td id=\"T_c4785cda_6afc_11eb_a4c5_ac1f6bce6ef5row4_col10\" class=\"data row4 col10\" >17.40</td>\n",
       "                        <td id=\"T_c4785cda_6afc_11eb_a4c5_ac1f6bce6ef5row4_col11\" class=\"data row4 col11\" >375.93</td>\n",
       "                        <td id=\"T_c4785cda_6afc_11eb_a4c5_ac1f6bce6ef5row4_col12\" class=\"data row4 col12\" >7.12</td>\n",
       "            </tr>\n",
       "            <tr>\n",
       "                        <th id=\"T_c4785cda_6afc_11eb_a4c5_ac1f6bce6ef5level0_row5\" class=\"row_heading level0 row5\" >50%</th>\n",
       "                        <td id=\"T_c4785cda_6afc_11eb_a4c5_ac1f6bce6ef5row5_col0\" class=\"data row5 col0\" >0.29</td>\n",
       "                        <td id=\"T_c4785cda_6afc_11eb_a4c5_ac1f6bce6ef5row5_col1\" class=\"data row5 col1\" >0.00</td>\n",
       "                        <td id=\"T_c4785cda_6afc_11eb_a4c5_ac1f6bce6ef5row5_col2\" class=\"data row5 col2\" >9.69</td>\n",
       "                        <td id=\"T_c4785cda_6afc_11eb_a4c5_ac1f6bce6ef5row5_col3\" class=\"data row5 col3\" >0.00</td>\n",
       "                        <td id=\"T_c4785cda_6afc_11eb_a4c5_ac1f6bce6ef5row5_col4\" class=\"data row5 col4\" >0.54</td>\n",
       "                        <td id=\"T_c4785cda_6afc_11eb_a4c5_ac1f6bce6ef5row5_col5\" class=\"data row5 col5\" >6.17</td>\n",
       "                        <td id=\"T_c4785cda_6afc_11eb_a4c5_ac1f6bce6ef5row5_col6\" class=\"data row5 col6\" >76.70</td>\n",
       "                        <td id=\"T_c4785cda_6afc_11eb_a4c5_ac1f6bce6ef5row5_col7\" class=\"data row5 col7\" >3.21</td>\n",
       "                        <td id=\"T_c4785cda_6afc_11eb_a4c5_ac1f6bce6ef5row5_col8\" class=\"data row5 col8\" >5.00</td>\n",
       "                        <td id=\"T_c4785cda_6afc_11eb_a4c5_ac1f6bce6ef5row5_col9\" class=\"data row5 col9\" >329.00</td>\n",
       "                        <td id=\"T_c4785cda_6afc_11eb_a4c5_ac1f6bce6ef5row5_col10\" class=\"data row5 col10\" >19.20</td>\n",
       "                        <td id=\"T_c4785cda_6afc_11eb_a4c5_ac1f6bce6ef5row5_col11\" class=\"data row5 col11\" >391.64</td>\n",
       "                        <td id=\"T_c4785cda_6afc_11eb_a4c5_ac1f6bce6ef5row5_col12\" class=\"data row5 col12\" >11.31</td>\n",
       "            </tr>\n",
       "            <tr>\n",
       "                        <th id=\"T_c4785cda_6afc_11eb_a4c5_ac1f6bce6ef5level0_row6\" class=\"row_heading level0 row6\" >75%</th>\n",
       "                        <td id=\"T_c4785cda_6afc_11eb_a4c5_ac1f6bce6ef5row6_col0\" class=\"data row6 col0\" >3.69</td>\n",
       "                        <td id=\"T_c4785cda_6afc_11eb_a4c5_ac1f6bce6ef5row6_col1\" class=\"data row6 col1\" >0.00</td>\n",
       "                        <td id=\"T_c4785cda_6afc_11eb_a4c5_ac1f6bce6ef5row6_col2\" class=\"data row6 col2\" >18.10</td>\n",
       "                        <td id=\"T_c4785cda_6afc_11eb_a4c5_ac1f6bce6ef5row6_col3\" class=\"data row6 col3\" >0.00</td>\n",
       "                        <td id=\"T_c4785cda_6afc_11eb_a4c5_ac1f6bce6ef5row6_col4\" class=\"data row6 col4\" >0.62</td>\n",
       "                        <td id=\"T_c4785cda_6afc_11eb_a4c5_ac1f6bce6ef5row6_col5\" class=\"data row6 col5\" >6.61</td>\n",
       "                        <td id=\"T_c4785cda_6afc_11eb_a4c5_ac1f6bce6ef5row6_col6\" class=\"data row6 col6\" >94.10</td>\n",
       "                        <td id=\"T_c4785cda_6afc_11eb_a4c5_ac1f6bce6ef5row6_col7\" class=\"data row6 col7\" >5.11</td>\n",
       "                        <td id=\"T_c4785cda_6afc_11eb_a4c5_ac1f6bce6ef5row6_col8\" class=\"data row6 col8\" >24.00</td>\n",
       "                        <td id=\"T_c4785cda_6afc_11eb_a4c5_ac1f6bce6ef5row6_col9\" class=\"data row6 col9\" >666.00</td>\n",
       "                        <td id=\"T_c4785cda_6afc_11eb_a4c5_ac1f6bce6ef5row6_col10\" class=\"data row6 col10\" >20.20</td>\n",
       "                        <td id=\"T_c4785cda_6afc_11eb_a4c5_ac1f6bce6ef5row6_col11\" class=\"data row6 col11\" >396.32</td>\n",
       "                        <td id=\"T_c4785cda_6afc_11eb_a4c5_ac1f6bce6ef5row6_col12\" class=\"data row6 col12\" >16.96</td>\n",
       "            </tr>\n",
       "            <tr>\n",
       "                        <th id=\"T_c4785cda_6afc_11eb_a4c5_ac1f6bce6ef5level0_row7\" class=\"row_heading level0 row7\" >max</th>\n",
       "                        <td id=\"T_c4785cda_6afc_11eb_a4c5_ac1f6bce6ef5row7_col0\" class=\"data row7 col0\" >88.98</td>\n",
       "                        <td id=\"T_c4785cda_6afc_11eb_a4c5_ac1f6bce6ef5row7_col1\" class=\"data row7 col1\" >100.00</td>\n",
       "                        <td id=\"T_c4785cda_6afc_11eb_a4c5_ac1f6bce6ef5row7_col2\" class=\"data row7 col2\" >27.74</td>\n",
       "                        <td id=\"T_c4785cda_6afc_11eb_a4c5_ac1f6bce6ef5row7_col3\" class=\"data row7 col3\" >1.00</td>\n",
       "                        <td id=\"T_c4785cda_6afc_11eb_a4c5_ac1f6bce6ef5row7_col4\" class=\"data row7 col4\" >0.87</td>\n",
       "                        <td id=\"T_c4785cda_6afc_11eb_a4c5_ac1f6bce6ef5row7_col5\" class=\"data row7 col5\" >8.78</td>\n",
       "                        <td id=\"T_c4785cda_6afc_11eb_a4c5_ac1f6bce6ef5row7_col6\" class=\"data row7 col6\" >100.00</td>\n",
       "                        <td id=\"T_c4785cda_6afc_11eb_a4c5_ac1f6bce6ef5row7_col7\" class=\"data row7 col7\" >12.13</td>\n",
       "                        <td id=\"T_c4785cda_6afc_11eb_a4c5_ac1f6bce6ef5row7_col8\" class=\"data row7 col8\" >24.00</td>\n",
       "                        <td id=\"T_c4785cda_6afc_11eb_a4c5_ac1f6bce6ef5row7_col9\" class=\"data row7 col9\" >711.00</td>\n",
       "                        <td id=\"T_c4785cda_6afc_11eb_a4c5_ac1f6bce6ef5row7_col10\" class=\"data row7 col10\" >22.00</td>\n",
       "                        <td id=\"T_c4785cda_6afc_11eb_a4c5_ac1f6bce6ef5row7_col11\" class=\"data row7 col11\" >396.90</td>\n",
       "                        <td id=\"T_c4785cda_6afc_11eb_a4c5_ac1f6bce6ef5row7_col12\" class=\"data row7 col12\" >37.97</td>\n",
       "            </tr>\n",
       "    </tbody></table>"
      ],
      "text/plain": [
       "<pandas.io.formats.style.Styler at 0x150e403875d0>"
      ]
     },
     "metadata": {},
     "output_type": "display_data"
    },
    {
     "data": {
      "text/html": [
       "<style  type=\"text/css\" >\n",
       "</style><table id=\"T_c47f5ac8_6afc_11eb_9c90_ac1f6bce6ef5\" ><caption>After normalization :</caption><thead>    <tr>        <th class=\"blank level0\" ></th>        <th class=\"col_heading level0 col0\" >crim</th>        <th class=\"col_heading level0 col1\" >zn</th>        <th class=\"col_heading level0 col2\" >indus</th>        <th class=\"col_heading level0 col3\" >chas</th>        <th class=\"col_heading level0 col4\" >nox</th>        <th class=\"col_heading level0 col5\" >rm</th>        <th class=\"col_heading level0 col6\" >age</th>        <th class=\"col_heading level0 col7\" >dis</th>        <th class=\"col_heading level0 col8\" >rad</th>        <th class=\"col_heading level0 col9\" >tax</th>        <th class=\"col_heading level0 col10\" >ptratio</th>        <th class=\"col_heading level0 col11\" >b</th>        <th class=\"col_heading level0 col12\" >lstat</th>    </tr></thead><tbody>\n",
       "                <tr>\n",
       "                        <th id=\"T_c47f5ac8_6afc_11eb_9c90_ac1f6bce6ef5level0_row0\" class=\"row_heading level0 row0\" >count</th>\n",
       "                        <td id=\"T_c47f5ac8_6afc_11eb_9c90_ac1f6bce6ef5row0_col0\" class=\"data row0 col0\" >354.00</td>\n",
       "                        <td id=\"T_c47f5ac8_6afc_11eb_9c90_ac1f6bce6ef5row0_col1\" class=\"data row0 col1\" >354.00</td>\n",
       "                        <td id=\"T_c47f5ac8_6afc_11eb_9c90_ac1f6bce6ef5row0_col2\" class=\"data row0 col2\" >354.00</td>\n",
       "                        <td id=\"T_c47f5ac8_6afc_11eb_9c90_ac1f6bce6ef5row0_col3\" class=\"data row0 col3\" >354.00</td>\n",
       "                        <td id=\"T_c47f5ac8_6afc_11eb_9c90_ac1f6bce6ef5row0_col4\" class=\"data row0 col4\" >354.00</td>\n",
       "                        <td id=\"T_c47f5ac8_6afc_11eb_9c90_ac1f6bce6ef5row0_col5\" class=\"data row0 col5\" >354.00</td>\n",
       "                        <td id=\"T_c47f5ac8_6afc_11eb_9c90_ac1f6bce6ef5row0_col6\" class=\"data row0 col6\" >354.00</td>\n",
       "                        <td id=\"T_c47f5ac8_6afc_11eb_9c90_ac1f6bce6ef5row0_col7\" class=\"data row0 col7\" >354.00</td>\n",
       "                        <td id=\"T_c47f5ac8_6afc_11eb_9c90_ac1f6bce6ef5row0_col8\" class=\"data row0 col8\" >354.00</td>\n",
       "                        <td id=\"T_c47f5ac8_6afc_11eb_9c90_ac1f6bce6ef5row0_col9\" class=\"data row0 col9\" >354.00</td>\n",
       "                        <td id=\"T_c47f5ac8_6afc_11eb_9c90_ac1f6bce6ef5row0_col10\" class=\"data row0 col10\" >354.00</td>\n",
       "                        <td id=\"T_c47f5ac8_6afc_11eb_9c90_ac1f6bce6ef5row0_col11\" class=\"data row0 col11\" >354.00</td>\n",
       "                        <td id=\"T_c47f5ac8_6afc_11eb_9c90_ac1f6bce6ef5row0_col12\" class=\"data row0 col12\" >354.00</td>\n",
       "            </tr>\n",
       "            <tr>\n",
       "                        <th id=\"T_c47f5ac8_6afc_11eb_9c90_ac1f6bce6ef5level0_row1\" class=\"row_heading level0 row1\" >mean</th>\n",
       "                        <td id=\"T_c47f5ac8_6afc_11eb_9c90_ac1f6bce6ef5row1_col0\" class=\"data row1 col0\" >0.00</td>\n",
       "                        <td id=\"T_c47f5ac8_6afc_11eb_9c90_ac1f6bce6ef5row1_col1\" class=\"data row1 col1\" >0.00</td>\n",
       "                        <td id=\"T_c47f5ac8_6afc_11eb_9c90_ac1f6bce6ef5row1_col2\" class=\"data row1 col2\" >0.00</td>\n",
       "                        <td id=\"T_c47f5ac8_6afc_11eb_9c90_ac1f6bce6ef5row1_col3\" class=\"data row1 col3\" >-0.00</td>\n",
       "                        <td id=\"T_c47f5ac8_6afc_11eb_9c90_ac1f6bce6ef5row1_col4\" class=\"data row1 col4\" >-0.00</td>\n",
       "                        <td id=\"T_c47f5ac8_6afc_11eb_9c90_ac1f6bce6ef5row1_col5\" class=\"data row1 col5\" >0.00</td>\n",
       "                        <td id=\"T_c47f5ac8_6afc_11eb_9c90_ac1f6bce6ef5row1_col6\" class=\"data row1 col6\" >0.00</td>\n",
       "                        <td id=\"T_c47f5ac8_6afc_11eb_9c90_ac1f6bce6ef5row1_col7\" class=\"data row1 col7\" >0.00</td>\n",
       "                        <td id=\"T_c47f5ac8_6afc_11eb_9c90_ac1f6bce6ef5row1_col8\" class=\"data row1 col8\" >0.00</td>\n",
       "                        <td id=\"T_c47f5ac8_6afc_11eb_9c90_ac1f6bce6ef5row1_col9\" class=\"data row1 col9\" >0.00</td>\n",
       "                        <td id=\"T_c47f5ac8_6afc_11eb_9c90_ac1f6bce6ef5row1_col10\" class=\"data row1 col10\" >0.00</td>\n",
       "                        <td id=\"T_c47f5ac8_6afc_11eb_9c90_ac1f6bce6ef5row1_col11\" class=\"data row1 col11\" >0.00</td>\n",
       "                        <td id=\"T_c47f5ac8_6afc_11eb_9c90_ac1f6bce6ef5row1_col12\" class=\"data row1 col12\" >-0.00</td>\n",
       "            </tr>\n",
       "            <tr>\n",
       "                        <th id=\"T_c47f5ac8_6afc_11eb_9c90_ac1f6bce6ef5level0_row2\" class=\"row_heading level0 row2\" >std</th>\n",
       "                        <td id=\"T_c47f5ac8_6afc_11eb_9c90_ac1f6bce6ef5row2_col0\" class=\"data row2 col0\" >1.00</td>\n",
       "                        <td id=\"T_c47f5ac8_6afc_11eb_9c90_ac1f6bce6ef5row2_col1\" class=\"data row2 col1\" >1.00</td>\n",
       "                        <td id=\"T_c47f5ac8_6afc_11eb_9c90_ac1f6bce6ef5row2_col2\" class=\"data row2 col2\" >1.00</td>\n",
       "                        <td id=\"T_c47f5ac8_6afc_11eb_9c90_ac1f6bce6ef5row2_col3\" class=\"data row2 col3\" >1.00</td>\n",
       "                        <td id=\"T_c47f5ac8_6afc_11eb_9c90_ac1f6bce6ef5row2_col4\" class=\"data row2 col4\" >1.00</td>\n",
       "                        <td id=\"T_c47f5ac8_6afc_11eb_9c90_ac1f6bce6ef5row2_col5\" class=\"data row2 col5\" >1.00</td>\n",
       "                        <td id=\"T_c47f5ac8_6afc_11eb_9c90_ac1f6bce6ef5row2_col6\" class=\"data row2 col6\" >1.00</td>\n",
       "                        <td id=\"T_c47f5ac8_6afc_11eb_9c90_ac1f6bce6ef5row2_col7\" class=\"data row2 col7\" >1.00</td>\n",
       "                        <td id=\"T_c47f5ac8_6afc_11eb_9c90_ac1f6bce6ef5row2_col8\" class=\"data row2 col8\" >1.00</td>\n",
       "                        <td id=\"T_c47f5ac8_6afc_11eb_9c90_ac1f6bce6ef5row2_col9\" class=\"data row2 col9\" >1.00</td>\n",
       "                        <td id=\"T_c47f5ac8_6afc_11eb_9c90_ac1f6bce6ef5row2_col10\" class=\"data row2 col10\" >1.00</td>\n",
       "                        <td id=\"T_c47f5ac8_6afc_11eb_9c90_ac1f6bce6ef5row2_col11\" class=\"data row2 col11\" >1.00</td>\n",
       "                        <td id=\"T_c47f5ac8_6afc_11eb_9c90_ac1f6bce6ef5row2_col12\" class=\"data row2 col12\" >1.00</td>\n",
       "            </tr>\n",
       "            <tr>\n",
       "                        <th id=\"T_c47f5ac8_6afc_11eb_9c90_ac1f6bce6ef5level0_row3\" class=\"row_heading level0 row3\" >min</th>\n",
       "                        <td id=\"T_c47f5ac8_6afc_11eb_9c90_ac1f6bce6ef5row3_col0\" class=\"data row3 col0\" >-0.40</td>\n",
       "                        <td id=\"T_c47f5ac8_6afc_11eb_9c90_ac1f6bce6ef5row3_col1\" class=\"data row3 col1\" >-0.46</td>\n",
       "                        <td id=\"T_c47f5ac8_6afc_11eb_9c90_ac1f6bce6ef5row3_col2\" class=\"data row3 col2\" >-1.47</td>\n",
       "                        <td id=\"T_c47f5ac8_6afc_11eb_9c90_ac1f6bce6ef5row3_col3\" class=\"data row3 col3\" >-0.25</td>\n",
       "                        <td id=\"T_c47f5ac8_6afc_11eb_9c90_ac1f6bce6ef5row3_col4\" class=\"data row3 col4\" >-1.49</td>\n",
       "                        <td id=\"T_c47f5ac8_6afc_11eb_9c90_ac1f6bce6ef5row3_col5\" class=\"data row3 col5\" >-3.82</td>\n",
       "                        <td id=\"T_c47f5ac8_6afc_11eb_9c90_ac1f6bce6ef5row3_col6\" class=\"data row3 col6\" >-2.24</td>\n",
       "                        <td id=\"T_c47f5ac8_6afc_11eb_9c90_ac1f6bce6ef5row3_col7\" class=\"data row3 col7\" >-1.28</td>\n",
       "                        <td id=\"T_c47f5ac8_6afc_11eb_9c90_ac1f6bce6ef5row3_col8\" class=\"data row3 col8\" >-0.98</td>\n",
       "                        <td id=\"T_c47f5ac8_6afc_11eb_9c90_ac1f6bce6ef5row3_col9\" class=\"data row3 col9\" >-1.30</td>\n",
       "                        <td id=\"T_c47f5ac8_6afc_11eb_9c90_ac1f6bce6ef5row3_col10\" class=\"data row3 col10\" >-2.80</td>\n",
       "                        <td id=\"T_c47f5ac8_6afc_11eb_9c90_ac1f6bce6ef5row3_col11\" class=\"data row3 col11\" >-4.03</td>\n",
       "                        <td id=\"T_c47f5ac8_6afc_11eb_9c90_ac1f6bce6ef5row3_col12\" class=\"data row3 col12\" >-1.53</td>\n",
       "            </tr>\n",
       "            <tr>\n",
       "                        <th id=\"T_c47f5ac8_6afc_11eb_9c90_ac1f6bce6ef5level0_row4\" class=\"row_heading level0 row4\" >25%</th>\n",
       "                        <td id=\"T_c47f5ac8_6afc_11eb_9c90_ac1f6bce6ef5row4_col0\" class=\"data row4 col0\" >-0.39</td>\n",
       "                        <td id=\"T_c47f5ac8_6afc_11eb_9c90_ac1f6bce6ef5row4_col1\" class=\"data row4 col1\" >-0.46</td>\n",
       "                        <td id=\"T_c47f5ac8_6afc_11eb_9c90_ac1f6bce6ef5row4_col2\" class=\"data row4 col2\" >-0.89</td>\n",
       "                        <td id=\"T_c47f5ac8_6afc_11eb_9c90_ac1f6bce6ef5row4_col3\" class=\"data row4 col3\" >-0.25</td>\n",
       "                        <td id=\"T_c47f5ac8_6afc_11eb_9c90_ac1f6bce6ef5row4_col4\" class=\"data row4 col4\" >-0.91</td>\n",
       "                        <td id=\"T_c47f5ac8_6afc_11eb_9c90_ac1f6bce6ef5row4_col5\" class=\"data row4 col5\" >-0.55</td>\n",
       "                        <td id=\"T_c47f5ac8_6afc_11eb_9c90_ac1f6bce6ef5row4_col6\" class=\"data row4 col6\" >-0.85</td>\n",
       "                        <td id=\"T_c47f5ac8_6afc_11eb_9c90_ac1f6bce6ef5row4_col7\" class=\"data row4 col7\" >-0.80</td>\n",
       "                        <td id=\"T_c47f5ac8_6afc_11eb_9c90_ac1f6bce6ef5row4_col8\" class=\"data row4 col8\" >-0.64</td>\n",
       "                        <td id=\"T_c47f5ac8_6afc_11eb_9c90_ac1f6bce6ef5row4_col9\" class=\"data row4 col9\" >-0.76</td>\n",
       "                        <td id=\"T_c47f5ac8_6afc_11eb_9c90_ac1f6bce6ef5row4_col10\" class=\"data row4 col10\" >-0.55</td>\n",
       "                        <td id=\"T_c47f5ac8_6afc_11eb_9c90_ac1f6bce6ef5row4_col11\" class=\"data row4 col11\" >0.19</td>\n",
       "                        <td id=\"T_c47f5ac8_6afc_11eb_9c90_ac1f6bce6ef5row4_col12\" class=\"data row4 col12\" >-0.77</td>\n",
       "            </tr>\n",
       "            <tr>\n",
       "                        <th id=\"T_c47f5ac8_6afc_11eb_9c90_ac1f6bce6ef5level0_row5\" class=\"row_heading level0 row5\" >50%</th>\n",
       "                        <td id=\"T_c47f5ac8_6afc_11eb_9c90_ac1f6bce6ef5row5_col0\" class=\"data row5 col0\" >-0.37</td>\n",
       "                        <td id=\"T_c47f5ac8_6afc_11eb_9c90_ac1f6bce6ef5row5_col1\" class=\"data row5 col1\" >-0.46</td>\n",
       "                        <td id=\"T_c47f5ac8_6afc_11eb_9c90_ac1f6bce6ef5row5_col2\" class=\"data row5 col2\" >-0.24</td>\n",
       "                        <td id=\"T_c47f5ac8_6afc_11eb_9c90_ac1f6bce6ef5row5_col3\" class=\"data row5 col3\" >-0.25</td>\n",
       "                        <td id=\"T_c47f5ac8_6afc_11eb_9c90_ac1f6bce6ef5row5_col4\" class=\"data row5 col4\" >-0.14</td>\n",
       "                        <td id=\"T_c47f5ac8_6afc_11eb_9c90_ac1f6bce6ef5row5_col5\" class=\"data row5 col5\" >-0.16</td>\n",
       "                        <td id=\"T_c47f5ac8_6afc_11eb_9c90_ac1f6bce6ef5row5_col6\" class=\"data row5 col6\" >0.28</td>\n",
       "                        <td id=\"T_c47f5ac8_6afc_11eb_9c90_ac1f6bce6ef5row5_col7\" class=\"data row5 col7\" >-0.27</td>\n",
       "                        <td id=\"T_c47f5ac8_6afc_11eb_9c90_ac1f6bce6ef5row5_col8\" class=\"data row5 col8\" >-0.53</td>\n",
       "                        <td id=\"T_c47f5ac8_6afc_11eb_9c90_ac1f6bce6ef5row5_col9\" class=\"data row5 col9\" >-0.47</td>\n",
       "                        <td id=\"T_c47f5ac8_6afc_11eb_9c90_ac1f6bce6ef5row5_col10\" class=\"data row5 col10\" >0.30</td>\n",
       "                        <td id=\"T_c47f5ac8_6afc_11eb_9c90_ac1f6bce6ef5row5_col11\" class=\"data row5 col11\" >0.37</td>\n",
       "                        <td id=\"T_c47f5ac8_6afc_11eb_9c90_ac1f6bce6ef5row5_col12\" class=\"data row5 col12\" >-0.18</td>\n",
       "            </tr>\n",
       "            <tr>\n",
       "                        <th id=\"T_c47f5ac8_6afc_11eb_9c90_ac1f6bce6ef5level0_row6\" class=\"row_heading level0 row6\" >75%</th>\n",
       "                        <td id=\"T_c47f5ac8_6afc_11eb_9c90_ac1f6bce6ef5row6_col0\" class=\"data row6 col0\" >-0.00</td>\n",
       "                        <td id=\"T_c47f5ac8_6afc_11eb_9c90_ac1f6bce6ef5row6_col1\" class=\"data row6 col1\" >-0.46</td>\n",
       "                        <td id=\"T_c47f5ac8_6afc_11eb_9c90_ac1f6bce6ef5row6_col2\" class=\"data row6 col2\" >0.99</td>\n",
       "                        <td id=\"T_c47f5ac8_6afc_11eb_9c90_ac1f6bce6ef5row6_col3\" class=\"data row6 col3\" >-0.25</td>\n",
       "                        <td id=\"T_c47f5ac8_6afc_11eb_9c90_ac1f6bce6ef5row6_col4\" class=\"data row6 col4\" >0.63</td>\n",
       "                        <td id=\"T_c47f5ac8_6afc_11eb_9c90_ac1f6bce6ef5row6_col5\" class=\"data row6 col5\" >0.46</td>\n",
       "                        <td id=\"T_c47f5ac8_6afc_11eb_9c90_ac1f6bce6ef5row6_col6\" class=\"data row6 col6\" >0.91</td>\n",
       "                        <td id=\"T_c47f5ac8_6afc_11eb_9c90_ac1f6bce6ef5row6_col7\" class=\"data row6 col7\" >0.66</td>\n",
       "                        <td id=\"T_c47f5ac8_6afc_11eb_9c90_ac1f6bce6ef5row6_col8\" class=\"data row6 col8\" >1.63</td>\n",
       "                        <td id=\"T_c47f5ac8_6afc_11eb_9c90_ac1f6bce6ef5row6_col9\" class=\"data row6 col9\" >1.49</td>\n",
       "                        <td id=\"T_c47f5ac8_6afc_11eb_9c90_ac1f6bce6ef5row6_col10\" class=\"data row6 col10\" >0.77</td>\n",
       "                        <td id=\"T_c47f5ac8_6afc_11eb_9c90_ac1f6bce6ef5row6_col11\" class=\"data row6 col11\" >0.42</td>\n",
       "                        <td id=\"T_c47f5ac8_6afc_11eb_9c90_ac1f6bce6ef5row6_col12\" class=\"data row6 col12\" >0.61</td>\n",
       "            </tr>\n",
       "            <tr>\n",
       "                        <th id=\"T_c47f5ac8_6afc_11eb_9c90_ac1f6bce6ef5level0_row7\" class=\"row_heading level0 row7\" >max</th>\n",
       "                        <td id=\"T_c47f5ac8_6afc_11eb_9c90_ac1f6bce6ef5row7_col0\" class=\"data row7 col0\" >9.26</td>\n",
       "                        <td id=\"T_c47f5ac8_6afc_11eb_9c90_ac1f6bce6ef5row7_col1\" class=\"data row7 col1\" >4.08</td>\n",
       "                        <td id=\"T_c47f5ac8_6afc_11eb_9c90_ac1f6bce6ef5row7_col2\" class=\"data row7 col2\" >2.39</td>\n",
       "                        <td id=\"T_c47f5ac8_6afc_11eb_9c90_ac1f6bce6ef5row7_col3\" class=\"data row7 col3\" >3.98</td>\n",
       "                        <td id=\"T_c47f5ac8_6afc_11eb_9c90_ac1f6bce6ef5row7_col4\" class=\"data row7 col4\" >2.86</td>\n",
       "                        <td id=\"T_c47f5ac8_6afc_11eb_9c90_ac1f6bce6ef5row7_col5\" class=\"data row7 col5\" >3.52</td>\n",
       "                        <td id=\"T_c47f5ac8_6afc_11eb_9c90_ac1f6bce6ef5row7_col6\" class=\"data row7 col6\" >1.12</td>\n",
       "                        <td id=\"T_c47f5ac8_6afc_11eb_9c90_ac1f6bce6ef5row7_col7\" class=\"data row7 col7\" >4.09</td>\n",
       "                        <td id=\"T_c47f5ac8_6afc_11eb_9c90_ac1f6bce6ef5row7_col8\" class=\"data row7 col8\" >1.63</td>\n",
       "                        <td id=\"T_c47f5ac8_6afc_11eb_9c90_ac1f6bce6ef5row7_col9\" class=\"data row7 col9\" >1.75</td>\n",
       "                        <td id=\"T_c47f5ac8_6afc_11eb_9c90_ac1f6bce6ef5row7_col10\" class=\"data row7 col10\" >1.61</td>\n",
       "                        <td id=\"T_c47f5ac8_6afc_11eb_9c90_ac1f6bce6ef5row7_col11\" class=\"data row7 col11\" >0.43</td>\n",
       "                        <td id=\"T_c47f5ac8_6afc_11eb_9c90_ac1f6bce6ef5row7_col12\" class=\"data row7 col12\" >3.57</td>\n",
       "            </tr>\n",
       "    </tbody></table>"
      ],
      "text/plain": [
       "<pandas.io.formats.style.Styler at 0x150e400f8990>"
      ]
     },
     "metadata": {},
     "output_type": "display_data"
    }
   ],
   "source": [
    "display(x_train.describe().style.format(\"{0:.2f}\").set_caption(\"Before normalization :\"))\n",
    "\n",
    "mean = x_train.mean()\n",
    "std  = x_train.std()\n",
    "x_train = (x_train - mean) / std\n",
    "x_test  = (x_test  - mean) / std\n",
    "\n",
    "display(x_train.describe().style.format(\"{0:.2f}\").set_caption(\"After normalization :\"))\n",
    "\n",
    "x_train, y_train = np.array(x_train), np.array(y_train)\n",
    "x_test,  y_test  = np.array(x_test),  np.array(y_test)\n"
   ]
  },
  {
   "cell_type": "markdown",
   "metadata": {},
   "source": [
    "## Step 4 - Build a model\n",
    "More informations about : \n",
    " - [Optimizer](https://www.tensorflow.org/api_docs/python/tf/keras/optimizers)\n",
    " - [Activation](https://www.tensorflow.org/api_docs/python/tf/keras/activations)\n",
    " - [Loss](https://www.tensorflow.org/api_docs/python/tf/keras/losses)\n",
    " - [Metrics](https://www.tensorflow.org/api_docs/python/tf/keras/metrics)"
   ]
  },
  {
   "cell_type": "code",
   "execution_count": 6,
   "metadata": {
    "execution": {
     "iopub.execute_input": "2021-02-09T17:32:22.606166Z",
     "iopub.status.busy": "2021-02-09T17:32:22.605698Z",
     "iopub.status.idle": "2021-02-09T17:32:22.607301Z",
     "shell.execute_reply": "2021-02-09T17:32:22.607769Z"
    }
   },
   "outputs": [],
   "source": [
    "  def get_model_v1(shape):\n",
    "    \n",
    "    model = keras.models.Sequential()\n",
    "    model.add(keras.layers.Input(shape, name=\"InputLayer\"))\n",
    "    model.add(keras.layers.Dense(64, activation='relu', name='Dense_n1'))\n",
    "    model.add(keras.layers.Dense(64, activation='relu', name='Dense_n2'))\n",
    "    model.add(keras.layers.Dense(1, name='Output'))\n",
    "    \n",
    "    model.compile(optimizer = 'rmsprop',\n",
    "                  loss      = 'mse',\n",
    "                  metrics   = ['mae', 'mse'] )\n",
    "    return model"
   ]
  },
  {
   "cell_type": "markdown",
   "metadata": {},
   "source": [
    "## 5 - Train the model\n",
    "### 5.1 - Get it"
   ]
  },
  {
   "cell_type": "code",
   "execution_count": 7,
   "metadata": {
    "execution": {
     "iopub.execute_input": "2021-02-09T17:32:22.610901Z",
     "iopub.status.busy": "2021-02-09T17:32:22.610434Z",
     "iopub.status.idle": "2021-02-09T17:32:23.541446Z",
     "shell.execute_reply": "2021-02-09T17:32:23.541943Z"
    }
   },
   "outputs": [
    {
     "name": "stdout",
     "output_type": "stream",
     "text": [
      "Model: \"sequential\"\n",
      "_________________________________________________________________\n",
      "Layer (type)                 Output Shape              Param #   \n",
      "=================================================================\n",
      "Dense_n1 (Dense)             (None, 64)                896       \n",
      "_________________________________________________________________\n",
      "Dense_n2 (Dense)             (None, 64)                4160      \n",
      "_________________________________________________________________\n",
      "Output (Dense)               (None, 1)                 65        \n",
      "=================================================================\n",
      "Total params: 5,121\n",
      "Trainable params: 5,121\n",
      "Non-trainable params: 0\n",
      "_________________________________________________________________\n"
     ]
    }
   ],
   "source": [
    "model=get_model_v1( (13,) )\n",
    "\n",
    "model.summary()\n",
    "# img=keras.utils.plot_model( model, to_file='./run/model.png', show_shapes=True, show_layer_names=True, dpi=96)\n",
    "# display(img)"
   ]
  },
  {
   "cell_type": "markdown",
   "metadata": {},
   "source": [
    "### 5.2 - Add callback"
   ]
  },
  {
   "cell_type": "code",
   "execution_count": 8,
   "metadata": {
    "execution": {
     "iopub.execute_input": "2021-02-09T17:32:23.545581Z",
     "iopub.status.busy": "2021-02-09T17:32:23.545116Z",
     "iopub.status.idle": "2021-02-09T17:32:23.554100Z",
     "shell.execute_reply": "2021-02-09T17:32:23.554571Z"
    }
   },
   "outputs": [],
   "source": [
    "os.makedirs('./run/models',   mode=0o750, exist_ok=True)\n",
    "save_dir = \"./run/models/best_model.h5\"\n",
    "\n",
    "savemodel_callback = tf.keras.callbacks.ModelCheckpoint(filepath=save_dir, verbose=0, save_best_only=True)"
   ]
  },
  {
   "cell_type": "markdown",
   "metadata": {},
   "source": [
    "### 5.3 - Train it"
   ]
  },
  {
   "cell_type": "code",
   "execution_count": 9,
   "metadata": {
    "execution": {
     "iopub.execute_input": "2021-02-09T17:32:23.558115Z",
     "iopub.status.busy": "2021-02-09T17:32:23.557647Z",
     "iopub.status.idle": "2021-02-09T17:32:39.703011Z",
     "shell.execute_reply": "2021-02-09T17:32:39.702504Z"
    }
   },
   "outputs": [
    {
     "name": "stdout",
     "output_type": "stream",
     "text": [
      "Epoch 1/100\n"
     ]
    },
    {
     "name": "stdout",
     "output_type": "stream",
     "text": [
      "\r",
      " 1/36 [..............................] - ETA: 34s - loss: 484.2044 - mae: 21.0101 - mse: 484.2044"
     ]
    },
    {
     "name": "stdout",
     "output_type": "stream",
     "text": [
      "\b\b\b\b\b\b\b\b\b\b\b\b\b\b\b\b\b\b\b\b\b\b\b\b\b\b\b\b\b\b\b\b\b\b\b\b\b\b\b\b\b\b\b\b\b\b\b\b\b\b\b\b\b\b\b\b\b\b\b\b\b\b\b\b\b\b\b\b\b\b\b\b\b\b\b\b\b\b\b\b\b\b\b\b\b\b\b\b\b\b\b\b\b\b\b\b\b\r",
      "33/36 [==========================>...] - ETA: 0s - loss: 590.6685 - mae: 22.3240 - mse: 590.6685 "
     ]
    },
    {
     "name": "stdout",
     "output_type": "stream",
     "text": [
      "\b\b\b\b\b\b\b\b\b\b\b\b\b\b\b\b\b\b\b\b\b\b\b\b\b\b\b\b\b\b\b\b\b\b\b\b\b\b\b\b\b\b\b\b\b\b\b\b\b\b\b\b\b\b\b\b\b\b\b\b\b\b\b\b\b\b\b\b\b\b\b\b\b\b\b\b\b\b\b\b\b\b\b\b\b\b\b\b\b\b\b\b\b\b\b\b\r",
      "36/36 [==============================] - 2s 24ms/step - loss: 583.1686 - mae: 22.1574 - mse: 583.1686 - val_loss: 377.3661 - val_mae: 17.7221 - val_mse: 377.3661\n"
     ]
    },
    {
     "name": "stdout",
     "output_type": "stream",
     "text": [
      "Epoch 2/100\n",
      "\r",
      " 1/36 [..............................] - ETA: 0s - loss: 266.4621 - mae: 14.9045 - mse: 266.4621"
     ]
    },
    {
     "name": "stdout",
     "output_type": "stream",
     "text": [
      "\b\b\b\b\b\b\b\b\b\b\b\b\b\b\b\b\b\b\b\b\b\b\b\b\b\b\b\b\b\b\b\b\b\b\b\b\b\b\b\b\b\b\b\b\b\b\b\b\b\b\b\b\b\b\b\b\b\b\b\b\b\b\b\b\b\b\b\b\b\b\b\b\b\b\b\b\b\b\b\b\b\b\b\b\b\b\b\b\b\b\b\b\b\b\b\b\r",
      "34/36 [===========================>..] - ETA: 0s - loss: 341.1813 - mae: 16.3934 - mse: 341.1813"
     ]
    },
    {
     "name": "stdout",
     "output_type": "stream",
     "text": [
      "\b\b\b\b\b\b\b\b\b\b\b\b\b\b\b\b\b\b\b\b\b\b\b\b\b\b\b\b\b\b\b\b\b\b\b\b\b\b\b\b\b\b\b\b\b\b\b\b\b\b\b\b\b\b\b\b\b\b\b\b\b\b\b\b\b\b\b\b\b\b\b\b\b\b\b\b\b\b\b\b\b\b\b\b\b\b\b\b\b\b\b\b\b\b\b\b\r",
      "36/36 [==============================] - 0s 4ms/step - loss: 337.8587 - mae: 16.2857 - mse: 337.8587 - val_loss: 136.7503 - val_mae: 9.7103 - val_mse: 136.7503\n"
     ]
    },
    {
     "name": "stdout",
     "output_type": "stream",
     "text": [
      "Epoch 3/100\n",
      "\r",
      " 1/36 [..............................] - ETA: 0s - loss: 129.1002 - mae: 10.3502 - mse: 129.1002"
     ]
    },
    {
     "name": "stdout",
     "output_type": "stream",
     "text": [
      "\b\b\b\b\b\b\b\b\b\b\b\b\b\b\b\b\b\b\b\b\b\b\b\b\b\b\b\b\b\b\b\b\b\b\b\b\b\b\b\b\b\b\b\b\b\b\b\b\b\b\b\b\b\b\b\b\b\b\b\b\b\b\b\b\b\b\b\b\b\b\b\b\b\b\b\b\b\b\b\b\b\b\b\b\b\b\b\b\b\b\b\b\b\b\b\b\r",
      "34/36 [===========================>..] - ETA: 0s - loss: 159.5503 - mae: 9.9416 - mse: 159.5503 "
     ]
    },
    {
     "name": "stdout",
     "output_type": "stream",
     "text": [
      "\b\b\b\b\b\b\b\b\b\b\b\b\b\b\b\b\b\b\b\b\b\b\b\b\b\b\b\b\b\b\b\b\b\b\b\b\b\b\b\b\b\b\b\b\b\b\b\b\b\b\b\b\b\b\b\b\b\b\b\b\b\b\b\b\b\b\b\b\b\b\b\b\b\b\b\b\b\b\b\b\b\b\b\b\b\b\b\b\b\b\b\b\b\b\b\r",
      "36/36 [==============================] - 0s 4ms/step - loss: 155.8843 - mae: 9.8114 - mse: 155.8843 - val_loss: 42.4420 - val_mae: 5.3457 - val_mse: 42.4420\n"
     ]
    },
    {
     "name": "stdout",
     "output_type": "stream",
     "text": [
      "Epoch 4/100\n",
      "\r",
      " 1/36 [..............................] - ETA: 0s - loss: 78.2601 - mae: 8.1654 - mse: 78.2601"
     ]
    },
    {
     "name": "stdout",
     "output_type": "stream",
     "text": [
      "\b\b\b\b\b\b\b\b\b\b\b\b\b\b\b\b\b\b\b\b\b\b\b\b\b\b\b\b\b\b\b\b\b\b\b\b\b\b\b\b\b\b\b\b\b\b\b\b\b\b\b\b\b\b\b\b\b\b\b\b\b\b\b\b\b\b\b\b\b\b\b\b\b\b\b\b\b\b\b\b\b\b\b\b\b\b\b\b\b\b\b\b\b\r",
      "34/36 [===========================>..] - ETA: 0s - loss: 57.6928 - mae: 5.8249 - mse: 57.6928"
     ]
    },
    {
     "name": "stdout",
     "output_type": "stream",
     "text": [
      "\b\b\b\b\b\b\b\b\b\b\b\b\b\b\b\b\b\b\b\b\b\b\b\b\b\b\b\b\b\b\b\b\b\b\b\b\b\b\b\b\b\b\b\b\b\b\b\b\b\b\b\b\b\b\b\b\b\b\b\b\b\b\b\b\b\b\b\b\b\b\b\b\b\b\b\b\b\b\b\b\b\b\b\b\b\b\b\b\b\b\b\b\b\r",
      "36/36 [==============================] - 0s 4ms/step - loss: 56.8585 - mae: 5.7622 - mse: 56.8585 - val_loss: 24.8297 - val_mae: 3.9789 - val_mse: 24.8297\n"
     ]
    },
    {
     "name": "stdout",
     "output_type": "stream",
     "text": [
      "Epoch 5/100\n",
      "\r",
      " 1/36 [..............................] - ETA: 0s - loss: 39.3440 - mae: 5.0342 - mse: 39.3440"
     ]
    },
    {
     "name": "stdout",
     "output_type": "stream",
     "text": [
      "\b\b\b\b\b\b\b\b\b\b\b\b\b\b\b\b\b\b\b\b\b\b\b\b\b\b\b\b\b\b\b\b\b\b\b\b\b\b\b\b\b\b\b\b\b\b\b\b\b\b\b\b\b\b\b\b\b\b\b\b\b\b\b\b\b\b\b\b\b\b\b\b\b\b\b\b\b\b\b\b\b\b\b\b\b\b\b\b\b\b\b\b\b\r",
      "34/36 [===========================>..] - ETA: 0s - loss: 32.9805 - mae: 4.3313 - mse: 32.9805"
     ]
    },
    {
     "name": "stdout",
     "output_type": "stream",
     "text": [
      "\b\b\b\b\b\b\b\b\b\b\b\b\b\b\b\b\b\b\b\b\b\b\b\b\b\b\b\b\b\b\b\b\b\b\b\b\b\b\b\b\b\b\b\b\b\b\b\b\b\b\b\b\b\b\b\b\b\b\b\b\b\b\b\b\b\b\b\b\b\b\b\b\b\b\b\b\b\b\b\b\b\b\b\b\b\b\b\b\b\b\b\b\b\r",
      "36/36 [==============================] - 0s 4ms/step - loss: 32.7620 - mae: 4.3087 - mse: 32.7620 - val_loss: 16.9794 - val_mae: 3.1939 - val_mse: 16.9794\n"
     ]
    },
    {
     "name": "stdout",
     "output_type": "stream",
     "text": [
      "Epoch 6/100\n",
      "\r",
      " 1/36 [..............................] - ETA: 0s - loss: 8.6408 - mae: 2.3973 - mse: 8.6408"
     ]
    },
    {
     "name": "stdout",
     "output_type": "stream",
     "text": [
      "\b\b\b\b\b\b\b\b\b\b\b\b\b\b\b\b\b\b\b\b\b\b\b\b\b\b\b\b\b\b\b\b\b\b\b\b\b\b\b\b\b\b\b\b\b\b\b\b\b\b\b\b\b\b\b\b\b\b\b\b\b\b\b\b\b\b\b\b\b\b\b\b\b\b\b\b\b\b\b\b\b\b\b\b\b\b\b\b\b\b\b\r",
      "34/36 [===========================>..] - ETA: 0s - loss: 22.1364 - mae: 3.4409 - mse: 22.1364"
     ]
    },
    {
     "name": "stdout",
     "output_type": "stream",
     "text": [
      "\b\b\b\b\b\b\b\b\b\b\b\b\b\b\b\b\b\b\b\b\b\b\b\b\b\b\b\b\b\b\b\b\b\b\b\b\b\b\b\b\b\b\b\b\b\b\b\b\b\b\b\b\b\b\b\b\b\b\b\b\b\b\b\b\b\b\b\b\b\b\b\b\b\b\b\b\b\b\b\b\b\b\b\b\b\b\b\b\b\b\b\b\b\r",
      "36/36 [==============================] - 0s 4ms/step - loss: 22.3164 - mae: 3.4525 - mse: 22.3164 - val_loss: 13.1099 - val_mae: 2.8000 - val_mse: 13.1099\n"
     ]
    },
    {
     "name": "stdout",
     "output_type": "stream",
     "text": [
      "Epoch 7/100\n",
      "\r",
      " 1/36 [..............................] - ETA: 0s - loss: 7.5334 - mae: 2.3887 - mse: 7.5334"
     ]
    },
    {
     "name": "stdout",
     "output_type": "stream",
     "text": [
      "\b\b\b\b\b\b\b\b\b\b\b\b\b\b\b\b\b\b\b\b\b\b\b\b\b\b\b\b\b\b\b\b\b\b\b\b\b\b\b\b\b\b\b\b\b\b\b\b\b\b\b\b\b\b\b\b\b\b\b\b\b\b\b\b\b\b\b\b\b\b\b\b\b\b\b\b\b\b\b\b\b\b\b\b\b\b\b\b\b\b\b\r",
      "34/36 [===========================>..] - ETA: 0s - loss: 22.6858 - mae: 3.2849 - mse: 22.6858"
     ]
    },
    {
     "name": "stdout",
     "output_type": "stream",
     "text": [
      "\b\b\b\b\b\b\b\b\b\b\b\b\b\b\b\b\b\b\b\b\b\b\b\b\b\b\b\b\b\b\b\b\b\b\b\b\b\b\b\b\b\b\b\b\b\b\b\b\b\b\b\b\b\b\b\b\b\b\b\b\b\b\b\b\b\b\b\b\b\b\b\b\b\b\b\b\b\b\b\b\b\b\b\b\b\b\b\b\b\b\b\b\b\r",
      "36/36 [==============================] - 0s 4ms/step - loss: 22.6141 - mae: 3.2865 - mse: 22.6141 - val_loss: 12.7304 - val_mae: 2.7439 - val_mse: 12.7304\n"
     ]
    },
    {
     "name": "stdout",
     "output_type": "stream",
     "text": [
      "Epoch 8/100\n",
      "\r",
      " 1/36 [..............................] - ETA: 0s - loss: 7.7428 - mae: 2.0614 - mse: 7.7428"
     ]
    },
    {
     "name": "stdout",
     "output_type": "stream",
     "text": [
      "\b\b\b\b\b\b\b\b\b\b\b\b\b\b\b\b\b\b\b\b\b\b\b\b\b\b\b\b\b\b\b\b\b\b\b\b\b\b\b\b\b\b\b\b\b\b\b\b\b\b\b\b\b\b\b\b\b\b\b\b\b\b\b\b\b\b\b\b\b\b\b\b\b\b\b\b\b\b\b\b\b\b\b\b\b\b\b\b\b\b\b\r",
      "34/36 [===========================>..] - ETA: 0s - loss: 20.6127 - mae: 3.1184 - mse: 20.6127"
     ]
    },
    {
     "name": "stdout",
     "output_type": "stream",
     "text": [
      "\b\b\b\b\b\b\b\b\b\b\b\b\b\b\b\b\b\b\b\b\b\b\b\b\b\b\b\b\b\b\b\b\b\b\b\b\b\b\b\b\b\b\b\b\b\b\b\b\b\b\b\b\b\b\b\b\b\b\b\b\b\b\b\b\b\b\b\b\b\b\b\b\b\b\b\b\b\b\b\b\b\b\b\b\b\b\b\b\b\b\b\b\b\r",
      "36/36 [==============================] - 0s 4ms/step - loss: 20.5548 - mae: 3.1194 - mse: 20.5548 - val_loss: 12.1652 - val_mae: 2.6725 - val_mse: 12.1652\n"
     ]
    },
    {
     "name": "stdout",
     "output_type": "stream",
     "text": [
      "Epoch 9/100\n",
      "\r",
      " 1/36 [..............................] - ETA: 0s - loss: 11.0402 - mae: 2.4000 - mse: 11.0402"
     ]
    },
    {
     "name": "stdout",
     "output_type": "stream",
     "text": [
      "\b\b\b\b\b\b\b\b\b\b\b\b\b\b\b\b\b\b\b\b\b\b\b\b\b\b\b\b\b\b\b\b\b\b\b\b\b\b\b\b\b\b\b\b\b\b\b\b\b\b\b\b\b\b\b\b\b\b\b\b\b\b\b\b\b\b\b\b\b\b\b\b\b\b\b\b\b\b\b\b\b\b\b\b\b\b\b\b\b\b\b\b\b\r",
      "34/36 [===========================>..] - ETA: 0s - loss: 13.6448 - mae: 2.7332 - mse: 13.6448"
     ]
    },
    {
     "name": "stdout",
     "output_type": "stream",
     "text": [
      "\b\b\b\b\b\b\b\b\b\b\b\b\b\b\b\b\b\b\b\b\b\b\b\b\b\b\b\b\b\b\b\b\b\b\b\b\b\b\b\b\b\b\b\b\b\b\b\b\b\b\b\b\b\b\b\b\b\b\b\b\b\b\b\b\b\b\b\b\b\b\b\b\b\b\b\b\b\b\b\b\b\b\b\b\b\b\b\b\b\b\b\b\b\r",
      "36/36 [==============================] - 0s 4ms/step - loss: 14.0578 - mae: 2.7583 - mse: 14.0578 - val_loss: 11.3440 - val_mae: 2.5878 - val_mse: 11.3440\n"
     ]
    },
    {
     "name": "stdout",
     "output_type": "stream",
     "text": [
      "Epoch 10/100\n",
      "\r",
      " 1/36 [..............................] - ETA: 0s - loss: 10.1019 - mae: 2.6531 - mse: 10.1019"
     ]
    },
    {
     "name": "stdout",
     "output_type": "stream",
     "text": [
      "\b\b\b\b\b\b\b\b\b\b\b\b\b\b\b\b\b\b\b\b\b\b\b\b\b\b\b\b\b\b\b\b\b\b\b\b\b\b\b\b\b\b\b\b\b\b\b\b\b\b\b\b\b\b\b\b\b\b\b\b\b\b\b\b\b\b\b\b\b\b\b\b\b\b\b\b\b\b\b\b\b\b\b\b\b\b\b\b\b\b\b\b\b\r",
      "34/36 [===========================>..] - ETA: 0s - loss: 14.4041 - mae: 2.8119 - mse: 14.4041"
     ]
    },
    {
     "name": "stdout",
     "output_type": "stream",
     "text": [
      "\b\b\b\b\b\b\b\b\b\b\b\b\b\b\b\b\b\b\b\b\b\b\b\b\b\b\b\b\b\b\b\b\b\b\b\b\b\b\b\b\b\b\b\b\b\b\b\b\b\b\b\b\b\b\b\b\b\b\b\b\b\b\b\b\b\b\b\b\b\b\b\b\b\b\b\b\b\b\b\b\b\b\b\b\b\b\b\b\b\b\b\b\b\r",
      "36/36 [==============================] - 0s 4ms/step - loss: 14.6667 - mae: 2.8190 - mse: 14.6667 - val_loss: 11.2717 - val_mae: 2.5836 - val_mse: 11.2717\n"
     ]
    },
    {
     "name": "stdout",
     "output_type": "stream",
     "text": [
      "Epoch 11/100\n",
      "\r",
      " 1/36 [..............................] - ETA: 0s - loss: 6.0567 - mae: 1.8657 - mse: 6.0567"
     ]
    },
    {
     "name": "stdout",
     "output_type": "stream",
     "text": [
      "\b\b\b\b\b\b\b\b\b\b\b\b\b\b\b\b\b\b\b\b\b\b\b\b\b\b\b\b\b\b\b\b\b\b\b\b\b\b\b\b\b\b\b\b\b\b\b\b\b\b\b\b\b\b\b\b\b\b\b\b\b\b\b\b\b\b\b\b\b\b\b\b\b\b\b\b\b\b\b\b\b\b\b\b\b\b\b\b\b\b\b\r",
      "34/36 [===========================>..] - ETA: 0s - loss: 15.0839 - mae: 2.6182 - mse: 15.0839"
     ]
    },
    {
     "name": "stdout",
     "output_type": "stream",
     "text": [
      "\b\b\b\b\b\b\b\b\b\b\b\b\b\b\b\b\b\b\b\b\b\b\b\b\b\b\b\b\b\b\b\b\b\b\b\b\b\b\b\b\b\b\b\b\b\b\b\b\b\b\b\b\b\b\b\b\b\b\b\b\b\b\b\b\b\b\b\b\b\b\b\b\b\b\b\b\b\b\b\b\b\b\b\b\b\b\b\b\b\b\b\b\b\r",
      "36/36 [==============================] - 0s 4ms/step - loss: 15.2104 - mae: 2.6359 - mse: 15.2104 - val_loss: 10.6912 - val_mae: 2.5249 - val_mse: 10.6912\n"
     ]
    },
    {
     "name": "stdout",
     "output_type": "stream",
     "text": [
      "Epoch 12/100\n",
      "\r",
      " 1/36 [..............................] - ETA: 0s - loss: 33.1506 - mae: 2.8929 - mse: 33.1506"
     ]
    },
    {
     "name": "stdout",
     "output_type": "stream",
     "text": [
      "\b\b\b\b\b\b\b\b\b\b\b\b\b\b\b\b\b\b\b\b\b\b\b\b\b\b\b\b\b\b\b\b\b\b\b\b\b\b\b\b\b\b\b\b\b\b\b\b\b\b\b\b\b\b\b\b\b\b\b\b\b\b\b\b\b\b\b\b\b\b\b\b\b\b\b\b\b\b\b\b\b\b\b\b\b\b\b\b\b\b\b\b\b\r",
      "34/36 [===========================>..] - ETA: 0s - loss: 15.5149 - mae: 2.6828 - mse: 15.5149"
     ]
    },
    {
     "name": "stdout",
     "output_type": "stream",
     "text": [
      "\b\b\b\b\b\b\b\b\b\b\b\b\b\b\b\b\b\b\b\b\b\b\b\b\b\b\b\b\b\b\b\b\b\b\b\b\b\b\b\b\b\b\b\b\b\b\b\b\b\b\b\b\b\b\b\b\b\b\b\b\b\b\b\b\b\b\b\b\b\b\b\b\b\b\b\b\b\b\b\b\b\b\b\b\b\b\b\b\b\b\b\b\b\r",
      "36/36 [==============================] - 0s 4ms/step - loss: 15.5556 - mae: 2.6881 - mse: 15.5556 - val_loss: 10.6704 - val_mae: 2.5444 - val_mse: 10.6704\n"
     ]
    },
    {
     "name": "stdout",
     "output_type": "stream",
     "text": [
      "Epoch 13/100\n",
      "\r",
      " 1/36 [..............................] - ETA: 0s - loss: 72.1851 - mae: 6.0406 - mse: 72.1851"
     ]
    },
    {
     "name": "stdout",
     "output_type": "stream",
     "text": [
      "\b\b\b\b\b\b\b\b\b\b\b\b\b\b\b\b\b\b\b\b\b\b\b\b\b\b\b\b\b\b\b\b\b\b\b\b\b\b\b\b\b\b\b\b\b\b\b\b\b\b\b\b\b\b\b\b\b\b\b\b\b\b\b\b\b\b\b\b\b\b\b\b\b\b\b\b\b\b\b\b\b\b\b\b\b\b\b\b\b\b\b\b\b\r",
      "34/36 [===========================>..] - ETA: 0s - loss: 20.5136 - mae: 2.9388 - mse: 20.5136"
     ]
    },
    {
     "name": "stdout",
     "output_type": "stream",
     "text": [
      "\b\b\b\b\b\b\b\b\b\b\b\b\b\b\b\b\b\b\b\b\b\b\b\b\b\b\b\b\b\b\b\b\b\b\b\b\b\b\b\b\b\b\b\b\b\b\b\b\b\b\b\b\b\b\b\b\b\b\b\b\b\b\b\b\b\b\b\b\b\b\b\b\b\b\b\b\b\b\b\b\b\b\b\b\b\b\b\b\b\b\b\b\b\r",
      "36/36 [==============================] - 0s 4ms/step - loss: 20.0957 - mae: 2.9189 - mse: 20.0957 - val_loss: 10.6193 - val_mae: 2.5077 - val_mse: 10.6193\n"
     ]
    },
    {
     "name": "stdout",
     "output_type": "stream",
     "text": [
      "Epoch 14/100\n"
     ]
    },
    {
     "name": "stdout",
     "output_type": "stream",
     "text": [
      "\r",
      " 1/36 [..............................] - ETA: 0s - loss: 30.4784 - mae: 3.9924 - mse: 30.4784"
     ]
    },
    {
     "name": "stdout",
     "output_type": "stream",
     "text": [
      "\b\b\b\b\b\b\b\b\b\b\b\b\b\b\b\b\b\b\b\b\b\b\b\b\b\b\b\b\b\b\b\b\b\b\b\b\b\b\b\b\b\b\b\b\b\b\b\b\b\b\b\b\b\b\b\b\b\b\b\b\b\b\b\b\b\b\b\b\b\b\b\b\b\b\b\b\b\b\b\b\b\b\b\b\b\b\b\b\b\b\b\b\b\r",
      "34/36 [===========================>..] - ETA: 0s - loss: 16.4139 - mae: 2.7229 - mse: 16.4139"
     ]
    },
    {
     "name": "stdout",
     "output_type": "stream",
     "text": [
      "\b\b\b\b\b\b\b\b\b\b\b\b\b\b\b\b\b\b\b\b\b\b\b\b\b\b\b\b\b\b\b\b\b\b\b\b\b\b\b\b\b\b\b\b\b\b\b\b\b\b\b\b\b\b\b\b\b\b\b\b\b\b\b\b\b\b\b\b\b\b\b\b\b\b\b\b\b\b\b\b\b\b\b\b\b\b\b\b\b\b\b\b\b\r",
      "36/36 [==============================] - 0s 4ms/step - loss: 16.2754 - mae: 2.7148 - mse: 16.2754 - val_loss: 13.7593 - val_mae: 2.8993 - val_mse: 13.7593\n"
     ]
    },
    {
     "name": "stdout",
     "output_type": "stream",
     "text": [
      "Epoch 15/100\n",
      "\r",
      " 1/36 [..............................] - ETA: 0s - loss: 3.8737 - mae: 1.5481 - mse: 3.8737"
     ]
    },
    {
     "name": "stdout",
     "output_type": "stream",
     "text": [
      "\b\b\b\b\b\b\b\b\b\b\b\b\b\b\b\b\b\b\b\b\b\b\b\b\b\b\b\b\b\b\b\b\b\b\b\b\b\b\b\b\b\b\b\b\b\b\b\b\b\b\b\b\b\b\b\b\b\b\b\b\b\b\b\b\b\b\b\b\b\b\b\b\b\b\b\b\b\b\b\b\b\b\b\b\b\b\b\b\b\b\b\r",
      "34/36 [===========================>..] - ETA: 0s - loss: 10.5826 - mae: 2.3760 - mse: 10.5826"
     ]
    },
    {
     "name": "stdout",
     "output_type": "stream",
     "text": [
      "\b\b\b\b\b\b\b\b\b\b\b\b\b\b\b\b\b\b\b\b\b\b\b\b\b\b\b\b\b\b\b\b\b\b\b\b\b\b\b\b\b\b\b\b\b\b\b\b\b\b\b\b\b\b\b\b\b\b\b\b\b\b\b\b\b\b\b\b\b\b\b\b\b\b\b\b\b\b\b\b\b\b\b\b\b\b\b\b\b\b\b\b\b\r",
      "36/36 [==============================] - 0s 4ms/step - loss: 10.9025 - mae: 2.3948 - mse: 10.9025 - val_loss: 9.3670 - val_mae: 2.3913 - val_mse: 9.3670\n"
     ]
    },
    {
     "name": "stdout",
     "output_type": "stream",
     "text": [
      "Epoch 16/100\n",
      "\r",
      " 1/36 [..............................] - ETA: 0s - loss: 17.8209 - mae: 3.2908 - mse: 17.8209"
     ]
    },
    {
     "name": "stdout",
     "output_type": "stream",
     "text": [
      "\b\b\b\b\b\b\b\b\b\b\b\b\b\b\b\b\b\b\b\b\b\b\b\b\b\b\b\b\b\b\b\b\b\b\b\b\b\b\b\b\b\b\b\b\b\b\b\b\b\b\b\b\b\b\b\b\b\b\b\b\b\b\b\b\b\b\b\b\b\b\b\b\b\b\b\b\b\b\b\b\b\b\b\b\b\b\b\b\b\b\b\b\b\r",
      "34/36 [===========================>..] - ETA: 0s - loss: 13.9558 - mae: 2.5451 - mse: 13.9558"
     ]
    },
    {
     "name": "stdout",
     "output_type": "stream",
     "text": [
      "\b\b\b\b\b\b\b\b\b\b\b\b\b\b\b\b\b\b\b\b\b\b\b\b\b\b\b\b\b\b\b\b\b\b\b\b\b\b\b\b\b\b\b\b\b\b\b\b\b\b\b\b\b\b\b\b\b\b\b\b\b\b\b\b\b\b\b\b\b\b\b\b\b\b\b\b\b\b\b\b\b\b\b\b\b\b\b\b\b\b\b\b\b\r",
      "36/36 [==============================] - 0s 4ms/step - loss: 13.9234 - mae: 2.5457 - mse: 13.9234 - val_loss: 9.7304 - val_mae: 2.4585 - val_mse: 9.7304\n"
     ]
    },
    {
     "name": "stdout",
     "output_type": "stream",
     "text": [
      "Epoch 17/100\n",
      "\r",
      " 1/36 [..............................] - ETA: 0s - loss: 6.4016 - mae: 2.0179 - mse: 6.4016"
     ]
    },
    {
     "name": "stdout",
     "output_type": "stream",
     "text": [
      "\b\b\b\b\b\b\b\b\b\b\b\b\b\b\b\b\b\b\b\b\b\b\b\b\b\b\b\b\b\b\b\b\b\b\b\b\b\b\b\b\b\b\b\b\b\b\b\b\b\b\b\b\b\b\b\b\b\b\b\b\b\b\b\b\b\b\b\b\b\b\b\b\b\b\b\b\b\b\b\b\b\b\b\b\b\b\b\b\b\b\b\r",
      "34/36 [===========================>..] - ETA: 0s - loss: 13.9412 - mae: 2.5917 - mse: 13.9412"
     ]
    },
    {
     "name": "stdout",
     "output_type": "stream",
     "text": [
      "\b\b\b\b\b\b\b\b\b\b\b\b\b\b\b\b\b\b\b\b\b\b\b\b\b\b\b\b\b\b\b\b\b\b\b\b\b\b\b\b\b\b\b\b\b\b\b\b\b\b\b\b\b\b\b\b\b\b\b\b\b\b\b\b\b\b\b\b\b\b\b\b\b\b\b\b\b\b\b\b\b\b\b\b\b\b\b\b\b\b\b\b\b\r",
      "36/36 [==============================] - 0s 4ms/step - loss: 13.8840 - mae: 2.5830 - mse: 13.8840 - val_loss: 9.2536 - val_mae: 2.4011 - val_mse: 9.2536\n"
     ]
    },
    {
     "name": "stdout",
     "output_type": "stream",
     "text": [
      "Epoch 18/100\n",
      "\r",
      " 1/36 [..............................] - ETA: 0s - loss: 3.2990 - mae: 1.4106 - mse: 3.2990"
     ]
    },
    {
     "name": "stdout",
     "output_type": "stream",
     "text": [
      "\b\b\b\b\b\b\b\b\b\b\b\b\b\b\b\b\b\b\b\b\b\b\b\b\b\b\b\b\b\b\b\b\b\b\b\b\b\b\b\b\b\b\b\b\b\b\b\b\b\b\b\b\b\b\b\b\b\b\b\b\b\b\b\b\b\b\b\b\b\b\b\b\b\b\b\b\b\b\b\b\b\b\b\b\b\b\b\b\b\b\b\r",
      "34/36 [===========================>..] - ETA: 0s - loss: 10.1698 - mae: 2.2389 - mse: 10.1698"
     ]
    },
    {
     "name": "stdout",
     "output_type": "stream",
     "text": [
      "\b\b\b\b\b\b\b\b\b\b\b\b\b\b\b\b\b\b\b\b\b\b\b\b\b\b\b\b\b\b\b\b\b\b\b\b\b\b\b\b\b\b\b\b\b\b\b\b\b\b\b\b\b\b\b\b\b\b\b\b\b\b\b\b\b\b\b\b\b\b\b\b\b\b\b\b\b\b\b\b\b\b\b\b\b\b\b\b\b\b\b\b\b\r",
      "36/36 [==============================] - 0s 4ms/step - loss: 10.3862 - mae: 2.2587 - mse: 10.3862 - val_loss: 9.1694 - val_mae: 2.3852 - val_mse: 9.1694\n"
     ]
    },
    {
     "name": "stdout",
     "output_type": "stream",
     "text": [
      "Epoch 19/100\n",
      "\r",
      " 1/36 [..............................] - ETA: 0s - loss: 9.1586 - mae: 2.6847 - mse: 9.1586"
     ]
    },
    {
     "name": "stdout",
     "output_type": "stream",
     "text": [
      "\b\b\b\b\b\b\b\b\b\b\b\b\b\b\b\b\b\b\b\b\b\b\b\b\b\b\b\b\b\b\b\b\b\b\b\b\b\b\b\b\b\b\b\b\b\b\b\b\b\b\b\b\b\b\b\b\b\b\b\b\b\b\b\b\b\b\b\b\b\b\b\b\b\b\b\b\b\b\b\b\b\b\b\b\b\b\b\b\b\b\b\r",
      "34/36 [===========================>..] - ETA: 0s - loss: 12.9513 - mae: 2.4525 - mse: 12.9513"
     ]
    },
    {
     "name": "stdout",
     "output_type": "stream",
     "text": [
      "\b\b\b\b\b\b\b\b\b\b\b\b\b\b\b\b\b\b\b\b\b\b\b\b\b\b\b\b\b\b\b\b\b\b\b\b\b\b\b\b\b\b\b\b\b\b\b\b\b\b\b\b\b\b\b\b\b\b\b\b\b\b\b\b\b\b\b\b\b\b\b\b\b\b\b\b\b\b\b\b\b\b\b\b\b\b\b\b\b\b\b\b\b\r",
      "36/36 [==============================] - 0s 4ms/step - loss: 12.9283 - mae: 2.4490 - mse: 12.9283 - val_loss: 9.3902 - val_mae: 2.4490 - val_mse: 9.3902\n"
     ]
    },
    {
     "name": "stdout",
     "output_type": "stream",
     "text": [
      "Epoch 20/100\n",
      "\r",
      " 1/36 [..............................] - ETA: 0s - loss: 10.1597 - mae: 2.7199 - mse: 10.1597"
     ]
    },
    {
     "name": "stdout",
     "output_type": "stream",
     "text": [
      "\b\b\b\b\b\b\b\b\b\b\b\b\b\b\b\b\b\b\b\b\b\b\b\b\b\b\b\b\b\b\b\b\b\b\b\b\b\b\b\b\b\b\b\b\b\b\b\b\b\b\b\b\b\b\b\b\b\b\b\b\b\b\b\b\b\b\b\b\b\b\b\b\b\b\b\b\b\b\b\b\b\b\b\b\b\b\b\b\b\b\b\b\b\r",
      "34/36 [===========================>..] - ETA: 0s - loss: 9.1792 - mae: 2.2612 - mse: 9.1792  "
     ]
    },
    {
     "name": "stdout",
     "output_type": "stream",
     "text": [
      "\b\b\b\b\b\b\b\b\b\b\b\b\b\b\b\b\b\b\b\b\b\b\b\b\b\b\b\b\b\b\b\b\b\b\b\b\b\b\b\b\b\b\b\b\b\b\b\b\b\b\b\b\b\b\b\b\b\b\b\b\b\b\b\b\b\b\b\b\b\b\b\b\b\b\b\b\b\b\b\b\b\b\b\b\b\b\b\b\b\b\b\r",
      "36/36 [==============================] - 0s 4ms/step - loss: 9.4414 - mae: 2.2720 - mse: 9.4414 - val_loss: 8.7159 - val_mae: 2.3371 - val_mse: 8.7159\n"
     ]
    },
    {
     "name": "stdout",
     "output_type": "stream",
     "text": [
      "Epoch 21/100\n"
     ]
    },
    {
     "name": "stdout",
     "output_type": "stream",
     "text": [
      "\r",
      " 1/36 [..............................] - ETA: 0s - loss: 5.5696 - mae: 1.7405 - mse: 5.5696"
     ]
    },
    {
     "name": "stdout",
     "output_type": "stream",
     "text": [
      "\b\b\b\b\b\b\b\b\b\b\b\b\b\b\b\b\b\b\b\b\b\b\b\b\b\b\b\b\b\b\b\b\b\b\b\b\b\b\b\b\b\b\b\b\b\b\b\b\b\b\b\b\b\b\b\b\b\b\b\b\b\b\b\b\b\b\b\b\b\b\b\b\b\b\b\b\b\b\b\b\b\b\b\b\b\b\b\b\b\b\b\r",
      "34/36 [===========================>..] - ETA: 0s - loss: 8.1002 - mae: 2.0707 - mse: 8.1002"
     ]
    },
    {
     "name": "stdout",
     "output_type": "stream",
     "text": [
      "\b\b\b\b\b\b\b\b\b\b\b\b\b\b\b\b\b\b\b\b\b\b\b\b\b\b\b\b\b\b\b\b\b\b\b\b\b\b\b\b\b\b\b\b\b\b\b\b\b\b\b\b\b\b\b\b\b\b\b\b\b\b\b\b\b\b\b\b\b\b\b\b\b\b\b\b\b\b\b\b\b\b\b\b\b\b\b\b\b\b\b\r",
      "36/36 [==============================] - 0s 4ms/step - loss: 8.4301 - mae: 2.0954 - mse: 8.4301 - val_loss: 9.1932 - val_mae: 2.4120 - val_mse: 9.1932\n"
     ]
    },
    {
     "name": "stdout",
     "output_type": "stream",
     "text": [
      "Epoch 22/100\n",
      "\r",
      " 1/36 [..............................] - ETA: 0s - loss: 18.0772 - mae: 3.7622 - mse: 18.0772"
     ]
    },
    {
     "name": "stdout",
     "output_type": "stream",
     "text": [
      "\b\b\b\b\b\b\b\b\b\b\b\b\b\b\b\b\b\b\b\b\b\b\b\b\b\b\b\b\b\b\b\b\b\b\b\b\b\b\b\b\b\b\b\b\b\b\b\b\b\b\b\b\b\b\b\b\b\b\b\b\b\b\b\b\b\b\b\b\b\b\b\b\b\b\b\b\b\b\b\b\b\b\b\b\b\b\b\b\b\b\b\b\b\r",
      "34/36 [===========================>..] - ETA: 0s - loss: 14.1887 - mae: 2.6245 - mse: 14.1887"
     ]
    },
    {
     "name": "stdout",
     "output_type": "stream",
     "text": [
      "\b\b\b\b\b\b\b\b\b\b\b\b\b\b\b\b\b\b\b\b\b\b\b\b\b\b\b\b\b\b\b\b\b\b\b\b\b\b\b\b\b\b\b\b\b\b\b\b\b\b\b\b\b\b\b\b\b\b\b\b\b\b\b\b\b\b\b\b\b\b\b\b\b\b\b\b\b\b\b\b\b\b\b\b\b\b\b\b\b\b\b\b\b\r",
      "36/36 [==============================] - 0s 4ms/step - loss: 14.0010 - mae: 2.6036 - mse: 14.0010 - val_loss: 9.6171 - val_mae: 2.4502 - val_mse: 9.6171\n"
     ]
    },
    {
     "name": "stdout",
     "output_type": "stream",
     "text": [
      "Epoch 23/100\n",
      "\r",
      " 1/36 [..............................] - ETA: 0s - loss: 6.9926 - mae: 2.0393 - mse: 6.9926"
     ]
    },
    {
     "name": "stdout",
     "output_type": "stream",
     "text": [
      "\b\b\b\b\b\b\b\b\b\b\b\b\b\b\b\b\b\b\b\b\b\b\b\b\b\b\b\b\b\b\b\b\b\b\b\b\b\b\b\b\b\b\b\b\b\b\b\b\b\b\b\b\b\b\b\b\b\b\b\b\b\b\b\b\b\b\b\b\b\b\b\b\b\b\b\b\b\b\b\b\b\b\b\b\b\b\b\b\b\b\b\r",
      "34/36 [===========================>..] - ETA: 0s - loss: 9.6667 - mae: 2.1229 - mse: 9.6667"
     ]
    },
    {
     "name": "stdout",
     "output_type": "stream",
     "text": [
      "\b\b\b\b\b\b\b\b\b\b\b\b\b\b\b\b\b\b\b\b\b\b\b\b\b\b\b\b\b\b\b\b\b\b\b\b\b\b\b\b\b\b\b\b\b\b\b\b\b\b\b\b\b\b\b\b\b\b\b\b\b\b\b\b\b\b\b\b\b\b\b\b\b\b\b\b\b\b\b\b\b\b\b\b\b\b\b\b\b\b\b\r",
      "36/36 [==============================] - 0s 4ms/step - loss: 9.8453 - mae: 2.1362 - mse: 9.8453 - val_loss: 9.0635 - val_mae: 2.3833 - val_mse: 9.0635\n"
     ]
    },
    {
     "name": "stdout",
     "output_type": "stream",
     "text": [
      "Epoch 24/100\n",
      "\r",
      " 1/36 [..............................] - ETA: 0s - loss: 18.6338 - mae: 3.3563 - mse: 18.6338"
     ]
    },
    {
     "name": "stdout",
     "output_type": "stream",
     "text": [
      "\b\b\b\b\b\b\b\b\b\b\b\b\b\b\b\b\b\b\b\b\b\b\b\b\b\b\b\b\b\b\b\b\b\b\b\b\b\b\b\b\b\b\b\b\b\b\b\b\b\b\b\b\b\b\b\b\b\b\b\b\b\b\b\b\b\b\b\b\b\b\b\b\b\b\b\b\b\b\b\b\b\b\b\b\b\b\b\b\b\b\b\b\b\r",
      "34/36 [===========================>..] - ETA: 0s - loss: 9.4993 - mae: 2.2583 - mse: 9.4993  "
     ]
    },
    {
     "name": "stdout",
     "output_type": "stream",
     "text": [
      "\b\b\b\b\b\b\b\b\b\b\b\b\b\b\b\b\b\b\b\b\b\b\b\b\b\b\b\b\b\b\b\b\b\b\b\b\b\b\b\b\b\b\b\b\b\b\b\b\b\b\b\b\b\b\b\b\b\b\b\b\b\b\b\b\b\b\b\b\b\b\b\b\b\b\b\b\b\b\b\b\b\b\b\b\b\b\b\b\b\b\b\r",
      "36/36 [==============================] - 0s 4ms/step - loss: 9.6724 - mae: 2.2643 - mse: 9.6724 - val_loss: 8.7425 - val_mae: 2.3522 - val_mse: 8.7425\n"
     ]
    },
    {
     "name": "stdout",
     "output_type": "stream",
     "text": [
      "Epoch 25/100\n",
      "\r",
      " 1/36 [..............................] - ETA: 0s - loss: 7.9661 - mae: 2.6202 - mse: 7.9661"
     ]
    },
    {
     "name": "stdout",
     "output_type": "stream",
     "text": [
      "\b\b\b\b\b\b\b\b\b\b\b\b\b\b\b\b\b\b\b\b\b\b\b\b\b\b\b\b\b\b\b\b\b\b\b\b\b\b\b\b\b\b\b\b\b\b\b\b\b\b\b\b\b\b\b\b\b\b\b\b\b\b\b\b\b\b\b\b\b\b\b\b\b\b\b\b\b\b\b\b\b\b\b\b\b\b\b\b\b\b\b\r",
      "34/36 [===========================>..] - ETA: 0s - loss: 9.6656 - mae: 2.2906 - mse: 9.6656"
     ]
    },
    {
     "name": "stdout",
     "output_type": "stream",
     "text": [
      "\b\b\b\b\b\b\b\b\b\b\b\b\b\b\b\b\b\b\b\b\b\b\b\b\b\b\b\b\b\b\b\b\b\b\b\b\b\b\b\b\b\b\b\b\b\b\b\b\b\b\b\b\b\b\b\b\b\b\b\b\b\b\b\b\b\b\b\b\b\b\b\b\b\b\b\b\b\b\b\b\b\b\b\b\b\b\b\b\b\b\b\r",
      "36/36 [==============================] - 0s 4ms/step - loss: 9.7965 - mae: 2.2909 - mse: 9.7965 - val_loss: 8.5705 - val_mae: 2.2919 - val_mse: 8.5705\n"
     ]
    },
    {
     "name": "stdout",
     "output_type": "stream",
     "text": [
      "Epoch 26/100\n",
      "\r",
      " 1/36 [..............................] - ETA: 0s - loss: 30.3775 - mae: 3.5665 - mse: 30.3775"
     ]
    },
    {
     "name": "stdout",
     "output_type": "stream",
     "text": [
      "\b\b\b\b\b\b\b\b\b\b\b\b\b\b\b\b\b\b\b\b\b\b\b\b\b\b\b\b\b\b\b\b\b\b\b\b\b\b\b\b\b\b\b\b\b\b\b\b\b\b\b\b\b\b\b\b\b\b\b\b\b\b\b\b\b\b\b\b\b\b\b\b\b\b\b\b\b\b\b\b\b\b\b\b\b\b\b\b\b\b\b\b\b\r",
      "34/36 [===========================>..] - ETA: 0s - loss: 12.4218 - mae: 2.2803 - mse: 12.4218"
     ]
    },
    {
     "name": "stdout",
     "output_type": "stream",
     "text": [
      "\b\b\b\b\b\b\b\b\b\b\b\b\b\b\b\b\b\b\b\b\b\b\b\b\b\b\b\b\b\b\b\b\b\b\b\b\b\b\b\b\b\b\b\b\b\b\b\b\b\b\b\b\b\b\b\b\b\b\b\b\b\b\b\b\b\b\b\b\b\b\b\b\b\b\b\b\b\b\b\b\b\b\b\b\b\b\b\b\b\b\b\b\b\r",
      "36/36 [==============================] - 0s 4ms/step - loss: 12.3022 - mae: 2.2801 - mse: 12.3022 - val_loss: 8.6498 - val_mae: 2.3079 - val_mse: 8.6498\n"
     ]
    },
    {
     "name": "stdout",
     "output_type": "stream",
     "text": [
      "Epoch 27/100\n",
      "\r",
      " 1/36 [..............................] - ETA: 0s - loss: 6.8094 - mae: 2.0777 - mse: 6.8094"
     ]
    },
    {
     "name": "stdout",
     "output_type": "stream",
     "text": [
      "\b\b\b\b\b\b\b\b\b\b\b\b\b\b\b\b\b\b\b\b\b\b\b\b\b\b\b\b\b\b\b\b\b\b\b\b\b\b\b\b\b\b\b\b\b\b\b\b\b\b\b\b\b\b\b\b\b\b\b\b\b\b\b\b\b\b\b\b\b\b\b\b\b\b\b\b\b\b\b\b\b\b\b\b\b\b\b\b\b\b\b\r",
      "34/36 [===========================>..] - ETA: 0s - loss: 9.2550 - mae: 2.1146 - mse: 9.2550"
     ]
    },
    {
     "name": "stdout",
     "output_type": "stream",
     "text": [
      "\b\b\b\b\b\b\b\b\b\b\b\b\b\b\b\b\b\b\b\b\b\b\b\b\b\b\b\b\b\b\b\b\b\b\b\b\b\b\b\b\b\b\b\b\b\b\b\b\b\b\b\b\b\b\b\b\b\b\b\b\b\b\b\b\b\b\b\b\b\b\b\b\b\b\b\b\b\b\b\b\b\b\b\b\b\b\b\b\b\b\b\r",
      "36/36 [==============================] - 0s 4ms/step - loss: 9.3791 - mae: 2.1231 - mse: 9.3791 - val_loss: 9.4502 - val_mae: 2.4374 - val_mse: 9.4502\n"
     ]
    },
    {
     "name": "stdout",
     "output_type": "stream",
     "text": [
      "Epoch 28/100\n",
      "\r",
      " 1/36 [..............................] - ETA: 0s - loss: 38.4374 - mae: 3.6967 - mse: 38.4374"
     ]
    },
    {
     "name": "stdout",
     "output_type": "stream",
     "text": [
      "\b\b\b\b\b\b\b\b\b\b\b\b\b\b\b\b\b\b\b\b\b\b\b\b\b\b\b\b\b\b\b\b\b\b\b\b\b\b\b\b\b\b\b\b\b\b\b\b\b\b\b\b\b\b\b\b\b\b\b\b\b\b\b\b\b\b\b\b\b\b\b\b\b\b\b\b\b\b\b\b\b\b\b\b\b\b\b\b\b\b\b\b\b\r",
      "34/36 [===========================>..] - ETA: 0s - loss: 13.0822 - mae: 2.3435 - mse: 13.0822"
     ]
    },
    {
     "name": "stdout",
     "output_type": "stream",
     "text": [
      "\b\b\b\b\b\b\b\b\b\b\b\b\b\b\b\b\b\b\b\b\b\b\b\b\b\b\b\b\b\b\b\b\b\b\b\b\b\b\b\b\b\b\b\b\b\b\b\b\b\b\b\b\b\b\b\b\b\b\b\b\b\b\b\b\b\b\b\b\b\b\b\b\b\b\b\b\b\b\b\b\b\b\b\b\b\b\b\b\b\b\b\b\b\r",
      "36/36 [==============================] - 0s 4ms/step - loss: 12.8920 - mae: 2.3323 - mse: 12.8920 - val_loss: 9.4401 - val_mae: 2.4494 - val_mse: 9.4401\n"
     ]
    },
    {
     "name": "stdout",
     "output_type": "stream",
     "text": [
      "Epoch 29/100\n",
      "\r",
      " 1/36 [..............................] - ETA: 0s - loss: 6.0029 - mae: 2.1184 - mse: 6.0029"
     ]
    },
    {
     "name": "stdout",
     "output_type": "stream",
     "text": [
      "\b\b\b\b\b\b\b\b\b\b\b\b\b\b\b\b\b\b\b\b\b\b\b\b\b\b\b\b\b\b\b\b\b\b\b\b\b\b\b\b\b\b\b\b\b\b\b\b\b\b\b\b\b\b\b\b\b\b\b\b\b\b\b\b\b\b\b\b\b\b\b\b\b\b\b\b\b\b\b\b\b\b\b\b\b\b\b\b\b\b\b\r",
      "34/36 [===========================>..] - ETA: 0s - loss: 9.2088 - mae: 2.1064 - mse: 9.2088"
     ]
    },
    {
     "name": "stdout",
     "output_type": "stream",
     "text": [
      "\b\b\b\b\b\b\b\b\b\b\b\b\b\b\b\b\b\b\b\b\b\b\b\b\b\b\b\b\b\b\b\b\b\b\b\b\b\b\b\b\b\b\b\b\b\b\b\b\b\b\b\b\b\b\b\b\b\b\b\b\b\b\b\b\b\b\b\b\b\b\b\b\b\b\b\b\b\b\b\b\b\b\b\b\b\b\b\b\b\b\b\r",
      "36/36 [==============================] - 0s 4ms/step - loss: 9.3030 - mae: 2.1129 - mse: 9.3030 - val_loss: 8.9731 - val_mae: 2.3264 - val_mse: 8.9731\n"
     ]
    },
    {
     "name": "stdout",
     "output_type": "stream",
     "text": [
      "Epoch 30/100\n",
      "\r",
      " 1/36 [..............................] - ETA: 0s - loss: 10.9958 - mae: 2.7227 - mse: 10.9958"
     ]
    },
    {
     "name": "stdout",
     "output_type": "stream",
     "text": [
      "\b\b\b\b\b\b\b\b\b\b\b\b\b\b\b\b\b\b\b\b\b\b\b\b\b\b\b\b\b\b\b\b\b\b\b\b\b\b\b\b\b\b\b\b\b\b\b\b\b\b\b\b\b\b\b\b\b\b\b\b\b\b\b\b\b\b\b\b\b\b\b\b\b\b\b\b\b\b\b\b\b\b\b\b\b\b\b\b\b\b\b\b\b\r",
      "34/36 [===========================>..] - ETA: 0s - loss: 10.0940 - mae: 2.1943 - mse: 10.0940"
     ]
    },
    {
     "name": "stdout",
     "output_type": "stream",
     "text": [
      "\b\b\b\b\b\b\b\b\b\b\b\b\b\b\b\b\b\b\b\b\b\b\b\b\b\b\b\b\b\b\b\b\b\b\b\b\b\b\b\b\b\b\b\b\b\b\b\b\b\b\b\b\b\b\b\b\b\b\b\b\b\b\b\b\b\b\b\b\b\b\b\b\b\b\b\b\b\b\b\b\b\b\b\b\b\b\b\b\b\b\b\b\b\r",
      "36/36 [==============================] - 0s 4ms/step - loss: 10.1132 - mae: 2.1919 - mse: 10.1132 - val_loss: 8.8498 - val_mae: 2.3510 - val_mse: 8.8498\n"
     ]
    },
    {
     "name": "stdout",
     "output_type": "stream",
     "text": [
      "Epoch 31/100\n",
      "\r",
      " 1/36 [..............................] - ETA: 0s - loss: 10.3107 - mae: 2.8135 - mse: 10.3107"
     ]
    },
    {
     "name": "stdout",
     "output_type": "stream",
     "text": [
      "\b\b\b\b\b\b\b\b\b\b\b\b\b\b\b\b\b\b\b\b\b\b\b\b\b\b\b\b\b\b\b\b\b\b\b\b\b\b\b\b\b\b\b\b\b\b\b\b\b\b\b\b\b\b\b\b\b\b\b\b\b\b\b\b\b\b\b\b\b\b\b\b\b\b\b\b\b\b\b\b\b\b\b\b\b\b\b\b\b\b\b\b\b\r",
      "34/36 [===========================>..] - ETA: 0s - loss: 11.0015 - mae: 2.1908 - mse: 11.0015"
     ]
    },
    {
     "name": "stdout",
     "output_type": "stream",
     "text": [
      "\b\b\b\b\b\b\b\b\b\b\b\b\b\b\b\b\b\b\b\b\b\b\b\b\b\b\b\b\b\b\b\b\b\b\b\b\b\b\b\b\b\b\b\b\b\b\b\b\b\b\b\b\b\b\b\b\b\b\b\b\b\b\b\b\b\b\b\b\b\b\b\b\b\b\b\b\b\b\b\b\b\b\b\b\b\b\b\b\b\b\b\b\b\r",
      "36/36 [==============================] - 0s 4ms/step - loss: 10.9333 - mae: 2.1877 - mse: 10.9333 - val_loss: 8.9748 - val_mae: 2.3883 - val_mse: 8.9748\n"
     ]
    },
    {
     "name": "stdout",
     "output_type": "stream",
     "text": [
      "Epoch 32/100\n",
      "\r",
      " 1/36 [..............................] - ETA: 0s - loss: 6.3012 - mae: 2.0866 - mse: 6.3012"
     ]
    },
    {
     "name": "stdout",
     "output_type": "stream",
     "text": [
      "\b\b\b\b\b\b\b\b\b\b\b\b\b\b\b\b\b\b\b\b\b\b\b\b\b\b\b\b\b\b\b\b\b\b\b\b\b\b\b\b\b\b\b\b\b\b\b\b\b\b\b\b\b\b\b\b\b\b\b\b\b\b\b\b\b\b\b\b\b\b\b\b\b\b\b\b\b\b\b\b\b\b\b\b\b\b\b\b\b\b\b\r",
      "34/36 [===========================>..] - ETA: 0s - loss: 8.0357 - mae: 2.0869 - mse: 8.0357"
     ]
    },
    {
     "name": "stdout",
     "output_type": "stream",
     "text": [
      "\b\b\b\b\b\b\b\b\b\b\b\b\b\b\b\b\b\b\b\b\b\b\b\b\b\b\b\b\b\b\b\b\b\b\b\b\b\b\b\b\b\b\b\b\b\b\b\b\b\b\b\b\b\b\b\b\b\b\b\b\b\b\b\b\b\b\b\b\b\b\b\b\b\b\b\b\b\b\b\b\b\b\b\b\b\b\b\b\b\b\b\r",
      "36/36 [==============================] - 0s 4ms/step - loss: 8.2024 - mae: 2.0935 - mse: 8.2024 - val_loss: 8.9590 - val_mae: 2.3897 - val_mse: 8.9590\n"
     ]
    },
    {
     "name": "stdout",
     "output_type": "stream",
     "text": [
      "Epoch 33/100\n",
      "\r",
      " 1/36 [..............................] - ETA: 0s - loss: 6.9385 - mae: 1.9446 - mse: 6.9385"
     ]
    },
    {
     "name": "stdout",
     "output_type": "stream",
     "text": [
      "\b\b\b\b\b\b\b\b\b\b\b\b\b\b\b\b\b\b\b\b\b\b\b\b\b\b\b\b\b\b\b\b\b\b\b\b\b\b\b\b\b\b\b\b\b\b\b\b\b\b\b\b\b\b\b\b\b\b\b\b\b\b\b\b\b\b\b\b\b\b\b\b\b\b\b\b\b\b\b\b\b\b\b\b\b\b\b\b\b\b\b\r",
      "34/36 [===========================>..] - ETA: 0s - loss: 9.0289 - mae: 2.0632 - mse: 9.0289"
     ]
    },
    {
     "name": "stdout",
     "output_type": "stream",
     "text": [
      "\b\b\b\b\b\b\b\b\b\b\b\b\b\b\b\b\b\b\b\b\b\b\b\b\b\b\b\b\b\b\b\b\b\b\b\b\b\b\b\b\b\b\b\b\b\b\b\b\b\b\b\b\b\b\b\b\b\b\b\b\b\b\b\b\b\b\b\b\b\b\b\b\b\b\b\b\b\b\b\b\b\b\b\b\b\b\b\b\b\b\b\r",
      "36/36 [==============================] - 0s 4ms/step - loss: 9.0799 - mae: 2.0649 - mse: 9.0799 - val_loss: 8.6439 - val_mae: 2.3159 - val_mse: 8.6439\n"
     ]
    },
    {
     "name": "stdout",
     "output_type": "stream",
     "text": [
      "Epoch 34/100\n",
      "\r",
      " 1/36 [..............................] - ETA: 0s - loss: 3.7298 - mae: 1.5361 - mse: 3.7298"
     ]
    },
    {
     "name": "stdout",
     "output_type": "stream",
     "text": [
      "\b\b\b\b\b\b\b\b\b\b\b\b\b\b\b\b\b\b\b\b\b\b\b\b\b\b\b\b\b\b\b\b\b\b\b\b\b\b\b\b\b\b\b\b\b\b\b\b\b\b\b\b\b\b\b\b\b\b\b\b\b\b\b\b\b\b\b\b\b\b\b\b\b\b\b\b\b\b\b\b\b\b\b\b\b\b\b\b\b\b\b\r",
      "34/36 [===========================>..] - ETA: 0s - loss: 9.3667 - mae: 2.1388 - mse: 9.3667"
     ]
    },
    {
     "name": "stdout",
     "output_type": "stream",
     "text": [
      "\b\b\b\b\b\b\b\b\b\b\b\b\b\b\b\b\b\b\b\b\b\b\b\b\b\b\b\b\b\b\b\b\b\b\b\b\b\b\b\b\b\b\b\b\b\b\b\b\b\b\b\b\b\b\b\b\b\b\b\b\b\b\b\b\b\b\b\b\b\b\b\b\b\b\b\b\b\b\b\b\b\b\b\b\b\b\b\b\b\b\b\r",
      "36/36 [==============================] - 0s 4ms/step - loss: 9.4029 - mae: 2.1410 - mse: 9.4029 - val_loss: 8.5795 - val_mae: 2.2884 - val_mse: 8.5795\n"
     ]
    },
    {
     "name": "stdout",
     "output_type": "stream",
     "text": [
      "Epoch 35/100\n",
      "\r",
      " 1/36 [..............................] - ETA: 0s - loss: 1.8908 - mae: 1.0418 - mse: 1.8908"
     ]
    },
    {
     "name": "stdout",
     "output_type": "stream",
     "text": [
      "\b\b\b\b\b\b\b\b\b\b\b\b\b\b\b\b\b\b\b\b\b\b\b\b\b\b\b\b\b\b\b\b\b\b\b\b\b\b\b\b\b\b\b\b\b\b\b\b\b\b\b\b\b\b\b\b\b\b\b\b\b\b\b\b\b\b\b\b\b\b\b\b\b\b\b\b\b\b\b\b\b\b\b\b\b\b\b\b\b\b\b\r",
      "34/36 [===========================>..] - ETA: 0s - loss: 11.7563 - mae: 2.1784 - mse: 11.7563"
     ]
    },
    {
     "name": "stdout",
     "output_type": "stream",
     "text": [
      "\b\b\b\b\b\b\b\b\b\b\b\b\b\b\b\b\b\b\b\b\b\b\b\b\b\b\b\b\b\b\b\b\b\b\b\b\b\b\b\b\b\b\b\b\b\b\b\b\b\b\b\b\b\b\b\b\b\b\b\b\b\b\b\b\b\b\b\b\b\b\b\b\b\b\b\b\b\b\b\b\b\b\b\b\b\b\b\b\b\b\b\b\b\r",
      "36/36 [==============================] - 0s 4ms/step - loss: 11.5820 - mae: 2.1735 - mse: 11.5820 - val_loss: 9.2581 - val_mae: 2.3938 - val_mse: 9.2581\n"
     ]
    },
    {
     "name": "stdout",
     "output_type": "stream",
     "text": [
      "Epoch 36/100\n",
      "\r",
      " 1/36 [..............................] - ETA: 0s - loss: 2.1640 - mae: 1.1371 - mse: 2.1640"
     ]
    },
    {
     "name": "stdout",
     "output_type": "stream",
     "text": [
      "\b\b\b\b\b\b\b\b\b\b\b\b\b\b\b\b\b\b\b\b\b\b\b\b\b\b\b\b\b\b\b\b\b\b\b\b\b\b\b\b\b\b\b\b\b\b\b\b\b\b\b\b\b\b\b\b\b\b\b\b\b\b\b\b\b\b\b\b\b\b\b\b\b\b\b\b\b\b\b\b\b\b\b\b\b\b\b\b\b\b\b\r",
      "34/36 [===========================>..] - ETA: 0s - loss: 6.7433 - mae: 1.8104 - mse: 6.7433"
     ]
    },
    {
     "name": "stdout",
     "output_type": "stream",
     "text": [
      "\b\b\b\b\b\b\b\b\b\b\b\b\b\b\b\b\b\b\b\b\b\b\b\b\b\b\b\b\b\b\b\b\b\b\b\b\b\b\b\b\b\b\b\b\b\b\b\b\b\b\b\b\b\b\b\b\b\b\b\b\b\b\b\b\b\b\b\b\b\b\b\b\b\b\b\b\b\b\b\b\b\b\b\b\b\b\b\b\b\b\b\r",
      "36/36 [==============================] - 0s 4ms/step - loss: 6.9422 - mae: 1.8323 - mse: 6.9422 - val_loss: 9.0955 - val_mae: 2.3906 - val_mse: 9.0955\n"
     ]
    },
    {
     "name": "stdout",
     "output_type": "stream",
     "text": [
      "Epoch 37/100\n",
      "\r",
      " 1/36 [..............................] - ETA: 0s - loss: 2.2145 - mae: 1.2357 - mse: 2.2145"
     ]
    },
    {
     "name": "stdout",
     "output_type": "stream",
     "text": [
      "\b\b\b\b\b\b\b\b\b\b\b\b\b\b\b\b\b\b\b\b\b\b\b\b\b\b\b\b\b\b\b\b\b\b\b\b\b\b\b\b\b\b\b\b\b\b\b\b\b\b\b\b\b\b\b\b\b\b\b\b\b\b\b\b\b\b\b\b\b\b\b\b\b\b\b\b\b\b\b\b\b\b\b\b\b\b\b\b\b\b\b\r",
      "34/36 [===========================>..] - ETA: 0s - loss: 6.9002 - mae: 1.9238 - mse: 6.9002"
     ]
    },
    {
     "name": "stdout",
     "output_type": "stream",
     "text": [
      "\b\b\b\b\b\b\b\b\b\b\b\b\b\b\b\b\b\b\b\b\b\b\b\b\b\b\b\b\b\b\b\b\b\b\b\b\b\b\b\b\b\b\b\b\b\b\b\b\b\b\b\b\b\b\b\b\b\b\b\b\b\b\b\b\b\b\b\b\b\b\b\b\b\b\b\b\b\b\b\b\b\b\b\b\b\b\b\b\b\b\b\r",
      "36/36 [==============================] - 0s 4ms/step - loss: 7.0822 - mae: 1.9355 - mse: 7.0822 - val_loss: 8.5413 - val_mae: 2.2984 - val_mse: 8.5413\n"
     ]
    },
    {
     "name": "stdout",
     "output_type": "stream",
     "text": [
      "Epoch 38/100\n",
      "\r",
      " 1/36 [..............................] - ETA: 0s - loss: 6.5596 - mae: 1.7439 - mse: 6.5596"
     ]
    },
    {
     "name": "stdout",
     "output_type": "stream",
     "text": [
      "\b\b\b\b\b\b\b\b\b\b\b\b\b\b\b\b\b\b\b\b\b\b\b\b\b\b\b\b\b\b\b\b\b\b\b\b\b\b\b\b\b\b\b\b\b\b\b\b\b\b\b\b\b\b\b\b\b\b\b\b\b\b\b\b\b\b\b\b\b\b\b\b\b\b\b\b\b\b\b\b\b\b\b\b\b\b\b\b\b\b\b\r",
      "34/36 [===========================>..] - ETA: 0s - loss: 9.3026 - mae: 2.0303 - mse: 9.3026"
     ]
    },
    {
     "name": "stdout",
     "output_type": "stream",
     "text": [
      "\b\b\b\b\b\b\b\b\b\b\b\b\b\b\b\b\b\b\b\b\b\b\b\b\b\b\b\b\b\b\b\b\b\b\b\b\b\b\b\b\b\b\b\b\b\b\b\b\b\b\b\b\b\b\b\b\b\b\b\b\b\b\b\b\b\b\b\b\b\b\b\b\b\b\b\b\b\b\b\b\b\b\b\b\b\b\b\b\b\b\b\r",
      "36/36 [==============================] - 0s 4ms/step - loss: 9.2828 - mae: 2.0306 - mse: 9.2828 - val_loss: 8.6859 - val_mae: 2.3077 - val_mse: 8.6859\n"
     ]
    },
    {
     "name": "stdout",
     "output_type": "stream",
     "text": [
      "Epoch 39/100\n",
      "\r",
      " 1/36 [..............................] - ETA: 0s - loss: 2.7300 - mae: 1.4340 - mse: 2.7300"
     ]
    },
    {
     "name": "stdout",
     "output_type": "stream",
     "text": [
      "\b\b\b\b\b\b\b\b\b\b\b\b\b\b\b\b\b\b\b\b\b\b\b\b\b\b\b\b\b\b\b\b\b\b\b\b\b\b\b\b\b\b\b\b\b\b\b\b\b\b\b\b\b\b\b\b\b\b\b\b\b\b\b\b\b\b\b\b\b\b\b\b\b\b\b\b\b\b\b\b\b\b\b\b\b\b\b\b\b\b\b\r",
      "34/36 [===========================>..] - ETA: 0s - loss: 7.0254 - mae: 1.8947 - mse: 7.0254"
     ]
    },
    {
     "name": "stdout",
     "output_type": "stream",
     "text": [
      "\b\b\b\b\b\b\b\b\b\b\b\b\b\b\b\b\b\b\b\b\b\b\b\b\b\b\b\b\b\b\b\b\b\b\b\b\b\b\b\b\b\b\b\b\b\b\b\b\b\b\b\b\b\b\b\b\b\b\b\b\b\b\b\b\b\b\b\b\b\b\b\b\b\b\b\b\b\b\b\b\b\b\b\b\b\b\b\b\b\b\b\r",
      "36/36 [==============================] - 0s 4ms/step - loss: 7.1789 - mae: 1.9057 - mse: 7.1789 - val_loss: 8.6374 - val_mae: 2.3234 - val_mse: 8.6374\n"
     ]
    },
    {
     "name": "stdout",
     "output_type": "stream",
     "text": [
      "Epoch 40/100\n",
      "\r",
      " 1/36 [..............................] - ETA: 0s - loss: 4.1163 - mae: 1.5138 - mse: 4.1163"
     ]
    },
    {
     "name": "stdout",
     "output_type": "stream",
     "text": [
      "\b\b\b\b\b\b\b\b\b\b\b\b\b\b\b\b\b\b\b\b\b\b\b\b\b\b\b\b\b\b\b\b\b\b\b\b\b\b\b\b\b\b\b\b\b\b\b\b\b\b\b\b\b\b\b\b\b\b\b\b\b\b\b\b\b\b\b\b\b\b\b\b\b\b\b\b\b\b\b\b\b\b\b\b\b\b\b\b\b\b\b\r",
      "34/36 [===========================>..] - ETA: 0s - loss: 8.0088 - mae: 1.9635 - mse: 8.0088"
     ]
    },
    {
     "name": "stdout",
     "output_type": "stream",
     "text": [
      "\b\b\b\b\b\b\b\b\b\b\b\b\b\b\b\b\b\b\b\b\b\b\b\b\b\b\b\b\b\b\b\b\b\b\b\b\b\b\b\b\b\b\b\b\b\b\b\b\b\b\b\b\b\b\b\b\b\b\b\b\b\b\b\b\b\b\b\b\b\b\b\b\b\b\b\b\b\b\b\b\b\b\b\b\b\b\b\b\b\b\b\r",
      "36/36 [==============================] - 0s 4ms/step - loss: 8.0745 - mae: 1.9677 - mse: 8.0745 - val_loss: 9.6931 - val_mae: 2.4452 - val_mse: 9.6931\n"
     ]
    },
    {
     "name": "stdout",
     "output_type": "stream",
     "text": [
      "Epoch 41/100\n",
      "\r",
      " 1/36 [..............................] - ETA: 0s - loss: 4.8259 - mae: 1.6200 - mse: 4.8259"
     ]
    },
    {
     "name": "stdout",
     "output_type": "stream",
     "text": [
      "\b\b\b\b\b\b\b\b\b\b\b\b\b\b\b\b\b\b\b\b\b\b\b\b\b\b\b\b\b\b\b\b\b\b\b\b\b\b\b\b\b\b\b\b\b\b\b\b\b\b\b\b\b\b\b\b\b\b\b\b\b\b\b\b\b\b\b\b\b\b\b\b\b\b\b\b\b\b\b\b\b\b\b\b\b\b\b\b\b\b\b\r",
      "34/36 [===========================>..] - ETA: 0s - loss: 9.2401 - mae: 2.1350 - mse: 9.2401"
     ]
    },
    {
     "name": "stdout",
     "output_type": "stream",
     "text": [
      "\b\b\b\b\b\b\b\b\b\b\b\b\b\b\b\b\b\b\b\b\b\b\b\b\b\b\b\b\b\b\b\b\b\b\b\b\b\b\b\b\b\b\b\b\b\b\b\b\b\b\b\b\b\b\b\b\b\b\b\b\b\b\b\b\b\b\b\b\b\b\b\b\b\b\b\b\b\b\b\b\b\b\b\b\b\b\b\b\b\b\b\r",
      "36/36 [==============================] - 0s 4ms/step - loss: 9.1910 - mae: 2.1262 - mse: 9.1910 - val_loss: 8.9321 - val_mae: 2.3751 - val_mse: 8.9321\n"
     ]
    },
    {
     "name": "stdout",
     "output_type": "stream",
     "text": [
      "Epoch 42/100\n",
      "\r",
      " 1/36 [..............................] - ETA: 0s - loss: 2.9871 - mae: 1.3113 - mse: 2.9871"
     ]
    },
    {
     "name": "stdout",
     "output_type": "stream",
     "text": [
      "\b\b\b\b\b\b\b\b\b\b\b\b\b\b\b\b\b\b\b\b\b\b\b\b\b\b\b\b\b\b\b\b\b\b\b\b\b\b\b\b\b\b\b\b\b\b\b\b\b\b\b\b\b\b\b\b\b\b\b\b\b\b\b\b\b\b\b\b\b\b\b\b\b\b\b\b\b\b\b\b\b\b\b\b\b\b\b\b\b\b\b\r",
      "34/36 [===========================>..] - ETA: 0s - loss: 9.0091 - mae: 1.9777 - mse: 9.0091"
     ]
    },
    {
     "name": "stdout",
     "output_type": "stream",
     "text": [
      "\b\b\b\b\b\b\b\b\b\b\b\b\b\b\b\b\b\b\b\b\b\b\b\b\b\b\b\b\b\b\b\b\b\b\b\b\b\b\b\b\b\b\b\b\b\b\b\b\b\b\b\b\b\b\b\b\b\b\b\b\b\b\b\b\b\b\b\b\b\b\b\b\b\b\b\b\b\b\b\b\b\b\b\b\b\b\b\b\b\b\b\r",
      "36/36 [==============================] - 0s 4ms/step - loss: 8.9467 - mae: 1.9773 - mse: 8.9467 - val_loss: 8.3539 - val_mae: 2.2303 - val_mse: 8.3539\n"
     ]
    },
    {
     "name": "stdout",
     "output_type": "stream",
     "text": [
      "Epoch 43/100\n",
      "\r",
      " 1/36 [..............................] - ETA: 0s - loss: 7.0962 - mae: 2.0779 - mse: 7.0962"
     ]
    },
    {
     "name": "stdout",
     "output_type": "stream",
     "text": [
      "\b\b\b\b\b\b\b\b\b\b\b\b\b\b\b\b\b\b\b\b\b\b\b\b\b\b\b\b\b\b\b\b\b\b\b\b\b\b\b\b\b\b\b\b\b\b\b\b\b\b\b\b\b\b\b\b\b\b\b\b\b\b\b\b\b\b\b\b\b\b\b\b\b\b\b\b\b\b\b\b\b\b\b\b\b\b\b\b\b\b\b\r",
      "34/36 [===========================>..] - ETA: 0s - loss: 6.7543 - mae: 1.8229 - mse: 6.7543"
     ]
    },
    {
     "name": "stdout",
     "output_type": "stream",
     "text": [
      "\b\b\b\b\b\b\b\b\b\b\b\b\b\b\b\b\b\b\b\b\b\b\b\b\b\b\b\b\b\b\b\b\b\b\b\b\b\b\b\b\b\b\b\b\b\b\b\b\b\b\b\b\b\b\b\b\b\b\b\b\b\b\b\b\b\b\b\b\b\b\b\b\b\b\b\b\b\b\b\b\b\b\b\b\b\b\b\b\b\b\b\r",
      "36/36 [==============================] - 0s 4ms/step - loss: 6.8821 - mae: 1.8332 - mse: 6.8821 - val_loss: 8.8348 - val_mae: 2.3382 - val_mse: 8.8348\n"
     ]
    },
    {
     "name": "stdout",
     "output_type": "stream",
     "text": [
      "Epoch 44/100\n",
      "\r",
      " 1/36 [..............................] - ETA: 0s - loss: 3.8495 - mae: 1.5059 - mse: 3.8495"
     ]
    },
    {
     "name": "stdout",
     "output_type": "stream",
     "text": [
      "\b\b\b\b\b\b\b\b\b\b\b\b\b\b\b\b\b\b\b\b\b\b\b\b\b\b\b\b\b\b\b\b\b\b\b\b\b\b\b\b\b\b\b\b\b\b\b\b\b\b\b\b\b\b\b\b\b\b\b\b\b\b\b\b\b\b\b\b\b\b\b\b\b\b\b\b\b\b\b\b\b\b\b\b\b\b\b\b\b\b\b\r",
      "34/36 [===========================>..] - ETA: 0s - loss: 6.5738 - mae: 1.8401 - mse: 6.5738"
     ]
    },
    {
     "name": "stdout",
     "output_type": "stream",
     "text": [
      "\b\b\b\b\b\b\b\b\b\b\b\b\b\b\b\b\b\b\b\b\b\b\b\b\b\b\b\b\b\b\b\b\b\b\b\b\b\b\b\b\b\b\b\b\b\b\b\b\b\b\b\b\b\b\b\b\b\b\b\b\b\b\b\b\b\b\b\b\b\b\b\b\b\b\b\b\b\b\b\b\b\b\b\b\b\b\b\b\b\b\b\r",
      "36/36 [==============================] - 0s 4ms/step - loss: 6.7010 - mae: 1.8489 - mse: 6.7010 - val_loss: 8.4047 - val_mae: 2.2894 - val_mse: 8.4047\n"
     ]
    },
    {
     "name": "stdout",
     "output_type": "stream",
     "text": [
      "Epoch 45/100\n",
      "\r",
      " 1/36 [..............................] - ETA: 0s - loss: 9.3208 - mae: 2.0958 - mse: 9.3208"
     ]
    },
    {
     "name": "stdout",
     "output_type": "stream",
     "text": [
      "\b\b\b\b\b\b\b\b\b\b\b\b\b\b\b\b\b\b\b\b\b\b\b\b\b\b\b\b\b\b\b\b\b\b\b\b\b\b\b\b\b\b\b\b\b\b\b\b\b\b\b\b\b\b\b\b\b\b\b\b\b\b\b\b\b\b\b\b\b\b\b\b\b\b\b\b\b\b\b\b\b\b\b\b\b\b\b\b\b\b\b\r",
      "34/36 [===========================>..] - ETA: 0s - loss: 9.0672 - mae: 2.0602 - mse: 9.0672"
     ]
    },
    {
     "name": "stdout",
     "output_type": "stream",
     "text": [
      "\b\b\b\b\b\b\b\b\b\b\b\b\b\b\b\b\b\b\b\b\b\b\b\b\b\b\b\b\b\b\b\b\b\b\b\b\b\b\b\b\b\b\b\b\b\b\b\b\b\b\b\b\b\b\b\b\b\b\b\b\b\b\b\b\b\b\b\b\b\b\b\b\b\b\b\b\b\b\b\b\b\b\b\b\b\b\b\b\b\b\b\r",
      "36/36 [==============================] - 0s 4ms/step - loss: 8.9891 - mae: 2.0520 - mse: 8.9891 - val_loss: 8.6440 - val_mae: 2.2606 - val_mse: 8.6440\n"
     ]
    },
    {
     "name": "stdout",
     "output_type": "stream",
     "text": [
      "Epoch 46/100\n",
      "\r",
      " 1/36 [..............................] - ETA: 0s - loss: 3.8548 - mae: 1.5954 - mse: 3.8548"
     ]
    },
    {
     "name": "stdout",
     "output_type": "stream",
     "text": [
      "\b\b\b\b\b\b\b\b\b\b\b\b\b\b\b\b\b\b\b\b\b\b\b\b\b\b\b\b\b\b\b\b\b\b\b\b\b\b\b\b\b\b\b\b\b\b\b\b\b\b\b\b\b\b\b\b\b\b\b\b\b\b\b\b\b\b\b\b\b\b\b\b\b\b\b\b\b\b\b\b\b\b\b\b\b\b\b\b\b\b\b\r",
      "35/36 [============================>.] - ETA: 0s - loss: 7.1208 - mae: 1.8915 - mse: 7.1208"
     ]
    },
    {
     "name": "stdout",
     "output_type": "stream",
     "text": [
      "\b\b\b\b\b\b\b\b\b\b\b\b\b\b\b\b\b\b\b\b\b\b\b\b\b\b\b\b\b\b\b\b\b\b\b\b\b\b\b\b\b\b\b\b\b\b\b\b\b\b\b\b\b\b\b\b\b\b\b\b\b\b\b\b\b\b\b\b\b\b\b\b\b\b\b\b\b\b\b\b\b\b\b\b\b\b\b\b\b\b\b\r",
      "36/36 [==============================] - 0s 4ms/step - loss: 7.1663 - mae: 1.8963 - mse: 7.1663 - val_loss: 8.8708 - val_mae: 2.3128 - val_mse: 8.8708\n"
     ]
    },
    {
     "name": "stdout",
     "output_type": "stream",
     "text": [
      "Epoch 47/100\n",
      "\r",
      " 1/36 [..............................] - ETA: 0s - loss: 6.2577 - mae: 2.0186 - mse: 6.2577"
     ]
    },
    {
     "name": "stdout",
     "output_type": "stream",
     "text": [
      "\b\b\b\b\b\b\b\b\b\b\b\b\b\b\b\b\b\b\b\b\b\b\b\b\b\b\b\b\b\b\b\b\b\b\b\b\b\b\b\b\b\b\b\b\b\b\b\b\b\b\b\b\b\b\b\b\b\b\b\b\b\b\b\b\b\b\b\b\b\b\b\b\b\b\b\b\b\b\b\b\b\b\b\b\b\b\b\b\b\b\b\r",
      "35/36 [============================>.] - ETA: 0s - loss: 6.0318 - mae: 1.8195 - mse: 6.0318"
     ]
    },
    {
     "name": "stdout",
     "output_type": "stream",
     "text": [
      "\b\b\b\b\b\b\b\b\b\b\b\b\b\b\b\b\b\b\b\b\b\b\b\b\b\b\b\b\b\b\b\b\b\b\b\b\b\b\b\b\b\b\b\b\b\b\b\b\b\b\b\b\b\b\b\b\b\b\b\b\b\b\b\b\b\b\b\b\b\b\b\b\b\b\b\b\b\b\b\b\b\b\b\b\b\b\b\b\b\b\b\r",
      "36/36 [==============================] - 0s 4ms/step - loss: 6.1066 - mae: 1.8241 - mse: 6.1066 - val_loss: 8.8469 - val_mae: 2.3454 - val_mse: 8.8469\n"
     ]
    },
    {
     "name": "stdout",
     "output_type": "stream",
     "text": [
      "Epoch 48/100\n",
      "\r",
      " 1/36 [..............................] - ETA: 0s - loss: 3.6707 - mae: 1.4225 - mse: 3.6707"
     ]
    },
    {
     "name": "stdout",
     "output_type": "stream",
     "text": [
      "\b\b\b\b\b\b\b\b\b\b\b\b\b\b\b\b\b\b\b\b\b\b\b\b\b\b\b\b\b\b\b\b\b\b\b\b\b\b\b\b\b\b\b\b\b\b\b\b\b\b\b\b\b\b\b\b\b\b\b\b\b\b\b\b\b\b\b\b\b\b\b\b\b\b\b\b\b\b\b\b\b\b\b\b\b\b\b\b\b\b\b\r",
      "35/36 [============================>.] - ETA: 0s - loss: 8.6184 - mae: 1.9302 - mse: 8.6184"
     ]
    },
    {
     "name": "stdout",
     "output_type": "stream",
     "text": [
      "\b\b\b\b\b\b\b\b\b\b\b\b\b\b\b\b\b\b\b\b\b\b\b\b\b\b\b\b\b\b\b\b\b\b\b\b\b\b\b\b\b\b\b\b\b\b\b\b\b\b\b\b\b\b\b\b\b\b\b\b\b\b\b\b\b\b\b\b\b\b\b\b\b\b\b\b\b\b\b\b\b\b\b\b\b\b\b\b\b\b\b\r",
      "36/36 [==============================] - 0s 4ms/step - loss: 8.5654 - mae: 1.9318 - mse: 8.5654 - val_loss: 9.2372 - val_mae: 2.3720 - val_mse: 9.2372\n"
     ]
    },
    {
     "name": "stdout",
     "output_type": "stream",
     "text": [
      "Epoch 49/100\n",
      "\r",
      " 1/36 [..............................] - ETA: 0s - loss: 5.9107 - mae: 1.8794 - mse: 5.9107"
     ]
    },
    {
     "name": "stdout",
     "output_type": "stream",
     "text": [
      "\b\b\b\b\b\b\b\b\b\b\b\b\b\b\b\b\b\b\b\b\b\b\b\b\b\b\b\b\b\b\b\b\b\b\b\b\b\b\b\b\b\b\b\b\b\b\b\b\b\b\b\b\b\b\b\b\b\b\b\b\b\b\b\b\b\b\b\b\b\b\b\b\b\b\b\b\b\b\b\b\b\b\b\b\b\b\b\b\b\b\b\r",
      "35/36 [============================>.] - ETA: 0s - loss: 7.6740 - mae: 1.9307 - mse: 7.6740"
     ]
    },
    {
     "name": "stdout",
     "output_type": "stream",
     "text": [
      "\b\b\b\b\b\b\b\b\b\b\b\b\b\b\b\b\b\b\b\b\b\b\b\b\b\b\b\b\b\b\b\b\b\b\b\b\b\b\b\b\b\b\b\b\b\b\b\b\b\b\b\b\b\b\b\b\b\b\b\b\b\b\b\b\b\b\b\b\b\b\b\b\b\b\b\b\b\b\b\b\b\b\b\b\b\b\b\b\b\b\b\r",
      "36/36 [==============================] - 0s 4ms/step - loss: 7.6664 - mae: 1.9302 - mse: 7.6664 - val_loss: 8.4279 - val_mae: 2.2711 - val_mse: 8.4279\n"
     ]
    },
    {
     "name": "stdout",
     "output_type": "stream",
     "text": [
      "Epoch 50/100\n",
      "\r",
      " 1/36 [..............................] - ETA: 0s - loss: 2.0930 - mae: 1.0892 - mse: 2.0930"
     ]
    },
    {
     "name": "stdout",
     "output_type": "stream",
     "text": [
      "\b\b\b\b\b\b\b\b\b\b\b\b\b\b\b\b\b\b\b\b\b\b\b\b\b\b\b\b\b\b\b\b\b\b\b\b\b\b\b\b\b\b\b\b\b\b\b\b\b\b\b\b\b\b\b\b\b\b\b\b\b\b\b\b\b\b\b\b\b\b\b\b\b\b\b\b\b\b\b\b\b\b\b\b\b\b\b\b\b\b\b\r",
      "34/36 [===========================>..] - ETA: 0s - loss: 5.6656 - mae: 1.7056 - mse: 5.6656"
     ]
    },
    {
     "name": "stdout",
     "output_type": "stream",
     "text": [
      "\b\b\b\b\b\b\b\b\b\b\b\b\b\b\b\b\b\b\b\b\b\b\b\b\b\b\b\b\b\b\b\b\b\b\b\b\b\b\b\b\b\b\b\b\b\b\b\b\b\b\b\b\b\b\b\b\b\b\b\b\b\b\b\b\b\b\b\b\b\b\b\b\b\b\b\b\b\b\b\b\b\b\b\b\b\b\b\b\b\b\b\r",
      "36/36 [==============================] - 0s 4ms/step - loss: 5.7885 - mae: 1.7189 - mse: 5.7885 - val_loss: 9.2355 - val_mae: 2.3895 - val_mse: 9.2355\n"
     ]
    },
    {
     "name": "stdout",
     "output_type": "stream",
     "text": [
      "Epoch 51/100\n",
      "\r",
      " 1/36 [..............................] - ETA: 0s - loss: 2.1228 - mae: 1.0171 - mse: 2.1228"
     ]
    },
    {
     "name": "stdout",
     "output_type": "stream",
     "text": [
      "\b\b\b\b\b\b\b\b\b\b\b\b\b\b\b\b\b\b\b\b\b\b\b\b\b\b\b\b\b\b\b\b\b\b\b\b\b\b\b\b\b\b\b\b\b\b\b\b\b\b\b\b\b\b\b\b\b\b\b\b\b\b\b\b\b\b\b\b\b\b\b\b\b\b\b\b\b\b\b\b\b\b\b\b\b\b\b\b\b\b\b\r",
      "34/36 [===========================>..] - ETA: 0s - loss: 5.4031 - mae: 1.5778 - mse: 5.4031"
     ]
    },
    {
     "name": "stdout",
     "output_type": "stream",
     "text": [
      "\b\b\b\b\b\b\b\b\b\b\b\b\b\b\b\b\b\b\b\b\b\b\b\b\b\b\b\b\b\b\b\b\b\b\b\b\b\b\b\b\b\b\b\b\b\b\b\b\b\b\b\b\b\b\b\b\b\b\b\b\b\b\b\b\b\b\b\b\b\b\b\b\b\b\b\b\b\b\b\b\b\b\b\b\b\b\b\b\b\b\b\r",
      "36/36 [==============================] - 0s 4ms/step - loss: 5.5583 - mae: 1.6000 - mse: 5.5583 - val_loss: 9.0181 - val_mae: 2.3567 - val_mse: 9.0181\n"
     ]
    },
    {
     "name": "stdout",
     "output_type": "stream",
     "text": [
      "Epoch 52/100\n",
      "\r",
      " 1/36 [..............................] - ETA: 0s - loss: 3.9424 - mae: 1.4999 - mse: 3.9424"
     ]
    },
    {
     "name": "stdout",
     "output_type": "stream",
     "text": [
      "\b\b\b\b\b\b\b\b\b\b\b\b\b\b\b\b\b\b\b\b\b\b\b\b\b\b\b\b\b\b\b\b\b\b\b\b\b\b\b\b\b\b\b\b\b\b\b\b\b\b\b\b\b\b\b\b\b\b\b\b\b\b\b\b\b\b\b\b\b\b\b\b\b\b\b\b\b\b\b\b\b\b\b\b\b\b\b\b\b\b\b\r",
      "34/36 [===========================>..] - ETA: 0s - loss: 6.1106 - mae: 1.7516 - mse: 6.1106"
     ]
    },
    {
     "name": "stdout",
     "output_type": "stream",
     "text": [
      "\b\b\b\b\b\b\b\b\b\b\b\b\b\b\b\b\b\b\b\b\b\b\b\b\b\b\b\b\b\b\b\b\b\b\b\b\b\b\b\b\b\b\b\b\b\b\b\b\b\b\b\b\b\b\b\b\b\b\b\b\b\b\b\b\b\b\b\b\b\b\b\b\b\b\b\b\b\b\b\b\b\b\b\b\b\b\b\b\b\b\b\r",
      "36/36 [==============================] - 0s 4ms/step - loss: 6.2109 - mae: 1.7610 - mse: 6.2109 - val_loss: 8.8559 - val_mae: 2.3020 - val_mse: 8.8559\n"
     ]
    },
    {
     "name": "stdout",
     "output_type": "stream",
     "text": [
      "Epoch 53/100\n",
      "\r",
      " 1/36 [..............................] - ETA: 0s - loss: 8.0471 - mae: 2.2304 - mse: 8.0471"
     ]
    },
    {
     "name": "stdout",
     "output_type": "stream",
     "text": [
      "\b\b\b\b\b\b\b\b\b\b\b\b\b\b\b\b\b\b\b\b\b\b\b\b\b\b\b\b\b\b\b\b\b\b\b\b\b\b\b\b\b\b\b\b\b\b\b\b\b\b\b\b\b\b\b\b\b\b\b\b\b\b\b\b\b\b\b\b\b\b\b\b\b\b\b\b\b\b\b\b\b\b\b\b\b\b\b\b\b\b\b\r",
      "34/36 [===========================>..] - ETA: 0s - loss: 6.6120 - mae: 1.8393 - mse: 6.6120"
     ]
    },
    {
     "name": "stdout",
     "output_type": "stream",
     "text": [
      "\b\b\b\b\b\b\b\b\b\b\b\b\b\b\b\b\b\b\b\b\b\b\b\b\b\b\b\b\b\b\b\b\b\b\b\b\b\b\b\b\b\b\b\b\b\b\b\b\b\b\b\b\b\b\b\b\b\b\b\b\b\b\b\b\b\b\b\b\b\b\b\b\b\b\b\b\b\b\b\b\b\b\b\b\b\b\b\b\b\b\b\r",
      "36/36 [==============================] - 0s 4ms/step - loss: 6.6617 - mae: 1.8420 - mse: 6.6617 - val_loss: 8.4222 - val_mae: 2.2509 - val_mse: 8.4222\n"
     ]
    },
    {
     "name": "stdout",
     "output_type": "stream",
     "text": [
      "Epoch 54/100\n",
      "\r",
      " 1/36 [..............................] - ETA: 0s - loss: 2.1061 - mae: 1.1490 - mse: 2.1061"
     ]
    },
    {
     "name": "stdout",
     "output_type": "stream",
     "text": [
      "\b\b\b\b\b\b\b\b\b\b\b\b\b\b\b\b\b\b\b\b\b\b\b\b\b\b\b\b\b\b\b\b\b\b\b\b\b\b\b\b\b\b\b\b\b\b\b\b\b\b\b\b\b\b\b\b\b\b\b\b\b\b\b\b\b\b\b\b\b\b\b\b\b\b\b\b\b\b\b\b\b\b\b\b\b\b\b\b\b\b\b\r",
      "35/36 [============================>.] - ETA: 0s - loss: 7.3510 - mae: 1.8538 - mse: 7.3510"
     ]
    },
    {
     "name": "stdout",
     "output_type": "stream",
     "text": [
      "\b\b\b\b\b\b\b\b\b\b\b\b\b\b\b\b\b\b\b\b\b\b\b\b\b\b\b\b\b\b\b\b\b\b\b\b\b\b\b\b\b\b\b\b\b\b\b\b\b\b\b\b\b\b\b\b\b\b\b\b\b\b\b\b\b\b\b\b\b\b\b\b\b\b\b\b\b\b\b\b\b\b\b\b\b\b\b\b\b\b\b\r",
      "36/36 [==============================] - 0s 4ms/step - loss: 7.3339 - mae: 1.8545 - mse: 7.3339 - val_loss: 9.4042 - val_mae: 2.3825 - val_mse: 9.4042\n"
     ]
    },
    {
     "name": "stdout",
     "output_type": "stream",
     "text": [
      "Epoch 55/100\n",
      "\r",
      " 1/36 [..............................] - ETA: 0s - loss: 4.4517 - mae: 1.7883 - mse: 4.4517"
     ]
    },
    {
     "name": "stdout",
     "output_type": "stream",
     "text": [
      "\b\b\b\b\b\b\b\b\b\b\b\b\b\b\b\b\b\b\b\b\b\b\b\b\b\b\b\b\b\b\b\b\b\b\b\b\b\b\b\b\b\b\b\b\b\b\b\b\b\b\b\b\b\b\b\b\b\b\b\b\b\b\b\b\b\b\b\b\b\b\b\b\b\b\b\b\b\b\b\b\b\b\b\b\b\b\b\b\b\b\b\r",
      "35/36 [============================>.] - ETA: 0s - loss: 6.0103 - mae: 1.7214 - mse: 6.0103"
     ]
    },
    {
     "name": "stdout",
     "output_type": "stream",
     "text": [
      "\b\b\b\b\b\b\b\b\b\b\b\b\b\b\b\b\b\b\b\b\b\b\b\b\b\b\b\b\b\b\b\b\b\b\b\b\b\b\b\b\b\b\b\b\b\b\b\b\b\b\b\b\b\b\b\b\b\b\b\b\b\b\b\b\b\b\b\b\b\b\b\b\b\b\b\b\b\b\b\b\b\b\b\b\b\b\b\b\b\b\b\r",
      "36/36 [==============================] - 0s 4ms/step - loss: 6.0619 - mae: 1.7276 - mse: 6.0619 - val_loss: 9.0487 - val_mae: 2.3532 - val_mse: 9.0487\n"
     ]
    },
    {
     "name": "stdout",
     "output_type": "stream",
     "text": [
      "Epoch 56/100\n",
      "\r",
      " 1/36 [..............................] - ETA: 0s - loss: 5.0897 - mae: 1.5625 - mse: 5.0897"
     ]
    },
    {
     "name": "stdout",
     "output_type": "stream",
     "text": [
      "\b\b\b\b\b\b\b\b\b\b\b\b\b\b\b\b\b\b\b\b\b\b\b\b\b\b\b\b\b\b\b\b\b\b\b\b\b\b\b\b\b\b\b\b\b\b\b\b\b\b\b\b\b\b\b\b\b\b\b\b\b\b\b\b\b\b\b\b\b\b\b\b\b\b\b\b\b\b\b\b\b\b\b\b\b\b\b\b\b\b\b\r",
      "34/36 [===========================>..] - ETA: 0s - loss: 5.4752 - mae: 1.7355 - mse: 5.4752"
     ]
    },
    {
     "name": "stdout",
     "output_type": "stream",
     "text": [
      "\b\b\b\b\b\b\b\b\b\b\b\b\b\b\b\b\b\b\b\b\b\b\b\b\b\b\b\b\b\b\b\b\b\b\b\b\b\b\b\b\b\b\b\b\b\b\b\b\b\b\b\b\b\b\b\b\b\b\b\b\b\b\b\b\b\b\b\b\b\b\b\b\b\b\b\b\b\b\b\b\b\b\b\b\b\b\b\b\b\b\b\r",
      "36/36 [==============================] - 0s 4ms/step - loss: 5.5776 - mae: 1.7434 - mse: 5.5776 - val_loss: 9.2949 - val_mae: 2.3867 - val_mse: 9.2949\n"
     ]
    },
    {
     "name": "stdout",
     "output_type": "stream",
     "text": [
      "Epoch 57/100\n",
      "\r",
      " 1/36 [..............................] - ETA: 0s - loss: 7.3947 - mae: 2.2647 - mse: 7.3947"
     ]
    },
    {
     "name": "stdout",
     "output_type": "stream",
     "text": [
      "\b\b\b\b\b\b\b\b\b\b\b\b\b\b\b\b\b\b\b\b\b\b\b\b\b\b\b\b\b\b\b\b\b\b\b\b\b\b\b\b\b\b\b\b\b\b\b\b\b\b\b\b\b\b\b\b\b\b\b\b\b\b\b\b\b\b\b\b\b\b\b\b\b\b\b\b\b\b\b\b\b\b\b\b\b\b\b\b\b\b\b\r",
      "35/36 [============================>.] - ETA: 0s - loss: 6.1245 - mae: 1.8215 - mse: 6.1245"
     ]
    },
    {
     "name": "stdout",
     "output_type": "stream",
     "text": [
      "\b\b\b\b\b\b\b\b\b\b\b\b\b\b\b\b\b\b\b\b\b\b\b\b\b\b\b\b\b\b\b\b\b\b\b\b\b\b\b\b\b\b\b\b\b\b\b\b\b\b\b\b\b\b\b\b\b\b\b\b\b\b\b\b\b\b\b\b\b\b\b\b\b\b\b\b\b\b\b\b\b\b\b\b\b\b\b\b\b\b\b\r",
      "36/36 [==============================] - 0s 4ms/step - loss: 6.1598 - mae: 1.8201 - mse: 6.1598 - val_loss: 9.3782 - val_mae: 2.4082 - val_mse: 9.3782\n"
     ]
    },
    {
     "name": "stdout",
     "output_type": "stream",
     "text": [
      "Epoch 58/100\n",
      "\r",
      " 1/36 [..............................] - ETA: 0s - loss: 7.1078 - mae: 2.1136 - mse: 7.1078"
     ]
    },
    {
     "name": "stdout",
     "output_type": "stream",
     "text": [
      "\b\b\b\b\b\b\b\b\b\b\b\b\b\b\b\b\b\b\b\b\b\b\b\b\b\b\b\b\b\b\b\b\b\b\b\b\b\b\b\b\b\b\b\b\b\b\b\b\b\b\b\b\b\b\b\b\b\b\b\b\b\b\b\b\b\b\b\b\b\b\b\b\b\b\b\b\b\b\b\b\b\b\b\b\b\b\b\b\b\b\b\r",
      "35/36 [============================>.] - ETA: 0s - loss: 6.4823 - mae: 1.8167 - mse: 6.4823"
     ]
    },
    {
     "name": "stdout",
     "output_type": "stream",
     "text": [
      "\b\b\b\b\b\b\b\b\b\b\b\b\b\b\b\b\b\b\b\b\b\b\b\b\b\b\b\b\b\b\b\b\b\b\b\b\b\b\b\b\b\b\b\b\b\b\b\b\b\b\b\b\b\b\b\b\b\b\b\b\b\b\b\b\b\b\b\b\b\b\b\b\b\b\b\b\b\b\b\b\b\b\b\b\b\b\b\b\b\b\b\r",
      "36/36 [==============================] - 0s 4ms/step - loss: 6.4944 - mae: 1.8168 - mse: 6.4944 - val_loss: 8.6897 - val_mae: 2.2756 - val_mse: 8.6897\n"
     ]
    },
    {
     "name": "stdout",
     "output_type": "stream",
     "text": [
      "Epoch 59/100\n",
      "\r",
      " 1/36 [..............................] - ETA: 0s - loss: 2.1822 - mae: 1.3043 - mse: 2.1822"
     ]
    },
    {
     "name": "stdout",
     "output_type": "stream",
     "text": [
      "\b\b\b\b\b\b\b\b\b\b\b\b\b\b\b\b\b\b\b\b\b\b\b\b\b\b\b\b\b\b\b\b\b\b\b\b\b\b\b\b\b\b\b\b\b\b\b\b\b\b\b\b\b\b\b\b\b\b\b\b\b\b\b\b\b\b\b\b\b\b\b\b\b\b\b\b\b\b\b\b\b\b\b\b\b\b\b\b\b\b\b\r",
      "34/36 [===========================>..] - ETA: 0s - loss: 5.7032 - mae: 1.7373 - mse: 5.7032"
     ]
    },
    {
     "name": "stdout",
     "output_type": "stream",
     "text": [
      "\b\b\b\b\b\b\b\b\b\b\b\b\b\b\b\b\b\b\b\b\b\b\b\b\b\b\b\b\b\b\b\b\b\b\b\b\b\b\b\b\b\b\b\b\b\b\b\b\b\b\b\b\b\b\b\b\b\b\b\b\b\b\b\b\b\b\b\b\b\b\b\b\b\b\b\b\b\b\b\b\b\b\b\b\b\b\b\b\b\b\b\r",
      "36/36 [==============================] - 0s 4ms/step - loss: 5.7572 - mae: 1.7389 - mse: 5.7572 - val_loss: 8.8474 - val_mae: 2.3166 - val_mse: 8.8474\n"
     ]
    },
    {
     "name": "stdout",
     "output_type": "stream",
     "text": [
      "Epoch 60/100\n",
      "\r",
      " 1/36 [..............................] - ETA: 0s - loss: 5.1954 - mae: 1.8498 - mse: 5.1954"
     ]
    },
    {
     "name": "stdout",
     "output_type": "stream",
     "text": [
      "\b\b\b\b\b\b\b\b\b\b\b\b\b\b\b\b\b\b\b\b\b\b\b\b\b\b\b\b\b\b\b\b\b\b\b\b\b\b\b\b\b\b\b\b\b\b\b\b\b\b\b\b\b\b\b\b\b\b\b\b\b\b\b\b\b\b\b\b\b\b\b\b\b\b\b\b\b\b\b\b\b\b\b\b\b\b\b\b\b\b\b\r",
      "34/36 [===========================>..] - ETA: 0s - loss: 6.3263 - mae: 1.8440 - mse: 6.3263"
     ]
    },
    {
     "name": "stdout",
     "output_type": "stream",
     "text": [
      "\b\b\b\b\b\b\b\b\b\b\b\b\b\b\b\b\b\b\b\b\b\b\b\b\b\b\b\b\b\b\b\b\b\b\b\b\b\b\b\b\b\b\b\b\b\b\b\b\b\b\b\b\b\b\b\b\b\b\b\b\b\b\b\b\b\b\b\b\b\b\b\b\b\b\b\b\b\b\b\b\b\b\b\b\b\b\b\b\b\b\b\r",
      "36/36 [==============================] - 0s 4ms/step - loss: 6.3459 - mae: 1.8404 - mse: 6.3459 - val_loss: 8.6710 - val_mae: 2.2704 - val_mse: 8.6710\n"
     ]
    },
    {
     "name": "stdout",
     "output_type": "stream",
     "text": [
      "Epoch 61/100\n",
      "\r",
      " 1/36 [..............................] - ETA: 0s - loss: 6.4195 - mae: 1.8632 - mse: 6.4195"
     ]
    },
    {
     "name": "stdout",
     "output_type": "stream",
     "text": [
      "\b\b\b\b\b\b\b\b\b\b\b\b\b\b\b\b\b\b\b\b\b\b\b\b\b\b\b\b\b\b\b\b\b\b\b\b\b\b\b\b\b\b\b\b\b\b\b\b\b\b\b\b\b\b\b\b\b\b\b\b\b\b\b\b\b\b\b\b\b\b\b\b\b\b\b\b\b\b\b\b\b\b\b\b\b\b\b\b\b\b\b\r",
      "35/36 [============================>.] - ETA: 0s - loss: 6.1166 - mae: 1.8124 - mse: 6.1166"
     ]
    },
    {
     "name": "stdout",
     "output_type": "stream",
     "text": [
      "\b\b\b\b\b\b\b\b\b\b\b\b\b\b\b\b\b\b\b\b\b\b\b\b\b\b\b\b\b\b\b\b\b\b\b\b\b\b\b\b\b\b\b\b\b\b\b\b\b\b\b\b\b\b\b\b\b\b\b\b\b\b\b\b\b\b\b\b\b\b\b\b\b\b\b\b\b\b\b\b\b\b\b\b\b\b\b\b\b\b\b\r",
      "36/36 [==============================] - 0s 4ms/step - loss: 6.1268 - mae: 1.8115 - mse: 6.1268 - val_loss: 9.0357 - val_mae: 2.3331 - val_mse: 9.0357\n"
     ]
    },
    {
     "name": "stdout",
     "output_type": "stream",
     "text": [
      "Epoch 62/100\n",
      "\r",
      " 1/36 [..............................] - ETA: 0s - loss: 0.7338 - mae: 0.7246 - mse: 0.7338"
     ]
    },
    {
     "name": "stdout",
     "output_type": "stream",
     "text": [
      "\b\b\b\b\b\b\b\b\b\b\b\b\b\b\b\b\b\b\b\b\b\b\b\b\b\b\b\b\b\b\b\b\b\b\b\b\b\b\b\b\b\b\b\b\b\b\b\b\b\b\b\b\b\b\b\b\b\b\b\b\b\b\b\b\b\b\b\b\b\b\b\b\b\b\b\b\b\b\b\b\b\b\b\b\b\b\b\b\b\b\b\r",
      "34/36 [===========================>..] - ETA: 0s - loss: 5.4474 - mae: 1.6870 - mse: 5.4474"
     ]
    },
    {
     "name": "stdout",
     "output_type": "stream",
     "text": [
      "\b\b\b\b\b\b\b\b\b\b\b\b\b\b\b\b\b\b\b\b\b\b\b\b\b\b\b\b\b\b\b\b\b\b\b\b\b\b\b\b\b\b\b\b\b\b\b\b\b\b\b\b\b\b\b\b\b\b\b\b\b\b\b\b\b\b\b\b\b\b\b\b\b\b\b\b\b\b\b\b\b\b\b\b\b\b\b\b\b\b\b\r",
      "36/36 [==============================] - 0s 4ms/step - loss: 5.5046 - mae: 1.6893 - mse: 5.5046 - val_loss: 10.1371 - val_mae: 2.4808 - val_mse: 10.1371\n"
     ]
    },
    {
     "name": "stdout",
     "output_type": "stream",
     "text": [
      "Epoch 63/100\n",
      "\r",
      " 1/36 [..............................] - ETA: 0s - loss: 4.0922 - mae: 1.6030 - mse: 4.0922"
     ]
    },
    {
     "name": "stdout",
     "output_type": "stream",
     "text": [
      "\b\b\b\b\b\b\b\b\b\b\b\b\b\b\b\b\b\b\b\b\b\b\b\b\b\b\b\b\b\b\b\b\b\b\b\b\b\b\b\b\b\b\b\b\b\b\b\b\b\b\b\b\b\b\b\b\b\b\b\b\b\b\b\b\b\b\b\b\b\b\b\b\b\b\b\b\b\b\b\b\b\b\b\b\b\b\b\b\b\b\b\r",
      "34/36 [===========================>..] - ETA: 0s - loss: 6.1555 - mae: 1.7650 - mse: 6.1555"
     ]
    },
    {
     "name": "stdout",
     "output_type": "stream",
     "text": [
      "\b\b\b\b\b\b\b\b\b\b\b\b\b\b\b\b\b\b\b\b\b\b\b\b\b\b\b\b\b\b\b\b\b\b\b\b\b\b\b\b\b\b\b\b\b\b\b\b\b\b\b\b\b\b\b\b\b\b\b\b\b\b\b\b\b\b\b\b\b\b\b\b\b\b\b\b\b\b\b\b\b\b\b\b\b\b\b\b\b\b\b\r",
      "36/36 [==============================] - 0s 4ms/step - loss: 6.1638 - mae: 1.7637 - mse: 6.1638 - val_loss: 9.2031 - val_mae: 2.3488 - val_mse: 9.2031\n"
     ]
    },
    {
     "name": "stdout",
     "output_type": "stream",
     "text": [
      "Epoch 64/100\n",
      "\r",
      " 1/36 [..............................] - ETA: 0s - loss: 6.4411 - mae: 1.8127 - mse: 6.4411"
     ]
    },
    {
     "name": "stdout",
     "output_type": "stream",
     "text": [
      "\b\b\b\b\b\b\b\b\b\b\b\b\b\b\b\b\b\b\b\b\b\b\b\b\b\b\b\b\b\b\b\b\b\b\b\b\b\b\b\b\b\b\b\b\b\b\b\b\b\b\b\b\b\b\b\b\b\b\b\b\b\b\b\b\b\b\b\b\b\b\b\b\b\b\b\b\b\b\b\b\b\b\b\b\b\b\b\b\b\b\b\r",
      "34/36 [===========================>..] - ETA: 0s - loss: 5.7636 - mae: 1.6758 - mse: 5.7636"
     ]
    },
    {
     "name": "stdout",
     "output_type": "stream",
     "text": [
      "\b\b\b\b\b\b\b\b\b\b\b\b\b\b\b\b\b\b\b\b\b\b\b\b\b\b\b\b\b\b\b\b\b\b\b\b\b\b\b\b\b\b\b\b\b\b\b\b\b\b\b\b\b\b\b\b\b\b\b\b\b\b\b\b\b\b\b\b\b\b\b\b\b\b\b\b\b\b\b\b\b\b\b\b\b\b\b\b\b\b\b\r",
      "36/36 [==============================] - 0s 4ms/step - loss: 5.7942 - mae: 1.6805 - mse: 5.7942 - val_loss: 9.1026 - val_mae: 2.3414 - val_mse: 9.1026\n"
     ]
    },
    {
     "name": "stdout",
     "output_type": "stream",
     "text": [
      "Epoch 65/100\n",
      "\r",
      " 1/36 [..............................] - ETA: 0s - loss: 4.9310 - mae: 1.7976 - mse: 4.9310"
     ]
    },
    {
     "name": "stdout",
     "output_type": "stream",
     "text": [
      "\b\b\b\b\b\b\b\b\b\b\b\b\b\b\b\b\b\b\b\b\b\b\b\b\b\b\b\b\b\b\b\b\b\b\b\b\b\b\b\b\b\b\b\b\b\b\b\b\b\b\b\b\b\b\b\b\b\b\b\b\b\b\b\b\b\b\b\b\b\b\b\b\b\b\b\b\b\b\b\b\b\b\b\b\b\b\b\b\b\b\b\r",
      "34/36 [===========================>..] - ETA: 0s - loss: 5.3420 - mae: 1.7155 - mse: 5.3420"
     ]
    },
    {
     "name": "stdout",
     "output_type": "stream",
     "text": [
      "\b\b\b\b\b\b\b\b\b\b\b\b\b\b\b\b\b\b\b\b\b\b\b\b\b\b\b\b\b\b\b\b\b\b\b\b\b\b\b\b\b\b\b\b\b\b\b\b\b\b\b\b\b\b\b\b\b\b\b\b\b\b\b\b\b\b\b\b\b\b\b\b\b\b\b\b\b\b\b\b\b\b\b\b\b\b\b\b\b\b\b\r",
      "36/36 [==============================] - 0s 4ms/step - loss: 5.3942 - mae: 1.7183 - mse: 5.3942 - val_loss: 9.3086 - val_mae: 2.3754 - val_mse: 9.3086\n"
     ]
    },
    {
     "name": "stdout",
     "output_type": "stream",
     "text": [
      "Epoch 66/100\n",
      "\r",
      " 1/36 [..............................] - ETA: 0s - loss: 2.8362 - mae: 1.0436 - mse: 2.8362"
     ]
    },
    {
     "name": "stdout",
     "output_type": "stream",
     "text": [
      "\b\b\b\b\b\b\b\b\b\b\b\b\b\b\b\b\b\b\b\b\b\b\b\b\b\b\b\b\b\b\b\b\b\b\b\b\b\b\b\b\b\b\b\b\b\b\b\b\b\b\b\b\b\b\b\b\b\b\b\b\b\b\b\b\b\b\b\b\b\b\b\b\b\b\b\b\b\b\b\b\b\b\b\b\b\b\b\b\b\b\b\r",
      "35/36 [============================>.] - ETA: 0s - loss: 4.0709 - mae: 1.4648 - mse: 4.0709"
     ]
    },
    {
     "name": "stdout",
     "output_type": "stream",
     "text": [
      "\b\b\b\b\b\b\b\b\b\b\b\b\b\b\b\b\b\b\b\b\b\b\b\b\b\b\b\b\b\b\b\b\b\b\b\b\b\b\b\b\b\b\b\b\b\b\b\b\b\b\b\b\b\b\b\b\b\b\b\b\b\b\b\b\b\b\b\b\b\b\b\b\b\b\b\b\b\b\b\b\b\b\b\b\b\b\b\b\b\b\b\r",
      "36/36 [==============================] - 0s 4ms/step - loss: 4.1622 - mae: 1.4781 - mse: 4.1622 - val_loss: 9.5483 - val_mae: 2.3711 - val_mse: 9.5483\n"
     ]
    },
    {
     "name": "stdout",
     "output_type": "stream",
     "text": [
      "Epoch 67/100\n",
      "\r",
      " 1/36 [..............................] - ETA: 0s - loss: 12.5165 - mae: 2.3303 - mse: 12.5165"
     ]
    },
    {
     "name": "stdout",
     "output_type": "stream",
     "text": [
      "\b\b\b\b\b\b\b\b\b\b\b\b\b\b\b\b\b\b\b\b\b\b\b\b\b\b\b\b\b\b\b\b\b\b\b\b\b\b\b\b\b\b\b\b\b\b\b\b\b\b\b\b\b\b\b\b\b\b\b\b\b\b\b\b\b\b\b\b\b\b\b\b\b\b\b\b\b\b\b\b\b\b\b\b\b\b\b\b\b\b\b\b\b\r",
      "35/36 [============================>.] - ETA: 0s - loss: 6.4015 - mae: 1.7695 - mse: 6.4015  "
     ]
    },
    {
     "name": "stdout",
     "output_type": "stream",
     "text": [
      "\b\b\b\b\b\b\b\b\b\b\b\b\b\b\b\b\b\b\b\b\b\b\b\b\b\b\b\b\b\b\b\b\b\b\b\b\b\b\b\b\b\b\b\b\b\b\b\b\b\b\b\b\b\b\b\b\b\b\b\b\b\b\b\b\b\b\b\b\b\b\b\b\b\b\b\b\b\b\b\b\b\b\b\b\b\b\b\b\b\b\b\r",
      "36/36 [==============================] - 0s 4ms/step - loss: 6.3682 - mae: 1.7642 - mse: 6.3682 - val_loss: 8.9922 - val_mae: 2.2849 - val_mse: 8.9922\n"
     ]
    },
    {
     "name": "stdout",
     "output_type": "stream",
     "text": [
      "Epoch 68/100\n",
      "\r",
      " 1/36 [..............................] - ETA: 0s - loss: 9.2000 - mae: 2.2047 - mse: 9.2000"
     ]
    },
    {
     "name": "stdout",
     "output_type": "stream",
     "text": [
      "\b\b\b\b\b\b\b\b\b\b\b\b\b\b\b\b\b\b\b\b\b\b\b\b\b\b\b\b\b\b\b\b\b\b\b\b\b\b\b\b\b\b\b\b\b\b\b\b\b\b\b\b\b\b\b\b\b\b\b\b\b\b\b\b\b\b\b\b\b\b\b\b\b\b\b\b\b\b\b\b\b\b\b\b\b\b\b\b\b\b\b\r",
      "35/36 [============================>.] - ETA: 0s - loss: 6.3202 - mae: 1.7215 - mse: 6.3202"
     ]
    },
    {
     "name": "stdout",
     "output_type": "stream",
     "text": [
      "\b\b\b\b\b\b\b\b\b\b\b\b\b\b\b\b\b\b\b\b\b\b\b\b\b\b\b\b\b\b\b\b\b\b\b\b\b\b\b\b\b\b\b\b\b\b\b\b\b\b\b\b\b\b\b\b\b\b\b\b\b\b\b\b\b\b\b\b\b\b\b\b\b\b\b\b\b\b\b\b\b\b\b\b\b\b\b\b\b\b\b\r",
      "36/36 [==============================] - 0s 4ms/step - loss: 6.2849 - mae: 1.7192 - mse: 6.2849 - val_loss: 9.2619 - val_mae: 2.3396 - val_mse: 9.2619\n"
     ]
    },
    {
     "name": "stdout",
     "output_type": "stream",
     "text": [
      "Epoch 69/100\n",
      "\r",
      " 1/36 [..............................] - ETA: 0s - loss: 3.4687 - mae: 1.5893 - mse: 3.4687"
     ]
    },
    {
     "name": "stdout",
     "output_type": "stream",
     "text": [
      "\b\b\b\b\b\b\b\b\b\b\b\b\b\b\b\b\b\b\b\b\b\b\b\b\b\b\b\b\b\b\b\b\b\b\b\b\b\b\b\b\b\b\b\b\b\b\b\b\b\b\b\b\b\b\b\b\b\b\b\b\b\b\b\b\b\b\b\b\b\b\b\b\b\b\b\b\b\b\b\b\b\b\b\b\b\b\b\b\b\b\b\r",
      "35/36 [============================>.] - ETA: 0s - loss: 5.2114 - mae: 1.7051 - mse: 5.2114"
     ]
    },
    {
     "name": "stdout",
     "output_type": "stream",
     "text": [
      "\b\b\b\b\b\b\b\b\b\b\b\b\b\b\b\b\b\b\b\b\b\b\b\b\b\b\b\b\b\b\b\b\b\b\b\b\b\b\b\b\b\b\b\b\b\b\b\b\b\b\b\b\b\b\b\b\b\b\b\b\b\b\b\b\b\b\b\b\b\b\b\b\b\b\b\b\b\b\b\b\b\b\b\b\b\b\b\b\b\b\b\r",
      "36/36 [==============================] - 0s 4ms/step - loss: 5.2618 - mae: 1.7064 - mse: 5.2618 - val_loss: 9.0758 - val_mae: 2.3147 - val_mse: 9.0758\n"
     ]
    },
    {
     "name": "stdout",
     "output_type": "stream",
     "text": [
      "Epoch 70/100\n",
      "\r",
      " 1/36 [..............................] - ETA: 0s - loss: 2.3131 - mae: 1.2031 - mse: 2.3131"
     ]
    },
    {
     "name": "stdout",
     "output_type": "stream",
     "text": [
      "\b\b\b\b\b\b\b\b\b\b\b\b\b\b\b\b\b\b\b\b\b\b\b\b\b\b\b\b\b\b\b\b\b\b\b\b\b\b\b\b\b\b\b\b\b\b\b\b\b\b\b\b\b\b\b\b\b\b\b\b\b\b\b\b\b\b\b\b\b\b\b\b\b\b\b\b\b\b\b\b\b\b\b\b\b\b\b\b\b\b\b\r",
      "35/36 [============================>.] - ETA: 0s - loss: 4.8685 - mae: 1.5649 - mse: 4.8685"
     ]
    },
    {
     "name": "stdout",
     "output_type": "stream",
     "text": [
      "\b\b\b\b\b\b\b\b\b\b\b\b\b\b\b\b\b\b\b\b\b\b\b\b\b\b\b\b\b\b\b\b\b\b\b\b\b\b\b\b\b\b\b\b\b\b\b\b\b\b\b\b\b\b\b\b\b\b\b\b\b\b\b\b\b\b\b\b\b\b\b\b\b\b\b\b\b\b\b\b\b\b\b\b\b\b\b\b\b\b\b\r",
      "36/36 [==============================] - 0s 4ms/step - loss: 4.9011 - mae: 1.5690 - mse: 4.9011 - val_loss: 9.4435 - val_mae: 2.3773 - val_mse: 9.4435\n"
     ]
    },
    {
     "name": "stdout",
     "output_type": "stream",
     "text": [
      "Epoch 71/100\n",
      "\r",
      " 1/36 [..............................] - ETA: 0s - loss: 1.9643 - mae: 1.2021 - mse: 1.9643"
     ]
    },
    {
     "name": "stdout",
     "output_type": "stream",
     "text": [
      "\b\b\b\b\b\b\b\b\b\b\b\b\b\b\b\b\b\b\b\b\b\b\b\b\b\b\b\b\b\b\b\b\b\b\b\b\b\b\b\b\b\b\b\b\b\b\b\b\b\b\b\b\b\b\b\b\b\b\b\b\b\b\b\b\b\b\b\b\b\b\b\b\b\b\b\b\b\b\b\b\b\b\b\b\b\b\b\b\b\b\b\r",
      "35/36 [============================>.] - ETA: 0s - loss: 5.1954 - mae: 1.6244 - mse: 5.1954"
     ]
    },
    {
     "name": "stdout",
     "output_type": "stream",
     "text": [
      "\b\b\b\b\b\b\b\b\b\b\b\b\b\b\b\b\b\b\b\b\b\b\b\b\b\b\b\b\b\b\b\b\b\b\b\b\b\b\b\b\b\b\b\b\b\b\b\b\b\b\b\b\b\b\b\b\b\b\b\b\b\b\b\b\b\b\b\b\b\b\b\b\b\b\b\b\b\b\b\b\b\b\b\b\b\b\b\b\b\b\b\r",
      "36/36 [==============================] - 0s 4ms/step - loss: 5.2087 - mae: 1.6282 - mse: 5.2087 - val_loss: 9.1078 - val_mae: 2.3151 - val_mse: 9.1078\n"
     ]
    },
    {
     "name": "stdout",
     "output_type": "stream",
     "text": [
      "Epoch 72/100\n",
      "\r",
      " 1/36 [..............................] - ETA: 0s - loss: 8.9428 - mae: 2.3214 - mse: 8.9428"
     ]
    },
    {
     "name": "stdout",
     "output_type": "stream",
     "text": [
      "\b\b\b\b\b\b\b\b\b\b\b\b\b\b\b\b\b\b\b\b\b\b\b\b\b\b\b\b\b\b\b\b\b\b\b\b\b\b\b\b\b\b\b\b\b\b\b\b\b\b\b\b\b\b\b\b\b\b\b\b\b\b\b\b\b\b\b\b\b\b\b\b\b\b\b\b\b\b\b\b\b\b\b\b\b\b\b\b\b\b\b\r",
      "34/36 [===========================>..] - ETA: 0s - loss: 4.5813 - mae: 1.5968 - mse: 4.5813"
     ]
    },
    {
     "name": "stdout",
     "output_type": "stream",
     "text": [
      "\b\b\b\b\b\b\b\b\b\b\b\b\b\b\b\b\b\b\b\b\b\b\b\b\b\b\b\b\b\b\b\b\b\b\b\b\b\b\b\b\b\b\b\b\b\b\b\b\b\b\b\b\b\b\b\b\b\b\b\b\b\b\b\b\b\b\b\b\b\b\b\b\b\b\b\b\b\b\b\b\b\b\b\b\b\b\b\b\b\b\b\r",
      "36/36 [==============================] - 0s 4ms/step - loss: 4.6344 - mae: 1.6014 - mse: 4.6344 - val_loss: 10.0106 - val_mae: 2.4751 - val_mse: 10.0106\n"
     ]
    },
    {
     "name": "stdout",
     "output_type": "stream",
     "text": [
      "Epoch 73/100\n",
      "\r",
      " 1/36 [..............................] - ETA: 0s - loss: 10.7448 - mae: 2.6421 - mse: 10.7448"
     ]
    },
    {
     "name": "stdout",
     "output_type": "stream",
     "text": [
      "\b\b\b\b\b\b\b\b\b\b\b\b\b\b\b\b\b\b\b\b\b\b\b\b\b\b\b\b\b\b\b\b\b\b\b\b\b\b\b\b\b\b\b\b\b\b\b\b\b\b\b\b\b\b\b\b\b\b\b\b\b\b\b\b\b\b\b\b\b\b\b\b\b\b\b\b\b\b\b\b\b\b\b\b\b\b\b\b\b\b\b\b\b\r",
      "35/36 [============================>.] - ETA: 0s - loss: 5.8622 - mae: 1.7980 - mse: 5.8622  "
     ]
    },
    {
     "name": "stdout",
     "output_type": "stream",
     "text": [
      "\b\b\b\b\b\b\b\b\b\b\b\b\b\b\b\b\b\b\b\b\b\b\b\b\b\b\b\b\b\b\b\b\b\b\b\b\b\b\b\b\b\b\b\b\b\b\b\b\b\b\b\b\b\b\b\b\b\b\b\b\b\b\b\b\b\b\b\b\b\b\b\b\b\b\b\b\b\b\b\b\b\b\b\b\b\b\b\b\b\b\b\r",
      "36/36 [==============================] - 0s 4ms/step - loss: 5.8368 - mae: 1.7912 - mse: 5.8368 - val_loss: 9.6835 - val_mae: 2.3742 - val_mse: 9.6835\n"
     ]
    },
    {
     "name": "stdout",
     "output_type": "stream",
     "text": [
      "Epoch 74/100\n",
      "\r",
      " 1/36 [..............................] - ETA: 0s - loss: 5.0824 - mae: 1.8596 - mse: 5.0824"
     ]
    },
    {
     "name": "stdout",
     "output_type": "stream",
     "text": [
      "\b\b\b\b\b\b\b\b\b\b\b\b\b\b\b\b\b\b\b\b\b\b\b\b\b\b\b\b\b\b\b\b\b\b\b\b\b\b\b\b\b\b\b\b\b\b\b\b\b\b\b\b\b\b\b\b\b\b\b\b\b\b\b\b\b\b\b\b\b\b\b\b\b\b\b\b\b\b\b\b\b\b\b\b\b\b\b\b\b\b\b\r",
      "35/36 [============================>.] - ETA: 0s - loss: 6.3618 - mae: 1.7457 - mse: 6.3618"
     ]
    },
    {
     "name": "stdout",
     "output_type": "stream",
     "text": [
      "\b\b\b\b\b\b\b\b\b\b\b\b\b\b\b\b\b\b\b\b\b\b\b\b\b\b\b\b\b\b\b\b\b\b\b\b\b\b\b\b\b\b\b\b\b\b\b\b\b\b\b\b\b\b\b\b\b\b\b\b\b\b\b\b\b\b\b\b\b\b\b\b\b\b\b\b\b\b\b\b\b\b\b\b\b\b\b\b\b\b\b\r",
      "36/36 [==============================] - 0s 4ms/step - loss: 6.3068 - mae: 1.7406 - mse: 6.3068 - val_loss: 9.9201 - val_mae: 2.3886 - val_mse: 9.9201\n"
     ]
    },
    {
     "name": "stdout",
     "output_type": "stream",
     "text": [
      "Epoch 75/100\n",
      "\r",
      " 1/36 [..............................] - ETA: 0s - loss: 2.8845 - mae: 1.5311 - mse: 2.8845"
     ]
    },
    {
     "name": "stdout",
     "output_type": "stream",
     "text": [
      "\b\b\b\b\b\b\b\b\b\b\b\b\b\b\b\b\b\b\b\b\b\b\b\b\b\b\b\b\b\b\b\b\b\b\b\b\b\b\b\b\b\b\b\b\b\b\b\b\b\b\b\b\b\b\b\b\b\b\b\b\b\b\b\b\b\b\b\b\b\b\b\b\b\b\b\b\b\b\b\b\b\b\b\b\b\b\b\b\b\b\b\r",
      "35/36 [============================>.] - ETA: 0s - loss: 4.6788 - mae: 1.4932 - mse: 4.6788"
     ]
    },
    {
     "name": "stdout",
     "output_type": "stream",
     "text": [
      "\b\b\b\b\b\b\b\b\b\b\b\b\b\b\b\b\b\b\b\b\b\b\b\b\b\b\b\b\b\b\b\b\b\b\b\b\b\b\b\b\b\b\b\b\b\b\b\b\b\b\b\b\b\b\b\b\b\b\b\b\b\b\b\b\b\b\b\b\b\b\b\b\b\b\b\b\b\b\b\b\b\b\b\b\b\b\b\b\b\b\b\r",
      "36/36 [==============================] - 0s 4ms/step - loss: 4.7125 - mae: 1.5002 - mse: 4.7125 - val_loss: 9.2841 - val_mae: 2.3357 - val_mse: 9.2841\n"
     ]
    },
    {
     "name": "stdout",
     "output_type": "stream",
     "text": [
      "Epoch 76/100\n",
      "\r",
      " 1/36 [..............................] - ETA: 0s - loss: 4.3045 - mae: 1.6677 - mse: 4.3045"
     ]
    },
    {
     "name": "stdout",
     "output_type": "stream",
     "text": [
      "\b\b\b\b\b\b\b\b\b\b\b\b\b\b\b\b\b\b\b\b\b\b\b\b\b\b\b\b\b\b\b\b\b\b\b\b\b\b\b\b\b\b\b\b\b\b\b\b\b\b\b\b\b\b\b\b\b\b\b\b\b\b\b\b\b\b\b\b\b\b\b\b\b\b\b\b\b\b\b\b\b\b\b\b\b\b\b\b\b\b\b\r",
      "35/36 [============================>.] - ETA: 0s - loss: 4.5628 - mae: 1.5099 - mse: 4.5628"
     ]
    },
    {
     "name": "stdout",
     "output_type": "stream",
     "text": [
      "\b\b\b\b\b\b\b\b\b\b\b\b\b\b\b\b\b\b\b\b\b\b\b\b\b\b\b\b\b\b\b\b\b\b\b\b\b\b\b\b\b\b\b\b\b\b\b\b\b\b\b\b\b\b\b\b\b\b\b\b\b\b\b\b\b\b\b\b\b\b\b\b\b\b\b\b\b\b\b\b\b\b\b\b\b\b\b\b\b\b\b\r",
      "36/36 [==============================] - 0s 4ms/step - loss: 4.6006 - mae: 1.5134 - mse: 4.6006 - val_loss: 10.4143 - val_mae: 2.4755 - val_mse: 10.4143\n"
     ]
    },
    {
     "name": "stdout",
     "output_type": "stream",
     "text": [
      "Epoch 77/100\n",
      "\r",
      " 1/36 [..............................] - ETA: 0s - loss: 5.3640 - mae: 1.8642 - mse: 5.3640"
     ]
    },
    {
     "name": "stdout",
     "output_type": "stream",
     "text": [
      "\b\b\b\b\b\b\b\b\b\b\b\b\b\b\b\b\b\b\b\b\b\b\b\b\b\b\b\b\b\b\b\b\b\b\b\b\b\b\b\b\b\b\b\b\b\b\b\b\b\b\b\b\b\b\b\b\b\b\b\b\b\b\b\b\b\b\b\b\b\b\b\b\b\b\b\b\b\b\b\b\b\b\b\b\b\b\b\b\b\b\b\r",
      "34/36 [===========================>..] - ETA: 0s - loss: 4.6014 - mae: 1.5786 - mse: 4.6014"
     ]
    },
    {
     "name": "stdout",
     "output_type": "stream",
     "text": [
      "\b\b\b\b\b\b\b\b\b\b\b\b\b\b\b\b\b\b\b\b\b\b\b\b\b\b\b\b\b\b\b\b\b\b\b\b\b\b\b\b\b\b\b\b\b\b\b\b\b\b\b\b\b\b\b\b\b\b\b\b\b\b\b\b\b\b\b\b\b\b\b\b\b\b\b\b\b\b\b\b\b\b\b\b\b\b\b\b\b\b\b\r",
      "36/36 [==============================] - 0s 4ms/step - loss: 4.6350 - mae: 1.5809 - mse: 4.6350 - val_loss: 9.8430 - val_mae: 2.4122 - val_mse: 9.8430\n"
     ]
    },
    {
     "name": "stdout",
     "output_type": "stream",
     "text": [
      "Epoch 78/100\n",
      "\r",
      " 1/36 [..............................] - ETA: 0s - loss: 4.4518 - mae: 1.1250 - mse: 4.4518"
     ]
    },
    {
     "name": "stdout",
     "output_type": "stream",
     "text": [
      "\b\b\b\b\b\b\b\b\b\b\b\b\b\b\b\b\b\b\b\b\b\b\b\b\b\b\b\b\b\b\b\b\b\b\b\b\b\b\b\b\b\b\b\b\b\b\b\b\b\b\b\b\b\b\b\b\b\b\b\b\b\b\b\b\b\b\b\b\b\b\b\b\b\b\b\b\b\b\b\b\b\b\b\b\b\b\b\b\b\b\b\r",
      "34/36 [===========================>..] - ETA: 0s - loss: 4.7989 - mae: 1.5600 - mse: 4.7989"
     ]
    },
    {
     "name": "stdout",
     "output_type": "stream",
     "text": [
      "\b\b\b\b\b\b\b\b\b\b\b\b\b\b\b\b\b\b\b\b\b\b\b\b\b\b\b\b\b\b\b\b\b\b\b\b\b\b\b\b\b\b\b\b\b\b\b\b\b\b\b\b\b\b\b\b\b\b\b\b\b\b\b\b\b\b\b\b\b\b\b\b\b\b\b\b\b\b\b\b\b\b\b\b\b\b\b\b\b\b\b\r",
      "36/36 [==============================] - 0s 4ms/step - loss: 4.8161 - mae: 1.5597 - mse: 4.8161 - val_loss: 10.3216 - val_mae: 2.4553 - val_mse: 10.3216\n"
     ]
    },
    {
     "name": "stdout",
     "output_type": "stream",
     "text": [
      "Epoch 79/100\n",
      "\r",
      " 1/36 [..............................] - ETA: 0s - loss: 6.5654 - mae: 1.9001 - mse: 6.5654"
     ]
    },
    {
     "name": "stdout",
     "output_type": "stream",
     "text": [
      "\b\b\b\b\b\b\b\b\b\b\b\b\b\b\b\b\b\b\b\b\b\b\b\b\b\b\b\b\b\b\b\b\b\b\b\b\b\b\b\b\b\b\b\b\b\b\b\b\b\b\b\b\b\b\b\b\b\b\b\b\b\b\b\b\b\b\b\b\b\b\b\b\b\b\b\b\b\b\b\b\b\b\b\b\b\b\b\b\b\b\b\r",
      "35/36 [============================>.] - ETA: 0s - loss: 5.4806 - mae: 1.6779 - mse: 5.4806"
     ]
    },
    {
     "name": "stdout",
     "output_type": "stream",
     "text": [
      "\b\b\b\b\b\b\b\b\b\b\b\b\b\b\b\b\b\b\b\b\b\b\b\b\b\b\b\b\b\b\b\b\b\b\b\b\b\b\b\b\b\b\b\b\b\b\b\b\b\b\b\b\b\b\b\b\b\b\b\b\b\b\b\b\b\b\b\b\b\b\b\b\b\b\b\b\b\b\b\b\b\b\b\b\b\b\b\b\b\b\b\r",
      "36/36 [==============================] - 0s 4ms/step - loss: 5.4595 - mae: 1.6741 - mse: 5.4595 - val_loss: 9.2882 - val_mae: 2.2983 - val_mse: 9.2882\n"
     ]
    },
    {
     "name": "stdout",
     "output_type": "stream",
     "text": [
      "Epoch 80/100\n",
      "\r",
      " 1/36 [..............................] - ETA: 0s - loss: 6.2953 - mae: 1.9271 - mse: 6.2953"
     ]
    },
    {
     "name": "stdout",
     "output_type": "stream",
     "text": [
      "\b\b\b\b\b\b\b\b\b\b\b\b\b\b\b\b\b\b\b\b\b\b\b\b\b\b\b\b\b\b\b\b\b\b\b\b\b\b\b\b\b\b\b\b\b\b\b\b\b\b\b\b\b\b\b\b\b\b\b\b\b\b\b\b\b\b\b\b\b\b\b\b\b\b\b\b\b\b\b\b\b\b\b\b\b\b\b\b\b\b\b\r",
      "34/36 [===========================>..] - ETA: 0s - loss: 4.8742 - mae: 1.5540 - mse: 4.8742"
     ]
    },
    {
     "name": "stdout",
     "output_type": "stream",
     "text": [
      "\b\b\b\b\b\b\b\b\b\b\b\b\b\b\b\b\b\b\b\b\b\b\b\b\b\b\b\b\b\b\b\b\b\b\b\b\b\b\b\b\b\b\b\b\b\b\b\b\b\b\b\b\b\b\b\b\b\b\b\b\b\b\b\b\b\b\b\b\b\b\b\b\b\b\b\b\b\b\b\b\b\b\b\b\b\b\b\b\b\b\b\r",
      "36/36 [==============================] - 0s 4ms/step - loss: 4.8927 - mae: 1.5547 - mse: 4.8927 - val_loss: 9.4560 - val_mae: 2.3241 - val_mse: 9.4560\n"
     ]
    },
    {
     "name": "stdout",
     "output_type": "stream",
     "text": [
      "Epoch 81/100\n",
      "\r",
      " 1/36 [..............................] - ETA: 0s - loss: 5.6555 - mae: 1.8668 - mse: 5.6555"
     ]
    },
    {
     "name": "stdout",
     "output_type": "stream",
     "text": [
      "\b\b\b\b\b\b\b\b\b\b\b\b\b\b\b\b\b\b\b\b\b\b\b\b\b\b\b\b\b\b\b\b\b\b\b\b\b\b\b\b\b\b\b\b\b\b\b\b\b\b\b\b\b\b\b\b\b\b\b\b\b\b\b\b\b\b\b\b\b\b\b\b\b\b\b\b\b\b\b\b\b\b\b\b\b\b\b\b\b\b\b\r",
      "35/36 [============================>.] - ETA: 0s - loss: 4.4898 - mae: 1.5454 - mse: 4.4898"
     ]
    },
    {
     "name": "stdout",
     "output_type": "stream",
     "text": [
      "\b\b\b\b\b\b\b\b\b\b\b\b\b\b\b\b\b\b\b\b\b\b\b\b\b\b\b\b\b\b\b\b\b\b\b\b\b\b\b\b\b\b\b\b\b\b\b\b\b\b\b\b\b\b\b\b\b\b\b\b\b\b\b\b\b\b\b\b\b\b\b\b\b\b\b\b\b\b\b\b\b\b\b\b\b\b\b\b\b\b\b\r",
      "36/36 [==============================] - 0s 4ms/step - loss: 4.5132 - mae: 1.5447 - mse: 4.5132 - val_loss: 9.6404 - val_mae: 2.3668 - val_mse: 9.6404\n"
     ]
    },
    {
     "name": "stdout",
     "output_type": "stream",
     "text": [
      "Epoch 82/100\n",
      "\r",
      " 1/36 [..............................] - ETA: 0s - loss: 9.9283 - mae: 2.4981 - mse: 9.9283"
     ]
    },
    {
     "name": "stdout",
     "output_type": "stream",
     "text": [
      "\b\b\b\b\b\b\b\b\b\b\b\b\b\b\b\b\b\b\b\b\b\b\b\b\b\b\b\b\b\b\b\b\b\b\b\b\b\b\b\b\b\b\b\b\b\b\b\b\b\b\b\b\b\b\b\b\b\b\b\b\b\b\b\b\b\b\b\b\b\b\b\b\b\b\b\b\b\b\b\b\b\b\b\b\b\b\b\b\b\b\b\r",
      "35/36 [============================>.] - ETA: 0s - loss: 6.6218 - mae: 1.6982 - mse: 6.6218"
     ]
    },
    {
     "name": "stdout",
     "output_type": "stream",
     "text": [
      "\b\b\b\b\b\b\b\b\b\b\b\b\b\b\b\b\b\b\b\b\b\b\b\b\b\b\b\b\b\b\b\b\b\b\b\b\b\b\b\b\b\b\b\b\b\b\b\b\b\b\b\b\b\b\b\b\b\b\b\b\b\b\b\b\b\b\b\b\b\b\b\b\b\b\b\b\b\b\b\b\b\b\b\b\b\b\b\b\b\b\b\r",
      "36/36 [==============================] - 0s 4ms/step - loss: 6.5287 - mae: 1.6910 - mse: 6.5287 - val_loss: 9.4141 - val_mae: 2.3268 - val_mse: 9.4141\n"
     ]
    },
    {
     "name": "stdout",
     "output_type": "stream",
     "text": [
      "Epoch 83/100\n",
      "\r",
      " 1/36 [..............................] - ETA: 0s - loss: 4.7352 - mae: 1.7119 - mse: 4.7352"
     ]
    },
    {
     "name": "stdout",
     "output_type": "stream",
     "text": [
      "\b\b\b\b\b\b\b\b\b\b\b\b\b\b\b\b\b\b\b\b\b\b\b\b\b\b\b\b\b\b\b\b\b\b\b\b\b\b\b\b\b\b\b\b\b\b\b\b\b\b\b\b\b\b\b\b\b\b\b\b\b\b\b\b\b\b\b\b\b\b\b\b\b\b\b\b\b\b\b\b\b\b\b\b\b\b\b\b\b\b\b\r",
      "35/36 [============================>.] - ETA: 0s - loss: 4.0426 - mae: 1.4598 - mse: 4.0426"
     ]
    },
    {
     "name": "stdout",
     "output_type": "stream",
     "text": [
      "\b\b\b\b\b\b\b\b\b\b\b\b\b\b\b\b\b\b\b\b\b\b\b\b\b\b\b\b\b\b\b\b\b\b\b\b\b\b\b\b\b\b\b\b\b\b\b\b\b\b\b\b\b\b\b\b\b\b\b\b\b\b\b\b\b\b\b\b\b\b\b\b\b\b\b\b\b\b\b\b\b\b\b\b\b\b\b\b\b\b\b\r",
      "36/36 [==============================] - 0s 4ms/step - loss: 4.0934 - mae: 1.4641 - mse: 4.0934 - val_loss: 9.4087 - val_mae: 2.3311 - val_mse: 9.4087\n"
     ]
    },
    {
     "name": "stdout",
     "output_type": "stream",
     "text": [
      "Epoch 84/100\n",
      "\r",
      " 1/36 [..............................] - ETA: 0s - loss: 1.9755 - mae: 0.9353 - mse: 1.9755"
     ]
    },
    {
     "name": "stdout",
     "output_type": "stream",
     "text": [
      "\b\b\b\b\b\b\b\b\b\b\b\b\b\b\b\b\b\b\b\b\b\b\b\b\b\b\b\b\b\b\b\b\b\b\b\b\b\b\b\b\b\b\b\b\b\b\b\b\b\b\b\b\b\b\b\b\b\b\b\b\b\b\b\b\b\b\b\b\b\b\b\b\b\b\b\b\b\b\b\b\b\b\b\b\b\b\b\b\b\b\b\r",
      "35/36 [============================>.] - ETA: 0s - loss: 6.7472 - mae: 1.6706 - mse: 6.7472"
     ]
    },
    {
     "name": "stdout",
     "output_type": "stream",
     "text": [
      "\b\b\b\b\b\b\b\b\b\b\b\b\b\b\b\b\b\b\b\b\b\b\b\b\b\b\b\b\b\b\b\b\b\b\b\b\b\b\b\b\b\b\b\b\b\b\b\b\b\b\b\b\b\b\b\b\b\b\b\b\b\b\b\b\b\b\b\b\b\b\b\b\b\b\b\b\b\b\b\b\b\b\b\b\b\b\b\b\b\b\b\r",
      "36/36 [==============================] - 0s 4ms/step - loss: 6.6445 - mae: 1.6648 - mse: 6.6445 - val_loss: 9.7678 - val_mae: 2.4025 - val_mse: 9.7678\n"
     ]
    },
    {
     "name": "stdout",
     "output_type": "stream",
     "text": [
      "Epoch 85/100\n",
      "\r",
      " 1/36 [..............................] - ETA: 0s - loss: 7.0986 - mae: 1.6875 - mse: 7.0986"
     ]
    },
    {
     "name": "stdout",
     "output_type": "stream",
     "text": [
      "\b\b\b\b\b\b\b\b\b\b\b\b\b\b\b\b\b\b\b\b\b\b\b\b\b\b\b\b\b\b\b\b\b\b\b\b\b\b\b\b\b\b\b\b\b\b\b\b\b\b\b\b\b\b\b\b\b\b\b\b\b\b\b\b\b\b\b\b\b\b\b\b\b\b\b\b\b\b\b\b\b\b\b\b\b\b\b\b\b\b\b\r",
      "35/36 [============================>.] - ETA: 0s - loss: 4.3984 - mae: 1.4728 - mse: 4.3984"
     ]
    },
    {
     "name": "stdout",
     "output_type": "stream",
     "text": [
      "\b\b\b\b\b\b\b\b\b\b\b\b\b\b\b\b\b\b\b\b\b\b\b\b\b\b\b\b\b\b\b\b\b\b\b\b\b\b\b\b\b\b\b\b\b\b\b\b\b\b\b\b\b\b\b\b\b\b\b\b\b\b\b\b\b\b\b\b\b\b\b\b\b\b\b\b\b\b\b\b\b\b\b\b\b\b\b\b\b\b\b\r",
      "36/36 [==============================] - 0s 4ms/step - loss: 4.4238 - mae: 1.4761 - mse: 4.4238 - val_loss: 10.0793 - val_mae: 2.4039 - val_mse: 10.0793\n"
     ]
    },
    {
     "name": "stdout",
     "output_type": "stream",
     "text": [
      "Epoch 86/100\n",
      "\r",
      " 1/36 [..............................] - ETA: 0s - loss: 1.7853 - mae: 1.0955 - mse: 1.7853"
     ]
    },
    {
     "name": "stdout",
     "output_type": "stream",
     "text": [
      "\b\b\b\b\b\b\b\b\b\b\b\b\b\b\b\b\b\b\b\b\b\b\b\b\b\b\b\b\b\b\b\b\b\b\b\b\b\b\b\b\b\b\b\b\b\b\b\b\b\b\b\b\b\b\b\b\b\b\b\b\b\b\b\b\b\b\b\b\b\b\b\b\b\b\b\b\b\b\b\b\b\b\b\b\b\b\b\b\b\b\b\r",
      "35/36 [============================>.] - ETA: 0s - loss: 3.6680 - mae: 1.3625 - mse: 3.6680"
     ]
    },
    {
     "name": "stdout",
     "output_type": "stream",
     "text": [
      "\b\b\b\b\b\b\b\b\b\b\b\b\b\b\b\b\b\b\b\b\b\b\b\b\b\b\b\b\b\b\b\b\b\b\b\b\b\b\b\b\b\b\b\b\b\b\b\b\b\b\b\b\b\b\b\b\b\b\b\b\b\b\b\b\b\b\b\b\b\b\b\b\b\b\b\b\b\b\b\b\b\b\b\b\b\b\b\b\b\b\b\r",
      "36/36 [==============================] - 0s 4ms/step - loss: 3.7200 - mae: 1.3700 - mse: 3.7200 - val_loss: 10.0827 - val_mae: 2.4352 - val_mse: 10.0827\n"
     ]
    },
    {
     "name": "stdout",
     "output_type": "stream",
     "text": [
      "Epoch 87/100\n",
      "\r",
      " 1/36 [..............................] - ETA: 0s - loss: 8.0639 - mae: 2.1828 - mse: 8.0639"
     ]
    },
    {
     "name": "stdout",
     "output_type": "stream",
     "text": [
      "\b\b\b\b\b\b\b\b\b\b\b\b\b\b\b\b\b\b\b\b\b\b\b\b\b\b\b\b\b\b\b\b\b\b\b\b\b\b\b\b\b\b\b\b\b\b\b\b\b\b\b\b\b\b\b\b\b\b\b\b\b\b\b\b\b\b\b\b\b\b\b\b\b\b\b\b\b\b\b\b\b\b\b\b\b\b\b\b\b\b\b\r",
      "35/36 [============================>.] - ETA: 0s - loss: 5.0668 - mae: 1.6473 - mse: 5.0668"
     ]
    },
    {
     "name": "stdout",
     "output_type": "stream",
     "text": [
      "\b\b\b\b\b\b\b\b\b\b\b\b\b\b\b\b\b\b\b\b\b\b\b\b\b\b\b\b\b\b\b\b\b\b\b\b\b\b\b\b\b\b\b\b\b\b\b\b\b\b\b\b\b\b\b\b\b\b\b\b\b\b\b\b\b\b\b\b\b\b\b\b\b\b\b\b\b\b\b\b\b\b\b\b\b\b\b\b\b\b\b\r",
      "36/36 [==============================] - 0s 4ms/step - loss: 5.0523 - mae: 1.6423 - mse: 5.0523 - val_loss: 11.4799 - val_mae: 2.6211 - val_mse: 11.4799\n"
     ]
    },
    {
     "name": "stdout",
     "output_type": "stream",
     "text": [
      "Epoch 88/100\n",
      "\r",
      " 1/36 [..............................] - ETA: 0s - loss: 3.3600 - mae: 1.5145 - mse: 3.3600"
     ]
    },
    {
     "name": "stdout",
     "output_type": "stream",
     "text": [
      "\b\b\b\b\b\b\b\b\b\b\b\b\b\b\b\b\b\b\b\b\b\b\b\b\b\b\b\b\b\b\b\b\b\b\b\b\b\b\b\b\b\b\b\b\b\b\b\b\b\b\b\b\b\b\b\b\b\b\b\b\b\b\b\b\b\b\b\b\b\b\b\b\b\b\b\b\b\b\b\b\b\b\b\b\b\b\b\b\b\b\b\r",
      "35/36 [============================>.] - ETA: 0s - loss: 4.4495 - mae: 1.4917 - mse: 4.4495"
     ]
    },
    {
     "name": "stdout",
     "output_type": "stream",
     "text": [
      "\b\b\b\b\b\b\b\b\b\b\b\b\b\b\b\b\b\b\b\b\b\b\b\b\b\b\b\b\b\b\b\b\b\b\b\b\b\b\b\b\b\b\b\b\b\b\b\b\b\b\b\b\b\b\b\b\b\b\b\b\b\b\b\b\b\b\b\b\b\b\b\b\b\b\b\b\b\b\b\b\b\b\b\b\b\b\b\b\b\b\b\r",
      "36/36 [==============================] - 0s 4ms/step - loss: 4.4461 - mae: 1.4914 - mse: 4.4461 - val_loss: 10.7916 - val_mae: 2.4946 - val_mse: 10.7916\n"
     ]
    },
    {
     "name": "stdout",
     "output_type": "stream",
     "text": [
      "Epoch 89/100\n",
      "\r",
      " 1/36 [..............................] - ETA: 0s - loss: 5.3266 - mae: 1.5058 - mse: 5.3266"
     ]
    },
    {
     "name": "stdout",
     "output_type": "stream",
     "text": [
      "\b\b\b\b\b\b\b\b\b\b\b\b\b\b\b\b\b\b\b\b\b\b\b\b\b\b\b\b\b\b\b\b\b\b\b\b\b\b\b\b\b\b\b\b\b\b\b\b\b\b\b\b\b\b\b\b\b\b\b\b\b\b\b\b\b\b\b\b\b\b\b\b\b\b\b\b\b\b\b\b\b\b\b\b\b\b\b\b\b\b\b\r",
      "31/36 [========================>.....] - ETA: 0s - loss: 5.4344 - mae: 1.4588 - mse: 5.4344"
     ]
    },
    {
     "name": "stdout",
     "output_type": "stream",
     "text": [
      "\b\b\b\b\b\b\b\b\b\b\b\b\b\b\b\b\b\b\b\b\b\b\b\b\b\b\b\b\b\b\b\b\b\b\b\b\b\b\b\b\b\b\b\b\b\b\b\b\b\b\b\b\b\b\b\b\b\b\b\b\b\b\b\b\b\b\b\b\b\b\b\b\b\b\b\b\b\b\b\b\b\b\b\b\b\b\b\b\b\b\b\r",
      "36/36 [==============================] - 0s 4ms/step - loss: 5.3210 - mae: 1.4701 - mse: 5.3210 - val_loss: 10.1529 - val_mae: 2.4179 - val_mse: 10.1529\n"
     ]
    },
    {
     "name": "stdout",
     "output_type": "stream",
     "text": [
      "Epoch 90/100\n",
      "\r",
      " 1/36 [..............................] - ETA: 0s - loss: 3.2756 - mae: 1.4546 - mse: 3.2756"
     ]
    },
    {
     "name": "stdout",
     "output_type": "stream",
     "text": [
      "\b\b\b\b\b\b\b\b\b\b\b\b\b\b\b\b\b\b\b\b\b\b\b\b\b\b\b\b\b\b\b\b\b\b\b\b\b\b\b\b\b\b\b\b\b\b\b\b\b\b\b\b\b\b\b\b\b\b\b\b\b\b\b\b\b\b\b\b\b\b\b\b\b\b\b\b\b\b\b\b\b\b\b\b\b\b\b\b\b\b\b\r",
      "31/36 [========================>.....] - ETA: 0s - loss: 5.1729 - mae: 1.4899 - mse: 5.1729"
     ]
    },
    {
     "name": "stdout",
     "output_type": "stream",
     "text": [
      "\b\b\b\b\b\b\b\b\b\b\b\b\b\b\b\b\b\b\b\b\b\b\b\b\b\b\b\b\b\b\b\b\b\b\b\b\b\b\b\b\b\b\b\b\b\b\b\b\b\b\b\b\b\b\b\b\b\b\b\b\b\b\b\b\b\b\b\b\b\b\b\b\b\b\b\b\b\b\b\b\b\b\b\b\b\b\b\b\b\b\b\r",
      "36/36 [==============================] - 0s 4ms/step - loss: 5.0763 - mae: 1.4890 - mse: 5.0763 - val_loss: 9.1907 - val_mae: 2.3005 - val_mse: 9.1907\n"
     ]
    },
    {
     "name": "stdout",
     "output_type": "stream",
     "text": [
      "Epoch 91/100\n",
      "\r",
      " 1/36 [..............................] - ETA: 0s - loss: 6.5638 - mae: 2.2053 - mse: 6.5638"
     ]
    },
    {
     "name": "stdout",
     "output_type": "stream",
     "text": [
      "\b\b\b\b\b\b\b\b\b\b\b\b\b\b\b\b\b\b\b\b\b\b\b\b\b\b\b\b\b\b\b\b\b\b\b\b\b\b\b\b\b\b\b\b\b\b\b\b\b\b\b\b\b\b\b\b\b\b\b\b\b\b\b\b\b\b\b\b\b\b\b\b\b\b\b\b\b\b\b\b\b\b\b\b\b\b\b\b\b\b\b\r",
      "31/36 [========================>.....] - ETA: 0s - loss: 3.7198 - mae: 1.4581 - mse: 3.7198"
     ]
    },
    {
     "name": "stdout",
     "output_type": "stream",
     "text": [
      "\b\b\b\b\b\b\b\b\b\b\b\b\b\b\b\b\b\b\b\b\b\b\b\b\b\b\b\b\b\b\b\b\b\b\b\b\b\b\b\b\b\b\b\b\b\b\b\b\b\b\b\b\b\b\b\b\b\b\b\b\b\b\b\b\b\b\b\b\b\b\b\b\b\b\b\b\b\b\b\b\b\b\b\b\b\b\b\b\b\b\b\r",
      "36/36 [==============================] - 0s 4ms/step - loss: 3.8525 - mae: 1.4695 - mse: 3.8525 - val_loss: 9.7237 - val_mae: 2.3518 - val_mse: 9.7237\n"
     ]
    },
    {
     "name": "stdout",
     "output_type": "stream",
     "text": [
      "Epoch 92/100\n",
      "\r",
      " 1/36 [..............................] - ETA: 0s - loss: 5.9308 - mae: 1.9161 - mse: 5.9308"
     ]
    },
    {
     "name": "stdout",
     "output_type": "stream",
     "text": [
      "\b\b\b\b\b\b\b\b\b\b\b\b\b\b\b\b\b\b\b\b\b\b\b\b\b\b\b\b\b\b\b\b\b\b\b\b\b\b\b\b\b\b\b\b\b\b\b\b\b\b\b\b\b\b\b\b\b\b\b\b\b\b\b\b\b\b\b\b\b\b\b\b\b\b\b\b\b\b\b\b\b\b\b\b\b\b\b\b\b\b\b\r",
      "31/36 [========================>.....] - ETA: 0s - loss: 4.5689 - mae: 1.5508 - mse: 4.5689"
     ]
    },
    {
     "name": "stdout",
     "output_type": "stream",
     "text": [
      "\b\b\b\b\b\b\b\b\b\b\b\b\b\b\b\b\b\b\b\b\b\b\b\b\b\b\b\b\b\b\b\b\b\b\b\b\b\b\b\b\b\b\b\b\b\b\b\b\b\b\b\b\b\b\b\b\b\b\b\b\b\b\b\b\b\b\b\b\b\b\b\b\b\b\b\b\b\b\b\b\b\b\b\b\b\b\b\b\b\b\b\r",
      "36/36 [==============================] - 0s 4ms/step - loss: 4.5594 - mae: 1.5456 - mse: 4.5594 - val_loss: 10.0319 - val_mae: 2.4192 - val_mse: 10.0319\n"
     ]
    },
    {
     "name": "stdout",
     "output_type": "stream",
     "text": [
      "Epoch 93/100\n",
      "\r",
      " 1/36 [..............................] - ETA: 0s - loss: 3.5812 - mae: 1.3753 - mse: 3.5812"
     ]
    },
    {
     "name": "stdout",
     "output_type": "stream",
     "text": [
      "\b\b\b\b\b\b\b\b\b\b\b\b\b\b\b\b\b\b\b\b\b\b\b\b\b\b\b\b\b\b\b\b\b\b\b\b\b\b\b\b\b\b\b\b\b\b\b\b\b\b\b\b\b\b\b\b\b\b\b\b\b\b\b\b\b\b\b\b\b\b\b\b\b\b\b\b\b\b\b\b\b\b\b\b\b\b\b\b\b\b\b\r",
      "31/36 [========================>.....] - ETA: 0s - loss: 5.9497 - mae: 1.5522 - mse: 5.9497"
     ]
    },
    {
     "name": "stdout",
     "output_type": "stream",
     "text": [
      "\b\b\b\b\b\b\b\b\b\b\b\b\b\b\b\b\b\b\b\b\b\b\b\b\b\b\b\b\b\b\b\b\b\b\b\b\b\b\b\b\b\b\b\b\b\b\b\b\b\b\b\b\b\b\b\b\b\b\b\b\b\b\b\b\b\b\b\b\b\b\b\b\b\b\b\b\b\b\b\b\b\b\b\b\b\b\b\b\b\b\b\r",
      "36/36 [==============================] - 0s 4ms/step - loss: 5.6973 - mae: 1.5358 - mse: 5.6973 - val_loss: 10.2673 - val_mae: 2.5136 - val_mse: 10.2673\n"
     ]
    },
    {
     "name": "stdout",
     "output_type": "stream",
     "text": [
      "Epoch 94/100\n",
      "\r",
      " 1/36 [..............................] - ETA: 0s - loss: 8.0180 - mae: 1.9894 - mse: 8.0180"
     ]
    },
    {
     "name": "stdout",
     "output_type": "stream",
     "text": [
      "\b\b\b\b\b\b\b\b\b\b\b\b\b\b\b\b\b\b\b\b\b\b\b\b\b\b\b\b\b\b\b\b\b\b\b\b\b\b\b\b\b\b\b\b\b\b\b\b\b\b\b\b\b\b\b\b\b\b\b\b\b\b\b\b\b\b\b\b\b\b\b\b\b\b\b\b\b\b\b\b\b\b\b\b\b\b\b\b\b\b\b\r",
      "31/36 [========================>.....] - ETA: 0s - loss: 3.8901 - mae: 1.4508 - mse: 3.8901"
     ]
    },
    {
     "name": "stdout",
     "output_type": "stream",
     "text": [
      "\b\b\b\b\b\b\b\b\b\b\b\b\b\b\b\b\b\b\b\b\b\b\b\b\b\b\b\b\b\b\b\b\b\b\b\b\b\b\b\b\b\b\b\b\b\b\b\b\b\b\b\b\b\b\b\b\b\b\b\b\b\b\b\b\b\b\b\b\b\b\b\b\b\b\b\b\b\b\b\b\b\b\b\b\b\b\b\b\b\b\b\r",
      "36/36 [==============================] - 0s 4ms/step - loss: 3.9151 - mae: 1.4519 - mse: 3.9151 - val_loss: 11.1446 - val_mae: 2.6213 - val_mse: 11.1446\n"
     ]
    },
    {
     "name": "stdout",
     "output_type": "stream",
     "text": [
      "Epoch 95/100\n",
      "\r",
      " 1/36 [..............................] - ETA: 0s - loss: 5.5353 - mae: 1.7646 - mse: 5.5353"
     ]
    },
    {
     "name": "stdout",
     "output_type": "stream",
     "text": [
      "\b\b\b\b\b\b\b\b\b\b\b\b\b\b\b\b\b\b\b\b\b\b\b\b\b\b\b\b\b\b\b\b\b\b\b\b\b\b\b\b\b\b\b\b\b\b\b\b\b\b\b\b\b\b\b\b\b\b\b\b\b\b\b\b\b\b\b\b\b\b\b\b\b\b\b\b\b\b\b\b\b\b\b\b\b\b\b\b\b\b\b\r",
      "31/36 [========================>.....] - ETA: 0s - loss: 4.3423 - mae: 1.5004 - mse: 4.3423"
     ]
    },
    {
     "name": "stdout",
     "output_type": "stream",
     "text": [
      "\b\b\b\b\b\b\b\b\b\b\b\b\b\b\b\b\b\b\b\b\b\b\b\b\b\b\b\b\b\b\b\b\b\b\b\b\b\b\b\b\b\b\b\b\b\b\b\b\b\b\b\b\b\b\b\b\b\b\b\b\b\b\b\b\b\b\b\b\b\b\b\b\b\b\b\b\b\b\b\b\b\b\b\b\b\b\b\b\b\b\b\r",
      "36/36 [==============================] - 0s 4ms/step - loss: 4.3618 - mae: 1.5025 - mse: 4.3618 - val_loss: 9.5263 - val_mae: 2.3301 - val_mse: 9.5263\n"
     ]
    },
    {
     "name": "stdout",
     "output_type": "stream",
     "text": [
      "Epoch 96/100\n",
      "\r",
      " 1/36 [..............................] - ETA: 0s - loss: 2.0037 - mae: 1.1306 - mse: 2.0037"
     ]
    },
    {
     "name": "stdout",
     "output_type": "stream",
     "text": [
      "\b\b\b\b\b\b\b\b\b\b\b\b\b\b\b\b\b\b\b\b\b\b\b\b\b\b\b\b\b\b\b\b\b\b\b\b\b\b\b\b\b\b\b\b\b\b\b\b\b\b\b\b\b\b\b\b\b\b\b\b\b\b\b\b\b\b\b\b\b\b\b\b\b\b\b\b\b\b\b\b\b\b\b\b\b\b\b\b\b\b\b\r",
      "31/36 [========================>.....] - ETA: 0s - loss: 3.2719 - mae: 1.3674 - mse: 3.2719"
     ]
    },
    {
     "name": "stdout",
     "output_type": "stream",
     "text": [
      "\b\b\b\b\b\b\b\b\b\b\b\b\b\b\b\b\b\b\b\b\b\b\b\b\b\b\b\b\b\b\b\b\b\b\b\b\b\b\b\b\b\b\b\b\b\b\b\b\b\b\b\b\b\b\b\b\b\b\b\b\b\b\b\b\b\b\b\b\b\b\b\b\b\b\b\b\b\b\b\b\b\b\b\b\b\b\b\b\b\b\b\r",
      "36/36 [==============================] - 0s 4ms/step - loss: 3.4283 - mae: 1.3762 - mse: 3.4283 - val_loss: 11.1900 - val_mae: 2.5813 - val_mse: 11.1900\n"
     ]
    },
    {
     "name": "stdout",
     "output_type": "stream",
     "text": [
      "Epoch 97/100\n",
      "\r",
      " 1/36 [..............................] - ETA: 0s - loss: 5.0815 - mae: 1.7602 - mse: 5.0815"
     ]
    },
    {
     "name": "stdout",
     "output_type": "stream",
     "text": [
      "\b\b\b\b\b\b\b\b\b\b\b\b\b\b\b\b\b\b\b\b\b\b\b\b\b\b\b\b\b\b\b\b\b\b\b\b\b\b\b\b\b\b\b\b\b\b\b\b\b\b\b\b\b\b\b\b\b\b\b\b\b\b\b\b\b\b\b\b\b\b\b\b\b\b\b\b\b\b\b\b\b\b\b\b\b\b\b\b\b\b\b\r",
      "31/36 [========================>.....] - ETA: 0s - loss: 3.2500 - mae: 1.3846 - mse: 3.2500"
     ]
    },
    {
     "name": "stdout",
     "output_type": "stream",
     "text": [
      "\b\b\b\b\b\b\b\b\b\b\b\b\b\b\b\b\b\b\b\b\b\b\b\b\b\b\b\b\b\b\b\b\b\b\b\b\b\b\b\b\b\b\b\b\b\b\b\b\b\b\b\b\b\b\b\b\b\b\b\b\b\b\b\b\b\b\b\b\b\b\b\b\b\b\b\b\b\b\b\b\b\b\b\b\b\b\b\b\b\b\b\r",
      "36/36 [==============================] - 0s 4ms/step - loss: 3.3197 - mae: 1.3881 - mse: 3.3197 - val_loss: 13.0364 - val_mae: 2.8596 - val_mse: 13.0364\n"
     ]
    },
    {
     "name": "stdout",
     "output_type": "stream",
     "text": [
      "Epoch 98/100\n",
      "\r",
      " 1/36 [..............................] - ETA: 0s - loss: 3.9572 - mae: 1.3600 - mse: 3.9572"
     ]
    },
    {
     "name": "stdout",
     "output_type": "stream",
     "text": [
      "\b\b\b\b\b\b\b\b\b\b\b\b\b\b\b\b\b\b\b\b\b\b\b\b\b\b\b\b\b\b\b\b\b\b\b\b\b\b\b\b\b\b\b\b\b\b\b\b\b\b\b\b\b\b\b\b\b\b\b\b\b\b\b\b\b\b\b\b\b\b\b\b\b\b\b\b\b\b\b\b\b\b\b\b\b\b\b\b\b\b\b\r",
      "31/36 [========================>.....] - ETA: 0s - loss: 4.3205 - mae: 1.5011 - mse: 4.3205"
     ]
    },
    {
     "name": "stdout",
     "output_type": "stream",
     "text": [
      "\b\b\b\b\b\b\b\b\b\b\b\b\b\b\b\b\b\b\b\b\b\b\b\b\b\b\b\b\b\b\b\b\b\b\b\b\b\b\b\b\b\b\b\b\b\b\b\b\b\b\b\b\b\b\b\b\b\b\b\b\b\b\b\b\b\b\b\b\b\b\b\b\b\b\b\b\b\b\b\b\b\b\b\b\b\b\b\b\b\b\b\r",
      "36/36 [==============================] - 0s 4ms/step - loss: 4.3131 - mae: 1.4938 - mse: 4.3131 - val_loss: 10.2230 - val_mae: 2.4251 - val_mse: 10.2230\n"
     ]
    },
    {
     "name": "stdout",
     "output_type": "stream",
     "text": [
      "Epoch 99/100\n",
      "\r",
      " 1/36 [..............................] - ETA: 0s - loss: 7.5211 - mae: 2.0320 - mse: 7.5211"
     ]
    },
    {
     "name": "stdout",
     "output_type": "stream",
     "text": [
      "\b\b\b\b\b\b\b\b\b\b\b\b\b\b\b\b\b\b\b\b\b\b\b\b\b\b\b\b\b\b\b\b\b\b\b\b\b\b\b\b\b\b\b\b\b\b\b\b\b\b\b\b\b\b\b\b\b\b\b\b\b\b\b\b\b\b\b\b\b\b\b\b\b\b\b\b\b\b\b\b\b\b\b\b\b\b\b\b\b\b\b\r",
      "31/36 [========================>.....] - ETA: 0s - loss: 3.9081 - mae: 1.4805 - mse: 3.9081"
     ]
    },
    {
     "name": "stdout",
     "output_type": "stream",
     "text": [
      "\b\b\b\b\b\b\b\b\b\b\b\b\b\b\b\b\b\b\b\b\b\b\b\b\b\b\b\b\b\b\b\b\b\b\b\b\b\b\b\b\b\b\b\b\b\b\b\b\b\b\b\b\b\b\b\b\b\b\b\b\b\b\b\b\b\b\b\b\b\b\b\b\b\b\b\b\b\b\b\b\b\b\b\b\b\b\b\b\b\b\b\r",
      "36/36 [==============================] - 0s 4ms/step - loss: 3.9680 - mae: 1.4765 - mse: 3.9680 - val_loss: 10.5329 - val_mae: 2.4666 - val_mse: 10.5329\n"
     ]
    },
    {
     "name": "stdout",
     "output_type": "stream",
     "text": [
      "Epoch 100/100\n",
      "\r",
      " 1/36 [..............................] - ETA: 0s - loss: 23.6059 - mae: 2.6602 - mse: 23.6059"
     ]
    },
    {
     "name": "stdout",
     "output_type": "stream",
     "text": [
      "\b\b\b\b\b\b\b\b\b\b\b\b\b\b\b\b\b\b\b\b\b\b\b\b\b\b\b\b\b\b\b\b\b\b\b\b\b\b\b\b\b\b\b\b\b\b\b\b\b\b\b\b\b\b\b\b\b\b\b\b\b\b\b\b\b\b\b\b\b\b\b\b\b\b\b\b\b\b\b\b\b\b\b\b\b\b\b\b\b\b\b\b\b\r",
      "31/36 [========================>.....] - ETA: 0s - loss: 6.3564 - mae: 1.6326 - mse: 6.3564  "
     ]
    },
    {
     "name": "stdout",
     "output_type": "stream",
     "text": [
      "\b\b\b\b\b\b\b\b\b\b\b\b\b\b\b\b\b\b\b\b\b\b\b\b\b\b\b\b\b\b\b\b\b\b\b\b\b\b\b\b\b\b\b\b\b\b\b\b\b\b\b\b\b\b\b\b\b\b\b\b\b\b\b\b\b\b\b\b\b\b\b\b\b\b\b\b\b\b\b\b\b\b\b\b\b\b\b\b\b\b\b\r",
      "36/36 [==============================] - 0s 4ms/step - loss: 5.9996 - mae: 1.6040 - mse: 5.9996 - val_loss: 9.7363 - val_mae: 2.3640 - val_mse: 9.7363\n"
     ]
    }
   ],
   "source": [
    "history = model.fit(x_train,\n",
    "                    y_train,\n",
    "                    epochs          = 100,\n",
    "                    batch_size      = 10,\n",
    "                    verbose         = 1,\n",
    "                    validation_data = (x_test, y_test),\n",
    "                    callbacks       = [savemodel_callback])"
   ]
  },
  {
   "cell_type": "markdown",
   "metadata": {},
   "source": [
    "## Step 6 - Evaluate\n",
    "### 6.1 - Model evaluation\n",
    "MAE =  Mean Absolute Error (between the labels and predictions)  \n",
    "A mae equal to 3 represents an average error in prediction of $3k."
   ]
  },
  {
   "cell_type": "code",
   "execution_count": 10,
   "metadata": {
    "execution": {
     "iopub.execute_input": "2021-02-09T17:32:39.706892Z",
     "iopub.status.busy": "2021-02-09T17:32:39.706415Z",
     "iopub.status.idle": "2021-02-09T17:32:39.779659Z",
     "shell.execute_reply": "2021-02-09T17:32:39.780131Z"
    }
   },
   "outputs": [
    {
     "name": "stdout",
     "output_type": "stream",
     "text": [
      "x_test / loss      : 9.7363\n",
      "x_test / mae       : 2.3640\n",
      "x_test / mse       : 9.7363\n"
     ]
    }
   ],
   "source": [
    "score = model.evaluate(x_test, y_test, verbose=0)\n",
    "\n",
    "print('x_test / loss      : {:5.4f}'.format(score[0]))\n",
    "print('x_test / mae       : {:5.4f}'.format(score[1]))\n",
    "print('x_test / mse       : {:5.4f}'.format(score[2]))"
   ]
  },
  {
   "cell_type": "markdown",
   "metadata": {},
   "source": [
    "### 6.2 - Training history\n",
    "What was the best result during our training ?"
   ]
  },
  {
   "cell_type": "code",
   "execution_count": 11,
   "metadata": {
    "execution": {
     "iopub.execute_input": "2021-02-09T17:32:39.783524Z",
     "iopub.status.busy": "2021-02-09T17:32:39.783055Z",
     "iopub.status.idle": "2021-02-09T17:32:39.785065Z",
     "shell.execute_reply": "2021-02-09T17:32:39.785540Z"
    }
   },
   "outputs": [
    {
     "name": "stdout",
     "output_type": "stream",
     "text": [
      "min( val_mae ) : 2.2303\n"
     ]
    }
   ],
   "source": [
    "print(\"min( val_mae ) : {:.4f}\".format( min(history.history[\"val_mae\"]) ) )"
   ]
  },
  {
   "cell_type": "code",
   "execution_count": 12,
   "metadata": {
    "execution": {
     "iopub.execute_input": "2021-02-09T17:32:39.801191Z",
     "iopub.status.busy": "2021-02-09T17:32:39.800733Z",
     "iopub.status.idle": "2021-02-09T17:32:41.726379Z",
     "shell.execute_reply": "2021-02-09T17:32:41.726880Z"
    }
   },
   "outputs": [
    {
     "data": {
      "text/html": [
       "<div class=\"comment\">Saved: ./run/figs/BHPD2-01-history_0</div>"
      ],
      "text/plain": [
       "<IPython.core.display.HTML object>"
      ]
     },
     "metadata": {},
     "output_type": "display_data"
    },
    {
     "data": {
      "image/png": "[encoded data removed]",
      "text/plain": [
       "<Figure size 576x432 with 1 Axes>"
      ]
     },
     "metadata": {
      "needs_background": "light"
     },
     "output_type": "display_data"
    },
    {
     "data": {
      "text/html": [
       "<div class=\"comment\">Saved: ./run/figs/BHPD2-01-history_1</div>"
      ],
      "text/plain": [
       "<IPython.core.display.HTML object>"
      ]
     },
     "metadata": {},
     "output_type": "display_data"
    },
    {
     "data": {
      "image/png": "[encoded data removed]",
      "text/plain": [
       "<Figure size 576x432 with 1 Axes>"
      ]
     },
     "metadata": {
      "needs_background": "light"
     },
     "output_type": "display_data"
    },
    {
     "data": {
      "text/html": [
       "<div class=\"comment\">Saved: ./run/figs/BHPD2-01-history_2</div>"
      ],
      "text/plain": [
       "<IPython.core.display.HTML object>"
      ]
     },
     "metadata": {},
     "output_type": "display_data"
    },
    {
     "data": {
      "image/png": "[encoded data removed]",
      "text/plain": [
       "<Figure size 576x432 with 1 Axes>"
      ]
     },
     "metadata": {
      "needs_background": "light"
     },
     "output_type": "display_data"
    }
   ],
   "source": [
    "pwk.plot_history(history, plot={'MSE' :['mse', 'val_mse'],\n",
    "                                'MAE' :['mae', 'val_mae'],\n",
    "                                'LOSS':['loss','val_loss']}, save_as='01-history')"
   ]
  },
  {
   "cell_type": "markdown",
   "metadata": {},
   "source": [
    "## Step 7 - Restore a model :"
   ]
  },
  {
   "cell_type": "markdown",
   "metadata": {},
   "source": [
    "### 7.1 - Reload model"
   ]
  },
  {
   "cell_type": "code",
   "execution_count": 13,
   "metadata": {
    "execution": {
     "iopub.execute_input": "2021-02-09T17:32:41.730254Z",
     "iopub.status.busy": "2021-02-09T17:32:41.729784Z",
     "iopub.status.idle": "2021-02-09T17:32:41.792537Z",
     "shell.execute_reply": "2021-02-09T17:32:41.793012Z"
    }
   },
   "outputs": [
    {
     "name": "stdout",
     "output_type": "stream",
     "text": [
      "Model: \"sequential\"\n",
      "_________________________________________________________________\n",
      "Layer (type)                 Output Shape              Param #   \n",
      "=================================================================\n",
      "Dense_n1 (Dense)             (None, 64)                896       \n",
      "_________________________________________________________________\n",
      "Dense_n2 (Dense)             (None, 64)                4160      \n",
      "_________________________________________________________________\n",
      "Output (Dense)               (None, 1)                 65        \n",
      "=================================================================\n",
      "Total params: 5,121\n",
      "Trainable params: 5,121\n",
      "Non-trainable params: 0\n",
      "_________________________________________________________________\n",
      "Loaded.\n"
     ]
    }
   ],
   "source": [
    "loaded_model = tf.keras.models.load_model('./run/models/best_model.h5')\n",
    "loaded_model.summary()\n",
    "print(\"Loaded.\")"
   ]
  },
  {
   "cell_type": "markdown",
   "metadata": {},
   "source": [
    "### 7.2 - Evaluate it :"
   ]
  },
  {
   "cell_type": "code",
   "execution_count": 14,
   "metadata": {
    "execution": {
     "iopub.execute_input": "2021-02-09T17:32:41.796747Z",
     "iopub.status.busy": "2021-02-09T17:32:41.796274Z",
     "iopub.status.idle": "2021-02-09T17:32:42.038410Z",
     "shell.execute_reply": "2021-02-09T17:32:42.038892Z"
    }
   },
   "outputs": [
    {
     "name": "stdout",
     "output_type": "stream",
     "text": [
      "x_test / loss      : 8.3539\n",
      "x_test / mae       : 2.2303\n",
      "x_test / mse       : 8.3539\n"
     ]
    }
   ],
   "source": [
    "score = loaded_model.evaluate(x_test, y_test, verbose=0)\n",
    "\n",
    "print('x_test / loss      : {:5.4f}'.format(score[0]))\n",
    "print('x_test / mae       : {:5.4f}'.format(score[1]))\n",
    "print('x_test / mse       : {:5.4f}'.format(score[2]))"
   ]
  },
  {
   "cell_type": "markdown",
   "metadata": {},
   "source": [
    "### 7.3 - Make a prediction"
   ]
  },
  {
   "cell_type": "code",
   "execution_count": 15,
   "metadata": {
    "execution": {
     "iopub.execute_input": "2021-02-09T17:32:42.042903Z",
     "iopub.status.busy": "2021-02-09T17:32:42.042424Z",
     "iopub.status.idle": "2021-02-09T17:32:42.044028Z",
     "shell.execute_reply": "2021-02-09T17:32:42.044502Z"
    }
   },
   "outputs": [],
   "source": [
    "my_data = [ 1.26425925, -0.48522739,  1.0436489 , -0.23112788,  1.37120745,\n",
    "       -2.14308942,  1.13489104, -1.06802005,  1.71189006,  1.57042287,\n",
    "        0.77859951,  0.14769795,  2.7585581 ]\n",
    "real_price = 10.4\n",
    "\n",
    "my_data=np.array(my_data).reshape(1,13)"
   ]
  },
  {
   "cell_type": "code",
   "execution_count": 16,
   "metadata": {
    "execution": {
     "iopub.execute_input": "2021-02-09T17:32:42.047713Z",
     "iopub.status.busy": "2021-02-09T17:32:42.047242Z",
     "iopub.status.idle": "2021-02-09T17:32:42.188523Z",
     "shell.execute_reply": "2021-02-09T17:32:42.188029Z"
    }
   },
   "outputs": [
    {
     "name": "stdout",
     "output_type": "stream",
     "text": [
      "Prediction : 9.02 K$   Reality : 10.40 K$\n"
     ]
    }
   ],
   "source": [
    "predictions = loaded_model.predict( my_data )\n",
    "print(\"Prediction : {:.2f} K$   Reality : {:.2f} K$\".format(predictions[0][0], real_price))"
   ]
  },
  {
   "cell_type": "code",
   "execution_count": 17,
   "metadata": {
    "execution": {
     "iopub.execute_input": "2021-02-09T17:32:42.191587Z",
     "iopub.status.busy": "2021-02-09T17:32:42.191126Z",
     "iopub.status.idle": "2021-02-09T17:32:42.193402Z",
     "shell.execute_reply": "2021-02-09T17:32:42.193876Z"
    }
   },
   "outputs": [
    {
     "name": "stdout",
     "output_type": "stream",
     "text": [
      "End time is : Tuesday 09 February 2021, 18:32:42\n",
      "Duration is : 00:00:20 794ms\n",
      "This notebook ends here\n"
     ]
    }
   ],
   "source": [
    "pwk.end()"
   ]
  },
  {
   "cell_type": "markdown",
   "metadata": {},
   "source": [
    "---\n",
    "<img width=\"80px\" src=\"../fidle/img/00-Fidle-logo-01.svg\"></img>"
   ]
  }
 ],
 "metadata": {
  "kernelspec": {
   "display_name": "Python 3",
   "language": "python",
   "name": "python3"
  },
  "language_info": {
   "codemirror_mode": {
    "name": "ipython",
    "version": 3
   },
   "file_extension": ".py",
   "mimetype": "text/x-python",
   "name": "python",
   "nbconvert_exporter": "python",
   "pygments_lexer": "ipython3",
   "version": "3.7.9"
  }
 },
 "nbformat": 4,
 "nbformat_minor": 4
}
