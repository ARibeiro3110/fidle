{
 "cells": [
  {
   "cell_type": "markdown",
   "metadata": {},
   "source": [
    "<img width=\"800px\" src=\"../fidle/img/00-Fidle-header-01.svg\"></img>\n",
    "\n",
    "# <!-- TITLE --> [BHPD2] - Regression with a Dense Network (DNN) - Advanced code\n",
    "  <!-- DESC -->  A more advanced implementation of the precedent example\n",
    "  <!-- AUTHOR : Jean-Luc Parouty (CNRS/SIMaP) -->\n",
    "\n",
    "## Objectives :\n",
    " - Predicts **housing prices** from a set of house features. \n",
    " - Understanding the principle and the architecture of a regression with a dense neural network with backup and restore of the trained model. \n",
    "\n",
    "The **[Boston Housing Prices Dataset](https://www.cs.toronto.edu/~delve/data/boston/bostonDetail.html)** consists of price of houses in various places in Boston.  \n",
    "Alongside with price, the dataset also provide these information :\n",
    "\n",
    " - CRIM: This is the per capita crime rate by town\n",
    " - ZN: This is the proportion of residential land zoned for lots larger than 25,000 sq.ft\n",
    " - INDUS: This is the proportion of non-retail business acres per town\n",
    " - CHAS: This is the Charles River dummy variable (this is equal to 1 if tract bounds river; 0 otherwise)\n",
    " - NOX: This is the nitric oxides concentration (parts per 10 million)\n",
    " - RM: This is the average number of rooms per dwelling\n",
    " - AGE: This is the proportion of owner-occupied units built prior to 1940\n",
    " - DIS: This is the weighted distances to five Boston employment centers\n",
    " - RAD: This is the index of accessibility to radial highways\n",
    " - TAX: This is the full-value property-tax rate per 10,000 dollars\n",
    " - PTRATIO: This is the pupil-teacher ratio by town\n",
    " - B: This is calculated as 1000(Bk — 0.63)^2, where Bk is the proportion of people of African American descent by town\n",
    " - LSTAT: This is the percentage lower status of the population\n",
    " - MEDV: This is the median value of owner-occupied homes in 1000 dollars\n",
    "\n",
    "## What we're going to do :\n",
    "\n",
    " - (Retrieve data)\n",
    " - (Preparing the data)\n",
    " - (Build a model)\n",
    " - Train and save the model\n",
    " - Restore saved model\n",
    " - Evaluate the model\n",
    " - Make some predictions\n"
   ]
  },
  {
   "cell_type": "markdown",
   "metadata": {},
   "source": [
    "## Step 1 - Import and init"
   ]
  },
  {
   "cell_type": "code",
   "execution_count": 1,
   "metadata": {
    "execution": {
     "iopub.execute_input": "2021-03-01T17:41:30.249826Z",
     "iopub.status.busy": "2021-03-01T17:41:30.249359Z",
     "iopub.status.idle": "2021-03-01T17:41:33.040499Z",
     "shell.execute_reply": "2021-03-01T17:41:33.040997Z"
    }
   },
   "outputs": [
    {
     "data": {
      "text/html": [
       "<style>\n",
       "\n",
       "div.warn {    \n",
       "    background-color: #fcf2f2;\n",
       "    border-color: #dFb5b4;\n",
       "    border-left: 5px solid #dfb5b4;\n",
       "    padding: 0.5em;\n",
       "    font-weight: bold;\n",
       "    font-size: 1.1em;;\n",
       "    }\n",
       "\n",
       "\n",
       "\n",
       "div.nota {    \n",
       "    background-color: #DAFFDE;\n",
       "    border-left: 5px solid #92CC99;\n",
       "    padding: 0.5em;\n",
       "    }\n",
       "\n",
       "div.todo:before { content:url(data:image/svg+xml;base64,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);\n",
       "    float:left;\n",
       "    margin-right:20px;\n",
       "    margin-top:-20px;\n",
       "    margin-bottom:20px;\n",
       "}\n",
       "div.todo{\n",
       "    font-weight: bold;\n",
       "    font-size: 1.1em;\n",
       "    margin-top:40px;\n",
       "}\n",
       "div.todo ul{\n",
       "    margin: 0.2em;\n",
       "}\n",
       "div.todo li{\n",
       "    margin-left:60px;\n",
       "    margin-top:0;\n",
       "    margin-bottom:0;\n",
       "}\n",
       "\n",
       "div .comment{\n",
       "    font-size:0.8em;\n",
       "    color:#696969;\n",
       "}\n",
       "\n",
       "\n",
       "\n",
       "</style>\n",
       "\n"
      ],
      "text/plain": [
       "<IPython.core.display.HTML object>"
      ]
     },
     "metadata": {},
     "output_type": "display_data"
    },
    {
     "data": {
      "text/markdown": [
       "<br>**FIDLE 2020 - Practical Work Module**"
      ],
      "text/plain": [
       "<IPython.core.display.Markdown object>"
      ]
     },
     "metadata": {},
     "output_type": "display_data"
    },
    {
     "name": "stdout",
     "output_type": "stream",
     "text": [
      "Version              : 2.0.17\n",
      "Notebook id          : BHPD2\n",
      "Run time             : Monday 01 March 2021, 18:41:33\n",
      "TensorFlow version   : 2.4.0\n",
      "Keras version        : 2.4.0\n",
      "Datasets dir         : /gpfswork/rech/mlh/uja62cb/datasets\n",
      "Run dir              : ./run\n",
      "Update keras cache   : False\n",
      "Save figs            : True\n",
      "Path figs            : ./run/figs\n"
     ]
    }
   ],
   "source": [
    "import tensorflow as tf\n",
    "from tensorflow import keras\n",
    "\n",
    "import numpy as np\n",
    "import matplotlib.pyplot as plt\n",
    "import pandas as pd\n",
    "import os,sys\n",
    "\n",
    "from IPython.display import Markdown\n",
    "from importlib import reload\n",
    "\n",
    "sys.path.append('..')\n",
    "import fidle.pwk as pwk\n",
    "\n",
    "datasets_dir = pwk.init('BHPD2')"
   ]
  },
  {
   "cell_type": "markdown",
   "metadata": {},
   "source": [
    "## Step 2 - Retrieve data\n",
    "\n",
    "### 2.1 - Option 1  : From Keras\n",
    "Boston housing is a famous historic dataset, so we can get it directly from [Keras datasets](https://www.tensorflow.org/api_docs/python/tf/keras/datasets)  "
   ]
  },
  {
   "cell_type": "code",
   "execution_count": 2,
   "metadata": {
    "execution": {
     "iopub.execute_input": "2021-03-01T17:41:33.044287Z",
     "iopub.status.busy": "2021-03-01T17:41:33.043812Z",
     "iopub.status.idle": "2021-03-01T17:41:33.045475Z",
     "shell.execute_reply": "2021-03-01T17:41:33.045955Z"
    }
   },
   "outputs": [],
   "source": [
    "# (x_train, y_train), (x_test, y_test) = keras.datasets.boston_housing.load_data(test_split=0.2, seed=113)"
   ]
  },
  {
   "cell_type": "markdown",
   "metadata": {},
   "source": [
    "### 2.2 - Option 2 : From a csv file\n",
    "More fun !"
   ]
  },
  {
   "cell_type": "code",
   "execution_count": 3,
   "metadata": {
    "execution": {
     "iopub.execute_input": "2021-03-01T17:41:33.049820Z",
     "iopub.status.busy": "2021-03-01T17:41:33.049350Z",
     "iopub.status.idle": "2021-03-01T17:41:33.157394Z",
     "shell.execute_reply": "2021-03-01T17:41:33.157884Z"
    }
   },
   "outputs": [
    {
     "data": {
      "text/html": [
       "<style  type=\"text/css\" >\n",
       "</style><table id=\"T_5ce797d2_7ab5_11eb_9ae9_0cc47af5a44f\" ><thead>    <tr>        <th class=\"blank level0\" ></th>        <th class=\"col_heading level0 col0\" >crim</th>        <th class=\"col_heading level0 col1\" >zn</th>        <th class=\"col_heading level0 col2\" >indus</th>        <th class=\"col_heading level0 col3\" >chas</th>        <th class=\"col_heading level0 col4\" >nox</th>        <th class=\"col_heading level0 col5\" >rm</th>        <th class=\"col_heading level0 col6\" >age</th>        <th class=\"col_heading level0 col7\" >dis</th>        <th class=\"col_heading level0 col8\" >rad</th>        <th class=\"col_heading level0 col9\" >tax</th>        <th class=\"col_heading level0 col10\" >ptratio</th>        <th class=\"col_heading level0 col11\" >b</th>        <th class=\"col_heading level0 col12\" >lstat</th>        <th class=\"col_heading level0 col13\" >medv</th>    </tr></thead><tbody>\n",
       "                <tr>\n",
       "                        <th id=\"T_5ce797d2_7ab5_11eb_9ae9_0cc47af5a44flevel0_row0\" class=\"row_heading level0 row0\" >0</th>\n",
       "                        <td id=\"T_5ce797d2_7ab5_11eb_9ae9_0cc47af5a44frow0_col0\" class=\"data row0 col0\" >0.01</td>\n",
       "                        <td id=\"T_5ce797d2_7ab5_11eb_9ae9_0cc47af5a44frow0_col1\" class=\"data row0 col1\" >18.00</td>\n",
       "                        <td id=\"T_5ce797d2_7ab5_11eb_9ae9_0cc47af5a44frow0_col2\" class=\"data row0 col2\" >2.31</td>\n",
       "                        <td id=\"T_5ce797d2_7ab5_11eb_9ae9_0cc47af5a44frow0_col3\" class=\"data row0 col3\" >0.00</td>\n",
       "                        <td id=\"T_5ce797d2_7ab5_11eb_9ae9_0cc47af5a44frow0_col4\" class=\"data row0 col4\" >0.54</td>\n",
       "                        <td id=\"T_5ce797d2_7ab5_11eb_9ae9_0cc47af5a44frow0_col5\" class=\"data row0 col5\" >6.58</td>\n",
       "                        <td id=\"T_5ce797d2_7ab5_11eb_9ae9_0cc47af5a44frow0_col6\" class=\"data row0 col6\" >65.20</td>\n",
       "                        <td id=\"T_5ce797d2_7ab5_11eb_9ae9_0cc47af5a44frow0_col7\" class=\"data row0 col7\" >4.09</td>\n",
       "                        <td id=\"T_5ce797d2_7ab5_11eb_9ae9_0cc47af5a44frow0_col8\" class=\"data row0 col8\" >1.00</td>\n",
       "                        <td id=\"T_5ce797d2_7ab5_11eb_9ae9_0cc47af5a44frow0_col9\" class=\"data row0 col9\" >296.00</td>\n",
       "                        <td id=\"T_5ce797d2_7ab5_11eb_9ae9_0cc47af5a44frow0_col10\" class=\"data row0 col10\" >15.30</td>\n",
       "                        <td id=\"T_5ce797d2_7ab5_11eb_9ae9_0cc47af5a44frow0_col11\" class=\"data row0 col11\" >396.90</td>\n",
       "                        <td id=\"T_5ce797d2_7ab5_11eb_9ae9_0cc47af5a44frow0_col12\" class=\"data row0 col12\" >4.98</td>\n",
       "                        <td id=\"T_5ce797d2_7ab5_11eb_9ae9_0cc47af5a44frow0_col13\" class=\"data row0 col13\" >24.00</td>\n",
       "            </tr>\n",
       "            <tr>\n",
       "                        <th id=\"T_5ce797d2_7ab5_11eb_9ae9_0cc47af5a44flevel0_row1\" class=\"row_heading level0 row1\" >1</th>\n",
       "                        <td id=\"T_5ce797d2_7ab5_11eb_9ae9_0cc47af5a44frow1_col0\" class=\"data row1 col0\" >0.03</td>\n",
       "                        <td id=\"T_5ce797d2_7ab5_11eb_9ae9_0cc47af5a44frow1_col1\" class=\"data row1 col1\" >0.00</td>\n",
       "                        <td id=\"T_5ce797d2_7ab5_11eb_9ae9_0cc47af5a44frow1_col2\" class=\"data row1 col2\" >7.07</td>\n",
       "                        <td id=\"T_5ce797d2_7ab5_11eb_9ae9_0cc47af5a44frow1_col3\" class=\"data row1 col3\" >0.00</td>\n",
       "                        <td id=\"T_5ce797d2_7ab5_11eb_9ae9_0cc47af5a44frow1_col4\" class=\"data row1 col4\" >0.47</td>\n",
       "                        <td id=\"T_5ce797d2_7ab5_11eb_9ae9_0cc47af5a44frow1_col5\" class=\"data row1 col5\" >6.42</td>\n",
       "                        <td id=\"T_5ce797d2_7ab5_11eb_9ae9_0cc47af5a44frow1_col6\" class=\"data row1 col6\" >78.90</td>\n",
       "                        <td id=\"T_5ce797d2_7ab5_11eb_9ae9_0cc47af5a44frow1_col7\" class=\"data row1 col7\" >4.97</td>\n",
       "                        <td id=\"T_5ce797d2_7ab5_11eb_9ae9_0cc47af5a44frow1_col8\" class=\"data row1 col8\" >2.00</td>\n",
       "                        <td id=\"T_5ce797d2_7ab5_11eb_9ae9_0cc47af5a44frow1_col9\" class=\"data row1 col9\" >242.00</td>\n",
       "                        <td id=\"T_5ce797d2_7ab5_11eb_9ae9_0cc47af5a44frow1_col10\" class=\"data row1 col10\" >17.80</td>\n",
       "                        <td id=\"T_5ce797d2_7ab5_11eb_9ae9_0cc47af5a44frow1_col11\" class=\"data row1 col11\" >396.90</td>\n",
       "                        <td id=\"T_5ce797d2_7ab5_11eb_9ae9_0cc47af5a44frow1_col12\" class=\"data row1 col12\" >9.14</td>\n",
       "                        <td id=\"T_5ce797d2_7ab5_11eb_9ae9_0cc47af5a44frow1_col13\" class=\"data row1 col13\" >21.60</td>\n",
       "            </tr>\n",
       "            <tr>\n",
       "                        <th id=\"T_5ce797d2_7ab5_11eb_9ae9_0cc47af5a44flevel0_row2\" class=\"row_heading level0 row2\" >2</th>\n",
       "                        <td id=\"T_5ce797d2_7ab5_11eb_9ae9_0cc47af5a44frow2_col0\" class=\"data row2 col0\" >0.03</td>\n",
       "                        <td id=\"T_5ce797d2_7ab5_11eb_9ae9_0cc47af5a44frow2_col1\" class=\"data row2 col1\" >0.00</td>\n",
       "                        <td id=\"T_5ce797d2_7ab5_11eb_9ae9_0cc47af5a44frow2_col2\" class=\"data row2 col2\" >7.07</td>\n",
       "                        <td id=\"T_5ce797d2_7ab5_11eb_9ae9_0cc47af5a44frow2_col3\" class=\"data row2 col3\" >0.00</td>\n",
       "                        <td id=\"T_5ce797d2_7ab5_11eb_9ae9_0cc47af5a44frow2_col4\" class=\"data row2 col4\" >0.47</td>\n",
       "                        <td id=\"T_5ce797d2_7ab5_11eb_9ae9_0cc47af5a44frow2_col5\" class=\"data row2 col5\" >7.18</td>\n",
       "                        <td id=\"T_5ce797d2_7ab5_11eb_9ae9_0cc47af5a44frow2_col6\" class=\"data row2 col6\" >61.10</td>\n",
       "                        <td id=\"T_5ce797d2_7ab5_11eb_9ae9_0cc47af5a44frow2_col7\" class=\"data row2 col7\" >4.97</td>\n",
       "                        <td id=\"T_5ce797d2_7ab5_11eb_9ae9_0cc47af5a44frow2_col8\" class=\"data row2 col8\" >2.00</td>\n",
       "                        <td id=\"T_5ce797d2_7ab5_11eb_9ae9_0cc47af5a44frow2_col9\" class=\"data row2 col9\" >242.00</td>\n",
       "                        <td id=\"T_5ce797d2_7ab5_11eb_9ae9_0cc47af5a44frow2_col10\" class=\"data row2 col10\" >17.80</td>\n",
       "                        <td id=\"T_5ce797d2_7ab5_11eb_9ae9_0cc47af5a44frow2_col11\" class=\"data row2 col11\" >392.83</td>\n",
       "                        <td id=\"T_5ce797d2_7ab5_11eb_9ae9_0cc47af5a44frow2_col12\" class=\"data row2 col12\" >4.03</td>\n",
       "                        <td id=\"T_5ce797d2_7ab5_11eb_9ae9_0cc47af5a44frow2_col13\" class=\"data row2 col13\" >34.70</td>\n",
       "            </tr>\n",
       "            <tr>\n",
       "                        <th id=\"T_5ce797d2_7ab5_11eb_9ae9_0cc47af5a44flevel0_row3\" class=\"row_heading level0 row3\" >3</th>\n",
       "                        <td id=\"T_5ce797d2_7ab5_11eb_9ae9_0cc47af5a44frow3_col0\" class=\"data row3 col0\" >0.03</td>\n",
       "                        <td id=\"T_5ce797d2_7ab5_11eb_9ae9_0cc47af5a44frow3_col1\" class=\"data row3 col1\" >0.00</td>\n",
       "                        <td id=\"T_5ce797d2_7ab5_11eb_9ae9_0cc47af5a44frow3_col2\" class=\"data row3 col2\" >2.18</td>\n",
       "                        <td id=\"T_5ce797d2_7ab5_11eb_9ae9_0cc47af5a44frow3_col3\" class=\"data row3 col3\" >0.00</td>\n",
       "                        <td id=\"T_5ce797d2_7ab5_11eb_9ae9_0cc47af5a44frow3_col4\" class=\"data row3 col4\" >0.46</td>\n",
       "                        <td id=\"T_5ce797d2_7ab5_11eb_9ae9_0cc47af5a44frow3_col5\" class=\"data row3 col5\" >7.00</td>\n",
       "                        <td id=\"T_5ce797d2_7ab5_11eb_9ae9_0cc47af5a44frow3_col6\" class=\"data row3 col6\" >45.80</td>\n",
       "                        <td id=\"T_5ce797d2_7ab5_11eb_9ae9_0cc47af5a44frow3_col7\" class=\"data row3 col7\" >6.06</td>\n",
       "                        <td id=\"T_5ce797d2_7ab5_11eb_9ae9_0cc47af5a44frow3_col8\" class=\"data row3 col8\" >3.00</td>\n",
       "                        <td id=\"T_5ce797d2_7ab5_11eb_9ae9_0cc47af5a44frow3_col9\" class=\"data row3 col9\" >222.00</td>\n",
       "                        <td id=\"T_5ce797d2_7ab5_11eb_9ae9_0cc47af5a44frow3_col10\" class=\"data row3 col10\" >18.70</td>\n",
       "                        <td id=\"T_5ce797d2_7ab5_11eb_9ae9_0cc47af5a44frow3_col11\" class=\"data row3 col11\" >394.63</td>\n",
       "                        <td id=\"T_5ce797d2_7ab5_11eb_9ae9_0cc47af5a44frow3_col12\" class=\"data row3 col12\" >2.94</td>\n",
       "                        <td id=\"T_5ce797d2_7ab5_11eb_9ae9_0cc47af5a44frow3_col13\" class=\"data row3 col13\" >33.40</td>\n",
       "            </tr>\n",
       "            <tr>\n",
       "                        <th id=\"T_5ce797d2_7ab5_11eb_9ae9_0cc47af5a44flevel0_row4\" class=\"row_heading level0 row4\" >4</th>\n",
       "                        <td id=\"T_5ce797d2_7ab5_11eb_9ae9_0cc47af5a44frow4_col0\" class=\"data row4 col0\" >0.07</td>\n",
       "                        <td id=\"T_5ce797d2_7ab5_11eb_9ae9_0cc47af5a44frow4_col1\" class=\"data row4 col1\" >0.00</td>\n",
       "                        <td id=\"T_5ce797d2_7ab5_11eb_9ae9_0cc47af5a44frow4_col2\" class=\"data row4 col2\" >2.18</td>\n",
       "                        <td id=\"T_5ce797d2_7ab5_11eb_9ae9_0cc47af5a44frow4_col3\" class=\"data row4 col3\" >0.00</td>\n",
       "                        <td id=\"T_5ce797d2_7ab5_11eb_9ae9_0cc47af5a44frow4_col4\" class=\"data row4 col4\" >0.46</td>\n",
       "                        <td id=\"T_5ce797d2_7ab5_11eb_9ae9_0cc47af5a44frow4_col5\" class=\"data row4 col5\" >7.15</td>\n",
       "                        <td id=\"T_5ce797d2_7ab5_11eb_9ae9_0cc47af5a44frow4_col6\" class=\"data row4 col6\" >54.20</td>\n",
       "                        <td id=\"T_5ce797d2_7ab5_11eb_9ae9_0cc47af5a44frow4_col7\" class=\"data row4 col7\" >6.06</td>\n",
       "                        <td id=\"T_5ce797d2_7ab5_11eb_9ae9_0cc47af5a44frow4_col8\" class=\"data row4 col8\" >3.00</td>\n",
       "                        <td id=\"T_5ce797d2_7ab5_11eb_9ae9_0cc47af5a44frow4_col9\" class=\"data row4 col9\" >222.00</td>\n",
       "                        <td id=\"T_5ce797d2_7ab5_11eb_9ae9_0cc47af5a44frow4_col10\" class=\"data row4 col10\" >18.70</td>\n",
       "                        <td id=\"T_5ce797d2_7ab5_11eb_9ae9_0cc47af5a44frow4_col11\" class=\"data row4 col11\" >396.90</td>\n",
       "                        <td id=\"T_5ce797d2_7ab5_11eb_9ae9_0cc47af5a44frow4_col12\" class=\"data row4 col12\" >5.33</td>\n",
       "                        <td id=\"T_5ce797d2_7ab5_11eb_9ae9_0cc47af5a44frow4_col13\" class=\"data row4 col13\" >36.20</td>\n",
       "            </tr>\n",
       "    </tbody></table>"
      ],
      "text/plain": [
       "<pandas.io.formats.style.Styler at 0x14b6600fed50>"
      ]
     },
     "metadata": {},
     "output_type": "display_data"
    },
    {
     "name": "stdout",
     "output_type": "stream",
     "text": [
      "Missing Data :  0   Shape is :  (506, 14)\n"
     ]
    }
   ],
   "source": [
    "data = pd.read_csv(f'{datasets_dir}/BHPD/origine/BostonHousing.csv', header=0)\n",
    "\n",
    "display(data.head(5).style.format(\"{0:.2f}\"))\n",
    "print('Missing Data : ',data.isna().sum().sum(), '  Shape is : ', data.shape)"
   ]
  },
  {
   "cell_type": "markdown",
   "metadata": {},
   "source": [
    "## Step 3 - Preparing the data\n",
    "### 3.1 - Split data\n",
    "We will use 80% of the data for training and 20% for validation.  \n",
    "x will be input data and y the expected output"
   ]
  },
  {
   "cell_type": "code",
   "execution_count": 4,
   "metadata": {
    "execution": {
     "iopub.execute_input": "2021-03-01T17:41:33.166560Z",
     "iopub.status.busy": "2021-03-01T17:41:33.166086Z",
     "iopub.status.idle": "2021-03-01T17:41:33.169678Z",
     "shell.execute_reply": "2021-03-01T17:41:33.169180Z"
    }
   },
   "outputs": [
    {
     "name": "stdout",
     "output_type": "stream",
     "text": [
      "Original data shape was :  (506, 14)\n",
      "x_train :  (354, 13) y_train :  (354,)\n",
      "x_test  :  (152, 13) y_test  :  (152,)\n"
     ]
    }
   ],
   "source": [
    "# ---- Split => train, test\n",
    "#\n",
    "data_train = data.sample(frac=0.7, axis=0)\n",
    "data_test  = data.drop(data_train.index)\n",
    "\n",
    "# ---- Split => x,y (medv is price)\n",
    "#\n",
    "x_train = data_train.drop('medv',  axis=1)\n",
    "y_train = data_train['medv']\n",
    "x_test  = data_test.drop('medv',   axis=1)\n",
    "y_test  = data_test['medv']\n",
    "\n",
    "print('Original data shape was : ',data.shape)\n",
    "print('x_train : ',x_train.shape, 'y_train : ',y_train.shape)\n",
    "print('x_test  : ',x_test.shape,  'y_test  : ',y_test.shape)"
   ]
  },
  {
   "cell_type": "markdown",
   "metadata": {},
   "source": [
    "### 3.2 - Data normalization\n",
    "**Note :** \n",
    " - All input data must be normalized, train and test.  \n",
    " - To do this we will subtract the mean and divide by the standard deviation.  \n",
    " - But test data should not be used in any way, even for normalization.  \n",
    " - The mean and the standard deviation will therefore only be calculated with the train data."
   ]
  },
  {
   "cell_type": "code",
   "execution_count": 5,
   "metadata": {
    "execution": {
     "iopub.execute_input": "2021-03-01T17:41:33.181342Z",
     "iopub.status.busy": "2021-03-01T17:41:33.177096Z",
     "iopub.status.idle": "2021-03-01T17:41:33.258580Z",
     "shell.execute_reply": "2021-03-01T17:41:33.258081Z"
    }
   },
   "outputs": [
    {
     "data": {
      "text/html": [
       "<style  type=\"text/css\" >\n",
       "</style><table id=\"T_5cf2e082_7ab5_11eb_932c_0cc47af5a44f\" ><caption>Before normalization :</caption><thead>    <tr>        <th class=\"blank level0\" ></th>        <th class=\"col_heading level0 col0\" >crim</th>        <th class=\"col_heading level0 col1\" >zn</th>        <th class=\"col_heading level0 col2\" >indus</th>        <th class=\"col_heading level0 col3\" >chas</th>        <th class=\"col_heading level0 col4\" >nox</th>        <th class=\"col_heading level0 col5\" >rm</th>        <th class=\"col_heading level0 col6\" >age</th>        <th class=\"col_heading level0 col7\" >dis</th>        <th class=\"col_heading level0 col8\" >rad</th>        <th class=\"col_heading level0 col9\" >tax</th>        <th class=\"col_heading level0 col10\" >ptratio</th>        <th class=\"col_heading level0 col11\" >b</th>        <th class=\"col_heading level0 col12\" >lstat</th>    </tr></thead><tbody>\n",
       "                <tr>\n",
       "                        <th id=\"T_5cf2e082_7ab5_11eb_932c_0cc47af5a44flevel0_row0\" class=\"row_heading level0 row0\" >count</th>\n",
       "                        <td id=\"T_5cf2e082_7ab5_11eb_932c_0cc47af5a44frow0_col0\" class=\"data row0 col0\" >354.00</td>\n",
       "                        <td id=\"T_5cf2e082_7ab5_11eb_932c_0cc47af5a44frow0_col1\" class=\"data row0 col1\" >354.00</td>\n",
       "                        <td id=\"T_5cf2e082_7ab5_11eb_932c_0cc47af5a44frow0_col2\" class=\"data row0 col2\" >354.00</td>\n",
       "                        <td id=\"T_5cf2e082_7ab5_11eb_932c_0cc47af5a44frow0_col3\" class=\"data row0 col3\" >354.00</td>\n",
       "                        <td id=\"T_5cf2e082_7ab5_11eb_932c_0cc47af5a44frow0_col4\" class=\"data row0 col4\" >354.00</td>\n",
       "                        <td id=\"T_5cf2e082_7ab5_11eb_932c_0cc47af5a44frow0_col5\" class=\"data row0 col5\" >354.00</td>\n",
       "                        <td id=\"T_5cf2e082_7ab5_11eb_932c_0cc47af5a44frow0_col6\" class=\"data row0 col6\" >354.00</td>\n",
       "                        <td id=\"T_5cf2e082_7ab5_11eb_932c_0cc47af5a44frow0_col7\" class=\"data row0 col7\" >354.00</td>\n",
       "                        <td id=\"T_5cf2e082_7ab5_11eb_932c_0cc47af5a44frow0_col8\" class=\"data row0 col8\" >354.00</td>\n",
       "                        <td id=\"T_5cf2e082_7ab5_11eb_932c_0cc47af5a44frow0_col9\" class=\"data row0 col9\" >354.00</td>\n",
       "                        <td id=\"T_5cf2e082_7ab5_11eb_932c_0cc47af5a44frow0_col10\" class=\"data row0 col10\" >354.00</td>\n",
       "                        <td id=\"T_5cf2e082_7ab5_11eb_932c_0cc47af5a44frow0_col11\" class=\"data row0 col11\" >354.00</td>\n",
       "                        <td id=\"T_5cf2e082_7ab5_11eb_932c_0cc47af5a44frow0_col12\" class=\"data row0 col12\" >354.00</td>\n",
       "            </tr>\n",
       "            <tr>\n",
       "                        <th id=\"T_5cf2e082_7ab5_11eb_932c_0cc47af5a44flevel0_row1\" class=\"row_heading level0 row1\" >mean</th>\n",
       "                        <td id=\"T_5cf2e082_7ab5_11eb_932c_0cc47af5a44frow1_col0\" class=\"data row1 col0\" >3.68</td>\n",
       "                        <td id=\"T_5cf2e082_7ab5_11eb_932c_0cc47af5a44frow1_col1\" class=\"data row1 col1\" >11.92</td>\n",
       "                        <td id=\"T_5cf2e082_7ab5_11eb_932c_0cc47af5a44frow1_col2\" class=\"data row1 col2\" >10.96</td>\n",
       "                        <td id=\"T_5cf2e082_7ab5_11eb_932c_0cc47af5a44frow1_col3\" class=\"data row1 col3\" >0.07</td>\n",
       "                        <td id=\"T_5cf2e082_7ab5_11eb_932c_0cc47af5a44frow1_col4\" class=\"data row1 col4\" >0.55</td>\n",
       "                        <td id=\"T_5cf2e082_7ab5_11eb_932c_0cc47af5a44frow1_col5\" class=\"data row1 col5\" >6.29</td>\n",
       "                        <td id=\"T_5cf2e082_7ab5_11eb_932c_0cc47af5a44frow1_col6\" class=\"data row1 col6\" >69.46</td>\n",
       "                        <td id=\"T_5cf2e082_7ab5_11eb_932c_0cc47af5a44frow1_col7\" class=\"data row1 col7\" >3.79</td>\n",
       "                        <td id=\"T_5cf2e082_7ab5_11eb_932c_0cc47af5a44frow1_col8\" class=\"data row1 col8\" >9.65</td>\n",
       "                        <td id=\"T_5cf2e082_7ab5_11eb_932c_0cc47af5a44frow1_col9\" class=\"data row1 col9\" >407.92</td>\n",
       "                        <td id=\"T_5cf2e082_7ab5_11eb_932c_0cc47af5a44frow1_col10\" class=\"data row1 col10\" >18.56</td>\n",
       "                        <td id=\"T_5cf2e082_7ab5_11eb_932c_0cc47af5a44frow1_col11\" class=\"data row1 col11\" >355.93</td>\n",
       "                        <td id=\"T_5cf2e082_7ab5_11eb_932c_0cc47af5a44frow1_col12\" class=\"data row1 col12\" >12.73</td>\n",
       "            </tr>\n",
       "            <tr>\n",
       "                        <th id=\"T_5cf2e082_7ab5_11eb_932c_0cc47af5a44flevel0_row2\" class=\"row_heading level0 row2\" >std</th>\n",
       "                        <td id=\"T_5cf2e082_7ab5_11eb_932c_0cc47af5a44frow2_col0\" class=\"data row2 col0\" >9.17</td>\n",
       "                        <td id=\"T_5cf2e082_7ab5_11eb_932c_0cc47af5a44frow2_col1\" class=\"data row2 col1\" >24.39</td>\n",
       "                        <td id=\"T_5cf2e082_7ab5_11eb_932c_0cc47af5a44frow2_col2\" class=\"data row2 col2\" >6.87</td>\n",
       "                        <td id=\"T_5cf2e082_7ab5_11eb_932c_0cc47af5a44frow2_col3\" class=\"data row2 col3\" >0.26</td>\n",
       "                        <td id=\"T_5cf2e082_7ab5_11eb_932c_0cc47af5a44frow2_col4\" class=\"data row2 col4\" >0.12</td>\n",
       "                        <td id=\"T_5cf2e082_7ab5_11eb_932c_0cc47af5a44frow2_col5\" class=\"data row2 col5\" >0.72</td>\n",
       "                        <td id=\"T_5cf2e082_7ab5_11eb_932c_0cc47af5a44frow2_col6\" class=\"data row2 col6\" >27.28</td>\n",
       "                        <td id=\"T_5cf2e082_7ab5_11eb_932c_0cc47af5a44frow2_col7\" class=\"data row2 col7\" >2.13</td>\n",
       "                        <td id=\"T_5cf2e082_7ab5_11eb_932c_0cc47af5a44frow2_col8\" class=\"data row2 col8\" >8.82</td>\n",
       "                        <td id=\"T_5cf2e082_7ab5_11eb_932c_0cc47af5a44frow2_col9\" class=\"data row2 col9\" >171.08</td>\n",
       "                        <td id=\"T_5cf2e082_7ab5_11eb_932c_0cc47af5a44frow2_col10\" class=\"data row2 col10\" >2.14</td>\n",
       "                        <td id=\"T_5cf2e082_7ab5_11eb_932c_0cc47af5a44frow2_col11\" class=\"data row2 col11\" >94.36</td>\n",
       "                        <td id=\"T_5cf2e082_7ab5_11eb_932c_0cc47af5a44frow2_col12\" class=\"data row2 col12\" >7.27</td>\n",
       "            </tr>\n",
       "            <tr>\n",
       "                        <th id=\"T_5cf2e082_7ab5_11eb_932c_0cc47af5a44flevel0_row3\" class=\"row_heading level0 row3\" >min</th>\n",
       "                        <td id=\"T_5cf2e082_7ab5_11eb_932c_0cc47af5a44frow3_col0\" class=\"data row3 col0\" >0.01</td>\n",
       "                        <td id=\"T_5cf2e082_7ab5_11eb_932c_0cc47af5a44frow3_col1\" class=\"data row3 col1\" >0.00</td>\n",
       "                        <td id=\"T_5cf2e082_7ab5_11eb_932c_0cc47af5a44frow3_col2\" class=\"data row3 col2\" >0.46</td>\n",
       "                        <td id=\"T_5cf2e082_7ab5_11eb_932c_0cc47af5a44frow3_col3\" class=\"data row3 col3\" >0.00</td>\n",
       "                        <td id=\"T_5cf2e082_7ab5_11eb_932c_0cc47af5a44frow3_col4\" class=\"data row3 col4\" >0.39</td>\n",
       "                        <td id=\"T_5cf2e082_7ab5_11eb_932c_0cc47af5a44frow3_col5\" class=\"data row3 col5\" >3.56</td>\n",
       "                        <td id=\"T_5cf2e082_7ab5_11eb_932c_0cc47af5a44frow3_col6\" class=\"data row3 col6\" >2.90</td>\n",
       "                        <td id=\"T_5cf2e082_7ab5_11eb_932c_0cc47af5a44frow3_col7\" class=\"data row3 col7\" >1.13</td>\n",
       "                        <td id=\"T_5cf2e082_7ab5_11eb_932c_0cc47af5a44frow3_col8\" class=\"data row3 col8\" >1.00</td>\n",
       "                        <td id=\"T_5cf2e082_7ab5_11eb_932c_0cc47af5a44frow3_col9\" class=\"data row3 col9\" >187.00</td>\n",
       "                        <td id=\"T_5cf2e082_7ab5_11eb_932c_0cc47af5a44frow3_col10\" class=\"data row3 col10\" >12.60</td>\n",
       "                        <td id=\"T_5cf2e082_7ab5_11eb_932c_0cc47af5a44frow3_col11\" class=\"data row3 col11\" >0.32</td>\n",
       "                        <td id=\"T_5cf2e082_7ab5_11eb_932c_0cc47af5a44frow3_col12\" class=\"data row3 col12\" >1.73</td>\n",
       "            </tr>\n",
       "            <tr>\n",
       "                        <th id=\"T_5cf2e082_7ab5_11eb_932c_0cc47af5a44flevel0_row4\" class=\"row_heading level0 row4\" >25%</th>\n",
       "                        <td id=\"T_5cf2e082_7ab5_11eb_932c_0cc47af5a44frow4_col0\" class=\"data row4 col0\" >0.08</td>\n",
       "                        <td id=\"T_5cf2e082_7ab5_11eb_932c_0cc47af5a44frow4_col1\" class=\"data row4 col1\" >0.00</td>\n",
       "                        <td id=\"T_5cf2e082_7ab5_11eb_932c_0cc47af5a44frow4_col2\" class=\"data row4 col2\" >5.13</td>\n",
       "                        <td id=\"T_5cf2e082_7ab5_11eb_932c_0cc47af5a44frow4_col3\" class=\"data row4 col3\" >0.00</td>\n",
       "                        <td id=\"T_5cf2e082_7ab5_11eb_932c_0cc47af5a44frow4_col4\" class=\"data row4 col4\" >0.45</td>\n",
       "                        <td id=\"T_5cf2e082_7ab5_11eb_932c_0cc47af5a44frow4_col5\" class=\"data row4 col5\" >5.88</td>\n",
       "                        <td id=\"T_5cf2e082_7ab5_11eb_932c_0cc47af5a44frow4_col6\" class=\"data row4 col6\" >47.25</td>\n",
       "                        <td id=\"T_5cf2e082_7ab5_11eb_932c_0cc47af5a44frow4_col7\" class=\"data row4 col7\" >2.09</td>\n",
       "                        <td id=\"T_5cf2e082_7ab5_11eb_932c_0cc47af5a44frow4_col8\" class=\"data row4 col8\" >4.00</td>\n",
       "                        <td id=\"T_5cf2e082_7ab5_11eb_932c_0cc47af5a44frow4_col9\" class=\"data row4 col9\" >277.00</td>\n",
       "                        <td id=\"T_5cf2e082_7ab5_11eb_932c_0cc47af5a44frow4_col10\" class=\"data row4 col10\" >17.40</td>\n",
       "                        <td id=\"T_5cf2e082_7ab5_11eb_932c_0cc47af5a44frow4_col11\" class=\"data row4 col11\" >376.12</td>\n",
       "                        <td id=\"T_5cf2e082_7ab5_11eb_932c_0cc47af5a44frow4_col12\" class=\"data row4 col12\" >6.92</td>\n",
       "            </tr>\n",
       "            <tr>\n",
       "                        <th id=\"T_5cf2e082_7ab5_11eb_932c_0cc47af5a44flevel0_row5\" class=\"row_heading level0 row5\" >50%</th>\n",
       "                        <td id=\"T_5cf2e082_7ab5_11eb_932c_0cc47af5a44frow5_col0\" class=\"data row5 col0\" >0.25</td>\n",
       "                        <td id=\"T_5cf2e082_7ab5_11eb_932c_0cc47af5a44frow5_col1\" class=\"data row5 col1\" >0.00</td>\n",
       "                        <td id=\"T_5cf2e082_7ab5_11eb_932c_0cc47af5a44frow5_col2\" class=\"data row5 col2\" >9.12</td>\n",
       "                        <td id=\"T_5cf2e082_7ab5_11eb_932c_0cc47af5a44frow5_col3\" class=\"data row5 col3\" >0.00</td>\n",
       "                        <td id=\"T_5cf2e082_7ab5_11eb_932c_0cc47af5a44frow5_col4\" class=\"data row5 col4\" >0.54</td>\n",
       "                        <td id=\"T_5cf2e082_7ab5_11eb_932c_0cc47af5a44frow5_col5\" class=\"data row5 col5\" >6.21</td>\n",
       "                        <td id=\"T_5cf2e082_7ab5_11eb_932c_0cc47af5a44frow5_col6\" class=\"data row5 col6\" >77.90</td>\n",
       "                        <td id=\"T_5cf2e082_7ab5_11eb_932c_0cc47af5a44frow5_col7\" class=\"data row5 col7\" >3.20</td>\n",
       "                        <td id=\"T_5cf2e082_7ab5_11eb_932c_0cc47af5a44frow5_col8\" class=\"data row5 col8\" >5.00</td>\n",
       "                        <td id=\"T_5cf2e082_7ab5_11eb_932c_0cc47af5a44frow5_col9\" class=\"data row5 col9\" >330.00</td>\n",
       "                        <td id=\"T_5cf2e082_7ab5_11eb_932c_0cc47af5a44frow5_col10\" class=\"data row5 col10\" >19.10</td>\n",
       "                        <td id=\"T_5cf2e082_7ab5_11eb_932c_0cc47af5a44frow5_col11\" class=\"data row5 col11\" >391.38</td>\n",
       "                        <td id=\"T_5cf2e082_7ab5_11eb_932c_0cc47af5a44frow5_col12\" class=\"data row5 col12\" >11.43</td>\n",
       "            </tr>\n",
       "            <tr>\n",
       "                        <th id=\"T_5cf2e082_7ab5_11eb_932c_0cc47af5a44flevel0_row6\" class=\"row_heading level0 row6\" >75%</th>\n",
       "                        <td id=\"T_5cf2e082_7ab5_11eb_932c_0cc47af5a44frow6_col0\" class=\"data row6 col0\" >3.76</td>\n",
       "                        <td id=\"T_5cf2e082_7ab5_11eb_932c_0cc47af5a44frow6_col1\" class=\"data row6 col1\" >16.25</td>\n",
       "                        <td id=\"T_5cf2e082_7ab5_11eb_932c_0cc47af5a44frow6_col2\" class=\"data row6 col2\" >18.10</td>\n",
       "                        <td id=\"T_5cf2e082_7ab5_11eb_932c_0cc47af5a44frow6_col3\" class=\"data row6 col3\" >0.00</td>\n",
       "                        <td id=\"T_5cf2e082_7ab5_11eb_932c_0cc47af5a44frow6_col4\" class=\"data row6 col4\" >0.63</td>\n",
       "                        <td id=\"T_5cf2e082_7ab5_11eb_932c_0cc47af5a44frow6_col5\" class=\"data row6 col5\" >6.66</td>\n",
       "                        <td id=\"T_5cf2e082_7ab5_11eb_932c_0cc47af5a44frow6_col6\" class=\"data row6 col6\" >93.47</td>\n",
       "                        <td id=\"T_5cf2e082_7ab5_11eb_932c_0cc47af5a44frow6_col7\" class=\"data row6 col7\" >5.08</td>\n",
       "                        <td id=\"T_5cf2e082_7ab5_11eb_932c_0cc47af5a44frow6_col8\" class=\"data row6 col8\" >24.00</td>\n",
       "                        <td id=\"T_5cf2e082_7ab5_11eb_932c_0cc47af5a44frow6_col9\" class=\"data row6 col9\" >666.00</td>\n",
       "                        <td id=\"T_5cf2e082_7ab5_11eb_932c_0cc47af5a44frow6_col10\" class=\"data row6 col10\" >20.20</td>\n",
       "                        <td id=\"T_5cf2e082_7ab5_11eb_932c_0cc47af5a44frow6_col11\" class=\"data row6 col11\" >396.23</td>\n",
       "                        <td id=\"T_5cf2e082_7ab5_11eb_932c_0cc47af5a44frow6_col12\" class=\"data row6 col12\" >17.11</td>\n",
       "            </tr>\n",
       "            <tr>\n",
       "                        <th id=\"T_5cf2e082_7ab5_11eb_932c_0cc47af5a44flevel0_row7\" class=\"row_heading level0 row7\" >max</th>\n",
       "                        <td id=\"T_5cf2e082_7ab5_11eb_932c_0cc47af5a44frow7_col0\" class=\"data row7 col0\" >88.98</td>\n",
       "                        <td id=\"T_5cf2e082_7ab5_11eb_932c_0cc47af5a44frow7_col1\" class=\"data row7 col1\" >100.00</td>\n",
       "                        <td id=\"T_5cf2e082_7ab5_11eb_932c_0cc47af5a44frow7_col2\" class=\"data row7 col2\" >27.74</td>\n",
       "                        <td id=\"T_5cf2e082_7ab5_11eb_932c_0cc47af5a44frow7_col3\" class=\"data row7 col3\" >1.00</td>\n",
       "                        <td id=\"T_5cf2e082_7ab5_11eb_932c_0cc47af5a44frow7_col4\" class=\"data row7 col4\" >0.87</td>\n",
       "                        <td id=\"T_5cf2e082_7ab5_11eb_932c_0cc47af5a44frow7_col5\" class=\"data row7 col5\" >8.78</td>\n",
       "                        <td id=\"T_5cf2e082_7ab5_11eb_932c_0cc47af5a44frow7_col6\" class=\"data row7 col6\" >100.00</td>\n",
       "                        <td id=\"T_5cf2e082_7ab5_11eb_932c_0cc47af5a44frow7_col7\" class=\"data row7 col7\" >12.13</td>\n",
       "                        <td id=\"T_5cf2e082_7ab5_11eb_932c_0cc47af5a44frow7_col8\" class=\"data row7 col8\" >24.00</td>\n",
       "                        <td id=\"T_5cf2e082_7ab5_11eb_932c_0cc47af5a44frow7_col9\" class=\"data row7 col9\" >711.00</td>\n",
       "                        <td id=\"T_5cf2e082_7ab5_11eb_932c_0cc47af5a44frow7_col10\" class=\"data row7 col10\" >22.00</td>\n",
       "                        <td id=\"T_5cf2e082_7ab5_11eb_932c_0cc47af5a44frow7_col11\" class=\"data row7 col11\" >396.90</td>\n",
       "                        <td id=\"T_5cf2e082_7ab5_11eb_932c_0cc47af5a44frow7_col12\" class=\"data row7 col12\" >37.97</td>\n",
       "            </tr>\n",
       "    </tbody></table>"
      ],
      "text/plain": [
       "<pandas.io.formats.style.Styler at 0x14b5f2312490>"
      ]
     },
     "metadata": {},
     "output_type": "display_data"
    },
    {
     "data": {
      "text/html": [
       "<style  type=\"text/css\" >\n",
       "</style><table id=\"T_5cf9f2a8_7ab5_11eb_bf98_0cc47af5a44f\" ><caption>After normalization :</caption><thead>    <tr>        <th class=\"blank level0\" ></th>        <th class=\"col_heading level0 col0\" >crim</th>        <th class=\"col_heading level0 col1\" >zn</th>        <th class=\"col_heading level0 col2\" >indus</th>        <th class=\"col_heading level0 col3\" >chas</th>        <th class=\"col_heading level0 col4\" >nox</th>        <th class=\"col_heading level0 col5\" >rm</th>        <th class=\"col_heading level0 col6\" >age</th>        <th class=\"col_heading level0 col7\" >dis</th>        <th class=\"col_heading level0 col8\" >rad</th>        <th class=\"col_heading level0 col9\" >tax</th>        <th class=\"col_heading level0 col10\" >ptratio</th>        <th class=\"col_heading level0 col11\" >b</th>        <th class=\"col_heading level0 col12\" >lstat</th>    </tr></thead><tbody>\n",
       "                <tr>\n",
       "                        <th id=\"T_5cf9f2a8_7ab5_11eb_bf98_0cc47af5a44flevel0_row0\" class=\"row_heading level0 row0\" >count</th>\n",
       "                        <td id=\"T_5cf9f2a8_7ab5_11eb_bf98_0cc47af5a44frow0_col0\" class=\"data row0 col0\" >354.00</td>\n",
       "                        <td id=\"T_5cf9f2a8_7ab5_11eb_bf98_0cc47af5a44frow0_col1\" class=\"data row0 col1\" >354.00</td>\n",
       "                        <td id=\"T_5cf9f2a8_7ab5_11eb_bf98_0cc47af5a44frow0_col2\" class=\"data row0 col2\" >354.00</td>\n",
       "                        <td id=\"T_5cf9f2a8_7ab5_11eb_bf98_0cc47af5a44frow0_col3\" class=\"data row0 col3\" >354.00</td>\n",
       "                        <td id=\"T_5cf9f2a8_7ab5_11eb_bf98_0cc47af5a44frow0_col4\" class=\"data row0 col4\" >354.00</td>\n",
       "                        <td id=\"T_5cf9f2a8_7ab5_11eb_bf98_0cc47af5a44frow0_col5\" class=\"data row0 col5\" >354.00</td>\n",
       "                        <td id=\"T_5cf9f2a8_7ab5_11eb_bf98_0cc47af5a44frow0_col6\" class=\"data row0 col6\" >354.00</td>\n",
       "                        <td id=\"T_5cf9f2a8_7ab5_11eb_bf98_0cc47af5a44frow0_col7\" class=\"data row0 col7\" >354.00</td>\n",
       "                        <td id=\"T_5cf9f2a8_7ab5_11eb_bf98_0cc47af5a44frow0_col8\" class=\"data row0 col8\" >354.00</td>\n",
       "                        <td id=\"T_5cf9f2a8_7ab5_11eb_bf98_0cc47af5a44frow0_col9\" class=\"data row0 col9\" >354.00</td>\n",
       "                        <td id=\"T_5cf9f2a8_7ab5_11eb_bf98_0cc47af5a44frow0_col10\" class=\"data row0 col10\" >354.00</td>\n",
       "                        <td id=\"T_5cf9f2a8_7ab5_11eb_bf98_0cc47af5a44frow0_col11\" class=\"data row0 col11\" >354.00</td>\n",
       "                        <td id=\"T_5cf9f2a8_7ab5_11eb_bf98_0cc47af5a44frow0_col12\" class=\"data row0 col12\" >354.00</td>\n",
       "            </tr>\n",
       "            <tr>\n",
       "                        <th id=\"T_5cf9f2a8_7ab5_11eb_bf98_0cc47af5a44flevel0_row1\" class=\"row_heading level0 row1\" >mean</th>\n",
       "                        <td id=\"T_5cf9f2a8_7ab5_11eb_bf98_0cc47af5a44frow1_col0\" class=\"data row1 col0\" >-0.00</td>\n",
       "                        <td id=\"T_5cf9f2a8_7ab5_11eb_bf98_0cc47af5a44frow1_col1\" class=\"data row1 col1\" >0.00</td>\n",
       "                        <td id=\"T_5cf9f2a8_7ab5_11eb_bf98_0cc47af5a44frow1_col2\" class=\"data row1 col2\" >-0.00</td>\n",
       "                        <td id=\"T_5cf9f2a8_7ab5_11eb_bf98_0cc47af5a44frow1_col3\" class=\"data row1 col3\" >0.00</td>\n",
       "                        <td id=\"T_5cf9f2a8_7ab5_11eb_bf98_0cc47af5a44frow1_col4\" class=\"data row1 col4\" >-0.00</td>\n",
       "                        <td id=\"T_5cf9f2a8_7ab5_11eb_bf98_0cc47af5a44frow1_col5\" class=\"data row1 col5\" >0.00</td>\n",
       "                        <td id=\"T_5cf9f2a8_7ab5_11eb_bf98_0cc47af5a44frow1_col6\" class=\"data row1 col6\" >0.00</td>\n",
       "                        <td id=\"T_5cf9f2a8_7ab5_11eb_bf98_0cc47af5a44frow1_col7\" class=\"data row1 col7\" >-0.00</td>\n",
       "                        <td id=\"T_5cf9f2a8_7ab5_11eb_bf98_0cc47af5a44frow1_col8\" class=\"data row1 col8\" >-0.00</td>\n",
       "                        <td id=\"T_5cf9f2a8_7ab5_11eb_bf98_0cc47af5a44frow1_col9\" class=\"data row1 col9\" >0.00</td>\n",
       "                        <td id=\"T_5cf9f2a8_7ab5_11eb_bf98_0cc47af5a44frow1_col10\" class=\"data row1 col10\" >0.00</td>\n",
       "                        <td id=\"T_5cf9f2a8_7ab5_11eb_bf98_0cc47af5a44frow1_col11\" class=\"data row1 col11\" >-0.00</td>\n",
       "                        <td id=\"T_5cf9f2a8_7ab5_11eb_bf98_0cc47af5a44frow1_col12\" class=\"data row1 col12\" >-0.00</td>\n",
       "            </tr>\n",
       "            <tr>\n",
       "                        <th id=\"T_5cf9f2a8_7ab5_11eb_bf98_0cc47af5a44flevel0_row2\" class=\"row_heading level0 row2\" >std</th>\n",
       "                        <td id=\"T_5cf9f2a8_7ab5_11eb_bf98_0cc47af5a44frow2_col0\" class=\"data row2 col0\" >1.00</td>\n",
       "                        <td id=\"T_5cf9f2a8_7ab5_11eb_bf98_0cc47af5a44frow2_col1\" class=\"data row2 col1\" >1.00</td>\n",
       "                        <td id=\"T_5cf9f2a8_7ab5_11eb_bf98_0cc47af5a44frow2_col2\" class=\"data row2 col2\" >1.00</td>\n",
       "                        <td id=\"T_5cf9f2a8_7ab5_11eb_bf98_0cc47af5a44frow2_col3\" class=\"data row2 col3\" >1.00</td>\n",
       "                        <td id=\"T_5cf9f2a8_7ab5_11eb_bf98_0cc47af5a44frow2_col4\" class=\"data row2 col4\" >1.00</td>\n",
       "                        <td id=\"T_5cf9f2a8_7ab5_11eb_bf98_0cc47af5a44frow2_col5\" class=\"data row2 col5\" >1.00</td>\n",
       "                        <td id=\"T_5cf9f2a8_7ab5_11eb_bf98_0cc47af5a44frow2_col6\" class=\"data row2 col6\" >1.00</td>\n",
       "                        <td id=\"T_5cf9f2a8_7ab5_11eb_bf98_0cc47af5a44frow2_col7\" class=\"data row2 col7\" >1.00</td>\n",
       "                        <td id=\"T_5cf9f2a8_7ab5_11eb_bf98_0cc47af5a44frow2_col8\" class=\"data row2 col8\" >1.00</td>\n",
       "                        <td id=\"T_5cf9f2a8_7ab5_11eb_bf98_0cc47af5a44frow2_col9\" class=\"data row2 col9\" >1.00</td>\n",
       "                        <td id=\"T_5cf9f2a8_7ab5_11eb_bf98_0cc47af5a44frow2_col10\" class=\"data row2 col10\" >1.00</td>\n",
       "                        <td id=\"T_5cf9f2a8_7ab5_11eb_bf98_0cc47af5a44frow2_col11\" class=\"data row2 col11\" >1.00</td>\n",
       "                        <td id=\"T_5cf9f2a8_7ab5_11eb_bf98_0cc47af5a44frow2_col12\" class=\"data row2 col12\" >1.00</td>\n",
       "            </tr>\n",
       "            <tr>\n",
       "                        <th id=\"T_5cf9f2a8_7ab5_11eb_bf98_0cc47af5a44flevel0_row3\" class=\"row_heading level0 row3\" >min</th>\n",
       "                        <td id=\"T_5cf9f2a8_7ab5_11eb_bf98_0cc47af5a44frow3_col0\" class=\"data row3 col0\" >-0.40</td>\n",
       "                        <td id=\"T_5cf9f2a8_7ab5_11eb_bf98_0cc47af5a44frow3_col1\" class=\"data row3 col1\" >-0.49</td>\n",
       "                        <td id=\"T_5cf9f2a8_7ab5_11eb_bf98_0cc47af5a44frow3_col2\" class=\"data row3 col2\" >-1.53</td>\n",
       "                        <td id=\"T_5cf9f2a8_7ab5_11eb_bf98_0cc47af5a44frow3_col3\" class=\"data row3 col3\" >-0.28</td>\n",
       "                        <td id=\"T_5cf9f2a8_7ab5_11eb_bf98_0cc47af5a44frow3_col4\" class=\"data row3 col4\" >-1.46</td>\n",
       "                        <td id=\"T_5cf9f2a8_7ab5_11eb_bf98_0cc47af5a44frow3_col5\" class=\"data row3 col5\" >-3.80</td>\n",
       "                        <td id=\"T_5cf9f2a8_7ab5_11eb_bf98_0cc47af5a44frow3_col6\" class=\"data row3 col6\" >-2.44</td>\n",
       "                        <td id=\"T_5cf9f2a8_7ab5_11eb_bf98_0cc47af5a44frow3_col7\" class=\"data row3 col7\" >-1.25</td>\n",
       "                        <td id=\"T_5cf9f2a8_7ab5_11eb_bf98_0cc47af5a44frow3_col8\" class=\"data row3 col8\" >-0.98</td>\n",
       "                        <td id=\"T_5cf9f2a8_7ab5_11eb_bf98_0cc47af5a44frow3_col9\" class=\"data row3 col9\" >-1.29</td>\n",
       "                        <td id=\"T_5cf9f2a8_7ab5_11eb_bf98_0cc47af5a44frow3_col10\" class=\"data row3 col10\" >-2.79</td>\n",
       "                        <td id=\"T_5cf9f2a8_7ab5_11eb_bf98_0cc47af5a44frow3_col11\" class=\"data row3 col11\" >-3.77</td>\n",
       "                        <td id=\"T_5cf9f2a8_7ab5_11eb_bf98_0cc47af5a44frow3_col12\" class=\"data row3 col12\" >-1.51</td>\n",
       "            </tr>\n",
       "            <tr>\n",
       "                        <th id=\"T_5cf9f2a8_7ab5_11eb_bf98_0cc47af5a44flevel0_row4\" class=\"row_heading level0 row4\" >25%</th>\n",
       "                        <td id=\"T_5cf9f2a8_7ab5_11eb_bf98_0cc47af5a44frow4_col0\" class=\"data row4 col0\" >-0.39</td>\n",
       "                        <td id=\"T_5cf9f2a8_7ab5_11eb_bf98_0cc47af5a44frow4_col1\" class=\"data row4 col1\" >-0.49</td>\n",
       "                        <td id=\"T_5cf9f2a8_7ab5_11eb_bf98_0cc47af5a44frow4_col2\" class=\"data row4 col2\" >-0.85</td>\n",
       "                        <td id=\"T_5cf9f2a8_7ab5_11eb_bf98_0cc47af5a44frow4_col3\" class=\"data row4 col3\" >-0.28</td>\n",
       "                        <td id=\"T_5cf9f2a8_7ab5_11eb_bf98_0cc47af5a44frow4_col4\" class=\"data row4 col4\" >-0.88</td>\n",
       "                        <td id=\"T_5cf9f2a8_7ab5_11eb_bf98_0cc47af5a44frow4_col5\" class=\"data row4 col5\" >-0.57</td>\n",
       "                        <td id=\"T_5cf9f2a8_7ab5_11eb_bf98_0cc47af5a44frow4_col6\" class=\"data row4 col6\" >-0.81</td>\n",
       "                        <td id=\"T_5cf9f2a8_7ab5_11eb_bf98_0cc47af5a44frow4_col7\" class=\"data row4 col7\" >-0.80</td>\n",
       "                        <td id=\"T_5cf9f2a8_7ab5_11eb_bf98_0cc47af5a44frow4_col8\" class=\"data row4 col8\" >-0.64</td>\n",
       "                        <td id=\"T_5cf9f2a8_7ab5_11eb_bf98_0cc47af5a44frow4_col9\" class=\"data row4 col9\" >-0.77</td>\n",
       "                        <td id=\"T_5cf9f2a8_7ab5_11eb_bf98_0cc47af5a44frow4_col10\" class=\"data row4 col10\" >-0.54</td>\n",
       "                        <td id=\"T_5cf9f2a8_7ab5_11eb_bf98_0cc47af5a44frow4_col11\" class=\"data row4 col11\" >0.21</td>\n",
       "                        <td id=\"T_5cf9f2a8_7ab5_11eb_bf98_0cc47af5a44frow4_col12\" class=\"data row4 col12\" >-0.80</td>\n",
       "            </tr>\n",
       "            <tr>\n",
       "                        <th id=\"T_5cf9f2a8_7ab5_11eb_bf98_0cc47af5a44flevel0_row5\" class=\"row_heading level0 row5\" >50%</th>\n",
       "                        <td id=\"T_5cf9f2a8_7ab5_11eb_bf98_0cc47af5a44frow5_col0\" class=\"data row5 col0\" >-0.37</td>\n",
       "                        <td id=\"T_5cf9f2a8_7ab5_11eb_bf98_0cc47af5a44frow5_col1\" class=\"data row5 col1\" >-0.49</td>\n",
       "                        <td id=\"T_5cf9f2a8_7ab5_11eb_bf98_0cc47af5a44frow5_col2\" class=\"data row5 col2\" >-0.27</td>\n",
       "                        <td id=\"T_5cf9f2a8_7ab5_11eb_bf98_0cc47af5a44frow5_col3\" class=\"data row5 col3\" >-0.28</td>\n",
       "                        <td id=\"T_5cf9f2a8_7ab5_11eb_bf98_0cc47af5a44frow5_col4\" class=\"data row5 col4\" >-0.15</td>\n",
       "                        <td id=\"T_5cf9f2a8_7ab5_11eb_bf98_0cc47af5a44frow5_col5\" class=\"data row5 col5\" >-0.11</td>\n",
       "                        <td id=\"T_5cf9f2a8_7ab5_11eb_bf98_0cc47af5a44frow5_col6\" class=\"data row5 col6\" >0.31</td>\n",
       "                        <td id=\"T_5cf9f2a8_7ab5_11eb_bf98_0cc47af5a44frow5_col7\" class=\"data row5 col7\" >-0.28</td>\n",
       "                        <td id=\"T_5cf9f2a8_7ab5_11eb_bf98_0cc47af5a44frow5_col8\" class=\"data row5 col8\" >-0.53</td>\n",
       "                        <td id=\"T_5cf9f2a8_7ab5_11eb_bf98_0cc47af5a44frow5_col9\" class=\"data row5 col9\" >-0.46</td>\n",
       "                        <td id=\"T_5cf9f2a8_7ab5_11eb_bf98_0cc47af5a44frow5_col10\" class=\"data row5 col10\" >0.25</td>\n",
       "                        <td id=\"T_5cf9f2a8_7ab5_11eb_bf98_0cc47af5a44frow5_col11\" class=\"data row5 col11\" >0.38</td>\n",
       "                        <td id=\"T_5cf9f2a8_7ab5_11eb_bf98_0cc47af5a44frow5_col12\" class=\"data row5 col12\" >-0.18</td>\n",
       "            </tr>\n",
       "            <tr>\n",
       "                        <th id=\"T_5cf9f2a8_7ab5_11eb_bf98_0cc47af5a44flevel0_row6\" class=\"row_heading level0 row6\" >75%</th>\n",
       "                        <td id=\"T_5cf9f2a8_7ab5_11eb_bf98_0cc47af5a44frow6_col0\" class=\"data row6 col0\" >0.01</td>\n",
       "                        <td id=\"T_5cf9f2a8_7ab5_11eb_bf98_0cc47af5a44frow6_col1\" class=\"data row6 col1\" >0.18</td>\n",
       "                        <td id=\"T_5cf9f2a8_7ab5_11eb_bf98_0cc47af5a44frow6_col2\" class=\"data row6 col2\" >1.04</td>\n",
       "                        <td id=\"T_5cf9f2a8_7ab5_11eb_bf98_0cc47af5a44frow6_col3\" class=\"data row6 col3\" >-0.28</td>\n",
       "                        <td id=\"T_5cf9f2a8_7ab5_11eb_bf98_0cc47af5a44frow6_col4\" class=\"data row6 col4\" >0.65</td>\n",
       "                        <td id=\"T_5cf9f2a8_7ab5_11eb_bf98_0cc47af5a44frow6_col5\" class=\"data row6 col5\" >0.51</td>\n",
       "                        <td id=\"T_5cf9f2a8_7ab5_11eb_bf98_0cc47af5a44frow6_col6\" class=\"data row6 col6\" >0.88</td>\n",
       "                        <td id=\"T_5cf9f2a8_7ab5_11eb_bf98_0cc47af5a44frow6_col7\" class=\"data row6 col7\" >0.61</td>\n",
       "                        <td id=\"T_5cf9f2a8_7ab5_11eb_bf98_0cc47af5a44frow6_col8\" class=\"data row6 col8\" >1.63</td>\n",
       "                        <td id=\"T_5cf9f2a8_7ab5_11eb_bf98_0cc47af5a44frow6_col9\" class=\"data row6 col9\" >1.51</td>\n",
       "                        <td id=\"T_5cf9f2a8_7ab5_11eb_bf98_0cc47af5a44frow6_col10\" class=\"data row6 col10\" >0.76</td>\n",
       "                        <td id=\"T_5cf9f2a8_7ab5_11eb_bf98_0cc47af5a44frow6_col11\" class=\"data row6 col11\" >0.43</td>\n",
       "                        <td id=\"T_5cf9f2a8_7ab5_11eb_bf98_0cc47af5a44frow6_col12\" class=\"data row6 col12\" >0.60</td>\n",
       "            </tr>\n",
       "            <tr>\n",
       "                        <th id=\"T_5cf9f2a8_7ab5_11eb_bf98_0cc47af5a44flevel0_row7\" class=\"row_heading level0 row7\" >max</th>\n",
       "                        <td id=\"T_5cf9f2a8_7ab5_11eb_bf98_0cc47af5a44frow7_col0\" class=\"data row7 col0\" >9.31</td>\n",
       "                        <td id=\"T_5cf9f2a8_7ab5_11eb_bf98_0cc47af5a44frow7_col1\" class=\"data row7 col1\" >3.61</td>\n",
       "                        <td id=\"T_5cf9f2a8_7ab5_11eb_bf98_0cc47af5a44frow7_col2\" class=\"data row7 col2\" >2.44</td>\n",
       "                        <td id=\"T_5cf9f2a8_7ab5_11eb_bf98_0cc47af5a44frow7_col3\" class=\"data row7 col3\" >3.55</td>\n",
       "                        <td id=\"T_5cf9f2a8_7ab5_11eb_bf98_0cc47af5a44frow7_col4\" class=\"data row7 col4\" >2.72</td>\n",
       "                        <td id=\"T_5cf9f2a8_7ab5_11eb_bf98_0cc47af5a44frow7_col5\" class=\"data row7 col5\" >3.46</td>\n",
       "                        <td id=\"T_5cf9f2a8_7ab5_11eb_bf98_0cc47af5a44frow7_col6\" class=\"data row7 col6\" >1.12</td>\n",
       "                        <td id=\"T_5cf9f2a8_7ab5_11eb_bf98_0cc47af5a44frow7_col7\" class=\"data row7 col7\" >3.91</td>\n",
       "                        <td id=\"T_5cf9f2a8_7ab5_11eb_bf98_0cc47af5a44frow7_col8\" class=\"data row7 col8\" >1.63</td>\n",
       "                        <td id=\"T_5cf9f2a8_7ab5_11eb_bf98_0cc47af5a44frow7_col9\" class=\"data row7 col9\" >1.77</td>\n",
       "                        <td id=\"T_5cf9f2a8_7ab5_11eb_bf98_0cc47af5a44frow7_col10\" class=\"data row7 col10\" >1.61</td>\n",
       "                        <td id=\"T_5cf9f2a8_7ab5_11eb_bf98_0cc47af5a44frow7_col11\" class=\"data row7 col11\" >0.43</td>\n",
       "                        <td id=\"T_5cf9f2a8_7ab5_11eb_bf98_0cc47af5a44frow7_col12\" class=\"data row7 col12\" >3.47</td>\n",
       "            </tr>\n",
       "    </tbody></table>"
      ],
      "text/plain": [
       "<pandas.io.formats.style.Styler at 0x14b6600fec50>"
      ]
     },
     "metadata": {},
     "output_type": "display_data"
    }
   ],
   "source": [
    "display(x_train.describe().style.format(\"{0:.2f}\").set_caption(\"Before normalization :\"))\n",
    "\n",
    "mean = x_train.mean()\n",
    "std  = x_train.std()\n",
    "x_train = (x_train - mean) / std\n",
    "x_test  = (x_test  - mean) / std\n",
    "\n",
    "display(x_train.describe().style.format(\"{0:.2f}\").set_caption(\"After normalization :\"))\n",
    "\n",
    "x_train, y_train = np.array(x_train), np.array(y_train)\n",
    "x_test,  y_test  = np.array(x_test),  np.array(y_test)\n"
   ]
  },
  {
   "cell_type": "markdown",
   "metadata": {},
   "source": [
    "## Step 4 - Build a model\n",
    "More informations about : \n",
    " - [Optimizer](https://www.tensorflow.org/api_docs/python/tf/keras/optimizers)\n",
    " - [Activation](https://www.tensorflow.org/api_docs/python/tf/keras/activations)\n",
    " - [Loss](https://www.tensorflow.org/api_docs/python/tf/keras/losses)\n",
    " - [Metrics](https://www.tensorflow.org/api_docs/python/tf/keras/metrics)"
   ]
  },
  {
   "cell_type": "code",
   "execution_count": 6,
   "metadata": {
    "execution": {
     "iopub.execute_input": "2021-03-01T17:41:33.263525Z",
     "iopub.status.busy": "2021-03-01T17:41:33.263058Z",
     "iopub.status.idle": "2021-03-01T17:41:33.265207Z",
     "shell.execute_reply": "2021-03-01T17:41:33.264717Z"
    }
   },
   "outputs": [],
   "source": [
    "  def get_model_v1(shape):\n",
    "    \n",
    "    model = keras.models.Sequential()\n",
    "    model.add(keras.layers.Input(shape, name=\"InputLayer\"))\n",
    "    model.add(keras.layers.Dense(64, activation='relu', name='Dense_n1'))\n",
    "    model.add(keras.layers.Dense(64, activation='relu', name='Dense_n2'))\n",
    "    model.add(keras.layers.Dense(1, name='Output'))\n",
    "    \n",
    "    model.compile(optimizer = 'rmsprop',\n",
    "                  loss      = 'mse',\n",
    "                  metrics   = ['mae', 'mse'] )\n",
    "    return model"
   ]
  },
  {
   "cell_type": "markdown",
   "metadata": {},
   "source": [
    "## 5 - Train the model\n",
    "### 5.1 - Get it"
   ]
  },
  {
   "cell_type": "code",
   "execution_count": 7,
   "metadata": {
    "execution": {
     "iopub.execute_input": "2021-03-01T17:41:33.268396Z",
     "iopub.status.busy": "2021-03-01T17:41:33.267931Z",
     "iopub.status.idle": "2021-03-01T17:41:34.413665Z",
     "shell.execute_reply": "2021-03-01T17:41:34.414169Z"
    }
   },
   "outputs": [
    {
     "name": "stdout",
     "output_type": "stream",
     "text": [
      "Model: \"sequential\"\n",
      "_________________________________________________________________\n",
      "Layer (type)                 Output Shape              Param #   \n",
      "=================================================================\n",
      "Dense_n1 (Dense)             (None, 64)                896       \n",
      "_________________________________________________________________\n",
      "Dense_n2 (Dense)             (None, 64)                4160      \n",
      "_________________________________________________________________\n",
      "Output (Dense)               (None, 1)                 65        \n",
      "=================================================================\n",
      "Total params: 5,121\n",
      "Trainable params: 5,121\n",
      "Non-trainable params: 0\n",
      "_________________________________________________________________\n"
     ]
    }
   ],
   "source": [
    "model=get_model_v1( (13,) )\n",
    "\n",
    "model.summary()\n",
    "# img=keras.utils.plot_model( model, to_file='./run/model.png', show_shapes=True, show_layer_names=True, dpi=96)\n",
    "# display(img)"
   ]
  },
  {
   "cell_type": "markdown",
   "metadata": {},
   "source": [
    "### 5.2 - Add callback"
   ]
  },
  {
   "cell_type": "code",
   "execution_count": 8,
   "metadata": {
    "execution": {
     "iopub.execute_input": "2021-03-01T17:41:34.417831Z",
     "iopub.status.busy": "2021-03-01T17:41:34.417364Z",
     "iopub.status.idle": "2021-03-01T17:41:34.421068Z",
     "shell.execute_reply": "2021-03-01T17:41:34.421538Z"
    }
   },
   "outputs": [],
   "source": [
    "os.makedirs('./run/models',   mode=0o750, exist_ok=True)\n",
    "save_dir = \"./run/models/best_model.h5\"\n",
    "\n",
    "savemodel_callback = tf.keras.callbacks.ModelCheckpoint(filepath=save_dir, verbose=0, save_best_only=True)"
   ]
  },
  {
   "cell_type": "markdown",
   "metadata": {},
   "source": [
    "### 5.3 - Train it"
   ]
  },
  {
   "cell_type": "code",
   "execution_count": 9,
   "metadata": {
    "execution": {
     "iopub.execute_input": "2021-03-01T17:41:34.425094Z",
     "iopub.status.busy": "2021-03-01T17:41:34.424621Z",
     "iopub.status.idle": "2021-03-01T17:41:51.019050Z",
     "shell.execute_reply": "2021-03-01T17:41:51.019548Z"
    }
   },
   "outputs": [
    {
     "name": "stdout",
     "output_type": "stream",
     "text": [
      "Epoch 1/100\n"
     ]
    },
    {
     "name": "stdout",
     "output_type": "stream",
     "text": [
      "\r",
      " 1/36 [..............................] - ETA: 35s - loss: 820.6553 - mae: 26.5753 - mse: 820.6553"
     ]
    },
    {
     "name": "stdout",
     "output_type": "stream",
     "text": [
      "\b\b\b\b\b\b\b\b\b\b\b\b\b\b\b\b\b\b\b\b\b\b\b\b\b\b\b\b\b\b\b\b\b\b\b\b\b\b\b\b\b\b\b\b\b\b\b\b\b\b\b\b\b\b\b\b\b\b\b\b\b\b\b\b\b\b\b\b\b\b\b\b\b\b\b\b\b\b\b\b\b\b\b\b\b\b\b\b\b\b\b\b\b\b\b\b\b\r",
      "29/36 [=======================>......] - ETA: 0s - loss: 536.9244 - mae: 21.1701 - mse: 536.9244 "
     ]
    },
    {
     "name": "stdout",
     "output_type": "stream",
     "text": [
      "\b\b\b\b\b\b\b\b\b\b\b\b\b\b\b\b\b\b\b\b\b\b\b\b\b\b\b\b\b\b\b\b\b\b\b\b\b\b\b\b\b\b\b\b\b\b\b\b\b\b\b\b\b\b\b\b\b\b\b\b\b\b\b\b\b\b\b\b\b\b\b\b\b\b\b\b\b\b\b\b\b\b\b\b\b\b\b\b\b\b\b\b\b\b\b\b\r",
      "36/36 [==============================] - 2s 25ms/step - loss: 527.1821 - mae: 20.9309 - mse: 527.1821 - val_loss: 366.4511 - val_mae: 16.9141 - val_mse: 366.4511\n"
     ]
    },
    {
     "name": "stdout",
     "output_type": "stream",
     "text": [
      "Epoch 2/100\n",
      "\r",
      " 1/36 [..............................] - ETA: 0s - loss: 315.7886 - mae: 15.7783 - mse: 315.7886"
     ]
    },
    {
     "name": "stdout",
     "output_type": "stream",
     "text": [
      "\b\b\b\b\b\b\b\b\b\b\b\b\b\b\b\b\b\b\b\b\b\b\b\b\b\b\b\b\b\b\b\b\b\b\b\b\b\b\b\b\b\b\b\b\b\b\b\b\b\b\b\b\b\b\b\b\b\b\b\b\b\b\b\b\b\b\b\b\b\b\b\b\b\b\b\b\b\b\b\b\b\b\b\b\b\b\b\b\b\b\b\b\b\b\b\b\r",
      "29/36 [=======================>......] - ETA: 0s - loss: 323.9455 - mae: 15.8696 - mse: 323.9455"
     ]
    },
    {
     "name": "stdout",
     "output_type": "stream",
     "text": [
      "\b\b\b\b\b\b\b\b\b\b\b\b\b\b\b\b\b\b\b\b\b\b\b\b\b\b\b\b\b\b\b\b\b\b\b\b\b\b\b\b\b\b\b\b\b\b\b\b\b\b\b\b\b\b\b\b\b\b\b\b\b\b\b\b\b\b\b\b\b\b\b\b\b\b\b\b\b\b\b\b\b\b\b\b\b\b\b\b\b\b\b\b\b\b\b\b\r",
      "36/36 [==============================] - 0s 4ms/step - loss: 309.9913 - mae: 15.4079 - mse: 309.9913 - val_loss: 148.6833 - val_mae: 9.7529 - val_mse: 148.6833\n"
     ]
    },
    {
     "name": "stdout",
     "output_type": "stream",
     "text": [
      "Epoch 3/100\n",
      "\r",
      " 1/36 [..............................] - ETA: 0s - loss: 59.3099 - mae: 6.3410 - mse: 59.3099"
     ]
    },
    {
     "name": "stdout",
     "output_type": "stream",
     "text": [
      "\b\b\b\b\b\b\b\b\b\b\b\b\b\b\b\b\b\b\b\b\b\b\b\b\b\b\b\b\b\b\b\b\b\b\b\b\b\b\b\b\b\b\b\b\b\b\b\b\b\b\b\b\b\b\b\b\b\b\b\b\b\b\b\b\b\b\b\b\b\b\b\b\b\b\b\b\b\b\b\b\b\b\b\b\b\b\b\b\b\b\b\b\b\r",
      "33/36 [==========================>...] - ETA: 0s - loss: 103.5178 - mae: 8.1731 - mse: 103.5178"
     ]
    },
    {
     "name": "stdout",
     "output_type": "stream",
     "text": [
      "\b\b\b\b\b\b\b\b\b\b\b\b\b\b\b\b\b\b\b\b\b\b\b\b\b\b\b\b\b\b\b\b\b\b\b\b\b\b\b\b\b\b\b\b\b\b\b\b\b\b\b\b\b\b\b\b\b\b\b\b\b\b\b\b\b\b\b\b\b\b\b\b\b\b\b\b\b\b\b\b\b\b\b\b\b\b\b\b\b\b\b\b\b\b\b\r",
      "36/36 [==============================] - 0s 4ms/step - loss: 102.1436 - mae: 8.0940 - mse: 102.1436 - val_loss: 62.3322 - val_mae: 5.7757 - val_mse: 62.3322\n"
     ]
    },
    {
     "name": "stdout",
     "output_type": "stream",
     "text": [
      "Epoch 4/100\n",
      "\r",
      " 1/36 [..............................] - ETA: 0s - loss: 39.9416 - mae: 5.4185 - mse: 39.9416"
     ]
    },
    {
     "name": "stdout",
     "output_type": "stream",
     "text": [
      "\b\b\b\b\b\b\b\b\b\b\b\b\b\b\b\b\b\b\b\b\b\b\b\b\b\b\b\b\b\b\b\b\b\b\b\b\b\b\b\b\b\b\b\b\b\b\b\b\b\b\b\b\b\b\b\b\b\b\b\b\b\b\b\b\b\b\b\b\b\b\b\b\b\b\b\b\b\b\b\b\b\b\b\b\b\b\b\b\b\b\b\b\b\r",
      "34/36 [===========================>..] - ETA: 0s - loss: 49.6750 - mae: 5.0914 - mse: 49.6750"
     ]
    },
    {
     "name": "stdout",
     "output_type": "stream",
     "text": [
      "\b\b\b\b\b\b\b\b\b\b\b\b\b\b\b\b\b\b\b\b\b\b\b\b\b\b\b\b\b\b\b\b\b\b\b\b\b\b\b\b\b\b\b\b\b\b\b\b\b\b\b\b\b\b\b\b\b\b\b\b\b\b\b\b\b\b\b\b\b\b\b\b\b\b\b\b\b\b\b\b\b\b\b\b\b\b\b\b\b\b\b\b\b\r",
      "36/36 [==============================] - 0s 4ms/step - loss: 49.3320 - mae: 5.0692 - mse: 49.3320 - val_loss: 38.5014 - val_mae: 4.6232 - val_mse: 38.5014\n"
     ]
    },
    {
     "name": "stdout",
     "output_type": "stream",
     "text": [
      "Epoch 5/100\n",
      "\r",
      " 1/36 [..............................] - ETA: 0s - loss: 17.5183 - mae: 3.3742 - mse: 17.5183"
     ]
    },
    {
     "name": "stdout",
     "output_type": "stream",
     "text": [
      "\b\b\b\b\b\b\b\b\b\b\b\b\b\b\b\b\b\b\b\b\b\b\b\b\b\b\b\b\b\b\b\b\b\b\b\b\b\b\b\b\b\b\b\b\b\b\b\b\b\b\b\b\b\b\b\b\b\b\b\b\b\b\b\b\b\b\b\b\b\b\b\b\b\b\b\b\b\b\b\b\b\b\b\b\b\b\b\b\b\b\b\b\b\r",
      "34/36 [===========================>..] - ETA: 0s - loss: 35.7436 - mae: 4.2565 - mse: 35.7436"
     ]
    },
    {
     "name": "stdout",
     "output_type": "stream",
     "text": [
      "\b\b\b\b\b\b\b\b\b\b\b\b\b\b\b\b\b\b\b\b\b\b\b\b\b\b\b\b\b\b\b\b\b\b\b\b\b\b\b\b\b\b\b\b\b\b\b\b\b\b\b\b\b\b\b\b\b\b\b\b\b\b\b\b\b\b\b\b\b\b\b\b\b\b\b\b\b\b\b\b\b\b\b\b\b\b\b\b\b\b\b\b\b\r",
      "36/36 [==============================] - 0s 4ms/step - loss: 35.3356 - mae: 4.2235 - mse: 35.3356 - val_loss: 28.1337 - val_mae: 3.8852 - val_mse: 28.1337\n"
     ]
    },
    {
     "name": "stdout",
     "output_type": "stream",
     "text": [
      "Epoch 6/100\n",
      "\r",
      " 1/36 [..............................] - ETA: 0s - loss: 22.1115 - mae: 3.4379 - mse: 22.1115"
     ]
    },
    {
     "name": "stdout",
     "output_type": "stream",
     "text": [
      "\b\b\b\b\b\b\b\b\b\b\b\b\b\b\b\b\b\b\b\b\b\b\b\b\b\b\b\b\b\b\b\b\b\b\b\b\b\b\b\b\b\b\b\b\b\b\b\b\b\b\b\b\b\b\b\b\b\b\b\b\b\b\b\b\b\b\b\b\b\b\b\b\b\b\b\b\b\b\b\b\b\b\b\b\b\b\b\b\b\b\b\b\b\r",
      "34/36 [===========================>..] - ETA: 0s - loss: 21.7539 - mae: 3.2625 - mse: 21.7539"
     ]
    },
    {
     "name": "stdout",
     "output_type": "stream",
     "text": [
      "\b\b\b\b\b\b\b\b\b\b\b\b\b\b\b\b\b\b\b\b\b\b\b\b\b\b\b\b\b\b\b\b\b\b\b\b\b\b\b\b\b\b\b\b\b\b\b\b\b\b\b\b\b\b\b\b\b\b\b\b\b\b\b\b\b\b\b\b\b\b\b\b\b\b\b\b\b\b\b\b\b\b\b\b\b\b\b\b\b\b\b\b\b\r",
      "36/36 [==============================] - 0s 4ms/step - loss: 21.9365 - mae: 3.2677 - mse: 21.9365 - val_loss: 21.7231 - val_mae: 3.5152 - val_mse: 21.7231\n"
     ]
    },
    {
     "name": "stdout",
     "output_type": "stream",
     "text": [
      "Epoch 7/100\n",
      "\r",
      " 1/36 [..............................] - ETA: 0s - loss: 4.7899 - mae: 1.9316 - mse: 4.7899"
     ]
    },
    {
     "name": "stdout",
     "output_type": "stream",
     "text": [
      "\b\b\b\b\b\b\b\b\b\b\b\b\b\b\b\b\b\b\b\b\b\b\b\b\b\b\b\b\b\b\b\b\b\b\b\b\b\b\b\b\b\b\b\b\b\b\b\b\b\b\b\b\b\b\b\b\b\b\b\b\b\b\b\b\b\b\b\b\b\b\b\b\b\b\b\b\b\b\b\b\b\b\b\b\b\b\b\b\b\b\b\r",
      "34/36 [===========================>..] - ETA: 0s - loss: 23.6831 - mae: 3.1045 - mse: 23.6831"
     ]
    },
    {
     "name": "stdout",
     "output_type": "stream",
     "text": [
      "\b\b\b\b\b\b\b\b\b\b\b\b\b\b\b\b\b\b\b\b\b\b\b\b\b\b\b\b\b\b\b\b\b\b\b\b\b\b\b\b\b\b\b\b\b\b\b\b\b\b\b\b\b\b\b\b\b\b\b\b\b\b\b\b\b\b\b\b\b\b\b\b\b\b\b\b\b\b\b\b\b\b\b\b\b\b\b\b\b\b\b\b\b\r",
      "36/36 [==============================] - 0s 4ms/step - loss: 23.4475 - mae: 3.1046 - mse: 23.4475 - val_loss: 20.5046 - val_mae: 3.1931 - val_mse: 20.5046\n"
     ]
    },
    {
     "name": "stdout",
     "output_type": "stream",
     "text": [
      "Epoch 8/100\n",
      "\r",
      " 1/36 [..............................] - ETA: 0s - loss: 5.8030 - mae: 1.7633 - mse: 5.8030"
     ]
    },
    {
     "name": "stdout",
     "output_type": "stream",
     "text": [
      "\b\b\b\b\b\b\b\b\b\b\b\b\b\b\b\b\b\b\b\b\b\b\b\b\b\b\b\b\b\b\b\b\b\b\b\b\b\b\b\b\b\b\b\b\b\b\b\b\b\b\b\b\b\b\b\b\b\b\b\b\b\b\b\b\b\b\b\b\b\b\b\b\b\b\b\b\b\b\b\b\b\b\b\b\b\b\b\b\b\b\b\r",
      "34/36 [===========================>..] - ETA: 0s - loss: 15.3522 - mae: 2.6887 - mse: 15.3522"
     ]
    },
    {
     "name": "stdout",
     "output_type": "stream",
     "text": [
      "\b\b\b\b\b\b\b\b\b\b\b\b\b\b\b\b\b\b\b\b\b\b\b\b\b\b\b\b\b\b\b\b\b\b\b\b\b\b\b\b\b\b\b\b\b\b\b\b\b\b\b\b\b\b\b\b\b\b\b\b\b\b\b\b\b\b\b\b\b\b\b\b\b\b\b\b\b\b\b\b\b\b\b\b\b\b\b\b\b\b\b\b\b\r",
      "36/36 [==============================] - 0s 4ms/step - loss: 15.6525 - mae: 2.7052 - mse: 15.6525 - val_loss: 17.8349 - val_mae: 3.1130 - val_mse: 17.8349\n"
     ]
    },
    {
     "name": "stdout",
     "output_type": "stream",
     "text": [
      "Epoch 9/100\n",
      "\r",
      " 1/36 [..............................] - ETA: 0s - loss: 10.4013 - mae: 2.6733 - mse: 10.4013"
     ]
    },
    {
     "name": "stdout",
     "output_type": "stream",
     "text": [
      "\b\b\b\b\b\b\b\b\b\b\b\b\b\b\b\b\b\b\b\b\b\b\b\b\b\b\b\b\b\b\b\b\b\b\b\b\b\b\b\b\b\b\b\b\b\b\b\b\b\b\b\b\b\b\b\b\b\b\b\b\b\b\b\b\b\b\b\b\b\b\b\b\b\b\b\b\b\b\b\b\b\b\b\b\b\b\b\b\b\b\b\b\b\r",
      "34/36 [===========================>..] - ETA: 0s - loss: 15.8170 - mae: 2.6635 - mse: 15.8170"
     ]
    },
    {
     "name": "stdout",
     "output_type": "stream",
     "text": [
      "\b\b\b\b\b\b\b\b\b\b\b\b\b\b\b\b\b\b\b\b\b\b\b\b\b\b\b\b\b\b\b\b\b\b\b\b\b\b\b\b\b\b\b\b\b\b\b\b\b\b\b\b\b\b\b\b\b\b\b\b\b\b\b\b\b\b\b\b\b\b\b\b\b\b\b\b\b\b\b\b\b\b\b\b\b\b\b\b\b\b\b\b\b\r",
      "36/36 [==============================] - 0s 4ms/step - loss: 15.9569 - mae: 2.6720 - mse: 15.9569 - val_loss: 16.5775 - val_mae: 2.9695 - val_mse: 16.5775\n"
     ]
    },
    {
     "name": "stdout",
     "output_type": "stream",
     "text": [
      "Epoch 10/100\n",
      "\r",
      " 1/36 [..............................] - ETA: 0s - loss: 91.7153 - mae: 5.3759 - mse: 91.7153"
     ]
    },
    {
     "name": "stdout",
     "output_type": "stream",
     "text": [
      "\b\b\b\b\b\b\b\b\b\b\b\b\b\b\b\b\b\b\b\b\b\b\b\b\b\b\b\b\b\b\b\b\b\b\b\b\b\b\b\b\b\b\b\b\b\b\b\b\b\b\b\b\b\b\b\b\b\b\b\b\b\b\b\b\b\b\b\b\b\b\b\b\b\b\b\b\b\b\b\b\b\b\b\b\b\b\b\b\b\b\b\b\b\r",
      "34/36 [===========================>..] - ETA: 0s - loss: 23.8195 - mae: 2.9376 - mse: 23.8195"
     ]
    },
    {
     "name": "stdout",
     "output_type": "stream",
     "text": [
      "\b\b\b\b\b\b\b\b\b\b\b\b\b\b\b\b\b\b\b\b\b\b\b\b\b\b\b\b\b\b\b\b\b\b\b\b\b\b\b\b\b\b\b\b\b\b\b\b\b\b\b\b\b\b\b\b\b\b\b\b\b\b\b\b\b\b\b\b\b\b\b\b\b\b\b\b\b\b\b\b\b\b\b\b\b\b\b\b\b\b\b\b\b\r",
      "36/36 [==============================] - 0s 4ms/step - loss: 23.2261 - mae: 2.9186 - mse: 23.2261 - val_loss: 16.0855 - val_mae: 3.1254 - val_mse: 16.0855\n"
     ]
    },
    {
     "name": "stdout",
     "output_type": "stream",
     "text": [
      "Epoch 11/100\n",
      "\r",
      " 1/36 [..............................] - ETA: 0s - loss: 8.8565 - mae: 2.2688 - mse: 8.8565"
     ]
    },
    {
     "name": "stdout",
     "output_type": "stream",
     "text": [
      "\b\b\b\b\b\b\b\b\b\b\b\b\b\b\b\b\b\b\b\b\b\b\b\b\b\b\b\b\b\b\b\b\b\b\b\b\b\b\b\b\b\b\b\b\b\b\b\b\b\b\b\b\b\b\b\b\b\b\b\b\b\b\b\b\b\b\b\b\b\b\b\b\b\b\b\b\b\b\b\b\b\b\b\b\b\b\b\b\b\b\b\r",
      "34/36 [===========================>..] - ETA: 0s - loss: 17.4861 - mae: 2.5884 - mse: 17.4861"
     ]
    },
    {
     "name": "stdout",
     "output_type": "stream",
     "text": [
      "\b\b\b\b\b\b\b\b\b\b\b\b\b\b\b\b\b\b\b\b\b\b\b\b\b\b\b\b\b\b\b\b\b\b\b\b\b\b\b\b\b\b\b\b\b\b\b\b\b\b\b\b\b\b\b\b\b\b\b\b\b\b\b\b\b\b\b\b\b\b\b\b\b\b\b\b\b\b\b\b\b\b\b\b\b\b\b\b\b\b\b\b\b\r",
      "36/36 [==============================] - 0s 4ms/step - loss: 17.3960 - mae: 2.5932 - mse: 17.3960 - val_loss: 14.6855 - val_mae: 2.7753 - val_mse: 14.6855\n"
     ]
    },
    {
     "name": "stdout",
     "output_type": "stream",
     "text": [
      "Epoch 12/100\n",
      "\r",
      " 1/36 [..............................] - ETA: 0s - loss: 9.9510 - mae: 2.6078 - mse: 9.9510"
     ]
    },
    {
     "name": "stdout",
     "output_type": "stream",
     "text": [
      "\b\b\b\b\b\b\b\b\b\b\b\b\b\b\b\b\b\b\b\b\b\b\b\b\b\b\b\b\b\b\b\b\b\b\b\b\b\b\b\b\b\b\b\b\b\b\b\b\b\b\b\b\b\b\b\b\b\b\b\b\b\b\b\b\b\b\b\b\b\b\b\b\b\b\b\b\b\b\b\b\b\b\b\b\b\b\b\b\b\b\b\r",
      "34/36 [===========================>..] - ETA: 0s - loss: 13.1098 - mae: 2.4412 - mse: 13.1098"
     ]
    },
    {
     "name": "stdout",
     "output_type": "stream",
     "text": [
      "\b\b\b\b\b\b\b\b\b\b\b\b\b\b\b\b\b\b\b\b\b\b\b\b\b\b\b\b\b\b\b\b\b\b\b\b\b\b\b\b\b\b\b\b\b\b\b\b\b\b\b\b\b\b\b\b\b\b\b\b\b\b\b\b\b\b\b\b\b\b\b\b\b\b\b\b\b\b\b\b\b\b\b\b\b\b\b\b\b\b\b\b\b\r",
      "36/36 [==============================] - 0s 4ms/step - loss: 13.2974 - mae: 2.4527 - mse: 13.2974 - val_loss: 14.2963 - val_mae: 2.7852 - val_mse: 14.2963\n"
     ]
    },
    {
     "name": "stdout",
     "output_type": "stream",
     "text": [
      "Epoch 13/100\n",
      "\r",
      " 1/36 [..............................] - ETA: 0s - loss: 4.7602 - mae: 1.8258 - mse: 4.7602"
     ]
    },
    {
     "name": "stdout",
     "output_type": "stream",
     "text": [
      "\b\b\b\b\b\b\b\b\b\b\b\b\b\b\b\b\b\b\b\b\b\b\b\b\b\b\b\b\b\b\b\b\b\b\b\b\b\b\b\b\b\b\b\b\b\b\b\b\b\b\b\b\b\b\b\b\b\b\b\b\b\b\b\b\b\b\b\b\b\b\b\b\b\b\b\b\b\b\b\b\b\b\b\b\b\b\b\b\b\b\b\r",
      "34/36 [===========================>..] - ETA: 0s - loss: 16.5663 - mae: 2.4904 - mse: 16.5663"
     ]
    },
    {
     "name": "stdout",
     "output_type": "stream",
     "text": [
      "\b\b\b\b\b\b\b\b\b\b\b\b\b\b\b\b\b\b\b\b\b\b\b\b\b\b\b\b\b\b\b\b\b\b\b\b\b\b\b\b\b\b\b\b\b\b\b\b\b\b\b\b\b\b\b\b\b\b\b\b\b\b\b\b\b\b\b\b\b\b\b\b\b\b\b\b\b\b\b\b\b\b\b\b\b\b\b\b\b\b\b\b\b\r",
      "36/36 [==============================] - 0s 4ms/step - loss: 16.4325 - mae: 2.4938 - mse: 16.4325 - val_loss: 13.7564 - val_mae: 2.8934 - val_mse: 13.7564\n"
     ]
    },
    {
     "name": "stdout",
     "output_type": "stream",
     "text": [
      "Epoch 14/100\n",
      "\r",
      " 1/36 [..............................] - ETA: 0s - loss: 13.3699 - mae: 3.1891 - mse: 13.3699"
     ]
    },
    {
     "name": "stdout",
     "output_type": "stream",
     "text": [
      "\b\b\b\b\b\b\b\b\b\b\b\b\b\b\b\b\b\b\b\b\b\b\b\b\b\b\b\b\b\b\b\b\b\b\b\b\b\b\b\b\b\b\b\b\b\b\b\b\b\b\b\b\b\b\b\b\b\b\b\b\b\b\b\b\b\b\b\b\b\b\b\b\b\b\b\b\b\b\b\b\b\b\b\b\b\b\b\b\b\b\b\b\b\r",
      "34/36 [===========================>..] - ETA: 0s - loss: 12.3543 - mae: 2.5245 - mse: 12.3543"
     ]
    },
    {
     "name": "stdout",
     "output_type": "stream",
     "text": [
      "\b\b\b\b\b\b\b\b\b\b\b\b\b\b\b\b\b\b\b\b\b\b\b\b\b\b\b\b\b\b\b\b\b\b\b\b\b\b\b\b\b\b\b\b\b\b\b\b\b\b\b\b\b\b\b\b\b\b\b\b\b\b\b\b\b\b\b\b\b\b\b\b\b\b\b\b\b\b\b\b\b\b\b\b\b\b\b\b\b\b\b\b\b\r",
      "36/36 [==============================] - 0s 4ms/step - loss: 12.5363 - mae: 2.5235 - mse: 12.5363 - val_loss: 12.9430 - val_mae: 2.6516 - val_mse: 12.9430\n"
     ]
    },
    {
     "name": "stdout",
     "output_type": "stream",
     "text": [
      "Epoch 15/100\n",
      "\r",
      " 1/36 [..............................] - ETA: 0s - loss: 68.4972 - mae: 4.1083 - mse: 68.4972"
     ]
    },
    {
     "name": "stdout",
     "output_type": "stream",
     "text": [
      "\b\b\b\b\b\b\b\b\b\b\b\b\b\b\b\b\b\b\b\b\b\b\b\b\b\b\b\b\b\b\b\b\b\b\b\b\b\b\b\b\b\b\b\b\b\b\b\b\b\b\b\b\b\b\b\b\b\b\b\b\b\b\b\b\b\b\b\b\b\b\b\b\b\b\b\b\b\b\b\b\b\b\b\b\b\b\b\b\b\b\b\b\b\r",
      "34/36 [===========================>..] - ETA: 0s - loss: 20.2423 - mae: 2.7711 - mse: 20.2423"
     ]
    },
    {
     "name": "stdout",
     "output_type": "stream",
     "text": [
      "\b\b\b\b\b\b\b\b\b\b\b\b\b\b\b\b\b\b\b\b\b\b\b\b\b\b\b\b\b\b\b\b\b\b\b\b\b\b\b\b\b\b\b\b\b\b\b\b\b\b\b\b\b\b\b\b\b\b\b\b\b\b\b\b\b\b\b\b\b\b\b\b\b\b\b\b\b\b\b\b\b\b\b\b\b\b\b\b\b\b\b\b\b\r",
      "36/36 [==============================] - 0s 4ms/step - loss: 19.7471 - mae: 2.7515 - mse: 19.7471 - val_loss: 13.4048 - val_mae: 2.6880 - val_mse: 13.4048\n"
     ]
    },
    {
     "name": "stdout",
     "output_type": "stream",
     "text": [
      "Epoch 16/100\n",
      "\r",
      " 1/36 [..............................] - ETA: 0s - loss: 4.3792 - mae: 1.8021 - mse: 4.3792"
     ]
    },
    {
     "name": "stdout",
     "output_type": "stream",
     "text": [
      "\b\b\b\b\b\b\b\b\b\b\b\b\b\b\b\b\b\b\b\b\b\b\b\b\b\b\b\b\b\b\b\b\b\b\b\b\b\b\b\b\b\b\b\b\b\b\b\b\b\b\b\b\b\b\b\b\b\b\b\b\b\b\b\b\b\b\b\b\b\b\b\b\b\b\b\b\b\b\b\b\b\b\b\b\b\b\b\b\b\b\b\r",
      "34/36 [===========================>..] - ETA: 0s - loss: 16.5802 - mae: 2.4869 - mse: 16.5802"
     ]
    },
    {
     "name": "stdout",
     "output_type": "stream",
     "text": [
      "\b\b\b\b\b\b\b\b\b\b\b\b\b\b\b\b\b\b\b\b\b\b\b\b\b\b\b\b\b\b\b\b\b\b\b\b\b\b\b\b\b\b\b\b\b\b\b\b\b\b\b\b\b\b\b\b\b\b\b\b\b\b\b\b\b\b\b\b\b\b\b\b\b\b\b\b\b\b\b\b\b\b\b\b\b\b\b\b\b\b\b\b\b\r",
      "36/36 [==============================] - 0s 4ms/step - loss: 16.3510 - mae: 2.4826 - mse: 16.3510 - val_loss: 12.8310 - val_mae: 2.6340 - val_mse: 12.8310\n"
     ]
    },
    {
     "name": "stdout",
     "output_type": "stream",
     "text": [
      "Epoch 17/100\n",
      "\r",
      " 1/36 [..............................] - ETA: 0s - loss: 16.0477 - mae: 3.5006 - mse: 16.0477"
     ]
    },
    {
     "name": "stdout",
     "output_type": "stream",
     "text": [
      "\b\b\b\b\b\b\b\b\b\b\b\b\b\b\b\b\b\b\b\b\b\b\b\b\b\b\b\b\b\b\b\b\b\b\b\b\b\b\b\b\b\b\b\b\b\b\b\b\b\b\b\b\b\b\b\b\b\b\b\b\b\b\b\b\b\b\b\b\b\b\b\b\b\b\b\b\b\b\b\b\b\b\b\b\b\b\b\b\b\b\b\b\b\r",
      "34/36 [===========================>..] - ETA: 0s - loss: 10.6636 - mae: 2.2813 - mse: 10.6636"
     ]
    },
    {
     "name": "stdout",
     "output_type": "stream",
     "text": [
      "\b\b\b\b\b\b\b\b\b\b\b\b\b\b\b\b\b\b\b\b\b\b\b\b\b\b\b\b\b\b\b\b\b\b\b\b\b\b\b\b\b\b\b\b\b\b\b\b\b\b\b\b\b\b\b\b\b\b\b\b\b\b\b\b\b\b\b\b\b\b\b\b\b\b\b\b\b\b\b\b\b\b\b\b\b\b\b\b\b\b\b\b\b\r",
      "36/36 [==============================] - 0s 4ms/step - loss: 10.8826 - mae: 2.2884 - mse: 10.8826 - val_loss: 12.0806 - val_mae: 2.6247 - val_mse: 12.0806\n"
     ]
    },
    {
     "name": "stdout",
     "output_type": "stream",
     "text": [
      "Epoch 18/100\n",
      "\r",
      " 1/36 [..............................] - ETA: 0s - loss: 8.6191 - mae: 2.3694 - mse: 8.6191"
     ]
    },
    {
     "name": "stdout",
     "output_type": "stream",
     "text": [
      "\b\b\b\b\b\b\b\b\b\b\b\b\b\b\b\b\b\b\b\b\b\b\b\b\b\b\b\b\b\b\b\b\b\b\b\b\b\b\b\b\b\b\b\b\b\b\b\b\b\b\b\b\b\b\b\b\b\b\b\b\b\b\b\b\b\b\b\b\b\b\b\b\b\b\b\b\b\b\b\b\b\b\b\b\b\b\b\b\b\b\b\r",
      "34/36 [===========================>..] - ETA: 0s - loss: 11.6103 - mae: 2.2973 - mse: 11.6103"
     ]
    },
    {
     "name": "stdout",
     "output_type": "stream",
     "text": [
      "\b\b\b\b\b\b\b\b\b\b\b\b\b\b\b\b\b\b\b\b\b\b\b\b\b\b\b\b\b\b\b\b\b\b\b\b\b\b\b\b\b\b\b\b\b\b\b\b\b\b\b\b\b\b\b\b\b\b\b\b\b\b\b\b\b\b\b\b\b\b\b\b\b\b\b\b\b\b\b\b\b\b\b\b\b\b\b\b\b\b\b\b\b\r",
      "36/36 [==============================] - 0s 4ms/step - loss: 11.7191 - mae: 2.3040 - mse: 11.7191 - val_loss: 11.9184 - val_mae: 2.6959 - val_mse: 11.9184\n"
     ]
    },
    {
     "name": "stdout",
     "output_type": "stream",
     "text": [
      "Epoch 19/100\n",
      "\r",
      " 1/36 [..............................] - ETA: 0s - loss: 14.6948 - mae: 3.1449 - mse: 14.6948"
     ]
    },
    {
     "name": "stdout",
     "output_type": "stream",
     "text": [
      "\b\b\b\b\b\b\b\b\b\b\b\b\b\b\b\b\b\b\b\b\b\b\b\b\b\b\b\b\b\b\b\b\b\b\b\b\b\b\b\b\b\b\b\b\b\b\b\b\b\b\b\b\b\b\b\b\b\b\b\b\b\b\b\b\b\b\b\b\b\b\b\b\b\b\b\b\b\b\b\b\b\b\b\b\b\b\b\b\b\b\b\b\b\r",
      "34/36 [===========================>..] - ETA: 0s - loss: 11.3195 - mae: 2.4608 - mse: 11.3195"
     ]
    },
    {
     "name": "stdout",
     "output_type": "stream",
     "text": [
      "\b\b\b\b\b\b\b\b\b\b\b\b\b\b\b\b\b\b\b\b\b\b\b\b\b\b\b\b\b\b\b\b\b\b\b\b\b\b\b\b\b\b\b\b\b\b\b\b\b\b\b\b\b\b\b\b\b\b\b\b\b\b\b\b\b\b\b\b\b\b\b\b\b\b\b\b\b\b\b\b\b\b\b\b\b\b\b\b\b\b\b\b\b\r",
      "36/36 [==============================] - 0s 4ms/step - loss: 11.4301 - mae: 2.4512 - mse: 11.4301 - val_loss: 11.3863 - val_mae: 2.5772 - val_mse: 11.3863\n"
     ]
    },
    {
     "name": "stdout",
     "output_type": "stream",
     "text": [
      "Epoch 20/100\n",
      "\r",
      " 1/36 [..............................] - ETA: 0s - loss: 9.3119 - mae: 2.2334 - mse: 9.3119"
     ]
    },
    {
     "name": "stdout",
     "output_type": "stream",
     "text": [
      "\b\b\b\b\b\b\b\b\b\b\b\b\b\b\b\b\b\b\b\b\b\b\b\b\b\b\b\b\b\b\b\b\b\b\b\b\b\b\b\b\b\b\b\b\b\b\b\b\b\b\b\b\b\b\b\b\b\b\b\b\b\b\b\b\b\b\b\b\b\b\b\b\b\b\b\b\b\b\b\b\b\b\b\b\b\b\b\b\b\b\b\r",
      "34/36 [===========================>..] - ETA: 0s - loss: 9.4933 - mae: 2.2492 - mse: 9.4933"
     ]
    },
    {
     "name": "stdout",
     "output_type": "stream",
     "text": [
      "\b\b\b\b\b\b\b\b\b\b\b\b\b\b\b\b\b\b\b\b\b\b\b\b\b\b\b\b\b\b\b\b\b\b\b\b\b\b\b\b\b\b\b\b\b\b\b\b\b\b\b\b\b\b\b\b\b\b\b\b\b\b\b\b\b\b\b\b\b\b\b\b\b\b\b\b\b\b\b\b\b\b\b\b\b\b\b\b\b\b\b\r",
      "36/36 [==============================] - 0s 4ms/step - loss: 9.7270 - mae: 2.2546 - mse: 9.7270 - val_loss: 11.9726 - val_mae: 2.5209 - val_mse: 11.9726\n"
     ]
    },
    {
     "name": "stdout",
     "output_type": "stream",
     "text": [
      "Epoch 21/100\n",
      "\r",
      " 1/36 [..............................] - ETA: 0s - loss: 10.2041 - mae: 2.4026 - mse: 10.2041"
     ]
    },
    {
     "name": "stdout",
     "output_type": "stream",
     "text": [
      "\b\b\b\b\b\b\b\b\b\b\b\b\b\b\b\b\b\b\b\b\b\b\b\b\b\b\b\b\b\b\b\b\b\b\b\b\b\b\b\b\b\b\b\b\b\b\b\b\b\b\b\b\b\b\b\b\b\b\b\b\b\b\b\b\b\b\b\b\b\b\b\b\b\b\b\b\b\b\b\b\b\b\b\b\b\b\b\b\b\b\b\b\b\r",
      "34/36 [===========================>..] - ETA: 0s - loss: 11.7656 - mae: 2.2168 - mse: 11.7656"
     ]
    },
    {
     "name": "stdout",
     "output_type": "stream",
     "text": [
      "\b\b\b\b\b\b\b\b\b\b\b\b\b\b\b\b\b\b\b\b\b\b\b\b\b\b\b\b\b\b\b\b\b\b\b\b\b\b\b\b\b\b\b\b\b\b\b\b\b\b\b\b\b\b\b\b\b\b\b\b\b\b\b\b\b\b\b\b\b\b\b\b\b\b\b\b\b\b\b\b\b\b\b\b\b\b\b\b\b\b\b\b\b\r",
      "36/36 [==============================] - 0s 4ms/step - loss: 11.7891 - mae: 2.2266 - mse: 11.7891 - val_loss: 11.6104 - val_mae: 2.5028 - val_mse: 11.6104\n"
     ]
    },
    {
     "name": "stdout",
     "output_type": "stream",
     "text": [
      "Epoch 22/100\n",
      "\r",
      " 1/36 [..............................] - ETA: 0s - loss: 4.3200 - mae: 1.6309 - mse: 4.3200"
     ]
    },
    {
     "name": "stdout",
     "output_type": "stream",
     "text": [
      "\b\b\b\b\b\b\b\b\b\b\b\b\b\b\b\b\b\b\b\b\b\b\b\b\b\b\b\b\b\b\b\b\b\b\b\b\b\b\b\b\b\b\b\b\b\b\b\b\b\b\b\b\b\b\b\b\b\b\b\b\b\b\b\b\b\b\b\b\b\b\b\b\b\b\b\b\b\b\b\b\b\b\b\b\b\b\b\b\b\b\b\r",
      "34/36 [===========================>..] - ETA: 0s - loss: 10.0424 - mae: 2.1249 - mse: 10.0424"
     ]
    },
    {
     "name": "stdout",
     "output_type": "stream",
     "text": [
      "\b\b\b\b\b\b\b\b\b\b\b\b\b\b\b\b\b\b\b\b\b\b\b\b\b\b\b\b\b\b\b\b\b\b\b\b\b\b\b\b\b\b\b\b\b\b\b\b\b\b\b\b\b\b\b\b\b\b\b\b\b\b\b\b\b\b\b\b\b\b\b\b\b\b\b\b\b\b\b\b\b\b\b\b\b\b\b\b\b\b\b\b\b\r",
      "36/36 [==============================] - 0s 4ms/step - loss: 10.1912 - mae: 2.1403 - mse: 10.1912 - val_loss: 11.0094 - val_mae: 2.5126 - val_mse: 11.0094\n"
     ]
    },
    {
     "name": "stdout",
     "output_type": "stream",
     "text": [
      "Epoch 23/100\n",
      "\r",
      " 1/36 [..............................] - ETA: 0s - loss: 11.7311 - mae: 2.7516 - mse: 11.7311"
     ]
    },
    {
     "name": "stdout",
     "output_type": "stream",
     "text": [
      "\b\b\b\b\b\b\b\b\b\b\b\b\b\b\b\b\b\b\b\b\b\b\b\b\b\b\b\b\b\b\b\b\b\b\b\b\b\b\b\b\b\b\b\b\b\b\b\b\b\b\b\b\b\b\b\b\b\b\b\b\b\b\b\b\b\b\b\b\b\b\b\b\b\b\b\b\b\b\b\b\b\b\b\b\b\b\b\b\b\b\b\b\b\r",
      "34/36 [===========================>..] - ETA: 0s - loss: 14.9133 - mae: 2.4718 - mse: 14.9133"
     ]
    },
    {
     "name": "stdout",
     "output_type": "stream",
     "text": [
      "\b\b\b\b\b\b\b\b\b\b\b\b\b\b\b\b\b\b\b\b\b\b\b\b\b\b\b\b\b\b\b\b\b\b\b\b\b\b\b\b\b\b\b\b\b\b\b\b\b\b\b\b\b\b\b\b\b\b\b\b\b\b\b\b\b\b\b\b\b\b\b\b\b\b\b\b\b\b\b\b\b\b\b\b\b\b\b\b\b\b\b\b\b\r",
      "36/36 [==============================] - 0s 4ms/step - loss: 14.6403 - mae: 2.4542 - mse: 14.6403 - val_loss: 10.7057 - val_mae: 2.4868 - val_mse: 10.7057\n"
     ]
    },
    {
     "name": "stdout",
     "output_type": "stream",
     "text": [
      "Epoch 24/100\n",
      "\r",
      " 1/36 [..............................] - ETA: 0s - loss: 21.5207 - mae: 3.0129 - mse: 21.5207"
     ]
    },
    {
     "name": "stdout",
     "output_type": "stream",
     "text": [
      "\b\b\b\b\b\b\b\b\b\b\b\b\b\b\b\b\b\b\b\b\b\b\b\b\b\b\b\b\b\b\b\b\b\b\b\b\b\b\b\b\b\b\b\b\b\b\b\b\b\b\b\b\b\b\b\b\b\b\b\b\b\b\b\b\b\b\b\b\b\b\b\b\b\b\b\b\b\b\b\b\b\b\b\b\b\b\b\b\b\b\b\b\b\r",
      "34/36 [===========================>..] - ETA: 0s - loss: 11.4855 - mae: 2.2650 - mse: 11.4855"
     ]
    },
    {
     "name": "stdout",
     "output_type": "stream",
     "text": [
      "\b\b\b\b\b\b\b\b\b\b\b\b\b\b\b\b\b\b\b\b\b\b\b\b\b\b\b\b\b\b\b\b\b\b\b\b\b\b\b\b\b\b\b\b\b\b\b\b\b\b\b\b\b\b\b\b\b\b\b\b\b\b\b\b\b\b\b\b\b\b\b\b\b\b\b\b\b\b\b\b\b\b\b\b\b\b\b\b\b\b\b\b\b\r",
      "36/36 [==============================] - 0s 4ms/step - loss: 11.4889 - mae: 2.2633 - mse: 11.4889 - val_loss: 12.7086 - val_mae: 2.6150 - val_mse: 12.7086\n"
     ]
    },
    {
     "name": "stdout",
     "output_type": "stream",
     "text": [
      "Epoch 25/100\n",
      "\r",
      " 1/36 [..............................] - ETA: 0s - loss: 4.3034 - mae: 1.7330 - mse: 4.3034"
     ]
    },
    {
     "name": "stdout",
     "output_type": "stream",
     "text": [
      "\b\b\b\b\b\b\b\b\b\b\b\b\b\b\b\b\b\b\b\b\b\b\b\b\b\b\b\b\b\b\b\b\b\b\b\b\b\b\b\b\b\b\b\b\b\b\b\b\b\b\b\b\b\b\b\b\b\b\b\b\b\b\b\b\b\b\b\b\b\b\b\b\b\b\b\b\b\b\b\b\b\b\b\b\b\b\b\b\b\b\b\r",
      "34/36 [===========================>..] - ETA: 0s - loss: 9.3907 - mae: 2.1392 - mse: 9.3907"
     ]
    },
    {
     "name": "stdout",
     "output_type": "stream",
     "text": [
      "\b\b\b\b\b\b\b\b\b\b\b\b\b\b\b\b\b\b\b\b\b\b\b\b\b\b\b\b\b\b\b\b\b\b\b\b\b\b\b\b\b\b\b\b\b\b\b\b\b\b\b\b\b\b\b\b\b\b\b\b\b\b\b\b\b\b\b\b\b\b\b\b\b\b\b\b\b\b\b\b\b\b\b\b\b\b\b\b\b\b\b\r",
      "36/36 [==============================] - 0s 4ms/step - loss: 9.5448 - mae: 2.1476 - mse: 9.5448 - val_loss: 10.6592 - val_mae: 2.4392 - val_mse: 10.6592\n"
     ]
    },
    {
     "name": "stdout",
     "output_type": "stream",
     "text": [
      "Epoch 26/100\n",
      "\r",
      " 1/36 [..............................] - ETA: 0s - loss: 3.7952 - mae: 1.5505 - mse: 3.7952"
     ]
    },
    {
     "name": "stdout",
     "output_type": "stream",
     "text": [
      "\b\b\b\b\b\b\b\b\b\b\b\b\b\b\b\b\b\b\b\b\b\b\b\b\b\b\b\b\b\b\b\b\b\b\b\b\b\b\b\b\b\b\b\b\b\b\b\b\b\b\b\b\b\b\b\b\b\b\b\b\b\b\b\b\b\b\b\b\b\b\b\b\b\b\b\b\b\b\b\b\b\b\b\b\b\b\b\b\b\b\b\r",
      "34/36 [===========================>..] - ETA: 0s - loss: 8.5280 - mae: 2.1006 - mse: 8.5280"
     ]
    },
    {
     "name": "stdout",
     "output_type": "stream",
     "text": [
      "\b\b\b\b\b\b\b\b\b\b\b\b\b\b\b\b\b\b\b\b\b\b\b\b\b\b\b\b\b\b\b\b\b\b\b\b\b\b\b\b\b\b\b\b\b\b\b\b\b\b\b\b\b\b\b\b\b\b\b\b\b\b\b\b\b\b\b\b\b\b\b\b\b\b\b\b\b\b\b\b\b\b\b\b\b\b\b\b\b\b\b\r",
      "36/36 [==============================] - 0s 4ms/step - loss: 8.7323 - mae: 2.1100 - mse: 8.7323 - val_loss: 10.3444 - val_mae: 2.4491 - val_mse: 10.3444\n"
     ]
    },
    {
     "name": "stdout",
     "output_type": "stream",
     "text": [
      "Epoch 27/100\n",
      "\r",
      " 1/36 [..............................] - ETA: 0s - loss: 2.1216 - mae: 1.2292 - mse: 2.1216"
     ]
    },
    {
     "name": "stdout",
     "output_type": "stream",
     "text": [
      "\b\b\b\b\b\b\b\b\b\b\b\b\b\b\b\b\b\b\b\b\b\b\b\b\b\b\b\b\b\b\b\b\b\b\b\b\b\b\b\b\b\b\b\b\b\b\b\b\b\b\b\b\b\b\b\b\b\b\b\b\b\b\b\b\b\b\b\b\b\b\b\b\b\b\b\b\b\b\b\b\b\b\b\b\b\b\b\b\b\b\b\r",
      "34/36 [===========================>..] - ETA: 0s - loss: 9.9900 - mae: 2.1214 - mse: 9.9900"
     ]
    },
    {
     "name": "stdout",
     "output_type": "stream",
     "text": [
      "\b\b\b\b\b\b\b\b\b\b\b\b\b\b\b\b\b\b\b\b\b\b\b\b\b\b\b\b\b\b\b\b\b\b\b\b\b\b\b\b\b\b\b\b\b\b\b\b\b\b\b\b\b\b\b\b\b\b\b\b\b\b\b\b\b\b\b\b\b\b\b\b\b\b\b\b\b\b\b\b\b\b\b\b\b\b\b\b\b\b\b\r",
      "36/36 [==============================] - 0s 4ms/step - loss: 10.0589 - mae: 2.1262 - mse: 10.0589 - val_loss: 10.9042 - val_mae: 2.4283 - val_mse: 10.9042\n"
     ]
    },
    {
     "name": "stdout",
     "output_type": "stream",
     "text": [
      "Epoch 28/100\n",
      "\r",
      " 1/36 [..............................] - ETA: 0s - loss: 3.3230 - mae: 1.3775 - mse: 3.3230"
     ]
    },
    {
     "name": "stdout",
     "output_type": "stream",
     "text": [
      "\b\b\b\b\b\b\b\b\b\b\b\b\b\b\b\b\b\b\b\b\b\b\b\b\b\b\b\b\b\b\b\b\b\b\b\b\b\b\b\b\b\b\b\b\b\b\b\b\b\b\b\b\b\b\b\b\b\b\b\b\b\b\b\b\b\b\b\b\b\b\b\b\b\b\b\b\b\b\b\b\b\b\b\b\b\b\b\b\b\b\b\r",
      "34/36 [===========================>..] - ETA: 0s - loss: 11.4200 - mae: 2.3133 - mse: 11.4200"
     ]
    },
    {
     "name": "stdout",
     "output_type": "stream",
     "text": [
      "\b\b\b\b\b\b\b\b\b\b\b\b\b\b\b\b\b\b\b\b\b\b\b\b\b\b\b\b\b\b\b\b\b\b\b\b\b\b\b\b\b\b\b\b\b\b\b\b\b\b\b\b\b\b\b\b\b\b\b\b\b\b\b\b\b\b\b\b\b\b\b\b\b\b\b\b\b\b\b\b\b\b\b\b\b\b\b\b\b\b\b\b\b\r",
      "36/36 [==============================] - 0s 4ms/step - loss: 11.3581 - mae: 2.3027 - mse: 11.3581 - val_loss: 10.4503 - val_mae: 2.4054 - val_mse: 10.4503\n"
     ]
    },
    {
     "name": "stdout",
     "output_type": "stream",
     "text": [
      "Epoch 29/100\n",
      "\r",
      " 1/36 [..............................] - ETA: 0s - loss: 33.9899 - mae: 3.5797 - mse: 33.9899"
     ]
    },
    {
     "name": "stdout",
     "output_type": "stream",
     "text": [
      "\b\b\b\b\b\b\b\b\b\b\b\b\b\b\b\b\b\b\b\b\b\b\b\b\b\b\b\b\b\b\b\b\b\b\b\b\b\b\b\b\b\b\b\b\b\b\b\b\b\b\b\b\b\b\b\b\b\b\b\b\b\b\b\b\b\b\b\b\b\b\b\b\b\b\b\b\b\b\b\b\b\b\b\b\b\b\b\b\b\b\b\b\b\r",
      "34/36 [===========================>..] - ETA: 0s - loss: 14.3554 - mae: 2.3502 - mse: 14.3554"
     ]
    },
    {
     "name": "stdout",
     "output_type": "stream",
     "text": [
      "\b\b\b\b\b\b\b\b\b\b\b\b\b\b\b\b\b\b\b\b\b\b\b\b\b\b\b\b\b\b\b\b\b\b\b\b\b\b\b\b\b\b\b\b\b\b\b\b\b\b\b\b\b\b\b\b\b\b\b\b\b\b\b\b\b\b\b\b\b\b\b\b\b\b\b\b\b\b\b\b\b\b\b\b\b\b\b\b\b\b\b\b\b\r",
      "36/36 [==============================] - 0s 4ms/step - loss: 14.0357 - mae: 2.3363 - mse: 14.0357 - val_loss: 10.9305 - val_mae: 2.5384 - val_mse: 10.9305\n"
     ]
    },
    {
     "name": "stdout",
     "output_type": "stream",
     "text": [
      "Epoch 30/100\n",
      "\r",
      " 1/36 [..............................] - ETA: 0s - loss: 6.6930 - mae: 2.0682 - mse: 6.6930"
     ]
    },
    {
     "name": "stdout",
     "output_type": "stream",
     "text": [
      "\b\b\b\b\b\b\b\b\b\b\b\b\b\b\b\b\b\b\b\b\b\b\b\b\b\b\b\b\b\b\b\b\b\b\b\b\b\b\b\b\b\b\b\b\b\b\b\b\b\b\b\b\b\b\b\b\b\b\b\b\b\b\b\b\b\b\b\b\b\b\b\b\b\b\b\b\b\b\b\b\b\b\b\b\b\b\b\b\b\b\b\r",
      "34/36 [===========================>..] - ETA: 0s - loss: 9.3449 - mae: 2.1414 - mse: 9.3449"
     ]
    },
    {
     "name": "stdout",
     "output_type": "stream",
     "text": [
      "\b\b\b\b\b\b\b\b\b\b\b\b\b\b\b\b\b\b\b\b\b\b\b\b\b\b\b\b\b\b\b\b\b\b\b\b\b\b\b\b\b\b\b\b\b\b\b\b\b\b\b\b\b\b\b\b\b\b\b\b\b\b\b\b\b\b\b\b\b\b\b\b\b\b\b\b\b\b\b\b\b\b\b\b\b\b\b\b\b\b\b\r",
      "36/36 [==============================] - 0s 4ms/step - loss: 9.4282 - mae: 2.1445 - mse: 9.4282 - val_loss: 10.2903 - val_mae: 2.4415 - val_mse: 10.2903\n"
     ]
    },
    {
     "name": "stdout",
     "output_type": "stream",
     "text": [
      "Epoch 31/100\n",
      "\r",
      " 1/36 [..............................] - ETA: 0s - loss: 11.8937 - mae: 2.3838 - mse: 11.8937"
     ]
    },
    {
     "name": "stdout",
     "output_type": "stream",
     "text": [
      "\b\b\b\b\b\b\b\b\b\b\b\b\b\b\b\b\b\b\b\b\b\b\b\b\b\b\b\b\b\b\b\b\b\b\b\b\b\b\b\b\b\b\b\b\b\b\b\b\b\b\b\b\b\b\b\b\b\b\b\b\b\b\b\b\b\b\b\b\b\b\b\b\b\b\b\b\b\b\b\b\b\b\b\b\b\b\b\b\b\b\b\b\b\r",
      "34/36 [===========================>..] - ETA: 0s - loss: 10.5827 - mae: 2.2641 - mse: 10.5827"
     ]
    },
    {
     "name": "stdout",
     "output_type": "stream",
     "text": [
      "\b\b\b\b\b\b\b\b\b\b\b\b\b\b\b\b\b\b\b\b\b\b\b\b\b\b\b\b\b\b\b\b\b\b\b\b\b\b\b\b\b\b\b\b\b\b\b\b\b\b\b\b\b\b\b\b\b\b\b\b\b\b\b\b\b\b\b\b\b\b\b\b\b\b\b\b\b\b\b\b\b\b\b\b\b\b\b\b\b\b\b\b\b\r",
      "36/36 [==============================] - 0s 4ms/step - loss: 10.5401 - mae: 2.2549 - mse: 10.5401 - val_loss: 10.1078 - val_mae: 2.4803 - val_mse: 10.1078\n"
     ]
    },
    {
     "name": "stdout",
     "output_type": "stream",
     "text": [
      "Epoch 32/100\n",
      "\r",
      " 1/36 [..............................] - ETA: 0s - loss: 6.2220 - mae: 1.6252 - mse: 6.2220"
     ]
    },
    {
     "name": "stdout",
     "output_type": "stream",
     "text": [
      "\b\b\b\b\b\b\b\b\b\b\b\b\b\b\b\b\b\b\b\b\b\b\b\b\b\b\b\b\b\b\b\b\b\b\b\b\b\b\b\b\b\b\b\b\b\b\b\b\b\b\b\b\b\b\b\b\b\b\b\b\b\b\b\b\b\b\b\b\b\b\b\b\b\b\b\b\b\b\b\b\b\b\b\b\b\b\b\b\b\b\b\r",
      "34/36 [===========================>..] - ETA: 0s - loss: 7.1669 - mae: 1.9461 - mse: 7.1669"
     ]
    },
    {
     "name": "stdout",
     "output_type": "stream",
     "text": [
      "\b\b\b\b\b\b\b\b\b\b\b\b\b\b\b\b\b\b\b\b\b\b\b\b\b\b\b\b\b\b\b\b\b\b\b\b\b\b\b\b\b\b\b\b\b\b\b\b\b\b\b\b\b\b\b\b\b\b\b\b\b\b\b\b\b\b\b\b\b\b\b\b\b\b\b\b\b\b\b\b\b\b\b\b\b\b\b\b\b\b\b\r",
      "36/36 [==============================] - 0s 4ms/step - loss: 7.3891 - mae: 1.9584 - mse: 7.3891 - val_loss: 10.8149 - val_mae: 2.4682 - val_mse: 10.8149\n"
     ]
    },
    {
     "name": "stdout",
     "output_type": "stream",
     "text": [
      "Epoch 33/100\n",
      "\r",
      " 1/36 [..............................] - ETA: 0s - loss: 7.1659 - mae: 1.8492 - mse: 7.1659"
     ]
    },
    {
     "name": "stdout",
     "output_type": "stream",
     "text": [
      "\b\b\b\b\b\b\b\b\b\b\b\b\b\b\b\b\b\b\b\b\b\b\b\b\b\b\b\b\b\b\b\b\b\b\b\b\b\b\b\b\b\b\b\b\b\b\b\b\b\b\b\b\b\b\b\b\b\b\b\b\b\b\b\b\b\b\b\b\b\b\b\b\b\b\b\b\b\b\b\b\b\b\b\b\b\b\b\b\b\b\b\r",
      "34/36 [===========================>..] - ETA: 0s - loss: 10.5973 - mae: 2.1637 - mse: 10.5973"
     ]
    },
    {
     "name": "stdout",
     "output_type": "stream",
     "text": [
      "\b\b\b\b\b\b\b\b\b\b\b\b\b\b\b\b\b\b\b\b\b\b\b\b\b\b\b\b\b\b\b\b\b\b\b\b\b\b\b\b\b\b\b\b\b\b\b\b\b\b\b\b\b\b\b\b\b\b\b\b\b\b\b\b\b\b\b\b\b\b\b\b\b\b\b\b\b\b\b\b\b\b\b\b\b\b\b\b\b\b\b\b\b\r",
      "36/36 [==============================] - 0s 4ms/step - loss: 10.5331 - mae: 2.1599 - mse: 10.5331 - val_loss: 10.4850 - val_mae: 2.3976 - val_mse: 10.4850\n"
     ]
    },
    {
     "name": "stdout",
     "output_type": "stream",
     "text": [
      "Epoch 34/100\n",
      "\r",
      " 1/36 [..............................] - ETA: 0s - loss: 4.9443 - mae: 1.6369 - mse: 4.9443"
     ]
    },
    {
     "name": "stdout",
     "output_type": "stream",
     "text": [
      "\b\b\b\b\b\b\b\b\b\b\b\b\b\b\b\b\b\b\b\b\b\b\b\b\b\b\b\b\b\b\b\b\b\b\b\b\b\b\b\b\b\b\b\b\b\b\b\b\b\b\b\b\b\b\b\b\b\b\b\b\b\b\b\b\b\b\b\b\b\b\b\b\b\b\b\b\b\b\b\b\b\b\b\b\b\b\b\b\b\b\b\r",
      "34/36 [===========================>..] - ETA: 0s - loss: 9.7709 - mae: 2.0532 - mse: 9.7709"
     ]
    },
    {
     "name": "stdout",
     "output_type": "stream",
     "text": [
      "\b\b\b\b\b\b\b\b\b\b\b\b\b\b\b\b\b\b\b\b\b\b\b\b\b\b\b\b\b\b\b\b\b\b\b\b\b\b\b\b\b\b\b\b\b\b\b\b\b\b\b\b\b\b\b\b\b\b\b\b\b\b\b\b\b\b\b\b\b\b\b\b\b\b\b\b\b\b\b\b\b\b\b\b\b\b\b\b\b\b\b\r",
      "36/36 [==============================] - 0s 4ms/step - loss: 9.7843 - mae: 2.0587 - mse: 9.7843 - val_loss: 10.2603 - val_mae: 2.3652 - val_mse: 10.2603\n"
     ]
    },
    {
     "name": "stdout",
     "output_type": "stream",
     "text": [
      "Epoch 35/100\n",
      "\r",
      " 1/36 [..............................] - ETA: 0s - loss: 3.8693 - mae: 1.7068 - mse: 3.8693"
     ]
    },
    {
     "name": "stdout",
     "output_type": "stream",
     "text": [
      "\b\b\b\b\b\b\b\b\b\b\b\b\b\b\b\b\b\b\b\b\b\b\b\b\b\b\b\b\b\b\b\b\b\b\b\b\b\b\b\b\b\b\b\b\b\b\b\b\b\b\b\b\b\b\b\b\b\b\b\b\b\b\b\b\b\b\b\b\b\b\b\b\b\b\b\b\b\b\b\b\b\b\b\b\b\b\b\b\b\b\b\r",
      "34/36 [===========================>..] - ETA: 0s - loss: 7.9969 - mae: 1.9389 - mse: 7.9969"
     ]
    },
    {
     "name": "stdout",
     "output_type": "stream",
     "text": [
      "\b\b\b\b\b\b\b\b\b\b\b\b\b\b\b\b\b\b\b\b\b\b\b\b\b\b\b\b\b\b\b\b\b\b\b\b\b\b\b\b\b\b\b\b\b\b\b\b\b\b\b\b\b\b\b\b\b\b\b\b\b\b\b\b\b\b\b\b\b\b\b\b\b\b\b\b\b\b\b\b\b\b\b\b\b\b\b\b\b\b\b\r",
      "36/36 [==============================] - 0s 4ms/step - loss: 8.1164 - mae: 1.9520 - mse: 8.1164 - val_loss: 10.2702 - val_mae: 2.3564 - val_mse: 10.2702\n"
     ]
    },
    {
     "name": "stdout",
     "output_type": "stream",
     "text": [
      "Epoch 36/100\n",
      "\r",
      " 1/36 [..............................] - ETA: 0s - loss: 5.1246 - mae: 1.7626 - mse: 5.1246"
     ]
    },
    {
     "name": "stdout",
     "output_type": "stream",
     "text": [
      "\b\b\b\b\b\b\b\b\b\b\b\b\b\b\b\b\b\b\b\b\b\b\b\b\b\b\b\b\b\b\b\b\b\b\b\b\b\b\b\b\b\b\b\b\b\b\b\b\b\b\b\b\b\b\b\b\b\b\b\b\b\b\b\b\b\b\b\b\b\b\b\b\b\b\b\b\b\b\b\b\b\b\b\b\b\b\b\b\b\b\b\r",
      "34/36 [===========================>..] - ETA: 0s - loss: 10.1620 - mae: 2.1557 - mse: 10.1620"
     ]
    },
    {
     "name": "stdout",
     "output_type": "stream",
     "text": [
      "\b\b\b\b\b\b\b\b\b\b\b\b\b\b\b\b\b\b\b\b\b\b\b\b\b\b\b\b\b\b\b\b\b\b\b\b\b\b\b\b\b\b\b\b\b\b\b\b\b\b\b\b\b\b\b\b\b\b\b\b\b\b\b\b\b\b\b\b\b\b\b\b\b\b\b\b\b\b\b\b\b\b\b\b\b\b\b\b\b\b\b\b\b\r",
      "36/36 [==============================] - 0s 4ms/step - loss: 10.1048 - mae: 2.1496 - mse: 10.1048 - val_loss: 10.9475 - val_mae: 2.4407 - val_mse: 10.9475\n"
     ]
    },
    {
     "name": "stdout",
     "output_type": "stream",
     "text": [
      "Epoch 37/100\n",
      "\r",
      " 1/36 [..............................] - ETA: 0s - loss: 26.8062 - mae: 3.5022 - mse: 26.8062"
     ]
    },
    {
     "name": "stdout",
     "output_type": "stream",
     "text": [
      "\b\b\b\b\b\b\b\b\b\b\b\b\b\b\b\b\b\b\b\b\b\b\b\b\b\b\b\b\b\b\b\b\b\b\b\b\b\b\b\b\b\b\b\b\b\b\b\b\b\b\b\b\b\b\b\b\b\b\b\b\b\b\b\b\b\b\b\b\b\b\b\b\b\b\b\b\b\b\b\b\b\b\b\b\b\b\b\b\b\b\b\b\b\r",
      "34/36 [===========================>..] - ETA: 0s - loss: 9.9746 - mae: 2.1454 - mse: 9.9746  "
     ]
    },
    {
     "name": "stdout",
     "output_type": "stream",
     "text": [
      "\b\b\b\b\b\b\b\b\b\b\b\b\b\b\b\b\b\b\b\b\b\b\b\b\b\b\b\b\b\b\b\b\b\b\b\b\b\b\b\b\b\b\b\b\b\b\b\b\b\b\b\b\b\b\b\b\b\b\b\b\b\b\b\b\b\b\b\b\b\b\b\b\b\b\b\b\b\b\b\b\b\b\b\b\b\b\b\b\b\b\b\r",
      "36/36 [==============================] - 0s 4ms/step - loss: 9.9147 - mae: 2.1392 - mse: 9.9147 - val_loss: 9.3594 - val_mae: 2.3350 - val_mse: 9.3594\n"
     ]
    },
    {
     "name": "stdout",
     "output_type": "stream",
     "text": [
      "Epoch 38/100\n",
      "\r",
      " 1/36 [..............................] - ETA: 0s - loss: 31.4384 - mae: 3.7348 - mse: 31.4384"
     ]
    },
    {
     "name": "stdout",
     "output_type": "stream",
     "text": [
      "\b\b\b\b\b\b\b\b\b\b\b\b\b\b\b\b\b\b\b\b\b\b\b\b\b\b\b\b\b\b\b\b\b\b\b\b\b\b\b\b\b\b\b\b\b\b\b\b\b\b\b\b\b\b\b\b\b\b\b\b\b\b\b\b\b\b\b\b\b\b\b\b\b\b\b\b\b\b\b\b\b\b\b\b\b\b\b\b\b\b\b\b\b\r",
      "34/36 [===========================>..] - ETA: 0s - loss: 11.1125 - mae: 2.2808 - mse: 11.1125"
     ]
    },
    {
     "name": "stdout",
     "output_type": "stream",
     "text": [
      "\b\b\b\b\b\b\b\b\b\b\b\b\b\b\b\b\b\b\b\b\b\b\b\b\b\b\b\b\b\b\b\b\b\b\b\b\b\b\b\b\b\b\b\b\b\b\b\b\b\b\b\b\b\b\b\b\b\b\b\b\b\b\b\b\b\b\b\b\b\b\b\b\b\b\b\b\b\b\b\b\b\b\b\b\b\b\b\b\b\b\b\b\b\r",
      "36/36 [==============================] - 0s 4ms/step - loss: 10.9497 - mae: 2.2646 - mse: 10.9497 - val_loss: 9.8773 - val_mae: 2.3356 - val_mse: 9.8773\n"
     ]
    },
    {
     "name": "stdout",
     "output_type": "stream",
     "text": [
      "Epoch 39/100\n",
      "\r",
      " 1/36 [..............................] - ETA: 0s - loss: 3.0597 - mae: 1.4835 - mse: 3.0597"
     ]
    },
    {
     "name": "stdout",
     "output_type": "stream",
     "text": [
      "\b\b\b\b\b\b\b\b\b\b\b\b\b\b\b\b\b\b\b\b\b\b\b\b\b\b\b\b\b\b\b\b\b\b\b\b\b\b\b\b\b\b\b\b\b\b\b\b\b\b\b\b\b\b\b\b\b\b\b\b\b\b\b\b\b\b\b\b\b\b\b\b\b\b\b\b\b\b\b\b\b\b\b\b\b\b\b\b\b\b\b\r",
      "34/36 [===========================>..] - ETA: 0s - loss: 7.6970 - mae: 1.8359 - mse: 7.6970"
     ]
    },
    {
     "name": "stdout",
     "output_type": "stream",
     "text": [
      "\b\b\b\b\b\b\b\b\b\b\b\b\b\b\b\b\b\b\b\b\b\b\b\b\b\b\b\b\b\b\b\b\b\b\b\b\b\b\b\b\b\b\b\b\b\b\b\b\b\b\b\b\b\b\b\b\b\b\b\b\b\b\b\b\b\b\b\b\b\b\b\b\b\b\b\b\b\b\b\b\b\b\b\b\b\b\b\b\b\b\b\r",
      "36/36 [==============================] - 0s 4ms/step - loss: 7.8042 - mae: 1.8512 - mse: 7.8042 - val_loss: 9.5791 - val_mae: 2.3411 - val_mse: 9.5791\n"
     ]
    },
    {
     "name": "stdout",
     "output_type": "stream",
     "text": [
      "Epoch 40/100\n",
      "\r",
      " 1/36 [..............................] - ETA: 0s - loss: 10.4556 - mae: 2.2817 - mse: 10.4556"
     ]
    },
    {
     "name": "stdout",
     "output_type": "stream",
     "text": [
      "\b\b\b\b\b\b\b\b\b\b\b\b\b\b\b\b\b\b\b\b\b\b\b\b\b\b\b\b\b\b\b\b\b\b\b\b\b\b\b\b\b\b\b\b\b\b\b\b\b\b\b\b\b\b\b\b\b\b\b\b\b\b\b\b\b\b\b\b\b\b\b\b\b\b\b\b\b\b\b\b\b\b\b\b\b\b\b\b\b\b\b\b\b\r",
      "34/36 [===========================>..] - ETA: 0s - loss: 8.9211 - mae: 2.0942 - mse: 8.9211  "
     ]
    },
    {
     "name": "stdout",
     "output_type": "stream",
     "text": [
      "\b\b\b\b\b\b\b\b\b\b\b\b\b\b\b\b\b\b\b\b\b\b\b\b\b\b\b\b\b\b\b\b\b\b\b\b\b\b\b\b\b\b\b\b\b\b\b\b\b\b\b\b\b\b\b\b\b\b\b\b\b\b\b\b\b\b\b\b\b\b\b\b\b\b\b\b\b\b\b\b\b\b\b\b\b\b\b\b\b\b\b\r",
      "36/36 [==============================] - 0s 4ms/step - loss: 8.9099 - mae: 2.0918 - mse: 8.9099 - val_loss: 9.5765 - val_mae: 2.3260 - val_mse: 9.5765\n"
     ]
    },
    {
     "name": "stdout",
     "output_type": "stream",
     "text": [
      "Epoch 41/100\n",
      "\r",
      " 1/36 [..............................] - ETA: 0s - loss: 5.0242 - mae: 1.6484 - mse: 5.0242"
     ]
    },
    {
     "name": "stdout",
     "output_type": "stream",
     "text": [
      "\b\b\b\b\b\b\b\b\b\b\b\b\b\b\b\b\b\b\b\b\b\b\b\b\b\b\b\b\b\b\b\b\b\b\b\b\b\b\b\b\b\b\b\b\b\b\b\b\b\b\b\b\b\b\b\b\b\b\b\b\b\b\b\b\b\b\b\b\b\b\b\b\b\b\b\b\b\b\b\b\b\b\b\b\b\b\b\b\b\b\b\r",
      "34/36 [===========================>..] - ETA: 0s - loss: 6.9539 - mae: 1.9069 - mse: 6.9539"
     ]
    },
    {
     "name": "stdout",
     "output_type": "stream",
     "text": [
      "\b\b\b\b\b\b\b\b\b\b\b\b\b\b\b\b\b\b\b\b\b\b\b\b\b\b\b\b\b\b\b\b\b\b\b\b\b\b\b\b\b\b\b\b\b\b\b\b\b\b\b\b\b\b\b\b\b\b\b\b\b\b\b\b\b\b\b\b\b\b\b\b\b\b\b\b\b\b\b\b\b\b\b\b\b\b\b\b\b\b\b\r",
      "36/36 [==============================] - 0s 4ms/step - loss: 7.0982 - mae: 1.9182 - mse: 7.0982 - val_loss: 10.1250 - val_mae: 2.4027 - val_mse: 10.1250\n"
     ]
    },
    {
     "name": "stdout",
     "output_type": "stream",
     "text": [
      "Epoch 42/100\n",
      "\r",
      " 1/36 [..............................] - ETA: 0s - loss: 5.9777 - mae: 1.6900 - mse: 5.9777"
     ]
    },
    {
     "name": "stdout",
     "output_type": "stream",
     "text": [
      "\b\b\b\b\b\b\b\b\b\b\b\b\b\b\b\b\b\b\b\b\b\b\b\b\b\b\b\b\b\b\b\b\b\b\b\b\b\b\b\b\b\b\b\b\b\b\b\b\b\b\b\b\b\b\b\b\b\b\b\b\b\b\b\b\b\b\b\b\b\b\b\b\b\b\b\b\b\b\b\b\b\b\b\b\b\b\b\b\b\b\b\r",
      "34/36 [===========================>..] - ETA: 0s - loss: 9.1127 - mae: 2.0323 - mse: 9.1127"
     ]
    },
    {
     "name": "stdout",
     "output_type": "stream",
     "text": [
      "\b\b\b\b\b\b\b\b\b\b\b\b\b\b\b\b\b\b\b\b\b\b\b\b\b\b\b\b\b\b\b\b\b\b\b\b\b\b\b\b\b\b\b\b\b\b\b\b\b\b\b\b\b\b\b\b\b\b\b\b\b\b\b\b\b\b\b\b\b\b\b\b\b\b\b\b\b\b\b\b\b\b\b\b\b\b\b\b\b\b\b\r",
      "36/36 [==============================] - 0s 4ms/step - loss: 9.0609 - mae: 2.0304 - mse: 9.0609 - val_loss: 9.2410 - val_mae: 2.3204 - val_mse: 9.2410\n"
     ]
    },
    {
     "name": "stdout",
     "output_type": "stream",
     "text": [
      "Epoch 43/100\n",
      "\r",
      " 1/36 [..............................] - ETA: 0s - loss: 3.8947 - mae: 1.6572 - mse: 3.8947"
     ]
    },
    {
     "name": "stdout",
     "output_type": "stream",
     "text": [
      "\b\b\b\b\b\b\b\b\b\b\b\b\b\b\b\b\b\b\b\b\b\b\b\b\b\b\b\b\b\b\b\b\b\b\b\b\b\b\b\b\b\b\b\b\b\b\b\b\b\b\b\b\b\b\b\b\b\b\b\b\b\b\b\b\b\b\b\b\b\b\b\b\b\b\b\b\b\b\b\b\b\b\b\b\b\b\b\b\b\b\b\r",
      "34/36 [===========================>..] - ETA: 0s - loss: 6.8456 - mae: 1.8275 - mse: 6.8456"
     ]
    },
    {
     "name": "stdout",
     "output_type": "stream",
     "text": [
      "\b\b\b\b\b\b\b\b\b\b\b\b\b\b\b\b\b\b\b\b\b\b\b\b\b\b\b\b\b\b\b\b\b\b\b\b\b\b\b\b\b\b\b\b\b\b\b\b\b\b\b\b\b\b\b\b\b\b\b\b\b\b\b\b\b\b\b\b\b\b\b\b\b\b\b\b\b\b\b\b\b\b\b\b\b\b\b\b\b\b\b\r",
      "36/36 [==============================] - 0s 4ms/step - loss: 6.9718 - mae: 1.8414 - mse: 6.9718 - val_loss: 10.1315 - val_mae: 2.3870 - val_mse: 10.1315\n"
     ]
    },
    {
     "name": "stdout",
     "output_type": "stream",
     "text": [
      "Epoch 44/100\n",
      "\r",
      " 1/36 [..............................] - ETA: 0s - loss: 2.1908 - mae: 1.0202 - mse: 2.1908"
     ]
    },
    {
     "name": "stdout",
     "output_type": "stream",
     "text": [
      "\b\b\b\b\b\b\b\b\b\b\b\b\b\b\b\b\b\b\b\b\b\b\b\b\b\b\b\b\b\b\b\b\b\b\b\b\b\b\b\b\b\b\b\b\b\b\b\b\b\b\b\b\b\b\b\b\b\b\b\b\b\b\b\b\b\b\b\b\b\b\b\b\b\b\b\b\b\b\b\b\b\b\b\b\b\b\b\b\b\b\b\r",
      "34/36 [===========================>..] - ETA: 0s - loss: 8.4003 - mae: 1.9864 - mse: 8.4003"
     ]
    },
    {
     "name": "stdout",
     "output_type": "stream",
     "text": [
      "\b\b\b\b\b\b\b\b\b\b\b\b\b\b\b\b\b\b\b\b\b\b\b\b\b\b\b\b\b\b\b\b\b\b\b\b\b\b\b\b\b\b\b\b\b\b\b\b\b\b\b\b\b\b\b\b\b\b\b\b\b\b\b\b\b\b\b\b\b\b\b\b\b\b\b\b\b\b\b\b\b\b\b\b\b\b\b\b\b\b\b\r",
      "36/36 [==============================] - 0s 4ms/step - loss: 8.3959 - mae: 1.9868 - mse: 8.3959 - val_loss: 9.5313 - val_mae: 2.3538 - val_mse: 9.5313\n"
     ]
    },
    {
     "name": "stdout",
     "output_type": "stream",
     "text": [
      "Epoch 45/100\n",
      "\r",
      " 1/36 [..............................] - ETA: 0s - loss: 2.9424 - mae: 1.4150 - mse: 2.9424"
     ]
    },
    {
     "name": "stdout",
     "output_type": "stream",
     "text": [
      "\b\b\b\b\b\b\b\b\b\b\b\b\b\b\b\b\b\b\b\b\b\b\b\b\b\b\b\b\b\b\b\b\b\b\b\b\b\b\b\b\b\b\b\b\b\b\b\b\b\b\b\b\b\b\b\b\b\b\b\b\b\b\b\b\b\b\b\b\b\b\b\b\b\b\b\b\b\b\b\b\b\b\b\b\b\b\b\b\b\b\b\r",
      "34/36 [===========================>..] - ETA: 0s - loss: 7.4175 - mae: 1.8604 - mse: 7.4175"
     ]
    },
    {
     "name": "stdout",
     "output_type": "stream",
     "text": [
      "\b\b\b\b\b\b\b\b\b\b\b\b\b\b\b\b\b\b\b\b\b\b\b\b\b\b\b\b\b\b\b\b\b\b\b\b\b\b\b\b\b\b\b\b\b\b\b\b\b\b\b\b\b\b\b\b\b\b\b\b\b\b\b\b\b\b\b\b\b\b\b\b\b\b\b\b\b\b\b\b\b\b\b\b\b\b\b\b\b\b\b\r",
      "36/36 [==============================] - 0s 4ms/step - loss: 7.4903 - mae: 1.8714 - mse: 7.4903 - val_loss: 9.4255 - val_mae: 2.3224 - val_mse: 9.4255\n"
     ]
    },
    {
     "name": "stdout",
     "output_type": "stream",
     "text": [
      "Epoch 46/100\n",
      "\r",
      " 1/36 [..............................] - ETA: 0s - loss: 3.2843 - mae: 1.5118 - mse: 3.2843"
     ]
    },
    {
     "name": "stdout",
     "output_type": "stream",
     "text": [
      "\b\b\b\b\b\b\b\b\b\b\b\b\b\b\b\b\b\b\b\b\b\b\b\b\b\b\b\b\b\b\b\b\b\b\b\b\b\b\b\b\b\b\b\b\b\b\b\b\b\b\b\b\b\b\b\b\b\b\b\b\b\b\b\b\b\b\b\b\b\b\b\b\b\b\b\b\b\b\b\b\b\b\b\b\b\b\b\b\b\b\b\r",
      "33/36 [==========================>...] - ETA: 0s - loss: 5.4673 - mae: 1.7281 - mse: 5.4673"
     ]
    },
    {
     "name": "stdout",
     "output_type": "stream",
     "text": [
      "\b\b\b\b\b\b\b\b\b\b\b\b\b\b\b\b\b\b\b\b\b\b\b\b\b\b\b\b\b\b\b\b\b\b\b\b\b\b\b\b\b\b\b\b\b\b\b\b\b\b\b\b\b\b\b\b\b\b\b\b\b\b\b\b\b\b\b\b\b\b\b\b\b\b\b\b\b\b\b\b\b\b\b\b\b\b\b\b\b\b\b\r",
      "36/36 [==============================] - 0s 4ms/step - loss: 5.7588 - mae: 1.7538 - mse: 5.7588 - val_loss: 9.4536 - val_mae: 2.2841 - val_mse: 9.4536\n"
     ]
    },
    {
     "name": "stdout",
     "output_type": "stream",
     "text": [
      "Epoch 47/100\n",
      "\r",
      " 1/36 [..............................] - ETA: 0s - loss: 4.5242 - mae: 1.8014 - mse: 4.5242"
     ]
    },
    {
     "name": "stdout",
     "output_type": "stream",
     "text": [
      "\b\b\b\b\b\b\b\b\b\b\b\b\b\b\b\b\b\b\b\b\b\b\b\b\b\b\b\b\b\b\b\b\b\b\b\b\b\b\b\b\b\b\b\b\b\b\b\b\b\b\b\b\b\b\b\b\b\b\b\b\b\b\b\b\b\b\b\b\b\b\b\b\b\b\b\b\b\b\b\b\b\b\b\b\b\b\b\b\b\b\b\r",
      "34/36 [===========================>..] - ETA: 0s - loss: 8.0858 - mae: 1.9638 - mse: 8.0858"
     ]
    },
    {
     "name": "stdout",
     "output_type": "stream",
     "text": [
      "\b\b\b\b\b\b\b\b\b\b\b\b\b\b\b\b\b\b\b\b\b\b\b\b\b\b\b\b\b\b\b\b\b\b\b\b\b\b\b\b\b\b\b\b\b\b\b\b\b\b\b\b\b\b\b\b\b\b\b\b\b\b\b\b\b\b\b\b\b\b\b\b\b\b\b\b\b\b\b\b\b\b\b\b\b\b\b\b\b\b\b\r",
      "36/36 [==============================] - 0s 4ms/step - loss: 8.0666 - mae: 1.9616 - mse: 8.0666 - val_loss: 9.3771 - val_mae: 2.2794 - val_mse: 9.3771\n"
     ]
    },
    {
     "name": "stdout",
     "output_type": "stream",
     "text": [
      "Epoch 48/100\n",
      "\r",
      " 1/36 [..............................] - ETA: 0s - loss: 2.5158 - mae: 1.3427 - mse: 2.5158"
     ]
    },
    {
     "name": "stdout",
     "output_type": "stream",
     "text": [
      "\b\b\b\b\b\b\b\b\b\b\b\b\b\b\b\b\b\b\b\b\b\b\b\b\b\b\b\b\b\b\b\b\b\b\b\b\b\b\b\b\b\b\b\b\b\b\b\b\b\b\b\b\b\b\b\b\b\b\b\b\b\b\b\b\b\b\b\b\b\b\b\b\b\b\b\b\b\b\b\b\b\b\b\b\b\b\b\b\b\b\b\r",
      "34/36 [===========================>..] - ETA: 0s - loss: 5.2510 - mae: 1.7276 - mse: 5.2510"
     ]
    },
    {
     "name": "stdout",
     "output_type": "stream",
     "text": [
      "\b\b\b\b\b\b\b\b\b\b\b\b\b\b\b\b\b\b\b\b\b\b\b\b\b\b\b\b\b\b\b\b\b\b\b\b\b\b\b\b\b\b\b\b\b\b\b\b\b\b\b\b\b\b\b\b\b\b\b\b\b\b\b\b\b\b\b\b\b\b\b\b\b\b\b\b\b\b\b\b\b\b\b\b\b\b\b\b\b\b\b\r",
      "36/36 [==============================] - 0s 4ms/step - loss: 5.4544 - mae: 1.7439 - mse: 5.4544 - val_loss: 9.0303 - val_mae: 2.2857 - val_mse: 9.0303\n"
     ]
    },
    {
     "name": "stdout",
     "output_type": "stream",
     "text": [
      "Epoch 49/100\n",
      "\r",
      " 1/36 [..............................] - ETA: 0s - loss: 7.0113 - mae: 2.3244 - mse: 7.0113"
     ]
    },
    {
     "name": "stdout",
     "output_type": "stream",
     "text": [
      "\b\b\b\b\b\b\b\b\b\b\b\b\b\b\b\b\b\b\b\b\b\b\b\b\b\b\b\b\b\b\b\b\b\b\b\b\b\b\b\b\b\b\b\b\b\b\b\b\b\b\b\b\b\b\b\b\b\b\b\b\b\b\b\b\b\b\b\b\b\b\b\b\b\b\b\b\b\b\b\b\b\b\b\b\b\b\b\b\b\b\b\r",
      "34/36 [===========================>..] - ETA: 0s - loss: 10.0570 - mae: 2.0944 - mse: 10.0570"
     ]
    },
    {
     "name": "stdout",
     "output_type": "stream",
     "text": [
      "\b\b\b\b\b\b\b\b\b\b\b\b\b\b\b\b\b\b\b\b\b\b\b\b\b\b\b\b\b\b\b\b\b\b\b\b\b\b\b\b\b\b\b\b\b\b\b\b\b\b\b\b\b\b\b\b\b\b\b\b\b\b\b\b\b\b\b\b\b\b\b\b\b\b\b\b\b\b\b\b\b\b\b\b\b\b\b\b\b\b\b\b\b\r",
      "36/36 [==============================] - 0s 4ms/step - loss: 9.8586 - mae: 2.0777 - mse: 9.8586 - val_loss: 9.6222 - val_mae: 2.3390 - val_mse: 9.6222\n"
     ]
    },
    {
     "name": "stdout",
     "output_type": "stream",
     "text": [
      "Epoch 50/100\n",
      "\r",
      " 1/36 [..............................] - ETA: 0s - loss: 8.6105 - mae: 2.3070 - mse: 8.6105"
     ]
    },
    {
     "name": "stdout",
     "output_type": "stream",
     "text": [
      "\b\b\b\b\b\b\b\b\b\b\b\b\b\b\b\b\b\b\b\b\b\b\b\b\b\b\b\b\b\b\b\b\b\b\b\b\b\b\b\b\b\b\b\b\b\b\b\b\b\b\b\b\b\b\b\b\b\b\b\b\b\b\b\b\b\b\b\b\b\b\b\b\b\b\b\b\b\b\b\b\b\b\b\b\b\b\b\b\b\b\b\r",
      "34/36 [===========================>..] - ETA: 0s - loss: 6.2373 - mae: 1.8485 - mse: 6.2373"
     ]
    },
    {
     "name": "stdout",
     "output_type": "stream",
     "text": [
      "\b\b\b\b\b\b\b\b\b\b\b\b\b\b\b\b\b\b\b\b\b\b\b\b\b\b\b\b\b\b\b\b\b\b\b\b\b\b\b\b\b\b\b\b\b\b\b\b\b\b\b\b\b\b\b\b\b\b\b\b\b\b\b\b\b\b\b\b\b\b\b\b\b\b\b\b\b\b\b\b\b\b\b\b\b\b\b\b\b\b\b\r",
      "36/36 [==============================] - 0s 4ms/step - loss: 6.3645 - mae: 1.8534 - mse: 6.3645 - val_loss: 9.4830 - val_mae: 2.3877 - val_mse: 9.4830\n"
     ]
    },
    {
     "name": "stdout",
     "output_type": "stream",
     "text": [
      "Epoch 51/100\n",
      "\r",
      " 1/36 [..............................] - ETA: 0s - loss: 6.5701 - mae: 2.1784 - mse: 6.5701"
     ]
    },
    {
     "name": "stdout",
     "output_type": "stream",
     "text": [
      "\b\b\b\b\b\b\b\b\b\b\b\b\b\b\b\b\b\b\b\b\b\b\b\b\b\b\b\b\b\b\b\b\b\b\b\b\b\b\b\b\b\b\b\b\b\b\b\b\b\b\b\b\b\b\b\b\b\b\b\b\b\b\b\b\b\b\b\b\b\b\b\b\b\b\b\b\b\b\b\b\b\b\b\b\b\b\b\b\b\b\b\r",
      "34/36 [===========================>..] - ETA: 0s - loss: 9.8791 - mae: 2.0646 - mse: 9.8791"
     ]
    },
    {
     "name": "stdout",
     "output_type": "stream",
     "text": [
      "\b\b\b\b\b\b\b\b\b\b\b\b\b\b\b\b\b\b\b\b\b\b\b\b\b\b\b\b\b\b\b\b\b\b\b\b\b\b\b\b\b\b\b\b\b\b\b\b\b\b\b\b\b\b\b\b\b\b\b\b\b\b\b\b\b\b\b\b\b\b\b\b\b\b\b\b\b\b\b\b\b\b\b\b\b\b\b\b\b\b\b\r",
      "36/36 [==============================] - 0s 4ms/step - loss: 9.6962 - mae: 2.0534 - mse: 9.6962 - val_loss: 9.5123 - val_mae: 2.3311 - val_mse: 9.5123\n"
     ]
    },
    {
     "name": "stdout",
     "output_type": "stream",
     "text": [
      "Epoch 52/100\n",
      "\r",
      " 1/36 [..............................] - ETA: 0s - loss: 6.9199 - mae: 2.1750 - mse: 6.9199"
     ]
    },
    {
     "name": "stdout",
     "output_type": "stream",
     "text": [
      "\b\b\b\b\b\b\b\b\b\b\b\b\b\b\b\b\b\b\b\b\b\b\b\b\b\b\b\b\b\b\b\b\b\b\b\b\b\b\b\b\b\b\b\b\b\b\b\b\b\b\b\b\b\b\b\b\b\b\b\b\b\b\b\b\b\b\b\b\b\b\b\b\b\b\b\b\b\b\b\b\b\b\b\b\b\b\b\b\b\b\b\r",
      "34/36 [===========================>..] - ETA: 0s - loss: 7.2686 - mae: 1.9192 - mse: 7.2686"
     ]
    },
    {
     "name": "stdout",
     "output_type": "stream",
     "text": [
      "\b\b\b\b\b\b\b\b\b\b\b\b\b\b\b\b\b\b\b\b\b\b\b\b\b\b\b\b\b\b\b\b\b\b\b\b\b\b\b\b\b\b\b\b\b\b\b\b\b\b\b\b\b\b\b\b\b\b\b\b\b\b\b\b\b\b\b\b\b\b\b\b\b\b\b\b\b\b\b\b\b\b\b\b\b\b\b\b\b\b\b\r",
      "36/36 [==============================] - 0s 4ms/step - loss: 7.2934 - mae: 1.9189 - mse: 7.2934 - val_loss: 9.7919 - val_mae: 2.3407 - val_mse: 9.7919\n"
     ]
    },
    {
     "name": "stdout",
     "output_type": "stream",
     "text": [
      "Epoch 53/100\n",
      "\r",
      " 1/36 [..............................] - ETA: 0s - loss: 5.5711 - mae: 1.9560 - mse: 5.5711"
     ]
    },
    {
     "name": "stdout",
     "output_type": "stream",
     "text": [
      "\b\b\b\b\b\b\b\b\b\b\b\b\b\b\b\b\b\b\b\b\b\b\b\b\b\b\b\b\b\b\b\b\b\b\b\b\b\b\b\b\b\b\b\b\b\b\b\b\b\b\b\b\b\b\b\b\b\b\b\b\b\b\b\b\b\b\b\b\b\b\b\b\b\b\b\b\b\b\b\b\b\b\b\b\b\b\b\b\b\b\b\r",
      "34/36 [===========================>..] - ETA: 0s - loss: 7.4455 - mae: 1.8877 - mse: 7.4455"
     ]
    },
    {
     "name": "stdout",
     "output_type": "stream",
     "text": [
      "\b\b\b\b\b\b\b\b\b\b\b\b\b\b\b\b\b\b\b\b\b\b\b\b\b\b\b\b\b\b\b\b\b\b\b\b\b\b\b\b\b\b\b\b\b\b\b\b\b\b\b\b\b\b\b\b\b\b\b\b\b\b\b\b\b\b\b\b\b\b\b\b\b\b\b\b\b\b\b\b\b\b\b\b\b\b\b\b\b\b\b\r",
      "36/36 [==============================] - 0s 4ms/step - loss: 7.4496 - mae: 1.8885 - mse: 7.4496 - val_loss: 9.3431 - val_mae: 2.2829 - val_mse: 9.3431\n"
     ]
    },
    {
     "name": "stdout",
     "output_type": "stream",
     "text": [
      "Epoch 54/100\n",
      "\r",
      " 1/36 [..............................] - ETA: 0s - loss: 5.0990 - mae: 1.7059 - mse: 5.0990"
     ]
    },
    {
     "name": "stdout",
     "output_type": "stream",
     "text": [
      "\b\b\b\b\b\b\b\b\b\b\b\b\b\b\b\b\b\b\b\b\b\b\b\b\b\b\b\b\b\b\b\b\b\b\b\b\b\b\b\b\b\b\b\b\b\b\b\b\b\b\b\b\b\b\b\b\b\b\b\b\b\b\b\b\b\b\b\b\b\b\b\b\b\b\b\b\b\b\b\b\b\b\b\b\b\b\b\b\b\b\b\r",
      "34/36 [===========================>..] - ETA: 0s - loss: 7.5390 - mae: 1.8675 - mse: 7.5390"
     ]
    },
    {
     "name": "stdout",
     "output_type": "stream",
     "text": [
      "\b\b\b\b\b\b\b\b\b\b\b\b\b\b\b\b\b\b\b\b\b\b\b\b\b\b\b\b\b\b\b\b\b\b\b\b\b\b\b\b\b\b\b\b\b\b\b\b\b\b\b\b\b\b\b\b\b\b\b\b\b\b\b\b\b\b\b\b\b\b\b\b\b\b\b\b\b\b\b\b\b\b\b\b\b\b\b\b\b\b\b\r",
      "36/36 [==============================] - 0s 4ms/step - loss: 7.5137 - mae: 1.8678 - mse: 7.5137 - val_loss: 9.8575 - val_mae: 2.3537 - val_mse: 9.8575\n"
     ]
    },
    {
     "name": "stdout",
     "output_type": "stream",
     "text": [
      "Epoch 55/100\n",
      "\r",
      " 1/36 [..............................] - ETA: 0s - loss: 6.4456 - mae: 1.8713 - mse: 6.4456"
     ]
    },
    {
     "name": "stdout",
     "output_type": "stream",
     "text": [
      "\b\b\b\b\b\b\b\b\b\b\b\b\b\b\b\b\b\b\b\b\b\b\b\b\b\b\b\b\b\b\b\b\b\b\b\b\b\b\b\b\b\b\b\b\b\b\b\b\b\b\b\b\b\b\b\b\b\b\b\b\b\b\b\b\b\b\b\b\b\b\b\b\b\b\b\b\b\b\b\b\b\b\b\b\b\b\b\b\b\b\b\r",
      "34/36 [===========================>..] - ETA: 0s - loss: 7.2897 - mae: 1.8513 - mse: 7.2897"
     ]
    },
    {
     "name": "stdout",
     "output_type": "stream",
     "text": [
      "\b\b\b\b\b\b\b\b\b\b\b\b\b\b\b\b\b\b\b\b\b\b\b\b\b\b\b\b\b\b\b\b\b\b\b\b\b\b\b\b\b\b\b\b\b\b\b\b\b\b\b\b\b\b\b\b\b\b\b\b\b\b\b\b\b\b\b\b\b\b\b\b\b\b\b\b\b\b\b\b\b\b\b\b\b\b\b\b\b\b\b\r",
      "36/36 [==============================] - 0s 4ms/step - loss: 7.2544 - mae: 1.8538 - mse: 7.2544 - val_loss: 9.9189 - val_mae: 2.3745 - val_mse: 9.9189\n"
     ]
    },
    {
     "name": "stdout",
     "output_type": "stream",
     "text": [
      "Epoch 56/100\n",
      "\r",
      " 1/36 [..............................] - ETA: 0s - loss: 3.0889 - mae: 1.4011 - mse: 3.0889"
     ]
    },
    {
     "name": "stdout",
     "output_type": "stream",
     "text": [
      "\b\b\b\b\b\b\b\b\b\b\b\b\b\b\b\b\b\b\b\b\b\b\b\b\b\b\b\b\b\b\b\b\b\b\b\b\b\b\b\b\b\b\b\b\b\b\b\b\b\b\b\b\b\b\b\b\b\b\b\b\b\b\b\b\b\b\b\b\b\b\b\b\b\b\b\b\b\b\b\b\b\b\b\b\b\b\b\b\b\b\b\r",
      "34/36 [===========================>..] - ETA: 0s - loss: 6.3596 - mae: 1.7326 - mse: 6.3596"
     ]
    },
    {
     "name": "stdout",
     "output_type": "stream",
     "text": [
      "\b\b\b\b\b\b\b\b\b\b\b\b\b\b\b\b\b\b\b\b\b\b\b\b\b\b\b\b\b\b\b\b\b\b\b\b\b\b\b\b\b\b\b\b\b\b\b\b\b\b\b\b\b\b\b\b\b\b\b\b\b\b\b\b\b\b\b\b\b\b\b\b\b\b\b\b\b\b\b\b\b\b\b\b\b\b\b\b\b\b\b\r",
      "36/36 [==============================] - 0s 4ms/step - loss: 6.4362 - mae: 1.7449 - mse: 6.4362 - val_loss: 9.2654 - val_mae: 2.3062 - val_mse: 9.2654\n"
     ]
    },
    {
     "name": "stdout",
     "output_type": "stream",
     "text": [
      "Epoch 57/100\n",
      "\r",
      " 1/36 [..............................] - ETA: 0s - loss: 42.2115 - mae: 3.5370 - mse: 42.2115"
     ]
    },
    {
     "name": "stdout",
     "output_type": "stream",
     "text": [
      "\b\b\b\b\b\b\b\b\b\b\b\b\b\b\b\b\b\b\b\b\b\b\b\b\b\b\b\b\b\b\b\b\b\b\b\b\b\b\b\b\b\b\b\b\b\b\b\b\b\b\b\b\b\b\b\b\b\b\b\b\b\b\b\b\b\b\b\b\b\b\b\b\b\b\b\b\b\b\b\b\b\b\b\b\b\b\b\b\b\b\b\b\b\r",
      "34/36 [===========================>..] - ETA: 0s - loss: 10.0257 - mae: 2.0061 - mse: 10.0257"
     ]
    },
    {
     "name": "stdout",
     "output_type": "stream",
     "text": [
      "\b\b\b\b\b\b\b\b\b\b\b\b\b\b\b\b\b\b\b\b\b\b\b\b\b\b\b\b\b\b\b\b\b\b\b\b\b\b\b\b\b\b\b\b\b\b\b\b\b\b\b\b\b\b\b\b\b\b\b\b\b\b\b\b\b\b\b\b\b\b\b\b\b\b\b\b\b\b\b\b\b\b\b\b\b\b\b\b\b\b\b\b\b\r",
      "36/36 [==============================] - 0s 4ms/step - loss: 9.7742 - mae: 1.9938 - mse: 9.7742 - val_loss: 9.3887 - val_mae: 2.3165 - val_mse: 9.3887\n"
     ]
    },
    {
     "name": "stdout",
     "output_type": "stream",
     "text": [
      "Epoch 58/100\n",
      "\r",
      " 1/36 [..............................] - ETA: 0s - loss: 1.2311 - mae: 0.9329 - mse: 1.2311"
     ]
    },
    {
     "name": "stdout",
     "output_type": "stream",
     "text": [
      "\b\b\b\b\b\b\b\b\b\b\b\b\b\b\b\b\b\b\b\b\b\b\b\b\b\b\b\b\b\b\b\b\b\b\b\b\b\b\b\b\b\b\b\b\b\b\b\b\b\b\b\b\b\b\b\b\b\b\b\b\b\b\b\b\b\b\b\b\b\b\b\b\b\b\b\b\b\b\b\b\b\b\b\b\b\b\b\b\b\b\b\r",
      "34/36 [===========================>..] - ETA: 0s - loss: 8.1524 - mae: 1.8889 - mse: 8.1524"
     ]
    },
    {
     "name": "stdout",
     "output_type": "stream",
     "text": [
      "\b\b\b\b\b\b\b\b\b\b\b\b\b\b\b\b\b\b\b\b\b\b\b\b\b\b\b\b\b\b\b\b\b\b\b\b\b\b\b\b\b\b\b\b\b\b\b\b\b\b\b\b\b\b\b\b\b\b\b\b\b\b\b\b\b\b\b\b\b\b\b\b\b\b\b\b\b\b\b\b\b\b\b\b\b\b\b\b\b\b\b\r",
      "36/36 [==============================] - 0s 4ms/step - loss: 8.0380 - mae: 1.8832 - mse: 8.0380 - val_loss: 9.1425 - val_mae: 2.2983 - val_mse: 9.1425\n"
     ]
    },
    {
     "name": "stdout",
     "output_type": "stream",
     "text": [
      "Epoch 59/100\n",
      "\r",
      " 1/36 [..............................] - ETA: 0s - loss: 5.4501 - mae: 2.0312 - mse: 5.4501"
     ]
    },
    {
     "name": "stdout",
     "output_type": "stream",
     "text": [
      "\b\b\b\b\b\b\b\b\b\b\b\b\b\b\b\b\b\b\b\b\b\b\b\b\b\b\b\b\b\b\b\b\b\b\b\b\b\b\b\b\b\b\b\b\b\b\b\b\b\b\b\b\b\b\b\b\b\b\b\b\b\b\b\b\b\b\b\b\b\b\b\b\b\b\b\b\b\b\b\b\b\b\b\b\b\b\b\b\b\b\b\r",
      "34/36 [===========================>..] - ETA: 0s - loss: 6.9204 - mae: 1.7908 - mse: 6.9204"
     ]
    },
    {
     "name": "stdout",
     "output_type": "stream",
     "text": [
      "\b\b\b\b\b\b\b\b\b\b\b\b\b\b\b\b\b\b\b\b\b\b\b\b\b\b\b\b\b\b\b\b\b\b\b\b\b\b\b\b\b\b\b\b\b\b\b\b\b\b\b\b\b\b\b\b\b\b\b\b\b\b\b\b\b\b\b\b\b\b\b\b\b\b\b\b\b\b\b\b\b\b\b\b\b\b\b\b\b\b\b\r",
      "36/36 [==============================] - 0s 4ms/step - loss: 6.9039 - mae: 1.7940 - mse: 6.9039 - val_loss: 10.1422 - val_mae: 2.3810 - val_mse: 10.1422\n"
     ]
    },
    {
     "name": "stdout",
     "output_type": "stream",
     "text": [
      "Epoch 60/100\n",
      "\r",
      " 1/36 [..............................] - ETA: 0s - loss: 4.0486 - mae: 1.4273 - mse: 4.0486"
     ]
    },
    {
     "name": "stdout",
     "output_type": "stream",
     "text": [
      "\b\b\b\b\b\b\b\b\b\b\b\b\b\b\b\b\b\b\b\b\b\b\b\b\b\b\b\b\b\b\b\b\b\b\b\b\b\b\b\b\b\b\b\b\b\b\b\b\b\b\b\b\b\b\b\b\b\b\b\b\b\b\b\b\b\b\b\b\b\b\b\b\b\b\b\b\b\b\b\b\b\b\b\b\b\b\b\b\b\b\b\r",
      "34/36 [===========================>..] - ETA: 0s - loss: 5.0735 - mae: 1.6587 - mse: 5.0735"
     ]
    },
    {
     "name": "stdout",
     "output_type": "stream",
     "text": [
      "\b\b\b\b\b\b\b\b\b\b\b\b\b\b\b\b\b\b\b\b\b\b\b\b\b\b\b\b\b\b\b\b\b\b\b\b\b\b\b\b\b\b\b\b\b\b\b\b\b\b\b\b\b\b\b\b\b\b\b\b\b\b\b\b\b\b\b\b\b\b\b\b\b\b\b\b\b\b\b\b\b\b\b\b\b\b\b\b\b\b\b\r",
      "36/36 [==============================] - 0s 4ms/step - loss: 5.2159 - mae: 1.6703 - mse: 5.2159 - val_loss: 9.2774 - val_mae: 2.3348 - val_mse: 9.2774\n"
     ]
    },
    {
     "name": "stdout",
     "output_type": "stream",
     "text": [
      "Epoch 61/100\n",
      "\r",
      " 1/36 [..............................] - ETA: 0s - loss: 3.7692 - mae: 1.5098 - mse: 3.7692"
     ]
    },
    {
     "name": "stdout",
     "output_type": "stream",
     "text": [
      "\b\b\b\b\b\b\b\b\b\b\b\b\b\b\b\b\b\b\b\b\b\b\b\b\b\b\b\b\b\b\b\b\b\b\b\b\b\b\b\b\b\b\b\b\b\b\b\b\b\b\b\b\b\b\b\b\b\b\b\b\b\b\b\b\b\b\b\b\b\b\b\b\b\b\b\b\b\b\b\b\b\b\b\b\b\b\b\b\b\b\b\r",
      "34/36 [===========================>..] - ETA: 0s - loss: 4.5414 - mae: 1.5457 - mse: 4.5414"
     ]
    },
    {
     "name": "stdout",
     "output_type": "stream",
     "text": [
      "\b\b\b\b\b\b\b\b\b\b\b\b\b\b\b\b\b\b\b\b\b\b\b\b\b\b\b\b\b\b\b\b\b\b\b\b\b\b\b\b\b\b\b\b\b\b\b\b\b\b\b\b\b\b\b\b\b\b\b\b\b\b\b\b\b\b\b\b\b\b\b\b\b\b\b\b\b\b\b\b\b\b\b\b\b\b\b\b\b\b\b\r",
      "36/36 [==============================] - 0s 4ms/step - loss: 4.7032 - mae: 1.5662 - mse: 4.7032 - val_loss: 9.2544 - val_mae: 2.3472 - val_mse: 9.2544\n"
     ]
    },
    {
     "name": "stdout",
     "output_type": "stream",
     "text": [
      "Epoch 62/100\n",
      "\r",
      " 1/36 [..............................] - ETA: 0s - loss: 14.1521 - mae: 2.5104 - mse: 14.1521"
     ]
    },
    {
     "name": "stdout",
     "output_type": "stream",
     "text": [
      "\b\b\b\b\b\b\b\b\b\b\b\b\b\b\b\b\b\b\b\b\b\b\b\b\b\b\b\b\b\b\b\b\b\b\b\b\b\b\b\b\b\b\b\b\b\b\b\b\b\b\b\b\b\b\b\b\b\b\b\b\b\b\b\b\b\b\b\b\b\b\b\b\b\b\b\b\b\b\b\b\b\b\b\b\b\b\b\b\b\b\b\b\b\r",
      "34/36 [===========================>..] - ETA: 0s - loss: 7.1558 - mae: 1.9008 - mse: 7.1558  "
     ]
    },
    {
     "name": "stdout",
     "output_type": "stream",
     "text": [
      "\b\b\b\b\b\b\b\b\b\b\b\b\b\b\b\b\b\b\b\b\b\b\b\b\b\b\b\b\b\b\b\b\b\b\b\b\b\b\b\b\b\b\b\b\b\b\b\b\b\b\b\b\b\b\b\b\b\b\b\b\b\b\b\b\b\b\b\b\b\b\b\b\b\b\b\b\b\b\b\b\b\b\b\b\b\b\b\b\b\b\b\r",
      "36/36 [==============================] - 0s 4ms/step - loss: 7.0993 - mae: 1.8902 - mse: 7.0993 - val_loss: 9.1819 - val_mae: 2.3220 - val_mse: 9.1819\n"
     ]
    },
    {
     "name": "stdout",
     "output_type": "stream",
     "text": [
      "Epoch 63/100\n",
      "\r",
      " 1/36 [..............................] - ETA: 0s - loss: 2.4848 - mae: 1.3113 - mse: 2.4848"
     ]
    },
    {
     "name": "stdout",
     "output_type": "stream",
     "text": [
      "\b\b\b\b\b\b\b\b\b\b\b\b\b\b\b\b\b\b\b\b\b\b\b\b\b\b\b\b\b\b\b\b\b\b\b\b\b\b\b\b\b\b\b\b\b\b\b\b\b\b\b\b\b\b\b\b\b\b\b\b\b\b\b\b\b\b\b\b\b\b\b\b\b\b\b\b\b\b\b\b\b\b\b\b\b\b\b\b\b\b\b\r",
      "34/36 [===========================>..] - ETA: 0s - loss: 6.1309 - mae: 1.7177 - mse: 6.1309"
     ]
    },
    {
     "name": "stdout",
     "output_type": "stream",
     "text": [
      "\b\b\b\b\b\b\b\b\b\b\b\b\b\b\b\b\b\b\b\b\b\b\b\b\b\b\b\b\b\b\b\b\b\b\b\b\b\b\b\b\b\b\b\b\b\b\b\b\b\b\b\b\b\b\b\b\b\b\b\b\b\b\b\b\b\b\b\b\b\b\b\b\b\b\b\b\b\b\b\b\b\b\b\b\b\b\b\b\b\b\b\r",
      "36/36 [==============================] - 0s 4ms/step - loss: 6.1473 - mae: 1.7232 - mse: 6.1473 - val_loss: 9.7829 - val_mae: 2.3943 - val_mse: 9.7829\n"
     ]
    },
    {
     "name": "stdout",
     "output_type": "stream",
     "text": [
      "Epoch 64/100\n",
      "\r",
      " 1/36 [..............................] - ETA: 0s - loss: 4.0655 - mae: 1.6831 - mse: 4.0655"
     ]
    },
    {
     "name": "stdout",
     "output_type": "stream",
     "text": [
      "\b\b\b\b\b\b\b\b\b\b\b\b\b\b\b\b\b\b\b\b\b\b\b\b\b\b\b\b\b\b\b\b\b\b\b\b\b\b\b\b\b\b\b\b\b\b\b\b\b\b\b\b\b\b\b\b\b\b\b\b\b\b\b\b\b\b\b\b\b\b\b\b\b\b\b\b\b\b\b\b\b\b\b\b\b\b\b\b\b\b\b\r",
      "34/36 [===========================>..] - ETA: 0s - loss: 5.0143 - mae: 1.7087 - mse: 5.0143"
     ]
    },
    {
     "name": "stdout",
     "output_type": "stream",
     "text": [
      "\b\b\b\b\b\b\b\b\b\b\b\b\b\b\b\b\b\b\b\b\b\b\b\b\b\b\b\b\b\b\b\b\b\b\b\b\b\b\b\b\b\b\b\b\b\b\b\b\b\b\b\b\b\b\b\b\b\b\b\b\b\b\b\b\b\b\b\b\b\b\b\b\b\b\b\b\b\b\b\b\b\b\b\b\b\b\b\b\b\b\b\r",
      "36/36 [==============================] - 0s 4ms/step - loss: 5.1355 - mae: 1.7173 - mse: 5.1355 - val_loss: 9.4744 - val_mae: 2.3056 - val_mse: 9.4744\n"
     ]
    },
    {
     "name": "stdout",
     "output_type": "stream",
     "text": [
      "Epoch 65/100\n",
      "\r",
      " 1/36 [..............................] - ETA: 0s - loss: 4.1810 - mae: 1.5446 - mse: 4.1810"
     ]
    },
    {
     "name": "stdout",
     "output_type": "stream",
     "text": [
      "\b\b\b\b\b\b\b\b\b\b\b\b\b\b\b\b\b\b\b\b\b\b\b\b\b\b\b\b\b\b\b\b\b\b\b\b\b\b\b\b\b\b\b\b\b\b\b\b\b\b\b\b\b\b\b\b\b\b\b\b\b\b\b\b\b\b\b\b\b\b\b\b\b\b\b\b\b\b\b\b\b\b\b\b\b\b\b\b\b\b\b\r",
      "34/36 [===========================>..] - ETA: 0s - loss: 4.8101 - mae: 1.6590 - mse: 4.8101"
     ]
    },
    {
     "name": "stdout",
     "output_type": "stream",
     "text": [
      "\b\b\b\b\b\b\b\b\b\b\b\b\b\b\b\b\b\b\b\b\b\b\b\b\b\b\b\b\b\b\b\b\b\b\b\b\b\b\b\b\b\b\b\b\b\b\b\b\b\b\b\b\b\b\b\b\b\b\b\b\b\b\b\b\b\b\b\b\b\b\b\b\b\b\b\b\b\b\b\b\b\b\b\b\b\b\b\b\b\b\b\r",
      "36/36 [==============================] - 0s 4ms/step - loss: 4.9310 - mae: 1.6712 - mse: 4.9310 - val_loss: 9.2431 - val_mae: 2.2771 - val_mse: 9.2431\n"
     ]
    },
    {
     "name": "stdout",
     "output_type": "stream",
     "text": [
      "Epoch 66/100\n",
      "\r",
      " 1/36 [..............................] - ETA: 0s - loss: 7.9442 - mae: 2.2875 - mse: 7.9442"
     ]
    },
    {
     "name": "stdout",
     "output_type": "stream",
     "text": [
      "\b\b\b\b\b\b\b\b\b\b\b\b\b\b\b\b\b\b\b\b\b\b\b\b\b\b\b\b\b\b\b\b\b\b\b\b\b\b\b\b\b\b\b\b\b\b\b\b\b\b\b\b\b\b\b\b\b\b\b\b\b\b\b\b\b\b\b\b\b\b\b\b\b\b\b\b\b\b\b\b\b\b\b\b\b\b\b\b\b\b\b\r",
      "34/36 [===========================>..] - ETA: 0s - loss: 7.2274 - mae: 1.9590 - mse: 7.2274"
     ]
    },
    {
     "name": "stdout",
     "output_type": "stream",
     "text": [
      "\b\b\b\b\b\b\b\b\b\b\b\b\b\b\b\b\b\b\b\b\b\b\b\b\b\b\b\b\b\b\b\b\b\b\b\b\b\b\b\b\b\b\b\b\b\b\b\b\b\b\b\b\b\b\b\b\b\b\b\b\b\b\b\b\b\b\b\b\b\b\b\b\b\b\b\b\b\b\b\b\b\b\b\b\b\b\b\b\b\b\b\r",
      "36/36 [==============================] - 0s 4ms/step - loss: 7.1330 - mae: 1.9434 - mse: 7.1330 - val_loss: 10.0637 - val_mae: 2.3787 - val_mse: 10.0637\n"
     ]
    },
    {
     "name": "stdout",
     "output_type": "stream",
     "text": [
      "Epoch 67/100\n",
      "\r",
      " 1/36 [..............................] - ETA: 0s - loss: 3.0155 - mae: 1.4887 - mse: 3.0155"
     ]
    },
    {
     "name": "stdout",
     "output_type": "stream",
     "text": [
      "\b\b\b\b\b\b\b\b\b\b\b\b\b\b\b\b\b\b\b\b\b\b\b\b\b\b\b\b\b\b\b\b\b\b\b\b\b\b\b\b\b\b\b\b\b\b\b\b\b\b\b\b\b\b\b\b\b\b\b\b\b\b\b\b\b\b\b\b\b\b\b\b\b\b\b\b\b\b\b\b\b\b\b\b\b\b\b\b\b\b\b\r",
      "33/36 [==========================>...] - ETA: 0s - loss: 4.8413 - mae: 1.7057 - mse: 4.8413"
     ]
    },
    {
     "name": "stdout",
     "output_type": "stream",
     "text": [
      "\b\b\b\b\b\b\b\b\b\b\b\b\b\b\b\b\b\b\b\b\b\b\b\b\b\b\b\b\b\b\b\b\b\b\b\b\b\b\b\b\b\b\b\b\b\b\b\b\b\b\b\b\b\b\b\b\b\b\b\b\b\b\b\b\b\b\b\b\b\b\b\b\b\b\b\b\b\b\b\b\b\b\b\b\b\b\b\b\b\b\b\r",
      "36/36 [==============================] - 0s 4ms/step - loss: 4.9432 - mae: 1.7104 - mse: 4.9432 - val_loss: 10.6425 - val_mae: 2.4232 - val_mse: 10.6425\n"
     ]
    },
    {
     "name": "stdout",
     "output_type": "stream",
     "text": [
      "Epoch 68/100\n",
      "\r",
      " 1/36 [..............................] - ETA: 0s - loss: 5.2355 - mae: 1.8739 - mse: 5.2355"
     ]
    },
    {
     "name": "stdout",
     "output_type": "stream",
     "text": [
      "\b\b\b\b\b\b\b\b\b\b\b\b\b\b\b\b\b\b\b\b\b\b\b\b\b\b\b\b\b\b\b\b\b\b\b\b\b\b\b\b\b\b\b\b\b\b\b\b\b\b\b\b\b\b\b\b\b\b\b\b\b\b\b\b\b\b\b\b\b\b\b\b\b\b\b\b\b\b\b\b\b\b\b\b\b\b\b\b\b\b\b\r",
      "33/36 [==========================>...] - ETA: 0s - loss: 7.1915 - mae: 1.8727 - mse: 7.1915"
     ]
    },
    {
     "name": "stdout",
     "output_type": "stream",
     "text": [
      "\b\b\b\b\b\b\b\b\b\b\b\b\b\b\b\b\b\b\b\b\b\b\b\b\b\b\b\b\b\b\b\b\b\b\b\b\b\b\b\b\b\b\b\b\b\b\b\b\b\b\b\b\b\b\b\b\b\b\b\b\b\b\b\b\b\b\b\b\b\b\b\b\b\b\b\b\b\b\b\b\b\b\b\b\b\b\b\b\b\b\b\r",
      "36/36 [==============================] - 0s 4ms/step - loss: 7.0821 - mae: 1.8639 - mse: 7.0821 - val_loss: 9.9486 - val_mae: 2.3677 - val_mse: 9.9486\n"
     ]
    },
    {
     "name": "stdout",
     "output_type": "stream",
     "text": [
      "Epoch 69/100\n",
      "\r",
      " 1/36 [..............................] - ETA: 0s - loss: 2.8912 - mae: 1.2661 - mse: 2.8912"
     ]
    },
    {
     "name": "stdout",
     "output_type": "stream",
     "text": [
      "\b\b\b\b\b\b\b\b\b\b\b\b\b\b\b\b\b\b\b\b\b\b\b\b\b\b\b\b\b\b\b\b\b\b\b\b\b\b\b\b\b\b\b\b\b\b\b\b\b\b\b\b\b\b\b\b\b\b\b\b\b\b\b\b\b\b\b\b\b\b\b\b\b\b\b\b\b\b\b\b\b\b\b\b\b\b\b\b\b\b\b\r",
      "34/36 [===========================>..] - ETA: 0s - loss: 5.9240 - mae: 1.6713 - mse: 5.9240"
     ]
    },
    {
     "name": "stdout",
     "output_type": "stream",
     "text": [
      "\b\b\b\b\b\b\b\b\b\b\b\b\b\b\b\b\b\b\b\b\b\b\b\b\b\b\b\b\b\b\b\b\b\b\b\b\b\b\b\b\b\b\b\b\b\b\b\b\b\b\b\b\b\b\b\b\b\b\b\b\b\b\b\b\b\b\b\b\b\b\b\b\b\b\b\b\b\b\b\b\b\b\b\b\b\b\b\b\b\b\b\r",
      "36/36 [==============================] - 0s 4ms/step - loss: 5.9329 - mae: 1.6759 - mse: 5.9329 - val_loss: 9.5338 - val_mae: 2.3042 - val_mse: 9.5338\n"
     ]
    },
    {
     "name": "stdout",
     "output_type": "stream",
     "text": [
      "Epoch 70/100\n",
      "\r",
      " 1/36 [..............................] - ETA: 0s - loss: 4.3385 - mae: 1.5660 - mse: 4.3385"
     ]
    },
    {
     "name": "stdout",
     "output_type": "stream",
     "text": [
      "\b\b\b\b\b\b\b\b\b\b\b\b\b\b\b\b\b\b\b\b\b\b\b\b\b\b\b\b\b\b\b\b\b\b\b\b\b\b\b\b\b\b\b\b\b\b\b\b\b\b\b\b\b\b\b\b\b\b\b\b\b\b\b\b\b\b\b\b\b\b\b\b\b\b\b\b\b\b\b\b\b\b\b\b\b\b\b\b\b\b\b\r",
      "33/36 [==========================>...] - ETA: 0s - loss: 4.4338 - mae: 1.6182 - mse: 4.4338"
     ]
    },
    {
     "name": "stdout",
     "output_type": "stream",
     "text": [
      "\b\b\b\b\b\b\b\b\b\b\b\b\b\b\b\b\b\b\b\b\b\b\b\b\b\b\b\b\b\b\b\b\b\b\b\b\b\b\b\b\b\b\b\b\b\b\b\b\b\b\b\b\b\b\b\b\b\b\b\b\b\b\b\b\b\b\b\b\b\b\b\b\b\b\b\b\b\b\b\b\b\b\b\b\b\b\b\b\b\b\b\r",
      "36/36 [==============================] - 0s 4ms/step - loss: 4.5776 - mae: 1.6304 - mse: 4.5776 - val_loss: 9.2585 - val_mae: 2.2633 - val_mse: 9.2585\n"
     ]
    },
    {
     "name": "stdout",
     "output_type": "stream",
     "text": [
      "Epoch 71/100\n",
      "\r",
      " 1/36 [..............................] - ETA: 0s - loss: 4.5695 - mae: 1.8160 - mse: 4.5695"
     ]
    },
    {
     "name": "stdout",
     "output_type": "stream",
     "text": [
      "\b\b\b\b\b\b\b\b\b\b\b\b\b\b\b\b\b\b\b\b\b\b\b\b\b\b\b\b\b\b\b\b\b\b\b\b\b\b\b\b\b\b\b\b\b\b\b\b\b\b\b\b\b\b\b\b\b\b\b\b\b\b\b\b\b\b\b\b\b\b\b\b\b\b\b\b\b\b\b\b\b\b\b\b\b\b\b\b\b\b\b\r",
      "34/36 [===========================>..] - ETA: 0s - loss: 5.8897 - mae: 1.7104 - mse: 5.8897"
     ]
    },
    {
     "name": "stdout",
     "output_type": "stream",
     "text": [
      "\b\b\b\b\b\b\b\b\b\b\b\b\b\b\b\b\b\b\b\b\b\b\b\b\b\b\b\b\b\b\b\b\b\b\b\b\b\b\b\b\b\b\b\b\b\b\b\b\b\b\b\b\b\b\b\b\b\b\b\b\b\b\b\b\b\b\b\b\b\b\b\b\b\b\b\b\b\b\b\b\b\b\b\b\b\b\b\b\b\b\b\r",
      "36/36 [==============================] - 0s 4ms/step - loss: 5.8780 - mae: 1.7089 - mse: 5.8780 - val_loss: 9.4555 - val_mae: 2.3616 - val_mse: 9.4555\n"
     ]
    },
    {
     "name": "stdout",
     "output_type": "stream",
     "text": [
      "Epoch 72/100\n",
      "\r",
      " 1/36 [..............................] - ETA: 0s - loss: 2.9233 - mae: 1.3537 - mse: 2.9233"
     ]
    },
    {
     "name": "stdout",
     "output_type": "stream",
     "text": [
      "\b\b\b\b\b\b\b\b\b\b\b\b\b\b\b\b\b\b\b\b\b\b\b\b\b\b\b\b\b\b\b\b\b\b\b\b\b\b\b\b\b\b\b\b\b\b\b\b\b\b\b\b\b\b\b\b\b\b\b\b\b\b\b\b\b\b\b\b\b\b\b\b\b\b\b\b\b\b\b\b\b\b\b\b\b\b\b\b\b\b\b\r",
      "33/36 [==========================>...] - ETA: 0s - loss: 6.4952 - mae: 1.7174 - mse: 6.4952"
     ]
    },
    {
     "name": "stdout",
     "output_type": "stream",
     "text": [
      "\b\b\b\b\b\b\b\b\b\b\b\b\b\b\b\b\b\b\b\b\b\b\b\b\b\b\b\b\b\b\b\b\b\b\b\b\b\b\b\b\b\b\b\b\b\b\b\b\b\b\b\b\b\b\b\b\b\b\b\b\b\b\b\b\b\b\b\b\b\b\b\b\b\b\b\b\b\b\b\b\b\b\b\b\b\b\b\b\b\b\b\r",
      "36/36 [==============================] - 0s 4ms/step - loss: 6.3992 - mae: 1.7181 - mse: 6.3992 - val_loss: 9.6444 - val_mae: 2.3257 - val_mse: 9.6444\n"
     ]
    },
    {
     "name": "stdout",
     "output_type": "stream",
     "text": [
      "Epoch 73/100\n",
      "\r",
      " 1/36 [..............................] - ETA: 0s - loss: 2.6198 - mae: 1.4640 - mse: 2.6198"
     ]
    },
    {
     "name": "stdout",
     "output_type": "stream",
     "text": [
      "\b\b\b\b\b\b\b\b\b\b\b\b\b\b\b\b\b\b\b\b\b\b\b\b\b\b\b\b\b\b\b\b\b\b\b\b\b\b\b\b\b\b\b\b\b\b\b\b\b\b\b\b\b\b\b\b\b\b\b\b\b\b\b\b\b\b\b\b\b\b\b\b\b\b\b\b\b\b\b\b\b\b\b\b\b\b\b\b\b\b\b\r",
      "29/36 [=======================>......] - ETA: 0s - loss: 5.5768 - mae: 1.6959 - mse: 5.5768"
     ]
    },
    {
     "name": "stdout",
     "output_type": "stream",
     "text": [
      "\b\b\b\b\b\b\b\b\b\b\b\b\b\b\b\b\b\b\b\b\b\b\b\b\b\b\b\b\b\b\b\b\b\b\b\b\b\b\b\b\b\b\b\b\b\b\b\b\b\b\b\b\b\b\b\b\b\b\b\b\b\b\b\b\b\b\b\b\b\b\b\b\b\b\b\b\b\b\b\b\b\b\b\b\b\b\b\b\b\b\b\r",
      "36/36 [==============================] - 0s 4ms/step - loss: 5.5339 - mae: 1.6942 - mse: 5.5339 - val_loss: 10.5231 - val_mae: 2.5063 - val_mse: 10.5231\n"
     ]
    },
    {
     "name": "stdout",
     "output_type": "stream",
     "text": [
      "Epoch 74/100\n",
      "\r",
      " 1/36 [..............................] - ETA: 0s - loss: 4.4950 - mae: 1.4474 - mse: 4.4950"
     ]
    },
    {
     "name": "stdout",
     "output_type": "stream",
     "text": [
      "\b\b\b\b\b\b\b\b\b\b\b\b\b\b\b\b\b\b\b\b\b\b\b\b\b\b\b\b\b\b\b\b\b\b\b\b\b\b\b\b\b\b\b\b\b\b\b\b\b\b\b\b\b\b\b\b\b\b\b\b\b\b\b\b\b\b\b\b\b\b\b\b\b\b\b\b\b\b\b\b\b\b\b\b\b\b\b\b\b\b\b\r",
      "29/36 [=======================>......] - ETA: 0s - loss: 5.6547 - mae: 1.7134 - mse: 5.6547"
     ]
    },
    {
     "name": "stdout",
     "output_type": "stream",
     "text": [
      "\b\b\b\b\b\b\b\b\b\b\b\b\b\b\b\b\b\b\b\b\b\b\b\b\b\b\b\b\b\b\b\b\b\b\b\b\b\b\b\b\b\b\b\b\b\b\b\b\b\b\b\b\b\b\b\b\b\b\b\b\b\b\b\b\b\b\b\b\b\b\b\b\b\b\b\b\b\b\b\b\b\b\b\b\b\b\b\b\b\b\b\r",
      "36/36 [==============================] - 0s 4ms/step - loss: 5.6532 - mae: 1.7132 - mse: 5.6532 - val_loss: 9.0941 - val_mae: 2.2430 - val_mse: 9.0941\n"
     ]
    },
    {
     "name": "stdout",
     "output_type": "stream",
     "text": [
      "Epoch 75/100\n",
      "\r",
      " 1/36 [..............................] - ETA: 0s - loss: 4.2808 - mae: 1.7725 - mse: 4.2808"
     ]
    },
    {
     "name": "stdout",
     "output_type": "stream",
     "text": [
      "\b\b\b\b\b\b\b\b\b\b\b\b\b\b\b\b\b\b\b\b\b\b\b\b\b\b\b\b\b\b\b\b\b\b\b\b\b\b\b\b\b\b\b\b\b\b\b\b\b\b\b\b\b\b\b\b\b\b\b\b\b\b\b\b\b\b\b\b\b\b\b\b\b\b\b\b\b\b\b\b\b\b\b\b\b\b\b\b\b\b\b\r",
      "29/36 [=======================>......] - ETA: 0s - loss: 6.1228 - mae: 1.8543 - mse: 6.1228"
     ]
    },
    {
     "name": "stdout",
     "output_type": "stream",
     "text": [
      "\b\b\b\b\b\b\b\b\b\b\b\b\b\b\b\b\b\b\b\b\b\b\b\b\b\b\b\b\b\b\b\b\b\b\b\b\b\b\b\b\b\b\b\b\b\b\b\b\b\b\b\b\b\b\b\b\b\b\b\b\b\b\b\b\b\b\b\b\b\b\b\b\b\b\b\b\b\b\b\b\b\b\b\b\b\b\b\b\b\b\b\r",
      "36/36 [==============================] - 0s 4ms/step - loss: 6.0196 - mae: 1.8187 - mse: 6.0196 - val_loss: 10.0033 - val_mae: 2.3537 - val_mse: 10.0033\n"
     ]
    },
    {
     "name": "stdout",
     "output_type": "stream",
     "text": [
      "Epoch 76/100\n",
      "\r",
      " 1/36 [..............................] - ETA: 0s - loss: 2.4221 - mae: 1.1343 - mse: 2.4221"
     ]
    },
    {
     "name": "stdout",
     "output_type": "stream",
     "text": [
      "\b\b\b\b\b\b\b\b\b\b\b\b\b\b\b\b\b\b\b\b\b\b\b\b\b\b\b\b\b\b\b\b\b\b\b\b\b\b\b\b\b\b\b\b\b\b\b\b\b\b\b\b\b\b\b\b\b\b\b\b\b\b\b\b\b\b\b\b\b\b\b\b\b\b\b\b\b\b\b\b\b\b\b\b\b\b\b\b\b\b\b\r",
      "30/36 [========================>.....] - ETA: 0s - loss: 4.1946 - mae: 1.5413 - mse: 4.1946"
     ]
    },
    {
     "name": "stdout",
     "output_type": "stream",
     "text": [
      "\b\b\b\b\b\b\b\b\b\b\b\b\b\b\b\b\b\b\b\b\b\b\b\b\b\b\b\b\b\b\b\b\b\b\b\b\b\b\b\b\b\b\b\b\b\b\b\b\b\b\b\b\b\b\b\b\b\b\b\b\b\b\b\b\b\b\b\b\b\b\b\b\b\b\b\b\b\b\b\b\b\b\b\b\b\b\b\b\b\b\b\r",
      "36/36 [==============================] - 0s 4ms/step - loss: 4.4301 - mae: 1.5707 - mse: 4.4301 - val_loss: 9.1314 - val_mae: 2.2875 - val_mse: 9.1314\n"
     ]
    },
    {
     "name": "stdout",
     "output_type": "stream",
     "text": [
      "Epoch 77/100\n",
      "\r",
      " 1/36 [..............................] - ETA: 0s - loss: 5.0121 - mae: 1.7153 - mse: 5.0121"
     ]
    },
    {
     "name": "stdout",
     "output_type": "stream",
     "text": [
      "\b\b\b\b\b\b\b\b\b\b\b\b\b\b\b\b\b\b\b\b\b\b\b\b\b\b\b\b\b\b\b\b\b\b\b\b\b\b\b\b\b\b\b\b\b\b\b\b\b\b\b\b\b\b\b\b\b\b\b\b\b\b\b\b\b\b\b\b\b\b\b\b\b\b\b\b\b\b\b\b\b\b\b\b\b\b\b\b\b\b\b\r",
      "30/36 [========================>.....] - ETA: 0s - loss: 5.0351 - mae: 1.6183 - mse: 5.0351"
     ]
    },
    {
     "name": "stdout",
     "output_type": "stream",
     "text": [
      "\b\b\b\b\b\b\b\b\b\b\b\b\b\b\b\b\b\b\b\b\b\b\b\b\b\b\b\b\b\b\b\b\b\b\b\b\b\b\b\b\b\b\b\b\b\b\b\b\b\b\b\b\b\b\b\b\b\b\b\b\b\b\b\b\b\b\b\b\b\b\b\b\b\b\b\b\b\b\b\b\b\b\b\b\b\b\b\b\b\b\b\r",
      "36/36 [==============================] - 0s 4ms/step - loss: 5.0792 - mae: 1.6261 - mse: 5.0792 - val_loss: 9.6146 - val_mae: 2.3574 - val_mse: 9.6146\n"
     ]
    },
    {
     "name": "stdout",
     "output_type": "stream",
     "text": [
      "Epoch 78/100\n",
      "\r",
      " 1/36 [..............................] - ETA: 0s - loss: 2.5820 - mae: 1.3799 - mse: 2.5820"
     ]
    },
    {
     "name": "stdout",
     "output_type": "stream",
     "text": [
      "\b\b\b\b\b\b\b\b\b\b\b\b\b\b\b\b\b\b\b\b\b\b\b\b\b\b\b\b\b\b\b\b\b\b\b\b\b\b\b\b\b\b\b\b\b\b\b\b\b\b\b\b\b\b\b\b\b\b\b\b\b\b\b\b\b\b\b\b\b\b\b\b\b\b\b\b\b\b\b\b\b\b\b\b\b\b\b\b\b\b\b\r",
      "29/36 [=======================>......] - ETA: 0s - loss: 5.2953 - mae: 1.6405 - mse: 5.2953"
     ]
    },
    {
     "name": "stdout",
     "output_type": "stream",
     "text": [
      "\b\b\b\b\b\b\b\b\b\b\b\b\b\b\b\b\b\b\b\b\b\b\b\b\b\b\b\b\b\b\b\b\b\b\b\b\b\b\b\b\b\b\b\b\b\b\b\b\b\b\b\b\b\b\b\b\b\b\b\b\b\b\b\b\b\b\b\b\b\b\b\b\b\b\b\b\b\b\b\b\b\b\b\b\b\b\b\b\b\b\b\r",
      "36/36 [==============================] - 0s 4ms/step - loss: 5.3188 - mae: 1.6513 - mse: 5.3188 - val_loss: 9.4899 - val_mae: 2.3598 - val_mse: 9.4899\n"
     ]
    },
    {
     "name": "stdout",
     "output_type": "stream",
     "text": [
      "Epoch 79/100\n",
      "\r",
      " 1/36 [..............................] - ETA: 0s - loss: 6.3683 - mae: 1.8826 - mse: 6.3683"
     ]
    },
    {
     "name": "stdout",
     "output_type": "stream",
     "text": [
      "\b\b\b\b\b\b\b\b\b\b\b\b\b\b\b\b\b\b\b\b\b\b\b\b\b\b\b\b\b\b\b\b\b\b\b\b\b\b\b\b\b\b\b\b\b\b\b\b\b\b\b\b\b\b\b\b\b\b\b\b\b\b\b\b\b\b\b\b\b\b\b\b\b\b\b\b\b\b\b\b\b\b\b\b\b\b\b\b\b\b\b\r",
      "30/36 [========================>.....] - ETA: 0s - loss: 4.0044 - mae: 1.5464 - mse: 4.0044"
     ]
    },
    {
     "name": "stdout",
     "output_type": "stream",
     "text": [
      "\b\b\b\b\b\b\b\b\b\b\b\b\b\b\b\b\b\b\b\b\b\b\b\b\b\b\b\b\b\b\b\b\b\b\b\b\b\b\b\b\b\b\b\b\b\b\b\b\b\b\b\b\b\b\b\b\b\b\b\b\b\b\b\b\b\b\b\b\b\b\b\b\b\b\b\b\b\b\b\b\b\b\b\b\b\b\b\b\b\b\b\r",
      "36/36 [==============================] - 0s 4ms/step - loss: 4.1686 - mae: 1.5630 - mse: 4.1686 - val_loss: 9.3313 - val_mae: 2.2644 - val_mse: 9.3313\n"
     ]
    },
    {
     "name": "stdout",
     "output_type": "stream",
     "text": [
      "Epoch 80/100\n",
      "\r",
      " 1/36 [..............................] - ETA: 0s - loss: 11.2149 - mae: 2.4181 - mse: 11.2149"
     ]
    },
    {
     "name": "stdout",
     "output_type": "stream",
     "text": [
      "\b\b\b\b\b\b\b\b\b\b\b\b\b\b\b\b\b\b\b\b\b\b\b\b\b\b\b\b\b\b\b\b\b\b\b\b\b\b\b\b\b\b\b\b\b\b\b\b\b\b\b\b\b\b\b\b\b\b\b\b\b\b\b\b\b\b\b\b\b\b\b\b\b\b\b\b\b\b\b\b\b\b\b\b\b\b\b\b\b\b\b\b\b\r",
      "32/36 [=========================>....] - ETA: 0s - loss: 5.1197 - mae: 1.7075 - mse: 5.1197  "
     ]
    },
    {
     "name": "stdout",
     "output_type": "stream",
     "text": [
      "\b\b\b\b\b\b\b\b\b\b\b\b\b\b\b\b\b\b\b\b\b\b\b\b\b\b\b\b\b\b\b\b\b\b\b\b\b\b\b\b\b\b\b\b\b\b\b\b\b\b\b\b\b\b\b\b\b\b\b\b\b\b\b\b\b\b\b\b\b\b\b\b\b\b\b\b\b\b\b\b\b\b\b\b\b\b\b\b\b\b\b\r",
      "36/36 [==============================] - 0s 4ms/step - loss: 5.0788 - mae: 1.6972 - mse: 5.0788 - val_loss: 9.9378 - val_mae: 2.3022 - val_mse: 9.9378\n"
     ]
    },
    {
     "name": "stdout",
     "output_type": "stream",
     "text": [
      "Epoch 81/100\n",
      "\r",
      " 1/36 [..............................] - ETA: 0s - loss: 1.4385 - mae: 0.8965 - mse: 1.4385"
     ]
    },
    {
     "name": "stdout",
     "output_type": "stream",
     "text": [
      "\b\b\b\b\b\b\b\b\b\b\b\b\b\b\b\b\b\b\b\b\b\b\b\b\b\b\b\b\b\b\b\b\b\b\b\b\b\b\b\b\b\b\b\b\b\b\b\b\b\b\b\b\b\b\b\b\b\b\b\b\b\b\b\b\b\b\b\b\b\b\b\b\b\b\b\b\b\b\b\b\b\b\b\b\b\b\b\b\b\b\b\r",
      "33/36 [==========================>...] - ETA: 0s - loss: 4.0133 - mae: 1.4800 - mse: 4.0133"
     ]
    },
    {
     "name": "stdout",
     "output_type": "stream",
     "text": [
      "\b\b\b\b\b\b\b\b\b\b\b\b\b\b\b\b\b\b\b\b\b\b\b\b\b\b\b\b\b\b\b\b\b\b\b\b\b\b\b\b\b\b\b\b\b\b\b\b\b\b\b\b\b\b\b\b\b\b\b\b\b\b\b\b\b\b\b\b\b\b\b\b\b\b\b\b\b\b\b\b\b\b\b\b\b\b\b\b\b\b\b\r",
      "36/36 [==============================] - 0s 4ms/step - loss: 4.1273 - mae: 1.4965 - mse: 4.1273 - val_loss: 10.8592 - val_mae: 2.4694 - val_mse: 10.8592\n"
     ]
    },
    {
     "name": "stdout",
     "output_type": "stream",
     "text": [
      "Epoch 82/100\n",
      "\r",
      " 1/36 [..............................] - ETA: 0s - loss: 5.0292 - mae: 1.9395 - mse: 5.0292"
     ]
    },
    {
     "name": "stdout",
     "output_type": "stream",
     "text": [
      "\b\b\b\b\b\b\b\b\b\b\b\b\b\b\b\b\b\b\b\b\b\b\b\b\b\b\b\b\b\b\b\b\b\b\b\b\b\b\b\b\b\b\b\b\b\b\b\b\b\b\b\b\b\b\b\b\b\b\b\b\b\b\b\b\b\b\b\b\b\b\b\b\b\b\b\b\b\b\b\b\b\b\b\b\b\b\b\b\b\b\b\r",
      "33/36 [==========================>...] - ETA: 0s - loss: 5.7289 - mae: 1.7079 - mse: 5.7289"
     ]
    },
    {
     "name": "stdout",
     "output_type": "stream",
     "text": [
      "\b\b\b\b\b\b\b\b\b\b\b\b\b\b\b\b\b\b\b\b\b\b\b\b\b\b\b\b\b\b\b\b\b\b\b\b\b\b\b\b\b\b\b\b\b\b\b\b\b\b\b\b\b\b\b\b\b\b\b\b\b\b\b\b\b\b\b\b\b\b\b\b\b\b\b\b\b\b\b\b\b\b\b\b\b\b\b\b\b\b\b\r",
      "36/36 [==============================] - 0s 4ms/step - loss: 5.6518 - mae: 1.6982 - mse: 5.6518 - val_loss: 10.0976 - val_mae: 2.3798 - val_mse: 10.0976\n"
     ]
    },
    {
     "name": "stdout",
     "output_type": "stream",
     "text": [
      "Epoch 83/100\n",
      "\r",
      " 1/36 [..............................] - ETA: 0s - loss: 8.6699 - mae: 2.3824 - mse: 8.6699"
     ]
    },
    {
     "name": "stdout",
     "output_type": "stream",
     "text": [
      "\b\b\b\b\b\b\b\b\b\b\b\b\b\b\b\b\b\b\b\b\b\b\b\b\b\b\b\b\b\b\b\b\b\b\b\b\b\b\b\b\b\b\b\b\b\b\b\b\b\b\b\b\b\b\b\b\b\b\b\b\b\b\b\b\b\b\b\b\b\b\b\b\b\b\b\b\b\b\b\b\b\b\b\b\b\b\b\b\b\b\b\r",
      "33/36 [==========================>...] - ETA: 0s - loss: 5.5654 - mae: 1.7310 - mse: 5.5654"
     ]
    },
    {
     "name": "stdout",
     "output_type": "stream",
     "text": [
      "\b\b\b\b\b\b\b\b\b\b\b\b\b\b\b\b\b\b\b\b\b\b\b\b\b\b\b\b\b\b\b\b\b\b\b\b\b\b\b\b\b\b\b\b\b\b\b\b\b\b\b\b\b\b\b\b\b\b\b\b\b\b\b\b\b\b\b\b\b\b\b\b\b\b\b\b\b\b\b\b\b\b\b\b\b\b\b\b\b\b\b\r",
      "36/36 [==============================] - 0s 4ms/step - loss: 5.5151 - mae: 1.7205 - mse: 5.5151 - val_loss: 9.6754 - val_mae: 2.3623 - val_mse: 9.6754\n"
     ]
    },
    {
     "name": "stdout",
     "output_type": "stream",
     "text": [
      "Epoch 84/100\n",
      "\r",
      " 1/36 [..............................] - ETA: 0s - loss: 4.5357 - mae: 1.7781 - mse: 4.5357"
     ]
    },
    {
     "name": "stdout",
     "output_type": "stream",
     "text": [
      "\b\b\b\b\b\b\b\b\b\b\b\b\b\b\b\b\b\b\b\b\b\b\b\b\b\b\b\b\b\b\b\b\b\b\b\b\b\b\b\b\b\b\b\b\b\b\b\b\b\b\b\b\b\b\b\b\b\b\b\b\b\b\b\b\b\b\b\b\b\b\b\b\b\b\b\b\b\b\b\b\b\b\b\b\b\b\b\b\b\b\b\r",
      "33/36 [==========================>...] - ETA: 0s - loss: 4.0814 - mae: 1.5638 - mse: 4.0814"
     ]
    },
    {
     "name": "stdout",
     "output_type": "stream",
     "text": [
      "\b\b\b\b\b\b\b\b\b\b\b\b\b\b\b\b\b\b\b\b\b\b\b\b\b\b\b\b\b\b\b\b\b\b\b\b\b\b\b\b\b\b\b\b\b\b\b\b\b\b\b\b\b\b\b\b\b\b\b\b\b\b\b\b\b\b\b\b\b\b\b\b\b\b\b\b\b\b\b\b\b\b\b\b\b\b\b\b\b\b\b\r",
      "36/36 [==============================] - 0s 4ms/step - loss: 4.1512 - mae: 1.5657 - mse: 4.1512 - val_loss: 11.0365 - val_mae: 2.4104 - val_mse: 11.0365\n"
     ]
    },
    {
     "name": "stdout",
     "output_type": "stream",
     "text": [
      "Epoch 85/100\n",
      "\r",
      " 1/36 [..............................] - ETA: 0s - loss: 6.4269 - mae: 2.0289 - mse: 6.4269"
     ]
    },
    {
     "name": "stdout",
     "output_type": "stream",
     "text": [
      "\b\b\b\b\b\b\b\b\b\b\b\b\b\b\b\b\b\b\b\b\b\b\b\b\b\b\b\b\b\b\b\b\b\b\b\b\b\b\b\b\b\b\b\b\b\b\b\b\b\b\b\b\b\b\b\b\b\b\b\b\b\b\b\b\b\b\b\b\b\b\b\b\b\b\b\b\b\b\b\b\b\b\b\b\b\b\b\b\b\b\b\r",
      "33/36 [==========================>...] - ETA: 0s - loss: 4.9203 - mae: 1.6064 - mse: 4.9203"
     ]
    },
    {
     "name": "stdout",
     "output_type": "stream",
     "text": [
      "\b\b\b\b\b\b\b\b\b\b\b\b\b\b\b\b\b\b\b\b\b\b\b\b\b\b\b\b\b\b\b\b\b\b\b\b\b\b\b\b\b\b\b\b\b\b\b\b\b\b\b\b\b\b\b\b\b\b\b\b\b\b\b\b\b\b\b\b\b\b\b\b\b\b\b\b\b\b\b\b\b\b\b\b\b\b\b\b\b\b\b\r",
      "36/36 [==============================] - 0s 4ms/step - loss: 4.9118 - mae: 1.6053 - mse: 4.9118 - val_loss: 9.7858 - val_mae: 2.3077 - val_mse: 9.7858\n"
     ]
    },
    {
     "name": "stdout",
     "output_type": "stream",
     "text": [
      "Epoch 86/100\n",
      "\r",
      " 1/36 [..............................] - ETA: 0s - loss: 2.1923 - mae: 1.2115 - mse: 2.1923"
     ]
    },
    {
     "name": "stdout",
     "output_type": "stream",
     "text": [
      "\b\b\b\b\b\b\b\b\b\b\b\b\b\b\b\b\b\b\b\b\b\b\b\b\b\b\b\b\b\b\b\b\b\b\b\b\b\b\b\b\b\b\b\b\b\b\b\b\b\b\b\b\b\b\b\b\b\b\b\b\b\b\b\b\b\b\b\b\b\b\b\b\b\b\b\b\b\b\b\b\b\b\b\b\b\b\b\b\b\b\b\r",
      "33/36 [==========================>...] - ETA: 0s - loss: 3.9008 - mae: 1.4805 - mse: 3.9008"
     ]
    },
    {
     "name": "stdout",
     "output_type": "stream",
     "text": [
      "\b\b\b\b\b\b\b\b\b\b\b\b\b\b\b\b\b\b\b\b\b\b\b\b\b\b\b\b\b\b\b\b\b\b\b\b\b\b\b\b\b\b\b\b\b\b\b\b\b\b\b\b\b\b\b\b\b\b\b\b\b\b\b\b\b\b\b\b\b\b\b\b\b\b\b\b\b\b\b\b\b\b\b\b\b\b\b\b\b\b\b\r",
      "36/36 [==============================] - 0s 4ms/step - loss: 3.9980 - mae: 1.4911 - mse: 3.9980 - val_loss: 10.0655 - val_mae: 2.3251 - val_mse: 10.0655\n"
     ]
    },
    {
     "name": "stdout",
     "output_type": "stream",
     "text": [
      "Epoch 87/100\n",
      "\r",
      " 1/36 [..............................] - ETA: 0s - loss: 8.0132 - mae: 1.8202 - mse: 8.0132"
     ]
    },
    {
     "name": "stdout",
     "output_type": "stream",
     "text": [
      "\b\b\b\b\b\b\b\b\b\b\b\b\b\b\b\b\b\b\b\b\b\b\b\b\b\b\b\b\b\b\b\b\b\b\b\b\b\b\b\b\b\b\b\b\b\b\b\b\b\b\b\b\b\b\b\b\b\b\b\b\b\b\b\b\b\b\b\b\b\b\b\b\b\b\b\b\b\b\b\b\b\b\b\b\b\b\b\b\b\b\b\r",
      "33/36 [==========================>...] - ETA: 0s - loss: 4.6954 - mae: 1.5274 - mse: 4.6954"
     ]
    },
    {
     "name": "stdout",
     "output_type": "stream",
     "text": [
      "\b\b\b\b\b\b\b\b\b\b\b\b\b\b\b\b\b\b\b\b\b\b\b\b\b\b\b\b\b\b\b\b\b\b\b\b\b\b\b\b\b\b\b\b\b\b\b\b\b\b\b\b\b\b\b\b\b\b\b\b\b\b\b\b\b\b\b\b\b\b\b\b\b\b\b\b\b\b\b\b\b\b\b\b\b\b\b\b\b\b\b\r",
      "36/36 [==============================] - 0s 4ms/step - loss: 4.7092 - mae: 1.5292 - mse: 4.7092 - val_loss: 9.4244 - val_mae: 2.2671 - val_mse: 9.4244\n"
     ]
    },
    {
     "name": "stdout",
     "output_type": "stream",
     "text": [
      "Epoch 88/100\n",
      "\r",
      " 1/36 [..............................] - ETA: 0s - loss: 5.1463 - mae: 1.7807 - mse: 5.1463"
     ]
    },
    {
     "name": "stdout",
     "output_type": "stream",
     "text": [
      "\b\b\b\b\b\b\b\b\b\b\b\b\b\b\b\b\b\b\b\b\b\b\b\b\b\b\b\b\b\b\b\b\b\b\b\b\b\b\b\b\b\b\b\b\b\b\b\b\b\b\b\b\b\b\b\b\b\b\b\b\b\b\b\b\b\b\b\b\b\b\b\b\b\b\b\b\b\b\b\b\b\b\b\b\b\b\b\b\b\b\b\r",
      "33/36 [==========================>...] - ETA: 0s - loss: 4.1792 - mae: 1.5463 - mse: 4.1792"
     ]
    },
    {
     "name": "stdout",
     "output_type": "stream",
     "text": [
      "\b\b\b\b\b\b\b\b\b\b\b\b\b\b\b\b\b\b\b\b\b\b\b\b\b\b\b\b\b\b\b\b\b\b\b\b\b\b\b\b\b\b\b\b\b\b\b\b\b\b\b\b\b\b\b\b\b\b\b\b\b\b\b\b\b\b\b\b\b\b\b\b\b\b\b\b\b\b\b\b\b\b\b\b\b\b\b\b\b\b\b\r",
      "36/36 [==============================] - 0s 4ms/step - loss: 4.2292 - mae: 1.5492 - mse: 4.2292 - val_loss: 9.7510 - val_mae: 2.3007 - val_mse: 9.7510\n"
     ]
    },
    {
     "name": "stdout",
     "output_type": "stream",
     "text": [
      "Epoch 89/100\n",
      "\r",
      " 1/36 [..............................] - ETA: 0s - loss: 3.3645 - mae: 1.4511 - mse: 3.3645"
     ]
    },
    {
     "name": "stdout",
     "output_type": "stream",
     "text": [
      "\b\b\b\b\b\b\b\b\b\b\b\b\b\b\b\b\b\b\b\b\b\b\b\b\b\b\b\b\b\b\b\b\b\b\b\b\b\b\b\b\b\b\b\b\b\b\b\b\b\b\b\b\b\b\b\b\b\b\b\b\b\b\b\b\b\b\b\b\b\b\b\b\b\b\b\b\b\b\b\b\b\b\b\b\b\b\b\b\b\b\b\r",
      "33/36 [==========================>...] - ETA: 0s - loss: 4.7393 - mae: 1.5746 - mse: 4.7393"
     ]
    },
    {
     "name": "stdout",
     "output_type": "stream",
     "text": [
      "\b\b\b\b\b\b\b\b\b\b\b\b\b\b\b\b\b\b\b\b\b\b\b\b\b\b\b\b\b\b\b\b\b\b\b\b\b\b\b\b\b\b\b\b\b\b\b\b\b\b\b\b\b\b\b\b\b\b\b\b\b\b\b\b\b\b\b\b\b\b\b\b\b\b\b\b\b\b\b\b\b\b\b\b\b\b\b\b\b\b\b\r",
      "36/36 [==============================] - 0s 4ms/step - loss: 4.7310 - mae: 1.5752 - mse: 4.7310 - val_loss: 10.0711 - val_mae: 2.3494 - val_mse: 10.0711\n"
     ]
    },
    {
     "name": "stdout",
     "output_type": "stream",
     "text": [
      "Epoch 90/100\n",
      "\r",
      " 1/36 [..............................] - ETA: 0s - loss: 1.7477 - mae: 0.9966 - mse: 1.7477"
     ]
    },
    {
     "name": "stdout",
     "output_type": "stream",
     "text": [
      "\b\b\b\b\b\b\b\b\b\b\b\b\b\b\b\b\b\b\b\b\b\b\b\b\b\b\b\b\b\b\b\b\b\b\b\b\b\b\b\b\b\b\b\b\b\b\b\b\b\b\b\b\b\b\b\b\b\b\b\b\b\b\b\b\b\b\b\b\b\b\b\b\b\b\b\b\b\b\b\b\b\b\b\b\b\b\b\b\b\b\b\r",
      "33/36 [==========================>...] - ETA: 0s - loss: 5.3938 - mae: 1.6194 - mse: 5.3938"
     ]
    },
    {
     "name": "stdout",
     "output_type": "stream",
     "text": [
      "\b\b\b\b\b\b\b\b\b\b\b\b\b\b\b\b\b\b\b\b\b\b\b\b\b\b\b\b\b\b\b\b\b\b\b\b\b\b\b\b\b\b\b\b\b\b\b\b\b\b\b\b\b\b\b\b\b\b\b\b\b\b\b\b\b\b\b\b\b\b\b\b\b\b\b\b\b\b\b\b\b\b\b\b\b\b\b\b\b\b\b\r",
      "36/36 [==============================] - 0s 4ms/step - loss: 5.3310 - mae: 1.6148 - mse: 5.3310 - val_loss: 9.3629 - val_mae: 2.2559 - val_mse: 9.3629\n"
     ]
    },
    {
     "name": "stdout",
     "output_type": "stream",
     "text": [
      "Epoch 91/100\n",
      "\r",
      " 1/36 [..............................] - ETA: 0s - loss: 27.8543 - mae: 3.2737 - mse: 27.8543"
     ]
    },
    {
     "name": "stdout",
     "output_type": "stream",
     "text": [
      "\b\b\b\b\b\b\b\b\b\b\b\b\b\b\b\b\b\b\b\b\b\b\b\b\b\b\b\b\b\b\b\b\b\b\b\b\b\b\b\b\b\b\b\b\b\b\b\b\b\b\b\b\b\b\b\b\b\b\b\b\b\b\b\b\b\b\b\b\b\b\b\b\b\b\b\b\b\b\b\b\b\b\b\b\b\b\b\b\b\b\b\b\b\r",
      "33/36 [==========================>...] - ETA: 0s - loss: 6.1757 - mae: 1.5865 - mse: 6.1757  "
     ]
    },
    {
     "name": "stdout",
     "output_type": "stream",
     "text": [
      "\b\b\b\b\b\b\b\b\b\b\b\b\b\b\b\b\b\b\b\b\b\b\b\b\b\b\b\b\b\b\b\b\b\b\b\b\b\b\b\b\b\b\b\b\b\b\b\b\b\b\b\b\b\b\b\b\b\b\b\b\b\b\b\b\b\b\b\b\b\b\b\b\b\b\b\b\b\b\b\b\b\b\b\b\b\b\b\b\b\b\b\r",
      "36/36 [==============================] - 0s 4ms/step - loss: 5.9897 - mae: 1.5806 - mse: 5.9897 - val_loss: 9.8954 - val_mae: 2.3155 - val_mse: 9.8954\n"
     ]
    },
    {
     "name": "stdout",
     "output_type": "stream",
     "text": [
      "Epoch 92/100\n",
      "\r",
      " 1/36 [..............................] - ETA: 0s - loss: 5.9039 - mae: 1.7434 - mse: 5.9039"
     ]
    },
    {
     "name": "stdout",
     "output_type": "stream",
     "text": [
      "\b\b\b\b\b\b\b\b\b\b\b\b\b\b\b\b\b\b\b\b\b\b\b\b\b\b\b\b\b\b\b\b\b\b\b\b\b\b\b\b\b\b\b\b\b\b\b\b\b\b\b\b\b\b\b\b\b\b\b\b\b\b\b\b\b\b\b\b\b\b\b\b\b\b\b\b\b\b\b\b\b\b\b\b\b\b\b\b\b\b\b\r",
      "33/36 [==========================>...] - ETA: 0s - loss: 3.5070 - mae: 1.4349 - mse: 3.5070"
     ]
    },
    {
     "name": "stdout",
     "output_type": "stream",
     "text": [
      "\b\b\b\b\b\b\b\b\b\b\b\b\b\b\b\b\b\b\b\b\b\b\b\b\b\b\b\b\b\b\b\b\b\b\b\b\b\b\b\b\b\b\b\b\b\b\b\b\b\b\b\b\b\b\b\b\b\b\b\b\b\b\b\b\b\b\b\b\b\b\b\b\b\b\b\b\b\b\b\b\b\b\b\b\b\b\b\b\b\b\b\r",
      "36/36 [==============================] - 0s 4ms/step - loss: 3.5993 - mae: 1.4465 - mse: 3.5993 - val_loss: 10.0380 - val_mae: 2.3217 - val_mse: 10.0380\n"
     ]
    },
    {
     "name": "stdout",
     "output_type": "stream",
     "text": [
      "Epoch 93/100\n",
      "\r",
      " 1/36 [..............................] - ETA: 0s - loss: 8.2391 - mae: 2.0149 - mse: 8.2391"
     ]
    },
    {
     "name": "stdout",
     "output_type": "stream",
     "text": [
      "\b\b\b\b\b\b\b\b\b\b\b\b\b\b\b\b\b\b\b\b\b\b\b\b\b\b\b\b\b\b\b\b\b\b\b\b\b\b\b\b\b\b\b\b\b\b\b\b\b\b\b\b\b\b\b\b\b\b\b\b\b\b\b\b\b\b\b\b\b\b\b\b\b\b\b\b\b\b\b\b\b\b\b\b\b\b\b\b\b\b\b\r",
      "33/36 [==========================>...] - ETA: 0s - loss: 4.0579 - mae: 1.4960 - mse: 4.0579"
     ]
    },
    {
     "name": "stdout",
     "output_type": "stream",
     "text": [
      "\b\b\b\b\b\b\b\b\b\b\b\b\b\b\b\b\b\b\b\b\b\b\b\b\b\b\b\b\b\b\b\b\b\b\b\b\b\b\b\b\b\b\b\b\b\b\b\b\b\b\b\b\b\b\b\b\b\b\b\b\b\b\b\b\b\b\b\b\b\b\b\b\b\b\b\b\b\b\b\b\b\b\b\b\b\b\b\b\b\b\b\r",
      "36/36 [==============================] - 0s 4ms/step - loss: 4.1093 - mae: 1.5015 - mse: 4.1093 - val_loss: 10.2133 - val_mae: 2.3160 - val_mse: 10.2133\n"
     ]
    },
    {
     "name": "stdout",
     "output_type": "stream",
     "text": [
      "Epoch 94/100\n",
      "\r",
      " 1/36 [..............................] - ETA: 0s - loss: 1.5280 - mae: 0.8573 - mse: 1.5280"
     ]
    },
    {
     "name": "stdout",
     "output_type": "stream",
     "text": [
      "\b\b\b\b\b\b\b\b\b\b\b\b\b\b\b\b\b\b\b\b\b\b\b\b\b\b\b\b\b\b\b\b\b\b\b\b\b\b\b\b\b\b\b\b\b\b\b\b\b\b\b\b\b\b\b\b\b\b\b\b\b\b\b\b\b\b\b\b\b\b\b\b\b\b\b\b\b\b\b\b\b\b\b\b\b\b\b\b\b\b\b\r",
      "33/36 [==========================>...] - ETA: 0s - loss: 4.0365 - mae: 1.4609 - mse: 4.0365"
     ]
    },
    {
     "name": "stdout",
     "output_type": "stream",
     "text": [
      "\b\b\b\b\b\b\b\b\b\b\b\b\b\b\b\b\b\b\b\b\b\b\b\b\b\b\b\b\b\b\b\b\b\b\b\b\b\b\b\b\b\b\b\b\b\b\b\b\b\b\b\b\b\b\b\b\b\b\b\b\b\b\b\b\b\b\b\b\b\b\b\b\b\b\b\b\b\b\b\b\b\b\b\b\b\b\b\b\b\b\b\r",
      "36/36 [==============================] - 0s 4ms/step - loss: 4.0767 - mae: 1.4691 - mse: 4.0767 - val_loss: 10.2056 - val_mae: 2.3780 - val_mse: 10.2056\n"
     ]
    },
    {
     "name": "stdout",
     "output_type": "stream",
     "text": [
      "Epoch 95/100\n",
      "\r",
      " 1/36 [..............................] - ETA: 0s - loss: 4.5629 - mae: 1.5756 - mse: 4.5629"
     ]
    },
    {
     "name": "stdout",
     "output_type": "stream",
     "text": [
      "\b\b\b\b\b\b\b\b\b\b\b\b\b\b\b\b\b\b\b\b\b\b\b\b\b\b\b\b\b\b\b\b\b\b\b\b\b\b\b\b\b\b\b\b\b\b\b\b\b\b\b\b\b\b\b\b\b\b\b\b\b\b\b\b\b\b\b\b\b\b\b\b\b\b\b\b\b\b\b\b\b\b\b\b\b\b\b\b\b\b\b\r",
      "33/36 [==========================>...] - ETA: 0s - loss: 3.8873 - mae: 1.4877 - mse: 3.8873"
     ]
    },
    {
     "name": "stdout",
     "output_type": "stream",
     "text": [
      "\b\b\b\b\b\b\b\b\b\b\b\b\b\b\b\b\b\b\b\b\b\b\b\b\b\b\b\b\b\b\b\b\b\b\b\b\b\b\b\b\b\b\b\b\b\b\b\b\b\b\b\b\b\b\b\b\b\b\b\b\b\b\b\b\b\b\b\b\b\b\b\b\b\b\b\b\b\b\b\b\b\b\b\b\b\b\b\b\b\b\b\r",
      "36/36 [==============================] - 0s 4ms/step - loss: 3.9396 - mae: 1.4890 - mse: 3.9396 - val_loss: 9.6103 - val_mae: 2.2735 - val_mse: 9.6103\n"
     ]
    },
    {
     "name": "stdout",
     "output_type": "stream",
     "text": [
      "Epoch 96/100\n",
      "\r",
      " 1/36 [..............................] - ETA: 0s - loss: 2.7845 - mae: 1.4086 - mse: 2.7845"
     ]
    },
    {
     "name": "stdout",
     "output_type": "stream",
     "text": [
      "\b\b\b\b\b\b\b\b\b\b\b\b\b\b\b\b\b\b\b\b\b\b\b\b\b\b\b\b\b\b\b\b\b\b\b\b\b\b\b\b\b\b\b\b\b\b\b\b\b\b\b\b\b\b\b\b\b\b\b\b\b\b\b\b\b\b\b\b\b\b\b\b\b\b\b\b\b\b\b\b\b\b\b\b\b\b\b\b\b\b\b\r",
      "33/36 [==========================>...] - ETA: 0s - loss: 3.5573 - mae: 1.4517 - mse: 3.5573"
     ]
    },
    {
     "name": "stdout",
     "output_type": "stream",
     "text": [
      "\b\b\b\b\b\b\b\b\b\b\b\b\b\b\b\b\b\b\b\b\b\b\b\b\b\b\b\b\b\b\b\b\b\b\b\b\b\b\b\b\b\b\b\b\b\b\b\b\b\b\b\b\b\b\b\b\b\b\b\b\b\b\b\b\b\b\b\b\b\b\b\b\b\b\b\b\b\b\b\b\b\b\b\b\b\b\b\b\b\b\b\r",
      "36/36 [==============================] - 0s 4ms/step - loss: 3.6334 - mae: 1.4583 - mse: 3.6334 - val_loss: 9.9200 - val_mae: 2.3324 - val_mse: 9.9200\n"
     ]
    },
    {
     "name": "stdout",
     "output_type": "stream",
     "text": [
      "Epoch 97/100\n",
      "\r",
      " 1/36 [..............................] - ETA: 0s - loss: 3.6348 - mae: 1.3828 - mse: 3.6348"
     ]
    },
    {
     "name": "stdout",
     "output_type": "stream",
     "text": [
      "\b\b\b\b\b\b\b\b\b\b\b\b\b\b\b\b\b\b\b\b\b\b\b\b\b\b\b\b\b\b\b\b\b\b\b\b\b\b\b\b\b\b\b\b\b\b\b\b\b\b\b\b\b\b\b\b\b\b\b\b\b\b\b\b\b\b\b\b\b\b\b\b\b\b\b\b\b\b\b\b\b\b\b\b\b\b\b\b\b\b\b\r",
      "33/36 [==========================>...] - ETA: 0s - loss: 3.5600 - mae: 1.3744 - mse: 3.5600"
     ]
    },
    {
     "name": "stdout",
     "output_type": "stream",
     "text": [
      "\b\b\b\b\b\b\b\b\b\b\b\b\b\b\b\b\b\b\b\b\b\b\b\b\b\b\b\b\b\b\b\b\b\b\b\b\b\b\b\b\b\b\b\b\b\b\b\b\b\b\b\b\b\b\b\b\b\b\b\b\b\b\b\b\b\b\b\b\b\b\b\b\b\b\b\b\b\b\b\b\b\b\b\b\b\b\b\b\b\b\b\r",
      "36/36 [==============================] - 0s 4ms/step - loss: 3.6402 - mae: 1.3870 - mse: 3.6402 - val_loss: 9.7711 - val_mae: 2.2834 - val_mse: 9.7711\n"
     ]
    },
    {
     "name": "stdout",
     "output_type": "stream",
     "text": [
      "Epoch 98/100\n",
      "\r",
      " 1/36 [..............................] - ETA: 0s - loss: 3.1237 - mae: 1.5199 - mse: 3.1237"
     ]
    },
    {
     "name": "stdout",
     "output_type": "stream",
     "text": [
      "\b\b\b\b\b\b\b\b\b\b\b\b\b\b\b\b\b\b\b\b\b\b\b\b\b\b\b\b\b\b\b\b\b\b\b\b\b\b\b\b\b\b\b\b\b\b\b\b\b\b\b\b\b\b\b\b\b\b\b\b\b\b\b\b\b\b\b\b\b\b\b\b\b\b\b\b\b\b\b\b\b\b\b\b\b\b\b\b\b\b\b\r",
      "33/36 [==========================>...] - ETA: 0s - loss: 4.4887 - mae: 1.5771 - mse: 4.4887"
     ]
    },
    {
     "name": "stdout",
     "output_type": "stream",
     "text": [
      "\b\b\b\b\b\b\b\b\b\b\b\b\b\b\b\b\b\b\b\b\b\b\b\b\b\b\b\b\b\b\b\b\b\b\b\b\b\b\b\b\b\b\b\b\b\b\b\b\b\b\b\b\b\b\b\b\b\b\b\b\b\b\b\b\b\b\b\b\b\b\b\b\b\b\b\b\b\b\b\b\b\b\b\b\b\b\b\b\b\b\b\r",
      "36/36 [==============================] - 0s 4ms/step - loss: 4.4480 - mae: 1.5691 - mse: 4.4480 - val_loss: 10.7803 - val_mae: 2.4217 - val_mse: 10.7803\n"
     ]
    },
    {
     "name": "stdout",
     "output_type": "stream",
     "text": [
      "Epoch 99/100\n",
      "\r",
      " 1/36 [..............................] - ETA: 0s - loss: 3.0721 - mae: 1.4835 - mse: 3.0721"
     ]
    },
    {
     "name": "stdout",
     "output_type": "stream",
     "text": [
      "\b\b\b\b\b\b\b\b\b\b\b\b\b\b\b\b\b\b\b\b\b\b\b\b\b\b\b\b\b\b\b\b\b\b\b\b\b\b\b\b\b\b\b\b\b\b\b\b\b\b\b\b\b\b\b\b\b\b\b\b\b\b\b\b\b\b\b\b\b\b\b\b\b\b\b\b\b\b\b\b\b\b\b\b\b\b\b\b\b\b\b\r",
      "33/36 [==========================>...] - ETA: 0s - loss: 5.4807 - mae: 1.6019 - mse: 5.4807"
     ]
    },
    {
     "name": "stdout",
     "output_type": "stream",
     "text": [
      "\b\b\b\b\b\b\b\b\b\b\b\b\b\b\b\b\b\b\b\b\b\b\b\b\b\b\b\b\b\b\b\b\b\b\b\b\b\b\b\b\b\b\b\b\b\b\b\b\b\b\b\b\b\b\b\b\b\b\b\b\b\b\b\b\b\b\b\b\b\b\b\b\b\b\b\b\b\b\b\b\b\b\b\b\b\b\b\b\b\b\b\r",
      "36/36 [==============================] - 0s 4ms/step - loss: 5.3517 - mae: 1.5898 - mse: 5.3517 - val_loss: 9.5158 - val_mae: 2.2703 - val_mse: 9.5158\n"
     ]
    },
    {
     "name": "stdout",
     "output_type": "stream",
     "text": [
      "Epoch 100/100\n",
      "\r",
      " 1/36 [..............................] - ETA: 0s - loss: 0.7394 - mae: 0.7038 - mse: 0.7394"
     ]
    },
    {
     "name": "stdout",
     "output_type": "stream",
     "text": [
      "\b\b\b\b\b\b\b\b\b\b\b\b\b\b\b\b\b\b\b\b\b\b\b\b\b\b\b\b\b\b\b\b\b\b\b\b\b\b\b\b\b\b\b\b\b\b\b\b\b\b\b\b\b\b\b\b\b\b\b\b\b\b\b\b\b\b\b\b\b\b\b\b\b\b\b\b\b\b\b\b\b\b\b\b\b\b\b\b\b\b\b\r",
      "33/36 [==========================>...] - ETA: 0s - loss: 3.4165 - mae: 1.3382 - mse: 3.4165"
     ]
    },
    {
     "name": "stdout",
     "output_type": "stream",
     "text": [
      "\b\b\b\b\b\b\b\b\b\b\b\b\b\b\b\b\b\b\b\b\b\b\b\b\b\b\b\b\b\b\b\b\b\b\b\b\b\b\b\b\b\b\b\b\b\b\b\b\b\b\b\b\b\b\b\b\b\b\b\b\b\b\b\b\b\b\b\b\b\b\b\b\b\b\b\b\b\b\b\b\b\b\b\b\b\b\b\b\b\b\b\r",
      "36/36 [==============================] - 0s 4ms/step - loss: 3.5067 - mae: 1.3559 - mse: 3.5067 - val_loss: 10.6235 - val_mae: 2.3723 - val_mse: 10.6235\n"
     ]
    }
   ],
   "source": [
    "history = model.fit(x_train,\n",
    "                    y_train,\n",
    "                    epochs          = 100,\n",
    "                    batch_size      = 10,\n",
    "                    verbose         = 1,\n",
    "                    validation_data = (x_test, y_test),\n",
    "                    callbacks       = [savemodel_callback])"
   ]
  },
  {
   "cell_type": "markdown",
   "metadata": {},
   "source": [
    "## Step 6 - Evaluate\n",
    "### 6.1 - Model evaluation\n",
    "MAE =  Mean Absolute Error (between the labels and predictions)  \n",
    "A mae equal to 3 represents an average error in prediction of $3k."
   ]
  },
  {
   "cell_type": "code",
   "execution_count": 10,
   "metadata": {
    "execution": {
     "iopub.execute_input": "2021-03-01T17:41:51.023631Z",
     "iopub.status.busy": "2021-03-01T17:41:51.023156Z",
     "iopub.status.idle": "2021-03-01T17:41:51.102915Z",
     "shell.execute_reply": "2021-03-01T17:41:51.103404Z"
    }
   },
   "outputs": [
    {
     "name": "stdout",
     "output_type": "stream",
     "text": [
      "x_test / loss      : 10.6235\n",
      "x_test / mae       : 2.3723\n",
      "x_test / mse       : 10.6235\n"
     ]
    }
   ],
   "source": [
    "score = model.evaluate(x_test, y_test, verbose=0)\n",
    "\n",
    "print('x_test / loss      : {:5.4f}'.format(score[0]))\n",
    "print('x_test / mae       : {:5.4f}'.format(score[1]))\n",
    "print('x_test / mse       : {:5.4f}'.format(score[2]))"
   ]
  },
  {
   "cell_type": "markdown",
   "metadata": {},
   "source": [
    "### 6.2 - Training history\n",
    "What was the best result during our training ?"
   ]
  },
  {
   "cell_type": "code",
   "execution_count": 11,
   "metadata": {
    "execution": {
     "iopub.execute_input": "2021-03-01T17:41:51.106956Z",
     "iopub.status.busy": "2021-03-01T17:41:51.106480Z",
     "iopub.status.idle": "2021-03-01T17:41:51.108543Z",
     "shell.execute_reply": "2021-03-01T17:41:51.109028Z"
    }
   },
   "outputs": [
    {
     "name": "stdout",
     "output_type": "stream",
     "text": [
      "min( val_mae ) : 2.2430\n"
     ]
    }
   ],
   "source": [
    "print(\"min( val_mae ) : {:.4f}\".format( min(history.history[\"val_mae\"]) ) )"
   ]
  },
  {
   "cell_type": "code",
   "execution_count": 12,
   "metadata": {
    "execution": {
     "iopub.execute_input": "2021-03-01T17:41:51.124638Z",
     "iopub.status.busy": "2021-03-01T17:41:51.119781Z",
     "iopub.status.idle": "2021-03-01T17:41:52.877772Z",
     "shell.execute_reply": "2021-03-01T17:41:52.878275Z"
    }
   },
   "outputs": [
    {
     "data": {
      "text/html": [
       "<div class=\"comment\">Saved: ./run/figs/BHPD2-01-history_0</div>"
      ],
      "text/plain": [
       "<IPython.core.display.HTML object>"
      ]
     },
     "metadata": {},
     "output_type": "display_data"
    },
    {
     "data": {
      "image/png": "[encoded data removed]",
      "text/plain": [
       "<Figure size 576x432 with 1 Axes>"
      ]
     },
     "metadata": {
      "needs_background": "light"
     },
     "output_type": "display_data"
    },
    {
     "data": {
      "text/html": [
       "<div class=\"comment\">Saved: ./run/figs/BHPD2-01-history_1</div>"
      ],
      "text/plain": [
       "<IPython.core.display.HTML object>"
      ]
     },
     "metadata": {},
     "output_type": "display_data"
    },
    {
     "data": {
      "image/png": "[encoded data removed]",
      "text/plain": [
       "<Figure size 576x432 with 1 Axes>"
      ]
     },
     "metadata": {
      "needs_background": "light"
     },
     "output_type": "display_data"
    },
    {
     "data": {
      "text/html": [
       "<div class=\"comment\">Saved: ./run/figs/BHPD2-01-history_2</div>"
      ],
      "text/plain": [
       "<IPython.core.display.HTML object>"
      ]
     },
     "metadata": {},
     "output_type": "display_data"
    },
    {
     "data": {
      "image/png": "[encoded data removed]",
      "text/plain": [
       "<Figure size 576x432 with 1 Axes>"
      ]
     },
     "metadata": {
      "needs_background": "light"
     },
     "output_type": "display_data"
    }
   ],
   "source": [
    "pwk.plot_history(history, plot={'MSE' :['mse', 'val_mse'],\n",
    "                                'MAE' :['mae', 'val_mae'],\n",
    "                                'LOSS':['loss','val_loss']}, save_as='01-history')"
   ]
  },
  {
   "cell_type": "markdown",
   "metadata": {},
   "source": [
    "## Step 7 - Restore a model :"
   ]
  },
  {
   "cell_type": "markdown",
   "metadata": {},
   "source": [
    "### 7.1 - Reload model"
   ]
  },
  {
   "cell_type": "code",
   "execution_count": 13,
   "metadata": {
    "execution": {
     "iopub.execute_input": "2021-03-01T17:41:52.881755Z",
     "iopub.status.busy": "2021-03-01T17:41:52.881282Z",
     "iopub.status.idle": "2021-03-01T17:41:52.948210Z",
     "shell.execute_reply": "2021-03-01T17:41:52.948689Z"
    }
   },
   "outputs": [
    {
     "name": "stdout",
     "output_type": "stream",
     "text": [
      "Model: \"sequential\"\n",
      "_________________________________________________________________\n",
      "Layer (type)                 Output Shape              Param #   \n",
      "=================================================================\n",
      "Dense_n1 (Dense)             (None, 64)                896       \n",
      "_________________________________________________________________\n",
      "Dense_n2 (Dense)             (None, 64)                4160      \n",
      "_________________________________________________________________\n",
      "Output (Dense)               (None, 1)                 65        \n",
      "=================================================================\n",
      "Total params: 5,121\n",
      "Trainable params: 5,121\n",
      "Non-trainable params: 0\n",
      "_________________________________________________________________\n",
      "Loaded.\n"
     ]
    }
   ],
   "source": [
    "loaded_model = tf.keras.models.load_model('./run/models/best_model.h5')\n",
    "loaded_model.summary()\n",
    "print(\"Loaded.\")"
   ]
  },
  {
   "cell_type": "markdown",
   "metadata": {},
   "source": [
    "### 7.2 - Evaluate it :"
   ]
  },
  {
   "cell_type": "code",
   "execution_count": 14,
   "metadata": {
    "execution": {
     "iopub.execute_input": "2021-03-01T17:41:52.952623Z",
     "iopub.status.busy": "2021-03-01T17:41:52.952147Z",
     "iopub.status.idle": "2021-03-01T17:41:53.215437Z",
     "shell.execute_reply": "2021-03-01T17:41:53.215930Z"
    }
   },
   "outputs": [
    {
     "name": "stdout",
     "output_type": "stream",
     "text": [
      "x_test / loss      : 9.0303\n",
      "x_test / mae       : 2.2857\n",
      "x_test / mse       : 9.0303\n"
     ]
    }
   ],
   "source": [
    "score = loaded_model.evaluate(x_test, y_test, verbose=0)\n",
    "\n",
    "print('x_test / loss      : {:5.4f}'.format(score[0]))\n",
    "print('x_test / mae       : {:5.4f}'.format(score[1]))\n",
    "print('x_test / mse       : {:5.4f}'.format(score[2]))"
   ]
  },
  {
   "cell_type": "markdown",
   "metadata": {},
   "source": [
    "### 7.3 - Make a prediction"
   ]
  },
  {
   "cell_type": "code",
   "execution_count": 15,
   "metadata": {
    "execution": {
     "iopub.execute_input": "2021-03-01T17:41:53.220122Z",
     "iopub.status.busy": "2021-03-01T17:41:53.219647Z",
     "iopub.status.idle": "2021-03-01T17:41:53.221345Z",
     "shell.execute_reply": "2021-03-01T17:41:53.221813Z"
    }
   },
   "outputs": [],
   "source": [
    "my_data = [ 1.26425925, -0.48522739,  1.0436489 , -0.23112788,  1.37120745,\n",
    "       -2.14308942,  1.13489104, -1.06802005,  1.71189006,  1.57042287,\n",
    "        0.77859951,  0.14769795,  2.7585581 ]\n",
    "real_price = 10.4\n",
    "\n",
    "my_data=np.array(my_data).reshape(1,13)"
   ]
  },
  {
   "cell_type": "code",
   "execution_count": 16,
   "metadata": {
    "execution": {
     "iopub.execute_input": "2021-03-01T17:41:53.225136Z",
     "iopub.status.busy": "2021-03-01T17:41:53.224661Z",
     "iopub.status.idle": "2021-03-01T17:41:53.376894Z",
     "shell.execute_reply": "2021-03-01T17:41:53.377378Z"
    }
   },
   "outputs": [
    {
     "name": "stdout",
     "output_type": "stream",
     "text": [
      "Prediction : 11.37 K$   Reality : 10.40 K$\n"
     ]
    }
   ],
   "source": [
    "predictions = loaded_model.predict( my_data )\n",
    "print(\"Prediction : {:.2f} K$   Reality : {:.2f} K$\".format(predictions[0][0], real_price))"
   ]
  },
  {
   "cell_type": "code",
   "execution_count": 17,
   "metadata": {
    "execution": {
     "iopub.execute_input": "2021-03-01T17:41:53.380641Z",
     "iopub.status.busy": "2021-03-01T17:41:53.380174Z",
     "iopub.status.idle": "2021-03-01T17:41:53.382470Z",
     "shell.execute_reply": "2021-03-01T17:41:53.382953Z"
    }
   },
   "outputs": [
    {
     "name": "stdout",
     "output_type": "stream",
     "text": [
      "End time is : Monday 01 March 2021, 18:41:53\n",
      "Duration is : 00:00:20 344ms\n",
      "This notebook ends here\n"
     ]
    }
   ],
   "source": [
    "pwk.end()"
   ]
  },
  {
   "cell_type": "markdown",
   "metadata": {},
   "source": [
    "---\n",
    "<img width=\"80px\" src=\"../fidle/img/00-Fidle-logo-01.svg\"></img>"
   ]
  }
 ],
 "metadata": {
  "kernelspec": {
   "display_name": "Python 3",
   "language": "python",
   "name": "python3"
  },
  "language_info": {
   "codemirror_mode": {
    "name": "ipython",
    "version": 3
   },
   "file_extension": ".py",
   "mimetype": "text/x-python",
   "name": "python",
   "nbconvert_exporter": "python",
   "pygments_lexer": "ipython3",
   "version": "3.7.9"
  }
 },
 "nbformat": 4,
 "nbformat_minor": 4
}
