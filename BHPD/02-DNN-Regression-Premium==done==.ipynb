{
 "cells": [
  {
   "cell_type": "markdown",
   "metadata": {},
   "source": [
    "<img width=\"800px\" src=\"../fidle/img/00-Fidle-header-01.svg\"></img>\n",
    "\n",
    "# <!-- TITLE --> [BHPD2] - Regression with a Dense Network (DNN) - Advanced code\n",
    "  <!-- DESC -->  A more advanced implementation of the precedent example\n",
    "  <!-- AUTHOR : Jean-Luc Parouty (CNRS/SIMaP) -->\n",
    "\n",
    "## Objectives :\n",
    " - Predicts **housing prices** from a set of house features. \n",
    " - Understanding the principle and the architecture of a regression with a dense neural network with backup and restore of the trained model. \n",
    "\n",
    "The **[Boston Housing Prices Dataset](https://www.cs.toronto.edu/~delve/data/boston/bostonDetail.html)** consists of price of houses in various places in Boston.  \n",
    "Alongside with price, the dataset also provide these information :\n",
    "\n",
    " - CRIM: This is the per capita crime rate by town\n",
    " - ZN: This is the proportion of residential land zoned for lots larger than 25,000 sq.ft\n",
    " - INDUS: This is the proportion of non-retail business acres per town\n",
    " - CHAS: This is the Charles River dummy variable (this is equal to 1 if tract bounds river; 0 otherwise)\n",
    " - NOX: This is the nitric oxides concentration (parts per 10 million)\n",
    " - RM: This is the average number of rooms per dwelling\n",
    " - AGE: This is the proportion of owner-occupied units built prior to 1940\n",
    " - DIS: This is the weighted distances to five Boston employment centers\n",
    " - RAD: This is the index of accessibility to radial highways\n",
    " - TAX: This is the full-value property-tax rate per 10,000 dollars\n",
    " - PTRATIO: This is the pupil-teacher ratio by town\n",
    " - B: This is calculated as 1000(Bk — 0.63)^2, where Bk is the proportion of people of African American descent by town\n",
    " - LSTAT: This is the percentage lower status of the population\n",
    " - MEDV: This is the median value of owner-occupied homes in 1000 dollars\n",
    "\n",
    "## What we're going to do :\n",
    "\n",
    " - (Retrieve data)\n",
    " - (Preparing the data)\n",
    " - (Build a model)\n",
    " - Train and save the model\n",
    " - Restore saved model\n",
    " - Evaluate the model\n",
    " - Make some predictions\n"
   ]
  },
  {
   "cell_type": "markdown",
   "metadata": {},
   "source": [
    "## Step 1 - Import and init"
   ]
  },
  {
   "cell_type": "code",
   "execution_count": 1,
   "metadata": {
    "execution": {
     "iopub.execute_input": "2021-02-10T08:09:38.507401Z",
     "iopub.status.busy": "2021-02-10T08:09:38.506928Z",
     "iopub.status.idle": "2021-02-10T08:09:41.098039Z",
     "shell.execute_reply": "2021-02-10T08:09:41.098529Z"
    }
   },
   "outputs": [
    {
     "data": {
      "text/html": [
       "<style>\n",
       "\n",
       "div.warn {    \n",
       "    background-color: #fcf2f2;\n",
       "    border-color: #dFb5b4;\n",
       "    border-left: 5px solid #dfb5b4;\n",
       "    padding: 0.5em;\n",
       "    font-weight: bold;\n",
       "    font-size: 1.1em;;\n",
       "    }\n",
       "\n",
       "\n",
       "\n",
       "div.nota {    \n",
       "    background-color: #DAFFDE;\n",
       "    border-left: 5px solid #92CC99;\n",
       "    padding: 0.5em;\n",
       "    }\n",
       "\n",
       "div.todo:before { content:url(data:image/svg+xml;base64,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);\n",
       "    float:left;\n",
       "    margin-right:20px;\n",
       "    margin-top:-20px;\n",
       "    margin-bottom:20px;\n",
       "}\n",
       "div.todo{\n",
       "    font-weight: bold;\n",
       "    font-size: 1.1em;\n",
       "    margin-top:40px;\n",
       "}\n",
       "div.todo ul{\n",
       "    margin: 0.2em;\n",
       "}\n",
       "div.todo li{\n",
       "    margin-left:60px;\n",
       "    margin-top:0;\n",
       "    margin-bottom:0;\n",
       "}\n",
       "\n",
       "div .comment{\n",
       "    font-size:0.8em;\n",
       "    color:#696969;\n",
       "}\n",
       "\n",
       "\n",
       "\n",
       "</style>\n",
       "\n"
      ],
      "text/plain": [
       "<IPython.core.display.HTML object>"
      ]
     },
     "metadata": {},
     "output_type": "display_data"
    },
    {
     "data": {
      "text/markdown": [
       "<br>**FIDLE 2020 - Practical Work Module**"
      ],
      "text/plain": [
       "<IPython.core.display.Markdown object>"
      ]
     },
     "metadata": {},
     "output_type": "display_data"
    },
    {
     "name": "stdout",
     "output_type": "stream",
     "text": [
      "Version              : 2.0.14\n",
      "Notebook id          : BHPD2\n",
      "Run time             : Wednesday 10 February 2021, 09:09:41\n",
      "TensorFlow version   : 2.4.0\n",
      "Keras version        : 2.4.0\n",
      "Datasets dir         : /gpfswork/rech/mlh/uja62cb/datasets\n",
      "Run dir              : ./run\n",
      "Update keras cache   : False\n",
      "Save figs            : True\n",
      "Path figs            : ./run/figs\n"
     ]
    }
   ],
   "source": [
    "import tensorflow as tf\n",
    "from tensorflow import keras\n",
    "\n",
    "import numpy as np\n",
    "import matplotlib.pyplot as plt\n",
    "import pandas as pd\n",
    "import os,sys\n",
    "\n",
    "from IPython.display import Markdown\n",
    "from importlib import reload\n",
    "\n",
    "sys.path.append('..')\n",
    "import fidle.pwk as pwk\n",
    "\n",
    "datasets_dir = pwk.init('BHPD2')"
   ]
  },
  {
   "cell_type": "markdown",
   "metadata": {},
   "source": [
    "## Step 2 - Retrieve data\n",
    "\n",
    "### 2.1 - Option 1  : From Keras\n",
    "Boston housing is a famous historic dataset, so we can get it directly from [Keras datasets](https://www.tensorflow.org/api_docs/python/tf/keras/datasets)  "
   ]
  },
  {
   "cell_type": "code",
   "execution_count": 2,
   "metadata": {
    "execution": {
     "iopub.execute_input": "2021-02-10T08:09:41.101739Z",
     "iopub.status.busy": "2021-02-10T08:09:41.101267Z",
     "iopub.status.idle": "2021-02-10T08:09:41.102888Z",
     "shell.execute_reply": "2021-02-10T08:09:41.103356Z"
    }
   },
   "outputs": [],
   "source": [
    "# (x_train, y_train), (x_test, y_test) = keras.datasets.boston_housing.load_data(test_split=0.2, seed=113)"
   ]
  },
  {
   "cell_type": "markdown",
   "metadata": {},
   "source": [
    "### 2.2 - Option 2 : From a csv file\n",
    "More fun !"
   ]
  },
  {
   "cell_type": "code",
   "execution_count": 3,
   "metadata": {
    "execution": {
     "iopub.execute_input": "2021-02-10T08:09:41.107162Z",
     "iopub.status.busy": "2021-02-10T08:09:41.106699Z",
     "iopub.status.idle": "2021-02-10T08:09:41.199266Z",
     "shell.execute_reply": "2021-02-10T08:09:41.199750Z"
    }
   },
   "outputs": [
    {
     "data": {
      "text/html": [
       "<style  type=\"text/css\" >\n",
       "</style><table id=\"T_53899ac6_6b77_11eb_a4bd_0cc47af60e5b\" ><thead>    <tr>        <th class=\"blank level0\" ></th>        <th class=\"col_heading level0 col0\" >crim</th>        <th class=\"col_heading level0 col1\" >zn</th>        <th class=\"col_heading level0 col2\" >indus</th>        <th class=\"col_heading level0 col3\" >chas</th>        <th class=\"col_heading level0 col4\" >nox</th>        <th class=\"col_heading level0 col5\" >rm</th>        <th class=\"col_heading level0 col6\" >age</th>        <th class=\"col_heading level0 col7\" >dis</th>        <th class=\"col_heading level0 col8\" >rad</th>        <th class=\"col_heading level0 col9\" >tax</th>        <th class=\"col_heading level0 col10\" >ptratio</th>        <th class=\"col_heading level0 col11\" >b</th>        <th class=\"col_heading level0 col12\" >lstat</th>        <th class=\"col_heading level0 col13\" >medv</th>    </tr></thead><tbody>\n",
       "                <tr>\n",
       "                        <th id=\"T_53899ac6_6b77_11eb_a4bd_0cc47af60e5blevel0_row0\" class=\"row_heading level0 row0\" >0</th>\n",
       "                        <td id=\"T_53899ac6_6b77_11eb_a4bd_0cc47af60e5brow0_col0\" class=\"data row0 col0\" >0.01</td>\n",
       "                        <td id=\"T_53899ac6_6b77_11eb_a4bd_0cc47af60e5brow0_col1\" class=\"data row0 col1\" >18.00</td>\n",
       "                        <td id=\"T_53899ac6_6b77_11eb_a4bd_0cc47af60e5brow0_col2\" class=\"data row0 col2\" >2.31</td>\n",
       "                        <td id=\"T_53899ac6_6b77_11eb_a4bd_0cc47af60e5brow0_col3\" class=\"data row0 col3\" >0.00</td>\n",
       "                        <td id=\"T_53899ac6_6b77_11eb_a4bd_0cc47af60e5brow0_col4\" class=\"data row0 col4\" >0.54</td>\n",
       "                        <td id=\"T_53899ac6_6b77_11eb_a4bd_0cc47af60e5brow0_col5\" class=\"data row0 col5\" >6.58</td>\n",
       "                        <td id=\"T_53899ac6_6b77_11eb_a4bd_0cc47af60e5brow0_col6\" class=\"data row0 col6\" >65.20</td>\n",
       "                        <td id=\"T_53899ac6_6b77_11eb_a4bd_0cc47af60e5brow0_col7\" class=\"data row0 col7\" >4.09</td>\n",
       "                        <td id=\"T_53899ac6_6b77_11eb_a4bd_0cc47af60e5brow0_col8\" class=\"data row0 col8\" >1.00</td>\n",
       "                        <td id=\"T_53899ac6_6b77_11eb_a4bd_0cc47af60e5brow0_col9\" class=\"data row0 col9\" >296.00</td>\n",
       "                        <td id=\"T_53899ac6_6b77_11eb_a4bd_0cc47af60e5brow0_col10\" class=\"data row0 col10\" >15.30</td>\n",
       "                        <td id=\"T_53899ac6_6b77_11eb_a4bd_0cc47af60e5brow0_col11\" class=\"data row0 col11\" >396.90</td>\n",
       "                        <td id=\"T_53899ac6_6b77_11eb_a4bd_0cc47af60e5brow0_col12\" class=\"data row0 col12\" >4.98</td>\n",
       "                        <td id=\"T_53899ac6_6b77_11eb_a4bd_0cc47af60e5brow0_col13\" class=\"data row0 col13\" >24.00</td>\n",
       "            </tr>\n",
       "            <tr>\n",
       "                        <th id=\"T_53899ac6_6b77_11eb_a4bd_0cc47af60e5blevel0_row1\" class=\"row_heading level0 row1\" >1</th>\n",
       "                        <td id=\"T_53899ac6_6b77_11eb_a4bd_0cc47af60e5brow1_col0\" class=\"data row1 col0\" >0.03</td>\n",
       "                        <td id=\"T_53899ac6_6b77_11eb_a4bd_0cc47af60e5brow1_col1\" class=\"data row1 col1\" >0.00</td>\n",
       "                        <td id=\"T_53899ac6_6b77_11eb_a4bd_0cc47af60e5brow1_col2\" class=\"data row1 col2\" >7.07</td>\n",
       "                        <td id=\"T_53899ac6_6b77_11eb_a4bd_0cc47af60e5brow1_col3\" class=\"data row1 col3\" >0.00</td>\n",
       "                        <td id=\"T_53899ac6_6b77_11eb_a4bd_0cc47af60e5brow1_col4\" class=\"data row1 col4\" >0.47</td>\n",
       "                        <td id=\"T_53899ac6_6b77_11eb_a4bd_0cc47af60e5brow1_col5\" class=\"data row1 col5\" >6.42</td>\n",
       "                        <td id=\"T_53899ac6_6b77_11eb_a4bd_0cc47af60e5brow1_col6\" class=\"data row1 col6\" >78.90</td>\n",
       "                        <td id=\"T_53899ac6_6b77_11eb_a4bd_0cc47af60e5brow1_col7\" class=\"data row1 col7\" >4.97</td>\n",
       "                        <td id=\"T_53899ac6_6b77_11eb_a4bd_0cc47af60e5brow1_col8\" class=\"data row1 col8\" >2.00</td>\n",
       "                        <td id=\"T_53899ac6_6b77_11eb_a4bd_0cc47af60e5brow1_col9\" class=\"data row1 col9\" >242.00</td>\n",
       "                        <td id=\"T_53899ac6_6b77_11eb_a4bd_0cc47af60e5brow1_col10\" class=\"data row1 col10\" >17.80</td>\n",
       "                        <td id=\"T_53899ac6_6b77_11eb_a4bd_0cc47af60e5brow1_col11\" class=\"data row1 col11\" >396.90</td>\n",
       "                        <td id=\"T_53899ac6_6b77_11eb_a4bd_0cc47af60e5brow1_col12\" class=\"data row1 col12\" >9.14</td>\n",
       "                        <td id=\"T_53899ac6_6b77_11eb_a4bd_0cc47af60e5brow1_col13\" class=\"data row1 col13\" >21.60</td>\n",
       "            </tr>\n",
       "            <tr>\n",
       "                        <th id=\"T_53899ac6_6b77_11eb_a4bd_0cc47af60e5blevel0_row2\" class=\"row_heading level0 row2\" >2</th>\n",
       "                        <td id=\"T_53899ac6_6b77_11eb_a4bd_0cc47af60e5brow2_col0\" class=\"data row2 col0\" >0.03</td>\n",
       "                        <td id=\"T_53899ac6_6b77_11eb_a4bd_0cc47af60e5brow2_col1\" class=\"data row2 col1\" >0.00</td>\n",
       "                        <td id=\"T_53899ac6_6b77_11eb_a4bd_0cc47af60e5brow2_col2\" class=\"data row2 col2\" >7.07</td>\n",
       "                        <td id=\"T_53899ac6_6b77_11eb_a4bd_0cc47af60e5brow2_col3\" class=\"data row2 col3\" >0.00</td>\n",
       "                        <td id=\"T_53899ac6_6b77_11eb_a4bd_0cc47af60e5brow2_col4\" class=\"data row2 col4\" >0.47</td>\n",
       "                        <td id=\"T_53899ac6_6b77_11eb_a4bd_0cc47af60e5brow2_col5\" class=\"data row2 col5\" >7.18</td>\n",
       "                        <td id=\"T_53899ac6_6b77_11eb_a4bd_0cc47af60e5brow2_col6\" class=\"data row2 col6\" >61.10</td>\n",
       "                        <td id=\"T_53899ac6_6b77_11eb_a4bd_0cc47af60e5brow2_col7\" class=\"data row2 col7\" >4.97</td>\n",
       "                        <td id=\"T_53899ac6_6b77_11eb_a4bd_0cc47af60e5brow2_col8\" class=\"data row2 col8\" >2.00</td>\n",
       "                        <td id=\"T_53899ac6_6b77_11eb_a4bd_0cc47af60e5brow2_col9\" class=\"data row2 col9\" >242.00</td>\n",
       "                        <td id=\"T_53899ac6_6b77_11eb_a4bd_0cc47af60e5brow2_col10\" class=\"data row2 col10\" >17.80</td>\n",
       "                        <td id=\"T_53899ac6_6b77_11eb_a4bd_0cc47af60e5brow2_col11\" class=\"data row2 col11\" >392.83</td>\n",
       "                        <td id=\"T_53899ac6_6b77_11eb_a4bd_0cc47af60e5brow2_col12\" class=\"data row2 col12\" >4.03</td>\n",
       "                        <td id=\"T_53899ac6_6b77_11eb_a4bd_0cc47af60e5brow2_col13\" class=\"data row2 col13\" >34.70</td>\n",
       "            </tr>\n",
       "            <tr>\n",
       "                        <th id=\"T_53899ac6_6b77_11eb_a4bd_0cc47af60e5blevel0_row3\" class=\"row_heading level0 row3\" >3</th>\n",
       "                        <td id=\"T_53899ac6_6b77_11eb_a4bd_0cc47af60e5brow3_col0\" class=\"data row3 col0\" >0.03</td>\n",
       "                        <td id=\"T_53899ac6_6b77_11eb_a4bd_0cc47af60e5brow3_col1\" class=\"data row3 col1\" >0.00</td>\n",
       "                        <td id=\"T_53899ac6_6b77_11eb_a4bd_0cc47af60e5brow3_col2\" class=\"data row3 col2\" >2.18</td>\n",
       "                        <td id=\"T_53899ac6_6b77_11eb_a4bd_0cc47af60e5brow3_col3\" class=\"data row3 col3\" >0.00</td>\n",
       "                        <td id=\"T_53899ac6_6b77_11eb_a4bd_0cc47af60e5brow3_col4\" class=\"data row3 col4\" >0.46</td>\n",
       "                        <td id=\"T_53899ac6_6b77_11eb_a4bd_0cc47af60e5brow3_col5\" class=\"data row3 col5\" >7.00</td>\n",
       "                        <td id=\"T_53899ac6_6b77_11eb_a4bd_0cc47af60e5brow3_col6\" class=\"data row3 col6\" >45.80</td>\n",
       "                        <td id=\"T_53899ac6_6b77_11eb_a4bd_0cc47af60e5brow3_col7\" class=\"data row3 col7\" >6.06</td>\n",
       "                        <td id=\"T_53899ac6_6b77_11eb_a4bd_0cc47af60e5brow3_col8\" class=\"data row3 col8\" >3.00</td>\n",
       "                        <td id=\"T_53899ac6_6b77_11eb_a4bd_0cc47af60e5brow3_col9\" class=\"data row3 col9\" >222.00</td>\n",
       "                        <td id=\"T_53899ac6_6b77_11eb_a4bd_0cc47af60e5brow3_col10\" class=\"data row3 col10\" >18.70</td>\n",
       "                        <td id=\"T_53899ac6_6b77_11eb_a4bd_0cc47af60e5brow3_col11\" class=\"data row3 col11\" >394.63</td>\n",
       "                        <td id=\"T_53899ac6_6b77_11eb_a4bd_0cc47af60e5brow3_col12\" class=\"data row3 col12\" >2.94</td>\n",
       "                        <td id=\"T_53899ac6_6b77_11eb_a4bd_0cc47af60e5brow3_col13\" class=\"data row3 col13\" >33.40</td>\n",
       "            </tr>\n",
       "            <tr>\n",
       "                        <th id=\"T_53899ac6_6b77_11eb_a4bd_0cc47af60e5blevel0_row4\" class=\"row_heading level0 row4\" >4</th>\n",
       "                        <td id=\"T_53899ac6_6b77_11eb_a4bd_0cc47af60e5brow4_col0\" class=\"data row4 col0\" >0.07</td>\n",
       "                        <td id=\"T_53899ac6_6b77_11eb_a4bd_0cc47af60e5brow4_col1\" class=\"data row4 col1\" >0.00</td>\n",
       "                        <td id=\"T_53899ac6_6b77_11eb_a4bd_0cc47af60e5brow4_col2\" class=\"data row4 col2\" >2.18</td>\n",
       "                        <td id=\"T_53899ac6_6b77_11eb_a4bd_0cc47af60e5brow4_col3\" class=\"data row4 col3\" >0.00</td>\n",
       "                        <td id=\"T_53899ac6_6b77_11eb_a4bd_0cc47af60e5brow4_col4\" class=\"data row4 col4\" >0.46</td>\n",
       "                        <td id=\"T_53899ac6_6b77_11eb_a4bd_0cc47af60e5brow4_col5\" class=\"data row4 col5\" >7.15</td>\n",
       "                        <td id=\"T_53899ac6_6b77_11eb_a4bd_0cc47af60e5brow4_col6\" class=\"data row4 col6\" >54.20</td>\n",
       "                        <td id=\"T_53899ac6_6b77_11eb_a4bd_0cc47af60e5brow4_col7\" class=\"data row4 col7\" >6.06</td>\n",
       "                        <td id=\"T_53899ac6_6b77_11eb_a4bd_0cc47af60e5brow4_col8\" class=\"data row4 col8\" >3.00</td>\n",
       "                        <td id=\"T_53899ac6_6b77_11eb_a4bd_0cc47af60e5brow4_col9\" class=\"data row4 col9\" >222.00</td>\n",
       "                        <td id=\"T_53899ac6_6b77_11eb_a4bd_0cc47af60e5brow4_col10\" class=\"data row4 col10\" >18.70</td>\n",
       "                        <td id=\"T_53899ac6_6b77_11eb_a4bd_0cc47af60e5brow4_col11\" class=\"data row4 col11\" >396.90</td>\n",
       "                        <td id=\"T_53899ac6_6b77_11eb_a4bd_0cc47af60e5brow4_col12\" class=\"data row4 col12\" >5.33</td>\n",
       "                        <td id=\"T_53899ac6_6b77_11eb_a4bd_0cc47af60e5brow4_col13\" class=\"data row4 col13\" >36.20</td>\n",
       "            </tr>\n",
       "    </tbody></table>"
      ],
      "text/plain": [
       "<pandas.io.formats.style.Styler at 0x14c9595926d0>"
      ]
     },
     "metadata": {},
     "output_type": "display_data"
    },
    {
     "name": "stdout",
     "output_type": "stream",
     "text": [
      "Missing Data :  0   Shape is :  (506, 14)\n"
     ]
    }
   ],
   "source": [
    "data = pd.read_csv(f'{datasets_dir}/BHPD/origine/BostonHousing.csv', header=0)\n",
    "\n",
    "display(data.head(5).style.format(\"{0:.2f}\"))\n",
    "print('Missing Data : ',data.isna().sum().sum(), '  Shape is : ', data.shape)"
   ]
  },
  {
   "cell_type": "markdown",
   "metadata": {},
   "source": [
    "## Step 3 - Preparing the data\n",
    "### 3.1 - Split data\n",
    "We will use 80% of the data for training and 20% for validation.  \n",
    "x will be input data and y the expected output"
   ]
  },
  {
   "cell_type": "code",
   "execution_count": 4,
   "metadata": {
    "execution": {
     "iopub.execute_input": "2021-02-10T08:09:41.208776Z",
     "iopub.status.busy": "2021-02-10T08:09:41.208296Z",
     "iopub.status.idle": "2021-02-10T08:09:41.211383Z",
     "shell.execute_reply": "2021-02-10T08:09:41.210900Z"
    }
   },
   "outputs": [
    {
     "name": "stdout",
     "output_type": "stream",
     "text": [
      "Original data shape was :  (506, 14)\n",
      "x_train :  (354, 13) y_train :  (354,)\n",
      "x_test  :  (152, 13) y_test  :  (152,)\n"
     ]
    }
   ],
   "source": [
    "# ---- Split => train, test\n",
    "#\n",
    "data_train = data.sample(frac=0.7, axis=0)\n",
    "data_test  = data.drop(data_train.index)\n",
    "\n",
    "# ---- Split => x,y (medv is price)\n",
    "#\n",
    "x_train = data_train.drop('medv',  axis=1)\n",
    "y_train = data_train['medv']\n",
    "x_test  = data_test.drop('medv',   axis=1)\n",
    "y_test  = data_test['medv']\n",
    "\n",
    "print('Original data shape was : ',data.shape)\n",
    "print('x_train : ',x_train.shape, 'y_train : ',y_train.shape)\n",
    "print('x_test  : ',x_test.shape,  'y_test  : ',y_test.shape)"
   ]
  },
  {
   "cell_type": "markdown",
   "metadata": {},
   "source": [
    "### 3.2 - Data normalization\n",
    "**Note :** \n",
    " - All input data must be normalized, train and test.  \n",
    " - To do this we will subtract the mean and divide by the standard deviation.  \n",
    " - But test data should not be used in any way, even for normalization.  \n",
    " - The mean and the standard deviation will therefore only be calculated with the train data."
   ]
  },
  {
   "cell_type": "code",
   "execution_count": 5,
   "metadata": {
    "execution": {
     "iopub.execute_input": "2021-02-10T08:09:41.224665Z",
     "iopub.status.busy": "2021-02-10T08:09:41.218748Z",
     "iopub.status.idle": "2021-02-10T08:09:41.298798Z",
     "shell.execute_reply": "2021-02-10T08:09:41.299272Z"
    }
   },
   "outputs": [
    {
     "data": {
      "text/html": [
       "<style  type=\"text/css\" >\n",
       "</style><table id=\"T_5394464c_6b77_11eb_9972_0cc47af60e5b\" ><caption>Before normalization :</caption><thead>    <tr>        <th class=\"blank level0\" ></th>        <th class=\"col_heading level0 col0\" >crim</th>        <th class=\"col_heading level0 col1\" >zn</th>        <th class=\"col_heading level0 col2\" >indus</th>        <th class=\"col_heading level0 col3\" >chas</th>        <th class=\"col_heading level0 col4\" >nox</th>        <th class=\"col_heading level0 col5\" >rm</th>        <th class=\"col_heading level0 col6\" >age</th>        <th class=\"col_heading level0 col7\" >dis</th>        <th class=\"col_heading level0 col8\" >rad</th>        <th class=\"col_heading level0 col9\" >tax</th>        <th class=\"col_heading level0 col10\" >ptratio</th>        <th class=\"col_heading level0 col11\" >b</th>        <th class=\"col_heading level0 col12\" >lstat</th>    </tr></thead><tbody>\n",
       "                <tr>\n",
       "                        <th id=\"T_5394464c_6b77_11eb_9972_0cc47af60e5blevel0_row0\" class=\"row_heading level0 row0\" >count</th>\n",
       "                        <td id=\"T_5394464c_6b77_11eb_9972_0cc47af60e5brow0_col0\" class=\"data row0 col0\" >354.00</td>\n",
       "                        <td id=\"T_5394464c_6b77_11eb_9972_0cc47af60e5brow0_col1\" class=\"data row0 col1\" >354.00</td>\n",
       "                        <td id=\"T_5394464c_6b77_11eb_9972_0cc47af60e5brow0_col2\" class=\"data row0 col2\" >354.00</td>\n",
       "                        <td id=\"T_5394464c_6b77_11eb_9972_0cc47af60e5brow0_col3\" class=\"data row0 col3\" >354.00</td>\n",
       "                        <td id=\"T_5394464c_6b77_11eb_9972_0cc47af60e5brow0_col4\" class=\"data row0 col4\" >354.00</td>\n",
       "                        <td id=\"T_5394464c_6b77_11eb_9972_0cc47af60e5brow0_col5\" class=\"data row0 col5\" >354.00</td>\n",
       "                        <td id=\"T_5394464c_6b77_11eb_9972_0cc47af60e5brow0_col6\" class=\"data row0 col6\" >354.00</td>\n",
       "                        <td id=\"T_5394464c_6b77_11eb_9972_0cc47af60e5brow0_col7\" class=\"data row0 col7\" >354.00</td>\n",
       "                        <td id=\"T_5394464c_6b77_11eb_9972_0cc47af60e5brow0_col8\" class=\"data row0 col8\" >354.00</td>\n",
       "                        <td id=\"T_5394464c_6b77_11eb_9972_0cc47af60e5brow0_col9\" class=\"data row0 col9\" >354.00</td>\n",
       "                        <td id=\"T_5394464c_6b77_11eb_9972_0cc47af60e5brow0_col10\" class=\"data row0 col10\" >354.00</td>\n",
       "                        <td id=\"T_5394464c_6b77_11eb_9972_0cc47af60e5brow0_col11\" class=\"data row0 col11\" >354.00</td>\n",
       "                        <td id=\"T_5394464c_6b77_11eb_9972_0cc47af60e5brow0_col12\" class=\"data row0 col12\" >354.00</td>\n",
       "            </tr>\n",
       "            <tr>\n",
       "                        <th id=\"T_5394464c_6b77_11eb_9972_0cc47af60e5blevel0_row1\" class=\"row_heading level0 row1\" >mean</th>\n",
       "                        <td id=\"T_5394464c_6b77_11eb_9972_0cc47af60e5brow1_col0\" class=\"data row1 col0\" >3.71</td>\n",
       "                        <td id=\"T_5394464c_6b77_11eb_9972_0cc47af60e5brow1_col1\" class=\"data row1 col1\" >10.82</td>\n",
       "                        <td id=\"T_5394464c_6b77_11eb_9972_0cc47af60e5brow1_col2\" class=\"data row1 col2\" >11.48</td>\n",
       "                        <td id=\"T_5394464c_6b77_11eb_9972_0cc47af60e5brow1_col3\" class=\"data row1 col3\" >0.07</td>\n",
       "                        <td id=\"T_5394464c_6b77_11eb_9972_0cc47af60e5brow1_col4\" class=\"data row1 col4\" >0.56</td>\n",
       "                        <td id=\"T_5394464c_6b77_11eb_9972_0cc47af60e5brow1_col5\" class=\"data row1 col5\" >6.29</td>\n",
       "                        <td id=\"T_5394464c_6b77_11eb_9972_0cc47af60e5brow1_col6\" class=\"data row1 col6\" >69.60</td>\n",
       "                        <td id=\"T_5394464c_6b77_11eb_9972_0cc47af60e5brow1_col7\" class=\"data row1 col7\" >3.70</td>\n",
       "                        <td id=\"T_5394464c_6b77_11eb_9972_0cc47af60e5brow1_col8\" class=\"data row1 col8\" >9.83</td>\n",
       "                        <td id=\"T_5394464c_6b77_11eb_9972_0cc47af60e5brow1_col9\" class=\"data row1 col9\" >412.07</td>\n",
       "                        <td id=\"T_5394464c_6b77_11eb_9972_0cc47af60e5brow1_col10\" class=\"data row1 col10\" >18.49</td>\n",
       "                        <td id=\"T_5394464c_6b77_11eb_9972_0cc47af60e5brow1_col11\" class=\"data row1 col11\" >353.83</td>\n",
       "                        <td id=\"T_5394464c_6b77_11eb_9972_0cc47af60e5brow1_col12\" class=\"data row1 col12\" >12.65</td>\n",
       "            </tr>\n",
       "            <tr>\n",
       "                        <th id=\"T_5394464c_6b77_11eb_9972_0cc47af60e5blevel0_row2\" class=\"row_heading level0 row2\" >std</th>\n",
       "                        <td id=\"T_5394464c_6b77_11eb_9972_0cc47af60e5brow2_col0\" class=\"data row2 col0\" >8.65</td>\n",
       "                        <td id=\"T_5394464c_6b77_11eb_9972_0cc47af60e5brow2_col1\" class=\"data row2 col1\" >21.95</td>\n",
       "                        <td id=\"T_5394464c_6b77_11eb_9972_0cc47af60e5brow2_col2\" class=\"data row2 col2\" >6.96</td>\n",
       "                        <td id=\"T_5394464c_6b77_11eb_9972_0cc47af60e5brow2_col3\" class=\"data row2 col3\" >0.25</td>\n",
       "                        <td id=\"T_5394464c_6b77_11eb_9972_0cc47af60e5brow2_col4\" class=\"data row2 col4\" >0.12</td>\n",
       "                        <td id=\"T_5394464c_6b77_11eb_9972_0cc47af60e5brow2_col5\" class=\"data row2 col5\" >0.69</td>\n",
       "                        <td id=\"T_5394464c_6b77_11eb_9972_0cc47af60e5brow2_col6\" class=\"data row2 col6\" >27.71</td>\n",
       "                        <td id=\"T_5394464c_6b77_11eb_9972_0cc47af60e5brow2_col7\" class=\"data row2 col7\" >2.03</td>\n",
       "                        <td id=\"T_5394464c_6b77_11eb_9972_0cc47af60e5brow2_col8\" class=\"data row2 col8\" >8.83</td>\n",
       "                        <td id=\"T_5394464c_6b77_11eb_9972_0cc47af60e5brow2_col9\" class=\"data row2 col9\" >171.86</td>\n",
       "                        <td id=\"T_5394464c_6b77_11eb_9972_0cc47af60e5brow2_col10\" class=\"data row2 col10\" >2.19</td>\n",
       "                        <td id=\"T_5394464c_6b77_11eb_9972_0cc47af60e5brow2_col11\" class=\"data row2 col11\" >94.75</td>\n",
       "                        <td id=\"T_5394464c_6b77_11eb_9972_0cc47af60e5brow2_col12\" class=\"data row2 col12\" >7.05</td>\n",
       "            </tr>\n",
       "            <tr>\n",
       "                        <th id=\"T_5394464c_6b77_11eb_9972_0cc47af60e5blevel0_row3\" class=\"row_heading level0 row3\" >min</th>\n",
       "                        <td id=\"T_5394464c_6b77_11eb_9972_0cc47af60e5brow3_col0\" class=\"data row3 col0\" >0.01</td>\n",
       "                        <td id=\"T_5394464c_6b77_11eb_9972_0cc47af60e5brow3_col1\" class=\"data row3 col1\" >0.00</td>\n",
       "                        <td id=\"T_5394464c_6b77_11eb_9972_0cc47af60e5brow3_col2\" class=\"data row3 col2\" >0.74</td>\n",
       "                        <td id=\"T_5394464c_6b77_11eb_9972_0cc47af60e5brow3_col3\" class=\"data row3 col3\" >0.00</td>\n",
       "                        <td id=\"T_5394464c_6b77_11eb_9972_0cc47af60e5brow3_col4\" class=\"data row3 col4\" >0.39</td>\n",
       "                        <td id=\"T_5394464c_6b77_11eb_9972_0cc47af60e5brow3_col5\" class=\"data row3 col5\" >3.56</td>\n",
       "                        <td id=\"T_5394464c_6b77_11eb_9972_0cc47af60e5brow3_col6\" class=\"data row3 col6\" >2.90</td>\n",
       "                        <td id=\"T_5394464c_6b77_11eb_9972_0cc47af60e5brow3_col7\" class=\"data row3 col7\" >1.17</td>\n",
       "                        <td id=\"T_5394464c_6b77_11eb_9972_0cc47af60e5brow3_col8\" class=\"data row3 col8\" >1.00</td>\n",
       "                        <td id=\"T_5394464c_6b77_11eb_9972_0cc47af60e5brow3_col9\" class=\"data row3 col9\" >188.00</td>\n",
       "                        <td id=\"T_5394464c_6b77_11eb_9972_0cc47af60e5brow3_col10\" class=\"data row3 col10\" >12.60</td>\n",
       "                        <td id=\"T_5394464c_6b77_11eb_9972_0cc47af60e5brow3_col11\" class=\"data row3 col11\" >0.32</td>\n",
       "                        <td id=\"T_5394464c_6b77_11eb_9972_0cc47af60e5brow3_col12\" class=\"data row3 col12\" >1.92</td>\n",
       "            </tr>\n",
       "            <tr>\n",
       "                        <th id=\"T_5394464c_6b77_11eb_9972_0cc47af60e5blevel0_row4\" class=\"row_heading level0 row4\" >25%</th>\n",
       "                        <td id=\"T_5394464c_6b77_11eb_9972_0cc47af60e5brow4_col0\" class=\"data row4 col0\" >0.08</td>\n",
       "                        <td id=\"T_5394464c_6b77_11eb_9972_0cc47af60e5brow4_col1\" class=\"data row4 col1\" >0.00</td>\n",
       "                        <td id=\"T_5394464c_6b77_11eb_9972_0cc47af60e5brow4_col2\" class=\"data row4 col2\" >5.19</td>\n",
       "                        <td id=\"T_5394464c_6b77_11eb_9972_0cc47af60e5brow4_col3\" class=\"data row4 col3\" >0.00</td>\n",
       "                        <td id=\"T_5394464c_6b77_11eb_9972_0cc47af60e5brow4_col4\" class=\"data row4 col4\" >0.46</td>\n",
       "                        <td id=\"T_5394464c_6b77_11eb_9972_0cc47af60e5brow4_col5\" class=\"data row4 col5\" >5.89</td>\n",
       "                        <td id=\"T_5394464c_6b77_11eb_9972_0cc47af60e5brow4_col6\" class=\"data row4 col6\" >46.83</td>\n",
       "                        <td id=\"T_5394464c_6b77_11eb_9972_0cc47af60e5brow4_col7\" class=\"data row4 col7\" >2.06</td>\n",
       "                        <td id=\"T_5394464c_6b77_11eb_9972_0cc47af60e5brow4_col8\" class=\"data row4 col8\" >4.00</td>\n",
       "                        <td id=\"T_5394464c_6b77_11eb_9972_0cc47af60e5brow4_col9\" class=\"data row4 col9\" >277.50</td>\n",
       "                        <td id=\"T_5394464c_6b77_11eb_9972_0cc47af60e5brow4_col10\" class=\"data row4 col10\" >17.33</td>\n",
       "                        <td id=\"T_5394464c_6b77_11eb_9972_0cc47af60e5brow4_col11\" class=\"data row4 col11\" >372.83</td>\n",
       "                        <td id=\"T_5394464c_6b77_11eb_9972_0cc47af60e5brow4_col12\" class=\"data row4 col12\" >7.18</td>\n",
       "            </tr>\n",
       "            <tr>\n",
       "                        <th id=\"T_5394464c_6b77_11eb_9972_0cc47af60e5blevel0_row5\" class=\"row_heading level0 row5\" >50%</th>\n",
       "                        <td id=\"T_5394464c_6b77_11eb_9972_0cc47af60e5brow5_col0\" class=\"data row5 col0\" >0.27</td>\n",
       "                        <td id=\"T_5394464c_6b77_11eb_9972_0cc47af60e5brow5_col1\" class=\"data row5 col1\" >0.00</td>\n",
       "                        <td id=\"T_5394464c_6b77_11eb_9972_0cc47af60e5brow5_col2\" class=\"data row5 col2\" >9.90</td>\n",
       "                        <td id=\"T_5394464c_6b77_11eb_9972_0cc47af60e5brow5_col3\" class=\"data row5 col3\" >0.00</td>\n",
       "                        <td id=\"T_5394464c_6b77_11eb_9972_0cc47af60e5brow5_col4\" class=\"data row5 col4\" >0.54</td>\n",
       "                        <td id=\"T_5394464c_6b77_11eb_9972_0cc47af60e5brow5_col5\" class=\"data row5 col5\" >6.21</td>\n",
       "                        <td id=\"T_5394464c_6b77_11eb_9972_0cc47af60e5brow5_col6\" class=\"data row5 col6\" >78.80</td>\n",
       "                        <td id=\"T_5394464c_6b77_11eb_9972_0cc47af60e5brow5_col7\" class=\"data row5 col7\" >3.09</td>\n",
       "                        <td id=\"T_5394464c_6b77_11eb_9972_0cc47af60e5brow5_col8\" class=\"data row5 col8\" >5.00</td>\n",
       "                        <td id=\"T_5394464c_6b77_11eb_9972_0cc47af60e5brow5_col9\" class=\"data row5 col9\" >330.00</td>\n",
       "                        <td id=\"T_5394464c_6b77_11eb_9972_0cc47af60e5brow5_col10\" class=\"data row5 col10\" >19.10</td>\n",
       "                        <td id=\"T_5394464c_6b77_11eb_9972_0cc47af60e5brow5_col11\" class=\"data row5 col11\" >390.94</td>\n",
       "                        <td id=\"T_5394464c_6b77_11eb_9972_0cc47af60e5brow5_col12\" class=\"data row5 col12\" >11.35</td>\n",
       "            </tr>\n",
       "            <tr>\n",
       "                        <th id=\"T_5394464c_6b77_11eb_9972_0cc47af60e5blevel0_row6\" class=\"row_heading level0 row6\" >75%</th>\n",
       "                        <td id=\"T_5394464c_6b77_11eb_9972_0cc47af60e5brow6_col0\" class=\"data row6 col0\" >4.08</td>\n",
       "                        <td id=\"T_5394464c_6b77_11eb_9972_0cc47af60e5brow6_col1\" class=\"data row6 col1\" >16.62</td>\n",
       "                        <td id=\"T_5394464c_6b77_11eb_9972_0cc47af60e5brow6_col2\" class=\"data row6 col2\" >18.10</td>\n",
       "                        <td id=\"T_5394464c_6b77_11eb_9972_0cc47af60e5brow6_col3\" class=\"data row6 col3\" >0.00</td>\n",
       "                        <td id=\"T_5394464c_6b77_11eb_9972_0cc47af60e5brow6_col4\" class=\"data row6 col4\" >0.63</td>\n",
       "                        <td id=\"T_5394464c_6b77_11eb_9972_0cc47af60e5brow6_col5\" class=\"data row6 col5\" >6.61</td>\n",
       "                        <td id=\"T_5394464c_6b77_11eb_9972_0cc47af60e5brow6_col6\" class=\"data row6 col6\" >94.30</td>\n",
       "                        <td id=\"T_5394464c_6b77_11eb_9972_0cc47af60e5brow6_col7\" class=\"data row6 col7\" >5.12</td>\n",
       "                        <td id=\"T_5394464c_6b77_11eb_9972_0cc47af60e5brow6_col8\" class=\"data row6 col8\" >24.00</td>\n",
       "                        <td id=\"T_5394464c_6b77_11eb_9972_0cc47af60e5brow6_col9\" class=\"data row6 col9\" >666.00</td>\n",
       "                        <td id=\"T_5394464c_6b77_11eb_9972_0cc47af60e5brow6_col10\" class=\"data row6 col10\" >20.20</td>\n",
       "                        <td id=\"T_5394464c_6b77_11eb_9972_0cc47af60e5brow6_col11\" class=\"data row6 col11\" >396.03</td>\n",
       "                        <td id=\"T_5394464c_6b77_11eb_9972_0cc47af60e5brow6_col12\" class=\"data row6 col12\" >17.06</td>\n",
       "            </tr>\n",
       "            <tr>\n",
       "                        <th id=\"T_5394464c_6b77_11eb_9972_0cc47af60e5blevel0_row7\" class=\"row_heading level0 row7\" >max</th>\n",
       "                        <td id=\"T_5394464c_6b77_11eb_9972_0cc47af60e5brow7_col0\" class=\"data row7 col0\" >88.98</td>\n",
       "                        <td id=\"T_5394464c_6b77_11eb_9972_0cc47af60e5brow7_col1\" class=\"data row7 col1\" >95.00</td>\n",
       "                        <td id=\"T_5394464c_6b77_11eb_9972_0cc47af60e5brow7_col2\" class=\"data row7 col2\" >27.74</td>\n",
       "                        <td id=\"T_5394464c_6b77_11eb_9972_0cc47af60e5brow7_col3\" class=\"data row7 col3\" >1.00</td>\n",
       "                        <td id=\"T_5394464c_6b77_11eb_9972_0cc47af60e5brow7_col4\" class=\"data row7 col4\" >0.87</td>\n",
       "                        <td id=\"T_5394464c_6b77_11eb_9972_0cc47af60e5brow7_col5\" class=\"data row7 col5\" >8.72</td>\n",
       "                        <td id=\"T_5394464c_6b77_11eb_9972_0cc47af60e5brow7_col6\" class=\"data row7 col6\" >100.00</td>\n",
       "                        <td id=\"T_5394464c_6b77_11eb_9972_0cc47af60e5brow7_col7\" class=\"data row7 col7\" >10.71</td>\n",
       "                        <td id=\"T_5394464c_6b77_11eb_9972_0cc47af60e5brow7_col8\" class=\"data row7 col8\" >24.00</td>\n",
       "                        <td id=\"T_5394464c_6b77_11eb_9972_0cc47af60e5brow7_col9\" class=\"data row7 col9\" >711.00</td>\n",
       "                        <td id=\"T_5394464c_6b77_11eb_9972_0cc47af60e5brow7_col10\" class=\"data row7 col10\" >21.20</td>\n",
       "                        <td id=\"T_5394464c_6b77_11eb_9972_0cc47af60e5brow7_col11\" class=\"data row7 col11\" >396.90</td>\n",
       "                        <td id=\"T_5394464c_6b77_11eb_9972_0cc47af60e5brow7_col12\" class=\"data row7 col12\" >34.77</td>\n",
       "            </tr>\n",
       "    </tbody></table>"
      ],
      "text/plain": [
       "<pandas.io.formats.style.Styler at 0x14c95ab80f90>"
      ]
     },
     "metadata": {},
     "output_type": "display_data"
    },
    {
     "data": {
      "text/html": [
       "<style  type=\"text/css\" >\n",
       "</style><table id=\"T_539b3fa8_6b77_11eb_bd1d_0cc47af60e5b\" ><caption>After normalization :</caption><thead>    <tr>        <th class=\"blank level0\" ></th>        <th class=\"col_heading level0 col0\" >crim</th>        <th class=\"col_heading level0 col1\" >zn</th>        <th class=\"col_heading level0 col2\" >indus</th>        <th class=\"col_heading level0 col3\" >chas</th>        <th class=\"col_heading level0 col4\" >nox</th>        <th class=\"col_heading level0 col5\" >rm</th>        <th class=\"col_heading level0 col6\" >age</th>        <th class=\"col_heading level0 col7\" >dis</th>        <th class=\"col_heading level0 col8\" >rad</th>        <th class=\"col_heading level0 col9\" >tax</th>        <th class=\"col_heading level0 col10\" >ptratio</th>        <th class=\"col_heading level0 col11\" >b</th>        <th class=\"col_heading level0 col12\" >lstat</th>    </tr></thead><tbody>\n",
       "                <tr>\n",
       "                        <th id=\"T_539b3fa8_6b77_11eb_bd1d_0cc47af60e5blevel0_row0\" class=\"row_heading level0 row0\" >count</th>\n",
       "                        <td id=\"T_539b3fa8_6b77_11eb_bd1d_0cc47af60e5brow0_col0\" class=\"data row0 col0\" >354.00</td>\n",
       "                        <td id=\"T_539b3fa8_6b77_11eb_bd1d_0cc47af60e5brow0_col1\" class=\"data row0 col1\" >354.00</td>\n",
       "                        <td id=\"T_539b3fa8_6b77_11eb_bd1d_0cc47af60e5brow0_col2\" class=\"data row0 col2\" >354.00</td>\n",
       "                        <td id=\"T_539b3fa8_6b77_11eb_bd1d_0cc47af60e5brow0_col3\" class=\"data row0 col3\" >354.00</td>\n",
       "                        <td id=\"T_539b3fa8_6b77_11eb_bd1d_0cc47af60e5brow0_col4\" class=\"data row0 col4\" >354.00</td>\n",
       "                        <td id=\"T_539b3fa8_6b77_11eb_bd1d_0cc47af60e5brow0_col5\" class=\"data row0 col5\" >354.00</td>\n",
       "                        <td id=\"T_539b3fa8_6b77_11eb_bd1d_0cc47af60e5brow0_col6\" class=\"data row0 col6\" >354.00</td>\n",
       "                        <td id=\"T_539b3fa8_6b77_11eb_bd1d_0cc47af60e5brow0_col7\" class=\"data row0 col7\" >354.00</td>\n",
       "                        <td id=\"T_539b3fa8_6b77_11eb_bd1d_0cc47af60e5brow0_col8\" class=\"data row0 col8\" >354.00</td>\n",
       "                        <td id=\"T_539b3fa8_6b77_11eb_bd1d_0cc47af60e5brow0_col9\" class=\"data row0 col9\" >354.00</td>\n",
       "                        <td id=\"T_539b3fa8_6b77_11eb_bd1d_0cc47af60e5brow0_col10\" class=\"data row0 col10\" >354.00</td>\n",
       "                        <td id=\"T_539b3fa8_6b77_11eb_bd1d_0cc47af60e5brow0_col11\" class=\"data row0 col11\" >354.00</td>\n",
       "                        <td id=\"T_539b3fa8_6b77_11eb_bd1d_0cc47af60e5brow0_col12\" class=\"data row0 col12\" >354.00</td>\n",
       "            </tr>\n",
       "            <tr>\n",
       "                        <th id=\"T_539b3fa8_6b77_11eb_bd1d_0cc47af60e5blevel0_row1\" class=\"row_heading level0 row1\" >mean</th>\n",
       "                        <td id=\"T_539b3fa8_6b77_11eb_bd1d_0cc47af60e5brow1_col0\" class=\"data row1 col0\" >0.00</td>\n",
       "                        <td id=\"T_539b3fa8_6b77_11eb_bd1d_0cc47af60e5brow1_col1\" class=\"data row1 col1\" >-0.00</td>\n",
       "                        <td id=\"T_539b3fa8_6b77_11eb_bd1d_0cc47af60e5brow1_col2\" class=\"data row1 col2\" >0.00</td>\n",
       "                        <td id=\"T_539b3fa8_6b77_11eb_bd1d_0cc47af60e5brow1_col3\" class=\"data row1 col3\" >-0.00</td>\n",
       "                        <td id=\"T_539b3fa8_6b77_11eb_bd1d_0cc47af60e5brow1_col4\" class=\"data row1 col4\" >-0.00</td>\n",
       "                        <td id=\"T_539b3fa8_6b77_11eb_bd1d_0cc47af60e5brow1_col5\" class=\"data row1 col5\" >0.00</td>\n",
       "                        <td id=\"T_539b3fa8_6b77_11eb_bd1d_0cc47af60e5brow1_col6\" class=\"data row1 col6\" >-0.00</td>\n",
       "                        <td id=\"T_539b3fa8_6b77_11eb_bd1d_0cc47af60e5brow1_col7\" class=\"data row1 col7\" >0.00</td>\n",
       "                        <td id=\"T_539b3fa8_6b77_11eb_bd1d_0cc47af60e5brow1_col8\" class=\"data row1 col8\" >-0.00</td>\n",
       "                        <td id=\"T_539b3fa8_6b77_11eb_bd1d_0cc47af60e5brow1_col9\" class=\"data row1 col9\" >0.00</td>\n",
       "                        <td id=\"T_539b3fa8_6b77_11eb_bd1d_0cc47af60e5brow1_col10\" class=\"data row1 col10\" >0.00</td>\n",
       "                        <td id=\"T_539b3fa8_6b77_11eb_bd1d_0cc47af60e5brow1_col11\" class=\"data row1 col11\" >-0.00</td>\n",
       "                        <td id=\"T_539b3fa8_6b77_11eb_bd1d_0cc47af60e5brow1_col12\" class=\"data row1 col12\" >-0.00</td>\n",
       "            </tr>\n",
       "            <tr>\n",
       "                        <th id=\"T_539b3fa8_6b77_11eb_bd1d_0cc47af60e5blevel0_row2\" class=\"row_heading level0 row2\" >std</th>\n",
       "                        <td id=\"T_539b3fa8_6b77_11eb_bd1d_0cc47af60e5brow2_col0\" class=\"data row2 col0\" >1.00</td>\n",
       "                        <td id=\"T_539b3fa8_6b77_11eb_bd1d_0cc47af60e5brow2_col1\" class=\"data row2 col1\" >1.00</td>\n",
       "                        <td id=\"T_539b3fa8_6b77_11eb_bd1d_0cc47af60e5brow2_col2\" class=\"data row2 col2\" >1.00</td>\n",
       "                        <td id=\"T_539b3fa8_6b77_11eb_bd1d_0cc47af60e5brow2_col3\" class=\"data row2 col3\" >1.00</td>\n",
       "                        <td id=\"T_539b3fa8_6b77_11eb_bd1d_0cc47af60e5brow2_col4\" class=\"data row2 col4\" >1.00</td>\n",
       "                        <td id=\"T_539b3fa8_6b77_11eb_bd1d_0cc47af60e5brow2_col5\" class=\"data row2 col5\" >1.00</td>\n",
       "                        <td id=\"T_539b3fa8_6b77_11eb_bd1d_0cc47af60e5brow2_col6\" class=\"data row2 col6\" >1.00</td>\n",
       "                        <td id=\"T_539b3fa8_6b77_11eb_bd1d_0cc47af60e5brow2_col7\" class=\"data row2 col7\" >1.00</td>\n",
       "                        <td id=\"T_539b3fa8_6b77_11eb_bd1d_0cc47af60e5brow2_col8\" class=\"data row2 col8\" >1.00</td>\n",
       "                        <td id=\"T_539b3fa8_6b77_11eb_bd1d_0cc47af60e5brow2_col9\" class=\"data row2 col9\" >1.00</td>\n",
       "                        <td id=\"T_539b3fa8_6b77_11eb_bd1d_0cc47af60e5brow2_col10\" class=\"data row2 col10\" >1.00</td>\n",
       "                        <td id=\"T_539b3fa8_6b77_11eb_bd1d_0cc47af60e5brow2_col11\" class=\"data row2 col11\" >1.00</td>\n",
       "                        <td id=\"T_539b3fa8_6b77_11eb_bd1d_0cc47af60e5brow2_col12\" class=\"data row2 col12\" >1.00</td>\n",
       "            </tr>\n",
       "            <tr>\n",
       "                        <th id=\"T_539b3fa8_6b77_11eb_bd1d_0cc47af60e5blevel0_row3\" class=\"row_heading level0 row3\" >min</th>\n",
       "                        <td id=\"T_539b3fa8_6b77_11eb_bd1d_0cc47af60e5brow3_col0\" class=\"data row3 col0\" >-0.43</td>\n",
       "                        <td id=\"T_539b3fa8_6b77_11eb_bd1d_0cc47af60e5brow3_col1\" class=\"data row3 col1\" >-0.49</td>\n",
       "                        <td id=\"T_539b3fa8_6b77_11eb_bd1d_0cc47af60e5brow3_col2\" class=\"data row3 col2\" >-1.54</td>\n",
       "                        <td id=\"T_539b3fa8_6b77_11eb_bd1d_0cc47af60e5brow3_col3\" class=\"data row3 col3\" >-0.27</td>\n",
       "                        <td id=\"T_539b3fa8_6b77_11eb_bd1d_0cc47af60e5brow3_col4\" class=\"data row3 col4\" >-1.50</td>\n",
       "                        <td id=\"T_539b3fa8_6b77_11eb_bd1d_0cc47af60e5brow3_col5\" class=\"data row3 col5\" >-3.94</td>\n",
       "                        <td id=\"T_539b3fa8_6b77_11eb_bd1d_0cc47af60e5brow3_col6\" class=\"data row3 col6\" >-2.41</td>\n",
       "                        <td id=\"T_539b3fa8_6b77_11eb_bd1d_0cc47af60e5brow3_col7\" class=\"data row3 col7\" >-1.25</td>\n",
       "                        <td id=\"T_539b3fa8_6b77_11eb_bd1d_0cc47af60e5brow3_col8\" class=\"data row3 col8\" >-1.00</td>\n",
       "                        <td id=\"T_539b3fa8_6b77_11eb_bd1d_0cc47af60e5brow3_col9\" class=\"data row3 col9\" >-1.30</td>\n",
       "                        <td id=\"T_539b3fa8_6b77_11eb_bd1d_0cc47af60e5brow3_col10\" class=\"data row3 col10\" >-2.68</td>\n",
       "                        <td id=\"T_539b3fa8_6b77_11eb_bd1d_0cc47af60e5brow3_col11\" class=\"data row3 col11\" >-3.73</td>\n",
       "                        <td id=\"T_539b3fa8_6b77_11eb_bd1d_0cc47af60e5brow3_col12\" class=\"data row3 col12\" >-1.52</td>\n",
       "            </tr>\n",
       "            <tr>\n",
       "                        <th id=\"T_539b3fa8_6b77_11eb_bd1d_0cc47af60e5blevel0_row4\" class=\"row_heading level0 row4\" >25%</th>\n",
       "                        <td id=\"T_539b3fa8_6b77_11eb_bd1d_0cc47af60e5brow4_col0\" class=\"data row4 col0\" >-0.42</td>\n",
       "                        <td id=\"T_539b3fa8_6b77_11eb_bd1d_0cc47af60e5brow4_col1\" class=\"data row4 col1\" >-0.49</td>\n",
       "                        <td id=\"T_539b3fa8_6b77_11eb_bd1d_0cc47af60e5brow4_col2\" class=\"data row4 col2\" >-0.90</td>\n",
       "                        <td id=\"T_539b3fa8_6b77_11eb_bd1d_0cc47af60e5brow4_col3\" class=\"data row4 col3\" >-0.27</td>\n",
       "                        <td id=\"T_539b3fa8_6b77_11eb_bd1d_0cc47af60e5brow4_col4\" class=\"data row4 col4\" >-0.87</td>\n",
       "                        <td id=\"T_539b3fa8_6b77_11eb_bd1d_0cc47af60e5brow4_col5\" class=\"data row4 col5\" >-0.57</td>\n",
       "                        <td id=\"T_539b3fa8_6b77_11eb_bd1d_0cc47af60e5brow4_col6\" class=\"data row4 col6\" >-0.82</td>\n",
       "                        <td id=\"T_539b3fa8_6b77_11eb_bd1d_0cc47af60e5brow4_col7\" class=\"data row4 col7\" >-0.81</td>\n",
       "                        <td id=\"T_539b3fa8_6b77_11eb_bd1d_0cc47af60e5brow4_col8\" class=\"data row4 col8\" >-0.66</td>\n",
       "                        <td id=\"T_539b3fa8_6b77_11eb_bd1d_0cc47af60e5brow4_col9\" class=\"data row4 col9\" >-0.78</td>\n",
       "                        <td id=\"T_539b3fa8_6b77_11eb_bd1d_0cc47af60e5brow4_col10\" class=\"data row4 col10\" >-0.53</td>\n",
       "                        <td id=\"T_539b3fa8_6b77_11eb_bd1d_0cc47af60e5brow4_col11\" class=\"data row4 col11\" >0.20</td>\n",
       "                        <td id=\"T_539b3fa8_6b77_11eb_bd1d_0cc47af60e5brow4_col12\" class=\"data row4 col12\" >-0.78</td>\n",
       "            </tr>\n",
       "            <tr>\n",
       "                        <th id=\"T_539b3fa8_6b77_11eb_bd1d_0cc47af60e5blevel0_row5\" class=\"row_heading level0 row5\" >50%</th>\n",
       "                        <td id=\"T_539b3fa8_6b77_11eb_bd1d_0cc47af60e5brow5_col0\" class=\"data row5 col0\" >-0.40</td>\n",
       "                        <td id=\"T_539b3fa8_6b77_11eb_bd1d_0cc47af60e5brow5_col1\" class=\"data row5 col1\" >-0.49</td>\n",
       "                        <td id=\"T_539b3fa8_6b77_11eb_bd1d_0cc47af60e5brow5_col2\" class=\"data row5 col2\" >-0.23</td>\n",
       "                        <td id=\"T_539b3fa8_6b77_11eb_bd1d_0cc47af60e5brow5_col3\" class=\"data row5 col3\" >-0.27</td>\n",
       "                        <td id=\"T_539b3fa8_6b77_11eb_bd1d_0cc47af60e5brow5_col4\" class=\"data row5 col4\" >-0.18</td>\n",
       "                        <td id=\"T_539b3fa8_6b77_11eb_bd1d_0cc47af60e5brow5_col5\" class=\"data row5 col5\" >-0.10</td>\n",
       "                        <td id=\"T_539b3fa8_6b77_11eb_bd1d_0cc47af60e5brow5_col6\" class=\"data row5 col6\" >0.33</td>\n",
       "                        <td id=\"T_539b3fa8_6b77_11eb_bd1d_0cc47af60e5brow5_col7\" class=\"data row5 col7\" >-0.30</td>\n",
       "                        <td id=\"T_539b3fa8_6b77_11eb_bd1d_0cc47af60e5brow5_col8\" class=\"data row5 col8\" >-0.55</td>\n",
       "                        <td id=\"T_539b3fa8_6b77_11eb_bd1d_0cc47af60e5brow5_col9\" class=\"data row5 col9\" >-0.48</td>\n",
       "                        <td id=\"T_539b3fa8_6b77_11eb_bd1d_0cc47af60e5brow5_col10\" class=\"data row5 col10\" >0.28</td>\n",
       "                        <td id=\"T_539b3fa8_6b77_11eb_bd1d_0cc47af60e5brow5_col11\" class=\"data row5 col11\" >0.39</td>\n",
       "                        <td id=\"T_539b3fa8_6b77_11eb_bd1d_0cc47af60e5brow5_col12\" class=\"data row5 col12\" >-0.19</td>\n",
       "            </tr>\n",
       "            <tr>\n",
       "                        <th id=\"T_539b3fa8_6b77_11eb_bd1d_0cc47af60e5blevel0_row6\" class=\"row_heading level0 row6\" >75%</th>\n",
       "                        <td id=\"T_539b3fa8_6b77_11eb_bd1d_0cc47af60e5brow6_col0\" class=\"data row6 col0\" >0.04</td>\n",
       "                        <td id=\"T_539b3fa8_6b77_11eb_bd1d_0cc47af60e5brow6_col1\" class=\"data row6 col1\" >0.26</td>\n",
       "                        <td id=\"T_539b3fa8_6b77_11eb_bd1d_0cc47af60e5brow6_col2\" class=\"data row6 col2\" >0.95</td>\n",
       "                        <td id=\"T_539b3fa8_6b77_11eb_bd1d_0cc47af60e5brow6_col3\" class=\"data row6 col3\" >-0.27</td>\n",
       "                        <td id=\"T_539b3fa8_6b77_11eb_bd1d_0cc47af60e5brow6_col4\" class=\"data row6 col4\" >0.60</td>\n",
       "                        <td id=\"T_539b3fa8_6b77_11eb_bd1d_0cc47af60e5brow6_col5\" class=\"data row6 col5\" >0.47</td>\n",
       "                        <td id=\"T_539b3fa8_6b77_11eb_bd1d_0cc47af60e5brow6_col6\" class=\"data row6 col6\" >0.89</td>\n",
       "                        <td id=\"T_539b3fa8_6b77_11eb_bd1d_0cc47af60e5brow6_col7\" class=\"data row6 col7\" >0.70</td>\n",
       "                        <td id=\"T_539b3fa8_6b77_11eb_bd1d_0cc47af60e5brow6_col8\" class=\"data row6 col8\" >1.61</td>\n",
       "                        <td id=\"T_539b3fa8_6b77_11eb_bd1d_0cc47af60e5brow6_col9\" class=\"data row6 col9\" >1.48</td>\n",
       "                        <td id=\"T_539b3fa8_6b77_11eb_bd1d_0cc47af60e5brow6_col10\" class=\"data row6 col10\" >0.78</td>\n",
       "                        <td id=\"T_539b3fa8_6b77_11eb_bd1d_0cc47af60e5brow6_col11\" class=\"data row6 col11\" >0.45</td>\n",
       "                        <td id=\"T_539b3fa8_6b77_11eb_bd1d_0cc47af60e5brow6_col12\" class=\"data row6 col12\" >0.63</td>\n",
       "            </tr>\n",
       "            <tr>\n",
       "                        <th id=\"T_539b3fa8_6b77_11eb_bd1d_0cc47af60e5blevel0_row7\" class=\"row_heading level0 row7\" >max</th>\n",
       "                        <td id=\"T_539b3fa8_6b77_11eb_bd1d_0cc47af60e5brow7_col0\" class=\"data row7 col0\" >9.85</td>\n",
       "                        <td id=\"T_539b3fa8_6b77_11eb_bd1d_0cc47af60e5brow7_col1\" class=\"data row7 col1\" >3.84</td>\n",
       "                        <td id=\"T_539b3fa8_6b77_11eb_bd1d_0cc47af60e5brow7_col2\" class=\"data row7 col2\" >2.34</td>\n",
       "                        <td id=\"T_539b3fa8_6b77_11eb_bd1d_0cc47af60e5brow7_col3\" class=\"data row7 col3\" >3.70</td>\n",
       "                        <td id=\"T_539b3fa8_6b77_11eb_bd1d_0cc47af60e5brow7_col4\" class=\"data row7 col4\" >2.68</td>\n",
       "                        <td id=\"T_539b3fa8_6b77_11eb_bd1d_0cc47af60e5brow7_col5\" class=\"data row7 col5\" >3.53</td>\n",
       "                        <td id=\"T_539b3fa8_6b77_11eb_bd1d_0cc47af60e5brow7_col6\" class=\"data row7 col6\" >1.10</td>\n",
       "                        <td id=\"T_539b3fa8_6b77_11eb_bd1d_0cc47af60e5brow7_col7\" class=\"data row7 col7\" >3.46</td>\n",
       "                        <td id=\"T_539b3fa8_6b77_11eb_bd1d_0cc47af60e5brow7_col8\" class=\"data row7 col8\" >1.61</td>\n",
       "                        <td id=\"T_539b3fa8_6b77_11eb_bd1d_0cc47af60e5brow7_col9\" class=\"data row7 col9\" >1.74</td>\n",
       "                        <td id=\"T_539b3fa8_6b77_11eb_bd1d_0cc47af60e5brow7_col10\" class=\"data row7 col10\" >1.24</td>\n",
       "                        <td id=\"T_539b3fa8_6b77_11eb_bd1d_0cc47af60e5brow7_col11\" class=\"data row7 col11\" >0.45</td>\n",
       "                        <td id=\"T_539b3fa8_6b77_11eb_bd1d_0cc47af60e5brow7_col12\" class=\"data row7 col12\" >3.14</td>\n",
       "            </tr>\n",
       "    </tbody></table>"
      ],
      "text/plain": [
       "<pandas.io.formats.style.Styler at 0x14c9c833dbd0>"
      ]
     },
     "metadata": {},
     "output_type": "display_data"
    }
   ],
   "source": [
    "display(x_train.describe().style.format(\"{0:.2f}\").set_caption(\"Before normalization :\"))\n",
    "\n",
    "mean = x_train.mean()\n",
    "std  = x_train.std()\n",
    "x_train = (x_train - mean) / std\n",
    "x_test  = (x_test  - mean) / std\n",
    "\n",
    "display(x_train.describe().style.format(\"{0:.2f}\").set_caption(\"After normalization :\"))\n",
    "\n",
    "x_train, y_train = np.array(x_train), np.array(y_train)\n",
    "x_test,  y_test  = np.array(x_test),  np.array(y_test)\n"
   ]
  },
  {
   "cell_type": "markdown",
   "metadata": {},
   "source": [
    "## Step 4 - Build a model\n",
    "More informations about : \n",
    " - [Optimizer](https://www.tensorflow.org/api_docs/python/tf/keras/optimizers)\n",
    " - [Activation](https://www.tensorflow.org/api_docs/python/tf/keras/activations)\n",
    " - [Loss](https://www.tensorflow.org/api_docs/python/tf/keras/losses)\n",
    " - [Metrics](https://www.tensorflow.org/api_docs/python/tf/keras/metrics)"
   ]
  },
  {
   "cell_type": "code",
   "execution_count": 6,
   "metadata": {
    "execution": {
     "iopub.execute_input": "2021-02-10T08:09:41.304119Z",
     "iopub.status.busy": "2021-02-10T08:09:41.303654Z",
     "iopub.status.idle": "2021-02-10T08:09:41.305235Z",
     "shell.execute_reply": "2021-02-10T08:09:41.305705Z"
    }
   },
   "outputs": [],
   "source": [
    "  def get_model_v1(shape):\n",
    "    \n",
    "    model = keras.models.Sequential()\n",
    "    model.add(keras.layers.Input(shape, name=\"InputLayer\"))\n",
    "    model.add(keras.layers.Dense(64, activation='relu', name='Dense_n1'))\n",
    "    model.add(keras.layers.Dense(64, activation='relu', name='Dense_n2'))\n",
    "    model.add(keras.layers.Dense(1, name='Output'))\n",
    "    \n",
    "    model.compile(optimizer = 'rmsprop',\n",
    "                  loss      = 'mse',\n",
    "                  metrics   = ['mae', 'mse'] )\n",
    "    return model"
   ]
  },
  {
   "cell_type": "markdown",
   "metadata": {},
   "source": [
    "## 5 - Train the model\n",
    "### 5.1 - Get it"
   ]
  },
  {
   "cell_type": "code",
   "execution_count": 7,
   "metadata": {
    "execution": {
     "iopub.execute_input": "2021-02-10T08:09:41.308909Z",
     "iopub.status.busy": "2021-02-10T08:09:41.308451Z",
     "iopub.status.idle": "2021-02-10T08:09:42.245020Z",
     "shell.execute_reply": "2021-02-10T08:09:42.245513Z"
    }
   },
   "outputs": [
    {
     "name": "stdout",
     "output_type": "stream",
     "text": [
      "Model: \"sequential\"\n",
      "_________________________________________________________________\n",
      "Layer (type)                 Output Shape              Param #   \n",
      "=================================================================\n",
      "Dense_n1 (Dense)             (None, 64)                896       \n",
      "_________________________________________________________________\n",
      "Dense_n2 (Dense)             (None, 64)                4160      \n",
      "_________________________________________________________________\n",
      "Output (Dense)               (None, 1)                 65        \n",
      "=================================================================\n",
      "Total params: 5,121\n",
      "Trainable params: 5,121\n",
      "Non-trainable params: 0\n",
      "_________________________________________________________________\n"
     ]
    }
   ],
   "source": [
    "model=get_model_v1( (13,) )\n",
    "\n",
    "model.summary()\n",
    "# img=keras.utils.plot_model( model, to_file='./run/model.png', show_shapes=True, show_layer_names=True, dpi=96)\n",
    "# display(img)"
   ]
  },
  {
   "cell_type": "markdown",
   "metadata": {},
   "source": [
    "### 5.2 - Add callback"
   ]
  },
  {
   "cell_type": "code",
   "execution_count": 8,
   "metadata": {
    "execution": {
     "iopub.execute_input": "2021-02-10T08:09:42.249152Z",
     "iopub.status.busy": "2021-02-10T08:09:42.248691Z",
     "iopub.status.idle": "2021-02-10T08:09:42.251082Z",
     "shell.execute_reply": "2021-02-10T08:09:42.251554Z"
    }
   },
   "outputs": [],
   "source": [
    "os.makedirs('./run/models',   mode=0o750, exist_ok=True)\n",
    "save_dir = \"./run/models/best_model.h5\"\n",
    "\n",
    "savemodel_callback = tf.keras.callbacks.ModelCheckpoint(filepath=save_dir, verbose=0, save_best_only=True)"
   ]
  },
  {
   "cell_type": "markdown",
   "metadata": {},
   "source": [
    "### 5.3 - Train it"
   ]
  },
  {
   "cell_type": "code",
   "execution_count": 9,
   "metadata": {
    "execution": {
     "iopub.execute_input": "2021-02-10T08:09:42.255099Z",
     "iopub.status.busy": "2021-02-10T08:09:42.254630Z",
     "iopub.status.idle": "2021-02-10T08:09:58.566269Z",
     "shell.execute_reply": "2021-02-10T08:09:58.566776Z"
    }
   },
   "outputs": [
    {
     "name": "stdout",
     "output_type": "stream",
     "text": [
      "Epoch 1/100\n"
     ]
    },
    {
     "name": "stdout",
     "output_type": "stream",
     "text": [
      "\r",
      " 1/36 [..............................] - ETA: 34s - loss: 507.9354 - mae: 22.1192 - mse: 507.9354"
     ]
    },
    {
     "name": "stdout",
     "output_type": "stream",
     "text": [
      "\b\b\b\b\b\b\b\b\b\b\b\b\b\b\b\b\b\b\b\b\b\b\b\b\b\b\b\b\b\b\b\b\b\b\b\b\b\b\b\b\b\b\b\b\b\b\b\b\b\b\b\b\b\b\b\b\b\b\b\b\b\b\b\b\b\b\b\b\b\b\b\b\b\b\b\b\b\b\b\b\b\b\b\b\b\b\b\b\b\b\b\b\b\b\b\b\b\r",
      "33/36 [==========================>...] - ETA: 0s - loss: 582.8394 - mae: 22.2024 - mse: 582.8394 "
     ]
    },
    {
     "name": "stdout",
     "output_type": "stream",
     "text": [
      "\b\b\b\b\b\b\b\b\b\b\b\b\b\b\b\b\b\b\b\b\b\b\b\b\b\b\b\b\b\b\b\b\b\b\b\b\b\b\b\b\b\b\b\b\b\b\b\b\b\b\b\b\b\b\b\b\b\b\b\b\b\b\b\b\b\b\b\b\b\b\b\b\b\b\b\b\b\b\b\b\b\b\b\b\b\b\b\b\b\b\b\b\b\b\b\b\r",
      "36/36 [==============================] - 2s 24ms/step - loss: 574.0025 - mae: 21.9946 - mse: 574.0025 - val_loss: 376.9288 - val_mae: 17.3666 - val_mse: 376.9288\n"
     ]
    },
    {
     "name": "stdout",
     "output_type": "stream",
     "text": [
      "Epoch 2/100\n",
      "\r",
      " 1/36 [..............................] - ETA: 0s - loss: 210.9013 - mae: 12.7813 - mse: 210.9013"
     ]
    },
    {
     "name": "stdout",
     "output_type": "stream",
     "text": [
      "\b\b\b\b\b\b\b\b\b\b\b\b\b\b\b\b\b\b\b\b\b\b\b\b\b\b\b\b\b\b\b\b\b\b\b\b\b\b\b\b\b\b\b\b\b\b\b\b\b\b\b\b\b\b\b\b\b\b\b\b\b\b\b\b\b\b\b\b\b\b\b\b\b\b\b\b\b\b\b\b\b\b\b\b\b\b\b\b\b\b\b\b\b\b\b\b\r",
      "34/36 [===========================>..] - ETA: 0s - loss: 334.3468 - mae: 15.8430 - mse: 334.3468"
     ]
    },
    {
     "name": "stdout",
     "output_type": "stream",
     "text": [
      "\b\b\b\b\b\b\b\b\b\b\b\b\b\b\b\b\b\b\b\b\b\b\b\b\b\b\b\b\b\b\b\b\b\b\b\b\b\b\b\b\b\b\b\b\b\b\b\b\b\b\b\b\b\b\b\b\b\b\b\b\b\b\b\b\b\b\b\b\b\b\b\b\b\b\b\b\b\b\b\b\b\b\b\b\b\b\b\b\b\b\b\b\b\b\b\b\r",
      "36/36 [==============================] - 0s 4ms/step - loss: 329.5558 - mae: 15.6914 - mse: 329.5558 - val_loss: 160.1071 - val_mae: 10.4954 - val_mse: 160.1071\n"
     ]
    },
    {
     "name": "stdout",
     "output_type": "stream",
     "text": [
      "Epoch 3/100\n",
      "\r",
      " 1/36 [..............................] - ETA: 0s - loss: 158.8152 - mae: 9.9032 - mse: 158.8152"
     ]
    },
    {
     "name": "stdout",
     "output_type": "stream",
     "text": [
      "\b\b\b\b\b\b\b\b\b\b\b\b\b\b\b\b\b\b\b\b\b\b\b\b\b\b\b\b\b\b\b\b\b\b\b\b\b\b\b\b\b\b\b\b\b\b\b\b\b\b\b\b\b\b\b\b\b\b\b\b\b\b\b\b\b\b\b\b\b\b\b\b\b\b\b\b\b\b\b\b\b\b\b\b\b\b\b\b\b\b\b\b\b\b\b\r",
      "34/36 [===========================>..] - ETA: 0s - loss: 138.2656 - mae: 9.2080 - mse: 138.2656"
     ]
    },
    {
     "name": "stdout",
     "output_type": "stream",
     "text": [
      "\b\b\b\b\b\b\b\b\b\b\b\b\b\b\b\b\b\b\b\b\b\b\b\b\b\b\b\b\b\b\b\b\b\b\b\b\b\b\b\b\b\b\b\b\b\b\b\b\b\b\b\b\b\b\b\b\b\b\b\b\b\b\b\b\b\b\b\b\b\b\b\b\b\b\b\b\b\b\b\b\b\b\b\b\b\b\b\b\b\b\b\b\b\b\b\r",
      "36/36 [==============================] - 0s 4ms/step - loss: 135.4299 - mae: 9.0885 - mse: 135.4299 - val_loss: 70.2333 - val_mae: 6.5721 - val_mse: 70.2333\n"
     ]
    },
    {
     "name": "stdout",
     "output_type": "stream",
     "text": [
      "Epoch 4/100\n",
      "\r",
      " 1/36 [..............................] - ETA: 0s - loss: 53.0112 - mae: 5.4701 - mse: 53.0112"
     ]
    },
    {
     "name": "stdout",
     "output_type": "stream",
     "text": [
      "\b\b\b\b\b\b\b\b\b\b\b\b\b\b\b\b\b\b\b\b\b\b\b\b\b\b\b\b\b\b\b\b\b\b\b\b\b\b\b\b\b\b\b\b\b\b\b\b\b\b\b\b\b\b\b\b\b\b\b\b\b\b\b\b\b\b\b\b\b\b\b\b\b\b\b\b\b\b\b\b\b\b\b\b\b\b\b\b\b\b\b\b\b\r",
      "34/36 [===========================>..] - ETA: 0s - loss: 43.2600 - mae: 4.9567 - mse: 43.2600"
     ]
    },
    {
     "name": "stdout",
     "output_type": "stream",
     "text": [
      "\b\b\b\b\b\b\b\b\b\b\b\b\b\b\b\b\b\b\b\b\b\b\b\b\b\b\b\b\b\b\b\b\b\b\b\b\b\b\b\b\b\b\b\b\b\b\b\b\b\b\b\b\b\b\b\b\b\b\b\b\b\b\b\b\b\b\b\b\b\b\b\b\b\b\b\b\b\b\b\b\b\b\b\b\b\b\b\b\b\b\b\b\b\r",
      "36/36 [==============================] - 0s 4ms/step - loss: 43.6054 - mae: 4.9633 - mse: 43.6054 - val_loss: 42.3501 - val_mae: 4.8819 - val_mse: 42.3501\n"
     ]
    },
    {
     "name": "stdout",
     "output_type": "stream",
     "text": [
      "Epoch 5/100\n",
      "\r",
      " 1/36 [..............................] - ETA: 0s - loss: 38.3189 - mae: 4.3090 - mse: 38.3189"
     ]
    },
    {
     "name": "stdout",
     "output_type": "stream",
     "text": [
      "\b\b\b\b\b\b\b\b\b\b\b\b\b\b\b\b\b\b\b\b\b\b\b\b\b\b\b\b\b\b\b\b\b\b\b\b\b\b\b\b\b\b\b\b\b\b\b\b\b\b\b\b\b\b\b\b\b\b\b\b\b\b\b\b\b\b\b\b\b\b\b\b\b\b\b\b\b\b\b\b\b\b\b\b\b\b\b\b\b\b\b\b\b\r",
      "34/36 [===========================>..] - ETA: 0s - loss: 35.6778 - mae: 4.2214 - mse: 35.6778"
     ]
    },
    {
     "name": "stdout",
     "output_type": "stream",
     "text": [
      "\b\b\b\b\b\b\b\b\b\b\b\b\b\b\b\b\b\b\b\b\b\b\b\b\b\b\b\b\b\b\b\b\b\b\b\b\b\b\b\b\b\b\b\b\b\b\b\b\b\b\b\b\b\b\b\b\b\b\b\b\b\b\b\b\b\b\b\b\b\b\b\b\b\b\b\b\b\b\b\b\b\b\b\b\b\b\b\b\b\b\b\b\b\r",
      "36/36 [==============================] - 0s 4ms/step - loss: 35.2688 - mae: 4.2053 - mse: 35.2688 - val_loss: 29.6363 - val_mae: 3.9023 - val_mse: 29.6363\n"
     ]
    },
    {
     "name": "stdout",
     "output_type": "stream",
     "text": [
      "Epoch 6/100\n",
      "\r",
      " 1/36 [..............................] - ETA: 0s - loss: 34.8979 - mae: 4.4650 - mse: 34.8979"
     ]
    },
    {
     "name": "stdout",
     "output_type": "stream",
     "text": [
      "\b\b\b\b\b\b\b\b\b\b\b\b\b\b\b\b\b\b\b\b\b\b\b\b\b\b\b\b\b\b\b\b\b\b\b\b\b\b\b\b\b\b\b\b\b\b\b\b\b\b\b\b\b\b\b\b\b\b\b\b\b\b\b\b\b\b\b\b\b\b\b\b\b\b\b\b\b\b\b\b\b\b\b\b\b\b\b\b\b\b\b\b\b\r",
      "34/36 [===========================>..] - ETA: 0s - loss: 26.1865 - mae: 3.6502 - mse: 26.1865"
     ]
    },
    {
     "name": "stdout",
     "output_type": "stream",
     "text": [
      "\b\b\b\b\b\b\b\b\b\b\b\b\b\b\b\b\b\b\b\b\b\b\b\b\b\b\b\b\b\b\b\b\b\b\b\b\b\b\b\b\b\b\b\b\b\b\b\b\b\b\b\b\b\b\b\b\b\b\b\b\b\b\b\b\b\b\b\b\b\b\b\b\b\b\b\b\b\b\b\b\b\b\b\b\b\b\b\b\b\b\b\b\b\r",
      "36/36 [==============================] - 0s 4ms/step - loss: 25.9794 - mae: 3.6359 - mse: 25.9794 - val_loss: 23.3285 - val_mae: 3.2913 - val_mse: 23.3285\n"
     ]
    },
    {
     "name": "stdout",
     "output_type": "stream",
     "text": [
      "Epoch 7/100\n",
      "\r",
      " 1/36 [..............................] - ETA: 0s - loss: 8.2349 - mae: 2.4100 - mse: 8.2349"
     ]
    },
    {
     "name": "stdout",
     "output_type": "stream",
     "text": [
      "\b\b\b\b\b\b\b\b\b\b\b\b\b\b\b\b\b\b\b\b\b\b\b\b\b\b\b\b\b\b\b\b\b\b\b\b\b\b\b\b\b\b\b\b\b\b\b\b\b\b\b\b\b\b\b\b\b\b\b\b\b\b\b\b\b\b\b\b\b\b\b\b\b\b\b\b\b\b\b\b\b\b\b\b\b\b\b\b\b\b\b\r",
      "34/36 [===========================>..] - ETA: 0s - loss: 21.3054 - mae: 3.1063 - mse: 21.3054"
     ]
    },
    {
     "name": "stdout",
     "output_type": "stream",
     "text": [
      "\b\b\b\b\b\b\b\b\b\b\b\b\b\b\b\b\b\b\b\b\b\b\b\b\b\b\b\b\b\b\b\b\b\b\b\b\b\b\b\b\b\b\b\b\b\b\b\b\b\b\b\b\b\b\b\b\b\b\b\b\b\b\b\b\b\b\b\b\b\b\b\b\b\b\b\b\b\b\b\b\b\b\b\b\b\b\b\b\b\b\b\b\b\r",
      "36/36 [==============================] - 0s 4ms/step - loss: 21.1669 - mae: 3.1098 - mse: 21.1669 - val_loss: 22.8901 - val_mae: 3.1384 - val_mse: 22.8901\n"
     ]
    },
    {
     "name": "stdout",
     "output_type": "stream",
     "text": [
      "Epoch 8/100\n",
      "\r",
      " 1/36 [..............................] - ETA: 0s - loss: 9.3630 - mae: 2.6378 - mse: 9.3630"
     ]
    },
    {
     "name": "stdout",
     "output_type": "stream",
     "text": [
      "\b\b\b\b\b\b\b\b\b\b\b\b\b\b\b\b\b\b\b\b\b\b\b\b\b\b\b\b\b\b\b\b\b\b\b\b\b\b\b\b\b\b\b\b\b\b\b\b\b\b\b\b\b\b\b\b\b\b\b\b\b\b\b\b\b\b\b\b\b\b\b\b\b\b\b\b\b\b\b\b\b\b\b\b\b\b\b\b\b\b\b\r",
      "34/36 [===========================>..] - ETA: 0s - loss: 14.1115 - mae: 2.8850 - mse: 14.1115"
     ]
    },
    {
     "name": "stdout",
     "output_type": "stream",
     "text": [
      "\b\b\b\b\b\b\b\b\b\b\b\b\b\b\b\b\b\b\b\b\b\b\b\b\b\b\b\b\b\b\b\b\b\b\b\b\b\b\b\b\b\b\b\b\b\b\b\b\b\b\b\b\b\b\b\b\b\b\b\b\b\b\b\b\b\b\b\b\b\b\b\b\b\b\b\b\b\b\b\b\b\b\b\b\b\b\b\b\b\b\b\b\b\r",
      "36/36 [==============================] - 0s 4ms/step - loss: 14.3743 - mae: 2.8895 - mse: 14.3743 - val_loss: 21.4376 - val_mae: 3.0793 - val_mse: 21.4376\n"
     ]
    },
    {
     "name": "stdout",
     "output_type": "stream",
     "text": [
      "Epoch 9/100\n",
      "\r",
      " 1/36 [..............................] - ETA: 0s - loss: 10.6998 - mae: 2.7307 - mse: 10.6998"
     ]
    },
    {
     "name": "stdout",
     "output_type": "stream",
     "text": [
      "\b\b\b\b\b\b\b\b\b\b\b\b\b\b\b\b\b\b\b\b\b\b\b\b\b\b\b\b\b\b\b\b\b\b\b\b\b\b\b\b\b\b\b\b\b\b\b\b\b\b\b\b\b\b\b\b\b\b\b\b\b\b\b\b\b\b\b\b\b\b\b\b\b\b\b\b\b\b\b\b\b\b\b\b\b\b\b\b\b\b\b\b\b\r",
      "34/36 [===========================>..] - ETA: 0s - loss: 22.3394 - mae: 3.2076 - mse: 22.3394"
     ]
    },
    {
     "name": "stdout",
     "output_type": "stream",
     "text": [
      "\b\b\b\b\b\b\b\b\b\b\b\b\b\b\b\b\b\b\b\b\b\b\b\b\b\b\b\b\b\b\b\b\b\b\b\b\b\b\b\b\b\b\b\b\b\b\b\b\b\b\b\b\b\b\b\b\b\b\b\b\b\b\b\b\b\b\b\b\b\b\b\b\b\b\b\b\b\b\b\b\b\b\b\b\b\b\b\b\b\b\b\b\b\r",
      "36/36 [==============================] - 0s 4ms/step - loss: 21.8490 - mae: 3.1824 - mse: 21.8490 - val_loss: 21.0370 - val_mae: 3.0135 - val_mse: 21.0370\n"
     ]
    },
    {
     "name": "stdout",
     "output_type": "stream",
     "text": [
      "Epoch 10/100\n",
      "\r",
      " 1/36 [..............................] - ETA: 0s - loss: 15.1621 - mae: 3.4349 - mse: 15.1621"
     ]
    },
    {
     "name": "stdout",
     "output_type": "stream",
     "text": [
      "\b\b\b\b\b\b\b\b\b\b\b\b\b\b\b\b\b\b\b\b\b\b\b\b\b\b\b\b\b\b\b\b\b\b\b\b\b\b\b\b\b\b\b\b\b\b\b\b\b\b\b\b\b\b\b\b\b\b\b\b\b\b\b\b\b\b\b\b\b\b\b\b\b\b\b\b\b\b\b\b\b\b\b\b\b\b\b\b\b\b\b\b\b\r",
      "34/36 [===========================>..] - ETA: 0s - loss: 14.3738 - mae: 2.7120 - mse: 14.3738"
     ]
    },
    {
     "name": "stdout",
     "output_type": "stream",
     "text": [
      "\b\b\b\b\b\b\b\b\b\b\b\b\b\b\b\b\b\b\b\b\b\b\b\b\b\b\b\b\b\b\b\b\b\b\b\b\b\b\b\b\b\b\b\b\b\b\b\b\b\b\b\b\b\b\b\b\b\b\b\b\b\b\b\b\b\b\b\b\b\b\b\b\b\b\b\b\b\b\b\b\b\b\b\b\b\b\b\b\b\b\b\b\b\r",
      "36/36 [==============================] - 0s 4ms/step - loss: 14.4351 - mae: 2.7124 - mse: 14.4351 - val_loss: 20.2585 - val_mae: 2.8843 - val_mse: 20.2585\n"
     ]
    },
    {
     "name": "stdout",
     "output_type": "stream",
     "text": [
      "Epoch 11/100\n",
      "\r",
      " 1/36 [..............................] - ETA: 0s - loss: 8.3929 - mae: 2.4329 - mse: 8.3929"
     ]
    },
    {
     "name": "stdout",
     "output_type": "stream",
     "text": [
      "\b\b\b\b\b\b\b\b\b\b\b\b\b\b\b\b\b\b\b\b\b\b\b\b\b\b\b\b\b\b\b\b\b\b\b\b\b\b\b\b\b\b\b\b\b\b\b\b\b\b\b\b\b\b\b\b\b\b\b\b\b\b\b\b\b\b\b\b\b\b\b\b\b\b\b\b\b\b\b\b\b\b\b\b\b\b\b\b\b\b\b\r",
      "34/36 [===========================>..] - ETA: 0s - loss: 17.0064 - mae: 2.6801 - mse: 17.0064"
     ]
    },
    {
     "name": "stdout",
     "output_type": "stream",
     "text": [
      "\b\b\b\b\b\b\b\b\b\b\b\b\b\b\b\b\b\b\b\b\b\b\b\b\b\b\b\b\b\b\b\b\b\b\b\b\b\b\b\b\b\b\b\b\b\b\b\b\b\b\b\b\b\b\b\b\b\b\b\b\b\b\b\b\b\b\b\b\b\b\b\b\b\b\b\b\b\b\b\b\b\b\b\b\b\b\b\b\b\b\b\b\b\r",
      "36/36 [==============================] - 0s 4ms/step - loss: 16.7990 - mae: 2.6793 - mse: 16.7990 - val_loss: 19.3142 - val_mae: 2.7928 - val_mse: 19.3142\n"
     ]
    },
    {
     "name": "stdout",
     "output_type": "stream",
     "text": [
      "Epoch 12/100\n",
      "\r",
      " 1/36 [..............................] - ETA: 0s - loss: 3.6868 - mae: 1.7730 - mse: 3.6868"
     ]
    },
    {
     "name": "stdout",
     "output_type": "stream",
     "text": [
      "\b\b\b\b\b\b\b\b\b\b\b\b\b\b\b\b\b\b\b\b\b\b\b\b\b\b\b\b\b\b\b\b\b\b\b\b\b\b\b\b\b\b\b\b\b\b\b\b\b\b\b\b\b\b\b\b\b\b\b\b\b\b\b\b\b\b\b\b\b\b\b\b\b\b\b\b\b\b\b\b\b\b\b\b\b\b\b\b\b\b\b\r",
      "34/36 [===========================>..] - ETA: 0s - loss: 14.9807 - mae: 2.4730 - mse: 14.9807"
     ]
    },
    {
     "name": "stdout",
     "output_type": "stream",
     "text": [
      "\b\b\b\b\b\b\b\b\b\b\b\b\b\b\b\b\b\b\b\b\b\b\b\b\b\b\b\b\b\b\b\b\b\b\b\b\b\b\b\b\b\b\b\b\b\b\b\b\b\b\b\b\b\b\b\b\b\b\b\b\b\b\b\b\b\b\b\b\b\b\b\b\b\b\b\b\b\b\b\b\b\b\b\b\b\b\b\b\b\b\b\b\b\r",
      "36/36 [==============================] - 0s 4ms/step - loss: 14.8784 - mae: 2.4808 - mse: 14.8784 - val_loss: 19.9669 - val_mae: 2.8761 - val_mse: 19.9669\n"
     ]
    },
    {
     "name": "stdout",
     "output_type": "stream",
     "text": [
      "Epoch 13/100\n",
      "\r",
      " 1/36 [..............................] - ETA: 0s - loss: 75.2309 - mae: 4.3301 - mse: 75.2309"
     ]
    },
    {
     "name": "stdout",
     "output_type": "stream",
     "text": [
      "\b\b\b\b\b\b\b\b\b\b\b\b\b\b\b\b\b\b\b\b\b\b\b\b\b\b\b\b\b\b\b\b\b\b\b\b\b\b\b\b\b\b\b\b\b\b\b\b\b\b\b\b\b\b\b\b\b\b\b\b\b\b\b\b\b\b\b\b\b\b\b\b\b\b\b\b\b\b\b\b\b\b\b\b\b\b\b\b\b\b\b\b\b\r",
      "34/36 [===========================>..] - ETA: 0s - loss: 17.4228 - mae: 2.5899 - mse: 17.4228"
     ]
    },
    {
     "name": "stdout",
     "output_type": "stream",
     "text": [
      "\b\b\b\b\b\b\b\b\b\b\b\b\b\b\b\b\b\b\b\b\b\b\b\b\b\b\b\b\b\b\b\b\b\b\b\b\b\b\b\b\b\b\b\b\b\b\b\b\b\b\b\b\b\b\b\b\b\b\b\b\b\b\b\b\b\b\b\b\b\b\b\b\b\b\b\b\b\b\b\b\b\b\b\b\b\b\b\b\b\b\b\b\b\r",
      "36/36 [==============================] - 0s 4ms/step - loss: 17.0677 - mae: 2.5841 - mse: 17.0677 - val_loss: 20.0179 - val_mae: 2.8756 - val_mse: 20.0179\n"
     ]
    },
    {
     "name": "stdout",
     "output_type": "stream",
     "text": [
      "Epoch 14/100\n",
      "\r",
      " 1/36 [..............................] - ETA: 0s - loss: 13.0982 - mae: 2.7817 - mse: 13.0982"
     ]
    },
    {
     "name": "stdout",
     "output_type": "stream",
     "text": [
      "\b\b\b\b\b\b\b\b\b\b\b\b\b\b\b\b\b\b\b\b\b\b\b\b\b\b\b\b\b\b\b\b\b\b\b\b\b\b\b\b\b\b\b\b\b\b\b\b\b\b\b\b\b\b\b\b\b\b\b\b\b\b\b\b\b\b\b\b\b\b\b\b\b\b\b\b\b\b\b\b\b\b\b\b\b\b\b\b\b\b\b\b\b\r",
      "34/36 [===========================>..] - ETA: 0s - loss: 15.0027 - mae: 2.5517 - mse: 15.0027"
     ]
    },
    {
     "name": "stdout",
     "output_type": "stream",
     "text": [
      "\b\b\b\b\b\b\b\b\b\b\b\b\b\b\b\b\b\b\b\b\b\b\b\b\b\b\b\b\b\b\b\b\b\b\b\b\b\b\b\b\b\b\b\b\b\b\b\b\b\b\b\b\b\b\b\b\b\b\b\b\b\b\b\b\b\b\b\b\b\b\b\b\b\b\b\b\b\b\b\b\b\b\b\b\b\b\b\b\b\b\b\b\b\r",
      "36/36 [==============================] - 0s 4ms/step - loss: 14.8251 - mae: 2.5443 - mse: 14.8251 - val_loss: 18.3693 - val_mae: 2.6963 - val_mse: 18.3693\n"
     ]
    },
    {
     "name": "stdout",
     "output_type": "stream",
     "text": [
      "Epoch 15/100\n",
      "\r",
      " 1/36 [..............................] - ETA: 0s - loss: 76.4994 - mae: 4.6854 - mse: 76.4994"
     ]
    },
    {
     "name": "stdout",
     "output_type": "stream",
     "text": [
      "\b\b\b\b\b\b\b\b\b\b\b\b\b\b\b\b\b\b\b\b\b\b\b\b\b\b\b\b\b\b\b\b\b\b\b\b\b\b\b\b\b\b\b\b\b\b\b\b\b\b\b\b\b\b\b\b\b\b\b\b\b\b\b\b\b\b\b\b\b\b\b\b\b\b\b\b\b\b\b\b\b\b\b\b\b\b\b\b\b\b\b\b\b\r",
      "34/36 [===========================>..] - ETA: 0s - loss: 18.9709 - mae: 2.7006 - mse: 18.9709"
     ]
    },
    {
     "name": "stdout",
     "output_type": "stream",
     "text": [
      "\b\b\b\b\b\b\b\b\b\b\b\b\b\b\b\b\b\b\b\b\b\b\b\b\b\b\b\b\b\b\b\b\b\b\b\b\b\b\b\b\b\b\b\b\b\b\b\b\b\b\b\b\b\b\b\b\b\b\b\b\b\b\b\b\b\b\b\b\b\b\b\b\b\b\b\b\b\b\b\b\b\b\b\b\b\b\b\b\b\b\b\b\b\r",
      "36/36 [==============================] - 0s 4ms/step - loss: 18.4297 - mae: 2.6811 - mse: 18.4297 - val_loss: 18.2526 - val_mae: 2.6962 - val_mse: 18.2526\n"
     ]
    },
    {
     "name": "stdout",
     "output_type": "stream",
     "text": [
      "Epoch 16/100\n",
      "\r",
      " 1/36 [..............................] - ETA: 0s - loss: 7.5629 - mae: 1.8762 - mse: 7.5629"
     ]
    },
    {
     "name": "stdout",
     "output_type": "stream",
     "text": [
      "\b\b\b\b\b\b\b\b\b\b\b\b\b\b\b\b\b\b\b\b\b\b\b\b\b\b\b\b\b\b\b\b\b\b\b\b\b\b\b\b\b\b\b\b\b\b\b\b\b\b\b\b\b\b\b\b\b\b\b\b\b\b\b\b\b\b\b\b\b\b\b\b\b\b\b\b\b\b\b\b\b\b\b\b\b\b\b\b\b\b\b\r",
      "34/36 [===========================>..] - ETA: 0s - loss: 10.6666 - mae: 2.3162 - mse: 10.6666"
     ]
    },
    {
     "name": "stdout",
     "output_type": "stream",
     "text": [
      "\b\b\b\b\b\b\b\b\b\b\b\b\b\b\b\b\b\b\b\b\b\b\b\b\b\b\b\b\b\b\b\b\b\b\b\b\b\b\b\b\b\b\b\b\b\b\b\b\b\b\b\b\b\b\b\b\b\b\b\b\b\b\b\b\b\b\b\b\b\b\b\b\b\b\b\b\b\b\b\b\b\b\b\b\b\b\b\b\b\b\b\b\b\r",
      "36/36 [==============================] - 0s 4ms/step - loss: 10.7731 - mae: 2.3225 - mse: 10.7731 - val_loss: 19.0657 - val_mae: 2.7860 - val_mse: 19.0657\n"
     ]
    },
    {
     "name": "stdout",
     "output_type": "stream",
     "text": [
      "Epoch 17/100\n",
      "\r",
      " 1/36 [..............................] - ETA: 0s - loss: 5.4623 - mae: 1.6729 - mse: 5.4623"
     ]
    },
    {
     "name": "stdout",
     "output_type": "stream",
     "text": [
      "\b\b\b\b\b\b\b\b\b\b\b\b\b\b\b\b\b\b\b\b\b\b\b\b\b\b\b\b\b\b\b\b\b\b\b\b\b\b\b\b\b\b\b\b\b\b\b\b\b\b\b\b\b\b\b\b\b\b\b\b\b\b\b\b\b\b\b\b\b\b\b\b\b\b\b\b\b\b\b\b\b\b\b\b\b\b\b\b\b\b\b\r",
      "34/36 [===========================>..] - ETA: 0s - loss: 15.5145 - mae: 2.4089 - mse: 15.5145"
     ]
    },
    {
     "name": "stdout",
     "output_type": "stream",
     "text": [
      "\b\b\b\b\b\b\b\b\b\b\b\b\b\b\b\b\b\b\b\b\b\b\b\b\b\b\b\b\b\b\b\b\b\b\b\b\b\b\b\b\b\b\b\b\b\b\b\b\b\b\b\b\b\b\b\b\b\b\b\b\b\b\b\b\b\b\b\b\b\b\b\b\b\b\b\b\b\b\b\b\b\b\b\b\b\b\b\b\b\b\b\b\b\r",
      "36/36 [==============================] - 0s 4ms/step - loss: 15.1885 - mae: 2.4014 - mse: 15.1885 - val_loss: 23.4484 - val_mae: 3.3316 - val_mse: 23.4484\n"
     ]
    },
    {
     "name": "stdout",
     "output_type": "stream",
     "text": [
      "Epoch 18/100\n",
      "\r",
      " 1/36 [..............................] - ETA: 0s - loss: 2.9456 - mae: 1.4383 - mse: 2.9456"
     ]
    },
    {
     "name": "stdout",
     "output_type": "stream",
     "text": [
      "\b\b\b\b\b\b\b\b\b\b\b\b\b\b\b\b\b\b\b\b\b\b\b\b\b\b\b\b\b\b\b\b\b\b\b\b\b\b\b\b\b\b\b\b\b\b\b\b\b\b\b\b\b\b\b\b\b\b\b\b\b\b\b\b\b\b\b\b\b\b\b\b\b\b\b\b\b\b\b\b\b\b\b\b\b\b\b\b\b\b\b\r",
      "35/36 [============================>.] - ETA: 0s - loss: 10.9781 - mae: 2.3382 - mse: 10.9781"
     ]
    },
    {
     "name": "stdout",
     "output_type": "stream",
     "text": [
      "\b\b\b\b\b\b\b\b\b\b\b\b\b\b\b\b\b\b\b\b\b\b\b\b\b\b\b\b\b\b\b\b\b\b\b\b\b\b\b\b\b\b\b\b\b\b\b\b\b\b\b\b\b\b\b\b\b\b\b\b\b\b\b\b\b\b\b\b\b\b\b\b\b\b\b\b\b\b\b\b\b\b\b\b\b\b\b\b\b\b\b\b\b\r",
      "36/36 [==============================] - 0s 4ms/step - loss: 11.0030 - mae: 2.3378 - mse: 11.0030 - val_loss: 18.4979 - val_mae: 2.6967 - val_mse: 18.4979\n"
     ]
    },
    {
     "name": "stdout",
     "output_type": "stream",
     "text": [
      "Epoch 19/100\n",
      "\r",
      " 1/36 [..............................] - ETA: 0s - loss: 4.5399 - mae: 1.7425 - mse: 4.5399"
     ]
    },
    {
     "name": "stdout",
     "output_type": "stream",
     "text": [
      "\b\b\b\b\b\b\b\b\b\b\b\b\b\b\b\b\b\b\b\b\b\b\b\b\b\b\b\b\b\b\b\b\b\b\b\b\b\b\b\b\b\b\b\b\b\b\b\b\b\b\b\b\b\b\b\b\b\b\b\b\b\b\b\b\b\b\b\b\b\b\b\b\b\b\b\b\b\b\b\b\b\b\b\b\b\b\b\b\b\b\b\r",
      "34/36 [===========================>..] - ETA: 0s - loss: 7.2731 - mae: 2.0619 - mse: 7.2731"
     ]
    },
    {
     "name": "stdout",
     "output_type": "stream",
     "text": [
      "\b\b\b\b\b\b\b\b\b\b\b\b\b\b\b\b\b\b\b\b\b\b\b\b\b\b\b\b\b\b\b\b\b\b\b\b\b\b\b\b\b\b\b\b\b\b\b\b\b\b\b\b\b\b\b\b\b\b\b\b\b\b\b\b\b\b\b\b\b\b\b\b\b\b\b\b\b\b\b\b\b\b\b\b\b\b\b\b\b\b\b\r",
      "36/36 [==============================] - 0s 4ms/step - loss: 7.5730 - mae: 2.0767 - mse: 7.5730 - val_loss: 18.8922 - val_mae: 2.7883 - val_mse: 18.8922\n"
     ]
    },
    {
     "name": "stdout",
     "output_type": "stream",
     "text": [
      "Epoch 20/100\n",
      "\r",
      " 1/36 [..............................] - ETA: 0s - loss: 9.2847 - mae: 2.3944 - mse: 9.2847"
     ]
    },
    {
     "name": "stdout",
     "output_type": "stream",
     "text": [
      "\b\b\b\b\b\b\b\b\b\b\b\b\b\b\b\b\b\b\b\b\b\b\b\b\b\b\b\b\b\b\b\b\b\b\b\b\b\b\b\b\b\b\b\b\b\b\b\b\b\b\b\b\b\b\b\b\b\b\b\b\b\b\b\b\b\b\b\b\b\b\b\b\b\b\b\b\b\b\b\b\b\b\b\b\b\b\b\b\b\b\b\r",
      "34/36 [===========================>..] - ETA: 0s - loss: 9.8231 - mae: 2.1228 - mse: 9.8231"
     ]
    },
    {
     "name": "stdout",
     "output_type": "stream",
     "text": [
      "\b\b\b\b\b\b\b\b\b\b\b\b\b\b\b\b\b\b\b\b\b\b\b\b\b\b\b\b\b\b\b\b\b\b\b\b\b\b\b\b\b\b\b\b\b\b\b\b\b\b\b\b\b\b\b\b\b\b\b\b\b\b\b\b\b\b\b\b\b\b\b\b\b\b\b\b\b\b\b\b\b\b\b\b\b\b\b\b\b\b\b\r",
      "36/36 [==============================] - 0s 4ms/step - loss: 9.9088 - mae: 2.1337 - mse: 9.9088 - val_loss: 20.4872 - val_mae: 3.0031 - val_mse: 20.4872\n"
     ]
    },
    {
     "name": "stdout",
     "output_type": "stream",
     "text": [
      "Epoch 21/100\n",
      "\r",
      " 1/36 [..............................] - ETA: 0s - loss: 8.2203 - mae: 2.1229 - mse: 8.2203"
     ]
    },
    {
     "name": "stdout",
     "output_type": "stream",
     "text": [
      "\b\b\b\b\b\b\b\b\b\b\b\b\b\b\b\b\b\b\b\b\b\b\b\b\b\b\b\b\b\b\b\b\b\b\b\b\b\b\b\b\b\b\b\b\b\b\b\b\b\b\b\b\b\b\b\b\b\b\b\b\b\b\b\b\b\b\b\b\b\b\b\b\b\b\b\b\b\b\b\b\b\b\b\b\b\b\b\b\b\b\b\r",
      "34/36 [===========================>..] - ETA: 0s - loss: 9.4922 - mae: 2.2047 - mse: 9.4922"
     ]
    },
    {
     "name": "stdout",
     "output_type": "stream",
     "text": [
      "\b\b\b\b\b\b\b\b\b\b\b\b\b\b\b\b\b\b\b\b\b\b\b\b\b\b\b\b\b\b\b\b\b\b\b\b\b\b\b\b\b\b\b\b\b\b\b\b\b\b\b\b\b\b\b\b\b\b\b\b\b\b\b\b\b\b\b\b\b\b\b\b\b\b\b\b\b\b\b\b\b\b\b\b\b\b\b\b\b\b\b\r",
      "36/36 [==============================] - 0s 4ms/step - loss: 9.5878 - mae: 2.2060 - mse: 9.5878 - val_loss: 18.9155 - val_mae: 2.7650 - val_mse: 18.9155\n"
     ]
    },
    {
     "name": "stdout",
     "output_type": "stream",
     "text": [
      "Epoch 22/100\n",
      "\r",
      " 1/36 [..............................] - ETA: 0s - loss: 88.0672 - mae: 5.9110 - mse: 88.0672"
     ]
    },
    {
     "name": "stdout",
     "output_type": "stream",
     "text": [
      "\b\b\b\b\b\b\b\b\b\b\b\b\b\b\b\b\b\b\b\b\b\b\b\b\b\b\b\b\b\b\b\b\b\b\b\b\b\b\b\b\b\b\b\b\b\b\b\b\b\b\b\b\b\b\b\b\b\b\b\b\b\b\b\b\b\b\b\b\b\b\b\b\b\b\b\b\b\b\b\b\b\b\b\b\b\b\b\b\b\b\b\b\b\r",
      "34/36 [===========================>..] - ETA: 0s - loss: 17.4081 - mae: 2.5941 - mse: 17.4081"
     ]
    },
    {
     "name": "stdout",
     "output_type": "stream",
     "text": [
      "\b\b\b\b\b\b\b\b\b\b\b\b\b\b\b\b\b\b\b\b\b\b\b\b\b\b\b\b\b\b\b\b\b\b\b\b\b\b\b\b\b\b\b\b\b\b\b\b\b\b\b\b\b\b\b\b\b\b\b\b\b\b\b\b\b\b\b\b\b\b\b\b\b\b\b\b\b\b\b\b\b\b\b\b\b\b\b\b\b\b\b\b\b\r",
      "36/36 [==============================] - 0s 4ms/step - loss: 16.8255 - mae: 2.5642 - mse: 16.8255 - val_loss: 17.5211 - val_mae: 2.5845 - val_mse: 17.5211\n"
     ]
    },
    {
     "name": "stdout",
     "output_type": "stream",
     "text": [
      "Epoch 23/100\n",
      "\r",
      " 1/36 [..............................] - ETA: 0s - loss: 61.7463 - mae: 3.9095 - mse: 61.7463"
     ]
    },
    {
     "name": "stdout",
     "output_type": "stream",
     "text": [
      "\b\b\b\b\b\b\b\b\b\b\b\b\b\b\b\b\b\b\b\b\b\b\b\b\b\b\b\b\b\b\b\b\b\b\b\b\b\b\b\b\b\b\b\b\b\b\b\b\b\b\b\b\b\b\b\b\b\b\b\b\b\b\b\b\b\b\b\b\b\b\b\b\b\b\b\b\b\b\b\b\b\b\b\b\b\b\b\b\b\b\b\b\b\r",
      "34/36 [===========================>..] - ETA: 0s - loss: 14.2616 - mae: 2.3073 - mse: 14.2616"
     ]
    },
    {
     "name": "stdout",
     "output_type": "stream",
     "text": [
      "\b\b\b\b\b\b\b\b\b\b\b\b\b\b\b\b\b\b\b\b\b\b\b\b\b\b\b\b\b\b\b\b\b\b\b\b\b\b\b\b\b\b\b\b\b\b\b\b\b\b\b\b\b\b\b\b\b\b\b\b\b\b\b\b\b\b\b\b\b\b\b\b\b\b\b\b\b\b\b\b\b\b\b\b\b\b\b\b\b\b\b\b\b\r",
      "36/36 [==============================] - 0s 4ms/step - loss: 13.9498 - mae: 2.2999 - mse: 13.9498 - val_loss: 17.6913 - val_mae: 2.5966 - val_mse: 17.6913\n"
     ]
    },
    {
     "name": "stdout",
     "output_type": "stream",
     "text": [
      "Epoch 24/100\n",
      "\r",
      " 1/36 [..............................] - ETA: 0s - loss: 7.5578 - mae: 2.3030 - mse: 7.5578"
     ]
    },
    {
     "name": "stdout",
     "output_type": "stream",
     "text": [
      "\b\b\b\b\b\b\b\b\b\b\b\b\b\b\b\b\b\b\b\b\b\b\b\b\b\b\b\b\b\b\b\b\b\b\b\b\b\b\b\b\b\b\b\b\b\b\b\b\b\b\b\b\b\b\b\b\b\b\b\b\b\b\b\b\b\b\b\b\b\b\b\b\b\b\b\b\b\b\b\b\b\b\b\b\b\b\b\b\b\b\b\r",
      "34/36 [===========================>..] - ETA: 0s - loss: 8.6976 - mae: 2.1123 - mse: 8.6976"
     ]
    },
    {
     "name": "stdout",
     "output_type": "stream",
     "text": [
      "\b\b\b\b\b\b\b\b\b\b\b\b\b\b\b\b\b\b\b\b\b\b\b\b\b\b\b\b\b\b\b\b\b\b\b\b\b\b\b\b\b\b\b\b\b\b\b\b\b\b\b\b\b\b\b\b\b\b\b\b\b\b\b\b\b\b\b\b\b\b\b\b\b\b\b\b\b\b\b\b\b\b\b\b\b\b\b\b\b\b\b\r",
      "36/36 [==============================] - 0s 4ms/step - loss: 8.8047 - mae: 2.1198 - mse: 8.8047 - val_loss: 17.3866 - val_mae: 2.5966 - val_mse: 17.3866\n"
     ]
    },
    {
     "name": "stdout",
     "output_type": "stream",
     "text": [
      "Epoch 25/100\n",
      "\r",
      " 1/36 [..............................] - ETA: 0s - loss: 5.5663 - mae: 2.0179 - mse: 5.5663"
     ]
    },
    {
     "name": "stdout",
     "output_type": "stream",
     "text": [
      "\b\b\b\b\b\b\b\b\b\b\b\b\b\b\b\b\b\b\b\b\b\b\b\b\b\b\b\b\b\b\b\b\b\b\b\b\b\b\b\b\b\b\b\b\b\b\b\b\b\b\b\b\b\b\b\b\b\b\b\b\b\b\b\b\b\b\b\b\b\b\b\b\b\b\b\b\b\b\b\b\b\b\b\b\b\b\b\b\b\b\b\r",
      "34/36 [===========================>..] - ETA: 0s - loss: 15.7435 - mae: 2.5144 - mse: 15.7435"
     ]
    },
    {
     "name": "stdout",
     "output_type": "stream",
     "text": [
      "\b\b\b\b\b\b\b\b\b\b\b\b\b\b\b\b\b\b\b\b\b\b\b\b\b\b\b\b\b\b\b\b\b\b\b\b\b\b\b\b\b\b\b\b\b\b\b\b\b\b\b\b\b\b\b\b\b\b\b\b\b\b\b\b\b\b\b\b\b\b\b\b\b\b\b\b\b\b\b\b\b\b\b\b\b\b\b\b\b\b\b\b\b\r",
      "36/36 [==============================] - 0s 4ms/step - loss: 15.2782 - mae: 2.4855 - mse: 15.2782 - val_loss: 17.4940 - val_mae: 2.6023 - val_mse: 17.4940\n"
     ]
    },
    {
     "name": "stdout",
     "output_type": "stream",
     "text": [
      "Epoch 26/100\n",
      "\r",
      " 1/36 [..............................] - ETA: 0s - loss: 5.9803 - mae: 2.0619 - mse: 5.9803"
     ]
    },
    {
     "name": "stdout",
     "output_type": "stream",
     "text": [
      "\b\b\b\b\b\b\b\b\b\b\b\b\b\b\b\b\b\b\b\b\b\b\b\b\b\b\b\b\b\b\b\b\b\b\b\b\b\b\b\b\b\b\b\b\b\b\b\b\b\b\b\b\b\b\b\b\b\b\b\b\b\b\b\b\b\b\b\b\b\b\b\b\b\b\b\b\b\b\b\b\b\b\b\b\b\b\b\b\b\b\b\r",
      "34/36 [===========================>..] - ETA: 0s - loss: 11.3579 - mae: 2.2223 - mse: 11.3579"
     ]
    },
    {
     "name": "stdout",
     "output_type": "stream",
     "text": [
      "\b\b\b\b\b\b\b\b\b\b\b\b\b\b\b\b\b\b\b\b\b\b\b\b\b\b\b\b\b\b\b\b\b\b\b\b\b\b\b\b\b\b\b\b\b\b\b\b\b\b\b\b\b\b\b\b\b\b\b\b\b\b\b\b\b\b\b\b\b\b\b\b\b\b\b\b\b\b\b\b\b\b\b\b\b\b\b\b\b\b\b\b\b\r",
      "36/36 [==============================] - 0s 4ms/step - loss: 11.2349 - mae: 2.2174 - mse: 11.2349 - val_loss: 17.0513 - val_mae: 2.5528 - val_mse: 17.0513\n"
     ]
    },
    {
     "name": "stdout",
     "output_type": "stream",
     "text": [
      "Epoch 27/100\n",
      "\r",
      " 1/36 [..............................] - ETA: 0s - loss: 4.2520 - mae: 1.5526 - mse: 4.2520"
     ]
    },
    {
     "name": "stdout",
     "output_type": "stream",
     "text": [
      "\b\b\b\b\b\b\b\b\b\b\b\b\b\b\b\b\b\b\b\b\b\b\b\b\b\b\b\b\b\b\b\b\b\b\b\b\b\b\b\b\b\b\b\b\b\b\b\b\b\b\b\b\b\b\b\b\b\b\b\b\b\b\b\b\b\b\b\b\b\b\b\b\b\b\b\b\b\b\b\b\b\b\b\b\b\b\b\b\b\b\b\r",
      "34/36 [===========================>..] - ETA: 0s - loss: 9.5451 - mae: 2.0484 - mse: 9.5451"
     ]
    },
    {
     "name": "stdout",
     "output_type": "stream",
     "text": [
      "\b\b\b\b\b\b\b\b\b\b\b\b\b\b\b\b\b\b\b\b\b\b\b\b\b\b\b\b\b\b\b\b\b\b\b\b\b\b\b\b\b\b\b\b\b\b\b\b\b\b\b\b\b\b\b\b\b\b\b\b\b\b\b\b\b\b\b\b\b\b\b\b\b\b\b\b\b\b\b\b\b\b\b\b\b\b\b\b\b\b\b\r",
      "36/36 [==============================] - 0s 4ms/step - loss: 9.5552 - mae: 2.0543 - mse: 9.5552 - val_loss: 17.1353 - val_mae: 2.5606 - val_mse: 17.1353\n"
     ]
    },
    {
     "name": "stdout",
     "output_type": "stream",
     "text": [
      "Epoch 28/100\n",
      "\r",
      " 1/36 [..............................] - ETA: 0s - loss: 1.6867 - mae: 0.9979 - mse: 1.6867"
     ]
    },
    {
     "name": "stdout",
     "output_type": "stream",
     "text": [
      "\b\b\b\b\b\b\b\b\b\b\b\b\b\b\b\b\b\b\b\b\b\b\b\b\b\b\b\b\b\b\b\b\b\b\b\b\b\b\b\b\b\b\b\b\b\b\b\b\b\b\b\b\b\b\b\b\b\b\b\b\b\b\b\b\b\b\b\b\b\b\b\b\b\b\b\b\b\b\b\b\b\b\b\b\b\b\b\b\b\b\b\r",
      "34/36 [===========================>..] - ETA: 0s - loss: 6.0935 - mae: 1.7833 - mse: 6.0935"
     ]
    },
    {
     "name": "stdout",
     "output_type": "stream",
     "text": [
      "\b\b\b\b\b\b\b\b\b\b\b\b\b\b\b\b\b\b\b\b\b\b\b\b\b\b\b\b\b\b\b\b\b\b\b\b\b\b\b\b\b\b\b\b\b\b\b\b\b\b\b\b\b\b\b\b\b\b\b\b\b\b\b\b\b\b\b\b\b\b\b\b\b\b\b\b\b\b\b\b\b\b\b\b\b\b\b\b\b\b\b\r",
      "36/36 [==============================] - 0s 4ms/step - loss: 6.3685 - mae: 1.8117 - mse: 6.3685 - val_loss: 16.9227 - val_mae: 2.5546 - val_mse: 16.9227\n"
     ]
    },
    {
     "name": "stdout",
     "output_type": "stream",
     "text": [
      "Epoch 29/100\n",
      "\r",
      " 1/36 [..............................] - ETA: 0s - loss: 5.5946 - mae: 2.0001 - mse: 5.5946"
     ]
    },
    {
     "name": "stdout",
     "output_type": "stream",
     "text": [
      "\b\b\b\b\b\b\b\b\b\b\b\b\b\b\b\b\b\b\b\b\b\b\b\b\b\b\b\b\b\b\b\b\b\b\b\b\b\b\b\b\b\b\b\b\b\b\b\b\b\b\b\b\b\b\b\b\b\b\b\b\b\b\b\b\b\b\b\b\b\b\b\b\b\b\b\b\b\b\b\b\b\b\b\b\b\b\b\b\b\b\b\r",
      "34/36 [===========================>..] - ETA: 0s - loss: 8.2898 - mae: 2.0506 - mse: 8.2898"
     ]
    },
    {
     "name": "stdout",
     "output_type": "stream",
     "text": [
      "\b\b\b\b\b\b\b\b\b\b\b\b\b\b\b\b\b\b\b\b\b\b\b\b\b\b\b\b\b\b\b\b\b\b\b\b\b\b\b\b\b\b\b\b\b\b\b\b\b\b\b\b\b\b\b\b\b\b\b\b\b\b\b\b\b\b\b\b\b\b\b\b\b\b\b\b\b\b\b\b\b\b\b\b\b\b\b\b\b\b\b\r",
      "36/36 [==============================] - 0s 4ms/step - loss: 8.3712 - mae: 2.0556 - mse: 8.3712 - val_loss: 17.0194 - val_mae: 2.5835 - val_mse: 17.0194\n"
     ]
    },
    {
     "name": "stdout",
     "output_type": "stream",
     "text": [
      "Epoch 30/100\n",
      "\r",
      " 1/36 [..............................] - ETA: 0s - loss: 12.7140 - mae: 2.2912 - mse: 12.7140"
     ]
    },
    {
     "name": "stdout",
     "output_type": "stream",
     "text": [
      "\b\b\b\b\b\b\b\b\b\b\b\b\b\b\b\b\b\b\b\b\b\b\b\b\b\b\b\b\b\b\b\b\b\b\b\b\b\b\b\b\b\b\b\b\b\b\b\b\b\b\b\b\b\b\b\b\b\b\b\b\b\b\b\b\b\b\b\b\b\b\b\b\b\b\b\b\b\b\b\b\b\b\b\b\b\b\b\b\b\b\b\b\b\r",
      "34/36 [===========================>..] - ETA: 0s - loss: 9.7931 - mae: 2.0854 - mse: 9.7931  "
     ]
    },
    {
     "name": "stdout",
     "output_type": "stream",
     "text": [
      "\b\b\b\b\b\b\b\b\b\b\b\b\b\b\b\b\b\b\b\b\b\b\b\b\b\b\b\b\b\b\b\b\b\b\b\b\b\b\b\b\b\b\b\b\b\b\b\b\b\b\b\b\b\b\b\b\b\b\b\b\b\b\b\b\b\b\b\b\b\b\b\b\b\b\b\b\b\b\b\b\b\b\b\b\b\b\b\b\b\b\b\r",
      "36/36 [==============================] - 0s 4ms/step - loss: 9.7509 - mae: 2.0821 - mse: 9.7509 - val_loss: 18.5602 - val_mae: 2.7930 - val_mse: 18.5602\n"
     ]
    },
    {
     "name": "stdout",
     "output_type": "stream",
     "text": [
      "Epoch 31/100\n",
      "\r",
      " 1/36 [..............................] - ETA: 0s - loss: 8.3518 - mae: 2.1648 - mse: 8.3518"
     ]
    },
    {
     "name": "stdout",
     "output_type": "stream",
     "text": [
      "\b\b\b\b\b\b\b\b\b\b\b\b\b\b\b\b\b\b\b\b\b\b\b\b\b\b\b\b\b\b\b\b\b\b\b\b\b\b\b\b\b\b\b\b\b\b\b\b\b\b\b\b\b\b\b\b\b\b\b\b\b\b\b\b\b\b\b\b\b\b\b\b\b\b\b\b\b\b\b\b\b\b\b\b\b\b\b\b\b\b\b\r",
      "34/36 [===========================>..] - ETA: 0s - loss: 10.3809 - mae: 2.1804 - mse: 10.3809"
     ]
    },
    {
     "name": "stdout",
     "output_type": "stream",
     "text": [
      "\b\b\b\b\b\b\b\b\b\b\b\b\b\b\b\b\b\b\b\b\b\b\b\b\b\b\b\b\b\b\b\b\b\b\b\b\b\b\b\b\b\b\b\b\b\b\b\b\b\b\b\b\b\b\b\b\b\b\b\b\b\b\b\b\b\b\b\b\b\b\b\b\b\b\b\b\b\b\b\b\b\b\b\b\b\b\b\b\b\b\b\b\b\r",
      "36/36 [==============================] - 0s 4ms/step - loss: 10.2653 - mae: 2.1712 - mse: 10.2653 - val_loss: 17.1093 - val_mae: 2.5767 - val_mse: 17.1093\n"
     ]
    },
    {
     "name": "stdout",
     "output_type": "stream",
     "text": [
      "Epoch 32/100\n",
      "\r",
      " 1/36 [..............................] - ETA: 0s - loss: 6.0563 - mae: 2.0388 - mse: 6.0563"
     ]
    },
    {
     "name": "stdout",
     "output_type": "stream",
     "text": [
      "\b\b\b\b\b\b\b\b\b\b\b\b\b\b\b\b\b\b\b\b\b\b\b\b\b\b\b\b\b\b\b\b\b\b\b\b\b\b\b\b\b\b\b\b\b\b\b\b\b\b\b\b\b\b\b\b\b\b\b\b\b\b\b\b\b\b\b\b\b\b\b\b\b\b\b\b\b\b\b\b\b\b\b\b\b\b\b\b\b\b\b\r",
      "34/36 [===========================>..] - ETA: 0s - loss: 10.1055 - mae: 2.0935 - mse: 10.1055"
     ]
    },
    {
     "name": "stdout",
     "output_type": "stream",
     "text": [
      "\b\b\b\b\b\b\b\b\b\b\b\b\b\b\b\b\b\b\b\b\b\b\b\b\b\b\b\b\b\b\b\b\b\b\b\b\b\b\b\b\b\b\b\b\b\b\b\b\b\b\b\b\b\b\b\b\b\b\b\b\b\b\b\b\b\b\b\b\b\b\b\b\b\b\b\b\b\b\b\b\b\b\b\b\b\b\b\b\b\b\b\b\b\r",
      "36/36 [==============================] - 0s 4ms/step - loss: 10.0064 - mae: 2.0903 - mse: 10.0064 - val_loss: 16.6067 - val_mae: 2.5725 - val_mse: 16.6067\n"
     ]
    },
    {
     "name": "stdout",
     "output_type": "stream",
     "text": [
      "Epoch 33/100\n",
      "\r",
      " 1/36 [..............................] - ETA: 0s - loss: 4.9206 - mae: 1.5271 - mse: 4.9206"
     ]
    },
    {
     "name": "stdout",
     "output_type": "stream",
     "text": [
      "\b\b\b\b\b\b\b\b\b\b\b\b\b\b\b\b\b\b\b\b\b\b\b\b\b\b\b\b\b\b\b\b\b\b\b\b\b\b\b\b\b\b\b\b\b\b\b\b\b\b\b\b\b\b\b\b\b\b\b\b\b\b\b\b\b\b\b\b\b\b\b\b\b\b\b\b\b\b\b\b\b\b\b\b\b\b\b\b\b\b\b\r",
      "34/36 [===========================>..] - ETA: 0s - loss: 9.7967 - mae: 2.1079 - mse: 9.7967"
     ]
    },
    {
     "name": "stdout",
     "output_type": "stream",
     "text": [
      "\b\b\b\b\b\b\b\b\b\b\b\b\b\b\b\b\b\b\b\b\b\b\b\b\b\b\b\b\b\b\b\b\b\b\b\b\b\b\b\b\b\b\b\b\b\b\b\b\b\b\b\b\b\b\b\b\b\b\b\b\b\b\b\b\b\b\b\b\b\b\b\b\b\b\b\b\b\b\b\b\b\b\b\b\b\b\b\b\b\b\b\r",
      "36/36 [==============================] - 0s 4ms/step - loss: 9.7213 - mae: 2.1040 - mse: 9.7213 - val_loss: 16.5507 - val_mae: 2.5220 - val_mse: 16.5507\n"
     ]
    },
    {
     "name": "stdout",
     "output_type": "stream",
     "text": [
      "Epoch 34/100\n",
      "\r",
      " 1/36 [..............................] - ETA: 0s - loss: 9.7334 - mae: 1.9449 - mse: 9.7334"
     ]
    },
    {
     "name": "stdout",
     "output_type": "stream",
     "text": [
      "\b\b\b\b\b\b\b\b\b\b\b\b\b\b\b\b\b\b\b\b\b\b\b\b\b\b\b\b\b\b\b\b\b\b\b\b\b\b\b\b\b\b\b\b\b\b\b\b\b\b\b\b\b\b\b\b\b\b\b\b\b\b\b\b\b\b\b\b\b\b\b\b\b\b\b\b\b\b\b\b\b\b\b\b\b\b\b\b\b\b\b\r",
      "34/36 [===========================>..] - ETA: 0s - loss: 8.7272 - mae: 1.9952 - mse: 8.7272"
     ]
    },
    {
     "name": "stdout",
     "output_type": "stream",
     "text": [
      "\b\b\b\b\b\b\b\b\b\b\b\b\b\b\b\b\b\b\b\b\b\b\b\b\b\b\b\b\b\b\b\b\b\b\b\b\b\b\b\b\b\b\b\b\b\b\b\b\b\b\b\b\b\b\b\b\b\b\b\b\b\b\b\b\b\b\b\b\b\b\b\b\b\b\b\b\b\b\b\b\b\b\b\b\b\b\b\b\b\b\b\r",
      "36/36 [==============================] - 0s 4ms/step - loss: 8.7388 - mae: 1.9970 - mse: 8.7388 - val_loss: 16.7476 - val_mae: 2.5162 - val_mse: 16.7476\n"
     ]
    },
    {
     "name": "stdout",
     "output_type": "stream",
     "text": [
      "Epoch 35/100\n",
      "\r",
      " 1/36 [..............................] - ETA: 0s - loss: 3.8696 - mae: 1.5330 - mse: 3.8696"
     ]
    },
    {
     "name": "stdout",
     "output_type": "stream",
     "text": [
      "\b\b\b\b\b\b\b\b\b\b\b\b\b\b\b\b\b\b\b\b\b\b\b\b\b\b\b\b\b\b\b\b\b\b\b\b\b\b\b\b\b\b\b\b\b\b\b\b\b\b\b\b\b\b\b\b\b\b\b\b\b\b\b\b\b\b\b\b\b\b\b\b\b\b\b\b\b\b\b\b\b\b\b\b\b\b\b\b\b\b\b\r",
      "34/36 [===========================>..] - ETA: 0s - loss: 7.3352 - mae: 1.9501 - mse: 7.3352"
     ]
    },
    {
     "name": "stdout",
     "output_type": "stream",
     "text": [
      "\b\b\b\b\b\b\b\b\b\b\b\b\b\b\b\b\b\b\b\b\b\b\b\b\b\b\b\b\b\b\b\b\b\b\b\b\b\b\b\b\b\b\b\b\b\b\b\b\b\b\b\b\b\b\b\b\b\b\b\b\b\b\b\b\b\b\b\b\b\b\b\b\b\b\b\b\b\b\b\b\b\b\b\b\b\b\b\b\b\b\b\r",
      "36/36 [==============================] - 0s 4ms/step - loss: 7.4509 - mae: 1.9567 - mse: 7.4509 - val_loss: 16.7802 - val_mae: 2.5262 - val_mse: 16.7802\n"
     ]
    },
    {
     "name": "stdout",
     "output_type": "stream",
     "text": [
      "Epoch 36/100\n",
      "\r",
      " 1/36 [..............................] - ETA: 0s - loss: 7.2068 - mae: 2.0862 - mse: 7.2068"
     ]
    },
    {
     "name": "stdout",
     "output_type": "stream",
     "text": [
      "\b\b\b\b\b\b\b\b\b\b\b\b\b\b\b\b\b\b\b\b\b\b\b\b\b\b\b\b\b\b\b\b\b\b\b\b\b\b\b\b\b\b\b\b\b\b\b\b\b\b\b\b\b\b\b\b\b\b\b\b\b\b\b\b\b\b\b\b\b\b\b\b\b\b\b\b\b\b\b\b\b\b\b\b\b\b\b\b\b\b\b\r",
      "34/36 [===========================>..] - ETA: 0s - loss: 7.1035 - mae: 1.8050 - mse: 7.1035"
     ]
    },
    {
     "name": "stdout",
     "output_type": "stream",
     "text": [
      "\b\b\b\b\b\b\b\b\b\b\b\b\b\b\b\b\b\b\b\b\b\b\b\b\b\b\b\b\b\b\b\b\b\b\b\b\b\b\b\b\b\b\b\b\b\b\b\b\b\b\b\b\b\b\b\b\b\b\b\b\b\b\b\b\b\b\b\b\b\b\b\b\b\b\b\b\b\b\b\b\b\b\b\b\b\b\b\b\b\b\b\r",
      "36/36 [==============================] - 0s 4ms/step - loss: 7.2335 - mae: 1.8211 - mse: 7.2335 - val_loss: 16.3621 - val_mae: 2.5092 - val_mse: 16.3621\n"
     ]
    },
    {
     "name": "stdout",
     "output_type": "stream",
     "text": [
      "Epoch 37/100\n",
      "\r",
      " 1/36 [..............................] - ETA: 0s - loss: 2.9041 - mae: 1.3063 - mse: 2.9041"
     ]
    },
    {
     "name": "stdout",
     "output_type": "stream",
     "text": [
      "\b\b\b\b\b\b\b\b\b\b\b\b\b\b\b\b\b\b\b\b\b\b\b\b\b\b\b\b\b\b\b\b\b\b\b\b\b\b\b\b\b\b\b\b\b\b\b\b\b\b\b\b\b\b\b\b\b\b\b\b\b\b\b\b\b\b\b\b\b\b\b\b\b\b\b\b\b\b\b\b\b\b\b\b\b\b\b\b\b\b\b\r",
      "34/36 [===========================>..] - ETA: 0s - loss: 6.5019 - mae: 1.7861 - mse: 6.5019"
     ]
    },
    {
     "name": "stdout",
     "output_type": "stream",
     "text": [
      "\b\b\b\b\b\b\b\b\b\b\b\b\b\b\b\b\b\b\b\b\b\b\b\b\b\b\b\b\b\b\b\b\b\b\b\b\b\b\b\b\b\b\b\b\b\b\b\b\b\b\b\b\b\b\b\b\b\b\b\b\b\b\b\b\b\b\b\b\b\b\b\b\b\b\b\b\b\b\b\b\b\b\b\b\b\b\b\b\b\b\b\r",
      "36/36 [==============================] - 0s 4ms/step - loss: 6.6676 - mae: 1.8034 - mse: 6.6676 - val_loss: 16.7941 - val_mae: 2.5776 - val_mse: 16.7941\n"
     ]
    },
    {
     "name": "stdout",
     "output_type": "stream",
     "text": [
      "Epoch 38/100\n",
      "\r",
      " 1/36 [..............................] - ETA: 0s - loss: 13.0573 - mae: 2.7031 - mse: 13.0573"
     ]
    },
    {
     "name": "stdout",
     "output_type": "stream",
     "text": [
      "\b\b\b\b\b\b\b\b\b\b\b\b\b\b\b\b\b\b\b\b\b\b\b\b\b\b\b\b\b\b\b\b\b\b\b\b\b\b\b\b\b\b\b\b\b\b\b\b\b\b\b\b\b\b\b\b\b\b\b\b\b\b\b\b\b\b\b\b\b\b\b\b\b\b\b\b\b\b\b\b\b\b\b\b\b\b\b\b\b\b\b\b\b\r",
      "34/36 [===========================>..] - ETA: 0s - loss: 7.3827 - mae: 1.9377 - mse: 7.3827  "
     ]
    },
    {
     "name": "stdout",
     "output_type": "stream",
     "text": [
      "\b\b\b\b\b\b\b\b\b\b\b\b\b\b\b\b\b\b\b\b\b\b\b\b\b\b\b\b\b\b\b\b\b\b\b\b\b\b\b\b\b\b\b\b\b\b\b\b\b\b\b\b\b\b\b\b\b\b\b\b\b\b\b\b\b\b\b\b\b\b\b\b\b\b\b\b\b\b\b\b\b\b\b\b\b\b\b\b\b\b\b\r",
      "36/36 [==============================] - 0s 4ms/step - loss: 7.4656 - mae: 1.9401 - mse: 7.4656 - val_loss: 16.3856 - val_mae: 2.4764 - val_mse: 16.3856\n"
     ]
    },
    {
     "name": "stdout",
     "output_type": "stream",
     "text": [
      "Epoch 39/100\n",
      "\r",
      " 1/36 [..............................] - ETA: 0s - loss: 5.2575 - mae: 1.6484 - mse: 5.2575"
     ]
    },
    {
     "name": "stdout",
     "output_type": "stream",
     "text": [
      "\b\b\b\b\b\b\b\b\b\b\b\b\b\b\b\b\b\b\b\b\b\b\b\b\b\b\b\b\b\b\b\b\b\b\b\b\b\b\b\b\b\b\b\b\b\b\b\b\b\b\b\b\b\b\b\b\b\b\b\b\b\b\b\b\b\b\b\b\b\b\b\b\b\b\b\b\b\b\b\b\b\b\b\b\b\b\b\b\b\b\b\r",
      "34/36 [===========================>..] - ETA: 0s - loss: 6.4544 - mae: 1.8230 - mse: 6.4544"
     ]
    },
    {
     "name": "stdout",
     "output_type": "stream",
     "text": [
      "\b\b\b\b\b\b\b\b\b\b\b\b\b\b\b\b\b\b\b\b\b\b\b\b\b\b\b\b\b\b\b\b\b\b\b\b\b\b\b\b\b\b\b\b\b\b\b\b\b\b\b\b\b\b\b\b\b\b\b\b\b\b\b\b\b\b\b\b\b\b\b\b\b\b\b\b\b\b\b\b\b\b\b\b\b\b\b\b\b\b\b\r",
      "36/36 [==============================] - 0s 4ms/step - loss: 6.5997 - mae: 1.8336 - mse: 6.5997 - val_loss: 17.8949 - val_mae: 2.6875 - val_mse: 17.8949\n"
     ]
    },
    {
     "name": "stdout",
     "output_type": "stream",
     "text": [
      "Epoch 40/100\n",
      "\r",
      " 1/36 [..............................] - ETA: 0s - loss: 4.7348 - mae: 1.8547 - mse: 4.7348"
     ]
    },
    {
     "name": "stdout",
     "output_type": "stream",
     "text": [
      "\b\b\b\b\b\b\b\b\b\b\b\b\b\b\b\b\b\b\b\b\b\b\b\b\b\b\b\b\b\b\b\b\b\b\b\b\b\b\b\b\b\b\b\b\b\b\b\b\b\b\b\b\b\b\b\b\b\b\b\b\b\b\b\b\b\b\b\b\b\b\b\b\b\b\b\b\b\b\b\b\b\b\b\b\b\b\b\b\b\b\b\r",
      "34/36 [===========================>..] - ETA: 0s - loss: 8.5469 - mae: 1.9256 - mse: 8.5469"
     ]
    },
    {
     "name": "stdout",
     "output_type": "stream",
     "text": [
      "\b\b\b\b\b\b\b\b\b\b\b\b\b\b\b\b\b\b\b\b\b\b\b\b\b\b\b\b\b\b\b\b\b\b\b\b\b\b\b\b\b\b\b\b\b\b\b\b\b\b\b\b\b\b\b\b\b\b\b\b\b\b\b\b\b\b\b\b\b\b\b\b\b\b\b\b\b\b\b\b\b\b\b\b\b\b\b\b\b\b\b\r",
      "36/36 [==============================] - 0s 4ms/step - loss: 8.5060 - mae: 1.9286 - mse: 8.5060 - val_loss: 20.3775 - val_mae: 3.0223 - val_mse: 20.3775\n"
     ]
    },
    {
     "name": "stdout",
     "output_type": "stream",
     "text": [
      "Epoch 41/100\n",
      "\r",
      " 1/36 [..............................] - ETA: 0s - loss: 32.8726 - mae: 4.2848 - mse: 32.8726"
     ]
    },
    {
     "name": "stdout",
     "output_type": "stream",
     "text": [
      "\b\b\b\b\b\b\b\b\b\b\b\b\b\b\b\b\b\b\b\b\b\b\b\b\b\b\b\b\b\b\b\b\b\b\b\b\b\b\b\b\b\b\b\b\b\b\b\b\b\b\b\b\b\b\b\b\b\b\b\b\b\b\b\b\b\b\b\b\b\b\b\b\b\b\b\b\b\b\b\b\b\b\b\b\b\b\b\b\b\b\b\b\b\r",
      "34/36 [===========================>..] - ETA: 0s - loss: 10.5844 - mae: 2.2700 - mse: 10.5844"
     ]
    },
    {
     "name": "stdout",
     "output_type": "stream",
     "text": [
      "\b\b\b\b\b\b\b\b\b\b\b\b\b\b\b\b\b\b\b\b\b\b\b\b\b\b\b\b\b\b\b\b\b\b\b\b\b\b\b\b\b\b\b\b\b\b\b\b\b\b\b\b\b\b\b\b\b\b\b\b\b\b\b\b\b\b\b\b\b\b\b\b\b\b\b\b\b\b\b\b\b\b\b\b\b\b\b\b\b\b\b\b\b\r",
      "36/36 [==============================] - 0s 4ms/step - loss: 10.3845 - mae: 2.2426 - mse: 10.3845 - val_loss: 15.7329 - val_mae: 2.4570 - val_mse: 15.7329\n"
     ]
    },
    {
     "name": "stdout",
     "output_type": "stream",
     "text": [
      "Epoch 42/100\n",
      "\r",
      " 1/36 [..............................] - ETA: 0s - loss: 3.4920 - mae: 1.6141 - mse: 3.4920"
     ]
    },
    {
     "name": "stdout",
     "output_type": "stream",
     "text": [
      "\b\b\b\b\b\b\b\b\b\b\b\b\b\b\b\b\b\b\b\b\b\b\b\b\b\b\b\b\b\b\b\b\b\b\b\b\b\b\b\b\b\b\b\b\b\b\b\b\b\b\b\b\b\b\b\b\b\b\b\b\b\b\b\b\b\b\b\b\b\b\b\b\b\b\b\b\b\b\b\b\b\b\b\b\b\b\b\b\b\b\b\r",
      "34/36 [===========================>..] - ETA: 0s - loss: 6.2661 - mae: 1.7896 - mse: 6.2661"
     ]
    },
    {
     "name": "stdout",
     "output_type": "stream",
     "text": [
      "\b\b\b\b\b\b\b\b\b\b\b\b\b\b\b\b\b\b\b\b\b\b\b\b\b\b\b\b\b\b\b\b\b\b\b\b\b\b\b\b\b\b\b\b\b\b\b\b\b\b\b\b\b\b\b\b\b\b\b\b\b\b\b\b\b\b\b\b\b\b\b\b\b\b\b\b\b\b\b\b\b\b\b\b\b\b\b\b\b\b\b\r",
      "36/36 [==============================] - 0s 4ms/step - loss: 6.4080 - mae: 1.8001 - mse: 6.4080 - val_loss: 16.2901 - val_mae: 2.5172 - val_mse: 16.2901\n"
     ]
    },
    {
     "name": "stdout",
     "output_type": "stream",
     "text": [
      "Epoch 43/100\n",
      "\r",
      " 1/36 [..............................] - ETA: 0s - loss: 5.7435 - mae: 1.7970 - mse: 5.7435"
     ]
    },
    {
     "name": "stdout",
     "output_type": "stream",
     "text": [
      "\b\b\b\b\b\b\b\b\b\b\b\b\b\b\b\b\b\b\b\b\b\b\b\b\b\b\b\b\b\b\b\b\b\b\b\b\b\b\b\b\b\b\b\b\b\b\b\b\b\b\b\b\b\b\b\b\b\b\b\b\b\b\b\b\b\b\b\b\b\b\b\b\b\b\b\b\b\b\b\b\b\b\b\b\b\b\b\b\b\b\b\r",
      "34/36 [===========================>..] - ETA: 0s - loss: 7.9546 - mae: 2.0051 - mse: 7.9546"
     ]
    },
    {
     "name": "stdout",
     "output_type": "stream",
     "text": [
      "\b\b\b\b\b\b\b\b\b\b\b\b\b\b\b\b\b\b\b\b\b\b\b\b\b\b\b\b\b\b\b\b\b\b\b\b\b\b\b\b\b\b\b\b\b\b\b\b\b\b\b\b\b\b\b\b\b\b\b\b\b\b\b\b\b\b\b\b\b\b\b\b\b\b\b\b\b\b\b\b\b\b\b\b\b\b\b\b\b\b\b\r",
      "36/36 [==============================] - 0s 4ms/step - loss: 7.9488 - mae: 2.0008 - mse: 7.9488 - val_loss: 16.7122 - val_mae: 2.5602 - val_mse: 16.7122\n"
     ]
    },
    {
     "name": "stdout",
     "output_type": "stream",
     "text": [
      "Epoch 44/100\n",
      "\r",
      " 1/36 [..............................] - ETA: 0s - loss: 4.4112 - mae: 1.6754 - mse: 4.4112"
     ]
    },
    {
     "name": "stdout",
     "output_type": "stream",
     "text": [
      "\b\b\b\b\b\b\b\b\b\b\b\b\b\b\b\b\b\b\b\b\b\b\b\b\b\b\b\b\b\b\b\b\b\b\b\b\b\b\b\b\b\b\b\b\b\b\b\b\b\b\b\b\b\b\b\b\b\b\b\b\b\b\b\b\b\b\b\b\b\b\b\b\b\b\b\b\b\b\b\b\b\b\b\b\b\b\b\b\b\b\b\r",
      "34/36 [===========================>..] - ETA: 0s - loss: 6.7693 - mae: 1.7447 - mse: 6.7693"
     ]
    },
    {
     "name": "stdout",
     "output_type": "stream",
     "text": [
      "\b\b\b\b\b\b\b\b\b\b\b\b\b\b\b\b\b\b\b\b\b\b\b\b\b\b\b\b\b\b\b\b\b\b\b\b\b\b\b\b\b\b\b\b\b\b\b\b\b\b\b\b\b\b\b\b\b\b\b\b\b\b\b\b\b\b\b\b\b\b\b\b\b\b\b\b\b\b\b\b\b\b\b\b\b\b\b\b\b\b\b\r",
      "36/36 [==============================] - 0s 4ms/step - loss: 6.8624 - mae: 1.7561 - mse: 6.8624 - val_loss: 16.5801 - val_mae: 2.5776 - val_mse: 16.5801\n"
     ]
    },
    {
     "name": "stdout",
     "output_type": "stream",
     "text": [
      "Epoch 45/100\n",
      "\r",
      " 1/36 [..............................] - ETA: 0s - loss: 2.7540 - mae: 1.2875 - mse: 2.7540"
     ]
    },
    {
     "name": "stdout",
     "output_type": "stream",
     "text": [
      "\b\b\b\b\b\b\b\b\b\b\b\b\b\b\b\b\b\b\b\b\b\b\b\b\b\b\b\b\b\b\b\b\b\b\b\b\b\b\b\b\b\b\b\b\b\b\b\b\b\b\b\b\b\b\b\b\b\b\b\b\b\b\b\b\b\b\b\b\b\b\b\b\b\b\b\b\b\b\b\b\b\b\b\b\b\b\b\b\b\b\b\r",
      "34/36 [===========================>..] - ETA: 0s - loss: 6.2985 - mae: 1.8006 - mse: 6.2985"
     ]
    },
    {
     "name": "stdout",
     "output_type": "stream",
     "text": [
      "\b\b\b\b\b\b\b\b\b\b\b\b\b\b\b\b\b\b\b\b\b\b\b\b\b\b\b\b\b\b\b\b\b\b\b\b\b\b\b\b\b\b\b\b\b\b\b\b\b\b\b\b\b\b\b\b\b\b\b\b\b\b\b\b\b\b\b\b\b\b\b\b\b\b\b\b\b\b\b\b\b\b\b\b\b\b\b\b\b\b\b\r",
      "36/36 [==============================] - 0s 4ms/step - loss: 6.4172 - mae: 1.8126 - mse: 6.4172 - val_loss: 17.0026 - val_mae: 2.5998 - val_mse: 17.0026\n"
     ]
    },
    {
     "name": "stdout",
     "output_type": "stream",
     "text": [
      "Epoch 46/100\n",
      "\r",
      " 1/36 [..............................] - ETA: 0s - loss: 2.5611 - mae: 1.1854 - mse: 2.5611"
     ]
    },
    {
     "name": "stdout",
     "output_type": "stream",
     "text": [
      "\b\b\b\b\b\b\b\b\b\b\b\b\b\b\b\b\b\b\b\b\b\b\b\b\b\b\b\b\b\b\b\b\b\b\b\b\b\b\b\b\b\b\b\b\b\b\b\b\b\b\b\b\b\b\b\b\b\b\b\b\b\b\b\b\b\b\b\b\b\b\b\b\b\b\b\b\b\b\b\b\b\b\b\b\b\b\b\b\b\b\b\r",
      "34/36 [===========================>..] - ETA: 0s - loss: 8.6194 - mae: 1.8914 - mse: 8.6194"
     ]
    },
    {
     "name": "stdout",
     "output_type": "stream",
     "text": [
      "\b\b\b\b\b\b\b\b\b\b\b\b\b\b\b\b\b\b\b\b\b\b\b\b\b\b\b\b\b\b\b\b\b\b\b\b\b\b\b\b\b\b\b\b\b\b\b\b\b\b\b\b\b\b\b\b\b\b\b\b\b\b\b\b\b\b\b\b\b\b\b\b\b\b\b\b\b\b\b\b\b\b\b\b\b\b\b\b\b\b\b\r",
      "36/36 [==============================] - 0s 4ms/step - loss: 8.5531 - mae: 1.8932 - mse: 8.5531 - val_loss: 15.8225 - val_mae: 2.4989 - val_mse: 15.8225\n"
     ]
    },
    {
     "name": "stdout",
     "output_type": "stream",
     "text": [
      "Epoch 47/100\n",
      "\r",
      " 1/36 [..............................] - ETA: 0s - loss: 12.7258 - mae: 2.6815 - mse: 12.7258"
     ]
    },
    {
     "name": "stdout",
     "output_type": "stream",
     "text": [
      "\b\b\b\b\b\b\b\b\b\b\b\b\b\b\b\b\b\b\b\b\b\b\b\b\b\b\b\b\b\b\b\b\b\b\b\b\b\b\b\b\b\b\b\b\b\b\b\b\b\b\b\b\b\b\b\b\b\b\b\b\b\b\b\b\b\b\b\b\b\b\b\b\b\b\b\b\b\b\b\b\b\b\b\b\b\b\b\b\b\b\b\b\b\r",
      "34/36 [===========================>..] - ETA: 0s - loss: 6.7843 - mae: 1.8230 - mse: 6.7843  "
     ]
    },
    {
     "name": "stdout",
     "output_type": "stream",
     "text": [
      "\b\b\b\b\b\b\b\b\b\b\b\b\b\b\b\b\b\b\b\b\b\b\b\b\b\b\b\b\b\b\b\b\b\b\b\b\b\b\b\b\b\b\b\b\b\b\b\b\b\b\b\b\b\b\b\b\b\b\b\b\b\b\b\b\b\b\b\b\b\b\b\b\b\b\b\b\b\b\b\b\b\b\b\b\b\b\b\b\b\b\b\r",
      "36/36 [==============================] - 0s 4ms/step - loss: 6.8571 - mae: 1.8266 - mse: 6.8571 - val_loss: 16.0052 - val_mae: 2.4626 - val_mse: 16.0052\n"
     ]
    },
    {
     "name": "stdout",
     "output_type": "stream",
     "text": [
      "Epoch 48/100\n",
      "\r",
      " 1/36 [..............................] - ETA: 0s - loss: 8.4238 - mae: 2.2927 - mse: 8.4238"
     ]
    },
    {
     "name": "stdout",
     "output_type": "stream",
     "text": [
      "\b\b\b\b\b\b\b\b\b\b\b\b\b\b\b\b\b\b\b\b\b\b\b\b\b\b\b\b\b\b\b\b\b\b\b\b\b\b\b\b\b\b\b\b\b\b\b\b\b\b\b\b\b\b\b\b\b\b\b\b\b\b\b\b\b\b\b\b\b\b\b\b\b\b\b\b\b\b\b\b\b\b\b\b\b\b\b\b\b\b\b\r",
      "34/36 [===========================>..] - ETA: 0s - loss: 7.1700 - mae: 1.8600 - mse: 7.1700"
     ]
    },
    {
     "name": "stdout",
     "output_type": "stream",
     "text": [
      "\b\b\b\b\b\b\b\b\b\b\b\b\b\b\b\b\b\b\b\b\b\b\b\b\b\b\b\b\b\b\b\b\b\b\b\b\b\b\b\b\b\b\b\b\b\b\b\b\b\b\b\b\b\b\b\b\b\b\b\b\b\b\b\b\b\b\b\b\b\b\b\b\b\b\b\b\b\b\b\b\b\b\b\b\b\b\b\b\b\b\b\r",
      "36/36 [==============================] - 0s 4ms/step - loss: 7.2145 - mae: 1.8639 - mse: 7.2145 - val_loss: 16.1480 - val_mae: 2.4762 - val_mse: 16.1480\n"
     ]
    },
    {
     "name": "stdout",
     "output_type": "stream",
     "text": [
      "Epoch 49/100\n",
      "\r",
      " 1/36 [..............................] - ETA: 0s - loss: 6.0418 - mae: 1.6365 - mse: 6.0418"
     ]
    },
    {
     "name": "stdout",
     "output_type": "stream",
     "text": [
      "\b\b\b\b\b\b\b\b\b\b\b\b\b\b\b\b\b\b\b\b\b\b\b\b\b\b\b\b\b\b\b\b\b\b\b\b\b\b\b\b\b\b\b\b\b\b\b\b\b\b\b\b\b\b\b\b\b\b\b\b\b\b\b\b\b\b\b\b\b\b\b\b\b\b\b\b\b\b\b\b\b\b\b\b\b\b\b\b\b\b\b\r",
      "34/36 [===========================>..] - ETA: 0s - loss: 7.1973 - mae: 1.8268 - mse: 7.1973"
     ]
    },
    {
     "name": "stdout",
     "output_type": "stream",
     "text": [
      "\b\b\b\b\b\b\b\b\b\b\b\b\b\b\b\b\b\b\b\b\b\b\b\b\b\b\b\b\b\b\b\b\b\b\b\b\b\b\b\b\b\b\b\b\b\b\b\b\b\b\b\b\b\b\b\b\b\b\b\b\b\b\b\b\b\b\b\b\b\b\b\b\b\b\b\b\b\b\b\b\b\b\b\b\b\b\b\b\b\b\b\r",
      "36/36 [==============================] - 0s 4ms/step - loss: 7.2245 - mae: 1.8304 - mse: 7.2245 - val_loss: 17.9019 - val_mae: 2.6438 - val_mse: 17.9019\n"
     ]
    },
    {
     "name": "stdout",
     "output_type": "stream",
     "text": [
      "Epoch 50/100\n",
      "\r",
      " 1/36 [..............................] - ETA: 0s - loss: 2.4177 - mae: 0.9484 - mse: 2.4177"
     ]
    },
    {
     "name": "stdout",
     "output_type": "stream",
     "text": [
      "\b\b\b\b\b\b\b\b\b\b\b\b\b\b\b\b\b\b\b\b\b\b\b\b\b\b\b\b\b\b\b\b\b\b\b\b\b\b\b\b\b\b\b\b\b\b\b\b\b\b\b\b\b\b\b\b\b\b\b\b\b\b\b\b\b\b\b\b\b\b\b\b\b\b\b\b\b\b\b\b\b\b\b\b\b\b\b\b\b\b\b\r",
      "34/36 [===========================>..] - ETA: 0s - loss: 5.4327 - mae: 1.6617 - mse: 5.4327"
     ]
    },
    {
     "name": "stdout",
     "output_type": "stream",
     "text": [
      "\b\b\b\b\b\b\b\b\b\b\b\b\b\b\b\b\b\b\b\b\b\b\b\b\b\b\b\b\b\b\b\b\b\b\b\b\b\b\b\b\b\b\b\b\b\b\b\b\b\b\b\b\b\b\b\b\b\b\b\b\b\b\b\b\b\b\b\b\b\b\b\b\b\b\b\b\b\b\b\b\b\b\b\b\b\b\b\b\b\b\b\r",
      "36/36 [==============================] - 0s 4ms/step - loss: 5.5663 - mae: 1.6801 - mse: 5.5663 - val_loss: 17.1228 - val_mae: 2.5752 - val_mse: 17.1228\n"
     ]
    },
    {
     "name": "stdout",
     "output_type": "stream",
     "text": [
      "Epoch 51/100\n",
      "\r",
      " 1/36 [..............................] - ETA: 0s - loss: 3.8143 - mae: 1.5035 - mse: 3.8143"
     ]
    },
    {
     "name": "stdout",
     "output_type": "stream",
     "text": [
      "\b\b\b\b\b\b\b\b\b\b\b\b\b\b\b\b\b\b\b\b\b\b\b\b\b\b\b\b\b\b\b\b\b\b\b\b\b\b\b\b\b\b\b\b\b\b\b\b\b\b\b\b\b\b\b\b\b\b\b\b\b\b\b\b\b\b\b\b\b\b\b\b\b\b\b\b\b\b\b\b\b\b\b\b\b\b\b\b\b\b\b\r",
      "34/36 [===========================>..] - ETA: 0s - loss: 8.6511 - mae: 2.0087 - mse: 8.6511"
     ]
    },
    {
     "name": "stdout",
     "output_type": "stream",
     "text": [
      "\b\b\b\b\b\b\b\b\b\b\b\b\b\b\b\b\b\b\b\b\b\b\b\b\b\b\b\b\b\b\b\b\b\b\b\b\b\b\b\b\b\b\b\b\b\b\b\b\b\b\b\b\b\b\b\b\b\b\b\b\b\b\b\b\b\b\b\b\b\b\b\b\b\b\b\b\b\b\b\b\b\b\b\b\b\b\b\b\b\b\b\r",
      "36/36 [==============================] - 0s 4ms/step - loss: 8.5392 - mae: 1.9986 - mse: 8.5392 - val_loss: 15.9635 - val_mae: 2.4692 - val_mse: 15.9635\n"
     ]
    },
    {
     "name": "stdout",
     "output_type": "stream",
     "text": [
      "Epoch 52/100\n",
      "\r",
      " 1/36 [..............................] - ETA: 0s - loss: 8.4956 - mae: 2.2422 - mse: 8.4956"
     ]
    },
    {
     "name": "stdout",
     "output_type": "stream",
     "text": [
      "\b\b\b\b\b\b\b\b\b\b\b\b\b\b\b\b\b\b\b\b\b\b\b\b\b\b\b\b\b\b\b\b\b\b\b\b\b\b\b\b\b\b\b\b\b\b\b\b\b\b\b\b\b\b\b\b\b\b\b\b\b\b\b\b\b\b\b\b\b\b\b\b\b\b\b\b\b\b\b\b\b\b\b\b\b\b\b\b\b\b\b\r",
      "34/36 [===========================>..] - ETA: 0s - loss: 7.3442 - mae: 1.8538 - mse: 7.3442"
     ]
    },
    {
     "name": "stdout",
     "output_type": "stream",
     "text": [
      "\b\b\b\b\b\b\b\b\b\b\b\b\b\b\b\b\b\b\b\b\b\b\b\b\b\b\b\b\b\b\b\b\b\b\b\b\b\b\b\b\b\b\b\b\b\b\b\b\b\b\b\b\b\b\b\b\b\b\b\b\b\b\b\b\b\b\b\b\b\b\b\b\b\b\b\b\b\b\b\b\b\b\b\b\b\b\b\b\b\b\b\r",
      "36/36 [==============================] - 0s 4ms/step - loss: 7.3348 - mae: 1.8575 - mse: 7.3348 - val_loss: 16.0856 - val_mae: 2.4877 - val_mse: 16.0856\n"
     ]
    },
    {
     "name": "stdout",
     "output_type": "stream",
     "text": [
      "Epoch 53/100\n",
      "\r",
      " 1/36 [..............................] - ETA: 0s - loss: 6.0086 - mae: 1.9513 - mse: 6.0086"
     ]
    },
    {
     "name": "stdout",
     "output_type": "stream",
     "text": [
      "\b\b\b\b\b\b\b\b\b\b\b\b\b\b\b\b\b\b\b\b\b\b\b\b\b\b\b\b\b\b\b\b\b\b\b\b\b\b\b\b\b\b\b\b\b\b\b\b\b\b\b\b\b\b\b\b\b\b\b\b\b\b\b\b\b\b\b\b\b\b\b\b\b\b\b\b\b\b\b\b\b\b\b\b\b\b\b\b\b\b\b\r",
      "34/36 [===========================>..] - ETA: 0s - loss: 6.7461 - mae: 1.7938 - mse: 6.7461"
     ]
    },
    {
     "name": "stdout",
     "output_type": "stream",
     "text": [
      "\b\b\b\b\b\b\b\b\b\b\b\b\b\b\b\b\b\b\b\b\b\b\b\b\b\b\b\b\b\b\b\b\b\b\b\b\b\b\b\b\b\b\b\b\b\b\b\b\b\b\b\b\b\b\b\b\b\b\b\b\b\b\b\b\b\b\b\b\b\b\b\b\b\b\b\b\b\b\b\b\b\b\b\b\b\b\b\b\b\b\b\r",
      "36/36 [==============================] - 0s 4ms/step - loss: 6.7889 - mae: 1.7996 - mse: 6.7889 - val_loss: 16.8603 - val_mae: 2.5583 - val_mse: 16.8603\n"
     ]
    },
    {
     "name": "stdout",
     "output_type": "stream",
     "text": [
      "Epoch 54/100\n",
      "\r",
      " 1/36 [..............................] - ETA: 0s - loss: 13.6564 - mae: 3.0699 - mse: 13.6564"
     ]
    },
    {
     "name": "stdout",
     "output_type": "stream",
     "text": [
      "\b\b\b\b\b\b\b\b\b\b\b\b\b\b\b\b\b\b\b\b\b\b\b\b\b\b\b\b\b\b\b\b\b\b\b\b\b\b\b\b\b\b\b\b\b\b\b\b\b\b\b\b\b\b\b\b\b\b\b\b\b\b\b\b\b\b\b\b\b\b\b\b\b\b\b\b\b\b\b\b\b\b\b\b\b\b\b\b\b\b\b\b\b\r",
      "34/36 [===========================>..] - ETA: 0s - loss: 7.1380 - mae: 1.9737 - mse: 7.1380  "
     ]
    },
    {
     "name": "stdout",
     "output_type": "stream",
     "text": [
      "\b\b\b\b\b\b\b\b\b\b\b\b\b\b\b\b\b\b\b\b\b\b\b\b\b\b\b\b\b\b\b\b\b\b\b\b\b\b\b\b\b\b\b\b\b\b\b\b\b\b\b\b\b\b\b\b\b\b\b\b\b\b\b\b\b\b\b\b\b\b\b\b\b\b\b\b\b\b\b\b\b\b\b\b\b\b\b\b\b\b\b\r",
      "36/36 [==============================] - 0s 4ms/step - loss: 7.1536 - mae: 1.9650 - mse: 7.1536 - val_loss: 15.6905 - val_mae: 2.4305 - val_mse: 15.6905\n"
     ]
    },
    {
     "name": "stdout",
     "output_type": "stream",
     "text": [
      "Epoch 55/100\n",
      "\r",
      " 1/36 [..............................] - ETA: 0s - loss: 11.2811 - mae: 2.7583 - mse: 11.2811"
     ]
    },
    {
     "name": "stdout",
     "output_type": "stream",
     "text": [
      "\b\b\b\b\b\b\b\b\b\b\b\b\b\b\b\b\b\b\b\b\b\b\b\b\b\b\b\b\b\b\b\b\b\b\b\b\b\b\b\b\b\b\b\b\b\b\b\b\b\b\b\b\b\b\b\b\b\b\b\b\b\b\b\b\b\b\b\b\b\b\b\b\b\b\b\b\b\b\b\b\b\b\b\b\b\b\b\b\b\b\b\b\b\r",
      "34/36 [===========================>..] - ETA: 0s - loss: 6.6230 - mae: 1.8757 - mse: 6.6230  "
     ]
    },
    {
     "name": "stdout",
     "output_type": "stream",
     "text": [
      "\b\b\b\b\b\b\b\b\b\b\b\b\b\b\b\b\b\b\b\b\b\b\b\b\b\b\b\b\b\b\b\b\b\b\b\b\b\b\b\b\b\b\b\b\b\b\b\b\b\b\b\b\b\b\b\b\b\b\b\b\b\b\b\b\b\b\b\b\b\b\b\b\b\b\b\b\b\b\b\b\b\b\b\b\b\b\b\b\b\b\b\r",
      "36/36 [==============================] - 0s 4ms/step - loss: 6.6488 - mae: 1.8733 - mse: 6.6488 - val_loss: 14.9846 - val_mae: 2.4380 - val_mse: 14.9846\n"
     ]
    },
    {
     "name": "stdout",
     "output_type": "stream",
     "text": [
      "Epoch 56/100\n",
      "\r",
      " 1/36 [..............................] - ETA: 0s - loss: 11.1234 - mae: 2.6766 - mse: 11.1234"
     ]
    },
    {
     "name": "stdout",
     "output_type": "stream",
     "text": [
      "\b\b\b\b\b\b\b\b\b\b\b\b\b\b\b\b\b\b\b\b\b\b\b\b\b\b\b\b\b\b\b\b\b\b\b\b\b\b\b\b\b\b\b\b\b\b\b\b\b\b\b\b\b\b\b\b\b\b\b\b\b\b\b\b\b\b\b\b\b\b\b\b\b\b\b\b\b\b\b\b\b\b\b\b\b\b\b\b\b\b\b\b\b\r",
      "34/36 [===========================>..] - ETA: 0s - loss: 7.6189 - mae: 1.9248 - mse: 7.6189  "
     ]
    },
    {
     "name": "stdout",
     "output_type": "stream",
     "text": [
      "\b\b\b\b\b\b\b\b\b\b\b\b\b\b\b\b\b\b\b\b\b\b\b\b\b\b\b\b\b\b\b\b\b\b\b\b\b\b\b\b\b\b\b\b\b\b\b\b\b\b\b\b\b\b\b\b\b\b\b\b\b\b\b\b\b\b\b\b\b\b\b\b\b\b\b\b\b\b\b\b\b\b\b\b\b\b\b\b\b\b\b\r",
      "36/36 [==============================] - 0s 4ms/step - loss: 7.5737 - mae: 1.9175 - mse: 7.5737 - val_loss: 16.0953 - val_mae: 2.5002 - val_mse: 16.0953\n"
     ]
    },
    {
     "name": "stdout",
     "output_type": "stream",
     "text": [
      "Epoch 57/100\n",
      "\r",
      " 1/36 [..............................] - ETA: 0s - loss: 5.3637 - mae: 1.7581 - mse: 5.3637"
     ]
    },
    {
     "name": "stdout",
     "output_type": "stream",
     "text": [
      "\b\b\b\b\b\b\b\b\b\b\b\b\b\b\b\b\b\b\b\b\b\b\b\b\b\b\b\b\b\b\b\b\b\b\b\b\b\b\b\b\b\b\b\b\b\b\b\b\b\b\b\b\b\b\b\b\b\b\b\b\b\b\b\b\b\b\b\b\b\b\b\b\b\b\b\b\b\b\b\b\b\b\b\b\b\b\b\b\b\b\b\r",
      "34/36 [===========================>..] - ETA: 0s - loss: 5.7737 - mae: 1.7330 - mse: 5.7737"
     ]
    },
    {
     "name": "stdout",
     "output_type": "stream",
     "text": [
      "\b\b\b\b\b\b\b\b\b\b\b\b\b\b\b\b\b\b\b\b\b\b\b\b\b\b\b\b\b\b\b\b\b\b\b\b\b\b\b\b\b\b\b\b\b\b\b\b\b\b\b\b\b\b\b\b\b\b\b\b\b\b\b\b\b\b\b\b\b\b\b\b\b\b\b\b\b\b\b\b\b\b\b\b\b\b\b\b\b\b\b\r",
      "36/36 [==============================] - 0s 4ms/step - loss: 5.8700 - mae: 1.7392 - mse: 5.8700 - val_loss: 16.2016 - val_mae: 2.4935 - val_mse: 16.2016\n"
     ]
    },
    {
     "name": "stdout",
     "output_type": "stream",
     "text": [
      "Epoch 58/100\n",
      "\r",
      " 1/36 [..............................] - ETA: 0s - loss: 0.9983 - mae: 0.8327 - mse: 0.9983"
     ]
    },
    {
     "name": "stdout",
     "output_type": "stream",
     "text": [
      "\b\b\b\b\b\b\b\b\b\b\b\b\b\b\b\b\b\b\b\b\b\b\b\b\b\b\b\b\b\b\b\b\b\b\b\b\b\b\b\b\b\b\b\b\b\b\b\b\b\b\b\b\b\b\b\b\b\b\b\b\b\b\b\b\b\b\b\b\b\b\b\b\b\b\b\b\b\b\b\b\b\b\b\b\b\b\b\b\b\b\b\r",
      "34/36 [===========================>..] - ETA: 0s - loss: 5.7419 - mae: 1.6031 - mse: 5.7419"
     ]
    },
    {
     "name": "stdout",
     "output_type": "stream",
     "text": [
      "\b\b\b\b\b\b\b\b\b\b\b\b\b\b\b\b\b\b\b\b\b\b\b\b\b\b\b\b\b\b\b\b\b\b\b\b\b\b\b\b\b\b\b\b\b\b\b\b\b\b\b\b\b\b\b\b\b\b\b\b\b\b\b\b\b\b\b\b\b\b\b\b\b\b\b\b\b\b\b\b\b\b\b\b\b\b\b\b\b\b\b\r",
      "36/36 [==============================] - 0s 4ms/step - loss: 5.8374 - mae: 1.6183 - mse: 5.8374 - val_loss: 16.0234 - val_mae: 2.4769 - val_mse: 16.0234\n"
     ]
    },
    {
     "name": "stdout",
     "output_type": "stream",
     "text": [
      "Epoch 59/100\n",
      "\r",
      " 1/36 [..............................] - ETA: 0s - loss: 2.3263 - mae: 1.2191 - mse: 2.3263"
     ]
    },
    {
     "name": "stdout",
     "output_type": "stream",
     "text": [
      "\b\b\b\b\b\b\b\b\b\b\b\b\b\b\b\b\b\b\b\b\b\b\b\b\b\b\b\b\b\b\b\b\b\b\b\b\b\b\b\b\b\b\b\b\b\b\b\b\b\b\b\b\b\b\b\b\b\b\b\b\b\b\b\b\b\b\b\b\b\b\b\b\b\b\b\b\b\b\b\b\b\b\b\b\b\b\b\b\b\b\b\r",
      "34/36 [===========================>..] - ETA: 0s - loss: 5.7817 - mae: 1.7444 - mse: 5.7817"
     ]
    },
    {
     "name": "stdout",
     "output_type": "stream",
     "text": [
      "\b\b\b\b\b\b\b\b\b\b\b\b\b\b\b\b\b\b\b\b\b\b\b\b\b\b\b\b\b\b\b\b\b\b\b\b\b\b\b\b\b\b\b\b\b\b\b\b\b\b\b\b\b\b\b\b\b\b\b\b\b\b\b\b\b\b\b\b\b\b\b\b\b\b\b\b\b\b\b\b\b\b\b\b\b\b\b\b\b\b\b\r",
      "36/36 [==============================] - 0s 4ms/step - loss: 5.8746 - mae: 1.7503 - mse: 5.8746 - val_loss: 16.2003 - val_mae: 2.5067 - val_mse: 16.2003\n"
     ]
    },
    {
     "name": "stdout",
     "output_type": "stream",
     "text": [
      "Epoch 60/100\n",
      "\r",
      " 1/36 [..............................] - ETA: 0s - loss: 6.9035 - mae: 1.7998 - mse: 6.9035"
     ]
    },
    {
     "name": "stdout",
     "output_type": "stream",
     "text": [
      "\b\b\b\b\b\b\b\b\b\b\b\b\b\b\b\b\b\b\b\b\b\b\b\b\b\b\b\b\b\b\b\b\b\b\b\b\b\b\b\b\b\b\b\b\b\b\b\b\b\b\b\b\b\b\b\b\b\b\b\b\b\b\b\b\b\b\b\b\b\b\b\b\b\b\b\b\b\b\b\b\b\b\b\b\b\b\b\b\b\b\b\r",
      "34/36 [===========================>..] - ETA: 0s - loss: 5.6926 - mae: 1.7193 - mse: 5.6926"
     ]
    },
    {
     "name": "stdout",
     "output_type": "stream",
     "text": [
      "\b\b\b\b\b\b\b\b\b\b\b\b\b\b\b\b\b\b\b\b\b\b\b\b\b\b\b\b\b\b\b\b\b\b\b\b\b\b\b\b\b\b\b\b\b\b\b\b\b\b\b\b\b\b\b\b\b\b\b\b\b\b\b\b\b\b\b\b\b\b\b\b\b\b\b\b\b\b\b\b\b\b\b\b\b\b\b\b\b\b\b\r",
      "36/36 [==============================] - 0s 4ms/step - loss: 5.7810 - mae: 1.7263 - mse: 5.7810 - val_loss: 15.6384 - val_mae: 2.4251 - val_mse: 15.6384\n"
     ]
    },
    {
     "name": "stdout",
     "output_type": "stream",
     "text": [
      "Epoch 61/100\n",
      "\r",
      " 1/36 [..............................] - ETA: 0s - loss: 3.7093 - mae: 1.6293 - mse: 3.7093"
     ]
    },
    {
     "name": "stdout",
     "output_type": "stream",
     "text": [
      "\b\b\b\b\b\b\b\b\b\b\b\b\b\b\b\b\b\b\b\b\b\b\b\b\b\b\b\b\b\b\b\b\b\b\b\b\b\b\b\b\b\b\b\b\b\b\b\b\b\b\b\b\b\b\b\b\b\b\b\b\b\b\b\b\b\b\b\b\b\b\b\b\b\b\b\b\b\b\b\b\b\b\b\b\b\b\b\b\b\b\b\r",
      "34/36 [===========================>..] - ETA: 0s - loss: 5.2204 - mae: 1.6688 - mse: 5.2204"
     ]
    },
    {
     "name": "stdout",
     "output_type": "stream",
     "text": [
      "\b\b\b\b\b\b\b\b\b\b\b\b\b\b\b\b\b\b\b\b\b\b\b\b\b\b\b\b\b\b\b\b\b\b\b\b\b\b\b\b\b\b\b\b\b\b\b\b\b\b\b\b\b\b\b\b\b\b\b\b\b\b\b\b\b\b\b\b\b\b\b\b\b\b\b\b\b\b\b\b\b\b\b\b\b\b\b\b\b\b\b\r",
      "36/36 [==============================] - 0s 4ms/step - loss: 5.3469 - mae: 1.6792 - mse: 5.3469 - val_loss: 16.4444 - val_mae: 2.5302 - val_mse: 16.4444\n"
     ]
    },
    {
     "name": "stdout",
     "output_type": "stream",
     "text": [
      "Epoch 62/100\n",
      "\r",
      " 1/36 [..............................] - ETA: 0s - loss: 11.4690 - mae: 2.7523 - mse: 11.4690"
     ]
    },
    {
     "name": "stdout",
     "output_type": "stream",
     "text": [
      "\b\b\b\b\b\b\b\b\b\b\b\b\b\b\b\b\b\b\b\b\b\b\b\b\b\b\b\b\b\b\b\b\b\b\b\b\b\b\b\b\b\b\b\b\b\b\b\b\b\b\b\b\b\b\b\b\b\b\b\b\b\b\b\b\b\b\b\b\b\b\b\b\b\b\b\b\b\b\b\b\b\b\b\b\b\b\b\b\b\b\b\b\b\r",
      "34/36 [===========================>..] - ETA: 0s - loss: 7.6671 - mae: 1.9845 - mse: 7.6671  "
     ]
    },
    {
     "name": "stdout",
     "output_type": "stream",
     "text": [
      "\b\b\b\b\b\b\b\b\b\b\b\b\b\b\b\b\b\b\b\b\b\b\b\b\b\b\b\b\b\b\b\b\b\b\b\b\b\b\b\b\b\b\b\b\b\b\b\b\b\b\b\b\b\b\b\b\b\b\b\b\b\b\b\b\b\b\b\b\b\b\b\b\b\b\b\b\b\b\b\b\b\b\b\b\b\b\b\b\b\b\b\r",
      "36/36 [==============================] - 0s 4ms/step - loss: 7.5830 - mae: 1.9678 - mse: 7.5830 - val_loss: 15.1089 - val_mae: 2.4160 - val_mse: 15.1089\n"
     ]
    },
    {
     "name": "stdout",
     "output_type": "stream",
     "text": [
      "Epoch 63/100\n",
      "\r",
      " 1/36 [..............................] - ETA: 0s - loss: 4.4146 - mae: 1.8400 - mse: 4.4146"
     ]
    },
    {
     "name": "stdout",
     "output_type": "stream",
     "text": [
      "\b\b\b\b\b\b\b\b\b\b\b\b\b\b\b\b\b\b\b\b\b\b\b\b\b\b\b\b\b\b\b\b\b\b\b\b\b\b\b\b\b\b\b\b\b\b\b\b\b\b\b\b\b\b\b\b\b\b\b\b\b\b\b\b\b\b\b\b\b\b\b\b\b\b\b\b\b\b\b\b\b\b\b\b\b\b\b\b\b\b\b\r",
      "34/36 [===========================>..] - ETA: 0s - loss: 5.0345 - mae: 1.5706 - mse: 5.0345"
     ]
    },
    {
     "name": "stdout",
     "output_type": "stream",
     "text": [
      "\b\b\b\b\b\b\b\b\b\b\b\b\b\b\b\b\b\b\b\b\b\b\b\b\b\b\b\b\b\b\b\b\b\b\b\b\b\b\b\b\b\b\b\b\b\b\b\b\b\b\b\b\b\b\b\b\b\b\b\b\b\b\b\b\b\b\b\b\b\b\b\b\b\b\b\b\b\b\b\b\b\b\b\b\b\b\b\b\b\b\b\r",
      "36/36 [==============================] - 0s 4ms/step - loss: 5.1651 - mae: 1.5898 - mse: 5.1651 - val_loss: 15.9479 - val_mae: 2.4988 - val_mse: 15.9479\n"
     ]
    },
    {
     "name": "stdout",
     "output_type": "stream",
     "text": [
      "Epoch 64/100\n",
      "\r",
      " 1/36 [..............................] - ETA: 0s - loss: 43.5237 - mae: 3.2632 - mse: 43.5237"
     ]
    },
    {
     "name": "stdout",
     "output_type": "stream",
     "text": [
      "\b\b\b\b\b\b\b\b\b\b\b\b\b\b\b\b\b\b\b\b\b\b\b\b\b\b\b\b\b\b\b\b\b\b\b\b\b\b\b\b\b\b\b\b\b\b\b\b\b\b\b\b\b\b\b\b\b\b\b\b\b\b\b\b\b\b\b\b\b\b\b\b\b\b\b\b\b\b\b\b\b\b\b\b\b\b\b\b\b\b\b\b\b\r",
      "34/36 [===========================>..] - ETA: 0s - loss: 10.6897 - mae: 1.9716 - mse: 10.6897"
     ]
    },
    {
     "name": "stdout",
     "output_type": "stream",
     "text": [
      "\b\b\b\b\b\b\b\b\b\b\b\b\b\b\b\b\b\b\b\b\b\b\b\b\b\b\b\b\b\b\b\b\b\b\b\b\b\b\b\b\b\b\b\b\b\b\b\b\b\b\b\b\b\b\b\b\b\b\b\b\b\b\b\b\b\b\b\b\b\b\b\b\b\b\b\b\b\b\b\b\b\b\b\b\b\b\b\b\b\b\b\b\b\r",
      "36/36 [==============================] - 0s 4ms/step - loss: 10.3702 - mae: 1.9561 - mse: 10.3702 - val_loss: 14.8709 - val_mae: 2.3770 - val_mse: 14.8709\n"
     ]
    },
    {
     "name": "stdout",
     "output_type": "stream",
     "text": [
      "Epoch 65/100\n",
      "\r",
      " 1/36 [..............................] - ETA: 0s - loss: 2.2374 - mae: 1.2181 - mse: 2.2374"
     ]
    },
    {
     "name": "stdout",
     "output_type": "stream",
     "text": [
      "\b\b\b\b\b\b\b\b\b\b\b\b\b\b\b\b\b\b\b\b\b\b\b\b\b\b\b\b\b\b\b\b\b\b\b\b\b\b\b\b\b\b\b\b\b\b\b\b\b\b\b\b\b\b\b\b\b\b\b\b\b\b\b\b\b\b\b\b\b\b\b\b\b\b\b\b\b\b\b\b\b\b\b\b\b\b\b\b\b\b\b\r",
      "34/36 [===========================>..] - ETA: 0s - loss: 6.8217 - mae: 1.7008 - mse: 6.8217"
     ]
    },
    {
     "name": "stdout",
     "output_type": "stream",
     "text": [
      "\b\b\b\b\b\b\b\b\b\b\b\b\b\b\b\b\b\b\b\b\b\b\b\b\b\b\b\b\b\b\b\b\b\b\b\b\b\b\b\b\b\b\b\b\b\b\b\b\b\b\b\b\b\b\b\b\b\b\b\b\b\b\b\b\b\b\b\b\b\b\b\b\b\b\b\b\b\b\b\b\b\b\b\b\b\b\b\b\b\b\b\r",
      "36/36 [==============================] - 0s 4ms/step - loss: 6.7989 - mae: 1.7059 - mse: 6.7989 - val_loss: 15.5017 - val_mae: 2.4605 - val_mse: 15.5017\n"
     ]
    },
    {
     "name": "stdout",
     "output_type": "stream",
     "text": [
      "Epoch 66/100\n",
      "\r",
      " 1/36 [..............................] - ETA: 0s - loss: 11.3730 - mae: 2.1443 - mse: 11.3730"
     ]
    },
    {
     "name": "stdout",
     "output_type": "stream",
     "text": [
      "\b\b\b\b\b\b\b\b\b\b\b\b\b\b\b\b\b\b\b\b\b\b\b\b\b\b\b\b\b\b\b\b\b\b\b\b\b\b\b\b\b\b\b\b\b\b\b\b\b\b\b\b\b\b\b\b\b\b\b\b\b\b\b\b\b\b\b\b\b\b\b\b\b\b\b\b\b\b\b\b\b\b\b\b\b\b\b\b\b\b\b\b\b\r",
      "34/36 [===========================>..] - ETA: 0s - loss: 5.5614 - mae: 1.6144 - mse: 5.5614  "
     ]
    },
    {
     "name": "stdout",
     "output_type": "stream",
     "text": [
      "\b\b\b\b\b\b\b\b\b\b\b\b\b\b\b\b\b\b\b\b\b\b\b\b\b\b\b\b\b\b\b\b\b\b\b\b\b\b\b\b\b\b\b\b\b\b\b\b\b\b\b\b\b\b\b\b\b\b\b\b\b\b\b\b\b\b\b\b\b\b\b\b\b\b\b\b\b\b\b\b\b\b\b\b\b\b\b\b\b\b\b\r",
      "36/36 [==============================] - 0s 4ms/step - loss: 5.6488 - mae: 1.6272 - mse: 5.6488 - val_loss: 15.6983 - val_mae: 2.3943 - val_mse: 15.6983\n"
     ]
    },
    {
     "name": "stdout",
     "output_type": "stream",
     "text": [
      "Epoch 67/100\n",
      "\r",
      " 1/36 [..............................] - ETA: 0s - loss: 21.9052 - mae: 3.4535 - mse: 21.9052"
     ]
    },
    {
     "name": "stdout",
     "output_type": "stream",
     "text": [
      "\b\b\b\b\b\b\b\b\b\b\b\b\b\b\b\b\b\b\b\b\b\b\b\b\b\b\b\b\b\b\b\b\b\b\b\b\b\b\b\b\b\b\b\b\b\b\b\b\b\b\b\b\b\b\b\b\b\b\b\b\b\b\b\b\b\b\b\b\b\b\b\b\b\b\b\b\b\b\b\b\b\b\b\b\b\b\b\b\b\b\b\b\b\r",
      "34/36 [===========================>..] - ETA: 0s - loss: 7.9288 - mae: 1.9322 - mse: 7.9288  "
     ]
    },
    {
     "name": "stdout",
     "output_type": "stream",
     "text": [
      "\b\b\b\b\b\b\b\b\b\b\b\b\b\b\b\b\b\b\b\b\b\b\b\b\b\b\b\b\b\b\b\b\b\b\b\b\b\b\b\b\b\b\b\b\b\b\b\b\b\b\b\b\b\b\b\b\b\b\b\b\b\b\b\b\b\b\b\b\b\b\b\b\b\b\b\b\b\b\b\b\b\b\b\b\b\b\b\b\b\b\b\r",
      "36/36 [==============================] - 0s 4ms/step - loss: 7.7922 - mae: 1.9155 - mse: 7.7922 - val_loss: 15.4220 - val_mae: 2.4377 - val_mse: 15.4220\n"
     ]
    },
    {
     "name": "stdout",
     "output_type": "stream",
     "text": [
      "Epoch 68/100\n",
      "\r",
      " 1/36 [..............................] - ETA: 0s - loss: 2.1535 - mae: 1.0588 - mse: 2.1535"
     ]
    },
    {
     "name": "stdout",
     "output_type": "stream",
     "text": [
      "\b\b\b\b\b\b\b\b\b\b\b\b\b\b\b\b\b\b\b\b\b\b\b\b\b\b\b\b\b\b\b\b\b\b\b\b\b\b\b\b\b\b\b\b\b\b\b\b\b\b\b\b\b\b\b\b\b\b\b\b\b\b\b\b\b\b\b\b\b\b\b\b\b\b\b\b\b\b\b\b\b\b\b\b\b\b\b\b\b\b\b\r",
      "35/36 [============================>.] - ETA: 0s - loss: 5.7234 - mae: 1.6629 - mse: 5.7234"
     ]
    },
    {
     "name": "stdout",
     "output_type": "stream",
     "text": [
      "\b\b\b\b\b\b\b\b\b\b\b\b\b\b\b\b\b\b\b\b\b\b\b\b\b\b\b\b\b\b\b\b\b\b\b\b\b\b\b\b\b\b\b\b\b\b\b\b\b\b\b\b\b\b\b\b\b\b\b\b\b\b\b\b\b\b\b\b\b\b\b\b\b\b\b\b\b\b\b\b\b\b\b\b\b\b\b\b\b\b\b\r",
      "36/36 [==============================] - 0s 4ms/step - loss: 5.7694 - mae: 1.6691 - mse: 5.7694 - val_loss: 15.0112 - val_mae: 2.3643 - val_mse: 15.0112\n"
     ]
    },
    {
     "name": "stdout",
     "output_type": "stream",
     "text": [
      "Epoch 69/100\n",
      "\r",
      " 1/36 [..............................] - ETA: 0s - loss: 4.2729 - mae: 1.6898 - mse: 4.2729"
     ]
    },
    {
     "name": "stdout",
     "output_type": "stream",
     "text": [
      "\b\b\b\b\b\b\b\b\b\b\b\b\b\b\b\b\b\b\b\b\b\b\b\b\b\b\b\b\b\b\b\b\b\b\b\b\b\b\b\b\b\b\b\b\b\b\b\b\b\b\b\b\b\b\b\b\b\b\b\b\b\b\b\b\b\b\b\b\b\b\b\b\b\b\b\b\b\b\b\b\b\b\b\b\b\b\b\b\b\b\b\r",
      "34/36 [===========================>..] - ETA: 0s - loss: 6.1830 - mae: 1.7631 - mse: 6.1830"
     ]
    },
    {
     "name": "stdout",
     "output_type": "stream",
     "text": [
      "\b\b\b\b\b\b\b\b\b\b\b\b\b\b\b\b\b\b\b\b\b\b\b\b\b\b\b\b\b\b\b\b\b\b\b\b\b\b\b\b\b\b\b\b\b\b\b\b\b\b\b\b\b\b\b\b\b\b\b\b\b\b\b\b\b\b\b\b\b\b\b\b\b\b\b\b\b\b\b\b\b\b\b\b\b\b\b\b\b\b\b\r",
      "36/36 [==============================] - 0s 4ms/step - loss: 6.1906 - mae: 1.7625 - mse: 6.1906 - val_loss: 14.9426 - val_mae: 2.4243 - val_mse: 14.9426\n"
     ]
    },
    {
     "name": "stdout",
     "output_type": "stream",
     "text": [
      "Epoch 70/100\n",
      "\r",
      " 1/36 [..............................] - ETA: 0s - loss: 2.9535 - mae: 1.5695 - mse: 2.9535"
     ]
    },
    {
     "name": "stdout",
     "output_type": "stream",
     "text": [
      "\b\b\b\b\b\b\b\b\b\b\b\b\b\b\b\b\b\b\b\b\b\b\b\b\b\b\b\b\b\b\b\b\b\b\b\b\b\b\b\b\b\b\b\b\b\b\b\b\b\b\b\b\b\b\b\b\b\b\b\b\b\b\b\b\b\b\b\b\b\b\b\b\b\b\b\b\b\b\b\b\b\b\b\b\b\b\b\b\b\b\b\r",
      "34/36 [===========================>..] - ETA: 0s - loss: 5.2422 - mae: 1.7573 - mse: 5.2422"
     ]
    },
    {
     "name": "stdout",
     "output_type": "stream",
     "text": [
      "\b\b\b\b\b\b\b\b\b\b\b\b\b\b\b\b\b\b\b\b\b\b\b\b\b\b\b\b\b\b\b\b\b\b\b\b\b\b\b\b\b\b\b\b\b\b\b\b\b\b\b\b\b\b\b\b\b\b\b\b\b\b\b\b\b\b\b\b\b\b\b\b\b\b\b\b\b\b\b\b\b\b\b\b\b\b\b\b\b\b\b\r",
      "36/36 [==============================] - 0s 4ms/step - loss: 5.3233 - mae: 1.7570 - mse: 5.3233 - val_loss: 15.9325 - val_mae: 2.4535 - val_mse: 15.9325\n"
     ]
    },
    {
     "name": "stdout",
     "output_type": "stream",
     "text": [
      "Epoch 71/100\n",
      "\r",
      " 1/36 [..............................] - ETA: 0s - loss: 3.6162 - mae: 1.4636 - mse: 3.6162"
     ]
    },
    {
     "name": "stdout",
     "output_type": "stream",
     "text": [
      "\b\b\b\b\b\b\b\b\b\b\b\b\b\b\b\b\b\b\b\b\b\b\b\b\b\b\b\b\b\b\b\b\b\b\b\b\b\b\b\b\b\b\b\b\b\b\b\b\b\b\b\b\b\b\b\b\b\b\b\b\b\b\b\b\b\b\b\b\b\b\b\b\b\b\b\b\b\b\b\b\b\b\b\b\b\b\b\b\b\b\b\r",
      "34/36 [===========================>..] - ETA: 0s - loss: 6.9068 - mae: 1.8125 - mse: 6.9068"
     ]
    },
    {
     "name": "stdout",
     "output_type": "stream",
     "text": [
      "\b\b\b\b\b\b\b\b\b\b\b\b\b\b\b\b\b\b\b\b\b\b\b\b\b\b\b\b\b\b\b\b\b\b\b\b\b\b\b\b\b\b\b\b\b\b\b\b\b\b\b\b\b\b\b\b\b\b\b\b\b\b\b\b\b\b\b\b\b\b\b\b\b\b\b\b\b\b\b\b\b\b\b\b\b\b\b\b\b\b\b\r",
      "36/36 [==============================] - 0s 4ms/step - loss: 6.8736 - mae: 1.8109 - mse: 6.8736 - val_loss: 15.2151 - val_mae: 2.3692 - val_mse: 15.2151\n"
     ]
    },
    {
     "name": "stdout",
     "output_type": "stream",
     "text": [
      "Epoch 72/100\n",
      "\r",
      " 1/36 [..............................] - ETA: 0s - loss: 9.7234 - mae: 2.1037 - mse: 9.7234"
     ]
    },
    {
     "name": "stdout",
     "output_type": "stream",
     "text": [
      "\b\b\b\b\b\b\b\b\b\b\b\b\b\b\b\b\b\b\b\b\b\b\b\b\b\b\b\b\b\b\b\b\b\b\b\b\b\b\b\b\b\b\b\b\b\b\b\b\b\b\b\b\b\b\b\b\b\b\b\b\b\b\b\b\b\b\b\b\b\b\b\b\b\b\b\b\b\b\b\b\b\b\b\b\b\b\b\b\b\b\b\r",
      "34/36 [===========================>..] - ETA: 0s - loss: 6.1955 - mae: 1.7199 - mse: 6.1955"
     ]
    },
    {
     "name": "stdout",
     "output_type": "stream",
     "text": [
      "\b\b\b\b\b\b\b\b\b\b\b\b\b\b\b\b\b\b\b\b\b\b\b\b\b\b\b\b\b\b\b\b\b\b\b\b\b\b\b\b\b\b\b\b\b\b\b\b\b\b\b\b\b\b\b\b\b\b\b\b\b\b\b\b\b\b\b\b\b\b\b\b\b\b\b\b\b\b\b\b\b\b\b\b\b\b\b\b\b\b\b\r",
      "36/36 [==============================] - 0s 4ms/step - loss: 6.1900 - mae: 1.7202 - mse: 6.1900 - val_loss: 15.0267 - val_mae: 2.3803 - val_mse: 15.0267\n"
     ]
    },
    {
     "name": "stdout",
     "output_type": "stream",
     "text": [
      "Epoch 73/100\n",
      "\r",
      " 1/36 [..............................] - ETA: 0s - loss: 5.2996 - mae: 1.9125 - mse: 5.2996"
     ]
    },
    {
     "name": "stdout",
     "output_type": "stream",
     "text": [
      "\b\b\b\b\b\b\b\b\b\b\b\b\b\b\b\b\b\b\b\b\b\b\b\b\b\b\b\b\b\b\b\b\b\b\b\b\b\b\b\b\b\b\b\b\b\b\b\b\b\b\b\b\b\b\b\b\b\b\b\b\b\b\b\b\b\b\b\b\b\b\b\b\b\b\b\b\b\b\b\b\b\b\b\b\b\b\b\b\b\b\b\r",
      "35/36 [============================>.] - ETA: 0s - loss: 5.8552 - mae: 1.7424 - mse: 5.8552"
     ]
    },
    {
     "name": "stdout",
     "output_type": "stream",
     "text": [
      "\b\b\b\b\b\b\b\b\b\b\b\b\b\b\b\b\b\b\b\b\b\b\b\b\b\b\b\b\b\b\b\b\b\b\b\b\b\b\b\b\b\b\b\b\b\b\b\b\b\b\b\b\b\b\b\b\b\b\b\b\b\b\b\b\b\b\b\b\b\b\b\b\b\b\b\b\b\b\b\b\b\b\b\b\b\b\b\b\b\b\b\r",
      "36/36 [==============================] - 0s 4ms/step - loss: 5.8757 - mae: 1.7421 - mse: 5.8757 - val_loss: 14.8366 - val_mae: 2.3978 - val_mse: 14.8366\n"
     ]
    },
    {
     "name": "stdout",
     "output_type": "stream",
     "text": [
      "Epoch 74/100\n",
      "\r",
      " 1/36 [..............................] - ETA: 0s - loss: 4.2878 - mae: 1.7626 - mse: 4.2878"
     ]
    },
    {
     "name": "stdout",
     "output_type": "stream",
     "text": [
      "\b\b\b\b\b\b\b\b\b\b\b\b\b\b\b\b\b\b\b\b\b\b\b\b\b\b\b\b\b\b\b\b\b\b\b\b\b\b\b\b\b\b\b\b\b\b\b\b\b\b\b\b\b\b\b\b\b\b\b\b\b\b\b\b\b\b\b\b\b\b\b\b\b\b\b\b\b\b\b\b\b\b\b\b\b\b\b\b\b\b\b\r",
      "35/36 [============================>.] - ETA: 0s - loss: 5.4412 - mae: 1.6581 - mse: 5.4412"
     ]
    },
    {
     "name": "stdout",
     "output_type": "stream",
     "text": [
      "\b\b\b\b\b\b\b\b\b\b\b\b\b\b\b\b\b\b\b\b\b\b\b\b\b\b\b\b\b\b\b\b\b\b\b\b\b\b\b\b\b\b\b\b\b\b\b\b\b\b\b\b\b\b\b\b\b\b\b\b\b\b\b\b\b\b\b\b\b\b\b\b\b\b\b\b\b\b\b\b\b\b\b\b\b\b\b\b\b\b\b\r",
      "36/36 [==============================] - 0s 4ms/step - loss: 5.4683 - mae: 1.6619 - mse: 5.4683 - val_loss: 15.3587 - val_mae: 2.4083 - val_mse: 15.3587\n"
     ]
    },
    {
     "name": "stdout",
     "output_type": "stream",
     "text": [
      "Epoch 75/100\n",
      "\r",
      " 1/36 [..............................] - ETA: 0s - loss: 4.2501 - mae: 1.7789 - mse: 4.2501"
     ]
    },
    {
     "name": "stdout",
     "output_type": "stream",
     "text": [
      "\b\b\b\b\b\b\b\b\b\b\b\b\b\b\b\b\b\b\b\b\b\b\b\b\b\b\b\b\b\b\b\b\b\b\b\b\b\b\b\b\b\b\b\b\b\b\b\b\b\b\b\b\b\b\b\b\b\b\b\b\b\b\b\b\b\b\b\b\b\b\b\b\b\b\b\b\b\b\b\b\b\b\b\b\b\b\b\b\b\b\b\r",
      "34/36 [===========================>..] - ETA: 0s - loss: 6.9627 - mae: 1.6925 - mse: 6.9627"
     ]
    },
    {
     "name": "stdout",
     "output_type": "stream",
     "text": [
      "\b\b\b\b\b\b\b\b\b\b\b\b\b\b\b\b\b\b\b\b\b\b\b\b\b\b\b\b\b\b\b\b\b\b\b\b\b\b\b\b\b\b\b\b\b\b\b\b\b\b\b\b\b\b\b\b\b\b\b\b\b\b\b\b\b\b\b\b\b\b\b\b\b\b\b\b\b\b\b\b\b\b\b\b\b\b\b\b\b\b\b\r",
      "36/36 [==============================] - 0s 4ms/step - loss: 6.8977 - mae: 1.6927 - mse: 6.8977 - val_loss: 15.5551 - val_mae: 2.3984 - val_mse: 15.5551\n"
     ]
    },
    {
     "name": "stdout",
     "output_type": "stream",
     "text": [
      "Epoch 76/100\n",
      "\r",
      " 1/36 [..............................] - ETA: 0s - loss: 2.3178 - mae: 1.3757 - mse: 2.3178"
     ]
    },
    {
     "name": "stdout",
     "output_type": "stream",
     "text": [
      "\b\b\b\b\b\b\b\b\b\b\b\b\b\b\b\b\b\b\b\b\b\b\b\b\b\b\b\b\b\b\b\b\b\b\b\b\b\b\b\b\b\b\b\b\b\b\b\b\b\b\b\b\b\b\b\b\b\b\b\b\b\b\b\b\b\b\b\b\b\b\b\b\b\b\b\b\b\b\b\b\b\b\b\b\b\b\b\b\b\b\b\r",
      "34/36 [===========================>..] - ETA: 0s - loss: 6.7526 - mae: 1.7871 - mse: 6.7526"
     ]
    },
    {
     "name": "stdout",
     "output_type": "stream",
     "text": [
      "\b\b\b\b\b\b\b\b\b\b\b\b\b\b\b\b\b\b\b\b\b\b\b\b\b\b\b\b\b\b\b\b\b\b\b\b\b\b\b\b\b\b\b\b\b\b\b\b\b\b\b\b\b\b\b\b\b\b\b\b\b\b\b\b\b\b\b\b\b\b\b\b\b\b\b\b\b\b\b\b\b\b\b\b\b\b\b\b\b\b\b\r",
      "36/36 [==============================] - 0s 4ms/step - loss: 6.7012 - mae: 1.7813 - mse: 6.7012 - val_loss: 15.3942 - val_mae: 2.3550 - val_mse: 15.3942\n"
     ]
    },
    {
     "name": "stdout",
     "output_type": "stream",
     "text": [
      "Epoch 77/100\n",
      "\r",
      " 1/36 [..............................] - ETA: 0s - loss: 13.3658 - mae: 2.0551 - mse: 13.3658"
     ]
    },
    {
     "name": "stdout",
     "output_type": "stream",
     "text": [
      "\b\b\b\b\b\b\b\b\b\b\b\b\b\b\b\b\b\b\b\b\b\b\b\b\b\b\b\b\b\b\b\b\b\b\b\b\b\b\b\b\b\b\b\b\b\b\b\b\b\b\b\b\b\b\b\b\b\b\b\b\b\b\b\b\b\b\b\b\b\b\b\b\b\b\b\b\b\b\b\b\b\b\b\b\b\b\b\b\b\b\b\b\b\r",
      "34/36 [===========================>..] - ETA: 0s - loss: 5.5665 - mae: 1.6499 - mse: 5.5665  "
     ]
    },
    {
     "name": "stdout",
     "output_type": "stream",
     "text": [
      "\b\b\b\b\b\b\b\b\b\b\b\b\b\b\b\b\b\b\b\b\b\b\b\b\b\b\b\b\b\b\b\b\b\b\b\b\b\b\b\b\b\b\b\b\b\b\b\b\b\b\b\b\b\b\b\b\b\b\b\b\b\b\b\b\b\b\b\b\b\b\b\b\b\b\b\b\b\b\b\b\b\b\b\b\b\b\b\b\b\b\b\r",
      "36/36 [==============================] - 0s 4ms/step - loss: 5.5930 - mae: 1.6550 - mse: 5.5930 - val_loss: 15.3598 - val_mae: 2.3923 - val_mse: 15.3598\n"
     ]
    },
    {
     "name": "stdout",
     "output_type": "stream",
     "text": [
      "Epoch 78/100\n",
      "\r",
      " 1/36 [..............................] - ETA: 0s - loss: 5.5322 - mae: 1.6419 - mse: 5.5322"
     ]
    },
    {
     "name": "stdout",
     "output_type": "stream",
     "text": [
      "\b\b\b\b\b\b\b\b\b\b\b\b\b\b\b\b\b\b\b\b\b\b\b\b\b\b\b\b\b\b\b\b\b\b\b\b\b\b\b\b\b\b\b\b\b\b\b\b\b\b\b\b\b\b\b\b\b\b\b\b\b\b\b\b\b\b\b\b\b\b\b\b\b\b\b\b\b\b\b\b\b\b\b\b\b\b\b\b\b\b\b\r",
      "34/36 [===========================>..] - ETA: 0s - loss: 5.6476 - mae: 1.7259 - mse: 5.6476"
     ]
    },
    {
     "name": "stdout",
     "output_type": "stream",
     "text": [
      "\b\b\b\b\b\b\b\b\b\b\b\b\b\b\b\b\b\b\b\b\b\b\b\b\b\b\b\b\b\b\b\b\b\b\b\b\b\b\b\b\b\b\b\b\b\b\b\b\b\b\b\b\b\b\b\b\b\b\b\b\b\b\b\b\b\b\b\b\b\b\b\b\b\b\b\b\b\b\b\b\b\b\b\b\b\b\b\b\b\b\b\r",
      "36/36 [==============================] - 0s 4ms/step - loss: 5.6698 - mae: 1.7222 - mse: 5.6698 - val_loss: 14.7343 - val_mae: 2.4255 - val_mse: 14.7343\n"
     ]
    },
    {
     "name": "stdout",
     "output_type": "stream",
     "text": [
      "Epoch 79/100\n",
      "\r",
      " 1/36 [..............................] - ETA: 0s - loss: 4.1641 - mae: 1.5037 - mse: 4.1641"
     ]
    },
    {
     "name": "stdout",
     "output_type": "stream",
     "text": [
      "\b\b\b\b\b\b\b\b\b\b\b\b\b\b\b\b\b\b\b\b\b\b\b\b\b\b\b\b\b\b\b\b\b\b\b\b\b\b\b\b\b\b\b\b\b\b\b\b\b\b\b\b\b\b\b\b\b\b\b\b\b\b\b\b\b\b\b\b\b\b\b\b\b\b\b\b\b\b\b\b\b\b\b\b\b\b\b\b\b\b\b\r",
      "34/36 [===========================>..] - ETA: 0s - loss: 5.2949 - mae: 1.6528 - mse: 5.2949"
     ]
    },
    {
     "name": "stdout",
     "output_type": "stream",
     "text": [
      "\b\b\b\b\b\b\b\b\b\b\b\b\b\b\b\b\b\b\b\b\b\b\b\b\b\b\b\b\b\b\b\b\b\b\b\b\b\b\b\b\b\b\b\b\b\b\b\b\b\b\b\b\b\b\b\b\b\b\b\b\b\b\b\b\b\b\b\b\b\b\b\b\b\b\b\b\b\b\b\b\b\b\b\b\b\b\b\b\b\b\b\r",
      "36/36 [==============================] - 0s 4ms/step - loss: 5.3482 - mae: 1.6544 - mse: 5.3482 - val_loss: 17.3437 - val_mae: 2.6290 - val_mse: 17.3437\n"
     ]
    },
    {
     "name": "stdout",
     "output_type": "stream",
     "text": [
      "Epoch 80/100\n",
      "\r",
      " 1/36 [..............................] - ETA: 0s - loss: 30.7968 - mae: 2.9718 - mse: 30.7968"
     ]
    },
    {
     "name": "stdout",
     "output_type": "stream",
     "text": [
      "\b\b\b\b\b\b\b\b\b\b\b\b\b\b\b\b\b\b\b\b\b\b\b\b\b\b\b\b\b\b\b\b\b\b\b\b\b\b\b\b\b\b\b\b\b\b\b\b\b\b\b\b\b\b\b\b\b\b\b\b\b\b\b\b\b\b\b\b\b\b\b\b\b\b\b\b\b\b\b\b\b\b\b\b\b\b\b\b\b\b\b\b\b\r",
      "34/36 [===========================>..] - ETA: 0s - loss: 7.7531 - mae: 1.7402 - mse: 7.7531  "
     ]
    },
    {
     "name": "stdout",
     "output_type": "stream",
     "text": [
      "\b\b\b\b\b\b\b\b\b\b\b\b\b\b\b\b\b\b\b\b\b\b\b\b\b\b\b\b\b\b\b\b\b\b\b\b\b\b\b\b\b\b\b\b\b\b\b\b\b\b\b\b\b\b\b\b\b\b\b\b\b\b\b\b\b\b\b\b\b\b\b\b\b\b\b\b\b\b\b\b\b\b\b\b\b\b\b\b\b\b\b\r",
      "36/36 [==============================] - 0s 4ms/step - loss: 7.6001 - mae: 1.7364 - mse: 7.6001 - val_loss: 14.7933 - val_mae: 2.3445 - val_mse: 14.7933\n"
     ]
    },
    {
     "name": "stdout",
     "output_type": "stream",
     "text": [
      "Epoch 81/100\n",
      "\r",
      " 1/36 [..............................] - ETA: 0s - loss: 1.5854 - mae: 1.0346 - mse: 1.5854"
     ]
    },
    {
     "name": "stdout",
     "output_type": "stream",
     "text": [
      "\b\b\b\b\b\b\b\b\b\b\b\b\b\b\b\b\b\b\b\b\b\b\b\b\b\b\b\b\b\b\b\b\b\b\b\b\b\b\b\b\b\b\b\b\b\b\b\b\b\b\b\b\b\b\b\b\b\b\b\b\b\b\b\b\b\b\b\b\b\b\b\b\b\b\b\b\b\b\b\b\b\b\b\b\b\b\b\b\b\b\b\r",
      "34/36 [===========================>..] - ETA: 0s - loss: 3.8644 - mae: 1.4537 - mse: 3.8644"
     ]
    },
    {
     "name": "stdout",
     "output_type": "stream",
     "text": [
      "\b\b\b\b\b\b\b\b\b\b\b\b\b\b\b\b\b\b\b\b\b\b\b\b\b\b\b\b\b\b\b\b\b\b\b\b\b\b\b\b\b\b\b\b\b\b\b\b\b\b\b\b\b\b\b\b\b\b\b\b\b\b\b\b\b\b\b\b\b\b\b\b\b\b\b\b\b\b\b\b\b\b\b\b\b\b\b\b\b\b\b\r",
      "36/36 [==============================] - 0s 4ms/step - loss: 4.0153 - mae: 1.4707 - mse: 4.0153 - val_loss: 14.9587 - val_mae: 2.3740 - val_mse: 14.9587\n"
     ]
    },
    {
     "name": "stdout",
     "output_type": "stream",
     "text": [
      "Epoch 82/100\n",
      "\r",
      " 1/36 [..............................] - ETA: 0s - loss: 6.9535 - mae: 2.1896 - mse: 6.9535"
     ]
    },
    {
     "name": "stdout",
     "output_type": "stream",
     "text": [
      "\b\b\b\b\b\b\b\b\b\b\b\b\b\b\b\b\b\b\b\b\b\b\b\b\b\b\b\b\b\b\b\b\b\b\b\b\b\b\b\b\b\b\b\b\b\b\b\b\b\b\b\b\b\b\b\b\b\b\b\b\b\b\b\b\b\b\b\b\b\b\b\b\b\b\b\b\b\b\b\b\b\b\b\b\b\b\b\b\b\b\b\r",
      "34/36 [===========================>..] - ETA: 0s - loss: 6.0406 - mae: 1.7102 - mse: 6.0406"
     ]
    },
    {
     "name": "stdout",
     "output_type": "stream",
     "text": [
      "\b\b\b\b\b\b\b\b\b\b\b\b\b\b\b\b\b\b\b\b\b\b\b\b\b\b\b\b\b\b\b\b\b\b\b\b\b\b\b\b\b\b\b\b\b\b\b\b\b\b\b\b\b\b\b\b\b\b\b\b\b\b\b\b\b\b\b\b\b\b\b\b\b\b\b\b\b\b\b\b\b\b\b\b\b\b\b\b\b\b\b\r",
      "36/36 [==============================] - 0s 4ms/step - loss: 6.0303 - mae: 1.7084 - mse: 6.0303 - val_loss: 15.7298 - val_mae: 2.4070 - val_mse: 15.7298\n"
     ]
    },
    {
     "name": "stdout",
     "output_type": "stream",
     "text": [
      "Epoch 83/100\n",
      "\r",
      " 1/36 [..............................] - ETA: 0s - loss: 6.6361 - mae: 2.1723 - mse: 6.6361"
     ]
    },
    {
     "name": "stdout",
     "output_type": "stream",
     "text": [
      "\b\b\b\b\b\b\b\b\b\b\b\b\b\b\b\b\b\b\b\b\b\b\b\b\b\b\b\b\b\b\b\b\b\b\b\b\b\b\b\b\b\b\b\b\b\b\b\b\b\b\b\b\b\b\b\b\b\b\b\b\b\b\b\b\b\b\b\b\b\b\b\b\b\b\b\b\b\b\b\b\b\b\b\b\b\b\b\b\b\b\b\r",
      "35/36 [============================>.] - ETA: 0s - loss: 5.9586 - mae: 1.6744 - mse: 5.9586"
     ]
    },
    {
     "name": "stdout",
     "output_type": "stream",
     "text": [
      "\b\b\b\b\b\b\b\b\b\b\b\b\b\b\b\b\b\b\b\b\b\b\b\b\b\b\b\b\b\b\b\b\b\b\b\b\b\b\b\b\b\b\b\b\b\b\b\b\b\b\b\b\b\b\b\b\b\b\b\b\b\b\b\b\b\b\b\b\b\b\b\b\b\b\b\b\b\b\b\b\b\b\b\b\b\b\b\b\b\b\b\r",
      "36/36 [==============================] - 0s 4ms/step - loss: 5.9489 - mae: 1.6752 - mse: 5.9489 - val_loss: 15.1777 - val_mae: 2.3864 - val_mse: 15.1777\n"
     ]
    },
    {
     "name": "stdout",
     "output_type": "stream",
     "text": [
      "Epoch 84/100\n",
      "\r",
      " 1/36 [..............................] - ETA: 0s - loss: 6.1510 - mae: 1.8001 - mse: 6.1510"
     ]
    },
    {
     "name": "stdout",
     "output_type": "stream",
     "text": [
      "\b\b\b\b\b\b\b\b\b\b\b\b\b\b\b\b\b\b\b\b\b\b\b\b\b\b\b\b\b\b\b\b\b\b\b\b\b\b\b\b\b\b\b\b\b\b\b\b\b\b\b\b\b\b\b\b\b\b\b\b\b\b\b\b\b\b\b\b\b\b\b\b\b\b\b\b\b\b\b\b\b\b\b\b\b\b\b\b\b\b\b\r",
      "34/36 [===========================>..] - ETA: 0s - loss: 5.2352 - mae: 1.6373 - mse: 5.2352"
     ]
    },
    {
     "name": "stdout",
     "output_type": "stream",
     "text": [
      "\b\b\b\b\b\b\b\b\b\b\b\b\b\b\b\b\b\b\b\b\b\b\b\b\b\b\b\b\b\b\b\b\b\b\b\b\b\b\b\b\b\b\b\b\b\b\b\b\b\b\b\b\b\b\b\b\b\b\b\b\b\b\b\b\b\b\b\b\b\b\b\b\b\b\b\b\b\b\b\b\b\b\b\b\b\b\b\b\b\b\b\r",
      "36/36 [==============================] - 0s 4ms/step - loss: 5.2769 - mae: 1.6391 - mse: 5.2769 - val_loss: 16.4104 - val_mae: 2.4252 - val_mse: 16.4104\n"
     ]
    },
    {
     "name": "stdout",
     "output_type": "stream",
     "text": [
      "Epoch 85/100\n",
      "\r",
      " 1/36 [..............................] - ETA: 0s - loss: 7.6562 - mae: 1.8845 - mse: 7.6562"
     ]
    },
    {
     "name": "stdout",
     "output_type": "stream",
     "text": [
      "\b\b\b\b\b\b\b\b\b\b\b\b\b\b\b\b\b\b\b\b\b\b\b\b\b\b\b\b\b\b\b\b\b\b\b\b\b\b\b\b\b\b\b\b\b\b\b\b\b\b\b\b\b\b\b\b\b\b\b\b\b\b\b\b\b\b\b\b\b\b\b\b\b\b\b\b\b\b\b\b\b\b\b\b\b\b\b\b\b\b\b\r",
      "34/36 [===========================>..] - ETA: 0s - loss: 5.7498 - mae: 1.6347 - mse: 5.7498"
     ]
    },
    {
     "name": "stdout",
     "output_type": "stream",
     "text": [
      "\b\b\b\b\b\b\b\b\b\b\b\b\b\b\b\b\b\b\b\b\b\b\b\b\b\b\b\b\b\b\b\b\b\b\b\b\b\b\b\b\b\b\b\b\b\b\b\b\b\b\b\b\b\b\b\b\b\b\b\b\b\b\b\b\b\b\b\b\b\b\b\b\b\b\b\b\b\b\b\b\b\b\b\b\b\b\b\b\b\b\b\r",
      "36/36 [==============================] - 0s 4ms/step - loss: 5.7450 - mae: 1.6357 - mse: 5.7450 - val_loss: 16.5705 - val_mae: 2.4222 - val_mse: 16.5705\n"
     ]
    },
    {
     "name": "stdout",
     "output_type": "stream",
     "text": [
      "Epoch 86/100\n",
      "\r",
      " 1/36 [..............................] - ETA: 0s - loss: 19.6505 - mae: 3.1289 - mse: 19.6505"
     ]
    },
    {
     "name": "stdout",
     "output_type": "stream",
     "text": [
      "\b\b\b\b\b\b\b\b\b\b\b\b\b\b\b\b\b\b\b\b\b\b\b\b\b\b\b\b\b\b\b\b\b\b\b\b\b\b\b\b\b\b\b\b\b\b\b\b\b\b\b\b\b\b\b\b\b\b\b\b\b\b\b\b\b\b\b\b\b\b\b\b\b\b\b\b\b\b\b\b\b\b\b\b\b\b\b\b\b\b\b\b\b\r",
      "34/36 [===========================>..] - ETA: 0s - loss: 6.0759 - mae: 1.8063 - mse: 6.0759  "
     ]
    },
    {
     "name": "stdout",
     "output_type": "stream",
     "text": [
      "\b\b\b\b\b\b\b\b\b\b\b\b\b\b\b\b\b\b\b\b\b\b\b\b\b\b\b\b\b\b\b\b\b\b\b\b\b\b\b\b\b\b\b\b\b\b\b\b\b\b\b\b\b\b\b\b\b\b\b\b\b\b\b\b\b\b\b\b\b\b\b\b\b\b\b\b\b\b\b\b\b\b\b\b\b\b\b\b\b\b\b\r",
      "36/36 [==============================] - 0s 4ms/step - loss: 6.0384 - mae: 1.7958 - mse: 6.0384 - val_loss: 14.8770 - val_mae: 2.4117 - val_mse: 14.8770\n"
     ]
    },
    {
     "name": "stdout",
     "output_type": "stream",
     "text": [
      "Epoch 87/100\n",
      "\r",
      " 1/36 [..............................] - ETA: 0s - loss: 1.9417 - mae: 1.0320 - mse: 1.9417"
     ]
    },
    {
     "name": "stdout",
     "output_type": "stream",
     "text": [
      "\b\b\b\b\b\b\b\b\b\b\b\b\b\b\b\b\b\b\b\b\b\b\b\b\b\b\b\b\b\b\b\b\b\b\b\b\b\b\b\b\b\b\b\b\b\b\b\b\b\b\b\b\b\b\b\b\b\b\b\b\b\b\b\b\b\b\b\b\b\b\b\b\b\b\b\b\b\b\b\b\b\b\b\b\b\b\b\b\b\b\b\r",
      "34/36 [===========================>..] - ETA: 0s - loss: 4.5199 - mae: 1.5341 - mse: 4.5199"
     ]
    },
    {
     "name": "stdout",
     "output_type": "stream",
     "text": [
      "\b\b\b\b\b\b\b\b\b\b\b\b\b\b\b\b\b\b\b\b\b\b\b\b\b\b\b\b\b\b\b\b\b\b\b\b\b\b\b\b\b\b\b\b\b\b\b\b\b\b\b\b\b\b\b\b\b\b\b\b\b\b\b\b\b\b\b\b\b\b\b\b\b\b\b\b\b\b\b\b\b\b\b\b\b\b\b\b\b\b\b\r",
      "36/36 [==============================] - 0s 4ms/step - loss: 4.6003 - mae: 1.5424 - mse: 4.6003 - val_loss: 16.2945 - val_mae: 2.4478 - val_mse: 16.2945\n"
     ]
    },
    {
     "name": "stdout",
     "output_type": "stream",
     "text": [
      "Epoch 88/100\n",
      "\r",
      " 1/36 [..............................] - ETA: 0s - loss: 3.4554 - mae: 1.6874 - mse: 3.4554"
     ]
    },
    {
     "name": "stdout",
     "output_type": "stream",
     "text": [
      "\b\b\b\b\b\b\b\b\b\b\b\b\b\b\b\b\b\b\b\b\b\b\b\b\b\b\b\b\b\b\b\b\b\b\b\b\b\b\b\b\b\b\b\b\b\b\b\b\b\b\b\b\b\b\b\b\b\b\b\b\b\b\b\b\b\b\b\b\b\b\b\b\b\b\b\b\b\b\b\b\b\b\b\b\b\b\b\b\b\b\b\r",
      "34/36 [===========================>..] - ETA: 0s - loss: 4.9375 - mae: 1.6782 - mse: 4.9375"
     ]
    },
    {
     "name": "stdout",
     "output_type": "stream",
     "text": [
      "\b\b\b\b\b\b\b\b\b\b\b\b\b\b\b\b\b\b\b\b\b\b\b\b\b\b\b\b\b\b\b\b\b\b\b\b\b\b\b\b\b\b\b\b\b\b\b\b\b\b\b\b\b\b\b\b\b\b\b\b\b\b\b\b\b\b\b\b\b\b\b\b\b\b\b\b\b\b\b\b\b\b\b\b\b\b\b\b\b\b\b\r",
      "36/36 [==============================] - 0s 4ms/step - loss: 4.9791 - mae: 1.6772 - mse: 4.9791 - val_loss: 15.1695 - val_mae: 2.3618 - val_mse: 15.1695\n"
     ]
    },
    {
     "name": "stdout",
     "output_type": "stream",
     "text": [
      "Epoch 89/100\n",
      "\r",
      " 1/36 [..............................] - ETA: 0s - loss: 2.7056 - mae: 1.1856 - mse: 2.7056"
     ]
    },
    {
     "name": "stdout",
     "output_type": "stream",
     "text": [
      "\b\b\b\b\b\b\b\b\b\b\b\b\b\b\b\b\b\b\b\b\b\b\b\b\b\b\b\b\b\b\b\b\b\b\b\b\b\b\b\b\b\b\b\b\b\b\b\b\b\b\b\b\b\b\b\b\b\b\b\b\b\b\b\b\b\b\b\b\b\b\b\b\b\b\b\b\b\b\b\b\b\b\b\b\b\b\b\b\b\b\b\r",
      "34/36 [===========================>..] - ETA: 0s - loss: 6.9312 - mae: 1.6970 - mse: 6.9312"
     ]
    },
    {
     "name": "stdout",
     "output_type": "stream",
     "text": [
      "\b\b\b\b\b\b\b\b\b\b\b\b\b\b\b\b\b\b\b\b\b\b\b\b\b\b\b\b\b\b\b\b\b\b\b\b\b\b\b\b\b\b\b\b\b\b\b\b\b\b\b\b\b\b\b\b\b\b\b\b\b\b\b\b\b\b\b\b\b\b\b\b\b\b\b\b\b\b\b\b\b\b\b\b\b\b\b\b\b\b\b\r",
      "36/36 [==============================] - 0s 4ms/step - loss: 6.8130 - mae: 1.6933 - mse: 6.8130 - val_loss: 14.5662 - val_mae: 2.3721 - val_mse: 14.5662\n"
     ]
    },
    {
     "name": "stdout",
     "output_type": "stream",
     "text": [
      "Epoch 90/100\n",
      "\r",
      " 1/36 [..............................] - ETA: 0s - loss: 1.8415 - mae: 1.0485 - mse: 1.8415"
     ]
    },
    {
     "name": "stdout",
     "output_type": "stream",
     "text": [
      "\b\b\b\b\b\b\b\b\b\b\b\b\b\b\b\b\b\b\b\b\b\b\b\b\b\b\b\b\b\b\b\b\b\b\b\b\b\b\b\b\b\b\b\b\b\b\b\b\b\b\b\b\b\b\b\b\b\b\b\b\b\b\b\b\b\b\b\b\b\b\b\b\b\b\b\b\b\b\b\b\b\b\b\b\b\b\b\b\b\b\b\r",
      "34/36 [===========================>..] - ETA: 0s - loss: 5.6189 - mae: 1.5672 - mse: 5.6189"
     ]
    },
    {
     "name": "stdout",
     "output_type": "stream",
     "text": [
      "\b\b\b\b\b\b\b\b\b\b\b\b\b\b\b\b\b\b\b\b\b\b\b\b\b\b\b\b\b\b\b\b\b\b\b\b\b\b\b\b\b\b\b\b\b\b\b\b\b\b\b\b\b\b\b\b\b\b\b\b\b\b\b\b\b\b\b\b\b\b\b\b\b\b\b\b\b\b\b\b\b\b\b\b\b\b\b\b\b\b\b\r",
      "36/36 [==============================] - 0s 4ms/step - loss: 5.6190 - mae: 1.5723 - mse: 5.6190 - val_loss: 15.1817 - val_mae: 2.3618 - val_mse: 15.1817\n"
     ]
    },
    {
     "name": "stdout",
     "output_type": "stream",
     "text": [
      "Epoch 91/100\n",
      "\r",
      " 1/36 [..............................] - ETA: 0s - loss: 2.7213 - mae: 1.4537 - mse: 2.7213"
     ]
    },
    {
     "name": "stdout",
     "output_type": "stream",
     "text": [
      "\b\b\b\b\b\b\b\b\b\b\b\b\b\b\b\b\b\b\b\b\b\b\b\b\b\b\b\b\b\b\b\b\b\b\b\b\b\b\b\b\b\b\b\b\b\b\b\b\b\b\b\b\b\b\b\b\b\b\b\b\b\b\b\b\b\b\b\b\b\b\b\b\b\b\b\b\b\b\b\b\b\b\b\b\b\b\b\b\b\b\b\r",
      "34/36 [===========================>..] - ETA: 0s - loss: 4.1717 - mae: 1.5127 - mse: 4.1717"
     ]
    },
    {
     "name": "stdout",
     "output_type": "stream",
     "text": [
      "\b\b\b\b\b\b\b\b\b\b\b\b\b\b\b\b\b\b\b\b\b\b\b\b\b\b\b\b\b\b\b\b\b\b\b\b\b\b\b\b\b\b\b\b\b\b\b\b\b\b\b\b\b\b\b\b\b\b\b\b\b\b\b\b\b\b\b\b\b\b\b\b\b\b\b\b\b\b\b\b\b\b\b\b\b\b\b\b\b\b\b\r",
      "36/36 [==============================] - 0s 4ms/step - loss: 4.2771 - mae: 1.5237 - mse: 4.2771 - val_loss: 14.9865 - val_mae: 2.3191 - val_mse: 14.9865\n"
     ]
    },
    {
     "name": "stdout",
     "output_type": "stream",
     "text": [
      "Epoch 92/100\n",
      "\r",
      " 1/36 [..............................] - ETA: 0s - loss: 14.9828 - mae: 3.1107 - mse: 14.9828"
     ]
    },
    {
     "name": "stdout",
     "output_type": "stream",
     "text": [
      "\b\b\b\b\b\b\b\b\b\b\b\b\b\b\b\b\b\b\b\b\b\b\b\b\b\b\b\b\b\b\b\b\b\b\b\b\b\b\b\b\b\b\b\b\b\b\b\b\b\b\b\b\b\b\b\b\b\b\b\b\b\b\b\b\b\b\b\b\b\b\b\b\b\b\b\b\b\b\b\b\b\b\b\b\b\b\b\b\b\b\b\b\b\r",
      "34/36 [===========================>..] - ETA: 0s - loss: 6.3817 - mae: 1.7436 - mse: 6.3817  "
     ]
    },
    {
     "name": "stdout",
     "output_type": "stream",
     "text": [
      "\b\b\b\b\b\b\b\b\b\b\b\b\b\b\b\b\b\b\b\b\b\b\b\b\b\b\b\b\b\b\b\b\b\b\b\b\b\b\b\b\b\b\b\b\b\b\b\b\b\b\b\b\b\b\b\b\b\b\b\b\b\b\b\b\b\b\b\b\b\b\b\b\b\b\b\b\b\b\b\b\b\b\b\b\b\b\b\b\b\b\b\r",
      "36/36 [==============================] - 0s 4ms/step - loss: 6.3112 - mae: 1.7332 - mse: 6.3112 - val_loss: 14.5331 - val_mae: 2.3922 - val_mse: 14.5331\n"
     ]
    },
    {
     "name": "stdout",
     "output_type": "stream",
     "text": [
      "Epoch 93/100\n",
      "\r",
      " 1/36 [..............................] - ETA: 0s - loss: 33.6390 - mae: 2.6502 - mse: 33.6390"
     ]
    },
    {
     "name": "stdout",
     "output_type": "stream",
     "text": [
      "\b\b\b\b\b\b\b\b\b\b\b\b\b\b\b\b\b\b\b\b\b\b\b\b\b\b\b\b\b\b\b\b\b\b\b\b\b\b\b\b\b\b\b\b\b\b\b\b\b\b\b\b\b\b\b\b\b\b\b\b\b\b\b\b\b\b\b\b\b\b\b\b\b\b\b\b\b\b\b\b\b\b\b\b\b\b\b\b\b\b\b\b\b\r",
      "34/36 [===========================>..] - ETA: 0s - loss: 8.1746 - mae: 1.7345 - mse: 8.1746  "
     ]
    },
    {
     "name": "stdout",
     "output_type": "stream",
     "text": [
      "\b\b\b\b\b\b\b\b\b\b\b\b\b\b\b\b\b\b\b\b\b\b\b\b\b\b\b\b\b\b\b\b\b\b\b\b\b\b\b\b\b\b\b\b\b\b\b\b\b\b\b\b\b\b\b\b\b\b\b\b\b\b\b\b\b\b\b\b\b\b\b\b\b\b\b\b\b\b\b\b\b\b\b\b\b\b\b\b\b\b\b\r",
      "36/36 [==============================] - 0s 4ms/step - loss: 7.9472 - mae: 1.7255 - mse: 7.9472 - val_loss: 15.0063 - val_mae: 2.3886 - val_mse: 15.0063\n"
     ]
    },
    {
     "name": "stdout",
     "output_type": "stream",
     "text": [
      "Epoch 94/100\n",
      "\r",
      " 1/36 [..............................] - ETA: 0s - loss: 5.0014 - mae: 1.8738 - mse: 5.0014"
     ]
    },
    {
     "name": "stdout",
     "output_type": "stream",
     "text": [
      "\b\b\b\b\b\b\b\b\b\b\b\b\b\b\b\b\b\b\b\b\b\b\b\b\b\b\b\b\b\b\b\b\b\b\b\b\b\b\b\b\b\b\b\b\b\b\b\b\b\b\b\b\b\b\b\b\b\b\b\b\b\b\b\b\b\b\b\b\b\b\b\b\b\b\b\b\b\b\b\b\b\b\b\b\b\b\b\b\b\b\b\r",
      "34/36 [===========================>..] - ETA: 0s - loss: 6.2168 - mae: 1.7264 - mse: 6.2168"
     ]
    },
    {
     "name": "stdout",
     "output_type": "stream",
     "text": [
      "\b\b\b\b\b\b\b\b\b\b\b\b\b\b\b\b\b\b\b\b\b\b\b\b\b\b\b\b\b\b\b\b\b\b\b\b\b\b\b\b\b\b\b\b\b\b\b\b\b\b\b\b\b\b\b\b\b\b\b\b\b\b\b\b\b\b\b\b\b\b\b\b\b\b\b\b\b\b\b\b\b\b\b\b\b\b\b\b\b\b\b\r",
      "36/36 [==============================] - 0s 4ms/step - loss: 6.1397 - mae: 1.7147 - mse: 6.1397 - val_loss: 15.6172 - val_mae: 2.3641 - val_mse: 15.6172\n"
     ]
    },
    {
     "name": "stdout",
     "output_type": "stream",
     "text": [
      "Epoch 95/100\n",
      "\r",
      " 1/36 [..............................] - ETA: 0s - loss: 9.8289 - mae: 2.4765 - mse: 9.8289"
     ]
    },
    {
     "name": "stdout",
     "output_type": "stream",
     "text": [
      "\b\b\b\b\b\b\b\b\b\b\b\b\b\b\b\b\b\b\b\b\b\b\b\b\b\b\b\b\b\b\b\b\b\b\b\b\b\b\b\b\b\b\b\b\b\b\b\b\b\b\b\b\b\b\b\b\b\b\b\b\b\b\b\b\b\b\b\b\b\b\b\b\b\b\b\b\b\b\b\b\b\b\b\b\b\b\b\b\b\b\b\r",
      "34/36 [===========================>..] - ETA: 0s - loss: 6.4474 - mae: 1.7554 - mse: 6.4474"
     ]
    },
    {
     "name": "stdout",
     "output_type": "stream",
     "text": [
      "\b\b\b\b\b\b\b\b\b\b\b\b\b\b\b\b\b\b\b\b\b\b\b\b\b\b\b\b\b\b\b\b\b\b\b\b\b\b\b\b\b\b\b\b\b\b\b\b\b\b\b\b\b\b\b\b\b\b\b\b\b\b\b\b\b\b\b\b\b\b\b\b\b\b\b\b\b\b\b\b\b\b\b\b\b\b\b\b\b\b\b\r",
      "36/36 [==============================] - 0s 4ms/step - loss: 6.3561 - mae: 1.7449 - mse: 6.3561 - val_loss: 14.7836 - val_mae: 2.4232 - val_mse: 14.7835\n"
     ]
    },
    {
     "name": "stdout",
     "output_type": "stream",
     "text": [
      "Epoch 96/100\n",
      "\r",
      " 1/36 [..............................] - ETA: 0s - loss: 4.4428 - mae: 1.7733 - mse: 4.4428"
     ]
    },
    {
     "name": "stdout",
     "output_type": "stream",
     "text": [
      "\b\b\b\b\b\b\b\b\b\b\b\b\b\b\b\b\b\b\b\b\b\b\b\b\b\b\b\b\b\b\b\b\b\b\b\b\b\b\b\b\b\b\b\b\b\b\b\b\b\b\b\b\b\b\b\b\b\b\b\b\b\b\b\b\b\b\b\b\b\b\b\b\b\b\b\b\b\b\b\b\b\b\b\b\b\b\b\b\b\b\b\r",
      "34/36 [===========================>..] - ETA: 0s - loss: 5.2925 - mae: 1.6792 - mse: 5.2925"
     ]
    },
    {
     "name": "stdout",
     "output_type": "stream",
     "text": [
      "\b\b\b\b\b\b\b\b\b\b\b\b\b\b\b\b\b\b\b\b\b\b\b\b\b\b\b\b\b\b\b\b\b\b\b\b\b\b\b\b\b\b\b\b\b\b\b\b\b\b\b\b\b\b\b\b\b\b\b\b\b\b\b\b\b\b\b\b\b\b\b\b\b\b\b\b\b\b\b\b\b\b\b\b\b\b\b\b\b\b\b\r",
      "36/36 [==============================] - 0s 4ms/step - loss: 5.2968 - mae: 1.6732 - mse: 5.2968 - val_loss: 14.6994 - val_mae: 2.3545 - val_mse: 14.6994\n"
     ]
    },
    {
     "name": "stdout",
     "output_type": "stream",
     "text": [
      "Epoch 97/100\n",
      "\r",
      " 1/36 [..............................] - ETA: 0s - loss: 32.1727 - mae: 2.9845 - mse: 32.1727"
     ]
    },
    {
     "name": "stdout",
     "output_type": "stream",
     "text": [
      "\b\b\b\b\b\b\b\b\b\b\b\b\b\b\b\b\b\b\b\b\b\b\b\b\b\b\b\b\b\b\b\b\b\b\b\b\b\b\b\b\b\b\b\b\b\b\b\b\b\b\b\b\b\b\b\b\b\b\b\b\b\b\b\b\b\b\b\b\b\b\b\b\b\b\b\b\b\b\b\b\b\b\b\b\b\b\b\b\b\b\b\b\b\r",
      "35/36 [============================>.] - ETA: 0s - loss: 7.9429 - mae: 1.7282 - mse: 7.9429  "
     ]
    },
    {
     "name": "stdout",
     "output_type": "stream",
     "text": [
      "\b\b\b\b\b\b\b\b\b\b\b\b\b\b\b\b\b\b\b\b\b\b\b\b\b\b\b\b\b\b\b\b\b\b\b\b\b\b\b\b\b\b\b\b\b\b\b\b\b\b\b\b\b\b\b\b\b\b\b\b\b\b\b\b\b\b\b\b\b\b\b\b\b\b\b\b\b\b\b\b\b\b\b\b\b\b\b\b\b\b\b\r",
      "36/36 [==============================] - 0s 4ms/step - loss: 7.7880 - mae: 1.7186 - mse: 7.7880 - val_loss: 15.5344 - val_mae: 2.3968 - val_mse: 15.5344\n"
     ]
    },
    {
     "name": "stdout",
     "output_type": "stream",
     "text": [
      "Epoch 98/100\n",
      "\r",
      " 1/36 [..............................] - ETA: 0s - loss: 9.3298 - mae: 2.4963 - mse: 9.3298"
     ]
    },
    {
     "name": "stdout",
     "output_type": "stream",
     "text": [
      "\b\b\b\b\b\b\b\b\b\b\b\b\b\b\b\b\b\b\b\b\b\b\b\b\b\b\b\b\b\b\b\b\b\b\b\b\b\b\b\b\b\b\b\b\b\b\b\b\b\b\b\b\b\b\b\b\b\b\b\b\b\b\b\b\b\b\b\b\b\b\b\b\b\b\b\b\b\b\b\b\b\b\b\b\b\b\b\b\b\b\b\r",
      "34/36 [===========================>..] - ETA: 0s - loss: 4.9561 - mae: 1.5750 - mse: 4.9561"
     ]
    },
    {
     "name": "stdout",
     "output_type": "stream",
     "text": [
      "\b\b\b\b\b\b\b\b\b\b\b\b\b\b\b\b\b\b\b\b\b\b\b\b\b\b\b\b\b\b\b\b\b\b\b\b\b\b\b\b\b\b\b\b\b\b\b\b\b\b\b\b\b\b\b\b\b\b\b\b\b\b\b\b\b\b\b\b\b\b\b\b\b\b\b\b\b\b\b\b\b\b\b\b\b\b\b\b\b\b\b\r",
      "36/36 [==============================] - 0s 4ms/step - loss: 4.9749 - mae: 1.5721 - mse: 4.9749 - val_loss: 15.8116 - val_mae: 2.4217 - val_mse: 15.8116\n"
     ]
    },
    {
     "name": "stdout",
     "output_type": "stream",
     "text": [
      "Epoch 99/100\n",
      "\r",
      " 1/36 [..............................] - ETA: 0s - loss: 1.6976 - mae: 1.0422 - mse: 1.6976"
     ]
    },
    {
     "name": "stdout",
     "output_type": "stream",
     "text": [
      "\b\b\b\b\b\b\b\b\b\b\b\b\b\b\b\b\b\b\b\b\b\b\b\b\b\b\b\b\b\b\b\b\b\b\b\b\b\b\b\b\b\b\b\b\b\b\b\b\b\b\b\b\b\b\b\b\b\b\b\b\b\b\b\b\b\b\b\b\b\b\b\b\b\b\b\b\b\b\b\b\b\b\b\b\b\b\b\b\b\b\b\r",
      "35/36 [============================>.] - ETA: 0s - loss: 4.8331 - mae: 1.6077 - mse: 4.8331"
     ]
    },
    {
     "name": "stdout",
     "output_type": "stream",
     "text": [
      "\b\b\b\b\b\b\b\b\b\b\b\b\b\b\b\b\b\b\b\b\b\b\b\b\b\b\b\b\b\b\b\b\b\b\b\b\b\b\b\b\b\b\b\b\b\b\b\b\b\b\b\b\b\b\b\b\b\b\b\b\b\b\b\b\b\b\b\b\b\b\b\b\b\b\b\b\b\b\b\b\b\b\b\b\b\b\b\b\b\b\b\r",
      "36/36 [==============================] - 0s 4ms/step - loss: 4.8447 - mae: 1.6066 - mse: 4.8447 - val_loss: 14.0080 - val_mae: 2.2920 - val_mse: 14.0080\n"
     ]
    },
    {
     "name": "stdout",
     "output_type": "stream",
     "text": [
      "Epoch 100/100\n",
      "\r",
      " 1/36 [..............................] - ETA: 0s - loss: 2.3056 - mae: 1.1613 - mse: 2.3056"
     ]
    },
    {
     "name": "stdout",
     "output_type": "stream",
     "text": [
      "\b\b\b\b\b\b\b\b\b\b\b\b\b\b\b\b\b\b\b\b\b\b\b\b\b\b\b\b\b\b\b\b\b\b\b\b\b\b\b\b\b\b\b\b\b\b\b\b\b\b\b\b\b\b\b\b\b\b\b\b\b\b\b\b\b\b\b\b\b\b\b\b\b\b\b\b\b\b\b\b\b\b\b\b\b\b\b\b\b\b\b\r",
      "35/36 [============================>.] - ETA: 0s - loss: 4.1835 - mae: 1.4657 - mse: 4.1835"
     ]
    },
    {
     "name": "stdout",
     "output_type": "stream",
     "text": [
      "\b\b\b\b\b\b\b\b\b\b\b\b\b\b\b\b\b\b\b\b\b\b\b\b\b\b\b\b\b\b\b\b\b\b\b\b\b\b\b\b\b\b\b\b\b\b\b\b\b\b\b\b\b\b\b\b\b\b\b\b\b\b\b\b\b\b\b\b\b\b\b\b\b\b\b\b\b\b\b\b\b\b\b\b\b\b\b\b\b\b\b\r",
      "36/36 [==============================] - 0s 4ms/step - loss: 4.2341 - mae: 1.4715 - mse: 4.2341 - val_loss: 14.2339 - val_mae: 2.3737 - val_mse: 14.2339\n"
     ]
    }
   ],
   "source": [
    "history = model.fit(x_train,\n",
    "                    y_train,\n",
    "                    epochs          = 100,\n",
    "                    batch_size      = 10,\n",
    "                    verbose         = 1,\n",
    "                    validation_data = (x_test, y_test),\n",
    "                    callbacks       = [savemodel_callback])"
   ]
  },
  {
   "cell_type": "markdown",
   "metadata": {},
   "source": [
    "## Step 6 - Evaluate\n",
    "### 6.1 - Model evaluation\n",
    "MAE =  Mean Absolute Error (between the labels and predictions)  \n",
    "A mae equal to 3 represents an average error in prediction of $3k."
   ]
  },
  {
   "cell_type": "code",
   "execution_count": 10,
   "metadata": {
    "execution": {
     "iopub.execute_input": "2021-02-10T08:09:58.570670Z",
     "iopub.status.busy": "2021-02-10T08:09:58.570197Z",
     "iopub.status.idle": "2021-02-10T08:09:58.643031Z",
     "shell.execute_reply": "2021-02-10T08:09:58.643520Z"
    }
   },
   "outputs": [
    {
     "name": "stdout",
     "output_type": "stream",
     "text": [
      "x_test / loss      : 14.2339\n",
      "x_test / mae       : 2.3737\n",
      "x_test / mse       : 14.2339\n"
     ]
    }
   ],
   "source": [
    "score = model.evaluate(x_test, y_test, verbose=0)\n",
    "\n",
    "print('x_test / loss      : {:5.4f}'.format(score[0]))\n",
    "print('x_test / mae       : {:5.4f}'.format(score[1]))\n",
    "print('x_test / mse       : {:5.4f}'.format(score[2]))"
   ]
  },
  {
   "cell_type": "markdown",
   "metadata": {},
   "source": [
    "### 6.2 - Training history\n",
    "What was the best result during our training ?"
   ]
  },
  {
   "cell_type": "code",
   "execution_count": 11,
   "metadata": {
    "execution": {
     "iopub.execute_input": "2021-02-10T08:09:58.646930Z",
     "iopub.status.busy": "2021-02-10T08:09:58.646467Z",
     "iopub.status.idle": "2021-02-10T08:09:58.648532Z",
     "shell.execute_reply": "2021-02-10T08:09:58.649008Z"
    }
   },
   "outputs": [
    {
     "name": "stdout",
     "output_type": "stream",
     "text": [
      "min( val_mae ) : 2.2920\n"
     ]
    }
   ],
   "source": [
    "print(\"min( val_mae ) : {:.4f}\".format( min(history.history[\"val_mae\"]) ) )"
   ]
  },
  {
   "cell_type": "code",
   "execution_count": 12,
   "metadata": {
    "execution": {
     "iopub.execute_input": "2021-02-10T08:09:58.664480Z",
     "iopub.status.busy": "2021-02-10T08:09:58.664006Z",
     "iopub.status.idle": "2021-02-10T08:10:00.383614Z",
     "shell.execute_reply": "2021-02-10T08:10:00.384102Z"
    }
   },
   "outputs": [
    {
     "data": {
      "text/html": [
       "<div class=\"comment\">Saved: ./run/figs/BHPD2-01-history_0</div>"
      ],
      "text/plain": [
       "<IPython.core.display.HTML object>"
      ]
     },
     "metadata": {},
     "output_type": "display_data"
    },
    {
     "data": {
      "image/png": "[encoded data removed]",
      "text/plain": [
       "<Figure size 576x432 with 1 Axes>"
      ]
     },
     "metadata": {
      "needs_background": "light"
     },
     "output_type": "display_data"
    },
    {
     "data": {
      "text/html": [
       "<div class=\"comment\">Saved: ./run/figs/BHPD2-01-history_1</div>"
      ],
      "text/plain": [
       "<IPython.core.display.HTML object>"
      ]
     },
     "metadata": {},
     "output_type": "display_data"
    },
    {
     "data": {
      "image/png": "[encoded data removed]",
      "text/plain": [
       "<Figure size 576x432 with 1 Axes>"
      ]
     },
     "metadata": {
      "needs_background": "light"
     },
     "output_type": "display_data"
    },
    {
     "data": {
      "text/html": [
       "<div class=\"comment\">Saved: ./run/figs/BHPD2-01-history_2</div>"
      ],
      "text/plain": [
       "<IPython.core.display.HTML object>"
      ]
     },
     "metadata": {},
     "output_type": "display_data"
    },
    {
     "data": {
      "image/png": "[encoded data removed]",
      "text/plain": [
       "<Figure size 576x432 with 1 Axes>"
      ]
     },
     "metadata": {
      "needs_background": "light"
     },
     "output_type": "display_data"
    }
   ],
   "source": [
    "pwk.plot_history(history, plot={'MSE' :['mse', 'val_mse'],\n",
    "                                'MAE' :['mae', 'val_mae'],\n",
    "                                'LOSS':['loss','val_loss']}, save_as='01-history')"
   ]
  },
  {
   "cell_type": "markdown",
   "metadata": {},
   "source": [
    "## Step 7 - Restore a model :"
   ]
  },
  {
   "cell_type": "markdown",
   "metadata": {},
   "source": [
    "### 7.1 - Reload model"
   ]
  },
  {
   "cell_type": "code",
   "execution_count": 13,
   "metadata": {
    "execution": {
     "iopub.execute_input": "2021-02-10T08:10:00.387476Z",
     "iopub.status.busy": "2021-02-10T08:10:00.387003Z",
     "iopub.status.idle": "2021-02-10T08:10:00.449319Z",
     "shell.execute_reply": "2021-02-10T08:10:00.449802Z"
    }
   },
   "outputs": [
    {
     "name": "stdout",
     "output_type": "stream",
     "text": [
      "Model: \"sequential\"\n",
      "_________________________________________________________________\n",
      "Layer (type)                 Output Shape              Param #   \n",
      "=================================================================\n",
      "Dense_n1 (Dense)             (None, 64)                896       \n",
      "_________________________________________________________________\n",
      "Dense_n2 (Dense)             (None, 64)                4160      \n",
      "_________________________________________________________________\n",
      "Output (Dense)               (None, 1)                 65        \n",
      "=================================================================\n",
      "Total params: 5,121\n",
      "Trainable params: 5,121\n",
      "Non-trainable params: 0\n",
      "_________________________________________________________________\n",
      "Loaded.\n"
     ]
    }
   ],
   "source": [
    "loaded_model = tf.keras.models.load_model('./run/models/best_model.h5')\n",
    "loaded_model.summary()\n",
    "print(\"Loaded.\")"
   ]
  },
  {
   "cell_type": "markdown",
   "metadata": {},
   "source": [
    "### 7.2 - Evaluate it :"
   ]
  },
  {
   "cell_type": "code",
   "execution_count": 14,
   "metadata": {
    "execution": {
     "iopub.execute_input": "2021-02-10T08:10:00.453611Z",
     "iopub.status.busy": "2021-02-10T08:10:00.453130Z",
     "iopub.status.idle": "2021-02-10T08:10:00.692185Z",
     "shell.execute_reply": "2021-02-10T08:10:00.692680Z"
    }
   },
   "outputs": [
    {
     "name": "stdout",
     "output_type": "stream",
     "text": [
      "x_test / loss      : 14.0080\n",
      "x_test / mae       : 2.2920\n",
      "x_test / mse       : 14.0080\n"
     ]
    }
   ],
   "source": [
    "score = loaded_model.evaluate(x_test, y_test, verbose=0)\n",
    "\n",
    "print('x_test / loss      : {:5.4f}'.format(score[0]))\n",
    "print('x_test / mae       : {:5.4f}'.format(score[1]))\n",
    "print('x_test / mse       : {:5.4f}'.format(score[2]))"
   ]
  },
  {
   "cell_type": "markdown",
   "metadata": {},
   "source": [
    "### 7.3 - Make a prediction"
   ]
  },
  {
   "cell_type": "code",
   "execution_count": 15,
   "metadata": {
    "execution": {
     "iopub.execute_input": "2021-02-10T08:10:00.696715Z",
     "iopub.status.busy": "2021-02-10T08:10:00.696241Z",
     "iopub.status.idle": "2021-02-10T08:10:00.697845Z",
     "shell.execute_reply": "2021-02-10T08:10:00.698319Z"
    }
   },
   "outputs": [],
   "source": [
    "my_data = [ 1.26425925, -0.48522739,  1.0436489 , -0.23112788,  1.37120745,\n",
    "       -2.14308942,  1.13489104, -1.06802005,  1.71189006,  1.57042287,\n",
    "        0.77859951,  0.14769795,  2.7585581 ]\n",
    "real_price = 10.4\n",
    "\n",
    "my_data=np.array(my_data).reshape(1,13)"
   ]
  },
  {
   "cell_type": "code",
   "execution_count": 16,
   "metadata": {
    "execution": {
     "iopub.execute_input": "2021-02-10T08:10:00.701566Z",
     "iopub.status.busy": "2021-02-10T08:10:00.701082Z",
     "iopub.status.idle": "2021-02-10T08:10:00.841237Z",
     "shell.execute_reply": "2021-02-10T08:10:00.841726Z"
    }
   },
   "outputs": [
    {
     "name": "stdout",
     "output_type": "stream",
     "text": [
      "Prediction : 8.81 K$   Reality : 10.40 K$\n"
     ]
    }
   ],
   "source": [
    "predictions = loaded_model.predict( my_data )\n",
    "print(\"Prediction : {:.2f} K$   Reality : {:.2f} K$\".format(predictions[0][0], real_price))"
   ]
  },
  {
   "cell_type": "code",
   "execution_count": 17,
   "metadata": {
    "execution": {
     "iopub.execute_input": "2021-02-10T08:10:00.844892Z",
     "iopub.status.busy": "2021-02-10T08:10:00.844420Z",
     "iopub.status.idle": "2021-02-10T08:10:00.846679Z",
     "shell.execute_reply": "2021-02-10T08:10:00.847158Z"
    }
   },
   "outputs": [
    {
     "name": "stdout",
     "output_type": "stream",
     "text": [
      "End time is : Wednesday 10 February 2021, 09:10:00\n",
      "Duration is : 00:00:20 751ms\n",
      "This notebook ends here\n"
     ]
    }
   ],
   "source": [
    "pwk.end()"
   ]
  },
  {
   "cell_type": "markdown",
   "metadata": {},
   "source": [
    "---\n",
    "<img width=\"80px\" src=\"../fidle/img/00-Fidle-logo-01.svg\"></img>"
   ]
  }
 ],
 "metadata": {
  "kernelspec": {
   "display_name": "Python 3",
   "language": "python",
   "name": "python3"
  },
  "language_info": {
   "codemirror_mode": {
    "name": "ipython",
    "version": 3
   },
   "file_extension": ".py",
   "mimetype": "text/x-python",
   "name": "python",
   "nbconvert_exporter": "python",
   "pygments_lexer": "ipython3",
   "version": "3.7.9"
  }
 },
 "nbformat": 4,
 "nbformat_minor": 4
}
