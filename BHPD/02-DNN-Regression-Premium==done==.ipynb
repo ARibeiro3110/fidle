{
 "cells": [
  {
   "cell_type": "markdown",
   "metadata": {},
   "source": [
    "<img width=\"800px\" src=\"../fidle/img/00-Fidle-header-01.svg\"></img>\n",
    "\n",
    "# <!-- TITLE --> [BHPD2] - Regression with a Dense Network (DNN) - Advanced code\n",
    "  <!-- DESC -->  A more advanced implementation of the precedent example\n",
    "  <!-- AUTHOR : Jean-Luc Parouty (CNRS/SIMaP) -->\n",
    "\n",
    "## Objectives :\n",
    " - Predicts **housing prices** from a set of house features. \n",
    " - Understanding the principle and the architecture of a regression with a dense neural network with backup and restore of the trained model. \n",
    "\n",
    "The **[Boston Housing Prices Dataset](https://www.cs.toronto.edu/~delve/data/boston/bostonDetail.html)** consists of price of houses in various places in Boston.  \n",
    "Alongside with price, the dataset also provide these information :\n",
    "\n",
    " - CRIM: This is the per capita crime rate by town\n",
    " - ZN: This is the proportion of residential land zoned for lots larger than 25,000 sq.ft\n",
    " - INDUS: This is the proportion of non-retail business acres per town\n",
    " - CHAS: This is the Charles River dummy variable (this is equal to 1 if tract bounds river; 0 otherwise)\n",
    " - NOX: This is the nitric oxides concentration (parts per 10 million)\n",
    " - RM: This is the average number of rooms per dwelling\n",
    " - AGE: This is the proportion of owner-occupied units built prior to 1940\n",
    " - DIS: This is the weighted distances to five Boston employment centers\n",
    " - RAD: This is the index of accessibility to radial highways\n",
    " - TAX: This is the full-value property-tax rate per 10,000 dollars\n",
    " - PTRATIO: This is the pupil-teacher ratio by town\n",
    " - B: This is calculated as 1000(Bk — 0.63)^2, where Bk is the proportion of people of African American descent by town\n",
    " - LSTAT: This is the percentage lower status of the population\n",
    " - MEDV: This is the median value of owner-occupied homes in 1000 dollars\n",
    "\n",
    "## What we're going to do :\n",
    "\n",
    " - (Retrieve data)\n",
    " - (Preparing the data)\n",
    " - (Build a model)\n",
    " - Train and save the model\n",
    " - Restore saved model\n",
    " - Evaluate the model\n",
    " - Make some predictions\n"
   ]
  },
  {
   "cell_type": "markdown",
   "metadata": {},
   "source": [
    "## Step 1 - Import and init"
   ]
  },
  {
   "cell_type": "code",
   "execution_count": 1,
   "metadata": {
    "execution": {
     "iopub.execute_input": "2021-01-26T10:05:46.815488Z",
     "iopub.status.busy": "2021-01-26T10:05:46.815173Z",
     "iopub.status.idle": "2021-01-26T10:05:48.179447Z",
     "shell.execute_reply": "2021-01-26T10:05:48.178876Z"
    }
   },
   "outputs": [
    {
     "data": {
      "text/html": [
       "<style>\n",
       "\n",
       "div.warn {    \n",
       "    background-color: #fcf2f2;\n",
       "    border-color: #dFb5b4;\n",
       "    border-left: 5px solid #dfb5b4;\n",
       "    padding: 0.5em;\n",
       "    font-weight: bold;\n",
       "    font-size: 1.1em;;\n",
       "    }\n",
       "\n",
       "\n",
       "\n",
       "div.nota {    \n",
       "    background-color: #DAFFDE;\n",
       "    border-left: 5px solid #92CC99;\n",
       "    padding: 0.5em;\n",
       "    }\n",
       "\n",
       "div.todo:before { content:url(data:image/svg+xml;base64,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);\n",
       "    float:left;\n",
       "    margin-right:20px;\n",
       "    margin-top:-20px;\n",
       "    margin-bottom:20px;\n",
       "}\n",
       "div.todo{\n",
       "    font-weight: bold;\n",
       "    font-size: 1.1em;\n",
       "    margin-top:40px;\n",
       "}\n",
       "div.todo ul{\n",
       "    margin: 0.2em;\n",
       "}\n",
       "div.todo li{\n",
       "    margin-left:60px;\n",
       "    margin-top:0;\n",
       "    margin-bottom:0;\n",
       "}\n",
       "\n",
       "div .comment{\n",
       "    font-size:0.8em;\n",
       "    color:#696969;\n",
       "}\n",
       "\n",
       "\n",
       "\n",
       "</style>\n",
       "\n"
      ],
      "text/plain": [
       "<IPython.core.display.HTML object>"
      ]
     },
     "metadata": {},
     "output_type": "display_data"
    },
    {
     "data": {
      "text/markdown": [
       "<br>**FIDLE 2020 - Practical Work Module**"
      ],
      "text/plain": [
       "<IPython.core.display.Markdown object>"
      ]
     },
     "metadata": {},
     "output_type": "display_data"
    },
    {
     "name": "stdout",
     "output_type": "stream",
     "text": [
      "Version              : 2.0.5\n",
      "Notebook id          : BHPD2\n",
      "Run time             : Tuesday 26 January 2021, 11:05:48\n",
      "TensorFlow version   : 2.2.0\n",
      "Keras version        : 2.3.0-tf\n",
      "Datasets dir         : /home/pjluc/tmp/datasets\n",
      "Run dir              : ./run\n",
      "Update keras cache   : False\n",
      "Save figs            : True\n",
      "Path figs            : ./run/figs\n"
     ]
    }
   ],
   "source": [
    "import tensorflow as tf\n",
    "from tensorflow import keras\n",
    "\n",
    "import numpy as np\n",
    "import matplotlib.pyplot as plt\n",
    "import pandas as pd\n",
    "import os,sys\n",
    "\n",
    "from IPython.display import Markdown\n",
    "from importlib import reload\n",
    "\n",
    "sys.path.append('..')\n",
    "import fidle.pwk as pwk\n",
    "\n",
    "datasets_dir = pwk.init('BHPD2')"
   ]
  },
  {
   "cell_type": "markdown",
   "metadata": {},
   "source": [
    "## Step 2 - Retrieve data\n",
    "\n",
    "### 2.1 - Option 1  : From Keras\n",
    "Boston housing is a famous historic dataset, so we can get it directly from [Keras datasets](https://www.tensorflow.org/api_docs/python/tf/keras/datasets)  "
   ]
  },
  {
   "cell_type": "code",
   "execution_count": 2,
   "metadata": {
    "execution": {
     "iopub.execute_input": "2021-01-26T10:05:48.182207Z",
     "iopub.status.busy": "2021-01-26T10:05:48.181875Z",
     "iopub.status.idle": "2021-01-26T10:05:48.184530Z",
     "shell.execute_reply": "2021-01-26T10:05:48.184201Z"
    }
   },
   "outputs": [],
   "source": [
    "# (x_train, y_train), (x_test, y_test) = keras.datasets.boston_housing.load_data(test_split=0.2, seed=113)"
   ]
  },
  {
   "cell_type": "markdown",
   "metadata": {},
   "source": [
    "### 2.2 - Option 2 : From a csv file\n",
    "More fun !"
   ]
  },
  {
   "cell_type": "code",
   "execution_count": 3,
   "metadata": {
    "execution": {
     "iopub.execute_input": "2021-01-26T10:05:48.187819Z",
     "iopub.status.busy": "2021-01-26T10:05:48.187503Z",
     "iopub.status.idle": "2021-01-26T10:05:48.271544Z",
     "shell.execute_reply": "2021-01-26T10:05:48.271865Z"
    }
   },
   "outputs": [
    {
     "data": {
      "text/html": [
       "<style  type=\"text/css\" >\n",
       "</style><table id=\"T_703ca_\" ><thead>    <tr>        <th class=\"blank level0\" ></th>        <th class=\"col_heading level0 col0\" >crim</th>        <th class=\"col_heading level0 col1\" >zn</th>        <th class=\"col_heading level0 col2\" >indus</th>        <th class=\"col_heading level0 col3\" >chas</th>        <th class=\"col_heading level0 col4\" >nox</th>        <th class=\"col_heading level0 col5\" >rm</th>        <th class=\"col_heading level0 col6\" >age</th>        <th class=\"col_heading level0 col7\" >dis</th>        <th class=\"col_heading level0 col8\" >rad</th>        <th class=\"col_heading level0 col9\" >tax</th>        <th class=\"col_heading level0 col10\" >ptratio</th>        <th class=\"col_heading level0 col11\" >b</th>        <th class=\"col_heading level0 col12\" >lstat</th>        <th class=\"col_heading level0 col13\" >medv</th>    </tr></thead><tbody>\n",
       "                <tr>\n",
       "                        <th id=\"T_703ca_level0_row0\" class=\"row_heading level0 row0\" >0</th>\n",
       "                        <td id=\"T_703ca_row0_col0\" class=\"data row0 col0\" >0.01</td>\n",
       "                        <td id=\"T_703ca_row0_col1\" class=\"data row0 col1\" >18.00</td>\n",
       "                        <td id=\"T_703ca_row0_col2\" class=\"data row0 col2\" >2.31</td>\n",
       "                        <td id=\"T_703ca_row0_col3\" class=\"data row0 col3\" >0.00</td>\n",
       "                        <td id=\"T_703ca_row0_col4\" class=\"data row0 col4\" >0.54</td>\n",
       "                        <td id=\"T_703ca_row0_col5\" class=\"data row0 col5\" >6.58</td>\n",
       "                        <td id=\"T_703ca_row0_col6\" class=\"data row0 col6\" >65.20</td>\n",
       "                        <td id=\"T_703ca_row0_col7\" class=\"data row0 col7\" >4.09</td>\n",
       "                        <td id=\"T_703ca_row0_col8\" class=\"data row0 col8\" >1.00</td>\n",
       "                        <td id=\"T_703ca_row0_col9\" class=\"data row0 col9\" >296.00</td>\n",
       "                        <td id=\"T_703ca_row0_col10\" class=\"data row0 col10\" >15.30</td>\n",
       "                        <td id=\"T_703ca_row0_col11\" class=\"data row0 col11\" >396.90</td>\n",
       "                        <td id=\"T_703ca_row0_col12\" class=\"data row0 col12\" >4.98</td>\n",
       "                        <td id=\"T_703ca_row0_col13\" class=\"data row0 col13\" >24.00</td>\n",
       "            </tr>\n",
       "            <tr>\n",
       "                        <th id=\"T_703ca_level0_row1\" class=\"row_heading level0 row1\" >1</th>\n",
       "                        <td id=\"T_703ca_row1_col0\" class=\"data row1 col0\" >0.03</td>\n",
       "                        <td id=\"T_703ca_row1_col1\" class=\"data row1 col1\" >0.00</td>\n",
       "                        <td id=\"T_703ca_row1_col2\" class=\"data row1 col2\" >7.07</td>\n",
       "                        <td id=\"T_703ca_row1_col3\" class=\"data row1 col3\" >0.00</td>\n",
       "                        <td id=\"T_703ca_row1_col4\" class=\"data row1 col4\" >0.47</td>\n",
       "                        <td id=\"T_703ca_row1_col5\" class=\"data row1 col5\" >6.42</td>\n",
       "                        <td id=\"T_703ca_row1_col6\" class=\"data row1 col6\" >78.90</td>\n",
       "                        <td id=\"T_703ca_row1_col7\" class=\"data row1 col7\" >4.97</td>\n",
       "                        <td id=\"T_703ca_row1_col8\" class=\"data row1 col8\" >2.00</td>\n",
       "                        <td id=\"T_703ca_row1_col9\" class=\"data row1 col9\" >242.00</td>\n",
       "                        <td id=\"T_703ca_row1_col10\" class=\"data row1 col10\" >17.80</td>\n",
       "                        <td id=\"T_703ca_row1_col11\" class=\"data row1 col11\" >396.90</td>\n",
       "                        <td id=\"T_703ca_row1_col12\" class=\"data row1 col12\" >9.14</td>\n",
       "                        <td id=\"T_703ca_row1_col13\" class=\"data row1 col13\" >21.60</td>\n",
       "            </tr>\n",
       "            <tr>\n",
       "                        <th id=\"T_703ca_level0_row2\" class=\"row_heading level0 row2\" >2</th>\n",
       "                        <td id=\"T_703ca_row2_col0\" class=\"data row2 col0\" >0.03</td>\n",
       "                        <td id=\"T_703ca_row2_col1\" class=\"data row2 col1\" >0.00</td>\n",
       "                        <td id=\"T_703ca_row2_col2\" class=\"data row2 col2\" >7.07</td>\n",
       "                        <td id=\"T_703ca_row2_col3\" class=\"data row2 col3\" >0.00</td>\n",
       "                        <td id=\"T_703ca_row2_col4\" class=\"data row2 col4\" >0.47</td>\n",
       "                        <td id=\"T_703ca_row2_col5\" class=\"data row2 col5\" >7.18</td>\n",
       "                        <td id=\"T_703ca_row2_col6\" class=\"data row2 col6\" >61.10</td>\n",
       "                        <td id=\"T_703ca_row2_col7\" class=\"data row2 col7\" >4.97</td>\n",
       "                        <td id=\"T_703ca_row2_col8\" class=\"data row2 col8\" >2.00</td>\n",
       "                        <td id=\"T_703ca_row2_col9\" class=\"data row2 col9\" >242.00</td>\n",
       "                        <td id=\"T_703ca_row2_col10\" class=\"data row2 col10\" >17.80</td>\n",
       "                        <td id=\"T_703ca_row2_col11\" class=\"data row2 col11\" >392.83</td>\n",
       "                        <td id=\"T_703ca_row2_col12\" class=\"data row2 col12\" >4.03</td>\n",
       "                        <td id=\"T_703ca_row2_col13\" class=\"data row2 col13\" >34.70</td>\n",
       "            </tr>\n",
       "            <tr>\n",
       "                        <th id=\"T_703ca_level0_row3\" class=\"row_heading level0 row3\" >3</th>\n",
       "                        <td id=\"T_703ca_row3_col0\" class=\"data row3 col0\" >0.03</td>\n",
       "                        <td id=\"T_703ca_row3_col1\" class=\"data row3 col1\" >0.00</td>\n",
       "                        <td id=\"T_703ca_row3_col2\" class=\"data row3 col2\" >2.18</td>\n",
       "                        <td id=\"T_703ca_row3_col3\" class=\"data row3 col3\" >0.00</td>\n",
       "                        <td id=\"T_703ca_row3_col4\" class=\"data row3 col4\" >0.46</td>\n",
       "                        <td id=\"T_703ca_row3_col5\" class=\"data row3 col5\" >7.00</td>\n",
       "                        <td id=\"T_703ca_row3_col6\" class=\"data row3 col6\" >45.80</td>\n",
       "                        <td id=\"T_703ca_row3_col7\" class=\"data row3 col7\" >6.06</td>\n",
       "                        <td id=\"T_703ca_row3_col8\" class=\"data row3 col8\" >3.00</td>\n",
       "                        <td id=\"T_703ca_row3_col9\" class=\"data row3 col9\" >222.00</td>\n",
       "                        <td id=\"T_703ca_row3_col10\" class=\"data row3 col10\" >18.70</td>\n",
       "                        <td id=\"T_703ca_row3_col11\" class=\"data row3 col11\" >394.63</td>\n",
       "                        <td id=\"T_703ca_row3_col12\" class=\"data row3 col12\" >2.94</td>\n",
       "                        <td id=\"T_703ca_row3_col13\" class=\"data row3 col13\" >33.40</td>\n",
       "            </tr>\n",
       "            <tr>\n",
       "                        <th id=\"T_703ca_level0_row4\" class=\"row_heading level0 row4\" >4</th>\n",
       "                        <td id=\"T_703ca_row4_col0\" class=\"data row4 col0\" >0.07</td>\n",
       "                        <td id=\"T_703ca_row4_col1\" class=\"data row4 col1\" >0.00</td>\n",
       "                        <td id=\"T_703ca_row4_col2\" class=\"data row4 col2\" >2.18</td>\n",
       "                        <td id=\"T_703ca_row4_col3\" class=\"data row4 col3\" >0.00</td>\n",
       "                        <td id=\"T_703ca_row4_col4\" class=\"data row4 col4\" >0.46</td>\n",
       "                        <td id=\"T_703ca_row4_col5\" class=\"data row4 col5\" >7.15</td>\n",
       "                        <td id=\"T_703ca_row4_col6\" class=\"data row4 col6\" >54.20</td>\n",
       "                        <td id=\"T_703ca_row4_col7\" class=\"data row4 col7\" >6.06</td>\n",
       "                        <td id=\"T_703ca_row4_col8\" class=\"data row4 col8\" >3.00</td>\n",
       "                        <td id=\"T_703ca_row4_col9\" class=\"data row4 col9\" >222.00</td>\n",
       "                        <td id=\"T_703ca_row4_col10\" class=\"data row4 col10\" >18.70</td>\n",
       "                        <td id=\"T_703ca_row4_col11\" class=\"data row4 col11\" >396.90</td>\n",
       "                        <td id=\"T_703ca_row4_col12\" class=\"data row4 col12\" >5.33</td>\n",
       "                        <td id=\"T_703ca_row4_col13\" class=\"data row4 col13\" >36.20</td>\n",
       "            </tr>\n",
       "    </tbody></table>"
      ],
      "text/plain": [
       "<pandas.io.formats.style.Styler at 0x7f4d9c245490>"
      ]
     },
     "metadata": {},
     "output_type": "display_data"
    },
    {
     "name": "stdout",
     "output_type": "stream",
     "text": [
      "Missing Data :  0   Shape is :  (506, 14)\n"
     ]
    }
   ],
   "source": [
    "data = pd.read_csv(f'{datasets_dir}/BHPD/origine/BostonHousing.csv', header=0)\n",
    "\n",
    "display(data.head(5).style.format(\"{0:.2f}\"))\n",
    "print('Missing Data : ',data.isna().sum().sum(), '  Shape is : ', data.shape)"
   ]
  },
  {
   "cell_type": "markdown",
   "metadata": {},
   "source": [
    "## Step 3 - Preparing the data\n",
    "### 3.1 - Split data\n",
    "We will use 80% of the data for training and 20% for validation.  \n",
    "x will be input data and y the expected output"
   ]
  },
  {
   "cell_type": "code",
   "execution_count": 4,
   "metadata": {
    "execution": {
     "iopub.execute_input": "2021-01-26T10:05:48.278432Z",
     "iopub.status.busy": "2021-01-26T10:05:48.278020Z",
     "iopub.status.idle": "2021-01-26T10:05:48.281786Z",
     "shell.execute_reply": "2021-01-26T10:05:48.281280Z"
    }
   },
   "outputs": [
    {
     "name": "stdout",
     "output_type": "stream",
     "text": [
      "Original data shape was :  (506, 14)\n",
      "x_train :  (354, 13) y_train :  (354,)\n",
      "x_test  :  (152, 13) y_test  :  (152,)\n"
     ]
    }
   ],
   "source": [
    "# ---- Split => train, test\n",
    "#\n",
    "data_train = data.sample(frac=0.7, axis=0)\n",
    "data_test  = data.drop(data_train.index)\n",
    "\n",
    "# ---- Split => x,y (medv is price)\n",
    "#\n",
    "x_train = data_train.drop('medv',  axis=1)\n",
    "y_train = data_train['medv']\n",
    "x_test  = data_test.drop('medv',   axis=1)\n",
    "y_test  = data_test['medv']\n",
    "\n",
    "print('Original data shape was : ',data.shape)\n",
    "print('x_train : ',x_train.shape, 'y_train : ',y_train.shape)\n",
    "print('x_test  : ',x_test.shape,  'y_test  : ',y_test.shape)"
   ]
  },
  {
   "cell_type": "markdown",
   "metadata": {},
   "source": [
    "### 3.2 - Data normalization\n",
    "**Note :** \n",
    " - All input data must be normalized, train and test.  \n",
    " - To do this we will subtract the mean and divide by the standard deviation.  \n",
    " - But test data should not be used in any way, even for normalization.  \n",
    " - The mean and the standard deviation will therefore only be calculated with the train data."
   ]
  },
  {
   "cell_type": "code",
   "execution_count": 5,
   "metadata": {
    "execution": {
     "iopub.execute_input": "2021-01-26T10:05:48.289733Z",
     "iopub.status.busy": "2021-01-26T10:05:48.287772Z",
     "iopub.status.idle": "2021-01-26T10:05:48.345857Z",
     "shell.execute_reply": "2021-01-26T10:05:48.345485Z"
    }
   },
   "outputs": [
    {
     "data": {
      "text/html": [
       "<style  type=\"text/css\" >\n",
       "</style><table id=\"T_bfc15_\" ><caption>Before normalization :</caption><thead>    <tr>        <th class=\"blank level0\" ></th>        <th class=\"col_heading level0 col0\" >crim</th>        <th class=\"col_heading level0 col1\" >zn</th>        <th class=\"col_heading level0 col2\" >indus</th>        <th class=\"col_heading level0 col3\" >chas</th>        <th class=\"col_heading level0 col4\" >nox</th>        <th class=\"col_heading level0 col5\" >rm</th>        <th class=\"col_heading level0 col6\" >age</th>        <th class=\"col_heading level0 col7\" >dis</th>        <th class=\"col_heading level0 col8\" >rad</th>        <th class=\"col_heading level0 col9\" >tax</th>        <th class=\"col_heading level0 col10\" >ptratio</th>        <th class=\"col_heading level0 col11\" >b</th>        <th class=\"col_heading level0 col12\" >lstat</th>    </tr></thead><tbody>\n",
       "                <tr>\n",
       "                        <th id=\"T_bfc15_level0_row0\" class=\"row_heading level0 row0\" >count</th>\n",
       "                        <td id=\"T_bfc15_row0_col0\" class=\"data row0 col0\" >354.00</td>\n",
       "                        <td id=\"T_bfc15_row0_col1\" class=\"data row0 col1\" >354.00</td>\n",
       "                        <td id=\"T_bfc15_row0_col2\" class=\"data row0 col2\" >354.00</td>\n",
       "                        <td id=\"T_bfc15_row0_col3\" class=\"data row0 col3\" >354.00</td>\n",
       "                        <td id=\"T_bfc15_row0_col4\" class=\"data row0 col4\" >354.00</td>\n",
       "                        <td id=\"T_bfc15_row0_col5\" class=\"data row0 col5\" >354.00</td>\n",
       "                        <td id=\"T_bfc15_row0_col6\" class=\"data row0 col6\" >354.00</td>\n",
       "                        <td id=\"T_bfc15_row0_col7\" class=\"data row0 col7\" >354.00</td>\n",
       "                        <td id=\"T_bfc15_row0_col8\" class=\"data row0 col8\" >354.00</td>\n",
       "                        <td id=\"T_bfc15_row0_col9\" class=\"data row0 col9\" >354.00</td>\n",
       "                        <td id=\"T_bfc15_row0_col10\" class=\"data row0 col10\" >354.00</td>\n",
       "                        <td id=\"T_bfc15_row0_col11\" class=\"data row0 col11\" >354.00</td>\n",
       "                        <td id=\"T_bfc15_row0_col12\" class=\"data row0 col12\" >354.00</td>\n",
       "            </tr>\n",
       "            <tr>\n",
       "                        <th id=\"T_bfc15_level0_row1\" class=\"row_heading level0 row1\" >mean</th>\n",
       "                        <td id=\"T_bfc15_row1_col0\" class=\"data row1 col0\" >3.47</td>\n",
       "                        <td id=\"T_bfc15_row1_col1\" class=\"data row1 col1\" >10.09</td>\n",
       "                        <td id=\"T_bfc15_row1_col2\" class=\"data row1 col2\" >11.35</td>\n",
       "                        <td id=\"T_bfc15_row1_col3\" class=\"data row1 col3\" >0.07</td>\n",
       "                        <td id=\"T_bfc15_row1_col4\" class=\"data row1 col4\" >0.56</td>\n",
       "                        <td id=\"T_bfc15_row1_col5\" class=\"data row1 col5\" >6.28</td>\n",
       "                        <td id=\"T_bfc15_row1_col6\" class=\"data row1 col6\" >69.64</td>\n",
       "                        <td id=\"T_bfc15_row1_col7\" class=\"data row1 col7\" >3.70</td>\n",
       "                        <td id=\"T_bfc15_row1_col8\" class=\"data row1 col8\" >9.58</td>\n",
       "                        <td id=\"T_bfc15_row1_col9\" class=\"data row1 col9\" >410.23</td>\n",
       "                        <td id=\"T_bfc15_row1_col10\" class=\"data row1 col10\" >18.40</td>\n",
       "                        <td id=\"T_bfc15_row1_col11\" class=\"data row1 col11\" >357.63</td>\n",
       "                        <td id=\"T_bfc15_row1_col12\" class=\"data row1 col12\" >12.82</td>\n",
       "            </tr>\n",
       "            <tr>\n",
       "                        <th id=\"T_bfc15_level0_row2\" class=\"row_heading level0 row2\" >std</th>\n",
       "                        <td id=\"T_bfc15_row2_col0\" class=\"data row2 col0\" >7.45</td>\n",
       "                        <td id=\"T_bfc15_row2_col1\" class=\"data row2 col1\" >22.58</td>\n",
       "                        <td id=\"T_bfc15_row2_col2\" class=\"data row2 col2\" >6.90</td>\n",
       "                        <td id=\"T_bfc15_row2_col3\" class=\"data row2 col3\" >0.26</td>\n",
       "                        <td id=\"T_bfc15_row2_col4\" class=\"data row2 col4\" >0.12</td>\n",
       "                        <td id=\"T_bfc15_row2_col5\" class=\"data row2 col5\" >0.74</td>\n",
       "                        <td id=\"T_bfc15_row2_col6\" class=\"data row2 col6\" >28.07</td>\n",
       "                        <td id=\"T_bfc15_row2_col7\" class=\"data row2 col7\" >2.07</td>\n",
       "                        <td id=\"T_bfc15_row2_col8\" class=\"data row2 col8\" >8.67</td>\n",
       "                        <td id=\"T_bfc15_row2_col9\" class=\"data row2 col9\" >169.24</td>\n",
       "                        <td id=\"T_bfc15_row2_col10\" class=\"data row2 col10\" >2.16</td>\n",
       "                        <td id=\"T_bfc15_row2_col11\" class=\"data row2 col11\" >88.23</td>\n",
       "                        <td id=\"T_bfc15_row2_col12\" class=\"data row2 col12\" >7.44</td>\n",
       "            </tr>\n",
       "            <tr>\n",
       "                        <th id=\"T_bfc15_level0_row3\" class=\"row_heading level0 row3\" >min</th>\n",
       "                        <td id=\"T_bfc15_row3_col0\" class=\"data row3 col0\" >0.01</td>\n",
       "                        <td id=\"T_bfc15_row3_col1\" class=\"data row3 col1\" >0.00</td>\n",
       "                        <td id=\"T_bfc15_row3_col2\" class=\"data row3 col2\" >0.46</td>\n",
       "                        <td id=\"T_bfc15_row3_col3\" class=\"data row3 col3\" >0.00</td>\n",
       "                        <td id=\"T_bfc15_row3_col4\" class=\"data row3 col4\" >0.39</td>\n",
       "                        <td id=\"T_bfc15_row3_col5\" class=\"data row3 col5\" >3.56</td>\n",
       "                        <td id=\"T_bfc15_row3_col6\" class=\"data row3 col6\" >2.90</td>\n",
       "                        <td id=\"T_bfc15_row3_col7\" class=\"data row3 col7\" >1.13</td>\n",
       "                        <td id=\"T_bfc15_row3_col8\" class=\"data row3 col8\" >1.00</td>\n",
       "                        <td id=\"T_bfc15_row3_col9\" class=\"data row3 col9\" >187.00</td>\n",
       "                        <td id=\"T_bfc15_row3_col10\" class=\"data row3 col10\" >12.60</td>\n",
       "                        <td id=\"T_bfc15_row3_col11\" class=\"data row3 col11\" >2.60</td>\n",
       "                        <td id=\"T_bfc15_row3_col12\" class=\"data row3 col12\" >2.47</td>\n",
       "            </tr>\n",
       "            <tr>\n",
       "                        <th id=\"T_bfc15_level0_row4\" class=\"row_heading level0 row4\" >25%</th>\n",
       "                        <td id=\"T_bfc15_row4_col0\" class=\"data row4 col0\" >0.09</td>\n",
       "                        <td id=\"T_bfc15_row4_col1\" class=\"data row4 col1\" >0.00</td>\n",
       "                        <td id=\"T_bfc15_row4_col2\" class=\"data row4 col2\" >5.40</td>\n",
       "                        <td id=\"T_bfc15_row4_col3\" class=\"data row4 col3\" >0.00</td>\n",
       "                        <td id=\"T_bfc15_row4_col4\" class=\"data row4 col4\" >0.45</td>\n",
       "                        <td id=\"T_bfc15_row4_col5\" class=\"data row4 col5\" >5.88</td>\n",
       "                        <td id=\"T_bfc15_row4_col6\" class=\"data row4 col6\" >46.83</td>\n",
       "                        <td id=\"T_bfc15_row4_col7\" class=\"data row4 col7\" >2.05</td>\n",
       "                        <td id=\"T_bfc15_row4_col8\" class=\"data row4 col8\" >4.00</td>\n",
       "                        <td id=\"T_bfc15_row4_col9\" class=\"data row4 col9\" >279.50</td>\n",
       "                        <td id=\"T_bfc15_row4_col10\" class=\"data row4 col10\" >17.40</td>\n",
       "                        <td id=\"T_bfc15_row4_col11\" class=\"data row4 col11\" >374.69</td>\n",
       "                        <td id=\"T_bfc15_row4_col12\" class=\"data row4 col12\" >7.18</td>\n",
       "            </tr>\n",
       "            <tr>\n",
       "                        <th id=\"T_bfc15_level0_row5\" class=\"row_heading level0 row5\" >50%</th>\n",
       "                        <td id=\"T_bfc15_row5_col0\" class=\"data row5 col0\" >0.26</td>\n",
       "                        <td id=\"T_bfc15_row5_col1\" class=\"data row5 col1\" >0.00</td>\n",
       "                        <td id=\"T_bfc15_row5_col2\" class=\"data row5 col2\" >9.90</td>\n",
       "                        <td id=\"T_bfc15_row5_col3\" class=\"data row5 col3\" >0.00</td>\n",
       "                        <td id=\"T_bfc15_row5_col4\" class=\"data row5 col4\" >0.54</td>\n",
       "                        <td id=\"T_bfc15_row5_col5\" class=\"data row5 col5\" >6.19</td>\n",
       "                        <td id=\"T_bfc15_row5_col6\" class=\"data row5 col6\" >79.75</td>\n",
       "                        <td id=\"T_bfc15_row5_col7\" class=\"data row5 col7\" >3.10</td>\n",
       "                        <td id=\"T_bfc15_row5_col8\" class=\"data row5 col8\" >5.00</td>\n",
       "                        <td id=\"T_bfc15_row5_col9\" class=\"data row5 col9\" >341.00</td>\n",
       "                        <td id=\"T_bfc15_row5_col10\" class=\"data row5 col10\" >18.90</td>\n",
       "                        <td id=\"T_bfc15_row5_col11\" class=\"data row5 col11\" >390.95</td>\n",
       "                        <td id=\"T_bfc15_row5_col12\" class=\"data row5 col12\" >11.37</td>\n",
       "            </tr>\n",
       "            <tr>\n",
       "                        <th id=\"T_bfc15_level0_row6\" class=\"row_heading level0 row6\" >75%</th>\n",
       "                        <td id=\"T_bfc15_row6_col0\" class=\"data row6 col0\" >3.69</td>\n",
       "                        <td id=\"T_bfc15_row6_col1\" class=\"data row6 col1\" >0.00</td>\n",
       "                        <td id=\"T_bfc15_row6_col2\" class=\"data row6 col2\" >18.10</td>\n",
       "                        <td id=\"T_bfc15_row6_col3\" class=\"data row6 col3\" >0.00</td>\n",
       "                        <td id=\"T_bfc15_row6_col4\" class=\"data row6 col4\" >0.62</td>\n",
       "                        <td id=\"T_bfc15_row6_col5\" class=\"data row6 col5\" >6.62</td>\n",
       "                        <td id=\"T_bfc15_row6_col6\" class=\"data row6 col6\" >94.47</td>\n",
       "                        <td id=\"T_bfc15_row6_col7\" class=\"data row6 col7\" >5.00</td>\n",
       "                        <td id=\"T_bfc15_row6_col8\" class=\"data row6 col8\" >24.00</td>\n",
       "                        <td id=\"T_bfc15_row6_col9\" class=\"data row6 col9\" >666.00</td>\n",
       "                        <td id=\"T_bfc15_row6_col10\" class=\"data row6 col10\" >20.20</td>\n",
       "                        <td id=\"T_bfc15_row6_col11\" class=\"data row6 col11\" >396.23</td>\n",
       "                        <td id=\"T_bfc15_row6_col12\" class=\"data row6 col12\" >17.10</td>\n",
       "            </tr>\n",
       "            <tr>\n",
       "                        <th id=\"T_bfc15_level0_row7\" class=\"row_heading level0 row7\" >max</th>\n",
       "                        <td id=\"T_bfc15_row7_col0\" class=\"data row7 col0\" >73.53</td>\n",
       "                        <td id=\"T_bfc15_row7_col1\" class=\"data row7 col1\" >100.00</td>\n",
       "                        <td id=\"T_bfc15_row7_col2\" class=\"data row7 col2\" >27.74</td>\n",
       "                        <td id=\"T_bfc15_row7_col3\" class=\"data row7 col3\" >1.00</td>\n",
       "                        <td id=\"T_bfc15_row7_col4\" class=\"data row7 col4\" >0.87</td>\n",
       "                        <td id=\"T_bfc15_row7_col5\" class=\"data row7 col5\" >8.70</td>\n",
       "                        <td id=\"T_bfc15_row7_col6\" class=\"data row7 col6\" >100.00</td>\n",
       "                        <td id=\"T_bfc15_row7_col7\" class=\"data row7 col7\" >12.13</td>\n",
       "                        <td id=\"T_bfc15_row7_col8\" class=\"data row7 col8\" >24.00</td>\n",
       "                        <td id=\"T_bfc15_row7_col9\" class=\"data row7 col9\" >711.00</td>\n",
       "                        <td id=\"T_bfc15_row7_col10\" class=\"data row7 col10\" >22.00</td>\n",
       "                        <td id=\"T_bfc15_row7_col11\" class=\"data row7 col11\" >396.90</td>\n",
       "                        <td id=\"T_bfc15_row7_col12\" class=\"data row7 col12\" >37.97</td>\n",
       "            </tr>\n",
       "    </tbody></table>"
      ],
      "text/plain": [
       "<pandas.io.formats.style.Styler at 0x7f4d9c24a910>"
      ]
     },
     "metadata": {},
     "output_type": "display_data"
    },
    {
     "data": {
      "text/html": [
       "<style  type=\"text/css\" >\n",
       "</style><table id=\"T_dac9a_\" ><caption>After normalization :</caption><thead>    <tr>        <th class=\"blank level0\" ></th>        <th class=\"col_heading level0 col0\" >crim</th>        <th class=\"col_heading level0 col1\" >zn</th>        <th class=\"col_heading level0 col2\" >indus</th>        <th class=\"col_heading level0 col3\" >chas</th>        <th class=\"col_heading level0 col4\" >nox</th>        <th class=\"col_heading level0 col5\" >rm</th>        <th class=\"col_heading level0 col6\" >age</th>        <th class=\"col_heading level0 col7\" >dis</th>        <th class=\"col_heading level0 col8\" >rad</th>        <th class=\"col_heading level0 col9\" >tax</th>        <th class=\"col_heading level0 col10\" >ptratio</th>        <th class=\"col_heading level0 col11\" >b</th>        <th class=\"col_heading level0 col12\" >lstat</th>    </tr></thead><tbody>\n",
       "                <tr>\n",
       "                        <th id=\"T_dac9a_level0_row0\" class=\"row_heading level0 row0\" >count</th>\n",
       "                        <td id=\"T_dac9a_row0_col0\" class=\"data row0 col0\" >354.00</td>\n",
       "                        <td id=\"T_dac9a_row0_col1\" class=\"data row0 col1\" >354.00</td>\n",
       "                        <td id=\"T_dac9a_row0_col2\" class=\"data row0 col2\" >354.00</td>\n",
       "                        <td id=\"T_dac9a_row0_col3\" class=\"data row0 col3\" >354.00</td>\n",
       "                        <td id=\"T_dac9a_row0_col4\" class=\"data row0 col4\" >354.00</td>\n",
       "                        <td id=\"T_dac9a_row0_col5\" class=\"data row0 col5\" >354.00</td>\n",
       "                        <td id=\"T_dac9a_row0_col6\" class=\"data row0 col6\" >354.00</td>\n",
       "                        <td id=\"T_dac9a_row0_col7\" class=\"data row0 col7\" >354.00</td>\n",
       "                        <td id=\"T_dac9a_row0_col8\" class=\"data row0 col8\" >354.00</td>\n",
       "                        <td id=\"T_dac9a_row0_col9\" class=\"data row0 col9\" >354.00</td>\n",
       "                        <td id=\"T_dac9a_row0_col10\" class=\"data row0 col10\" >354.00</td>\n",
       "                        <td id=\"T_dac9a_row0_col11\" class=\"data row0 col11\" >354.00</td>\n",
       "                        <td id=\"T_dac9a_row0_col12\" class=\"data row0 col12\" >354.00</td>\n",
       "            </tr>\n",
       "            <tr>\n",
       "                        <th id=\"T_dac9a_level0_row1\" class=\"row_heading level0 row1\" >mean</th>\n",
       "                        <td id=\"T_dac9a_row1_col0\" class=\"data row1 col0\" >0.00</td>\n",
       "                        <td id=\"T_dac9a_row1_col1\" class=\"data row1 col1\" >-0.00</td>\n",
       "                        <td id=\"T_dac9a_row1_col2\" class=\"data row1 col2\" >0.00</td>\n",
       "                        <td id=\"T_dac9a_row1_col3\" class=\"data row1 col3\" >-0.00</td>\n",
       "                        <td id=\"T_dac9a_row1_col4\" class=\"data row1 col4\" >-0.00</td>\n",
       "                        <td id=\"T_dac9a_row1_col5\" class=\"data row1 col5\" >-0.00</td>\n",
       "                        <td id=\"T_dac9a_row1_col6\" class=\"data row1 col6\" >-0.00</td>\n",
       "                        <td id=\"T_dac9a_row1_col7\" class=\"data row1 col7\" >0.00</td>\n",
       "                        <td id=\"T_dac9a_row1_col8\" class=\"data row1 col8\" >-0.00</td>\n",
       "                        <td id=\"T_dac9a_row1_col9\" class=\"data row1 col9\" >-0.00</td>\n",
       "                        <td id=\"T_dac9a_row1_col10\" class=\"data row1 col10\" >0.00</td>\n",
       "                        <td id=\"T_dac9a_row1_col11\" class=\"data row1 col11\" >-0.00</td>\n",
       "                        <td id=\"T_dac9a_row1_col12\" class=\"data row1 col12\" >-0.00</td>\n",
       "            </tr>\n",
       "            <tr>\n",
       "                        <th id=\"T_dac9a_level0_row2\" class=\"row_heading level0 row2\" >std</th>\n",
       "                        <td id=\"T_dac9a_row2_col0\" class=\"data row2 col0\" >1.00</td>\n",
       "                        <td id=\"T_dac9a_row2_col1\" class=\"data row2 col1\" >1.00</td>\n",
       "                        <td id=\"T_dac9a_row2_col2\" class=\"data row2 col2\" >1.00</td>\n",
       "                        <td id=\"T_dac9a_row2_col3\" class=\"data row2 col3\" >1.00</td>\n",
       "                        <td id=\"T_dac9a_row2_col4\" class=\"data row2 col4\" >1.00</td>\n",
       "                        <td id=\"T_dac9a_row2_col5\" class=\"data row2 col5\" >1.00</td>\n",
       "                        <td id=\"T_dac9a_row2_col6\" class=\"data row2 col6\" >1.00</td>\n",
       "                        <td id=\"T_dac9a_row2_col7\" class=\"data row2 col7\" >1.00</td>\n",
       "                        <td id=\"T_dac9a_row2_col8\" class=\"data row2 col8\" >1.00</td>\n",
       "                        <td id=\"T_dac9a_row2_col9\" class=\"data row2 col9\" >1.00</td>\n",
       "                        <td id=\"T_dac9a_row2_col10\" class=\"data row2 col10\" >1.00</td>\n",
       "                        <td id=\"T_dac9a_row2_col11\" class=\"data row2 col11\" >1.00</td>\n",
       "                        <td id=\"T_dac9a_row2_col12\" class=\"data row2 col12\" >1.00</td>\n",
       "            </tr>\n",
       "            <tr>\n",
       "                        <th id=\"T_dac9a_level0_row3\" class=\"row_heading level0 row3\" >min</th>\n",
       "                        <td id=\"T_dac9a_row3_col0\" class=\"data row3 col0\" >-0.46</td>\n",
       "                        <td id=\"T_dac9a_row3_col1\" class=\"data row3 col1\" >-0.45</td>\n",
       "                        <td id=\"T_dac9a_row3_col2\" class=\"data row3 col2\" >-1.58</td>\n",
       "                        <td id=\"T_dac9a_row3_col3\" class=\"data row3 col3\" >-0.28</td>\n",
       "                        <td id=\"T_dac9a_row3_col4\" class=\"data row3 col4\" >-1.48</td>\n",
       "                        <td id=\"T_dac9a_row3_col5\" class=\"data row3 col5\" >-3.66</td>\n",
       "                        <td id=\"T_dac9a_row3_col6\" class=\"data row3 col6\" >-2.38</td>\n",
       "                        <td id=\"T_dac9a_row3_col7\" class=\"data row3 col7\" >-1.24</td>\n",
       "                        <td id=\"T_dac9a_row3_col8\" class=\"data row3 col8\" >-0.99</td>\n",
       "                        <td id=\"T_dac9a_row3_col9\" class=\"data row3 col9\" >-1.32</td>\n",
       "                        <td id=\"T_dac9a_row3_col10\" class=\"data row3 col10\" >-2.68</td>\n",
       "                        <td id=\"T_dac9a_row3_col11\" class=\"data row3 col11\" >-4.02</td>\n",
       "                        <td id=\"T_dac9a_row3_col12\" class=\"data row3 col12\" >-1.39</td>\n",
       "            </tr>\n",
       "            <tr>\n",
       "                        <th id=\"T_dac9a_level0_row4\" class=\"row_heading level0 row4\" >25%</th>\n",
       "                        <td id=\"T_dac9a_row4_col0\" class=\"data row4 col0\" >-0.45</td>\n",
       "                        <td id=\"T_dac9a_row4_col1\" class=\"data row4 col1\" >-0.45</td>\n",
       "                        <td id=\"T_dac9a_row4_col2\" class=\"data row4 col2\" >-0.86</td>\n",
       "                        <td id=\"T_dac9a_row4_col3\" class=\"data row4 col3\" >-0.28</td>\n",
       "                        <td id=\"T_dac9a_row4_col4\" class=\"data row4 col4\" >-0.89</td>\n",
       "                        <td id=\"T_dac9a_row4_col5\" class=\"data row4 col5\" >-0.53</td>\n",
       "                        <td id=\"T_dac9a_row4_col6\" class=\"data row4 col6\" >-0.81</td>\n",
       "                        <td id=\"T_dac9a_row4_col7\" class=\"data row4 col7\" >-0.80</td>\n",
       "                        <td id=\"T_dac9a_row4_col8\" class=\"data row4 col8\" >-0.64</td>\n",
       "                        <td id=\"T_dac9a_row4_col9\" class=\"data row4 col9\" >-0.77</td>\n",
       "                        <td id=\"T_dac9a_row4_col10\" class=\"data row4 col10\" >-0.46</td>\n",
       "                        <td id=\"T_dac9a_row4_col11\" class=\"data row4 col11\" >0.19</td>\n",
       "                        <td id=\"T_dac9a_row4_col12\" class=\"data row4 col12\" >-0.76</td>\n",
       "            </tr>\n",
       "            <tr>\n",
       "                        <th id=\"T_dac9a_level0_row5\" class=\"row_heading level0 row5\" >50%</th>\n",
       "                        <td id=\"T_dac9a_row5_col0\" class=\"data row5 col0\" >-0.43</td>\n",
       "                        <td id=\"T_dac9a_row5_col1\" class=\"data row5 col1\" >-0.45</td>\n",
       "                        <td id=\"T_dac9a_row5_col2\" class=\"data row5 col2\" >-0.21</td>\n",
       "                        <td id=\"T_dac9a_row5_col3\" class=\"data row5 col3\" >-0.28</td>\n",
       "                        <td id=\"T_dac9a_row5_col4\" class=\"data row5 col4\" >-0.16</td>\n",
       "                        <td id=\"T_dac9a_row5_col5\" class=\"data row5 col5\" >-0.11</td>\n",
       "                        <td id=\"T_dac9a_row5_col6\" class=\"data row5 col6\" >0.36</td>\n",
       "                        <td id=\"T_dac9a_row5_col7\" class=\"data row5 col7\" >-0.29</td>\n",
       "                        <td id=\"T_dac9a_row5_col8\" class=\"data row5 col8\" >-0.53</td>\n",
       "                        <td id=\"T_dac9a_row5_col9\" class=\"data row5 col9\" >-0.41</td>\n",
       "                        <td id=\"T_dac9a_row5_col10\" class=\"data row5 col10\" >0.23</td>\n",
       "                        <td id=\"T_dac9a_row5_col11\" class=\"data row5 col11\" >0.38</td>\n",
       "                        <td id=\"T_dac9a_row5_col12\" class=\"data row5 col12\" >-0.20</td>\n",
       "            </tr>\n",
       "            <tr>\n",
       "                        <th id=\"T_dac9a_level0_row6\" class=\"row_heading level0 row6\" >75%</th>\n",
       "                        <td id=\"T_dac9a_row6_col0\" class=\"data row6 col0\" >0.03</td>\n",
       "                        <td id=\"T_dac9a_row6_col1\" class=\"data row6 col1\" >-0.45</td>\n",
       "                        <td id=\"T_dac9a_row6_col2\" class=\"data row6 col2\" >0.98</td>\n",
       "                        <td id=\"T_dac9a_row6_col3\" class=\"data row6 col3\" >-0.28</td>\n",
       "                        <td id=\"T_dac9a_row6_col4\" class=\"data row6 col4\" >0.59</td>\n",
       "                        <td id=\"T_dac9a_row6_col5\" class=\"data row6 col5\" >0.47</td>\n",
       "                        <td id=\"T_dac9a_row6_col6\" class=\"data row6 col6\" >0.88</td>\n",
       "                        <td id=\"T_dac9a_row6_col7\" class=\"data row6 col7\" >0.63</td>\n",
       "                        <td id=\"T_dac9a_row6_col8\" class=\"data row6 col8\" >1.66</td>\n",
       "                        <td id=\"T_dac9a_row6_col9\" class=\"data row6 col9\" >1.51</td>\n",
       "                        <td id=\"T_dac9a_row6_col10\" class=\"data row6 col10\" >0.83</td>\n",
       "                        <td id=\"T_dac9a_row6_col11\" class=\"data row6 col11\" >0.44</td>\n",
       "                        <td id=\"T_dac9a_row6_col12\" class=\"data row6 col12\" >0.58</td>\n",
       "            </tr>\n",
       "            <tr>\n",
       "                        <th id=\"T_dac9a_level0_row7\" class=\"row_heading level0 row7\" >max</th>\n",
       "                        <td id=\"T_dac9a_row7_col0\" class=\"data row7 col0\" >9.41</td>\n",
       "                        <td id=\"T_dac9a_row7_col1\" class=\"data row7 col1\" >3.98</td>\n",
       "                        <td id=\"T_dac9a_row7_col2\" class=\"data row7 col2\" >2.38</td>\n",
       "                        <td id=\"T_dac9a_row7_col3\" class=\"data row7 col3\" >3.62</td>\n",
       "                        <td id=\"T_dac9a_row7_col4\" class=\"data row7 col4\" >2.73</td>\n",
       "                        <td id=\"T_dac9a_row7_col5\" class=\"data row7 col5\" >3.27</td>\n",
       "                        <td id=\"T_dac9a_row7_col6\" class=\"data row7 col6\" >1.08</td>\n",
       "                        <td id=\"T_dac9a_row7_col7\" class=\"data row7 col7\" >4.06</td>\n",
       "                        <td id=\"T_dac9a_row7_col8\" class=\"data row7 col8\" >1.66</td>\n",
       "                        <td id=\"T_dac9a_row7_col9\" class=\"data row7 col9\" >1.78</td>\n",
       "                        <td id=\"T_dac9a_row7_col10\" class=\"data row7 col10\" >1.66</td>\n",
       "                        <td id=\"T_dac9a_row7_col11\" class=\"data row7 col11\" >0.45</td>\n",
       "                        <td id=\"T_dac9a_row7_col12\" class=\"data row7 col12\" >3.38</td>\n",
       "            </tr>\n",
       "    </tbody></table>"
      ],
      "text/plain": [
       "<pandas.io.formats.style.Styler at 0x7f4d1e0a5a30>"
      ]
     },
     "metadata": {},
     "output_type": "display_data"
    }
   ],
   "source": [
    "display(x_train.describe().style.format(\"{0:.2f}\").set_caption(\"Before normalization :\"))\n",
    "\n",
    "mean = x_train.mean()\n",
    "std  = x_train.std()\n",
    "x_train = (x_train - mean) / std\n",
    "x_test  = (x_test  - mean) / std\n",
    "\n",
    "display(x_train.describe().style.format(\"{0:.2f}\").set_caption(\"After normalization :\"))\n",
    "\n",
    "x_train, y_train = np.array(x_train), np.array(y_train)\n",
    "x_test,  y_test  = np.array(x_test),  np.array(y_test)\n"
   ]
  },
  {
   "cell_type": "markdown",
   "metadata": {},
   "source": [
    "## Step 4 - Build a model\n",
    "More informations about : \n",
    " - [Optimizer](https://www.tensorflow.org/api_docs/python/tf/keras/optimizers)\n",
    " - [Activation](https://www.tensorflow.org/api_docs/python/tf/keras/activations)\n",
    " - [Loss](https://www.tensorflow.org/api_docs/python/tf/keras/losses)\n",
    " - [Metrics](https://www.tensorflow.org/api_docs/python/tf/keras/metrics)"
   ]
  },
  {
   "cell_type": "code",
   "execution_count": 6,
   "metadata": {
    "execution": {
     "iopub.execute_input": "2021-01-26T10:05:48.349877Z",
     "iopub.status.busy": "2021-01-26T10:05:48.349543Z",
     "iopub.status.idle": "2021-01-26T10:05:48.352076Z",
     "shell.execute_reply": "2021-01-26T10:05:48.351752Z"
    }
   },
   "outputs": [],
   "source": [
    "  def get_model_v1(shape):\n",
    "    \n",
    "    model = keras.models.Sequential()\n",
    "    model.add(keras.layers.Input(shape, name=\"InputLayer\"))\n",
    "    model.add(keras.layers.Dense(64, activation='relu', name='Dense_n1'))\n",
    "    model.add(keras.layers.Dense(64, activation='relu', name='Dense_n2'))\n",
    "    model.add(keras.layers.Dense(1, name='Output'))\n",
    "    \n",
    "    model.compile(optimizer = 'rmsprop',\n",
    "                  loss      = 'mse',\n",
    "                  metrics   = ['mae', 'mse'] )\n",
    "    return model"
   ]
  },
  {
   "cell_type": "markdown",
   "metadata": {},
   "source": [
    "## 5 - Train the model\n",
    "### 5.1 - Get it"
   ]
  },
  {
   "cell_type": "code",
   "execution_count": 7,
   "metadata": {
    "execution": {
     "iopub.execute_input": "2021-01-26T10:05:48.354968Z",
     "iopub.status.busy": "2021-01-26T10:05:48.354652Z",
     "iopub.status.idle": "2021-01-26T10:05:48.398164Z",
     "shell.execute_reply": "2021-01-26T10:05:48.397822Z"
    }
   },
   "outputs": [
    {
     "name": "stdout",
     "output_type": "stream",
     "text": [
      "Model: \"sequential\"\n",
      "_________________________________________________________________\n",
      "Layer (type)                 Output Shape              Param #   \n",
      "=================================================================\n",
      "Dense_n1 (Dense)             (None, 64)                896       \n",
      "_________________________________________________________________\n",
      "Dense_n2 (Dense)             (None, 64)                4160      \n",
      "_________________________________________________________________\n",
      "Output (Dense)               (None, 1)                 65        \n",
      "=================================================================\n",
      "Total params: 5,121\n",
      "Trainable params: 5,121\n",
      "Non-trainable params: 0\n",
      "_________________________________________________________________\n"
     ]
    }
   ],
   "source": [
    "model=get_model_v1( (13,) )\n",
    "\n",
    "model.summary()\n",
    "# img=keras.utils.plot_model( model, to_file='./run/model.png', show_shapes=True, show_layer_names=True, dpi=96)\n",
    "# display(img)"
   ]
  },
  {
   "cell_type": "markdown",
   "metadata": {},
   "source": [
    "### 5.2 - Add callback"
   ]
  },
  {
   "cell_type": "code",
   "execution_count": 8,
   "metadata": {
    "execution": {
     "iopub.execute_input": "2021-01-26T10:05:48.401637Z",
     "iopub.status.busy": "2021-01-26T10:05:48.401175Z",
     "iopub.status.idle": "2021-01-26T10:05:48.404663Z",
     "shell.execute_reply": "2021-01-26T10:05:48.404959Z"
    }
   },
   "outputs": [],
   "source": [
    "os.makedirs('./run/models',   mode=0o750, exist_ok=True)\n",
    "save_dir = \"./run/models/best_model.h5\"\n",
    "\n",
    "savemodel_callback = tf.keras.callbacks.ModelCheckpoint(filepath=save_dir, verbose=0, save_best_only=True)"
   ]
  },
  {
   "cell_type": "markdown",
   "metadata": {},
   "source": [
    "### 5.3 - Train it"
   ]
  },
  {
   "cell_type": "code",
   "execution_count": 9,
   "metadata": {
    "execution": {
     "iopub.execute_input": "2021-01-26T10:05:48.408744Z",
     "iopub.status.busy": "2021-01-26T10:05:48.408202Z",
     "iopub.status.idle": "2021-01-26T10:05:56.589986Z",
     "shell.execute_reply": "2021-01-26T10:05:56.589557Z"
    }
   },
   "outputs": [
    {
     "name": "stdout",
     "output_type": "stream",
     "text": [
      "Epoch 1/100\n"
     ]
    },
    {
     "name": "stdout",
     "output_type": "stream",
     "text": [
      "\r",
      " 1/36 [..............................] - ETA: 0s - loss: 708.0176 - mae: 24.3400 - mse: 708.0176"
     ]
    },
    {
     "name": "stdout",
     "output_type": "stream",
     "text": [
      "\b\b\b\b\b\b\b\b\b\b\b\b\b\b\b\b\b\b\b\b\b\b\b\b\b\b\b\b\b\b\b\b\b\b\b\b\b\b\b\b\b\b\b\b\b\b\b\b\b\b\b\b\b\b\b\b\b\b\b\b\b\b\b\b\b\b\b\b\b\b\b\b\b\b\b\b\b\b\b\b\b\b\b\b\b\b\b\b\b\b\b\b\b\b\b\b\r",
      "36/36 [==============================] - 0s 5ms/step - loss: 537.8375 - mae: 21.1899 - mse: 537.8375 - val_loss: 373.7509 - val_mae: 17.5308 - val_mse: 373.7509\n"
     ]
    },
    {
     "name": "stdout",
     "output_type": "stream",
     "text": [
      "Epoch 2/100\n",
      "\r",
      " 1/36 [..............................] - ETA: 0s - loss: 269.8658 - mae: 14.8471 - mse: 269.8658"
     ]
    },
    {
     "name": "stdout",
     "output_type": "stream",
     "text": [
      "\b\b\b\b\b\b\b\b\b\b\b\b\b\b\b\b\b\b\b\b\b\b\b\b\b\b\b\b\b\b\b\b\b\b\b\b\b\b\b\b\b\b\b\b\b\b\b\b\b\b\b\b\b\b\b\b\b\b\b\b\b\b\b\b\b\b\b\b\b\b\b\b\b\b\b\b\b\b\b\b\b\b\b\b\b\b\b\b\b\b\b\b\b\b\b\b\r",
      "35/36 [============================>.] - ETA: 0s - loss: 325.2315 - mae: 15.8201 - mse: 325.2315"
     ]
    },
    {
     "name": "stdout",
     "output_type": "stream",
     "text": [
      "\b\b\b\b\b\b\b\b\b\b\b\b\b\b\b\b\b\b\b\b\b\b\b\b\b\b\b\b\b\b\b\b\b\b\b\b\b\b\b\b\b\b\b\b\b\b\b\b\b\b\b\b\b\b\b\b\b\b\b\b\b\b\b\b\b\b\b\b\b\b\b\b\b\b\b\b\b\b\b\b\b\b\b\b\b\b\b\b\b\b\b\b\b\b\b\b\r",
      "36/36 [==============================] - 0s 3ms/step - loss: 323.1867 - mae: 15.7530 - mse: 323.1867 - val_loss: 161.4590 - val_mae: 10.7108 - val_mse: 161.4590\n"
     ]
    },
    {
     "name": "stdout",
     "output_type": "stream",
     "text": [
      "Epoch 3/100\n",
      "\r",
      " 1/36 [..............................] - ETA: 0s - loss: 132.0110 - mae: 10.8902 - mse: 132.0110"
     ]
    },
    {
     "name": "stdout",
     "output_type": "stream",
     "text": [
      "\b\b\b\b\b\b\b\b\b\b\b\b\b\b\b\b\b\b\b\b\b\b\b\b\b\b\b\b\b\b\b\b\b\b\b\b\b\b\b\b\b\b\b\b\b\b\b\b\b\b\b\b\b\b\b\b\b\b\b\b\b\b\b\b\b\b\b\b\b\b\b\b\b\b\b\b\b\b\b\b\b\b\b\b\b\b\b\b\b\b\b\b\b\b\b\b\r",
      "36/36 [==============================] - 0s 3ms/step - loss: 129.6813 - mae: 9.0556 - mse: 129.6813 - val_loss: 64.5468 - val_mae: 5.9488 - val_mse: 64.5468\n"
     ]
    },
    {
     "name": "stdout",
     "output_type": "stream",
     "text": [
      "Epoch 4/100\n",
      "\r",
      " 1/36 [..............................] - ETA: 0s - loss: 76.5010 - mae: 6.5137 - mse: 76.5010"
     ]
    },
    {
     "name": "stdout",
     "output_type": "stream",
     "text": [
      "\b\b\b\b\b\b\b\b\b\b\b\b\b\b\b\b\b\b\b\b\b\b\b\b\b\b\b\b\b\b\b\b\b\b\b\b\b\b\b\b\b\b\b\b\b\b\b\b\b\b\b\b\b\b\b\b\b\b\b\b\b\b\b\b\b\b\b\b\b\b\b\b\b\b\b\b\b\b\b\b\b\b\b\b\b\b\b\b\b\b\b\b\b\r",
      "36/36 [==============================] - 0s 2ms/step - loss: 56.4422 - mae: 5.5710 - mse: 56.4422 - val_loss: 38.6993 - val_mae: 4.3918 - val_mse: 38.6993\n"
     ]
    },
    {
     "name": "stdout",
     "output_type": "stream",
     "text": [
      "Epoch 5/100\n",
      "\r",
      " 1/36 [..............................] - ETA: 0s - loss: 34.8021 - mae: 4.4828 - mse: 34.8021"
     ]
    },
    {
     "name": "stdout",
     "output_type": "stream",
     "text": [
      "\b\b\b\b\b\b\b\b\b\b\b\b\b\b\b\b\b\b\b\b\b\b\b\b\b\b\b\b\b\b\b\b\b\b\b\b\b\b\b\b\b\b\b\b\b\b\b\b\b\b\b\b\b\b\b\b\b\b\b\b\b\b\b\b\b\b\b\b\b\b\b\b\b\b\b\b\b\b\b\b\b\b\b\b\b\b\b\b\b\b\b\b\b\r",
      "36/36 [==============================] - 0s 2ms/step - loss: 34.0519 - mae: 4.1611 - mse: 34.0519 - val_loss: 29.9662 - val_mae: 4.0534 - val_mse: 29.9662\n"
     ]
    },
    {
     "name": "stdout",
     "output_type": "stream",
     "text": [
      "Epoch 6/100\n",
      "\r",
      " 1/36 [..............................] - ETA: 0s - loss: 26.2483 - mae: 3.7735 - mse: 26.2483"
     ]
    },
    {
     "name": "stdout",
     "output_type": "stream",
     "text": [
      "\b\b\b\b\b\b\b\b\b\b\b\b\b\b\b\b\b\b\b\b\b\b\b\b\b\b\b\b\b\b\b\b\b\b\b\b\b\b\b\b\b\b\b\b\b\b\b\b\b\b\b\b\b\b\b\b\b\b\b\b\b\b\b\b\b\b\b\b\b\b\b\b\b\b\b\b\b\b\b\b\b\b\b\b\b\b\b\b\b\b\b\b\b\r",
      "36/36 [==============================] - 0s 2ms/step - loss: 25.4978 - mae: 3.5710 - mse: 25.4978 - val_loss: 23.2387 - val_mae: 3.4750 - val_mse: 23.2387\n"
     ]
    },
    {
     "name": "stdout",
     "output_type": "stream",
     "text": [
      "Epoch 7/100\n",
      "\r",
      " 1/36 [..............................] - ETA: 0s - loss: 19.2170 - mae: 3.6746 - mse: 19.2170"
     ]
    },
    {
     "name": "stdout",
     "output_type": "stream",
     "text": [
      "\b\b\b\b\b\b\b\b\b\b\b\b\b\b\b\b\b\b\b\b\b\b\b\b\b\b\b\b\b\b\b\b\b\b\b\b\b\b\b\b\b\b\b\b\b\b\b\b\b\b\b\b\b\b\b\b\b\b\b\b\b\b\b\b\b\b\b\b\b\b\b\b\b\b\b\b\b\b\b\b\b\b\b\b\b\b\b\b\b\b\b\b\b\r",
      "36/36 [==============================] - 0s 2ms/step - loss: 22.5723 - mae: 3.3525 - mse: 22.5723 - val_loss: 21.1290 - val_mae: 3.3247 - val_mse: 21.1290\n"
     ]
    },
    {
     "name": "stdout",
     "output_type": "stream",
     "text": [
      "Epoch 8/100\n",
      "\r",
      " 1/36 [..............................] - ETA: 0s - loss: 14.4488 - mae: 3.0017 - mse: 14.4488"
     ]
    },
    {
     "name": "stdout",
     "output_type": "stream",
     "text": [
      "\b\b\b\b\b\b\b\b\b\b\b\b\b\b\b\b\b\b\b\b\b\b\b\b\b\b\b\b\b\b\b\b\b\b\b\b\b\b\b\b\b\b\b\b\b\b\b\b\b\b\b\b\b\b\b\b\b\b\b\b\b\b\b\b\b\b\b\b\b\b\b\b\b\b\b\b\b\b\b\b\b\b\b\b\b\b\b\b\b\b\b\b\b\r",
      "36/36 [==============================] - 0s 2ms/step - loss: 19.9518 - mae: 3.1183 - mse: 19.9518 - val_loss: 19.1225 - val_mae: 3.1075 - val_mse: 19.1225\n"
     ]
    },
    {
     "name": "stdout",
     "output_type": "stream",
     "text": [
      "Epoch 9/100\n",
      "\r",
      " 1/36 [..............................] - ETA: 0s - loss: 29.2202 - mae: 3.3824 - mse: 29.2202"
     ]
    },
    {
     "name": "stdout",
     "output_type": "stream",
     "text": [
      "\b\b\b\b\b\b\b\b\b\b\b\b\b\b\b\b\b\b\b\b\b\b\b\b\b\b\b\b\b\b\b\b\b\b\b\b\b\b\b\b\b\b\b\b\b\b\b\b\b\b\b\b\b\b\b\b\b\b\b\b\b\b\b\b\b\b\b\b\b\b\b\b\b\b\b\b\b\b\b\b\b\b\b\b\b\b\b\b\b\b\b\b\b\r",
      "36/36 [==============================] - 0s 2ms/step - loss: 18.6989 - mae: 2.9931 - mse: 18.6989 - val_loss: 23.7809 - val_mae: 3.7447 - val_mse: 23.7809\n"
     ]
    },
    {
     "name": "stdout",
     "output_type": "stream",
     "text": [
      "Epoch 10/100\n",
      "\r",
      " 1/36 [..............................] - ETA: 0s - loss: 26.4030 - mae: 4.1290 - mse: 26.4030"
     ]
    },
    {
     "name": "stdout",
     "output_type": "stream",
     "text": [
      "\b\b\b\b\b\b\b\b\b\b\b\b\b\b\b\b\b\b\b\b\b\b\b\b\b\b\b\b\b\b\b\b\b\b\b\b\b\b\b\b\b\b\b\b\b\b\b\b\b\b\b\b\b\b\b\b\b\b\b\b\b\b\b\b\b\b\b\b\b\b\b\b\b\b\b\b\b\b\b\b\b\b\b\b\b\b\b\b\b\b\b\b\b\r",
      "36/36 [==============================] - 0s 2ms/step - loss: 17.2675 - mae: 2.9215 - mse: 17.2675 - val_loss: 22.3175 - val_mae: 3.5323 - val_mse: 22.3175\n"
     ]
    },
    {
     "name": "stdout",
     "output_type": "stream",
     "text": [
      "Epoch 11/100\n",
      "\r",
      " 1/36 [..............................] - ETA: 0s - loss: 11.9258 - mae: 2.9241 - mse: 11.9258"
     ]
    },
    {
     "name": "stdout",
     "output_type": "stream",
     "text": [
      "\b\b\b\b\b\b\b\b\b\b\b\b\b\b\b\b\b\b\b\b\b\b\b\b\b\b\b\b\b\b\b\b\b\b\b\b\b\b\b\b\b\b\b\b\b\b\b\b\b\b\b\b\b\b\b\b\b\b\b\b\b\b\b\b\b\b\b\b\b\b\b\b\b\b\b\b\b\b\b\b\b\b\b\b\b\b\b\b\b\b\b\b\b\r",
      "36/36 [==============================] - 0s 2ms/step - loss: 16.3747 - mae: 2.8595 - mse: 16.3747 - val_loss: 18.8370 - val_mae: 3.1147 - val_mse: 18.8370\n"
     ]
    },
    {
     "name": "stdout",
     "output_type": "stream",
     "text": [
      "Epoch 12/100\n",
      "\r",
      " 1/36 [..............................] - ETA: 0s - loss: 14.7442 - mae: 3.1106 - mse: 14.7442"
     ]
    },
    {
     "name": "stdout",
     "output_type": "stream",
     "text": [
      "\b\b\b\b\b\b\b\b\b\b\b\b\b\b\b\b\b\b\b\b\b\b\b\b\b\b\b\b\b\b\b\b\b\b\b\b\b\b\b\b\b\b\b\b\b\b\b\b\b\b\b\b\b\b\b\b\b\b\b\b\b\b\b\b\b\b\b\b\b\b\b\b\b\b\b\b\b\b\b\b\b\b\b\b\b\b\b\b\b\b\b\b\b\r",
      "36/36 [==============================] - 0s 2ms/step - loss: 15.6845 - mae: 2.8114 - mse: 15.6845 - val_loss: 16.7581 - val_mae: 2.8857 - val_mse: 16.7582\n"
     ]
    },
    {
     "name": "stdout",
     "output_type": "stream",
     "text": [
      "Epoch 13/100\n",
      "\r",
      " 1/36 [..............................] - ETA: 0s - loss: 8.6752 - mae: 2.4503 - mse: 8.6752"
     ]
    },
    {
     "name": "stdout",
     "output_type": "stream",
     "text": [
      "\b\b\b\b\b\b\b\b\b\b\b\b\b\b\b\b\b\b\b\b\b\b\b\b\b\b\b\b\b\b\b\b\b\b\b\b\b\b\b\b\b\b\b\b\b\b\b\b\b\b\b\b\b\b\b\b\b\b\b\b\b\b\b\b\b\b\b\b\b\b\b\b\b\b\b\b\b\b\b\b\b\b\b\b\b\b\b\b\b\b\b\r",
      "36/36 [==============================] - 0s 2ms/step - loss: 14.7012 - mae: 2.6734 - mse: 14.7012 - val_loss: 17.7870 - val_mae: 3.0411 - val_mse: 17.7870\n"
     ]
    },
    {
     "name": "stdout",
     "output_type": "stream",
     "text": [
      "Epoch 14/100\n",
      "\r",
      " 1/36 [..............................] - ETA: 0s - loss: 6.8471 - mae: 2.1432 - mse: 6.8471"
     ]
    },
    {
     "name": "stdout",
     "output_type": "stream",
     "text": [
      "\b\b\b\b\b\b\b\b\b\b\b\b\b\b\b\b\b\b\b\b\b\b\b\b\b\b\b\b\b\b\b\b\b\b\b\b\b\b\b\b\b\b\b\b\b\b\b\b\b\b\b\b\b\b\b\b\b\b\b\b\b\b\b\b\b\b\b\b\b\b\b\b\b\b\b\b\b\b\b\b\b\b\b\b\b\b\b\b\b\b\b\r",
      "36/36 [==============================] - 0s 2ms/step - loss: 14.0171 - mae: 2.6189 - mse: 14.0171 - val_loss: 17.4585 - val_mae: 2.9508 - val_mse: 17.4585\n"
     ]
    },
    {
     "name": "stdout",
     "output_type": "stream",
     "text": [
      "Epoch 15/100\n",
      "\r",
      " 1/36 [..............................] - ETA: 0s - loss: 18.3990 - mae: 3.2548 - mse: 18.3990"
     ]
    },
    {
     "name": "stdout",
     "output_type": "stream",
     "text": [
      "\b\b\b\b\b\b\b\b\b\b\b\b\b\b\b\b\b\b\b\b\b\b\b\b\b\b\b\b\b\b\b\b\b\b\b\b\b\b\b\b\b\b\b\b\b\b\b\b\b\b\b\b\b\b\b\b\b\b\b\b\b\b\b\b\b\b\b\b\b\b\b\b\b\b\b\b\b\b\b\b\b\b\b\b\b\b\b\b\b\b\b\b\b\r",
      "36/36 [==============================] - 0s 2ms/step - loss: 13.2649 - mae: 2.5988 - mse: 13.2649 - val_loss: 16.0616 - val_mae: 2.8575 - val_mse: 16.0616\n"
     ]
    },
    {
     "name": "stdout",
     "output_type": "stream",
     "text": [
      "Epoch 16/100\n",
      "\r",
      " 1/36 [..............................] - ETA: 0s - loss: 5.6929 - mae: 1.7750 - mse: 5.6929"
     ]
    },
    {
     "name": "stdout",
     "output_type": "stream",
     "text": [
      "\b\b\b\b\b\b\b\b\b\b\b\b\b\b\b\b\b\b\b\b\b\b\b\b\b\b\b\b\b\b\b\b\b\b\b\b\b\b\b\b\b\b\b\b\b\b\b\b\b\b\b\b\b\b\b\b\b\b\b\b\b\b\b\b\b\b\b\b\b\b\b\b\b\b\b\b\b\b\b\b\b\b\b\b\b\b\b\b\b\b\b\r",
      "36/36 [==============================] - 0s 2ms/step - loss: 12.9320 - mae: 2.5225 - mse: 12.9320 - val_loss: 15.2806 - val_mae: 2.6972 - val_mse: 15.2806\n"
     ]
    },
    {
     "name": "stdout",
     "output_type": "stream",
     "text": [
      "Epoch 17/100\n",
      "\r",
      " 1/36 [..............................] - ETA: 0s - loss: 11.8435 - mae: 2.7357 - mse: 11.8435"
     ]
    },
    {
     "name": "stdout",
     "output_type": "stream",
     "text": [
      "\b\b\b\b\b\b\b\b\b\b\b\b\b\b\b\b\b\b\b\b\b\b\b\b\b\b\b\b\b\b\b\b\b\b\b\b\b\b\b\b\b\b\b\b\b\b\b\b\b\b\b\b\b\b\b\b\b\b\b\b\b\b\b\b\b\b\b\b\b\b\b\b\b\b\b\b\b\b\b\b\b\b\b\b\b\b\b\b\b\b\b\b\b\r",
      "36/36 [==============================] - 0s 2ms/step - loss: 12.3233 - mae: 2.4755 - mse: 12.3233 - val_loss: 15.7543 - val_mae: 2.7013 - val_mse: 15.7543\n"
     ]
    },
    {
     "name": "stdout",
     "output_type": "stream",
     "text": [
      "Epoch 18/100\n",
      "\r",
      " 1/36 [..............................] - ETA: 0s - loss: 3.8158 - mae: 1.5768 - mse: 3.8158"
     ]
    },
    {
     "name": "stdout",
     "output_type": "stream",
     "text": [
      "\b\b\b\b\b\b\b\b\b\b\b\b\b\b\b\b\b\b\b\b\b\b\b\b\b\b\b\b\b\b\b\b\b\b\b\b\b\b\b\b\b\b\b\b\b\b\b\b\b\b\b\b\b\b\b\b\b\b\b\b\b\b\b\b\b\b\b\b\b\b\b\b\b\b\b\b\b\b\b\b\b\b\b\b\b\b\b\b\b\b\b\r",
      "36/36 [==============================] - 0s 2ms/step - loss: 12.0028 - mae: 2.4630 - mse: 12.0028 - val_loss: 14.1175 - val_mae: 2.4970 - val_mse: 14.1175\n"
     ]
    },
    {
     "name": "stdout",
     "output_type": "stream",
     "text": [
      "Epoch 19/100\n",
      "\r",
      " 1/36 [..............................] - ETA: 0s - loss: 11.1040 - mae: 2.4605 - mse: 11.1040"
     ]
    },
    {
     "name": "stdout",
     "output_type": "stream",
     "text": [
      "\b\b\b\b\b\b\b\b\b\b\b\b\b\b\b\b\b\b\b\b\b\b\b\b\b\b\b\b\b\b\b\b\b\b\b\b\b\b\b\b\b\b\b\b\b\b\b\b\b\b\b\b\b\b\b\b\b\b\b\b\b\b\b\b\b\b\b\b\b\b\b\b\b\b\b\b\b\b\b\b\b\b\b\b\b\b\b\b\b\b\b\b\b\r",
      "36/36 [==============================] - 0s 2ms/step - loss: 11.6505 - mae: 2.3958 - mse: 11.6505 - val_loss: 15.4025 - val_mae: 2.6425 - val_mse: 15.4025\n"
     ]
    },
    {
     "name": "stdout",
     "output_type": "stream",
     "text": [
      "Epoch 20/100\n",
      "\r",
      " 1/36 [..............................] - ETA: 0s - loss: 12.5761 - mae: 2.7012 - mse: 12.5761"
     ]
    },
    {
     "name": "stdout",
     "output_type": "stream",
     "text": [
      "\b\b\b\b\b\b\b\b\b\b\b\b\b\b\b\b\b\b\b\b\b\b\b\b\b\b\b\b\b\b\b\b\b\b\b\b\b\b\b\b\b\b\b\b\b\b\b\b\b\b\b\b\b\b\b\b\b\b\b\b\b\b\b\b\b\b\b\b\b\b\b\b\b\b\b\b\b\b\b\b\b\b\b\b\b\b\b\b\b\b\b\b\b\r",
      "36/36 [==============================] - 0s 2ms/step - loss: 11.3816 - mae: 2.4297 - mse: 11.3816 - val_loss: 14.3772 - val_mae: 2.5576 - val_mse: 14.3772\n"
     ]
    },
    {
     "name": "stdout",
     "output_type": "stream",
     "text": [
      "Epoch 21/100\n",
      "\r",
      " 1/36 [..............................] - ETA: 0s - loss: 9.1389 - mae: 2.3340 - mse: 9.1389"
     ]
    },
    {
     "name": "stdout",
     "output_type": "stream",
     "text": [
      "\b\b\b\b\b\b\b\b\b\b\b\b\b\b\b\b\b\b\b\b\b\b\b\b\b\b\b\b\b\b\b\b\b\b\b\b\b\b\b\b\b\b\b\b\b\b\b\b\b\b\b\b\b\b\b\b\b\b\b\b\b\b\b\b\b\b\b\b\b\b\b\b\b\b\b\b\b\b\b\b\b\b\b\b\b\b\b\b\b\b\b\r",
      "36/36 [==============================] - 0s 2ms/step - loss: 11.1557 - mae: 2.3311 - mse: 11.1557 - val_loss: 15.2316 - val_mae: 2.6228 - val_mse: 15.2316\n"
     ]
    },
    {
     "name": "stdout",
     "output_type": "stream",
     "text": [
      "Epoch 22/100\n",
      "\r",
      " 1/36 [..............................] - ETA: 0s - loss: 7.5503 - mae: 2.2118 - mse: 7.5503"
     ]
    },
    {
     "name": "stdout",
     "output_type": "stream",
     "text": [
      "\b\b\b\b\b\b\b\b\b\b\b\b\b\b\b\b\b\b\b\b\b\b\b\b\b\b\b\b\b\b\b\b\b\b\b\b\b\b\b\b\b\b\b\b\b\b\b\b\b\b\b\b\b\b\b\b\b\b\b\b\b\b\b\b\b\b\b\b\b\b\b\b\b\b\b\b\b\b\b\b\b\b\b\b\b\b\b\b\b\b\b\r",
      "36/36 [==============================] - 0s 2ms/step - loss: 10.7700 - mae: 2.2843 - mse: 10.7700 - val_loss: 14.0376 - val_mae: 2.4623 - val_mse: 14.0376\n"
     ]
    },
    {
     "name": "stdout",
     "output_type": "stream",
     "text": [
      "Epoch 23/100\n",
      "\r",
      " 1/36 [..............................] - ETA: 0s - loss: 5.5638 - mae: 1.7387 - mse: 5.5638"
     ]
    },
    {
     "name": "stdout",
     "output_type": "stream",
     "text": [
      "\b\b\b\b\b\b\b\b\b\b\b\b\b\b\b\b\b\b\b\b\b\b\b\b\b\b\b\b\b\b\b\b\b\b\b\b\b\b\b\b\b\b\b\b\b\b\b\b\b\b\b\b\b\b\b\b\b\b\b\b\b\b\b\b\b\b\b\b\b\b\b\b\b\b\b\b\b\b\b\b\b\b\b\b\b\b\b\b\b\b\b\r",
      "36/36 [==============================] - 0s 2ms/step - loss: 10.6140 - mae: 2.2883 - mse: 10.6140 - val_loss: 14.1849 - val_mae: 2.4967 - val_mse: 14.1849\n"
     ]
    },
    {
     "name": "stdout",
     "output_type": "stream",
     "text": [
      "Epoch 24/100\n",
      "\r",
      " 1/36 [..............................] - ETA: 0s - loss: 4.6123 - mae: 1.6717 - mse: 4.6123"
     ]
    },
    {
     "name": "stdout",
     "output_type": "stream",
     "text": [
      "\b\b\b\b\b\b\b\b\b\b\b\b\b\b\b\b\b\b\b\b\b\b\b\b\b\b\b\b\b\b\b\b\b\b\b\b\b\b\b\b\b\b\b\b\b\b\b\b\b\b\b\b\b\b\b\b\b\b\b\b\b\b\b\b\b\b\b\b\b\b\b\b\b\b\b\b\b\b\b\b\b\b\b\b\b\b\b\b\b\b\b\r",
      "36/36 [==============================] - 0s 2ms/step - loss: 10.3315 - mae: 2.2589 - mse: 10.3315 - val_loss: 15.7215 - val_mae: 2.7212 - val_mse: 15.7215\n"
     ]
    },
    {
     "name": "stdout",
     "output_type": "stream",
     "text": [
      "Epoch 25/100\n",
      "\r",
      " 1/36 [..............................] - ETA: 0s - loss: 5.8510 - mae: 2.1248 - mse: 5.8510"
     ]
    },
    {
     "name": "stdout",
     "output_type": "stream",
     "text": [
      "\b\b\b\b\b\b\b\b\b\b\b\b\b\b\b\b\b\b\b\b\b\b\b\b\b\b\b\b\b\b\b\b\b\b\b\b\b\b\b\b\b\b\b\b\b\b\b\b\b\b\b\b\b\b\b\b\b\b\b\b\b\b\b\b\b\b\b\b\b\b\b\b\b\b\b\b\b\b\b\b\b\b\b\b\b\b\b\b\b\b\b\r",
      "36/36 [==============================] - 0s 2ms/step - loss: 10.0249 - mae: 2.2700 - mse: 10.0249 - val_loss: 13.7876 - val_mae: 2.4689 - val_mse: 13.7876\n"
     ]
    },
    {
     "name": "stdout",
     "output_type": "stream",
     "text": [
      "Epoch 26/100\n",
      "\r",
      " 1/36 [..............................] - ETA: 0s - loss: 8.4378 - mae: 2.4217 - mse: 8.4378"
     ]
    },
    {
     "name": "stdout",
     "output_type": "stream",
     "text": [
      "\b\b\b\b\b\b\b\b\b\b\b\b\b\b\b\b\b\b\b\b\b\b\b\b\b\b\b\b\b\b\b\b\b\b\b\b\b\b\b\b\b\b\b\b\b\b\b\b\b\b\b\b\b\b\b\b\b\b\b\b\b\b\b\b\b\b\b\b\b\b\b\b\b\b\b\b\b\b\b\b\b\b\b\b\b\b\b\b\b\b\b\r",
      "36/36 [==============================] - 0s 2ms/step - loss: 9.7874 - mae: 2.1681 - mse: 9.7874 - val_loss: 13.8153 - val_mae: 2.4259 - val_mse: 13.8153\n"
     ]
    },
    {
     "name": "stdout",
     "output_type": "stream",
     "text": [
      "Epoch 27/100\n",
      "\r",
      " 1/36 [..............................] - ETA: 0s - loss: 8.0397 - mae: 2.4659 - mse: 8.0397"
     ]
    },
    {
     "name": "stdout",
     "output_type": "stream",
     "text": [
      "\b\b\b\b\b\b\b\b\b\b\b\b\b\b\b\b\b\b\b\b\b\b\b\b\b\b\b\b\b\b\b\b\b\b\b\b\b\b\b\b\b\b\b\b\b\b\b\b\b\b\b\b\b\b\b\b\b\b\b\b\b\b\b\b\b\b\b\b\b\b\b\b\b\b\b\b\b\b\b\b\b\b\b\b\b\b\b\b\b\b\b\r",
      "36/36 [==============================] - 0s 2ms/step - loss: 9.7266 - mae: 2.1502 - mse: 9.7266 - val_loss: 15.9117 - val_mae: 2.6289 - val_mse: 15.9117\n"
     ]
    },
    {
     "name": "stdout",
     "output_type": "stream",
     "text": [
      "Epoch 28/100\n",
      "\r",
      " 1/36 [..............................] - ETA: 0s - loss: 12.9662 - mae: 2.2371 - mse: 12.9662"
     ]
    },
    {
     "name": "stdout",
     "output_type": "stream",
     "text": [
      "\b\b\b\b\b\b\b\b\b\b\b\b\b\b\b\b\b\b\b\b\b\b\b\b\b\b\b\b\b\b\b\b\b\b\b\b\b\b\b\b\b\b\b\b\b\b\b\b\b\b\b\b\b\b\b\b\b\b\b\b\b\b\b\b\b\b\b\b\b\b\b\b\b\b\b\b\b\b\b\b\b\b\b\b\b\b\b\b\b\b\b\b\b\r",
      "36/36 [==============================] - 0s 2ms/step - loss: 9.6765 - mae: 2.1631 - mse: 9.6765 - val_loss: 14.5592 - val_mae: 2.5298 - val_mse: 14.5592\n"
     ]
    },
    {
     "name": "stdout",
     "output_type": "stream",
     "text": [
      "Epoch 29/100\n",
      "\r",
      " 1/36 [..............................] - ETA: 0s - loss: 4.1695 - mae: 1.5506 - mse: 4.1695"
     ]
    },
    {
     "name": "stdout",
     "output_type": "stream",
     "text": [
      "\b\b\b\b\b\b\b\b\b\b\b\b\b\b\b\b\b\b\b\b\b\b\b\b\b\b\b\b\b\b\b\b\b\b\b\b\b\b\b\b\b\b\b\b\b\b\b\b\b\b\b\b\b\b\b\b\b\b\b\b\b\b\b\b\b\b\b\b\b\b\b\b\b\b\b\b\b\b\b\b\b\b\b\b\b\b\b\b\b\b\b\r",
      "36/36 [==============================] - 0s 2ms/step - loss: 9.5888 - mae: 2.1587 - mse: 9.5888 - val_loss: 13.8666 - val_mae: 2.4234 - val_mse: 13.8666\n"
     ]
    },
    {
     "name": "stdout",
     "output_type": "stream",
     "text": [
      "Epoch 30/100\n",
      "\r",
      " 1/36 [..............................] - ETA: 0s - loss: 6.6638 - mae: 2.1498 - mse: 6.6638"
     ]
    },
    {
     "name": "stdout",
     "output_type": "stream",
     "text": [
      "\b\b\b\b\b\b\b\b\b\b\b\b\b\b\b\b\b\b\b\b\b\b\b\b\b\b\b\b\b\b\b\b\b\b\b\b\b\b\b\b\b\b\b\b\b\b\b\b\b\b\b\b\b\b\b\b\b\b\b\b\b\b\b\b\b\b\b\b\b\b\b\b\b\b\b\b\b\b\b\b\b\b\b\b\b\b\b\b\b\b\b\r",
      "36/36 [==============================] - 0s 2ms/step - loss: 9.4498 - mae: 2.1108 - mse: 9.4498 - val_loss: 15.0172 - val_mae: 2.5108 - val_mse: 15.0172\n"
     ]
    },
    {
     "name": "stdout",
     "output_type": "stream",
     "text": [
      "Epoch 31/100\n",
      "\r",
      " 1/36 [..............................] - ETA: 0s - loss: 1.5878 - mae: 1.0485 - mse: 1.5878"
     ]
    },
    {
     "name": "stdout",
     "output_type": "stream",
     "text": [
      "\b\b\b\b\b\b\b\b\b\b\b\b\b\b\b\b\b\b\b\b\b\b\b\b\b\b\b\b\b\b\b\b\b\b\b\b\b\b\b\b\b\b\b\b\b\b\b\b\b\b\b\b\b\b\b\b\b\b\b\b\b\b\b\b\b\b\b\b\b\b\b\b\b\b\b\b\b\b\b\b\b\b\b\b\b\b\b\b\b\b\b\r",
      "36/36 [==============================] - 0s 2ms/step - loss: 9.3464 - mae: 2.1395 - mse: 9.3464 - val_loss: 14.1054 - val_mae: 2.4342 - val_mse: 14.1054\n"
     ]
    },
    {
     "name": "stdout",
     "output_type": "stream",
     "text": [
      "Epoch 32/100\n",
      "\r",
      " 1/36 [..............................] - ETA: 0s - loss: 16.7570 - mae: 3.0722 - mse: 16.7570"
     ]
    },
    {
     "name": "stdout",
     "output_type": "stream",
     "text": [
      "\b\b\b\b\b\b\b\b\b\b\b\b\b\b\b\b\b\b\b\b\b\b\b\b\b\b\b\b\b\b\b\b\b\b\b\b\b\b\b\b\b\b\b\b\b\b\b\b\b\b\b\b\b\b\b\b\b\b\b\b\b\b\b\b\b\b\b\b\b\b\b\b\b\b\b\b\b\b\b\b\b\b\b\b\b\b\b\b\b\b\b\b\b\r",
      "36/36 [==============================] - 0s 2ms/step - loss: 9.0926 - mae: 2.0997 - mse: 9.0926 - val_loss: 13.2308 - val_mae: 2.3516 - val_mse: 13.2308\n"
     ]
    },
    {
     "name": "stdout",
     "output_type": "stream",
     "text": [
      "Epoch 33/100\n",
      "\r",
      " 1/36 [..............................] - ETA: 0s - loss: 0.3957 - mae: 0.5253 - mse: 0.3957"
     ]
    },
    {
     "name": "stdout",
     "output_type": "stream",
     "text": [
      "\b\b\b\b\b\b\b\b\b\b\b\b\b\b\b\b\b\b\b\b\b\b\b\b\b\b\b\b\b\b\b\b\b\b\b\b\b\b\b\b\b\b\b\b\b\b\b\b\b\b\b\b\b\b\b\b\b\b\b\b\b\b\b\b\b\b\b\b\b\b\b\b\b\b\b\b\b\b\b\b\b\b\b\b\b\b\b\b\b\b\b\r",
      "36/36 [==============================] - 0s 2ms/step - loss: 9.1485 - mae: 2.0656 - mse: 9.1485 - val_loss: 14.0265 - val_mae: 2.4953 - val_mse: 14.0265\n"
     ]
    },
    {
     "name": "stdout",
     "output_type": "stream",
     "text": [
      "Epoch 34/100\n",
      "\r",
      " 1/36 [..............................] - ETA: 0s - loss: 2.7144 - mae: 1.3836 - mse: 2.7144"
     ]
    },
    {
     "name": "stdout",
     "output_type": "stream",
     "text": [
      "\b\b\b\b\b\b\b\b\b\b\b\b\b\b\b\b\b\b\b\b\b\b\b\b\b\b\b\b\b\b\b\b\b\b\b\b\b\b\b\b\b\b\b\b\b\b\b\b\b\b\b\b\b\b\b\b\b\b\b\b\b\b\b\b\b\b\b\b\b\b\b\b\b\b\b\b\b\b\b\b\b\b\b\b\b\b\b\b\b\b\b\r",
      "36/36 [==============================] - 0s 2ms/step - loss: 8.9538 - mae: 2.0819 - mse: 8.9538 - val_loss: 14.0589 - val_mae: 2.4220 - val_mse: 14.0589\n"
     ]
    },
    {
     "name": "stdout",
     "output_type": "stream",
     "text": [
      "Epoch 35/100\n",
      "\r",
      " 1/36 [..............................] - ETA: 0s - loss: 4.0216 - mae: 1.6289 - mse: 4.0216"
     ]
    },
    {
     "name": "stdout",
     "output_type": "stream",
     "text": [
      "\b\b\b\b\b\b\b\b\b\b\b\b\b\b\b\b\b\b\b\b\b\b\b\b\b\b\b\b\b\b\b\b\b\b\b\b\b\b\b\b\b\b\b\b\b\b\b\b\b\b\b\b\b\b\b\b\b\b\b\b\b\b\b\b\b\b\b\b\b\b\b\b\b\b\b\b\b\b\b\b\b\b\b\b\b\b\b\b\b\b\b\r",
      "36/36 [==============================] - 0s 2ms/step - loss: 8.6741 - mae: 2.0562 - mse: 8.6741 - val_loss: 13.0050 - val_mae: 2.4048 - val_mse: 13.0050\n"
     ]
    },
    {
     "name": "stdout",
     "output_type": "stream",
     "text": [
      "Epoch 36/100\n",
      "\r",
      " 1/36 [..............................] - ETA: 0s - loss: 7.7254 - mae: 2.3590 - mse: 7.7254"
     ]
    },
    {
     "name": "stdout",
     "output_type": "stream",
     "text": [
      "\b\b\b\b\b\b\b\b\b\b\b\b\b\b\b\b\b\b\b\b\b\b\b\b\b\b\b\b\b\b\b\b\b\b\b\b\b\b\b\b\b\b\b\b\b\b\b\b\b\b\b\b\b\b\b\b\b\b\b\b\b\b\b\b\b\b\b\b\b\b\b\b\b\b\b\b\b\b\b\b\b\b\b\b\b\b\b\b\b\b\b\r",
      "36/36 [==============================] - 0s 2ms/step - loss: 8.7212 - mae: 2.0627 - mse: 8.7212 - val_loss: 13.2011 - val_mae: 2.3565 - val_mse: 13.2011\n"
     ]
    },
    {
     "name": "stdout",
     "output_type": "stream",
     "text": [
      "Epoch 37/100\n",
      "\r",
      " 1/36 [..............................] - ETA: 0s - loss: 11.8881 - mae: 2.6282 - mse: 11.8881"
     ]
    },
    {
     "name": "stdout",
     "output_type": "stream",
     "text": [
      "\b\b\b\b\b\b\b\b\b\b\b\b\b\b\b\b\b\b\b\b\b\b\b\b\b\b\b\b\b\b\b\b\b\b\b\b\b\b\b\b\b\b\b\b\b\b\b\b\b\b\b\b\b\b\b\b\b\b\b\b\b\b\b\b\b\b\b\b\b\b\b\b\b\b\b\b\b\b\b\b\b\b\b\b\b\b\b\b\b\b\b\b\b\r",
      "36/36 [==============================] - 0s 2ms/step - loss: 8.5431 - mae: 2.0591 - mse: 8.5431 - val_loss: 13.8942 - val_mae: 2.3905 - val_mse: 13.8942\n"
     ]
    },
    {
     "name": "stdout",
     "output_type": "stream",
     "text": [
      "Epoch 38/100\n",
      "\r",
      " 1/36 [..............................] - ETA: 0s - loss: 2.5369 - mae: 1.3958 - mse: 2.5369"
     ]
    },
    {
     "name": "stdout",
     "output_type": "stream",
     "text": [
      "\b\b\b\b\b\b\b\b\b\b\b\b\b\b\b\b\b\b\b\b\b\b\b\b\b\b\b\b\b\b\b\b\b\b\b\b\b\b\b\b\b\b\b\b\b\b\b\b\b\b\b\b\b\b\b\b\b\b\b\b\b\b\b\b\b\b\b\b\b\b\b\b\b\b\b\b\b\b\b\b\b\b\b\b\b\b\b\b\b\b\b\r",
      "36/36 [==============================] - 0s 2ms/step - loss: 8.3042 - mae: 2.0118 - mse: 8.3042 - val_loss: 14.1813 - val_mae: 2.5156 - val_mse: 14.1813\n"
     ]
    },
    {
     "name": "stdout",
     "output_type": "stream",
     "text": [
      "Epoch 39/100\n",
      "\r",
      " 1/36 [..............................] - ETA: 0s - loss: 3.6958 - mae: 1.5786 - mse: 3.6958"
     ]
    },
    {
     "name": "stdout",
     "output_type": "stream",
     "text": [
      "\b\b\b\b\b\b\b\b\b\b\b\b\b\b\b\b\b\b\b\b\b\b\b\b\b\b\b\b\b\b\b\b\b\b\b\b\b\b\b\b\b\b\b\b\b\b\b\b\b\b\b\b\b\b\b\b\b\b\b\b\b\b\b\b\b\b\b\b\b\b\b\b\b\b\b\b\b\b\b\b\b\b\b\b\b\b\b\b\b\b\b\r",
      "36/36 [==============================] - 0s 2ms/step - loss: 8.4004 - mae: 2.0197 - mse: 8.4004 - val_loss: 14.0777 - val_mae: 2.4052 - val_mse: 14.0777\n"
     ]
    },
    {
     "name": "stdout",
     "output_type": "stream",
     "text": [
      "Epoch 40/100\n",
      "\r",
      " 1/36 [..............................] - ETA: 0s - loss: 3.4145 - mae: 1.4783 - mse: 3.4145"
     ]
    },
    {
     "name": "stdout",
     "output_type": "stream",
     "text": [
      "\b\b\b\b\b\b\b\b\b\b\b\b\b\b\b\b\b\b\b\b\b\b\b\b\b\b\b\b\b\b\b\b\b\b\b\b\b\b\b\b\b\b\b\b\b\b\b\b\b\b\b\b\b\b\b\b\b\b\b\b\b\b\b\b\b\b\b\b\b\b\b\b\b\b\b\b\b\b\b\b\b\b\b\b\b\b\b\b\b\b\b\r",
      "36/36 [==============================] - 0s 2ms/step - loss: 8.2772 - mae: 2.0141 - mse: 8.2772 - val_loss: 13.6871 - val_mae: 2.5101 - val_mse: 13.6871\n"
     ]
    },
    {
     "name": "stdout",
     "output_type": "stream",
     "text": [
      "Epoch 41/100\n",
      "\r",
      " 1/36 [..............................] - ETA: 0s - loss: 6.8318 - mae: 2.1699 - mse: 6.8318"
     ]
    },
    {
     "name": "stdout",
     "output_type": "stream",
     "text": [
      "\b\b\b\b\b\b\b\b\b\b\b\b\b\b\b\b\b\b\b\b\b\b\b\b\b\b\b\b\b\b\b\b\b\b\b\b\b\b\b\b\b\b\b\b\b\b\b\b\b\b\b\b\b\b\b\b\b\b\b\b\b\b\b\b\b\b\b\b\b\b\b\b\b\b\b\b\b\b\b\b\b\b\b\b\b\b\b\b\b\b\b\r",
      "36/36 [==============================] - 0s 2ms/step - loss: 8.2636 - mae: 1.9741 - mse: 8.2636 - val_loss: 13.6589 - val_mae: 2.4498 - val_mse: 13.6589\n"
     ]
    },
    {
     "name": "stdout",
     "output_type": "stream",
     "text": [
      "Epoch 42/100\n",
      "\r",
      " 1/36 [..............................] - ETA: 0s - loss: 4.9865 - mae: 1.8356 - mse: 4.9865"
     ]
    },
    {
     "name": "stdout",
     "output_type": "stream",
     "text": [
      "\b\b\b\b\b\b\b\b\b\b\b\b\b\b\b\b\b\b\b\b\b\b\b\b\b\b\b\b\b\b\b\b\b\b\b\b\b\b\b\b\b\b\b\b\b\b\b\b\b\b\b\b\b\b\b\b\b\b\b\b\b\b\b\b\b\b\b\b\b\b\b\b\b\b\b\b\b\b\b\b\b\b\b\b\b\b\b\b\b\b\b\r",
      "36/36 [==============================] - 0s 2ms/step - loss: 8.0805 - mae: 1.9924 - mse: 8.0805 - val_loss: 13.6880 - val_mae: 2.4351 - val_mse: 13.6880\n"
     ]
    },
    {
     "name": "stdout",
     "output_type": "stream",
     "text": [
      "Epoch 43/100\n",
      "\r",
      " 1/36 [..............................] - ETA: 0s - loss: 6.9380 - mae: 2.2673 - mse: 6.9380"
     ]
    },
    {
     "name": "stdout",
     "output_type": "stream",
     "text": [
      "\b\b\b\b\b\b\b\b\b\b\b\b\b\b\b\b\b\b\b\b\b\b\b\b\b\b\b\b\b\b\b\b\b\b\b\b\b\b\b\b\b\b\b\b\b\b\b\b\b\b\b\b\b\b\b\b\b\b\b\b\b\b\b\b\b\b\b\b\b\b\b\b\b\b\b\b\b\b\b\b\b\b\b\b\b\b\b\b\b\b\b\r",
      "36/36 [==============================] - 0s 2ms/step - loss: 8.1778 - mae: 2.0097 - mse: 8.1778 - val_loss: 13.9274 - val_mae: 2.5414 - val_mse: 13.9274\n"
     ]
    },
    {
     "name": "stdout",
     "output_type": "stream",
     "text": [
      "Epoch 44/100\n",
      "\r",
      " 1/36 [..............................] - ETA: 0s - loss: 7.6202 - mae: 2.0598 - mse: 7.6202"
     ]
    },
    {
     "name": "stdout",
     "output_type": "stream",
     "text": [
      "\b\b\b\b\b\b\b\b\b\b\b\b\b\b\b\b\b\b\b\b\b\b\b\b\b\b\b\b\b\b\b\b\b\b\b\b\b\b\b\b\b\b\b\b\b\b\b\b\b\b\b\b\b\b\b\b\b\b\b\b\b\b\b\b\b\b\b\b\b\b\b\b\b\b\b\b\b\b\b\b\b\b\b\b\b\b\b\b\b\b\b\r",
      "36/36 [==============================] - 0s 2ms/step - loss: 7.8929 - mae: 1.9596 - mse: 7.8929 - val_loss: 12.5873 - val_mae: 2.3543 - val_mse: 12.5873\n"
     ]
    },
    {
     "name": "stdout",
     "output_type": "stream",
     "text": [
      "Epoch 45/100\n",
      "\r",
      " 1/36 [..............................] - ETA: 0s - loss: 5.3809 - mae: 2.0346 - mse: 5.3809"
     ]
    },
    {
     "name": "stdout",
     "output_type": "stream",
     "text": [
      "\b\b\b\b\b\b\b\b\b\b\b\b\b\b\b\b\b\b\b\b\b\b\b\b\b\b\b\b\b\b\b\b\b\b\b\b\b\b\b\b\b\b\b\b\b\b\b\b\b\b\b\b\b\b\b\b\b\b\b\b\b\b\b\b\b\b\b\b\b\b\b\b\b\b\b\b\b\b\b\b\b\b\b\b\b\b\b\b\b\b\b\r",
      "36/36 [==============================] - 0s 2ms/step - loss: 7.9471 - mae: 1.9448 - mse: 7.9471 - val_loss: 13.1158 - val_mae: 2.3705 - val_mse: 13.1158\n"
     ]
    },
    {
     "name": "stdout",
     "output_type": "stream",
     "text": [
      "Epoch 46/100\n",
      "\r",
      " 1/36 [..............................] - ETA: 0s - loss: 5.1117 - mae: 1.8457 - mse: 5.1117"
     ]
    },
    {
     "name": "stdout",
     "output_type": "stream",
     "text": [
      "\b\b\b\b\b\b\b\b\b\b\b\b\b\b\b\b\b\b\b\b\b\b\b\b\b\b\b\b\b\b\b\b\b\b\b\b\b\b\b\b\b\b\b\b\b\b\b\b\b\b\b\b\b\b\b\b\b\b\b\b\b\b\b\b\b\b\b\b\b\b\b\b\b\b\b\b\b\b\b\b\b\b\b\b\b\b\b\b\b\b\b\r",
      "36/36 [==============================] - 0s 2ms/step - loss: 7.8671 - mae: 1.9329 - mse: 7.8671 - val_loss: 12.9690 - val_mae: 2.3042 - val_mse: 12.9690\n"
     ]
    },
    {
     "name": "stdout",
     "output_type": "stream",
     "text": [
      "Epoch 47/100\n",
      "\r",
      " 1/36 [..............................] - ETA: 0s - loss: 7.4026 - mae: 2.3631 - mse: 7.4026"
     ]
    },
    {
     "name": "stdout",
     "output_type": "stream",
     "text": [
      "\b\b\b\b\b\b\b\b\b\b\b\b\b\b\b\b\b\b\b\b\b\b\b\b\b\b\b\b\b\b\b\b\b\b\b\b\b\b\b\b\b\b\b\b\b\b\b\b\b\b\b\b\b\b\b\b\b\b\b\b\b\b\b\b\b\b\b\b\b\b\b\b\b\b\b\b\b\b\b\b\b\b\b\b\b\b\b\b\b\b\b\r",
      "36/36 [==============================] - 0s 2ms/step - loss: 7.5696 - mae: 1.9366 - mse: 7.5696 - val_loss: 13.2230 - val_mae: 2.4574 - val_mse: 13.2230\n"
     ]
    },
    {
     "name": "stdout",
     "output_type": "stream",
     "text": [
      "Epoch 48/100\n",
      "\r",
      " 1/36 [..............................] - ETA: 0s - loss: 2.4101 - mae: 1.3461 - mse: 2.4101"
     ]
    },
    {
     "name": "stdout",
     "output_type": "stream",
     "text": [
      "\b\b\b\b\b\b\b\b\b\b\b\b\b\b\b\b\b\b\b\b\b\b\b\b\b\b\b\b\b\b\b\b\b\b\b\b\b\b\b\b\b\b\b\b\b\b\b\b\b\b\b\b\b\b\b\b\b\b\b\b\b\b\b\b\b\b\b\b\b\b\b\b\b\b\b\b\b\b\b\b\b\b\b\b\b\b\b\b\b\b\b\r",
      "36/36 [==============================] - 0s 2ms/step - loss: 7.3693 - mae: 1.9225 - mse: 7.3693 - val_loss: 13.4483 - val_mae: 2.3449 - val_mse: 13.4483\n"
     ]
    },
    {
     "name": "stdout",
     "output_type": "stream",
     "text": [
      "Epoch 49/100\n",
      "\r",
      " 1/36 [..............................] - ETA: 0s - loss: 7.3577 - mae: 2.2303 - mse: 7.3577"
     ]
    },
    {
     "name": "stdout",
     "output_type": "stream",
     "text": [
      "\b\b\b\b\b\b\b\b\b\b\b\b\b\b\b\b\b\b\b\b\b\b\b\b\b\b\b\b\b\b\b\b\b\b\b\b\b\b\b\b\b\b\b\b\b\b\b\b\b\b\b\b\b\b\b\b\b\b\b\b\b\b\b\b\b\b\b\b\b\b\b\b\b\b\b\b\b\b\b\b\b\b\b\b\b\b\b\b\b\b\b\r",
      "36/36 [==============================] - 0s 2ms/step - loss: 7.5747 - mae: 1.9105 - mse: 7.5747 - val_loss: 13.2373 - val_mae: 2.3816 - val_mse: 13.2373\n"
     ]
    },
    {
     "name": "stdout",
     "output_type": "stream",
     "text": [
      "Epoch 50/100\n",
      "\r",
      " 1/36 [..............................] - ETA: 0s - loss: 22.1598 - mae: 2.8860 - mse: 22.1598"
     ]
    },
    {
     "name": "stdout",
     "output_type": "stream",
     "text": [
      "\b\b\b\b\b\b\b\b\b\b\b\b\b\b\b\b\b\b\b\b\b\b\b\b\b\b\b\b\b\b\b\b\b\b\b\b\b\b\b\b\b\b\b\b\b\b\b\b\b\b\b\b\b\b\b\b\b\b\b\b\b\b\b\b\b\b\b\b\b\b\b\b\b\b\b\b\b\b\b\b\b\b\b\b\b\b\b\b\b\b\b\b\b\r",
      "36/36 [==============================] - 0s 2ms/step - loss: 7.4669 - mae: 1.9277 - mse: 7.4669 - val_loss: 12.4698 - val_mae: 2.2827 - val_mse: 12.4698\n"
     ]
    },
    {
     "name": "stdout",
     "output_type": "stream",
     "text": [
      "Epoch 51/100\n",
      "\r",
      " 1/36 [..............................] - ETA: 0s - loss: 7.6647 - mae: 2.3585 - mse: 7.6647"
     ]
    },
    {
     "name": "stdout",
     "output_type": "stream",
     "text": [
      "\b\b\b\b\b\b\b\b\b\b\b\b\b\b\b\b\b\b\b\b\b\b\b\b\b\b\b\b\b\b\b\b\b\b\b\b\b\b\b\b\b\b\b\b\b\b\b\b\b\b\b\b\b\b\b\b\b\b\b\b\b\b\b\b\b\b\b\b\b\b\b\b\b\b\b\b\b\b\b\b\b\b\b\b\b\b\b\b\b\b\b\r",
      "36/36 [==============================] - 0s 2ms/step - loss: 7.4126 - mae: 1.9136 - mse: 7.4126 - val_loss: 12.7967 - val_mae: 2.3007 - val_mse: 12.7967\n"
     ]
    },
    {
     "name": "stdout",
     "output_type": "stream",
     "text": [
      "Epoch 52/100\n",
      "\r",
      " 1/36 [..............................] - ETA: 0s - loss: 6.6841 - mae: 1.8651 - mse: 6.6841"
     ]
    },
    {
     "name": "stdout",
     "output_type": "stream",
     "text": [
      "\b\b\b\b\b\b\b\b\b\b\b\b\b\b\b\b\b\b\b\b\b\b\b\b\b\b\b\b\b\b\b\b\b\b\b\b\b\b\b\b\b\b\b\b\b\b\b\b\b\b\b\b\b\b\b\b\b\b\b\b\b\b\b\b\b\b\b\b\b\b\b\b\b\b\b\b\b\b\b\b\b\b\b\b\b\b\b\b\b\b\b\r",
      "36/36 [==============================] - 0s 2ms/step - loss: 7.4912 - mae: 1.8918 - mse: 7.4912 - val_loss: 13.2415 - val_mae: 2.3721 - val_mse: 13.2415\n"
     ]
    },
    {
     "name": "stdout",
     "output_type": "stream",
     "text": [
      "Epoch 53/100\n",
      "\r",
      " 1/36 [..............................] - ETA: 0s - loss: 25.6787 - mae: 3.3779 - mse: 25.6787"
     ]
    },
    {
     "name": "stdout",
     "output_type": "stream",
     "text": [
      "\b\b\b\b\b\b\b\b\b\b\b\b\b\b\b\b\b\b\b\b\b\b\b\b\b\b\b\b\b\b\b\b\b\b\b\b\b\b\b\b\b\b\b\b\b\b\b\b\b\b\b\b\b\b\b\b\b\b\b\b\b\b\b\b\b\b\b\b\b\b\b\b\b\b\b\b\b\b\b\b\b\b\b\b\b\b\b\b\b\b\b\b\b\r",
      "36/36 [==============================] - 0s 2ms/step - loss: 7.3401 - mae: 1.8995 - mse: 7.3401 - val_loss: 12.7098 - val_mae: 2.3565 - val_mse: 12.7098\n"
     ]
    },
    {
     "name": "stdout",
     "output_type": "stream",
     "text": [
      "Epoch 54/100\n",
      "\r",
      " 1/36 [..............................] - ETA: 0s - loss: 10.1976 - mae: 2.4170 - mse: 10.1976"
     ]
    },
    {
     "name": "stdout",
     "output_type": "stream",
     "text": [
      "\b\b\b\b\b\b\b\b\b\b\b\b\b\b\b\b\b\b\b\b\b\b\b\b\b\b\b\b\b\b\b\b\b\b\b\b\b\b\b\b\b\b\b\b\b\b\b\b\b\b\b\b\b\b\b\b\b\b\b\b\b\b\b\b\b\b\b\b\b\b\b\b\b\b\b\b\b\b\b\b\b\b\b\b\b\b\b\b\b\b\b\b\b\r",
      "36/36 [==============================] - 0s 2ms/step - loss: 7.1574 - mae: 1.8306 - mse: 7.1574 - val_loss: 13.6833 - val_mae: 2.5442 - val_mse: 13.6833\n"
     ]
    },
    {
     "name": "stdout",
     "output_type": "stream",
     "text": [
      "Epoch 55/100\n",
      "\r",
      " 1/36 [..............................] - ETA: 0s - loss: 3.3518 - mae: 1.4800 - mse: 3.3518"
     ]
    },
    {
     "name": "stdout",
     "output_type": "stream",
     "text": [
      "\b\b\b\b\b\b\b\b\b\b\b\b\b\b\b\b\b\b\b\b\b\b\b\b\b\b\b\b\b\b\b\b\b\b\b\b\b\b\b\b\b\b\b\b\b\b\b\b\b\b\b\b\b\b\b\b\b\b\b\b\b\b\b\b\b\b\b\b\b\b\b\b\b\b\b\b\b\b\b\b\b\b\b\b\b\b\b\b\b\b\b\r",
      "36/36 [==============================] - 0s 2ms/step - loss: 7.1587 - mae: 1.8769 - mse: 7.1587 - val_loss: 12.6908 - val_mae: 2.4159 - val_mse: 12.6908\n"
     ]
    },
    {
     "name": "stdout",
     "output_type": "stream",
     "text": [
      "Epoch 56/100\n",
      "\r",
      " 1/36 [..............................] - ETA: 0s - loss: 11.1812 - mae: 2.5203 - mse: 11.1812"
     ]
    },
    {
     "name": "stdout",
     "output_type": "stream",
     "text": [
      "\b\b\b\b\b\b\b\b\b\b\b\b\b\b\b\b\b\b\b\b\b\b\b\b\b\b\b\b\b\b\b\b\b\b\b\b\b\b\b\b\b\b\b\b\b\b\b\b\b\b\b\b\b\b\b\b\b\b\b\b\b\b\b\b\b\b\b\b\b\b\b\b\b\b\b\b\b\b\b\b\b\b\b\b\b\b\b\b\b\b\b\b\b\r",
      "36/36 [==============================] - 0s 2ms/step - loss: 7.2165 - mae: 1.8258 - mse: 7.2165 - val_loss: 12.6495 - val_mae: 2.3404 - val_mse: 12.6495\n"
     ]
    },
    {
     "name": "stdout",
     "output_type": "stream",
     "text": [
      "Epoch 57/100\n",
      "\r",
      " 1/36 [..............................] - ETA: 0s - loss: 3.1343 - mae: 1.2883 - mse: 3.1343"
     ]
    },
    {
     "name": "stdout",
     "output_type": "stream",
     "text": [
      "\b\b\b\b\b\b\b\b\b\b\b\b\b\b\b\b\b\b\b\b\b\b\b\b\b\b\b\b\b\b\b\b\b\b\b\b\b\b\b\b\b\b\b\b\b\b\b\b\b\b\b\b\b\b\b\b\b\b\b\b\b\b\b\b\b\b\b\b\b\b\b\b\b\b\b\b\b\b\b\b\b\b\b\b\b\b\b\b\b\b\b\r",
      "36/36 [==============================] - 0s 2ms/step - loss: 6.8108 - mae: 1.8368 - mse: 6.8108 - val_loss: 13.0202 - val_mae: 2.3764 - val_mse: 13.0202\n"
     ]
    },
    {
     "name": "stdout",
     "output_type": "stream",
     "text": [
      "Epoch 58/100\n",
      "\r",
      " 1/36 [..............................] - ETA: 0s - loss: 2.3965 - mae: 1.0410 - mse: 2.3965"
     ]
    },
    {
     "name": "stdout",
     "output_type": "stream",
     "text": [
      "\b\b\b\b\b\b\b\b\b\b\b\b\b\b\b\b\b\b\b\b\b\b\b\b\b\b\b\b\b\b\b\b\b\b\b\b\b\b\b\b\b\b\b\b\b\b\b\b\b\b\b\b\b\b\b\b\b\b\b\b\b\b\b\b\b\b\b\b\b\b\b\b\b\b\b\b\b\b\b\b\b\b\b\b\b\b\b\b\b\b\b\r",
      "36/36 [==============================] - 0s 2ms/step - loss: 6.8447 - mae: 1.8758 - mse: 6.8447 - val_loss: 12.9640 - val_mae: 2.3844 - val_mse: 12.9640\n"
     ]
    },
    {
     "name": "stdout",
     "output_type": "stream",
     "text": [
      "Epoch 59/100\n",
      "\r",
      " 1/36 [..............................] - ETA: 0s - loss: 7.0635 - mae: 2.1455 - mse: 7.0635"
     ]
    },
    {
     "name": "stdout",
     "output_type": "stream",
     "text": [
      "\b\b\b\b\b\b\b\b\b\b\b\b\b\b\b\b\b\b\b\b\b\b\b\b\b\b\b\b\b\b\b\b\b\b\b\b\b\b\b\b\b\b\b\b\b\b\b\b\b\b\b\b\b\b\b\b\b\b\b\b\b\b\b\b\b\b\b\b\b\b\b\b\b\b\b\b\b\b\b\b\b\b\b\b\b\b\b\b\b\b\b\r",
      "36/36 [==============================] - 0s 2ms/step - loss: 6.9957 - mae: 1.8572 - mse: 6.9957 - val_loss: 12.8555 - val_mae: 2.3296 - val_mse: 12.8555\n"
     ]
    },
    {
     "name": "stdout",
     "output_type": "stream",
     "text": [
      "Epoch 60/100\n",
      "\r",
      " 1/36 [..............................] - ETA: 0s - loss: 1.4058 - mae: 0.9211 - mse: 1.4058"
     ]
    },
    {
     "name": "stdout",
     "output_type": "stream",
     "text": [
      "\b\b\b\b\b\b\b\b\b\b\b\b\b\b\b\b\b\b\b\b\b\b\b\b\b\b\b\b\b\b\b\b\b\b\b\b\b\b\b\b\b\b\b\b\b\b\b\b\b\b\b\b\b\b\b\b\b\b\b\b\b\b\b\b\b\b\b\b\b\b\b\b\b\b\b\b\b\b\b\b\b\b\b\b\b\b\b\b\b\b\b\r",
      "36/36 [==============================] - 0s 2ms/step - loss: 6.5657 - mae: 1.8124 - mse: 6.5657 - val_loss: 12.2690 - val_mae: 2.2857 - val_mse: 12.2690\n"
     ]
    },
    {
     "name": "stdout",
     "output_type": "stream",
     "text": [
      "Epoch 61/100\n",
      "\r",
      " 1/36 [..............................] - ETA: 0s - loss: 3.4388 - mae: 1.4765 - mse: 3.4388"
     ]
    },
    {
     "name": "stdout",
     "output_type": "stream",
     "text": [
      "\b\b\b\b\b\b\b\b\b\b\b\b\b\b\b\b\b\b\b\b\b\b\b\b\b\b\b\b\b\b\b\b\b\b\b\b\b\b\b\b\b\b\b\b\b\b\b\b\b\b\b\b\b\b\b\b\b\b\b\b\b\b\b\b\b\b\b\b\b\b\b\b\b\b\b\b\b\b\b\b\b\b\b\b\b\b\b\b\b\b\b\r",
      "36/36 [==============================] - 0s 2ms/step - loss: 6.5999 - mae: 1.7953 - mse: 6.5999 - val_loss: 12.2474 - val_mae: 2.3640 - val_mse: 12.2474\n"
     ]
    },
    {
     "name": "stdout",
     "output_type": "stream",
     "text": [
      "Epoch 62/100\n",
      "\r",
      " 1/36 [..............................] - ETA: 0s - loss: 4.1985 - mae: 1.6036 - mse: 4.1985"
     ]
    },
    {
     "name": "stdout",
     "output_type": "stream",
     "text": [
      "\b\b\b\b\b\b\b\b\b\b\b\b\b\b\b\b\b\b\b\b\b\b\b\b\b\b\b\b\b\b\b\b\b\b\b\b\b\b\b\b\b\b\b\b\b\b\b\b\b\b\b\b\b\b\b\b\b\b\b\b\b\b\b\b\b\b\b\b\b\b\b\b\b\b\b\b\b\b\b\b\b\b\b\b\b\b\b\b\b\b\b\r",
      "36/36 [==============================] - 0s 2ms/step - loss: 6.6099 - mae: 1.7642 - mse: 6.6099 - val_loss: 12.5390 - val_mae: 2.3884 - val_mse: 12.5390\n"
     ]
    },
    {
     "name": "stdout",
     "output_type": "stream",
     "text": [
      "Epoch 63/100\n",
      "\r",
      " 1/36 [..............................] - ETA: 0s - loss: 7.2697 - mae: 2.4947 - mse: 7.2697"
     ]
    },
    {
     "name": "stdout",
     "output_type": "stream",
     "text": [
      "\b\b\b\b\b\b\b\b\b\b\b\b\b\b\b\b\b\b\b\b\b\b\b\b\b\b\b\b\b\b\b\b\b\b\b\b\b\b\b\b\b\b\b\b\b\b\b\b\b\b\b\b\b\b\b\b\b\b\b\b\b\b\b\b\b\b\b\b\b\b\b\b\b\b\b\b\b\b\b\b\b\b\b\b\b\b\b\b\b\b\b\r",
      "36/36 [==============================] - 0s 2ms/step - loss: 6.4862 - mae: 1.8277 - mse: 6.4862 - val_loss: 12.5393 - val_mae: 2.3245 - val_mse: 12.5393\n"
     ]
    },
    {
     "name": "stdout",
     "output_type": "stream",
     "text": [
      "Epoch 64/100\n",
      "\r",
      " 1/36 [..............................] - ETA: 0s - loss: 2.5746 - mae: 1.2740 - mse: 2.5746"
     ]
    },
    {
     "name": "stdout",
     "output_type": "stream",
     "text": [
      "\b\b\b\b\b\b\b\b\b\b\b\b\b\b\b\b\b\b\b\b\b\b\b\b\b\b\b\b\b\b\b\b\b\b\b\b\b\b\b\b\b\b\b\b\b\b\b\b\b\b\b\b\b\b\b\b\b\b\b\b\b\b\b\b\b\b\b\b\b\b\b\b\b\b\b\b\b\b\b\b\b\b\b\b\b\b\b\b\b\b\b\r",
      "36/36 [==============================] - 0s 2ms/step - loss: 6.4198 - mae: 1.7613 - mse: 6.4198 - val_loss: 13.6842 - val_mae: 2.3957 - val_mse: 13.6842\n"
     ]
    },
    {
     "name": "stdout",
     "output_type": "stream",
     "text": [
      "Epoch 65/100\n",
      "\r",
      " 1/36 [..............................] - ETA: 0s - loss: 5.3844 - mae: 1.7560 - mse: 5.3844"
     ]
    },
    {
     "name": "stdout",
     "output_type": "stream",
     "text": [
      "\b\b\b\b\b\b\b\b\b\b\b\b\b\b\b\b\b\b\b\b\b\b\b\b\b\b\b\b\b\b\b\b\b\b\b\b\b\b\b\b\b\b\b\b\b\b\b\b\b\b\b\b\b\b\b\b\b\b\b\b\b\b\b\b\b\b\b\b\b\b\b\b\b\b\b\b\b\b\b\b\b\b\b\b\b\b\b\b\b\b\b\r",
      "36/36 [==============================] - 0s 2ms/step - loss: 6.3637 - mae: 1.7412 - mse: 6.3637 - val_loss: 13.2793 - val_mae: 2.3338 - val_mse: 13.2793\n"
     ]
    },
    {
     "name": "stdout",
     "output_type": "stream",
     "text": [
      "Epoch 66/100\n",
      "\r",
      " 1/36 [..............................] - ETA: 0s - loss: 5.9346 - mae: 1.6049 - mse: 5.9346"
     ]
    },
    {
     "name": "stdout",
     "output_type": "stream",
     "text": [
      "\b\b\b\b\b\b\b\b\b\b\b\b\b\b\b\b\b\b\b\b\b\b\b\b\b\b\b\b\b\b\b\b\b\b\b\b\b\b\b\b\b\b\b\b\b\b\b\b\b\b\b\b\b\b\b\b\b\b\b\b\b\b\b\b\b\b\b\b\b\b\b\b\b\b\b\b\b\b\b\b\b\b\b\b\b\b\b\b\b\b\b\r",
      "36/36 [==============================] - 0s 2ms/step - loss: 6.2636 - mae: 1.7726 - mse: 6.2636 - val_loss: 12.9668 - val_mae: 2.3200 - val_mse: 12.9668\n"
     ]
    },
    {
     "name": "stdout",
     "output_type": "stream",
     "text": [
      "Epoch 67/100\n",
      "\r",
      " 1/36 [..............................] - ETA: 0s - loss: 8.7173 - mae: 2.1909 - mse: 8.7173"
     ]
    },
    {
     "name": "stdout",
     "output_type": "stream",
     "text": [
      "\b\b\b\b\b\b\b\b\b\b\b\b\b\b\b\b\b\b\b\b\b\b\b\b\b\b\b\b\b\b\b\b\b\b\b\b\b\b\b\b\b\b\b\b\b\b\b\b\b\b\b\b\b\b\b\b\b\b\b\b\b\b\b\b\b\b\b\b\b\b\b\b\b\b\b\b\b\b\b\b\b\b\b\b\b\b\b\b\b\b\b\r",
      "36/36 [==============================] - 0s 2ms/step - loss: 6.2867 - mae: 1.7650 - mse: 6.2867 - val_loss: 13.3737 - val_mae: 2.3710 - val_mse: 13.3737\n"
     ]
    },
    {
     "name": "stdout",
     "output_type": "stream",
     "text": [
      "Epoch 68/100\n",
      "\r",
      " 1/36 [..............................] - ETA: 0s - loss: 3.3311 - mae: 1.3425 - mse: 3.3311"
     ]
    },
    {
     "name": "stdout",
     "output_type": "stream",
     "text": [
      "\b\b\b\b\b\b\b\b\b\b\b\b\b\b\b\b\b\b\b\b\b\b\b\b\b\b\b\b\b\b\b\b\b\b\b\b\b\b\b\b\b\b\b\b\b\b\b\b\b\b\b\b\b\b\b\b\b\b\b\b\b\b\b\b\b\b\b\b\b\b\b\b\b\b\b\b\b\b\b\b\b\b\b\b\b\b\b\b\b\b\b\r",
      "36/36 [==============================] - 0s 2ms/step - loss: 6.1797 - mae: 1.7593 - mse: 6.1797 - val_loss: 12.0307 - val_mae: 2.2832 - val_mse: 12.0307\n"
     ]
    },
    {
     "name": "stdout",
     "output_type": "stream",
     "text": [
      "Epoch 69/100\n",
      "\r",
      " 1/36 [..............................] - ETA: 0s - loss: 3.9111 - mae: 1.4117 - mse: 3.9111"
     ]
    },
    {
     "name": "stdout",
     "output_type": "stream",
     "text": [
      "\b\b\b\b\b\b\b\b\b\b\b\b\b\b\b\b\b\b\b\b\b\b\b\b\b\b\b\b\b\b\b\b\b\b\b\b\b\b\b\b\b\b\b\b\b\b\b\b\b\b\b\b\b\b\b\b\b\b\b\b\b\b\b\b\b\b\b\b\b\b\b\b\b\b\b\b\b\b\b\b\b\b\b\b\b\b\b\b\b\b\b\r",
      "36/36 [==============================] - 0s 2ms/step - loss: 6.4651 - mae: 1.7771 - mse: 6.4651 - val_loss: 12.2397 - val_mae: 2.3214 - val_mse: 12.2397\n"
     ]
    },
    {
     "name": "stdout",
     "output_type": "stream",
     "text": [
      "Epoch 70/100\n",
      "\r",
      " 1/36 [..............................] - ETA: 0s - loss: 1.1011 - mae: 0.9641 - mse: 1.1011"
     ]
    },
    {
     "name": "stdout",
     "output_type": "stream",
     "text": [
      "\b\b\b\b\b\b\b\b\b\b\b\b\b\b\b\b\b\b\b\b\b\b\b\b\b\b\b\b\b\b\b\b\b\b\b\b\b\b\b\b\b\b\b\b\b\b\b\b\b\b\b\b\b\b\b\b\b\b\b\b\b\b\b\b\b\b\b\b\b\b\b\b\b\b\b\b\b\b\b\b\b\b\b\b\b\b\b\b\b\b\b\r",
      "36/36 [==============================] - 0s 2ms/step - loss: 6.2913 - mae: 1.7455 - mse: 6.2913 - val_loss: 12.9080 - val_mae: 2.3680 - val_mse: 12.9080\n"
     ]
    },
    {
     "name": "stdout",
     "output_type": "stream",
     "text": [
      "Epoch 71/100\n",
      "\r",
      " 1/36 [..............................] - ETA: 0s - loss: 2.4270 - mae: 1.2445 - mse: 2.4270"
     ]
    },
    {
     "name": "stdout",
     "output_type": "stream",
     "text": [
      "\b\b\b\b\b\b\b\b\b\b\b\b\b\b\b\b\b\b\b\b\b\b\b\b\b\b\b\b\b\b\b\b\b\b\b\b\b\b\b\b\b\b\b\b\b\b\b\b\b\b\b\b\b\b\b\b\b\b\b\b\b\b\b\b\b\b\b\b\b\b\b\b\b\b\b\b\b\b\b\b\b\b\b\b\b\b\b\b\b\b\b\r",
      "36/36 [==============================] - 0s 2ms/step - loss: 6.0847 - mae: 1.7154 - mse: 6.0847 - val_loss: 11.9177 - val_mae: 2.2353 - val_mse: 11.9177\n"
     ]
    },
    {
     "name": "stdout",
     "output_type": "stream",
     "text": [
      "Epoch 72/100\n",
      "\r",
      " 1/36 [..............................] - ETA: 0s - loss: 12.3730 - mae: 2.7309 - mse: 12.3730"
     ]
    },
    {
     "name": "stdout",
     "output_type": "stream",
     "text": [
      "\b\b\b\b\b\b\b\b\b\b\b\b\b\b\b\b\b\b\b\b\b\b\b\b\b\b\b\b\b\b\b\b\b\b\b\b\b\b\b\b\b\b\b\b\b\b\b\b\b\b\b\b\b\b\b\b\b\b\b\b\b\b\b\b\b\b\b\b\b\b\b\b\b\b\b\b\b\b\b\b\b\b\b\b\b\b\b\b\b\b\b\b\b\r",
      "36/36 [==============================] - 0s 2ms/step - loss: 5.8482 - mae: 1.7003 - mse: 5.8482 - val_loss: 11.9800 - val_mae: 2.3584 - val_mse: 11.9800\n"
     ]
    },
    {
     "name": "stdout",
     "output_type": "stream",
     "text": [
      "Epoch 73/100\n",
      "\r",
      " 1/36 [..............................] - ETA: 0s - loss: 7.6617 - mae: 2.3681 - mse: 7.6617"
     ]
    },
    {
     "name": "stdout",
     "output_type": "stream",
     "text": [
      "\b\b\b\b\b\b\b\b\b\b\b\b\b\b\b\b\b\b\b\b\b\b\b\b\b\b\b\b\b\b\b\b\b\b\b\b\b\b\b\b\b\b\b\b\b\b\b\b\b\b\b\b\b\b\b\b\b\b\b\b\b\b\b\b\b\b\b\b\b\b\b\b\b\b\b\b\b\b\b\b\b\b\b\b\b\b\b\b\b\b\b\r",
      "36/36 [==============================] - 0s 2ms/step - loss: 6.0238 - mae: 1.7351 - mse: 6.0238 - val_loss: 14.2401 - val_mae: 2.5699 - val_mse: 14.2401\n"
     ]
    },
    {
     "name": "stdout",
     "output_type": "stream",
     "text": [
      "Epoch 74/100\n",
      "\r",
      " 1/36 [..............................] - ETA: 0s - loss: 3.3728 - mae: 1.2274 - mse: 3.3728"
     ]
    },
    {
     "name": "stdout",
     "output_type": "stream",
     "text": [
      "\b\b\b\b\b\b\b\b\b\b\b\b\b\b\b\b\b\b\b\b\b\b\b\b\b\b\b\b\b\b\b\b\b\b\b\b\b\b\b\b\b\b\b\b\b\b\b\b\b\b\b\b\b\b\b\b\b\b\b\b\b\b\b\b\b\b\b\b\b\b\b\b\b\b\b\b\b\b\b\b\b\b\b\b\b\b\b\b\b\b\b\r",
      "36/36 [==============================] - 0s 2ms/step - loss: 5.9064 - mae: 1.7239 - mse: 5.9064 - val_loss: 12.5284 - val_mae: 2.3521 - val_mse: 12.5284\n"
     ]
    },
    {
     "name": "stdout",
     "output_type": "stream",
     "text": [
      "Epoch 75/100\n",
      "\r",
      " 1/36 [..............................] - ETA: 0s - loss: 3.4484 - mae: 1.4781 - mse: 3.4484"
     ]
    },
    {
     "name": "stdout",
     "output_type": "stream",
     "text": [
      "\b\b\b\b\b\b\b\b\b\b\b\b\b\b\b\b\b\b\b\b\b\b\b\b\b\b\b\b\b\b\b\b\b\b\b\b\b\b\b\b\b\b\b\b\b\b\b\b\b\b\b\b\b\b\b\b\b\b\b\b\b\b\b\b\b\b\b\b\b\b\b\b\b\b\b\b\b\b\b\b\b\b\b\b\b\b\b\b\b\b\b\r",
      "36/36 [==============================] - 0s 2ms/step - loss: 5.8608 - mae: 1.7129 - mse: 5.8608 - val_loss: 12.9856 - val_mae: 2.4163 - val_mse: 12.9856\n"
     ]
    },
    {
     "name": "stdout",
     "output_type": "stream",
     "text": [
      "Epoch 76/100\n",
      "\r",
      " 1/36 [..............................] - ETA: 0s - loss: 2.6239 - mae: 1.1080 - mse: 2.6239"
     ]
    },
    {
     "name": "stdout",
     "output_type": "stream",
     "text": [
      "\b\b\b\b\b\b\b\b\b\b\b\b\b\b\b\b\b\b\b\b\b\b\b\b\b\b\b\b\b\b\b\b\b\b\b\b\b\b\b\b\b\b\b\b\b\b\b\b\b\b\b\b\b\b\b\b\b\b\b\b\b\b\b\b\b\b\b\b\b\b\b\b\b\b\b\b\b\b\b\b\b\b\b\b\b\b\b\b\b\b\b\r",
      "36/36 [==============================] - 0s 2ms/step - loss: 5.8256 - mae: 1.7007 - mse: 5.8256 - val_loss: 13.3413 - val_mae: 2.4283 - val_mse: 13.3413\n"
     ]
    },
    {
     "name": "stdout",
     "output_type": "stream",
     "text": [
      "Epoch 77/100\n",
      "\r",
      " 1/36 [..............................] - ETA: 0s - loss: 6.6166 - mae: 2.0045 - mse: 6.6166"
     ]
    },
    {
     "name": "stdout",
     "output_type": "stream",
     "text": [
      "\b\b\b\b\b\b\b\b\b\b\b\b\b\b\b\b\b\b\b\b\b\b\b\b\b\b\b\b\b\b\b\b\b\b\b\b\b\b\b\b\b\b\b\b\b\b\b\b\b\b\b\b\b\b\b\b\b\b\b\b\b\b\b\b\b\b\b\b\b\b\b\b\b\b\b\b\b\b\b\b\b\b\b\b\b\b\b\b\b\b\b\r",
      "36/36 [==============================] - 0s 2ms/step - loss: 5.7902 - mae: 1.6942 - mse: 5.7902 - val_loss: 12.8301 - val_mae: 2.3500 - val_mse: 12.8301\n"
     ]
    },
    {
     "name": "stdout",
     "output_type": "stream",
     "text": [
      "Epoch 78/100\n",
      "\r",
      " 1/36 [..............................] - ETA: 0s - loss: 3.4865 - mae: 1.4235 - mse: 3.4865"
     ]
    },
    {
     "name": "stdout",
     "output_type": "stream",
     "text": [
      "\b\b\b\b\b\b\b\b\b\b\b\b\b\b\b\b\b\b\b\b\b\b\b\b\b\b\b\b\b\b\b\b\b\b\b\b\b\b\b\b\b\b\b\b\b\b\b\b\b\b\b\b\b\b\b\b\b\b\b\b\b\b\b\b\b\b\b\b\b\b\b\b\b\b\b\b\b\b\b\b\b\b\b\b\b\b\b\b\b\b\b\r",
      "36/36 [==============================] - 0s 2ms/step - loss: 5.5314 - mae: 1.6589 - mse: 5.5314 - val_loss: 13.5920 - val_mae: 2.3699 - val_mse: 13.5920\n"
     ]
    },
    {
     "name": "stdout",
     "output_type": "stream",
     "text": [
      "Epoch 79/100\n",
      "\r",
      " 1/36 [..............................] - ETA: 0s - loss: 0.6828 - mae: 0.6668 - mse: 0.6828"
     ]
    },
    {
     "name": "stdout",
     "output_type": "stream",
     "text": [
      "\b\b\b\b\b\b\b\b\b\b\b\b\b\b\b\b\b\b\b\b\b\b\b\b\b\b\b\b\b\b\b\b\b\b\b\b\b\b\b\b\b\b\b\b\b\b\b\b\b\b\b\b\b\b\b\b\b\b\b\b\b\b\b\b\b\b\b\b\b\b\b\b\b\b\b\b\b\b\b\b\b\b\b\b\b\b\b\b\b\b\b\r",
      "36/36 [==============================] - 0s 2ms/step - loss: 5.5757 - mae: 1.7302 - mse: 5.5757 - val_loss: 11.6502 - val_mae: 2.2429 - val_mse: 11.6502\n"
     ]
    },
    {
     "name": "stdout",
     "output_type": "stream",
     "text": [
      "Epoch 80/100\n",
      "\r",
      " 1/36 [..............................] - ETA: 0s - loss: 2.8948 - mae: 1.2464 - mse: 2.8948"
     ]
    },
    {
     "name": "stdout",
     "output_type": "stream",
     "text": [
      "\b\b\b\b\b\b\b\b\b\b\b\b\b\b\b\b\b\b\b\b\b\b\b\b\b\b\b\b\b\b\b\b\b\b\b\b\b\b\b\b\b\b\b\b\b\b\b\b\b\b\b\b\b\b\b\b\b\b\b\b\b\b\b\b\b\b\b\b\b\b\b\b\b\b\b\b\b\b\b\b\b\b\b\b\b\b\b\b\b\b\b\r",
      "36/36 [==============================] - 0s 2ms/step - loss: 5.5959 - mae: 1.6710 - mse: 5.5959 - val_loss: 12.8662 - val_mae: 2.3524 - val_mse: 12.8662\n"
     ]
    },
    {
     "name": "stdout",
     "output_type": "stream",
     "text": [
      "Epoch 81/100\n",
      "\r",
      " 1/36 [..............................] - ETA: 0s - loss: 4.4004 - mae: 1.8574 - mse: 4.4004"
     ]
    },
    {
     "name": "stdout",
     "output_type": "stream",
     "text": [
      "\b\b\b\b\b\b\b\b\b\b\b\b\b\b\b\b\b\b\b\b\b\b\b\b\b\b\b\b\b\b\b\b\b\b\b\b\b\b\b\b\b\b\b\b\b\b\b\b\b\b\b\b\b\b\b\b\b\b\b\b\b\b\b\b\b\b\b\b\b\b\b\b\b\b\b\b\b\b\b\b\b\b\b\b\b\b\b\b\b\b\b\r",
      "36/36 [==============================] - 0s 2ms/step - loss: 5.4484 - mae: 1.6461 - mse: 5.4484 - val_loss: 14.2820 - val_mae: 2.5297 - val_mse: 14.2820\n"
     ]
    },
    {
     "name": "stdout",
     "output_type": "stream",
     "text": [
      "Epoch 82/100\n",
      "\r",
      " 1/36 [..............................] - ETA: 0s - loss: 7.1577 - mae: 1.7312 - mse: 7.1577"
     ]
    },
    {
     "name": "stdout",
     "output_type": "stream",
     "text": [
      "\b\b\b\b\b\b\b\b\b\b\b\b\b\b\b\b\b\b\b\b\b\b\b\b\b\b\b\b\b\b\b\b\b\b\b\b\b\b\b\b\b\b\b\b\b\b\b\b\b\b\b\b\b\b\b\b\b\b\b\b\b\b\b\b\b\b\b\b\b\b\b\b\b\b\b\b\b\b\b\b\b\b\b\b\b\b\b\b\b\b\b\r",
      "36/36 [==============================] - 0s 2ms/step - loss: 5.3292 - mae: 1.6561 - mse: 5.3292 - val_loss: 12.7035 - val_mae: 2.5154 - val_mse: 12.7035\n"
     ]
    },
    {
     "name": "stdout",
     "output_type": "stream",
     "text": [
      "Epoch 83/100\n",
      "\r",
      " 1/36 [..............................] - ETA: 0s - loss: 5.3531 - mae: 1.8256 - mse: 5.3531"
     ]
    },
    {
     "name": "stdout",
     "output_type": "stream",
     "text": [
      "\b\b\b\b\b\b\b\b\b\b\b\b\b\b\b\b\b\b\b\b\b\b\b\b\b\b\b\b\b\b\b\b\b\b\b\b\b\b\b\b\b\b\b\b\b\b\b\b\b\b\b\b\b\b\b\b\b\b\b\b\b\b\b\b\b\b\b\b\b\b\b\b\b\b\b\b\b\b\b\b\b\b\b\b\b\b\b\b\b\b\b\r",
      "36/36 [==============================] - 0s 2ms/step - loss: 5.3376 - mae: 1.6476 - mse: 5.3376 - val_loss: 12.6874 - val_mae: 2.4660 - val_mse: 12.6874\n"
     ]
    },
    {
     "name": "stdout",
     "output_type": "stream",
     "text": [
      "Epoch 84/100\n",
      "\r",
      " 1/36 [..............................] - ETA: 0s - loss: 2.2913 - mae: 1.3012 - mse: 2.2913"
     ]
    },
    {
     "name": "stdout",
     "output_type": "stream",
     "text": [
      "\b\b\b\b\b\b\b\b\b\b\b\b\b\b\b\b\b\b\b\b\b\b\b\b\b\b\b\b\b\b\b\b\b\b\b\b\b\b\b\b\b\b\b\b\b\b\b\b\b\b\b\b\b\b\b\b\b\b\b\b\b\b\b\b\b\b\b\b\b\b\b\b\b\b\b\b\b\b\b\b\b\b\b\b\b\b\b\b\b\b\b\r",
      "36/36 [==============================] - 0s 2ms/step - loss: 5.2812 - mae: 1.6430 - mse: 5.2812 - val_loss: 12.7600 - val_mae: 2.3858 - val_mse: 12.7600\n"
     ]
    },
    {
     "name": "stdout",
     "output_type": "stream",
     "text": [
      "Epoch 85/100\n",
      "\r",
      " 1/36 [..............................] - ETA: 0s - loss: 2.2834 - mae: 1.2217 - mse: 2.2834"
     ]
    },
    {
     "name": "stdout",
     "output_type": "stream",
     "text": [
      "\b\b\b\b\b\b\b\b\b\b\b\b\b\b\b\b\b\b\b\b\b\b\b\b\b\b\b\b\b\b\b\b\b\b\b\b\b\b\b\b\b\b\b\b\b\b\b\b\b\b\b\b\b\b\b\b\b\b\b\b\b\b\b\b\b\b\b\b\b\b\b\b\b\b\b\b\b\b\b\b\b\b\b\b\b\b\b\b\b\b\b\r",
      "36/36 [==============================] - 0s 2ms/step - loss: 5.4888 - mae: 1.6856 - mse: 5.4888 - val_loss: 12.6539 - val_mae: 2.3476 - val_mse: 12.6539\n"
     ]
    },
    {
     "name": "stdout",
     "output_type": "stream",
     "text": [
      "Epoch 86/100\n",
      "\r",
      " 1/36 [..............................] - ETA: 0s - loss: 5.8355 - mae: 2.0482 - mse: 5.8355"
     ]
    },
    {
     "name": "stdout",
     "output_type": "stream",
     "text": [
      "\b\b\b\b\b\b\b\b\b\b\b\b\b\b\b\b\b\b\b\b\b\b\b\b\b\b\b\b\b\b\b\b\b\b\b\b\b\b\b\b\b\b\b\b\b\b\b\b\b\b\b\b\b\b\b\b\b\b\b\b\b\b\b\b\b\b\b\b\b\b\b\b\b\b\b\b\b\b\b\b\b\b\b\b\b\b\b\b\b\b\b\r",
      "36/36 [==============================] - 0s 2ms/step - loss: 5.2497 - mae: 1.6176 - mse: 5.2497 - val_loss: 11.6699 - val_mae: 2.2357 - val_mse: 11.6699\n"
     ]
    },
    {
     "name": "stdout",
     "output_type": "stream",
     "text": [
      "Epoch 87/100\n",
      "\r",
      " 1/36 [..............................] - ETA: 0s - loss: 6.1751 - mae: 2.0722 - mse: 6.1751"
     ]
    },
    {
     "name": "stdout",
     "output_type": "stream",
     "text": [
      "\b\b\b\b\b\b\b\b\b\b\b\b\b\b\b\b\b\b\b\b\b\b\b\b\b\b\b\b\b\b\b\b\b\b\b\b\b\b\b\b\b\b\b\b\b\b\b\b\b\b\b\b\b\b\b\b\b\b\b\b\b\b\b\b\b\b\b\b\b\b\b\b\b\b\b\b\b\b\b\b\b\b\b\b\b\b\b\b\b\b\b\r",
      "36/36 [==============================] - 0s 2ms/step - loss: 5.1398 - mae: 1.6054 - mse: 5.1398 - val_loss: 12.0369 - val_mae: 2.3929 - val_mse: 12.0369\n"
     ]
    },
    {
     "name": "stdout",
     "output_type": "stream",
     "text": [
      "Epoch 88/100\n",
      "\r",
      " 1/36 [..............................] - ETA: 0s - loss: 4.0589 - mae: 1.5536 - mse: 4.0589"
     ]
    },
    {
     "name": "stdout",
     "output_type": "stream",
     "text": [
      "\b\b\b\b\b\b\b\b\b\b\b\b\b\b\b\b\b\b\b\b\b\b\b\b\b\b\b\b\b\b\b\b\b\b\b\b\b\b\b\b\b\b\b\b\b\b\b\b\b\b\b\b\b\b\b\b\b\b\b\b\b\b\b\b\b\b\b\b\b\b\b\b\b\b\b\b\b\b\b\b\b\b\b\b\b\b\b\b\b\b\b\r",
      "36/36 [==============================] - 0s 2ms/step - loss: 5.1168 - mae: 1.5843 - mse: 5.1168 - val_loss: 11.5852 - val_mae: 2.2270 - val_mse: 11.5852\n"
     ]
    },
    {
     "name": "stdout",
     "output_type": "stream",
     "text": [
      "Epoch 89/100\n",
      "\r",
      " 1/36 [..............................] - ETA: 0s - loss: 4.2984 - mae: 1.7413 - mse: 4.2984"
     ]
    },
    {
     "name": "stdout",
     "output_type": "stream",
     "text": [
      "\b\b\b\b\b\b\b\b\b\b\b\b\b\b\b\b\b\b\b\b\b\b\b\b\b\b\b\b\b\b\b\b\b\b\b\b\b\b\b\b\b\b\b\b\b\b\b\b\b\b\b\b\b\b\b\b\b\b\b\b\b\b\b\b\b\b\b\b\b\b\b\b\b\b\b\b\b\b\b\b\b\b\b\b\b\b\b\b\b\b\b\r",
      "36/36 [==============================] - 0s 2ms/step - loss: 4.9015 - mae: 1.6137 - mse: 4.9015 - val_loss: 12.1187 - val_mae: 2.4366 - val_mse: 12.1187\n"
     ]
    },
    {
     "name": "stdout",
     "output_type": "stream",
     "text": [
      "Epoch 90/100\n",
      "\r",
      " 1/36 [..............................] - ETA: 0s - loss: 12.7976 - mae: 1.9028 - mse: 12.7976"
     ]
    },
    {
     "name": "stdout",
     "output_type": "stream",
     "text": [
      "\b\b\b\b\b\b\b\b\b\b\b\b\b\b\b\b\b\b\b\b\b\b\b\b\b\b\b\b\b\b\b\b\b\b\b\b\b\b\b\b\b\b\b\b\b\b\b\b\b\b\b\b\b\b\b\b\b\b\b\b\b\b\b\b\b\b\b\b\b\b\b\b\b\b\b\b\b\b\b\b\b\b\b\b\b\b\b\b\b\b\b\b\b\r",
      "36/36 [==============================] - 0s 2ms/step - loss: 4.8665 - mae: 1.5606 - mse: 4.8665 - val_loss: 15.2519 - val_mae: 2.6009 - val_mse: 15.2519\n"
     ]
    },
    {
     "name": "stdout",
     "output_type": "stream",
     "text": [
      "Epoch 91/100\n",
      "\r",
      " 1/36 [..............................] - ETA: 0s - loss: 6.6535 - mae: 2.0568 - mse: 6.6535"
     ]
    },
    {
     "name": "stdout",
     "output_type": "stream",
     "text": [
      "\b\b\b\b\b\b\b\b\b\b\b\b\b\b\b\b\b\b\b\b\b\b\b\b\b\b\b\b\b\b\b\b\b\b\b\b\b\b\b\b\b\b\b\b\b\b\b\b\b\b\b\b\b\b\b\b\b\b\b\b\b\b\b\b\b\b\b\b\b\b\b\b\b\b\b\b\b\b\b\b\b\b\b\b\b\b\b\b\b\b\b\r",
      "36/36 [==============================] - 0s 2ms/step - loss: 5.1705 - mae: 1.6286 - mse: 5.1705 - val_loss: 13.2850 - val_mae: 2.3707 - val_mse: 13.2850\n"
     ]
    },
    {
     "name": "stdout",
     "output_type": "stream",
     "text": [
      "Epoch 92/100\n",
      "\r",
      " 1/36 [..............................] - ETA: 0s - loss: 1.5029 - mae: 1.0787 - mse: 1.5029"
     ]
    },
    {
     "name": "stdout",
     "output_type": "stream",
     "text": [
      "\b\b\b\b\b\b\b\b\b\b\b\b\b\b\b\b\b\b\b\b\b\b\b\b\b\b\b\b\b\b\b\b\b\b\b\b\b\b\b\b\b\b\b\b\b\b\b\b\b\b\b\b\b\b\b\b\b\b\b\b\b\b\b\b\b\b\b\b\b\b\b\b\b\b\b\b\b\b\b\b\b\b\b\b\b\b\b\b\b\b\b\r",
      "36/36 [==============================] - 0s 2ms/step - loss: 5.1187 - mae: 1.5887 - mse: 5.1187 - val_loss: 11.8848 - val_mae: 2.2974 - val_mse: 11.8848\n"
     ]
    },
    {
     "name": "stdout",
     "output_type": "stream",
     "text": [
      "Epoch 93/100\n",
      "\r",
      " 1/36 [..............................] - ETA: 0s - loss: 6.4396 - mae: 1.8832 - mse: 6.4396"
     ]
    },
    {
     "name": "stdout",
     "output_type": "stream",
     "text": [
      "\b\b\b\b\b\b\b\b\b\b\b\b\b\b\b\b\b\b\b\b\b\b\b\b\b\b\b\b\b\b\b\b\b\b\b\b\b\b\b\b\b\b\b\b\b\b\b\b\b\b\b\b\b\b\b\b\b\b\b\b\b\b\b\b\b\b\b\b\b\b\b\b\b\b\b\b\b\b\b\b\b\b\b\b\b\b\b\b\b\b\b\r",
      "36/36 [==============================] - 0s 2ms/step - loss: 4.7854 - mae: 1.5438 - mse: 4.7854 - val_loss: 12.8263 - val_mae: 2.3866 - val_mse: 12.8263\n"
     ]
    },
    {
     "name": "stdout",
     "output_type": "stream",
     "text": [
      "Epoch 94/100\n",
      "\r",
      " 1/36 [..............................] - ETA: 0s - loss: 2.8374 - mae: 1.2201 - mse: 2.8374"
     ]
    },
    {
     "name": "stdout",
     "output_type": "stream",
     "text": [
      "\b\b\b\b\b\b\b\b\b\b\b\b\b\b\b\b\b\b\b\b\b\b\b\b\b\b\b\b\b\b\b\b\b\b\b\b\b\b\b\b\b\b\b\b\b\b\b\b\b\b\b\b\b\b\b\b\b\b\b\b\b\b\b\b\b\b\b\b\b\b\b\b\b\b\b\b\b\b\b\b\b\b\b\b\b\b\b\b\b\b\b\r",
      "36/36 [==============================] - 0s 2ms/step - loss: 4.6870 - mae: 1.5416 - mse: 4.6870 - val_loss: 13.2347 - val_mae: 2.5382 - val_mse: 13.2347\n"
     ]
    },
    {
     "name": "stdout",
     "output_type": "stream",
     "text": [
      "Epoch 95/100\n",
      "\r",
      " 1/36 [..............................] - ETA: 0s - loss: 9.4396 - mae: 2.5367 - mse: 9.4396"
     ]
    },
    {
     "name": "stdout",
     "output_type": "stream",
     "text": [
      "\b\b\b\b\b\b\b\b\b\b\b\b\b\b\b\b\b\b\b\b\b\b\b\b\b\b\b\b\b\b\b\b\b\b\b\b\b\b\b\b\b\b\b\b\b\b\b\b\b\b\b\b\b\b\b\b\b\b\b\b\b\b\b\b\b\b\b\b\b\b\b\b\b\b\b\b\b\b\b\b\b\b\b\b\b\b\b\b\b\b\b\r",
      "36/36 [==============================] - 0s 2ms/step - loss: 4.9903 - mae: 1.5629 - mse: 4.9903 - val_loss: 11.7711 - val_mae: 2.2457 - val_mse: 11.7711\n"
     ]
    },
    {
     "name": "stdout",
     "output_type": "stream",
     "text": [
      "Epoch 96/100\n",
      "\r",
      " 1/36 [..............................] - ETA: 0s - loss: 2.1902 - mae: 1.0458 - mse: 2.1902"
     ]
    },
    {
     "name": "stdout",
     "output_type": "stream",
     "text": [
      "\b\b\b\b\b\b\b\b\b\b\b\b\b\b\b\b\b\b\b\b\b\b\b\b\b\b\b\b\b\b\b\b\b\b\b\b\b\b\b\b\b\b\b\b\b\b\b\b\b\b\b\b\b\b\b\b\b\b\b\b\b\b\b\b\b\b\b\b\b\b\b\b\b\b\b\b\b\b\b\b\b\b\b\b\b\b\b\b\b\b\b\r",
      "36/36 [==============================] - 0s 2ms/step - loss: 4.6655 - mae: 1.5398 - mse: 4.6655 - val_loss: 12.3467 - val_mae: 2.3698 - val_mse: 12.3467\n"
     ]
    },
    {
     "name": "stdout",
     "output_type": "stream",
     "text": [
      "Epoch 97/100\n",
      "\r",
      " 1/36 [..............................] - ETA: 0s - loss: 6.0663 - mae: 1.8891 - mse: 6.0663"
     ]
    },
    {
     "name": "stdout",
     "output_type": "stream",
     "text": [
      "\b\b\b\b\b\b\b\b\b\b\b\b\b\b\b\b\b\b\b\b\b\b\b\b\b\b\b\b\b\b\b\b\b\b\b\b\b\b\b\b\b\b\b\b\b\b\b\b\b\b\b\b\b\b\b\b\b\b\b\b\b\b\b\b\b\b\b\b\b\b\b\b\b\b\b\b\b\b\b\b\b\b\b\b\b\b\b\b\b\b\b\r",
      "36/36 [==============================] - 0s 2ms/step - loss: 4.6368 - mae: 1.5071 - mse: 4.6368 - val_loss: 11.6750 - val_mae: 2.2501 - val_mse: 11.6750\n"
     ]
    },
    {
     "name": "stdout",
     "output_type": "stream",
     "text": [
      "Epoch 98/100\n",
      "\r",
      " 1/36 [..............................] - ETA: 0s - loss: 3.7548 - mae: 1.4248 - mse: 3.7548"
     ]
    },
    {
     "name": "stdout",
     "output_type": "stream",
     "text": [
      "\b\b\b\b\b\b\b\b\b\b\b\b\b\b\b\b\b\b\b\b\b\b\b\b\b\b\b\b\b\b\b\b\b\b\b\b\b\b\b\b\b\b\b\b\b\b\b\b\b\b\b\b\b\b\b\b\b\b\b\b\b\b\b\b\b\b\b\b\b\b\b\b\b\b\b\b\b\b\b\b\b\b\b\b\b\b\b\b\b\b\b\r",
      "36/36 [==============================] - 0s 2ms/step - loss: 4.6304 - mae: 1.5311 - mse: 4.6304 - val_loss: 11.7970 - val_mae: 2.3192 - val_mse: 11.7970\n"
     ]
    },
    {
     "name": "stdout",
     "output_type": "stream",
     "text": [
      "Epoch 99/100\n",
      "\r",
      " 1/36 [..............................] - ETA: 0s - loss: 2.5398 - mae: 1.3573 - mse: 2.5398"
     ]
    },
    {
     "name": "stdout",
     "output_type": "stream",
     "text": [
      "\b\b\b\b\b\b\b\b\b\b\b\b\b\b\b\b\b\b\b\b\b\b\b\b\b\b\b\b\b\b\b\b\b\b\b\b\b\b\b\b\b\b\b\b\b\b\b\b\b\b\b\b\b\b\b\b\b\b\b\b\b\b\b\b\b\b\b\b\b\b\b\b\b\b\b\b\b\b\b\b\b\b\b\b\b\b\b\b\b\b\b\r",
      "36/36 [==============================] - 0s 2ms/step - loss: 4.5894 - mae: 1.5283 - mse: 4.5894 - val_loss: 11.2752 - val_mae: 2.2551 - val_mse: 11.2752\n"
     ]
    },
    {
     "name": "stdout",
     "output_type": "stream",
     "text": [
      "Epoch 100/100\n",
      "\r",
      " 1/36 [..............................] - ETA: 0s - loss: 4.4567 - mae: 1.9337 - mse: 4.4567"
     ]
    },
    {
     "name": "stdout",
     "output_type": "stream",
     "text": [
      "\b\b\b\b\b\b\b\b\b\b\b\b\b\b\b\b\b\b\b\b\b\b\b\b\b\b\b\b\b\b\b\b\b\b\b\b\b\b\b\b\b\b\b\b\b\b\b\b\b\b\b\b\b\b\b\b\b\b\b\b\b\b\b\b\b\b\b\b\b\b\b\b\b\b\b\b\b\b\b\b\b\b\b\b\b\b\b\b\b\b\b\r",
      "36/36 [==============================] - 0s 2ms/step - loss: 4.5993 - mae: 1.5317 - mse: 4.5993 - val_loss: 11.7914 - val_mae: 2.2495 - val_mse: 11.7914\n"
     ]
    }
   ],
   "source": [
    "history = model.fit(x_train,\n",
    "                    y_train,\n",
    "                    epochs          = 100,\n",
    "                    batch_size      = 10,\n",
    "                    verbose         = 1,\n",
    "                    validation_data = (x_test, y_test),\n",
    "                    callbacks       = [savemodel_callback])"
   ]
  },
  {
   "cell_type": "markdown",
   "metadata": {},
   "source": [
    "## Step 6 - Evaluate\n",
    "### 6.1 - Model evaluation\n",
    "MAE =  Mean Absolute Error (between the labels and predictions)  \n",
    "A mae equal to 3 represents an average error in prediction of $3k."
   ]
  },
  {
   "cell_type": "code",
   "execution_count": 10,
   "metadata": {
    "execution": {
     "iopub.execute_input": "2021-01-26T10:05:56.594618Z",
     "iopub.status.busy": "2021-01-26T10:05:56.594257Z",
     "iopub.status.idle": "2021-01-26T10:05:56.618379Z",
     "shell.execute_reply": "2021-01-26T10:05:56.618630Z"
    }
   },
   "outputs": [
    {
     "name": "stdout",
     "output_type": "stream",
     "text": [
      "x_test / loss      : 11.7914\n",
      "x_test / mae       : 2.2495\n",
      "x_test / mse       : 11.7914\n"
     ]
    }
   ],
   "source": [
    "score = model.evaluate(x_test, y_test, verbose=0)\n",
    "\n",
    "print('x_test / loss      : {:5.4f}'.format(score[0]))\n",
    "print('x_test / mae       : {:5.4f}'.format(score[1]))\n",
    "print('x_test / mse       : {:5.4f}'.format(score[2]))"
   ]
  },
  {
   "cell_type": "markdown",
   "metadata": {},
   "source": [
    "### 6.2 - Training history\n",
    "What was the best result during our training ?"
   ]
  },
  {
   "cell_type": "code",
   "execution_count": 11,
   "metadata": {
    "execution": {
     "iopub.execute_input": "2021-01-26T10:05:56.621555Z",
     "iopub.status.busy": "2021-01-26T10:05:56.621133Z",
     "iopub.status.idle": "2021-01-26T10:05:56.623569Z",
     "shell.execute_reply": "2021-01-26T10:05:56.623837Z"
    }
   },
   "outputs": [
    {
     "name": "stdout",
     "output_type": "stream",
     "text": [
      "min( val_mae ) : 2.2270\n"
     ]
    }
   ],
   "source": [
    "print(\"min( val_mae ) : {:.4f}\".format( min(history.history[\"val_mae\"]) ) )"
   ]
  },
  {
   "cell_type": "code",
   "execution_count": 12,
   "metadata": {
    "execution": {
     "iopub.execute_input": "2021-01-26T10:05:56.635433Z",
     "iopub.status.busy": "2021-01-26T10:05:56.632775Z",
     "iopub.status.idle": "2021-01-26T10:05:57.639103Z",
     "shell.execute_reply": "2021-01-26T10:05:57.638824Z"
    }
   },
   "outputs": [
    {
     "data": {
      "text/html": [
       "<div class=\"comment\">Saved: ./run/figs/BHPD2-01-history_0</div>"
      ],
      "text/plain": [
       "<IPython.core.display.HTML object>"
      ]
     },
     "metadata": {},
     "output_type": "display_data"
    },
    {
     "data": {
      "image/png": "[encoded data removed]",
      "text/plain": [
       "<Figure size 576x432 with 1 Axes>"
      ]
     },
     "metadata": {
      "needs_background": "light"
     },
     "output_type": "display_data"
    },
    {
     "data": {
      "text/html": [
       "<div class=\"comment\">Saved: ./run/figs/BHPD2-01-history_1</div>"
      ],
      "text/plain": [
       "<IPython.core.display.HTML object>"
      ]
     },
     "metadata": {},
     "output_type": "display_data"
    },
    {
     "data": {
      "image/png": "[encoded data removed]",
      "text/plain": [
       "<Figure size 576x432 with 1 Axes>"
      ]
     },
     "metadata": {
      "needs_background": "light"
     },
     "output_type": "display_data"
    },
    {
     "data": {
      "text/html": [
       "<div class=\"comment\">Saved: ./run/figs/BHPD2-01-history_2</div>"
      ],
      "text/plain": [
       "<IPython.core.display.HTML object>"
      ]
     },
     "metadata": {},
     "output_type": "display_data"
    },
    {
     "data": {
      "image/png": "[encoded data removed]",
      "text/plain": [
       "<Figure size 576x432 with 1 Axes>"
      ]
     },
     "metadata": {
      "needs_background": "light"
     },
     "output_type": "display_data"
    }
   ],
   "source": [
    "pwk.plot_history(history, plot={'MSE' :['mse', 'val_mse'],\n",
    "                                'MAE' :['mae', 'val_mae'],\n",
    "                                'LOSS':['loss','val_loss']}, save_as='01-history')"
   ]
  },
  {
   "cell_type": "markdown",
   "metadata": {},
   "source": [
    "## Step 7 - Restore a model :"
   ]
  },
  {
   "cell_type": "markdown",
   "metadata": {},
   "source": [
    "### 7.1 - Reload model"
   ]
  },
  {
   "cell_type": "code",
   "execution_count": 13,
   "metadata": {
    "execution": {
     "iopub.execute_input": "2021-01-26T10:05:57.645194Z",
     "iopub.status.busy": "2021-01-26T10:05:57.644876Z",
     "iopub.status.idle": "2021-01-26T10:05:57.677424Z",
     "shell.execute_reply": "2021-01-26T10:05:57.677746Z"
    }
   },
   "outputs": [
    {
     "name": "stdout",
     "output_type": "stream",
     "text": [
      "Model: \"sequential\"\n",
      "_________________________________________________________________\n",
      "Layer (type)                 Output Shape              Param #   \n",
      "=================================================================\n",
      "Dense_n1 (Dense)             (None, 64)                896       \n",
      "_________________________________________________________________\n",
      "Dense_n2 (Dense)             (None, 64)                4160      \n",
      "_________________________________________________________________\n",
      "Output (Dense)               (None, 1)                 65        \n",
      "=================================================================\n",
      "Total params: 5,121\n",
      "Trainable params: 5,121\n",
      "Non-trainable params: 0\n",
      "_________________________________________________________________\n",
      "Loaded.\n"
     ]
    }
   ],
   "source": [
    "loaded_model = tf.keras.models.load_model('./run/models/best_model.h5')\n",
    "loaded_model.summary()\n",
    "print(\"Loaded.\")"
   ]
  },
  {
   "cell_type": "markdown",
   "metadata": {},
   "source": [
    "### 7.2 - Evaluate it :"
   ]
  },
  {
   "cell_type": "code",
   "execution_count": 14,
   "metadata": {
    "execution": {
     "iopub.execute_input": "2021-01-26T10:05:57.681523Z",
     "iopub.status.busy": "2021-01-26T10:05:57.680777Z",
     "iopub.status.idle": "2021-01-26T10:05:57.796729Z",
     "shell.execute_reply": "2021-01-26T10:05:57.796363Z"
    }
   },
   "outputs": [
    {
     "name": "stdout",
     "output_type": "stream",
     "text": [
      "x_test / loss      : 11.2752\n",
      "x_test / mae       : 2.2551\n",
      "x_test / mse       : 11.2752\n"
     ]
    }
   ],
   "source": [
    "score = loaded_model.evaluate(x_test, y_test, verbose=0)\n",
    "\n",
    "print('x_test / loss      : {:5.4f}'.format(score[0]))\n",
    "print('x_test / mae       : {:5.4f}'.format(score[1]))\n",
    "print('x_test / mse       : {:5.4f}'.format(score[2]))"
   ]
  },
  {
   "cell_type": "markdown",
   "metadata": {},
   "source": [
    "### 7.3 - Make a prediction"
   ]
  },
  {
   "cell_type": "code",
   "execution_count": 15,
   "metadata": {
    "execution": {
     "iopub.execute_input": "2021-01-26T10:05:57.800848Z",
     "iopub.status.busy": "2021-01-26T10:05:57.800397Z",
     "iopub.status.idle": "2021-01-26T10:05:57.803014Z",
     "shell.execute_reply": "2021-01-26T10:05:57.802635Z"
    }
   },
   "outputs": [],
   "source": [
    "my_data = [ 1.26425925, -0.48522739,  1.0436489 , -0.23112788,  1.37120745,\n",
    "       -2.14308942,  1.13489104, -1.06802005,  1.71189006,  1.57042287,\n",
    "        0.77859951,  0.14769795,  2.7585581 ]\n",
    "real_price = 10.4\n",
    "\n",
    "my_data=np.array(my_data).reshape(1,13)"
   ]
  },
  {
   "cell_type": "code",
   "execution_count": 16,
   "metadata": {
    "execution": {
     "iopub.execute_input": "2021-01-26T10:05:57.806375Z",
     "iopub.status.busy": "2021-01-26T10:05:57.806034Z",
     "iopub.status.idle": "2021-01-26T10:05:57.884911Z",
     "shell.execute_reply": "2021-01-26T10:05:57.885235Z"
    }
   },
   "outputs": [
    {
     "name": "stdout",
     "output_type": "stream",
     "text": [
      "Prediction : 11.86 K$   Reality : 10.40 K$\n"
     ]
    }
   ],
   "source": [
    "predictions = loaded_model.predict( my_data )\n",
    "print(\"Prediction : {:.2f} K$   Reality : {:.2f} K$\".format(predictions[0][0], real_price))"
   ]
  },
  {
   "cell_type": "code",
   "execution_count": 17,
   "metadata": {
    "execution": {
     "iopub.execute_input": "2021-01-26T10:05:57.887920Z",
     "iopub.status.busy": "2021-01-26T10:05:57.887530Z",
     "iopub.status.idle": "2021-01-26T10:05:57.891218Z",
     "shell.execute_reply": "2021-01-26T10:05:57.890807Z"
    }
   },
   "outputs": [
    {
     "name": "stdout",
     "output_type": "stream",
     "text": [
      "End time is : Tuesday 26 January 2021, 11:05:57\n",
      "Duration is : 00:00:10 715ms\n",
      "This notebook ends here\n"
     ]
    }
   ],
   "source": [
    "pwk.end()"
   ]
  },
  {
   "cell_type": "markdown",
   "metadata": {},
   "source": [
    "---\n",
    "<img width=\"80px\" src=\"../fidle/img/00-Fidle-logo-01.svg\"></img>"
   ]
  }
 ],
 "metadata": {
  "kernelspec": {
   "display_name": "Python 3",
   "language": "python",
   "name": "python3"
  },
  "language_info": {
   "codemirror_mode": {
    "name": "ipython",
    "version": 3
   },
   "file_extension": ".py",
   "mimetype": "text/x-python",
   "name": "python",
   "nbconvert_exporter": "python",
   "pygments_lexer": "ipython3",
   "version": "3.8.5"
  }
 },
 "nbformat": 4,
 "nbformat_minor": 4
}
