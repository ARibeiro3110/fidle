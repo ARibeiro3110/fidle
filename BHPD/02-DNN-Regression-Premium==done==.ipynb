{
 "cells": [
  {
   "cell_type": "markdown",
   "metadata": {},
   "source": [
    "<img width=\"800px\" src=\"../fidle/img/00-Fidle-header-01.svg\"></img>\n",
    "\n",
    "# <!-- TITLE --> [BHPD2] - Regression with a Dense Network (DNN) - Advanced code\n",
    "  <!-- DESC -->  A more advanced implementation of the precedent example\n",
    "  <!-- AUTHOR : Jean-Luc Parouty (CNRS/SIMaP) -->\n",
    "\n",
    "## Objectives :\n",
    " - Predicts **housing prices** from a set of house features. \n",
    " - Understanding the principle and the architecture of a regression with a dense neural network with backup and restore of the trained model. \n",
    "\n",
    "The **[Boston Housing Prices Dataset](https://www.cs.toronto.edu/~delve/data/boston/bostonDetail.html)** consists of price of houses in various places in Boston.  \n",
    "Alongside with price, the dataset also provide these information :\n",
    "\n",
    " - CRIM: This is the per capita crime rate by town\n",
    " - ZN: This is the proportion of residential land zoned for lots larger than 25,000 sq.ft\n",
    " - INDUS: This is the proportion of non-retail business acres per town\n",
    " - CHAS: This is the Charles River dummy variable (this is equal to 1 if tract bounds river; 0 otherwise)\n",
    " - NOX: This is the nitric oxides concentration (parts per 10 million)\n",
    " - RM: This is the average number of rooms per dwelling\n",
    " - AGE: This is the proportion of owner-occupied units built prior to 1940\n",
    " - DIS: This is the weighted distances to five Boston employment centers\n",
    " - RAD: This is the index of accessibility to radial highways\n",
    " - TAX: This is the full-value property-tax rate per 10,000 dollars\n",
    " - PTRATIO: This is the pupil-teacher ratio by town\n",
    " - B: This is calculated as 1000(Bk — 0.63)^2, where Bk is the proportion of people of African American descent by town\n",
    " - LSTAT: This is the percentage lower status of the population\n",
    " - MEDV: This is the median value of owner-occupied homes in 1000 dollars\n",
    "\n",
    "## What we're going to do :\n",
    "\n",
    " - (Retrieve data)\n",
    " - (Preparing the data)\n",
    " - (Build a model)\n",
    " - Train and save the model\n",
    " - Restore saved model\n",
    " - Evaluate the model\n",
    " - Make some predictions\n"
   ]
  },
  {
   "cell_type": "markdown",
   "metadata": {},
   "source": [
    "## Step 1 - Import and init"
   ]
  },
  {
   "cell_type": "code",
   "execution_count": 1,
   "metadata": {
    "execution": {
     "iopub.execute_input": "2021-01-14T07:11:29.428040Z",
     "iopub.status.busy": "2021-01-14T07:11:29.427715Z",
     "iopub.status.idle": "2021-01-14T07:11:30.750524Z",
     "shell.execute_reply": "2021-01-14T07:11:30.750181Z"
    }
   },
   "outputs": [
    {
     "data": {
      "text/html": [
       "<style>\n",
       "\n",
       "div.warn {    \n",
       "    background-color: #fcf2f2;\n",
       "    border-color: #dFb5b4;\n",
       "    border-left: 5px solid #dfb5b4;\n",
       "    padding: 0.5em;\n",
       "    font-weight: bold;\n",
       "    font-size: 1.1em;;\n",
       "    }\n",
       "\n",
       "\n",
       "\n",
       "div.nota {    \n",
       "    background-color: #DAFFDE;\n",
       "    border-left: 5px solid #92CC99;\n",
       "    padding: 0.5em;\n",
       "    }\n",
       "\n",
       "div.todo:before { content:url(data:image/svg+xml;base64,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);\n",
       "    float:left;\n",
       "    margin-right:20px;\n",
       "    margin-top:-20px;\n",
       "    margin-bottom:20px;\n",
       "}\n",
       "div.todo{\n",
       "    font-weight: bold;\n",
       "    font-size: 1.1em;\n",
       "    margin-top:40px;\n",
       "}\n",
       "div.todo ul{\n",
       "    margin: 0.2em;\n",
       "}\n",
       "div.todo li{\n",
       "    margin-left:60px;\n",
       "    margin-top:0;\n",
       "    margin-bottom:0;\n",
       "}\n",
       "\n",
       "div .comment{\n",
       "    font-size:0.8em;\n",
       "    color:#696969;\n",
       "}\n",
       "\n",
       "\n",
       "\n",
       "</style>\n",
       "\n"
      ],
      "text/plain": [
       "<IPython.core.display.HTML object>"
      ]
     },
     "metadata": {},
     "output_type": "display_data"
    },
    {
     "data": {
      "text/markdown": [
       "<br>**FIDLE 2020 - Practical Work Module**"
      ],
      "text/plain": [
       "<IPython.core.display.Markdown object>"
      ]
     },
     "metadata": {},
     "output_type": "display_data"
    },
    {
     "name": "stdout",
     "output_type": "stream",
     "text": [
      "Version              : 2.0\n",
      "Notebook id          : BHPD2\n",
      "Run time             : Thursday 14 January 2021, 08:11:30\n",
      "TensorFlow version   : 2.2.0\n",
      "Keras version        : 2.3.0-tf\n",
      "Datasets dir         : /home/pjluc/datasets/fidle\n",
      "Run dir              : ./run\n",
      "Update keras cache   : False\n",
      "Save figs            : True\n",
      "Path figs            : ./run/figs\n"
     ]
    }
   ],
   "source": [
    "import tensorflow as tf\n",
    "from tensorflow import keras\n",
    "\n",
    "import numpy as np\n",
    "import matplotlib.pyplot as plt\n",
    "import pandas as pd\n",
    "import os,sys\n",
    "\n",
    "from IPython.display import Markdown\n",
    "from importlib import reload\n",
    "\n",
    "sys.path.append('..')\n",
    "import fidle.pwk as pwk\n",
    "\n",
    "datasets_dir = pwk.init('BHPD2')"
   ]
  },
  {
   "cell_type": "markdown",
   "metadata": {},
   "source": [
    "## Step 2 - Retrieve data\n",
    "\n",
    "### 2.1 - Option 1  : From Keras\n",
    "Boston housing is a famous historic dataset, so we can get it directly from [Keras datasets](https://www.tensorflow.org/api_docs/python/tf/keras/datasets)  "
   ]
  },
  {
   "cell_type": "code",
   "execution_count": 2,
   "metadata": {
    "execution": {
     "iopub.execute_input": "2021-01-14T07:11:30.753185Z",
     "iopub.status.busy": "2021-01-14T07:11:30.752868Z",
     "iopub.status.idle": "2021-01-14T07:11:30.755046Z",
     "shell.execute_reply": "2021-01-14T07:11:30.754768Z"
    }
   },
   "outputs": [],
   "source": [
    "# (x_train, y_train), (x_test, y_test) = keras.datasets.boston_housing.load_data(test_split=0.2, seed=113)"
   ]
  },
  {
   "cell_type": "markdown",
   "metadata": {},
   "source": [
    "### 2.2 - Option 2 : From a csv file\n",
    "More fun !"
   ]
  },
  {
   "cell_type": "code",
   "execution_count": 3,
   "metadata": {
    "execution": {
     "iopub.execute_input": "2021-01-14T07:11:30.758214Z",
     "iopub.status.busy": "2021-01-14T07:11:30.757894Z",
     "iopub.status.idle": "2021-01-14T07:11:30.790895Z",
     "shell.execute_reply": "2021-01-14T07:11:30.791236Z"
    }
   },
   "outputs": [
    {
     "data": {
      "text/html": [
       "<style  type=\"text/css\" >\n",
       "</style><table id=\"T_ee48b_\" ><thead>    <tr>        <th class=\"blank level0\" ></th>        <th class=\"col_heading level0 col0\" >crim</th>        <th class=\"col_heading level0 col1\" >zn</th>        <th class=\"col_heading level0 col2\" >indus</th>        <th class=\"col_heading level0 col3\" >chas</th>        <th class=\"col_heading level0 col4\" >nox</th>        <th class=\"col_heading level0 col5\" >rm</th>        <th class=\"col_heading level0 col6\" >age</th>        <th class=\"col_heading level0 col7\" >dis</th>        <th class=\"col_heading level0 col8\" >rad</th>        <th class=\"col_heading level0 col9\" >tax</th>        <th class=\"col_heading level0 col10\" >ptratio</th>        <th class=\"col_heading level0 col11\" >b</th>        <th class=\"col_heading level0 col12\" >lstat</th>        <th class=\"col_heading level0 col13\" >medv</th>    </tr></thead><tbody>\n",
       "                <tr>\n",
       "                        <th id=\"T_ee48b_level0_row0\" class=\"row_heading level0 row0\" >0</th>\n",
       "                        <td id=\"T_ee48b_row0_col0\" class=\"data row0 col0\" >0.01</td>\n",
       "                        <td id=\"T_ee48b_row0_col1\" class=\"data row0 col1\" >18.00</td>\n",
       "                        <td id=\"T_ee48b_row0_col2\" class=\"data row0 col2\" >2.31</td>\n",
       "                        <td id=\"T_ee48b_row0_col3\" class=\"data row0 col3\" >0.00</td>\n",
       "                        <td id=\"T_ee48b_row0_col4\" class=\"data row0 col4\" >0.54</td>\n",
       "                        <td id=\"T_ee48b_row0_col5\" class=\"data row0 col5\" >6.58</td>\n",
       "                        <td id=\"T_ee48b_row0_col6\" class=\"data row0 col6\" >65.20</td>\n",
       "                        <td id=\"T_ee48b_row0_col7\" class=\"data row0 col7\" >4.09</td>\n",
       "                        <td id=\"T_ee48b_row0_col8\" class=\"data row0 col8\" >1.00</td>\n",
       "                        <td id=\"T_ee48b_row0_col9\" class=\"data row0 col9\" >296.00</td>\n",
       "                        <td id=\"T_ee48b_row0_col10\" class=\"data row0 col10\" >15.30</td>\n",
       "                        <td id=\"T_ee48b_row0_col11\" class=\"data row0 col11\" >396.90</td>\n",
       "                        <td id=\"T_ee48b_row0_col12\" class=\"data row0 col12\" >4.98</td>\n",
       "                        <td id=\"T_ee48b_row0_col13\" class=\"data row0 col13\" >24.00</td>\n",
       "            </tr>\n",
       "            <tr>\n",
       "                        <th id=\"T_ee48b_level0_row1\" class=\"row_heading level0 row1\" >1</th>\n",
       "                        <td id=\"T_ee48b_row1_col0\" class=\"data row1 col0\" >0.03</td>\n",
       "                        <td id=\"T_ee48b_row1_col1\" class=\"data row1 col1\" >0.00</td>\n",
       "                        <td id=\"T_ee48b_row1_col2\" class=\"data row1 col2\" >7.07</td>\n",
       "                        <td id=\"T_ee48b_row1_col3\" class=\"data row1 col3\" >0.00</td>\n",
       "                        <td id=\"T_ee48b_row1_col4\" class=\"data row1 col4\" >0.47</td>\n",
       "                        <td id=\"T_ee48b_row1_col5\" class=\"data row1 col5\" >6.42</td>\n",
       "                        <td id=\"T_ee48b_row1_col6\" class=\"data row1 col6\" >78.90</td>\n",
       "                        <td id=\"T_ee48b_row1_col7\" class=\"data row1 col7\" >4.97</td>\n",
       "                        <td id=\"T_ee48b_row1_col8\" class=\"data row1 col8\" >2.00</td>\n",
       "                        <td id=\"T_ee48b_row1_col9\" class=\"data row1 col9\" >242.00</td>\n",
       "                        <td id=\"T_ee48b_row1_col10\" class=\"data row1 col10\" >17.80</td>\n",
       "                        <td id=\"T_ee48b_row1_col11\" class=\"data row1 col11\" >396.90</td>\n",
       "                        <td id=\"T_ee48b_row1_col12\" class=\"data row1 col12\" >9.14</td>\n",
       "                        <td id=\"T_ee48b_row1_col13\" class=\"data row1 col13\" >21.60</td>\n",
       "            </tr>\n",
       "            <tr>\n",
       "                        <th id=\"T_ee48b_level0_row2\" class=\"row_heading level0 row2\" >2</th>\n",
       "                        <td id=\"T_ee48b_row2_col0\" class=\"data row2 col0\" >0.03</td>\n",
       "                        <td id=\"T_ee48b_row2_col1\" class=\"data row2 col1\" >0.00</td>\n",
       "                        <td id=\"T_ee48b_row2_col2\" class=\"data row2 col2\" >7.07</td>\n",
       "                        <td id=\"T_ee48b_row2_col3\" class=\"data row2 col3\" >0.00</td>\n",
       "                        <td id=\"T_ee48b_row2_col4\" class=\"data row2 col4\" >0.47</td>\n",
       "                        <td id=\"T_ee48b_row2_col5\" class=\"data row2 col5\" >7.18</td>\n",
       "                        <td id=\"T_ee48b_row2_col6\" class=\"data row2 col6\" >61.10</td>\n",
       "                        <td id=\"T_ee48b_row2_col7\" class=\"data row2 col7\" >4.97</td>\n",
       "                        <td id=\"T_ee48b_row2_col8\" class=\"data row2 col8\" >2.00</td>\n",
       "                        <td id=\"T_ee48b_row2_col9\" class=\"data row2 col9\" >242.00</td>\n",
       "                        <td id=\"T_ee48b_row2_col10\" class=\"data row2 col10\" >17.80</td>\n",
       "                        <td id=\"T_ee48b_row2_col11\" class=\"data row2 col11\" >392.83</td>\n",
       "                        <td id=\"T_ee48b_row2_col12\" class=\"data row2 col12\" >4.03</td>\n",
       "                        <td id=\"T_ee48b_row2_col13\" class=\"data row2 col13\" >34.70</td>\n",
       "            </tr>\n",
       "            <tr>\n",
       "                        <th id=\"T_ee48b_level0_row3\" class=\"row_heading level0 row3\" >3</th>\n",
       "                        <td id=\"T_ee48b_row3_col0\" class=\"data row3 col0\" >0.03</td>\n",
       "                        <td id=\"T_ee48b_row3_col1\" class=\"data row3 col1\" >0.00</td>\n",
       "                        <td id=\"T_ee48b_row3_col2\" class=\"data row3 col2\" >2.18</td>\n",
       "                        <td id=\"T_ee48b_row3_col3\" class=\"data row3 col3\" >0.00</td>\n",
       "                        <td id=\"T_ee48b_row3_col4\" class=\"data row3 col4\" >0.46</td>\n",
       "                        <td id=\"T_ee48b_row3_col5\" class=\"data row3 col5\" >7.00</td>\n",
       "                        <td id=\"T_ee48b_row3_col6\" class=\"data row3 col6\" >45.80</td>\n",
       "                        <td id=\"T_ee48b_row3_col7\" class=\"data row3 col7\" >6.06</td>\n",
       "                        <td id=\"T_ee48b_row3_col8\" class=\"data row3 col8\" >3.00</td>\n",
       "                        <td id=\"T_ee48b_row3_col9\" class=\"data row3 col9\" >222.00</td>\n",
       "                        <td id=\"T_ee48b_row3_col10\" class=\"data row3 col10\" >18.70</td>\n",
       "                        <td id=\"T_ee48b_row3_col11\" class=\"data row3 col11\" >394.63</td>\n",
       "                        <td id=\"T_ee48b_row3_col12\" class=\"data row3 col12\" >2.94</td>\n",
       "                        <td id=\"T_ee48b_row3_col13\" class=\"data row3 col13\" >33.40</td>\n",
       "            </tr>\n",
       "            <tr>\n",
       "                        <th id=\"T_ee48b_level0_row4\" class=\"row_heading level0 row4\" >4</th>\n",
       "                        <td id=\"T_ee48b_row4_col0\" class=\"data row4 col0\" >0.07</td>\n",
       "                        <td id=\"T_ee48b_row4_col1\" class=\"data row4 col1\" >0.00</td>\n",
       "                        <td id=\"T_ee48b_row4_col2\" class=\"data row4 col2\" >2.18</td>\n",
       "                        <td id=\"T_ee48b_row4_col3\" class=\"data row4 col3\" >0.00</td>\n",
       "                        <td id=\"T_ee48b_row4_col4\" class=\"data row4 col4\" >0.46</td>\n",
       "                        <td id=\"T_ee48b_row4_col5\" class=\"data row4 col5\" >7.15</td>\n",
       "                        <td id=\"T_ee48b_row4_col6\" class=\"data row4 col6\" >54.20</td>\n",
       "                        <td id=\"T_ee48b_row4_col7\" class=\"data row4 col7\" >6.06</td>\n",
       "                        <td id=\"T_ee48b_row4_col8\" class=\"data row4 col8\" >3.00</td>\n",
       "                        <td id=\"T_ee48b_row4_col9\" class=\"data row4 col9\" >222.00</td>\n",
       "                        <td id=\"T_ee48b_row4_col10\" class=\"data row4 col10\" >18.70</td>\n",
       "                        <td id=\"T_ee48b_row4_col11\" class=\"data row4 col11\" >396.90</td>\n",
       "                        <td id=\"T_ee48b_row4_col12\" class=\"data row4 col12\" >5.33</td>\n",
       "                        <td id=\"T_ee48b_row4_col13\" class=\"data row4 col13\" >36.20</td>\n",
       "            </tr>\n",
       "    </tbody></table>"
      ],
      "text/plain": [
       "<pandas.io.formats.style.Styler at 0x7f63ac2b3a50>"
      ]
     },
     "metadata": {},
     "output_type": "display_data"
    },
    {
     "name": "stdout",
     "output_type": "stream",
     "text": [
      "Missing Data :  0   Shape is :  (506, 14)\n"
     ]
    }
   ],
   "source": [
    "data = pd.read_csv(f'{datasets_dir}/BHPD/origine/BostonHousing.csv', header=0)\n",
    "\n",
    "display(data.head(5).style.format(\"{0:.2f}\"))\n",
    "print('Missing Data : ',data.isna().sum().sum(), '  Shape is : ', data.shape)"
   ]
  },
  {
   "cell_type": "markdown",
   "metadata": {},
   "source": [
    "## Step 3 - Preparing the data\n",
    "### 3.1 - Split data\n",
    "We will use 80% of the data for training and 20% for validation.  \n",
    "x will be input data and y the expected output"
   ]
  },
  {
   "cell_type": "code",
   "execution_count": 4,
   "metadata": {
    "execution": {
     "iopub.execute_input": "2021-01-14T07:11:30.797963Z",
     "iopub.status.busy": "2021-01-14T07:11:30.797461Z",
     "iopub.status.idle": "2021-01-14T07:11:30.800339Z",
     "shell.execute_reply": "2021-01-14T07:11:30.800007Z"
    }
   },
   "outputs": [
    {
     "name": "stdout",
     "output_type": "stream",
     "text": [
      "Original data shape was :  (506, 14)\n",
      "x_train :  (354, 13) y_train :  (354,)\n",
      "x_test  :  (152, 13) y_test  :  (152,)\n"
     ]
    }
   ],
   "source": [
    "# ---- Split => train, test\n",
    "#\n",
    "data_train = data.sample(frac=0.7, axis=0)\n",
    "data_test  = data.drop(data_train.index)\n",
    "\n",
    "# ---- Split => x,y (medv is price)\n",
    "#\n",
    "x_train = data_train.drop('medv',  axis=1)\n",
    "y_train = data_train['medv']\n",
    "x_test  = data_test.drop('medv',   axis=1)\n",
    "y_test  = data_test['medv']\n",
    "\n",
    "print('Original data shape was : ',data.shape)\n",
    "print('x_train : ',x_train.shape, 'y_train : ',y_train.shape)\n",
    "print('x_test  : ',x_test.shape,  'y_test  : ',y_test.shape)"
   ]
  },
  {
   "cell_type": "markdown",
   "metadata": {},
   "source": [
    "### 3.2 - Data normalization\n",
    "**Note :** \n",
    " - All input data must be normalized, train and test.  \n",
    " - To do this we will subtract the mean and divide by the standard deviation.  \n",
    " - But test data should not be used in any way, even for normalization.  \n",
    " - The mean and the standard deviation will therefore only be calculated with the train data."
   ]
  },
  {
   "cell_type": "code",
   "execution_count": 5,
   "metadata": {
    "execution": {
     "iopub.execute_input": "2021-01-14T07:11:30.806114Z",
     "iopub.status.busy": "2021-01-14T07:11:30.805722Z",
     "iopub.status.idle": "2021-01-14T07:11:30.860612Z",
     "shell.execute_reply": "2021-01-14T07:11:30.860272Z"
    }
   },
   "outputs": [
    {
     "data": {
      "text/html": [
       "<style  type=\"text/css\" >\n",
       "</style><table id=\"T_43fc3_\" ><caption>Before normalization :</caption><thead>    <tr>        <th class=\"blank level0\" ></th>        <th class=\"col_heading level0 col0\" >crim</th>        <th class=\"col_heading level0 col1\" >zn</th>        <th class=\"col_heading level0 col2\" >indus</th>        <th class=\"col_heading level0 col3\" >chas</th>        <th class=\"col_heading level0 col4\" >nox</th>        <th class=\"col_heading level0 col5\" >rm</th>        <th class=\"col_heading level0 col6\" >age</th>        <th class=\"col_heading level0 col7\" >dis</th>        <th class=\"col_heading level0 col8\" >rad</th>        <th class=\"col_heading level0 col9\" >tax</th>        <th class=\"col_heading level0 col10\" >ptratio</th>        <th class=\"col_heading level0 col11\" >b</th>        <th class=\"col_heading level0 col12\" >lstat</th>    </tr></thead><tbody>\n",
       "                <tr>\n",
       "                        <th id=\"T_43fc3_level0_row0\" class=\"row_heading level0 row0\" >count</th>\n",
       "                        <td id=\"T_43fc3_row0_col0\" class=\"data row0 col0\" >354.00</td>\n",
       "                        <td id=\"T_43fc3_row0_col1\" class=\"data row0 col1\" >354.00</td>\n",
       "                        <td id=\"T_43fc3_row0_col2\" class=\"data row0 col2\" >354.00</td>\n",
       "                        <td id=\"T_43fc3_row0_col3\" class=\"data row0 col3\" >354.00</td>\n",
       "                        <td id=\"T_43fc3_row0_col4\" class=\"data row0 col4\" >354.00</td>\n",
       "                        <td id=\"T_43fc3_row0_col5\" class=\"data row0 col5\" >354.00</td>\n",
       "                        <td id=\"T_43fc3_row0_col6\" class=\"data row0 col6\" >354.00</td>\n",
       "                        <td id=\"T_43fc3_row0_col7\" class=\"data row0 col7\" >354.00</td>\n",
       "                        <td id=\"T_43fc3_row0_col8\" class=\"data row0 col8\" >354.00</td>\n",
       "                        <td id=\"T_43fc3_row0_col9\" class=\"data row0 col9\" >354.00</td>\n",
       "                        <td id=\"T_43fc3_row0_col10\" class=\"data row0 col10\" >354.00</td>\n",
       "                        <td id=\"T_43fc3_row0_col11\" class=\"data row0 col11\" >354.00</td>\n",
       "                        <td id=\"T_43fc3_row0_col12\" class=\"data row0 col12\" >354.00</td>\n",
       "            </tr>\n",
       "            <tr>\n",
       "                        <th id=\"T_43fc3_level0_row1\" class=\"row_heading level0 row1\" >mean</th>\n",
       "                        <td id=\"T_43fc3_row1_col0\" class=\"data row1 col0\" >3.62</td>\n",
       "                        <td id=\"T_43fc3_row1_col1\" class=\"data row1 col1\" >12.34</td>\n",
       "                        <td id=\"T_43fc3_row1_col2\" class=\"data row1 col2\" >11.04</td>\n",
       "                        <td id=\"T_43fc3_row1_col3\" class=\"data row1 col3\" >0.06</td>\n",
       "                        <td id=\"T_43fc3_row1_col4\" class=\"data row1 col4\" >0.56</td>\n",
       "                        <td id=\"T_43fc3_row1_col5\" class=\"data row1 col5\" >6.32</td>\n",
       "                        <td id=\"T_43fc3_row1_col6\" class=\"data row1 col6\" >69.45</td>\n",
       "                        <td id=\"T_43fc3_row1_col7\" class=\"data row1 col7\" >3.77</td>\n",
       "                        <td id=\"T_43fc3_row1_col8\" class=\"data row1 col8\" >9.72</td>\n",
       "                        <td id=\"T_43fc3_row1_col9\" class=\"data row1 col9\" >409.79</td>\n",
       "                        <td id=\"T_43fc3_row1_col10\" class=\"data row1 col10\" >18.47</td>\n",
       "                        <td id=\"T_43fc3_row1_col11\" class=\"data row1 col11\" >355.96</td>\n",
       "                        <td id=\"T_43fc3_row1_col12\" class=\"data row1 col12\" >12.61</td>\n",
       "            </tr>\n",
       "            <tr>\n",
       "                        <th id=\"T_43fc3_level0_row2\" class=\"row_heading level0 row2\" >std</th>\n",
       "                        <td id=\"T_43fc3_row2_col0\" class=\"data row2 col0\" >8.57</td>\n",
       "                        <td id=\"T_43fc3_row2_col1\" class=\"data row2 col1\" >24.67</td>\n",
       "                        <td id=\"T_43fc3_row2_col2\" class=\"data row2 col2\" >6.91</td>\n",
       "                        <td id=\"T_43fc3_row2_col3\" class=\"data row2 col3\" >0.24</td>\n",
       "                        <td id=\"T_43fc3_row2_col4\" class=\"data row2 col4\" >0.12</td>\n",
       "                        <td id=\"T_43fc3_row2_col5\" class=\"data row2 col5\" >0.71</td>\n",
       "                        <td id=\"T_43fc3_row2_col6\" class=\"data row2 col6\" >27.79</td>\n",
       "                        <td id=\"T_43fc3_row2_col7\" class=\"data row2 col7\" >2.14</td>\n",
       "                        <td id=\"T_43fc3_row2_col8\" class=\"data row2 col8\" >8.83</td>\n",
       "                        <td id=\"T_43fc3_row2_col9\" class=\"data row2 col9\" >169.10</td>\n",
       "                        <td id=\"T_43fc3_row2_col10\" class=\"data row2 col10\" >2.21</td>\n",
       "                        <td id=\"T_43fc3_row2_col11\" class=\"data row2 col11\" >93.17</td>\n",
       "                        <td id=\"T_43fc3_row2_col12\" class=\"data row2 col12\" >7.14</td>\n",
       "            </tr>\n",
       "            <tr>\n",
       "                        <th id=\"T_43fc3_level0_row3\" class=\"row_heading level0 row3\" >min</th>\n",
       "                        <td id=\"T_43fc3_row3_col0\" class=\"data row3 col0\" >0.01</td>\n",
       "                        <td id=\"T_43fc3_row3_col1\" class=\"data row3 col1\" >0.00</td>\n",
       "                        <td id=\"T_43fc3_row3_col2\" class=\"data row3 col2\" >0.46</td>\n",
       "                        <td id=\"T_43fc3_row3_col3\" class=\"data row3 col3\" >0.00</td>\n",
       "                        <td id=\"T_43fc3_row3_col4\" class=\"data row3 col4\" >0.39</td>\n",
       "                        <td id=\"T_43fc3_row3_col5\" class=\"data row3 col5\" >3.86</td>\n",
       "                        <td id=\"T_43fc3_row3_col6\" class=\"data row3 col6\" >6.00</td>\n",
       "                        <td id=\"T_43fc3_row3_col7\" class=\"data row3 col7\" >1.13</td>\n",
       "                        <td id=\"T_43fc3_row3_col8\" class=\"data row3 col8\" >1.00</td>\n",
       "                        <td id=\"T_43fc3_row3_col9\" class=\"data row3 col9\" >187.00</td>\n",
       "                        <td id=\"T_43fc3_row3_col10\" class=\"data row3 col10\" >12.60</td>\n",
       "                        <td id=\"T_43fc3_row3_col11\" class=\"data row3 col11\" >0.32</td>\n",
       "                        <td id=\"T_43fc3_row3_col12\" class=\"data row3 col12\" >1.73</td>\n",
       "            </tr>\n",
       "            <tr>\n",
       "                        <th id=\"T_43fc3_level0_row4\" class=\"row_heading level0 row4\" >25%</th>\n",
       "                        <td id=\"T_43fc3_row4_col0\" class=\"data row4 col0\" >0.07</td>\n",
       "                        <td id=\"T_43fc3_row4_col1\" class=\"data row4 col1\" >0.00</td>\n",
       "                        <td id=\"T_43fc3_row4_col2\" class=\"data row4 col2\" >4.93</td>\n",
       "                        <td id=\"T_43fc3_row4_col3\" class=\"data row4 col3\" >0.00</td>\n",
       "                        <td id=\"T_43fc3_row4_col4\" class=\"data row4 col4\" >0.45</td>\n",
       "                        <td id=\"T_43fc3_row4_col5\" class=\"data row4 col5\" >5.93</td>\n",
       "                        <td id=\"T_43fc3_row4_col6\" class=\"data row4 col6\" >45.18</td>\n",
       "                        <td id=\"T_43fc3_row4_col7\" class=\"data row4 col7\" >2.10</td>\n",
       "                        <td id=\"T_43fc3_row4_col8\" class=\"data row4 col8\" >4.00</td>\n",
       "                        <td id=\"T_43fc3_row4_col9\" class=\"data row4 col9\" >277.00</td>\n",
       "                        <td id=\"T_43fc3_row4_col10\" class=\"data row4 col10\" >17.40</td>\n",
       "                        <td id=\"T_43fc3_row4_col11\" class=\"data row4 col11\" >375.29</td>\n",
       "                        <td id=\"T_43fc3_row4_col12\" class=\"data row4 col12\" >6.92</td>\n",
       "            </tr>\n",
       "            <tr>\n",
       "                        <th id=\"T_43fc3_level0_row5\" class=\"row_heading level0 row5\" >50%</th>\n",
       "                        <td id=\"T_43fc3_row5_col0\" class=\"data row5 col0\" >0.25</td>\n",
       "                        <td id=\"T_43fc3_row5_col1\" class=\"data row5 col1\" >0.00</td>\n",
       "                        <td id=\"T_43fc3_row5_col2\" class=\"data row5 col2\" >9.69</td>\n",
       "                        <td id=\"T_43fc3_row5_col3\" class=\"data row5 col3\" >0.00</td>\n",
       "                        <td id=\"T_43fc3_row5_col4\" class=\"data row5 col4\" >0.54</td>\n",
       "                        <td id=\"T_43fc3_row5_col5\" class=\"data row5 col5\" >6.24</td>\n",
       "                        <td id=\"T_43fc3_row5_col6\" class=\"data row5 col6\" >79.20</td>\n",
       "                        <td id=\"T_43fc3_row5_col7\" class=\"data row5 col7\" >3.10</td>\n",
       "                        <td id=\"T_43fc3_row5_col8\" class=\"data row5 col8\" >5.00</td>\n",
       "                        <td id=\"T_43fc3_row5_col9\" class=\"data row5 col9\" >336.00</td>\n",
       "                        <td id=\"T_43fc3_row5_col10\" class=\"data row5 col10\" >19.10</td>\n",
       "                        <td id=\"T_43fc3_row5_col11\" class=\"data row5 col11\" >391.47</td>\n",
       "                        <td id=\"T_43fc3_row5_col12\" class=\"data row5 col12\" >11.49</td>\n",
       "            </tr>\n",
       "            <tr>\n",
       "                        <th id=\"T_43fc3_level0_row6\" class=\"row_heading level0 row6\" >75%</th>\n",
       "                        <td id=\"T_43fc3_row6_col0\" class=\"data row6 col0\" >3.82</td>\n",
       "                        <td id=\"T_43fc3_row6_col1\" class=\"data row6 col1\" >19.50</td>\n",
       "                        <td id=\"T_43fc3_row6_col2\" class=\"data row6 col2\" >18.10</td>\n",
       "                        <td id=\"T_43fc3_row6_col3\" class=\"data row6 col3\" >0.00</td>\n",
       "                        <td id=\"T_43fc3_row6_col4\" class=\"data row6 col4\" >0.63</td>\n",
       "                        <td id=\"T_43fc3_row6_col5\" class=\"data row6 col5\" >6.63</td>\n",
       "                        <td id=\"T_43fc3_row6_col6\" class=\"data row6 col6\" >94.10</td>\n",
       "                        <td id=\"T_43fc3_row6_col7\" class=\"data row6 col7\" >5.12</td>\n",
       "                        <td id=\"T_43fc3_row6_col8\" class=\"data row6 col8\" >24.00</td>\n",
       "                        <td id=\"T_43fc3_row6_col9\" class=\"data row6 col9\" >666.00</td>\n",
       "                        <td id=\"T_43fc3_row6_col10\" class=\"data row6 col10\" >20.20</td>\n",
       "                        <td id=\"T_43fc3_row6_col11\" class=\"data row6 col11\" >396.29</td>\n",
       "                        <td id=\"T_43fc3_row6_col12\" class=\"data row6 col12\" >16.57</td>\n",
       "            </tr>\n",
       "            <tr>\n",
       "                        <th id=\"T_43fc3_level0_row7\" class=\"row_heading level0 row7\" >max</th>\n",
       "                        <td id=\"T_43fc3_row7_col0\" class=\"data row7 col0\" >88.98</td>\n",
       "                        <td id=\"T_43fc3_row7_col1\" class=\"data row7 col1\" >100.00</td>\n",
       "                        <td id=\"T_43fc3_row7_col2\" class=\"data row7 col2\" >27.74</td>\n",
       "                        <td id=\"T_43fc3_row7_col3\" class=\"data row7 col3\" >1.00</td>\n",
       "                        <td id=\"T_43fc3_row7_col4\" class=\"data row7 col4\" >0.87</td>\n",
       "                        <td id=\"T_43fc3_row7_col5\" class=\"data row7 col5\" >8.72</td>\n",
       "                        <td id=\"T_43fc3_row7_col6\" class=\"data row7 col6\" >100.00</td>\n",
       "                        <td id=\"T_43fc3_row7_col7\" class=\"data row7 col7\" >12.13</td>\n",
       "                        <td id=\"T_43fc3_row7_col8\" class=\"data row7 col8\" >24.00</td>\n",
       "                        <td id=\"T_43fc3_row7_col9\" class=\"data row7 col9\" >711.00</td>\n",
       "                        <td id=\"T_43fc3_row7_col10\" class=\"data row7 col10\" >22.00</td>\n",
       "                        <td id=\"T_43fc3_row7_col11\" class=\"data row7 col11\" >396.90</td>\n",
       "                        <td id=\"T_43fc3_row7_col12\" class=\"data row7 col12\" >37.97</td>\n",
       "            </tr>\n",
       "    </tbody></table>"
      ],
      "text/plain": [
       "<pandas.io.formats.style.Styler at 0x7f645c735150>"
      ]
     },
     "metadata": {},
     "output_type": "display_data"
    },
    {
     "data": {
      "text/html": [
       "<style  type=\"text/css\" >\n",
       "</style><table id=\"T_c60d8_\" ><caption>After normalization :</caption><thead>    <tr>        <th class=\"blank level0\" ></th>        <th class=\"col_heading level0 col0\" >crim</th>        <th class=\"col_heading level0 col1\" >zn</th>        <th class=\"col_heading level0 col2\" >indus</th>        <th class=\"col_heading level0 col3\" >chas</th>        <th class=\"col_heading level0 col4\" >nox</th>        <th class=\"col_heading level0 col5\" >rm</th>        <th class=\"col_heading level0 col6\" >age</th>        <th class=\"col_heading level0 col7\" >dis</th>        <th class=\"col_heading level0 col8\" >rad</th>        <th class=\"col_heading level0 col9\" >tax</th>        <th class=\"col_heading level0 col10\" >ptratio</th>        <th class=\"col_heading level0 col11\" >b</th>        <th class=\"col_heading level0 col12\" >lstat</th>    </tr></thead><tbody>\n",
       "                <tr>\n",
       "                        <th id=\"T_c60d8_level0_row0\" class=\"row_heading level0 row0\" >count</th>\n",
       "                        <td id=\"T_c60d8_row0_col0\" class=\"data row0 col0\" >354.00</td>\n",
       "                        <td id=\"T_c60d8_row0_col1\" class=\"data row0 col1\" >354.00</td>\n",
       "                        <td id=\"T_c60d8_row0_col2\" class=\"data row0 col2\" >354.00</td>\n",
       "                        <td id=\"T_c60d8_row0_col3\" class=\"data row0 col3\" >354.00</td>\n",
       "                        <td id=\"T_c60d8_row0_col4\" class=\"data row0 col4\" >354.00</td>\n",
       "                        <td id=\"T_c60d8_row0_col5\" class=\"data row0 col5\" >354.00</td>\n",
       "                        <td id=\"T_c60d8_row0_col6\" class=\"data row0 col6\" >354.00</td>\n",
       "                        <td id=\"T_c60d8_row0_col7\" class=\"data row0 col7\" >354.00</td>\n",
       "                        <td id=\"T_c60d8_row0_col8\" class=\"data row0 col8\" >354.00</td>\n",
       "                        <td id=\"T_c60d8_row0_col9\" class=\"data row0 col9\" >354.00</td>\n",
       "                        <td id=\"T_c60d8_row0_col10\" class=\"data row0 col10\" >354.00</td>\n",
       "                        <td id=\"T_c60d8_row0_col11\" class=\"data row0 col11\" >354.00</td>\n",
       "                        <td id=\"T_c60d8_row0_col12\" class=\"data row0 col12\" >354.00</td>\n",
       "            </tr>\n",
       "            <tr>\n",
       "                        <th id=\"T_c60d8_level0_row1\" class=\"row_heading level0 row1\" >mean</th>\n",
       "                        <td id=\"T_c60d8_row1_col0\" class=\"data row1 col0\" >0.00</td>\n",
       "                        <td id=\"T_c60d8_row1_col1\" class=\"data row1 col1\" >0.00</td>\n",
       "                        <td id=\"T_c60d8_row1_col2\" class=\"data row1 col2\" >0.00</td>\n",
       "                        <td id=\"T_c60d8_row1_col3\" class=\"data row1 col3\" >-0.00</td>\n",
       "                        <td id=\"T_c60d8_row1_col4\" class=\"data row1 col4\" >-0.00</td>\n",
       "                        <td id=\"T_c60d8_row1_col5\" class=\"data row1 col5\" >-0.00</td>\n",
       "                        <td id=\"T_c60d8_row1_col6\" class=\"data row1 col6\" >-0.00</td>\n",
       "                        <td id=\"T_c60d8_row1_col7\" class=\"data row1 col7\" >0.00</td>\n",
       "                        <td id=\"T_c60d8_row1_col8\" class=\"data row1 col8\" >-0.00</td>\n",
       "                        <td id=\"T_c60d8_row1_col9\" class=\"data row1 col9\" >0.00</td>\n",
       "                        <td id=\"T_c60d8_row1_col10\" class=\"data row1 col10\" >-0.00</td>\n",
       "                        <td id=\"T_c60d8_row1_col11\" class=\"data row1 col11\" >-0.00</td>\n",
       "                        <td id=\"T_c60d8_row1_col12\" class=\"data row1 col12\" >-0.00</td>\n",
       "            </tr>\n",
       "            <tr>\n",
       "                        <th id=\"T_c60d8_level0_row2\" class=\"row_heading level0 row2\" >std</th>\n",
       "                        <td id=\"T_c60d8_row2_col0\" class=\"data row2 col0\" >1.00</td>\n",
       "                        <td id=\"T_c60d8_row2_col1\" class=\"data row2 col1\" >1.00</td>\n",
       "                        <td id=\"T_c60d8_row2_col2\" class=\"data row2 col2\" >1.00</td>\n",
       "                        <td id=\"T_c60d8_row2_col3\" class=\"data row2 col3\" >1.00</td>\n",
       "                        <td id=\"T_c60d8_row2_col4\" class=\"data row2 col4\" >1.00</td>\n",
       "                        <td id=\"T_c60d8_row2_col5\" class=\"data row2 col5\" >1.00</td>\n",
       "                        <td id=\"T_c60d8_row2_col6\" class=\"data row2 col6\" >1.00</td>\n",
       "                        <td id=\"T_c60d8_row2_col7\" class=\"data row2 col7\" >1.00</td>\n",
       "                        <td id=\"T_c60d8_row2_col8\" class=\"data row2 col8\" >1.00</td>\n",
       "                        <td id=\"T_c60d8_row2_col9\" class=\"data row2 col9\" >1.00</td>\n",
       "                        <td id=\"T_c60d8_row2_col10\" class=\"data row2 col10\" >1.00</td>\n",
       "                        <td id=\"T_c60d8_row2_col11\" class=\"data row2 col11\" >1.00</td>\n",
       "                        <td id=\"T_c60d8_row2_col12\" class=\"data row2 col12\" >1.00</td>\n",
       "            </tr>\n",
       "            <tr>\n",
       "                        <th id=\"T_c60d8_level0_row3\" class=\"row_heading level0 row3\" >min</th>\n",
       "                        <td id=\"T_c60d8_row3_col0\" class=\"data row3 col0\" >-0.42</td>\n",
       "                        <td id=\"T_c60d8_row3_col1\" class=\"data row3 col1\" >-0.50</td>\n",
       "                        <td id=\"T_c60d8_row3_col2\" class=\"data row3 col2\" >-1.53</td>\n",
       "                        <td id=\"T_c60d8_row3_col3\" class=\"data row3 col3\" >-0.25</td>\n",
       "                        <td id=\"T_c60d8_row3_col4\" class=\"data row3 col4\" >-1.46</td>\n",
       "                        <td id=\"T_c60d8_row3_col5\" class=\"data row3 col5\" >-3.47</td>\n",
       "                        <td id=\"T_c60d8_row3_col6\" class=\"data row3 col6\" >-2.28</td>\n",
       "                        <td id=\"T_c60d8_row3_col7\" class=\"data row3 col7\" >-1.24</td>\n",
       "                        <td id=\"T_c60d8_row3_col8\" class=\"data row3 col8\" >-0.99</td>\n",
       "                        <td id=\"T_c60d8_row3_col9\" class=\"data row3 col9\" >-1.32</td>\n",
       "                        <td id=\"T_c60d8_row3_col10\" class=\"data row3 col10\" >-2.65</td>\n",
       "                        <td id=\"T_c60d8_row3_col11\" class=\"data row3 col11\" >-3.82</td>\n",
       "                        <td id=\"T_c60d8_row3_col12\" class=\"data row3 col12\" >-1.52</td>\n",
       "            </tr>\n",
       "            <tr>\n",
       "                        <th id=\"T_c60d8_level0_row4\" class=\"row_heading level0 row4\" >25%</th>\n",
       "                        <td id=\"T_c60d8_row4_col0\" class=\"data row4 col0\" >-0.41</td>\n",
       "                        <td id=\"T_c60d8_row4_col1\" class=\"data row4 col1\" >-0.50</td>\n",
       "                        <td id=\"T_c60d8_row4_col2\" class=\"data row4 col2\" >-0.88</td>\n",
       "                        <td id=\"T_c60d8_row4_col3\" class=\"data row4 col3\" >-0.25</td>\n",
       "                        <td id=\"T_c60d8_row4_col4\" class=\"data row4 col4\" >-0.88</td>\n",
       "                        <td id=\"T_c60d8_row4_col5\" class=\"data row4 col5\" >-0.54</td>\n",
       "                        <td id=\"T_c60d8_row4_col6\" class=\"data row4 col6\" >-0.87</td>\n",
       "                        <td id=\"T_c60d8_row4_col7\" class=\"data row4 col7\" >-0.78</td>\n",
       "                        <td id=\"T_c60d8_row4_col8\" class=\"data row4 col8\" >-0.65</td>\n",
       "                        <td id=\"T_c60d8_row4_col9\" class=\"data row4 col9\" >-0.79</td>\n",
       "                        <td id=\"T_c60d8_row4_col10\" class=\"data row4 col10\" >-0.48</td>\n",
       "                        <td id=\"T_c60d8_row4_col11\" class=\"data row4 col11\" >0.21</td>\n",
       "                        <td id=\"T_c60d8_row4_col12\" class=\"data row4 col12\" >-0.80</td>\n",
       "            </tr>\n",
       "            <tr>\n",
       "                        <th id=\"T_c60d8_level0_row5\" class=\"row_heading level0 row5\" >50%</th>\n",
       "                        <td id=\"T_c60d8_row5_col0\" class=\"data row5 col0\" >-0.39</td>\n",
       "                        <td id=\"T_c60d8_row5_col1\" class=\"data row5 col1\" >-0.50</td>\n",
       "                        <td id=\"T_c60d8_row5_col2\" class=\"data row5 col2\" >-0.20</td>\n",
       "                        <td id=\"T_c60d8_row5_col3\" class=\"data row5 col3\" >-0.25</td>\n",
       "                        <td id=\"T_c60d8_row5_col4\" class=\"data row5 col4\" >-0.18</td>\n",
       "                        <td id=\"T_c60d8_row5_col5\" class=\"data row5 col5\" >-0.10</td>\n",
       "                        <td id=\"T_c60d8_row5_col6\" class=\"data row5 col6\" >0.35</td>\n",
       "                        <td id=\"T_c60d8_row5_col7\" class=\"data row5 col7\" >-0.32</td>\n",
       "                        <td id=\"T_c60d8_row5_col8\" class=\"data row5 col8\" >-0.53</td>\n",
       "                        <td id=\"T_c60d8_row5_col9\" class=\"data row5 col9\" >-0.44</td>\n",
       "                        <td id=\"T_c60d8_row5_col10\" class=\"data row5 col10\" >0.28</td>\n",
       "                        <td id=\"T_c60d8_row5_col11\" class=\"data row5 col11\" >0.38</td>\n",
       "                        <td id=\"T_c60d8_row5_col12\" class=\"data row5 col12\" >-0.16</td>\n",
       "            </tr>\n",
       "            <tr>\n",
       "                        <th id=\"T_c60d8_level0_row6\" class=\"row_heading level0 row6\" >75%</th>\n",
       "                        <td id=\"T_c60d8_row6_col0\" class=\"data row6 col0\" >0.02</td>\n",
       "                        <td id=\"T_c60d8_row6_col1\" class=\"data row6 col1\" >0.29</td>\n",
       "                        <td id=\"T_c60d8_row6_col2\" class=\"data row6 col2\" >1.02</td>\n",
       "                        <td id=\"T_c60d8_row6_col3\" class=\"data row6 col3\" >-0.25</td>\n",
       "                        <td id=\"T_c60d8_row6_col4\" class=\"data row6 col4\" >0.65</td>\n",
       "                        <td id=\"T_c60d8_row6_col5\" class=\"data row6 col5\" >0.44</td>\n",
       "                        <td id=\"T_c60d8_row6_col6\" class=\"data row6 col6\" >0.89</td>\n",
       "                        <td id=\"T_c60d8_row6_col7\" class=\"data row6 col7\" >0.63</td>\n",
       "                        <td id=\"T_c60d8_row6_col8\" class=\"data row6 col8\" >1.62</td>\n",
       "                        <td id=\"T_c60d8_row6_col9\" class=\"data row6 col9\" >1.52</td>\n",
       "                        <td id=\"T_c60d8_row6_col10\" class=\"data row6 col10\" >0.78</td>\n",
       "                        <td id=\"T_c60d8_row6_col11\" class=\"data row6 col11\" >0.43</td>\n",
       "                        <td id=\"T_c60d8_row6_col12\" class=\"data row6 col12\" >0.55</td>\n",
       "            </tr>\n",
       "            <tr>\n",
       "                        <th id=\"T_c60d8_level0_row7\" class=\"row_heading level0 row7\" >max</th>\n",
       "                        <td id=\"T_c60d8_row7_col0\" class=\"data row7 col0\" >9.96</td>\n",
       "                        <td id=\"T_c60d8_row7_col1\" class=\"data row7 col1\" >3.55</td>\n",
       "                        <td id=\"T_c60d8_row7_col2\" class=\"data row7 col2\" >2.42</td>\n",
       "                        <td id=\"T_c60d8_row7_col3\" class=\"data row7 col3\" >3.98</td>\n",
       "                        <td id=\"T_c60d8_row7_col4\" class=\"data row7 col4\" >2.71</td>\n",
       "                        <td id=\"T_c60d8_row7_col5\" class=\"data row7 col5\" >3.40</td>\n",
       "                        <td id=\"T_c60d8_row7_col6\" class=\"data row7 col6\" >1.10</td>\n",
       "                        <td id=\"T_c60d8_row7_col7\" class=\"data row7 col7\" >3.90</td>\n",
       "                        <td id=\"T_c60d8_row7_col8\" class=\"data row7 col8\" >1.62</td>\n",
       "                        <td id=\"T_c60d8_row7_col9\" class=\"data row7 col9\" >1.78</td>\n",
       "                        <td id=\"T_c60d8_row7_col10\" class=\"data row7 col10\" >1.59</td>\n",
       "                        <td id=\"T_c60d8_row7_col11\" class=\"data row7 col11\" >0.44</td>\n",
       "                        <td id=\"T_c60d8_row7_col12\" class=\"data row7 col12\" >3.55</td>\n",
       "            </tr>\n",
       "    </tbody></table>"
      ],
      "text/plain": [
       "<pandas.io.formats.style.Styler at 0x7f63ac27aad0>"
      ]
     },
     "metadata": {},
     "output_type": "display_data"
    }
   ],
   "source": [
    "display(x_train.describe().style.format(\"{0:.2f}\").set_caption(\"Before normalization :\"))\n",
    "\n",
    "mean = x_train.mean()\n",
    "std  = x_train.std()\n",
    "x_train = (x_train - mean) / std\n",
    "x_test  = (x_test  - mean) / std\n",
    "\n",
    "display(x_train.describe().style.format(\"{0:.2f}\").set_caption(\"After normalization :\"))\n",
    "\n",
    "x_train, y_train = np.array(x_train), np.array(y_train)\n",
    "x_test,  y_test  = np.array(x_test),  np.array(y_test)\n"
   ]
  },
  {
   "cell_type": "markdown",
   "metadata": {},
   "source": [
    "## Step 4 - Build a model\n",
    "More informations about : \n",
    " - [Optimizer](https://www.tensorflow.org/api_docs/python/tf/keras/optimizers)\n",
    " - [Activation](https://www.tensorflow.org/api_docs/python/tf/keras/activations)\n",
    " - [Loss](https://www.tensorflow.org/api_docs/python/tf/keras/losses)\n",
    " - [Metrics](https://www.tensorflow.org/api_docs/python/tf/keras/metrics)"
   ]
  },
  {
   "cell_type": "code",
   "execution_count": 6,
   "metadata": {
    "execution": {
     "iopub.execute_input": "2021-01-14T07:11:30.864460Z",
     "iopub.status.busy": "2021-01-14T07:11:30.864135Z",
     "iopub.status.idle": "2021-01-14T07:11:30.866230Z",
     "shell.execute_reply": "2021-01-14T07:11:30.865900Z"
    }
   },
   "outputs": [],
   "source": [
    "  def get_model_v1(shape):\n",
    "    \n",
    "    model = keras.models.Sequential()\n",
    "    model.add(keras.layers.Input(shape, name=\"InputLayer\"))\n",
    "    model.add(keras.layers.Dense(64, activation='relu', name='Dense_n1'))\n",
    "    model.add(keras.layers.Dense(64, activation='relu', name='Dense_n2'))\n",
    "    model.add(keras.layers.Dense(1, name='Output'))\n",
    "    \n",
    "    model.compile(optimizer = 'rmsprop',\n",
    "                  loss      = 'mse',\n",
    "                  metrics   = ['mae', 'mse'] )\n",
    "    return model"
   ]
  },
  {
   "cell_type": "markdown",
   "metadata": {},
   "source": [
    "## 5 - Train the model\n",
    "### 5.1 - Get it"
   ]
  },
  {
   "cell_type": "code",
   "execution_count": 7,
   "metadata": {
    "execution": {
     "iopub.execute_input": "2021-01-14T07:11:30.869131Z",
     "iopub.status.busy": "2021-01-14T07:11:30.868788Z",
     "iopub.status.idle": "2021-01-14T07:11:30.908515Z",
     "shell.execute_reply": "2021-01-14T07:11:30.908171Z"
    }
   },
   "outputs": [
    {
     "name": "stdout",
     "output_type": "stream",
     "text": [
      "Model: \"sequential\"\n",
      "_________________________________________________________________\n",
      "Layer (type)                 Output Shape              Param #   \n",
      "=================================================================\n",
      "Dense_n1 (Dense)             (None, 64)                896       \n",
      "_________________________________________________________________\n",
      "Dense_n2 (Dense)             (None, 64)                4160      \n",
      "_________________________________________________________________\n",
      "Output (Dense)               (None, 1)                 65        \n",
      "=================================================================\n",
      "Total params: 5,121\n",
      "Trainable params: 5,121\n",
      "Non-trainable params: 0\n",
      "_________________________________________________________________\n"
     ]
    }
   ],
   "source": [
    "model=get_model_v1( (13,) )\n",
    "\n",
    "model.summary()\n",
    "# img=keras.utils.plot_model( model, to_file='./run/model.png', show_shapes=True, show_layer_names=True, dpi=96)\n",
    "# display(img)"
   ]
  },
  {
   "cell_type": "markdown",
   "metadata": {},
   "source": [
    "### 5.2 - Add callback"
   ]
  },
  {
   "cell_type": "code",
   "execution_count": 8,
   "metadata": {
    "execution": {
     "iopub.execute_input": "2021-01-14T07:11:30.912234Z",
     "iopub.status.busy": "2021-01-14T07:11:30.911911Z",
     "iopub.status.idle": "2021-01-14T07:11:30.914352Z",
     "shell.execute_reply": "2021-01-14T07:11:30.913990Z"
    }
   },
   "outputs": [],
   "source": [
    "os.makedirs('./run/models',   mode=0o750, exist_ok=True)\n",
    "save_dir = \"./run/models/best_model.h5\"\n",
    "\n",
    "savemodel_callback = tf.keras.callbacks.ModelCheckpoint(filepath=save_dir, verbose=0, save_best_only=True)"
   ]
  },
  {
   "cell_type": "markdown",
   "metadata": {},
   "source": [
    "### 5.3 - Train it"
   ]
  },
  {
   "cell_type": "code",
   "execution_count": 9,
   "metadata": {
    "execution": {
     "iopub.execute_input": "2021-01-14T07:11:30.920720Z",
     "iopub.status.busy": "2021-01-14T07:11:30.918911Z",
     "iopub.status.idle": "2021-01-14T07:11:38.814802Z",
     "shell.execute_reply": "2021-01-14T07:11:38.814494Z"
    }
   },
   "outputs": [
    {
     "name": "stdout",
     "output_type": "stream",
     "text": [
      "Epoch 1/100\n"
     ]
    },
    {
     "name": "stdout",
     "output_type": "stream",
     "text": [
      "\r",
      " 1/36 [..............................] - ETA: 0s - loss: 389.7831 - mae: 18.9112 - mse: 389.7831"
     ]
    },
    {
     "name": "stdout",
     "output_type": "stream",
     "text": [
      "\b\b\b\b\b\b\b\b\b\b\b\b\b\b\b\b\b\b\b\b\b\b\b\b\b\b\b\b\b\b\b\b\b\b\b\b\b\b\b\b\b\b\b\b\b\b\b\b\b\b\b\b\b\b\b\b\b\b\b\b\b\b\b\b\b\b\b\b\b\b\b\b\b\b\b\b\b\b\b\b\b\b\b\b\b\b\b\b\b\b\b\b\b\b\b\b\r",
      "36/36 [==============================] - 0s 5ms/step - loss: 479.8606 - mae: 19.7624 - mse: 479.8606 - val_loss: 313.9207 - val_mae: 15.7939 - val_mse: 313.9207\n"
     ]
    },
    {
     "name": "stdout",
     "output_type": "stream",
     "text": [
      "Epoch 2/100\n",
      "\r",
      " 1/36 [..............................] - ETA: 0s - loss: 433.2456 - mae: 17.4410 - mse: 433.2456"
     ]
    },
    {
     "name": "stdout",
     "output_type": "stream",
     "text": [
      "\b\b\b\b\b\b\b\b\b\b\b\b\b\b\b\b\b\b\b\b\b\b\b\b\b\b\b\b\b\b\b\b\b\b\b\b\b\b\b\b\b\b\b\b\b\b\b\b\b\b\b\b\b\b\b\b\b\b\b\b\b\b\b\b\b\b\b\b\b\b\b\b\b\b\b\b\b\b\b\b\b\b\b\b\b\b\b\b\b\b\b\b\b\b\b\b\r",
      "36/36 [==============================] - 0s 2ms/step - loss: 251.0171 - mae: 13.3376 - mse: 251.0171 - val_loss: 115.0622 - val_mae: 8.7007 - val_mse: 115.0622\n"
     ]
    },
    {
     "name": "stdout",
     "output_type": "stream",
     "text": [
      "Epoch 3/100\n",
      "\r",
      " 1/36 [..............................] - ETA: 0s - loss: 74.5882 - mae: 7.4639 - mse: 74.5882"
     ]
    },
    {
     "name": "stdout",
     "output_type": "stream",
     "text": [
      "\b\b\b\b\b\b\b\b\b\b\b\b\b\b\b\b\b\b\b\b\b\b\b\b\b\b\b\b\b\b\b\b\b\b\b\b\b\b\b\b\b\b\b\b\b\b\b\b\b\b\b\b\b\b\b\b\b\b\b\b\b\b\b\b\b\b\b\b\b\b\b\b\b\b\b\b\b\b\b\b\b\b\b\b\b\b\b\b\b\b\b\b\b\r",
      "36/36 [==============================] - 0s 2ms/step - loss: 97.0846 - mae: 7.5000 - mse: 97.0846 - val_loss: 48.7695 - val_mae: 5.3898 - val_mse: 48.7695\n"
     ]
    },
    {
     "name": "stdout",
     "output_type": "stream",
     "text": [
      "Epoch 4/100\n",
      "\r",
      " 1/36 [..............................] - ETA: 0s - loss: 155.7348 - mae: 9.1847 - mse: 155.7348"
     ]
    },
    {
     "name": "stdout",
     "output_type": "stream",
     "text": [
      "\b\b\b\b\b\b\b\b\b\b\b\b\b\b\b\b\b\b\b\b\b\b\b\b\b\b\b\b\b\b\b\b\b\b\b\b\b\b\b\b\b\b\b\b\b\b\b\b\b\b\b\b\b\b\b\b\b\b\b\b\b\b\b\b\b\b\b\b\b\b\b\b\b\b\b\b\b\b\b\b\b\b\b\b\b\b\b\b\b\b\b\b\b\b\b\r",
      "36/36 [==============================] - 0s 2ms/step - loss: 54.7528 - mae: 5.4036 - mse: 54.7528 - val_loss: 29.9846 - val_mae: 4.1754 - val_mse: 29.9846\n"
     ]
    },
    {
     "name": "stdout",
     "output_type": "stream",
     "text": [
      "Epoch 5/100\n",
      "\r",
      " 1/36 [..............................] - ETA: 0s - loss: 40.2903 - mae: 5.0659 - mse: 40.2903"
     ]
    },
    {
     "name": "stdout",
     "output_type": "stream",
     "text": [
      "\b\b\b\b\b\b\b\b\b\b\b\b\b\b\b\b\b\b\b\b\b\b\b\b\b\b\b\b\b\b\b\b\b\b\b\b\b\b\b\b\b\b\b\b\b\b\b\b\b\b\b\b\b\b\b\b\b\b\b\b\b\b\b\b\b\b\b\b\b\b\b\b\b\b\b\b\b\b\b\b\b\b\b\b\b\b\b\b\b\b\b\b\b\r",
      "36/36 [==============================] - 0s 2ms/step - loss: 35.3013 - mae: 4.2298 - mse: 35.3013 - val_loss: 21.5246 - val_mae: 3.5020 - val_mse: 21.5246\n"
     ]
    },
    {
     "name": "stdout",
     "output_type": "stream",
     "text": [
      "Epoch 6/100\n",
      "\r",
      " 1/36 [..............................] - ETA: 0s - loss: 20.8753 - mae: 3.7356 - mse: 20.8753"
     ]
    },
    {
     "name": "stdout",
     "output_type": "stream",
     "text": [
      "\b\b\b\b\b\b\b\b\b\b\b\b\b\b\b\b\b\b\b\b\b\b\b\b\b\b\b\b\b\b\b\b\b\b\b\b\b\b\b\b\b\b\b\b\b\b\b\b\b\b\b\b\b\b\b\b\b\b\b\b\b\b\b\b\b\b\b\b\b\b\b\b\b\b\b\b\b\b\b\b\b\b\b\b\b\b\b\b\b\b\b\b\b\r",
      "36/36 [==============================] - 0s 2ms/step - loss: 26.6657 - mae: 3.6815 - mse: 26.6657 - val_loss: 18.1473 - val_mae: 3.1323 - val_mse: 18.1473\n"
     ]
    },
    {
     "name": "stdout",
     "output_type": "stream",
     "text": [
      "Epoch 7/100\n",
      "\r",
      " 1/36 [..............................] - ETA: 0s - loss: 5.2121 - mae: 2.0190 - mse: 5.2121"
     ]
    },
    {
     "name": "stdout",
     "output_type": "stream",
     "text": [
      "\b\b\b\b\b\b\b\b\b\b\b\b\b\b\b\b\b\b\b\b\b\b\b\b\b\b\b\b\b\b\b\b\b\b\b\b\b\b\b\b\b\b\b\b\b\b\b\b\b\b\b\b\b\b\b\b\b\b\b\b\b\b\b\b\b\b\b\b\b\b\b\b\b\b\b\b\b\b\b\b\b\b\b\b\b\b\b\b\b\b\b\r",
      "36/36 [==============================] - 0s 2ms/step - loss: 22.8042 - mae: 3.3342 - mse: 22.8042 - val_loss: 16.4765 - val_mae: 2.9579 - val_mse: 16.4765\n"
     ]
    },
    {
     "name": "stdout",
     "output_type": "stream",
     "text": [
      "Epoch 8/100\n",
      "\r",
      " 1/36 [..............................] - ETA: 0s - loss: 8.9479 - mae: 2.4739 - mse: 8.9479"
     ]
    },
    {
     "name": "stdout",
     "output_type": "stream",
     "text": [
      "\b\b\b\b\b\b\b\b\b\b\b\b\b\b\b\b\b\b\b\b\b\b\b\b\b\b\b\b\b\b\b\b\b\b\b\b\b\b\b\b\b\b\b\b\b\b\b\b\b\b\b\b\b\b\b\b\b\b\b\b\b\b\b\b\b\b\b\b\b\b\b\b\b\b\b\b\b\b\b\b\b\b\b\b\b\b\b\b\b\b\b\r",
      "36/36 [==============================] - 0s 2ms/step - loss: 19.7496 - mae: 3.1010 - mse: 19.7496 - val_loss: 15.8385 - val_mae: 2.8592 - val_mse: 15.8385\n"
     ]
    },
    {
     "name": "stdout",
     "output_type": "stream",
     "text": [
      "Epoch 9/100\n",
      "\r",
      " 1/36 [..............................] - ETA: 0s - loss: 9.2032 - mae: 2.8548 - mse: 9.2032"
     ]
    },
    {
     "name": "stdout",
     "output_type": "stream",
     "text": [
      "\b\b\b\b\b\b\b\b\b\b\b\b\b\b\b\b\b\b\b\b\b\b\b\b\b\b\b\b\b\b\b\b\b\b\b\b\b\b\b\b\b\b\b\b\b\b\b\b\b\b\b\b\b\b\b\b\b\b\b\b\b\b\b\b\b\b\b\b\b\b\b\b\b\b\b\b\b\b\b\b\b\b\b\b\b\b\b\b\b\b\b\r",
      "36/36 [==============================] - 0s 2ms/step - loss: 17.5905 - mae: 2.9337 - mse: 17.5905 - val_loss: 16.9321 - val_mae: 2.9213 - val_mse: 16.9321\n"
     ]
    },
    {
     "name": "stdout",
     "output_type": "stream",
     "text": [
      "Epoch 10/100\n",
      "\r",
      " 1/36 [..............................] - ETA: 0s - loss: 18.1565 - mae: 3.8637 - mse: 18.1565"
     ]
    },
    {
     "name": "stdout",
     "output_type": "stream",
     "text": [
      "\b\b\b\b\b\b\b\b\b\b\b\b\b\b\b\b\b\b\b\b\b\b\b\b\b\b\b\b\b\b\b\b\b\b\b\b\b\b\b\b\b\b\b\b\b\b\b\b\b\b\b\b\b\b\b\b\b\b\b\b\b\b\b\b\b\b\b\b\b\b\b\b\b\b\b\b\b\b\b\b\b\b\b\b\b\b\b\b\b\b\b\b\b\r",
      "36/36 [==============================] - 0s 2ms/step - loss: 16.4101 - mae: 2.8449 - mse: 16.4101 - val_loss: 15.1185 - val_mae: 2.7206 - val_mse: 15.1185\n"
     ]
    },
    {
     "name": "stdout",
     "output_type": "stream",
     "text": [
      "Epoch 11/100\n",
      "\r",
      " 1/36 [..............................] - ETA: 0s - loss: 5.8267 - mae: 1.9830 - mse: 5.8267"
     ]
    },
    {
     "name": "stdout",
     "output_type": "stream",
     "text": [
      "\b\b\b\b\b\b\b\b\b\b\b\b\b\b\b\b\b\b\b\b\b\b\b\b\b\b\b\b\b\b\b\b\b\b\b\b\b\b\b\b\b\b\b\b\b\b\b\b\b\b\b\b\b\b\b\b\b\b\b\b\b\b\b\b\b\b\b\b\b\b\b\b\b\b\b\b\b\b\b\b\b\b\b\b\b\b\b\b\b\b\b\r",
      "36/36 [==============================] - 0s 2ms/step - loss: 15.2091 - mae: 2.7126 - mse: 15.2091 - val_loss: 14.4734 - val_mae: 2.5941 - val_mse: 14.4734\n"
     ]
    },
    {
     "name": "stdout",
     "output_type": "stream",
     "text": [
      "Epoch 12/100\n",
      "\r",
      " 1/36 [..............................] - ETA: 0s - loss: 6.2744 - mae: 2.2298 - mse: 6.2744"
     ]
    },
    {
     "name": "stdout",
     "output_type": "stream",
     "text": [
      "\b\b\b\b\b\b\b\b\b\b\b\b\b\b\b\b\b\b\b\b\b\b\b\b\b\b\b\b\b\b\b\b\b\b\b\b\b\b\b\b\b\b\b\b\b\b\b\b\b\b\b\b\b\b\b\b\b\b\b\b\b\b\b\b\b\b\b\b\b\b\b\b\b\b\b\b\b\b\b\b\b\b\b\b\b\b\b\b\b\b\b\r",
      "36/36 [==============================] - 0s 2ms/step - loss: 14.4579 - mae: 2.6564 - mse: 14.4579 - val_loss: 14.6208 - val_mae: 2.5923 - val_mse: 14.6208\n"
     ]
    },
    {
     "name": "stdout",
     "output_type": "stream",
     "text": [
      "Epoch 13/100\n",
      "\r",
      " 1/36 [..............................] - ETA: 0s - loss: 7.3490 - mae: 1.9336 - mse: 7.3490"
     ]
    },
    {
     "name": "stdout",
     "output_type": "stream",
     "text": [
      "\b\b\b\b\b\b\b\b\b\b\b\b\b\b\b\b\b\b\b\b\b\b\b\b\b\b\b\b\b\b\b\b\b\b\b\b\b\b\b\b\b\b\b\b\b\b\b\b\b\b\b\b\b\b\b\b\b\b\b\b\b\b\b\b\b\b\b\b\b\b\b\b\b\b\b\b\b\b\b\b\b\b\b\b\b\b\b\b\b\b\b\r",
      "36/36 [==============================] - 0s 2ms/step - loss: 13.7957 - mae: 2.6243 - mse: 13.7957 - val_loss: 14.1156 - val_mae: 2.5347 - val_mse: 14.1156\n"
     ]
    },
    {
     "name": "stdout",
     "output_type": "stream",
     "text": [
      "Epoch 14/100\n",
      "\r",
      " 1/36 [..............................] - ETA: 0s - loss: 7.1917 - mae: 2.2493 - mse: 7.1917"
     ]
    },
    {
     "name": "stdout",
     "output_type": "stream",
     "text": [
      "\b\b\b\b\b\b\b\b\b\b\b\b\b\b\b\b\b\b\b\b\b\b\b\b\b\b\b\b\b\b\b\b\b\b\b\b\b\b\b\b\b\b\b\b\b\b\b\b\b\b\b\b\b\b\b\b\b\b\b\b\b\b\b\b\b\b\b\b\b\b\b\b\b\b\b\b\b\b\b\b\b\b\b\b\b\b\b\b\b\b\b\r",
      "36/36 [==============================] - 0s 2ms/step - loss: 12.9634 - mae: 2.5102 - mse: 12.9634 - val_loss: 14.7697 - val_mae: 2.6119 - val_mse: 14.7697\n"
     ]
    },
    {
     "name": "stdout",
     "output_type": "stream",
     "text": [
      "Epoch 15/100\n",
      "\r",
      " 1/36 [..............................] - ETA: 0s - loss: 7.7120 - mae: 2.1875 - mse: 7.7120"
     ]
    },
    {
     "name": "stdout",
     "output_type": "stream",
     "text": [
      "\b\b\b\b\b\b\b\b\b\b\b\b\b\b\b\b\b\b\b\b\b\b\b\b\b\b\b\b\b\b\b\b\b\b\b\b\b\b\b\b\b\b\b\b\b\b\b\b\b\b\b\b\b\b\b\b\b\b\b\b\b\b\b\b\b\b\b\b\b\b\b\b\b\b\b\b\b\b\b\b\b\b\b\b\b\b\b\b\b\b\b\r",
      "36/36 [==============================] - 0s 2ms/step - loss: 12.4422 - mae: 2.4581 - mse: 12.4422 - val_loss: 14.6517 - val_mae: 2.5601 - val_mse: 14.6517\n"
     ]
    },
    {
     "name": "stdout",
     "output_type": "stream",
     "text": [
      "Epoch 16/100\n",
      "\r",
      " 1/36 [..............................] - ETA: 0s - loss: 10.8231 - mae: 2.9008 - mse: 10.8231"
     ]
    },
    {
     "name": "stdout",
     "output_type": "stream",
     "text": [
      "\b\b\b\b\b\b\b\b\b\b\b\b\b\b\b\b\b\b\b\b\b\b\b\b\b\b\b\b\b\b\b\b\b\b\b\b\b\b\b\b\b\b\b\b\b\b\b\b\b\b\b\b\b\b\b\b\b\b\b\b\b\b\b\b\b\b\b\b\b\b\b\b\b\b\b\b\b\b\b\b\b\b\b\b\b\b\b\b\b\b\b\b\b\r",
      "36/36 [==============================] - 0s 2ms/step - loss: 12.2225 - mae: 2.4426 - mse: 12.2225 - val_loss: 14.7885 - val_mae: 2.5623 - val_mse: 14.7885\n"
     ]
    },
    {
     "name": "stdout",
     "output_type": "stream",
     "text": [
      "Epoch 17/100\n",
      "\r",
      " 1/36 [..............................] - ETA: 0s - loss: 27.0570 - mae: 3.0176 - mse: 27.0570"
     ]
    },
    {
     "name": "stdout",
     "output_type": "stream",
     "text": [
      "\b\b\b\b\b\b\b\b\b\b\b\b\b\b\b\b\b\b\b\b\b\b\b\b\b\b\b\b\b\b\b\b\b\b\b\b\b\b\b\b\b\b\b\b\b\b\b\b\b\b\b\b\b\b\b\b\b\b\b\b\b\b\b\b\b\b\b\b\b\b\b\b\b\b\b\b\b\b\b\b\b\b\b\b\b\b\b\b\b\b\b\b\b\r",
      "36/36 [==============================] - 0s 2ms/step - loss: 11.8573 - mae: 2.3869 - mse: 11.8573 - val_loss: 14.4856 - val_mae: 2.4999 - val_mse: 14.4856\n"
     ]
    },
    {
     "name": "stdout",
     "output_type": "stream",
     "text": [
      "Epoch 18/100\n",
      "\r",
      " 1/36 [..............................] - ETA: 0s - loss: 3.2214 - mae: 1.5709 - mse: 3.2214"
     ]
    },
    {
     "name": "stdout",
     "output_type": "stream",
     "text": [
      "\b\b\b\b\b\b\b\b\b\b\b\b\b\b\b\b\b\b\b\b\b\b\b\b\b\b\b\b\b\b\b\b\b\b\b\b\b\b\b\b\b\b\b\b\b\b\b\b\b\b\b\b\b\b\b\b\b\b\b\b\b\b\b\b\b\b\b\b\b\b\b\b\b\b\b\b\b\b\b\b\b\b\b\b\b\b\b\b\b\b\b\r",
      "36/36 [==============================] - 0s 2ms/step - loss: 11.2766 - mae: 2.3107 - mse: 11.2766 - val_loss: 16.2192 - val_mae: 2.6771 - val_mse: 16.2192\n"
     ]
    },
    {
     "name": "stdout",
     "output_type": "stream",
     "text": [
      "Epoch 19/100\n",
      "\r",
      " 1/36 [..............................] - ETA: 0s - loss: 53.4781 - mae: 4.6768 - mse: 53.4781"
     ]
    },
    {
     "name": "stdout",
     "output_type": "stream",
     "text": [
      "\b\b\b\b\b\b\b\b\b\b\b\b\b\b\b\b\b\b\b\b\b\b\b\b\b\b\b\b\b\b\b\b\b\b\b\b\b\b\b\b\b\b\b\b\b\b\b\b\b\b\b\b\b\b\b\b\b\b\b\b\b\b\b\b\b\b\b\b\b\b\b\b\b\b\b\b\b\b\b\b\b\b\b\b\b\b\b\b\b\b\b\b\b\r",
      "36/36 [==============================] - 0s 2ms/step - loss: 10.8904 - mae: 2.3221 - mse: 10.8904 - val_loss: 14.7529 - val_mae: 2.5405 - val_mse: 14.7529\n"
     ]
    },
    {
     "name": "stdout",
     "output_type": "stream",
     "text": [
      "Epoch 20/100\n",
      "\r",
      " 1/36 [..............................] - ETA: 0s - loss: 5.6295 - mae: 2.1028 - mse: 5.6295"
     ]
    },
    {
     "name": "stdout",
     "output_type": "stream",
     "text": [
      "\b\b\b\b\b\b\b\b\b\b\b\b\b\b\b\b\b\b\b\b\b\b\b\b\b\b\b\b\b\b\b\b\b\b\b\b\b\b\b\b\b\b\b\b\b\b\b\b\b\b\b\b\b\b\b\b\b\b\b\b\b\b\b\b\b\b\b\b\b\b\b\b\b\b\b\b\b\b\b\b\b\b\b\b\b\b\b\b\b\b\b\r",
      "36/36 [==============================] - 0s 2ms/step - loss: 10.7788 - mae: 2.2706 - mse: 10.7788 - val_loss: 14.5959 - val_mae: 2.4926 - val_mse: 14.5959\n"
     ]
    },
    {
     "name": "stdout",
     "output_type": "stream",
     "text": [
      "Epoch 21/100\n",
      "\r",
      " 1/36 [..............................] - ETA: 0s - loss: 11.0794 - mae: 2.7306 - mse: 11.0794"
     ]
    },
    {
     "name": "stdout",
     "output_type": "stream",
     "text": [
      "\b\b\b\b\b\b\b\b\b\b\b\b\b\b\b\b\b\b\b\b\b\b\b\b\b\b\b\b\b\b\b\b\b\b\b\b\b\b\b\b\b\b\b\b\b\b\b\b\b\b\b\b\b\b\b\b\b\b\b\b\b\b\b\b\b\b\b\b\b\b\b\b\b\b\b\b\b\b\b\b\b\b\b\b\b\b\b\b\b\b\b\b\b\r",
      "36/36 [==============================] - 0s 2ms/step - loss: 10.4161 - mae: 2.2696 - mse: 10.4161 - val_loss: 14.7912 - val_mae: 2.5766 - val_mse: 14.7912\n"
     ]
    },
    {
     "name": "stdout",
     "output_type": "stream",
     "text": [
      "Epoch 22/100\n",
      "\r",
      " 1/36 [..............................] - ETA: 0s - loss: 9.3141 - mae: 2.6085 - mse: 9.3141"
     ]
    },
    {
     "name": "stdout",
     "output_type": "stream",
     "text": [
      "\b\b\b\b\b\b\b\b\b\b\b\b\b\b\b\b\b\b\b\b\b\b\b\b\b\b\b\b\b\b\b\b\b\b\b\b\b\b\b\b\b\b\b\b\b\b\b\b\b\b\b\b\b\b\b\b\b\b\b\b\b\b\b\b\b\b\b\b\b\b\b\b\b\b\b\b\b\b\b\b\b\b\b\b\b\b\b\b\b\b\b\r",
      "36/36 [==============================] - 0s 2ms/step - loss: 10.3055 - mae: 2.2356 - mse: 10.3055 - val_loss: 14.8611 - val_mae: 2.5488 - val_mse: 14.8611\n"
     ]
    },
    {
     "name": "stdout",
     "output_type": "stream",
     "text": [
      "Epoch 23/100\n",
      "\r",
      " 1/36 [..............................] - ETA: 0s - loss: 3.9928 - mae: 1.6222 - mse: 3.9928"
     ]
    },
    {
     "name": "stdout",
     "output_type": "stream",
     "text": [
      "\b\b\b\b\b\b\b\b\b\b\b\b\b\b\b\b\b\b\b\b\b\b\b\b\b\b\b\b\b\b\b\b\b\b\b\b\b\b\b\b\b\b\b\b\b\b\b\b\b\b\b\b\b\b\b\b\b\b\b\b\b\b\b\b\b\b\b\b\b\b\b\b\b\b\b\b\b\b\b\b\b\b\b\b\b\b\b\b\b\b\b\r",
      "36/36 [==============================] - 0s 2ms/step - loss: 10.2244 - mae: 2.2373 - mse: 10.2244 - val_loss: 14.9809 - val_mae: 2.5411 - val_mse: 14.9809\n"
     ]
    },
    {
     "name": "stdout",
     "output_type": "stream",
     "text": [
      "Epoch 24/100\n",
      "\r",
      " 1/36 [..............................] - ETA: 0s - loss: 18.7919 - mae: 3.8043 - mse: 18.7919"
     ]
    },
    {
     "name": "stdout",
     "output_type": "stream",
     "text": [
      "\b\b\b\b\b\b\b\b\b\b\b\b\b\b\b\b\b\b\b\b\b\b\b\b\b\b\b\b\b\b\b\b\b\b\b\b\b\b\b\b\b\b\b\b\b\b\b\b\b\b\b\b\b\b\b\b\b\b\b\b\b\b\b\b\b\b\b\b\b\b\b\b\b\b\b\b\b\b\b\b\b\b\b\b\b\b\b\b\b\b\b\b\b\r",
      "36/36 [==============================] - 0s 2ms/step - loss: 10.2347 - mae: 2.1896 - mse: 10.2347 - val_loss: 14.1357 - val_mae: 2.4829 - val_mse: 14.1357\n"
     ]
    },
    {
     "name": "stdout",
     "output_type": "stream",
     "text": [
      "Epoch 25/100\n",
      "\r",
      " 1/36 [..............................] - ETA: 0s - loss: 9.7434 - mae: 2.4112 - mse: 9.7434"
     ]
    },
    {
     "name": "stdout",
     "output_type": "stream",
     "text": [
      "\b\b\b\b\b\b\b\b\b\b\b\b\b\b\b\b\b\b\b\b\b\b\b\b\b\b\b\b\b\b\b\b\b\b\b\b\b\b\b\b\b\b\b\b\b\b\b\b\b\b\b\b\b\b\b\b\b\b\b\b\b\b\b\b\b\b\b\b\b\b\b\b\b\b\b\b\b\b\b\b\b\b\b\b\b\b\b\b\b\b\b\r",
      "36/36 [==============================] - 0s 2ms/step - loss: 9.9127 - mae: 2.2199 - mse: 9.9127 - val_loss: 14.9639 - val_mae: 2.5534 - val_mse: 14.9639\n"
     ]
    },
    {
     "name": "stdout",
     "output_type": "stream",
     "text": [
      "Epoch 26/100\n",
      "\r",
      " 1/36 [..............................] - ETA: 0s - loss: 4.2105 - mae: 1.5460 - mse: 4.2105"
     ]
    },
    {
     "name": "stdout",
     "output_type": "stream",
     "text": [
      "\b\b\b\b\b\b\b\b\b\b\b\b\b\b\b\b\b\b\b\b\b\b\b\b\b\b\b\b\b\b\b\b\b\b\b\b\b\b\b\b\b\b\b\b\b\b\b\b\b\b\b\b\b\b\b\b\b\b\b\b\b\b\b\b\b\b\b\b\b\b\b\b\b\b\b\b\b\b\b\b\b\b\b\b\b\b\b\b\b\b\b\r",
      "36/36 [==============================] - 0s 2ms/step - loss: 9.7643 - mae: 2.1699 - mse: 9.7643 - val_loss: 15.1165 - val_mae: 2.6070 - val_mse: 15.1165\n"
     ]
    },
    {
     "name": "stdout",
     "output_type": "stream",
     "text": [
      "Epoch 27/100\n",
      "\r",
      " 1/36 [..............................] - ETA: 0s - loss: 13.3942 - mae: 2.9616 - mse: 13.3942"
     ]
    },
    {
     "name": "stdout",
     "output_type": "stream",
     "text": [
      "\b\b\b\b\b\b\b\b\b\b\b\b\b\b\b\b\b\b\b\b\b\b\b\b\b\b\b\b\b\b\b\b\b\b\b\b\b\b\b\b\b\b\b\b\b\b\b\b\b\b\b\b\b\b\b\b\b\b\b\b\b\b\b\b\b\b\b\b\b\b\b\b\b\b\b\b\b\b\b\b\b\b\b\b\b\b\b\b\b\b\b\b\b\r",
      "36/36 [==============================] - 0s 2ms/step - loss: 9.7912 - mae: 2.1629 - mse: 9.7912 - val_loss: 14.3873 - val_mae: 2.4969 - val_mse: 14.3873\n"
     ]
    },
    {
     "name": "stdout",
     "output_type": "stream",
     "text": [
      "Epoch 28/100\n",
      "\r",
      " 1/36 [..............................] - ETA: 0s - loss: 5.3006 - mae: 1.8108 - mse: 5.3006"
     ]
    },
    {
     "name": "stdout",
     "output_type": "stream",
     "text": [
      "\b\b\b\b\b\b\b\b\b\b\b\b\b\b\b\b\b\b\b\b\b\b\b\b\b\b\b\b\b\b\b\b\b\b\b\b\b\b\b\b\b\b\b\b\b\b\b\b\b\b\b\b\b\b\b\b\b\b\b\b\b\b\b\b\b\b\b\b\b\b\b\b\b\b\b\b\b\b\b\b\b\b\b\b\b\b\b\b\b\b\b\r",
      "36/36 [==============================] - 0s 2ms/step - loss: 9.3235 - mae: 2.0974 - mse: 9.3235 - val_loss: 14.1615 - val_mae: 2.4547 - val_mse: 14.1615\n"
     ]
    },
    {
     "name": "stdout",
     "output_type": "stream",
     "text": [
      "Epoch 29/100\n",
      "\r",
      " 1/36 [..............................] - ETA: 0s - loss: 6.5976 - mae: 2.0674 - mse: 6.5976"
     ]
    },
    {
     "name": "stdout",
     "output_type": "stream",
     "text": [
      "\b\b\b\b\b\b\b\b\b\b\b\b\b\b\b\b\b\b\b\b\b\b\b\b\b\b\b\b\b\b\b\b\b\b\b\b\b\b\b\b\b\b\b\b\b\b\b\b\b\b\b\b\b\b\b\b\b\b\b\b\b\b\b\b\b\b\b\b\b\b\b\b\b\b\b\b\b\b\b\b\b\b\b\b\b\b\b\b\b\b\b\r",
      "36/36 [==============================] - 0s 2ms/step - loss: 9.3655 - mae: 2.1701 - mse: 9.3655 - val_loss: 13.7438 - val_mae: 2.4387 - val_mse: 13.7438\n"
     ]
    },
    {
     "name": "stdout",
     "output_type": "stream",
     "text": [
      "Epoch 30/100\n",
      "\r",
      " 1/36 [..............................] - ETA: 0s - loss: 9.5997 - mae: 2.5383 - mse: 9.5997"
     ]
    },
    {
     "name": "stdout",
     "output_type": "stream",
     "text": [
      "\b\b\b\b\b\b\b\b\b\b\b\b\b\b\b\b\b\b\b\b\b\b\b\b\b\b\b\b\b\b\b\b\b\b\b\b\b\b\b\b\b\b\b\b\b\b\b\b\b\b\b\b\b\b\b\b\b\b\b\b\b\b\b\b\b\b\b\b\b\b\b\b\b\b\b\b\b\b\b\b\b\b\b\b\b\b\b\b\b\b\b\r",
      "36/36 [==============================] - 0s 2ms/step - loss: 9.2931 - mae: 2.1114 - mse: 9.2931 - val_loss: 14.9816 - val_mae: 2.4900 - val_mse: 14.9816\n"
     ]
    },
    {
     "name": "stdout",
     "output_type": "stream",
     "text": [
      "Epoch 31/100\n",
      "\r",
      " 1/36 [..............................] - ETA: 0s - loss: 6.8495 - mae: 1.8740 - mse: 6.8495"
     ]
    },
    {
     "name": "stdout",
     "output_type": "stream",
     "text": [
      "\b\b\b\b\b\b\b\b\b\b\b\b\b\b\b\b\b\b\b\b\b\b\b\b\b\b\b\b\b\b\b\b\b\b\b\b\b\b\b\b\b\b\b\b\b\b\b\b\b\b\b\b\b\b\b\b\b\b\b\b\b\b\b\b\b\b\b\b\b\b\b\b\b\b\b\b\b\b\b\b\b\b\b\b\b\b\b\b\b\b\b\r",
      "36/36 [==============================] - 0s 3ms/step - loss: 9.2603 - mae: 2.1166 - mse: 9.2603 - val_loss: 14.0484 - val_mae: 2.4778 - val_mse: 14.0484\n"
     ]
    },
    {
     "name": "stdout",
     "output_type": "stream",
     "text": [
      "Epoch 32/100\n"
     ]
    },
    {
     "name": "stdout",
     "output_type": "stream",
     "text": [
      "\r",
      " 1/36 [..............................] - ETA: 0s - loss: 5.3201 - mae: 1.8011 - mse: 5.3201"
     ]
    },
    {
     "name": "stdout",
     "output_type": "stream",
     "text": [
      "\b\b\b\b\b\b\b\b\b\b\b\b\b\b\b\b\b\b\b\b\b\b\b\b\b\b\b\b\b\b\b\b\b\b\b\b\b\b\b\b\b\b\b\b\b\b\b\b\b\b\b\b\b\b\b\b\b\b\b\b\b\b\b\b\b\b\b\b\b\b\b\b\b\b\b\b\b\b\b\b\b\b\b\b\b\b\b\b\b\b\b\r",
      "36/36 [==============================] - 0s 2ms/step - loss: 8.9376 - mae: 2.0842 - mse: 8.9376 - val_loss: 14.9942 - val_mae: 2.5042 - val_mse: 14.9942\n"
     ]
    },
    {
     "name": "stdout",
     "output_type": "stream",
     "text": [
      "Epoch 33/100\n",
      "\r",
      " 1/36 [..............................] - ETA: 0s - loss: 8.2969 - mae: 2.1881 - mse: 8.2969"
     ]
    },
    {
     "name": "stdout",
     "output_type": "stream",
     "text": [
      "\b\b\b\b\b\b\b\b\b\b\b\b\b\b\b\b\b\b\b\b\b\b\b\b\b\b\b\b\b\b\b\b\b\b\b\b\b\b\b\b\b\b\b\b\b\b\b\b\b\b\b\b\b\b\b\b\b\b\b\b\b\b\b\b\b\b\b\b\b\b\b\b\b\b\b\b\b\b\b\b\b\b\b\b\b\b\b\b\b\b\b\r",
      "36/36 [==============================] - 0s 2ms/step - loss: 8.9194 - mae: 2.1055 - mse: 8.9194 - val_loss: 14.8121 - val_mae: 2.5208 - val_mse: 14.8121\n"
     ]
    },
    {
     "name": "stdout",
     "output_type": "stream",
     "text": [
      "Epoch 34/100\n",
      "\r",
      " 1/36 [..............................] - ETA: 0s - loss: 5.3883 - mae: 1.6524 - mse: 5.3883"
     ]
    },
    {
     "name": "stdout",
     "output_type": "stream",
     "text": [
      "\b\b\b\b\b\b\b\b\b\b\b\b\b\b\b\b\b\b\b\b\b\b\b\b\b\b\b\b\b\b\b\b\b\b\b\b\b\b\b\b\b\b\b\b\b\b\b\b\b\b\b\b\b\b\b\b\b\b\b\b\b\b\b\b\b\b\b\b\b\b\b\b\b\b\b\b\b\b\b\b\b\b\b\b\b\b\b\b\b\b\b\r",
      "36/36 [==============================] - 0s 2ms/step - loss: 8.8447 - mae: 2.0719 - mse: 8.8447 - val_loss: 14.3170 - val_mae: 2.4864 - val_mse: 14.3170\n"
     ]
    },
    {
     "name": "stdout",
     "output_type": "stream",
     "text": [
      "Epoch 35/100\n",
      "\r",
      " 1/36 [..............................] - ETA: 0s - loss: 43.8930 - mae: 3.2587 - mse: 43.8930"
     ]
    },
    {
     "name": "stdout",
     "output_type": "stream",
     "text": [
      "\b\b\b\b\b\b\b\b\b\b\b\b\b\b\b\b\b\b\b\b\b\b\b\b\b\b\b\b\b\b\b\b\b\b\b\b\b\b\b\b\b\b\b\b\b\b\b\b\b\b\b\b\b\b\b\b\b\b\b\b\b\b\b\b\b\b\b\b\b\b\b\b\b\b\b\b\b\b\b\b\b\b\b\b\b\b\b\b\b\b\b\b\b\r",
      "36/36 [==============================] - 0s 2ms/step - loss: 8.6136 - mae: 2.0538 - mse: 8.6136 - val_loss: 14.6798 - val_mae: 2.4802 - val_mse: 14.6798\n"
     ]
    },
    {
     "name": "stdout",
     "output_type": "stream",
     "text": [
      "Epoch 36/100\n",
      "\r",
      " 1/36 [..............................] - ETA: 0s - loss: 2.5058 - mae: 1.1864 - mse: 2.5058"
     ]
    },
    {
     "name": "stdout",
     "output_type": "stream",
     "text": [
      "\b\b\b\b\b\b\b\b\b\b\b\b\b\b\b\b\b\b\b\b\b\b\b\b\b\b\b\b\b\b\b\b\b\b\b\b\b\b\b\b\b\b\b\b\b\b\b\b\b\b\b\b\b\b\b\b\b\b\b\b\b\b\b\b\b\b\b\b\b\b\b\b\b\b\b\b\b\b\b\b\b\b\b\b\b\b\b\b\b\b\b\r",
      "36/36 [==============================] - 0s 2ms/step - loss: 8.7849 - mae: 2.0455 - mse: 8.7849 - val_loss: 13.8648 - val_mae: 2.4560 - val_mse: 13.8648\n"
     ]
    },
    {
     "name": "stdout",
     "output_type": "stream",
     "text": [
      "Epoch 37/100\n",
      "\r",
      " 1/36 [..............................] - ETA: 0s - loss: 7.9070 - mae: 2.1361 - mse: 7.9070"
     ]
    },
    {
     "name": "stdout",
     "output_type": "stream",
     "text": [
      "\b\b\b\b\b\b\b\b\b\b\b\b\b\b\b\b\b\b\b\b\b\b\b\b\b\b\b\b\b\b\b\b\b\b\b\b\b\b\b\b\b\b\b\b\b\b\b\b\b\b\b\b\b\b\b\b\b\b\b\b\b\b\b\b\b\b\b\b\b\b\b\b\b\b\b\b\b\b\b\b\b\b\b\b\b\b\b\b\b\b\b\r",
      "36/36 [==============================] - 0s 2ms/step - loss: 8.6908 - mae: 2.0650 - mse: 8.6908 - val_loss: 14.2627 - val_mae: 2.4784 - val_mse: 14.2627\n"
     ]
    },
    {
     "name": "stdout",
     "output_type": "stream",
     "text": [
      "Epoch 38/100\n",
      "\r",
      " 1/36 [..............................] - ETA: 0s - loss: 6.9295 - mae: 2.1939 - mse: 6.9295"
     ]
    },
    {
     "name": "stdout",
     "output_type": "stream",
     "text": [
      "\b\b\b\b\b\b\b\b\b\b\b\b\b\b\b\b\b\b\b\b\b\b\b\b\b\b\b\b\b\b\b\b\b\b\b\b\b\b\b\b\b\b\b\b\b\b\b\b\b\b\b\b\b\b\b\b\b\b\b\b\b\b\b\b\b\b\b\b\b\b\b\b\b\b\b\b\b\b\b\b\b\b\b\b\b\b\b\b\b\b\b\r",
      "36/36 [==============================] - 0s 2ms/step - loss: 8.3519 - mae: 2.0229 - mse: 8.3519 - val_loss: 14.1649 - val_mae: 2.4617 - val_mse: 14.1649\n"
     ]
    },
    {
     "name": "stdout",
     "output_type": "stream",
     "text": [
      "Epoch 39/100\n",
      "\r",
      " 1/36 [..............................] - ETA: 0s - loss: 3.1359 - mae: 1.4777 - mse: 3.1359"
     ]
    },
    {
     "name": "stdout",
     "output_type": "stream",
     "text": [
      "\b\b\b\b\b\b\b\b\b\b\b\b\b\b\b\b\b\b\b\b\b\b\b\b\b\b\b\b\b\b\b\b\b\b\b\b\b\b\b\b\b\b\b\b\b\b\b\b\b\b\b\b\b\b\b\b\b\b\b\b\b\b\b\b\b\b\b\b\b\b\b\b\b\b\b\b\b\b\b\b\b\b\b\b\b\b\b\b\b\b\b\r",
      "36/36 [==============================] - 0s 2ms/step - loss: 8.3464 - mae: 2.0540 - mse: 8.3464 - val_loss: 13.2801 - val_mae: 2.4016 - val_mse: 13.2801\n"
     ]
    },
    {
     "name": "stdout",
     "output_type": "stream",
     "text": [
      "Epoch 40/100\n",
      "\r",
      " 1/36 [..............................] - ETA: 0s - loss: 4.0241 - mae: 1.5442 - mse: 4.0241"
     ]
    },
    {
     "name": "stdout",
     "output_type": "stream",
     "text": [
      "\b\b\b\b\b\b\b\b\b\b\b\b\b\b\b\b\b\b\b\b\b\b\b\b\b\b\b\b\b\b\b\b\b\b\b\b\b\b\b\b\b\b\b\b\b\b\b\b\b\b\b\b\b\b\b\b\b\b\b\b\b\b\b\b\b\b\b\b\b\b\b\b\b\b\b\b\b\b\b\b\b\b\b\b\b\b\b\b\b\b\b\r",
      "36/36 [==============================] - 0s 2ms/step - loss: 8.1010 - mae: 1.9930 - mse: 8.1010 - val_loss: 13.5650 - val_mae: 2.4058 - val_mse: 13.5650\n"
     ]
    },
    {
     "name": "stdout",
     "output_type": "stream",
     "text": [
      "Epoch 41/100\n",
      "\r",
      " 1/36 [..............................] - ETA: 0s - loss: 11.5849 - mae: 2.2403 - mse: 11.5849"
     ]
    },
    {
     "name": "stdout",
     "output_type": "stream",
     "text": [
      "\b\b\b\b\b\b\b\b\b\b\b\b\b\b\b\b\b\b\b\b\b\b\b\b\b\b\b\b\b\b\b\b\b\b\b\b\b\b\b\b\b\b\b\b\b\b\b\b\b\b\b\b\b\b\b\b\b\b\b\b\b\b\b\b\b\b\b\b\b\b\b\b\b\b\b\b\b\b\b\b\b\b\b\b\b\b\b\b\b\b\b\b\b\r",
      "36/36 [==============================] - 0s 2ms/step - loss: 8.0642 - mae: 1.9751 - mse: 8.0642 - val_loss: 15.4452 - val_mae: 2.5221 - val_mse: 15.4452\n"
     ]
    },
    {
     "name": "stdout",
     "output_type": "stream",
     "text": [
      "Epoch 42/100\n",
      "\r",
      " 1/36 [..............................] - ETA: 0s - loss: 7.4993 - mae: 2.3373 - mse: 7.4993"
     ]
    },
    {
     "name": "stdout",
     "output_type": "stream",
     "text": [
      "\b\b\b\b\b\b\b\b\b\b\b\b\b\b\b\b\b\b\b\b\b\b\b\b\b\b\b\b\b\b\b\b\b\b\b\b\b\b\b\b\b\b\b\b\b\b\b\b\b\b\b\b\b\b\b\b\b\b\b\b\b\b\b\b\b\b\b\b\b\b\b\b\b\b\b\b\b\b\b\b\b\b\b\b\b\b\b\b\b\b\b\r",
      "36/36 [==============================] - 0s 2ms/step - loss: 8.0004 - mae: 1.9871 - mse: 8.0004 - val_loss: 13.8006 - val_mae: 2.4717 - val_mse: 13.8006\n"
     ]
    },
    {
     "name": "stdout",
     "output_type": "stream",
     "text": [
      "Epoch 43/100\n",
      "\r",
      " 1/36 [..............................] - ETA: 0s - loss: 9.1996 - mae: 1.9518 - mse: 9.1996"
     ]
    },
    {
     "name": "stdout",
     "output_type": "stream",
     "text": [
      "\b\b\b\b\b\b\b\b\b\b\b\b\b\b\b\b\b\b\b\b\b\b\b\b\b\b\b\b\b\b\b\b\b\b\b\b\b\b\b\b\b\b\b\b\b\b\b\b\b\b\b\b\b\b\b\b\b\b\b\b\b\b\b\b\b\b\b\b\b\b\b\b\b\b\b\b\b\b\b\b\b\b\b\b\b\b\b\b\b\b\b\r",
      "36/36 [==============================] - 0s 2ms/step - loss: 8.0023 - mae: 1.9510 - mse: 8.0023 - val_loss: 13.7937 - val_mae: 2.4129 - val_mse: 13.7937\n"
     ]
    },
    {
     "name": "stdout",
     "output_type": "stream",
     "text": [
      "Epoch 44/100\n",
      "\r",
      " 1/36 [..............................] - ETA: 0s - loss: 12.7615 - mae: 2.7751 - mse: 12.7615"
     ]
    },
    {
     "name": "stdout",
     "output_type": "stream",
     "text": [
      "\b\b\b\b\b\b\b\b\b\b\b\b\b\b\b\b\b\b\b\b\b\b\b\b\b\b\b\b\b\b\b\b\b\b\b\b\b\b\b\b\b\b\b\b\b\b\b\b\b\b\b\b\b\b\b\b\b\b\b\b\b\b\b\b\b\b\b\b\b\b\b\b\b\b\b\b\b\b\b\b\b\b\b\b\b\b\b\b\b\b\b\b\b\r",
      "36/36 [==============================] - 0s 2ms/step - loss: 7.8025 - mae: 1.9665 - mse: 7.8025 - val_loss: 14.2702 - val_mae: 2.5141 - val_mse: 14.2702\n"
     ]
    },
    {
     "name": "stdout",
     "output_type": "stream",
     "text": [
      "Epoch 45/100\n",
      "\r",
      " 1/36 [..............................] - ETA: 0s - loss: 9.2198 - mae: 2.2451 - mse: 9.2198"
     ]
    },
    {
     "name": "stdout",
     "output_type": "stream",
     "text": [
      "\b\b\b\b\b\b\b\b\b\b\b\b\b\b\b\b\b\b\b\b\b\b\b\b\b\b\b\b\b\b\b\b\b\b\b\b\b\b\b\b\b\b\b\b\b\b\b\b\b\b\b\b\b\b\b\b\b\b\b\b\b\b\b\b\b\b\b\b\b\b\b\b\b\b\b\b\b\b\b\b\b\b\b\b\b\b\b\b\b\b\b\r",
      "36/36 [==============================] - 0s 2ms/step - loss: 7.7570 - mae: 1.9942 - mse: 7.7570 - val_loss: 13.6718 - val_mae: 2.4283 - val_mse: 13.6718\n"
     ]
    },
    {
     "name": "stdout",
     "output_type": "stream",
     "text": [
      "Epoch 46/100\n",
      "\r",
      " 1/36 [..............................] - ETA: 0s - loss: 12.3138 - mae: 2.8130 - mse: 12.3138"
     ]
    },
    {
     "name": "stdout",
     "output_type": "stream",
     "text": [
      "\b\b\b\b\b\b\b\b\b\b\b\b\b\b\b\b\b\b\b\b\b\b\b\b\b\b\b\b\b\b\b\b\b\b\b\b\b\b\b\b\b\b\b\b\b\b\b\b\b\b\b\b\b\b\b\b\b\b\b\b\b\b\b\b\b\b\b\b\b\b\b\b\b\b\b\b\b\b\b\b\b\b\b\b\b\b\b\b\b\b\b\b\b\r",
      "36/36 [==============================] - 0s 2ms/step - loss: 7.6489 - mae: 1.9492 - mse: 7.6489 - val_loss: 13.4847 - val_mae: 2.4089 - val_mse: 13.4847\n"
     ]
    },
    {
     "name": "stdout",
     "output_type": "stream",
     "text": [
      "Epoch 47/100\n",
      "\r",
      " 1/36 [..............................] - ETA: 0s - loss: 4.0593 - mae: 1.6419 - mse: 4.0593"
     ]
    },
    {
     "name": "stdout",
     "output_type": "stream",
     "text": [
      "\b\b\b\b\b\b\b\b\b\b\b\b\b\b\b\b\b\b\b\b\b\b\b\b\b\b\b\b\b\b\b\b\b\b\b\b\b\b\b\b\b\b\b\b\b\b\b\b\b\b\b\b\b\b\b\b\b\b\b\b\b\b\b\b\b\b\b\b\b\b\b\b\b\b\b\b\b\b\b\b\b\b\b\b\b\b\b\b\b\b\b\r",
      "36/36 [==============================] - 0s 2ms/step - loss: 7.6494 - mae: 1.9502 - mse: 7.6494 - val_loss: 14.3631 - val_mae: 2.4726 - val_mse: 14.3631\n"
     ]
    },
    {
     "name": "stdout",
     "output_type": "stream",
     "text": [
      "Epoch 48/100\n",
      "\r",
      " 1/36 [..............................] - ETA: 0s - loss: 1.2665 - mae: 0.8139 - mse: 1.2665"
     ]
    },
    {
     "name": "stdout",
     "output_type": "stream",
     "text": [
      "\b\b\b\b\b\b\b\b\b\b\b\b\b\b\b\b\b\b\b\b\b\b\b\b\b\b\b\b\b\b\b\b\b\b\b\b\b\b\b\b\b\b\b\b\b\b\b\b\b\b\b\b\b\b\b\b\b\b\b\b\b\b\b\b\b\b\b\b\b\b\b\b\b\b\b\b\b\b\b\b\b\b\b\b\b\b\b\b\b\b\b\r",
      "36/36 [==============================] - 0s 2ms/step - loss: 7.6113 - mae: 1.9259 - mse: 7.6113 - val_loss: 14.7889 - val_mae: 2.4596 - val_mse: 14.7889\n"
     ]
    },
    {
     "name": "stdout",
     "output_type": "stream",
     "text": [
      "Epoch 49/100\n",
      "\r",
      " 1/36 [..............................] - ETA: 0s - loss: 4.0618 - mae: 1.7699 - mse: 4.0618"
     ]
    },
    {
     "name": "stdout",
     "output_type": "stream",
     "text": [
      "\b\b\b\b\b\b\b\b\b\b\b\b\b\b\b\b\b\b\b\b\b\b\b\b\b\b\b\b\b\b\b\b\b\b\b\b\b\b\b\b\b\b\b\b\b\b\b\b\b\b\b\b\b\b\b\b\b\b\b\b\b\b\b\b\b\b\b\b\b\b\b\b\b\b\b\b\b\b\b\b\b\b\b\b\b\b\b\b\b\b\b\r",
      "36/36 [==============================] - 0s 2ms/step - loss: 7.6278 - mae: 1.9507 - mse: 7.6278 - val_loss: 15.5162 - val_mae: 2.5617 - val_mse: 15.5162\n"
     ]
    },
    {
     "name": "stdout",
     "output_type": "stream",
     "text": [
      "Epoch 50/100\n",
      "\r",
      " 1/36 [..............................] - ETA: 0s - loss: 5.1634 - mae: 1.8709 - mse: 5.1634"
     ]
    },
    {
     "name": "stdout",
     "output_type": "stream",
     "text": [
      "\b\b\b\b\b\b\b\b\b\b\b\b\b\b\b\b\b\b\b\b\b\b\b\b\b\b\b\b\b\b\b\b\b\b\b\b\b\b\b\b\b\b\b\b\b\b\b\b\b\b\b\b\b\b\b\b\b\b\b\b\b\b\b\b\b\b\b\b\b\b\b\b\b\b\b\b\b\b\b\b\b\b\b\b\b\b\b\b\b\b\b\r",
      "36/36 [==============================] - 0s 2ms/step - loss: 7.3041 - mae: 1.9047 - mse: 7.3041 - val_loss: 13.3008 - val_mae: 2.4135 - val_mse: 13.3008\n"
     ]
    },
    {
     "name": "stdout",
     "output_type": "stream",
     "text": [
      "Epoch 51/100\n",
      "\r",
      " 1/36 [..............................] - ETA: 0s - loss: 3.6307 - mae: 1.4810 - mse: 3.6307"
     ]
    },
    {
     "name": "stdout",
     "output_type": "stream",
     "text": [
      "\b\b\b\b\b\b\b\b\b\b\b\b\b\b\b\b\b\b\b\b\b\b\b\b\b\b\b\b\b\b\b\b\b\b\b\b\b\b\b\b\b\b\b\b\b\b\b\b\b\b\b\b\b\b\b\b\b\b\b\b\b\b\b\b\b\b\b\b\b\b\b\b\b\b\b\b\b\b\b\b\b\b\b\b\b\b\b\b\b\b\b\r",
      "36/36 [==============================] - 0s 2ms/step - loss: 7.2821 - mae: 1.9214 - mse: 7.2821 - val_loss: 13.3205 - val_mae: 2.4189 - val_mse: 13.3205\n"
     ]
    },
    {
     "name": "stdout",
     "output_type": "stream",
     "text": [
      "Epoch 52/100\n",
      "\r",
      " 1/36 [..............................] - ETA: 0s - loss: 13.3746 - mae: 2.3897 - mse: 13.3746"
     ]
    },
    {
     "name": "stdout",
     "output_type": "stream",
     "text": [
      "\b\b\b\b\b\b\b\b\b\b\b\b\b\b\b\b\b\b\b\b\b\b\b\b\b\b\b\b\b\b\b\b\b\b\b\b\b\b\b\b\b\b\b\b\b\b\b\b\b\b\b\b\b\b\b\b\b\b\b\b\b\b\b\b\b\b\b\b\b\b\b\b\b\b\b\b\b\b\b\b\b\b\b\b\b\b\b\b\b\b\b\b\b\r",
      "36/36 [==============================] - 0s 2ms/step - loss: 7.3565 - mae: 1.8909 - mse: 7.3565 - val_loss: 13.3063 - val_mae: 2.3615 - val_mse: 13.3063\n"
     ]
    },
    {
     "name": "stdout",
     "output_type": "stream",
     "text": [
      "Epoch 53/100\n",
      "\r",
      " 1/36 [..............................] - ETA: 0s - loss: 16.4461 - mae: 2.9820 - mse: 16.4461"
     ]
    },
    {
     "name": "stdout",
     "output_type": "stream",
     "text": [
      "\b\b\b\b\b\b\b\b\b\b\b\b\b\b\b\b\b\b\b\b\b\b\b\b\b\b\b\b\b\b\b\b\b\b\b\b\b\b\b\b\b\b\b\b\b\b\b\b\b\b\b\b\b\b\b\b\b\b\b\b\b\b\b\b\b\b\b\b\b\b\b\b\b\b\b\b\b\b\b\b\b\b\b\b\b\b\b\b\b\b\b\b\b\r",
      "36/36 [==============================] - 0s 2ms/step - loss: 7.2399 - mae: 1.8732 - mse: 7.2399 - val_loss: 13.0869 - val_mae: 2.3626 - val_mse: 13.0869\n"
     ]
    },
    {
     "name": "stdout",
     "output_type": "stream",
     "text": [
      "Epoch 54/100\n",
      "\r",
      " 1/36 [..............................] - ETA: 0s - loss: 5.4357 - mae: 1.9095 - mse: 5.4357"
     ]
    },
    {
     "name": "stdout",
     "output_type": "stream",
     "text": [
      "\b\b\b\b\b\b\b\b\b\b\b\b\b\b\b\b\b\b\b\b\b\b\b\b\b\b\b\b\b\b\b\b\b\b\b\b\b\b\b\b\b\b\b\b\b\b\b\b\b\b\b\b\b\b\b\b\b\b\b\b\b\b\b\b\b\b\b\b\b\b\b\b\b\b\b\b\b\b\b\b\b\b\b\b\b\b\b\b\b\b\b\r",
      "36/36 [==============================] - 0s 2ms/step - loss: 7.3204 - mae: 1.8823 - mse: 7.3204 - val_loss: 13.6383 - val_mae: 2.3804 - val_mse: 13.6383\n"
     ]
    },
    {
     "name": "stdout",
     "output_type": "stream",
     "text": [
      "Epoch 55/100\n",
      "\r",
      " 1/36 [..............................] - ETA: 0s - loss: 9.5260 - mae: 2.6376 - mse: 9.5260"
     ]
    },
    {
     "name": "stdout",
     "output_type": "stream",
     "text": [
      "\b\b\b\b\b\b\b\b\b\b\b\b\b\b\b\b\b\b\b\b\b\b\b\b\b\b\b\b\b\b\b\b\b\b\b\b\b\b\b\b\b\b\b\b\b\b\b\b\b\b\b\b\b\b\b\b\b\b\b\b\b\b\b\b\b\b\b\b\b\b\b\b\b\b\b\b\b\b\b\b\b\b\b\b\b\b\b\b\b\b\b\r",
      "36/36 [==============================] - 0s 2ms/step - loss: 6.9565 - mae: 1.8496 - mse: 6.9565 - val_loss: 14.2109 - val_mae: 2.4282 - val_mse: 14.2109\n"
     ]
    },
    {
     "name": "stdout",
     "output_type": "stream",
     "text": [
      "Epoch 56/100\n",
      "\r",
      " 1/36 [..............................] - ETA: 0s - loss: 5.3659 - mae: 1.8715 - mse: 5.3659"
     ]
    },
    {
     "name": "stdout",
     "output_type": "stream",
     "text": [
      "\b\b\b\b\b\b\b\b\b\b\b\b\b\b\b\b\b\b\b\b\b\b\b\b\b\b\b\b\b\b\b\b\b\b\b\b\b\b\b\b\b\b\b\b\b\b\b\b\b\b\b\b\b\b\b\b\b\b\b\b\b\b\b\b\b\b\b\b\b\b\b\b\b\b\b\b\b\b\b\b\b\b\b\b\b\b\b\b\b\b\b\r",
      "36/36 [==============================] - 0s 2ms/step - loss: 7.0620 - mae: 1.8954 - mse: 7.0620 - val_loss: 13.3942 - val_mae: 2.3656 - val_mse: 13.3942\n"
     ]
    },
    {
     "name": "stdout",
     "output_type": "stream",
     "text": [
      "Epoch 57/100\n",
      "\r",
      " 1/36 [..............................] - ETA: 0s - loss: 1.4456 - mae: 1.0507 - mse: 1.4456"
     ]
    },
    {
     "name": "stdout",
     "output_type": "stream",
     "text": [
      "\b\b\b\b\b\b\b\b\b\b\b\b\b\b\b\b\b\b\b\b\b\b\b\b\b\b\b\b\b\b\b\b\b\b\b\b\b\b\b\b\b\b\b\b\b\b\b\b\b\b\b\b\b\b\b\b\b\b\b\b\b\b\b\b\b\b\b\b\b\b\b\b\b\b\b\b\b\b\b\b\b\b\b\b\b\b\b\b\b\b\b\r",
      "36/36 [==============================] - 0s 2ms/step - loss: 7.0092 - mae: 1.8819 - mse: 7.0092 - val_loss: 13.4036 - val_mae: 2.3867 - val_mse: 13.4036\n"
     ]
    },
    {
     "name": "stdout",
     "output_type": "stream",
     "text": [
      "Epoch 58/100\n",
      "\r",
      " 1/36 [..............................] - ETA: 0s - loss: 6.4874 - mae: 2.1595 - mse: 6.4874"
     ]
    },
    {
     "name": "stdout",
     "output_type": "stream",
     "text": [
      "\b\b\b\b\b\b\b\b\b\b\b\b\b\b\b\b\b\b\b\b\b\b\b\b\b\b\b\b\b\b\b\b\b\b\b\b\b\b\b\b\b\b\b\b\b\b\b\b\b\b\b\b\b\b\b\b\b\b\b\b\b\b\b\b\b\b\b\b\b\b\b\b\b\b\b\b\b\b\b\b\b\b\b\b\b\b\b\b\b\b\b\r",
      "36/36 [==============================] - 0s 2ms/step - loss: 6.9920 - mae: 1.8659 - mse: 6.9920 - val_loss: 13.8693 - val_mae: 2.4016 - val_mse: 13.8693\n"
     ]
    },
    {
     "name": "stdout",
     "output_type": "stream",
     "text": [
      "Epoch 59/100\n",
      "\r",
      " 1/36 [..............................] - ETA: 0s - loss: 2.6567 - mae: 1.3746 - mse: 2.6567"
     ]
    },
    {
     "name": "stdout",
     "output_type": "stream",
     "text": [
      "\b\b\b\b\b\b\b\b\b\b\b\b\b\b\b\b\b\b\b\b\b\b\b\b\b\b\b\b\b\b\b\b\b\b\b\b\b\b\b\b\b\b\b\b\b\b\b\b\b\b\b\b\b\b\b\b\b\b\b\b\b\b\b\b\b\b\b\b\b\b\b\b\b\b\b\b\b\b\b\b\b\b\b\b\b\b\b\b\b\b\b\r",
      "36/36 [==============================] - 0s 2ms/step - loss: 6.9226 - mae: 1.8695 - mse: 6.9226 - val_loss: 13.8495 - val_mae: 2.4325 - val_mse: 13.8495\n"
     ]
    },
    {
     "name": "stdout",
     "output_type": "stream",
     "text": [
      "Epoch 60/100\n",
      "\r",
      " 1/36 [..............................] - ETA: 0s - loss: 11.7619 - mae: 2.2614 - mse: 11.7619"
     ]
    },
    {
     "name": "stdout",
     "output_type": "stream",
     "text": [
      "\b\b\b\b\b\b\b\b\b\b\b\b\b\b\b\b\b\b\b\b\b\b\b\b\b\b\b\b\b\b\b\b\b\b\b\b\b\b\b\b\b\b\b\b\b\b\b\b\b\b\b\b\b\b\b\b\b\b\b\b\b\b\b\b\b\b\b\b\b\b\b\b\b\b\b\b\b\b\b\b\b\b\b\b\b\b\b\b\b\b\b\b\b\r",
      "36/36 [==============================] - 0s 2ms/step - loss: 6.8162 - mae: 1.8100 - mse: 6.8162 - val_loss: 15.4320 - val_mae: 2.5449 - val_mse: 15.4320\n"
     ]
    },
    {
     "name": "stdout",
     "output_type": "stream",
     "text": [
      "Epoch 61/100\n",
      "\r",
      " 1/36 [..............................] - ETA: 0s - loss: 8.1087 - mae: 2.3767 - mse: 8.1087"
     ]
    },
    {
     "name": "stdout",
     "output_type": "stream",
     "text": [
      "\b\b\b\b\b\b\b\b\b\b\b\b\b\b\b\b\b\b\b\b\b\b\b\b\b\b\b\b\b\b\b\b\b\b\b\b\b\b\b\b\b\b\b\b\b\b\b\b\b\b\b\b\b\b\b\b\b\b\b\b\b\b\b\b\b\b\b\b\b\b\b\b\b\b\b\b\b\b\b\b\b\b\b\b\b\b\b\b\b\b\b\r",
      "36/36 [==============================] - 0s 2ms/step - loss: 6.9133 - mae: 1.8762 - mse: 6.9133 - val_loss: 12.9091 - val_mae: 2.3326 - val_mse: 12.9091\n"
     ]
    },
    {
     "name": "stdout",
     "output_type": "stream",
     "text": [
      "Epoch 62/100\n",
      "\r",
      " 1/36 [..............................] - ETA: 0s - loss: 3.9485 - mae: 1.4542 - mse: 3.9485"
     ]
    },
    {
     "name": "stdout",
     "output_type": "stream",
     "text": [
      "\b\b\b\b\b\b\b\b\b\b\b\b\b\b\b\b\b\b\b\b\b\b\b\b\b\b\b\b\b\b\b\b\b\b\b\b\b\b\b\b\b\b\b\b\b\b\b\b\b\b\b\b\b\b\b\b\b\b\b\b\b\b\b\b\b\b\b\b\b\b\b\b\b\b\b\b\b\b\b\b\b\b\b\b\b\b\b\b\b\b\b\r",
      "36/36 [==============================] - 0s 2ms/step - loss: 6.7509 - mae: 1.8198 - mse: 6.7509 - val_loss: 13.1486 - val_mae: 2.3938 - val_mse: 13.1486\n"
     ]
    },
    {
     "name": "stdout",
     "output_type": "stream",
     "text": [
      "Epoch 63/100\n",
      "\r",
      " 1/36 [..............................] - ETA: 0s - loss: 8.7804 - mae: 2.3251 - mse: 8.7804"
     ]
    },
    {
     "name": "stdout",
     "output_type": "stream",
     "text": [
      "\b\b\b\b\b\b\b\b\b\b\b\b\b\b\b\b\b\b\b\b\b\b\b\b\b\b\b\b\b\b\b\b\b\b\b\b\b\b\b\b\b\b\b\b\b\b\b\b\b\b\b\b\b\b\b\b\b\b\b\b\b\b\b\b\b\b\b\b\b\b\b\b\b\b\b\b\b\b\b\b\b\b\b\b\b\b\b\b\b\b\b\r",
      "36/36 [==============================] - 0s 2ms/step - loss: 6.4485 - mae: 1.7494 - mse: 6.4485 - val_loss: 14.8389 - val_mae: 2.5481 - val_mse: 14.8389\n"
     ]
    },
    {
     "name": "stdout",
     "output_type": "stream",
     "text": [
      "Epoch 64/100\n",
      "\r",
      " 1/36 [..............................] - ETA: 0s - loss: 4.9892 - mae: 1.6083 - mse: 4.9892"
     ]
    },
    {
     "name": "stdout",
     "output_type": "stream",
     "text": [
      "\b\b\b\b\b\b\b\b\b\b\b\b\b\b\b\b\b\b\b\b\b\b\b\b\b\b\b\b\b\b\b\b\b\b\b\b\b\b\b\b\b\b\b\b\b\b\b\b\b\b\b\b\b\b\b\b\b\b\b\b\b\b\b\b\b\b\b\b\b\b\b\b\b\b\b\b\b\b\b\b\b\b\b\b\b\b\b\b\b\b\b\r",
      "36/36 [==============================] - 0s 2ms/step - loss: 6.6330 - mae: 1.7830 - mse: 6.6330 - val_loss: 13.3076 - val_mae: 2.3590 - val_mse: 13.3076\n"
     ]
    },
    {
     "name": "stdout",
     "output_type": "stream",
     "text": [
      "Epoch 65/100\n",
      "\r",
      " 1/36 [..............................] - ETA: 0s - loss: 1.0009 - mae: 0.9182 - mse: 1.0009"
     ]
    },
    {
     "name": "stdout",
     "output_type": "stream",
     "text": [
      "\b\b\b\b\b\b\b\b\b\b\b\b\b\b\b\b\b\b\b\b\b\b\b\b\b\b\b\b\b\b\b\b\b\b\b\b\b\b\b\b\b\b\b\b\b\b\b\b\b\b\b\b\b\b\b\b\b\b\b\b\b\b\b\b\b\b\b\b\b\b\b\b\b\b\b\b\b\b\b\b\b\b\b\b\b\b\b\b\b\b\b\r",
      "36/36 [==============================] - 0s 2ms/step - loss: 6.4051 - mae: 1.8167 - mse: 6.4051 - val_loss: 13.1992 - val_mae: 2.3794 - val_mse: 13.1992\n"
     ]
    },
    {
     "name": "stdout",
     "output_type": "stream",
     "text": [
      "Epoch 66/100\n",
      "\r",
      " 1/36 [..............................] - ETA: 0s - loss: 1.8588 - mae: 0.9972 - mse: 1.8588"
     ]
    },
    {
     "name": "stdout",
     "output_type": "stream",
     "text": [
      "\b\b\b\b\b\b\b\b\b\b\b\b\b\b\b\b\b\b\b\b\b\b\b\b\b\b\b\b\b\b\b\b\b\b\b\b\b\b\b\b\b\b\b\b\b\b\b\b\b\b\b\b\b\b\b\b\b\b\b\b\b\b\b\b\b\b\b\b\b\b\b\b\b\b\b\b\b\b\b\b\b\b\b\b\b\b\b\b\b\b\b\r",
      "36/36 [==============================] - 0s 2ms/step - loss: 6.4886 - mae: 1.7793 - mse: 6.4886 - val_loss: 13.0932 - val_mae: 2.3837 - val_mse: 13.0932\n"
     ]
    },
    {
     "name": "stdout",
     "output_type": "stream",
     "text": [
      "Epoch 67/100\n",
      "\r",
      " 1/36 [..............................] - ETA: 0s - loss: 10.6858 - mae: 2.4324 - mse: 10.6858"
     ]
    },
    {
     "name": "stdout",
     "output_type": "stream",
     "text": [
      "\b\b\b\b\b\b\b\b\b\b\b\b\b\b\b\b\b\b\b\b\b\b\b\b\b\b\b\b\b\b\b\b\b\b\b\b\b\b\b\b\b\b\b\b\b\b\b\b\b\b\b\b\b\b\b\b\b\b\b\b\b\b\b\b\b\b\b\b\b\b\b\b\b\b\b\b\b\b\b\b\b\b\b\b\b\b\b\b\b\b\b\b\b\r",
      "36/36 [==============================] - 0s 2ms/step - loss: 6.2730 - mae: 1.7868 - mse: 6.2730 - val_loss: 13.0315 - val_mae: 2.3573 - val_mse: 13.0315\n"
     ]
    },
    {
     "name": "stdout",
     "output_type": "stream",
     "text": [
      "Epoch 68/100\n",
      "\r",
      " 1/36 [..............................] - ETA: 0s - loss: 1.6576 - mae: 1.1708 - mse: 1.6576"
     ]
    },
    {
     "name": "stdout",
     "output_type": "stream",
     "text": [
      "\b\b\b\b\b\b\b\b\b\b\b\b\b\b\b\b\b\b\b\b\b\b\b\b\b\b\b\b\b\b\b\b\b\b\b\b\b\b\b\b\b\b\b\b\b\b\b\b\b\b\b\b\b\b\b\b\b\b\b\b\b\b\b\b\b\b\b\b\b\b\b\b\b\b\b\b\b\b\b\b\b\b\b\b\b\b\b\b\b\b\b\r",
      "36/36 [==============================] - 0s 2ms/step - loss: 6.3058 - mae: 1.7874 - mse: 6.3058 - val_loss: 13.9050 - val_mae: 2.5099 - val_mse: 13.9050\n"
     ]
    },
    {
     "name": "stdout",
     "output_type": "stream",
     "text": [
      "Epoch 69/100\n",
      "\r",
      " 1/36 [..............................] - ETA: 0s - loss: 6.3165 - mae: 1.8470 - mse: 6.3165"
     ]
    },
    {
     "name": "stdout",
     "output_type": "stream",
     "text": [
      "\b\b\b\b\b\b\b\b\b\b\b\b\b\b\b\b\b\b\b\b\b\b\b\b\b\b\b\b\b\b\b\b\b\b\b\b\b\b\b\b\b\b\b\b\b\b\b\b\b\b\b\b\b\b\b\b\b\b\b\b\b\b\b\b\b\b\b\b\b\b\b\b\b\b\b\b\b\b\b\b\b\b\b\b\b\b\b\b\b\b\b\r",
      "36/36 [==============================] - 0s 2ms/step - loss: 6.3884 - mae: 1.7905 - mse: 6.3884 - val_loss: 13.3257 - val_mae: 2.3857 - val_mse: 13.3257\n"
     ]
    },
    {
     "name": "stdout",
     "output_type": "stream",
     "text": [
      "Epoch 70/100\n",
      "\r",
      " 1/36 [..............................] - ETA: 0s - loss: 4.2936 - mae: 1.5829 - mse: 4.2936"
     ]
    },
    {
     "name": "stdout",
     "output_type": "stream",
     "text": [
      "\b\b\b\b\b\b\b\b\b\b\b\b\b\b\b\b\b\b\b\b\b\b\b\b\b\b\b\b\b\b\b\b\b\b\b\b\b\b\b\b\b\b\b\b\b\b\b\b\b\b\b\b\b\b\b\b\b\b\b\b\b\b\b\b\b\b\b\b\b\b\b\b\b\b\b\b\b\b\b\b\b\b\b\b\b\b\b\b\b\b\b\r",
      "36/36 [==============================] - 0s 2ms/step - loss: 6.2250 - mae: 1.7537 - mse: 6.2250 - val_loss: 13.8636 - val_mae: 2.3860 - val_mse: 13.8636\n"
     ]
    },
    {
     "name": "stdout",
     "output_type": "stream",
     "text": [
      "Epoch 71/100\n",
      "\r",
      " 1/36 [..............................] - ETA: 0s - loss: 9.3276 - mae: 2.4125 - mse: 9.3276"
     ]
    },
    {
     "name": "stdout",
     "output_type": "stream",
     "text": [
      "\b\b\b\b\b\b\b\b\b\b\b\b\b\b\b\b\b\b\b\b\b\b\b\b\b\b\b\b\b\b\b\b\b\b\b\b\b\b\b\b\b\b\b\b\b\b\b\b\b\b\b\b\b\b\b\b\b\b\b\b\b\b\b\b\b\b\b\b\b\b\b\b\b\b\b\b\b\b\b\b\b\b\b\b\b\b\b\b\b\b\b\r",
      "36/36 [==============================] - 0s 2ms/step - loss: 6.2631 - mae: 1.7455 - mse: 6.2631 - val_loss: 14.0767 - val_mae: 2.4031 - val_mse: 14.0767\n"
     ]
    },
    {
     "name": "stdout",
     "output_type": "stream",
     "text": [
      "Epoch 72/100\n",
      "\r",
      " 1/36 [..............................] - ETA: 0s - loss: 4.0660 - mae: 1.6098 - mse: 4.0660"
     ]
    },
    {
     "name": "stdout",
     "output_type": "stream",
     "text": [
      "\b\b\b\b\b\b\b\b\b\b\b\b\b\b\b\b\b\b\b\b\b\b\b\b\b\b\b\b\b\b\b\b\b\b\b\b\b\b\b\b\b\b\b\b\b\b\b\b\b\b\b\b\b\b\b\b\b\b\b\b\b\b\b\b\b\b\b\b\b\b\b\b\b\b\b\b\b\b\b\b\b\b\b\b\b\b\b\b\b\b\b\r",
      "36/36 [==============================] - 0s 2ms/step - loss: 6.2287 - mae: 1.7631 - mse: 6.2287 - val_loss: 13.2292 - val_mae: 2.3698 - val_mse: 13.2292\n"
     ]
    },
    {
     "name": "stdout",
     "output_type": "stream",
     "text": [
      "Epoch 73/100\n",
      "\r",
      " 1/36 [..............................] - ETA: 0s - loss: 6.0104 - mae: 2.1212 - mse: 6.0104"
     ]
    },
    {
     "name": "stdout",
     "output_type": "stream",
     "text": [
      "\b\b\b\b\b\b\b\b\b\b\b\b\b\b\b\b\b\b\b\b\b\b\b\b\b\b\b\b\b\b\b\b\b\b\b\b\b\b\b\b\b\b\b\b\b\b\b\b\b\b\b\b\b\b\b\b\b\b\b\b\b\b\b\b\b\b\b\b\b\b\b\b\b\b\b\b\b\b\b\b\b\b\b\b\b\b\b\b\b\b\b\r",
      "36/36 [==============================] - 0s 2ms/step - loss: 5.8985 - mae: 1.7454 - mse: 5.8985 - val_loss: 12.8910 - val_mae: 2.3427 - val_mse: 12.8910\n"
     ]
    },
    {
     "name": "stdout",
     "output_type": "stream",
     "text": [
      "Epoch 74/100\n",
      "\r",
      " 1/36 [..............................] - ETA: 0s - loss: 3.1137 - mae: 1.5237 - mse: 3.1137"
     ]
    },
    {
     "name": "stdout",
     "output_type": "stream",
     "text": [
      "\b\b\b\b\b\b\b\b\b\b\b\b\b\b\b\b\b\b\b\b\b\b\b\b\b\b\b\b\b\b\b\b\b\b\b\b\b\b\b\b\b\b\b\b\b\b\b\b\b\b\b\b\b\b\b\b\b\b\b\b\b\b\b\b\b\b\b\b\b\b\b\b\b\b\b\b\b\b\b\b\b\b\b\b\b\b\b\b\b\b\b\r",
      "36/36 [==============================] - 0s 2ms/step - loss: 6.2723 - mae: 1.7694 - mse: 6.2723 - val_loss: 12.5268 - val_mae: 2.3041 - val_mse: 12.5268\n"
     ]
    },
    {
     "name": "stdout",
     "output_type": "stream",
     "text": [
      "Epoch 75/100\n",
      "\r",
      " 1/36 [..............................] - ETA: 0s - loss: 9.1033 - mae: 2.2568 - mse: 9.1033"
     ]
    },
    {
     "name": "stdout",
     "output_type": "stream",
     "text": [
      "\b\b\b\b\b\b\b\b\b\b\b\b\b\b\b\b\b\b\b\b\b\b\b\b\b\b\b\b\b\b\b\b\b\b\b\b\b\b\b\b\b\b\b\b\b\b\b\b\b\b\b\b\b\b\b\b\b\b\b\b\b\b\b\b\b\b\b\b\b\b\b\b\b\b\b\b\b\b\b\b\b\b\b\b\b\b\b\b\b\b\b\r",
      "36/36 [==============================] - 0s 2ms/step - loss: 5.8947 - mae: 1.7714 - mse: 5.8947 - val_loss: 12.7933 - val_mae: 2.2887 - val_mse: 12.7933\n"
     ]
    },
    {
     "name": "stdout",
     "output_type": "stream",
     "text": [
      "Epoch 76/100\n",
      "\r",
      " 1/36 [..............................] - ETA: 0s - loss: 5.1906 - mae: 1.5643 - mse: 5.1906"
     ]
    },
    {
     "name": "stdout",
     "output_type": "stream",
     "text": [
      "\b\b\b\b\b\b\b\b\b\b\b\b\b\b\b\b\b\b\b\b\b\b\b\b\b\b\b\b\b\b\b\b\b\b\b\b\b\b\b\b\b\b\b\b\b\b\b\b\b\b\b\b\b\b\b\b\b\b\b\b\b\b\b\b\b\b\b\b\b\b\b\b\b\b\b\b\b\b\b\b\b\b\b\b\b\b\b\b\b\b\b\r",
      "36/36 [==============================] - 0s 2ms/step - loss: 5.8951 - mae: 1.6732 - mse: 5.8951 - val_loss: 15.5230 - val_mae: 2.5715 - val_mse: 15.5230\n"
     ]
    },
    {
     "name": "stdout",
     "output_type": "stream",
     "text": [
      "Epoch 77/100\n",
      "\r",
      " 1/36 [..............................] - ETA: 0s - loss: 4.2202 - mae: 1.7130 - mse: 4.2202"
     ]
    },
    {
     "name": "stdout",
     "output_type": "stream",
     "text": [
      "\b\b\b\b\b\b\b\b\b\b\b\b\b\b\b\b\b\b\b\b\b\b\b\b\b\b\b\b\b\b\b\b\b\b\b\b\b\b\b\b\b\b\b\b\b\b\b\b\b\b\b\b\b\b\b\b\b\b\b\b\b\b\b\b\b\b\b\b\b\b\b\b\b\b\b\b\b\b\b\b\b\b\b\b\b\b\b\b\b\b\b\r",
      "36/36 [==============================] - 0s 2ms/step - loss: 5.9246 - mae: 1.7435 - mse: 5.9246 - val_loss: 13.4371 - val_mae: 2.4378 - val_mse: 13.4371\n"
     ]
    },
    {
     "name": "stdout",
     "output_type": "stream",
     "text": [
      "Epoch 78/100\n",
      "\r",
      " 1/36 [..............................] - ETA: 0s - loss: 15.0750 - mae: 2.4584 - mse: 15.0750"
     ]
    },
    {
     "name": "stdout",
     "output_type": "stream",
     "text": [
      "\b\b\b\b\b\b\b\b\b\b\b\b\b\b\b\b\b\b\b\b\b\b\b\b\b\b\b\b\b\b\b\b\b\b\b\b\b\b\b\b\b\b\b\b\b\b\b\b\b\b\b\b\b\b\b\b\b\b\b\b\b\b\b\b\b\b\b\b\b\b\b\b\b\b\b\b\b\b\b\b\b\b\b\b\b\b\b\b\b\b\b\b\b\r",
      "36/36 [==============================] - 0s 2ms/step - loss: 5.7637 - mae: 1.6898 - mse: 5.7637 - val_loss: 12.9896 - val_mae: 2.3241 - val_mse: 12.9896\n"
     ]
    },
    {
     "name": "stdout",
     "output_type": "stream",
     "text": [
      "Epoch 79/100\n",
      "\r",
      " 1/36 [..............................] - ETA: 0s - loss: 5.7574 - mae: 1.9001 - mse: 5.7574"
     ]
    },
    {
     "name": "stdout",
     "output_type": "stream",
     "text": [
      "\b\b\b\b\b\b\b\b\b\b\b\b\b\b\b\b\b\b\b\b\b\b\b\b\b\b\b\b\b\b\b\b\b\b\b\b\b\b\b\b\b\b\b\b\b\b\b\b\b\b\b\b\b\b\b\b\b\b\b\b\b\b\b\b\b\b\b\b\b\b\b\b\b\b\b\b\b\b\b\b\b\b\b\b\b\b\b\b\b\b\b\r",
      "36/36 [==============================] - 0s 2ms/step - loss: 5.6239 - mae: 1.6565 - mse: 5.6239 - val_loss: 12.9841 - val_mae: 2.4193 - val_mse: 12.9841\n"
     ]
    },
    {
     "name": "stdout",
     "output_type": "stream",
     "text": [
      "Epoch 80/100\n",
      "\r",
      " 1/36 [..............................] - ETA: 0s - loss: 3.9726 - mae: 1.7022 - mse: 3.9726"
     ]
    },
    {
     "name": "stdout",
     "output_type": "stream",
     "text": [
      "\b\b\b\b\b\b\b\b\b\b\b\b\b\b\b\b\b\b\b\b\b\b\b\b\b\b\b\b\b\b\b\b\b\b\b\b\b\b\b\b\b\b\b\b\b\b\b\b\b\b\b\b\b\b\b\b\b\b\b\b\b\b\b\b\b\b\b\b\b\b\b\b\b\b\b\b\b\b\b\b\b\b\b\b\b\b\b\b\b\b\b\r",
      "36/36 [==============================] - 0s 2ms/step - loss: 5.6628 - mae: 1.7008 - mse: 5.6628 - val_loss: 14.2899 - val_mae: 2.5081 - val_mse: 14.2899\n"
     ]
    },
    {
     "name": "stdout",
     "output_type": "stream",
     "text": [
      "Epoch 81/100\n",
      "\r",
      " 1/36 [..............................] - ETA: 0s - loss: 4.9900 - mae: 1.9765 - mse: 4.9900"
     ]
    },
    {
     "name": "stdout",
     "output_type": "stream",
     "text": [
      "\b\b\b\b\b\b\b\b\b\b\b\b\b\b\b\b\b\b\b\b\b\b\b\b\b\b\b\b\b\b\b\b\b\b\b\b\b\b\b\b\b\b\b\b\b\b\b\b\b\b\b\b\b\b\b\b\b\b\b\b\b\b\b\b\b\b\b\b\b\b\b\b\b\b\b\b\b\b\b\b\b\b\b\b\b\b\b\b\b\b\b\r",
      "36/36 [==============================] - 0s 2ms/step - loss: 5.6927 - mae: 1.6930 - mse: 5.6927 - val_loss: 12.6935 - val_mae: 2.3240 - val_mse: 12.6935\n"
     ]
    },
    {
     "name": "stdout",
     "output_type": "stream",
     "text": [
      "Epoch 82/100\n",
      "\r",
      " 1/36 [..............................] - ETA: 0s - loss: 6.9577 - mae: 2.0217 - mse: 6.9577"
     ]
    },
    {
     "name": "stdout",
     "output_type": "stream",
     "text": [
      "\b\b\b\b\b\b\b\b\b\b\b\b\b\b\b\b\b\b\b\b\b\b\b\b\b\b\b\b\b\b\b\b\b\b\b\b\b\b\b\b\b\b\b\b\b\b\b\b\b\b\b\b\b\b\b\b\b\b\b\b\b\b\b\b\b\b\b\b\b\b\b\b\b\b\b\b\b\b\b\b\b\b\b\b\b\b\b\b\b\b\b\r",
      "36/36 [==============================] - 0s 2ms/step - loss: 5.4944 - mae: 1.7029 - mse: 5.4944 - val_loss: 13.6903 - val_mae: 2.3776 - val_mse: 13.6903\n"
     ]
    },
    {
     "name": "stdout",
     "output_type": "stream",
     "text": [
      "Epoch 83/100\n",
      "\r",
      " 1/36 [..............................] - ETA: 0s - loss: 3.2078 - mae: 1.5954 - mse: 3.2078"
     ]
    },
    {
     "name": "stdout",
     "output_type": "stream",
     "text": [
      "\b\b\b\b\b\b\b\b\b\b\b\b\b\b\b\b\b\b\b\b\b\b\b\b\b\b\b\b\b\b\b\b\b\b\b\b\b\b\b\b\b\b\b\b\b\b\b\b\b\b\b\b\b\b\b\b\b\b\b\b\b\b\b\b\b\b\b\b\b\b\b\b\b\b\b\b\b\b\b\b\b\b\b\b\b\b\b\b\b\b\b\r",
      "36/36 [==============================] - 0s 2ms/step - loss: 5.6522 - mae: 1.7010 - mse: 5.6522 - val_loss: 12.7517 - val_mae: 2.3456 - val_mse: 12.7517\n"
     ]
    },
    {
     "name": "stdout",
     "output_type": "stream",
     "text": [
      "Epoch 84/100\n",
      "\r",
      " 1/36 [..............................] - ETA: 0s - loss: 4.7529 - mae: 1.9461 - mse: 4.7529"
     ]
    },
    {
     "name": "stdout",
     "output_type": "stream",
     "text": [
      "\b\b\b\b\b\b\b\b\b\b\b\b\b\b\b\b\b\b\b\b\b\b\b\b\b\b\b\b\b\b\b\b\b\b\b\b\b\b\b\b\b\b\b\b\b\b\b\b\b\b\b\b\b\b\b\b\b\b\b\b\b\b\b\b\b\b\b\b\b\b\b\b\b\b\b\b\b\b\b\b\b\b\b\b\b\b\b\b\b\b\b\r",
      "36/36 [==============================] - 0s 2ms/step - loss: 5.5479 - mae: 1.6726 - mse: 5.5479 - val_loss: 12.3647 - val_mae: 2.3047 - val_mse: 12.3647\n"
     ]
    },
    {
     "name": "stdout",
     "output_type": "stream",
     "text": [
      "Epoch 85/100\n",
      "\r",
      " 1/36 [..............................] - ETA: 0s - loss: 1.5596 - mae: 0.8798 - mse: 1.5596"
     ]
    },
    {
     "name": "stdout",
     "output_type": "stream",
     "text": [
      "\b\b\b\b\b\b\b\b\b\b\b\b\b\b\b\b\b\b\b\b\b\b\b\b\b\b\b\b\b\b\b\b\b\b\b\b\b\b\b\b\b\b\b\b\b\b\b\b\b\b\b\b\b\b\b\b\b\b\b\b\b\b\b\b\b\b\b\b\b\b\b\b\b\b\b\b\b\b\b\b\b\b\b\b\b\b\b\b\b\b\b\r",
      "36/36 [==============================] - 0s 2ms/step - loss: 5.4444 - mae: 1.6182 - mse: 5.4444 - val_loss: 12.5509 - val_mae: 2.3111 - val_mse: 12.5509\n"
     ]
    },
    {
     "name": "stdout",
     "output_type": "stream",
     "text": [
      "Epoch 86/100\n",
      "\r",
      " 1/36 [..............................] - ETA: 0s - loss: 7.4941 - mae: 2.1528 - mse: 7.4941"
     ]
    },
    {
     "name": "stdout",
     "output_type": "stream",
     "text": [
      "\b\b\b\b\b\b\b\b\b\b\b\b\b\b\b\b\b\b\b\b\b\b\b\b\b\b\b\b\b\b\b\b\b\b\b\b\b\b\b\b\b\b\b\b\b\b\b\b\b\b\b\b\b\b\b\b\b\b\b\b\b\b\b\b\b\b\b\b\b\b\b\b\b\b\b\b\b\b\b\b\b\b\b\b\b\b\b\b\b\b\b\r",
      "36/36 [==============================] - 0s 2ms/step - loss: 5.4652 - mae: 1.6338 - mse: 5.4652 - val_loss: 12.5566 - val_mae: 2.3542 - val_mse: 12.5566\n"
     ]
    },
    {
     "name": "stdout",
     "output_type": "stream",
     "text": [
      "Epoch 87/100\n",
      "\r",
      " 1/36 [..............................] - ETA: 0s - loss: 3.4916 - mae: 1.5555 - mse: 3.4916"
     ]
    },
    {
     "name": "stdout",
     "output_type": "stream",
     "text": [
      "\b\b\b\b\b\b\b\b\b\b\b\b\b\b\b\b\b\b\b\b\b\b\b\b\b\b\b\b\b\b\b\b\b\b\b\b\b\b\b\b\b\b\b\b\b\b\b\b\b\b\b\b\b\b\b\b\b\b\b\b\b\b\b\b\b\b\b\b\b\b\b\b\b\b\b\b\b\b\b\b\b\b\b\b\b\b\b\b\b\b\b\r",
      "36/36 [==============================] - 0s 2ms/step - loss: 5.5666 - mae: 1.6390 - mse: 5.5666 - val_loss: 12.4106 - val_mae: 2.3009 - val_mse: 12.4106\n"
     ]
    },
    {
     "name": "stdout",
     "output_type": "stream",
     "text": [
      "Epoch 88/100\n",
      "\r",
      " 1/36 [..............................] - ETA: 0s - loss: 17.3554 - mae: 2.8161 - mse: 17.3554"
     ]
    },
    {
     "name": "stdout",
     "output_type": "stream",
     "text": [
      "\b\b\b\b\b\b\b\b\b\b\b\b\b\b\b\b\b\b\b\b\b\b\b\b\b\b\b\b\b\b\b\b\b\b\b\b\b\b\b\b\b\b\b\b\b\b\b\b\b\b\b\b\b\b\b\b\b\b\b\b\b\b\b\b\b\b\b\b\b\b\b\b\b\b\b\b\b\b\b\b\b\b\b\b\b\b\b\b\b\b\b\b\b\r",
      "36/36 [==============================] - 0s 2ms/step - loss: 5.2077 - mae: 1.6400 - mse: 5.2077 - val_loss: 13.3929 - val_mae: 2.3591 - val_mse: 13.3929\n"
     ]
    },
    {
     "name": "stdout",
     "output_type": "stream",
     "text": [
      "Epoch 89/100\n",
      "\r",
      " 1/36 [..............................] - ETA: 0s - loss: 1.2050 - mae: 0.8373 - mse: 1.2050"
     ]
    },
    {
     "name": "stdout",
     "output_type": "stream",
     "text": [
      "\b\b\b\b\b\b\b\b\b\b\b\b\b\b\b\b\b\b\b\b\b\b\b\b\b\b\b\b\b\b\b\b\b\b\b\b\b\b\b\b\b\b\b\b\b\b\b\b\b\b\b\b\b\b\b\b\b\b\b\b\b\b\b\b\b\b\b\b\b\b\b\b\b\b\b\b\b\b\b\b\b\b\b\b\b\b\b\b\b\b\b\r",
      "36/36 [==============================] - 0s 2ms/step - loss: 5.3255 - mae: 1.6316 - mse: 5.3255 - val_loss: 13.3948 - val_mae: 2.3415 - val_mse: 13.3948\n"
     ]
    },
    {
     "name": "stdout",
     "output_type": "stream",
     "text": [
      "Epoch 90/100\n",
      "\r",
      " 1/36 [..............................] - ETA: 0s - loss: 4.0811 - mae: 1.6029 - mse: 4.0811"
     ]
    },
    {
     "name": "stdout",
     "output_type": "stream",
     "text": [
      "\b\b\b\b\b\b\b\b\b\b\b\b\b\b\b\b\b\b\b\b\b\b\b\b\b\b\b\b\b\b\b\b\b\b\b\b\b\b\b\b\b\b\b\b\b\b\b\b\b\b\b\b\b\b\b\b\b\b\b\b\b\b\b\b\b\b\b\b\b\b\b\b\b\b\b\b\b\b\b\b\b\b\b\b\b\b\b\b\b\b\b\r",
      "36/36 [==============================] - 0s 2ms/step - loss: 5.2528 - mae: 1.5911 - mse: 5.2528 - val_loss: 14.7952 - val_mae: 2.4915 - val_mse: 14.7952\n"
     ]
    },
    {
     "name": "stdout",
     "output_type": "stream",
     "text": [
      "Epoch 91/100\n",
      "\r",
      " 1/36 [..............................] - ETA: 0s - loss: 8.1721 - mae: 2.1004 - mse: 8.1721"
     ]
    },
    {
     "name": "stdout",
     "output_type": "stream",
     "text": [
      "\b\b\b\b\b\b\b\b\b\b\b\b\b\b\b\b\b\b\b\b\b\b\b\b\b\b\b\b\b\b\b\b\b\b\b\b\b\b\b\b\b\b\b\b\b\b\b\b\b\b\b\b\b\b\b\b\b\b\b\b\b\b\b\b\b\b\b\b\b\b\b\b\b\b\b\b\b\b\b\b\b\b\b\b\b\b\b\b\b\b\b\r",
      "36/36 [==============================] - 0s 2ms/step - loss: 5.2857 - mae: 1.6431 - mse: 5.2857 - val_loss: 13.3228 - val_mae: 2.4061 - val_mse: 13.3228\n"
     ]
    },
    {
     "name": "stdout",
     "output_type": "stream",
     "text": [
      "Epoch 92/100\n",
      "\r",
      " 1/36 [..............................] - ETA: 0s - loss: 6.6123 - mae: 2.0193 - mse: 6.6123"
     ]
    },
    {
     "name": "stdout",
     "output_type": "stream",
     "text": [
      "\b\b\b\b\b\b\b\b\b\b\b\b\b\b\b\b\b\b\b\b\b\b\b\b\b\b\b\b\b\b\b\b\b\b\b\b\b\b\b\b\b\b\b\b\b\b\b\b\b\b\b\b\b\b\b\b\b\b\b\b\b\b\b\b\b\b\b\b\b\b\b\b\b\b\b\b\b\b\b\b\b\b\b\b\b\b\b\b\b\b\b\r",
      "36/36 [==============================] - 0s 2ms/step - loss: 5.3257 - mae: 1.6181 - mse: 5.3257 - val_loss: 12.9694 - val_mae: 2.3735 - val_mse: 12.9694\n"
     ]
    },
    {
     "name": "stdout",
     "output_type": "stream",
     "text": [
      "Epoch 93/100\n",
      "\r",
      " 1/36 [..............................] - ETA: 0s - loss: 4.4923 - mae: 1.5790 - mse: 4.4923"
     ]
    },
    {
     "name": "stdout",
     "output_type": "stream",
     "text": [
      "\b\b\b\b\b\b\b\b\b\b\b\b\b\b\b\b\b\b\b\b\b\b\b\b\b\b\b\b\b\b\b\b\b\b\b\b\b\b\b\b\b\b\b\b\b\b\b\b\b\b\b\b\b\b\b\b\b\b\b\b\b\b\b\b\b\b\b\b\b\b\b\b\b\b\b\b\b\b\b\b\b\b\b\b\b\b\b\b\b\b\b\r",
      "36/36 [==============================] - 0s 2ms/step - loss: 5.0725 - mae: 1.5739 - mse: 5.0725 - val_loss: 12.1460 - val_mae: 2.3334 - val_mse: 12.1460\n"
     ]
    },
    {
     "name": "stdout",
     "output_type": "stream",
     "text": [
      "Epoch 94/100\n",
      "\r",
      " 1/36 [..............................] - ETA: 0s - loss: 3.5603 - mae: 1.7095 - mse: 3.5603"
     ]
    },
    {
     "name": "stdout",
     "output_type": "stream",
     "text": [
      "\b\b\b\b\b\b\b\b\b\b\b\b\b\b\b\b\b\b\b\b\b\b\b\b\b\b\b\b\b\b\b\b\b\b\b\b\b\b\b\b\b\b\b\b\b\b\b\b\b\b\b\b\b\b\b\b\b\b\b\b\b\b\b\b\b\b\b\b\b\b\b\b\b\b\b\b\b\b\b\b\b\b\b\b\b\b\b\b\b\b\b\r",
      "36/36 [==============================] - 0s 2ms/step - loss: 5.0013 - mae: 1.5412 - mse: 5.0013 - val_loss: 12.2631 - val_mae: 2.2999 - val_mse: 12.2631\n"
     ]
    },
    {
     "name": "stdout",
     "output_type": "stream",
     "text": [
      "Epoch 95/100\n",
      "\r",
      " 1/36 [..............................] - ETA: 0s - loss: 3.5386 - mae: 1.6417 - mse: 3.5386"
     ]
    },
    {
     "name": "stdout",
     "output_type": "stream",
     "text": [
      "\b\b\b\b\b\b\b\b\b\b\b\b\b\b\b\b\b\b\b\b\b\b\b\b\b\b\b\b\b\b\b\b\b\b\b\b\b\b\b\b\b\b\b\b\b\b\b\b\b\b\b\b\b\b\b\b\b\b\b\b\b\b\b\b\b\b\b\b\b\b\b\b\b\b\b\b\b\b\b\b\b\b\b\b\b\b\b\b\b\b\b\r",
      "36/36 [==============================] - 0s 2ms/step - loss: 4.9984 - mae: 1.5613 - mse: 4.9984 - val_loss: 13.6850 - val_mae: 2.4206 - val_mse: 13.6850\n"
     ]
    },
    {
     "name": "stdout",
     "output_type": "stream",
     "text": [
      "Epoch 96/100\n",
      "\r",
      " 1/36 [..............................] - ETA: 0s - loss: 4.0995 - mae: 1.7741 - mse: 4.0995"
     ]
    },
    {
     "name": "stdout",
     "output_type": "stream",
     "text": [
      "\b\b\b\b\b\b\b\b\b\b\b\b\b\b\b\b\b\b\b\b\b\b\b\b\b\b\b\b\b\b\b\b\b\b\b\b\b\b\b\b\b\b\b\b\b\b\b\b\b\b\b\b\b\b\b\b\b\b\b\b\b\b\b\b\b\b\b\b\b\b\b\b\b\b\b\b\b\b\b\b\b\b\b\b\b\b\b\b\b\b\b\r",
      "36/36 [==============================] - 0s 2ms/step - loss: 4.9245 - mae: 1.5599 - mse: 4.9245 - val_loss: 12.8912 - val_mae: 2.4394 - val_mse: 12.8912\n"
     ]
    },
    {
     "name": "stdout",
     "output_type": "stream",
     "text": [
      "Epoch 97/100\n",
      "\r",
      " 1/36 [..............................] - ETA: 0s - loss: 3.5955 - mae: 1.6045 - mse: 3.5955"
     ]
    },
    {
     "name": "stdout",
     "output_type": "stream",
     "text": [
      "\b\b\b\b\b\b\b\b\b\b\b\b\b\b\b\b\b\b\b\b\b\b\b\b\b\b\b\b\b\b\b\b\b\b\b\b\b\b\b\b\b\b\b\b\b\b\b\b\b\b\b\b\b\b\b\b\b\b\b\b\b\b\b\b\b\b\b\b\b\b\b\b\b\b\b\b\b\b\b\b\b\b\b\b\b\b\b\b\b\b\b\r",
      "36/36 [==============================] - 0s 2ms/step - loss: 5.0209 - mae: 1.6005 - mse: 5.0209 - val_loss: 13.2827 - val_mae: 2.4309 - val_mse: 13.2827\n"
     ]
    },
    {
     "name": "stdout",
     "output_type": "stream",
     "text": [
      "Epoch 98/100\n",
      "\r",
      " 1/36 [..............................] - ETA: 0s - loss: 7.3068 - mae: 1.9157 - mse: 7.3068"
     ]
    },
    {
     "name": "stdout",
     "output_type": "stream",
     "text": [
      "\b\b\b\b\b\b\b\b\b\b\b\b\b\b\b\b\b\b\b\b\b\b\b\b\b\b\b\b\b\b\b\b\b\b\b\b\b\b\b\b\b\b\b\b\b\b\b\b\b\b\b\b\b\b\b\b\b\b\b\b\b\b\b\b\b\b\b\b\b\b\b\b\b\b\b\b\b\b\b\b\b\b\b\b\b\b\b\b\b\b\b\r",
      "36/36 [==============================] - 0s 2ms/step - loss: 4.8442 - mae: 1.5370 - mse: 4.8442 - val_loss: 14.1536 - val_mae: 2.5455 - val_mse: 14.1536\n"
     ]
    },
    {
     "name": "stdout",
     "output_type": "stream",
     "text": [
      "Epoch 99/100\n",
      "\r",
      " 1/36 [..............................] - ETA: 0s - loss: 11.6336 - mae: 2.6111 - mse: 11.6336"
     ]
    },
    {
     "name": "stdout",
     "output_type": "stream",
     "text": [
      "\b\b\b\b\b\b\b\b\b\b\b\b\b\b\b\b\b\b\b\b\b\b\b\b\b\b\b\b\b\b\b\b\b\b\b\b\b\b\b\b\b\b\b\b\b\b\b\b\b\b\b\b\b\b\b\b\b\b\b\b\b\b\b\b\b\b\b\b\b\b\b\b\b\b\b\b\b\b\b\b\b\b\b\b\b\b\b\b\b\b\b\b\b\r",
      "36/36 [==============================] - 0s 2ms/step - loss: 4.9964 - mae: 1.6024 - mse: 4.9964 - val_loss: 12.6009 - val_mae: 2.3386 - val_mse: 12.6009\n"
     ]
    },
    {
     "name": "stdout",
     "output_type": "stream",
     "text": [
      "Epoch 100/100\n",
      "\r",
      " 1/36 [..............................] - ETA: 0s - loss: 3.9114 - mae: 1.4947 - mse: 3.9114"
     ]
    },
    {
     "name": "stdout",
     "output_type": "stream",
     "text": [
      "\b\b\b\b\b\b\b\b\b\b\b\b\b\b\b\b\b\b\b\b\b\b\b\b\b\b\b\b\b\b\b\b\b\b\b\b\b\b\b\b\b\b\b\b\b\b\b\b\b\b\b\b\b\b\b\b\b\b\b\b\b\b\b\b\b\b\b\b\b\b\b\b\b\b\b\b\b\b\b\b\b\b\b\b\b\b\b\b\b\b\b\r",
      "36/36 [==============================] - 0s 2ms/step - loss: 4.8556 - mae: 1.5872 - mse: 4.8556 - val_loss: 12.0747 - val_mae: 2.3187 - val_mse: 12.0747\n"
     ]
    }
   ],
   "source": [
    "history = model.fit(x_train,\n",
    "                    y_train,\n",
    "                    epochs          = 100,\n",
    "                    batch_size      = 10,\n",
    "                    verbose         = 1,\n",
    "                    validation_data = (x_test, y_test),\n",
    "                    callbacks       = [savemodel_callback])"
   ]
  },
  {
   "cell_type": "markdown",
   "metadata": {},
   "source": [
    "## Step 6 - Evaluate\n",
    "### 6.1 - Model evaluation\n",
    "MAE =  Mean Absolute Error (between the labels and predictions)  \n",
    "A mae equal to 3 represents an average error in prediction of $3k."
   ]
  },
  {
   "cell_type": "code",
   "execution_count": 10,
   "metadata": {
    "execution": {
     "iopub.execute_input": "2021-01-14T07:11:38.818456Z",
     "iopub.status.busy": "2021-01-14T07:11:38.817974Z",
     "iopub.status.idle": "2021-01-14T07:11:38.841109Z",
     "shell.execute_reply": "2021-01-14T07:11:38.841445Z"
    }
   },
   "outputs": [
    {
     "name": "stdout",
     "output_type": "stream",
     "text": [
      "x_test / loss      : 12.0747\n",
      "x_test / mae       : 2.3187\n",
      "x_test / mse       : 12.0747\n"
     ]
    }
   ],
   "source": [
    "score = model.evaluate(x_test, y_test, verbose=0)\n",
    "\n",
    "print('x_test / loss      : {:5.4f}'.format(score[0]))\n",
    "print('x_test / mae       : {:5.4f}'.format(score[1]))\n",
    "print('x_test / mse       : {:5.4f}'.format(score[2]))"
   ]
  },
  {
   "cell_type": "markdown",
   "metadata": {},
   "source": [
    "### 6.2 - Training history\n",
    "What was the best result during our training ?"
   ]
  },
  {
   "cell_type": "code",
   "execution_count": 11,
   "metadata": {
    "execution": {
     "iopub.execute_input": "2021-01-14T07:11:38.844554Z",
     "iopub.status.busy": "2021-01-14T07:11:38.844170Z",
     "iopub.status.idle": "2021-01-14T07:11:38.846325Z",
     "shell.execute_reply": "2021-01-14T07:11:38.846653Z"
    }
   },
   "outputs": [
    {
     "name": "stdout",
     "output_type": "stream",
     "text": [
      "min( val_mae ) : 2.2887\n"
     ]
    }
   ],
   "source": [
    "print(\"min( val_mae ) : {:.4f}\".format( min(history.history[\"val_mae\"]) ) )"
   ]
  },
  {
   "cell_type": "code",
   "execution_count": 12,
   "metadata": {
    "execution": {
     "iopub.execute_input": "2021-01-14T07:11:38.854473Z",
     "iopub.status.busy": "2021-01-14T07:11:38.854147Z",
     "iopub.status.idle": "2021-01-14T07:11:39.841336Z",
     "shell.execute_reply": "2021-01-14T07:11:39.841667Z"
    }
   },
   "outputs": [
    {
     "data": {
      "text/html": [
       "<div class=\"comment\">Saved: ./run/figs/BHPD2-01-history_0</div>"
      ],
      "text/plain": [
       "<IPython.core.display.HTML object>"
      ]
     },
     "metadata": {},
     "output_type": "display_data"
    },
    {
     "data": {
      "image/png": "[encoded data removed]",
      "text/plain": [
       "<Figure size 576x432 with 1 Axes>"
      ]
     },
     "metadata": {
      "needs_background": "light"
     },
     "output_type": "display_data"
    },
    {
     "data": {
      "text/html": [
       "<div class=\"comment\">Saved: ./run/figs/BHPD2-01-history_1</div>"
      ],
      "text/plain": [
       "<IPython.core.display.HTML object>"
      ]
     },
     "metadata": {},
     "output_type": "display_data"
    },
    {
     "data": {
      "image/png": "[encoded data removed]",
      "text/plain": [
       "<Figure size 576x432 with 1 Axes>"
      ]
     },
     "metadata": {
      "needs_background": "light"
     },
     "output_type": "display_data"
    },
    {
     "data": {
      "text/html": [
       "<div class=\"comment\">Saved: ./run/figs/BHPD2-01-history_2</div>"
      ],
      "text/plain": [
       "<IPython.core.display.HTML object>"
      ]
     },
     "metadata": {},
     "output_type": "display_data"
    },
    {
     "data": {
      "image/png": "[encoded data removed]",
      "text/plain": [
       "<Figure size 576x432 with 1 Axes>"
      ]
     },
     "metadata": {
      "needs_background": "light"
     },
     "output_type": "display_data"
    }
   ],
   "source": [
    "pwk.plot_history(history, plot={'MSE' :['mse', 'val_mse'],\n",
    "                                'MAE' :['mae', 'val_mae'],\n",
    "                                'LOSS':['loss','val_loss']}, save_as='01-history')"
   ]
  },
  {
   "cell_type": "markdown",
   "metadata": {},
   "source": [
    "## Step 7 - Restore a model :"
   ]
  },
  {
   "cell_type": "markdown",
   "metadata": {},
   "source": [
    "### 7.1 - Reload model"
   ]
  },
  {
   "cell_type": "code",
   "execution_count": 13,
   "metadata": {
    "execution": {
     "iopub.execute_input": "2021-01-14T07:11:39.848392Z",
     "iopub.status.busy": "2021-01-14T07:11:39.844232Z",
     "iopub.status.idle": "2021-01-14T07:11:39.877884Z",
     "shell.execute_reply": "2021-01-14T07:11:39.877545Z"
    }
   },
   "outputs": [
    {
     "name": "stdout",
     "output_type": "stream",
     "text": [
      "Model: \"sequential\"\n",
      "_________________________________________________________________\n",
      "Layer (type)                 Output Shape              Param #   \n",
      "=================================================================\n",
      "Dense_n1 (Dense)             (None, 64)                896       \n",
      "_________________________________________________________________\n",
      "Dense_n2 (Dense)             (None, 64)                4160      \n",
      "_________________________________________________________________\n",
      "Output (Dense)               (None, 1)                 65        \n",
      "=================================================================\n",
      "Total params: 5,121\n",
      "Trainable params: 5,121\n",
      "Non-trainable params: 0\n",
      "_________________________________________________________________\n",
      "Loaded.\n"
     ]
    }
   ],
   "source": [
    "loaded_model = tf.keras.models.load_model('./run/models/best_model.h5')\n",
    "loaded_model.summary()\n",
    "print(\"Loaded.\")"
   ]
  },
  {
   "cell_type": "markdown",
   "metadata": {},
   "source": [
    "### 7.2 - Evaluate it :"
   ]
  },
  {
   "cell_type": "code",
   "execution_count": 14,
   "metadata": {
    "execution": {
     "iopub.execute_input": "2021-01-14T07:11:39.881670Z",
     "iopub.status.busy": "2021-01-14T07:11:39.881093Z",
     "iopub.status.idle": "2021-01-14T07:11:39.990990Z",
     "shell.execute_reply": "2021-01-14T07:11:39.991253Z"
    }
   },
   "outputs": [
    {
     "name": "stdout",
     "output_type": "stream",
     "text": [
      "x_test / loss      : 12.0747\n",
      "x_test / mae       : 2.3187\n",
      "x_test / mse       : 12.0747\n"
     ]
    }
   ],
   "source": [
    "score = loaded_model.evaluate(x_test, y_test, verbose=0)\n",
    "\n",
    "print('x_test / loss      : {:5.4f}'.format(score[0]))\n",
    "print('x_test / mae       : {:5.4f}'.format(score[1]))\n",
    "print('x_test / mse       : {:5.4f}'.format(score[2]))"
   ]
  },
  {
   "cell_type": "markdown",
   "metadata": {},
   "source": [
    "### 7.3 - Make a prediction"
   ]
  },
  {
   "cell_type": "code",
   "execution_count": 15,
   "metadata": {
    "execution": {
     "iopub.execute_input": "2021-01-14T07:11:39.994475Z",
     "iopub.status.busy": "2021-01-14T07:11:39.994150Z",
     "iopub.status.idle": "2021-01-14T07:11:39.996556Z",
     "shell.execute_reply": "2021-01-14T07:11:39.996222Z"
    }
   },
   "outputs": [],
   "source": [
    "my_data = [ 1.26425925, -0.48522739,  1.0436489 , -0.23112788,  1.37120745,\n",
    "       -2.14308942,  1.13489104, -1.06802005,  1.71189006,  1.57042287,\n",
    "        0.77859951,  0.14769795,  2.7585581 ]\n",
    "real_price = 10.4\n",
    "\n",
    "my_data=np.array(my_data).reshape(1,13)"
   ]
  },
  {
   "cell_type": "code",
   "execution_count": 16,
   "metadata": {
    "execution": {
     "iopub.execute_input": "2021-01-14T07:11:39.999500Z",
     "iopub.status.busy": "2021-01-14T07:11:39.999172Z",
     "iopub.status.idle": "2021-01-14T07:11:40.078554Z",
     "shell.execute_reply": "2021-01-14T07:11:40.078906Z"
    }
   },
   "outputs": [
    {
     "name": "stdout",
     "output_type": "stream",
     "text": [
      "Prediction : 11.47 K$   Reality : 10.40 K$\n"
     ]
    }
   ],
   "source": [
    "predictions = loaded_model.predict( my_data )\n",
    "print(\"Prediction : {:.2f} K$   Reality : {:.2f} K$\".format(predictions[0][0], real_price))"
   ]
  },
  {
   "cell_type": "code",
   "execution_count": 17,
   "metadata": {
    "execution": {
     "iopub.execute_input": "2021-01-14T07:11:40.081882Z",
     "iopub.status.busy": "2021-01-14T07:11:40.081518Z",
     "iopub.status.idle": "2021-01-14T07:11:40.083755Z",
     "shell.execute_reply": "2021-01-14T07:11:40.083482Z"
    }
   },
   "outputs": [
    {
     "name": "stdout",
     "output_type": "stream",
     "text": [
      "End time is : Thursday 14 January 2021, 08:11:40\n",
      "Duration is : 00:00:09 336ms\n",
      "This notebook ends here\n"
     ]
    }
   ],
   "source": [
    "pwk.end()"
   ]
  },
  {
   "cell_type": "markdown",
   "metadata": {},
   "source": [
    "---\n",
    "<img width=\"80px\" src=\"../fidle/img/00-Fidle-logo-01.svg\"></img>"
   ]
  }
 ],
 "metadata": {
  "kernelspec": {
   "display_name": "Python 3",
   "language": "python",
   "name": "python3"
  },
  "language_info": {
   "codemirror_mode": {
    "name": "ipython",
    "version": 3
   },
   "file_extension": ".py",
   "mimetype": "text/x-python",
   "name": "python",
   "nbconvert_exporter": "python",
   "pygments_lexer": "ipython3",
   "version": "3.7.9"
  }
 },
 "nbformat": 4,
 "nbformat_minor": 4
}
