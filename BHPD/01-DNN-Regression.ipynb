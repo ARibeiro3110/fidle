{
 "cells": [
  {
   "cell_type": "markdown",
   "metadata": {},
   "source": [
    "Deep Neural Network (DNN) - BHPD dataset\n",
    "========================================\n",
    "---\n",
    "Introduction au Deep Learning  (IDLE) - S. Arias, E. Maldonado, JL. Parouty - CNRS/SARI/DEVLOG - 2020  \n",
    "\n",
    "## A very simple example of **regression** :\n",
    "\n",
    "Objective is to predicts **housing prices** from a set of house features. \n",
    "\n",
    "The **[Boston Housing Dataset](https://www.cs.toronto.edu/~delve/data/boston/bostonDetail.html)** consists of price of houses in various places in Boston.  \n",
    "Alongside with price, the dataset also provide information such as Crime, areas of non-retail business in the town,  \n",
    "age of people who own the house and many other attributes...\n",
    "\n",
    "What we're going to do:\n",
    "\n",
    " - Retrieve data\n",
    " - Preparing the data\n",
    " - Build a model\n",
    " - Train the model\n",
    " - Evaluate the result\n"
   ]
  },
  {
   "cell_type": "markdown",
   "metadata": {},
   "source": [
    "## 1/ Init python stuff"
   ]
  },
  {
   "cell_type": "code",
   "execution_count": 1,
   "metadata": {},
   "outputs": [
    {
     "name": "stdout",
     "output_type": "stream",
     "text": [
      "IDLE 2020 - Practical Work Module\n",
      "  Version            : 0.2\n",
      "  Run time           : Friday 24 January 2020, 11:42:30\n",
      "  Matplotlib style   : fidle/talk.mplstyle\n",
      "  TensorFlow version : 2.0.0\n",
      "  Keras version      : 2.2.4-tf\n"
     ]
    }
   ],
   "source": [
    "import tensorflow as tf\n",
    "from tensorflow import keras\n",
    "\n",
    "import numpy as np\n",
    "import matplotlib.pyplot as plt\n",
    "import pandas as pd\n",
    "import os\n",
    "\n",
    "from IPython.display import display, Markdown\n",
    "import fidle.pwk as ooo\n",
    "from importlib import reload\n",
    "\n",
    "ooo.init()"
   ]
  },
  {
   "cell_type": "markdown",
   "metadata": {},
   "source": [
    "## 2/ Retrieve data\n",
    "\n",
    "**From Keras :**\n",
    "Boston housing is a famous historic dataset, so we can get it directly from [Keras datasets](https://www.tensorflow.org/api_docs/python/tf/keras/datasets)  "
   ]
  },
  {
   "cell_type": "raw",
   "metadata": {},
   "source": [
    "(x_train, y_train), (x_test, y_test) = keras.datasets.boston_housing.load_data(test_split=0.2, seed=113)"
   ]
  },
  {
   "cell_type": "markdown",
   "metadata": {},
   "source": [
    "**From a csv file :**  \n",
    "More fun !"
   ]
  },
  {
   "cell_type": "code",
   "execution_count": 2,
   "metadata": {},
   "outputs": [
    {
     "data": {
      "text/html": [
       "<style  type=\"text/css\" >\n",
       "</style><table id=\"T_3a6ab490_3e96_11ea_bb15_dba25722cc7a\" ><thead>    <tr>        <th class=\"blank level0\" ></th>        <th class=\"col_heading level0 col0\" >crim</th>        <th class=\"col_heading level0 col1\" >zn</th>        <th class=\"col_heading level0 col2\" >indus</th>        <th class=\"col_heading level0 col3\" >chas</th>        <th class=\"col_heading level0 col4\" >nox</th>        <th class=\"col_heading level0 col5\" >rm</th>        <th class=\"col_heading level0 col6\" >age</th>        <th class=\"col_heading level0 col7\" >dis</th>        <th class=\"col_heading level0 col8\" >rad</th>        <th class=\"col_heading level0 col9\" >tax</th>        <th class=\"col_heading level0 col10\" >ptratio</th>        <th class=\"col_heading level0 col11\" >b</th>        <th class=\"col_heading level0 col12\" >lstat</th>        <th class=\"col_heading level0 col13\" >medv</th>    </tr></thead><tbody>\n",
       "                <tr>\n",
       "                        <th id=\"T_3a6ab490_3e96_11ea_bb15_dba25722cc7alevel0_row0\" class=\"row_heading level0 row0\" >0</th>\n",
       "                        <td id=\"T_3a6ab490_3e96_11ea_bb15_dba25722cc7arow0_col0\" class=\"data row0 col0\" >0.01</td>\n",
       "                        <td id=\"T_3a6ab490_3e96_11ea_bb15_dba25722cc7arow0_col1\" class=\"data row0 col1\" >18.00</td>\n",
       "                        <td id=\"T_3a6ab490_3e96_11ea_bb15_dba25722cc7arow0_col2\" class=\"data row0 col2\" >2.31</td>\n",
       "                        <td id=\"T_3a6ab490_3e96_11ea_bb15_dba25722cc7arow0_col3\" class=\"data row0 col3\" >0.00</td>\n",
       "                        <td id=\"T_3a6ab490_3e96_11ea_bb15_dba25722cc7arow0_col4\" class=\"data row0 col4\" >0.54</td>\n",
       "                        <td id=\"T_3a6ab490_3e96_11ea_bb15_dba25722cc7arow0_col5\" class=\"data row0 col5\" >6.58</td>\n",
       "                        <td id=\"T_3a6ab490_3e96_11ea_bb15_dba25722cc7arow0_col6\" class=\"data row0 col6\" >65.20</td>\n",
       "                        <td id=\"T_3a6ab490_3e96_11ea_bb15_dba25722cc7arow0_col7\" class=\"data row0 col7\" >4.09</td>\n",
       "                        <td id=\"T_3a6ab490_3e96_11ea_bb15_dba25722cc7arow0_col8\" class=\"data row0 col8\" >1.00</td>\n",
       "                        <td id=\"T_3a6ab490_3e96_11ea_bb15_dba25722cc7arow0_col9\" class=\"data row0 col9\" >296.00</td>\n",
       "                        <td id=\"T_3a6ab490_3e96_11ea_bb15_dba25722cc7arow0_col10\" class=\"data row0 col10\" >15.30</td>\n",
       "                        <td id=\"T_3a6ab490_3e96_11ea_bb15_dba25722cc7arow0_col11\" class=\"data row0 col11\" >396.90</td>\n",
       "                        <td id=\"T_3a6ab490_3e96_11ea_bb15_dba25722cc7arow0_col12\" class=\"data row0 col12\" >4.98</td>\n",
       "                        <td id=\"T_3a6ab490_3e96_11ea_bb15_dba25722cc7arow0_col13\" class=\"data row0 col13\" >24.00</td>\n",
       "            </tr>\n",
       "            <tr>\n",
       "                        <th id=\"T_3a6ab490_3e96_11ea_bb15_dba25722cc7alevel0_row1\" class=\"row_heading level0 row1\" >1</th>\n",
       "                        <td id=\"T_3a6ab490_3e96_11ea_bb15_dba25722cc7arow1_col0\" class=\"data row1 col0\" >0.03</td>\n",
       "                        <td id=\"T_3a6ab490_3e96_11ea_bb15_dba25722cc7arow1_col1\" class=\"data row1 col1\" >0.00</td>\n",
       "                        <td id=\"T_3a6ab490_3e96_11ea_bb15_dba25722cc7arow1_col2\" class=\"data row1 col2\" >7.07</td>\n",
       "                        <td id=\"T_3a6ab490_3e96_11ea_bb15_dba25722cc7arow1_col3\" class=\"data row1 col3\" >0.00</td>\n",
       "                        <td id=\"T_3a6ab490_3e96_11ea_bb15_dba25722cc7arow1_col4\" class=\"data row1 col4\" >0.47</td>\n",
       "                        <td id=\"T_3a6ab490_3e96_11ea_bb15_dba25722cc7arow1_col5\" class=\"data row1 col5\" >6.42</td>\n",
       "                        <td id=\"T_3a6ab490_3e96_11ea_bb15_dba25722cc7arow1_col6\" class=\"data row1 col6\" >78.90</td>\n",
       "                        <td id=\"T_3a6ab490_3e96_11ea_bb15_dba25722cc7arow1_col7\" class=\"data row1 col7\" >4.97</td>\n",
       "                        <td id=\"T_3a6ab490_3e96_11ea_bb15_dba25722cc7arow1_col8\" class=\"data row1 col8\" >2.00</td>\n",
       "                        <td id=\"T_3a6ab490_3e96_11ea_bb15_dba25722cc7arow1_col9\" class=\"data row1 col9\" >242.00</td>\n",
       "                        <td id=\"T_3a6ab490_3e96_11ea_bb15_dba25722cc7arow1_col10\" class=\"data row1 col10\" >17.80</td>\n",
       "                        <td id=\"T_3a6ab490_3e96_11ea_bb15_dba25722cc7arow1_col11\" class=\"data row1 col11\" >396.90</td>\n",
       "                        <td id=\"T_3a6ab490_3e96_11ea_bb15_dba25722cc7arow1_col12\" class=\"data row1 col12\" >9.14</td>\n",
       "                        <td id=\"T_3a6ab490_3e96_11ea_bb15_dba25722cc7arow1_col13\" class=\"data row1 col13\" >21.60</td>\n",
       "            </tr>\n",
       "            <tr>\n",
       "                        <th id=\"T_3a6ab490_3e96_11ea_bb15_dba25722cc7alevel0_row2\" class=\"row_heading level0 row2\" >2</th>\n",
       "                        <td id=\"T_3a6ab490_3e96_11ea_bb15_dba25722cc7arow2_col0\" class=\"data row2 col0\" >0.03</td>\n",
       "                        <td id=\"T_3a6ab490_3e96_11ea_bb15_dba25722cc7arow2_col1\" class=\"data row2 col1\" >0.00</td>\n",
       "                        <td id=\"T_3a6ab490_3e96_11ea_bb15_dba25722cc7arow2_col2\" class=\"data row2 col2\" >7.07</td>\n",
       "                        <td id=\"T_3a6ab490_3e96_11ea_bb15_dba25722cc7arow2_col3\" class=\"data row2 col3\" >0.00</td>\n",
       "                        <td id=\"T_3a6ab490_3e96_11ea_bb15_dba25722cc7arow2_col4\" class=\"data row2 col4\" >0.47</td>\n",
       "                        <td id=\"T_3a6ab490_3e96_11ea_bb15_dba25722cc7arow2_col5\" class=\"data row2 col5\" >7.18</td>\n",
       "                        <td id=\"T_3a6ab490_3e96_11ea_bb15_dba25722cc7arow2_col6\" class=\"data row2 col6\" >61.10</td>\n",
       "                        <td id=\"T_3a6ab490_3e96_11ea_bb15_dba25722cc7arow2_col7\" class=\"data row2 col7\" >4.97</td>\n",
       "                        <td id=\"T_3a6ab490_3e96_11ea_bb15_dba25722cc7arow2_col8\" class=\"data row2 col8\" >2.00</td>\n",
       "                        <td id=\"T_3a6ab490_3e96_11ea_bb15_dba25722cc7arow2_col9\" class=\"data row2 col9\" >242.00</td>\n",
       "                        <td id=\"T_3a6ab490_3e96_11ea_bb15_dba25722cc7arow2_col10\" class=\"data row2 col10\" >17.80</td>\n",
       "                        <td id=\"T_3a6ab490_3e96_11ea_bb15_dba25722cc7arow2_col11\" class=\"data row2 col11\" >392.83</td>\n",
       "                        <td id=\"T_3a6ab490_3e96_11ea_bb15_dba25722cc7arow2_col12\" class=\"data row2 col12\" >4.03</td>\n",
       "                        <td id=\"T_3a6ab490_3e96_11ea_bb15_dba25722cc7arow2_col13\" class=\"data row2 col13\" >34.70</td>\n",
       "            </tr>\n",
       "            <tr>\n",
       "                        <th id=\"T_3a6ab490_3e96_11ea_bb15_dba25722cc7alevel0_row3\" class=\"row_heading level0 row3\" >3</th>\n",
       "                        <td id=\"T_3a6ab490_3e96_11ea_bb15_dba25722cc7arow3_col0\" class=\"data row3 col0\" >0.03</td>\n",
       "                        <td id=\"T_3a6ab490_3e96_11ea_bb15_dba25722cc7arow3_col1\" class=\"data row3 col1\" >0.00</td>\n",
       "                        <td id=\"T_3a6ab490_3e96_11ea_bb15_dba25722cc7arow3_col2\" class=\"data row3 col2\" >2.18</td>\n",
       "                        <td id=\"T_3a6ab490_3e96_11ea_bb15_dba25722cc7arow3_col3\" class=\"data row3 col3\" >0.00</td>\n",
       "                        <td id=\"T_3a6ab490_3e96_11ea_bb15_dba25722cc7arow3_col4\" class=\"data row3 col4\" >0.46</td>\n",
       "                        <td id=\"T_3a6ab490_3e96_11ea_bb15_dba25722cc7arow3_col5\" class=\"data row3 col5\" >7.00</td>\n",
       "                        <td id=\"T_3a6ab490_3e96_11ea_bb15_dba25722cc7arow3_col6\" class=\"data row3 col6\" >45.80</td>\n",
       "                        <td id=\"T_3a6ab490_3e96_11ea_bb15_dba25722cc7arow3_col7\" class=\"data row3 col7\" >6.06</td>\n",
       "                        <td id=\"T_3a6ab490_3e96_11ea_bb15_dba25722cc7arow3_col8\" class=\"data row3 col8\" >3.00</td>\n",
       "                        <td id=\"T_3a6ab490_3e96_11ea_bb15_dba25722cc7arow3_col9\" class=\"data row3 col9\" >222.00</td>\n",
       "                        <td id=\"T_3a6ab490_3e96_11ea_bb15_dba25722cc7arow3_col10\" class=\"data row3 col10\" >18.70</td>\n",
       "                        <td id=\"T_3a6ab490_3e96_11ea_bb15_dba25722cc7arow3_col11\" class=\"data row3 col11\" >394.63</td>\n",
       "                        <td id=\"T_3a6ab490_3e96_11ea_bb15_dba25722cc7arow3_col12\" class=\"data row3 col12\" >2.94</td>\n",
       "                        <td id=\"T_3a6ab490_3e96_11ea_bb15_dba25722cc7arow3_col13\" class=\"data row3 col13\" >33.40</td>\n",
       "            </tr>\n",
       "            <tr>\n",
       "                        <th id=\"T_3a6ab490_3e96_11ea_bb15_dba25722cc7alevel0_row4\" class=\"row_heading level0 row4\" >4</th>\n",
       "                        <td id=\"T_3a6ab490_3e96_11ea_bb15_dba25722cc7arow4_col0\" class=\"data row4 col0\" >0.07</td>\n",
       "                        <td id=\"T_3a6ab490_3e96_11ea_bb15_dba25722cc7arow4_col1\" class=\"data row4 col1\" >0.00</td>\n",
       "                        <td id=\"T_3a6ab490_3e96_11ea_bb15_dba25722cc7arow4_col2\" class=\"data row4 col2\" >2.18</td>\n",
       "                        <td id=\"T_3a6ab490_3e96_11ea_bb15_dba25722cc7arow4_col3\" class=\"data row4 col3\" >0.00</td>\n",
       "                        <td id=\"T_3a6ab490_3e96_11ea_bb15_dba25722cc7arow4_col4\" class=\"data row4 col4\" >0.46</td>\n",
       "                        <td id=\"T_3a6ab490_3e96_11ea_bb15_dba25722cc7arow4_col5\" class=\"data row4 col5\" >7.15</td>\n",
       "                        <td id=\"T_3a6ab490_3e96_11ea_bb15_dba25722cc7arow4_col6\" class=\"data row4 col6\" >54.20</td>\n",
       "                        <td id=\"T_3a6ab490_3e96_11ea_bb15_dba25722cc7arow4_col7\" class=\"data row4 col7\" >6.06</td>\n",
       "                        <td id=\"T_3a6ab490_3e96_11ea_bb15_dba25722cc7arow4_col8\" class=\"data row4 col8\" >3.00</td>\n",
       "                        <td id=\"T_3a6ab490_3e96_11ea_bb15_dba25722cc7arow4_col9\" class=\"data row4 col9\" >222.00</td>\n",
       "                        <td id=\"T_3a6ab490_3e96_11ea_bb15_dba25722cc7arow4_col10\" class=\"data row4 col10\" >18.70</td>\n",
       "                        <td id=\"T_3a6ab490_3e96_11ea_bb15_dba25722cc7arow4_col11\" class=\"data row4 col11\" >396.90</td>\n",
       "                        <td id=\"T_3a6ab490_3e96_11ea_bb15_dba25722cc7arow4_col12\" class=\"data row4 col12\" >5.33</td>\n",
       "                        <td id=\"T_3a6ab490_3e96_11ea_bb15_dba25722cc7arow4_col13\" class=\"data row4 col13\" >36.20</td>\n",
       "            </tr>\n",
       "    </tbody></table>"
      ],
      "text/plain": [
       "<pandas.io.formats.style.Styler at 0x7fc61db614d0>"
      ]
     },
     "metadata": {},
     "output_type": "display_data"
    },
    {
     "name": "stdout",
     "output_type": "stream",
     "text": [
      "Données manquantes :  0   Shape is :  (506, 14)\n"
     ]
    }
   ],
   "source": [
    "data = pd.read_csv('./data/BostonHousing.csv', header=0)\n",
    "\n",
    "display(data.head(5).style.format(\"{0:.2f}\"))\n",
    "print('Données manquantes : ',data.isna().sum().sum(), '  Shape is : ', data.shape)"
   ]
  },
  {
   "cell_type": "markdown",
   "metadata": {},
   "source": [
    "## 3/ Preparing the data\n",
    "### 3.1/ Split data\n",
    "We will use 80% of the data for training and 20% for validation.  \n",
    "x will be input data and y the expected output"
   ]
  },
  {
   "cell_type": "code",
   "execution_count": 3,
   "metadata": {},
   "outputs": [
    {
     "name": "stdout",
     "output_type": "stream",
     "text": [
      "Original data shape was :  (506, 14)\n",
      "x_train :  (354, 13) y_train :  (354,)\n",
      "x_test  :  (152, 13) y_test  :  (152,)\n"
     ]
    }
   ],
   "source": [
    "# ---- Split => train, test\n",
    "#\n",
    "data_train = data.sample(frac=0.7, axis=0)\n",
    "data_test  = data.drop(data_train.index)\n",
    "\n",
    "# ---- Split => x,y (medv is price)\n",
    "#\n",
    "x_train = data_train.drop('medv',  axis=1)\n",
    "y_train = data_train['medv']\n",
    "x_test  = data_test.drop('medv',   axis=1)\n",
    "y_test  = data_test['medv']\n",
    "\n",
    "print('Original data shape was : ',data.shape)\n",
    "print('x_train : ',x_train.shape, 'y_train : ',y_train.shape)\n",
    "print('x_test  : ',x_test.shape,  'y_test  : ',y_test.shape)"
   ]
  },
  {
   "cell_type": "markdown",
   "metadata": {},
   "source": [
    "### 3.2/ Data normalization\n",
    "**Note :** \n",
    " - All input data must be normalized, train and test.  \n",
    " - To do this we will subtract the mean and divide by the standard deviation.  \n",
    " - But test data should not be used in any way, even for normalization.  \n",
    " - The mean and the standard deviation will therefore only be calculated with the train data."
   ]
  },
  {
   "cell_type": "code",
   "execution_count": 4,
   "metadata": {},
   "outputs": [
    {
     "data": {
      "text/html": [
       "<style  type=\"text/css\" >\n",
       "</style><table id=\"T_3dd46306_3e96_11ea_bb15_dba25722cc7a\" ><caption>Before normalization :</caption><thead>    <tr>        <th class=\"blank level0\" ></th>        <th class=\"col_heading level0 col0\" >crim</th>        <th class=\"col_heading level0 col1\" >zn</th>        <th class=\"col_heading level0 col2\" >indus</th>        <th class=\"col_heading level0 col3\" >chas</th>        <th class=\"col_heading level0 col4\" >nox</th>        <th class=\"col_heading level0 col5\" >rm</th>        <th class=\"col_heading level0 col6\" >age</th>        <th class=\"col_heading level0 col7\" >dis</th>        <th class=\"col_heading level0 col8\" >rad</th>        <th class=\"col_heading level0 col9\" >tax</th>        <th class=\"col_heading level0 col10\" >ptratio</th>        <th class=\"col_heading level0 col11\" >b</th>        <th class=\"col_heading level0 col12\" >lstat</th>    </tr></thead><tbody>\n",
       "                <tr>\n",
       "                        <th id=\"T_3dd46306_3e96_11ea_bb15_dba25722cc7alevel0_row0\" class=\"row_heading level0 row0\" >count</th>\n",
       "                        <td id=\"T_3dd46306_3e96_11ea_bb15_dba25722cc7arow0_col0\" class=\"data row0 col0\" >354.00</td>\n",
       "                        <td id=\"T_3dd46306_3e96_11ea_bb15_dba25722cc7arow0_col1\" class=\"data row0 col1\" >354.00</td>\n",
       "                        <td id=\"T_3dd46306_3e96_11ea_bb15_dba25722cc7arow0_col2\" class=\"data row0 col2\" >354.00</td>\n",
       "                        <td id=\"T_3dd46306_3e96_11ea_bb15_dba25722cc7arow0_col3\" class=\"data row0 col3\" >354.00</td>\n",
       "                        <td id=\"T_3dd46306_3e96_11ea_bb15_dba25722cc7arow0_col4\" class=\"data row0 col4\" >354.00</td>\n",
       "                        <td id=\"T_3dd46306_3e96_11ea_bb15_dba25722cc7arow0_col5\" class=\"data row0 col5\" >354.00</td>\n",
       "                        <td id=\"T_3dd46306_3e96_11ea_bb15_dba25722cc7arow0_col6\" class=\"data row0 col6\" >354.00</td>\n",
       "                        <td id=\"T_3dd46306_3e96_11ea_bb15_dba25722cc7arow0_col7\" class=\"data row0 col7\" >354.00</td>\n",
       "                        <td id=\"T_3dd46306_3e96_11ea_bb15_dba25722cc7arow0_col8\" class=\"data row0 col8\" >354.00</td>\n",
       "                        <td id=\"T_3dd46306_3e96_11ea_bb15_dba25722cc7arow0_col9\" class=\"data row0 col9\" >354.00</td>\n",
       "                        <td id=\"T_3dd46306_3e96_11ea_bb15_dba25722cc7arow0_col10\" class=\"data row0 col10\" >354.00</td>\n",
       "                        <td id=\"T_3dd46306_3e96_11ea_bb15_dba25722cc7arow0_col11\" class=\"data row0 col11\" >354.00</td>\n",
       "                        <td id=\"T_3dd46306_3e96_11ea_bb15_dba25722cc7arow0_col12\" class=\"data row0 col12\" >354.00</td>\n",
       "            </tr>\n",
       "            <tr>\n",
       "                        <th id=\"T_3dd46306_3e96_11ea_bb15_dba25722cc7alevel0_row1\" class=\"row_heading level0 row1\" >mean</th>\n",
       "                        <td id=\"T_3dd46306_3e96_11ea_bb15_dba25722cc7arow1_col0\" class=\"data row1 col0\" >3.97</td>\n",
       "                        <td id=\"T_3dd46306_3e96_11ea_bb15_dba25722cc7arow1_col1\" class=\"data row1 col1\" >10.27</td>\n",
       "                        <td id=\"T_3dd46306_3e96_11ea_bb15_dba25722cc7arow1_col2\" class=\"data row1 col2\" >11.51</td>\n",
       "                        <td id=\"T_3dd46306_3e96_11ea_bb15_dba25722cc7arow1_col3\" class=\"data row1 col3\" >0.07</td>\n",
       "                        <td id=\"T_3dd46306_3e96_11ea_bb15_dba25722cc7arow1_col4\" class=\"data row1 col4\" >0.56</td>\n",
       "                        <td id=\"T_3dd46306_3e96_11ea_bb15_dba25722cc7arow1_col5\" class=\"data row1 col5\" >6.26</td>\n",
       "                        <td id=\"T_3dd46306_3e96_11ea_bb15_dba25722cc7arow1_col6\" class=\"data row1 col6\" >70.20</td>\n",
       "                        <td id=\"T_3dd46306_3e96_11ea_bb15_dba25722cc7arow1_col7\" class=\"data row1 col7\" >3.70</td>\n",
       "                        <td id=\"T_3dd46306_3e96_11ea_bb15_dba25722cc7arow1_col8\" class=\"data row1 col8\" >9.88</td>\n",
       "                        <td id=\"T_3dd46306_3e96_11ea_bb15_dba25722cc7arow1_col9\" class=\"data row1 col9\" >414.85</td>\n",
       "                        <td id=\"T_3dd46306_3e96_11ea_bb15_dba25722cc7arow1_col10\" class=\"data row1 col10\" >18.51</td>\n",
       "                        <td id=\"T_3dd46306_3e96_11ea_bb15_dba25722cc7arow1_col11\" class=\"data row1 col11\" >354.34</td>\n",
       "                        <td id=\"T_3dd46306_3e96_11ea_bb15_dba25722cc7arow1_col12\" class=\"data row1 col12\" >13.01</td>\n",
       "            </tr>\n",
       "            <tr>\n",
       "                        <th id=\"T_3dd46306_3e96_11ea_bb15_dba25722cc7alevel0_row2\" class=\"row_heading level0 row2\" >std</th>\n",
       "                        <td id=\"T_3dd46306_3e96_11ea_bb15_dba25722cc7arow2_col0\" class=\"data row2 col0\" >9.57</td>\n",
       "                        <td id=\"T_3dd46306_3e96_11ea_bb15_dba25722cc7arow2_col1\" class=\"data row2 col1\" >22.19</td>\n",
       "                        <td id=\"T_3dd46306_3e96_11ea_bb15_dba25722cc7arow2_col2\" class=\"data row2 col2\" >6.78</td>\n",
       "                        <td id=\"T_3dd46306_3e96_11ea_bb15_dba25722cc7arow2_col3\" class=\"data row2 col3\" >0.25</td>\n",
       "                        <td id=\"T_3dd46306_3e96_11ea_bb15_dba25722cc7arow2_col4\" class=\"data row2 col4\" >0.12</td>\n",
       "                        <td id=\"T_3dd46306_3e96_11ea_bb15_dba25722cc7arow2_col5\" class=\"data row2 col5\" >0.70</td>\n",
       "                        <td id=\"T_3dd46306_3e96_11ea_bb15_dba25722cc7arow2_col6\" class=\"data row2 col6\" >27.68</td>\n",
       "                        <td id=\"T_3dd46306_3e96_11ea_bb15_dba25722cc7arow2_col7\" class=\"data row2 col7\" >2.07</td>\n",
       "                        <td id=\"T_3dd46306_3e96_11ea_bb15_dba25722cc7arow2_col8\" class=\"data row2 col8\" >8.80</td>\n",
       "                        <td id=\"T_3dd46306_3e96_11ea_bb15_dba25722cc7arow2_col9\" class=\"data row2 col9\" >169.62</td>\n",
       "                        <td id=\"T_3dd46306_3e96_11ea_bb15_dba25722cc7arow2_col10\" class=\"data row2 col10\" >2.13</td>\n",
       "                        <td id=\"T_3dd46306_3e96_11ea_bb15_dba25722cc7arow2_col11\" class=\"data row2 col11\" >94.06</td>\n",
       "                        <td id=\"T_3dd46306_3e96_11ea_bb15_dba25722cc7arow2_col12\" class=\"data row2 col12\" >7.27</td>\n",
       "            </tr>\n",
       "            <tr>\n",
       "                        <th id=\"T_3dd46306_3e96_11ea_bb15_dba25722cc7alevel0_row3\" class=\"row_heading level0 row3\" >min</th>\n",
       "                        <td id=\"T_3dd46306_3e96_11ea_bb15_dba25722cc7arow3_col0\" class=\"data row3 col0\" >0.01</td>\n",
       "                        <td id=\"T_3dd46306_3e96_11ea_bb15_dba25722cc7arow3_col1\" class=\"data row3 col1\" >0.00</td>\n",
       "                        <td id=\"T_3dd46306_3e96_11ea_bb15_dba25722cc7arow3_col2\" class=\"data row3 col2\" >0.74</td>\n",
       "                        <td id=\"T_3dd46306_3e96_11ea_bb15_dba25722cc7arow3_col3\" class=\"data row3 col3\" >0.00</td>\n",
       "                        <td id=\"T_3dd46306_3e96_11ea_bb15_dba25722cc7arow3_col4\" class=\"data row3 col4\" >0.39</td>\n",
       "                        <td id=\"T_3dd46306_3e96_11ea_bb15_dba25722cc7arow3_col5\" class=\"data row3 col5\" >3.56</td>\n",
       "                        <td id=\"T_3dd46306_3e96_11ea_bb15_dba25722cc7arow3_col6\" class=\"data row3 col6\" >2.90</td>\n",
       "                        <td id=\"T_3dd46306_3e96_11ea_bb15_dba25722cc7arow3_col7\" class=\"data row3 col7\" >1.13</td>\n",
       "                        <td id=\"T_3dd46306_3e96_11ea_bb15_dba25722cc7arow3_col8\" class=\"data row3 col8\" >1.00</td>\n",
       "                        <td id=\"T_3dd46306_3e96_11ea_bb15_dba25722cc7arow3_col9\" class=\"data row3 col9\" >187.00</td>\n",
       "                        <td id=\"T_3dd46306_3e96_11ea_bb15_dba25722cc7arow3_col10\" class=\"data row3 col10\" >12.60</td>\n",
       "                        <td id=\"T_3dd46306_3e96_11ea_bb15_dba25722cc7arow3_col11\" class=\"data row3 col11\" >2.52</td>\n",
       "                        <td id=\"T_3dd46306_3e96_11ea_bb15_dba25722cc7arow3_col12\" class=\"data row3 col12\" >1.73</td>\n",
       "            </tr>\n",
       "            <tr>\n",
       "                        <th id=\"T_3dd46306_3e96_11ea_bb15_dba25722cc7alevel0_row4\" class=\"row_heading level0 row4\" >25%</th>\n",
       "                        <td id=\"T_3dd46306_3e96_11ea_bb15_dba25722cc7arow4_col0\" class=\"data row4 col0\" >0.09</td>\n",
       "                        <td id=\"T_3dd46306_3e96_11ea_bb15_dba25722cc7arow4_col1\" class=\"data row4 col1\" >0.00</td>\n",
       "                        <td id=\"T_3dd46306_3e96_11ea_bb15_dba25722cc7arow4_col2\" class=\"data row4 col2\" >5.86</td>\n",
       "                        <td id=\"T_3dd46306_3e96_11ea_bb15_dba25722cc7arow4_col3\" class=\"data row4 col3\" >0.00</td>\n",
       "                        <td id=\"T_3dd46306_3e96_11ea_bb15_dba25722cc7arow4_col4\" class=\"data row4 col4\" >0.45</td>\n",
       "                        <td id=\"T_3dd46306_3e96_11ea_bb15_dba25722cc7arow4_col5\" class=\"data row4 col5\" >5.88</td>\n",
       "                        <td id=\"T_3dd46306_3e96_11ea_bb15_dba25722cc7arow4_col6\" class=\"data row4 col6\" >47.25</td>\n",
       "                        <td id=\"T_3dd46306_3e96_11ea_bb15_dba25722cc7arow4_col7\" class=\"data row4 col7\" >2.05</td>\n",
       "                        <td id=\"T_3dd46306_3e96_11ea_bb15_dba25722cc7arow4_col8\" class=\"data row4 col8\" >4.00</td>\n",
       "                        <td id=\"T_3dd46306_3e96_11ea_bb15_dba25722cc7arow4_col9\" class=\"data row4 col9\" >284.00</td>\n",
       "                        <td id=\"T_3dd46306_3e96_11ea_bb15_dba25722cc7arow4_col10\" class=\"data row4 col10\" >17.40</td>\n",
       "                        <td id=\"T_3dd46306_3e96_11ea_bb15_dba25722cc7arow4_col11\" class=\"data row4 col11\" >374.49</td>\n",
       "                        <td id=\"T_3dd46306_3e96_11ea_bb15_dba25722cc7arow4_col12\" class=\"data row4 col12\" >7.40</td>\n",
       "            </tr>\n",
       "            <tr>\n",
       "                        <th id=\"T_3dd46306_3e96_11ea_bb15_dba25722cc7alevel0_row5\" class=\"row_heading level0 row5\" >50%</th>\n",
       "                        <td id=\"T_3dd46306_3e96_11ea_bb15_dba25722cc7arow5_col0\" class=\"data row5 col0\" >0.29</td>\n",
       "                        <td id=\"T_3dd46306_3e96_11ea_bb15_dba25722cc7arow5_col1\" class=\"data row5 col1\" >0.00</td>\n",
       "                        <td id=\"T_3dd46306_3e96_11ea_bb15_dba25722cc7arow5_col2\" class=\"data row5 col2\" >9.90</td>\n",
       "                        <td id=\"T_3dd46306_3e96_11ea_bb15_dba25722cc7arow5_col3\" class=\"data row5 col3\" >0.00</td>\n",
       "                        <td id=\"T_3dd46306_3e96_11ea_bb15_dba25722cc7arow5_col4\" class=\"data row5 col4\" >0.54</td>\n",
       "                        <td id=\"T_3dd46306_3e96_11ea_bb15_dba25722cc7arow5_col5\" class=\"data row5 col5\" >6.19</td>\n",
       "                        <td id=\"T_3dd46306_3e96_11ea_bb15_dba25722cc7arow5_col6\" class=\"data row5 col6\" >80.10</td>\n",
       "                        <td id=\"T_3dd46306_3e96_11ea_bb15_dba25722cc7arow5_col7\" class=\"data row5 col7\" >3.09</td>\n",
       "                        <td id=\"T_3dd46306_3e96_11ea_bb15_dba25722cc7arow5_col8\" class=\"data row5 col8\" >5.00</td>\n",
       "                        <td id=\"T_3dd46306_3e96_11ea_bb15_dba25722cc7arow5_col9\" class=\"data row5 col9\" >334.50</td>\n",
       "                        <td id=\"T_3dd46306_3e96_11ea_bb15_dba25722cc7arow5_col10\" class=\"data row5 col10\" >19.10</td>\n",
       "                        <td id=\"T_3dd46306_3e96_11ea_bb15_dba25722cc7arow5_col11\" class=\"data row5 col11\" >390.81</td>\n",
       "                        <td id=\"T_3dd46306_3e96_11ea_bb15_dba25722cc7arow5_col12\" class=\"data row5 col12\" >11.73</td>\n",
       "            </tr>\n",
       "            <tr>\n",
       "                        <th id=\"T_3dd46306_3e96_11ea_bb15_dba25722cc7alevel0_row6\" class=\"row_heading level0 row6\" >75%</th>\n",
       "                        <td id=\"T_3dd46306_3e96_11ea_bb15_dba25722cc7arow6_col0\" class=\"data row6 col0\" >3.85</td>\n",
       "                        <td id=\"T_3dd46306_3e96_11ea_bb15_dba25722cc7arow6_col1\" class=\"data row6 col1\" >0.00</td>\n",
       "                        <td id=\"T_3dd46306_3e96_11ea_bb15_dba25722cc7arow6_col2\" class=\"data row6 col2\" >18.10</td>\n",
       "                        <td id=\"T_3dd46306_3e96_11ea_bb15_dba25722cc7arow6_col3\" class=\"data row6 col3\" >0.00</td>\n",
       "                        <td id=\"T_3dd46306_3e96_11ea_bb15_dba25722cc7arow6_col4\" class=\"data row6 col4\" >0.62</td>\n",
       "                        <td id=\"T_3dd46306_3e96_11ea_bb15_dba25722cc7arow6_col5\" class=\"data row6 col5\" >6.59</td>\n",
       "                        <td id=\"T_3dd46306_3e96_11ea_bb15_dba25722cc7arow6_col6\" class=\"data row6 col6\" >94.57</td>\n",
       "                        <td id=\"T_3dd46306_3e96_11ea_bb15_dba25722cc7arow6_col7\" class=\"data row6 col7\" >4.94</td>\n",
       "                        <td id=\"T_3dd46306_3e96_11ea_bb15_dba25722cc7arow6_col8\" class=\"data row6 col8\" >24.00</td>\n",
       "                        <td id=\"T_3dd46306_3e96_11ea_bb15_dba25722cc7arow6_col9\" class=\"data row6 col9\" >666.00</td>\n",
       "                        <td id=\"T_3dd46306_3e96_11ea_bb15_dba25722cc7arow6_col10\" class=\"data row6 col10\" >20.20</td>\n",
       "                        <td id=\"T_3dd46306_3e96_11ea_bb15_dba25722cc7arow6_col11\" class=\"data row6 col11\" >396.04</td>\n",
       "                        <td id=\"T_3dd46306_3e96_11ea_bb15_dba25722cc7arow6_col12\" class=\"data row6 col12\" >17.11</td>\n",
       "            </tr>\n",
       "            <tr>\n",
       "                        <th id=\"T_3dd46306_3e96_11ea_bb15_dba25722cc7alevel0_row7\" class=\"row_heading level0 row7\" >max</th>\n",
       "                        <td id=\"T_3dd46306_3e96_11ea_bb15_dba25722cc7arow7_col0\" class=\"data row7 col0\" >88.98</td>\n",
       "                        <td id=\"T_3dd46306_3e96_11ea_bb15_dba25722cc7arow7_col1\" class=\"data row7 col1\" >95.00</td>\n",
       "                        <td id=\"T_3dd46306_3e96_11ea_bb15_dba25722cc7arow7_col2\" class=\"data row7 col2\" >27.74</td>\n",
       "                        <td id=\"T_3dd46306_3e96_11ea_bb15_dba25722cc7arow7_col3\" class=\"data row7 col3\" >1.00</td>\n",
       "                        <td id=\"T_3dd46306_3e96_11ea_bb15_dba25722cc7arow7_col4\" class=\"data row7 col4\" >0.87</td>\n",
       "                        <td id=\"T_3dd46306_3e96_11ea_bb15_dba25722cc7arow7_col5\" class=\"data row7 col5\" >8.72</td>\n",
       "                        <td id=\"T_3dd46306_3e96_11ea_bb15_dba25722cc7arow7_col6\" class=\"data row7 col6\" >100.00</td>\n",
       "                        <td id=\"T_3dd46306_3e96_11ea_bb15_dba25722cc7arow7_col7\" class=\"data row7 col7\" >12.13</td>\n",
       "                        <td id=\"T_3dd46306_3e96_11ea_bb15_dba25722cc7arow7_col8\" class=\"data row7 col8\" >24.00</td>\n",
       "                        <td id=\"T_3dd46306_3e96_11ea_bb15_dba25722cc7arow7_col9\" class=\"data row7 col9\" >711.00</td>\n",
       "                        <td id=\"T_3dd46306_3e96_11ea_bb15_dba25722cc7arow7_col10\" class=\"data row7 col10\" >22.00</td>\n",
       "                        <td id=\"T_3dd46306_3e96_11ea_bb15_dba25722cc7arow7_col11\" class=\"data row7 col11\" >396.90</td>\n",
       "                        <td id=\"T_3dd46306_3e96_11ea_bb15_dba25722cc7arow7_col12\" class=\"data row7 col12\" >37.97</td>\n",
       "            </tr>\n",
       "    </tbody></table>"
      ],
      "text/plain": [
       "<pandas.io.formats.style.Styler at 0x7fc62513f7d0>"
      ]
     },
     "metadata": {},
     "output_type": "display_data"
    },
    {
     "data": {
      "text/html": [
       "<style  type=\"text/css\" >\n",
       "</style><table id=\"T_3dddca22_3e96_11ea_bb15_dba25722cc7a\" ><caption>After normalization :</caption><thead>    <tr>        <th class=\"blank level0\" ></th>        <th class=\"col_heading level0 col0\" >crim</th>        <th class=\"col_heading level0 col1\" >zn</th>        <th class=\"col_heading level0 col2\" >indus</th>        <th class=\"col_heading level0 col3\" >chas</th>        <th class=\"col_heading level0 col4\" >nox</th>        <th class=\"col_heading level0 col5\" >rm</th>        <th class=\"col_heading level0 col6\" >age</th>        <th class=\"col_heading level0 col7\" >dis</th>        <th class=\"col_heading level0 col8\" >rad</th>        <th class=\"col_heading level0 col9\" >tax</th>        <th class=\"col_heading level0 col10\" >ptratio</th>        <th class=\"col_heading level0 col11\" >b</th>        <th class=\"col_heading level0 col12\" >lstat</th>    </tr></thead><tbody>\n",
       "                <tr>\n",
       "                        <th id=\"T_3dddca22_3e96_11ea_bb15_dba25722cc7alevel0_row0\" class=\"row_heading level0 row0\" >count</th>\n",
       "                        <td id=\"T_3dddca22_3e96_11ea_bb15_dba25722cc7arow0_col0\" class=\"data row0 col0\" >354.00</td>\n",
       "                        <td id=\"T_3dddca22_3e96_11ea_bb15_dba25722cc7arow0_col1\" class=\"data row0 col1\" >354.00</td>\n",
       "                        <td id=\"T_3dddca22_3e96_11ea_bb15_dba25722cc7arow0_col2\" class=\"data row0 col2\" >354.00</td>\n",
       "                        <td id=\"T_3dddca22_3e96_11ea_bb15_dba25722cc7arow0_col3\" class=\"data row0 col3\" >354.00</td>\n",
       "                        <td id=\"T_3dddca22_3e96_11ea_bb15_dba25722cc7arow0_col4\" class=\"data row0 col4\" >354.00</td>\n",
       "                        <td id=\"T_3dddca22_3e96_11ea_bb15_dba25722cc7arow0_col5\" class=\"data row0 col5\" >354.00</td>\n",
       "                        <td id=\"T_3dddca22_3e96_11ea_bb15_dba25722cc7arow0_col6\" class=\"data row0 col6\" >354.00</td>\n",
       "                        <td id=\"T_3dddca22_3e96_11ea_bb15_dba25722cc7arow0_col7\" class=\"data row0 col7\" >354.00</td>\n",
       "                        <td id=\"T_3dddca22_3e96_11ea_bb15_dba25722cc7arow0_col8\" class=\"data row0 col8\" >354.00</td>\n",
       "                        <td id=\"T_3dddca22_3e96_11ea_bb15_dba25722cc7arow0_col9\" class=\"data row0 col9\" >354.00</td>\n",
       "                        <td id=\"T_3dddca22_3e96_11ea_bb15_dba25722cc7arow0_col10\" class=\"data row0 col10\" >354.00</td>\n",
       "                        <td id=\"T_3dddca22_3e96_11ea_bb15_dba25722cc7arow0_col11\" class=\"data row0 col11\" >354.00</td>\n",
       "                        <td id=\"T_3dddca22_3e96_11ea_bb15_dba25722cc7arow0_col12\" class=\"data row0 col12\" >354.00</td>\n",
       "            </tr>\n",
       "            <tr>\n",
       "                        <th id=\"T_3dddca22_3e96_11ea_bb15_dba25722cc7alevel0_row1\" class=\"row_heading level0 row1\" >mean</th>\n",
       "                        <td id=\"T_3dddca22_3e96_11ea_bb15_dba25722cc7arow1_col0\" class=\"data row1 col0\" >0.00</td>\n",
       "                        <td id=\"T_3dddca22_3e96_11ea_bb15_dba25722cc7arow1_col1\" class=\"data row1 col1\" >0.00</td>\n",
       "                        <td id=\"T_3dddca22_3e96_11ea_bb15_dba25722cc7arow1_col2\" class=\"data row1 col2\" >0.00</td>\n",
       "                        <td id=\"T_3dddca22_3e96_11ea_bb15_dba25722cc7arow1_col3\" class=\"data row1 col3\" >-0.00</td>\n",
       "                        <td id=\"T_3dddca22_3e96_11ea_bb15_dba25722cc7arow1_col4\" class=\"data row1 col4\" >-0.00</td>\n",
       "                        <td id=\"T_3dddca22_3e96_11ea_bb15_dba25722cc7arow1_col5\" class=\"data row1 col5\" >0.00</td>\n",
       "                        <td id=\"T_3dddca22_3e96_11ea_bb15_dba25722cc7arow1_col6\" class=\"data row1 col6\" >-0.00</td>\n",
       "                        <td id=\"T_3dddca22_3e96_11ea_bb15_dba25722cc7arow1_col7\" class=\"data row1 col7\" >-0.00</td>\n",
       "                        <td id=\"T_3dddca22_3e96_11ea_bb15_dba25722cc7arow1_col8\" class=\"data row1 col8\" >0.00</td>\n",
       "                        <td id=\"T_3dddca22_3e96_11ea_bb15_dba25722cc7arow1_col9\" class=\"data row1 col9\" >0.00</td>\n",
       "                        <td id=\"T_3dddca22_3e96_11ea_bb15_dba25722cc7arow1_col10\" class=\"data row1 col10\" >0.00</td>\n",
       "                        <td id=\"T_3dddca22_3e96_11ea_bb15_dba25722cc7arow1_col11\" class=\"data row1 col11\" >0.00</td>\n",
       "                        <td id=\"T_3dddca22_3e96_11ea_bb15_dba25722cc7arow1_col12\" class=\"data row1 col12\" >0.00</td>\n",
       "            </tr>\n",
       "            <tr>\n",
       "                        <th id=\"T_3dddca22_3e96_11ea_bb15_dba25722cc7alevel0_row2\" class=\"row_heading level0 row2\" >std</th>\n",
       "                        <td id=\"T_3dddca22_3e96_11ea_bb15_dba25722cc7arow2_col0\" class=\"data row2 col0\" >1.00</td>\n",
       "                        <td id=\"T_3dddca22_3e96_11ea_bb15_dba25722cc7arow2_col1\" class=\"data row2 col1\" >1.00</td>\n",
       "                        <td id=\"T_3dddca22_3e96_11ea_bb15_dba25722cc7arow2_col2\" class=\"data row2 col2\" >1.00</td>\n",
       "                        <td id=\"T_3dddca22_3e96_11ea_bb15_dba25722cc7arow2_col3\" class=\"data row2 col3\" >1.00</td>\n",
       "                        <td id=\"T_3dddca22_3e96_11ea_bb15_dba25722cc7arow2_col4\" class=\"data row2 col4\" >1.00</td>\n",
       "                        <td id=\"T_3dddca22_3e96_11ea_bb15_dba25722cc7arow2_col5\" class=\"data row2 col5\" >1.00</td>\n",
       "                        <td id=\"T_3dddca22_3e96_11ea_bb15_dba25722cc7arow2_col6\" class=\"data row2 col6\" >1.00</td>\n",
       "                        <td id=\"T_3dddca22_3e96_11ea_bb15_dba25722cc7arow2_col7\" class=\"data row2 col7\" >1.00</td>\n",
       "                        <td id=\"T_3dddca22_3e96_11ea_bb15_dba25722cc7arow2_col8\" class=\"data row2 col8\" >1.00</td>\n",
       "                        <td id=\"T_3dddca22_3e96_11ea_bb15_dba25722cc7arow2_col9\" class=\"data row2 col9\" >1.00</td>\n",
       "                        <td id=\"T_3dddca22_3e96_11ea_bb15_dba25722cc7arow2_col10\" class=\"data row2 col10\" >1.00</td>\n",
       "                        <td id=\"T_3dddca22_3e96_11ea_bb15_dba25722cc7arow2_col11\" class=\"data row2 col11\" >1.00</td>\n",
       "                        <td id=\"T_3dddca22_3e96_11ea_bb15_dba25722cc7arow2_col12\" class=\"data row2 col12\" >1.00</td>\n",
       "            </tr>\n",
       "            <tr>\n",
       "                        <th id=\"T_3dddca22_3e96_11ea_bb15_dba25722cc7alevel0_row3\" class=\"row_heading level0 row3\" >min</th>\n",
       "                        <td id=\"T_3dddca22_3e96_11ea_bb15_dba25722cc7arow3_col0\" class=\"data row3 col0\" >-0.41</td>\n",
       "                        <td id=\"T_3dddca22_3e96_11ea_bb15_dba25722cc7arow3_col1\" class=\"data row3 col1\" >-0.46</td>\n",
       "                        <td id=\"T_3dddca22_3e96_11ea_bb15_dba25722cc7arow3_col2\" class=\"data row3 col2\" >-1.59</td>\n",
       "                        <td id=\"T_3dddca22_3e96_11ea_bb15_dba25722cc7arow3_col3\" class=\"data row3 col3\" >-0.27</td>\n",
       "                        <td id=\"T_3dddca22_3e96_11ea_bb15_dba25722cc7arow3_col4\" class=\"data row3 col4\" >-1.43</td>\n",
       "                        <td id=\"T_3dddca22_3e96_11ea_bb15_dba25722cc7arow3_col5\" class=\"data row3 col5\" >-3.87</td>\n",
       "                        <td id=\"T_3dddca22_3e96_11ea_bb15_dba25722cc7arow3_col6\" class=\"data row3 col6\" >-2.43</td>\n",
       "                        <td id=\"T_3dddca22_3e96_11ea_bb15_dba25722cc7arow3_col7\" class=\"data row3 col7\" >-1.24</td>\n",
       "                        <td id=\"T_3dddca22_3e96_11ea_bb15_dba25722cc7arow3_col8\" class=\"data row3 col8\" >-1.01</td>\n",
       "                        <td id=\"T_3dddca22_3e96_11ea_bb15_dba25722cc7arow3_col9\" class=\"data row3 col9\" >-1.34</td>\n",
       "                        <td id=\"T_3dddca22_3e96_11ea_bb15_dba25722cc7arow3_col10\" class=\"data row3 col10\" >-2.78</td>\n",
       "                        <td id=\"T_3dddca22_3e96_11ea_bb15_dba25722cc7arow3_col11\" class=\"data row3 col11\" >-3.74</td>\n",
       "                        <td id=\"T_3dddca22_3e96_11ea_bb15_dba25722cc7arow3_col12\" class=\"data row3 col12\" >-1.55</td>\n",
       "            </tr>\n",
       "            <tr>\n",
       "                        <th id=\"T_3dddca22_3e96_11ea_bb15_dba25722cc7alevel0_row4\" class=\"row_heading level0 row4\" >25%</th>\n",
       "                        <td id=\"T_3dddca22_3e96_11ea_bb15_dba25722cc7arow4_col0\" class=\"data row4 col0\" >-0.41</td>\n",
       "                        <td id=\"T_3dddca22_3e96_11ea_bb15_dba25722cc7arow4_col1\" class=\"data row4 col1\" >-0.46</td>\n",
       "                        <td id=\"T_3dddca22_3e96_11ea_bb15_dba25722cc7arow4_col2\" class=\"data row4 col2\" >-0.83</td>\n",
       "                        <td id=\"T_3dddca22_3e96_11ea_bb15_dba25722cc7arow4_col3\" class=\"data row4 col3\" >-0.27</td>\n",
       "                        <td id=\"T_3dddca22_3e96_11ea_bb15_dba25722cc7arow4_col4\" class=\"data row4 col4\" >-0.91</td>\n",
       "                        <td id=\"T_3dddca22_3e96_11ea_bb15_dba25722cc7arow4_col5\" class=\"data row4 col5\" >-0.55</td>\n",
       "                        <td id=\"T_3dddca22_3e96_11ea_bb15_dba25722cc7arow4_col6\" class=\"data row4 col6\" >-0.83</td>\n",
       "                        <td id=\"T_3dddca22_3e96_11ea_bb15_dba25722cc7arow4_col7\" class=\"data row4 col7\" >-0.80</td>\n",
       "                        <td id=\"T_3dddca22_3e96_11ea_bb15_dba25722cc7arow4_col8\" class=\"data row4 col8\" >-0.67</td>\n",
       "                        <td id=\"T_3dddca22_3e96_11ea_bb15_dba25722cc7arow4_col9\" class=\"data row4 col9\" >-0.77</td>\n",
       "                        <td id=\"T_3dddca22_3e96_11ea_bb15_dba25722cc7arow4_col10\" class=\"data row4 col10\" >-0.52</td>\n",
       "                        <td id=\"T_3dddca22_3e96_11ea_bb15_dba25722cc7arow4_col11\" class=\"data row4 col11\" >0.21</td>\n",
       "                        <td id=\"T_3dddca22_3e96_11ea_bb15_dba25722cc7arow4_col12\" class=\"data row4 col12\" >-0.77</td>\n",
       "            </tr>\n",
       "            <tr>\n",
       "                        <th id=\"T_3dddca22_3e96_11ea_bb15_dba25722cc7alevel0_row5\" class=\"row_heading level0 row5\" >50%</th>\n",
       "                        <td id=\"T_3dddca22_3e96_11ea_bb15_dba25722cc7arow5_col0\" class=\"data row5 col0\" >-0.38</td>\n",
       "                        <td id=\"T_3dddca22_3e96_11ea_bb15_dba25722cc7arow5_col1\" class=\"data row5 col1\" >-0.46</td>\n",
       "                        <td id=\"T_3dddca22_3e96_11ea_bb15_dba25722cc7arow5_col2\" class=\"data row5 col2\" >-0.24</td>\n",
       "                        <td id=\"T_3dddca22_3e96_11ea_bb15_dba25722cc7arow5_col3\" class=\"data row5 col3\" >-0.27</td>\n",
       "                        <td id=\"T_3dddca22_3e96_11ea_bb15_dba25722cc7arow5_col4\" class=\"data row5 col4\" >-0.18</td>\n",
       "                        <td id=\"T_3dddca22_3e96_11ea_bb15_dba25722cc7arow5_col5\" class=\"data row5 col5\" >-0.10</td>\n",
       "                        <td id=\"T_3dddca22_3e96_11ea_bb15_dba25722cc7arow5_col6\" class=\"data row5 col6\" >0.36</td>\n",
       "                        <td id=\"T_3dddca22_3e96_11ea_bb15_dba25722cc7arow5_col7\" class=\"data row5 col7\" >-0.29</td>\n",
       "                        <td id=\"T_3dddca22_3e96_11ea_bb15_dba25722cc7arow5_col8\" class=\"data row5 col8\" >-0.55</td>\n",
       "                        <td id=\"T_3dddca22_3e96_11ea_bb15_dba25722cc7arow5_col9\" class=\"data row5 col9\" >-0.47</td>\n",
       "                        <td id=\"T_3dddca22_3e96_11ea_bb15_dba25722cc7arow5_col10\" class=\"data row5 col10\" >0.28</td>\n",
       "                        <td id=\"T_3dddca22_3e96_11ea_bb15_dba25722cc7arow5_col11\" class=\"data row5 col11\" >0.39</td>\n",
       "                        <td id=\"T_3dddca22_3e96_11ea_bb15_dba25722cc7arow5_col12\" class=\"data row5 col12\" >-0.18</td>\n",
       "            </tr>\n",
       "            <tr>\n",
       "                        <th id=\"T_3dddca22_3e96_11ea_bb15_dba25722cc7alevel0_row6\" class=\"row_heading level0 row6\" >75%</th>\n",
       "                        <td id=\"T_3dddca22_3e96_11ea_bb15_dba25722cc7arow6_col0\" class=\"data row6 col0\" >-0.01</td>\n",
       "                        <td id=\"T_3dddca22_3e96_11ea_bb15_dba25722cc7arow6_col1\" class=\"data row6 col1\" >-0.46</td>\n",
       "                        <td id=\"T_3dddca22_3e96_11ea_bb15_dba25722cc7arow6_col2\" class=\"data row6 col2\" >0.97</td>\n",
       "                        <td id=\"T_3dddca22_3e96_11ea_bb15_dba25722cc7arow6_col3\" class=\"data row6 col3\" >-0.27</td>\n",
       "                        <td id=\"T_3dddca22_3e96_11ea_bb15_dba25722cc7arow6_col4\" class=\"data row6 col4\" >0.55</td>\n",
       "                        <td id=\"T_3dddca22_3e96_11ea_bb15_dba25722cc7arow6_col5\" class=\"data row6 col5\" >0.49</td>\n",
       "                        <td id=\"T_3dddca22_3e96_11ea_bb15_dba25722cc7arow6_col6\" class=\"data row6 col6\" >0.88</td>\n",
       "                        <td id=\"T_3dddca22_3e96_11ea_bb15_dba25722cc7arow6_col7\" class=\"data row6 col7\" >0.60</td>\n",
       "                        <td id=\"T_3dddca22_3e96_11ea_bb15_dba25722cc7arow6_col8\" class=\"data row6 col8\" >1.60</td>\n",
       "                        <td id=\"T_3dddca22_3e96_11ea_bb15_dba25722cc7arow6_col9\" class=\"data row6 col9\" >1.48</td>\n",
       "                        <td id=\"T_3dddca22_3e96_11ea_bb15_dba25722cc7arow6_col10\" class=\"data row6 col10\" >0.79</td>\n",
       "                        <td id=\"T_3dddca22_3e96_11ea_bb15_dba25722cc7arow6_col11\" class=\"data row6 col11\" >0.44</td>\n",
       "                        <td id=\"T_3dddca22_3e96_11ea_bb15_dba25722cc7arow6_col12\" class=\"data row6 col12\" >0.56</td>\n",
       "            </tr>\n",
       "            <tr>\n",
       "                        <th id=\"T_3dddca22_3e96_11ea_bb15_dba25722cc7alevel0_row7\" class=\"row_heading level0 row7\" >max</th>\n",
       "                        <td id=\"T_3dddca22_3e96_11ea_bb15_dba25722cc7arow7_col0\" class=\"data row7 col0\" >8.89</td>\n",
       "                        <td id=\"T_3dddca22_3e96_11ea_bb15_dba25722cc7arow7_col1\" class=\"data row7 col1\" >3.82</td>\n",
       "                        <td id=\"T_3dddca22_3e96_11ea_bb15_dba25722cc7arow7_col2\" class=\"data row7 col2\" >2.39</td>\n",
       "                        <td id=\"T_3dddca22_3e96_11ea_bb15_dba25722cc7arow7_col3\" class=\"data row7 col3\" >3.70</td>\n",
       "                        <td id=\"T_3dddca22_3e96_11ea_bb15_dba25722cc7arow7_col4\" class=\"data row7 col4\" >2.67</td>\n",
       "                        <td id=\"T_3dddca22_3e96_11ea_bb15_dba25722cc7arow7_col5\" class=\"data row7 col5\" >3.55</td>\n",
       "                        <td id=\"T_3dddca22_3e96_11ea_bb15_dba25722cc7arow7_col6\" class=\"data row7 col6\" >1.08</td>\n",
       "                        <td id=\"T_3dddca22_3e96_11ea_bb15_dba25722cc7arow7_col7\" class=\"data row7 col7\" >4.07</td>\n",
       "                        <td id=\"T_3dddca22_3e96_11ea_bb15_dba25722cc7arow7_col8\" class=\"data row7 col8\" >1.60</td>\n",
       "                        <td id=\"T_3dddca22_3e96_11ea_bb15_dba25722cc7arow7_col9\" class=\"data row7 col9\" >1.75</td>\n",
       "                        <td id=\"T_3dddca22_3e96_11ea_bb15_dba25722cc7arow7_col10\" class=\"data row7 col10\" >1.64</td>\n",
       "                        <td id=\"T_3dddca22_3e96_11ea_bb15_dba25722cc7arow7_col11\" class=\"data row7 col11\" >0.45</td>\n",
       "                        <td id=\"T_3dddca22_3e96_11ea_bb15_dba25722cc7arow7_col12\" class=\"data row7 col12\" >3.43</td>\n",
       "            </tr>\n",
       "    </tbody></table>"
      ],
      "text/plain": [
       "<pandas.io.formats.style.Styler at 0x7fc61da1b110>"
      ]
     },
     "metadata": {},
     "output_type": "display_data"
    }
   ],
   "source": [
    "display(x_train.describe().style.format(\"{0:.2f}\").set_caption(\"Before normalization :\"))\n",
    "\n",
    "mean = x_train.mean()\n",
    "std  = x_train.std()\n",
    "x_train = (x_train - mean) / std\n",
    "x_test  = (x_test  - mean) / std\n",
    "\n",
    "display(x_train.describe().style.format(\"{0:.2f}\").set_caption(\"After normalization :\"))\n",
    "\n",
    "x_train, y_train = np.array(x_train), np.array(y_train)\n",
    "x_test,  y_test  = np.array(x_test),  np.array(y_test)\n"
   ]
  },
  {
   "cell_type": "markdown",
   "metadata": {},
   "source": [
    "## 4/ Build a model\n",
    "About informations about : \n",
    " - [Optimizer](https://www.tensorflow.org/api_docs/python/tf/keras/optimizers)\n",
    " - [Activation](https://www.tensorflow.org/api_docs/python/tf/keras/activations)\n",
    " - [Loss](https://www.tensorflow.org/api_docs/python/tf/keras/losses)\n",
    " - [Metrics](https://www.tensorflow.org/api_docs/python/tf/keras/metrics)"
   ]
  },
  {
   "cell_type": "code",
   "execution_count": 6,
   "metadata": {},
   "outputs": [],
   "source": [
    "  def get_model_v1(shape):\n",
    "    \n",
    "    model = keras.models.Sequential()\n",
    "    model.add(keras.layers.Dense(64, activation='relu', input_shape=shape))\n",
    "    model.add(keras.layers.Dense(64, activation='relu'))\n",
    "    model.add(keras.layers.Dense(1))\n",
    "    \n",
    "    model.compile(optimizer = 'rmsprop',\n",
    "                  loss      = 'mse',\n",
    "                  metrics   = ['mae', 'mse'] )\n",
    "    return model"
   ]
  },
  {
   "cell_type": "markdown",
   "metadata": {},
   "source": [
    "## 5/ Train the model"
   ]
  },
  {
   "cell_type": "code",
   "execution_count": 7,
   "metadata": {},
   "outputs": [
    {
     "name": "stdout",
     "output_type": "stream",
     "text": [
      "Model: \"sequential\"\n",
      "_________________________________________________________________\n",
      "Layer (type)                 Output Shape              Param #   \n",
      "=================================================================\n",
      "dense (Dense)                (None, 64)                896       \n",
      "_________________________________________________________________\n",
      "dense_1 (Dense)              (None, 64)                4160      \n",
      "_________________________________________________________________\n",
      "dense_2 (Dense)              (None, 1)                 65        \n",
      "=================================================================\n",
      "Total params: 5,121\n",
      "Trainable params: 5,121\n",
      "Non-trainable params: 0\n",
      "_________________________________________________________________\n"
     ]
    }
   ],
   "source": [
    "model=get_model_v1( (13,) )\n",
    "\n",
    "model.summary()"
   ]
  },
  {
   "cell_type": "markdown",
   "metadata": {},
   "source": [
    "**Let's go :**"
   ]
  },
  {
   "cell_type": "code",
   "execution_count": 9,
   "metadata": {},
   "outputs": [],
   "source": [
    "history = model.fit(x_train,\n",
    "                    y_train,\n",
    "                    epochs          = 100,\n",
    "                    batch_size      = 10,\n",
    "                    verbose         = 0,\n",
    "                    validation_data = (x_test, y_test))"
   ]
  },
  {
   "cell_type": "markdown",
   "metadata": {},
   "source": [
    "## 6/ Evaluate\n",
    "### 6.1/ Model evaluation\n",
    "MAE =  Mean Absolute Error (between the labels and predictions)  \n",
    "A mae equal to 3 represents an average error in prediction of $3k."
   ]
  },
  {
   "cell_type": "code",
   "execution_count": 10,
   "metadata": {},
   "outputs": [
    {
     "name": "stdout",
     "output_type": "stream",
     "text": [
      "x_test / loss      : 14.9185\n",
      "x_test / mae       : 2.5638\n",
      "x_test / mse       : 14.9185\n"
     ]
    }
   ],
   "source": [
    "score = model.evaluate(x_test, y_test, verbose=0)\n",
    "\n",
    "print('x_test / loss      : {:5.4f}'.format(score[0]))\n",
    "print('x_test / mae       : {:5.4f}'.format(score[1]))\n",
    "print('x_test / mse       : {:5.4f}'.format(score[2]))"
   ]
  },
  {
   "cell_type": "markdown",
   "metadata": {},
   "source": [
    "### 6.2/ Training history\n",
    "What was the best result during our training ?"
   ]
  },
  {
   "cell_type": "code",
   "execution_count": 11,
   "metadata": {},
   "outputs": [
    {
     "name": "stdout",
     "output_type": "stream",
     "text": [
      "min( val_mae ) : 2.1862\n"
     ]
    }
   ],
   "source": [
    "print(\"min( val_mae ) : {:.4f}\".format( min(history.history[\"val_mae\"]) ) )"
   ]
  },
  {
   "cell_type": "code",
   "execution_count": 12,
   "metadata": {},
   "outputs": [
    {
     "data": {
      "image/png": "[encoded data removed]",
      "text/plain": [
       "<Figure size 576x432 with 1 Axes>"
      ]
     },
     "metadata": {
      "needs_background": "light"
     },
     "output_type": "display_data"
    },
    {
     "data": {
      "image/png": "[encoded data removed]",
      "text/plain": [
       "<Figure size 576x432 with 1 Axes>"
      ]
     },
     "metadata": {
      "needs_background": "light"
     },
     "output_type": "display_data"
    },
    {
     "data": {
      "image/png": "[encoded data removed]",
      "text/plain": [
       "<Figure size 576x432 with 1 Axes>"
      ]
     },
     "metadata": {
      "needs_background": "light"
     },
     "output_type": "display_data"
    }
   ],
   "source": [
    "reload(ooo)\n",
    "ooo.plot_history(history, plot={'MSE' :['mse', 'val_mse'],\n",
    "                                'MAE' :['mae', 'val_mae'],\n",
    "                                'LOSS':['loss','val_loss']})"
   ]
  },
  {
   "cell_type": "markdown",
   "metadata": {},
   "source": [
    "---\n",
    "That's all folks !"
   ]
  }
 ],
 "metadata": {
  "kernelspec": {
   "display_name": "Python 3",
   "language": "python",
   "name": "python3"
  },
  "language_info": {
   "codemirror_mode": {
    "name": "ipython",
    "version": 3
   },
   "file_extension": ".py",
   "mimetype": "text/x-python",
   "name": "python",
   "nbconvert_exporter": "python",
   "pygments_lexer": "ipython3",
   "version": "3.7.5"
  }
 },
 "nbformat": 4,
 "nbformat_minor": 4
}
