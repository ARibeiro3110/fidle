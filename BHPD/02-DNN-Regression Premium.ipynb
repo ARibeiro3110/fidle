{
 "cells": [
  {
   "cell_type": "markdown",
   "metadata": {},
   "source": [
    "Deep Neural Network (DNN) - BHPD dataset\n",
    "========================================\n",
    "---\n",
    "Introduction au Deep Learning  (IDLE) - S. Arias, E. Maldonado, JL. Parouty - CNRS/SARI/DEVLOG - 2020  \n",
    "\n",
    "## A very simple example of **regression** (Premium edition):\n",
    "\n",
    "Objective is to predicts **housing prices** from a set of house features. \n",
    "\n",
    "The **[Boston Housing Dataset](https://www.cs.toronto.edu/~delve/data/boston/bostonDetail.html)** consists of price of houses in various places in Boston.  \n",
    "Alongside with price, the dataset also provide information such as Crime, areas of non-retail business in the town,  \n",
    "age of people who own the house and many other attributes...\n",
    "\n",
    "What we're going to do:\n",
    "\n",
    " - (Retrieve data)\n",
    " - (Preparing the data)\n",
    " - (Build a model)\n",
    " - Train and save the model\n",
    " - Restore saved model\n",
    " - Evaluate the model\n",
    " - Make some predictions\n"
   ]
  },
  {
   "cell_type": "markdown",
   "metadata": {},
   "source": [
    "## Step 1 - Import and init"
   ]
  },
  {
   "cell_type": "code",
   "execution_count": 1,
   "metadata": {},
   "outputs": [
    {
     "data": {
      "text/html": [
       "<style>\n",
       "\n",
       "div.warn {    \n",
       "    background-color: #fcf2f2;\n",
       "    border-color: #dFb5b4;\n",
       "    border-left: 5px solid #dfb5b4;\n",
       "    padding: 0.5em;\n",
       "    font-weight: bold;\n",
       "    font-size: 1.1em;;\n",
       "    }\n",
       "\n",
       "\n",
       "\n",
       "div.nota {    \n",
       "    background-color: #DAFFDE;\n",
       "    border-left: 5px solid #92CC99;\n",
       "    padding: 0.5em;\n",
       "    }\n",
       "\n",
       "\n",
       "\n",
       "</style>\n",
       "\n"
      ],
      "text/plain": [
       "<IPython.core.display.HTML object>"
      ]
     },
     "metadata": {},
     "output_type": "display_data"
    },
    {
     "name": "stdout",
     "output_type": "stream",
     "text": [
      "\n",
      "FIDLE 2020 - Practical Work Module\n",
      "Version              : 0.2.8\n",
      "Run time             : Saturday 15 February 2020, 12:32:05\n",
      "TensorFlow version   : 2.0.0\n",
      "Keras version        : 2.2.4-tf\n"
     ]
    }
   ],
   "source": [
    "import tensorflow as tf\n",
    "from tensorflow import keras\n",
    "\n",
    "import numpy as np\n",
    "import matplotlib.pyplot as plt\n",
    "import pandas as pd\n",
    "import os,sys\n",
    "\n",
    "from IPython.display import display, Markdown\n",
    "from importlib import reload\n",
    "\n",
    "sys.path.append('..')\n",
    "import fidle.pwk as ooo\n",
    "\n",
    "ooo.init()\n",
    "os.makedirs('./run/models',   mode=0o750, exist_ok=True)"
   ]
  },
  {
   "cell_type": "markdown",
   "metadata": {},
   "source": [
    "## Step 2 - Retrieve data\n",
    "\n",
    "### 2.1 - Option 1  : From Keras\n",
    "Boston housing is a famous historic dataset, so we can get it directly from [Keras datasets](https://www.tensorflow.org/api_docs/python/tf/keras/datasets)  "
   ]
  },
  {
   "cell_type": "raw",
   "metadata": {},
   "source": [
    "(x_train, y_train), (x_test, y_test) = keras.datasets.boston_housing.load_data(test_split=0.2, seed=113)"
   ]
  },
  {
   "cell_type": "markdown",
   "metadata": {},
   "source": [
    "### 2.2 - Option 2 : From a csv file\n",
    "More fun !"
   ]
  },
  {
   "cell_type": "code",
   "execution_count": 2,
   "metadata": {},
   "outputs": [
    {
     "data": {
      "text/html": [
       "<style  type=\"text/css\" >\n",
       "</style><table id=\"T_cb315e50_4fe6_11ea_b235_859a5544c0e9\" ><thead>    <tr>        <th class=\"blank level0\" ></th>        <th class=\"col_heading level0 col0\" >crim</th>        <th class=\"col_heading level0 col1\" >zn</th>        <th class=\"col_heading level0 col2\" >indus</th>        <th class=\"col_heading level0 col3\" >chas</th>        <th class=\"col_heading level0 col4\" >nox</th>        <th class=\"col_heading level0 col5\" >rm</th>        <th class=\"col_heading level0 col6\" >age</th>        <th class=\"col_heading level0 col7\" >dis</th>        <th class=\"col_heading level0 col8\" >rad</th>        <th class=\"col_heading level0 col9\" >tax</th>        <th class=\"col_heading level0 col10\" >ptratio</th>        <th class=\"col_heading level0 col11\" >b</th>        <th class=\"col_heading level0 col12\" >lstat</th>        <th class=\"col_heading level0 col13\" >medv</th>    </tr></thead><tbody>\n",
       "                <tr>\n",
       "                        <th id=\"T_cb315e50_4fe6_11ea_b235_859a5544c0e9level0_row0\" class=\"row_heading level0 row0\" >0</th>\n",
       "                        <td id=\"T_cb315e50_4fe6_11ea_b235_859a5544c0e9row0_col0\" class=\"data row0 col0\" >0.01</td>\n",
       "                        <td id=\"T_cb315e50_4fe6_11ea_b235_859a5544c0e9row0_col1\" class=\"data row0 col1\" >18.00</td>\n",
       "                        <td id=\"T_cb315e50_4fe6_11ea_b235_859a5544c0e9row0_col2\" class=\"data row0 col2\" >2.31</td>\n",
       "                        <td id=\"T_cb315e50_4fe6_11ea_b235_859a5544c0e9row0_col3\" class=\"data row0 col3\" >0.00</td>\n",
       "                        <td id=\"T_cb315e50_4fe6_11ea_b235_859a5544c0e9row0_col4\" class=\"data row0 col4\" >0.54</td>\n",
       "                        <td id=\"T_cb315e50_4fe6_11ea_b235_859a5544c0e9row0_col5\" class=\"data row0 col5\" >6.58</td>\n",
       "                        <td id=\"T_cb315e50_4fe6_11ea_b235_859a5544c0e9row0_col6\" class=\"data row0 col6\" >65.20</td>\n",
       "                        <td id=\"T_cb315e50_4fe6_11ea_b235_859a5544c0e9row0_col7\" class=\"data row0 col7\" >4.09</td>\n",
       "                        <td id=\"T_cb315e50_4fe6_11ea_b235_859a5544c0e9row0_col8\" class=\"data row0 col8\" >1.00</td>\n",
       "                        <td id=\"T_cb315e50_4fe6_11ea_b235_859a5544c0e9row0_col9\" class=\"data row0 col9\" >296.00</td>\n",
       "                        <td id=\"T_cb315e50_4fe6_11ea_b235_859a5544c0e9row0_col10\" class=\"data row0 col10\" >15.30</td>\n",
       "                        <td id=\"T_cb315e50_4fe6_11ea_b235_859a5544c0e9row0_col11\" class=\"data row0 col11\" >396.90</td>\n",
       "                        <td id=\"T_cb315e50_4fe6_11ea_b235_859a5544c0e9row0_col12\" class=\"data row0 col12\" >4.98</td>\n",
       "                        <td id=\"T_cb315e50_4fe6_11ea_b235_859a5544c0e9row0_col13\" class=\"data row0 col13\" >24.00</td>\n",
       "            </tr>\n",
       "            <tr>\n",
       "                        <th id=\"T_cb315e50_4fe6_11ea_b235_859a5544c0e9level0_row1\" class=\"row_heading level0 row1\" >1</th>\n",
       "                        <td id=\"T_cb315e50_4fe6_11ea_b235_859a5544c0e9row1_col0\" class=\"data row1 col0\" >0.03</td>\n",
       "                        <td id=\"T_cb315e50_4fe6_11ea_b235_859a5544c0e9row1_col1\" class=\"data row1 col1\" >0.00</td>\n",
       "                        <td id=\"T_cb315e50_4fe6_11ea_b235_859a5544c0e9row1_col2\" class=\"data row1 col2\" >7.07</td>\n",
       "                        <td id=\"T_cb315e50_4fe6_11ea_b235_859a5544c0e9row1_col3\" class=\"data row1 col3\" >0.00</td>\n",
       "                        <td id=\"T_cb315e50_4fe6_11ea_b235_859a5544c0e9row1_col4\" class=\"data row1 col4\" >0.47</td>\n",
       "                        <td id=\"T_cb315e50_4fe6_11ea_b235_859a5544c0e9row1_col5\" class=\"data row1 col5\" >6.42</td>\n",
       "                        <td id=\"T_cb315e50_4fe6_11ea_b235_859a5544c0e9row1_col6\" class=\"data row1 col6\" >78.90</td>\n",
       "                        <td id=\"T_cb315e50_4fe6_11ea_b235_859a5544c0e9row1_col7\" class=\"data row1 col7\" >4.97</td>\n",
       "                        <td id=\"T_cb315e50_4fe6_11ea_b235_859a5544c0e9row1_col8\" class=\"data row1 col8\" >2.00</td>\n",
       "                        <td id=\"T_cb315e50_4fe6_11ea_b235_859a5544c0e9row1_col9\" class=\"data row1 col9\" >242.00</td>\n",
       "                        <td id=\"T_cb315e50_4fe6_11ea_b235_859a5544c0e9row1_col10\" class=\"data row1 col10\" >17.80</td>\n",
       "                        <td id=\"T_cb315e50_4fe6_11ea_b235_859a5544c0e9row1_col11\" class=\"data row1 col11\" >396.90</td>\n",
       "                        <td id=\"T_cb315e50_4fe6_11ea_b235_859a5544c0e9row1_col12\" class=\"data row1 col12\" >9.14</td>\n",
       "                        <td id=\"T_cb315e50_4fe6_11ea_b235_859a5544c0e9row1_col13\" class=\"data row1 col13\" >21.60</td>\n",
       "            </tr>\n",
       "            <tr>\n",
       "                        <th id=\"T_cb315e50_4fe6_11ea_b235_859a5544c0e9level0_row2\" class=\"row_heading level0 row2\" >2</th>\n",
       "                        <td id=\"T_cb315e50_4fe6_11ea_b235_859a5544c0e9row2_col0\" class=\"data row2 col0\" >0.03</td>\n",
       "                        <td id=\"T_cb315e50_4fe6_11ea_b235_859a5544c0e9row2_col1\" class=\"data row2 col1\" >0.00</td>\n",
       "                        <td id=\"T_cb315e50_4fe6_11ea_b235_859a5544c0e9row2_col2\" class=\"data row2 col2\" >7.07</td>\n",
       "                        <td id=\"T_cb315e50_4fe6_11ea_b235_859a5544c0e9row2_col3\" class=\"data row2 col3\" >0.00</td>\n",
       "                        <td id=\"T_cb315e50_4fe6_11ea_b235_859a5544c0e9row2_col4\" class=\"data row2 col4\" >0.47</td>\n",
       "                        <td id=\"T_cb315e50_4fe6_11ea_b235_859a5544c0e9row2_col5\" class=\"data row2 col5\" >7.18</td>\n",
       "                        <td id=\"T_cb315e50_4fe6_11ea_b235_859a5544c0e9row2_col6\" class=\"data row2 col6\" >61.10</td>\n",
       "                        <td id=\"T_cb315e50_4fe6_11ea_b235_859a5544c0e9row2_col7\" class=\"data row2 col7\" >4.97</td>\n",
       "                        <td id=\"T_cb315e50_4fe6_11ea_b235_859a5544c0e9row2_col8\" class=\"data row2 col8\" >2.00</td>\n",
       "                        <td id=\"T_cb315e50_4fe6_11ea_b235_859a5544c0e9row2_col9\" class=\"data row2 col9\" >242.00</td>\n",
       "                        <td id=\"T_cb315e50_4fe6_11ea_b235_859a5544c0e9row2_col10\" class=\"data row2 col10\" >17.80</td>\n",
       "                        <td id=\"T_cb315e50_4fe6_11ea_b235_859a5544c0e9row2_col11\" class=\"data row2 col11\" >392.83</td>\n",
       "                        <td id=\"T_cb315e50_4fe6_11ea_b235_859a5544c0e9row2_col12\" class=\"data row2 col12\" >4.03</td>\n",
       "                        <td id=\"T_cb315e50_4fe6_11ea_b235_859a5544c0e9row2_col13\" class=\"data row2 col13\" >34.70</td>\n",
       "            </tr>\n",
       "            <tr>\n",
       "                        <th id=\"T_cb315e50_4fe6_11ea_b235_859a5544c0e9level0_row3\" class=\"row_heading level0 row3\" >3</th>\n",
       "                        <td id=\"T_cb315e50_4fe6_11ea_b235_859a5544c0e9row3_col0\" class=\"data row3 col0\" >0.03</td>\n",
       "                        <td id=\"T_cb315e50_4fe6_11ea_b235_859a5544c0e9row3_col1\" class=\"data row3 col1\" >0.00</td>\n",
       "                        <td id=\"T_cb315e50_4fe6_11ea_b235_859a5544c0e9row3_col2\" class=\"data row3 col2\" >2.18</td>\n",
       "                        <td id=\"T_cb315e50_4fe6_11ea_b235_859a5544c0e9row3_col3\" class=\"data row3 col3\" >0.00</td>\n",
       "                        <td id=\"T_cb315e50_4fe6_11ea_b235_859a5544c0e9row3_col4\" class=\"data row3 col4\" >0.46</td>\n",
       "                        <td id=\"T_cb315e50_4fe6_11ea_b235_859a5544c0e9row3_col5\" class=\"data row3 col5\" >7.00</td>\n",
       "                        <td id=\"T_cb315e50_4fe6_11ea_b235_859a5544c0e9row3_col6\" class=\"data row3 col6\" >45.80</td>\n",
       "                        <td id=\"T_cb315e50_4fe6_11ea_b235_859a5544c0e9row3_col7\" class=\"data row3 col7\" >6.06</td>\n",
       "                        <td id=\"T_cb315e50_4fe6_11ea_b235_859a5544c0e9row3_col8\" class=\"data row3 col8\" >3.00</td>\n",
       "                        <td id=\"T_cb315e50_4fe6_11ea_b235_859a5544c0e9row3_col9\" class=\"data row3 col9\" >222.00</td>\n",
       "                        <td id=\"T_cb315e50_4fe6_11ea_b235_859a5544c0e9row3_col10\" class=\"data row3 col10\" >18.70</td>\n",
       "                        <td id=\"T_cb315e50_4fe6_11ea_b235_859a5544c0e9row3_col11\" class=\"data row3 col11\" >394.63</td>\n",
       "                        <td id=\"T_cb315e50_4fe6_11ea_b235_859a5544c0e9row3_col12\" class=\"data row3 col12\" >2.94</td>\n",
       "                        <td id=\"T_cb315e50_4fe6_11ea_b235_859a5544c0e9row3_col13\" class=\"data row3 col13\" >33.40</td>\n",
       "            </tr>\n",
       "            <tr>\n",
       "                        <th id=\"T_cb315e50_4fe6_11ea_b235_859a5544c0e9level0_row4\" class=\"row_heading level0 row4\" >4</th>\n",
       "                        <td id=\"T_cb315e50_4fe6_11ea_b235_859a5544c0e9row4_col0\" class=\"data row4 col0\" >0.07</td>\n",
       "                        <td id=\"T_cb315e50_4fe6_11ea_b235_859a5544c0e9row4_col1\" class=\"data row4 col1\" >0.00</td>\n",
       "                        <td id=\"T_cb315e50_4fe6_11ea_b235_859a5544c0e9row4_col2\" class=\"data row4 col2\" >2.18</td>\n",
       "                        <td id=\"T_cb315e50_4fe6_11ea_b235_859a5544c0e9row4_col3\" class=\"data row4 col3\" >0.00</td>\n",
       "                        <td id=\"T_cb315e50_4fe6_11ea_b235_859a5544c0e9row4_col4\" class=\"data row4 col4\" >0.46</td>\n",
       "                        <td id=\"T_cb315e50_4fe6_11ea_b235_859a5544c0e9row4_col5\" class=\"data row4 col5\" >7.15</td>\n",
       "                        <td id=\"T_cb315e50_4fe6_11ea_b235_859a5544c0e9row4_col6\" class=\"data row4 col6\" >54.20</td>\n",
       "                        <td id=\"T_cb315e50_4fe6_11ea_b235_859a5544c0e9row4_col7\" class=\"data row4 col7\" >6.06</td>\n",
       "                        <td id=\"T_cb315e50_4fe6_11ea_b235_859a5544c0e9row4_col8\" class=\"data row4 col8\" >3.00</td>\n",
       "                        <td id=\"T_cb315e50_4fe6_11ea_b235_859a5544c0e9row4_col9\" class=\"data row4 col9\" >222.00</td>\n",
       "                        <td id=\"T_cb315e50_4fe6_11ea_b235_859a5544c0e9row4_col10\" class=\"data row4 col10\" >18.70</td>\n",
       "                        <td id=\"T_cb315e50_4fe6_11ea_b235_859a5544c0e9row4_col11\" class=\"data row4 col11\" >396.90</td>\n",
       "                        <td id=\"T_cb315e50_4fe6_11ea_b235_859a5544c0e9row4_col12\" class=\"data row4 col12\" >5.33</td>\n",
       "                        <td id=\"T_cb315e50_4fe6_11ea_b235_859a5544c0e9row4_col13\" class=\"data row4 col13\" >36.20</td>\n",
       "            </tr>\n",
       "    </tbody></table>"
      ],
      "text/plain": [
       "<pandas.io.formats.style.Styler at 0x7f869c8eef10>"
      ]
     },
     "metadata": {},
     "output_type": "display_data"
    },
    {
     "name": "stdout",
     "output_type": "stream",
     "text": [
      "Données manquantes :  0   Shape is :  (506, 14)\n"
     ]
    }
   ],
   "source": [
    "data = pd.read_csv('./data/BostonHousing.csv', header=0)\n",
    "\n",
    "display(data.head(5).style.format(\"{0:.2f}\"))\n",
    "print('Données manquantes : ',data.isna().sum().sum(), '  Shape is : ', data.shape)"
   ]
  },
  {
   "cell_type": "markdown",
   "metadata": {},
   "source": [
    "## Step 3 - Preparing the data\n",
    "### 3.1 - Split data\n",
    "We will use 80% of the data for training and 20% for validation.  \n",
    "x will be input data and y the expected output"
   ]
  },
  {
   "cell_type": "code",
   "execution_count": 3,
   "metadata": {},
   "outputs": [
    {
     "name": "stdout",
     "output_type": "stream",
     "text": [
      "Original data shape was :  (506, 14)\n",
      "x_train :  (354, 13) y_train :  (354,)\n",
      "x_test  :  (152, 13) y_test  :  (152,)\n"
     ]
    }
   ],
   "source": [
    "# ---- Split => train, test\n",
    "#\n",
    "data_train = data.sample(frac=0.7, axis=0)\n",
    "data_test  = data.drop(data_train.index)\n",
    "\n",
    "# ---- Split => x,y (medv is price)\n",
    "#\n",
    "x_train = data_train.drop('medv',  axis=1)\n",
    "y_train = data_train['medv']\n",
    "x_test  = data_test.drop('medv',   axis=1)\n",
    "y_test  = data_test['medv']\n",
    "\n",
    "print('Original data shape was : ',data.shape)\n",
    "print('x_train : ',x_train.shape, 'y_train : ',y_train.shape)\n",
    "print('x_test  : ',x_test.shape,  'y_test  : ',y_test.shape)"
   ]
  },
  {
   "cell_type": "markdown",
   "metadata": {},
   "source": [
    "### 3.2 - Data normalization\n",
    "**Note :** \n",
    " - All input data must be normalized, train and test.  \n",
    " - To do this we will subtract the mean and divide by the standard deviation.  \n",
    " - But test data should not be used in any way, even for normalization.  \n",
    " - The mean and the standard deviation will therefore only be calculated with the train data."
   ]
  },
  {
   "cell_type": "code",
   "execution_count": 4,
   "metadata": {},
   "outputs": [
    {
     "data": {
      "text/html": [
       "<style  type=\"text/css\" >\n",
       "</style><table id=\"T_cb38331a_4fe6_11ea_b235_859a5544c0e9\" ><caption>Before normalization :</caption><thead>    <tr>        <th class=\"blank level0\" ></th>        <th class=\"col_heading level0 col0\" >crim</th>        <th class=\"col_heading level0 col1\" >zn</th>        <th class=\"col_heading level0 col2\" >indus</th>        <th class=\"col_heading level0 col3\" >chas</th>        <th class=\"col_heading level0 col4\" >nox</th>        <th class=\"col_heading level0 col5\" >rm</th>        <th class=\"col_heading level0 col6\" >age</th>        <th class=\"col_heading level0 col7\" >dis</th>        <th class=\"col_heading level0 col8\" >rad</th>        <th class=\"col_heading level0 col9\" >tax</th>        <th class=\"col_heading level0 col10\" >ptratio</th>        <th class=\"col_heading level0 col11\" >b</th>        <th class=\"col_heading level0 col12\" >lstat</th>    </tr></thead><tbody>\n",
       "                <tr>\n",
       "                        <th id=\"T_cb38331a_4fe6_11ea_b235_859a5544c0e9level0_row0\" class=\"row_heading level0 row0\" >count</th>\n",
       "                        <td id=\"T_cb38331a_4fe6_11ea_b235_859a5544c0e9row0_col0\" class=\"data row0 col0\" >354.00</td>\n",
       "                        <td id=\"T_cb38331a_4fe6_11ea_b235_859a5544c0e9row0_col1\" class=\"data row0 col1\" >354.00</td>\n",
       "                        <td id=\"T_cb38331a_4fe6_11ea_b235_859a5544c0e9row0_col2\" class=\"data row0 col2\" >354.00</td>\n",
       "                        <td id=\"T_cb38331a_4fe6_11ea_b235_859a5544c0e9row0_col3\" class=\"data row0 col3\" >354.00</td>\n",
       "                        <td id=\"T_cb38331a_4fe6_11ea_b235_859a5544c0e9row0_col4\" class=\"data row0 col4\" >354.00</td>\n",
       "                        <td id=\"T_cb38331a_4fe6_11ea_b235_859a5544c0e9row0_col5\" class=\"data row0 col5\" >354.00</td>\n",
       "                        <td id=\"T_cb38331a_4fe6_11ea_b235_859a5544c0e9row0_col6\" class=\"data row0 col6\" >354.00</td>\n",
       "                        <td id=\"T_cb38331a_4fe6_11ea_b235_859a5544c0e9row0_col7\" class=\"data row0 col7\" >354.00</td>\n",
       "                        <td id=\"T_cb38331a_4fe6_11ea_b235_859a5544c0e9row0_col8\" class=\"data row0 col8\" >354.00</td>\n",
       "                        <td id=\"T_cb38331a_4fe6_11ea_b235_859a5544c0e9row0_col9\" class=\"data row0 col9\" >354.00</td>\n",
       "                        <td id=\"T_cb38331a_4fe6_11ea_b235_859a5544c0e9row0_col10\" class=\"data row0 col10\" >354.00</td>\n",
       "                        <td id=\"T_cb38331a_4fe6_11ea_b235_859a5544c0e9row0_col11\" class=\"data row0 col11\" >354.00</td>\n",
       "                        <td id=\"T_cb38331a_4fe6_11ea_b235_859a5544c0e9row0_col12\" class=\"data row0 col12\" >354.00</td>\n",
       "            </tr>\n",
       "            <tr>\n",
       "                        <th id=\"T_cb38331a_4fe6_11ea_b235_859a5544c0e9level0_row1\" class=\"row_heading level0 row1\" >mean</th>\n",
       "                        <td id=\"T_cb38331a_4fe6_11ea_b235_859a5544c0e9row1_col0\" class=\"data row1 col0\" >3.76</td>\n",
       "                        <td id=\"T_cb38331a_4fe6_11ea_b235_859a5544c0e9row1_col1\" class=\"data row1 col1\" >11.31</td>\n",
       "                        <td id=\"T_cb38331a_4fe6_11ea_b235_859a5544c0e9row1_col2\" class=\"data row1 col2\" >11.18</td>\n",
       "                        <td id=\"T_cb38331a_4fe6_11ea_b235_859a5544c0e9row1_col3\" class=\"data row1 col3\" >0.07</td>\n",
       "                        <td id=\"T_cb38331a_4fe6_11ea_b235_859a5544c0e9row1_col4\" class=\"data row1 col4\" >0.56</td>\n",
       "                        <td id=\"T_cb38331a_4fe6_11ea_b235_859a5544c0e9row1_col5\" class=\"data row1 col5\" >6.25</td>\n",
       "                        <td id=\"T_cb38331a_4fe6_11ea_b235_859a5544c0e9row1_col6\" class=\"data row1 col6\" >69.29</td>\n",
       "                        <td id=\"T_cb38331a_4fe6_11ea_b235_859a5544c0e9row1_col7\" class=\"data row1 col7\" >3.82</td>\n",
       "                        <td id=\"T_cb38331a_4fe6_11ea_b235_859a5544c0e9row1_col8\" class=\"data row1 col8\" >9.95</td>\n",
       "                        <td id=\"T_cb38331a_4fe6_11ea_b235_859a5544c0e9row1_col9\" class=\"data row1 col9\" >413.48</td>\n",
       "                        <td id=\"T_cb38331a_4fe6_11ea_b235_859a5544c0e9row1_col10\" class=\"data row1 col10\" >18.49</td>\n",
       "                        <td id=\"T_cb38331a_4fe6_11ea_b235_859a5544c0e9row1_col11\" class=\"data row1 col11\" >354.37</td>\n",
       "                        <td id=\"T_cb38331a_4fe6_11ea_b235_859a5544c0e9row1_col12\" class=\"data row1 col12\" >12.89</td>\n",
       "            </tr>\n",
       "            <tr>\n",
       "                        <th id=\"T_cb38331a_4fe6_11ea_b235_859a5544c0e9level0_row2\" class=\"row_heading level0 row2\" >std</th>\n",
       "                        <td id=\"T_cb38331a_4fe6_11ea_b235_859a5544c0e9row2_col0\" class=\"data row2 col0\" >7.96</td>\n",
       "                        <td id=\"T_cb38331a_4fe6_11ea_b235_859a5544c0e9row2_col1\" class=\"data row2 col1\" >23.25</td>\n",
       "                        <td id=\"T_cb38331a_4fe6_11ea_b235_859a5544c0e9row2_col2\" class=\"data row2 col2\" >6.80</td>\n",
       "                        <td id=\"T_cb38331a_4fe6_11ea_b235_859a5544c0e9row2_col3\" class=\"data row2 col3\" >0.25</td>\n",
       "                        <td id=\"T_cb38331a_4fe6_11ea_b235_859a5544c0e9row2_col4\" class=\"data row2 col4\" >0.12</td>\n",
       "                        <td id=\"T_cb38331a_4fe6_11ea_b235_859a5544c0e9row2_col5\" class=\"data row2 col5\" >0.70</td>\n",
       "                        <td id=\"T_cb38331a_4fe6_11ea_b235_859a5544c0e9row2_col6\" class=\"data row2 col6\" >27.93</td>\n",
       "                        <td id=\"T_cb38331a_4fe6_11ea_b235_859a5544c0e9row2_col7\" class=\"data row2 col7\" >2.17</td>\n",
       "                        <td id=\"T_cb38331a_4fe6_11ea_b235_859a5544c0e9row2_col8\" class=\"data row2 col8\" >8.87</td>\n",
       "                        <td id=\"T_cb38331a_4fe6_11ea_b235_859a5544c0e9row2_col9\" class=\"data row2 col9\" >170.11</td>\n",
       "                        <td id=\"T_cb38331a_4fe6_11ea_b235_859a5544c0e9row2_col10\" class=\"data row2 col10\" >2.15</td>\n",
       "                        <td id=\"T_cb38331a_4fe6_11ea_b235_859a5544c0e9row2_col11\" class=\"data row2 col11\" >93.94</td>\n",
       "                        <td id=\"T_cb38331a_4fe6_11ea_b235_859a5544c0e9row2_col12\" class=\"data row2 col12\" >7.13</td>\n",
       "            </tr>\n",
       "            <tr>\n",
       "                        <th id=\"T_cb38331a_4fe6_11ea_b235_859a5544c0e9level0_row3\" class=\"row_heading level0 row3\" >min</th>\n",
       "                        <td id=\"T_cb38331a_4fe6_11ea_b235_859a5544c0e9row3_col0\" class=\"data row3 col0\" >0.01</td>\n",
       "                        <td id=\"T_cb38331a_4fe6_11ea_b235_859a5544c0e9row3_col1\" class=\"data row3 col1\" >0.00</td>\n",
       "                        <td id=\"T_cb38331a_4fe6_11ea_b235_859a5544c0e9row3_col2\" class=\"data row3 col2\" >0.46</td>\n",
       "                        <td id=\"T_cb38331a_4fe6_11ea_b235_859a5544c0e9row3_col3\" class=\"data row3 col3\" >0.00</td>\n",
       "                        <td id=\"T_cb38331a_4fe6_11ea_b235_859a5544c0e9row3_col4\" class=\"data row3 col4\" >0.39</td>\n",
       "                        <td id=\"T_cb38331a_4fe6_11ea_b235_859a5544c0e9row3_col5\" class=\"data row3 col5\" >3.56</td>\n",
       "                        <td id=\"T_cb38331a_4fe6_11ea_b235_859a5544c0e9row3_col6\" class=\"data row3 col6\" >6.20</td>\n",
       "                        <td id=\"T_cb38331a_4fe6_11ea_b235_859a5544c0e9row3_col7\" class=\"data row3 col7\" >1.13</td>\n",
       "                        <td id=\"T_cb38331a_4fe6_11ea_b235_859a5544c0e9row3_col8\" class=\"data row3 col8\" >1.00</td>\n",
       "                        <td id=\"T_cb38331a_4fe6_11ea_b235_859a5544c0e9row3_col9\" class=\"data row3 col9\" >187.00</td>\n",
       "                        <td id=\"T_cb38331a_4fe6_11ea_b235_859a5544c0e9row3_col10\" class=\"data row3 col10\" >12.60</td>\n",
       "                        <td id=\"T_cb38331a_4fe6_11ea_b235_859a5544c0e9row3_col11\" class=\"data row3 col11\" >0.32</td>\n",
       "                        <td id=\"T_cb38331a_4fe6_11ea_b235_859a5544c0e9row3_col12\" class=\"data row3 col12\" >1.73</td>\n",
       "            </tr>\n",
       "            <tr>\n",
       "                        <th id=\"T_cb38331a_4fe6_11ea_b235_859a5544c0e9level0_row4\" class=\"row_heading level0 row4\" >25%</th>\n",
       "                        <td id=\"T_cb38331a_4fe6_11ea_b235_859a5544c0e9row4_col0\" class=\"data row4 col0\" >0.08</td>\n",
       "                        <td id=\"T_cb38331a_4fe6_11ea_b235_859a5544c0e9row4_col1\" class=\"data row4 col1\" >0.00</td>\n",
       "                        <td id=\"T_cb38331a_4fe6_11ea_b235_859a5544c0e9row4_col2\" class=\"data row4 col2\" >5.13</td>\n",
       "                        <td id=\"T_cb38331a_4fe6_11ea_b235_859a5544c0e9row4_col3\" class=\"data row4 col3\" >0.00</td>\n",
       "                        <td id=\"T_cb38331a_4fe6_11ea_b235_859a5544c0e9row4_col4\" class=\"data row4 col4\" >0.45</td>\n",
       "                        <td id=\"T_cb38331a_4fe6_11ea_b235_859a5544c0e9row4_col5\" class=\"data row4 col5\" >5.88</td>\n",
       "                        <td id=\"T_cb38331a_4fe6_11ea_b235_859a5544c0e9row4_col6\" class=\"data row4 col6\" >45.18</td>\n",
       "                        <td id=\"T_cb38331a_4fe6_11ea_b235_859a5544c0e9row4_col7\" class=\"data row4 col7\" >2.08</td>\n",
       "                        <td id=\"T_cb38331a_4fe6_11ea_b235_859a5544c0e9row4_col8\" class=\"data row4 col8\" >4.00</td>\n",
       "                        <td id=\"T_cb38331a_4fe6_11ea_b235_859a5544c0e9row4_col9\" class=\"data row4 col9\" >280.25</td>\n",
       "                        <td id=\"T_cb38331a_4fe6_11ea_b235_859a5544c0e9row4_col10\" class=\"data row4 col10\" >17.40</td>\n",
       "                        <td id=\"T_cb38331a_4fe6_11ea_b235_859a5544c0e9row4_col11\" class=\"data row4 col11\" >374.49</td>\n",
       "                        <td id=\"T_cb38331a_4fe6_11ea_b235_859a5544c0e9row4_col12\" class=\"data row4 col12\" >7.26</td>\n",
       "            </tr>\n",
       "            <tr>\n",
       "                        <th id=\"T_cb38331a_4fe6_11ea_b235_859a5544c0e9level0_row5\" class=\"row_heading level0 row5\" >50%</th>\n",
       "                        <td id=\"T_cb38331a_4fe6_11ea_b235_859a5544c0e9row5_col0\" class=\"data row5 col0\" >0.29</td>\n",
       "                        <td id=\"T_cb38331a_4fe6_11ea_b235_859a5544c0e9row5_col1\" class=\"data row5 col1\" >0.00</td>\n",
       "                        <td id=\"T_cb38331a_4fe6_11ea_b235_859a5544c0e9row5_col2\" class=\"data row5 col2\" >9.69</td>\n",
       "                        <td id=\"T_cb38331a_4fe6_11ea_b235_859a5544c0e9row5_col3\" class=\"data row5 col3\" >0.00</td>\n",
       "                        <td id=\"T_cb38331a_4fe6_11ea_b235_859a5544c0e9row5_col4\" class=\"data row5 col4\" >0.53</td>\n",
       "                        <td id=\"T_cb38331a_4fe6_11ea_b235_859a5544c0e9row5_col5\" class=\"data row5 col5\" >6.17</td>\n",
       "                        <td id=\"T_cb38331a_4fe6_11ea_b235_859a5544c0e9row5_col6\" class=\"data row5 col6\" >77.75</td>\n",
       "                        <td id=\"T_cb38331a_4fe6_11ea_b235_859a5544c0e9row5_col7\" class=\"data row5 col7\" >3.20</td>\n",
       "                        <td id=\"T_cb38331a_4fe6_11ea_b235_859a5544c0e9row5_col8\" class=\"data row5 col8\" >5.00</td>\n",
       "                        <td id=\"T_cb38331a_4fe6_11ea_b235_859a5544c0e9row5_col9\" class=\"data row5 col9\" >335.00</td>\n",
       "                        <td id=\"T_cb38331a_4fe6_11ea_b235_859a5544c0e9row5_col10\" class=\"data row5 col10\" >19.10</td>\n",
       "                        <td id=\"T_cb38331a_4fe6_11ea_b235_859a5544c0e9row5_col11\" class=\"data row5 col11\" >391.39</td>\n",
       "                        <td id=\"T_cb38331a_4fe6_11ea_b235_859a5544c0e9row5_col12\" class=\"data row5 col12\" >11.86</td>\n",
       "            </tr>\n",
       "            <tr>\n",
       "                        <th id=\"T_cb38331a_4fe6_11ea_b235_859a5544c0e9level0_row6\" class=\"row_heading level0 row6\" >75%</th>\n",
       "                        <td id=\"T_cb38331a_4fe6_11ea_b235_859a5544c0e9row6_col0\" class=\"data row6 col0\" >4.52</td>\n",
       "                        <td id=\"T_cb38331a_4fe6_11ea_b235_859a5544c0e9row6_col1\" class=\"data row6 col1\" >12.50</td>\n",
       "                        <td id=\"T_cb38331a_4fe6_11ea_b235_859a5544c0e9row6_col2\" class=\"data row6 col2\" >18.10</td>\n",
       "                        <td id=\"T_cb38331a_4fe6_11ea_b235_859a5544c0e9row6_col3\" class=\"data row6 col3\" >0.00</td>\n",
       "                        <td id=\"T_cb38331a_4fe6_11ea_b235_859a5544c0e9row6_col4\" class=\"data row6 col4\" >0.63</td>\n",
       "                        <td id=\"T_cb38331a_4fe6_11ea_b235_859a5544c0e9row6_col5\" class=\"data row6 col5\" >6.60</td>\n",
       "                        <td id=\"T_cb38331a_4fe6_11ea_b235_859a5544c0e9row6_col6\" class=\"data row6 col6\" >94.45</td>\n",
       "                        <td id=\"T_cb38331a_4fe6_11ea_b235_859a5544c0e9row6_col7\" class=\"data row6 col7\" >5.19</td>\n",
       "                        <td id=\"T_cb38331a_4fe6_11ea_b235_859a5544c0e9row6_col8\" class=\"data row6 col8\" >24.00</td>\n",
       "                        <td id=\"T_cb38331a_4fe6_11ea_b235_859a5544c0e9row6_col9\" class=\"data row6 col9\" >666.00</td>\n",
       "                        <td id=\"T_cb38331a_4fe6_11ea_b235_859a5544c0e9row6_col10\" class=\"data row6 col10\" >20.20</td>\n",
       "                        <td id=\"T_cb38331a_4fe6_11ea_b235_859a5544c0e9row6_col11\" class=\"data row6 col11\" >396.12</td>\n",
       "                        <td id=\"T_cb38331a_4fe6_11ea_b235_859a5544c0e9row6_col12\" class=\"data row6 col12\" >16.96</td>\n",
       "            </tr>\n",
       "            <tr>\n",
       "                        <th id=\"T_cb38331a_4fe6_11ea_b235_859a5544c0e9level0_row7\" class=\"row_heading level0 row7\" >max</th>\n",
       "                        <td id=\"T_cb38331a_4fe6_11ea_b235_859a5544c0e9row7_col0\" class=\"data row7 col0\" >73.53</td>\n",
       "                        <td id=\"T_cb38331a_4fe6_11ea_b235_859a5544c0e9row7_col1\" class=\"data row7 col1\" >95.00</td>\n",
       "                        <td id=\"T_cb38331a_4fe6_11ea_b235_859a5544c0e9row7_col2\" class=\"data row7 col2\" >27.74</td>\n",
       "                        <td id=\"T_cb38331a_4fe6_11ea_b235_859a5544c0e9row7_col3\" class=\"data row7 col3\" >1.00</td>\n",
       "                        <td id=\"T_cb38331a_4fe6_11ea_b235_859a5544c0e9row7_col4\" class=\"data row7 col4\" >0.87</td>\n",
       "                        <td id=\"T_cb38331a_4fe6_11ea_b235_859a5544c0e9row7_col5\" class=\"data row7 col5\" >8.72</td>\n",
       "                        <td id=\"T_cb38331a_4fe6_11ea_b235_859a5544c0e9row7_col6\" class=\"data row7 col6\" >100.00</td>\n",
       "                        <td id=\"T_cb38331a_4fe6_11ea_b235_859a5544c0e9row7_col7\" class=\"data row7 col7\" >12.13</td>\n",
       "                        <td id=\"T_cb38331a_4fe6_11ea_b235_859a5544c0e9row7_col8\" class=\"data row7 col8\" >24.00</td>\n",
       "                        <td id=\"T_cb38331a_4fe6_11ea_b235_859a5544c0e9row7_col9\" class=\"data row7 col9\" >711.00</td>\n",
       "                        <td id=\"T_cb38331a_4fe6_11ea_b235_859a5544c0e9row7_col10\" class=\"data row7 col10\" >22.00</td>\n",
       "                        <td id=\"T_cb38331a_4fe6_11ea_b235_859a5544c0e9row7_col11\" class=\"data row7 col11\" >396.90</td>\n",
       "                        <td id=\"T_cb38331a_4fe6_11ea_b235_859a5544c0e9row7_col12\" class=\"data row7 col12\" >36.98</td>\n",
       "            </tr>\n",
       "    </tbody></table>"
      ],
      "text/plain": [
       "<pandas.io.formats.style.Styler at 0x7f87141c0c90>"
      ]
     },
     "metadata": {},
     "output_type": "display_data"
    },
    {
     "data": {
      "text/html": [
       "<style  type=\"text/css\" >\n",
       "</style><table id=\"T_cb3f14aa_4fe6_11ea_b235_859a5544c0e9\" ><caption>After normalization :</caption><thead>    <tr>        <th class=\"blank level0\" ></th>        <th class=\"col_heading level0 col0\" >crim</th>        <th class=\"col_heading level0 col1\" >zn</th>        <th class=\"col_heading level0 col2\" >indus</th>        <th class=\"col_heading level0 col3\" >chas</th>        <th class=\"col_heading level0 col4\" >nox</th>        <th class=\"col_heading level0 col5\" >rm</th>        <th class=\"col_heading level0 col6\" >age</th>        <th class=\"col_heading level0 col7\" >dis</th>        <th class=\"col_heading level0 col8\" >rad</th>        <th class=\"col_heading level0 col9\" >tax</th>        <th class=\"col_heading level0 col10\" >ptratio</th>        <th class=\"col_heading level0 col11\" >b</th>        <th class=\"col_heading level0 col12\" >lstat</th>    </tr></thead><tbody>\n",
       "                <tr>\n",
       "                        <th id=\"T_cb3f14aa_4fe6_11ea_b235_859a5544c0e9level0_row0\" class=\"row_heading level0 row0\" >count</th>\n",
       "                        <td id=\"T_cb3f14aa_4fe6_11ea_b235_859a5544c0e9row0_col0\" class=\"data row0 col0\" >354.00</td>\n",
       "                        <td id=\"T_cb3f14aa_4fe6_11ea_b235_859a5544c0e9row0_col1\" class=\"data row0 col1\" >354.00</td>\n",
       "                        <td id=\"T_cb3f14aa_4fe6_11ea_b235_859a5544c0e9row0_col2\" class=\"data row0 col2\" >354.00</td>\n",
       "                        <td id=\"T_cb3f14aa_4fe6_11ea_b235_859a5544c0e9row0_col3\" class=\"data row0 col3\" >354.00</td>\n",
       "                        <td id=\"T_cb3f14aa_4fe6_11ea_b235_859a5544c0e9row0_col4\" class=\"data row0 col4\" >354.00</td>\n",
       "                        <td id=\"T_cb3f14aa_4fe6_11ea_b235_859a5544c0e9row0_col5\" class=\"data row0 col5\" >354.00</td>\n",
       "                        <td id=\"T_cb3f14aa_4fe6_11ea_b235_859a5544c0e9row0_col6\" class=\"data row0 col6\" >354.00</td>\n",
       "                        <td id=\"T_cb3f14aa_4fe6_11ea_b235_859a5544c0e9row0_col7\" class=\"data row0 col7\" >354.00</td>\n",
       "                        <td id=\"T_cb3f14aa_4fe6_11ea_b235_859a5544c0e9row0_col8\" class=\"data row0 col8\" >354.00</td>\n",
       "                        <td id=\"T_cb3f14aa_4fe6_11ea_b235_859a5544c0e9row0_col9\" class=\"data row0 col9\" >354.00</td>\n",
       "                        <td id=\"T_cb3f14aa_4fe6_11ea_b235_859a5544c0e9row0_col10\" class=\"data row0 col10\" >354.00</td>\n",
       "                        <td id=\"T_cb3f14aa_4fe6_11ea_b235_859a5544c0e9row0_col11\" class=\"data row0 col11\" >354.00</td>\n",
       "                        <td id=\"T_cb3f14aa_4fe6_11ea_b235_859a5544c0e9row0_col12\" class=\"data row0 col12\" >354.00</td>\n",
       "            </tr>\n",
       "            <tr>\n",
       "                        <th id=\"T_cb3f14aa_4fe6_11ea_b235_859a5544c0e9level0_row1\" class=\"row_heading level0 row1\" >mean</th>\n",
       "                        <td id=\"T_cb3f14aa_4fe6_11ea_b235_859a5544c0e9row1_col0\" class=\"data row1 col0\" >-0.00</td>\n",
       "                        <td id=\"T_cb3f14aa_4fe6_11ea_b235_859a5544c0e9row1_col1\" class=\"data row1 col1\" >0.00</td>\n",
       "                        <td id=\"T_cb3f14aa_4fe6_11ea_b235_859a5544c0e9row1_col2\" class=\"data row1 col2\" >0.00</td>\n",
       "                        <td id=\"T_cb3f14aa_4fe6_11ea_b235_859a5544c0e9row1_col3\" class=\"data row1 col3\" >-0.00</td>\n",
       "                        <td id=\"T_cb3f14aa_4fe6_11ea_b235_859a5544c0e9row1_col4\" class=\"data row1 col4\" >-0.00</td>\n",
       "                        <td id=\"T_cb3f14aa_4fe6_11ea_b235_859a5544c0e9row1_col5\" class=\"data row1 col5\" >-0.00</td>\n",
       "                        <td id=\"T_cb3f14aa_4fe6_11ea_b235_859a5544c0e9row1_col6\" class=\"data row1 col6\" >0.00</td>\n",
       "                        <td id=\"T_cb3f14aa_4fe6_11ea_b235_859a5544c0e9row1_col7\" class=\"data row1 col7\" >0.00</td>\n",
       "                        <td id=\"T_cb3f14aa_4fe6_11ea_b235_859a5544c0e9row1_col8\" class=\"data row1 col8\" >0.00</td>\n",
       "                        <td id=\"T_cb3f14aa_4fe6_11ea_b235_859a5544c0e9row1_col9\" class=\"data row1 col9\" >-0.00</td>\n",
       "                        <td id=\"T_cb3f14aa_4fe6_11ea_b235_859a5544c0e9row1_col10\" class=\"data row1 col10\" >0.00</td>\n",
       "                        <td id=\"T_cb3f14aa_4fe6_11ea_b235_859a5544c0e9row1_col11\" class=\"data row1 col11\" >0.00</td>\n",
       "                        <td id=\"T_cb3f14aa_4fe6_11ea_b235_859a5544c0e9row1_col12\" class=\"data row1 col12\" >-0.00</td>\n",
       "            </tr>\n",
       "            <tr>\n",
       "                        <th id=\"T_cb3f14aa_4fe6_11ea_b235_859a5544c0e9level0_row2\" class=\"row_heading level0 row2\" >std</th>\n",
       "                        <td id=\"T_cb3f14aa_4fe6_11ea_b235_859a5544c0e9row2_col0\" class=\"data row2 col0\" >1.00</td>\n",
       "                        <td id=\"T_cb3f14aa_4fe6_11ea_b235_859a5544c0e9row2_col1\" class=\"data row2 col1\" >1.00</td>\n",
       "                        <td id=\"T_cb3f14aa_4fe6_11ea_b235_859a5544c0e9row2_col2\" class=\"data row2 col2\" >1.00</td>\n",
       "                        <td id=\"T_cb3f14aa_4fe6_11ea_b235_859a5544c0e9row2_col3\" class=\"data row2 col3\" >1.00</td>\n",
       "                        <td id=\"T_cb3f14aa_4fe6_11ea_b235_859a5544c0e9row2_col4\" class=\"data row2 col4\" >1.00</td>\n",
       "                        <td id=\"T_cb3f14aa_4fe6_11ea_b235_859a5544c0e9row2_col5\" class=\"data row2 col5\" >1.00</td>\n",
       "                        <td id=\"T_cb3f14aa_4fe6_11ea_b235_859a5544c0e9row2_col6\" class=\"data row2 col6\" >1.00</td>\n",
       "                        <td id=\"T_cb3f14aa_4fe6_11ea_b235_859a5544c0e9row2_col7\" class=\"data row2 col7\" >1.00</td>\n",
       "                        <td id=\"T_cb3f14aa_4fe6_11ea_b235_859a5544c0e9row2_col8\" class=\"data row2 col8\" >1.00</td>\n",
       "                        <td id=\"T_cb3f14aa_4fe6_11ea_b235_859a5544c0e9row2_col9\" class=\"data row2 col9\" >1.00</td>\n",
       "                        <td id=\"T_cb3f14aa_4fe6_11ea_b235_859a5544c0e9row2_col10\" class=\"data row2 col10\" >1.00</td>\n",
       "                        <td id=\"T_cb3f14aa_4fe6_11ea_b235_859a5544c0e9row2_col11\" class=\"data row2 col11\" >1.00</td>\n",
       "                        <td id=\"T_cb3f14aa_4fe6_11ea_b235_859a5544c0e9row2_col12\" class=\"data row2 col12\" >1.00</td>\n",
       "            </tr>\n",
       "            <tr>\n",
       "                        <th id=\"T_cb3f14aa_4fe6_11ea_b235_859a5544c0e9level0_row3\" class=\"row_heading level0 row3\" >min</th>\n",
       "                        <td id=\"T_cb3f14aa_4fe6_11ea_b235_859a5544c0e9row3_col0\" class=\"data row3 col0\" >-0.47</td>\n",
       "                        <td id=\"T_cb3f14aa_4fe6_11ea_b235_859a5544c0e9row3_col1\" class=\"data row3 col1\" >-0.49</td>\n",
       "                        <td id=\"T_cb3f14aa_4fe6_11ea_b235_859a5544c0e9row3_col2\" class=\"data row3 col2\" >-1.58</td>\n",
       "                        <td id=\"T_cb3f14aa_4fe6_11ea_b235_859a5544c0e9row3_col3\" class=\"data row3 col3\" >-0.27</td>\n",
       "                        <td id=\"T_cb3f14aa_4fe6_11ea_b235_859a5544c0e9row3_col4\" class=\"data row3 col4\" >-1.45</td>\n",
       "                        <td id=\"T_cb3f14aa_4fe6_11ea_b235_859a5544c0e9row3_col5\" class=\"data row3 col5\" >-3.86</td>\n",
       "                        <td id=\"T_cb3f14aa_4fe6_11ea_b235_859a5544c0e9row3_col6\" class=\"data row3 col6\" >-2.26</td>\n",
       "                        <td id=\"T_cb3f14aa_4fe6_11ea_b235_859a5544c0e9row3_col7\" class=\"data row3 col7\" >-1.24</td>\n",
       "                        <td id=\"T_cb3f14aa_4fe6_11ea_b235_859a5544c0e9row3_col8\" class=\"data row3 col8\" >-1.01</td>\n",
       "                        <td id=\"T_cb3f14aa_4fe6_11ea_b235_859a5544c0e9row3_col9\" class=\"data row3 col9\" >-1.33</td>\n",
       "                        <td id=\"T_cb3f14aa_4fe6_11ea_b235_859a5544c0e9row3_col10\" class=\"data row3 col10\" >-2.74</td>\n",
       "                        <td id=\"T_cb3f14aa_4fe6_11ea_b235_859a5544c0e9row3_col11\" class=\"data row3 col11\" >-3.77</td>\n",
       "                        <td id=\"T_cb3f14aa_4fe6_11ea_b235_859a5544c0e9row3_col12\" class=\"data row3 col12\" >-1.56</td>\n",
       "            </tr>\n",
       "            <tr>\n",
       "                        <th id=\"T_cb3f14aa_4fe6_11ea_b235_859a5544c0e9level0_row4\" class=\"row_heading level0 row4\" >25%</th>\n",
       "                        <td id=\"T_cb3f14aa_4fe6_11ea_b235_859a5544c0e9row4_col0\" class=\"data row4 col0\" >-0.46</td>\n",
       "                        <td id=\"T_cb3f14aa_4fe6_11ea_b235_859a5544c0e9row4_col1\" class=\"data row4 col1\" >-0.49</td>\n",
       "                        <td id=\"T_cb3f14aa_4fe6_11ea_b235_859a5544c0e9row4_col2\" class=\"data row4 col2\" >-0.89</td>\n",
       "                        <td id=\"T_cb3f14aa_4fe6_11ea_b235_859a5544c0e9row4_col3\" class=\"data row4 col3\" >-0.27</td>\n",
       "                        <td id=\"T_cb3f14aa_4fe6_11ea_b235_859a5544c0e9row4_col4\" class=\"data row4 col4\" >-0.91</td>\n",
       "                        <td id=\"T_cb3f14aa_4fe6_11ea_b235_859a5544c0e9row4_col5\" class=\"data row4 col5\" >-0.54</td>\n",
       "                        <td id=\"T_cb3f14aa_4fe6_11ea_b235_859a5544c0e9row4_col6\" class=\"data row4 col6\" >-0.86</td>\n",
       "                        <td id=\"T_cb3f14aa_4fe6_11ea_b235_859a5544c0e9row4_col7\" class=\"data row4 col7\" >-0.80</td>\n",
       "                        <td id=\"T_cb3f14aa_4fe6_11ea_b235_859a5544c0e9row4_col8\" class=\"data row4 col8\" >-0.67</td>\n",
       "                        <td id=\"T_cb3f14aa_4fe6_11ea_b235_859a5544c0e9row4_col9\" class=\"data row4 col9\" >-0.78</td>\n",
       "                        <td id=\"T_cb3f14aa_4fe6_11ea_b235_859a5544c0e9row4_col10\" class=\"data row4 col10\" >-0.50</td>\n",
       "                        <td id=\"T_cb3f14aa_4fe6_11ea_b235_859a5544c0e9row4_col11\" class=\"data row4 col11\" >0.21</td>\n",
       "                        <td id=\"T_cb3f14aa_4fe6_11ea_b235_859a5544c0e9row4_col12\" class=\"data row4 col12\" >-0.79</td>\n",
       "            </tr>\n",
       "            <tr>\n",
       "                        <th id=\"T_cb3f14aa_4fe6_11ea_b235_859a5544c0e9level0_row5\" class=\"row_heading level0 row5\" >50%</th>\n",
       "                        <td id=\"T_cb3f14aa_4fe6_11ea_b235_859a5544c0e9row5_col0\" class=\"data row5 col0\" >-0.44</td>\n",
       "                        <td id=\"T_cb3f14aa_4fe6_11ea_b235_859a5544c0e9row5_col1\" class=\"data row5 col1\" >-0.49</td>\n",
       "                        <td id=\"T_cb3f14aa_4fe6_11ea_b235_859a5544c0e9row5_col2\" class=\"data row5 col2\" >-0.22</td>\n",
       "                        <td id=\"T_cb3f14aa_4fe6_11ea_b235_859a5544c0e9row5_col3\" class=\"data row5 col3\" >-0.27</td>\n",
       "                        <td id=\"T_cb3f14aa_4fe6_11ea_b235_859a5544c0e9row5_col4\" class=\"data row5 col4\" >-0.23</td>\n",
       "                        <td id=\"T_cb3f14aa_4fe6_11ea_b235_859a5544c0e9row5_col5\" class=\"data row5 col5\" >-0.12</td>\n",
       "                        <td id=\"T_cb3f14aa_4fe6_11ea_b235_859a5544c0e9row5_col6\" class=\"data row5 col6\" >0.30</td>\n",
       "                        <td id=\"T_cb3f14aa_4fe6_11ea_b235_859a5544c0e9row5_col7\" class=\"data row5 col7\" >-0.28</td>\n",
       "                        <td id=\"T_cb3f14aa_4fe6_11ea_b235_859a5544c0e9row5_col8\" class=\"data row5 col8\" >-0.56</td>\n",
       "                        <td id=\"T_cb3f14aa_4fe6_11ea_b235_859a5544c0e9row5_col9\" class=\"data row5 col9\" >-0.46</td>\n",
       "                        <td id=\"T_cb3f14aa_4fe6_11ea_b235_859a5544c0e9row5_col10\" class=\"data row5 col10\" >0.29</td>\n",
       "                        <td id=\"T_cb3f14aa_4fe6_11ea_b235_859a5544c0e9row5_col11\" class=\"data row5 col11\" >0.39</td>\n",
       "                        <td id=\"T_cb3f14aa_4fe6_11ea_b235_859a5544c0e9row5_col12\" class=\"data row5 col12\" >-0.14</td>\n",
       "            </tr>\n",
       "            <tr>\n",
       "                        <th id=\"T_cb3f14aa_4fe6_11ea_b235_859a5544c0e9level0_row6\" class=\"row_heading level0 row6\" >75%</th>\n",
       "                        <td id=\"T_cb3f14aa_4fe6_11ea_b235_859a5544c0e9row6_col0\" class=\"data row6 col0\" >0.10</td>\n",
       "                        <td id=\"T_cb3f14aa_4fe6_11ea_b235_859a5544c0e9row6_col1\" class=\"data row6 col1\" >0.05</td>\n",
       "                        <td id=\"T_cb3f14aa_4fe6_11ea_b235_859a5544c0e9row6_col2\" class=\"data row6 col2\" >1.02</td>\n",
       "                        <td id=\"T_cb3f14aa_4fe6_11ea_b235_859a5544c0e9row6_col3\" class=\"data row6 col3\" >-0.27</td>\n",
       "                        <td id=\"T_cb3f14aa_4fe6_11ea_b235_859a5544c0e9row6_col4\" class=\"data row6 col4\" >0.63</td>\n",
       "                        <td id=\"T_cb3f14aa_4fe6_11ea_b235_859a5544c0e9row6_col5\" class=\"data row6 col5\" >0.50</td>\n",
       "                        <td id=\"T_cb3f14aa_4fe6_11ea_b235_859a5544c0e9row6_col6\" class=\"data row6 col6\" >0.90</td>\n",
       "                        <td id=\"T_cb3f14aa_4fe6_11ea_b235_859a5544c0e9row6_col7\" class=\"data row6 col7\" >0.63</td>\n",
       "                        <td id=\"T_cb3f14aa_4fe6_11ea_b235_859a5544c0e9row6_col8\" class=\"data row6 col8\" >1.58</td>\n",
       "                        <td id=\"T_cb3f14aa_4fe6_11ea_b235_859a5544c0e9row6_col9\" class=\"data row6 col9\" >1.48</td>\n",
       "                        <td id=\"T_cb3f14aa_4fe6_11ea_b235_859a5544c0e9row6_col10\" class=\"data row6 col10\" >0.80</td>\n",
       "                        <td id=\"T_cb3f14aa_4fe6_11ea_b235_859a5544c0e9row6_col11\" class=\"data row6 col11\" >0.44</td>\n",
       "                        <td id=\"T_cb3f14aa_4fe6_11ea_b235_859a5544c0e9row6_col12\" class=\"data row6 col12\" >0.57</td>\n",
       "            </tr>\n",
       "            <tr>\n",
       "                        <th id=\"T_cb3f14aa_4fe6_11ea_b235_859a5544c0e9level0_row7\" class=\"row_heading level0 row7\" >max</th>\n",
       "                        <td id=\"T_cb3f14aa_4fe6_11ea_b235_859a5544c0e9row7_col0\" class=\"data row7 col0\" >8.76</td>\n",
       "                        <td id=\"T_cb3f14aa_4fe6_11ea_b235_859a5544c0e9row7_col1\" class=\"data row7 col1\" >3.60</td>\n",
       "                        <td id=\"T_cb3f14aa_4fe6_11ea_b235_859a5544c0e9row7_col2\" class=\"data row7 col2\" >2.44</td>\n",
       "                        <td id=\"T_cb3f14aa_4fe6_11ea_b235_859a5544c0e9row7_col3\" class=\"data row7 col3\" >3.70</td>\n",
       "                        <td id=\"T_cb3f14aa_4fe6_11ea_b235_859a5544c0e9row7_col4\" class=\"data row7 col4\" >2.68</td>\n",
       "                        <td id=\"T_cb3f14aa_4fe6_11ea_b235_859a5544c0e9row7_col5\" class=\"data row7 col5\" >3.55</td>\n",
       "                        <td id=\"T_cb3f14aa_4fe6_11ea_b235_859a5544c0e9row7_col6\" class=\"data row7 col6\" >1.10</td>\n",
       "                        <td id=\"T_cb3f14aa_4fe6_11ea_b235_859a5544c0e9row7_col7\" class=\"data row7 col7\" >3.83</td>\n",
       "                        <td id=\"T_cb3f14aa_4fe6_11ea_b235_859a5544c0e9row7_col8\" class=\"data row7 col8\" >1.58</td>\n",
       "                        <td id=\"T_cb3f14aa_4fe6_11ea_b235_859a5544c0e9row7_col9\" class=\"data row7 col9\" >1.75</td>\n",
       "                        <td id=\"T_cb3f14aa_4fe6_11ea_b235_859a5544c0e9row7_col10\" class=\"data row7 col10\" >1.64</td>\n",
       "                        <td id=\"T_cb3f14aa_4fe6_11ea_b235_859a5544c0e9row7_col11\" class=\"data row7 col11\" >0.45</td>\n",
       "                        <td id=\"T_cb3f14aa_4fe6_11ea_b235_859a5544c0e9row7_col12\" class=\"data row7 col12\" >3.38</td>\n",
       "            </tr>\n",
       "    </tbody></table>"
      ],
      "text/plain": [
       "<pandas.io.formats.style.Styler at 0x7f8699cc4310>"
      ]
     },
     "metadata": {},
     "output_type": "display_data"
    }
   ],
   "source": [
    "display(x_train.describe().style.format(\"{0:.2f}\").set_caption(\"Before normalization :\"))\n",
    "\n",
    "mean = x_train.mean()\n",
    "std  = x_train.std()\n",
    "x_train = (x_train - mean) / std\n",
    "x_test  = (x_test  - mean) / std\n",
    "\n",
    "display(x_train.describe().style.format(\"{0:.2f}\").set_caption(\"After normalization :\"))\n",
    "\n",
    "x_train, y_train = np.array(x_train), np.array(y_train)\n",
    "x_test,  y_test  = np.array(x_test),  np.array(y_test)\n"
   ]
  },
  {
   "cell_type": "markdown",
   "metadata": {},
   "source": [
    "## Step 4 - Build a model\n",
    "More informations about : \n",
    " - [Optimizer](https://www.tensorflow.org/api_docs/python/tf/keras/optimizers)\n",
    " - [Activation](https://www.tensorflow.org/api_docs/python/tf/keras/activations)\n",
    " - [Loss](https://www.tensorflow.org/api_docs/python/tf/keras/losses)\n",
    " - [Metrics](https://www.tensorflow.org/api_docs/python/tf/keras/metrics)"
   ]
  },
  {
   "cell_type": "code",
   "execution_count": 5,
   "metadata": {},
   "outputs": [],
   "source": [
    "  def get_model_v1(shape):\n",
    "    \n",
    "    model = keras.models.Sequential()\n",
    "    model.add(keras.layers.Input(shape, name=\"InputLayer\"))\n",
    "    model.add(keras.layers.Dense(64, activation='relu', name='Dense_n1'))\n",
    "    model.add(keras.layers.Dense(64, activation='relu', name='Dense_n2'))\n",
    "    model.add(keras.layers.Dense(1, name='Output'))\n",
    "    \n",
    "    model.compile(optimizer = 'rmsprop',\n",
    "                  loss      = 'mse',\n",
    "                  metrics   = ['mae', 'mse'] )\n",
    "    return model"
   ]
  },
  {
   "cell_type": "markdown",
   "metadata": {},
   "source": [
    "## 5 - Train the model\n",
    "### 5.1 - Get it"
   ]
  },
  {
   "cell_type": "code",
   "execution_count": 6,
   "metadata": {},
   "outputs": [
    {
     "name": "stdout",
     "output_type": "stream",
     "text": [
      "Model: \"sequential\"\n",
      "_________________________________________________________________\n",
      "Layer (type)                 Output Shape              Param #   \n",
      "=================================================================\n",
      "Dense_n1 (Dense)             (None, 64)                896       \n",
      "_________________________________________________________________\n",
      "Dense_n2 (Dense)             (None, 64)                4160      \n",
      "_________________________________________________________________\n",
      "Output (Dense)               (None, 1)                 65        \n",
      "=================================================================\n",
      "Total params: 5,121\n",
      "Trainable params: 5,121\n",
      "Non-trainable params: 0\n",
      "_________________________________________________________________\n"
     ]
    },
    {
     "data": {
      "image/png": "[encoded data removed]",
      "text/plain": [
       "<IPython.core.display.Image object>"
      ]
     },
     "execution_count": 6,
     "metadata": {},
     "output_type": "execute_result"
    }
   ],
   "source": [
    "model=get_model_v1( (13,) )\n",
    "\n",
    "model.summary()\n",
    "keras.utils.plot_model( model, to_file='./run/model.png', show_shapes=True, show_layer_names=True, dpi=96)"
   ]
  },
  {
   "cell_type": "markdown",
   "metadata": {},
   "source": [
    "### 5.2 - Add callback"
   ]
  },
  {
   "cell_type": "code",
   "execution_count": 7,
   "metadata": {},
   "outputs": [],
   "source": [
    "os.makedirs('./run/models',   mode=0o750, exist_ok=True)\n",
    "save_dir = \"./run/models/best_model.h5\"\n",
    "\n",
    "savemodel_callback = tf.keras.callbacks.ModelCheckpoint(filepath=save_dir, verbose=0, save_best_only=True)"
   ]
  },
  {
   "cell_type": "markdown",
   "metadata": {},
   "source": [
    "### 5.3 - Train it"
   ]
  },
  {
   "cell_type": "code",
   "execution_count": 8,
   "metadata": {},
   "outputs": [
    {
     "name": "stdout",
     "output_type": "stream",
     "text": [
      "Train on 354 samples, validate on 152 samples\n",
      "Epoch 1/100\n",
      "354/354 [==============================] - 1s 3ms/sample - loss: 446.5069 - mae: 19.1690 - mse: 446.5069 - val_loss: 328.7387 - val_mae: 16.4455 - val_mse: 328.7387\n",
      "Epoch 2/100\n",
      "354/354 [==============================] - 0s 301us/sample - loss: 206.7491 - mae: 12.2281 - mse: 206.7491 - val_loss: 102.8150 - val_mae: 8.6449 - val_mse: 102.8150\n",
      "Epoch 3/100\n",
      "354/354 [==============================] - 0s 302us/sample - loss: 65.8724 - mae: 6.2331 - mse: 65.8724 - val_loss: 33.7508 - val_mae: 4.5848 - val_mse: 33.7508\n",
      "Epoch 4/100\n",
      "354/354 [==============================] - 0s 318us/sample - loss: 33.4179 - mae: 4.2331 - mse: 33.4179 - val_loss: 27.0058 - val_mae: 3.9154 - val_mse: 27.0058\n",
      "Epoch 5/100\n",
      "354/354 [==============================] - 0s 312us/sample - loss: 24.9602 - mae: 3.5624 - mse: 24.9602 - val_loss: 23.2470 - val_mae: 3.5429 - val_mse: 23.2470\n",
      "Epoch 6/100\n",
      "354/354 [==============================] - 0s 316us/sample - loss: 21.4080 - mae: 3.2530 - mse: 21.4080 - val_loss: 22.1707 - val_mae: 3.4498 - val_mse: 22.1707\n",
      "Epoch 7/100\n",
      "354/354 [==============================] - 0s 262us/sample - loss: 18.3586 - mae: 3.0399 - mse: 18.3586 - val_loss: 24.4102 - val_mae: 3.4754 - val_mse: 24.4102\n",
      "Epoch 8/100\n",
      "354/354 [==============================] - 0s 307us/sample - loss: 16.9126 - mae: 2.8925 - mse: 16.9126 - val_loss: 20.1919 - val_mae: 3.2138 - val_mse: 20.1919\n",
      "Epoch 9/100\n",
      "354/354 [==============================] - 0s 312us/sample - loss: 15.5047 - mae: 2.7532 - mse: 15.5047 - val_loss: 19.0378 - val_mae: 3.0763 - val_mse: 19.0378\n",
      "Epoch 10/100\n",
      "354/354 [==============================] - 0s 273us/sample - loss: 14.5763 - mae: 2.6404 - mse: 14.5763 - val_loss: 19.9752 - val_mae: 3.0986 - val_mse: 19.9752\n",
      "Epoch 11/100\n",
      "354/354 [==============================] - 0s 310us/sample - loss: 13.5901 - mae: 2.5801 - mse: 13.5901 - val_loss: 18.9675 - val_mae: 3.0192 - val_mse: 18.9675\n",
      "Epoch 12/100\n",
      "354/354 [==============================] - 0s 270us/sample - loss: 12.9341 - mae: 2.5158 - mse: 12.9341 - val_loss: 20.6757 - val_mae: 3.1029 - val_mse: 20.6757\n",
      "Epoch 13/100\n",
      "354/354 [==============================] - 0s 311us/sample - loss: 12.4520 - mae: 2.5061 - mse: 12.4520 - val_loss: 17.6596 - val_mae: 2.8839 - val_mse: 17.6596\n",
      "Epoch 14/100\n",
      "354/354 [==============================] - 0s 311us/sample - loss: 11.9484 - mae: 2.4710 - mse: 11.9484 - val_loss: 16.7645 - val_mae: 2.8083 - val_mse: 16.7645\n",
      "Epoch 15/100\n",
      "354/354 [==============================] - 0s 269us/sample - loss: 11.6260 - mae: 2.3959 - mse: 11.6260 - val_loss: 17.5048 - val_mae: 2.8007 - val_mse: 17.5048\n",
      "Epoch 16/100\n",
      "354/354 [==============================] - 0s 267us/sample - loss: 11.2504 - mae: 2.3567 - mse: 11.2504 - val_loss: 18.6748 - val_mae: 2.8771 - val_mse: 18.6748\n",
      "Epoch 17/100\n",
      "354/354 [==============================] - 0s 269us/sample - loss: 10.8352 - mae: 2.3051 - mse: 10.8352 - val_loss: 19.4796 - val_mae: 3.0041 - val_mse: 19.4796\n",
      "Epoch 18/100\n",
      "354/354 [==============================] - 0s 267us/sample - loss: 10.6488 - mae: 2.3377 - mse: 10.6488 - val_loss: 17.0329 - val_mae: 2.7640 - val_mse: 17.0329\n",
      "Epoch 19/100\n",
      "354/354 [==============================] - 0s 273us/sample - loss: 10.2134 - mae: 2.2439 - mse: 10.2134 - val_loss: 18.0589 - val_mae: 2.8565 - val_mse: 18.0589\n",
      "Epoch 20/100\n",
      "354/354 [==============================] - 0s 315us/sample - loss: 10.1024 - mae: 2.2432 - mse: 10.1024 - val_loss: 16.5968 - val_mae: 2.7402 - val_mse: 16.5968\n",
      "Epoch 21/100\n",
      "354/354 [==============================] - 0s 277us/sample - loss: 10.0576 - mae: 2.2401 - mse: 10.0576 - val_loss: 18.4496 - val_mae: 2.8156 - val_mse: 18.4496\n",
      "Epoch 22/100\n",
      "354/354 [==============================] - 0s 269us/sample - loss: 9.6590 - mae: 2.1500 - mse: 9.6590 - val_loss: 18.7084 - val_mae: 2.8309 - val_mse: 18.7084\n",
      "Epoch 23/100\n",
      "354/354 [==============================] - 0s 277us/sample - loss: 9.4596 - mae: 2.1967 - mse: 9.4596 - val_loss: 18.0308 - val_mae: 2.7595 - val_mse: 18.0308\n",
      "Epoch 24/100\n",
      "354/354 [==============================] - 0s 272us/sample - loss: 9.2778 - mae: 2.1680 - mse: 9.2778 - val_loss: 18.9343 - val_mae: 2.9152 - val_mse: 18.9343\n",
      "Epoch 25/100\n",
      "354/354 [==============================] - 0s 267us/sample - loss: 9.1075 - mae: 2.1451 - mse: 9.1076 - val_loss: 18.0646 - val_mae: 2.8202 - val_mse: 18.0646\n",
      "Epoch 26/100\n",
      "354/354 [==============================] - 0s 273us/sample - loss: 9.2196 - mae: 2.1282 - mse: 9.2196 - val_loss: 18.7244 - val_mae: 2.8288 - val_mse: 18.7244\n",
      "Epoch 27/100\n",
      "354/354 [==============================] - 0s 267us/sample - loss: 8.5733 - mae: 2.0703 - mse: 8.5733 - val_loss: 16.9568 - val_mae: 2.8123 - val_mse: 16.9568\n",
      "Epoch 28/100\n",
      "354/354 [==============================] - 0s 309us/sample - loss: 8.6252 - mae: 2.0821 - mse: 8.6252 - val_loss: 16.4984 - val_mae: 2.7069 - val_mse: 16.4984\n",
      "Epoch 29/100\n",
      "354/354 [==============================] - 0s 307us/sample - loss: 8.6336 - mae: 2.0822 - mse: 8.6336 - val_loss: 16.0498 - val_mae: 2.6532 - val_mse: 16.0498\n",
      "Epoch 30/100\n",
      "354/354 [==============================] - 0s 321us/sample - loss: 8.5071 - mae: 2.0379 - mse: 8.5071 - val_loss: 15.1042 - val_mae: 2.6004 - val_mse: 15.1042\n",
      "Epoch 31/100\n",
      "354/354 [==============================] - 0s 273us/sample - loss: 8.2888 - mae: 2.0627 - mse: 8.2888 - val_loss: 16.2730 - val_mae: 2.7019 - val_mse: 16.2730\n",
      "Epoch 32/100\n",
      "354/354 [==============================] - 0s 271us/sample - loss: 8.2021 - mae: 2.0000 - mse: 8.2021 - val_loss: 17.2852 - val_mae: 2.7962 - val_mse: 17.2852\n",
      "Epoch 33/100\n",
      "354/354 [==============================] - 0s 272us/sample - loss: 8.2973 - mae: 2.0336 - mse: 8.2973 - val_loss: 16.8973 - val_mae: 2.7318 - val_mse: 16.8973\n",
      "Epoch 34/100\n",
      "354/354 [==============================] - 0s 257us/sample - loss: 8.1033 - mae: 2.0105 - mse: 8.1033 - val_loss: 16.6509 - val_mae: 2.8218 - val_mse: 16.6509\n",
      "Epoch 35/100\n",
      "354/354 [==============================] - 0s 272us/sample - loss: 8.0724 - mae: 2.0170 - mse: 8.0724 - val_loss: 16.0802 - val_mae: 2.6733 - val_mse: 16.0802\n",
      "Epoch 36/100\n",
      "354/354 [==============================] - 0s 257us/sample - loss: 7.7939 - mae: 1.9606 - mse: 7.7939 - val_loss: 17.1008 - val_mae: 2.7384 - val_mse: 17.1008\n",
      "Epoch 37/100\n",
      "354/354 [==============================] - 0s 269us/sample - loss: 7.7812 - mae: 1.9719 - mse: 7.7812 - val_loss: 16.3472 - val_mae: 2.6939 - val_mse: 16.3472\n",
      "Epoch 38/100\n",
      "354/354 [==============================] - 0s 276us/sample - loss: 7.4494 - mae: 1.9224 - mse: 7.4494 - val_loss: 19.3916 - val_mae: 2.9414 - val_mse: 19.3916\n",
      "Epoch 39/100\n",
      "354/354 [==============================] - 0s 271us/sample - loss: 7.8023 - mae: 1.9978 - mse: 7.8023 - val_loss: 16.3499 - val_mae: 2.7018 - val_mse: 16.3499\n",
      "Epoch 40/100\n",
      "354/354 [==============================] - 0s 270us/sample - loss: 7.3681 - mae: 1.9293 - mse: 7.3681 - val_loss: 16.0445 - val_mae: 2.6872 - val_mse: 16.0445\n",
      "Epoch 41/100\n",
      "354/354 [==============================] - 0s 267us/sample - loss: 7.3013 - mae: 1.8820 - mse: 7.3013 - val_loss: 16.5657 - val_mae: 2.7222 - val_mse: 16.5657\n",
      "Epoch 42/100\n",
      "354/354 [==============================] - 0s 274us/sample - loss: 7.3978 - mae: 1.9154 - mse: 7.3978 - val_loss: 15.9821 - val_mae: 2.6576 - val_mse: 15.9821\n",
      "Epoch 43/100\n",
      "354/354 [==============================] - 0s 319us/sample - loss: 6.9832 - mae: 1.9037 - mse: 6.9832 - val_loss: 14.4977 - val_mae: 2.5418 - val_mse: 14.4977\n",
      "Epoch 44/100\n",
      "354/354 [==============================] - 0s 269us/sample - loss: 7.2307 - mae: 1.8968 - mse: 7.2307 - val_loss: 15.0962 - val_mae: 2.6188 - val_mse: 15.0962\n",
      "Epoch 45/100\n",
      "354/354 [==============================] - 0s 256us/sample - loss: 7.0289 - mae: 1.8685 - mse: 7.0289 - val_loss: 17.0531 - val_mae: 2.8123 - val_mse: 17.0531\n",
      "Epoch 46/100\n",
      "354/354 [==============================] - 0s 270us/sample - loss: 6.9010 - mae: 1.8537 - mse: 6.9010 - val_loss: 16.7469 - val_mae: 2.7081 - val_mse: 16.7469\n",
      "Epoch 47/100\n",
      "354/354 [==============================] - 0s 268us/sample - loss: 6.9256 - mae: 1.8664 - mse: 6.9256 - val_loss: 16.1227 - val_mae: 2.7760 - val_mse: 16.1227\n",
      "Epoch 48/100\n",
      "354/354 [==============================] - 0s 273us/sample - loss: 6.8333 - mae: 1.8552 - mse: 6.8333 - val_loss: 14.9262 - val_mae: 2.6213 - val_mse: 14.9262\n",
      "Epoch 49/100\n",
      "354/354 [==============================] - 0s 313us/sample - loss: 6.7351 - mae: 1.8375 - mse: 6.7351 - val_loss: 14.2252 - val_mae: 2.5309 - val_mse: 14.2252\n",
      "Epoch 50/100\n",
      "354/354 [==============================] - 0s 276us/sample - loss: 6.6672 - mae: 1.7913 - mse: 6.6672 - val_loss: 16.5652 - val_mae: 2.7693 - val_mse: 16.5652\n",
      "Epoch 51/100\n",
      "354/354 [==============================] - 0s 271us/sample - loss: 6.6222 - mae: 1.8325 - mse: 6.6222 - val_loss: 14.8928 - val_mae: 2.5921 - val_mse: 14.8928\n",
      "Epoch 52/100\n",
      "354/354 [==============================] - 0s 271us/sample - loss: 6.5606 - mae: 1.8150 - mse: 6.5606 - val_loss: 14.7382 - val_mae: 2.6124 - val_mse: 14.7382\n",
      "Epoch 53/100\n",
      "354/354 [==============================] - 0s 273us/sample - loss: 6.5737 - mae: 1.7757 - mse: 6.5737 - val_loss: 14.8866 - val_mae: 2.6357 - val_mse: 14.8866\n",
      "Epoch 54/100\n",
      "354/354 [==============================] - 0s 264us/sample - loss: 6.3009 - mae: 1.7569 - mse: 6.3009 - val_loss: 14.6100 - val_mae: 2.6115 - val_mse: 14.6100\n",
      "Epoch 55/100\n",
      "354/354 [==============================] - 0s 272us/sample - loss: 6.2524 - mae: 1.7679 - mse: 6.2524 - val_loss: 17.4939 - val_mae: 2.8652 - val_mse: 17.4939\n",
      "Epoch 56/100\n",
      "354/354 [==============================] - 0s 319us/sample - loss: 6.2461 - mae: 1.7830 - mse: 6.2461 - val_loss: 14.0397 - val_mae: 2.5829 - val_mse: 14.0397\n",
      "Epoch 57/100\n",
      "354/354 [==============================] - 0s 267us/sample - loss: 6.3124 - mae: 1.7788 - mse: 6.3124 - val_loss: 15.4946 - val_mae: 2.7133 - val_mse: 15.4946\n",
      "Epoch 58/100\n",
      "354/354 [==============================] - 0s 269us/sample - loss: 6.1133 - mae: 1.7282 - mse: 6.1133 - val_loss: 14.5244 - val_mae: 2.5982 - val_mse: 14.5244\n",
      "Epoch 59/100\n",
      "354/354 [==============================] - 0s 259us/sample - loss: 6.2866 - mae: 1.7860 - mse: 6.2866 - val_loss: 15.8915 - val_mae: 2.7331 - val_mse: 15.8915\n",
      "Epoch 60/100\n",
      "354/354 [==============================] - 0s 311us/sample - loss: 5.9945 - mae: 1.7178 - mse: 5.9945 - val_loss: 13.2656 - val_mae: 2.5189 - val_mse: 13.2656\n",
      "Epoch 61/100\n",
      "354/354 [==============================] - 0s 263us/sample - loss: 6.0649 - mae: 1.7064 - mse: 6.0649 - val_loss: 15.4134 - val_mae: 2.7351 - val_mse: 15.4134\n",
      "Epoch 62/100\n",
      "354/354 [==============================] - 0s 268us/sample - loss: 5.9954 - mae: 1.6767 - mse: 5.9954 - val_loss: 13.8741 - val_mae: 2.5721 - val_mse: 13.8741\n",
      "Epoch 63/100\n",
      "354/354 [==============================] - 0s 254us/sample - loss: 5.9648 - mae: 1.7023 - mse: 5.9648 - val_loss: 15.1974 - val_mae: 2.6602 - val_mse: 15.1974\n",
      "Epoch 64/100\n",
      "354/354 [==============================] - 0s 272us/sample - loss: 5.7276 - mae: 1.7202 - mse: 5.7276 - val_loss: 14.5766 - val_mae: 2.6508 - val_mse: 14.5766\n",
      "Epoch 65/100\n",
      "354/354 [==============================] - 0s 266us/sample - loss: 5.8443 - mae: 1.6907 - mse: 5.8443 - val_loss: 15.5797 - val_mae: 2.6848 - val_mse: 15.5797\n",
      "Epoch 66/100\n",
      "354/354 [==============================] - 0s 273us/sample - loss: 5.8195 - mae: 1.7295 - mse: 5.8195 - val_loss: 14.5484 - val_mae: 2.6527 - val_mse: 14.5484\n",
      "Epoch 67/100\n",
      "354/354 [==============================] - 0s 266us/sample - loss: 5.8216 - mae: 1.6966 - mse: 5.8216 - val_loss: 14.3616 - val_mae: 2.5733 - val_mse: 14.3616\n",
      "Epoch 68/100\n",
      "354/354 [==============================] - 0s 271us/sample - loss: 5.6572 - mae: 1.6543 - mse: 5.6572 - val_loss: 16.1438 - val_mae: 2.8151 - val_mse: 16.1438\n",
      "Epoch 69/100\n",
      "354/354 [==============================] - 0s 259us/sample - loss: 5.5142 - mae: 1.6657 - mse: 5.5142 - val_loss: 14.2295 - val_mae: 2.5796 - val_mse: 14.2295\n",
      "Epoch 70/100\n",
      "354/354 [==============================] - 0s 273us/sample - loss: 5.4965 - mae: 1.6313 - mse: 5.4965 - val_loss: 15.2662 - val_mae: 2.6980 - val_mse: 15.2662\n",
      "Epoch 71/100\n",
      "354/354 [==============================] - 0s 270us/sample - loss: 5.4534 - mae: 1.6717 - mse: 5.4534 - val_loss: 14.5025 - val_mae: 2.6441 - val_mse: 14.5025\n",
      "Epoch 72/100\n",
      "354/354 [==============================] - 0s 253us/sample - loss: 5.5146 - mae: 1.6526 - mse: 5.5146 - val_loss: 13.7906 - val_mae: 2.5753 - val_mse: 13.7906\n",
      "Epoch 73/100\n",
      "354/354 [==============================] - 0s 272us/sample - loss: 5.4499 - mae: 1.6130 - mse: 5.4499 - val_loss: 15.1649 - val_mae: 2.7624 - val_mse: 15.1649\n",
      "Epoch 74/100\n",
      "354/354 [==============================] - 0s 309us/sample - loss: 5.3808 - mae: 1.6297 - mse: 5.3808 - val_loss: 12.9326 - val_mae: 2.5007 - val_mse: 12.9326\n",
      "Epoch 75/100\n",
      "354/354 [==============================] - 0s 258us/sample - loss: 5.3546 - mae: 1.6313 - mse: 5.3546 - val_loss: 13.6397 - val_mae: 2.5810 - val_mse: 13.6397\n",
      "Epoch 76/100\n",
      "354/354 [==============================] - 0s 265us/sample - loss: 5.1666 - mae: 1.5998 - mse: 5.1666 - val_loss: 15.6069 - val_mae: 2.7630 - val_mse: 15.6069\n",
      "Epoch 77/100\n",
      "354/354 [==============================] - 0s 272us/sample - loss: 5.2465 - mae: 1.6192 - mse: 5.2465 - val_loss: 14.8084 - val_mae: 2.6388 - val_mse: 14.8084\n",
      "Epoch 78/100\n",
      "354/354 [==============================] - 0s 265us/sample - loss: 5.1107 - mae: 1.5772 - mse: 5.1107 - val_loss: 13.6319 - val_mae: 2.5756 - val_mse: 13.6319\n",
      "Epoch 79/100\n",
      "354/354 [==============================] - 0s 272us/sample - loss: 5.2677 - mae: 1.5989 - mse: 5.2677 - val_loss: 15.0306 - val_mae: 2.7715 - val_mse: 15.0306\n",
      "Epoch 80/100\n",
      "354/354 [==============================] - 0s 274us/sample - loss: 5.0534 - mae: 1.5504 - mse: 5.0534 - val_loss: 13.3917 - val_mae: 2.5352 - val_mse: 13.3917\n",
      "Epoch 81/100\n",
      "354/354 [==============================] - 0s 272us/sample - loss: 5.1013 - mae: 1.5826 - mse: 5.1013 - val_loss: 14.6761 - val_mae: 2.7158 - val_mse: 14.6761\n",
      "Epoch 82/100\n",
      "354/354 [==============================] - 0s 258us/sample - loss: 5.1137 - mae: 1.5984 - mse: 5.1137 - val_loss: 14.7063 - val_mae: 2.6576 - val_mse: 14.7063\n",
      "Epoch 83/100\n",
      "354/354 [==============================] - 0s 269us/sample - loss: 4.9343 - mae: 1.5545 - mse: 4.9343 - val_loss: 13.6205 - val_mae: 2.5494 - val_mse: 13.6205\n",
      "Epoch 84/100\n",
      "354/354 [==============================] - 0s 277us/sample - loss: 4.9839 - mae: 1.5815 - mse: 4.9839 - val_loss: 13.3857 - val_mae: 2.6047 - val_mse: 13.3857\n",
      "Epoch 85/100\n",
      "354/354 [==============================] - 0s 277us/sample - loss: 4.9946 - mae: 1.5818 - mse: 4.9946 - val_loss: 14.1012 - val_mae: 2.6176 - val_mse: 14.1012\n",
      "Epoch 86/100\n",
      "354/354 [==============================] - 0s 273us/sample - loss: 4.7884 - mae: 1.5321 - mse: 4.7884 - val_loss: 14.5182 - val_mae: 2.6687 - val_mse: 14.5182\n",
      "Epoch 87/100\n",
      "354/354 [==============================] - 0s 311us/sample - loss: 4.8134 - mae: 1.5660 - mse: 4.8134 - val_loss: 12.7966 - val_mae: 2.5734 - val_mse: 12.7966\n",
      "Epoch 88/100\n",
      "354/354 [==============================] - 0s 273us/sample - loss: 4.7923 - mae: 1.5483 - mse: 4.7923 - val_loss: 14.4001 - val_mae: 2.6707 - val_mse: 14.4001\n",
      "Epoch 89/100\n",
      "354/354 [==============================] - 0s 274us/sample - loss: 4.6705 - mae: 1.5086 - mse: 4.6705 - val_loss: 15.3677 - val_mae: 2.7359 - val_mse: 15.3677\n",
      "Epoch 90/100\n",
      "354/354 [==============================] - 0s 280us/sample - loss: 4.8776 - mae: 1.5806 - mse: 4.8776 - val_loss: 14.4442 - val_mae: 2.6343 - val_mse: 14.4442\n",
      "Epoch 91/100\n",
      "354/354 [==============================] - 0s 260us/sample - loss: 4.6349 - mae: 1.5300 - mse: 4.6349 - val_loss: 14.2969 - val_mae: 2.7718 - val_mse: 14.2969\n",
      "Epoch 92/100\n",
      "354/354 [==============================] - 0s 273us/sample - loss: 4.7835 - mae: 1.5637 - mse: 4.7835 - val_loss: 13.1123 - val_mae: 2.5578 - val_mse: 13.1123\n",
      "Epoch 93/100\n",
      "354/354 [==============================] - 0s 277us/sample - loss: 4.6759 - mae: 1.5259 - mse: 4.6759 - val_loss: 14.3508 - val_mae: 2.6888 - val_mse: 14.3507\n",
      "Epoch 94/100\n",
      "354/354 [==============================] - 0s 273us/sample - loss: 4.7856 - mae: 1.5560 - mse: 4.7856 - val_loss: 14.5237 - val_mae: 2.6956 - val_mse: 14.5237\n",
      "Epoch 95/100\n",
      "354/354 [==============================] - 0s 313us/sample - loss: 4.7038 - mae: 1.5331 - mse: 4.7038 - val_loss: 12.7707 - val_mae: 2.5393 - val_mse: 12.7707\n",
      "Epoch 96/100\n",
      "354/354 [==============================] - 0s 277us/sample - loss: 4.6006 - mae: 1.5331 - mse: 4.6006 - val_loss: 13.8540 - val_mae: 2.6720 - val_mse: 13.8540\n",
      "Epoch 97/100\n",
      "354/354 [==============================] - 0s 269us/sample - loss: 4.4720 - mae: 1.4912 - mse: 4.4720 - val_loss: 13.1524 - val_mae: 2.6311 - val_mse: 13.1524\n",
      "Epoch 98/100\n",
      "354/354 [==============================] - 0s 309us/sample - loss: 4.4242 - mae: 1.4854 - mse: 4.4242 - val_loss: 11.7020 - val_mae: 2.4886 - val_mse: 11.7020\n",
      "Epoch 99/100\n",
      "354/354 [==============================] - 0s 280us/sample - loss: 4.5642 - mae: 1.4920 - mse: 4.5642 - val_loss: 12.6523 - val_mae: 2.5232 - val_mse: 12.6523\n",
      "Epoch 100/100\n",
      "354/354 [==============================] - 0s 274us/sample - loss: 4.1971 - mae: 1.4564 - mse: 4.1971 - val_loss: 18.7164 - val_mae: 3.0774 - val_mse: 18.7164\n"
     ]
    }
   ],
   "source": [
    "history = model.fit(x_train,\n",
    "                    y_train,\n",
    "                    epochs          = 100,\n",
    "                    batch_size      = 10,\n",
    "                    verbose         = 1,\n",
    "                    validation_data = (x_test, y_test),\n",
    "                    callbacks       = [savemodel_callback])"
   ]
  },
  {
   "cell_type": "markdown",
   "metadata": {},
   "source": [
    "## Step 6 - Evaluate\n",
    "### 6.1 - Model evaluation\n",
    "MAE =  Mean Absolute Error (between the labels and predictions)  \n",
    "A mae equal to 3 represents an average error in prediction of $3k."
   ]
  },
  {
   "cell_type": "code",
   "execution_count": 9,
   "metadata": {},
   "outputs": [
    {
     "name": "stdout",
     "output_type": "stream",
     "text": [
      "x_test / loss      : 18.7164\n",
      "x_test / mae       : 3.0774\n",
      "x_test / mse       : 18.7164\n"
     ]
    }
   ],
   "source": [
    "score = model.evaluate(x_test, y_test, verbose=0)\n",
    "\n",
    "print('x_test / loss      : {:5.4f}'.format(score[0]))\n",
    "print('x_test / mae       : {:5.4f}'.format(score[1]))\n",
    "print('x_test / mse       : {:5.4f}'.format(score[2]))"
   ]
  },
  {
   "cell_type": "markdown",
   "metadata": {},
   "source": [
    "### 6.2 - Training history\n",
    "What was the best result during our training ?"
   ]
  },
  {
   "cell_type": "code",
   "execution_count": 10,
   "metadata": {},
   "outputs": [
    {
     "name": "stdout",
     "output_type": "stream",
     "text": [
      "min( val_mae ) : 2.4886\n"
     ]
    }
   ],
   "source": [
    "print(\"min( val_mae ) : {:.4f}\".format( min(history.history[\"val_mae\"]) ) )"
   ]
  },
  {
   "cell_type": "code",
   "execution_count": 11,
   "metadata": {},
   "outputs": [
    {
     "data": {
      "image/png": "[encoded data removed]",
      "text/plain": [
       "<Figure size 576x432 with 1 Axes>"
      ]
     },
     "metadata": {
      "needs_background": "light"
     },
     "output_type": "display_data"
    },
    {
     "data": {
      "image/png": "[encoded data removed]",
      "text/plain": [
       "<Figure size 576x432 with 1 Axes>"
      ]
     },
     "metadata": {
      "needs_background": "light"
     },
     "output_type": "display_data"
    },
    {
     "data": {
      "image/png": "[encoded data removed]",
      "text/plain": [
       "<Figure size 576x432 with 1 Axes>"
      ]
     },
     "metadata": {
      "needs_background": "light"
     },
     "output_type": "display_data"
    }
   ],
   "source": [
    "ooo.plot_history(history, plot={'MSE' :['mse', 'val_mse'],\n",
    "                                'MAE' :['mae', 'val_mae'],\n",
    "                                'LOSS':['loss','val_loss']})"
   ]
  },
  {
   "cell_type": "markdown",
   "metadata": {},
   "source": [
    "## Step 7 - Restore a model :"
   ]
  },
  {
   "cell_type": "markdown",
   "metadata": {},
   "source": [
    "### 7.1 - Reload model"
   ]
  },
  {
   "cell_type": "code",
   "execution_count": 19,
   "metadata": {},
   "outputs": [
    {
     "name": "stdout",
     "output_type": "stream",
     "text": [
      "Model: \"sequential\"\n",
      "_________________________________________________________________\n",
      "Layer (type)                 Output Shape              Param #   \n",
      "=================================================================\n",
      "Dense_n1 (Dense)             (None, 64)                896       \n",
      "_________________________________________________________________\n",
      "Dense_n2 (Dense)             (None, 64)                4160      \n",
      "_________________________________________________________________\n",
      "Output (Dense)               (None, 1)                 65        \n",
      "=================================================================\n",
      "Total params: 5,121\n",
      "Trainable params: 5,121\n",
      "Non-trainable params: 0\n",
      "_________________________________________________________________\n",
      "Loaded.\n"
     ]
    }
   ],
   "source": [
    "loaded_model = tf.keras.models.load_model('./run/models/best_model.h5')\n",
    "loaded_model.summary()\n",
    "print(\"Loaded.\")"
   ]
  },
  {
   "cell_type": "markdown",
   "metadata": {},
   "source": [
    "### 7.2 - Evaluate it :"
   ]
  },
  {
   "cell_type": "code",
   "execution_count": 20,
   "metadata": {},
   "outputs": [
    {
     "name": "stdout",
     "output_type": "stream",
     "text": [
      "x_test / loss      : 11.7020\n",
      "x_test / mae       : 2.4886\n",
      "x_test / mse       : 11.7020\n"
     ]
    }
   ],
   "source": [
    "score = loaded_model.evaluate(x_test, y_test, verbose=0)\n",
    "\n",
    "print('x_test / loss      : {:5.4f}'.format(score[0]))\n",
    "print('x_test / mae       : {:5.4f}'.format(score[1]))\n",
    "print('x_test / mse       : {:5.4f}'.format(score[2]))"
   ]
  },
  {
   "cell_type": "markdown",
   "metadata": {},
   "source": [
    "### 7.3 - Make a prediction"
   ]
  },
  {
   "cell_type": "code",
   "execution_count": 21,
   "metadata": {},
   "outputs": [],
   "source": [
    "mon_test=[-0.20113196, -0.48631663,  1.23572348, -0.26929877,  2.67879106,\n",
    "       -0.89623587,  1.09961251, -1.05826704, -0.55823117, -0.06159088,\n",
    "       -1.76085159, -1.97039608,  0.52775666]\n",
    "\n",
    "mon_test=np.array(mon_test).reshape(1,13)"
   ]
  },
  {
   "cell_type": "code",
   "execution_count": 22,
   "metadata": {},
   "outputs": [
    {
     "name": "stdout",
     "output_type": "stream",
     "text": [
      "Prédiction : 16.20 K$   Reality : 21.70 K$\n"
     ]
    }
   ],
   "source": [
    "predictions = loaded_model.predict( mon_test )\n",
    "print(\"Prédiction : {:.2f} K$   Reality : {:.2f} K$\".format(predictions[0][0], y_train[13]))"
   ]
  },
  {
   "cell_type": "markdown",
   "metadata": {},
   "source": [
    "-----\n",
    "That's all folks !"
   ]
  }
 ],
 "metadata": {
  "kernelspec": {
   "display_name": "Python 3",
   "language": "python",
   "name": "python3"
  },
  "language_info": {
   "codemirror_mode": {
    "name": "ipython",
    "version": 3
   },
   "file_extension": ".py",
   "mimetype": "text/x-python",
   "name": "python",
   "nbconvert_exporter": "python",
   "pygments_lexer": "ipython3",
   "version": "3.7.5"
  }
 },
 "nbformat": 4,
 "nbformat_minor": 4
}
