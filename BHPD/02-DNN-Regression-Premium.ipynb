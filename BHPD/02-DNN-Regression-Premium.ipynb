{
 "cells": [
  {
   "cell_type": "markdown",
   "metadata": {},
   "source": [
    "![Fidle](../fidle/img/00-Fidle-header-01.png)\n",
    "\n",
    "# <!-- TITLE --> Regression with a Dense Network (DNN) - Advanced code\n",
    "  <!-- DESC -->  More advanced example of DNN network code - BHPD dataset\n",
    "  <!-- AUTHOR : Jean-Luc Parouty (CNRS/SIMaP) -->\n",
    "\n",
    "## Objectives :\n",
    " - Predicts **housing prices** from a set of house features. \n",
    " - Understanding the principle and the architecture of a regression with a dense neural network with backup and restore of the trained model. \n",
    "\n",
    "The **[Boston Housing Dataset](https://www.cs.toronto.edu/~delve/data/boston/bostonDetail.html)** consists of price of houses in various places in Boston.  \n",
    "Alongside with price, the dataset also provide information such as Crime, areas of non-retail business in the town,  \n",
    "age of people who own the house and many other attributes...\n",
    "\n",
    "## What we're going to do :\n",
    "\n",
    " - (Retrieve data)\n",
    " - (Preparing the data)\n",
    " - (Build a model)\n",
    " - Train and save the model\n",
    " - Restore saved model\n",
    " - Evaluate the model\n",
    " - Make some predictions\n"
   ]
  },
  {
   "cell_type": "markdown",
   "metadata": {},
   "source": [
    "## Step 1 - Import and init"
   ]
  },
  {
   "cell_type": "code",
   "execution_count": 1,
   "metadata": {},
   "outputs": [
    {
     "data": {
      "text/html": [
       "<style>\n",
       "\n",
       "div.warn {    \n",
       "    background-color: #fcf2f2;\n",
       "    border-color: #dFb5b4;\n",
       "    border-left: 5px solid #dfb5b4;\n",
       "    padding: 0.5em;\n",
       "    font-weight: bold;\n",
       "    font-size: 1.1em;;\n",
       "    }\n",
       "\n",
       "\n",
       "\n",
       "div.nota {    \n",
       "    background-color: #DAFFDE;\n",
       "    border-left: 5px solid #92CC99;\n",
       "    padding: 0.5em;\n",
       "    }\n",
       "\n",
       "\n",
       "\n",
       "</style>\n",
       "\n"
      ],
      "text/plain": [
       "<IPython.core.display.HTML object>"
      ]
     },
     "metadata": {},
     "output_type": "display_data"
    },
    {
     "name": "stdout",
     "output_type": "stream",
     "text": [
      "\n",
      "FIDLE 2020 - Practical Work Module\n",
      "Version              : 0.2.9\n",
      "Run time             : Wednesday 19 February 2020, 10:13:01\n",
      "TensorFlow version   : 2.0.0\n",
      "Keras version        : 2.2.4-tf\n"
     ]
    }
   ],
   "source": [
    "import tensorflow as tf\n",
    "from tensorflow import keras\n",
    "\n",
    "import numpy as np\n",
    "import matplotlib.pyplot as plt\n",
    "import pandas as pd\n",
    "import os,sys\n",
    "\n",
    "from IPython.display import display, Markdown\n",
    "from importlib import reload\n",
    "\n",
    "sys.path.append('..')\n",
    "import fidle.pwk as ooo\n",
    "\n",
    "ooo.init()\n",
    "os.makedirs('./run/models',   mode=0o750, exist_ok=True)"
   ]
  },
  {
   "cell_type": "markdown",
   "metadata": {},
   "source": [
    "## Step 2 - Retrieve data\n",
    "\n",
    "### 2.1 - Option 1  : From Keras\n",
    "Boston housing is a famous historic dataset, so we can get it directly from [Keras datasets](https://www.tensorflow.org/api_docs/python/tf/keras/datasets)  "
   ]
  },
  {
   "cell_type": "raw",
   "metadata": {},
   "source": [
    "(x_train, y_train), (x_test, y_test) = keras.datasets.boston_housing.load_data(test_split=0.2, seed=113)"
   ]
  },
  {
   "cell_type": "markdown",
   "metadata": {},
   "source": [
    "### 2.2 - Option 2 : From a csv file\n",
    "More fun !"
   ]
  },
  {
   "cell_type": "code",
   "execution_count": 2,
   "metadata": {},
   "outputs": [
    {
     "data": {
      "text/html": [
       "<style  type=\"text/css\" >\n",
       "</style><table id=\"T_07301338_52f8_11ea_a38b_eb599e736fda\" ><thead>    <tr>        <th class=\"blank level0\" ></th>        <th class=\"col_heading level0 col0\" >crim</th>        <th class=\"col_heading level0 col1\" >zn</th>        <th class=\"col_heading level0 col2\" >indus</th>        <th class=\"col_heading level0 col3\" >chas</th>        <th class=\"col_heading level0 col4\" >nox</th>        <th class=\"col_heading level0 col5\" >rm</th>        <th class=\"col_heading level0 col6\" >age</th>        <th class=\"col_heading level0 col7\" >dis</th>        <th class=\"col_heading level0 col8\" >rad</th>        <th class=\"col_heading level0 col9\" >tax</th>        <th class=\"col_heading level0 col10\" >ptratio</th>        <th class=\"col_heading level0 col11\" >b</th>        <th class=\"col_heading level0 col12\" >lstat</th>        <th class=\"col_heading level0 col13\" >medv</th>    </tr></thead><tbody>\n",
       "                <tr>\n",
       "                        <th id=\"T_07301338_52f8_11ea_a38b_eb599e736fdalevel0_row0\" class=\"row_heading level0 row0\" >0</th>\n",
       "                        <td id=\"T_07301338_52f8_11ea_a38b_eb599e736fdarow0_col0\" class=\"data row0 col0\" >0.01</td>\n",
       "                        <td id=\"T_07301338_52f8_11ea_a38b_eb599e736fdarow0_col1\" class=\"data row0 col1\" >18.00</td>\n",
       "                        <td id=\"T_07301338_52f8_11ea_a38b_eb599e736fdarow0_col2\" class=\"data row0 col2\" >2.31</td>\n",
       "                        <td id=\"T_07301338_52f8_11ea_a38b_eb599e736fdarow0_col3\" class=\"data row0 col3\" >0.00</td>\n",
       "                        <td id=\"T_07301338_52f8_11ea_a38b_eb599e736fdarow0_col4\" class=\"data row0 col4\" >0.54</td>\n",
       "                        <td id=\"T_07301338_52f8_11ea_a38b_eb599e736fdarow0_col5\" class=\"data row0 col5\" >6.58</td>\n",
       "                        <td id=\"T_07301338_52f8_11ea_a38b_eb599e736fdarow0_col6\" class=\"data row0 col6\" >65.20</td>\n",
       "                        <td id=\"T_07301338_52f8_11ea_a38b_eb599e736fdarow0_col7\" class=\"data row0 col7\" >4.09</td>\n",
       "                        <td id=\"T_07301338_52f8_11ea_a38b_eb599e736fdarow0_col8\" class=\"data row0 col8\" >1.00</td>\n",
       "                        <td id=\"T_07301338_52f8_11ea_a38b_eb599e736fdarow0_col9\" class=\"data row0 col9\" >296.00</td>\n",
       "                        <td id=\"T_07301338_52f8_11ea_a38b_eb599e736fdarow0_col10\" class=\"data row0 col10\" >15.30</td>\n",
       "                        <td id=\"T_07301338_52f8_11ea_a38b_eb599e736fdarow0_col11\" class=\"data row0 col11\" >396.90</td>\n",
       "                        <td id=\"T_07301338_52f8_11ea_a38b_eb599e736fdarow0_col12\" class=\"data row0 col12\" >4.98</td>\n",
       "                        <td id=\"T_07301338_52f8_11ea_a38b_eb599e736fdarow0_col13\" class=\"data row0 col13\" >24.00</td>\n",
       "            </tr>\n",
       "            <tr>\n",
       "                        <th id=\"T_07301338_52f8_11ea_a38b_eb599e736fdalevel0_row1\" class=\"row_heading level0 row1\" >1</th>\n",
       "                        <td id=\"T_07301338_52f8_11ea_a38b_eb599e736fdarow1_col0\" class=\"data row1 col0\" >0.03</td>\n",
       "                        <td id=\"T_07301338_52f8_11ea_a38b_eb599e736fdarow1_col1\" class=\"data row1 col1\" >0.00</td>\n",
       "                        <td id=\"T_07301338_52f8_11ea_a38b_eb599e736fdarow1_col2\" class=\"data row1 col2\" >7.07</td>\n",
       "                        <td id=\"T_07301338_52f8_11ea_a38b_eb599e736fdarow1_col3\" class=\"data row1 col3\" >0.00</td>\n",
       "                        <td id=\"T_07301338_52f8_11ea_a38b_eb599e736fdarow1_col4\" class=\"data row1 col4\" >0.47</td>\n",
       "                        <td id=\"T_07301338_52f8_11ea_a38b_eb599e736fdarow1_col5\" class=\"data row1 col5\" >6.42</td>\n",
       "                        <td id=\"T_07301338_52f8_11ea_a38b_eb599e736fdarow1_col6\" class=\"data row1 col6\" >78.90</td>\n",
       "                        <td id=\"T_07301338_52f8_11ea_a38b_eb599e736fdarow1_col7\" class=\"data row1 col7\" >4.97</td>\n",
       "                        <td id=\"T_07301338_52f8_11ea_a38b_eb599e736fdarow1_col8\" class=\"data row1 col8\" >2.00</td>\n",
       "                        <td id=\"T_07301338_52f8_11ea_a38b_eb599e736fdarow1_col9\" class=\"data row1 col9\" >242.00</td>\n",
       "                        <td id=\"T_07301338_52f8_11ea_a38b_eb599e736fdarow1_col10\" class=\"data row1 col10\" >17.80</td>\n",
       "                        <td id=\"T_07301338_52f8_11ea_a38b_eb599e736fdarow1_col11\" class=\"data row1 col11\" >396.90</td>\n",
       "                        <td id=\"T_07301338_52f8_11ea_a38b_eb599e736fdarow1_col12\" class=\"data row1 col12\" >9.14</td>\n",
       "                        <td id=\"T_07301338_52f8_11ea_a38b_eb599e736fdarow1_col13\" class=\"data row1 col13\" >21.60</td>\n",
       "            </tr>\n",
       "            <tr>\n",
       "                        <th id=\"T_07301338_52f8_11ea_a38b_eb599e736fdalevel0_row2\" class=\"row_heading level0 row2\" >2</th>\n",
       "                        <td id=\"T_07301338_52f8_11ea_a38b_eb599e736fdarow2_col0\" class=\"data row2 col0\" >0.03</td>\n",
       "                        <td id=\"T_07301338_52f8_11ea_a38b_eb599e736fdarow2_col1\" class=\"data row2 col1\" >0.00</td>\n",
       "                        <td id=\"T_07301338_52f8_11ea_a38b_eb599e736fdarow2_col2\" class=\"data row2 col2\" >7.07</td>\n",
       "                        <td id=\"T_07301338_52f8_11ea_a38b_eb599e736fdarow2_col3\" class=\"data row2 col3\" >0.00</td>\n",
       "                        <td id=\"T_07301338_52f8_11ea_a38b_eb599e736fdarow2_col4\" class=\"data row2 col4\" >0.47</td>\n",
       "                        <td id=\"T_07301338_52f8_11ea_a38b_eb599e736fdarow2_col5\" class=\"data row2 col5\" >7.18</td>\n",
       "                        <td id=\"T_07301338_52f8_11ea_a38b_eb599e736fdarow2_col6\" class=\"data row2 col6\" >61.10</td>\n",
       "                        <td id=\"T_07301338_52f8_11ea_a38b_eb599e736fdarow2_col7\" class=\"data row2 col7\" >4.97</td>\n",
       "                        <td id=\"T_07301338_52f8_11ea_a38b_eb599e736fdarow2_col8\" class=\"data row2 col8\" >2.00</td>\n",
       "                        <td id=\"T_07301338_52f8_11ea_a38b_eb599e736fdarow2_col9\" class=\"data row2 col9\" >242.00</td>\n",
       "                        <td id=\"T_07301338_52f8_11ea_a38b_eb599e736fdarow2_col10\" class=\"data row2 col10\" >17.80</td>\n",
       "                        <td id=\"T_07301338_52f8_11ea_a38b_eb599e736fdarow2_col11\" class=\"data row2 col11\" >392.83</td>\n",
       "                        <td id=\"T_07301338_52f8_11ea_a38b_eb599e736fdarow2_col12\" class=\"data row2 col12\" >4.03</td>\n",
       "                        <td id=\"T_07301338_52f8_11ea_a38b_eb599e736fdarow2_col13\" class=\"data row2 col13\" >34.70</td>\n",
       "            </tr>\n",
       "            <tr>\n",
       "                        <th id=\"T_07301338_52f8_11ea_a38b_eb599e736fdalevel0_row3\" class=\"row_heading level0 row3\" >3</th>\n",
       "                        <td id=\"T_07301338_52f8_11ea_a38b_eb599e736fdarow3_col0\" class=\"data row3 col0\" >0.03</td>\n",
       "                        <td id=\"T_07301338_52f8_11ea_a38b_eb599e736fdarow3_col1\" class=\"data row3 col1\" >0.00</td>\n",
       "                        <td id=\"T_07301338_52f8_11ea_a38b_eb599e736fdarow3_col2\" class=\"data row3 col2\" >2.18</td>\n",
       "                        <td id=\"T_07301338_52f8_11ea_a38b_eb599e736fdarow3_col3\" class=\"data row3 col3\" >0.00</td>\n",
       "                        <td id=\"T_07301338_52f8_11ea_a38b_eb599e736fdarow3_col4\" class=\"data row3 col4\" >0.46</td>\n",
       "                        <td id=\"T_07301338_52f8_11ea_a38b_eb599e736fdarow3_col5\" class=\"data row3 col5\" >7.00</td>\n",
       "                        <td id=\"T_07301338_52f8_11ea_a38b_eb599e736fdarow3_col6\" class=\"data row3 col6\" >45.80</td>\n",
       "                        <td id=\"T_07301338_52f8_11ea_a38b_eb599e736fdarow3_col7\" class=\"data row3 col7\" >6.06</td>\n",
       "                        <td id=\"T_07301338_52f8_11ea_a38b_eb599e736fdarow3_col8\" class=\"data row3 col8\" >3.00</td>\n",
       "                        <td id=\"T_07301338_52f8_11ea_a38b_eb599e736fdarow3_col9\" class=\"data row3 col9\" >222.00</td>\n",
       "                        <td id=\"T_07301338_52f8_11ea_a38b_eb599e736fdarow3_col10\" class=\"data row3 col10\" >18.70</td>\n",
       "                        <td id=\"T_07301338_52f8_11ea_a38b_eb599e736fdarow3_col11\" class=\"data row3 col11\" >394.63</td>\n",
       "                        <td id=\"T_07301338_52f8_11ea_a38b_eb599e736fdarow3_col12\" class=\"data row3 col12\" >2.94</td>\n",
       "                        <td id=\"T_07301338_52f8_11ea_a38b_eb599e736fdarow3_col13\" class=\"data row3 col13\" >33.40</td>\n",
       "            </tr>\n",
       "            <tr>\n",
       "                        <th id=\"T_07301338_52f8_11ea_a38b_eb599e736fdalevel0_row4\" class=\"row_heading level0 row4\" >4</th>\n",
       "                        <td id=\"T_07301338_52f8_11ea_a38b_eb599e736fdarow4_col0\" class=\"data row4 col0\" >0.07</td>\n",
       "                        <td id=\"T_07301338_52f8_11ea_a38b_eb599e736fdarow4_col1\" class=\"data row4 col1\" >0.00</td>\n",
       "                        <td id=\"T_07301338_52f8_11ea_a38b_eb599e736fdarow4_col2\" class=\"data row4 col2\" >2.18</td>\n",
       "                        <td id=\"T_07301338_52f8_11ea_a38b_eb599e736fdarow4_col3\" class=\"data row4 col3\" >0.00</td>\n",
       "                        <td id=\"T_07301338_52f8_11ea_a38b_eb599e736fdarow4_col4\" class=\"data row4 col4\" >0.46</td>\n",
       "                        <td id=\"T_07301338_52f8_11ea_a38b_eb599e736fdarow4_col5\" class=\"data row4 col5\" >7.15</td>\n",
       "                        <td id=\"T_07301338_52f8_11ea_a38b_eb599e736fdarow4_col6\" class=\"data row4 col6\" >54.20</td>\n",
       "                        <td id=\"T_07301338_52f8_11ea_a38b_eb599e736fdarow4_col7\" class=\"data row4 col7\" >6.06</td>\n",
       "                        <td id=\"T_07301338_52f8_11ea_a38b_eb599e736fdarow4_col8\" class=\"data row4 col8\" >3.00</td>\n",
       "                        <td id=\"T_07301338_52f8_11ea_a38b_eb599e736fdarow4_col9\" class=\"data row4 col9\" >222.00</td>\n",
       "                        <td id=\"T_07301338_52f8_11ea_a38b_eb599e736fdarow4_col10\" class=\"data row4 col10\" >18.70</td>\n",
       "                        <td id=\"T_07301338_52f8_11ea_a38b_eb599e736fdarow4_col11\" class=\"data row4 col11\" >396.90</td>\n",
       "                        <td id=\"T_07301338_52f8_11ea_a38b_eb599e736fdarow4_col12\" class=\"data row4 col12\" >5.33</td>\n",
       "                        <td id=\"T_07301338_52f8_11ea_a38b_eb599e736fdarow4_col13\" class=\"data row4 col13\" >36.20</td>\n",
       "            </tr>\n",
       "    </tbody></table>"
      ],
      "text/plain": [
       "<pandas.io.formats.style.Styler at 0x7faa97ce3ad0>"
      ]
     },
     "metadata": {},
     "output_type": "display_data"
    },
    {
     "name": "stdout",
     "output_type": "stream",
     "text": [
      "Données manquantes :  0   Shape is :  (506, 14)\n"
     ]
    }
   ],
   "source": [
    "data = pd.read_csv('./data/BostonHousing.csv', header=0)\n",
    "\n",
    "display(data.head(5).style.format(\"{0:.2f}\"))\n",
    "print('Données manquantes : ',data.isna().sum().sum(), '  Shape is : ', data.shape)"
   ]
  },
  {
   "cell_type": "markdown",
   "metadata": {},
   "source": [
    "## Step 3 - Preparing the data\n",
    "### 3.1 - Split data\n",
    "We will use 80% of the data for training and 20% for validation.  \n",
    "x will be input data and y the expected output"
   ]
  },
  {
   "cell_type": "code",
   "execution_count": 3,
   "metadata": {},
   "outputs": [
    {
     "name": "stdout",
     "output_type": "stream",
     "text": [
      "Original data shape was :  (506, 14)\n",
      "x_train :  (354, 13) y_train :  (354,)\n",
      "x_test  :  (152, 13) y_test  :  (152,)\n"
     ]
    }
   ],
   "source": [
    "# ---- Split => train, test\n",
    "#\n",
    "data_train = data.sample(frac=0.7, axis=0)\n",
    "data_test  = data.drop(data_train.index)\n",
    "\n",
    "# ---- Split => x,y (medv is price)\n",
    "#\n",
    "x_train = data_train.drop('medv',  axis=1)\n",
    "y_train = data_train['medv']\n",
    "x_test  = data_test.drop('medv',   axis=1)\n",
    "y_test  = data_test['medv']\n",
    "\n",
    "print('Original data shape was : ',data.shape)\n",
    "print('x_train : ',x_train.shape, 'y_train : ',y_train.shape)\n",
    "print('x_test  : ',x_test.shape,  'y_test  : ',y_test.shape)"
   ]
  },
  {
   "cell_type": "markdown",
   "metadata": {},
   "source": [
    "### 3.2 - Data normalization\n",
    "**Note :** \n",
    " - All input data must be normalized, train and test.  \n",
    " - To do this we will subtract the mean and divide by the standard deviation.  \n",
    " - But test data should not be used in any way, even for normalization.  \n",
    " - The mean and the standard deviation will therefore only be calculated with the train data."
   ]
  },
  {
   "cell_type": "code",
   "execution_count": 4,
   "metadata": {},
   "outputs": [
    {
     "data": {
      "text/html": [
       "<style  type=\"text/css\" >\n",
       "</style><table id=\"T_07389f4e_52f8_11ea_a38b_eb599e736fda\" ><caption>Before normalization :</caption><thead>    <tr>        <th class=\"blank level0\" ></th>        <th class=\"col_heading level0 col0\" >crim</th>        <th class=\"col_heading level0 col1\" >zn</th>        <th class=\"col_heading level0 col2\" >indus</th>        <th class=\"col_heading level0 col3\" >chas</th>        <th class=\"col_heading level0 col4\" >nox</th>        <th class=\"col_heading level0 col5\" >rm</th>        <th class=\"col_heading level0 col6\" >age</th>        <th class=\"col_heading level0 col7\" >dis</th>        <th class=\"col_heading level0 col8\" >rad</th>        <th class=\"col_heading level0 col9\" >tax</th>        <th class=\"col_heading level0 col10\" >ptratio</th>        <th class=\"col_heading level0 col11\" >b</th>        <th class=\"col_heading level0 col12\" >lstat</th>    </tr></thead><tbody>\n",
       "                <tr>\n",
       "                        <th id=\"T_07389f4e_52f8_11ea_a38b_eb599e736fdalevel0_row0\" class=\"row_heading level0 row0\" >count</th>\n",
       "                        <td id=\"T_07389f4e_52f8_11ea_a38b_eb599e736fdarow0_col0\" class=\"data row0 col0\" >354.00</td>\n",
       "                        <td id=\"T_07389f4e_52f8_11ea_a38b_eb599e736fdarow0_col1\" class=\"data row0 col1\" >354.00</td>\n",
       "                        <td id=\"T_07389f4e_52f8_11ea_a38b_eb599e736fdarow0_col2\" class=\"data row0 col2\" >354.00</td>\n",
       "                        <td id=\"T_07389f4e_52f8_11ea_a38b_eb599e736fdarow0_col3\" class=\"data row0 col3\" >354.00</td>\n",
       "                        <td id=\"T_07389f4e_52f8_11ea_a38b_eb599e736fdarow0_col4\" class=\"data row0 col4\" >354.00</td>\n",
       "                        <td id=\"T_07389f4e_52f8_11ea_a38b_eb599e736fdarow0_col5\" class=\"data row0 col5\" >354.00</td>\n",
       "                        <td id=\"T_07389f4e_52f8_11ea_a38b_eb599e736fdarow0_col6\" class=\"data row0 col6\" >354.00</td>\n",
       "                        <td id=\"T_07389f4e_52f8_11ea_a38b_eb599e736fdarow0_col7\" class=\"data row0 col7\" >354.00</td>\n",
       "                        <td id=\"T_07389f4e_52f8_11ea_a38b_eb599e736fdarow0_col8\" class=\"data row0 col8\" >354.00</td>\n",
       "                        <td id=\"T_07389f4e_52f8_11ea_a38b_eb599e736fdarow0_col9\" class=\"data row0 col9\" >354.00</td>\n",
       "                        <td id=\"T_07389f4e_52f8_11ea_a38b_eb599e736fdarow0_col10\" class=\"data row0 col10\" >354.00</td>\n",
       "                        <td id=\"T_07389f4e_52f8_11ea_a38b_eb599e736fdarow0_col11\" class=\"data row0 col11\" >354.00</td>\n",
       "                        <td id=\"T_07389f4e_52f8_11ea_a38b_eb599e736fdarow0_col12\" class=\"data row0 col12\" >354.00</td>\n",
       "            </tr>\n",
       "            <tr>\n",
       "                        <th id=\"T_07389f4e_52f8_11ea_a38b_eb599e736fdalevel0_row1\" class=\"row_heading level0 row1\" >mean</th>\n",
       "                        <td id=\"T_07389f4e_52f8_11ea_a38b_eb599e736fdarow1_col0\" class=\"data row1 col0\" >3.91</td>\n",
       "                        <td id=\"T_07389f4e_52f8_11ea_a38b_eb599e736fdarow1_col1\" class=\"data row1 col1\" >11.73</td>\n",
       "                        <td id=\"T_07389f4e_52f8_11ea_a38b_eb599e736fdarow1_col2\" class=\"data row1 col2\" >11.21</td>\n",
       "                        <td id=\"T_07389f4e_52f8_11ea_a38b_eb599e736fdarow1_col3\" class=\"data row1 col3\" >0.07</td>\n",
       "                        <td id=\"T_07389f4e_52f8_11ea_a38b_eb599e736fdarow1_col4\" class=\"data row1 col4\" >0.56</td>\n",
       "                        <td id=\"T_07389f4e_52f8_11ea_a38b_eb599e736fdarow1_col5\" class=\"data row1 col5\" >6.28</td>\n",
       "                        <td id=\"T_07389f4e_52f8_11ea_a38b_eb599e736fdarow1_col6\" class=\"data row1 col6\" >68.51</td>\n",
       "                        <td id=\"T_07389f4e_52f8_11ea_a38b_eb599e736fdarow1_col7\" class=\"data row1 col7\" >3.84</td>\n",
       "                        <td id=\"T_07389f4e_52f8_11ea_a38b_eb599e736fdarow1_col8\" class=\"data row1 col8\" >9.96</td>\n",
       "                        <td id=\"T_07389f4e_52f8_11ea_a38b_eb599e736fdarow1_col9\" class=\"data row1 col9\" >414.16</td>\n",
       "                        <td id=\"T_07389f4e_52f8_11ea_a38b_eb599e736fdarow1_col10\" class=\"data row1 col10\" >18.52</td>\n",
       "                        <td id=\"T_07389f4e_52f8_11ea_a38b_eb599e736fdarow1_col11\" class=\"data row1 col11\" >351.61</td>\n",
       "                        <td id=\"T_07389f4e_52f8_11ea_a38b_eb599e736fdarow1_col12\" class=\"data row1 col12\" >12.76</td>\n",
       "            </tr>\n",
       "            <tr>\n",
       "                        <th id=\"T_07389f4e_52f8_11ea_a38b_eb599e736fdalevel0_row2\" class=\"row_heading level0 row2\" >std</th>\n",
       "                        <td id=\"T_07389f4e_52f8_11ea_a38b_eb599e736fdarow2_col0\" class=\"data row2 col0\" >9.14</td>\n",
       "                        <td id=\"T_07389f4e_52f8_11ea_a38b_eb599e736fdarow2_col1\" class=\"data row2 col1\" >23.48</td>\n",
       "                        <td id=\"T_07389f4e_52f8_11ea_a38b_eb599e736fdarow2_col2\" class=\"data row2 col2\" >6.75</td>\n",
       "                        <td id=\"T_07389f4e_52f8_11ea_a38b_eb599e736fdarow2_col3\" class=\"data row2 col3\" >0.26</td>\n",
       "                        <td id=\"T_07389f4e_52f8_11ea_a38b_eb599e736fdarow2_col4\" class=\"data row2 col4\" >0.12</td>\n",
       "                        <td id=\"T_07389f4e_52f8_11ea_a38b_eb599e736fdarow2_col5\" class=\"data row2 col5\" >0.69</td>\n",
       "                        <td id=\"T_07389f4e_52f8_11ea_a38b_eb599e736fdarow2_col6\" class=\"data row2 col6\" >28.19</td>\n",
       "                        <td id=\"T_07389f4e_52f8_11ea_a38b_eb599e736fdarow2_col7\" class=\"data row2 col7\" >2.17</td>\n",
       "                        <td id=\"T_07389f4e_52f8_11ea_a38b_eb599e736fdarow2_col8\" class=\"data row2 col8\" >8.87</td>\n",
       "                        <td id=\"T_07389f4e_52f8_11ea_a38b_eb599e736fdarow2_col9\" class=\"data row2 col9\" >168.41</td>\n",
       "                        <td id=\"T_07389f4e_52f8_11ea_a38b_eb599e736fdarow2_col10\" class=\"data row2 col10\" >2.20</td>\n",
       "                        <td id=\"T_07389f4e_52f8_11ea_a38b_eb599e736fdarow2_col11\" class=\"data row2 col11\" >96.84</td>\n",
       "                        <td id=\"T_07389f4e_52f8_11ea_a38b_eb599e736fdarow2_col12\" class=\"data row2 col12\" >7.23</td>\n",
       "            </tr>\n",
       "            <tr>\n",
       "                        <th id=\"T_07389f4e_52f8_11ea_a38b_eb599e736fdalevel0_row3\" class=\"row_heading level0 row3\" >min</th>\n",
       "                        <td id=\"T_07389f4e_52f8_11ea_a38b_eb599e736fdarow3_col0\" class=\"data row3 col0\" >0.01</td>\n",
       "                        <td id=\"T_07389f4e_52f8_11ea_a38b_eb599e736fdarow3_col1\" class=\"data row3 col1\" >0.00</td>\n",
       "                        <td id=\"T_07389f4e_52f8_11ea_a38b_eb599e736fdarow3_col2\" class=\"data row3 col2\" >0.46</td>\n",
       "                        <td id=\"T_07389f4e_52f8_11ea_a38b_eb599e736fdarow3_col3\" class=\"data row3 col3\" >0.00</td>\n",
       "                        <td id=\"T_07389f4e_52f8_11ea_a38b_eb599e736fdarow3_col4\" class=\"data row3 col4\" >0.39</td>\n",
       "                        <td id=\"T_07389f4e_52f8_11ea_a38b_eb599e736fdarow3_col5\" class=\"data row3 col5\" >3.56</td>\n",
       "                        <td id=\"T_07389f4e_52f8_11ea_a38b_eb599e736fdarow3_col6\" class=\"data row3 col6\" >2.90</td>\n",
       "                        <td id=\"T_07389f4e_52f8_11ea_a38b_eb599e736fdarow3_col7\" class=\"data row3 col7\" >1.13</td>\n",
       "                        <td id=\"T_07389f4e_52f8_11ea_a38b_eb599e736fdarow3_col8\" class=\"data row3 col8\" >1.00</td>\n",
       "                        <td id=\"T_07389f4e_52f8_11ea_a38b_eb599e736fdarow3_col9\" class=\"data row3 col9\" >187.00</td>\n",
       "                        <td id=\"T_07389f4e_52f8_11ea_a38b_eb599e736fdarow3_col10\" class=\"data row3 col10\" >12.60</td>\n",
       "                        <td id=\"T_07389f4e_52f8_11ea_a38b_eb599e736fdarow3_col11\" class=\"data row3 col11\" >0.32</td>\n",
       "                        <td id=\"T_07389f4e_52f8_11ea_a38b_eb599e736fdarow3_col12\" class=\"data row3 col12\" >1.73</td>\n",
       "            </tr>\n",
       "            <tr>\n",
       "                        <th id=\"T_07389f4e_52f8_11ea_a38b_eb599e736fdalevel0_row4\" class=\"row_heading level0 row4\" >25%</th>\n",
       "                        <td id=\"T_07389f4e_52f8_11ea_a38b_eb599e736fdarow4_col0\" class=\"data row4 col0\" >0.08</td>\n",
       "                        <td id=\"T_07389f4e_52f8_11ea_a38b_eb599e736fdarow4_col1\" class=\"data row4 col1\" >0.00</td>\n",
       "                        <td id=\"T_07389f4e_52f8_11ea_a38b_eb599e736fdarow4_col2\" class=\"data row4 col2\" >5.19</td>\n",
       "                        <td id=\"T_07389f4e_52f8_11ea_a38b_eb599e736fdarow4_col3\" class=\"data row4 col3\" >0.00</td>\n",
       "                        <td id=\"T_07389f4e_52f8_11ea_a38b_eb599e736fdarow4_col4\" class=\"data row4 col4\" >0.45</td>\n",
       "                        <td id=\"T_07389f4e_52f8_11ea_a38b_eb599e736fdarow4_col5\" class=\"data row4 col5\" >5.89</td>\n",
       "                        <td id=\"T_07389f4e_52f8_11ea_a38b_eb599e736fdarow4_col6\" class=\"data row4 col6\" >45.02</td>\n",
       "                        <td id=\"T_07389f4e_52f8_11ea_a38b_eb599e736fdarow4_col7\" class=\"data row4 col7\" >2.09</td>\n",
       "                        <td id=\"T_07389f4e_52f8_11ea_a38b_eb599e736fdarow4_col8\" class=\"data row4 col8\" >4.00</td>\n",
       "                        <td id=\"T_07389f4e_52f8_11ea_a38b_eb599e736fdarow4_col9\" class=\"data row4 col9\" >285.50</td>\n",
       "                        <td id=\"T_07389f4e_52f8_11ea_a38b_eb599e736fdarow4_col10\" class=\"data row4 col10\" >17.40</td>\n",
       "                        <td id=\"T_07389f4e_52f8_11ea_a38b_eb599e736fdarow4_col11\" class=\"data row4 col11\" >370.98</td>\n",
       "                        <td id=\"T_07389f4e_52f8_11ea_a38b_eb599e736fdarow4_col12\" class=\"data row4 col12\" >7.12</td>\n",
       "            </tr>\n",
       "            <tr>\n",
       "                        <th id=\"T_07389f4e_52f8_11ea_a38b_eb599e736fdalevel0_row5\" class=\"row_heading level0 row5\" >50%</th>\n",
       "                        <td id=\"T_07389f4e_52f8_11ea_a38b_eb599e736fdarow5_col0\" class=\"data row5 col0\" >0.32</td>\n",
       "                        <td id=\"T_07389f4e_52f8_11ea_a38b_eb599e736fdarow5_col1\" class=\"data row5 col1\" >0.00</td>\n",
       "                        <td id=\"T_07389f4e_52f8_11ea_a38b_eb599e736fdarow5_col2\" class=\"data row5 col2\" >9.79</td>\n",
       "                        <td id=\"T_07389f4e_52f8_11ea_a38b_eb599e736fdarow5_col3\" class=\"data row5 col3\" >0.00</td>\n",
       "                        <td id=\"T_07389f4e_52f8_11ea_a38b_eb599e736fdarow5_col4\" class=\"data row5 col4\" >0.54</td>\n",
       "                        <td id=\"T_07389f4e_52f8_11ea_a38b_eb599e736fdarow5_col5\" class=\"data row5 col5\" >6.21</td>\n",
       "                        <td id=\"T_07389f4e_52f8_11ea_a38b_eb599e736fdarow5_col6\" class=\"data row5 col6\" >76.95</td>\n",
       "                        <td id=\"T_07389f4e_52f8_11ea_a38b_eb599e736fdarow5_col7\" class=\"data row5 col7\" >3.21</td>\n",
       "                        <td id=\"T_07389f4e_52f8_11ea_a38b_eb599e736fdarow5_col8\" class=\"data row5 col8\" >5.00</td>\n",
       "                        <td id=\"T_07389f4e_52f8_11ea_a38b_eb599e736fdarow5_col9\" class=\"data row5 col9\" >332.00</td>\n",
       "                        <td id=\"T_07389f4e_52f8_11ea_a38b_eb599e736fdarow5_col10\" class=\"data row5 col10\" >19.10</td>\n",
       "                        <td id=\"T_07389f4e_52f8_11ea_a38b_eb599e736fdarow5_col11\" class=\"data row5 col11\" >390.69</td>\n",
       "                        <td id=\"T_07389f4e_52f8_11ea_a38b_eb599e736fdarow5_col12\" class=\"data row5 col12\" >11.49</td>\n",
       "            </tr>\n",
       "            <tr>\n",
       "                        <th id=\"T_07389f4e_52f8_11ea_a38b_eb599e736fdalevel0_row6\" class=\"row_heading level0 row6\" >75%</th>\n",
       "                        <td id=\"T_07389f4e_52f8_11ea_a38b_eb599e736fdarow6_col0\" class=\"data row6 col0\" >4.08</td>\n",
       "                        <td id=\"T_07389f4e_52f8_11ea_a38b_eb599e736fdarow6_col1\" class=\"data row6 col1\" >19.50</td>\n",
       "                        <td id=\"T_07389f4e_52f8_11ea_a38b_eb599e736fdarow6_col2\" class=\"data row6 col2\" >18.10</td>\n",
       "                        <td id=\"T_07389f4e_52f8_11ea_a38b_eb599e736fdarow6_col3\" class=\"data row6 col3\" >0.00</td>\n",
       "                        <td id=\"T_07389f4e_52f8_11ea_a38b_eb599e736fdarow6_col4\" class=\"data row6 col4\" >0.63</td>\n",
       "                        <td id=\"T_07389f4e_52f8_11ea_a38b_eb599e736fdarow6_col5\" class=\"data row6 col5\" >6.60</td>\n",
       "                        <td id=\"T_07389f4e_52f8_11ea_a38b_eb599e736fdarow6_col6\" class=\"data row6 col6\" >94.47</td>\n",
       "                        <td id=\"T_07389f4e_52f8_11ea_a38b_eb599e736fdarow6_col7\" class=\"data row6 col7\" >5.21</td>\n",
       "                        <td id=\"T_07389f4e_52f8_11ea_a38b_eb599e736fdarow6_col8\" class=\"data row6 col8\" >24.00</td>\n",
       "                        <td id=\"T_07389f4e_52f8_11ea_a38b_eb599e736fdarow6_col9\" class=\"data row6 col9\" >666.00</td>\n",
       "                        <td id=\"T_07389f4e_52f8_11ea_a38b_eb599e736fdarow6_col10\" class=\"data row6 col10\" >20.20</td>\n",
       "                        <td id=\"T_07389f4e_52f8_11ea_a38b_eb599e736fdarow6_col11\" class=\"data row6 col11\" >395.98</td>\n",
       "                        <td id=\"T_07389f4e_52f8_11ea_a38b_eb599e736fdarow6_col12\" class=\"data row6 col12\" >16.96</td>\n",
       "            </tr>\n",
       "            <tr>\n",
       "                        <th id=\"T_07389f4e_52f8_11ea_a38b_eb599e736fdalevel0_row7\" class=\"row_heading level0 row7\" >max</th>\n",
       "                        <td id=\"T_07389f4e_52f8_11ea_a38b_eb599e736fdarow7_col0\" class=\"data row7 col0\" >88.98</td>\n",
       "                        <td id=\"T_07389f4e_52f8_11ea_a38b_eb599e736fdarow7_col1\" class=\"data row7 col1\" >100.00</td>\n",
       "                        <td id=\"T_07389f4e_52f8_11ea_a38b_eb599e736fdarow7_col2\" class=\"data row7 col2\" >27.74</td>\n",
       "                        <td id=\"T_07389f4e_52f8_11ea_a38b_eb599e736fdarow7_col3\" class=\"data row7 col3\" >1.00</td>\n",
       "                        <td id=\"T_07389f4e_52f8_11ea_a38b_eb599e736fdarow7_col4\" class=\"data row7 col4\" >0.87</td>\n",
       "                        <td id=\"T_07389f4e_52f8_11ea_a38b_eb599e736fdarow7_col5\" class=\"data row7 col5\" >8.78</td>\n",
       "                        <td id=\"T_07389f4e_52f8_11ea_a38b_eb599e736fdarow7_col6\" class=\"data row7 col6\" >100.00</td>\n",
       "                        <td id=\"T_07389f4e_52f8_11ea_a38b_eb599e736fdarow7_col7\" class=\"data row7 col7\" >12.13</td>\n",
       "                        <td id=\"T_07389f4e_52f8_11ea_a38b_eb599e736fdarow7_col8\" class=\"data row7 col8\" >24.00</td>\n",
       "                        <td id=\"T_07389f4e_52f8_11ea_a38b_eb599e736fdarow7_col9\" class=\"data row7 col9\" >711.00</td>\n",
       "                        <td id=\"T_07389f4e_52f8_11ea_a38b_eb599e736fdarow7_col10\" class=\"data row7 col10\" >22.00</td>\n",
       "                        <td id=\"T_07389f4e_52f8_11ea_a38b_eb599e736fdarow7_col11\" class=\"data row7 col11\" >396.90</td>\n",
       "                        <td id=\"T_07389f4e_52f8_11ea_a38b_eb599e736fdarow7_col12\" class=\"data row7 col12\" >37.97</td>\n",
       "            </tr>\n",
       "    </tbody></table>"
      ],
      "text/plain": [
       "<pandas.io.formats.style.Styler at 0x7faa96773f90>"
      ]
     },
     "metadata": {},
     "output_type": "display_data"
    },
    {
     "data": {
      "text/html": [
       "<style  type=\"text/css\" >\n",
       "</style><table id=\"T_073f797c_52f8_11ea_a38b_eb599e736fda\" ><caption>After normalization :</caption><thead>    <tr>        <th class=\"blank level0\" ></th>        <th class=\"col_heading level0 col0\" >crim</th>        <th class=\"col_heading level0 col1\" >zn</th>        <th class=\"col_heading level0 col2\" >indus</th>        <th class=\"col_heading level0 col3\" >chas</th>        <th class=\"col_heading level0 col4\" >nox</th>        <th class=\"col_heading level0 col5\" >rm</th>        <th class=\"col_heading level0 col6\" >age</th>        <th class=\"col_heading level0 col7\" >dis</th>        <th class=\"col_heading level0 col8\" >rad</th>        <th class=\"col_heading level0 col9\" >tax</th>        <th class=\"col_heading level0 col10\" >ptratio</th>        <th class=\"col_heading level0 col11\" >b</th>        <th class=\"col_heading level0 col12\" >lstat</th>    </tr></thead><tbody>\n",
       "                <tr>\n",
       "                        <th id=\"T_073f797c_52f8_11ea_a38b_eb599e736fdalevel0_row0\" class=\"row_heading level0 row0\" >count</th>\n",
       "                        <td id=\"T_073f797c_52f8_11ea_a38b_eb599e736fdarow0_col0\" class=\"data row0 col0\" >354.00</td>\n",
       "                        <td id=\"T_073f797c_52f8_11ea_a38b_eb599e736fdarow0_col1\" class=\"data row0 col1\" >354.00</td>\n",
       "                        <td id=\"T_073f797c_52f8_11ea_a38b_eb599e736fdarow0_col2\" class=\"data row0 col2\" >354.00</td>\n",
       "                        <td id=\"T_073f797c_52f8_11ea_a38b_eb599e736fdarow0_col3\" class=\"data row0 col3\" >354.00</td>\n",
       "                        <td id=\"T_073f797c_52f8_11ea_a38b_eb599e736fdarow0_col4\" class=\"data row0 col4\" >354.00</td>\n",
       "                        <td id=\"T_073f797c_52f8_11ea_a38b_eb599e736fdarow0_col5\" class=\"data row0 col5\" >354.00</td>\n",
       "                        <td id=\"T_073f797c_52f8_11ea_a38b_eb599e736fdarow0_col6\" class=\"data row0 col6\" >354.00</td>\n",
       "                        <td id=\"T_073f797c_52f8_11ea_a38b_eb599e736fdarow0_col7\" class=\"data row0 col7\" >354.00</td>\n",
       "                        <td id=\"T_073f797c_52f8_11ea_a38b_eb599e736fdarow0_col8\" class=\"data row0 col8\" >354.00</td>\n",
       "                        <td id=\"T_073f797c_52f8_11ea_a38b_eb599e736fdarow0_col9\" class=\"data row0 col9\" >354.00</td>\n",
       "                        <td id=\"T_073f797c_52f8_11ea_a38b_eb599e736fdarow0_col10\" class=\"data row0 col10\" >354.00</td>\n",
       "                        <td id=\"T_073f797c_52f8_11ea_a38b_eb599e736fdarow0_col11\" class=\"data row0 col11\" >354.00</td>\n",
       "                        <td id=\"T_073f797c_52f8_11ea_a38b_eb599e736fdarow0_col12\" class=\"data row0 col12\" >354.00</td>\n",
       "            </tr>\n",
       "            <tr>\n",
       "                        <th id=\"T_073f797c_52f8_11ea_a38b_eb599e736fdalevel0_row1\" class=\"row_heading level0 row1\" >mean</th>\n",
       "                        <td id=\"T_073f797c_52f8_11ea_a38b_eb599e736fdarow1_col0\" class=\"data row1 col0\" >-0.00</td>\n",
       "                        <td id=\"T_073f797c_52f8_11ea_a38b_eb599e736fdarow1_col1\" class=\"data row1 col1\" >0.00</td>\n",
       "                        <td id=\"T_073f797c_52f8_11ea_a38b_eb599e736fdarow1_col2\" class=\"data row1 col2\" >0.00</td>\n",
       "                        <td id=\"T_073f797c_52f8_11ea_a38b_eb599e736fdarow1_col3\" class=\"data row1 col3\" >0.00</td>\n",
       "                        <td id=\"T_073f797c_52f8_11ea_a38b_eb599e736fdarow1_col4\" class=\"data row1 col4\" >-0.00</td>\n",
       "                        <td id=\"T_073f797c_52f8_11ea_a38b_eb599e736fdarow1_col5\" class=\"data row1 col5\" >0.00</td>\n",
       "                        <td id=\"T_073f797c_52f8_11ea_a38b_eb599e736fdarow1_col6\" class=\"data row1 col6\" >-0.00</td>\n",
       "                        <td id=\"T_073f797c_52f8_11ea_a38b_eb599e736fdarow1_col7\" class=\"data row1 col7\" >0.00</td>\n",
       "                        <td id=\"T_073f797c_52f8_11ea_a38b_eb599e736fdarow1_col8\" class=\"data row1 col8\" >-0.00</td>\n",
       "                        <td id=\"T_073f797c_52f8_11ea_a38b_eb599e736fdarow1_col9\" class=\"data row1 col9\" >0.00</td>\n",
       "                        <td id=\"T_073f797c_52f8_11ea_a38b_eb599e736fdarow1_col10\" class=\"data row1 col10\" >0.00</td>\n",
       "                        <td id=\"T_073f797c_52f8_11ea_a38b_eb599e736fdarow1_col11\" class=\"data row1 col11\" >0.00</td>\n",
       "                        <td id=\"T_073f797c_52f8_11ea_a38b_eb599e736fdarow1_col12\" class=\"data row1 col12\" >-0.00</td>\n",
       "            </tr>\n",
       "            <tr>\n",
       "                        <th id=\"T_073f797c_52f8_11ea_a38b_eb599e736fdalevel0_row2\" class=\"row_heading level0 row2\" >std</th>\n",
       "                        <td id=\"T_073f797c_52f8_11ea_a38b_eb599e736fdarow2_col0\" class=\"data row2 col0\" >1.00</td>\n",
       "                        <td id=\"T_073f797c_52f8_11ea_a38b_eb599e736fdarow2_col1\" class=\"data row2 col1\" >1.00</td>\n",
       "                        <td id=\"T_073f797c_52f8_11ea_a38b_eb599e736fdarow2_col2\" class=\"data row2 col2\" >1.00</td>\n",
       "                        <td id=\"T_073f797c_52f8_11ea_a38b_eb599e736fdarow2_col3\" class=\"data row2 col3\" >1.00</td>\n",
       "                        <td id=\"T_073f797c_52f8_11ea_a38b_eb599e736fdarow2_col4\" class=\"data row2 col4\" >1.00</td>\n",
       "                        <td id=\"T_073f797c_52f8_11ea_a38b_eb599e736fdarow2_col5\" class=\"data row2 col5\" >1.00</td>\n",
       "                        <td id=\"T_073f797c_52f8_11ea_a38b_eb599e736fdarow2_col6\" class=\"data row2 col6\" >1.00</td>\n",
       "                        <td id=\"T_073f797c_52f8_11ea_a38b_eb599e736fdarow2_col7\" class=\"data row2 col7\" >1.00</td>\n",
       "                        <td id=\"T_073f797c_52f8_11ea_a38b_eb599e736fdarow2_col8\" class=\"data row2 col8\" >1.00</td>\n",
       "                        <td id=\"T_073f797c_52f8_11ea_a38b_eb599e736fdarow2_col9\" class=\"data row2 col9\" >1.00</td>\n",
       "                        <td id=\"T_073f797c_52f8_11ea_a38b_eb599e736fdarow2_col10\" class=\"data row2 col10\" >1.00</td>\n",
       "                        <td id=\"T_073f797c_52f8_11ea_a38b_eb599e736fdarow2_col11\" class=\"data row2 col11\" >1.00</td>\n",
       "                        <td id=\"T_073f797c_52f8_11ea_a38b_eb599e736fdarow2_col12\" class=\"data row2 col12\" >1.00</td>\n",
       "            </tr>\n",
       "            <tr>\n",
       "                        <th id=\"T_073f797c_52f8_11ea_a38b_eb599e736fdalevel0_row3\" class=\"row_heading level0 row3\" >min</th>\n",
       "                        <td id=\"T_073f797c_52f8_11ea_a38b_eb599e736fdarow3_col0\" class=\"data row3 col0\" >-0.43</td>\n",
       "                        <td id=\"T_073f797c_52f8_11ea_a38b_eb599e736fdarow3_col1\" class=\"data row3 col1\" >-0.50</td>\n",
       "                        <td id=\"T_073f797c_52f8_11ea_a38b_eb599e736fdarow3_col2\" class=\"data row3 col2\" >-1.59</td>\n",
       "                        <td id=\"T_073f797c_52f8_11ea_a38b_eb599e736fdarow3_col3\" class=\"data row3 col3\" >-0.28</td>\n",
       "                        <td id=\"T_073f797c_52f8_11ea_a38b_eb599e736fdarow3_col4\" class=\"data row3 col4\" >-1.48</td>\n",
       "                        <td id=\"T_073f797c_52f8_11ea_a38b_eb599e736fdarow3_col5\" class=\"data row3 col5\" >-3.93</td>\n",
       "                        <td id=\"T_073f797c_52f8_11ea_a38b_eb599e736fdarow3_col6\" class=\"data row3 col6\" >-2.33</td>\n",
       "                        <td id=\"T_073f797c_52f8_11ea_a38b_eb599e736fdarow3_col7\" class=\"data row3 col7\" >-1.25</td>\n",
       "                        <td id=\"T_073f797c_52f8_11ea_a38b_eb599e736fdarow3_col8\" class=\"data row3 col8\" >-1.01</td>\n",
       "                        <td id=\"T_073f797c_52f8_11ea_a38b_eb599e736fdarow3_col9\" class=\"data row3 col9\" >-1.35</td>\n",
       "                        <td id=\"T_073f797c_52f8_11ea_a38b_eb599e736fdarow3_col10\" class=\"data row3 col10\" >-2.69</td>\n",
       "                        <td id=\"T_073f797c_52f8_11ea_a38b_eb599e736fdarow3_col11\" class=\"data row3 col11\" >-3.63</td>\n",
       "                        <td id=\"T_073f797c_52f8_11ea_a38b_eb599e736fdarow3_col12\" class=\"data row3 col12\" >-1.52</td>\n",
       "            </tr>\n",
       "            <tr>\n",
       "                        <th id=\"T_073f797c_52f8_11ea_a38b_eb599e736fdalevel0_row4\" class=\"row_heading level0 row4\" >25%</th>\n",
       "                        <td id=\"T_073f797c_52f8_11ea_a38b_eb599e736fdarow4_col0\" class=\"data row4 col0\" >-0.42</td>\n",
       "                        <td id=\"T_073f797c_52f8_11ea_a38b_eb599e736fdarow4_col1\" class=\"data row4 col1\" >-0.50</td>\n",
       "                        <td id=\"T_073f797c_52f8_11ea_a38b_eb599e736fdarow4_col2\" class=\"data row4 col2\" >-0.89</td>\n",
       "                        <td id=\"T_073f797c_52f8_11ea_a38b_eb599e736fdarow4_col3\" class=\"data row4 col3\" >-0.28</td>\n",
       "                        <td id=\"T_073f797c_52f8_11ea_a38b_eb599e736fdarow4_col4\" class=\"data row4 col4\" >-0.92</td>\n",
       "                        <td id=\"T_073f797c_52f8_11ea_a38b_eb599e736fdarow4_col5\" class=\"data row4 col5\" >-0.56</td>\n",
       "                        <td id=\"T_073f797c_52f8_11ea_a38b_eb599e736fdarow4_col6\" class=\"data row4 col6\" >-0.83</td>\n",
       "                        <td id=\"T_073f797c_52f8_11ea_a38b_eb599e736fdarow4_col7\" class=\"data row4 col7\" >-0.81</td>\n",
       "                        <td id=\"T_073f797c_52f8_11ea_a38b_eb599e736fdarow4_col8\" class=\"data row4 col8\" >-0.67</td>\n",
       "                        <td id=\"T_073f797c_52f8_11ea_a38b_eb599e736fdarow4_col9\" class=\"data row4 col9\" >-0.76</td>\n",
       "                        <td id=\"T_073f797c_52f8_11ea_a38b_eb599e736fdarow4_col10\" class=\"data row4 col10\" >-0.51</td>\n",
       "                        <td id=\"T_073f797c_52f8_11ea_a38b_eb599e736fdarow4_col11\" class=\"data row4 col11\" >0.20</td>\n",
       "                        <td id=\"T_073f797c_52f8_11ea_a38b_eb599e736fdarow4_col12\" class=\"data row4 col12\" >-0.78</td>\n",
       "            </tr>\n",
       "            <tr>\n",
       "                        <th id=\"T_073f797c_52f8_11ea_a38b_eb599e736fdalevel0_row5\" class=\"row_heading level0 row5\" >50%</th>\n",
       "                        <td id=\"T_073f797c_52f8_11ea_a38b_eb599e736fdarow5_col0\" class=\"data row5 col0\" >-0.39</td>\n",
       "                        <td id=\"T_073f797c_52f8_11ea_a38b_eb599e736fdarow5_col1\" class=\"data row5 col1\" >-0.50</td>\n",
       "                        <td id=\"T_073f797c_52f8_11ea_a38b_eb599e736fdarow5_col2\" class=\"data row5 col2\" >-0.21</td>\n",
       "                        <td id=\"T_073f797c_52f8_11ea_a38b_eb599e736fdarow5_col3\" class=\"data row5 col3\" >-0.28</td>\n",
       "                        <td id=\"T_073f797c_52f8_11ea_a38b_eb599e736fdarow5_col4\" class=\"data row5 col4\" >-0.17</td>\n",
       "                        <td id=\"T_073f797c_52f8_11ea_a38b_eb599e736fdarow5_col5\" class=\"data row5 col5\" >-0.10</td>\n",
       "                        <td id=\"T_073f797c_52f8_11ea_a38b_eb599e736fdarow5_col6\" class=\"data row5 col6\" >0.30</td>\n",
       "                        <td id=\"T_073f797c_52f8_11ea_a38b_eb599e736fdarow5_col7\" class=\"data row5 col7\" >-0.29</td>\n",
       "                        <td id=\"T_073f797c_52f8_11ea_a38b_eb599e736fdarow5_col8\" class=\"data row5 col8\" >-0.56</td>\n",
       "                        <td id=\"T_073f797c_52f8_11ea_a38b_eb599e736fdarow5_col9\" class=\"data row5 col9\" >-0.49</td>\n",
       "                        <td id=\"T_073f797c_52f8_11ea_a38b_eb599e736fdarow5_col10\" class=\"data row5 col10\" >0.26</td>\n",
       "                        <td id=\"T_073f797c_52f8_11ea_a38b_eb599e736fdarow5_col11\" class=\"data row5 col11\" >0.40</td>\n",
       "                        <td id=\"T_073f797c_52f8_11ea_a38b_eb599e736fdarow5_col12\" class=\"data row5 col12\" >-0.18</td>\n",
       "            </tr>\n",
       "            <tr>\n",
       "                        <th id=\"T_073f797c_52f8_11ea_a38b_eb599e736fdalevel0_row6\" class=\"row_heading level0 row6\" >75%</th>\n",
       "                        <td id=\"T_073f797c_52f8_11ea_a38b_eb599e736fdarow6_col0\" class=\"data row6 col0\" >0.02</td>\n",
       "                        <td id=\"T_073f797c_52f8_11ea_a38b_eb599e736fdarow6_col1\" class=\"data row6 col1\" >0.33</td>\n",
       "                        <td id=\"T_073f797c_52f8_11ea_a38b_eb599e736fdarow6_col2\" class=\"data row6 col2\" >1.02</td>\n",
       "                        <td id=\"T_073f797c_52f8_11ea_a38b_eb599e736fdarow6_col3\" class=\"data row6 col3\" >-0.28</td>\n",
       "                        <td id=\"T_073f797c_52f8_11ea_a38b_eb599e736fdarow6_col4\" class=\"data row6 col4\" >0.63</td>\n",
       "                        <td id=\"T_073f797c_52f8_11ea_a38b_eb599e736fdarow6_col5\" class=\"data row6 col5\" >0.46</td>\n",
       "                        <td id=\"T_073f797c_52f8_11ea_a38b_eb599e736fdarow6_col6\" class=\"data row6 col6\" >0.92</td>\n",
       "                        <td id=\"T_073f797c_52f8_11ea_a38b_eb599e736fdarow6_col7\" class=\"data row6 col7\" >0.63</td>\n",
       "                        <td id=\"T_073f797c_52f8_11ea_a38b_eb599e736fdarow6_col8\" class=\"data row6 col8\" >1.58</td>\n",
       "                        <td id=\"T_073f797c_52f8_11ea_a38b_eb599e736fdarow6_col9\" class=\"data row6 col9\" >1.50</td>\n",
       "                        <td id=\"T_073f797c_52f8_11ea_a38b_eb599e736fdarow6_col10\" class=\"data row6 col10\" >0.76</td>\n",
       "                        <td id=\"T_073f797c_52f8_11ea_a38b_eb599e736fdarow6_col11\" class=\"data row6 col11\" >0.46</td>\n",
       "                        <td id=\"T_073f797c_52f8_11ea_a38b_eb599e736fdarow6_col12\" class=\"data row6 col12\" >0.58</td>\n",
       "            </tr>\n",
       "            <tr>\n",
       "                        <th id=\"T_073f797c_52f8_11ea_a38b_eb599e736fdalevel0_row7\" class=\"row_heading level0 row7\" >max</th>\n",
       "                        <td id=\"T_073f797c_52f8_11ea_a38b_eb599e736fdarow7_col0\" class=\"data row7 col0\" >9.30</td>\n",
       "                        <td id=\"T_073f797c_52f8_11ea_a38b_eb599e736fdarow7_col1\" class=\"data row7 col1\" >3.76</td>\n",
       "                        <td id=\"T_073f797c_52f8_11ea_a38b_eb599e736fdarow7_col2\" class=\"data row7 col2\" >2.45</td>\n",
       "                        <td id=\"T_073f797c_52f8_11ea_a38b_eb599e736fdarow7_col3\" class=\"data row7 col3\" >3.62</td>\n",
       "                        <td id=\"T_073f797c_52f8_11ea_a38b_eb599e736fdarow7_col4\" class=\"data row7 col4\" >2.68</td>\n",
       "                        <td id=\"T_073f797c_52f8_11ea_a38b_eb599e736fdarow7_col5\" class=\"data row7 col5\" >3.61</td>\n",
       "                        <td id=\"T_073f797c_52f8_11ea_a38b_eb599e736fdarow7_col6\" class=\"data row7 col6\" >1.12</td>\n",
       "                        <td id=\"T_073f797c_52f8_11ea_a38b_eb599e736fdarow7_col7\" class=\"data row7 col7\" >3.82</td>\n",
       "                        <td id=\"T_073f797c_52f8_11ea_a38b_eb599e736fdarow7_col8\" class=\"data row7 col8\" >1.58</td>\n",
       "                        <td id=\"T_073f797c_52f8_11ea_a38b_eb599e736fdarow7_col9\" class=\"data row7 col9\" >1.76</td>\n",
       "                        <td id=\"T_073f797c_52f8_11ea_a38b_eb599e736fdarow7_col10\" class=\"data row7 col10\" >1.58</td>\n",
       "                        <td id=\"T_073f797c_52f8_11ea_a38b_eb599e736fdarow7_col11\" class=\"data row7 col11\" >0.47</td>\n",
       "                        <td id=\"T_073f797c_52f8_11ea_a38b_eb599e736fdarow7_col12\" class=\"data row7 col12\" >3.49</td>\n",
       "            </tr>\n",
       "    </tbody></table>"
      ],
      "text/plain": [
       "<pandas.io.formats.style.Styler at 0x7faa9625a3d0>"
      ]
     },
     "metadata": {},
     "output_type": "display_data"
    }
   ],
   "source": [
    "display(x_train.describe().style.format(\"{0:.2f}\").set_caption(\"Before normalization :\"))\n",
    "\n",
    "mean = x_train.mean()\n",
    "std  = x_train.std()\n",
    "x_train = (x_train - mean) / std\n",
    "x_test  = (x_test  - mean) / std\n",
    "\n",
    "display(x_train.describe().style.format(\"{0:.2f}\").set_caption(\"After normalization :\"))\n",
    "\n",
    "x_train, y_train = np.array(x_train), np.array(y_train)\n",
    "x_test,  y_test  = np.array(x_test),  np.array(y_test)\n"
   ]
  },
  {
   "cell_type": "markdown",
   "metadata": {},
   "source": [
    "## Step 4 - Build a model\n",
    "More informations about : \n",
    " - [Optimizer](https://www.tensorflow.org/api_docs/python/tf/keras/optimizers)\n",
    " - [Activation](https://www.tensorflow.org/api_docs/python/tf/keras/activations)\n",
    " - [Loss](https://www.tensorflow.org/api_docs/python/tf/keras/losses)\n",
    " - [Metrics](https://www.tensorflow.org/api_docs/python/tf/keras/metrics)"
   ]
  },
  {
   "cell_type": "code",
   "execution_count": 5,
   "metadata": {},
   "outputs": [],
   "source": [
    "  def get_model_v1(shape):\n",
    "    \n",
    "    model = keras.models.Sequential()\n",
    "    model.add(keras.layers.Input(shape, name=\"InputLayer\"))\n",
    "    model.add(keras.layers.Dense(64, activation='relu', name='Dense_n1'))\n",
    "    model.add(keras.layers.Dense(64, activation='relu', name='Dense_n2'))\n",
    "    model.add(keras.layers.Dense(1, name='Output'))\n",
    "    \n",
    "    model.compile(optimizer = 'rmsprop',\n",
    "                  loss      = 'mse',\n",
    "                  metrics   = ['mae', 'mse'] )\n",
    "    return model"
   ]
  },
  {
   "cell_type": "markdown",
   "metadata": {},
   "source": [
    "## 5 - Train the model\n",
    "### 5.1 - Get it"
   ]
  },
  {
   "cell_type": "code",
   "execution_count": 6,
   "metadata": {},
   "outputs": [
    {
     "name": "stdout",
     "output_type": "stream",
     "text": [
      "Model: \"sequential\"\n",
      "_________________________________________________________________\n",
      "Layer (type)                 Output Shape              Param #   \n",
      "=================================================================\n",
      "Dense_n1 (Dense)             (None, 64)                896       \n",
      "_________________________________________________________________\n",
      "Dense_n2 (Dense)             (None, 64)                4160      \n",
      "_________________________________________________________________\n",
      "Output (Dense)               (None, 1)                 65        \n",
      "=================================================================\n",
      "Total params: 5,121\n",
      "Trainable params: 5,121\n",
      "Non-trainable params: 0\n",
      "_________________________________________________________________\n"
     ]
    },
    {
     "data": {
      "image/png": "[encoded data removed]",
      "text/plain": [
       "<IPython.core.display.Image object>"
      ]
     },
     "execution_count": 6,
     "metadata": {},
     "output_type": "execute_result"
    }
   ],
   "source": [
    "model=get_model_v1( (13,) )\n",
    "\n",
    "model.summary()\n",
    "keras.utils.plot_model( model, to_file='./run/model.png', show_shapes=True, show_layer_names=True, dpi=96)"
   ]
  },
  {
   "cell_type": "markdown",
   "metadata": {},
   "source": [
    "### 5.2 - Add callback"
   ]
  },
  {
   "cell_type": "code",
   "execution_count": 7,
   "metadata": {},
   "outputs": [],
   "source": [
    "os.makedirs('./run/models',   mode=0o750, exist_ok=True)\n",
    "save_dir = \"./run/models/best_model.h5\"\n",
    "\n",
    "savemodel_callback = tf.keras.callbacks.ModelCheckpoint(filepath=save_dir, verbose=0, save_best_only=True)"
   ]
  },
  {
   "cell_type": "markdown",
   "metadata": {},
   "source": [
    "### 5.3 - Train it"
   ]
  },
  {
   "cell_type": "code",
   "execution_count": 8,
   "metadata": {},
   "outputs": [
    {
     "name": "stdout",
     "output_type": "stream",
     "text": [
      "Train on 354 samples, validate on 152 samples\n",
      "Epoch 1/100\n",
      "354/354 [==============================] - 1s 2ms/sample - loss: 483.2389 - mae: 20.0008 - mse: 483.2388 - val_loss: 421.2562 - val_mae: 18.2848 - val_mse: 421.2561\n",
      "Epoch 2/100\n",
      "354/354 [==============================] - 0s 232us/sample - loss: 270.7346 - mae: 13.9655 - mse: 270.7346 - val_loss: 187.7437 - val_mae: 10.9696 - val_mse: 187.7437\n",
      "Epoch 3/100\n",
      "354/354 [==============================] - 0s 223us/sample - loss: 108.5703 - mae: 7.5648 - mse: 108.5703 - val_loss: 70.6387 - val_mae: 6.1047 - val_mse: 70.6387\n",
      "Epoch 4/100\n",
      "354/354 [==============================] - 0s 234us/sample - loss: 53.8803 - mae: 5.1135 - mse: 53.8803 - val_loss: 40.0765 - val_mae: 4.6628 - val_mse: 40.0765\n",
      "Epoch 5/100\n",
      "354/354 [==============================] - 0s 223us/sample - loss: 34.2413 - mae: 4.1321 - mse: 34.2413 - val_loss: 29.1298 - val_mae: 3.8690 - val_mse: 29.1298\n",
      "Epoch 6/100\n",
      "354/354 [==============================] - 0s 226us/sample - loss: 24.9834 - mae: 3.4851 - mse: 24.9834 - val_loss: 22.8731 - val_mae: 3.3820 - val_mse: 22.8731\n",
      "Epoch 7/100\n",
      "354/354 [==============================] - 0s 228us/sample - loss: 21.2207 - mae: 3.2139 - mse: 21.2207 - val_loss: 20.9766 - val_mae: 3.2391 - val_mse: 20.9766\n",
      "Epoch 8/100\n",
      "354/354 [==============================] - 0s 223us/sample - loss: 19.2641 - mae: 3.0025 - mse: 19.2641 - val_loss: 19.5046 - val_mae: 3.0795 - val_mse: 19.5046\n",
      "Epoch 9/100\n",
      "354/354 [==============================] - 0s 220us/sample - loss: 17.8432 - mae: 2.8878 - mse: 17.8432 - val_loss: 18.3068 - val_mae: 3.0834 - val_mse: 18.3068\n",
      "Epoch 10/100\n",
      "354/354 [==============================] - 0s 224us/sample - loss: 16.7673 - mae: 2.7365 - mse: 16.7673 - val_loss: 17.4260 - val_mae: 3.0035 - val_mse: 17.4260\n",
      "Epoch 11/100\n",
      "354/354 [==============================] - 0s 225us/sample - loss: 15.6927 - mae: 2.6873 - mse: 15.6927 - val_loss: 17.3096 - val_mae: 3.0492 - val_mse: 17.3096\n",
      "Epoch 12/100\n",
      "354/354 [==============================] - 0s 222us/sample - loss: 15.4113 - mae: 2.6274 - mse: 15.4113 - val_loss: 15.7095 - val_mae: 2.8104 - val_mse: 15.7095\n",
      "Epoch 13/100\n",
      "354/354 [==============================] - 0s 220us/sample - loss: 14.7243 - mae: 2.5393 - mse: 14.7243 - val_loss: 15.6497 - val_mae: 2.9052 - val_mse: 15.6497\n",
      "Epoch 14/100\n",
      "354/354 [==============================] - 0s 228us/sample - loss: 14.2611 - mae: 2.5371 - mse: 14.2611 - val_loss: 14.9650 - val_mae: 2.8165 - val_mse: 14.9650\n",
      "Epoch 15/100\n",
      "354/354 [==============================] - 0s 222us/sample - loss: 14.0530 - mae: 2.5289 - mse: 14.0530 - val_loss: 14.8840 - val_mae: 2.8196 - val_mse: 14.8840\n",
      "Epoch 16/100\n",
      "354/354 [==============================] - 0s 224us/sample - loss: 13.3820 - mae: 2.4568 - mse: 13.3820 - val_loss: 13.7568 - val_mae: 2.6754 - val_mse: 13.7568\n",
      "Epoch 17/100\n",
      "354/354 [==============================] - 0s 218us/sample - loss: 13.2232 - mae: 2.4318 - mse: 13.2232 - val_loss: 13.6934 - val_mae: 2.6355 - val_mse: 13.6934\n",
      "Epoch 18/100\n",
      "354/354 [==============================] - 0s 183us/sample - loss: 12.8038 - mae: 2.3743 - mse: 12.8038 - val_loss: 13.7276 - val_mae: 2.6466 - val_mse: 13.7276\n",
      "Epoch 19/100\n",
      "354/354 [==============================] - 0s 223us/sample - loss: 12.4826 - mae: 2.3804 - mse: 12.4826 - val_loss: 13.0037 - val_mae: 2.5279 - val_mse: 13.0037\n",
      "Epoch 20/100\n",
      "354/354 [==============================] - 0s 222us/sample - loss: 12.2345 - mae: 2.3264 - mse: 12.2345 - val_loss: 12.8911 - val_mae: 2.5583 - val_mse: 12.8911\n",
      "Epoch 21/100\n",
      "354/354 [==============================] - 0s 231us/sample - loss: 12.0720 - mae: 2.3410 - mse: 12.0720 - val_loss: 12.5983 - val_mae: 2.5747 - val_mse: 12.5983\n",
      "Epoch 22/100\n",
      "354/354 [==============================] - 0s 224us/sample - loss: 11.7805 - mae: 2.2897 - mse: 11.7805 - val_loss: 12.1645 - val_mae: 2.5094 - val_mse: 12.1645\n",
      "Epoch 23/100\n",
      "354/354 [==============================] - 0s 174us/sample - loss: 11.4012 - mae: 2.2581 - mse: 11.4012 - val_loss: 13.6673 - val_mae: 2.7201 - val_mse: 13.6673\n",
      "Epoch 24/100\n",
      "354/354 [==============================] - 0s 227us/sample - loss: 11.2741 - mae: 2.2712 - mse: 11.2741 - val_loss: 11.6918 - val_mae: 2.4039 - val_mse: 11.6918\n",
      "Epoch 25/100\n",
      "354/354 [==============================] - 0s 179us/sample - loss: 11.2056 - mae: 2.2226 - mse: 11.2056 - val_loss: 12.3935 - val_mae: 2.6021 - val_mse: 12.3935\n",
      "Epoch 26/100\n",
      "354/354 [==============================] - 0s 173us/sample - loss: 10.8629 - mae: 2.2289 - mse: 10.8629 - val_loss: 11.9155 - val_mae: 2.3744 - val_mse: 11.9155\n",
      "Epoch 27/100\n",
      "354/354 [==============================] - 0s 218us/sample - loss: 11.0500 - mae: 2.2151 - mse: 11.0500 - val_loss: 11.2193 - val_mae: 2.3695 - val_mse: 11.2193\n",
      "Epoch 28/100\n",
      "354/354 [==============================] - 0s 180us/sample - loss: 10.4915 - mae: 2.1578 - mse: 10.4915 - val_loss: 11.9919 - val_mae: 2.5344 - val_mse: 11.9919\n",
      "Epoch 29/100\n",
      "354/354 [==============================] - 0s 182us/sample - loss: 10.5519 - mae: 2.1307 - mse: 10.5519 - val_loss: 11.3573 - val_mae: 2.4664 - val_mse: 11.3573\n",
      "Epoch 30/100\n",
      "354/354 [==============================] - 0s 170us/sample - loss: 10.0504 - mae: 2.1281 - mse: 10.0504 - val_loss: 11.7304 - val_mae: 2.5102 - val_mse: 11.7304\n",
      "Epoch 31/100\n",
      "354/354 [==============================] - 0s 216us/sample - loss: 9.8992 - mae: 2.1397 - mse: 9.8992 - val_loss: 10.9137 - val_mae: 2.3602 - val_mse: 10.9137\n",
      "Epoch 32/100\n",
      "354/354 [==============================] - 0s 175us/sample - loss: 9.9473 - mae: 2.0665 - mse: 9.9473 - val_loss: 11.1929 - val_mae: 2.4503 - val_mse: 11.1929\n",
      "Epoch 33/100\n",
      "354/354 [==============================] - 0s 168us/sample - loss: 9.6057 - mae: 2.0609 - mse: 9.6057 - val_loss: 11.5105 - val_mae: 2.4419 - val_mse: 11.5105\n",
      "Epoch 34/100\n",
      "354/354 [==============================] - 0s 178us/sample - loss: 9.6783 - mae: 2.0484 - mse: 9.6783 - val_loss: 11.0130 - val_mae: 2.4072 - val_mse: 11.0130\n",
      "Epoch 35/100\n",
      "354/354 [==============================] - 0s 211us/sample - loss: 9.3834 - mae: 2.0337 - mse: 9.3834 - val_loss: 10.8769 - val_mae: 2.3960 - val_mse: 10.8769\n",
      "Epoch 36/100\n",
      "354/354 [==============================] - 0s 222us/sample - loss: 9.4563 - mae: 2.0349 - mse: 9.4563 - val_loss: 10.7918 - val_mae: 2.4397 - val_mse: 10.7918\n",
      "Epoch 37/100\n",
      "354/354 [==============================] - 0s 223us/sample - loss: 9.4023 - mae: 2.0246 - mse: 9.4023 - val_loss: 10.4927 - val_mae: 2.3926 - val_mse: 10.4927\n",
      "Epoch 38/100\n",
      "354/354 [==============================] - 0s 175us/sample - loss: 8.9702 - mae: 2.0006 - mse: 8.9702 - val_loss: 10.9715 - val_mae: 2.4245 - val_mse: 10.9715\n",
      "Epoch 39/100\n",
      "354/354 [==============================] - 0s 174us/sample - loss: 9.0225 - mae: 2.0207 - mse: 9.0225 - val_loss: 10.9499 - val_mae: 2.4785 - val_mse: 10.9499\n",
      "Epoch 40/100\n",
      "354/354 [==============================] - 0s 177us/sample - loss: 8.8586 - mae: 1.9994 - mse: 8.8586 - val_loss: 10.5540 - val_mae: 2.3401 - val_mse: 10.5540\n",
      "Epoch 41/100\n",
      "354/354 [==============================] - 0s 214us/sample - loss: 8.7666 - mae: 1.9705 - mse: 8.7666 - val_loss: 10.3300 - val_mae: 2.3298 - val_mse: 10.3300\n",
      "Epoch 42/100\n",
      "354/354 [==============================] - 0s 177us/sample - loss: 8.4090 - mae: 1.9556 - mse: 8.4090 - val_loss: 11.9413 - val_mae: 2.5568 - val_mse: 11.9413\n",
      "Epoch 43/100\n",
      "354/354 [==============================] - 0s 216us/sample - loss: 8.4974 - mae: 1.9809 - mse: 8.4974 - val_loss: 10.2694 - val_mae: 2.2804 - val_mse: 10.2694\n",
      "Epoch 44/100\n",
      "354/354 [==============================] - 0s 179us/sample - loss: 8.4512 - mae: 1.9371 - mse: 8.4512 - val_loss: 10.6134 - val_mae: 2.3782 - val_mse: 10.6134\n",
      "Epoch 45/100\n",
      "354/354 [==============================] - 0s 168us/sample - loss: 8.3356 - mae: 1.9116 - mse: 8.3356 - val_loss: 10.5007 - val_mae: 2.3672 - val_mse: 10.5007\n",
      "Epoch 46/100\n",
      "354/354 [==============================] - 0s 220us/sample - loss: 8.0746 - mae: 1.9163 - mse: 8.0746 - val_loss: 9.9081 - val_mae: 2.1968 - val_mse: 9.9081\n",
      "Epoch 47/100\n",
      "354/354 [==============================] - 0s 183us/sample - loss: 8.2374 - mae: 1.9080 - mse: 8.2374 - val_loss: 10.2771 - val_mae: 2.3529 - val_mse: 10.2771\n",
      "Epoch 48/100\n",
      "354/354 [==============================] - 0s 216us/sample - loss: 8.0765 - mae: 1.9000 - mse: 8.0765 - val_loss: 9.7120 - val_mae: 2.1879 - val_mse: 9.7120\n",
      "Epoch 49/100\n",
      "354/354 [==============================] - 0s 163us/sample - loss: 7.7848 - mae: 1.8825 - mse: 7.7848 - val_loss: 10.2084 - val_mae: 2.2360 - val_mse: 10.2084\n",
      "Epoch 50/100\n",
      "354/354 [==============================] - 0s 178us/sample - loss: 7.5973 - mae: 1.8669 - mse: 7.5973 - val_loss: 10.1582 - val_mae: 2.2808 - val_mse: 10.1582\n",
      "Epoch 51/100\n",
      "354/354 [==============================] - 0s 168us/sample - loss: 7.8596 - mae: 1.9102 - mse: 7.8596 - val_loss: 9.9785 - val_mae: 2.3041 - val_mse: 9.9785\n",
      "Epoch 52/100\n",
      "354/354 [==============================] - 0s 172us/sample - loss: 7.5027 - mae: 1.8527 - mse: 7.5027 - val_loss: 10.2315 - val_mae: 2.3614 - val_mse: 10.2315\n",
      "Epoch 53/100\n",
      "354/354 [==============================] - 0s 174us/sample - loss: 7.3160 - mae: 1.8556 - mse: 7.3160 - val_loss: 10.7149 - val_mae: 2.4225 - val_mse: 10.7149\n",
      "Epoch 54/100\n",
      "354/354 [==============================] - 0s 178us/sample - loss: 7.4478 - mae: 1.8692 - mse: 7.4478 - val_loss: 13.1244 - val_mae: 2.7923 - val_mse: 13.1244\n",
      "Epoch 55/100\n",
      "354/354 [==============================] - 0s 222us/sample - loss: 7.2579 - mae: 1.8375 - mse: 7.2579 - val_loss: 9.4053 - val_mae: 2.1927 - val_mse: 9.4053\n",
      "Epoch 56/100\n",
      "354/354 [==============================] - 0s 178us/sample - loss: 7.3045 - mae: 1.8785 - mse: 7.3045 - val_loss: 10.3231 - val_mae: 2.4311 - val_mse: 10.3231\n",
      "Epoch 57/100\n",
      "354/354 [==============================] - 0s 168us/sample - loss: 6.8708 - mae: 1.8047 - mse: 6.8708 - val_loss: 11.3678 - val_mae: 2.6010 - val_mse: 11.3678\n",
      "Epoch 58/100\n",
      "354/354 [==============================] - 0s 180us/sample - loss: 6.9471 - mae: 1.8179 - mse: 6.9471 - val_loss: 10.2855 - val_mae: 2.3937 - val_mse: 10.2855\n",
      "Epoch 59/100\n",
      "354/354 [==============================] - 0s 217us/sample - loss: 6.8858 - mae: 1.7987 - mse: 6.8858 - val_loss: 9.1795 - val_mae: 2.1552 - val_mse: 9.1795\n",
      "Epoch 60/100\n",
      "354/354 [==============================] - 0s 179us/sample - loss: 6.8982 - mae: 1.7783 - mse: 6.8982 - val_loss: 10.0291 - val_mae: 2.3000 - val_mse: 10.0291\n",
      "Epoch 61/100\n",
      "354/354 [==============================] - 0s 168us/sample - loss: 6.8502 - mae: 1.7688 - mse: 6.8502 - val_loss: 9.5141 - val_mae: 2.2370 - val_mse: 9.5141\n",
      "Epoch 62/100\n",
      "354/354 [==============================] - 0s 173us/sample - loss: 6.6801 - mae: 1.7737 - mse: 6.6801 - val_loss: 9.6853 - val_mae: 2.2719 - val_mse: 9.6853\n",
      "Epoch 63/100\n",
      "354/354 [==============================] - 0s 178us/sample - loss: 6.5468 - mae: 1.7479 - mse: 6.5468 - val_loss: 9.5858 - val_mae: 2.2346 - val_mse: 9.5858\n",
      "Epoch 64/100\n",
      "354/354 [==============================] - 0s 172us/sample - loss: 6.3406 - mae: 1.6985 - mse: 6.3406 - val_loss: 9.8893 - val_mae: 2.2439 - val_mse: 9.8893\n",
      "Epoch 65/100\n",
      "354/354 [==============================] - 0s 177us/sample - loss: 6.4070 - mae: 1.7780 - mse: 6.4071 - val_loss: 10.4085 - val_mae: 2.3908 - val_mse: 10.4085\n",
      "Epoch 66/100\n",
      "354/354 [==============================] - 0s 170us/sample - loss: 6.4227 - mae: 1.7042 - mse: 6.4227 - val_loss: 9.5313 - val_mae: 2.1998 - val_mse: 9.5313\n",
      "Epoch 67/100\n",
      "354/354 [==============================] - 0s 178us/sample - loss: 6.3353 - mae: 1.7095 - mse: 6.3353 - val_loss: 9.9436 - val_mae: 2.2965 - val_mse: 9.9436\n",
      "Epoch 68/100\n",
      "354/354 [==============================] - 0s 173us/sample - loss: 5.8545 - mae: 1.6760 - mse: 5.8545 - val_loss: 9.9311 - val_mae: 2.2837 - val_mse: 9.9311\n",
      "Epoch 69/100\n",
      "354/354 [==============================] - 0s 171us/sample - loss: 6.1148 - mae: 1.7286 - mse: 6.1148 - val_loss: 9.6456 - val_mae: 2.1932 - val_mse: 9.6456\n",
      "Epoch 70/100\n",
      "354/354 [==============================] - 0s 179us/sample - loss: 6.0462 - mae: 1.7194 - mse: 6.0462 - val_loss: 10.7485 - val_mae: 2.3224 - val_mse: 10.7485\n",
      "Epoch 71/100\n",
      "354/354 [==============================] - 0s 171us/sample - loss: 5.8132 - mae: 1.7049 - mse: 5.8132 - val_loss: 9.8704 - val_mae: 2.1916 - val_mse: 9.8704\n",
      "Epoch 72/100\n",
      "354/354 [==============================] - 0s 174us/sample - loss: 5.7957 - mae: 1.6492 - mse: 5.7957 - val_loss: 10.0593 - val_mae: 2.3159 - val_mse: 10.0593\n",
      "Epoch 73/100\n",
      "354/354 [==============================] - 0s 178us/sample - loss: 5.9002 - mae: 1.6952 - mse: 5.9002 - val_loss: 10.1425 - val_mae: 2.3594 - val_mse: 10.1425\n",
      "Epoch 74/100\n",
      "354/354 [==============================] - 0s 174us/sample - loss: 5.5721 - mae: 1.6277 - mse: 5.5721 - val_loss: 9.9564 - val_mae: 2.2284 - val_mse: 9.9564\n",
      "Epoch 75/100\n",
      "354/354 [==============================] - 0s 177us/sample - loss: 5.6730 - mae: 1.6669 - mse: 5.6730 - val_loss: 10.0358 - val_mae: 2.2259 - val_mse: 10.0358\n",
      "Epoch 76/100\n",
      "354/354 [==============================] - 0s 168us/sample - loss: 5.5947 - mae: 1.6216 - mse: 5.5947 - val_loss: 9.7815 - val_mae: 2.2282 - val_mse: 9.7815\n",
      "Epoch 77/100\n",
      "354/354 [==============================] - 0s 175us/sample - loss: 5.2870 - mae: 1.6492 - mse: 5.2870 - val_loss: 9.3813 - val_mae: 2.1987 - val_mse: 9.3813\n",
      "Epoch 78/100\n",
      "354/354 [==============================] - 0s 166us/sample - loss: 5.6015 - mae: 1.6183 - mse: 5.6015 - val_loss: 9.5577 - val_mae: 2.2139 - val_mse: 9.5577\n",
      "Epoch 79/100\n",
      "354/354 [==============================] - 0s 191us/sample - loss: 5.3793 - mae: 1.6202 - mse: 5.3793 - val_loss: 9.4099 - val_mae: 2.1957 - val_mse: 9.4099\n",
      "Epoch 80/100\n",
      "354/354 [==============================] - 0s 172us/sample - loss: 5.4258 - mae: 1.5943 - mse: 5.4258 - val_loss: 9.7489 - val_mae: 2.2233 - val_mse: 9.7489\n",
      "Epoch 81/100\n",
      "354/354 [==============================] - 0s 181us/sample - loss: 5.3006 - mae: 1.5934 - mse: 5.3006 - val_loss: 10.0298 - val_mae: 2.2258 - val_mse: 10.0298\n",
      "Epoch 82/100\n",
      "354/354 [==============================] - 0s 177us/sample - loss: 5.2590 - mae: 1.5854 - mse: 5.2590 - val_loss: 9.9642 - val_mae: 2.2718 - val_mse: 9.9642\n",
      "Epoch 83/100\n",
      "354/354 [==============================] - 0s 178us/sample - loss: 5.1325 - mae: 1.5765 - mse: 5.1325 - val_loss: 10.0795 - val_mae: 2.2524 - val_mse: 10.0795\n",
      "Epoch 84/100\n",
      "354/354 [==============================] - 0s 174us/sample - loss: 5.0736 - mae: 1.5846 - mse: 5.0736 - val_loss: 10.1607 - val_mae: 2.3146 - val_mse: 10.1607\n",
      "Epoch 85/100\n",
      "354/354 [==============================] - 0s 168us/sample - loss: 5.0863 - mae: 1.5598 - mse: 5.0863 - val_loss: 10.0663 - val_mae: 2.2961 - val_mse: 10.0663\n",
      "Epoch 86/100\n",
      "354/354 [==============================] - 0s 175us/sample - loss: 5.0422 - mae: 1.5758 - mse: 5.0422 - val_loss: 9.3842 - val_mae: 2.2033 - val_mse: 9.3842\n",
      "Epoch 87/100\n",
      "354/354 [==============================] - 0s 179us/sample - loss: 4.8308 - mae: 1.5587 - mse: 4.8308 - val_loss: 9.4605 - val_mae: 2.1797 - val_mse: 9.4605\n",
      "Epoch 88/100\n",
      "354/354 [==============================] - 0s 172us/sample - loss: 4.7424 - mae: 1.5468 - mse: 4.7424 - val_loss: 12.0587 - val_mae: 2.6306 - val_mse: 12.0587\n",
      "Epoch 89/100\n",
      "354/354 [==============================] - 0s 172us/sample - loss: 4.9329 - mae: 1.5937 - mse: 4.9329 - val_loss: 9.9514 - val_mae: 2.2366 - val_mse: 9.9514\n",
      "Epoch 90/100\n",
      "354/354 [==============================] - 0s 176us/sample - loss: 4.7181 - mae: 1.5625 - mse: 4.7181 - val_loss: 9.6245 - val_mae: 2.1626 - val_mse: 9.6245\n",
      "Epoch 91/100\n",
      "354/354 [==============================] - 0s 182us/sample - loss: 4.6726 - mae: 1.5040 - mse: 4.6726 - val_loss: 9.9543 - val_mae: 2.2394 - val_mse: 9.9543\n",
      "Epoch 92/100\n",
      "354/354 [==============================] - 0s 180us/sample - loss: 4.7058 - mae: 1.5416 - mse: 4.7058 - val_loss: 10.6368 - val_mae: 2.3900 - val_mse: 10.6368\n",
      "Epoch 93/100\n",
      "354/354 [==============================] - 0s 176us/sample - loss: 4.6515 - mae: 1.5235 - mse: 4.6515 - val_loss: 10.0118 - val_mae: 2.2661 - val_mse: 10.0118\n",
      "Epoch 94/100\n",
      "354/354 [==============================] - 0s 163us/sample - loss: 4.6973 - mae: 1.5262 - mse: 4.6973 - val_loss: 9.4214 - val_mae: 2.1961 - val_mse: 9.4214\n",
      "Epoch 95/100\n",
      "354/354 [==============================] - 0s 174us/sample - loss: 4.7056 - mae: 1.5392 - mse: 4.7056 - val_loss: 9.6110 - val_mae: 2.1998 - val_mse: 9.6110\n",
      "Epoch 96/100\n",
      "354/354 [==============================] - 0s 167us/sample - loss: 4.4156 - mae: 1.4496 - mse: 4.4156 - val_loss: 10.1083 - val_mae: 2.3143 - val_mse: 10.1083\n",
      "Epoch 97/100\n",
      "354/354 [==============================] - 0s 173us/sample - loss: 4.5201 - mae: 1.5019 - mse: 4.5201 - val_loss: 9.7179 - val_mae: 2.2635 - val_mse: 9.7179\n",
      "Epoch 98/100\n",
      "354/354 [==============================] - 0s 179us/sample - loss: 4.3824 - mae: 1.4403 - mse: 4.3824 - val_loss: 10.2802 - val_mae: 2.2846 - val_mse: 10.2802\n",
      "Epoch 99/100\n",
      "354/354 [==============================] - 0s 175us/sample - loss: 4.3252 - mae: 1.4806 - mse: 4.3252 - val_loss: 9.5943 - val_mae: 2.1745 - val_mse: 9.5943\n",
      "Epoch 100/100\n",
      "354/354 [==============================] - 0s 178us/sample - loss: 4.4134 - mae: 1.4451 - mse: 4.4134 - val_loss: 12.2396 - val_mae: 2.6152 - val_mse: 12.2396\n"
     ]
    }
   ],
   "source": [
    "history = model.fit(x_train,\n",
    "                    y_train,\n",
    "                    epochs          = 100,\n",
    "                    batch_size      = 10,\n",
    "                    verbose         = 1,\n",
    "                    validation_data = (x_test, y_test),\n",
    "                    callbacks       = [savemodel_callback])"
   ]
  },
  {
   "cell_type": "markdown",
   "metadata": {},
   "source": [
    "## Step 6 - Evaluate\n",
    "### 6.1 - Model evaluation\n",
    "MAE =  Mean Absolute Error (between the labels and predictions)  \n",
    "A mae equal to 3 represents an average error in prediction of $3k."
   ]
  },
  {
   "cell_type": "code",
   "execution_count": 9,
   "metadata": {},
   "outputs": [
    {
     "name": "stdout",
     "output_type": "stream",
     "text": [
      "x_test / loss      : 12.2396\n",
      "x_test / mae       : 2.6152\n",
      "x_test / mse       : 12.2396\n"
     ]
    }
   ],
   "source": [
    "score = model.evaluate(x_test, y_test, verbose=0)\n",
    "\n",
    "print('x_test / loss      : {:5.4f}'.format(score[0]))\n",
    "print('x_test / mae       : {:5.4f}'.format(score[1]))\n",
    "print('x_test / mse       : {:5.4f}'.format(score[2]))"
   ]
  },
  {
   "cell_type": "markdown",
   "metadata": {},
   "source": [
    "### 6.2 - Training history\n",
    "What was the best result during our training ?"
   ]
  },
  {
   "cell_type": "code",
   "execution_count": 10,
   "metadata": {},
   "outputs": [
    {
     "name": "stdout",
     "output_type": "stream",
     "text": [
      "min( val_mae ) : 2.1552\n"
     ]
    }
   ],
   "source": [
    "print(\"min( val_mae ) : {:.4f}\".format( min(history.history[\"val_mae\"]) ) )"
   ]
  },
  {
   "cell_type": "code",
   "execution_count": 11,
   "metadata": {},
   "outputs": [
    {
     "data": {
      "image/png": "[encoded data removed]",
      "text/plain": [
       "<Figure size 576x432 with 1 Axes>"
      ]
     },
     "metadata": {
      "needs_background": "light"
     },
     "output_type": "display_data"
    },
    {
     "data": {
      "image/png": "[encoded data removed]",
      "text/plain": [
       "<Figure size 576x432 with 1 Axes>"
      ]
     },
     "metadata": {
      "needs_background": "light"
     },
     "output_type": "display_data"
    },
    {
     "data": {
      "image/png": "[encoded data removed]",
      "text/plain": [
       "<Figure size 576x432 with 1 Axes>"
      ]
     },
     "metadata": {
      "needs_background": "light"
     },
     "output_type": "display_data"
    }
   ],
   "source": [
    "ooo.plot_history(history, plot={'MSE' :['mse', 'val_mse'],\n",
    "                                'MAE' :['mae', 'val_mae'],\n",
    "                                'LOSS':['loss','val_loss']})"
   ]
  },
  {
   "cell_type": "markdown",
   "metadata": {},
   "source": [
    "## Step 7 - Restore a model :"
   ]
  },
  {
   "cell_type": "markdown",
   "metadata": {},
   "source": [
    "### 7.1 - Reload model"
   ]
  },
  {
   "cell_type": "code",
   "execution_count": 12,
   "metadata": {},
   "outputs": [
    {
     "name": "stdout",
     "output_type": "stream",
     "text": [
      "Model: \"sequential\"\n",
      "_________________________________________________________________\n",
      "Layer (type)                 Output Shape              Param #   \n",
      "=================================================================\n",
      "Dense_n1 (Dense)             (None, 64)                896       \n",
      "_________________________________________________________________\n",
      "Dense_n2 (Dense)             (None, 64)                4160      \n",
      "_________________________________________________________________\n",
      "Output (Dense)               (None, 1)                 65        \n",
      "=================================================================\n",
      "Total params: 5,121\n",
      "Trainable params: 5,121\n",
      "Non-trainable params: 0\n",
      "_________________________________________________________________\n",
      "Loaded.\n"
     ]
    }
   ],
   "source": [
    "loaded_model = tf.keras.models.load_model('./run/models/best_model.h5')\n",
    "loaded_model.summary()\n",
    "print(\"Loaded.\")"
   ]
  },
  {
   "cell_type": "markdown",
   "metadata": {},
   "source": [
    "### 7.2 - Evaluate it :"
   ]
  },
  {
   "cell_type": "code",
   "execution_count": 13,
   "metadata": {},
   "outputs": [
    {
     "name": "stdout",
     "output_type": "stream",
     "text": [
      "x_test / loss      : 9.1795\n",
      "x_test / mae       : 2.1552\n",
      "x_test / mse       : 9.1795\n"
     ]
    }
   ],
   "source": [
    "score = loaded_model.evaluate(x_test, y_test, verbose=0)\n",
    "\n",
    "print('x_test / loss      : {:5.4f}'.format(score[0]))\n",
    "print('x_test / mae       : {:5.4f}'.format(score[1]))\n",
    "print('x_test / mse       : {:5.4f}'.format(score[2]))"
   ]
  },
  {
   "cell_type": "markdown",
   "metadata": {},
   "source": [
    "### 7.3 - Make a prediction"
   ]
  },
  {
   "cell_type": "code",
   "execution_count": 14,
   "metadata": {},
   "outputs": [],
   "source": [
    "mon_test=[-0.20113196, -0.48631663,  1.23572348, -0.26929877,  2.67879106,\n",
    "       -0.89623587,  1.09961251, -1.05826704, -0.55823117, -0.06159088,\n",
    "       -1.76085159, -1.97039608,  0.52775666]\n",
    "\n",
    "mon_test=np.array(mon_test).reshape(1,13)"
   ]
  },
  {
   "cell_type": "code",
   "execution_count": 15,
   "metadata": {},
   "outputs": [
    {
     "name": "stdout",
     "output_type": "stream",
     "text": [
      "Prédiction : 16.51 K$   Reality : 20.20 K$\n"
     ]
    }
   ],
   "source": [
    "predictions = loaded_model.predict( mon_test )\n",
    "print(\"Prédiction : {:.2f} K$   Reality : {:.2f} K$\".format(predictions[0][0], y_train[13]))"
   ]
  },
  {
   "cell_type": "markdown",
   "metadata": {},
   "source": [
    "---\n",
    "![](../fidle/img/00-Fidle-logo-01_s.png)"
   ]
  }
 ],
 "metadata": {
  "kernelspec": {
   "display_name": "Python 3",
   "language": "python",
   "name": "python3"
  },
  "language_info": {
   "codemirror_mode": {
    "name": "ipython",
    "version": 3
   },
   "file_extension": ".py",
   "mimetype": "text/x-python",
   "name": "python",
   "nbconvert_exporter": "python",
   "pygments_lexer": "ipython3",
   "version": "3.7.6"
  }
 },
 "nbformat": 4,
 "nbformat_minor": 4
}
