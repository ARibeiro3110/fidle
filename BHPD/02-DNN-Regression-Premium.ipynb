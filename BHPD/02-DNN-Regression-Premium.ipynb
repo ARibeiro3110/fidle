{
 "cells": [
  {
   "cell_type": "markdown",
   "metadata": {},
   "source": [
    "<img width=\"800px\" src=\"../fidle/img/00-Fidle-header-01.svg\"></img>\n",
    "\n",
    "# <!-- TITLE --> [BHP2] - Regression with a Dense Network (DNN) - Advanced code\n",
    "  <!-- DESC -->  More advanced example of DNN network code - BHPD dataset\n",
    "  <!-- AUTHOR : Jean-Luc Parouty (CNRS/SIMaP) -->\n",
    "\n",
    "## Objectives :\n",
    " - Predicts **housing prices** from a set of house features. \n",
    " - Understanding the principle and the architecture of a regression with a dense neural network with backup and restore of the trained model. \n",
    "\n",
    "The **[Boston Housing Dataset](https://www.cs.toronto.edu/~delve/data/boston/bostonDetail.html)** consists of price of houses in various places in Boston.  \n",
    "Alongside with price, the dataset also provide these information :\n",
    "\n",
    " - CRIM: This is the per capita crime rate by town\n",
    " - ZN: This is the proportion of residential land zoned for lots larger than 25,000 sq.ft\n",
    " - INDUS: This is the proportion of non-retail business acres per town\n",
    " - CHAS: This is the Charles River dummy variable (this is equal to 1 if tract bounds river; 0 otherwise)\n",
    " - NOX: This is the nitric oxides concentration (parts per 10 million)\n",
    " - RM: This is the average number of rooms per dwelling\n",
    " - AGE: This is the proportion of owner-occupied units built prior to 1940\n",
    " - DIS: This is the weighted distances to five Boston employment centers\n",
    " - RAD: This is the index of accessibility to radial highways\n",
    " - TAX: This is the full-value property-tax rate per 10,000 dollars\n",
    " - PTRATIO: This is the pupil-teacher ratio by town\n",
    " - B: This is calculated as 1000(Bk — 0.63)^2, where Bk is the proportion of people of African American descent by town\n",
    " - LSTAT: This is the percentage lower status of the population\n",
    " - MEDV: This is the median value of owner-occupied homes in 1000 dollars\n",
    "\n",
    "## What we're going to do :\n",
    "\n",
    " - (Retrieve data)\n",
    " - (Preparing the data)\n",
    " - (Build a model)\n",
    " - Train and save the model\n",
    " - Restore saved model\n",
    " - Evaluate the model\n",
    " - Make some predictions\n"
   ]
  },
  {
   "cell_type": "markdown",
   "metadata": {},
   "source": [
    "## Step 1 - Import and init"
   ]
  },
  {
   "cell_type": "code",
   "execution_count": 1,
   "metadata": {},
   "outputs": [
    {
     "data": {
      "text/html": [
       "<style>\n",
       "\n",
       "div.warn {    \n",
       "    background-color: #fcf2f2;\n",
       "    border-color: #dFb5b4;\n",
       "    border-left: 5px solid #dfb5b4;\n",
       "    padding: 0.5em;\n",
       "    font-weight: bold;\n",
       "    font-size: 1.1em;;\n",
       "    }\n",
       "\n",
       "\n",
       "\n",
       "div.nota {    \n",
       "    background-color: #DAFFDE;\n",
       "    border-left: 5px solid #92CC99;\n",
       "    padding: 0.5em;\n",
       "    }\n",
       "\n",
       "div.todo:before { content:url(data:image/svg+xml;base64,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);\n",
       "    float:left;\n",
       "    margin-right:20px;\n",
       "    margin-top:-20px;\n",
       "    margin-bottom:20px;\n",
       "}\n",
       "div.todo{\n",
       "    font-weight: bold;\n",
       "    font-size: 1.1em;\n",
       "    margin-top:40px;\n",
       "}\n",
       "div.todo ul{\n",
       "    margin: 0.2em;\n",
       "}\n",
       "div.todo li{\n",
       "    margin-left:60px;\n",
       "    margin-top:0;\n",
       "    margin-bottom:0;\n",
       "}\n",
       "\n",
       "\n",
       "</style>\n",
       "\n"
      ],
      "text/plain": [
       "<IPython.core.display.HTML object>"
      ]
     },
     "metadata": {},
     "output_type": "display_data"
    },
    {
     "name": "stdout",
     "output_type": "stream",
     "text": [
      "\n",
      "FIDLE 2020 - Practical Work Module\n",
      "Version              : 0.5.4\n",
      "Run time             : Tuesday 8 September 2020, 19:03:13\n",
      "TensorFlow version   : 2.0.0\n",
      "Keras version        : 2.2.4-tf\n",
      "Current place        : Fidle at HOME\n",
      "Dataset dir          : /home/pjluc/datasets\n",
      "Update keras cache   : Yes\n"
     ]
    }
   ],
   "source": [
    "import tensorflow as tf\n",
    "from tensorflow import keras\n",
    "\n",
    "import numpy as np\n",
    "import matplotlib.pyplot as plt\n",
    "import pandas as pd\n",
    "import os,sys\n",
    "\n",
    "from IPython.display import Markdown\n",
    "from importlib import reload\n",
    "\n",
    "sys.path.append('..')\n",
    "import fidle.pwk as ooo\n",
    "\n",
    "place, dataset_dir = ooo.init(places={'MyLaptop':'/path/to/datasets'})"
   ]
  },
  {
   "cell_type": "markdown",
   "metadata": {},
   "source": [
    "## Step 2 - Retrieve data\n",
    "\n",
    "### 2.1 - Option 1  : From Keras\n",
    "Boston housing is a famous historic dataset, so we can get it directly from [Keras datasets](https://www.tensorflow.org/api_docs/python/tf/keras/datasets)  "
   ]
  },
  {
   "cell_type": "code",
   "execution_count": 2,
   "metadata": {},
   "outputs": [],
   "source": [
    "# (x_train, y_train), (x_test, y_test) = keras.datasets.boston_housing.load_data(test_split=0.2, seed=113)"
   ]
  },
  {
   "cell_type": "markdown",
   "metadata": {},
   "source": [
    "### 2.2 - Option 2 : From a csv file\n",
    "More fun !"
   ]
  },
  {
   "cell_type": "code",
   "execution_count": 3,
   "metadata": {},
   "outputs": [
    {
     "data": {
      "text/html": [
       "<style  type=\"text/css\" >\n",
       "</style><table id=\"T_2e2c9e06_f1f5_11ea_9e87_677b8e0bcd08\" ><thead>    <tr>        <th class=\"blank level0\" ></th>        <th class=\"col_heading level0 col0\" >crim</th>        <th class=\"col_heading level0 col1\" >zn</th>        <th class=\"col_heading level0 col2\" >indus</th>        <th class=\"col_heading level0 col3\" >chas</th>        <th class=\"col_heading level0 col4\" >nox</th>        <th class=\"col_heading level0 col5\" >rm</th>        <th class=\"col_heading level0 col6\" >age</th>        <th class=\"col_heading level0 col7\" >dis</th>        <th class=\"col_heading level0 col8\" >rad</th>        <th class=\"col_heading level0 col9\" >tax</th>        <th class=\"col_heading level0 col10\" >ptratio</th>        <th class=\"col_heading level0 col11\" >b</th>        <th class=\"col_heading level0 col12\" >lstat</th>        <th class=\"col_heading level0 col13\" >medv</th>    </tr></thead><tbody>\n",
       "                <tr>\n",
       "                        <th id=\"T_2e2c9e06_f1f5_11ea_9e87_677b8e0bcd08level0_row0\" class=\"row_heading level0 row0\" >0</th>\n",
       "                        <td id=\"T_2e2c9e06_f1f5_11ea_9e87_677b8e0bcd08row0_col0\" class=\"data row0 col0\" >0.01</td>\n",
       "                        <td id=\"T_2e2c9e06_f1f5_11ea_9e87_677b8e0bcd08row0_col1\" class=\"data row0 col1\" >18.00</td>\n",
       "                        <td id=\"T_2e2c9e06_f1f5_11ea_9e87_677b8e0bcd08row0_col2\" class=\"data row0 col2\" >2.31</td>\n",
       "                        <td id=\"T_2e2c9e06_f1f5_11ea_9e87_677b8e0bcd08row0_col3\" class=\"data row0 col3\" >0.00</td>\n",
       "                        <td id=\"T_2e2c9e06_f1f5_11ea_9e87_677b8e0bcd08row0_col4\" class=\"data row0 col4\" >0.54</td>\n",
       "                        <td id=\"T_2e2c9e06_f1f5_11ea_9e87_677b8e0bcd08row0_col5\" class=\"data row0 col5\" >6.58</td>\n",
       "                        <td id=\"T_2e2c9e06_f1f5_11ea_9e87_677b8e0bcd08row0_col6\" class=\"data row0 col6\" >65.20</td>\n",
       "                        <td id=\"T_2e2c9e06_f1f5_11ea_9e87_677b8e0bcd08row0_col7\" class=\"data row0 col7\" >4.09</td>\n",
       "                        <td id=\"T_2e2c9e06_f1f5_11ea_9e87_677b8e0bcd08row0_col8\" class=\"data row0 col8\" >1.00</td>\n",
       "                        <td id=\"T_2e2c9e06_f1f5_11ea_9e87_677b8e0bcd08row0_col9\" class=\"data row0 col9\" >296.00</td>\n",
       "                        <td id=\"T_2e2c9e06_f1f5_11ea_9e87_677b8e0bcd08row0_col10\" class=\"data row0 col10\" >15.30</td>\n",
       "                        <td id=\"T_2e2c9e06_f1f5_11ea_9e87_677b8e0bcd08row0_col11\" class=\"data row0 col11\" >396.90</td>\n",
       "                        <td id=\"T_2e2c9e06_f1f5_11ea_9e87_677b8e0bcd08row0_col12\" class=\"data row0 col12\" >4.98</td>\n",
       "                        <td id=\"T_2e2c9e06_f1f5_11ea_9e87_677b8e0bcd08row0_col13\" class=\"data row0 col13\" >24.00</td>\n",
       "            </tr>\n",
       "            <tr>\n",
       "                        <th id=\"T_2e2c9e06_f1f5_11ea_9e87_677b8e0bcd08level0_row1\" class=\"row_heading level0 row1\" >1</th>\n",
       "                        <td id=\"T_2e2c9e06_f1f5_11ea_9e87_677b8e0bcd08row1_col0\" class=\"data row1 col0\" >0.03</td>\n",
       "                        <td id=\"T_2e2c9e06_f1f5_11ea_9e87_677b8e0bcd08row1_col1\" class=\"data row1 col1\" >0.00</td>\n",
       "                        <td id=\"T_2e2c9e06_f1f5_11ea_9e87_677b8e0bcd08row1_col2\" class=\"data row1 col2\" >7.07</td>\n",
       "                        <td id=\"T_2e2c9e06_f1f5_11ea_9e87_677b8e0bcd08row1_col3\" class=\"data row1 col3\" >0.00</td>\n",
       "                        <td id=\"T_2e2c9e06_f1f5_11ea_9e87_677b8e0bcd08row1_col4\" class=\"data row1 col4\" >0.47</td>\n",
       "                        <td id=\"T_2e2c9e06_f1f5_11ea_9e87_677b8e0bcd08row1_col5\" class=\"data row1 col5\" >6.42</td>\n",
       "                        <td id=\"T_2e2c9e06_f1f5_11ea_9e87_677b8e0bcd08row1_col6\" class=\"data row1 col6\" >78.90</td>\n",
       "                        <td id=\"T_2e2c9e06_f1f5_11ea_9e87_677b8e0bcd08row1_col7\" class=\"data row1 col7\" >4.97</td>\n",
       "                        <td id=\"T_2e2c9e06_f1f5_11ea_9e87_677b8e0bcd08row1_col8\" class=\"data row1 col8\" >2.00</td>\n",
       "                        <td id=\"T_2e2c9e06_f1f5_11ea_9e87_677b8e0bcd08row1_col9\" class=\"data row1 col9\" >242.00</td>\n",
       "                        <td id=\"T_2e2c9e06_f1f5_11ea_9e87_677b8e0bcd08row1_col10\" class=\"data row1 col10\" >17.80</td>\n",
       "                        <td id=\"T_2e2c9e06_f1f5_11ea_9e87_677b8e0bcd08row1_col11\" class=\"data row1 col11\" >396.90</td>\n",
       "                        <td id=\"T_2e2c9e06_f1f5_11ea_9e87_677b8e0bcd08row1_col12\" class=\"data row1 col12\" >9.14</td>\n",
       "                        <td id=\"T_2e2c9e06_f1f5_11ea_9e87_677b8e0bcd08row1_col13\" class=\"data row1 col13\" >21.60</td>\n",
       "            </tr>\n",
       "            <tr>\n",
       "                        <th id=\"T_2e2c9e06_f1f5_11ea_9e87_677b8e0bcd08level0_row2\" class=\"row_heading level0 row2\" >2</th>\n",
       "                        <td id=\"T_2e2c9e06_f1f5_11ea_9e87_677b8e0bcd08row2_col0\" class=\"data row2 col0\" >0.03</td>\n",
       "                        <td id=\"T_2e2c9e06_f1f5_11ea_9e87_677b8e0bcd08row2_col1\" class=\"data row2 col1\" >0.00</td>\n",
       "                        <td id=\"T_2e2c9e06_f1f5_11ea_9e87_677b8e0bcd08row2_col2\" class=\"data row2 col2\" >7.07</td>\n",
       "                        <td id=\"T_2e2c9e06_f1f5_11ea_9e87_677b8e0bcd08row2_col3\" class=\"data row2 col3\" >0.00</td>\n",
       "                        <td id=\"T_2e2c9e06_f1f5_11ea_9e87_677b8e0bcd08row2_col4\" class=\"data row2 col4\" >0.47</td>\n",
       "                        <td id=\"T_2e2c9e06_f1f5_11ea_9e87_677b8e0bcd08row2_col5\" class=\"data row2 col5\" >7.18</td>\n",
       "                        <td id=\"T_2e2c9e06_f1f5_11ea_9e87_677b8e0bcd08row2_col6\" class=\"data row2 col6\" >61.10</td>\n",
       "                        <td id=\"T_2e2c9e06_f1f5_11ea_9e87_677b8e0bcd08row2_col7\" class=\"data row2 col7\" >4.97</td>\n",
       "                        <td id=\"T_2e2c9e06_f1f5_11ea_9e87_677b8e0bcd08row2_col8\" class=\"data row2 col8\" >2.00</td>\n",
       "                        <td id=\"T_2e2c9e06_f1f5_11ea_9e87_677b8e0bcd08row2_col9\" class=\"data row2 col9\" >242.00</td>\n",
       "                        <td id=\"T_2e2c9e06_f1f5_11ea_9e87_677b8e0bcd08row2_col10\" class=\"data row2 col10\" >17.80</td>\n",
       "                        <td id=\"T_2e2c9e06_f1f5_11ea_9e87_677b8e0bcd08row2_col11\" class=\"data row2 col11\" >392.83</td>\n",
       "                        <td id=\"T_2e2c9e06_f1f5_11ea_9e87_677b8e0bcd08row2_col12\" class=\"data row2 col12\" >4.03</td>\n",
       "                        <td id=\"T_2e2c9e06_f1f5_11ea_9e87_677b8e0bcd08row2_col13\" class=\"data row2 col13\" >34.70</td>\n",
       "            </tr>\n",
       "            <tr>\n",
       "                        <th id=\"T_2e2c9e06_f1f5_11ea_9e87_677b8e0bcd08level0_row3\" class=\"row_heading level0 row3\" >3</th>\n",
       "                        <td id=\"T_2e2c9e06_f1f5_11ea_9e87_677b8e0bcd08row3_col0\" class=\"data row3 col0\" >0.03</td>\n",
       "                        <td id=\"T_2e2c9e06_f1f5_11ea_9e87_677b8e0bcd08row3_col1\" class=\"data row3 col1\" >0.00</td>\n",
       "                        <td id=\"T_2e2c9e06_f1f5_11ea_9e87_677b8e0bcd08row3_col2\" class=\"data row3 col2\" >2.18</td>\n",
       "                        <td id=\"T_2e2c9e06_f1f5_11ea_9e87_677b8e0bcd08row3_col3\" class=\"data row3 col3\" >0.00</td>\n",
       "                        <td id=\"T_2e2c9e06_f1f5_11ea_9e87_677b8e0bcd08row3_col4\" class=\"data row3 col4\" >0.46</td>\n",
       "                        <td id=\"T_2e2c9e06_f1f5_11ea_9e87_677b8e0bcd08row3_col5\" class=\"data row3 col5\" >7.00</td>\n",
       "                        <td id=\"T_2e2c9e06_f1f5_11ea_9e87_677b8e0bcd08row3_col6\" class=\"data row3 col6\" >45.80</td>\n",
       "                        <td id=\"T_2e2c9e06_f1f5_11ea_9e87_677b8e0bcd08row3_col7\" class=\"data row3 col7\" >6.06</td>\n",
       "                        <td id=\"T_2e2c9e06_f1f5_11ea_9e87_677b8e0bcd08row3_col8\" class=\"data row3 col8\" >3.00</td>\n",
       "                        <td id=\"T_2e2c9e06_f1f5_11ea_9e87_677b8e0bcd08row3_col9\" class=\"data row3 col9\" >222.00</td>\n",
       "                        <td id=\"T_2e2c9e06_f1f5_11ea_9e87_677b8e0bcd08row3_col10\" class=\"data row3 col10\" >18.70</td>\n",
       "                        <td id=\"T_2e2c9e06_f1f5_11ea_9e87_677b8e0bcd08row3_col11\" class=\"data row3 col11\" >394.63</td>\n",
       "                        <td id=\"T_2e2c9e06_f1f5_11ea_9e87_677b8e0bcd08row3_col12\" class=\"data row3 col12\" >2.94</td>\n",
       "                        <td id=\"T_2e2c9e06_f1f5_11ea_9e87_677b8e0bcd08row3_col13\" class=\"data row3 col13\" >33.40</td>\n",
       "            </tr>\n",
       "            <tr>\n",
       "                        <th id=\"T_2e2c9e06_f1f5_11ea_9e87_677b8e0bcd08level0_row4\" class=\"row_heading level0 row4\" >4</th>\n",
       "                        <td id=\"T_2e2c9e06_f1f5_11ea_9e87_677b8e0bcd08row4_col0\" class=\"data row4 col0\" >0.07</td>\n",
       "                        <td id=\"T_2e2c9e06_f1f5_11ea_9e87_677b8e0bcd08row4_col1\" class=\"data row4 col1\" >0.00</td>\n",
       "                        <td id=\"T_2e2c9e06_f1f5_11ea_9e87_677b8e0bcd08row4_col2\" class=\"data row4 col2\" >2.18</td>\n",
       "                        <td id=\"T_2e2c9e06_f1f5_11ea_9e87_677b8e0bcd08row4_col3\" class=\"data row4 col3\" >0.00</td>\n",
       "                        <td id=\"T_2e2c9e06_f1f5_11ea_9e87_677b8e0bcd08row4_col4\" class=\"data row4 col4\" >0.46</td>\n",
       "                        <td id=\"T_2e2c9e06_f1f5_11ea_9e87_677b8e0bcd08row4_col5\" class=\"data row4 col5\" >7.15</td>\n",
       "                        <td id=\"T_2e2c9e06_f1f5_11ea_9e87_677b8e0bcd08row4_col6\" class=\"data row4 col6\" >54.20</td>\n",
       "                        <td id=\"T_2e2c9e06_f1f5_11ea_9e87_677b8e0bcd08row4_col7\" class=\"data row4 col7\" >6.06</td>\n",
       "                        <td id=\"T_2e2c9e06_f1f5_11ea_9e87_677b8e0bcd08row4_col8\" class=\"data row4 col8\" >3.00</td>\n",
       "                        <td id=\"T_2e2c9e06_f1f5_11ea_9e87_677b8e0bcd08row4_col9\" class=\"data row4 col9\" >222.00</td>\n",
       "                        <td id=\"T_2e2c9e06_f1f5_11ea_9e87_677b8e0bcd08row4_col10\" class=\"data row4 col10\" >18.70</td>\n",
       "                        <td id=\"T_2e2c9e06_f1f5_11ea_9e87_677b8e0bcd08row4_col11\" class=\"data row4 col11\" >396.90</td>\n",
       "                        <td id=\"T_2e2c9e06_f1f5_11ea_9e87_677b8e0bcd08row4_col12\" class=\"data row4 col12\" >5.33</td>\n",
       "                        <td id=\"T_2e2c9e06_f1f5_11ea_9e87_677b8e0bcd08row4_col13\" class=\"data row4 col13\" >36.20</td>\n",
       "            </tr>\n",
       "    </tbody></table>"
      ],
      "text/plain": [
       "<pandas.io.formats.style.Styler at 0x7ffe29c64d10>"
      ]
     },
     "metadata": {},
     "output_type": "display_data"
    },
    {
     "name": "stdout",
     "output_type": "stream",
     "text": [
      "Missing Data :  0   Shape is :  (506, 14)\n"
     ]
    }
   ],
   "source": [
    "data = pd.read_csv(f'{dataset_dir}/BHPD/BostonHousing.csv', header=0)\n",
    "\n",
    "display(data.head(5).style.format(\"{0:.2f}\"))\n",
    "print('Missing Data : ',data.isna().sum().sum(), '  Shape is : ', data.shape)"
   ]
  },
  {
   "cell_type": "markdown",
   "metadata": {},
   "source": [
    "## Step 3 - Preparing the data\n",
    "### 3.1 - Split data\n",
    "We will use 80% of the data for training and 20% for validation.  \n",
    "x will be input data and y the expected output"
   ]
  },
  {
   "cell_type": "code",
   "execution_count": 4,
   "metadata": {},
   "outputs": [
    {
     "name": "stdout",
     "output_type": "stream",
     "text": [
      "Original data shape was :  (506, 14)\n",
      "x_train :  (354, 13) y_train :  (354,)\n",
      "x_test  :  (152, 13) y_test  :  (152,)\n"
     ]
    }
   ],
   "source": [
    "# ---- Split => train, test\n",
    "#\n",
    "data_train = data.sample(frac=0.7, axis=0)\n",
    "data_test  = data.drop(data_train.index)\n",
    "\n",
    "# ---- Split => x,y (medv is price)\n",
    "#\n",
    "x_train = data_train.drop('medv',  axis=1)\n",
    "y_train = data_train['medv']\n",
    "x_test  = data_test.drop('medv',   axis=1)\n",
    "y_test  = data_test['medv']\n",
    "\n",
    "print('Original data shape was : ',data.shape)\n",
    "print('x_train : ',x_train.shape, 'y_train : ',y_train.shape)\n",
    "print('x_test  : ',x_test.shape,  'y_test  : ',y_test.shape)"
   ]
  },
  {
   "cell_type": "markdown",
   "metadata": {},
   "source": [
    "### 3.2 - Data normalization\n",
    "**Note :** \n",
    " - All input data must be normalized, train and test.  \n",
    " - To do this we will subtract the mean and divide by the standard deviation.  \n",
    " - But test data should not be used in any way, even for normalization.  \n",
    " - The mean and the standard deviation will therefore only be calculated with the train data."
   ]
  },
  {
   "cell_type": "code",
   "execution_count": 5,
   "metadata": {},
   "outputs": [
    {
     "data": {
      "text/html": [
       "<style  type=\"text/css\" >\n",
       "</style><table id=\"T_2e34d652_f1f5_11ea_9e87_677b8e0bcd08\" ><caption>Before normalization :</caption><thead>    <tr>        <th class=\"blank level0\" ></th>        <th class=\"col_heading level0 col0\" >crim</th>        <th class=\"col_heading level0 col1\" >zn</th>        <th class=\"col_heading level0 col2\" >indus</th>        <th class=\"col_heading level0 col3\" >chas</th>        <th class=\"col_heading level0 col4\" >nox</th>        <th class=\"col_heading level0 col5\" >rm</th>        <th class=\"col_heading level0 col6\" >age</th>        <th class=\"col_heading level0 col7\" >dis</th>        <th class=\"col_heading level0 col8\" >rad</th>        <th class=\"col_heading level0 col9\" >tax</th>        <th class=\"col_heading level0 col10\" >ptratio</th>        <th class=\"col_heading level0 col11\" >b</th>        <th class=\"col_heading level0 col12\" >lstat</th>    </tr></thead><tbody>\n",
       "                <tr>\n",
       "                        <th id=\"T_2e34d652_f1f5_11ea_9e87_677b8e0bcd08level0_row0\" class=\"row_heading level0 row0\" >count</th>\n",
       "                        <td id=\"T_2e34d652_f1f5_11ea_9e87_677b8e0bcd08row0_col0\" class=\"data row0 col0\" >354.00</td>\n",
       "                        <td id=\"T_2e34d652_f1f5_11ea_9e87_677b8e0bcd08row0_col1\" class=\"data row0 col1\" >354.00</td>\n",
       "                        <td id=\"T_2e34d652_f1f5_11ea_9e87_677b8e0bcd08row0_col2\" class=\"data row0 col2\" >354.00</td>\n",
       "                        <td id=\"T_2e34d652_f1f5_11ea_9e87_677b8e0bcd08row0_col3\" class=\"data row0 col3\" >354.00</td>\n",
       "                        <td id=\"T_2e34d652_f1f5_11ea_9e87_677b8e0bcd08row0_col4\" class=\"data row0 col4\" >354.00</td>\n",
       "                        <td id=\"T_2e34d652_f1f5_11ea_9e87_677b8e0bcd08row0_col5\" class=\"data row0 col5\" >354.00</td>\n",
       "                        <td id=\"T_2e34d652_f1f5_11ea_9e87_677b8e0bcd08row0_col6\" class=\"data row0 col6\" >354.00</td>\n",
       "                        <td id=\"T_2e34d652_f1f5_11ea_9e87_677b8e0bcd08row0_col7\" class=\"data row0 col7\" >354.00</td>\n",
       "                        <td id=\"T_2e34d652_f1f5_11ea_9e87_677b8e0bcd08row0_col8\" class=\"data row0 col8\" >354.00</td>\n",
       "                        <td id=\"T_2e34d652_f1f5_11ea_9e87_677b8e0bcd08row0_col9\" class=\"data row0 col9\" >354.00</td>\n",
       "                        <td id=\"T_2e34d652_f1f5_11ea_9e87_677b8e0bcd08row0_col10\" class=\"data row0 col10\" >354.00</td>\n",
       "                        <td id=\"T_2e34d652_f1f5_11ea_9e87_677b8e0bcd08row0_col11\" class=\"data row0 col11\" >354.00</td>\n",
       "                        <td id=\"T_2e34d652_f1f5_11ea_9e87_677b8e0bcd08row0_col12\" class=\"data row0 col12\" >354.00</td>\n",
       "            </tr>\n",
       "            <tr>\n",
       "                        <th id=\"T_2e34d652_f1f5_11ea_9e87_677b8e0bcd08level0_row1\" class=\"row_heading level0 row1\" >mean</th>\n",
       "                        <td id=\"T_2e34d652_f1f5_11ea_9e87_677b8e0bcd08row1_col0\" class=\"data row1 col0\" >3.32</td>\n",
       "                        <td id=\"T_2e34d652_f1f5_11ea_9e87_677b8e0bcd08row1_col1\" class=\"data row1 col1\" >12.33</td>\n",
       "                        <td id=\"T_2e34d652_f1f5_11ea_9e87_677b8e0bcd08row1_col2\" class=\"data row1 col2\" >11.39</td>\n",
       "                        <td id=\"T_2e34d652_f1f5_11ea_9e87_677b8e0bcd08row1_col3\" class=\"data row1 col3\" >0.07</td>\n",
       "                        <td id=\"T_2e34d652_f1f5_11ea_9e87_677b8e0bcd08row1_col4\" class=\"data row1 col4\" >0.55</td>\n",
       "                        <td id=\"T_2e34d652_f1f5_11ea_9e87_677b8e0bcd08row1_col5\" class=\"data row1 col5\" >6.27</td>\n",
       "                        <td id=\"T_2e34d652_f1f5_11ea_9e87_677b8e0bcd08row1_col6\" class=\"data row1 col6\" >67.04</td>\n",
       "                        <td id=\"T_2e34d652_f1f5_11ea_9e87_677b8e0bcd08row1_col7\" class=\"data row1 col7\" >3.83</td>\n",
       "                        <td id=\"T_2e34d652_f1f5_11ea_9e87_677b8e0bcd08row1_col8\" class=\"data row1 col8\" >9.43</td>\n",
       "                        <td id=\"T_2e34d652_f1f5_11ea_9e87_677b8e0bcd08row1_col9\" class=\"data row1 col9\" >408.21</td>\n",
       "                        <td id=\"T_2e34d652_f1f5_11ea_9e87_677b8e0bcd08row1_col10\" class=\"data row1 col10\" >18.45</td>\n",
       "                        <td id=\"T_2e34d652_f1f5_11ea_9e87_677b8e0bcd08row1_col11\" class=\"data row1 col11\" >356.12</td>\n",
       "                        <td id=\"T_2e34d652_f1f5_11ea_9e87_677b8e0bcd08row1_col12\" class=\"data row1 col12\" >12.41</td>\n",
       "            </tr>\n",
       "            <tr>\n",
       "                        <th id=\"T_2e34d652_f1f5_11ea_9e87_677b8e0bcd08level0_row2\" class=\"row_heading level0 row2\" >std</th>\n",
       "                        <td id=\"T_2e34d652_f1f5_11ea_9e87_677b8e0bcd08row2_col0\" class=\"data row2 col0\" >7.78</td>\n",
       "                        <td id=\"T_2e34d652_f1f5_11ea_9e87_677b8e0bcd08row2_col1\" class=\"data row2 col1\" >24.49</td>\n",
       "                        <td id=\"T_2e34d652_f1f5_11ea_9e87_677b8e0bcd08row2_col2\" class=\"data row2 col2\" >7.06</td>\n",
       "                        <td id=\"T_2e34d652_f1f5_11ea_9e87_677b8e0bcd08row2_col3\" class=\"data row2 col3\" >0.26</td>\n",
       "                        <td id=\"T_2e34d652_f1f5_11ea_9e87_677b8e0bcd08row2_col4\" class=\"data row2 col4\" >0.12</td>\n",
       "                        <td id=\"T_2e34d652_f1f5_11ea_9e87_677b8e0bcd08row2_col5\" class=\"data row2 col5\" >0.67</td>\n",
       "                        <td id=\"T_2e34d652_f1f5_11ea_9e87_677b8e0bcd08row2_col6\" class=\"data row2 col6\" >29.01</td>\n",
       "                        <td id=\"T_2e34d652_f1f5_11ea_9e87_677b8e0bcd08row2_col7\" class=\"data row2 col7\" >2.10</td>\n",
       "                        <td id=\"T_2e34d652_f1f5_11ea_9e87_677b8e0bcd08row2_col8\" class=\"data row2 col8\" >8.75</td>\n",
       "                        <td id=\"T_2e34d652_f1f5_11ea_9e87_677b8e0bcd08row2_col9\" class=\"data row2 col9\" >170.18</td>\n",
       "                        <td id=\"T_2e34d652_f1f5_11ea_9e87_677b8e0bcd08row2_col10\" class=\"data row2 col10\" >2.17</td>\n",
       "                        <td id=\"T_2e34d652_f1f5_11ea_9e87_677b8e0bcd08row2_col11\" class=\"data row2 col11\" >94.01</td>\n",
       "                        <td id=\"T_2e34d652_f1f5_11ea_9e87_677b8e0bcd08row2_col12\" class=\"data row2 col12\" >6.77</td>\n",
       "            </tr>\n",
       "            <tr>\n",
       "                        <th id=\"T_2e34d652_f1f5_11ea_9e87_677b8e0bcd08level0_row3\" class=\"row_heading level0 row3\" >min</th>\n",
       "                        <td id=\"T_2e34d652_f1f5_11ea_9e87_677b8e0bcd08row3_col0\" class=\"data row3 col0\" >0.01</td>\n",
       "                        <td id=\"T_2e34d652_f1f5_11ea_9e87_677b8e0bcd08row3_col1\" class=\"data row3 col1\" >0.00</td>\n",
       "                        <td id=\"T_2e34d652_f1f5_11ea_9e87_677b8e0bcd08row3_col2\" class=\"data row3 col2\" >0.46</td>\n",
       "                        <td id=\"T_2e34d652_f1f5_11ea_9e87_677b8e0bcd08row3_col3\" class=\"data row3 col3\" >0.00</td>\n",
       "                        <td id=\"T_2e34d652_f1f5_11ea_9e87_677b8e0bcd08row3_col4\" class=\"data row3 col4\" >0.39</td>\n",
       "                        <td id=\"T_2e34d652_f1f5_11ea_9e87_677b8e0bcd08row3_col5\" class=\"data row3 col5\" >3.56</td>\n",
       "                        <td id=\"T_2e34d652_f1f5_11ea_9e87_677b8e0bcd08row3_col6\" class=\"data row3 col6\" >6.00</td>\n",
       "                        <td id=\"T_2e34d652_f1f5_11ea_9e87_677b8e0bcd08row3_col7\" class=\"data row3 col7\" >1.17</td>\n",
       "                        <td id=\"T_2e34d652_f1f5_11ea_9e87_677b8e0bcd08row3_col8\" class=\"data row3 col8\" >1.00</td>\n",
       "                        <td id=\"T_2e34d652_f1f5_11ea_9e87_677b8e0bcd08row3_col9\" class=\"data row3 col9\" >188.00</td>\n",
       "                        <td id=\"T_2e34d652_f1f5_11ea_9e87_677b8e0bcd08row3_col10\" class=\"data row3 col10\" >12.60</td>\n",
       "                        <td id=\"T_2e34d652_f1f5_11ea_9e87_677b8e0bcd08row3_col11\" class=\"data row3 col11\" >2.52</td>\n",
       "                        <td id=\"T_2e34d652_f1f5_11ea_9e87_677b8e0bcd08row3_col12\" class=\"data row3 col12\" >1.92</td>\n",
       "            </tr>\n",
       "            <tr>\n",
       "                        <th id=\"T_2e34d652_f1f5_11ea_9e87_677b8e0bcd08level0_row4\" class=\"row_heading level0 row4\" >25%</th>\n",
       "                        <td id=\"T_2e34d652_f1f5_11ea_9e87_677b8e0bcd08row4_col0\" class=\"data row4 col0\" >0.08</td>\n",
       "                        <td id=\"T_2e34d652_f1f5_11ea_9e87_677b8e0bcd08row4_col1\" class=\"data row4 col1\" >0.00</td>\n",
       "                        <td id=\"T_2e34d652_f1f5_11ea_9e87_677b8e0bcd08row4_col2\" class=\"data row4 col2\" >5.19</td>\n",
       "                        <td id=\"T_2e34d652_f1f5_11ea_9e87_677b8e0bcd08row4_col3\" class=\"data row4 col3\" >0.00</td>\n",
       "                        <td id=\"T_2e34d652_f1f5_11ea_9e87_677b8e0bcd08row4_col4\" class=\"data row4 col4\" >0.45</td>\n",
       "                        <td id=\"T_2e34d652_f1f5_11ea_9e87_677b8e0bcd08row4_col5\" class=\"data row4 col5\" >5.88</td>\n",
       "                        <td id=\"T_2e34d652_f1f5_11ea_9e87_677b8e0bcd08row4_col6\" class=\"data row4 col6\" >41.20</td>\n",
       "                        <td id=\"T_2e34d652_f1f5_11ea_9e87_677b8e0bcd08row4_col7\" class=\"data row4 col7\" >2.09</td>\n",
       "                        <td id=\"T_2e34d652_f1f5_11ea_9e87_677b8e0bcd08row4_col8\" class=\"data row4 col8\" >4.00</td>\n",
       "                        <td id=\"T_2e34d652_f1f5_11ea_9e87_677b8e0bcd08row4_col9\" class=\"data row4 col9\" >277.00</td>\n",
       "                        <td id=\"T_2e34d652_f1f5_11ea_9e87_677b8e0bcd08row4_col10\" class=\"data row4 col10\" >17.00</td>\n",
       "                        <td id=\"T_2e34d652_f1f5_11ea_9e87_677b8e0bcd08row4_col11\" class=\"data row4 col11\" >376.60</td>\n",
       "                        <td id=\"T_2e34d652_f1f5_11ea_9e87_677b8e0bcd08row4_col12\" class=\"data row4 col12\" >7.12</td>\n",
       "            </tr>\n",
       "            <tr>\n",
       "                        <th id=\"T_2e34d652_f1f5_11ea_9e87_677b8e0bcd08level0_row5\" class=\"row_heading level0 row5\" >50%</th>\n",
       "                        <td id=\"T_2e34d652_f1f5_11ea_9e87_677b8e0bcd08row5_col0\" class=\"data row5 col0\" >0.25</td>\n",
       "                        <td id=\"T_2e34d652_f1f5_11ea_9e87_677b8e0bcd08row5_col1\" class=\"data row5 col1\" >0.00</td>\n",
       "                        <td id=\"T_2e34d652_f1f5_11ea_9e87_677b8e0bcd08row5_col2\" class=\"data row5 col2\" >9.90</td>\n",
       "                        <td id=\"T_2e34d652_f1f5_11ea_9e87_677b8e0bcd08row5_col3\" class=\"data row5 col3\" >0.00</td>\n",
       "                        <td id=\"T_2e34d652_f1f5_11ea_9e87_677b8e0bcd08row5_col4\" class=\"data row5 col4\" >0.54</td>\n",
       "                        <td id=\"T_2e34d652_f1f5_11ea_9e87_677b8e0bcd08row5_col5\" class=\"data row5 col5\" >6.21</td>\n",
       "                        <td id=\"T_2e34d652_f1f5_11ea_9e87_677b8e0bcd08row5_col6\" class=\"data row5 col6\" >76.50</td>\n",
       "                        <td id=\"T_2e34d652_f1f5_11ea_9e87_677b8e0bcd08row5_col7\" class=\"data row5 col7\" >3.27</td>\n",
       "                        <td id=\"T_2e34d652_f1f5_11ea_9e87_677b8e0bcd08row5_col8\" class=\"data row5 col8\" >5.00</td>\n",
       "                        <td id=\"T_2e34d652_f1f5_11ea_9e87_677b8e0bcd08row5_col9\" class=\"data row5 col9\" >330.00</td>\n",
       "                        <td id=\"T_2e34d652_f1f5_11ea_9e87_677b8e0bcd08row5_col10\" class=\"data row5 col10\" >19.10</td>\n",
       "                        <td id=\"T_2e34d652_f1f5_11ea_9e87_677b8e0bcd08row5_col11\" class=\"data row5 col11\" >392.28</td>\n",
       "                        <td id=\"T_2e34d652_f1f5_11ea_9e87_677b8e0bcd08row5_col12\" class=\"data row5 col12\" >11.38</td>\n",
       "            </tr>\n",
       "            <tr>\n",
       "                        <th id=\"T_2e34d652_f1f5_11ea_9e87_677b8e0bcd08level0_row6\" class=\"row_heading level0 row6\" >75%</th>\n",
       "                        <td id=\"T_2e34d652_f1f5_11ea_9e87_677b8e0bcd08row6_col0\" class=\"data row6 col0\" >3.52</td>\n",
       "                        <td id=\"T_2e34d652_f1f5_11ea_9e87_677b8e0bcd08row6_col1\" class=\"data row6 col1\" >20.00</td>\n",
       "                        <td id=\"T_2e34d652_f1f5_11ea_9e87_677b8e0bcd08row6_col2\" class=\"data row6 col2\" >18.10</td>\n",
       "                        <td id=\"T_2e34d652_f1f5_11ea_9e87_677b8e0bcd08row6_col3\" class=\"data row6 col3\" >0.00</td>\n",
       "                        <td id=\"T_2e34d652_f1f5_11ea_9e87_677b8e0bcd08row6_col4\" class=\"data row6 col4\" >0.62</td>\n",
       "                        <td id=\"T_2e34d652_f1f5_11ea_9e87_677b8e0bcd08row6_col5\" class=\"data row6 col5\" >6.60</td>\n",
       "                        <td id=\"T_2e34d652_f1f5_11ea_9e87_677b8e0bcd08row6_col6\" class=\"data row6 col6\" >94.07</td>\n",
       "                        <td id=\"T_2e34d652_f1f5_11ea_9e87_677b8e0bcd08row6_col7\" class=\"data row6 col7\" >5.23</td>\n",
       "                        <td id=\"T_2e34d652_f1f5_11ea_9e87_677b8e0bcd08row6_col8\" class=\"data row6 col8\" >24.00</td>\n",
       "                        <td id=\"T_2e34d652_f1f5_11ea_9e87_677b8e0bcd08row6_col9\" class=\"data row6 col9\" >666.00</td>\n",
       "                        <td id=\"T_2e34d652_f1f5_11ea_9e87_677b8e0bcd08row6_col10\" class=\"data row6 col10\" >20.20</td>\n",
       "                        <td id=\"T_2e34d652_f1f5_11ea_9e87_677b8e0bcd08row6_col11\" class=\"data row6 col11\" >396.78</td>\n",
       "                        <td id=\"T_2e34d652_f1f5_11ea_9e87_677b8e0bcd08row6_col12\" class=\"data row6 col12\" >16.82</td>\n",
       "            </tr>\n",
       "            <tr>\n",
       "                        <th id=\"T_2e34d652_f1f5_11ea_9e87_677b8e0bcd08level0_row7\" class=\"row_heading level0 row7\" >max</th>\n",
       "                        <td id=\"T_2e34d652_f1f5_11ea_9e87_677b8e0bcd08row7_col0\" class=\"data row7 col0\" >73.53</td>\n",
       "                        <td id=\"T_2e34d652_f1f5_11ea_9e87_677b8e0bcd08row7_col1\" class=\"data row7 col1\" >100.00</td>\n",
       "                        <td id=\"T_2e34d652_f1f5_11ea_9e87_677b8e0bcd08row7_col2\" class=\"data row7 col2\" >27.74</td>\n",
       "                        <td id=\"T_2e34d652_f1f5_11ea_9e87_677b8e0bcd08row7_col3\" class=\"data row7 col3\" >1.00</td>\n",
       "                        <td id=\"T_2e34d652_f1f5_11ea_9e87_677b8e0bcd08row7_col4\" class=\"data row7 col4\" >0.87</td>\n",
       "                        <td id=\"T_2e34d652_f1f5_11ea_9e87_677b8e0bcd08row7_col5\" class=\"data row7 col5\" >8.78</td>\n",
       "                        <td id=\"T_2e34d652_f1f5_11ea_9e87_677b8e0bcd08row7_col6\" class=\"data row7 col6\" >100.00</td>\n",
       "                        <td id=\"T_2e34d652_f1f5_11ea_9e87_677b8e0bcd08row7_col7\" class=\"data row7 col7\" >10.71</td>\n",
       "                        <td id=\"T_2e34d652_f1f5_11ea_9e87_677b8e0bcd08row7_col8\" class=\"data row7 col8\" >24.00</td>\n",
       "                        <td id=\"T_2e34d652_f1f5_11ea_9e87_677b8e0bcd08row7_col9\" class=\"data row7 col9\" >711.00</td>\n",
       "                        <td id=\"T_2e34d652_f1f5_11ea_9e87_677b8e0bcd08row7_col10\" class=\"data row7 col10\" >22.00</td>\n",
       "                        <td id=\"T_2e34d652_f1f5_11ea_9e87_677b8e0bcd08row7_col11\" class=\"data row7 col11\" >396.90</td>\n",
       "                        <td id=\"T_2e34d652_f1f5_11ea_9e87_677b8e0bcd08row7_col12\" class=\"data row7 col12\" >34.77</td>\n",
       "            </tr>\n",
       "    </tbody></table>"
      ],
      "text/plain": [
       "<pandas.io.formats.style.Styler at 0x7ffea457afd0>"
      ]
     },
     "metadata": {},
     "output_type": "display_data"
    },
    {
     "data": {
      "text/html": [
       "<style  type=\"text/css\" >\n",
       "</style><table id=\"T_2e3c00da_f1f5_11ea_9e87_677b8e0bcd08\" ><caption>After normalization :</caption><thead>    <tr>        <th class=\"blank level0\" ></th>        <th class=\"col_heading level0 col0\" >crim</th>        <th class=\"col_heading level0 col1\" >zn</th>        <th class=\"col_heading level0 col2\" >indus</th>        <th class=\"col_heading level0 col3\" >chas</th>        <th class=\"col_heading level0 col4\" >nox</th>        <th class=\"col_heading level0 col5\" >rm</th>        <th class=\"col_heading level0 col6\" >age</th>        <th class=\"col_heading level0 col7\" >dis</th>        <th class=\"col_heading level0 col8\" >rad</th>        <th class=\"col_heading level0 col9\" >tax</th>        <th class=\"col_heading level0 col10\" >ptratio</th>        <th class=\"col_heading level0 col11\" >b</th>        <th class=\"col_heading level0 col12\" >lstat</th>    </tr></thead><tbody>\n",
       "                <tr>\n",
       "                        <th id=\"T_2e3c00da_f1f5_11ea_9e87_677b8e0bcd08level0_row0\" class=\"row_heading level0 row0\" >count</th>\n",
       "                        <td id=\"T_2e3c00da_f1f5_11ea_9e87_677b8e0bcd08row0_col0\" class=\"data row0 col0\" >354.00</td>\n",
       "                        <td id=\"T_2e3c00da_f1f5_11ea_9e87_677b8e0bcd08row0_col1\" class=\"data row0 col1\" >354.00</td>\n",
       "                        <td id=\"T_2e3c00da_f1f5_11ea_9e87_677b8e0bcd08row0_col2\" class=\"data row0 col2\" >354.00</td>\n",
       "                        <td id=\"T_2e3c00da_f1f5_11ea_9e87_677b8e0bcd08row0_col3\" class=\"data row0 col3\" >354.00</td>\n",
       "                        <td id=\"T_2e3c00da_f1f5_11ea_9e87_677b8e0bcd08row0_col4\" class=\"data row0 col4\" >354.00</td>\n",
       "                        <td id=\"T_2e3c00da_f1f5_11ea_9e87_677b8e0bcd08row0_col5\" class=\"data row0 col5\" >354.00</td>\n",
       "                        <td id=\"T_2e3c00da_f1f5_11ea_9e87_677b8e0bcd08row0_col6\" class=\"data row0 col6\" >354.00</td>\n",
       "                        <td id=\"T_2e3c00da_f1f5_11ea_9e87_677b8e0bcd08row0_col7\" class=\"data row0 col7\" >354.00</td>\n",
       "                        <td id=\"T_2e3c00da_f1f5_11ea_9e87_677b8e0bcd08row0_col8\" class=\"data row0 col8\" >354.00</td>\n",
       "                        <td id=\"T_2e3c00da_f1f5_11ea_9e87_677b8e0bcd08row0_col9\" class=\"data row0 col9\" >354.00</td>\n",
       "                        <td id=\"T_2e3c00da_f1f5_11ea_9e87_677b8e0bcd08row0_col10\" class=\"data row0 col10\" >354.00</td>\n",
       "                        <td id=\"T_2e3c00da_f1f5_11ea_9e87_677b8e0bcd08row0_col11\" class=\"data row0 col11\" >354.00</td>\n",
       "                        <td id=\"T_2e3c00da_f1f5_11ea_9e87_677b8e0bcd08row0_col12\" class=\"data row0 col12\" >354.00</td>\n",
       "            </tr>\n",
       "            <tr>\n",
       "                        <th id=\"T_2e3c00da_f1f5_11ea_9e87_677b8e0bcd08level0_row1\" class=\"row_heading level0 row1\" >mean</th>\n",
       "                        <td id=\"T_2e3c00da_f1f5_11ea_9e87_677b8e0bcd08row1_col0\" class=\"data row1 col0\" >0.00</td>\n",
       "                        <td id=\"T_2e3c00da_f1f5_11ea_9e87_677b8e0bcd08row1_col1\" class=\"data row1 col1\" >-0.00</td>\n",
       "                        <td id=\"T_2e3c00da_f1f5_11ea_9e87_677b8e0bcd08row1_col2\" class=\"data row1 col2\" >-0.00</td>\n",
       "                        <td id=\"T_2e3c00da_f1f5_11ea_9e87_677b8e0bcd08row1_col3\" class=\"data row1 col3\" >0.00</td>\n",
       "                        <td id=\"T_2e3c00da_f1f5_11ea_9e87_677b8e0bcd08row1_col4\" class=\"data row1 col4\" >-0.00</td>\n",
       "                        <td id=\"T_2e3c00da_f1f5_11ea_9e87_677b8e0bcd08row1_col5\" class=\"data row1 col5\" >0.00</td>\n",
       "                        <td id=\"T_2e3c00da_f1f5_11ea_9e87_677b8e0bcd08row1_col6\" class=\"data row1 col6\" >0.00</td>\n",
       "                        <td id=\"T_2e3c00da_f1f5_11ea_9e87_677b8e0bcd08row1_col7\" class=\"data row1 col7\" >0.00</td>\n",
       "                        <td id=\"T_2e3c00da_f1f5_11ea_9e87_677b8e0bcd08row1_col8\" class=\"data row1 col8\" >-0.00</td>\n",
       "                        <td id=\"T_2e3c00da_f1f5_11ea_9e87_677b8e0bcd08row1_col9\" class=\"data row1 col9\" >0.00</td>\n",
       "                        <td id=\"T_2e3c00da_f1f5_11ea_9e87_677b8e0bcd08row1_col10\" class=\"data row1 col10\" >0.00</td>\n",
       "                        <td id=\"T_2e3c00da_f1f5_11ea_9e87_677b8e0bcd08row1_col11\" class=\"data row1 col11\" >-0.00</td>\n",
       "                        <td id=\"T_2e3c00da_f1f5_11ea_9e87_677b8e0bcd08row1_col12\" class=\"data row1 col12\" >0.00</td>\n",
       "            </tr>\n",
       "            <tr>\n",
       "                        <th id=\"T_2e3c00da_f1f5_11ea_9e87_677b8e0bcd08level0_row2\" class=\"row_heading level0 row2\" >std</th>\n",
       "                        <td id=\"T_2e3c00da_f1f5_11ea_9e87_677b8e0bcd08row2_col0\" class=\"data row2 col0\" >1.00</td>\n",
       "                        <td id=\"T_2e3c00da_f1f5_11ea_9e87_677b8e0bcd08row2_col1\" class=\"data row2 col1\" >1.00</td>\n",
       "                        <td id=\"T_2e3c00da_f1f5_11ea_9e87_677b8e0bcd08row2_col2\" class=\"data row2 col2\" >1.00</td>\n",
       "                        <td id=\"T_2e3c00da_f1f5_11ea_9e87_677b8e0bcd08row2_col3\" class=\"data row2 col3\" >1.00</td>\n",
       "                        <td id=\"T_2e3c00da_f1f5_11ea_9e87_677b8e0bcd08row2_col4\" class=\"data row2 col4\" >1.00</td>\n",
       "                        <td id=\"T_2e3c00da_f1f5_11ea_9e87_677b8e0bcd08row2_col5\" class=\"data row2 col5\" >1.00</td>\n",
       "                        <td id=\"T_2e3c00da_f1f5_11ea_9e87_677b8e0bcd08row2_col6\" class=\"data row2 col6\" >1.00</td>\n",
       "                        <td id=\"T_2e3c00da_f1f5_11ea_9e87_677b8e0bcd08row2_col7\" class=\"data row2 col7\" >1.00</td>\n",
       "                        <td id=\"T_2e3c00da_f1f5_11ea_9e87_677b8e0bcd08row2_col8\" class=\"data row2 col8\" >1.00</td>\n",
       "                        <td id=\"T_2e3c00da_f1f5_11ea_9e87_677b8e0bcd08row2_col9\" class=\"data row2 col9\" >1.00</td>\n",
       "                        <td id=\"T_2e3c00da_f1f5_11ea_9e87_677b8e0bcd08row2_col10\" class=\"data row2 col10\" >1.00</td>\n",
       "                        <td id=\"T_2e3c00da_f1f5_11ea_9e87_677b8e0bcd08row2_col11\" class=\"data row2 col11\" >1.00</td>\n",
       "                        <td id=\"T_2e3c00da_f1f5_11ea_9e87_677b8e0bcd08row2_col12\" class=\"data row2 col12\" >1.00</td>\n",
       "            </tr>\n",
       "            <tr>\n",
       "                        <th id=\"T_2e3c00da_f1f5_11ea_9e87_677b8e0bcd08level0_row3\" class=\"row_heading level0 row3\" >min</th>\n",
       "                        <td id=\"T_2e3c00da_f1f5_11ea_9e87_677b8e0bcd08row3_col0\" class=\"data row3 col0\" >-0.43</td>\n",
       "                        <td id=\"T_2e3c00da_f1f5_11ea_9e87_677b8e0bcd08row3_col1\" class=\"data row3 col1\" >-0.50</td>\n",
       "                        <td id=\"T_2e3c00da_f1f5_11ea_9e87_677b8e0bcd08row3_col2\" class=\"data row3 col2\" >-1.55</td>\n",
       "                        <td id=\"T_2e3c00da_f1f5_11ea_9e87_677b8e0bcd08row3_col3\" class=\"data row3 col3\" >-0.28</td>\n",
       "                        <td id=\"T_2e3c00da_f1f5_11ea_9e87_677b8e0bcd08row3_col4\" class=\"data row3 col4\" >-1.44</td>\n",
       "                        <td id=\"T_2e3c00da_f1f5_11ea_9e87_677b8e0bcd08row3_col5\" class=\"data row3 col5\" >-4.04</td>\n",
       "                        <td id=\"T_2e3c00da_f1f5_11ea_9e87_677b8e0bcd08row3_col6\" class=\"data row3 col6\" >-2.10</td>\n",
       "                        <td id=\"T_2e3c00da_f1f5_11ea_9e87_677b8e0bcd08row3_col7\" class=\"data row3 col7\" >-1.27</td>\n",
       "                        <td id=\"T_2e3c00da_f1f5_11ea_9e87_677b8e0bcd08row3_col8\" class=\"data row3 col8\" >-0.96</td>\n",
       "                        <td id=\"T_2e3c00da_f1f5_11ea_9e87_677b8e0bcd08row3_col9\" class=\"data row3 col9\" >-1.29</td>\n",
       "                        <td id=\"T_2e3c00da_f1f5_11ea_9e87_677b8e0bcd08row3_col10\" class=\"data row3 col10\" >-2.69</td>\n",
       "                        <td id=\"T_2e3c00da_f1f5_11ea_9e87_677b8e0bcd08row3_col11\" class=\"data row3 col11\" >-3.76</td>\n",
       "                        <td id=\"T_2e3c00da_f1f5_11ea_9e87_677b8e0bcd08row3_col12\" class=\"data row3 col12\" >-1.55</td>\n",
       "            </tr>\n",
       "            <tr>\n",
       "                        <th id=\"T_2e3c00da_f1f5_11ea_9e87_677b8e0bcd08level0_row4\" class=\"row_heading level0 row4\" >25%</th>\n",
       "                        <td id=\"T_2e3c00da_f1f5_11ea_9e87_677b8e0bcd08row4_col0\" class=\"data row4 col0\" >-0.42</td>\n",
       "                        <td id=\"T_2e3c00da_f1f5_11ea_9e87_677b8e0bcd08row4_col1\" class=\"data row4 col1\" >-0.50</td>\n",
       "                        <td id=\"T_2e3c00da_f1f5_11ea_9e87_677b8e0bcd08row4_col2\" class=\"data row4 col2\" >-0.88</td>\n",
       "                        <td id=\"T_2e3c00da_f1f5_11ea_9e87_677b8e0bcd08row4_col3\" class=\"data row4 col3\" >-0.28</td>\n",
       "                        <td id=\"T_2e3c00da_f1f5_11ea_9e87_677b8e0bcd08row4_col4\" class=\"data row4 col4\" >-0.90</td>\n",
       "                        <td id=\"T_2e3c00da_f1f5_11ea_9e87_677b8e0bcd08row4_col5\" class=\"data row4 col5\" >-0.59</td>\n",
       "                        <td id=\"T_2e3c00da_f1f5_11ea_9e87_677b8e0bcd08row4_col6\" class=\"data row4 col6\" >-0.89</td>\n",
       "                        <td id=\"T_2e3c00da_f1f5_11ea_9e87_677b8e0bcd08row4_col7\" class=\"data row4 col7\" >-0.83</td>\n",
       "                        <td id=\"T_2e3c00da_f1f5_11ea_9e87_677b8e0bcd08row4_col8\" class=\"data row4 col8\" >-0.62</td>\n",
       "                        <td id=\"T_2e3c00da_f1f5_11ea_9e87_677b8e0bcd08row4_col9\" class=\"data row4 col9\" >-0.77</td>\n",
       "                        <td id=\"T_2e3c00da_f1f5_11ea_9e87_677b8e0bcd08row4_col10\" class=\"data row4 col10\" >-0.67</td>\n",
       "                        <td id=\"T_2e3c00da_f1f5_11ea_9e87_677b8e0bcd08row4_col11\" class=\"data row4 col11\" >0.22</td>\n",
       "                        <td id=\"T_2e3c00da_f1f5_11ea_9e87_677b8e0bcd08row4_col12\" class=\"data row4 col12\" >-0.78</td>\n",
       "            </tr>\n",
       "            <tr>\n",
       "                        <th id=\"T_2e3c00da_f1f5_11ea_9e87_677b8e0bcd08level0_row5\" class=\"row_heading level0 row5\" >50%</th>\n",
       "                        <td id=\"T_2e3c00da_f1f5_11ea_9e87_677b8e0bcd08row5_col0\" class=\"data row5 col0\" >-0.39</td>\n",
       "                        <td id=\"T_2e3c00da_f1f5_11ea_9e87_677b8e0bcd08row5_col1\" class=\"data row5 col1\" >-0.50</td>\n",
       "                        <td id=\"T_2e3c00da_f1f5_11ea_9e87_677b8e0bcd08row5_col2\" class=\"data row5 col2\" >-0.21</td>\n",
       "                        <td id=\"T_2e3c00da_f1f5_11ea_9e87_677b8e0bcd08row5_col3\" class=\"data row5 col3\" >-0.28</td>\n",
       "                        <td id=\"T_2e3c00da_f1f5_11ea_9e87_677b8e0bcd08row5_col4\" class=\"data row5 col4\" >-0.13</td>\n",
       "                        <td id=\"T_2e3c00da_f1f5_11ea_9e87_677b8e0bcd08row5_col5\" class=\"data row5 col5\" >-0.09</td>\n",
       "                        <td id=\"T_2e3c00da_f1f5_11ea_9e87_677b8e0bcd08row5_col6\" class=\"data row5 col6\" >0.33</td>\n",
       "                        <td id=\"T_2e3c00da_f1f5_11ea_9e87_677b8e0bcd08row5_col7\" class=\"data row5 col7\" >-0.26</td>\n",
       "                        <td id=\"T_2e3c00da_f1f5_11ea_9e87_677b8e0bcd08row5_col8\" class=\"data row5 col8\" >-0.51</td>\n",
       "                        <td id=\"T_2e3c00da_f1f5_11ea_9e87_677b8e0bcd08row5_col9\" class=\"data row5 col9\" >-0.46</td>\n",
       "                        <td id=\"T_2e3c00da_f1f5_11ea_9e87_677b8e0bcd08row5_col10\" class=\"data row5 col10\" >0.30</td>\n",
       "                        <td id=\"T_2e3c00da_f1f5_11ea_9e87_677b8e0bcd08row5_col11\" class=\"data row5 col11\" >0.38</td>\n",
       "                        <td id=\"T_2e3c00da_f1f5_11ea_9e87_677b8e0bcd08row5_col12\" class=\"data row5 col12\" >-0.15</td>\n",
       "            </tr>\n",
       "            <tr>\n",
       "                        <th id=\"T_2e3c00da_f1f5_11ea_9e87_677b8e0bcd08level0_row6\" class=\"row_heading level0 row6\" >75%</th>\n",
       "                        <td id=\"T_2e3c00da_f1f5_11ea_9e87_677b8e0bcd08row6_col0\" class=\"data row6 col0\" >0.03</td>\n",
       "                        <td id=\"T_2e3c00da_f1f5_11ea_9e87_677b8e0bcd08row6_col1\" class=\"data row6 col1\" >0.31</td>\n",
       "                        <td id=\"T_2e3c00da_f1f5_11ea_9e87_677b8e0bcd08row6_col2\" class=\"data row6 col2\" >0.95</td>\n",
       "                        <td id=\"T_2e3c00da_f1f5_11ea_9e87_677b8e0bcd08row6_col3\" class=\"data row6 col3\" >-0.28</td>\n",
       "                        <td id=\"T_2e3c00da_f1f5_11ea_9e87_677b8e0bcd08row6_col4\" class=\"data row6 col4\" >0.60</td>\n",
       "                        <td id=\"T_2e3c00da_f1f5_11ea_9e87_677b8e0bcd08row6_col5\" class=\"data row6 col5\" >0.49</td>\n",
       "                        <td id=\"T_2e3c00da_f1f5_11ea_9e87_677b8e0bcd08row6_col6\" class=\"data row6 col6\" >0.93</td>\n",
       "                        <td id=\"T_2e3c00da_f1f5_11ea_9e87_677b8e0bcd08row6_col7\" class=\"data row6 col7\" >0.67</td>\n",
       "                        <td id=\"T_2e3c00da_f1f5_11ea_9e87_677b8e0bcd08row6_col8\" class=\"data row6 col8\" >1.66</td>\n",
       "                        <td id=\"T_2e3c00da_f1f5_11ea_9e87_677b8e0bcd08row6_col9\" class=\"data row6 col9\" >1.51</td>\n",
       "                        <td id=\"T_2e3c00da_f1f5_11ea_9e87_677b8e0bcd08row6_col10\" class=\"data row6 col10\" >0.81</td>\n",
       "                        <td id=\"T_2e3c00da_f1f5_11ea_9e87_677b8e0bcd08row6_col11\" class=\"data row6 col11\" >0.43</td>\n",
       "                        <td id=\"T_2e3c00da_f1f5_11ea_9e87_677b8e0bcd08row6_col12\" class=\"data row6 col12\" >0.65</td>\n",
       "            </tr>\n",
       "            <tr>\n",
       "                        <th id=\"T_2e3c00da_f1f5_11ea_9e87_677b8e0bcd08level0_row7\" class=\"row_heading level0 row7\" >max</th>\n",
       "                        <td id=\"T_2e3c00da_f1f5_11ea_9e87_677b8e0bcd08row7_col0\" class=\"data row7 col0\" >9.02</td>\n",
       "                        <td id=\"T_2e3c00da_f1f5_11ea_9e87_677b8e0bcd08row7_col1\" class=\"data row7 col1\" >3.58</td>\n",
       "                        <td id=\"T_2e3c00da_f1f5_11ea_9e87_677b8e0bcd08row7_col2\" class=\"data row7 col2\" >2.32</td>\n",
       "                        <td id=\"T_2e3c00da_f1f5_11ea_9e87_677b8e0bcd08row7_col3\" class=\"data row7 col3\" >3.55</td>\n",
       "                        <td id=\"T_2e3c00da_f1f5_11ea_9e87_677b8e0bcd08row7_col4\" class=\"data row7 col4\" >2.71</td>\n",
       "                        <td id=\"T_2e3c00da_f1f5_11ea_9e87_677b8e0bcd08row7_col5\" class=\"data row7 col5\" >3.74</td>\n",
       "                        <td id=\"T_2e3c00da_f1f5_11ea_9e87_677b8e0bcd08row7_col6\" class=\"data row7 col6\" >1.14</td>\n",
       "                        <td id=\"T_2e3c00da_f1f5_11ea_9e87_677b8e0bcd08row7_col7\" class=\"data row7 col7\" >3.29</td>\n",
       "                        <td id=\"T_2e3c00da_f1f5_11ea_9e87_677b8e0bcd08row7_col8\" class=\"data row7 col8\" >1.66</td>\n",
       "                        <td id=\"T_2e3c00da_f1f5_11ea_9e87_677b8e0bcd08row7_col9\" class=\"data row7 col9\" >1.78</td>\n",
       "                        <td id=\"T_2e3c00da_f1f5_11ea_9e87_677b8e0bcd08row7_col10\" class=\"data row7 col10\" >1.64</td>\n",
       "                        <td id=\"T_2e3c00da_f1f5_11ea_9e87_677b8e0bcd08row7_col11\" class=\"data row7 col11\" >0.43</td>\n",
       "                        <td id=\"T_2e3c00da_f1f5_11ea_9e87_677b8e0bcd08row7_col12\" class=\"data row7 col12\" >3.30</td>\n",
       "            </tr>\n",
       "    </tbody></table>"
      ],
      "text/plain": [
       "<pandas.io.formats.style.Styler at 0x7ffea452d1d0>"
      ]
     },
     "metadata": {},
     "output_type": "display_data"
    }
   ],
   "source": [
    "display(x_train.describe().style.format(\"{0:.2f}\").set_caption(\"Before normalization :\"))\n",
    "\n",
    "mean = x_train.mean()\n",
    "std  = x_train.std()\n",
    "x_train = (x_train - mean) / std\n",
    "x_test  = (x_test  - mean) / std\n",
    "\n",
    "display(x_train.describe().style.format(\"{0:.2f}\").set_caption(\"After normalization :\"))\n",
    "\n",
    "x_train, y_train = np.array(x_train), np.array(y_train)\n",
    "x_test,  y_test  = np.array(x_test),  np.array(y_test)\n"
   ]
  },
  {
   "cell_type": "markdown",
   "metadata": {},
   "source": [
    "## Step 4 - Build a model\n",
    "More informations about : \n",
    " - [Optimizer](https://www.tensorflow.org/api_docs/python/tf/keras/optimizers)\n",
    " - [Activation](https://www.tensorflow.org/api_docs/python/tf/keras/activations)\n",
    " - [Loss](https://www.tensorflow.org/api_docs/python/tf/keras/losses)\n",
    " - [Metrics](https://www.tensorflow.org/api_docs/python/tf/keras/metrics)"
   ]
  },
  {
   "cell_type": "code",
   "execution_count": 6,
   "metadata": {},
   "outputs": [],
   "source": [
    "  def get_model_v1(shape):\n",
    "    \n",
    "    model = keras.models.Sequential()\n",
    "    model.add(keras.layers.Input(shape, name=\"InputLayer\"))\n",
    "    model.add(keras.layers.Dense(64, activation='relu', name='Dense_n1'))\n",
    "    model.add(keras.layers.Dense(64, activation='relu', name='Dense_n2'))\n",
    "    model.add(keras.layers.Dense(1, name='Output'))\n",
    "    \n",
    "    model.compile(optimizer = 'rmsprop',\n",
    "                  loss      = 'mse',\n",
    "                  metrics   = ['mae', 'mse'] )\n",
    "    return model"
   ]
  },
  {
   "cell_type": "markdown",
   "metadata": {},
   "source": [
    "## 5 - Train the model\n",
    "### 5.1 - Get it"
   ]
  },
  {
   "cell_type": "code",
   "execution_count": 7,
   "metadata": {},
   "outputs": [
    {
     "name": "stdout",
     "output_type": "stream",
     "text": [
      "Model: \"sequential\"\n",
      "_________________________________________________________________\n",
      "Layer (type)                 Output Shape              Param #   \n",
      "=================================================================\n",
      "Dense_n1 (Dense)             (None, 64)                896       \n",
      "_________________________________________________________________\n",
      "Dense_n2 (Dense)             (None, 64)                4160      \n",
      "_________________________________________________________________\n",
      "Output (Dense)               (None, 1)                 65        \n",
      "=================================================================\n",
      "Total params: 5,121\n",
      "Trainable params: 5,121\n",
      "Non-trainable params: 0\n",
      "_________________________________________________________________\n"
     ]
    },
    {
     "data": {
      "image/png": "[encoded data removed]",
      "text/plain": [
       "<IPython.core.display.Image object>"
      ]
     },
     "metadata": {},
     "output_type": "display_data"
    }
   ],
   "source": [
    "model=get_model_v1( (13,) )\n",
    "\n",
    "model.summary()\n",
    "img=keras.utils.plot_model( model, to_file='./run/model.png', show_shapes=True, show_layer_names=True, dpi=96)\n",
    "display(img)"
   ]
  },
  {
   "cell_type": "markdown",
   "metadata": {},
   "source": [
    "### 5.2 - Add callback"
   ]
  },
  {
   "cell_type": "code",
   "execution_count": 8,
   "metadata": {},
   "outputs": [],
   "source": [
    "os.makedirs('./run/models',   mode=0o750, exist_ok=True)\n",
    "save_dir = \"./run/models/best_model.h5\"\n",
    "\n",
    "savemodel_callback = tf.keras.callbacks.ModelCheckpoint(filepath=save_dir, verbose=0, save_best_only=True)"
   ]
  },
  {
   "cell_type": "markdown",
   "metadata": {},
   "source": [
    "### 5.3 - Train it"
   ]
  },
  {
   "cell_type": "code",
   "execution_count": 9,
   "metadata": {},
   "outputs": [
    {
     "name": "stdout",
     "output_type": "stream",
     "text": [
      "Train on 354 samples, validate on 152 samples\n",
      "Epoch 1/100\n",
      "354/354 [==============================] - 1s 2ms/sample - loss: 429.1682 - mae: 18.8468 - mse: 429.1683 - val_loss: 352.0686 - val_mae: 16.2867 - val_mse: 352.0686\n",
      "Epoch 2/100\n",
      "354/354 [==============================] - 0s 220us/sample - loss: 187.3996 - mae: 11.6919 - mse: 187.3996 - val_loss: 124.8861 - val_mae: 8.8280 - val_mse: 124.8861\n",
      "Epoch 3/100\n",
      "354/354 [==============================] - 0s 226us/sample - loss: 60.9587 - mae: 6.1852 - mse: 60.9587 - val_loss: 64.7766 - val_mae: 5.7120 - val_mse: 64.7766\n",
      "Epoch 4/100\n",
      "354/354 [==============================] - 0s 215us/sample - loss: 33.4901 - mae: 4.3295 - mse: 33.4901 - val_loss: 42.7490 - val_mae: 4.3789 - val_mse: 42.7490\n",
      "Epoch 5/100\n",
      "354/354 [==============================] - 0s 218us/sample - loss: 23.7739 - mae: 3.5450 - mse: 23.7739 - val_loss: 35.5486 - val_mae: 3.8631 - val_mse: 35.5486\n",
      "Epoch 6/100\n",
      "354/354 [==============================] - 0s 224us/sample - loss: 18.6308 - mae: 3.0728 - mse: 18.6308 - val_loss: 31.7546 - val_mae: 3.6386 - val_mse: 31.7546\n",
      "Epoch 7/100\n",
      "354/354 [==============================] - 0s 219us/sample - loss: 16.3552 - mae: 2.8485 - mse: 16.3552 - val_loss: 29.6702 - val_mae: 3.5472 - val_mse: 29.6702\n",
      "Epoch 8/100\n",
      "354/354 [==============================] - 0s 225us/sample - loss: 15.0688 - mae: 2.7065 - mse: 15.0688 - val_loss: 27.7940 - val_mae: 3.4281 - val_mse: 27.7940\n",
      "Epoch 9/100\n",
      "354/354 [==============================] - 0s 219us/sample - loss: 13.7102 - mae: 2.5252 - mse: 13.7102 - val_loss: 25.8524 - val_mae: 3.3030 - val_mse: 25.8524\n",
      "Epoch 10/100\n",
      "354/354 [==============================] - 0s 214us/sample - loss: 13.0620 - mae: 2.4623 - mse: 13.0620 - val_loss: 24.1970 - val_mae: 3.2497 - val_mse: 24.1970\n",
      "Epoch 11/100\n",
      "354/354 [==============================] - 0s 181us/sample - loss: 12.3652 - mae: 2.4164 - mse: 12.3652 - val_loss: 25.3418 - val_mae: 3.2958 - val_mse: 25.3418\n",
      "Epoch 12/100\n",
      "354/354 [==============================] - 0s 209us/sample - loss: 11.8866 - mae: 2.3633 - mse: 11.8866 - val_loss: 23.2097 - val_mae: 3.1934 - val_mse: 23.2097\n",
      "Epoch 13/100\n",
      "354/354 [==============================] - 0s 175us/sample - loss: 11.5238 - mae: 2.2892 - mse: 11.5238 - val_loss: 23.2434 - val_mae: 3.1315 - val_mse: 23.2434\n",
      "Epoch 14/100\n",
      "354/354 [==============================] - 0s 208us/sample - loss: 11.1692 - mae: 2.2504 - mse: 11.1692 - val_loss: 22.5373 - val_mae: 3.0818 - val_mse: 22.5373\n",
      "Epoch 15/100\n",
      "354/354 [==============================] - 0s 215us/sample - loss: 10.8398 - mae: 2.2416 - mse: 10.8398 - val_loss: 21.5891 - val_mae: 3.0361 - val_mse: 21.5891\n",
      "Epoch 16/100\n",
      "354/354 [==============================] - 0s 171us/sample - loss: 10.7131 - mae: 2.2010 - mse: 10.7131 - val_loss: 22.0238 - val_mae: 3.0444 - val_mse: 22.0238\n",
      "Epoch 17/100\n",
      "354/354 [==============================] - 0s 207us/sample - loss: 10.4554 - mae: 2.2160 - mse: 10.4554 - val_loss: 20.3310 - val_mae: 3.0210 - val_mse: 20.3310\n",
      "Epoch 18/100\n",
      "354/354 [==============================] - 0s 215us/sample - loss: 10.1969 - mae: 2.1522 - mse: 10.1969 - val_loss: 19.8989 - val_mae: 3.0406 - val_mse: 19.8989\n",
      "Epoch 19/100\n",
      "354/354 [==============================] - 0s 231us/sample - loss: 9.8782 - mae: 2.1273 - mse: 9.8782 - val_loss: 19.5894 - val_mae: 3.0204 - val_mse: 19.5894\n",
      "Epoch 20/100\n",
      "354/354 [==============================] - 0s 179us/sample - loss: 9.6757 - mae: 2.1045 - mse: 9.6757 - val_loss: 20.2566 - val_mae: 2.9530 - val_mse: 20.2566\n",
      "Epoch 21/100\n",
      "354/354 [==============================] - 0s 209us/sample - loss: 9.7305 - mae: 2.1052 - mse: 9.7305 - val_loss: 19.3397 - val_mae: 2.9417 - val_mse: 19.3397\n",
      "Epoch 22/100\n",
      "354/354 [==============================] - 0s 173us/sample - loss: 9.3255 - mae: 2.0713 - mse: 9.3255 - val_loss: 20.6716 - val_mae: 2.9769 - val_mse: 20.6716\n",
      "Epoch 23/100\n",
      "354/354 [==============================] - 0s 174us/sample - loss: 9.4971 - mae: 2.0784 - mse: 9.4971 - val_loss: 19.5308 - val_mae: 2.8951 - val_mse: 19.5308\n",
      "Epoch 24/100\n",
      "354/354 [==============================] - 0s 171us/sample - loss: 9.3786 - mae: 2.0279 - mse: 9.3786 - val_loss: 20.0007 - val_mae: 2.9042 - val_mse: 20.0007\n",
      "Epoch 25/100\n",
      "354/354 [==============================] - 0s 164us/sample - loss: 9.2494 - mae: 2.0473 - mse: 9.2494 - val_loss: 19.8543 - val_mae: 2.9153 - val_mse: 19.8543\n",
      "Epoch 26/100\n",
      "354/354 [==============================] - 0s 178us/sample - loss: 8.8924 - mae: 1.9611 - mse: 8.8924 - val_loss: 20.1059 - val_mae: 3.0175 - val_mse: 20.1059\n",
      "Epoch 27/100\n",
      "354/354 [==============================] - 0s 211us/sample - loss: 8.8493 - mae: 1.9850 - mse: 8.8493 - val_loss: 19.0924 - val_mae: 2.9133 - val_mse: 19.0924\n",
      "Epoch 28/100\n",
      "354/354 [==============================] - 0s 222us/sample - loss: 8.7235 - mae: 1.9539 - mse: 8.7235 - val_loss: 18.8848 - val_mae: 2.8254 - val_mse: 18.8848\n",
      "Epoch 29/100\n",
      "354/354 [==============================] - 0s 212us/sample - loss: 8.4714 - mae: 1.9410 - mse: 8.4714 - val_loss: 18.6757 - val_mae: 2.8632 - val_mse: 18.6757\n",
      "Epoch 30/100\n",
      "354/354 [==============================] - 0s 213us/sample - loss: 8.5340 - mae: 1.9305 - mse: 8.5340 - val_loss: 17.5472 - val_mae: 2.9041 - val_mse: 17.5472\n",
      "Epoch 31/100\n",
      "354/354 [==============================] - 0s 173us/sample - loss: 8.2329 - mae: 1.9490 - mse: 8.2329 - val_loss: 18.3023 - val_mae: 2.8256 - val_mse: 18.3023\n",
      "Epoch 32/100\n",
      "354/354 [==============================] - 0s 179us/sample - loss: 8.2141 - mae: 1.8936 - mse: 8.2141 - val_loss: 19.1499 - val_mae: 2.9304 - val_mse: 19.1499\n",
      "Epoch 33/100\n",
      "354/354 [==============================] - 0s 168us/sample - loss: 8.1556 - mae: 1.8934 - mse: 8.1556 - val_loss: 17.6018 - val_mae: 2.7829 - val_mse: 17.6018\n",
      "Epoch 34/100\n",
      "354/354 [==============================] - 0s 213us/sample - loss: 8.0088 - mae: 1.8932 - mse: 8.0088 - val_loss: 17.0437 - val_mae: 2.7469 - val_mse: 17.0437\n",
      "Epoch 35/100\n",
      "354/354 [==============================] - 0s 233us/sample - loss: 7.7964 - mae: 1.8813 - mse: 7.7964 - val_loss: 16.5385 - val_mae: 2.7644 - val_mse: 16.5385\n",
      "Epoch 36/100\n",
      "354/354 [==============================] - 0s 172us/sample - loss: 7.9428 - mae: 1.9060 - mse: 7.9428 - val_loss: 17.1548 - val_mae: 2.8017 - val_mse: 17.1548\n",
      "Epoch 37/100\n",
      "354/354 [==============================] - 0s 166us/sample - loss: 7.8799 - mae: 1.8151 - mse: 7.8798 - val_loss: 18.0839 - val_mae: 2.7838 - val_mse: 18.0839\n",
      "Epoch 38/100\n",
      "354/354 [==============================] - 0s 166us/sample - loss: 7.9034 - mae: 1.8507 - mse: 7.9034 - val_loss: 16.7612 - val_mae: 2.7060 - val_mse: 16.7612\n",
      "Epoch 39/100\n",
      "354/354 [==============================] - 0s 171us/sample - loss: 7.6441 - mae: 1.8198 - mse: 7.6441 - val_loss: 16.7067 - val_mae: 2.7185 - val_mse: 16.7067\n",
      "Epoch 40/100\n",
      "354/354 [==============================] - 0s 173us/sample - loss: 7.7784 - mae: 1.8554 - mse: 7.7784 - val_loss: 16.5735 - val_mae: 2.6828 - val_mse: 16.5735\n",
      "Epoch 41/100\n",
      "354/354 [==============================] - 0s 222us/sample - loss: 7.4901 - mae: 1.8260 - mse: 7.4901 - val_loss: 16.4810 - val_mae: 2.6926 - val_mse: 16.4810\n",
      "Epoch 42/100\n",
      "354/354 [==============================] - 0s 171us/sample - loss: 7.4583 - mae: 1.7847 - mse: 7.4583 - val_loss: 16.6520 - val_mae: 2.6816 - val_mse: 16.6520\n",
      "Epoch 43/100\n",
      "354/354 [==============================] - 0s 213us/sample - loss: 7.1234 - mae: 1.8169 - mse: 7.1234 - val_loss: 16.1394 - val_mae: 2.8231 - val_mse: 16.1394\n",
      "Epoch 44/100\n",
      "354/354 [==============================] - 0s 176us/sample - loss: 7.3209 - mae: 1.8194 - mse: 7.3209 - val_loss: 17.1395 - val_mae: 2.7080 - val_mse: 17.1395\n",
      "Epoch 45/100\n",
      "354/354 [==============================] - 0s 175us/sample - loss: 7.2618 - mae: 1.7858 - mse: 7.2618 - val_loss: 16.5276 - val_mae: 2.6765 - val_mse: 16.5276\n",
      "Epoch 46/100\n",
      "354/354 [==============================] - 0s 174us/sample - loss: 7.0747 - mae: 1.7662 - mse: 7.0747 - val_loss: 16.8039 - val_mae: 2.7428 - val_mse: 16.8039\n",
      "Epoch 47/100\n",
      "354/354 [==============================] - 0s 205us/sample - loss: 6.9520 - mae: 1.7333 - mse: 6.9520 - val_loss: 15.9968 - val_mae: 2.6659 - val_mse: 15.9968\n",
      "Epoch 48/100\n",
      "354/354 [==============================] - 0s 178us/sample - loss: 6.9232 - mae: 1.7301 - mse: 6.9232 - val_loss: 16.2660 - val_mae: 2.6494 - val_mse: 16.2660\n",
      "Epoch 49/100\n",
      "354/354 [==============================] - 0s 207us/sample - loss: 7.0229 - mae: 1.7404 - mse: 7.0229 - val_loss: 15.6720 - val_mae: 2.6691 - val_mse: 15.6720\n",
      "Epoch 50/100\n",
      "354/354 [==============================] - 0s 184us/sample - loss: 6.7251 - mae: 1.7580 - mse: 6.7251 - val_loss: 17.0077 - val_mae: 2.7250 - val_mse: 17.0077\n",
      "Epoch 51/100\n",
      "354/354 [==============================] - 0s 185us/sample - loss: 6.8393 - mae: 1.7131 - mse: 6.8393 - val_loss: 16.5671 - val_mae: 2.6707 - val_mse: 16.5671\n",
      "Epoch 52/100\n",
      "354/354 [==============================] - 0s 175us/sample - loss: 6.6647 - mae: 1.6831 - mse: 6.6647 - val_loss: 16.2175 - val_mae: 2.6816 - val_mse: 16.2175\n",
      "Epoch 53/100\n",
      "354/354 [==============================] - 0s 174us/sample - loss: 6.5925 - mae: 1.7133 - mse: 6.5925 - val_loss: 16.8129 - val_mae: 2.6882 - val_mse: 16.8129\n",
      "Epoch 54/100\n",
      "354/354 [==============================] - 0s 211us/sample - loss: 6.5071 - mae: 1.6980 - mse: 6.5071 - val_loss: 15.6172 - val_mae: 2.7470 - val_mse: 15.6172\n",
      "Epoch 55/100\n",
      "354/354 [==============================] - 0s 237us/sample - loss: 6.4762 - mae: 1.7064 - mse: 6.4762 - val_loss: 15.1044 - val_mae: 2.6354 - val_mse: 15.1044\n",
      "Epoch 56/100\n",
      "354/354 [==============================] - 0s 173us/sample - loss: 6.2826 - mae: 1.6902 - mse: 6.2826 - val_loss: 17.5892 - val_mae: 2.8422 - val_mse: 17.5892\n",
      "Epoch 57/100\n",
      "354/354 [==============================] - 0s 162us/sample - loss: 6.5736 - mae: 1.7001 - mse: 6.5736 - val_loss: 15.5415 - val_mae: 2.6102 - val_mse: 15.5415\n",
      "Epoch 58/100\n",
      "354/354 [==============================] - 0s 158us/sample - loss: 6.3667 - mae: 1.6807 - mse: 6.3667 - val_loss: 15.3699 - val_mae: 2.6143 - val_mse: 15.3699\n",
      "Epoch 59/100\n",
      "354/354 [==============================] - 0s 175us/sample - loss: 6.3116 - mae: 1.6672 - mse: 6.3116 - val_loss: 15.1690 - val_mae: 2.6191 - val_mse: 15.1690\n",
      "Epoch 60/100\n",
      "354/354 [==============================] - 0s 166us/sample - loss: 6.0480 - mae: 1.6076 - mse: 6.0480 - val_loss: 15.4159 - val_mae: 2.5666 - val_mse: 15.4159\n",
      "Epoch 61/100\n",
      "354/354 [==============================] - 0s 168us/sample - loss: 5.9372 - mae: 1.6170 - mse: 5.9372 - val_loss: 16.3723 - val_mae: 2.7008 - val_mse: 16.3723\n",
      "Epoch 62/100\n",
      "354/354 [==============================] - 0s 209us/sample - loss: 6.2295 - mae: 1.6809 - mse: 6.2295 - val_loss: 14.4432 - val_mae: 2.5659 - val_mse: 14.4432\n",
      "Epoch 63/100\n",
      "354/354 [==============================] - 0s 173us/sample - loss: 6.0430 - mae: 1.6175 - mse: 6.0430 - val_loss: 15.7230 - val_mae: 2.6120 - val_mse: 15.7230\n",
      "Epoch 64/100\n",
      "354/354 [==============================] - 0s 165us/sample - loss: 5.8128 - mae: 1.5988 - mse: 5.8128 - val_loss: 15.3515 - val_mae: 2.6344 - val_mse: 15.3515\n",
      "Epoch 65/100\n",
      "354/354 [==============================] - 0s 163us/sample - loss: 6.0937 - mae: 1.6535 - mse: 6.0937 - val_loss: 15.0359 - val_mae: 2.6071 - val_mse: 15.0359\n",
      "Epoch 66/100\n",
      "354/354 [==============================] - 0s 175us/sample - loss: 5.9493 - mae: 1.6212 - mse: 5.9493 - val_loss: 14.5079 - val_mae: 2.5570 - val_mse: 14.5079\n",
      "Epoch 67/100\n",
      "354/354 [==============================] - 0s 167us/sample - loss: 5.7467 - mae: 1.5815 - mse: 5.7467 - val_loss: 15.6834 - val_mae: 2.6418 - val_mse: 15.6834\n",
      "Epoch 68/100\n",
      "354/354 [==============================] - 0s 175us/sample - loss: 5.7754 - mae: 1.5822 - mse: 5.7754 - val_loss: 15.3485 - val_mae: 2.6661 - val_mse: 15.3485\n",
      "Epoch 69/100\n",
      "354/354 [==============================] - 0s 166us/sample - loss: 5.8671 - mae: 1.6219 - mse: 5.8671 - val_loss: 14.7226 - val_mae: 2.5691 - val_mse: 14.7226\n",
      "Epoch 70/100\n",
      "354/354 [==============================] - 0s 161us/sample - loss: 5.5371 - mae: 1.5618 - mse: 5.5371 - val_loss: 15.4694 - val_mae: 2.7397 - val_mse: 15.4694\n",
      "Epoch 71/100\n",
      "354/354 [==============================] - 0s 184us/sample - loss: 5.7798 - mae: 1.6298 - mse: 5.7798 - val_loss: 14.9847 - val_mae: 2.5864 - val_mse: 14.9847\n",
      "Epoch 72/100\n",
      "354/354 [==============================] - 0s 215us/sample - loss: 5.6852 - mae: 1.5909 - mse: 5.6852 - val_loss: 14.4344 - val_mae: 2.5542 - val_mse: 14.4344\n",
      "Epoch 73/100\n",
      "354/354 [==============================] - 0s 226us/sample - loss: 5.4654 - mae: 1.5450 - mse: 5.4654 - val_loss: 13.7925 - val_mae: 2.5750 - val_mse: 13.7925\n",
      "Epoch 74/100\n",
      "354/354 [==============================] - 0s 174us/sample - loss: 5.4204 - mae: 1.5595 - mse: 5.4204 - val_loss: 14.3083 - val_mae: 2.5919 - val_mse: 14.3083\n",
      "Epoch 75/100\n",
      "354/354 [==============================] - 0s 170us/sample - loss: 5.3183 - mae: 1.5827 - mse: 5.3183 - val_loss: 14.8913 - val_mae: 2.6033 - val_mse: 14.8913\n",
      "Epoch 76/100\n",
      "354/354 [==============================] - 0s 162us/sample - loss: 5.4595 - mae: 1.5874 - mse: 5.4595 - val_loss: 14.0410 - val_mae: 2.6021 - val_mse: 14.0410\n",
      "Epoch 77/100\n",
      "354/354 [==============================] - 0s 165us/sample - loss: 5.3295 - mae: 1.5586 - mse: 5.3295 - val_loss: 14.4499 - val_mae: 2.6315 - val_mse: 14.4499\n",
      "Epoch 78/100\n",
      "354/354 [==============================] - 0s 170us/sample - loss: 5.3187 - mae: 1.5144 - mse: 5.3187 - val_loss: 14.8048 - val_mae: 2.6123 - val_mse: 14.8048\n",
      "Epoch 79/100\n",
      "354/354 [==============================] - 0s 163us/sample - loss: 5.0078 - mae: 1.5458 - mse: 5.0078 - val_loss: 16.8855 - val_mae: 2.7085 - val_mse: 16.8855\n",
      "Epoch 80/100\n",
      "354/354 [==============================] - 0s 165us/sample - loss: 5.2642 - mae: 1.5158 - mse: 5.2642 - val_loss: 14.1548 - val_mae: 2.5029 - val_mse: 14.1548\n",
      "Epoch 81/100\n",
      "354/354 [==============================] - 0s 157us/sample - loss: 5.1865 - mae: 1.5163 - mse: 5.1865 - val_loss: 14.0614 - val_mae: 2.5335 - val_mse: 14.0614\n",
      "Epoch 82/100\n",
      "354/354 [==============================] - 0s 185us/sample - loss: 5.0460 - mae: 1.5366 - mse: 5.0460 - val_loss: 14.5370 - val_mae: 2.5429 - val_mse: 14.5370\n",
      "Epoch 83/100\n",
      "354/354 [==============================] - 0s 174us/sample - loss: 4.9748 - mae: 1.5005 - mse: 4.9748 - val_loss: 14.7812 - val_mae: 2.6546 - val_mse: 14.7812\n",
      "Epoch 84/100\n",
      "354/354 [==============================] - 0s 173us/sample - loss: 5.1114 - mae: 1.5233 - mse: 5.1114 - val_loss: 14.6264 - val_mae: 2.5917 - val_mse: 14.6264\n",
      "Epoch 85/100\n",
      "354/354 [==============================] - 0s 173us/sample - loss: 4.9709 - mae: 1.4471 - mse: 4.9709 - val_loss: 14.4156 - val_mae: 2.5713 - val_mse: 14.4156\n",
      "Epoch 86/100\n",
      "354/354 [==============================] - 0s 218us/sample - loss: 4.7742 - mae: 1.4547 - mse: 4.7742 - val_loss: 13.4703 - val_mae: 2.6523 - val_mse: 13.4703\n",
      "Epoch 87/100\n",
      "354/354 [==============================] - 0s 176us/sample - loss: 5.0550 - mae: 1.4842 - mse: 5.0550 - val_loss: 13.4970 - val_mae: 2.5958 - val_mse: 13.4970\n",
      "Epoch 88/100\n",
      "354/354 [==============================] - 0s 167us/sample - loss: 4.6993 - mae: 1.5044 - mse: 4.6993 - val_loss: 13.9216 - val_mae: 2.5554 - val_mse: 13.9216\n",
      "Epoch 89/100\n",
      "354/354 [==============================] - 0s 164us/sample - loss: 4.7660 - mae: 1.4815 - mse: 4.7660 - val_loss: 13.6762 - val_mae: 2.5521 - val_mse: 13.6762\n",
      "Epoch 90/100\n",
      "354/354 [==============================] - 0s 166us/sample - loss: 4.6544 - mae: 1.4618 - mse: 4.6544 - val_loss: 14.6759 - val_mae: 2.5828 - val_mse: 14.6759\n",
      "Epoch 91/100\n",
      "354/354 [==============================] - 0s 240us/sample - loss: 4.7288 - mae: 1.4415 - mse: 4.7288 - val_loss: 13.2609 - val_mae: 2.6077 - val_mse: 13.2609\n",
      "Epoch 92/100\n",
      "354/354 [==============================] - 0s 177us/sample - loss: 4.6730 - mae: 1.4331 - mse: 4.6730 - val_loss: 13.4463 - val_mae: 2.7238 - val_mse: 13.4463\n",
      "Epoch 93/100\n",
      "354/354 [==============================] - 0s 163us/sample - loss: 4.4141 - mae: 1.4512 - mse: 4.4141 - val_loss: 13.6472 - val_mae: 2.5763 - val_mse: 13.6472\n",
      "Epoch 94/100\n",
      "354/354 [==============================] - 0s 165us/sample - loss: 4.5136 - mae: 1.4138 - mse: 4.5136 - val_loss: 15.7465 - val_mae: 2.7020 - val_mse: 15.7465\n",
      "Epoch 95/100\n",
      "354/354 [==============================] - 0s 168us/sample - loss: 4.6733 - mae: 1.4679 - mse: 4.6733 - val_loss: 13.3843 - val_mae: 2.5652 - val_mse: 13.3843\n",
      "Epoch 96/100\n",
      "354/354 [==============================] - 0s 174us/sample - loss: 4.6895 - mae: 1.4674 - mse: 4.6895 - val_loss: 13.7346 - val_mae: 2.5467 - val_mse: 13.7346\n",
      "Epoch 97/100\n",
      "354/354 [==============================] - 0s 166us/sample - loss: 4.3689 - mae: 1.4277 - mse: 4.3689 - val_loss: 13.6955 - val_mae: 2.5702 - val_mse: 13.6955\n",
      "Epoch 98/100\n",
      "354/354 [==============================] - 0s 167us/sample - loss: 4.3953 - mae: 1.3996 - mse: 4.3953 - val_loss: 13.6977 - val_mae: 2.5888 - val_mse: 13.6977\n",
      "Epoch 99/100\n",
      "354/354 [==============================] - 0s 160us/sample - loss: 4.3799 - mae: 1.4405 - mse: 4.3799 - val_loss: 15.0689 - val_mae: 2.6300 - val_mse: 15.0689\n",
      "Epoch 100/100\n",
      "354/354 [==============================] - 0s 205us/sample - loss: 4.3640 - mae: 1.4099 - mse: 4.3640 - val_loss: 12.8820 - val_mae: 2.5248 - val_mse: 12.8820\n"
     ]
    }
   ],
   "source": [
    "history = model.fit(x_train,\n",
    "                    y_train,\n",
    "                    epochs          = 100,\n",
    "                    batch_size      = 10,\n",
    "                    verbose         = 1,\n",
    "                    validation_data = (x_test, y_test),\n",
    "                    callbacks       = [savemodel_callback])"
   ]
  },
  {
   "cell_type": "markdown",
   "metadata": {},
   "source": [
    "## Step 6 - Evaluate\n",
    "### 6.1 - Model evaluation\n",
    "MAE =  Mean Absolute Error (between the labels and predictions)  \n",
    "A mae equal to 3 represents an average error in prediction of $3k."
   ]
  },
  {
   "cell_type": "code",
   "execution_count": 10,
   "metadata": {},
   "outputs": [
    {
     "name": "stdout",
     "output_type": "stream",
     "text": [
      "x_test / loss      : 12.8820\n",
      "x_test / mae       : 2.5248\n",
      "x_test / mse       : 12.8820\n"
     ]
    }
   ],
   "source": [
    "score = model.evaluate(x_test, y_test, verbose=0)\n",
    "\n",
    "print('x_test / loss      : {:5.4f}'.format(score[0]))\n",
    "print('x_test / mae       : {:5.4f}'.format(score[1]))\n",
    "print('x_test / mse       : {:5.4f}'.format(score[2]))"
   ]
  },
  {
   "cell_type": "markdown",
   "metadata": {},
   "source": [
    "### 6.2 - Training history\n",
    "What was the best result during our training ?"
   ]
  },
  {
   "cell_type": "code",
   "execution_count": 11,
   "metadata": {},
   "outputs": [
    {
     "name": "stdout",
     "output_type": "stream",
     "text": [
      "min( val_mae ) : 2.5029\n"
     ]
    }
   ],
   "source": [
    "print(\"min( val_mae ) : {:.4f}\".format( min(history.history[\"val_mae\"]) ) )"
   ]
  },
  {
   "cell_type": "code",
   "execution_count": 12,
   "metadata": {},
   "outputs": [
    {
     "data": {
      "image/png": "[encoded data removed]",
      "text/plain": [
       "<Figure size 576x432 with 1 Axes>"
      ]
     },
     "metadata": {
      "needs_background": "light"
     },
     "output_type": "display_data"
    },
    {
     "data": {
      "image/png": "[encoded data removed]",
      "text/plain": [
       "<Figure size 576x432 with 1 Axes>"
      ]
     },
     "metadata": {
      "needs_background": "light"
     },
     "output_type": "display_data"
    },
    {
     "data": {
      "image/png": "[encoded data removed]",
      "text/plain": [
       "<Figure size 576x432 with 1 Axes>"
      ]
     },
     "metadata": {
      "needs_background": "light"
     },
     "output_type": "display_data"
    }
   ],
   "source": [
    "ooo.plot_history(history, plot={'MSE' :['mse', 'val_mse'],\n",
    "                                'MAE' :['mae', 'val_mae'],\n",
    "                                'LOSS':['loss','val_loss']})"
   ]
  },
  {
   "cell_type": "markdown",
   "metadata": {},
   "source": [
    "## Step 7 - Restore a model :"
   ]
  },
  {
   "cell_type": "markdown",
   "metadata": {},
   "source": [
    "### 7.1 - Reload model"
   ]
  },
  {
   "cell_type": "code",
   "execution_count": 13,
   "metadata": {},
   "outputs": [
    {
     "name": "stdout",
     "output_type": "stream",
     "text": [
      "Model: \"sequential\"\n",
      "_________________________________________________________________\n",
      "Layer (type)                 Output Shape              Param #   \n",
      "=================================================================\n",
      "Dense_n1 (Dense)             (None, 64)                896       \n",
      "_________________________________________________________________\n",
      "Dense_n2 (Dense)             (None, 64)                4160      \n",
      "_________________________________________________________________\n",
      "Output (Dense)               (None, 1)                 65        \n",
      "=================================================================\n",
      "Total params: 5,121\n",
      "Trainable params: 5,121\n",
      "Non-trainable params: 0\n",
      "_________________________________________________________________\n",
      "Loaded.\n"
     ]
    }
   ],
   "source": [
    "loaded_model = tf.keras.models.load_model('./run/models/best_model.h5')\n",
    "loaded_model.summary()\n",
    "print(\"Loaded.\")"
   ]
  },
  {
   "cell_type": "markdown",
   "metadata": {},
   "source": [
    "### 7.2 - Evaluate it :"
   ]
  },
  {
   "cell_type": "code",
   "execution_count": 14,
   "metadata": {},
   "outputs": [
    {
     "name": "stdout",
     "output_type": "stream",
     "text": [
      "x_test / loss      : 12.8820\n",
      "x_test / mae       : 2.5248\n",
      "x_test / mse       : 12.8820\n"
     ]
    }
   ],
   "source": [
    "score = loaded_model.evaluate(x_test, y_test, verbose=0)\n",
    "\n",
    "print('x_test / loss      : {:5.4f}'.format(score[0]))\n",
    "print('x_test / mae       : {:5.4f}'.format(score[1]))\n",
    "print('x_test / mse       : {:5.4f}'.format(score[2]))"
   ]
  },
  {
   "cell_type": "markdown",
   "metadata": {},
   "source": [
    "### 7.3 - Make a prediction"
   ]
  },
  {
   "cell_type": "code",
   "execution_count": 15,
   "metadata": {},
   "outputs": [],
   "source": [
    "my_data = [ 1.26425925, -0.48522739,  1.0436489 , -0.23112788,  1.37120745,\n",
    "       -2.14308942,  1.13489104, -1.06802005,  1.71189006,  1.57042287,\n",
    "        0.77859951,  0.14769795,  2.7585581 ]\n",
    "real_price = 10.4\n",
    "\n",
    "my_data=np.array(my_data).reshape(1,13)"
   ]
  },
  {
   "cell_type": "code",
   "execution_count": 16,
   "metadata": {},
   "outputs": [
    {
     "name": "stdout",
     "output_type": "stream",
     "text": [
      "Prediction : 10.39 K$   Reality : 10.40 K$\n"
     ]
    }
   ],
   "source": [
    "predictions = loaded_model.predict( my_data )\n",
    "print(\"Prediction : {:.2f} K$   Reality : {:.2f} K$\".format(predictions[0][0], real_price))"
   ]
  },
  {
   "cell_type": "markdown",
   "metadata": {},
   "source": [
    "---\n",
    "<img width=\"80px\" src=\"../fidle/img/00-Fidle-logo-01.svg\"></img>"
   ]
  }
 ],
 "metadata": {
  "kernelspec": {
   "display_name": "Python 3",
   "language": "python",
   "name": "python3"
  },
  "language_info": {
   "codemirror_mode": {
    "name": "ipython",
    "version": 3
   },
   "file_extension": ".py",
   "mimetype": "text/x-python",
   "name": "python",
   "nbconvert_exporter": "python",
   "pygments_lexer": "ipython3",
   "version": "3.7.7"
  }
 },
 "nbformat": 4,
 "nbformat_minor": 4
}
