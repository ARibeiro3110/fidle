{
 "cells": [
  {
   "cell_type": "markdown",
   "metadata": {},
   "source": [
    "<img width=\"800px\" src=\"../fidle/img/00-Fidle-header-01.svg\"></img>\n",
    "\n",
    "# <!-- TITLE --> [BHP2] - Regression with a Dense Network (DNN) - Advanced code\n",
    "  <!-- DESC -->  More advanced example of DNN network code - BHPD dataset\n",
    "  <!-- AUTHOR : Jean-Luc Parouty (CNRS/SIMaP) -->\n",
    "\n",
    "## Objectives :\n",
    " - Predicts **housing prices** from a set of house features. \n",
    " - Understanding the principle and the architecture of a regression with a dense neural network with backup and restore of the trained model. \n",
    "\n",
    "The **[Boston Housing Dataset](https://www.cs.toronto.edu/~delve/data/boston/bostonDetail.html)** consists of price of houses in various places in Boston.  \n",
    "Alongside with price, the dataset also provide these information :\n",
    "\n",
    " - CRIM: This is the per capita crime rate by town\n",
    " - ZN: This is the proportion of residential land zoned for lots larger than 25,000 sq.ft\n",
    " - INDUS: This is the proportion of non-retail business acres per town\n",
    " - CHAS: This is the Charles River dummy variable (this is equal to 1 if tract bounds river; 0 otherwise)\n",
    " - NOX: This is the nitric oxides concentration (parts per 10 million)\n",
    " - RM: This is the average number of rooms per dwelling\n",
    " - AGE: This is the proportion of owner-occupied units built prior to 1940\n",
    " - DIS: This is the weighted distances to five Boston employment centers\n",
    " - RAD: This is the index of accessibility to radial highways\n",
    " - TAX: This is the full-value property-tax rate per 10,000 dollars\n",
    " - PTRATIO: This is the pupil-teacher ratio by town\n",
    " - B: This is calculated as 1000(Bk — 0.63)^2, where Bk is the proportion of people of African American descent by town\n",
    " - LSTAT: This is the percentage lower status of the population\n",
    " - MEDV: This is the median value of owner-occupied homes in 1000 dollars\n",
    "\n",
    "## What we're going to do :\n",
    "\n",
    " - (Retrieve data)\n",
    " - (Preparing the data)\n",
    " - (Build a model)\n",
    " - Train and save the model\n",
    " - Restore saved model\n",
    " - Evaluate the model\n",
    " - Make some predictions\n"
   ]
  },
  {
   "cell_type": "markdown",
   "metadata": {},
   "source": [
    "## Step 1 - Import and init"
   ]
  },
  {
   "cell_type": "code",
   "execution_count": 1,
   "metadata": {},
   "outputs": [
    {
     "data": {
      "text/html": [
       "<style>\n",
       "\n",
       "div.warn {    \n",
       "    background-color: #fcf2f2;\n",
       "    border-color: #dFb5b4;\n",
       "    border-left: 5px solid #dfb5b4;\n",
       "    padding: 0.5em;\n",
       "    font-weight: bold;\n",
       "    font-size: 1.1em;;\n",
       "    }\n",
       "\n",
       "\n",
       "\n",
       "div.nota {    \n",
       "    background-color: #DAFFDE;\n",
       "    border-left: 5px solid #92CC99;\n",
       "    padding: 0.5em;\n",
       "    }\n",
       "\n",
       "div.todo:before { content:url(data:image/svg+xml;base64,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);\n",
       "    float:left;\n",
       "    margin-right:20px;\n",
       "    margin-top:-20px;\n",
       "    margin-bottom:20px;\n",
       "}\n",
       "div.todo{\n",
       "    font-weight: bold;\n",
       "    font-size: 1.1em;\n",
       "    margin-top:40px;\n",
       "}\n",
       "div.todo ul{\n",
       "    margin: 0.2em;\n",
       "}\n",
       "div.todo li{\n",
       "    margin-left:60px;\n",
       "    margin-top:0;\n",
       "    margin-bottom:0;\n",
       "}\n",
       "\n",
       "\n",
       "</style>\n",
       "\n"
      ],
      "text/plain": [
       "<IPython.core.display.HTML object>"
      ]
     },
     "metadata": {},
     "output_type": "display_data"
    },
    {
     "name": "stdout",
     "output_type": "stream",
     "text": [
      "\n",
      "FIDLE 2020 - Practical Work Module\n",
      "Version              : 0.6.1 DEV\n",
      "Notebook id          : BHP2\n",
      "Run time             : Tuesday 15 December 2020, 22:05:15\n",
      "TensorFlow version   : 2.0.0\n",
      "Keras version        : 2.2.4-tf\n",
      "Datasets dir         : /home/pjluc/datasets/fidle\n",
      "Update keras cache   : False\n"
     ]
    }
   ],
   "source": [
    "import tensorflow as tf\n",
    "from tensorflow import keras\n",
    "\n",
    "import numpy as np\n",
    "import matplotlib.pyplot as plt\n",
    "import pandas as pd\n",
    "import os,sys\n",
    "\n",
    "from IPython.display import Markdown\n",
    "from importlib import reload\n",
    "\n",
    "sys.path.append('..')\n",
    "import fidle.pwk as pwk\n",
    "\n",
    "datasets_dir = pwk.init('BHP2')"
   ]
  },
  {
   "cell_type": "markdown",
   "metadata": {},
   "source": [
    "## Step 2 - Retrieve data\n",
    "\n",
    "### 2.1 - Option 1  : From Keras\n",
    "Boston housing is a famous historic dataset, so we can get it directly from [Keras datasets](https://www.tensorflow.org/api_docs/python/tf/keras/datasets)  "
   ]
  },
  {
   "cell_type": "code",
   "execution_count": 2,
   "metadata": {},
   "outputs": [],
   "source": [
    "# (x_train, y_train), (x_test, y_test) = keras.datasets.boston_housing.load_data(test_split=0.2, seed=113)"
   ]
  },
  {
   "cell_type": "markdown",
   "metadata": {},
   "source": [
    "### 2.2 - Option 2 : From a csv file\n",
    "More fun !"
   ]
  },
  {
   "cell_type": "code",
   "execution_count": 3,
   "metadata": {},
   "outputs": [
    {
     "data": {
      "text/html": [
       "<style  type=\"text/css\" >\n",
       "</style><table id=\"T_3ad09fba_3f19_11eb_8e70_3dad9513ffb3\" ><thead>    <tr>        <th class=\"blank level0\" ></th>        <th class=\"col_heading level0 col0\" >crim</th>        <th class=\"col_heading level0 col1\" >zn</th>        <th class=\"col_heading level0 col2\" >indus</th>        <th class=\"col_heading level0 col3\" >chas</th>        <th class=\"col_heading level0 col4\" >nox</th>        <th class=\"col_heading level0 col5\" >rm</th>        <th class=\"col_heading level0 col6\" >age</th>        <th class=\"col_heading level0 col7\" >dis</th>        <th class=\"col_heading level0 col8\" >rad</th>        <th class=\"col_heading level0 col9\" >tax</th>        <th class=\"col_heading level0 col10\" >ptratio</th>        <th class=\"col_heading level0 col11\" >b</th>        <th class=\"col_heading level0 col12\" >lstat</th>        <th class=\"col_heading level0 col13\" >medv</th>    </tr></thead><tbody>\n",
       "                <tr>\n",
       "                        <th id=\"T_3ad09fba_3f19_11eb_8e70_3dad9513ffb3level0_row0\" class=\"row_heading level0 row0\" >0</th>\n",
       "                        <td id=\"T_3ad09fba_3f19_11eb_8e70_3dad9513ffb3row0_col0\" class=\"data row0 col0\" >0.01</td>\n",
       "                        <td id=\"T_3ad09fba_3f19_11eb_8e70_3dad9513ffb3row0_col1\" class=\"data row0 col1\" >18.00</td>\n",
       "                        <td id=\"T_3ad09fba_3f19_11eb_8e70_3dad9513ffb3row0_col2\" class=\"data row0 col2\" >2.31</td>\n",
       "                        <td id=\"T_3ad09fba_3f19_11eb_8e70_3dad9513ffb3row0_col3\" class=\"data row0 col3\" >0.00</td>\n",
       "                        <td id=\"T_3ad09fba_3f19_11eb_8e70_3dad9513ffb3row0_col4\" class=\"data row0 col4\" >0.54</td>\n",
       "                        <td id=\"T_3ad09fba_3f19_11eb_8e70_3dad9513ffb3row0_col5\" class=\"data row0 col5\" >6.58</td>\n",
       "                        <td id=\"T_3ad09fba_3f19_11eb_8e70_3dad9513ffb3row0_col6\" class=\"data row0 col6\" >65.20</td>\n",
       "                        <td id=\"T_3ad09fba_3f19_11eb_8e70_3dad9513ffb3row0_col7\" class=\"data row0 col7\" >4.09</td>\n",
       "                        <td id=\"T_3ad09fba_3f19_11eb_8e70_3dad9513ffb3row0_col8\" class=\"data row0 col8\" >1.00</td>\n",
       "                        <td id=\"T_3ad09fba_3f19_11eb_8e70_3dad9513ffb3row0_col9\" class=\"data row0 col9\" >296.00</td>\n",
       "                        <td id=\"T_3ad09fba_3f19_11eb_8e70_3dad9513ffb3row0_col10\" class=\"data row0 col10\" >15.30</td>\n",
       "                        <td id=\"T_3ad09fba_3f19_11eb_8e70_3dad9513ffb3row0_col11\" class=\"data row0 col11\" >396.90</td>\n",
       "                        <td id=\"T_3ad09fba_3f19_11eb_8e70_3dad9513ffb3row0_col12\" class=\"data row0 col12\" >4.98</td>\n",
       "                        <td id=\"T_3ad09fba_3f19_11eb_8e70_3dad9513ffb3row0_col13\" class=\"data row0 col13\" >24.00</td>\n",
       "            </tr>\n",
       "            <tr>\n",
       "                        <th id=\"T_3ad09fba_3f19_11eb_8e70_3dad9513ffb3level0_row1\" class=\"row_heading level0 row1\" >1</th>\n",
       "                        <td id=\"T_3ad09fba_3f19_11eb_8e70_3dad9513ffb3row1_col0\" class=\"data row1 col0\" >0.03</td>\n",
       "                        <td id=\"T_3ad09fba_3f19_11eb_8e70_3dad9513ffb3row1_col1\" class=\"data row1 col1\" >0.00</td>\n",
       "                        <td id=\"T_3ad09fba_3f19_11eb_8e70_3dad9513ffb3row1_col2\" class=\"data row1 col2\" >7.07</td>\n",
       "                        <td id=\"T_3ad09fba_3f19_11eb_8e70_3dad9513ffb3row1_col3\" class=\"data row1 col3\" >0.00</td>\n",
       "                        <td id=\"T_3ad09fba_3f19_11eb_8e70_3dad9513ffb3row1_col4\" class=\"data row1 col4\" >0.47</td>\n",
       "                        <td id=\"T_3ad09fba_3f19_11eb_8e70_3dad9513ffb3row1_col5\" class=\"data row1 col5\" >6.42</td>\n",
       "                        <td id=\"T_3ad09fba_3f19_11eb_8e70_3dad9513ffb3row1_col6\" class=\"data row1 col6\" >78.90</td>\n",
       "                        <td id=\"T_3ad09fba_3f19_11eb_8e70_3dad9513ffb3row1_col7\" class=\"data row1 col7\" >4.97</td>\n",
       "                        <td id=\"T_3ad09fba_3f19_11eb_8e70_3dad9513ffb3row1_col8\" class=\"data row1 col8\" >2.00</td>\n",
       "                        <td id=\"T_3ad09fba_3f19_11eb_8e70_3dad9513ffb3row1_col9\" class=\"data row1 col9\" >242.00</td>\n",
       "                        <td id=\"T_3ad09fba_3f19_11eb_8e70_3dad9513ffb3row1_col10\" class=\"data row1 col10\" >17.80</td>\n",
       "                        <td id=\"T_3ad09fba_3f19_11eb_8e70_3dad9513ffb3row1_col11\" class=\"data row1 col11\" >396.90</td>\n",
       "                        <td id=\"T_3ad09fba_3f19_11eb_8e70_3dad9513ffb3row1_col12\" class=\"data row1 col12\" >9.14</td>\n",
       "                        <td id=\"T_3ad09fba_3f19_11eb_8e70_3dad9513ffb3row1_col13\" class=\"data row1 col13\" >21.60</td>\n",
       "            </tr>\n",
       "            <tr>\n",
       "                        <th id=\"T_3ad09fba_3f19_11eb_8e70_3dad9513ffb3level0_row2\" class=\"row_heading level0 row2\" >2</th>\n",
       "                        <td id=\"T_3ad09fba_3f19_11eb_8e70_3dad9513ffb3row2_col0\" class=\"data row2 col0\" >0.03</td>\n",
       "                        <td id=\"T_3ad09fba_3f19_11eb_8e70_3dad9513ffb3row2_col1\" class=\"data row2 col1\" >0.00</td>\n",
       "                        <td id=\"T_3ad09fba_3f19_11eb_8e70_3dad9513ffb3row2_col2\" class=\"data row2 col2\" >7.07</td>\n",
       "                        <td id=\"T_3ad09fba_3f19_11eb_8e70_3dad9513ffb3row2_col3\" class=\"data row2 col3\" >0.00</td>\n",
       "                        <td id=\"T_3ad09fba_3f19_11eb_8e70_3dad9513ffb3row2_col4\" class=\"data row2 col4\" >0.47</td>\n",
       "                        <td id=\"T_3ad09fba_3f19_11eb_8e70_3dad9513ffb3row2_col5\" class=\"data row2 col5\" >7.18</td>\n",
       "                        <td id=\"T_3ad09fba_3f19_11eb_8e70_3dad9513ffb3row2_col6\" class=\"data row2 col6\" >61.10</td>\n",
       "                        <td id=\"T_3ad09fba_3f19_11eb_8e70_3dad9513ffb3row2_col7\" class=\"data row2 col7\" >4.97</td>\n",
       "                        <td id=\"T_3ad09fba_3f19_11eb_8e70_3dad9513ffb3row2_col8\" class=\"data row2 col8\" >2.00</td>\n",
       "                        <td id=\"T_3ad09fba_3f19_11eb_8e70_3dad9513ffb3row2_col9\" class=\"data row2 col9\" >242.00</td>\n",
       "                        <td id=\"T_3ad09fba_3f19_11eb_8e70_3dad9513ffb3row2_col10\" class=\"data row2 col10\" >17.80</td>\n",
       "                        <td id=\"T_3ad09fba_3f19_11eb_8e70_3dad9513ffb3row2_col11\" class=\"data row2 col11\" >392.83</td>\n",
       "                        <td id=\"T_3ad09fba_3f19_11eb_8e70_3dad9513ffb3row2_col12\" class=\"data row2 col12\" >4.03</td>\n",
       "                        <td id=\"T_3ad09fba_3f19_11eb_8e70_3dad9513ffb3row2_col13\" class=\"data row2 col13\" >34.70</td>\n",
       "            </tr>\n",
       "            <tr>\n",
       "                        <th id=\"T_3ad09fba_3f19_11eb_8e70_3dad9513ffb3level0_row3\" class=\"row_heading level0 row3\" >3</th>\n",
       "                        <td id=\"T_3ad09fba_3f19_11eb_8e70_3dad9513ffb3row3_col0\" class=\"data row3 col0\" >0.03</td>\n",
       "                        <td id=\"T_3ad09fba_3f19_11eb_8e70_3dad9513ffb3row3_col1\" class=\"data row3 col1\" >0.00</td>\n",
       "                        <td id=\"T_3ad09fba_3f19_11eb_8e70_3dad9513ffb3row3_col2\" class=\"data row3 col2\" >2.18</td>\n",
       "                        <td id=\"T_3ad09fba_3f19_11eb_8e70_3dad9513ffb3row3_col3\" class=\"data row3 col3\" >0.00</td>\n",
       "                        <td id=\"T_3ad09fba_3f19_11eb_8e70_3dad9513ffb3row3_col4\" class=\"data row3 col4\" >0.46</td>\n",
       "                        <td id=\"T_3ad09fba_3f19_11eb_8e70_3dad9513ffb3row3_col5\" class=\"data row3 col5\" >7.00</td>\n",
       "                        <td id=\"T_3ad09fba_3f19_11eb_8e70_3dad9513ffb3row3_col6\" class=\"data row3 col6\" >45.80</td>\n",
       "                        <td id=\"T_3ad09fba_3f19_11eb_8e70_3dad9513ffb3row3_col7\" class=\"data row3 col7\" >6.06</td>\n",
       "                        <td id=\"T_3ad09fba_3f19_11eb_8e70_3dad9513ffb3row3_col8\" class=\"data row3 col8\" >3.00</td>\n",
       "                        <td id=\"T_3ad09fba_3f19_11eb_8e70_3dad9513ffb3row3_col9\" class=\"data row3 col9\" >222.00</td>\n",
       "                        <td id=\"T_3ad09fba_3f19_11eb_8e70_3dad9513ffb3row3_col10\" class=\"data row3 col10\" >18.70</td>\n",
       "                        <td id=\"T_3ad09fba_3f19_11eb_8e70_3dad9513ffb3row3_col11\" class=\"data row3 col11\" >394.63</td>\n",
       "                        <td id=\"T_3ad09fba_3f19_11eb_8e70_3dad9513ffb3row3_col12\" class=\"data row3 col12\" >2.94</td>\n",
       "                        <td id=\"T_3ad09fba_3f19_11eb_8e70_3dad9513ffb3row3_col13\" class=\"data row3 col13\" >33.40</td>\n",
       "            </tr>\n",
       "            <tr>\n",
       "                        <th id=\"T_3ad09fba_3f19_11eb_8e70_3dad9513ffb3level0_row4\" class=\"row_heading level0 row4\" >4</th>\n",
       "                        <td id=\"T_3ad09fba_3f19_11eb_8e70_3dad9513ffb3row4_col0\" class=\"data row4 col0\" >0.07</td>\n",
       "                        <td id=\"T_3ad09fba_3f19_11eb_8e70_3dad9513ffb3row4_col1\" class=\"data row4 col1\" >0.00</td>\n",
       "                        <td id=\"T_3ad09fba_3f19_11eb_8e70_3dad9513ffb3row4_col2\" class=\"data row4 col2\" >2.18</td>\n",
       "                        <td id=\"T_3ad09fba_3f19_11eb_8e70_3dad9513ffb3row4_col3\" class=\"data row4 col3\" >0.00</td>\n",
       "                        <td id=\"T_3ad09fba_3f19_11eb_8e70_3dad9513ffb3row4_col4\" class=\"data row4 col4\" >0.46</td>\n",
       "                        <td id=\"T_3ad09fba_3f19_11eb_8e70_3dad9513ffb3row4_col5\" class=\"data row4 col5\" >7.15</td>\n",
       "                        <td id=\"T_3ad09fba_3f19_11eb_8e70_3dad9513ffb3row4_col6\" class=\"data row4 col6\" >54.20</td>\n",
       "                        <td id=\"T_3ad09fba_3f19_11eb_8e70_3dad9513ffb3row4_col7\" class=\"data row4 col7\" >6.06</td>\n",
       "                        <td id=\"T_3ad09fba_3f19_11eb_8e70_3dad9513ffb3row4_col8\" class=\"data row4 col8\" >3.00</td>\n",
       "                        <td id=\"T_3ad09fba_3f19_11eb_8e70_3dad9513ffb3row4_col9\" class=\"data row4 col9\" >222.00</td>\n",
       "                        <td id=\"T_3ad09fba_3f19_11eb_8e70_3dad9513ffb3row4_col10\" class=\"data row4 col10\" >18.70</td>\n",
       "                        <td id=\"T_3ad09fba_3f19_11eb_8e70_3dad9513ffb3row4_col11\" class=\"data row4 col11\" >396.90</td>\n",
       "                        <td id=\"T_3ad09fba_3f19_11eb_8e70_3dad9513ffb3row4_col12\" class=\"data row4 col12\" >5.33</td>\n",
       "                        <td id=\"T_3ad09fba_3f19_11eb_8e70_3dad9513ffb3row4_col13\" class=\"data row4 col13\" >36.20</td>\n",
       "            </tr>\n",
       "    </tbody></table>"
      ],
      "text/plain": [
       "<pandas.io.formats.style.Styler at 0x7f27698151d0>"
      ]
     },
     "metadata": {},
     "output_type": "display_data"
    },
    {
     "name": "stdout",
     "output_type": "stream",
     "text": [
      "Missing Data :  0   Shape is :  (506, 14)\n"
     ]
    }
   ],
   "source": [
    "data = pd.read_csv(f'{datasets_dir}/BHPD/origine/BostonHousing.csv', header=0)\n",
    "\n",
    "display(data.head(5).style.format(\"{0:.2f}\"))\n",
    "print('Missing Data : ',data.isna().sum().sum(), '  Shape is : ', data.shape)"
   ]
  },
  {
   "cell_type": "markdown",
   "metadata": {},
   "source": [
    "## Step 3 - Preparing the data\n",
    "### 3.1 - Split data\n",
    "We will use 80% of the data for training and 20% for validation.  \n",
    "x will be input data and y the expected output"
   ]
  },
  {
   "cell_type": "code",
   "execution_count": 4,
   "metadata": {},
   "outputs": [
    {
     "name": "stdout",
     "output_type": "stream",
     "text": [
      "Original data shape was :  (506, 14)\n",
      "x_train :  (354, 13) y_train :  (354,)\n",
      "x_test  :  (152, 13) y_test  :  (152,)\n"
     ]
    }
   ],
   "source": [
    "# ---- Split => train, test\n",
    "#\n",
    "data_train = data.sample(frac=0.7, axis=0)\n",
    "data_test  = data.drop(data_train.index)\n",
    "\n",
    "# ---- Split => x,y (medv is price)\n",
    "#\n",
    "x_train = data_train.drop('medv',  axis=1)\n",
    "y_train = data_train['medv']\n",
    "x_test  = data_test.drop('medv',   axis=1)\n",
    "y_test  = data_test['medv']\n",
    "\n",
    "print('Original data shape was : ',data.shape)\n",
    "print('x_train : ',x_train.shape, 'y_train : ',y_train.shape)\n",
    "print('x_test  : ',x_test.shape,  'y_test  : ',y_test.shape)"
   ]
  },
  {
   "cell_type": "markdown",
   "metadata": {},
   "source": [
    "### 3.2 - Data normalization\n",
    "**Note :** \n",
    " - All input data must be normalized, train and test.  \n",
    " - To do this we will subtract the mean and divide by the standard deviation.  \n",
    " - But test data should not be used in any way, even for normalization.  \n",
    " - The mean and the standard deviation will therefore only be calculated with the train data."
   ]
  },
  {
   "cell_type": "code",
   "execution_count": 5,
   "metadata": {},
   "outputs": [
    {
     "data": {
      "text/html": [
       "<style  type=\"text/css\" >\n",
       "</style><table id=\"T_3ada7058_3f19_11eb_8e70_3dad9513ffb3\" ><caption>Before normalization :</caption><thead>    <tr>        <th class=\"blank level0\" ></th>        <th class=\"col_heading level0 col0\" >crim</th>        <th class=\"col_heading level0 col1\" >zn</th>        <th class=\"col_heading level0 col2\" >indus</th>        <th class=\"col_heading level0 col3\" >chas</th>        <th class=\"col_heading level0 col4\" >nox</th>        <th class=\"col_heading level0 col5\" >rm</th>        <th class=\"col_heading level0 col6\" >age</th>        <th class=\"col_heading level0 col7\" >dis</th>        <th class=\"col_heading level0 col8\" >rad</th>        <th class=\"col_heading level0 col9\" >tax</th>        <th class=\"col_heading level0 col10\" >ptratio</th>        <th class=\"col_heading level0 col11\" >b</th>        <th class=\"col_heading level0 col12\" >lstat</th>    </tr></thead><tbody>\n",
       "                <tr>\n",
       "                        <th id=\"T_3ada7058_3f19_11eb_8e70_3dad9513ffb3level0_row0\" class=\"row_heading level0 row0\" >count</th>\n",
       "                        <td id=\"T_3ada7058_3f19_11eb_8e70_3dad9513ffb3row0_col0\" class=\"data row0 col0\" >354.00</td>\n",
       "                        <td id=\"T_3ada7058_3f19_11eb_8e70_3dad9513ffb3row0_col1\" class=\"data row0 col1\" >354.00</td>\n",
       "                        <td id=\"T_3ada7058_3f19_11eb_8e70_3dad9513ffb3row0_col2\" class=\"data row0 col2\" >354.00</td>\n",
       "                        <td id=\"T_3ada7058_3f19_11eb_8e70_3dad9513ffb3row0_col3\" class=\"data row0 col3\" >354.00</td>\n",
       "                        <td id=\"T_3ada7058_3f19_11eb_8e70_3dad9513ffb3row0_col4\" class=\"data row0 col4\" >354.00</td>\n",
       "                        <td id=\"T_3ada7058_3f19_11eb_8e70_3dad9513ffb3row0_col5\" class=\"data row0 col5\" >354.00</td>\n",
       "                        <td id=\"T_3ada7058_3f19_11eb_8e70_3dad9513ffb3row0_col6\" class=\"data row0 col6\" >354.00</td>\n",
       "                        <td id=\"T_3ada7058_3f19_11eb_8e70_3dad9513ffb3row0_col7\" class=\"data row0 col7\" >354.00</td>\n",
       "                        <td id=\"T_3ada7058_3f19_11eb_8e70_3dad9513ffb3row0_col8\" class=\"data row0 col8\" >354.00</td>\n",
       "                        <td id=\"T_3ada7058_3f19_11eb_8e70_3dad9513ffb3row0_col9\" class=\"data row0 col9\" >354.00</td>\n",
       "                        <td id=\"T_3ada7058_3f19_11eb_8e70_3dad9513ffb3row0_col10\" class=\"data row0 col10\" >354.00</td>\n",
       "                        <td id=\"T_3ada7058_3f19_11eb_8e70_3dad9513ffb3row0_col11\" class=\"data row0 col11\" >354.00</td>\n",
       "                        <td id=\"T_3ada7058_3f19_11eb_8e70_3dad9513ffb3row0_col12\" class=\"data row0 col12\" >354.00</td>\n",
       "            </tr>\n",
       "            <tr>\n",
       "                        <th id=\"T_3ada7058_3f19_11eb_8e70_3dad9513ffb3level0_row1\" class=\"row_heading level0 row1\" >mean</th>\n",
       "                        <td id=\"T_3ada7058_3f19_11eb_8e70_3dad9513ffb3row1_col0\" class=\"data row1 col0\" >3.58</td>\n",
       "                        <td id=\"T_3ada7058_3f19_11eb_8e70_3dad9513ffb3row1_col1\" class=\"data row1 col1\" >10.87</td>\n",
       "                        <td id=\"T_3ada7058_3f19_11eb_8e70_3dad9513ffb3row1_col2\" class=\"data row1 col2\" >11.19</td>\n",
       "                        <td id=\"T_3ada7058_3f19_11eb_8e70_3dad9513ffb3row1_col3\" class=\"data row1 col3\" >0.08</td>\n",
       "                        <td id=\"T_3ada7058_3f19_11eb_8e70_3dad9513ffb3row1_col4\" class=\"data row1 col4\" >0.56</td>\n",
       "                        <td id=\"T_3ada7058_3f19_11eb_8e70_3dad9513ffb3row1_col5\" class=\"data row1 col5\" >6.29</td>\n",
       "                        <td id=\"T_3ada7058_3f19_11eb_8e70_3dad9513ffb3row1_col6\" class=\"data row1 col6\" >69.35</td>\n",
       "                        <td id=\"T_3ada7058_3f19_11eb_8e70_3dad9513ffb3row1_col7\" class=\"data row1 col7\" >3.75</td>\n",
       "                        <td id=\"T_3ada7058_3f19_11eb_8e70_3dad9513ffb3row1_col8\" class=\"data row1 col8\" >9.66</td>\n",
       "                        <td id=\"T_3ada7058_3f19_11eb_8e70_3dad9513ffb3row1_col9\" class=\"data row1 col9\" >408.53</td>\n",
       "                        <td id=\"T_3ada7058_3f19_11eb_8e70_3dad9513ffb3row1_col10\" class=\"data row1 col10\" >18.45</td>\n",
       "                        <td id=\"T_3ada7058_3f19_11eb_8e70_3dad9513ffb3row1_col11\" class=\"data row1 col11\" >357.38</td>\n",
       "                        <td id=\"T_3ada7058_3f19_11eb_8e70_3dad9513ffb3row1_col12\" class=\"data row1 col12\" >12.64</td>\n",
       "            </tr>\n",
       "            <tr>\n",
       "                        <th id=\"T_3ada7058_3f19_11eb_8e70_3dad9513ffb3level0_row2\" class=\"row_heading level0 row2\" >std</th>\n",
       "                        <td id=\"T_3ada7058_3f19_11eb_8e70_3dad9513ffb3row2_col0\" class=\"data row2 col0\" >8.38</td>\n",
       "                        <td id=\"T_3ada7058_3f19_11eb_8e70_3dad9513ffb3row2_col1\" class=\"data row2 col1\" >23.05</td>\n",
       "                        <td id=\"T_3ada7058_3f19_11eb_8e70_3dad9513ffb3row2_col2\" class=\"data row2 col2\" >6.85</td>\n",
       "                        <td id=\"T_3ada7058_3f19_11eb_8e70_3dad9513ffb3row2_col3\" class=\"data row2 col3\" >0.27</td>\n",
       "                        <td id=\"T_3ada7058_3f19_11eb_8e70_3dad9513ffb3row2_col4\" class=\"data row2 col4\" >0.12</td>\n",
       "                        <td id=\"T_3ada7058_3f19_11eb_8e70_3dad9513ffb3row2_col5\" class=\"data row2 col5\" >0.70</td>\n",
       "                        <td id=\"T_3ada7058_3f19_11eb_8e70_3dad9513ffb3row2_col6\" class=\"data row2 col6\" >27.89</td>\n",
       "                        <td id=\"T_3ada7058_3f19_11eb_8e70_3dad9513ffb3row2_col7\" class=\"data row2 col7\" >2.11</td>\n",
       "                        <td id=\"T_3ada7058_3f19_11eb_8e70_3dad9513ffb3row2_col8\" class=\"data row2 col8\" >8.74</td>\n",
       "                        <td id=\"T_3ada7058_3f19_11eb_8e70_3dad9513ffb3row2_col9\" class=\"data row2 col9\" >168.51</td>\n",
       "                        <td id=\"T_3ada7058_3f19_11eb_8e70_3dad9513ffb3row2_col10\" class=\"data row2 col10\" >2.20</td>\n",
       "                        <td id=\"T_3ada7058_3f19_11eb_8e70_3dad9513ffb3row2_col11\" class=\"data row2 col11\" >90.23</td>\n",
       "                        <td id=\"T_3ada7058_3f19_11eb_8e70_3dad9513ffb3row2_col12\" class=\"data row2 col12\" >7.18</td>\n",
       "            </tr>\n",
       "            <tr>\n",
       "                        <th id=\"T_3ada7058_3f19_11eb_8e70_3dad9513ffb3level0_row3\" class=\"row_heading level0 row3\" >min</th>\n",
       "                        <td id=\"T_3ada7058_3f19_11eb_8e70_3dad9513ffb3row3_col0\" class=\"data row3 col0\" >0.01</td>\n",
       "                        <td id=\"T_3ada7058_3f19_11eb_8e70_3dad9513ffb3row3_col1\" class=\"data row3 col1\" >0.00</td>\n",
       "                        <td id=\"T_3ada7058_3f19_11eb_8e70_3dad9513ffb3row3_col2\" class=\"data row3 col2\" >0.46</td>\n",
       "                        <td id=\"T_3ada7058_3f19_11eb_8e70_3dad9513ffb3row3_col3\" class=\"data row3 col3\" >0.00</td>\n",
       "                        <td id=\"T_3ada7058_3f19_11eb_8e70_3dad9513ffb3row3_col4\" class=\"data row3 col4\" >0.39</td>\n",
       "                        <td id=\"T_3ada7058_3f19_11eb_8e70_3dad9513ffb3row3_col5\" class=\"data row3 col5\" >3.86</td>\n",
       "                        <td id=\"T_3ada7058_3f19_11eb_8e70_3dad9513ffb3row3_col6\" class=\"data row3 col6\" >2.90</td>\n",
       "                        <td id=\"T_3ada7058_3f19_11eb_8e70_3dad9513ffb3row3_col7\" class=\"data row3 col7\" >1.14</td>\n",
       "                        <td id=\"T_3ada7058_3f19_11eb_8e70_3dad9513ffb3row3_col8\" class=\"data row3 col8\" >1.00</td>\n",
       "                        <td id=\"T_3ada7058_3f19_11eb_8e70_3dad9513ffb3row3_col9\" class=\"data row3 col9\" >187.00</td>\n",
       "                        <td id=\"T_3ada7058_3f19_11eb_8e70_3dad9513ffb3row3_col10\" class=\"data row3 col10\" >12.60</td>\n",
       "                        <td id=\"T_3ada7058_3f19_11eb_8e70_3dad9513ffb3row3_col11\" class=\"data row3 col11\" >0.32</td>\n",
       "                        <td id=\"T_3ada7058_3f19_11eb_8e70_3dad9513ffb3row3_col12\" class=\"data row3 col12\" >1.73</td>\n",
       "            </tr>\n",
       "            <tr>\n",
       "                        <th id=\"T_3ada7058_3f19_11eb_8e70_3dad9513ffb3level0_row4\" class=\"row_heading level0 row4\" >25%</th>\n",
       "                        <td id=\"T_3ada7058_3f19_11eb_8e70_3dad9513ffb3row4_col0\" class=\"data row4 col0\" >0.09</td>\n",
       "                        <td id=\"T_3ada7058_3f19_11eb_8e70_3dad9513ffb3row4_col1\" class=\"data row4 col1\" >0.00</td>\n",
       "                        <td id=\"T_3ada7058_3f19_11eb_8e70_3dad9513ffb3row4_col2\" class=\"data row4 col2\" >5.15</td>\n",
       "                        <td id=\"T_3ada7058_3f19_11eb_8e70_3dad9513ffb3row4_col3\" class=\"data row4 col3\" >0.00</td>\n",
       "                        <td id=\"T_3ada7058_3f19_11eb_8e70_3dad9513ffb3row4_col4\" class=\"data row4 col4\" >0.45</td>\n",
       "                        <td id=\"T_3ada7058_3f19_11eb_8e70_3dad9513ffb3row4_col5\" class=\"data row4 col5\" >5.88</td>\n",
       "                        <td id=\"T_3ada7058_3f19_11eb_8e70_3dad9513ffb3row4_col6\" class=\"data row4 col6\" >45.80</td>\n",
       "                        <td id=\"T_3ada7058_3f19_11eb_8e70_3dad9513ffb3row4_col7\" class=\"data row4 col7\" >2.09</td>\n",
       "                        <td id=\"T_3ada7058_3f19_11eb_8e70_3dad9513ffb3row4_col8\" class=\"data row4 col8\" >4.00</td>\n",
       "                        <td id=\"T_3ada7058_3f19_11eb_8e70_3dad9513ffb3row4_col9\" class=\"data row4 col9\" >279.00</td>\n",
       "                        <td id=\"T_3ada7058_3f19_11eb_8e70_3dad9513ffb3row4_col10\" class=\"data row4 col10\" >17.40</td>\n",
       "                        <td id=\"T_3ada7058_3f19_11eb_8e70_3dad9513ffb3row4_col11\" class=\"data row4 col11\" >375.38</td>\n",
       "                        <td id=\"T_3ada7058_3f19_11eb_8e70_3dad9513ffb3row4_col12\" class=\"data row4 col12\" >7.18</td>\n",
       "            </tr>\n",
       "            <tr>\n",
       "                        <th id=\"T_3ada7058_3f19_11eb_8e70_3dad9513ffb3level0_row5\" class=\"row_heading level0 row5\" >50%</th>\n",
       "                        <td id=\"T_3ada7058_3f19_11eb_8e70_3dad9513ffb3row5_col0\" class=\"data row5 col0\" >0.30</td>\n",
       "                        <td id=\"T_3ada7058_3f19_11eb_8e70_3dad9513ffb3row5_col1\" class=\"data row5 col1\" >0.00</td>\n",
       "                        <td id=\"T_3ada7058_3f19_11eb_8e70_3dad9513ffb3row5_col2\" class=\"data row5 col2\" >9.69</td>\n",
       "                        <td id=\"T_3ada7058_3f19_11eb_8e70_3dad9513ffb3row5_col3\" class=\"data row5 col3\" >0.00</td>\n",
       "                        <td id=\"T_3ada7058_3f19_11eb_8e70_3dad9513ffb3row5_col4\" class=\"data row5 col4\" >0.54</td>\n",
       "                        <td id=\"T_3ada7058_3f19_11eb_8e70_3dad9513ffb3row5_col5\" class=\"data row5 col5\" >6.20</td>\n",
       "                        <td id=\"T_3ada7058_3f19_11eb_8e70_3dad9513ffb3row5_col6\" class=\"data row5 col6\" >78.80</td>\n",
       "                        <td id=\"T_3ada7058_3f19_11eb_8e70_3dad9513ffb3row5_col7\" class=\"data row5 col7\" >3.10</td>\n",
       "                        <td id=\"T_3ada7058_3f19_11eb_8e70_3dad9513ffb3row5_col8\" class=\"data row5 col8\" >5.00</td>\n",
       "                        <td id=\"T_3ada7058_3f19_11eb_8e70_3dad9513ffb3row5_col9\" class=\"data row5 col9\" >330.00</td>\n",
       "                        <td id=\"T_3ada7058_3f19_11eb_8e70_3dad9513ffb3row5_col10\" class=\"data row5 col10\" >19.10</td>\n",
       "                        <td id=\"T_3ada7058_3f19_11eb_8e70_3dad9513ffb3row5_col11\" class=\"data row5 col11\" >391.48</td>\n",
       "                        <td id=\"T_3ada7058_3f19_11eb_8e70_3dad9513ffb3row5_col12\" class=\"data row5 col12\" >11.27</td>\n",
       "            </tr>\n",
       "            <tr>\n",
       "                        <th id=\"T_3ada7058_3f19_11eb_8e70_3dad9513ffb3level0_row6\" class=\"row_heading level0 row6\" >75%</th>\n",
       "                        <td id=\"T_3ada7058_3f19_11eb_8e70_3dad9513ffb3row6_col0\" class=\"data row6 col0\" >3.66</td>\n",
       "                        <td id=\"T_3ada7058_3f19_11eb_8e70_3dad9513ffb3row6_col1\" class=\"data row6 col1\" >0.00</td>\n",
       "                        <td id=\"T_3ada7058_3f19_11eb_8e70_3dad9513ffb3row6_col2\" class=\"data row6 col2\" >18.10</td>\n",
       "                        <td id=\"T_3ada7058_3f19_11eb_8e70_3dad9513ffb3row6_col3\" class=\"data row6 col3\" >0.00</td>\n",
       "                        <td id=\"T_3ada7058_3f19_11eb_8e70_3dad9513ffb3row6_col4\" class=\"data row6 col4\" >0.62</td>\n",
       "                        <td id=\"T_3ada7058_3f19_11eb_8e70_3dad9513ffb3row6_col5\" class=\"data row6 col5\" >6.62</td>\n",
       "                        <td id=\"T_3ada7058_3f19_11eb_8e70_3dad9513ffb3row6_col6\" class=\"data row6 col6\" >94.30</td>\n",
       "                        <td id=\"T_3ada7058_3f19_11eb_8e70_3dad9513ffb3row6_col7\" class=\"data row6 col7\" >5.11</td>\n",
       "                        <td id=\"T_3ada7058_3f19_11eb_8e70_3dad9513ffb3row6_col8\" class=\"data row6 col8\" >24.00</td>\n",
       "                        <td id=\"T_3ada7058_3f19_11eb_8e70_3dad9513ffb3row6_col9\" class=\"data row6 col9\" >666.00</td>\n",
       "                        <td id=\"T_3ada7058_3f19_11eb_8e70_3dad9513ffb3row6_col10\" class=\"data row6 col10\" >20.20</td>\n",
       "                        <td id=\"T_3ada7058_3f19_11eb_8e70_3dad9513ffb3row6_col11\" class=\"data row6 col11\" >396.24</td>\n",
       "                        <td id=\"T_3ada7058_3f19_11eb_8e70_3dad9513ffb3row6_col12\" class=\"data row6 col12\" >16.63</td>\n",
       "            </tr>\n",
       "            <tr>\n",
       "                        <th id=\"T_3ada7058_3f19_11eb_8e70_3dad9513ffb3level0_row7\" class=\"row_heading level0 row7\" >max</th>\n",
       "                        <td id=\"T_3ada7058_3f19_11eb_8e70_3dad9513ffb3row7_col0\" class=\"data row7 col0\" >88.98</td>\n",
       "                        <td id=\"T_3ada7058_3f19_11eb_8e70_3dad9513ffb3row7_col1\" class=\"data row7 col1\" >100.00</td>\n",
       "                        <td id=\"T_3ada7058_3f19_11eb_8e70_3dad9513ffb3row7_col2\" class=\"data row7 col2\" >27.74</td>\n",
       "                        <td id=\"T_3ada7058_3f19_11eb_8e70_3dad9513ffb3row7_col3\" class=\"data row7 col3\" >1.00</td>\n",
       "                        <td id=\"T_3ada7058_3f19_11eb_8e70_3dad9513ffb3row7_col4\" class=\"data row7 col4\" >0.87</td>\n",
       "                        <td id=\"T_3ada7058_3f19_11eb_8e70_3dad9513ffb3row7_col5\" class=\"data row7 col5\" >8.78</td>\n",
       "                        <td id=\"T_3ada7058_3f19_11eb_8e70_3dad9513ffb3row7_col6\" class=\"data row7 col6\" >100.00</td>\n",
       "                        <td id=\"T_3ada7058_3f19_11eb_8e70_3dad9513ffb3row7_col7\" class=\"data row7 col7\" >12.13</td>\n",
       "                        <td id=\"T_3ada7058_3f19_11eb_8e70_3dad9513ffb3row7_col8\" class=\"data row7 col8\" >24.00</td>\n",
       "                        <td id=\"T_3ada7058_3f19_11eb_8e70_3dad9513ffb3row7_col9\" class=\"data row7 col9\" >711.00</td>\n",
       "                        <td id=\"T_3ada7058_3f19_11eb_8e70_3dad9513ffb3row7_col10\" class=\"data row7 col10\" >22.00</td>\n",
       "                        <td id=\"T_3ada7058_3f19_11eb_8e70_3dad9513ffb3row7_col11\" class=\"data row7 col11\" >396.90</td>\n",
       "                        <td id=\"T_3ada7058_3f19_11eb_8e70_3dad9513ffb3row7_col12\" class=\"data row7 col12\" >37.97</td>\n",
       "            </tr>\n",
       "    </tbody></table>"
      ],
      "text/plain": [
       "<pandas.io.formats.style.Styler at 0x7f27e44e7490>"
      ]
     },
     "metadata": {},
     "output_type": "display_data"
    },
    {
     "data": {
      "text/html": [
       "<style  type=\"text/css\" >\n",
       "</style><table id=\"T_3ae1805a_3f19_11eb_8e70_3dad9513ffb3\" ><caption>After normalization :</caption><thead>    <tr>        <th class=\"blank level0\" ></th>        <th class=\"col_heading level0 col0\" >crim</th>        <th class=\"col_heading level0 col1\" >zn</th>        <th class=\"col_heading level0 col2\" >indus</th>        <th class=\"col_heading level0 col3\" >chas</th>        <th class=\"col_heading level0 col4\" >nox</th>        <th class=\"col_heading level0 col5\" >rm</th>        <th class=\"col_heading level0 col6\" >age</th>        <th class=\"col_heading level0 col7\" >dis</th>        <th class=\"col_heading level0 col8\" >rad</th>        <th class=\"col_heading level0 col9\" >tax</th>        <th class=\"col_heading level0 col10\" >ptratio</th>        <th class=\"col_heading level0 col11\" >b</th>        <th class=\"col_heading level0 col12\" >lstat</th>    </tr></thead><tbody>\n",
       "                <tr>\n",
       "                        <th id=\"T_3ae1805a_3f19_11eb_8e70_3dad9513ffb3level0_row0\" class=\"row_heading level0 row0\" >count</th>\n",
       "                        <td id=\"T_3ae1805a_3f19_11eb_8e70_3dad9513ffb3row0_col0\" class=\"data row0 col0\" >354.00</td>\n",
       "                        <td id=\"T_3ae1805a_3f19_11eb_8e70_3dad9513ffb3row0_col1\" class=\"data row0 col1\" >354.00</td>\n",
       "                        <td id=\"T_3ae1805a_3f19_11eb_8e70_3dad9513ffb3row0_col2\" class=\"data row0 col2\" >354.00</td>\n",
       "                        <td id=\"T_3ae1805a_3f19_11eb_8e70_3dad9513ffb3row0_col3\" class=\"data row0 col3\" >354.00</td>\n",
       "                        <td id=\"T_3ae1805a_3f19_11eb_8e70_3dad9513ffb3row0_col4\" class=\"data row0 col4\" >354.00</td>\n",
       "                        <td id=\"T_3ae1805a_3f19_11eb_8e70_3dad9513ffb3row0_col5\" class=\"data row0 col5\" >354.00</td>\n",
       "                        <td id=\"T_3ae1805a_3f19_11eb_8e70_3dad9513ffb3row0_col6\" class=\"data row0 col6\" >354.00</td>\n",
       "                        <td id=\"T_3ae1805a_3f19_11eb_8e70_3dad9513ffb3row0_col7\" class=\"data row0 col7\" >354.00</td>\n",
       "                        <td id=\"T_3ae1805a_3f19_11eb_8e70_3dad9513ffb3row0_col8\" class=\"data row0 col8\" >354.00</td>\n",
       "                        <td id=\"T_3ae1805a_3f19_11eb_8e70_3dad9513ffb3row0_col9\" class=\"data row0 col9\" >354.00</td>\n",
       "                        <td id=\"T_3ae1805a_3f19_11eb_8e70_3dad9513ffb3row0_col10\" class=\"data row0 col10\" >354.00</td>\n",
       "                        <td id=\"T_3ae1805a_3f19_11eb_8e70_3dad9513ffb3row0_col11\" class=\"data row0 col11\" >354.00</td>\n",
       "                        <td id=\"T_3ae1805a_3f19_11eb_8e70_3dad9513ffb3row0_col12\" class=\"data row0 col12\" >354.00</td>\n",
       "            </tr>\n",
       "            <tr>\n",
       "                        <th id=\"T_3ae1805a_3f19_11eb_8e70_3dad9513ffb3level0_row1\" class=\"row_heading level0 row1\" >mean</th>\n",
       "                        <td id=\"T_3ae1805a_3f19_11eb_8e70_3dad9513ffb3row1_col0\" class=\"data row1 col0\" >0.00</td>\n",
       "                        <td id=\"T_3ae1805a_3f19_11eb_8e70_3dad9513ffb3row1_col1\" class=\"data row1 col1\" >-0.00</td>\n",
       "                        <td id=\"T_3ae1805a_3f19_11eb_8e70_3dad9513ffb3row1_col2\" class=\"data row1 col2\" >0.00</td>\n",
       "                        <td id=\"T_3ae1805a_3f19_11eb_8e70_3dad9513ffb3row1_col3\" class=\"data row1 col3\" >0.00</td>\n",
       "                        <td id=\"T_3ae1805a_3f19_11eb_8e70_3dad9513ffb3row1_col4\" class=\"data row1 col4\" >-0.00</td>\n",
       "                        <td id=\"T_3ae1805a_3f19_11eb_8e70_3dad9513ffb3row1_col5\" class=\"data row1 col5\" >-0.00</td>\n",
       "                        <td id=\"T_3ae1805a_3f19_11eb_8e70_3dad9513ffb3row1_col6\" class=\"data row1 col6\" >0.00</td>\n",
       "                        <td id=\"T_3ae1805a_3f19_11eb_8e70_3dad9513ffb3row1_col7\" class=\"data row1 col7\" >-0.00</td>\n",
       "                        <td id=\"T_3ae1805a_3f19_11eb_8e70_3dad9513ffb3row1_col8\" class=\"data row1 col8\" >0.00</td>\n",
       "                        <td id=\"T_3ae1805a_3f19_11eb_8e70_3dad9513ffb3row1_col9\" class=\"data row1 col9\" >0.00</td>\n",
       "                        <td id=\"T_3ae1805a_3f19_11eb_8e70_3dad9513ffb3row1_col10\" class=\"data row1 col10\" >0.00</td>\n",
       "                        <td id=\"T_3ae1805a_3f19_11eb_8e70_3dad9513ffb3row1_col11\" class=\"data row1 col11\" >0.00</td>\n",
       "                        <td id=\"T_3ae1805a_3f19_11eb_8e70_3dad9513ffb3row1_col12\" class=\"data row1 col12\" >-0.00</td>\n",
       "            </tr>\n",
       "            <tr>\n",
       "                        <th id=\"T_3ae1805a_3f19_11eb_8e70_3dad9513ffb3level0_row2\" class=\"row_heading level0 row2\" >std</th>\n",
       "                        <td id=\"T_3ae1805a_3f19_11eb_8e70_3dad9513ffb3row2_col0\" class=\"data row2 col0\" >1.00</td>\n",
       "                        <td id=\"T_3ae1805a_3f19_11eb_8e70_3dad9513ffb3row2_col1\" class=\"data row2 col1\" >1.00</td>\n",
       "                        <td id=\"T_3ae1805a_3f19_11eb_8e70_3dad9513ffb3row2_col2\" class=\"data row2 col2\" >1.00</td>\n",
       "                        <td id=\"T_3ae1805a_3f19_11eb_8e70_3dad9513ffb3row2_col3\" class=\"data row2 col3\" >1.00</td>\n",
       "                        <td id=\"T_3ae1805a_3f19_11eb_8e70_3dad9513ffb3row2_col4\" class=\"data row2 col4\" >1.00</td>\n",
       "                        <td id=\"T_3ae1805a_3f19_11eb_8e70_3dad9513ffb3row2_col5\" class=\"data row2 col5\" >1.00</td>\n",
       "                        <td id=\"T_3ae1805a_3f19_11eb_8e70_3dad9513ffb3row2_col6\" class=\"data row2 col6\" >1.00</td>\n",
       "                        <td id=\"T_3ae1805a_3f19_11eb_8e70_3dad9513ffb3row2_col7\" class=\"data row2 col7\" >1.00</td>\n",
       "                        <td id=\"T_3ae1805a_3f19_11eb_8e70_3dad9513ffb3row2_col8\" class=\"data row2 col8\" >1.00</td>\n",
       "                        <td id=\"T_3ae1805a_3f19_11eb_8e70_3dad9513ffb3row2_col9\" class=\"data row2 col9\" >1.00</td>\n",
       "                        <td id=\"T_3ae1805a_3f19_11eb_8e70_3dad9513ffb3row2_col10\" class=\"data row2 col10\" >1.00</td>\n",
       "                        <td id=\"T_3ae1805a_3f19_11eb_8e70_3dad9513ffb3row2_col11\" class=\"data row2 col11\" >1.00</td>\n",
       "                        <td id=\"T_3ae1805a_3f19_11eb_8e70_3dad9513ffb3row2_col12\" class=\"data row2 col12\" >1.00</td>\n",
       "            </tr>\n",
       "            <tr>\n",
       "                        <th id=\"T_3ae1805a_3f19_11eb_8e70_3dad9513ffb3level0_row3\" class=\"row_heading level0 row3\" >min</th>\n",
       "                        <td id=\"T_3ae1805a_3f19_11eb_8e70_3dad9513ffb3row3_col0\" class=\"data row3 col0\" >-0.43</td>\n",
       "                        <td id=\"T_3ae1805a_3f19_11eb_8e70_3dad9513ffb3row3_col1\" class=\"data row3 col1\" >-0.47</td>\n",
       "                        <td id=\"T_3ae1805a_3f19_11eb_8e70_3dad9513ffb3row3_col2\" class=\"data row3 col2\" >-1.57</td>\n",
       "                        <td id=\"T_3ae1805a_3f19_11eb_8e70_3dad9513ffb3row3_col3\" class=\"data row3 col3\" >-0.29</td>\n",
       "                        <td id=\"T_3ae1805a_3f19_11eb_8e70_3dad9513ffb3row3_col4\" class=\"data row3 col4\" >-1.45</td>\n",
       "                        <td id=\"T_3ae1805a_3f19_11eb_8e70_3dad9513ffb3row3_col5\" class=\"data row3 col5\" >-3.48</td>\n",
       "                        <td id=\"T_3ae1805a_3f19_11eb_8e70_3dad9513ffb3row3_col6\" class=\"data row3 col6\" >-2.38</td>\n",
       "                        <td id=\"T_3ae1805a_3f19_11eb_8e70_3dad9513ffb3row3_col7\" class=\"data row3 col7\" >-1.24</td>\n",
       "                        <td id=\"T_3ae1805a_3f19_11eb_8e70_3dad9513ffb3row3_col8\" class=\"data row3 col8\" >-0.99</td>\n",
       "                        <td id=\"T_3ae1805a_3f19_11eb_8e70_3dad9513ffb3row3_col9\" class=\"data row3 col9\" >-1.31</td>\n",
       "                        <td id=\"T_3ae1805a_3f19_11eb_8e70_3dad9513ffb3row3_col10\" class=\"data row3 col10\" >-2.66</td>\n",
       "                        <td id=\"T_3ae1805a_3f19_11eb_8e70_3dad9513ffb3row3_col11\" class=\"data row3 col11\" >-3.96</td>\n",
       "                        <td id=\"T_3ae1805a_3f19_11eb_8e70_3dad9513ffb3row3_col12\" class=\"data row3 col12\" >-1.52</td>\n",
       "            </tr>\n",
       "            <tr>\n",
       "                        <th id=\"T_3ae1805a_3f19_11eb_8e70_3dad9513ffb3level0_row4\" class=\"row_heading level0 row4\" >25%</th>\n",
       "                        <td id=\"T_3ae1805a_3f19_11eb_8e70_3dad9513ffb3row4_col0\" class=\"data row4 col0\" >-0.42</td>\n",
       "                        <td id=\"T_3ae1805a_3f19_11eb_8e70_3dad9513ffb3row4_col1\" class=\"data row4 col1\" >-0.47</td>\n",
       "                        <td id=\"T_3ae1805a_3f19_11eb_8e70_3dad9513ffb3row4_col2\" class=\"data row4 col2\" >-0.88</td>\n",
       "                        <td id=\"T_3ae1805a_3f19_11eb_8e70_3dad9513ffb3row4_col3\" class=\"data row4 col3\" >-0.29</td>\n",
       "                        <td id=\"T_3ae1805a_3f19_11eb_8e70_3dad9513ffb3row4_col4\" class=\"data row4 col4\" >-0.89</td>\n",
       "                        <td id=\"T_3ae1805a_3f19_11eb_8e70_3dad9513ffb3row4_col5\" class=\"data row4 col5\" >-0.58</td>\n",
       "                        <td id=\"T_3ae1805a_3f19_11eb_8e70_3dad9513ffb3row4_col6\" class=\"data row4 col6\" >-0.84</td>\n",
       "                        <td id=\"T_3ae1805a_3f19_11eb_8e70_3dad9513ffb3row4_col7\" class=\"data row4 col7\" >-0.79</td>\n",
       "                        <td id=\"T_3ae1805a_3f19_11eb_8e70_3dad9513ffb3row4_col8\" class=\"data row4 col8\" >-0.65</td>\n",
       "                        <td id=\"T_3ae1805a_3f19_11eb_8e70_3dad9513ffb3row4_col9\" class=\"data row4 col9\" >-0.77</td>\n",
       "                        <td id=\"T_3ae1805a_3f19_11eb_8e70_3dad9513ffb3row4_col10\" class=\"data row4 col10\" >-0.48</td>\n",
       "                        <td id=\"T_3ae1805a_3f19_11eb_8e70_3dad9513ffb3row4_col11\" class=\"data row4 col11\" >0.20</td>\n",
       "                        <td id=\"T_3ae1805a_3f19_11eb_8e70_3dad9513ffb3row4_col12\" class=\"data row4 col12\" >-0.76</td>\n",
       "            </tr>\n",
       "            <tr>\n",
       "                        <th id=\"T_3ae1805a_3f19_11eb_8e70_3dad9513ffb3level0_row5\" class=\"row_heading level0 row5\" >50%</th>\n",
       "                        <td id=\"T_3ae1805a_3f19_11eb_8e70_3dad9513ffb3row5_col0\" class=\"data row5 col0\" >-0.39</td>\n",
       "                        <td id=\"T_3ae1805a_3f19_11eb_8e70_3dad9513ffb3row5_col1\" class=\"data row5 col1\" >-0.47</td>\n",
       "                        <td id=\"T_3ae1805a_3f19_11eb_8e70_3dad9513ffb3row5_col2\" class=\"data row5 col2\" >-0.22</td>\n",
       "                        <td id=\"T_3ae1805a_3f19_11eb_8e70_3dad9513ffb3row5_col3\" class=\"data row5 col3\" >-0.29</td>\n",
       "                        <td id=\"T_3ae1805a_3f19_11eb_8e70_3dad9513ffb3row5_col4\" class=\"data row5 col4\" >-0.16</td>\n",
       "                        <td id=\"T_3ae1805a_3f19_11eb_8e70_3dad9513ffb3row5_col5\" class=\"data row5 col5\" >-0.13</td>\n",
       "                        <td id=\"T_3ae1805a_3f19_11eb_8e70_3dad9513ffb3row5_col6\" class=\"data row5 col6\" >0.34</td>\n",
       "                        <td id=\"T_3ae1805a_3f19_11eb_8e70_3dad9513ffb3row5_col7\" class=\"data row5 col7\" >-0.31</td>\n",
       "                        <td id=\"T_3ae1805a_3f19_11eb_8e70_3dad9513ffb3row5_col8\" class=\"data row5 col8\" >-0.53</td>\n",
       "                        <td id=\"T_3ae1805a_3f19_11eb_8e70_3dad9513ffb3row5_col9\" class=\"data row5 col9\" >-0.47</td>\n",
       "                        <td id=\"T_3ae1805a_3f19_11eb_8e70_3dad9513ffb3row5_col10\" class=\"data row5 col10\" >0.29</td>\n",
       "                        <td id=\"T_3ae1805a_3f19_11eb_8e70_3dad9513ffb3row5_col11\" class=\"data row5 col11\" >0.38</td>\n",
       "                        <td id=\"T_3ae1805a_3f19_11eb_8e70_3dad9513ffb3row5_col12\" class=\"data row5 col12\" >-0.19</td>\n",
       "            </tr>\n",
       "            <tr>\n",
       "                        <th id=\"T_3ae1805a_3f19_11eb_8e70_3dad9513ffb3level0_row6\" class=\"row_heading level0 row6\" >75%</th>\n",
       "                        <td id=\"T_3ae1805a_3f19_11eb_8e70_3dad9513ffb3row6_col0\" class=\"data row6 col0\" >0.01</td>\n",
       "                        <td id=\"T_3ae1805a_3f19_11eb_8e70_3dad9513ffb3row6_col1\" class=\"data row6 col1\" >-0.47</td>\n",
       "                        <td id=\"T_3ae1805a_3f19_11eb_8e70_3dad9513ffb3row6_col2\" class=\"data row6 col2\" >1.01</td>\n",
       "                        <td id=\"T_3ae1805a_3f19_11eb_8e70_3dad9513ffb3row6_col3\" class=\"data row6 col3\" >-0.29</td>\n",
       "                        <td id=\"T_3ae1805a_3f19_11eb_8e70_3dad9513ffb3row6_col4\" class=\"data row6 col4\" >0.58</td>\n",
       "                        <td id=\"T_3ae1805a_3f19_11eb_8e70_3dad9513ffb3row6_col5\" class=\"data row6 col5\" >0.48</td>\n",
       "                        <td id=\"T_3ae1805a_3f19_11eb_8e70_3dad9513ffb3row6_col6\" class=\"data row6 col6\" >0.89</td>\n",
       "                        <td id=\"T_3ae1805a_3f19_11eb_8e70_3dad9513ffb3row6_col7\" class=\"data row6 col7\" >0.65</td>\n",
       "                        <td id=\"T_3ae1805a_3f19_11eb_8e70_3dad9513ffb3row6_col8\" class=\"data row6 col8\" >1.64</td>\n",
       "                        <td id=\"T_3ae1805a_3f19_11eb_8e70_3dad9513ffb3row6_col9\" class=\"data row6 col9\" >1.53</td>\n",
       "                        <td id=\"T_3ae1805a_3f19_11eb_8e70_3dad9513ffb3row6_col10\" class=\"data row6 col10\" >0.79</td>\n",
       "                        <td id=\"T_3ae1805a_3f19_11eb_8e70_3dad9513ffb3row6_col11\" class=\"data row6 col11\" >0.43</td>\n",
       "                        <td id=\"T_3ae1805a_3f19_11eb_8e70_3dad9513ffb3row6_col12\" class=\"data row6 col12\" >0.56</td>\n",
       "            </tr>\n",
       "            <tr>\n",
       "                        <th id=\"T_3ae1805a_3f19_11eb_8e70_3dad9513ffb3level0_row7\" class=\"row_heading level0 row7\" >max</th>\n",
       "                        <td id=\"T_3ae1805a_3f19_11eb_8e70_3dad9513ffb3row7_col0\" class=\"data row7 col0\" >10.19</td>\n",
       "                        <td id=\"T_3ae1805a_3f19_11eb_8e70_3dad9513ffb3row7_col1\" class=\"data row7 col1\" >3.87</td>\n",
       "                        <td id=\"T_3ae1805a_3f19_11eb_8e70_3dad9513ffb3row7_col2\" class=\"data row7 col2\" >2.42</td>\n",
       "                        <td id=\"T_3ae1805a_3f19_11eb_8e70_3dad9513ffb3row7_col3\" class=\"data row7 col3\" >3.48</td>\n",
       "                        <td id=\"T_3ae1805a_3f19_11eb_8e70_3dad9513ffb3row7_col4\" class=\"data row7 col4\" >2.72</td>\n",
       "                        <td id=\"T_3ae1805a_3f19_11eb_8e70_3dad9513ffb3row7_col5\" class=\"data row7 col5\" >3.57</td>\n",
       "                        <td id=\"T_3ae1805a_3f19_11eb_8e70_3dad9513ffb3row7_col6\" class=\"data row7 col6\" >1.10</td>\n",
       "                        <td id=\"T_3ae1805a_3f19_11eb_8e70_3dad9513ffb3row7_col7\" class=\"data row7 col7\" >3.98</td>\n",
       "                        <td id=\"T_3ae1805a_3f19_11eb_8e70_3dad9513ffb3row7_col8\" class=\"data row7 col8\" >1.64</td>\n",
       "                        <td id=\"T_3ae1805a_3f19_11eb_8e70_3dad9513ffb3row7_col9\" class=\"data row7 col9\" >1.80</td>\n",
       "                        <td id=\"T_3ae1805a_3f19_11eb_8e70_3dad9513ffb3row7_col10\" class=\"data row7 col10\" >1.61</td>\n",
       "                        <td id=\"T_3ae1805a_3f19_11eb_8e70_3dad9513ffb3row7_col11\" class=\"data row7 col11\" >0.44</td>\n",
       "                        <td id=\"T_3ae1805a_3f19_11eb_8e70_3dad9513ffb3row7_col12\" class=\"data row7 col12\" >3.53</td>\n",
       "            </tr>\n",
       "    </tbody></table>"
      ],
      "text/plain": [
       "<pandas.io.formats.style.Styler at 0x7f2767f08490>"
      ]
     },
     "metadata": {},
     "output_type": "display_data"
    }
   ],
   "source": [
    "display(x_train.describe().style.format(\"{0:.2f}\").set_caption(\"Before normalization :\"))\n",
    "\n",
    "mean = x_train.mean()\n",
    "std  = x_train.std()\n",
    "x_train = (x_train - mean) / std\n",
    "x_test  = (x_test  - mean) / std\n",
    "\n",
    "display(x_train.describe().style.format(\"{0:.2f}\").set_caption(\"After normalization :\"))\n",
    "\n",
    "x_train, y_train = np.array(x_train), np.array(y_train)\n",
    "x_test,  y_test  = np.array(x_test),  np.array(y_test)\n"
   ]
  },
  {
   "cell_type": "markdown",
   "metadata": {},
   "source": [
    "## Step 4 - Build a model\n",
    "More informations about : \n",
    " - [Optimizer](https://www.tensorflow.org/api_docs/python/tf/keras/optimizers)\n",
    " - [Activation](https://www.tensorflow.org/api_docs/python/tf/keras/activations)\n",
    " - [Loss](https://www.tensorflow.org/api_docs/python/tf/keras/losses)\n",
    " - [Metrics](https://www.tensorflow.org/api_docs/python/tf/keras/metrics)"
   ]
  },
  {
   "cell_type": "code",
   "execution_count": 6,
   "metadata": {},
   "outputs": [],
   "source": [
    "  def get_model_v1(shape):\n",
    "    \n",
    "    model = keras.models.Sequential()\n",
    "    model.add(keras.layers.Input(shape, name=\"InputLayer\"))\n",
    "    model.add(keras.layers.Dense(64, activation='relu', name='Dense_n1'))\n",
    "    model.add(keras.layers.Dense(64, activation='relu', name='Dense_n2'))\n",
    "    model.add(keras.layers.Dense(1, name='Output'))\n",
    "    \n",
    "    model.compile(optimizer = 'rmsprop',\n",
    "                  loss      = 'mse',\n",
    "                  metrics   = ['mae', 'mse'] )\n",
    "    return model"
   ]
  },
  {
   "cell_type": "markdown",
   "metadata": {},
   "source": [
    "## 5 - Train the model\n",
    "### 5.1 - Get it"
   ]
  },
  {
   "cell_type": "code",
   "execution_count": 7,
   "metadata": {},
   "outputs": [
    {
     "name": "stdout",
     "output_type": "stream",
     "text": [
      "Model: \"sequential\"\n",
      "_________________________________________________________________\n",
      "Layer (type)                 Output Shape              Param #   \n",
      "=================================================================\n",
      "Dense_n1 (Dense)             (None, 64)                896       \n",
      "_________________________________________________________________\n",
      "Dense_n2 (Dense)             (None, 64)                4160      \n",
      "_________________________________________________________________\n",
      "Output (Dense)               (None, 1)                 65        \n",
      "=================================================================\n",
      "Total params: 5,121\n",
      "Trainable params: 5,121\n",
      "Non-trainable params: 0\n",
      "_________________________________________________________________\n"
     ]
    },
    {
     "data": {
      "image/png": "[encoded data removed]",
      "text/plain": [
       "<IPython.core.display.Image object>"
      ]
     },
     "metadata": {},
     "output_type": "display_data"
    }
   ],
   "source": [
    "model=get_model_v1( (13,) )\n",
    "\n",
    "model.summary()\n",
    "img=keras.utils.plot_model( model, to_file='./run/model.png', show_shapes=True, show_layer_names=True, dpi=96)\n",
    "display(img)"
   ]
  },
  {
   "cell_type": "markdown",
   "metadata": {},
   "source": [
    "### 5.2 - Add callback"
   ]
  },
  {
   "cell_type": "code",
   "execution_count": 8,
   "metadata": {},
   "outputs": [],
   "source": [
    "os.makedirs('./run/models',   mode=0o750, exist_ok=True)\n",
    "save_dir = \"./run/models/best_model.h5\"\n",
    "\n",
    "savemodel_callback = tf.keras.callbacks.ModelCheckpoint(filepath=save_dir, verbose=0, save_best_only=True)"
   ]
  },
  {
   "cell_type": "markdown",
   "metadata": {},
   "source": [
    "### 5.3 - Train it"
   ]
  },
  {
   "cell_type": "code",
   "execution_count": 9,
   "metadata": {},
   "outputs": [
    {
     "name": "stdout",
     "output_type": "stream",
     "text": [
      "Train on 354 samples, validate on 152 samples\n",
      "Epoch 1/100\n",
      "354/354 [==============================] - 1s 2ms/sample - loss: 481.3753 - mae: 19.8670 - mse: 481.3753 - val_loss: 314.3385 - val_mae: 15.8008 - val_mse: 314.3385\n",
      "Epoch 2/100\n",
      "354/354 [==============================] - 0s 260us/sample - loss: 229.3621 - mae: 12.6174 - mse: 229.3621 - val_loss: 88.5334 - val_mae: 7.5604 - val_mse: 88.5334\n",
      "Epoch 3/100\n",
      "354/354 [==============================] - 0s 257us/sample - loss: 68.8611 - mae: 6.3557 - mse: 68.8611 - val_loss: 31.3818 - val_mae: 4.0464 - val_mse: 31.3818\n",
      "Epoch 4/100\n",
      "354/354 [==============================] - 0s 276us/sample - loss: 35.8664 - mae: 4.2830 - mse: 35.8664 - val_loss: 22.6644 - val_mae: 3.3926 - val_mse: 22.6644\n",
      "Epoch 5/100\n",
      "354/354 [==============================] - 0s 308us/sample - loss: 27.5686 - mae: 3.7422 - mse: 27.5686 - val_loss: 19.3083 - val_mae: 3.1289 - val_mse: 19.3083\n",
      "Epoch 6/100\n",
      "354/354 [==============================] - 0s 219us/sample - loss: 23.4305 - mae: 3.4043 - mse: 23.4305 - val_loss: 20.6539 - val_mae: 3.4142 - val_mse: 20.6539\n",
      "Epoch 7/100\n",
      "354/354 [==============================] - 0s 255us/sample - loss: 21.1150 - mae: 3.2773 - mse: 21.1150 - val_loss: 18.6601 - val_mae: 3.1530 - val_mse: 18.6601\n",
      "Epoch 8/100\n",
      "354/354 [==============================] - 0s 260us/sample - loss: 19.8029 - mae: 3.0902 - mse: 19.8029 - val_loss: 15.9759 - val_mae: 2.7631 - val_mse: 15.9759\n",
      "Epoch 9/100\n",
      "354/354 [==============================] - 0s 245us/sample - loss: 18.2403 - mae: 2.9607 - mse: 18.2403 - val_loss: 15.4413 - val_mae: 2.7050 - val_mse: 15.4413\n",
      "Epoch 10/100\n",
      "354/354 [==============================] - 0s 270us/sample - loss: 17.1524 - mae: 2.8301 - mse: 17.1524 - val_loss: 15.1125 - val_mae: 2.7898 - val_mse: 15.1125\n",
      "Epoch 11/100\n",
      "354/354 [==============================] - 0s 270us/sample - loss: 16.2984 - mae: 2.7811 - mse: 16.2984 - val_loss: 14.8470 - val_mae: 2.7025 - val_mse: 14.8470\n",
      "Epoch 12/100\n",
      "354/354 [==============================] - 0s 252us/sample - loss: 15.2709 - mae: 2.6902 - mse: 15.2709 - val_loss: 14.4838 - val_mae: 2.7250 - val_mse: 14.4838\n",
      "Epoch 13/100\n",
      "354/354 [==============================] - 0s 260us/sample - loss: 15.0772 - mae: 2.6599 - mse: 15.0772 - val_loss: 13.1951 - val_mae: 2.5494 - val_mse: 13.1951\n",
      "Epoch 14/100\n",
      "354/354 [==============================] - 0s 239us/sample - loss: 14.4671 - mae: 2.6048 - mse: 14.4671 - val_loss: 12.9212 - val_mae: 2.5698 - val_mse: 12.9212\n",
      "Epoch 15/100\n",
      "354/354 [==============================] - 0s 246us/sample - loss: 13.8594 - mae: 2.5400 - mse: 13.8594 - val_loss: 12.7734 - val_mae: 2.5859 - val_mse: 12.7734\n",
      "Epoch 16/100\n",
      "354/354 [==============================] - 0s 236us/sample - loss: 13.6460 - mae: 2.5167 - mse: 13.6460 - val_loss: 13.0759 - val_mae: 2.6484 - val_mse: 13.0759\n",
      "Epoch 17/100\n",
      "354/354 [==============================] - 0s 264us/sample - loss: 13.2246 - mae: 2.4772 - mse: 13.2246 - val_loss: 12.1817 - val_mae: 2.5219 - val_mse: 12.1817\n",
      "Epoch 18/100\n",
      "354/354 [==============================] - 0s 235us/sample - loss: 12.5195 - mae: 2.4540 - mse: 12.5195 - val_loss: 12.6745 - val_mae: 2.5802 - val_mse: 12.6745\n",
      "Epoch 19/100\n",
      "354/354 [==============================] - 0s 261us/sample - loss: 12.4546 - mae: 2.4254 - mse: 12.4546 - val_loss: 11.9251 - val_mae: 2.4647 - val_mse: 11.9251\n",
      "Epoch 20/100\n",
      "354/354 [==============================] - 0s 225us/sample - loss: 12.0475 - mae: 2.3894 - mse: 12.0475 - val_loss: 12.0472 - val_mae: 2.4925 - val_mse: 12.0472\n",
      "Epoch 21/100\n",
      "354/354 [==============================] - 0s 225us/sample - loss: 11.4262 - mae: 2.3048 - mse: 11.4262 - val_loss: 13.1727 - val_mae: 2.6941 - val_mse: 13.1727\n",
      "Epoch 22/100\n",
      "354/354 [==============================] - 0s 214us/sample - loss: 11.4323 - mae: 2.3778 - mse: 11.4323 - val_loss: 12.2495 - val_mae: 2.5638 - val_mse: 12.2495\n",
      "Epoch 23/100\n",
      "354/354 [==============================] - 0s 255us/sample - loss: 11.2458 - mae: 2.2963 - mse: 11.2458 - val_loss: 11.7263 - val_mae: 2.4637 - val_mse: 11.7263\n",
      "Epoch 24/100\n",
      "354/354 [==============================] - 0s 261us/sample - loss: 10.9569 - mae: 2.3280 - mse: 10.9569 - val_loss: 11.6823 - val_mae: 2.4107 - val_mse: 11.6823\n",
      "Epoch 25/100\n",
      "354/354 [==============================] - 0s 231us/sample - loss: 10.9952 - mae: 2.2930 - mse: 10.9952 - val_loss: 11.6954 - val_mae: 2.3762 - val_mse: 11.6954\n",
      "Epoch 26/100\n",
      "354/354 [==============================] - 0s 242us/sample - loss: 10.3608 - mae: 2.2362 - mse: 10.3608 - val_loss: 11.7024 - val_mae: 2.4272 - val_mse: 11.7024\n",
      "Epoch 27/100\n",
      "354/354 [==============================] - 0s 260us/sample - loss: 10.6636 - mae: 2.2256 - mse: 10.6636 - val_loss: 11.4609 - val_mae: 2.3786 - val_mse: 11.4609\n",
      "Epoch 28/100\n",
      "354/354 [==============================] - 0s 267us/sample - loss: 10.3853 - mae: 2.2194 - mse: 10.3853 - val_loss: 11.3762 - val_mae: 2.3642 - val_mse: 11.3762\n",
      "Epoch 29/100\n",
      "354/354 [==============================] - 0s 223us/sample - loss: 10.1887 - mae: 2.1885 - mse: 10.1887 - val_loss: 11.9517 - val_mae: 2.5128 - val_mse: 11.9517\n",
      "Epoch 30/100\n",
      "354/354 [==============================] - 0s 230us/sample - loss: 9.9776 - mae: 2.1494 - mse: 9.9776 - val_loss: 13.0448 - val_mae: 2.6374 - val_mse: 13.0448\n",
      "Epoch 31/100\n",
      "354/354 [==============================] - 0s 239us/sample - loss: 9.6249 - mae: 2.1446 - mse: 9.6249 - val_loss: 12.0983 - val_mae: 2.5684 - val_mse: 12.0983\n",
      "Epoch 32/100\n",
      "354/354 [==============================] - 0s 230us/sample - loss: 9.8706 - mae: 2.1513 - mse: 9.8706 - val_loss: 11.4932 - val_mae: 2.4160 - val_mse: 11.4932\n",
      "Epoch 33/100\n",
      "354/354 [==============================] - 0s 228us/sample - loss: 9.4976 - mae: 2.0707 - mse: 9.4976 - val_loss: 12.2362 - val_mae: 2.4694 - val_mse: 12.2362\n",
      "Epoch 34/100\n",
      "354/354 [==============================] - 0s 222us/sample - loss: 9.3964 - mae: 2.1224 - mse: 9.3964 - val_loss: 12.7674 - val_mae: 2.6478 - val_mse: 12.7674\n",
      "Epoch 35/100\n",
      "354/354 [==============================] - 0s 239us/sample - loss: 9.4643 - mae: 2.1037 - mse: 9.4643 - val_loss: 11.3943 - val_mae: 2.3635 - val_mse: 11.3943\n",
      "Epoch 36/100\n",
      "354/354 [==============================] - 0s 230us/sample - loss: 8.8058 - mae: 2.0187 - mse: 8.8058 - val_loss: 11.5623 - val_mae: 2.3851 - val_mse: 11.5623\n",
      "Epoch 37/100\n",
      "354/354 [==============================] - 0s 270us/sample - loss: 8.9810 - mae: 2.0965 - mse: 8.9810 - val_loss: 11.1572 - val_mae: 2.3400 - val_mse: 11.1572\n",
      "Epoch 38/100\n",
      "354/354 [==============================] - 0s 251us/sample - loss: 8.6998 - mae: 2.0867 - mse: 8.6998 - val_loss: 12.4127 - val_mae: 2.5576 - val_mse: 12.4127\n",
      "Epoch 39/100\n",
      "354/354 [==============================] - 0s 255us/sample - loss: 8.9094 - mae: 2.0972 - mse: 8.9094 - val_loss: 11.8589 - val_mae: 2.4271 - val_mse: 11.8589\n",
      "Epoch 40/100\n",
      "354/354 [==============================] - 0s 234us/sample - loss: 8.6066 - mae: 2.0621 - mse: 8.6066 - val_loss: 11.5191 - val_mae: 2.3642 - val_mse: 11.5191\n",
      "Epoch 41/100\n",
      "354/354 [==============================] - 0s 244us/sample - loss: 8.7560 - mae: 2.0669 - mse: 8.7560 - val_loss: 11.2479 - val_mae: 2.3179 - val_mse: 11.2479\n",
      "Epoch 42/100\n",
      "354/354 [==============================] - 0s 230us/sample - loss: 8.3698 - mae: 2.0177 - mse: 8.3698 - val_loss: 11.5014 - val_mae: 2.4096 - val_mse: 11.5014\n",
      "Epoch 43/100\n",
      "354/354 [==============================] - 0s 243us/sample - loss: 8.3662 - mae: 2.0202 - mse: 8.3662 - val_loss: 13.6899 - val_mae: 2.6890 - val_mse: 13.6899\n",
      "Epoch 44/100\n",
      "354/354 [==============================] - 0s 228us/sample - loss: 8.3175 - mae: 1.9934 - mse: 8.3175 - val_loss: 12.2908 - val_mae: 2.4973 - val_mse: 12.2908\n",
      "Epoch 45/100\n",
      "354/354 [==============================] - 0s 239us/sample - loss: 8.0425 - mae: 1.9670 - mse: 8.0425 - val_loss: 11.5553 - val_mae: 2.3337 - val_mse: 11.5553\n",
      "Epoch 46/100\n",
      "354/354 [==============================] - 0s 222us/sample - loss: 7.9485 - mae: 1.9926 - mse: 7.9485 - val_loss: 11.2622 - val_mae: 2.3386 - val_mse: 11.2622\n",
      "Epoch 47/100\n",
      "354/354 [==============================] - 0s 242us/sample - loss: 7.8891 - mae: 2.0168 - mse: 7.8891 - val_loss: 11.4137 - val_mae: 2.3604 - val_mse: 11.4137\n",
      "Epoch 48/100\n",
      "354/354 [==============================] - 0s 230us/sample - loss: 7.9028 - mae: 1.9734 - mse: 7.9028 - val_loss: 12.7944 - val_mae: 2.6490 - val_mse: 12.7944\n",
      "Epoch 49/100\n",
      "354/354 [==============================] - 0s 258us/sample - loss: 7.7419 - mae: 1.9250 - mse: 7.7419 - val_loss: 11.0452 - val_mae: 2.3072 - val_mse: 11.0452\n",
      "Epoch 50/100\n",
      "354/354 [==============================] - 0s 255us/sample - loss: 7.7409 - mae: 1.9717 - mse: 7.7409 - val_loss: 10.9745 - val_mae: 2.2683 - val_mse: 10.9745\n",
      "Epoch 51/100\n",
      "354/354 [==============================] - 0s 225us/sample - loss: 7.6033 - mae: 1.9730 - mse: 7.6034 - val_loss: 11.0436 - val_mae: 2.3185 - val_mse: 11.0436\n",
      "Epoch 52/100\n",
      "354/354 [==============================] - 0s 244us/sample - loss: 7.3048 - mae: 1.9423 - mse: 7.3048 - val_loss: 11.2731 - val_mae: 2.3358 - val_mse: 11.2731\n",
      "Epoch 53/100\n",
      "354/354 [==============================] - 0s 230us/sample - loss: 7.4668 - mae: 1.8864 - mse: 7.4668 - val_loss: 11.5785 - val_mae: 2.4433 - val_mse: 11.5785\n",
      "Epoch 54/100\n",
      "354/354 [==============================] - 0s 241us/sample - loss: 7.3823 - mae: 1.8967 - mse: 7.3823 - val_loss: 11.1408 - val_mae: 2.3028 - val_mse: 11.1408\n",
      "Epoch 55/100\n",
      "354/354 [==============================] - 0s 261us/sample - loss: 7.2735 - mae: 1.8909 - mse: 7.2735 - val_loss: 11.3305 - val_mae: 2.3024 - val_mse: 11.3305\n",
      "Epoch 56/100\n",
      "354/354 [==============================] - 0s 248us/sample - loss: 7.2339 - mae: 1.8862 - mse: 7.2339 - val_loss: 12.2850 - val_mae: 2.5301 - val_mse: 12.2850\n",
      "Epoch 57/100\n",
      "354/354 [==============================] - 0s 248us/sample - loss: 7.0889 - mae: 1.8855 - mse: 7.0889 - val_loss: 11.2573 - val_mae: 2.3870 - val_mse: 11.2573\n",
      "Epoch 58/100\n",
      "354/354 [==============================] - 0s 255us/sample - loss: 7.2343 - mae: 1.9144 - mse: 7.2343 - val_loss: 11.6382 - val_mae: 2.4304 - val_mse: 11.6382\n",
      "Epoch 59/100\n",
      "354/354 [==============================] - 0s 242us/sample - loss: 7.1102 - mae: 1.9082 - mse: 7.1102 - val_loss: 11.4438 - val_mae: 2.4327 - val_mse: 11.4438\n",
      "Epoch 60/100\n",
      "354/354 [==============================] - 0s 243us/sample - loss: 7.0405 - mae: 1.8855 - mse: 7.0405 - val_loss: 11.0125 - val_mae: 2.3220 - val_mse: 11.0125\n",
      "Epoch 61/100\n",
      "354/354 [==============================] - 0s 250us/sample - loss: 6.7857 - mae: 1.8399 - mse: 6.7857 - val_loss: 11.0973 - val_mae: 2.3080 - val_mse: 11.0973\n",
      "Epoch 62/100\n",
      "354/354 [==============================] - 0s 228us/sample - loss: 6.8898 - mae: 1.8708 - mse: 6.8898 - val_loss: 11.1531 - val_mae: 2.3710 - val_mse: 11.1531\n",
      "Epoch 63/100\n",
      "354/354 [==============================] - 0s 271us/sample - loss: 6.6358 - mae: 1.8618 - mse: 6.6358 - val_loss: 10.9051 - val_mae: 2.3133 - val_mse: 10.9051\n",
      "Epoch 64/100\n",
      "354/354 [==============================] - 0s 253us/sample - loss: 6.5401 - mae: 1.7681 - mse: 6.5401 - val_loss: 12.8580 - val_mae: 2.7144 - val_mse: 12.8580\n",
      "Epoch 65/100\n",
      "354/354 [==============================] - 0s 240us/sample - loss: 6.6050 - mae: 1.8580 - mse: 6.6050 - val_loss: 11.3343 - val_mae: 2.3782 - val_mse: 11.3343\n",
      "Epoch 66/100\n",
      "354/354 [==============================] - 0s 250us/sample - loss: 6.3123 - mae: 1.8428 - mse: 6.3123 - val_loss: 11.8693 - val_mae: 2.4310 - val_mse: 11.8693\n",
      "Epoch 67/100\n",
      "354/354 [==============================] - 0s 260us/sample - loss: 6.6103 - mae: 1.8086 - mse: 6.6103 - val_loss: 11.7004 - val_mae: 2.4491 - val_mse: 11.7004\n",
      "Epoch 68/100\n",
      "354/354 [==============================] - 0s 224us/sample - loss: 6.2110 - mae: 1.7989 - mse: 6.2110 - val_loss: 12.3957 - val_mae: 2.5979 - val_mse: 12.3957\n",
      "Epoch 69/100\n",
      "354/354 [==============================] - 0s 245us/sample - loss: 6.4645 - mae: 1.7947 - mse: 6.4645 - val_loss: 11.1198 - val_mae: 2.3530 - val_mse: 11.1198\n",
      "Epoch 70/100\n",
      "354/354 [==============================] - 0s 228us/sample - loss: 6.1215 - mae: 1.7740 - mse: 6.1215 - val_loss: 11.1679 - val_mae: 2.3572 - val_mse: 11.1679\n",
      "Epoch 71/100\n",
      "354/354 [==============================] - 0s 247us/sample - loss: 6.2289 - mae: 1.7995 - mse: 6.2289 - val_loss: 11.2329 - val_mae: 2.3668 - val_mse: 11.2329\n",
      "Epoch 72/100\n",
      "354/354 [==============================] - 0s 224us/sample - loss: 6.2470 - mae: 1.7568 - mse: 6.2470 - val_loss: 11.1376 - val_mae: 2.3489 - val_mse: 11.1376\n",
      "Epoch 73/100\n",
      "354/354 [==============================] - 0s 250us/sample - loss: 5.9799 - mae: 1.7246 - mse: 5.9799 - val_loss: 13.7858 - val_mae: 2.7892 - val_mse: 13.7858\n",
      "Epoch 74/100\n",
      "354/354 [==============================] - 0s 245us/sample - loss: 6.1388 - mae: 1.7908 - mse: 6.1388 - val_loss: 13.4726 - val_mae: 2.7951 - val_mse: 13.4726\n",
      "Epoch 75/100\n",
      "354/354 [==============================] - 0s 257us/sample - loss: 5.8487 - mae: 1.7590 - mse: 5.8487 - val_loss: 10.8045 - val_mae: 2.3233 - val_mse: 10.8045\n",
      "Epoch 76/100\n",
      "354/354 [==============================] - 0s 235us/sample - loss: 6.0557 - mae: 1.7344 - mse: 6.0557 - val_loss: 11.0407 - val_mae: 2.3530 - val_mse: 11.0407\n",
      "Epoch 77/100\n",
      "354/354 [==============================] - 0s 255us/sample - loss: 5.9265 - mae: 1.7060 - mse: 5.9265 - val_loss: 12.1121 - val_mae: 2.5807 - val_mse: 12.1121\n",
      "Epoch 78/100\n",
      "354/354 [==============================] - 0s 245us/sample - loss: 5.8707 - mae: 1.7385 - mse: 5.8707 - val_loss: 11.2911 - val_mae: 2.3766 - val_mse: 11.2911\n",
      "Epoch 79/100\n",
      "354/354 [==============================] - 0s 250us/sample - loss: 5.9036 - mae: 1.7217 - mse: 5.9036 - val_loss: 10.8621 - val_mae: 2.3029 - val_mse: 10.8621\n",
      "Epoch 80/100\n",
      "354/354 [==============================] - 0s 227us/sample - loss: 5.7450 - mae: 1.7397 - mse: 5.7450 - val_loss: 11.2010 - val_mae: 2.3977 - val_mse: 11.2010\n",
      "Epoch 81/100\n",
      "354/354 [==============================] - 0s 235us/sample - loss: 5.7671 - mae: 1.7236 - mse: 5.7671 - val_loss: 10.9266 - val_mae: 2.3568 - val_mse: 10.9266\n",
      "Epoch 82/100\n",
      "354/354 [==============================] - 0s 232us/sample - loss: 5.7146 - mae: 1.7455 - mse: 5.7146 - val_loss: 11.0089 - val_mae: 2.3166 - val_mse: 11.0089\n",
      "Epoch 83/100\n",
      "354/354 [==============================] - 0s 233us/sample - loss: 5.8056 - mae: 1.7146 - mse: 5.8056 - val_loss: 11.7801 - val_mae: 2.4932 - val_mse: 11.7801\n",
      "Epoch 84/100\n",
      "354/354 [==============================] - 0s 216us/sample - loss: 5.4241 - mae: 1.6707 - mse: 5.4241 - val_loss: 11.2013 - val_mae: 2.3401 - val_mse: 11.2013\n",
      "Epoch 85/100\n",
      "354/354 [==============================] - 0s 266us/sample - loss: 5.6327 - mae: 1.6767 - mse: 5.6327 - val_loss: 10.7487 - val_mae: 2.3300 - val_mse: 10.7487\n",
      "Epoch 86/100\n",
      "354/354 [==============================] - 0s 222us/sample - loss: 5.5686 - mae: 1.7089 - mse: 5.5686 - val_loss: 11.0816 - val_mae: 2.3402 - val_mse: 11.0816\n",
      "Epoch 87/100\n",
      "354/354 [==============================] - 0s 219us/sample - loss: 5.4004 - mae: 1.7063 - mse: 5.4004 - val_loss: 11.4167 - val_mae: 2.4616 - val_mse: 11.4167\n",
      "Epoch 88/100\n",
      "354/354 [==============================] - 0s 247us/sample - loss: 5.4674 - mae: 1.6716 - mse: 5.4674 - val_loss: 10.7439 - val_mae: 2.3166 - val_mse: 10.7439\n",
      "Epoch 89/100\n",
      "354/354 [==============================] - 0s 234us/sample - loss: 5.4125 - mae: 1.6612 - mse: 5.4125 - val_loss: 10.8343 - val_mae: 2.3358 - val_mse: 10.8343\n",
      "Epoch 90/100\n",
      "354/354 [==============================] - 0s 235us/sample - loss: 5.2508 - mae: 1.6515 - mse: 5.2508 - val_loss: 10.8623 - val_mae: 2.3208 - val_mse: 10.8623\n",
      "Epoch 91/100\n",
      "354/354 [==============================] - 0s 230us/sample - loss: 5.1373 - mae: 1.6527 - mse: 5.1373 - val_loss: 11.4705 - val_mae: 2.3904 - val_mse: 11.4705\n",
      "Epoch 92/100\n",
      "354/354 [==============================] - 0s 275us/sample - loss: 5.4516 - mae: 1.6815 - mse: 5.4516 - val_loss: 10.5732 - val_mae: 2.2805 - val_mse: 10.5732\n",
      "Epoch 93/100\n",
      "354/354 [==============================] - 0s 239us/sample - loss: 5.1915 - mae: 1.6121 - mse: 5.1915 - val_loss: 11.8951 - val_mae: 2.5364 - val_mse: 11.8951\n",
      "Epoch 94/100\n",
      "354/354 [==============================] - 0s 229us/sample - loss: 5.0416 - mae: 1.6107 - mse: 5.0416 - val_loss: 10.9742 - val_mae: 2.3353 - val_mse: 10.9742\n",
      "Epoch 95/100\n",
      "354/354 [==============================] - 0s 235us/sample - loss: 4.9773 - mae: 1.6085 - mse: 4.9773 - val_loss: 12.6817 - val_mae: 2.6664 - val_mse: 12.6817\n",
      "Epoch 96/100\n",
      "354/354 [==============================] - 0s 233us/sample - loss: 5.1372 - mae: 1.6370 - mse: 5.1372 - val_loss: 12.1917 - val_mae: 2.5880 - val_mse: 12.1917\n",
      "Epoch 97/100\n",
      "354/354 [==============================] - 0s 235us/sample - loss: 4.8466 - mae: 1.6235 - mse: 4.8466 - val_loss: 11.0726 - val_mae: 2.4107 - val_mse: 11.0726\n",
      "Epoch 98/100\n",
      "354/354 [==============================] - 0s 230us/sample - loss: 5.1305 - mae: 1.6269 - mse: 5.1305 - val_loss: 11.4330 - val_mae: 2.5100 - val_mse: 11.4330\n",
      "Epoch 99/100\n",
      "354/354 [==============================] - 0s 234us/sample - loss: 4.9402 - mae: 1.5922 - mse: 4.9402 - val_loss: 12.0358 - val_mae: 2.6035 - val_mse: 12.0358\n",
      "Epoch 100/100\n",
      "354/354 [==============================] - 0s 232us/sample - loss: 5.0016 - mae: 1.5761 - mse: 5.0016 - val_loss: 12.4178 - val_mae: 2.5545 - val_mse: 12.4178\n"
     ]
    }
   ],
   "source": [
    "history = model.fit(x_train,\n",
    "                    y_train,\n",
    "                    epochs          = 100,\n",
    "                    batch_size      = 10,\n",
    "                    verbose         = 1,\n",
    "                    validation_data = (x_test, y_test),\n",
    "                    callbacks       = [savemodel_callback])"
   ]
  },
  {
   "cell_type": "markdown",
   "metadata": {},
   "source": [
    "## Step 6 - Evaluate\n",
    "### 6.1 - Model evaluation\n",
    "MAE =  Mean Absolute Error (between the labels and predictions)  \n",
    "A mae equal to 3 represents an average error in prediction of $3k."
   ]
  },
  {
   "cell_type": "code",
   "execution_count": 10,
   "metadata": {},
   "outputs": [
    {
     "name": "stdout",
     "output_type": "stream",
     "text": [
      "x_test / loss      : 12.4178\n",
      "x_test / mae       : 2.5545\n",
      "x_test / mse       : 12.4178\n"
     ]
    }
   ],
   "source": [
    "score = model.evaluate(x_test, y_test, verbose=0)\n",
    "\n",
    "print('x_test / loss      : {:5.4f}'.format(score[0]))\n",
    "print('x_test / mae       : {:5.4f}'.format(score[1]))\n",
    "print('x_test / mse       : {:5.4f}'.format(score[2]))"
   ]
  },
  {
   "cell_type": "markdown",
   "metadata": {},
   "source": [
    "### 6.2 - Training history\n",
    "What was the best result during our training ?"
   ]
  },
  {
   "cell_type": "code",
   "execution_count": 11,
   "metadata": {},
   "outputs": [
    {
     "name": "stdout",
     "output_type": "stream",
     "text": [
      "min( val_mae ) : 2.2683\n"
     ]
    }
   ],
   "source": [
    "print(\"min( val_mae ) : {:.4f}\".format( min(history.history[\"val_mae\"]) ) )"
   ]
  },
  {
   "cell_type": "code",
   "execution_count": 12,
   "metadata": {},
   "outputs": [
    {
     "data": {
      "image/png": "[encoded data removed]",
      "text/plain": [
       "<Figure size 576x432 with 1 Axes>"
      ]
     },
     "metadata": {
      "needs_background": "light"
     },
     "output_type": "display_data"
    },
    {
     "data": {
      "image/png": "[encoded data removed]",
      "text/plain": [
       "<Figure size 576x432 with 1 Axes>"
      ]
     },
     "metadata": {
      "needs_background": "light"
     },
     "output_type": "display_data"
    },
    {
     "data": {
      "image/png": "[encoded data removed]",
      "text/plain": [
       "<Figure size 576x432 with 1 Axes>"
      ]
     },
     "metadata": {
      "needs_background": "light"
     },
     "output_type": "display_data"
    }
   ],
   "source": [
    "pwk.plot_history(history, plot={'MSE' :['mse', 'val_mse'],\n",
    "                                'MAE' :['mae', 'val_mae'],\n",
    "                                'LOSS':['loss','val_loss']})"
   ]
  },
  {
   "cell_type": "markdown",
   "metadata": {},
   "source": [
    "## Step 7 - Restore a model :"
   ]
  },
  {
   "cell_type": "markdown",
   "metadata": {},
   "source": [
    "### 7.1 - Reload model"
   ]
  },
  {
   "cell_type": "code",
   "execution_count": 13,
   "metadata": {},
   "outputs": [
    {
     "name": "stdout",
     "output_type": "stream",
     "text": [
      "Model: \"sequential\"\n",
      "_________________________________________________________________\n",
      "Layer (type)                 Output Shape              Param #   \n",
      "=================================================================\n",
      "Dense_n1 (Dense)             (None, 64)                896       \n",
      "_________________________________________________________________\n",
      "Dense_n2 (Dense)             (None, 64)                4160      \n",
      "_________________________________________________________________\n",
      "Output (Dense)               (None, 1)                 65        \n",
      "=================================================================\n",
      "Total params: 5,121\n",
      "Trainable params: 5,121\n",
      "Non-trainable params: 0\n",
      "_________________________________________________________________\n",
      "Loaded.\n"
     ]
    }
   ],
   "source": [
    "loaded_model = tf.keras.models.load_model('./run/models/best_model.h5')\n",
    "loaded_model.summary()\n",
    "print(\"Loaded.\")"
   ]
  },
  {
   "cell_type": "markdown",
   "metadata": {},
   "source": [
    "### 7.2 - Evaluate it :"
   ]
  },
  {
   "cell_type": "code",
   "execution_count": 14,
   "metadata": {},
   "outputs": [
    {
     "name": "stdout",
     "output_type": "stream",
     "text": [
      "x_test / loss      : 10.5732\n",
      "x_test / mae       : 2.2805\n",
      "x_test / mse       : 10.5732\n"
     ]
    }
   ],
   "source": [
    "score = loaded_model.evaluate(x_test, y_test, verbose=0)\n",
    "\n",
    "print('x_test / loss      : {:5.4f}'.format(score[0]))\n",
    "print('x_test / mae       : {:5.4f}'.format(score[1]))\n",
    "print('x_test / mse       : {:5.4f}'.format(score[2]))"
   ]
  },
  {
   "cell_type": "markdown",
   "metadata": {},
   "source": [
    "### 7.3 - Make a prediction"
   ]
  },
  {
   "cell_type": "code",
   "execution_count": 15,
   "metadata": {},
   "outputs": [],
   "source": [
    "my_data = [ 1.26425925, -0.48522739,  1.0436489 , -0.23112788,  1.37120745,\n",
    "       -2.14308942,  1.13489104, -1.06802005,  1.71189006,  1.57042287,\n",
    "        0.77859951,  0.14769795,  2.7585581 ]\n",
    "real_price = 10.4\n",
    "\n",
    "my_data=np.array(my_data).reshape(1,13)"
   ]
  },
  {
   "cell_type": "code",
   "execution_count": 16,
   "metadata": {},
   "outputs": [
    {
     "name": "stdout",
     "output_type": "stream",
     "text": [
      "Prediction : 9.75 K$   Reality : 10.40 K$\n"
     ]
    }
   ],
   "source": [
    "predictions = loaded_model.predict( my_data )\n",
    "print(\"Prediction : {:.2f} K$   Reality : {:.2f} K$\".format(predictions[0][0], real_price))"
   ]
  },
  {
   "cell_type": "code",
   "execution_count": 17,
   "metadata": {},
   "outputs": [
    {
     "name": "stdout",
     "output_type": "stream",
     "text": [
      "End time is : Tuesday 15 December 2020, 22:05:26\n",
      "Duration is : 00:00:11 601ms\n",
      "This notebook ends here\n"
     ]
    }
   ],
   "source": [
    "pwk.end()"
   ]
  },
  {
   "cell_type": "markdown",
   "metadata": {},
   "source": [
    "---\n",
    "<img width=\"80px\" src=\"../fidle/img/00-Fidle-logo-01.svg\"></img>"
   ]
  }
 ],
 "metadata": {
  "kernelspec": {
   "display_name": "Python 3",
   "language": "python",
   "name": "python3"
  },
  "language_info": {
   "codemirror_mode": {
    "name": "ipython",
    "version": 3
   },
   "file_extension": ".py",
   "mimetype": "text/x-python",
   "name": "python",
   "nbconvert_exporter": "python",
   "pygments_lexer": "ipython3",
   "version": "3.7.7"
  }
 },
 "nbformat": 4,
 "nbformat_minor": 4
}
