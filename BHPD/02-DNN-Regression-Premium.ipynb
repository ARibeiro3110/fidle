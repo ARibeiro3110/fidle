{
 "cells": [
  {
   "cell_type": "markdown",
   "metadata": {},
   "source": [
    "<img width=\"800px\" src=\"../fidle/img/00-Fidle-header-01.svg\"></img>\n",
    "\n",
    "# <!-- TITLE --> [BHPD2] - Regression with a Dense Network (DNN) - Advanced code\n",
    "  <!-- DESC -->  More advanced example of DNN network code - BHPD dataset\n",
    "  <!-- AUTHOR : Jean-Luc Parouty (CNRS/SIMaP) -->\n",
    "\n",
    "## Objectives :\n",
    " - Predicts **housing prices** from a set of house features. \n",
    " - Understanding the principle and the architecture of a regression with a dense neural network with backup and restore of the trained model. \n",
    "\n",
    "The **[Boston Housing Prices Dataset](https://www.cs.toronto.edu/~delve/data/boston/bostonDetail.html)** consists of price of houses in various places in Boston.  \n",
    "Alongside with price, the dataset also provide these information :\n",
    "\n",
    " - CRIM: This is the per capita crime rate by town\n",
    " - ZN: This is the proportion of residential land zoned for lots larger than 25,000 sq.ft\n",
    " - INDUS: This is the proportion of non-retail business acres per town\n",
    " - CHAS: This is the Charles River dummy variable (this is equal to 1 if tract bounds river; 0 otherwise)\n",
    " - NOX: This is the nitric oxides concentration (parts per 10 million)\n",
    " - RM: This is the average number of rooms per dwelling\n",
    " - AGE: This is the proportion of owner-occupied units built prior to 1940\n",
    " - DIS: This is the weighted distances to five Boston employment centers\n",
    " - RAD: This is the index of accessibility to radial highways\n",
    " - TAX: This is the full-value property-tax rate per 10,000 dollars\n",
    " - PTRATIO: This is the pupil-teacher ratio by town\n",
    " - B: This is calculated as 1000(Bk — 0.63)^2, where Bk is the proportion of people of African American descent by town\n",
    " - LSTAT: This is the percentage lower status of the population\n",
    " - MEDV: This is the median value of owner-occupied homes in 1000 dollars\n",
    "\n",
    "## What we're going to do :\n",
    "\n",
    " - (Retrieve data)\n",
    " - (Preparing the data)\n",
    " - (Build a model)\n",
    " - Train and save the model\n",
    " - Restore saved model\n",
    " - Evaluate the model\n",
    " - Make some predictions\n"
   ]
  },
  {
   "cell_type": "markdown",
   "metadata": {},
   "source": [
    "## Step 1 - Import and init"
   ]
  },
  {
   "cell_type": "code",
   "execution_count": 1,
   "metadata": {},
   "outputs": [
    {
     "data": {
      "text/html": [
       "<style>\n",
       "\n",
       "div.warn {    \n",
       "    background-color: #fcf2f2;\n",
       "    border-color: #dFb5b4;\n",
       "    border-left: 5px solid #dfb5b4;\n",
       "    padding: 0.5em;\n",
       "    font-weight: bold;\n",
       "    font-size: 1.1em;;\n",
       "    }\n",
       "\n",
       "\n",
       "\n",
       "div.nota {    \n",
       "    background-color: #DAFFDE;\n",
       "    border-left: 5px solid #92CC99;\n",
       "    padding: 0.5em;\n",
       "    }\n",
       "\n",
       "div.todo:before { content:url(data:image/svg+xml;base64,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);\n",
       "    float:left;\n",
       "    margin-right:20px;\n",
       "    margin-top:-20px;\n",
       "    margin-bottom:20px;\n",
       "}\n",
       "div.todo{\n",
       "    font-weight: bold;\n",
       "    font-size: 1.1em;\n",
       "    margin-top:40px;\n",
       "}\n",
       "div.todo ul{\n",
       "    margin: 0.2em;\n",
       "}\n",
       "div.todo li{\n",
       "    margin-left:60px;\n",
       "    margin-top:0;\n",
       "    margin-bottom:0;\n",
       "}\n",
       "\n",
       "div .comment{\n",
       "    font-size:0.8em;\n",
       "    color:#696969;\n",
       "}\n",
       "\n",
       "\n",
       "\n",
       "</style>\n",
       "\n"
      ],
      "text/plain": [
       "<IPython.core.display.HTML object>"
      ]
     },
     "metadata": {},
     "output_type": "display_data"
    },
    {
     "data": {
      "text/markdown": [
       "<br>**FIDLE 2020 - Practical Work Module**"
      ],
      "text/plain": [
       "<IPython.core.display.Markdown object>"
      ]
     },
     "metadata": {},
     "output_type": "display_data"
    },
    {
     "name": "stdout",
     "output_type": "stream",
     "text": [
      "Version              : 1.2b1 DEV\n",
      "Notebook id          : BHPD2\n",
      "Run time             : Friday 8 January 2021, 01:10:28\n",
      "TensorFlow version   : 2.2.0\n",
      "Keras version        : 2.3.0-tf\n",
      "Datasets dir         : /home/pjluc/datasets/fidle\n",
      "Run dir              : ./run\n",
      "Update keras cache   : False\n",
      "Save figs            : True\n",
      "Path figs            : ./run/figs\n"
     ]
    }
   ],
   "source": [
    "import tensorflow as tf\n",
    "from tensorflow import keras\n",
    "\n",
    "import numpy as np\n",
    "import matplotlib.pyplot as plt\n",
    "import pandas as pd\n",
    "import os,sys\n",
    "\n",
    "from IPython.display import Markdown\n",
    "from importlib import reload\n",
    "\n",
    "sys.path.append('..')\n",
    "import fidle.pwk as pwk\n",
    "\n",
    "datasets_dir = pwk.init('BHPD2')"
   ]
  },
  {
   "cell_type": "markdown",
   "metadata": {},
   "source": [
    "## Step 2 - Retrieve data\n",
    "\n",
    "### 2.1 - Option 1  : From Keras\n",
    "Boston housing is a famous historic dataset, so we can get it directly from [Keras datasets](https://www.tensorflow.org/api_docs/python/tf/keras/datasets)  "
   ]
  },
  {
   "cell_type": "code",
   "execution_count": 2,
   "metadata": {},
   "outputs": [],
   "source": [
    "# (x_train, y_train), (x_test, y_test) = keras.datasets.boston_housing.load_data(test_split=0.2, seed=113)"
   ]
  },
  {
   "cell_type": "markdown",
   "metadata": {},
   "source": [
    "### 2.2 - Option 2 : From a csv file\n",
    "More fun !"
   ]
  },
  {
   "cell_type": "code",
   "execution_count": 3,
   "metadata": {},
   "outputs": [
    {
     "data": {
      "text/html": [
       "<style  type=\"text/css\" >\n",
       "</style><table id=\"T_f13fa_\" ><thead>    <tr>        <th class=\"blank level0\" ></th>        <th class=\"col_heading level0 col0\" >crim</th>        <th class=\"col_heading level0 col1\" >zn</th>        <th class=\"col_heading level0 col2\" >indus</th>        <th class=\"col_heading level0 col3\" >chas</th>        <th class=\"col_heading level0 col4\" >nox</th>        <th class=\"col_heading level0 col5\" >rm</th>        <th class=\"col_heading level0 col6\" >age</th>        <th class=\"col_heading level0 col7\" >dis</th>        <th class=\"col_heading level0 col8\" >rad</th>        <th class=\"col_heading level0 col9\" >tax</th>        <th class=\"col_heading level0 col10\" >ptratio</th>        <th class=\"col_heading level0 col11\" >b</th>        <th class=\"col_heading level0 col12\" >lstat</th>        <th class=\"col_heading level0 col13\" >medv</th>    </tr></thead><tbody>\n",
       "                <tr>\n",
       "                        <th id=\"T_f13fa_level0_row0\" class=\"row_heading level0 row0\" >0</th>\n",
       "                        <td id=\"T_f13fa_row0_col0\" class=\"data row0 col0\" >0.01</td>\n",
       "                        <td id=\"T_f13fa_row0_col1\" class=\"data row0 col1\" >18.00</td>\n",
       "                        <td id=\"T_f13fa_row0_col2\" class=\"data row0 col2\" >2.31</td>\n",
       "                        <td id=\"T_f13fa_row0_col3\" class=\"data row0 col3\" >0.00</td>\n",
       "                        <td id=\"T_f13fa_row0_col4\" class=\"data row0 col4\" >0.54</td>\n",
       "                        <td id=\"T_f13fa_row0_col5\" class=\"data row0 col5\" >6.58</td>\n",
       "                        <td id=\"T_f13fa_row0_col6\" class=\"data row0 col6\" >65.20</td>\n",
       "                        <td id=\"T_f13fa_row0_col7\" class=\"data row0 col7\" >4.09</td>\n",
       "                        <td id=\"T_f13fa_row0_col8\" class=\"data row0 col8\" >1.00</td>\n",
       "                        <td id=\"T_f13fa_row0_col9\" class=\"data row0 col9\" >296.00</td>\n",
       "                        <td id=\"T_f13fa_row0_col10\" class=\"data row0 col10\" >15.30</td>\n",
       "                        <td id=\"T_f13fa_row0_col11\" class=\"data row0 col11\" >396.90</td>\n",
       "                        <td id=\"T_f13fa_row0_col12\" class=\"data row0 col12\" >4.98</td>\n",
       "                        <td id=\"T_f13fa_row0_col13\" class=\"data row0 col13\" >24.00</td>\n",
       "            </tr>\n",
       "            <tr>\n",
       "                        <th id=\"T_f13fa_level0_row1\" class=\"row_heading level0 row1\" >1</th>\n",
       "                        <td id=\"T_f13fa_row1_col0\" class=\"data row1 col0\" >0.03</td>\n",
       "                        <td id=\"T_f13fa_row1_col1\" class=\"data row1 col1\" >0.00</td>\n",
       "                        <td id=\"T_f13fa_row1_col2\" class=\"data row1 col2\" >7.07</td>\n",
       "                        <td id=\"T_f13fa_row1_col3\" class=\"data row1 col3\" >0.00</td>\n",
       "                        <td id=\"T_f13fa_row1_col4\" class=\"data row1 col4\" >0.47</td>\n",
       "                        <td id=\"T_f13fa_row1_col5\" class=\"data row1 col5\" >6.42</td>\n",
       "                        <td id=\"T_f13fa_row1_col6\" class=\"data row1 col6\" >78.90</td>\n",
       "                        <td id=\"T_f13fa_row1_col7\" class=\"data row1 col7\" >4.97</td>\n",
       "                        <td id=\"T_f13fa_row1_col8\" class=\"data row1 col8\" >2.00</td>\n",
       "                        <td id=\"T_f13fa_row1_col9\" class=\"data row1 col9\" >242.00</td>\n",
       "                        <td id=\"T_f13fa_row1_col10\" class=\"data row1 col10\" >17.80</td>\n",
       "                        <td id=\"T_f13fa_row1_col11\" class=\"data row1 col11\" >396.90</td>\n",
       "                        <td id=\"T_f13fa_row1_col12\" class=\"data row1 col12\" >9.14</td>\n",
       "                        <td id=\"T_f13fa_row1_col13\" class=\"data row1 col13\" >21.60</td>\n",
       "            </tr>\n",
       "            <tr>\n",
       "                        <th id=\"T_f13fa_level0_row2\" class=\"row_heading level0 row2\" >2</th>\n",
       "                        <td id=\"T_f13fa_row2_col0\" class=\"data row2 col0\" >0.03</td>\n",
       "                        <td id=\"T_f13fa_row2_col1\" class=\"data row2 col1\" >0.00</td>\n",
       "                        <td id=\"T_f13fa_row2_col2\" class=\"data row2 col2\" >7.07</td>\n",
       "                        <td id=\"T_f13fa_row2_col3\" class=\"data row2 col3\" >0.00</td>\n",
       "                        <td id=\"T_f13fa_row2_col4\" class=\"data row2 col4\" >0.47</td>\n",
       "                        <td id=\"T_f13fa_row2_col5\" class=\"data row2 col5\" >7.18</td>\n",
       "                        <td id=\"T_f13fa_row2_col6\" class=\"data row2 col6\" >61.10</td>\n",
       "                        <td id=\"T_f13fa_row2_col7\" class=\"data row2 col7\" >4.97</td>\n",
       "                        <td id=\"T_f13fa_row2_col8\" class=\"data row2 col8\" >2.00</td>\n",
       "                        <td id=\"T_f13fa_row2_col9\" class=\"data row2 col9\" >242.00</td>\n",
       "                        <td id=\"T_f13fa_row2_col10\" class=\"data row2 col10\" >17.80</td>\n",
       "                        <td id=\"T_f13fa_row2_col11\" class=\"data row2 col11\" >392.83</td>\n",
       "                        <td id=\"T_f13fa_row2_col12\" class=\"data row2 col12\" >4.03</td>\n",
       "                        <td id=\"T_f13fa_row2_col13\" class=\"data row2 col13\" >34.70</td>\n",
       "            </tr>\n",
       "            <tr>\n",
       "                        <th id=\"T_f13fa_level0_row3\" class=\"row_heading level0 row3\" >3</th>\n",
       "                        <td id=\"T_f13fa_row3_col0\" class=\"data row3 col0\" >0.03</td>\n",
       "                        <td id=\"T_f13fa_row3_col1\" class=\"data row3 col1\" >0.00</td>\n",
       "                        <td id=\"T_f13fa_row3_col2\" class=\"data row3 col2\" >2.18</td>\n",
       "                        <td id=\"T_f13fa_row3_col3\" class=\"data row3 col3\" >0.00</td>\n",
       "                        <td id=\"T_f13fa_row3_col4\" class=\"data row3 col4\" >0.46</td>\n",
       "                        <td id=\"T_f13fa_row3_col5\" class=\"data row3 col5\" >7.00</td>\n",
       "                        <td id=\"T_f13fa_row3_col6\" class=\"data row3 col6\" >45.80</td>\n",
       "                        <td id=\"T_f13fa_row3_col7\" class=\"data row3 col7\" >6.06</td>\n",
       "                        <td id=\"T_f13fa_row3_col8\" class=\"data row3 col8\" >3.00</td>\n",
       "                        <td id=\"T_f13fa_row3_col9\" class=\"data row3 col9\" >222.00</td>\n",
       "                        <td id=\"T_f13fa_row3_col10\" class=\"data row3 col10\" >18.70</td>\n",
       "                        <td id=\"T_f13fa_row3_col11\" class=\"data row3 col11\" >394.63</td>\n",
       "                        <td id=\"T_f13fa_row3_col12\" class=\"data row3 col12\" >2.94</td>\n",
       "                        <td id=\"T_f13fa_row3_col13\" class=\"data row3 col13\" >33.40</td>\n",
       "            </tr>\n",
       "            <tr>\n",
       "                        <th id=\"T_f13fa_level0_row4\" class=\"row_heading level0 row4\" >4</th>\n",
       "                        <td id=\"T_f13fa_row4_col0\" class=\"data row4 col0\" >0.07</td>\n",
       "                        <td id=\"T_f13fa_row4_col1\" class=\"data row4 col1\" >0.00</td>\n",
       "                        <td id=\"T_f13fa_row4_col2\" class=\"data row4 col2\" >2.18</td>\n",
       "                        <td id=\"T_f13fa_row4_col3\" class=\"data row4 col3\" >0.00</td>\n",
       "                        <td id=\"T_f13fa_row4_col4\" class=\"data row4 col4\" >0.46</td>\n",
       "                        <td id=\"T_f13fa_row4_col5\" class=\"data row4 col5\" >7.15</td>\n",
       "                        <td id=\"T_f13fa_row4_col6\" class=\"data row4 col6\" >54.20</td>\n",
       "                        <td id=\"T_f13fa_row4_col7\" class=\"data row4 col7\" >6.06</td>\n",
       "                        <td id=\"T_f13fa_row4_col8\" class=\"data row4 col8\" >3.00</td>\n",
       "                        <td id=\"T_f13fa_row4_col9\" class=\"data row4 col9\" >222.00</td>\n",
       "                        <td id=\"T_f13fa_row4_col10\" class=\"data row4 col10\" >18.70</td>\n",
       "                        <td id=\"T_f13fa_row4_col11\" class=\"data row4 col11\" >396.90</td>\n",
       "                        <td id=\"T_f13fa_row4_col12\" class=\"data row4 col12\" >5.33</td>\n",
       "                        <td id=\"T_f13fa_row4_col13\" class=\"data row4 col13\" >36.20</td>\n",
       "            </tr>\n",
       "    </tbody></table>"
      ],
      "text/plain": [
       "<pandas.io.formats.style.Styler at 0x7f07873c2c10>"
      ]
     },
     "metadata": {},
     "output_type": "display_data"
    },
    {
     "name": "stdout",
     "output_type": "stream",
     "text": [
      "Missing Data :  0   Shape is :  (506, 14)\n"
     ]
    }
   ],
   "source": [
    "data = pd.read_csv(f'{datasets_dir}/BHPD/origine/BostonHousing.csv', header=0)\n",
    "\n",
    "display(data.head(5).style.format(\"{0:.2f}\"))\n",
    "print('Missing Data : ',data.isna().sum().sum(), '  Shape is : ', data.shape)"
   ]
  },
  {
   "cell_type": "markdown",
   "metadata": {},
   "source": [
    "## Step 3 - Preparing the data\n",
    "### 3.1 - Split data\n",
    "We will use 80% of the data for training and 20% for validation.  \n",
    "x will be input data and y the expected output"
   ]
  },
  {
   "cell_type": "code",
   "execution_count": 4,
   "metadata": {},
   "outputs": [
    {
     "name": "stdout",
     "output_type": "stream",
     "text": [
      "Original data shape was :  (506, 14)\n",
      "x_train :  (354, 13) y_train :  (354,)\n",
      "x_test  :  (152, 13) y_test  :  (152,)\n"
     ]
    }
   ],
   "source": [
    "# ---- Split => train, test\n",
    "#\n",
    "data_train = data.sample(frac=0.7, axis=0)\n",
    "data_test  = data.drop(data_train.index)\n",
    "\n",
    "# ---- Split => x,y (medv is price)\n",
    "#\n",
    "x_train = data_train.drop('medv',  axis=1)\n",
    "y_train = data_train['medv']\n",
    "x_test  = data_test.drop('medv',   axis=1)\n",
    "y_test  = data_test['medv']\n",
    "\n",
    "print('Original data shape was : ',data.shape)\n",
    "print('x_train : ',x_train.shape, 'y_train : ',y_train.shape)\n",
    "print('x_test  : ',x_test.shape,  'y_test  : ',y_test.shape)"
   ]
  },
  {
   "cell_type": "markdown",
   "metadata": {},
   "source": [
    "### 3.2 - Data normalization\n",
    "**Note :** \n",
    " - All input data must be normalized, train and test.  \n",
    " - To do this we will subtract the mean and divide by the standard deviation.  \n",
    " - But test data should not be used in any way, even for normalization.  \n",
    " - The mean and the standard deviation will therefore only be calculated with the train data."
   ]
  },
  {
   "cell_type": "code",
   "execution_count": 5,
   "metadata": {},
   "outputs": [
    {
     "data": {
      "text/html": [
       "<style  type=\"text/css\" >\n",
       "</style><table id=\"T_fc6dd_\" ><caption>Before normalization :</caption><thead>    <tr>        <th class=\"blank level0\" ></th>        <th class=\"col_heading level0 col0\" >crim</th>        <th class=\"col_heading level0 col1\" >zn</th>        <th class=\"col_heading level0 col2\" >indus</th>        <th class=\"col_heading level0 col3\" >chas</th>        <th class=\"col_heading level0 col4\" >nox</th>        <th class=\"col_heading level0 col5\" >rm</th>        <th class=\"col_heading level0 col6\" >age</th>        <th class=\"col_heading level0 col7\" >dis</th>        <th class=\"col_heading level0 col8\" >rad</th>        <th class=\"col_heading level0 col9\" >tax</th>        <th class=\"col_heading level0 col10\" >ptratio</th>        <th class=\"col_heading level0 col11\" >b</th>        <th class=\"col_heading level0 col12\" >lstat</th>    </tr></thead><tbody>\n",
       "                <tr>\n",
       "                        <th id=\"T_fc6dd_level0_row0\" class=\"row_heading level0 row0\" >count</th>\n",
       "                        <td id=\"T_fc6dd_row0_col0\" class=\"data row0 col0\" >354.00</td>\n",
       "                        <td id=\"T_fc6dd_row0_col1\" class=\"data row0 col1\" >354.00</td>\n",
       "                        <td id=\"T_fc6dd_row0_col2\" class=\"data row0 col2\" >354.00</td>\n",
       "                        <td id=\"T_fc6dd_row0_col3\" class=\"data row0 col3\" >354.00</td>\n",
       "                        <td id=\"T_fc6dd_row0_col4\" class=\"data row0 col4\" >354.00</td>\n",
       "                        <td id=\"T_fc6dd_row0_col5\" class=\"data row0 col5\" >354.00</td>\n",
       "                        <td id=\"T_fc6dd_row0_col6\" class=\"data row0 col6\" >354.00</td>\n",
       "                        <td id=\"T_fc6dd_row0_col7\" class=\"data row0 col7\" >354.00</td>\n",
       "                        <td id=\"T_fc6dd_row0_col8\" class=\"data row0 col8\" >354.00</td>\n",
       "                        <td id=\"T_fc6dd_row0_col9\" class=\"data row0 col9\" >354.00</td>\n",
       "                        <td id=\"T_fc6dd_row0_col10\" class=\"data row0 col10\" >354.00</td>\n",
       "                        <td id=\"T_fc6dd_row0_col11\" class=\"data row0 col11\" >354.00</td>\n",
       "                        <td id=\"T_fc6dd_row0_col12\" class=\"data row0 col12\" >354.00</td>\n",
       "            </tr>\n",
       "            <tr>\n",
       "                        <th id=\"T_fc6dd_level0_row1\" class=\"row_heading level0 row1\" >mean</th>\n",
       "                        <td id=\"T_fc6dd_row1_col0\" class=\"data row1 col0\" >3.71</td>\n",
       "                        <td id=\"T_fc6dd_row1_col1\" class=\"data row1 col1\" >11.71</td>\n",
       "                        <td id=\"T_fc6dd_row1_col2\" class=\"data row1 col2\" >11.18</td>\n",
       "                        <td id=\"T_fc6dd_row1_col3\" class=\"data row1 col3\" >0.06</td>\n",
       "                        <td id=\"T_fc6dd_row1_col4\" class=\"data row1 col4\" >0.56</td>\n",
       "                        <td id=\"T_fc6dd_row1_col5\" class=\"data row1 col5\" >6.30</td>\n",
       "                        <td id=\"T_fc6dd_row1_col6\" class=\"data row1 col6\" >68.24</td>\n",
       "                        <td id=\"T_fc6dd_row1_col7\" class=\"data row1 col7\" >3.82</td>\n",
       "                        <td id=\"T_fc6dd_row1_col8\" class=\"data row1 col8\" >9.72</td>\n",
       "                        <td id=\"T_fc6dd_row1_col9\" class=\"data row1 col9\" >413.70</td>\n",
       "                        <td id=\"T_fc6dd_row1_col10\" class=\"data row1 col10\" >18.46</td>\n",
       "                        <td id=\"T_fc6dd_row1_col11\" class=\"data row1 col11\" >355.85</td>\n",
       "                        <td id=\"T_fc6dd_row1_col12\" class=\"data row1 col12\" >12.66</td>\n",
       "            </tr>\n",
       "            <tr>\n",
       "                        <th id=\"T_fc6dd_level0_row2\" class=\"row_heading level0 row2\" >std</th>\n",
       "                        <td id=\"T_fc6dd_row2_col0\" class=\"data row2 col0\" >9.08</td>\n",
       "                        <td id=\"T_fc6dd_row2_col1\" class=\"data row2 col1\" >24.05</td>\n",
       "                        <td id=\"T_fc6dd_row2_col2\" class=\"data row2 col2\" >6.79</td>\n",
       "                        <td id=\"T_fc6dd_row2_col3\" class=\"data row2 col3\" >0.24</td>\n",
       "                        <td id=\"T_fc6dd_row2_col4\" class=\"data row2 col4\" >0.12</td>\n",
       "                        <td id=\"T_fc6dd_row2_col5\" class=\"data row2 col5\" >0.73</td>\n",
       "                        <td id=\"T_fc6dd_row2_col6\" class=\"data row2 col6\" >28.03</td>\n",
       "                        <td id=\"T_fc6dd_row2_col7\" class=\"data row2 col7\" >2.13</td>\n",
       "                        <td id=\"T_fc6dd_row2_col8\" class=\"data row2 col8\" >8.77</td>\n",
       "                        <td id=\"T_fc6dd_row2_col9\" class=\"data row2 col9\" >168.30</td>\n",
       "                        <td id=\"T_fc6dd_row2_col10\" class=\"data row2 col10\" >2.22</td>\n",
       "                        <td id=\"T_fc6dd_row2_col11\" class=\"data row2 col11\" >93.00</td>\n",
       "                        <td id=\"T_fc6dd_row2_col12\" class=\"data row2 col12\" >7.29</td>\n",
       "            </tr>\n",
       "            <tr>\n",
       "                        <th id=\"T_fc6dd_level0_row3\" class=\"row_heading level0 row3\" >min</th>\n",
       "                        <td id=\"T_fc6dd_row3_col0\" class=\"data row3 col0\" >0.01</td>\n",
       "                        <td id=\"T_fc6dd_row3_col1\" class=\"data row3 col1\" >0.00</td>\n",
       "                        <td id=\"T_fc6dd_row3_col2\" class=\"data row3 col2\" >0.46</td>\n",
       "                        <td id=\"T_fc6dd_row3_col3\" class=\"data row3 col3\" >0.00</td>\n",
       "                        <td id=\"T_fc6dd_row3_col4\" class=\"data row3 col4\" >0.39</td>\n",
       "                        <td id=\"T_fc6dd_row3_col5\" class=\"data row3 col5\" >3.56</td>\n",
       "                        <td id=\"T_fc6dd_row3_col6\" class=\"data row3 col6\" >6.00</td>\n",
       "                        <td id=\"T_fc6dd_row3_col7\" class=\"data row3 col7\" >1.14</td>\n",
       "                        <td id=\"T_fc6dd_row3_col8\" class=\"data row3 col8\" >1.00</td>\n",
       "                        <td id=\"T_fc6dd_row3_col9\" class=\"data row3 col9\" >187.00</td>\n",
       "                        <td id=\"T_fc6dd_row3_col10\" class=\"data row3 col10\" >12.60</td>\n",
       "                        <td id=\"T_fc6dd_row3_col11\" class=\"data row3 col11\" >0.32</td>\n",
       "                        <td id=\"T_fc6dd_row3_col12\" class=\"data row3 col12\" >1.73</td>\n",
       "            </tr>\n",
       "            <tr>\n",
       "                        <th id=\"T_fc6dd_level0_row4\" class=\"row_heading level0 row4\" >25%</th>\n",
       "                        <td id=\"T_fc6dd_row4_col0\" class=\"data row4 col0\" >0.09</td>\n",
       "                        <td id=\"T_fc6dd_row4_col1\" class=\"data row4 col1\" >0.00</td>\n",
       "                        <td id=\"T_fc6dd_row4_col2\" class=\"data row4 col2\" >5.19</td>\n",
       "                        <td id=\"T_fc6dd_row4_col3\" class=\"data row4 col3\" >0.00</td>\n",
       "                        <td id=\"T_fc6dd_row4_col4\" class=\"data row4 col4\" >0.45</td>\n",
       "                        <td id=\"T_fc6dd_row4_col5\" class=\"data row4 col5\" >5.89</td>\n",
       "                        <td id=\"T_fc6dd_row4_col6\" class=\"data row4 col6\" >43.47</td>\n",
       "                        <td id=\"T_fc6dd_row4_col7\" class=\"data row4 col7\" >2.07</td>\n",
       "                        <td id=\"T_fc6dd_row4_col8\" class=\"data row4 col8\" >4.00</td>\n",
       "                        <td id=\"T_fc6dd_row4_col9\" class=\"data row4 col9\" >284.00</td>\n",
       "                        <td id=\"T_fc6dd_row4_col10\" class=\"data row4 col10\" >17.40</td>\n",
       "                        <td id=\"T_fc6dd_row4_col11\" class=\"data row4 col11\" >375.24</td>\n",
       "                        <td id=\"T_fc6dd_row4_col12\" class=\"data row4 col12\" >6.91</td>\n",
       "            </tr>\n",
       "            <tr>\n",
       "                        <th id=\"T_fc6dd_level0_row5\" class=\"row_heading level0 row5\" >50%</th>\n",
       "                        <td id=\"T_fc6dd_row5_col0\" class=\"data row5 col0\" >0.28</td>\n",
       "                        <td id=\"T_fc6dd_row5_col1\" class=\"data row5 col1\" >0.00</td>\n",
       "                        <td id=\"T_fc6dd_row5_col2\" class=\"data row5 col2\" >9.69</td>\n",
       "                        <td id=\"T_fc6dd_row5_col3\" class=\"data row5 col3\" >0.00</td>\n",
       "                        <td id=\"T_fc6dd_row5_col4\" class=\"data row5 col4\" >0.54</td>\n",
       "                        <td id=\"T_fc6dd_row5_col5\" class=\"data row5 col5\" >6.21</td>\n",
       "                        <td id=\"T_fc6dd_row5_col6\" class=\"data row5 col6\" >77.15</td>\n",
       "                        <td id=\"T_fc6dd_row5_col7\" class=\"data row5 col7\" >3.32</td>\n",
       "                        <td id=\"T_fc6dd_row5_col8\" class=\"data row5 col8\" >5.00</td>\n",
       "                        <td id=\"T_fc6dd_row5_col9\" class=\"data row5 col9\" >341.00</td>\n",
       "                        <td id=\"T_fc6dd_row5_col10\" class=\"data row5 col10\" >19.10</td>\n",
       "                        <td id=\"T_fc6dd_row5_col11\" class=\"data row5 col11\" >391.29</td>\n",
       "                        <td id=\"T_fc6dd_row5_col12\" class=\"data row5 col12\" >11.30</td>\n",
       "            </tr>\n",
       "            <tr>\n",
       "                        <th id=\"T_fc6dd_level0_row6\" class=\"row_heading level0 row6\" >75%</th>\n",
       "                        <td id=\"T_fc6dd_row6_col0\" class=\"data row6 col0\" >3.69</td>\n",
       "                        <td id=\"T_fc6dd_row6_col1\" class=\"data row6 col1\" >12.50</td>\n",
       "                        <td id=\"T_fc6dd_row6_col2\" class=\"data row6 col2\" >18.10</td>\n",
       "                        <td id=\"T_fc6dd_row6_col3\" class=\"data row6 col3\" >0.00</td>\n",
       "                        <td id=\"T_fc6dd_row6_col4\" class=\"data row6 col4\" >0.63</td>\n",
       "                        <td id=\"T_fc6dd_row6_col5\" class=\"data row6 col5\" >6.63</td>\n",
       "                        <td id=\"T_fc6dd_row6_col6\" class=\"data row6 col6\" >93.55</td>\n",
       "                        <td id=\"T_fc6dd_row6_col7\" class=\"data row6 col7\" >5.21</td>\n",
       "                        <td id=\"T_fc6dd_row6_col8\" class=\"data row6 col8\" >24.00</td>\n",
       "                        <td id=\"T_fc6dd_row6_col9\" class=\"data row6 col9\" >666.00</td>\n",
       "                        <td id=\"T_fc6dd_row6_col10\" class=\"data row6 col10\" >20.20</td>\n",
       "                        <td id=\"T_fc6dd_row6_col11\" class=\"data row6 col11\" >396.30</td>\n",
       "                        <td id=\"T_fc6dd_row6_col12\" class=\"data row6 col12\" >16.72</td>\n",
       "            </tr>\n",
       "            <tr>\n",
       "                        <th id=\"T_fc6dd_level0_row7\" class=\"row_heading level0 row7\" >max</th>\n",
       "                        <td id=\"T_fc6dd_row7_col0\" class=\"data row7 col0\" >88.98</td>\n",
       "                        <td id=\"T_fc6dd_row7_col1\" class=\"data row7 col1\" >100.00</td>\n",
       "                        <td id=\"T_fc6dd_row7_col2\" class=\"data row7 col2\" >27.74</td>\n",
       "                        <td id=\"T_fc6dd_row7_col3\" class=\"data row7 col3\" >1.00</td>\n",
       "                        <td id=\"T_fc6dd_row7_col4\" class=\"data row7 col4\" >0.87</td>\n",
       "                        <td id=\"T_fc6dd_row7_col5\" class=\"data row7 col5\" >8.78</td>\n",
       "                        <td id=\"T_fc6dd_row7_col6\" class=\"data row7 col6\" >100.00</td>\n",
       "                        <td id=\"T_fc6dd_row7_col7\" class=\"data row7 col7\" >12.13</td>\n",
       "                        <td id=\"T_fc6dd_row7_col8\" class=\"data row7 col8\" >24.00</td>\n",
       "                        <td id=\"T_fc6dd_row7_col9\" class=\"data row7 col9\" >711.00</td>\n",
       "                        <td id=\"T_fc6dd_row7_col10\" class=\"data row7 col10\" >22.00</td>\n",
       "                        <td id=\"T_fc6dd_row7_col11\" class=\"data row7 col11\" >396.90</td>\n",
       "                        <td id=\"T_fc6dd_row7_col12\" class=\"data row7 col12\" >37.97</td>\n",
       "            </tr>\n",
       "    </tbody></table>"
      ],
      "text/plain": [
       "<pandas.io.formats.style.Styler at 0x7f06d332fcd0>"
      ]
     },
     "metadata": {},
     "output_type": "display_data"
    },
    {
     "data": {
      "text/html": [
       "<style  type=\"text/css\" >\n",
       "</style><table id=\"T_30f2b_\" ><caption>After normalization :</caption><thead>    <tr>        <th class=\"blank level0\" ></th>        <th class=\"col_heading level0 col0\" >crim</th>        <th class=\"col_heading level0 col1\" >zn</th>        <th class=\"col_heading level0 col2\" >indus</th>        <th class=\"col_heading level0 col3\" >chas</th>        <th class=\"col_heading level0 col4\" >nox</th>        <th class=\"col_heading level0 col5\" >rm</th>        <th class=\"col_heading level0 col6\" >age</th>        <th class=\"col_heading level0 col7\" >dis</th>        <th class=\"col_heading level0 col8\" >rad</th>        <th class=\"col_heading level0 col9\" >tax</th>        <th class=\"col_heading level0 col10\" >ptratio</th>        <th class=\"col_heading level0 col11\" >b</th>        <th class=\"col_heading level0 col12\" >lstat</th>    </tr></thead><tbody>\n",
       "                <tr>\n",
       "                        <th id=\"T_30f2b_level0_row0\" class=\"row_heading level0 row0\" >count</th>\n",
       "                        <td id=\"T_30f2b_row0_col0\" class=\"data row0 col0\" >354.00</td>\n",
       "                        <td id=\"T_30f2b_row0_col1\" class=\"data row0 col1\" >354.00</td>\n",
       "                        <td id=\"T_30f2b_row0_col2\" class=\"data row0 col2\" >354.00</td>\n",
       "                        <td id=\"T_30f2b_row0_col3\" class=\"data row0 col3\" >354.00</td>\n",
       "                        <td id=\"T_30f2b_row0_col4\" class=\"data row0 col4\" >354.00</td>\n",
       "                        <td id=\"T_30f2b_row0_col5\" class=\"data row0 col5\" >354.00</td>\n",
       "                        <td id=\"T_30f2b_row0_col6\" class=\"data row0 col6\" >354.00</td>\n",
       "                        <td id=\"T_30f2b_row0_col7\" class=\"data row0 col7\" >354.00</td>\n",
       "                        <td id=\"T_30f2b_row0_col8\" class=\"data row0 col8\" >354.00</td>\n",
       "                        <td id=\"T_30f2b_row0_col9\" class=\"data row0 col9\" >354.00</td>\n",
       "                        <td id=\"T_30f2b_row0_col10\" class=\"data row0 col10\" >354.00</td>\n",
       "                        <td id=\"T_30f2b_row0_col11\" class=\"data row0 col11\" >354.00</td>\n",
       "                        <td id=\"T_30f2b_row0_col12\" class=\"data row0 col12\" >354.00</td>\n",
       "            </tr>\n",
       "            <tr>\n",
       "                        <th id=\"T_30f2b_level0_row1\" class=\"row_heading level0 row1\" >mean</th>\n",
       "                        <td id=\"T_30f2b_row1_col0\" class=\"data row1 col0\" >0.00</td>\n",
       "                        <td id=\"T_30f2b_row1_col1\" class=\"data row1 col1\" >0.00</td>\n",
       "                        <td id=\"T_30f2b_row1_col2\" class=\"data row1 col2\" >0.00</td>\n",
       "                        <td id=\"T_30f2b_row1_col3\" class=\"data row1 col3\" >-0.00</td>\n",
       "                        <td id=\"T_30f2b_row1_col4\" class=\"data row1 col4\" >0.00</td>\n",
       "                        <td id=\"T_30f2b_row1_col5\" class=\"data row1 col5\" >-0.00</td>\n",
       "                        <td id=\"T_30f2b_row1_col6\" class=\"data row1 col6\" >0.00</td>\n",
       "                        <td id=\"T_30f2b_row1_col7\" class=\"data row1 col7\" >-0.00</td>\n",
       "                        <td id=\"T_30f2b_row1_col8\" class=\"data row1 col8\" >-0.00</td>\n",
       "                        <td id=\"T_30f2b_row1_col9\" class=\"data row1 col9\" >0.00</td>\n",
       "                        <td id=\"T_30f2b_row1_col10\" class=\"data row1 col10\" >0.00</td>\n",
       "                        <td id=\"T_30f2b_row1_col11\" class=\"data row1 col11\" >-0.00</td>\n",
       "                        <td id=\"T_30f2b_row1_col12\" class=\"data row1 col12\" >-0.00</td>\n",
       "            </tr>\n",
       "            <tr>\n",
       "                        <th id=\"T_30f2b_level0_row2\" class=\"row_heading level0 row2\" >std</th>\n",
       "                        <td id=\"T_30f2b_row2_col0\" class=\"data row2 col0\" >1.00</td>\n",
       "                        <td id=\"T_30f2b_row2_col1\" class=\"data row2 col1\" >1.00</td>\n",
       "                        <td id=\"T_30f2b_row2_col2\" class=\"data row2 col2\" >1.00</td>\n",
       "                        <td id=\"T_30f2b_row2_col3\" class=\"data row2 col3\" >1.00</td>\n",
       "                        <td id=\"T_30f2b_row2_col4\" class=\"data row2 col4\" >1.00</td>\n",
       "                        <td id=\"T_30f2b_row2_col5\" class=\"data row2 col5\" >1.00</td>\n",
       "                        <td id=\"T_30f2b_row2_col6\" class=\"data row2 col6\" >1.00</td>\n",
       "                        <td id=\"T_30f2b_row2_col7\" class=\"data row2 col7\" >1.00</td>\n",
       "                        <td id=\"T_30f2b_row2_col8\" class=\"data row2 col8\" >1.00</td>\n",
       "                        <td id=\"T_30f2b_row2_col9\" class=\"data row2 col9\" >1.00</td>\n",
       "                        <td id=\"T_30f2b_row2_col10\" class=\"data row2 col10\" >1.00</td>\n",
       "                        <td id=\"T_30f2b_row2_col11\" class=\"data row2 col11\" >1.00</td>\n",
       "                        <td id=\"T_30f2b_row2_col12\" class=\"data row2 col12\" >1.00</td>\n",
       "            </tr>\n",
       "            <tr>\n",
       "                        <th id=\"T_30f2b_level0_row3\" class=\"row_heading level0 row3\" >min</th>\n",
       "                        <td id=\"T_30f2b_row3_col0\" class=\"data row3 col0\" >-0.41</td>\n",
       "                        <td id=\"T_30f2b_row3_col1\" class=\"data row3 col1\" >-0.49</td>\n",
       "                        <td id=\"T_30f2b_row3_col2\" class=\"data row3 col2\" >-1.58</td>\n",
       "                        <td id=\"T_30f2b_row3_col3\" class=\"data row3 col3\" >-0.25</td>\n",
       "                        <td id=\"T_30f2b_row3_col4\" class=\"data row3 col4\" >-1.46</td>\n",
       "                        <td id=\"T_30f2b_row3_col5\" class=\"data row3 col5\" >-3.77</td>\n",
       "                        <td id=\"T_30f2b_row3_col6\" class=\"data row3 col6\" >-2.22</td>\n",
       "                        <td id=\"T_30f2b_row3_col7\" class=\"data row3 col7\" >-1.26</td>\n",
       "                        <td id=\"T_30f2b_row3_col8\" class=\"data row3 col8\" >-0.99</td>\n",
       "                        <td id=\"T_30f2b_row3_col9\" class=\"data row3 col9\" >-1.35</td>\n",
       "                        <td id=\"T_30f2b_row3_col10\" class=\"data row3 col10\" >-2.64</td>\n",
       "                        <td id=\"T_30f2b_row3_col11\" class=\"data row3 col11\" >-3.82</td>\n",
       "                        <td id=\"T_30f2b_row3_col12\" class=\"data row3 col12\" >-1.50</td>\n",
       "            </tr>\n",
       "            <tr>\n",
       "                        <th id=\"T_30f2b_level0_row4\" class=\"row_heading level0 row4\" >25%</th>\n",
       "                        <td id=\"T_30f2b_row4_col0\" class=\"data row4 col0\" >-0.40</td>\n",
       "                        <td id=\"T_30f2b_row4_col1\" class=\"data row4 col1\" >-0.49</td>\n",
       "                        <td id=\"T_30f2b_row4_col2\" class=\"data row4 col2\" >-0.88</td>\n",
       "                        <td id=\"T_30f2b_row4_col3\" class=\"data row4 col3\" >-0.25</td>\n",
       "                        <td id=\"T_30f2b_row4_col4\" class=\"data row4 col4\" >-0.91</td>\n",
       "                        <td id=\"T_30f2b_row4_col5\" class=\"data row4 col5\" >-0.57</td>\n",
       "                        <td id=\"T_30f2b_row4_col6\" class=\"data row4 col6\" >-0.88</td>\n",
       "                        <td id=\"T_30f2b_row4_col7\" class=\"data row4 col7\" >-0.82</td>\n",
       "                        <td id=\"T_30f2b_row4_col8\" class=\"data row4 col8\" >-0.65</td>\n",
       "                        <td id=\"T_30f2b_row4_col9\" class=\"data row4 col9\" >-0.77</td>\n",
       "                        <td id=\"T_30f2b_row4_col10\" class=\"data row4 col10\" >-0.48</td>\n",
       "                        <td id=\"T_30f2b_row4_col11\" class=\"data row4 col11\" >0.21</td>\n",
       "                        <td id=\"T_30f2b_row4_col12\" class=\"data row4 col12\" >-0.79</td>\n",
       "            </tr>\n",
       "            <tr>\n",
       "                        <th id=\"T_30f2b_level0_row5\" class=\"row_heading level0 row5\" >50%</th>\n",
       "                        <td id=\"T_30f2b_row5_col0\" class=\"data row5 col0\" >-0.38</td>\n",
       "                        <td id=\"T_30f2b_row5_col1\" class=\"data row5 col1\" >-0.49</td>\n",
       "                        <td id=\"T_30f2b_row5_col2\" class=\"data row5 col2\" >-0.22</td>\n",
       "                        <td id=\"T_30f2b_row5_col3\" class=\"data row5 col3\" >-0.25</td>\n",
       "                        <td id=\"T_30f2b_row5_col4\" class=\"data row5 col4\" >-0.16</td>\n",
       "                        <td id=\"T_30f2b_row5_col5\" class=\"data row5 col5\" >-0.12</td>\n",
       "                        <td id=\"T_30f2b_row5_col6\" class=\"data row5 col6\" >0.32</td>\n",
       "                        <td id=\"T_30f2b_row5_col7\" class=\"data row5 col7\" >-0.23</td>\n",
       "                        <td id=\"T_30f2b_row5_col8\" class=\"data row5 col8\" >-0.54</td>\n",
       "                        <td id=\"T_30f2b_row5_col9\" class=\"data row5 col9\" >-0.43</td>\n",
       "                        <td id=\"T_30f2b_row5_col10\" class=\"data row5 col10\" >0.29</td>\n",
       "                        <td id=\"T_30f2b_row5_col11\" class=\"data row5 col11\" >0.38</td>\n",
       "                        <td id=\"T_30f2b_row5_col12\" class=\"data row5 col12\" >-0.19</td>\n",
       "            </tr>\n",
       "            <tr>\n",
       "                        <th id=\"T_30f2b_level0_row6\" class=\"row_heading level0 row6\" >75%</th>\n",
       "                        <td id=\"T_30f2b_row6_col0\" class=\"data row6 col0\" >-0.00</td>\n",
       "                        <td id=\"T_30f2b_row6_col1\" class=\"data row6 col1\" >0.03</td>\n",
       "                        <td id=\"T_30f2b_row6_col2\" class=\"data row6 col2\" >1.02</td>\n",
       "                        <td id=\"T_30f2b_row6_col3\" class=\"data row6 col3\" >-0.25</td>\n",
       "                        <td id=\"T_30f2b_row6_col4\" class=\"data row6 col4\" >0.63</td>\n",
       "                        <td id=\"T_30f2b_row6_col5\" class=\"data row6 col5\" >0.45</td>\n",
       "                        <td id=\"T_30f2b_row6_col6\" class=\"data row6 col6\" >0.90</td>\n",
       "                        <td id=\"T_30f2b_row6_col7\" class=\"data row6 col7\" >0.65</td>\n",
       "                        <td id=\"T_30f2b_row6_col8\" class=\"data row6 col8\" >1.63</td>\n",
       "                        <td id=\"T_30f2b_row6_col9\" class=\"data row6 col9\" >1.50</td>\n",
       "                        <td id=\"T_30f2b_row6_col10\" class=\"data row6 col10\" >0.79</td>\n",
       "                        <td id=\"T_30f2b_row6_col11\" class=\"data row6 col11\" >0.43</td>\n",
       "                        <td id=\"T_30f2b_row6_col12\" class=\"data row6 col12\" >0.56</td>\n",
       "            </tr>\n",
       "            <tr>\n",
       "                        <th id=\"T_30f2b_level0_row7\" class=\"row_heading level0 row7\" >max</th>\n",
       "                        <td id=\"T_30f2b_row7_col0\" class=\"data row7 col0\" >9.39</td>\n",
       "                        <td id=\"T_30f2b_row7_col1\" class=\"data row7 col1\" >3.67</td>\n",
       "                        <td id=\"T_30f2b_row7_col2\" class=\"data row7 col2\" >2.44</td>\n",
       "                        <td id=\"T_30f2b_row7_col3\" class=\"data row7 col3\" >3.98</td>\n",
       "                        <td id=\"T_30f2b_row7_col4\" class=\"data row7 col4\" >2.67</td>\n",
       "                        <td id=\"T_30f2b_row7_col5\" class=\"data row7 col5\" >3.42</td>\n",
       "                        <td id=\"T_30f2b_row7_col6\" class=\"data row7 col6\" >1.13</td>\n",
       "                        <td id=\"T_30f2b_row7_col7\" class=\"data row7 col7\" >3.90</td>\n",
       "                        <td id=\"T_30f2b_row7_col8\" class=\"data row7 col8\" >1.63</td>\n",
       "                        <td id=\"T_30f2b_row7_col9\" class=\"data row7 col9\" >1.77</td>\n",
       "                        <td id=\"T_30f2b_row7_col10\" class=\"data row7 col10\" >1.60</td>\n",
       "                        <td id=\"T_30f2b_row7_col11\" class=\"data row7 col11\" >0.44</td>\n",
       "                        <td id=\"T_30f2b_row7_col12\" class=\"data row7 col12\" >3.47</td>\n",
       "            </tr>\n",
       "    </tbody></table>"
      ],
      "text/plain": [
       "<pandas.io.formats.style.Styler at 0x7f06d14fcb90>"
      ]
     },
     "metadata": {},
     "output_type": "display_data"
    }
   ],
   "source": [
    "display(x_train.describe().style.format(\"{0:.2f}\").set_caption(\"Before normalization :\"))\n",
    "\n",
    "mean = x_train.mean()\n",
    "std  = x_train.std()\n",
    "x_train = (x_train - mean) / std\n",
    "x_test  = (x_test  - mean) / std\n",
    "\n",
    "display(x_train.describe().style.format(\"{0:.2f}\").set_caption(\"After normalization :\"))\n",
    "\n",
    "x_train, y_train = np.array(x_train), np.array(y_train)\n",
    "x_test,  y_test  = np.array(x_test),  np.array(y_test)\n"
   ]
  },
  {
   "cell_type": "markdown",
   "metadata": {},
   "source": [
    "## Step 4 - Build a model\n",
    "More informations about : \n",
    " - [Optimizer](https://www.tensorflow.org/api_docs/python/tf/keras/optimizers)\n",
    " - [Activation](https://www.tensorflow.org/api_docs/python/tf/keras/activations)\n",
    " - [Loss](https://www.tensorflow.org/api_docs/python/tf/keras/losses)\n",
    " - [Metrics](https://www.tensorflow.org/api_docs/python/tf/keras/metrics)"
   ]
  },
  {
   "cell_type": "code",
   "execution_count": 6,
   "metadata": {},
   "outputs": [],
   "source": [
    "  def get_model_v1(shape):\n",
    "    \n",
    "    model = keras.models.Sequential()\n",
    "    model.add(keras.layers.Input(shape, name=\"InputLayer\"))\n",
    "    model.add(keras.layers.Dense(64, activation='relu', name='Dense_n1'))\n",
    "    model.add(keras.layers.Dense(64, activation='relu', name='Dense_n2'))\n",
    "    model.add(keras.layers.Dense(1, name='Output'))\n",
    "    \n",
    "    model.compile(optimizer = 'rmsprop',\n",
    "                  loss      = 'mse',\n",
    "                  metrics   = ['mae', 'mse'] )\n",
    "    return model"
   ]
  },
  {
   "cell_type": "markdown",
   "metadata": {},
   "source": [
    "## 5 - Train the model\n",
    "### 5.1 - Get it"
   ]
  },
  {
   "cell_type": "code",
   "execution_count": 7,
   "metadata": {},
   "outputs": [
    {
     "name": "stdout",
     "output_type": "stream",
     "text": [
      "Model: \"sequential\"\n",
      "_________________________________________________________________\n",
      "Layer (type)                 Output Shape              Param #   \n",
      "=================================================================\n",
      "Dense_n1 (Dense)             (None, 64)                896       \n",
      "_________________________________________________________________\n",
      "Dense_n2 (Dense)             (None, 64)                4160      \n",
      "_________________________________________________________________\n",
      "Output (Dense)               (None, 1)                 65        \n",
      "=================================================================\n",
      "Total params: 5,121\n",
      "Trainable params: 5,121\n",
      "Non-trainable params: 0\n",
      "_________________________________________________________________\n"
     ]
    }
   ],
   "source": [
    "model=get_model_v1( (13,) )\n",
    "\n",
    "model.summary()\n",
    "# img=keras.utils.plot_model( model, to_file='./run/model.png', show_shapes=True, show_layer_names=True, dpi=96)\n",
    "# display(img)"
   ]
  },
  {
   "cell_type": "markdown",
   "metadata": {},
   "source": [
    "### 5.2 - Add callback"
   ]
  },
  {
   "cell_type": "code",
   "execution_count": 8,
   "metadata": {},
   "outputs": [],
   "source": [
    "os.makedirs('./run/models',   mode=0o750, exist_ok=True)\n",
    "save_dir = \"./run/models/best_model.h5\"\n",
    "\n",
    "savemodel_callback = tf.keras.callbacks.ModelCheckpoint(filepath=save_dir, verbose=0, save_best_only=True)"
   ]
  },
  {
   "cell_type": "markdown",
   "metadata": {},
   "source": [
    "### 5.3 - Train it"
   ]
  },
  {
   "cell_type": "code",
   "execution_count": 9,
   "metadata": {},
   "outputs": [
    {
     "name": "stdout",
     "output_type": "stream",
     "text": [
      "Epoch 1/100\n",
      "36/36 [==============================] - 0s 7ms/step - loss: 475.3738 - mae: 19.9912 - mse: 475.3738 - val_loss: 355.5190 - val_mae: 17.1932 - val_mse: 355.5190\n",
      "Epoch 2/100\n",
      "36/36 [==============================] - 0s 3ms/step - loss: 226.4147 - mae: 13.0131 - mse: 226.4147 - val_loss: 129.1039 - val_mae: 9.0031 - val_mse: 129.1039\n",
      "Epoch 3/100\n",
      "36/36 [==============================] - 0s 3ms/step - loss: 75.2953 - mae: 6.7032 - mse: 75.2953 - val_loss: 54.9836 - val_mae: 5.2806 - val_mse: 54.9836\n",
      "Epoch 4/100\n",
      "36/36 [==============================] - 0s 3ms/step - loss: 37.4691 - mae: 4.6232 - mse: 37.4691 - val_loss: 38.6827 - val_mae: 4.1977 - val_mse: 38.6827\n",
      "Epoch 5/100\n",
      "36/36 [==============================] - 0s 3ms/step - loss: 26.8464 - mae: 3.8138 - mse: 26.8464 - val_loss: 33.8882 - val_mae: 3.7787 - val_mse: 33.8882\n",
      "Epoch 6/100\n",
      "36/36 [==============================] - 0s 3ms/step - loss: 21.8734 - mae: 3.4106 - mse: 21.8734 - val_loss: 29.8489 - val_mae: 3.6882 - val_mse: 29.8489\n",
      "Epoch 7/100\n",
      "36/36 [==============================] - 0s 2ms/step - loss: 19.1155 - mae: 3.1659 - mse: 19.1155 - val_loss: 27.4722 - val_mae: 3.4667 - val_mse: 27.4722\n",
      "Epoch 8/100\n",
      "36/36 [==============================] - 0s 3ms/step - loss: 17.0937 - mae: 2.9284 - mse: 17.0937 - val_loss: 26.4015 - val_mae: 3.3250 - val_mse: 26.4015\n",
      "Epoch 9/100\n",
      "36/36 [==============================] - 0s 3ms/step - loss: 15.7820 - mae: 2.7847 - mse: 15.7820 - val_loss: 25.4634 - val_mae: 3.1832 - val_mse: 25.4634\n",
      "Epoch 10/100\n",
      "36/36 [==============================] - 0s 3ms/step - loss: 14.7705 - mae: 2.6322 - mse: 14.7705 - val_loss: 24.3008 - val_mae: 3.1048 - val_mse: 24.3008\n",
      "Epoch 11/100\n",
      "36/36 [==============================] - 0s 3ms/step - loss: 14.0468 - mae: 2.5779 - mse: 14.0468 - val_loss: 23.5067 - val_mae: 3.1615 - val_mse: 23.5067\n",
      "Epoch 12/100\n",
      "36/36 [==============================] - 0s 3ms/step - loss: 13.2634 - mae: 2.4898 - mse: 13.2634 - val_loss: 22.6733 - val_mae: 3.0316 - val_mse: 22.6733\n",
      "Epoch 13/100\n",
      "36/36 [==============================] - 0s 3ms/step - loss: 12.8004 - mae: 2.4238 - mse: 12.8004 - val_loss: 22.1356 - val_mae: 2.9750 - val_mse: 22.1356\n",
      "Epoch 14/100\n",
      "36/36 [==============================] - 0s 2ms/step - loss: 12.2295 - mae: 2.3461 - mse: 12.2295 - val_loss: 21.9092 - val_mae: 3.1515 - val_mse: 21.9092\n",
      "Epoch 15/100\n",
      "36/36 [==============================] - 0s 2ms/step - loss: 12.0662 - mae: 2.3527 - mse: 12.0662 - val_loss: 20.9063 - val_mae: 2.9685 - val_mse: 20.9063\n",
      "Epoch 16/100\n",
      "36/36 [==============================] - 0s 2ms/step - loss: 11.6152 - mae: 2.2743 - mse: 11.6152 - val_loss: 20.2121 - val_mae: 2.8589 - val_mse: 20.2121\n",
      "Epoch 17/100\n",
      "36/36 [==============================] - 0s 3ms/step - loss: 11.1531 - mae: 2.2281 - mse: 11.1531 - val_loss: 19.7149 - val_mae: 2.8922 - val_mse: 19.7149\n",
      "Epoch 18/100\n",
      "36/36 [==============================] - 0s 3ms/step - loss: 10.8126 - mae: 2.2231 - mse: 10.8126 - val_loss: 19.5988 - val_mae: 2.8813 - val_mse: 19.5988\n",
      "Epoch 19/100\n",
      "36/36 [==============================] - 0s 2ms/step - loss: 10.9167 - mae: 2.2329 - mse: 10.9167 - val_loss: 19.9177 - val_mae: 2.8580 - val_mse: 19.9177\n",
      "Epoch 20/100\n",
      "36/36 [==============================] - 0s 3ms/step - loss: 10.6797 - mae: 2.1405 - mse: 10.6797 - val_loss: 19.1656 - val_mae: 2.8241 - val_mse: 19.1656\n",
      "Epoch 21/100\n",
      "36/36 [==============================] - 0s 2ms/step - loss: 10.3777 - mae: 2.1111 - mse: 10.3777 - val_loss: 19.2481 - val_mae: 2.9912 - val_mse: 19.2481\n",
      "Epoch 22/100\n",
      "36/36 [==============================] - 0s 3ms/step - loss: 10.2719 - mae: 2.1766 - mse: 10.2719 - val_loss: 18.8485 - val_mae: 2.7967 - val_mse: 18.8485\n",
      "Epoch 23/100\n",
      "36/36 [==============================] - 0s 2ms/step - loss: 10.1286 - mae: 2.1058 - mse: 10.1286 - val_loss: 18.0448 - val_mae: 2.9200 - val_mse: 18.0448\n",
      "Epoch 24/100\n",
      "36/36 [==============================] - 0s 2ms/step - loss: 10.2453 - mae: 2.1320 - mse: 10.2453 - val_loss: 18.4625 - val_mae: 2.7887 - val_mse: 18.4625\n",
      "Epoch 25/100\n",
      "36/36 [==============================] - 0s 2ms/step - loss: 9.9561 - mae: 2.1024 - mse: 9.9561 - val_loss: 17.8922 - val_mae: 2.7371 - val_mse: 17.8922\n",
      "Epoch 26/100\n",
      "36/36 [==============================] - 0s 2ms/step - loss: 9.8956 - mae: 2.0484 - mse: 9.8956 - val_loss: 18.6694 - val_mae: 2.8163 - val_mse: 18.6694\n",
      "Epoch 27/100\n",
      "36/36 [==============================] - 0s 2ms/step - loss: 9.7229 - mae: 2.0378 - mse: 9.7229 - val_loss: 17.7471 - val_mae: 2.7123 - val_mse: 17.7471\n",
      "Epoch 28/100\n",
      "36/36 [==============================] - 0s 3ms/step - loss: 9.8073 - mae: 2.0552 - mse: 9.8073 - val_loss: 17.5750 - val_mae: 2.7652 - val_mse: 17.5750\n",
      "Epoch 29/100\n",
      "36/36 [==============================] - 0s 2ms/step - loss: 9.2723 - mae: 2.0088 - mse: 9.2723 - val_loss: 17.8873 - val_mae: 2.8168 - val_mse: 17.8873\n",
      "Epoch 30/100\n",
      "36/36 [==============================] - 0s 4ms/step - loss: 9.4324 - mae: 1.9978 - mse: 9.4324 - val_loss: 17.4225 - val_mae: 2.7191 - val_mse: 17.4225\n",
      "Epoch 31/100\n",
      "36/36 [==============================] - 0s 3ms/step - loss: 9.4192 - mae: 2.0191 - mse: 9.4192 - val_loss: 16.5583 - val_mae: 2.7164 - val_mse: 16.5583\n",
      "Epoch 32/100\n",
      "36/36 [==============================] - 0s 3ms/step - loss: 9.0246 - mae: 2.0058 - mse: 9.0246 - val_loss: 16.5136 - val_mae: 2.7170 - val_mse: 16.5136\n",
      "Epoch 33/100\n",
      "36/36 [==============================] - 0s 2ms/step - loss: 9.2024 - mae: 2.0063 - mse: 9.2024 - val_loss: 16.3303 - val_mae: 2.8191 - val_mse: 16.3303\n",
      "Epoch 34/100\n",
      "36/36 [==============================] - 0s 2ms/step - loss: 9.1927 - mae: 2.0216 - mse: 9.1927 - val_loss: 16.3692 - val_mae: 2.6946 - val_mse: 16.3692\n",
      "Epoch 35/100\n",
      "36/36 [==============================] - 0s 2ms/step - loss: 8.9978 - mae: 1.9756 - mse: 8.9978 - val_loss: 16.4107 - val_mae: 2.7557 - val_mse: 16.4107\n",
      "Epoch 36/100\n",
      "36/36 [==============================] - 0s 2ms/step - loss: 8.7153 - mae: 1.9554 - mse: 8.7153 - val_loss: 16.7948 - val_mae: 2.7352 - val_mse: 16.7948\n",
      "Epoch 37/100\n",
      "36/36 [==============================] - 0s 2ms/step - loss: 9.0232 - mae: 1.9594 - mse: 9.0232 - val_loss: 16.4719 - val_mae: 2.6820 - val_mse: 16.4719\n",
      "Epoch 38/100\n",
      "36/36 [==============================] - 0s 2ms/step - loss: 8.5107 - mae: 1.9278 - mse: 8.5107 - val_loss: 15.8009 - val_mae: 2.6720 - val_mse: 15.8009\n",
      "Epoch 39/100\n",
      "36/36 [==============================] - 0s 2ms/step - loss: 8.8051 - mae: 1.9010 - mse: 8.8051 - val_loss: 16.0620 - val_mae: 2.6799 - val_mse: 16.0620\n",
      "Epoch 40/100\n",
      "36/36 [==============================] - 0s 2ms/step - loss: 8.2687 - mae: 1.9202 - mse: 8.2687 - val_loss: 19.2407 - val_mae: 2.9441 - val_mse: 19.2407\n",
      "Epoch 41/100\n",
      "36/36 [==============================] - 0s 2ms/step - loss: 8.6178 - mae: 1.9433 - mse: 8.6178 - val_loss: 16.4289 - val_mae: 2.6687 - val_mse: 16.4289\n",
      "Epoch 42/100\n",
      "36/36 [==============================] - 0s 2ms/step - loss: 8.2694 - mae: 1.9159 - mse: 8.2694 - val_loss: 15.6580 - val_mae: 2.7538 - val_mse: 15.6580\n",
      "Epoch 43/100\n",
      "36/36 [==============================] - 0s 3ms/step - loss: 8.3998 - mae: 1.8863 - mse: 8.3998 - val_loss: 15.3973 - val_mae: 2.7006 - val_mse: 15.3973\n",
      "Epoch 44/100\n",
      "36/36 [==============================] - 0s 2ms/step - loss: 8.4504 - mae: 1.8948 - mse: 8.4504 - val_loss: 15.3550 - val_mae: 2.6351 - val_mse: 15.3550\n",
      "Epoch 45/100\n",
      "36/36 [==============================] - 0s 2ms/step - loss: 8.1592 - mae: 1.8847 - mse: 8.1592 - val_loss: 16.1119 - val_mae: 2.6115 - val_mse: 16.1119\n",
      "Epoch 46/100\n",
      "36/36 [==============================] - 0s 2ms/step - loss: 8.0892 - mae: 1.8970 - mse: 8.0892 - val_loss: 15.5314 - val_mae: 2.6214 - val_mse: 15.5314\n",
      "Epoch 47/100\n",
      "36/36 [==============================] - 0s 2ms/step - loss: 8.0762 - mae: 1.8906 - mse: 8.0762 - val_loss: 15.6544 - val_mae: 2.6558 - val_mse: 15.6544\n",
      "Epoch 48/100\n",
      "36/36 [==============================] - 0s 2ms/step - loss: 7.9513 - mae: 1.8809 - mse: 7.9513 - val_loss: 16.9534 - val_mae: 2.6809 - val_mse: 16.9534\n",
      "Epoch 49/100\n",
      "36/36 [==============================] - 0s 2ms/step - loss: 7.8678 - mae: 1.8491 - mse: 7.8678 - val_loss: 16.0355 - val_mae: 2.6036 - val_mse: 16.0355\n",
      "Epoch 50/100\n",
      "36/36 [==============================] - 0s 2ms/step - loss: 7.9786 - mae: 1.8659 - mse: 7.9786 - val_loss: 15.8552 - val_mae: 2.6041 - val_mse: 15.8552\n",
      "Epoch 51/100\n",
      "36/36 [==============================] - 0s 2ms/step - loss: 7.5612 - mae: 1.8174 - mse: 7.5612 - val_loss: 15.5496 - val_mae: 2.6545 - val_mse: 15.5496\n",
      "Epoch 52/100\n",
      "36/36 [==============================] - 0s 2ms/step - loss: 7.4924 - mae: 1.8578 - mse: 7.4924 - val_loss: 16.1388 - val_mae: 2.6079 - val_mse: 16.1388\n",
      "Epoch 53/100\n",
      "36/36 [==============================] - 0s 2ms/step - loss: 7.7586 - mae: 1.8298 - mse: 7.7586 - val_loss: 17.2166 - val_mae: 2.6738 - val_mse: 17.2166\n",
      "Epoch 54/100\n",
      "36/36 [==============================] - 0s 2ms/step - loss: 7.7121 - mae: 1.8394 - mse: 7.7121 - val_loss: 16.0234 - val_mae: 2.5735 - val_mse: 16.0234\n",
      "Epoch 55/100\n",
      "36/36 [==============================] - 0s 2ms/step - loss: 7.5455 - mae: 1.8023 - mse: 7.5455 - val_loss: 15.8189 - val_mae: 2.7010 - val_mse: 15.8189\n",
      "Epoch 56/100\n",
      "36/36 [==============================] - 0s 2ms/step - loss: 7.5965 - mae: 1.8203 - mse: 7.5965 - val_loss: 15.8920 - val_mae: 2.6231 - val_mse: 15.8920\n",
      "Epoch 57/100\n",
      "36/36 [==============================] - 0s 2ms/step - loss: 7.4273 - mae: 1.7775 - mse: 7.4273 - val_loss: 16.4608 - val_mae: 2.8454 - val_mse: 16.4608\n",
      "Epoch 58/100\n",
      "36/36 [==============================] - 0s 2ms/step - loss: 7.4376 - mae: 1.8135 - mse: 7.4376 - val_loss: 15.9365 - val_mae: 2.7168 - val_mse: 15.9365\n",
      "Epoch 59/100\n",
      "36/36 [==============================] - 0s 2ms/step - loss: 7.4878 - mae: 1.7901 - mse: 7.4878 - val_loss: 14.4604 - val_mae: 2.6034 - val_mse: 14.4604\n",
      "Epoch 60/100\n",
      "36/36 [==============================] - 0s 2ms/step - loss: 7.1747 - mae: 1.7831 - mse: 7.1747 - val_loss: 15.3341 - val_mae: 2.5616 - val_mse: 15.3341\n",
      "Epoch 61/100\n",
      "36/36 [==============================] - 0s 2ms/step - loss: 7.0954 - mae: 1.7754 - mse: 7.0954 - val_loss: 14.5495 - val_mae: 2.7065 - val_mse: 14.5495\n",
      "Epoch 62/100\n",
      "36/36 [==============================] - 0s 2ms/step - loss: 7.0930 - mae: 1.7892 - mse: 7.0930 - val_loss: 14.7401 - val_mae: 2.6647 - val_mse: 14.7401\n",
      "Epoch 63/100\n",
      "36/36 [==============================] - 0s 2ms/step - loss: 7.3064 - mae: 1.7758 - mse: 7.3064 - val_loss: 15.2798 - val_mae: 2.6231 - val_mse: 15.2798\n",
      "Epoch 64/100\n",
      "36/36 [==============================] - 0s 2ms/step - loss: 7.1116 - mae: 1.7659 - mse: 7.1116 - val_loss: 14.2042 - val_mae: 2.5114 - val_mse: 14.2042\n",
      "Epoch 65/100\n",
      "36/36 [==============================] - 0s 2ms/step - loss: 7.0160 - mae: 1.7421 - mse: 7.0160 - val_loss: 15.3414 - val_mae: 2.5520 - val_mse: 15.3414\n",
      "Epoch 66/100\n",
      "36/36 [==============================] - 0s 2ms/step - loss: 6.9254 - mae: 1.7089 - mse: 6.9254 - val_loss: 15.8074 - val_mae: 2.6835 - val_mse: 15.8074\n",
      "Epoch 67/100\n",
      "36/36 [==============================] - 0s 2ms/step - loss: 7.0619 - mae: 1.7703 - mse: 7.0619 - val_loss: 14.7753 - val_mae: 2.5483 - val_mse: 14.7753\n",
      "Epoch 68/100\n",
      "36/36 [==============================] - 0s 2ms/step - loss: 6.7564 - mae: 1.7313 - mse: 6.7564 - val_loss: 14.5842 - val_mae: 2.6013 - val_mse: 14.5842\n",
      "Epoch 69/100\n",
      "36/36 [==============================] - 0s 2ms/step - loss: 6.7918 - mae: 1.7587 - mse: 6.7918 - val_loss: 14.8742 - val_mae: 2.5747 - val_mse: 14.8742\n",
      "Epoch 70/100\n",
      "36/36 [==============================] - 0s 2ms/step - loss: 6.7486 - mae: 1.7229 - mse: 6.7486 - val_loss: 14.0923 - val_mae: 2.6278 - val_mse: 14.0923\n",
      "Epoch 71/100\n",
      "36/36 [==============================] - 0s 2ms/step - loss: 6.8134 - mae: 1.7418 - mse: 6.8134 - val_loss: 15.0033 - val_mae: 2.5960 - val_mse: 15.0033\n",
      "Epoch 72/100\n",
      "36/36 [==============================] - 0s 2ms/step - loss: 6.7563 - mae: 1.7649 - mse: 6.7563 - val_loss: 14.5488 - val_mae: 2.5460 - val_mse: 14.5488\n",
      "Epoch 73/100\n",
      "36/36 [==============================] - 0s 3ms/step - loss: 6.6271 - mae: 1.7036 - mse: 6.6271 - val_loss: 13.5843 - val_mae: 2.5701 - val_mse: 13.5843\n",
      "Epoch 74/100\n",
      "36/36 [==============================] - 0s 3ms/step - loss: 6.6084 - mae: 1.7073 - mse: 6.6084 - val_loss: 13.7134 - val_mae: 2.5716 - val_mse: 13.7134\n",
      "Epoch 75/100\n",
      "36/36 [==============================] - 0s 2ms/step - loss: 6.4696 - mae: 1.7316 - mse: 6.4696 - val_loss: 14.4993 - val_mae: 2.5646 - val_mse: 14.4993\n",
      "Epoch 76/100\n",
      "36/36 [==============================] - 0s 2ms/step - loss: 6.3220 - mae: 1.6540 - mse: 6.3220 - val_loss: 14.6173 - val_mae: 2.4900 - val_mse: 14.6173\n",
      "Epoch 77/100\n",
      "36/36 [==============================] - 0s 2ms/step - loss: 6.3876 - mae: 1.6780 - mse: 6.3876 - val_loss: 14.2370 - val_mae: 2.5747 - val_mse: 14.2370\n",
      "Epoch 78/100\n",
      "36/36 [==============================] - 0s 2ms/step - loss: 6.3408 - mae: 1.6560 - mse: 6.3408 - val_loss: 13.6508 - val_mae: 2.6113 - val_mse: 13.6508\n",
      "Epoch 79/100\n",
      "36/36 [==============================] - 0s 2ms/step - loss: 5.9661 - mae: 1.6637 - mse: 5.9661 - val_loss: 16.3465 - val_mae: 2.6276 - val_mse: 16.3465\n",
      "Epoch 80/100\n",
      "36/36 [==============================] - 0s 3ms/step - loss: 6.2598 - mae: 1.6500 - mse: 6.2598 - val_loss: 13.5719 - val_mae: 2.5735 - val_mse: 13.5719\n",
      "Epoch 81/100\n",
      "36/36 [==============================] - 0s 2ms/step - loss: 6.1077 - mae: 1.6426 - mse: 6.1077 - val_loss: 13.8778 - val_mae: 2.5090 - val_mse: 13.8778\n",
      "Epoch 82/100\n",
      "36/36 [==============================] - 0s 2ms/step - loss: 6.1184 - mae: 1.6258 - mse: 6.1184 - val_loss: 14.0033 - val_mae: 2.5179 - val_mse: 14.0033\n",
      "Epoch 83/100\n",
      "36/36 [==============================] - 0s 2ms/step - loss: 5.8503 - mae: 1.6440 - mse: 5.8503 - val_loss: 13.9289 - val_mae: 2.5396 - val_mse: 13.9289\n",
      "Epoch 84/100\n",
      "36/36 [==============================] - 0s 3ms/step - loss: 6.1745 - mae: 1.6489 - mse: 6.1745 - val_loss: 13.1696 - val_mae: 2.4742 - val_mse: 13.1696\n",
      "Epoch 85/100\n",
      "36/36 [==============================] - 0s 2ms/step - loss: 6.0069 - mae: 1.6452 - mse: 6.0069 - val_loss: 12.9157 - val_mae: 2.5818 - val_mse: 12.9157\n",
      "Epoch 86/100\n",
      "36/36 [==============================] - 0s 3ms/step - loss: 5.7613 - mae: 1.6045 - mse: 5.7613 - val_loss: 13.3368 - val_mae: 2.5157 - val_mse: 13.3368\n",
      "Epoch 87/100\n",
      "36/36 [==============================] - 0s 2ms/step - loss: 5.9914 - mae: 1.6307 - mse: 5.9914 - val_loss: 13.1113 - val_mae: 2.5445 - val_mse: 13.1113\n",
      "Epoch 88/100\n",
      "36/36 [==============================] - 0s 2ms/step - loss: 5.6568 - mae: 1.6085 - mse: 5.6568 - val_loss: 13.8029 - val_mae: 2.5412 - val_mse: 13.8029\n",
      "Epoch 89/100\n",
      "36/36 [==============================] - 0s 2ms/step - loss: 5.8280 - mae: 1.5581 - mse: 5.8280 - val_loss: 13.3723 - val_mae: 2.5053 - val_mse: 13.3723\n",
      "Epoch 90/100\n",
      "36/36 [==============================] - 0s 2ms/step - loss: 5.7126 - mae: 1.5804 - mse: 5.7126 - val_loss: 12.9745 - val_mae: 2.5436 - val_mse: 12.9745\n",
      "Epoch 91/100\n",
      "36/36 [==============================] - 0s 3ms/step - loss: 5.6580 - mae: 1.5735 - mse: 5.6580 - val_loss: 12.8074 - val_mae: 2.5277 - val_mse: 12.8074\n",
      "Epoch 92/100\n",
      "36/36 [==============================] - 0s 3ms/step - loss: 5.7264 - mae: 1.5897 - mse: 5.7264 - val_loss: 14.1068 - val_mae: 2.4713 - val_mse: 14.1068\n",
      "Epoch 93/100\n",
      "36/36 [==============================] - 0s 3ms/step - loss: 5.6612 - mae: 1.5688 - mse: 5.6612 - val_loss: 13.0306 - val_mae: 2.5313 - val_mse: 13.0306\n",
      "Epoch 94/100\n",
      "36/36 [==============================] - 0s 2ms/step - loss: 5.5369 - mae: 1.5979 - mse: 5.5369 - val_loss: 13.2463 - val_mae: 2.5441 - val_mse: 13.2463\n",
      "Epoch 95/100\n",
      "36/36 [==============================] - 0s 2ms/step - loss: 5.3318 - mae: 1.5423 - mse: 5.3318 - val_loss: 14.2846 - val_mae: 2.4916 - val_mse: 14.2846\n",
      "Epoch 96/100\n",
      "36/36 [==============================] - 0s 2ms/step - loss: 5.5833 - mae: 1.5621 - mse: 5.5833 - val_loss: 12.9900 - val_mae: 2.5152 - val_mse: 12.9900\n",
      "Epoch 97/100\n",
      "36/36 [==============================] - 0s 3ms/step - loss: 5.3842 - mae: 1.5510 - mse: 5.3842 - val_loss: 12.7831 - val_mae: 2.4384 - val_mse: 12.7831\n",
      "Epoch 98/100\n",
      "36/36 [==============================] - 0s 2ms/step - loss: 5.3732 - mae: 1.5228 - mse: 5.3732 - val_loss: 13.5497 - val_mae: 2.4686 - val_mse: 13.5497\n",
      "Epoch 99/100\n",
      "36/36 [==============================] - 0s 2ms/step - loss: 5.2501 - mae: 1.5620 - mse: 5.2501 - val_loss: 13.1683 - val_mae: 2.5256 - val_mse: 13.1683\n",
      "Epoch 100/100\n",
      "36/36 [==============================] - 0s 3ms/step - loss: 5.4235 - mae: 1.5454 - mse: 5.4235 - val_loss: 12.4521 - val_mae: 2.5606 - val_mse: 12.4521\n"
     ]
    }
   ],
   "source": [
    "history = model.fit(x_train,\n",
    "                    y_train,\n",
    "                    epochs          = 100,\n",
    "                    batch_size      = 10,\n",
    "                    verbose         = 1,\n",
    "                    validation_data = (x_test, y_test),\n",
    "                    callbacks       = [savemodel_callback])"
   ]
  },
  {
   "cell_type": "markdown",
   "metadata": {},
   "source": [
    "## Step 6 - Evaluate\n",
    "### 6.1 - Model evaluation\n",
    "MAE =  Mean Absolute Error (between the labels and predictions)  \n",
    "A mae equal to 3 represents an average error in prediction of $3k."
   ]
  },
  {
   "cell_type": "code",
   "execution_count": 10,
   "metadata": {},
   "outputs": [
    {
     "name": "stdout",
     "output_type": "stream",
     "text": [
      "x_test / loss      : 12.4521\n",
      "x_test / mae       : 2.5606\n",
      "x_test / mse       : 12.4521\n"
     ]
    }
   ],
   "source": [
    "score = model.evaluate(x_test, y_test, verbose=0)\n",
    "\n",
    "print('x_test / loss      : {:5.4f}'.format(score[0]))\n",
    "print('x_test / mae       : {:5.4f}'.format(score[1]))\n",
    "print('x_test / mse       : {:5.4f}'.format(score[2]))"
   ]
  },
  {
   "cell_type": "markdown",
   "metadata": {},
   "source": [
    "### 6.2 - Training history\n",
    "What was the best result during our training ?"
   ]
  },
  {
   "cell_type": "code",
   "execution_count": 11,
   "metadata": {},
   "outputs": [
    {
     "name": "stdout",
     "output_type": "stream",
     "text": [
      "min( val_mae ) : 2.4384\n"
     ]
    }
   ],
   "source": [
    "print(\"min( val_mae ) : {:.4f}\".format( min(history.history[\"val_mae\"]) ) )"
   ]
  },
  {
   "cell_type": "code",
   "execution_count": 12,
   "metadata": {},
   "outputs": [
    {
     "data": {
      "text/html": [
       "<div class=\"comment\">Saved: ./run/figs/BHPD2-01-history_0</div>"
      ],
      "text/plain": [
       "<IPython.core.display.HTML object>"
      ]
     },
     "metadata": {},
     "output_type": "display_data"
    },
    {
     "data": {
      "image/png": "[encoded data removed]",
      "text/plain": [
       "<Figure size 576x432 with 1 Axes>"
      ]
     },
     "metadata": {
      "needs_background": "light"
     },
     "output_type": "display_data"
    },
    {
     "data": {
      "text/html": [
       "<div class=\"comment\">Saved: ./run/figs/BHPD2-01-history_1</div>"
      ],
      "text/plain": [
       "<IPython.core.display.HTML object>"
      ]
     },
     "metadata": {},
     "output_type": "display_data"
    },
    {
     "data": {
      "image/png": "[encoded data removed]",
      "text/plain": [
       "<Figure size 576x432 with 1 Axes>"
      ]
     },
     "metadata": {
      "needs_background": "light"
     },
     "output_type": "display_data"
    },
    {
     "data": {
      "text/html": [
       "<div class=\"comment\">Saved: ./run/figs/BHPD2-01-history_2</div>"
      ],
      "text/plain": [
       "<IPython.core.display.HTML object>"
      ]
     },
     "metadata": {},
     "output_type": "display_data"
    },
    {
     "data": {
      "image/png": "[encoded data removed]",
      "text/plain": [
       "<Figure size 576x432 with 1 Axes>"
      ]
     },
     "metadata": {
      "needs_background": "light"
     },
     "output_type": "display_data"
    }
   ],
   "source": [
    "pwk.plot_history(history, plot={'MSE' :['mse', 'val_mse'],\n",
    "                                'MAE' :['mae', 'val_mae'],\n",
    "                                'LOSS':['loss','val_loss']}, save_as='01-history')"
   ]
  },
  {
   "cell_type": "markdown",
   "metadata": {},
   "source": [
    "## Step 7 - Restore a model :"
   ]
  },
  {
   "cell_type": "markdown",
   "metadata": {},
   "source": [
    "### 7.1 - Reload model"
   ]
  },
  {
   "cell_type": "code",
   "execution_count": 13,
   "metadata": {},
   "outputs": [
    {
     "name": "stdout",
     "output_type": "stream",
     "text": [
      "Model: \"sequential\"\n",
      "_________________________________________________________________\n",
      "Layer (type)                 Output Shape              Param #   \n",
      "=================================================================\n",
      "Dense_n1 (Dense)             (None, 64)                896       \n",
      "_________________________________________________________________\n",
      "Dense_n2 (Dense)             (None, 64)                4160      \n",
      "_________________________________________________________________\n",
      "Output (Dense)               (None, 1)                 65        \n",
      "=================================================================\n",
      "Total params: 5,121\n",
      "Trainable params: 5,121\n",
      "Non-trainable params: 0\n",
      "_________________________________________________________________\n",
      "Loaded.\n"
     ]
    }
   ],
   "source": [
    "loaded_model = tf.keras.models.load_model('./run/models/best_model.h5')\n",
    "loaded_model.summary()\n",
    "print(\"Loaded.\")"
   ]
  },
  {
   "cell_type": "markdown",
   "metadata": {},
   "source": [
    "### 7.2 - Evaluate it :"
   ]
  },
  {
   "cell_type": "code",
   "execution_count": 14,
   "metadata": {},
   "outputs": [
    {
     "name": "stdout",
     "output_type": "stream",
     "text": [
      "x_test / loss      : 12.4521\n",
      "x_test / mae       : 2.5606\n",
      "x_test / mse       : 12.4521\n"
     ]
    }
   ],
   "source": [
    "score = loaded_model.evaluate(x_test, y_test, verbose=0)\n",
    "\n",
    "print('x_test / loss      : {:5.4f}'.format(score[0]))\n",
    "print('x_test / mae       : {:5.4f}'.format(score[1]))\n",
    "print('x_test / mse       : {:5.4f}'.format(score[2]))"
   ]
  },
  {
   "cell_type": "markdown",
   "metadata": {},
   "source": [
    "### 7.3 - Make a prediction"
   ]
  },
  {
   "cell_type": "code",
   "execution_count": 15,
   "metadata": {},
   "outputs": [],
   "source": [
    "my_data = [ 1.26425925, -0.48522739,  1.0436489 , -0.23112788,  1.37120745,\n",
    "       -2.14308942,  1.13489104, -1.06802005,  1.71189006,  1.57042287,\n",
    "        0.77859951,  0.14769795,  2.7585581 ]\n",
    "real_price = 10.4\n",
    "\n",
    "my_data=np.array(my_data).reshape(1,13)"
   ]
  },
  {
   "cell_type": "code",
   "execution_count": 16,
   "metadata": {},
   "outputs": [
    {
     "name": "stdout",
     "output_type": "stream",
     "text": [
      "Prediction : 10.59 K$   Reality : 10.40 K$\n"
     ]
    }
   ],
   "source": [
    "predictions = loaded_model.predict( my_data )\n",
    "print(\"Prediction : {:.2f} K$   Reality : {:.2f} K$\".format(predictions[0][0], real_price))"
   ]
  },
  {
   "cell_type": "code",
   "execution_count": 17,
   "metadata": {},
   "outputs": [
    {
     "name": "stdout",
     "output_type": "stream",
     "text": [
      "End time is : Friday 8 January 2021, 01:10:39\n",
      "Duration is : 00:00:12 582ms\n",
      "This notebook ends here\n"
     ]
    }
   ],
   "source": [
    "pwk.end()"
   ]
  },
  {
   "cell_type": "markdown",
   "metadata": {},
   "source": [
    "---\n",
    "<img width=\"80px\" src=\"../fidle/img/00-Fidle-logo-01.svg\"></img>"
   ]
  }
 ],
 "metadata": {
  "kernelspec": {
   "display_name": "Python 3",
   "language": "python",
   "name": "python3"
  },
  "language_info": {
   "codemirror_mode": {
    "name": "ipython",
    "version": 3
   },
   "file_extension": ".py",
   "mimetype": "text/x-python",
   "name": "python",
   "nbconvert_exporter": "python",
   "pygments_lexer": "ipython3",
   "version": "3.7.9"
  }
 },
 "nbformat": 4,
 "nbformat_minor": 4
}
