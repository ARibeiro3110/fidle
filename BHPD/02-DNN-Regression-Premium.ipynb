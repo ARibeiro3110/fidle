{
 "cells": [
  {
   "cell_type": "markdown",
   "metadata": {},
   "source": [
    "<img width=\"800px\" src=\"../fidle/img/00-Fidle-header-01.svg\"></img>\n",
    "\n",
    "# <!-- TITLE --> [BHP2] - Regression with a Dense Network (DNN) - Advanced code\n",
    "  <!-- DESC -->  More advanced example of DNN network code - BHPD dataset\n",
    "  <!-- AUTHOR : Jean-Luc Parouty (CNRS/SIMaP) -->\n",
    "\n",
    "## Objectives :\n",
    " - Predicts **housing prices** from a set of house features. \n",
    " - Understanding the principle and the architecture of a regression with a dense neural network with backup and restore of the trained model. \n",
    "\n",
    "The **[Boston Housing Dataset](https://www.cs.toronto.edu/~delve/data/boston/bostonDetail.html)** consists of price of houses in various places in Boston.  \n",
    "Alongside with price, the dataset also provide information such as Crime, areas of non-retail business in the town,  \n",
    "age of people who own the house and many other attributes...\n",
    "\n",
    "## What we're going to do :\n",
    "\n",
    " - (Retrieve data)\n",
    " - (Preparing the data)\n",
    " - (Build a model)\n",
    " - Train and save the model\n",
    " - Restore saved model\n",
    " - Evaluate the model\n",
    " - Make some predictions\n"
   ]
  },
  {
   "cell_type": "markdown",
   "metadata": {},
   "source": [
    "## Step 1 - Import and init"
   ]
  },
  {
   "cell_type": "code",
   "execution_count": 1,
   "metadata": {},
   "outputs": [
    {
     "data": {
      "text/html": [
       "<style>\n",
       "\n",
       "div.warn {    \n",
       "    background-color: #fcf2f2;\n",
       "    border-color: #dFb5b4;\n",
       "    border-left: 5px solid #dfb5b4;\n",
       "    padding: 0.5em;\n",
       "    font-weight: bold;\n",
       "    font-size: 1.1em;;\n",
       "    }\n",
       "\n",
       "\n",
       "\n",
       "div.nota {    \n",
       "    background-color: #DAFFDE;\n",
       "    border-left: 5px solid #92CC99;\n",
       "    padding: 0.5em;\n",
       "    }\n",
       "\n",
       "\n",
       "\n",
       "</style>\n",
       "\n"
      ],
      "text/plain": [
       "<IPython.core.display.HTML object>"
      ]
     },
     "metadata": {},
     "output_type": "display_data"
    },
    {
     "name": "stdout",
     "output_type": "stream",
     "text": [
      "\n",
      "FIDLE 2020 - Practical Work Module\n",
      "Version              : 0.4.2\n",
      "Run time             : Wednesday 26 February 2020, 18:39:50\n",
      "TensorFlow version   : 2.0.0\n",
      "Keras version        : 2.2.4-tf\n"
     ]
    }
   ],
   "source": [
    "import tensorflow as tf\n",
    "from tensorflow import keras\n",
    "\n",
    "import numpy as np\n",
    "import matplotlib.pyplot as plt\n",
    "import pandas as pd\n",
    "import os,sys\n",
    "\n",
    "from IPython.display import display, Markdown\n",
    "from importlib import reload\n",
    "\n",
    "sys.path.append('..')\n",
    "import fidle.pwk as ooo\n",
    "\n",
    "ooo.init()\n",
    "os.makedirs('./run/models',   mode=0o750, exist_ok=True)"
   ]
  },
  {
   "cell_type": "markdown",
   "metadata": {},
   "source": [
    "## Step 2 - Retrieve data\n",
    "\n",
    "### 2.1 - Option 1  : From Keras\n",
    "Boston housing is a famous historic dataset, so we can get it directly from [Keras datasets](https://www.tensorflow.org/api_docs/python/tf/keras/datasets)  "
   ]
  },
  {
   "cell_type": "raw",
   "metadata": {},
   "source": [
    "(x_train, y_train), (x_test, y_test) = keras.datasets.boston_housing.load_data(test_split=0.2, seed=113)"
   ]
  },
  {
   "cell_type": "markdown",
   "metadata": {},
   "source": [
    "### 2.2 - Option 2 : From a csv file\n",
    "More fun !"
   ]
  },
  {
   "cell_type": "code",
   "execution_count": 2,
   "metadata": {},
   "outputs": [
    {
     "data": {
      "text/html": [
       "<style  type=\"text/css\" >\n",
       "</style><table id=\"T_fd7e95a4_58be_11ea_954f_edae4404b4c2\" ><thead>    <tr>        <th class=\"blank level0\" ></th>        <th class=\"col_heading level0 col0\" >crim</th>        <th class=\"col_heading level0 col1\" >zn</th>        <th class=\"col_heading level0 col2\" >indus</th>        <th class=\"col_heading level0 col3\" >chas</th>        <th class=\"col_heading level0 col4\" >nox</th>        <th class=\"col_heading level0 col5\" >rm</th>        <th class=\"col_heading level0 col6\" >age</th>        <th class=\"col_heading level0 col7\" >dis</th>        <th class=\"col_heading level0 col8\" >rad</th>        <th class=\"col_heading level0 col9\" >tax</th>        <th class=\"col_heading level0 col10\" >ptratio</th>        <th class=\"col_heading level0 col11\" >b</th>        <th class=\"col_heading level0 col12\" >lstat</th>        <th class=\"col_heading level0 col13\" >medv</th>    </tr></thead><tbody>\n",
       "                <tr>\n",
       "                        <th id=\"T_fd7e95a4_58be_11ea_954f_edae4404b4c2level0_row0\" class=\"row_heading level0 row0\" >0</th>\n",
       "                        <td id=\"T_fd7e95a4_58be_11ea_954f_edae4404b4c2row0_col0\" class=\"data row0 col0\" >0.01</td>\n",
       "                        <td id=\"T_fd7e95a4_58be_11ea_954f_edae4404b4c2row0_col1\" class=\"data row0 col1\" >18.00</td>\n",
       "                        <td id=\"T_fd7e95a4_58be_11ea_954f_edae4404b4c2row0_col2\" class=\"data row0 col2\" >2.31</td>\n",
       "                        <td id=\"T_fd7e95a4_58be_11ea_954f_edae4404b4c2row0_col3\" class=\"data row0 col3\" >0.00</td>\n",
       "                        <td id=\"T_fd7e95a4_58be_11ea_954f_edae4404b4c2row0_col4\" class=\"data row0 col4\" >0.54</td>\n",
       "                        <td id=\"T_fd7e95a4_58be_11ea_954f_edae4404b4c2row0_col5\" class=\"data row0 col5\" >6.58</td>\n",
       "                        <td id=\"T_fd7e95a4_58be_11ea_954f_edae4404b4c2row0_col6\" class=\"data row0 col6\" >65.20</td>\n",
       "                        <td id=\"T_fd7e95a4_58be_11ea_954f_edae4404b4c2row0_col7\" class=\"data row0 col7\" >4.09</td>\n",
       "                        <td id=\"T_fd7e95a4_58be_11ea_954f_edae4404b4c2row0_col8\" class=\"data row0 col8\" >1.00</td>\n",
       "                        <td id=\"T_fd7e95a4_58be_11ea_954f_edae4404b4c2row0_col9\" class=\"data row0 col9\" >296.00</td>\n",
       "                        <td id=\"T_fd7e95a4_58be_11ea_954f_edae4404b4c2row0_col10\" class=\"data row0 col10\" >15.30</td>\n",
       "                        <td id=\"T_fd7e95a4_58be_11ea_954f_edae4404b4c2row0_col11\" class=\"data row0 col11\" >396.90</td>\n",
       "                        <td id=\"T_fd7e95a4_58be_11ea_954f_edae4404b4c2row0_col12\" class=\"data row0 col12\" >4.98</td>\n",
       "                        <td id=\"T_fd7e95a4_58be_11ea_954f_edae4404b4c2row0_col13\" class=\"data row0 col13\" >24.00</td>\n",
       "            </tr>\n",
       "            <tr>\n",
       "                        <th id=\"T_fd7e95a4_58be_11ea_954f_edae4404b4c2level0_row1\" class=\"row_heading level0 row1\" >1</th>\n",
       "                        <td id=\"T_fd7e95a4_58be_11ea_954f_edae4404b4c2row1_col0\" class=\"data row1 col0\" >0.03</td>\n",
       "                        <td id=\"T_fd7e95a4_58be_11ea_954f_edae4404b4c2row1_col1\" class=\"data row1 col1\" >0.00</td>\n",
       "                        <td id=\"T_fd7e95a4_58be_11ea_954f_edae4404b4c2row1_col2\" class=\"data row1 col2\" >7.07</td>\n",
       "                        <td id=\"T_fd7e95a4_58be_11ea_954f_edae4404b4c2row1_col3\" class=\"data row1 col3\" >0.00</td>\n",
       "                        <td id=\"T_fd7e95a4_58be_11ea_954f_edae4404b4c2row1_col4\" class=\"data row1 col4\" >0.47</td>\n",
       "                        <td id=\"T_fd7e95a4_58be_11ea_954f_edae4404b4c2row1_col5\" class=\"data row1 col5\" >6.42</td>\n",
       "                        <td id=\"T_fd7e95a4_58be_11ea_954f_edae4404b4c2row1_col6\" class=\"data row1 col6\" >78.90</td>\n",
       "                        <td id=\"T_fd7e95a4_58be_11ea_954f_edae4404b4c2row1_col7\" class=\"data row1 col7\" >4.97</td>\n",
       "                        <td id=\"T_fd7e95a4_58be_11ea_954f_edae4404b4c2row1_col8\" class=\"data row1 col8\" >2.00</td>\n",
       "                        <td id=\"T_fd7e95a4_58be_11ea_954f_edae4404b4c2row1_col9\" class=\"data row1 col9\" >242.00</td>\n",
       "                        <td id=\"T_fd7e95a4_58be_11ea_954f_edae4404b4c2row1_col10\" class=\"data row1 col10\" >17.80</td>\n",
       "                        <td id=\"T_fd7e95a4_58be_11ea_954f_edae4404b4c2row1_col11\" class=\"data row1 col11\" >396.90</td>\n",
       "                        <td id=\"T_fd7e95a4_58be_11ea_954f_edae4404b4c2row1_col12\" class=\"data row1 col12\" >9.14</td>\n",
       "                        <td id=\"T_fd7e95a4_58be_11ea_954f_edae4404b4c2row1_col13\" class=\"data row1 col13\" >21.60</td>\n",
       "            </tr>\n",
       "            <tr>\n",
       "                        <th id=\"T_fd7e95a4_58be_11ea_954f_edae4404b4c2level0_row2\" class=\"row_heading level0 row2\" >2</th>\n",
       "                        <td id=\"T_fd7e95a4_58be_11ea_954f_edae4404b4c2row2_col0\" class=\"data row2 col0\" >0.03</td>\n",
       "                        <td id=\"T_fd7e95a4_58be_11ea_954f_edae4404b4c2row2_col1\" class=\"data row2 col1\" >0.00</td>\n",
       "                        <td id=\"T_fd7e95a4_58be_11ea_954f_edae4404b4c2row2_col2\" class=\"data row2 col2\" >7.07</td>\n",
       "                        <td id=\"T_fd7e95a4_58be_11ea_954f_edae4404b4c2row2_col3\" class=\"data row2 col3\" >0.00</td>\n",
       "                        <td id=\"T_fd7e95a4_58be_11ea_954f_edae4404b4c2row2_col4\" class=\"data row2 col4\" >0.47</td>\n",
       "                        <td id=\"T_fd7e95a4_58be_11ea_954f_edae4404b4c2row2_col5\" class=\"data row2 col5\" >7.18</td>\n",
       "                        <td id=\"T_fd7e95a4_58be_11ea_954f_edae4404b4c2row2_col6\" class=\"data row2 col6\" >61.10</td>\n",
       "                        <td id=\"T_fd7e95a4_58be_11ea_954f_edae4404b4c2row2_col7\" class=\"data row2 col7\" >4.97</td>\n",
       "                        <td id=\"T_fd7e95a4_58be_11ea_954f_edae4404b4c2row2_col8\" class=\"data row2 col8\" >2.00</td>\n",
       "                        <td id=\"T_fd7e95a4_58be_11ea_954f_edae4404b4c2row2_col9\" class=\"data row2 col9\" >242.00</td>\n",
       "                        <td id=\"T_fd7e95a4_58be_11ea_954f_edae4404b4c2row2_col10\" class=\"data row2 col10\" >17.80</td>\n",
       "                        <td id=\"T_fd7e95a4_58be_11ea_954f_edae4404b4c2row2_col11\" class=\"data row2 col11\" >392.83</td>\n",
       "                        <td id=\"T_fd7e95a4_58be_11ea_954f_edae4404b4c2row2_col12\" class=\"data row2 col12\" >4.03</td>\n",
       "                        <td id=\"T_fd7e95a4_58be_11ea_954f_edae4404b4c2row2_col13\" class=\"data row2 col13\" >34.70</td>\n",
       "            </tr>\n",
       "            <tr>\n",
       "                        <th id=\"T_fd7e95a4_58be_11ea_954f_edae4404b4c2level0_row3\" class=\"row_heading level0 row3\" >3</th>\n",
       "                        <td id=\"T_fd7e95a4_58be_11ea_954f_edae4404b4c2row3_col0\" class=\"data row3 col0\" >0.03</td>\n",
       "                        <td id=\"T_fd7e95a4_58be_11ea_954f_edae4404b4c2row3_col1\" class=\"data row3 col1\" >0.00</td>\n",
       "                        <td id=\"T_fd7e95a4_58be_11ea_954f_edae4404b4c2row3_col2\" class=\"data row3 col2\" >2.18</td>\n",
       "                        <td id=\"T_fd7e95a4_58be_11ea_954f_edae4404b4c2row3_col3\" class=\"data row3 col3\" >0.00</td>\n",
       "                        <td id=\"T_fd7e95a4_58be_11ea_954f_edae4404b4c2row3_col4\" class=\"data row3 col4\" >0.46</td>\n",
       "                        <td id=\"T_fd7e95a4_58be_11ea_954f_edae4404b4c2row3_col5\" class=\"data row3 col5\" >7.00</td>\n",
       "                        <td id=\"T_fd7e95a4_58be_11ea_954f_edae4404b4c2row3_col6\" class=\"data row3 col6\" >45.80</td>\n",
       "                        <td id=\"T_fd7e95a4_58be_11ea_954f_edae4404b4c2row3_col7\" class=\"data row3 col7\" >6.06</td>\n",
       "                        <td id=\"T_fd7e95a4_58be_11ea_954f_edae4404b4c2row3_col8\" class=\"data row3 col8\" >3.00</td>\n",
       "                        <td id=\"T_fd7e95a4_58be_11ea_954f_edae4404b4c2row3_col9\" class=\"data row3 col9\" >222.00</td>\n",
       "                        <td id=\"T_fd7e95a4_58be_11ea_954f_edae4404b4c2row3_col10\" class=\"data row3 col10\" >18.70</td>\n",
       "                        <td id=\"T_fd7e95a4_58be_11ea_954f_edae4404b4c2row3_col11\" class=\"data row3 col11\" >394.63</td>\n",
       "                        <td id=\"T_fd7e95a4_58be_11ea_954f_edae4404b4c2row3_col12\" class=\"data row3 col12\" >2.94</td>\n",
       "                        <td id=\"T_fd7e95a4_58be_11ea_954f_edae4404b4c2row3_col13\" class=\"data row3 col13\" >33.40</td>\n",
       "            </tr>\n",
       "            <tr>\n",
       "                        <th id=\"T_fd7e95a4_58be_11ea_954f_edae4404b4c2level0_row4\" class=\"row_heading level0 row4\" >4</th>\n",
       "                        <td id=\"T_fd7e95a4_58be_11ea_954f_edae4404b4c2row4_col0\" class=\"data row4 col0\" >0.07</td>\n",
       "                        <td id=\"T_fd7e95a4_58be_11ea_954f_edae4404b4c2row4_col1\" class=\"data row4 col1\" >0.00</td>\n",
       "                        <td id=\"T_fd7e95a4_58be_11ea_954f_edae4404b4c2row4_col2\" class=\"data row4 col2\" >2.18</td>\n",
       "                        <td id=\"T_fd7e95a4_58be_11ea_954f_edae4404b4c2row4_col3\" class=\"data row4 col3\" >0.00</td>\n",
       "                        <td id=\"T_fd7e95a4_58be_11ea_954f_edae4404b4c2row4_col4\" class=\"data row4 col4\" >0.46</td>\n",
       "                        <td id=\"T_fd7e95a4_58be_11ea_954f_edae4404b4c2row4_col5\" class=\"data row4 col5\" >7.15</td>\n",
       "                        <td id=\"T_fd7e95a4_58be_11ea_954f_edae4404b4c2row4_col6\" class=\"data row4 col6\" >54.20</td>\n",
       "                        <td id=\"T_fd7e95a4_58be_11ea_954f_edae4404b4c2row4_col7\" class=\"data row4 col7\" >6.06</td>\n",
       "                        <td id=\"T_fd7e95a4_58be_11ea_954f_edae4404b4c2row4_col8\" class=\"data row4 col8\" >3.00</td>\n",
       "                        <td id=\"T_fd7e95a4_58be_11ea_954f_edae4404b4c2row4_col9\" class=\"data row4 col9\" >222.00</td>\n",
       "                        <td id=\"T_fd7e95a4_58be_11ea_954f_edae4404b4c2row4_col10\" class=\"data row4 col10\" >18.70</td>\n",
       "                        <td id=\"T_fd7e95a4_58be_11ea_954f_edae4404b4c2row4_col11\" class=\"data row4 col11\" >396.90</td>\n",
       "                        <td id=\"T_fd7e95a4_58be_11ea_954f_edae4404b4c2row4_col12\" class=\"data row4 col12\" >5.33</td>\n",
       "                        <td id=\"T_fd7e95a4_58be_11ea_954f_edae4404b4c2row4_col13\" class=\"data row4 col13\" >36.20</td>\n",
       "            </tr>\n",
       "    </tbody></table>"
      ],
      "text/plain": [
       "<pandas.io.formats.style.Styler at 0x7f244dda3dd0>"
      ]
     },
     "metadata": {},
     "output_type": "display_data"
    },
    {
     "name": "stdout",
     "output_type": "stream",
     "text": [
      "Données manquantes :  0   Shape is :  (506, 14)\n"
     ]
    }
   ],
   "source": [
    "data = pd.read_csv('./data/BostonHousing.csv', header=0)\n",
    "\n",
    "display(data.head(5).style.format(\"{0:.2f}\"))\n",
    "print('Données manquantes : ',data.isna().sum().sum(), '  Shape is : ', data.shape)"
   ]
  },
  {
   "cell_type": "markdown",
   "metadata": {},
   "source": [
    "## Step 3 - Preparing the data\n",
    "### 3.1 - Split data\n",
    "We will use 80% of the data for training and 20% for validation.  \n",
    "x will be input data and y the expected output"
   ]
  },
  {
   "cell_type": "code",
   "execution_count": 3,
   "metadata": {},
   "outputs": [
    {
     "name": "stdout",
     "output_type": "stream",
     "text": [
      "Original data shape was :  (506, 14)\n",
      "x_train :  (354, 13) y_train :  (354,)\n",
      "x_test  :  (152, 13) y_test  :  (152,)\n"
     ]
    }
   ],
   "source": [
    "# ---- Split => train, test\n",
    "#\n",
    "data_train = data.sample(frac=0.7, axis=0)\n",
    "data_test  = data.drop(data_train.index)\n",
    "\n",
    "# ---- Split => x,y (medv is price)\n",
    "#\n",
    "x_train = data_train.drop('medv',  axis=1)\n",
    "y_train = data_train['medv']\n",
    "x_test  = data_test.drop('medv',   axis=1)\n",
    "y_test  = data_test['medv']\n",
    "\n",
    "print('Original data shape was : ',data.shape)\n",
    "print('x_train : ',x_train.shape, 'y_train : ',y_train.shape)\n",
    "print('x_test  : ',x_test.shape,  'y_test  : ',y_test.shape)"
   ]
  },
  {
   "cell_type": "markdown",
   "metadata": {},
   "source": [
    "### 3.2 - Data normalization\n",
    "**Note :** \n",
    " - All input data must be normalized, train and test.  \n",
    " - To do this we will subtract the mean and divide by the standard deviation.  \n",
    " - But test data should not be used in any way, even for normalization.  \n",
    " - The mean and the standard deviation will therefore only be calculated with the train data."
   ]
  },
  {
   "cell_type": "code",
   "execution_count": 4,
   "metadata": {},
   "outputs": [
    {
     "data": {
      "text/html": [
       "<style  type=\"text/css\" >\n",
       "</style><table id=\"T_fd8631f6_58be_11ea_954f_edae4404b4c2\" ><caption>Before normalization :</caption><thead>    <tr>        <th class=\"blank level0\" ></th>        <th class=\"col_heading level0 col0\" >crim</th>        <th class=\"col_heading level0 col1\" >zn</th>        <th class=\"col_heading level0 col2\" >indus</th>        <th class=\"col_heading level0 col3\" >chas</th>        <th class=\"col_heading level0 col4\" >nox</th>        <th class=\"col_heading level0 col5\" >rm</th>        <th class=\"col_heading level0 col6\" >age</th>        <th class=\"col_heading level0 col7\" >dis</th>        <th class=\"col_heading level0 col8\" >rad</th>        <th class=\"col_heading level0 col9\" >tax</th>        <th class=\"col_heading level0 col10\" >ptratio</th>        <th class=\"col_heading level0 col11\" >b</th>        <th class=\"col_heading level0 col12\" >lstat</th>    </tr></thead><tbody>\n",
       "                <tr>\n",
       "                        <th id=\"T_fd8631f6_58be_11ea_954f_edae4404b4c2level0_row0\" class=\"row_heading level0 row0\" >count</th>\n",
       "                        <td id=\"T_fd8631f6_58be_11ea_954f_edae4404b4c2row0_col0\" class=\"data row0 col0\" >354.00</td>\n",
       "                        <td id=\"T_fd8631f6_58be_11ea_954f_edae4404b4c2row0_col1\" class=\"data row0 col1\" >354.00</td>\n",
       "                        <td id=\"T_fd8631f6_58be_11ea_954f_edae4404b4c2row0_col2\" class=\"data row0 col2\" >354.00</td>\n",
       "                        <td id=\"T_fd8631f6_58be_11ea_954f_edae4404b4c2row0_col3\" class=\"data row0 col3\" >354.00</td>\n",
       "                        <td id=\"T_fd8631f6_58be_11ea_954f_edae4404b4c2row0_col4\" class=\"data row0 col4\" >354.00</td>\n",
       "                        <td id=\"T_fd8631f6_58be_11ea_954f_edae4404b4c2row0_col5\" class=\"data row0 col5\" >354.00</td>\n",
       "                        <td id=\"T_fd8631f6_58be_11ea_954f_edae4404b4c2row0_col6\" class=\"data row0 col6\" >354.00</td>\n",
       "                        <td id=\"T_fd8631f6_58be_11ea_954f_edae4404b4c2row0_col7\" class=\"data row0 col7\" >354.00</td>\n",
       "                        <td id=\"T_fd8631f6_58be_11ea_954f_edae4404b4c2row0_col8\" class=\"data row0 col8\" >354.00</td>\n",
       "                        <td id=\"T_fd8631f6_58be_11ea_954f_edae4404b4c2row0_col9\" class=\"data row0 col9\" >354.00</td>\n",
       "                        <td id=\"T_fd8631f6_58be_11ea_954f_edae4404b4c2row0_col10\" class=\"data row0 col10\" >354.00</td>\n",
       "                        <td id=\"T_fd8631f6_58be_11ea_954f_edae4404b4c2row0_col11\" class=\"data row0 col11\" >354.00</td>\n",
       "                        <td id=\"T_fd8631f6_58be_11ea_954f_edae4404b4c2row0_col12\" class=\"data row0 col12\" >354.00</td>\n",
       "            </tr>\n",
       "            <tr>\n",
       "                        <th id=\"T_fd8631f6_58be_11ea_954f_edae4404b4c2level0_row1\" class=\"row_heading level0 row1\" >mean</th>\n",
       "                        <td id=\"T_fd8631f6_58be_11ea_954f_edae4404b4c2row1_col0\" class=\"data row1 col0\" >3.60</td>\n",
       "                        <td id=\"T_fd8631f6_58be_11ea_954f_edae4404b4c2row1_col1\" class=\"data row1 col1\" >12.20</td>\n",
       "                        <td id=\"T_fd8631f6_58be_11ea_954f_edae4404b4c2row1_col2\" class=\"data row1 col2\" >10.86</td>\n",
       "                        <td id=\"T_fd8631f6_58be_11ea_954f_edae4404b4c2row1_col3\" class=\"data row1 col3\" >0.08</td>\n",
       "                        <td id=\"T_fd8631f6_58be_11ea_954f_edae4404b4c2row1_col4\" class=\"data row1 col4\" >0.55</td>\n",
       "                        <td id=\"T_fd8631f6_58be_11ea_954f_edae4404b4c2row1_col5\" class=\"data row1 col5\" >6.29</td>\n",
       "                        <td id=\"T_fd8631f6_58be_11ea_954f_edae4404b4c2row1_col6\" class=\"data row1 col6\" >67.90</td>\n",
       "                        <td id=\"T_fd8631f6_58be_11ea_954f_edae4404b4c2row1_col7\" class=\"data row1 col7\" >3.91</td>\n",
       "                        <td id=\"T_fd8631f6_58be_11ea_954f_edae4404b4c2row1_col8\" class=\"data row1 col8\" >9.17</td>\n",
       "                        <td id=\"T_fd8631f6_58be_11ea_954f_edae4404b4c2row1_col9\" class=\"data row1 col9\" >398.77</td>\n",
       "                        <td id=\"T_fd8631f6_58be_11ea_954f_edae4404b4c2row1_col10\" class=\"data row1 col10\" >18.44</td>\n",
       "                        <td id=\"T_fd8631f6_58be_11ea_954f_edae4404b4c2row1_col11\" class=\"data row1 col11\" >360.64</td>\n",
       "                        <td id=\"T_fd8631f6_58be_11ea_954f_edae4404b4c2row1_col12\" class=\"data row1 col12\" >12.66</td>\n",
       "            </tr>\n",
       "            <tr>\n",
       "                        <th id=\"T_fd8631f6_58be_11ea_954f_edae4404b4c2level0_row2\" class=\"row_heading level0 row2\" >std</th>\n",
       "                        <td id=\"T_fd8631f6_58be_11ea_954f_edae4404b4c2row2_col0\" class=\"data row2 col0\" >9.38</td>\n",
       "                        <td id=\"T_fd8631f6_58be_11ea_954f_edae4404b4c2row2_col1\" class=\"data row2 col1\" >24.11</td>\n",
       "                        <td id=\"T_fd8631f6_58be_11ea_954f_edae4404b4c2row2_col2\" class=\"data row2 col2\" >6.78</td>\n",
       "                        <td id=\"T_fd8631f6_58be_11ea_954f_edae4404b4c2row2_col3\" class=\"data row2 col3\" >0.27</td>\n",
       "                        <td id=\"T_fd8631f6_58be_11ea_954f_edae4404b4c2row2_col4\" class=\"data row2 col4\" >0.11</td>\n",
       "                        <td id=\"T_fd8631f6_58be_11ea_954f_edae4404b4c2row2_col5\" class=\"data row2 col5\" >0.70</td>\n",
       "                        <td id=\"T_fd8631f6_58be_11ea_954f_edae4404b4c2row2_col6\" class=\"data row2 col6\" >28.08</td>\n",
       "                        <td id=\"T_fd8631f6_58be_11ea_954f_edae4404b4c2row2_col7\" class=\"data row2 col7\" >2.13</td>\n",
       "                        <td id=\"T_fd8631f6_58be_11ea_954f_edae4404b4c2row2_col8\" class=\"data row2 col8\" >8.53</td>\n",
       "                        <td id=\"T_fd8631f6_58be_11ea_954f_edae4404b4c2row2_col9\" class=\"data row2 col9\" >166.41</td>\n",
       "                        <td id=\"T_fd8631f6_58be_11ea_954f_edae4404b4c2row2_col10\" class=\"data row2 col10\" >2.17</td>\n",
       "                        <td id=\"T_fd8631f6_58be_11ea_954f_edae4404b4c2row2_col11\" class=\"data row2 col11\" >86.73</td>\n",
       "                        <td id=\"T_fd8631f6_58be_11ea_954f_edae4404b4c2row2_col12\" class=\"data row2 col12\" >7.18</td>\n",
       "            </tr>\n",
       "            <tr>\n",
       "                        <th id=\"T_fd8631f6_58be_11ea_954f_edae4404b4c2level0_row3\" class=\"row_heading level0 row3\" >min</th>\n",
       "                        <td id=\"T_fd8631f6_58be_11ea_954f_edae4404b4c2row3_col0\" class=\"data row3 col0\" >0.01</td>\n",
       "                        <td id=\"T_fd8631f6_58be_11ea_954f_edae4404b4c2row3_col1\" class=\"data row3 col1\" >0.00</td>\n",
       "                        <td id=\"T_fd8631f6_58be_11ea_954f_edae4404b4c2row3_col2\" class=\"data row3 col2\" >0.46</td>\n",
       "                        <td id=\"T_fd8631f6_58be_11ea_954f_edae4404b4c2row3_col3\" class=\"data row3 col3\" >0.00</td>\n",
       "                        <td id=\"T_fd8631f6_58be_11ea_954f_edae4404b4c2row3_col4\" class=\"data row3 col4\" >0.39</td>\n",
       "                        <td id=\"T_fd8631f6_58be_11ea_954f_edae4404b4c2row3_col5\" class=\"data row3 col5\" >3.86</td>\n",
       "                        <td id=\"T_fd8631f6_58be_11ea_954f_edae4404b4c2row3_col6\" class=\"data row3 col6\" >2.90</td>\n",
       "                        <td id=\"T_fd8631f6_58be_11ea_954f_edae4404b4c2row3_col7\" class=\"data row3 col7\" >1.13</td>\n",
       "                        <td id=\"T_fd8631f6_58be_11ea_954f_edae4404b4c2row3_col8\" class=\"data row3 col8\" >1.00</td>\n",
       "                        <td id=\"T_fd8631f6_58be_11ea_954f_edae4404b4c2row3_col9\" class=\"data row3 col9\" >187.00</td>\n",
       "                        <td id=\"T_fd8631f6_58be_11ea_954f_edae4404b4c2row3_col10\" class=\"data row3 col10\" >12.60</td>\n",
       "                        <td id=\"T_fd8631f6_58be_11ea_954f_edae4404b4c2row3_col11\" class=\"data row3 col11\" >0.32</td>\n",
       "                        <td id=\"T_fd8631f6_58be_11ea_954f_edae4404b4c2row3_col12\" class=\"data row3 col12\" >1.98</td>\n",
       "            </tr>\n",
       "            <tr>\n",
       "                        <th id=\"T_fd8631f6_58be_11ea_954f_edae4404b4c2level0_row4\" class=\"row_heading level0 row4\" >25%</th>\n",
       "                        <td id=\"T_fd8631f6_58be_11ea_954f_edae4404b4c2row4_col0\" class=\"data row4 col0\" >0.08</td>\n",
       "                        <td id=\"T_fd8631f6_58be_11ea_954f_edae4404b4c2row4_col1\" class=\"data row4 col1\" >0.00</td>\n",
       "                        <td id=\"T_fd8631f6_58be_11ea_954f_edae4404b4c2row4_col2\" class=\"data row4 col2\" >5.15</td>\n",
       "                        <td id=\"T_fd8631f6_58be_11ea_954f_edae4404b4c2row4_col3\" class=\"data row4 col3\" >0.00</td>\n",
       "                        <td id=\"T_fd8631f6_58be_11ea_954f_edae4404b4c2row4_col4\" class=\"data row4 col4\" >0.45</td>\n",
       "                        <td id=\"T_fd8631f6_58be_11ea_954f_edae4404b4c2row4_col5\" class=\"data row4 col5\" >5.89</td>\n",
       "                        <td id=\"T_fd8631f6_58be_11ea_954f_edae4404b4c2row4_col6\" class=\"data row4 col6\" >45.18</td>\n",
       "                        <td id=\"T_fd8631f6_58be_11ea_954f_edae4404b4c2row4_col7\" class=\"data row4 col7\" >2.13</td>\n",
       "                        <td id=\"T_fd8631f6_58be_11ea_954f_edae4404b4c2row4_col8\" class=\"data row4 col8\" >4.00</td>\n",
       "                        <td id=\"T_fd8631f6_58be_11ea_954f_edae4404b4c2row4_col9\" class=\"data row4 col9\" >277.00</td>\n",
       "                        <td id=\"T_fd8631f6_58be_11ea_954f_edae4404b4c2row4_col10\" class=\"data row4 col10\" >17.00</td>\n",
       "                        <td id=\"T_fd8631f6_58be_11ea_954f_edae4404b4c2row4_col11\" class=\"data row4 col11\" >377.55</td>\n",
       "                        <td id=\"T_fd8631f6_58be_11ea_954f_edae4404b4c2row4_col12\" class=\"data row4 col12\" >7.15</td>\n",
       "            </tr>\n",
       "            <tr>\n",
       "                        <th id=\"T_fd8631f6_58be_11ea_954f_edae4404b4c2level0_row5\" class=\"row_heading level0 row5\" >50%</th>\n",
       "                        <td id=\"T_fd8631f6_58be_11ea_954f_edae4404b4c2row5_col0\" class=\"data row5 col0\" >0.25</td>\n",
       "                        <td id=\"T_fd8631f6_58be_11ea_954f_edae4404b4c2row5_col1\" class=\"data row5 col1\" >0.00</td>\n",
       "                        <td id=\"T_fd8631f6_58be_11ea_954f_edae4404b4c2row5_col2\" class=\"data row5 col2\" >8.56</td>\n",
       "                        <td id=\"T_fd8631f6_58be_11ea_954f_edae4404b4c2row5_col3\" class=\"data row5 col3\" >0.00</td>\n",
       "                        <td id=\"T_fd8631f6_58be_11ea_954f_edae4404b4c2row5_col4\" class=\"data row5 col4\" >0.53</td>\n",
       "                        <td id=\"T_fd8631f6_58be_11ea_954f_edae4404b4c2row5_col5\" class=\"data row5 col5\" >6.17</td>\n",
       "                        <td id=\"T_fd8631f6_58be_11ea_954f_edae4404b4c2row5_col6\" class=\"data row5 col6\" >76.50</td>\n",
       "                        <td id=\"T_fd8631f6_58be_11ea_954f_edae4404b4c2row5_col7\" class=\"data row5 col7\" >3.42</td>\n",
       "                        <td id=\"T_fd8631f6_58be_11ea_954f_edae4404b4c2row5_col8\" class=\"data row5 col8\" >5.00</td>\n",
       "                        <td id=\"T_fd8631f6_58be_11ea_954f_edae4404b4c2row5_col9\" class=\"data row5 col9\" >311.00</td>\n",
       "                        <td id=\"T_fd8631f6_58be_11ea_954f_edae4404b4c2row5_col10\" class=\"data row5 col10\" >18.70</td>\n",
       "                        <td id=\"T_fd8631f6_58be_11ea_954f_edae4404b4c2row5_col11\" class=\"data row5 col11\" >392.48</td>\n",
       "                        <td id=\"T_fd8631f6_58be_11ea_954f_edae4404b4c2row5_col12\" class=\"data row5 col12\" >11.17</td>\n",
       "            </tr>\n",
       "            <tr>\n",
       "                        <th id=\"T_fd8631f6_58be_11ea_954f_edae4404b4c2level0_row6\" class=\"row_heading level0 row6\" >75%</th>\n",
       "                        <td id=\"T_fd8631f6_58be_11ea_954f_edae4404b4c2row6_col0\" class=\"data row6 col0\" >2.77</td>\n",
       "                        <td id=\"T_fd8631f6_58be_11ea_954f_edae4404b4c2row6_col1\" class=\"data row6 col1\" >20.00</td>\n",
       "                        <td id=\"T_fd8631f6_58be_11ea_954f_edae4404b4c2row6_col2\" class=\"data row6 col2\" >18.10</td>\n",
       "                        <td id=\"T_fd8631f6_58be_11ea_954f_edae4404b4c2row6_col3\" class=\"data row6 col3\" >0.00</td>\n",
       "                        <td id=\"T_fd8631f6_58be_11ea_954f_edae4404b4c2row6_col4\" class=\"data row6 col4\" >0.62</td>\n",
       "                        <td id=\"T_fd8631f6_58be_11ea_954f_edae4404b4c2row6_col5\" class=\"data row6 col5\" >6.63</td>\n",
       "                        <td id=\"T_fd8631f6_58be_11ea_954f_edae4404b4c2row6_col6\" class=\"data row6 col6\" >93.45</td>\n",
       "                        <td id=\"T_fd8631f6_58be_11ea_954f_edae4404b4c2row6_col7\" class=\"data row6 col7\" >5.29</td>\n",
       "                        <td id=\"T_fd8631f6_58be_11ea_954f_edae4404b4c2row6_col8\" class=\"data row6 col8\" >8.00</td>\n",
       "                        <td id=\"T_fd8631f6_58be_11ea_954f_edae4404b4c2row6_col9\" class=\"data row6 col9\" >616.75</td>\n",
       "                        <td id=\"T_fd8631f6_58be_11ea_954f_edae4404b4c2row6_col10\" class=\"data row6 col10\" >20.20</td>\n",
       "                        <td id=\"T_fd8631f6_58be_11ea_954f_edae4404b4c2row6_col11\" class=\"data row6 col11\" >396.32</td>\n",
       "                        <td id=\"T_fd8631f6_58be_11ea_954f_edae4404b4c2row6_col12\" class=\"data row6 col12\" >17.06</td>\n",
       "            </tr>\n",
       "            <tr>\n",
       "                        <th id=\"T_fd8631f6_58be_11ea_954f_edae4404b4c2level0_row7\" class=\"row_heading level0 row7\" >max</th>\n",
       "                        <td id=\"T_fd8631f6_58be_11ea_954f_edae4404b4c2row7_col0\" class=\"data row7 col0\" >88.98</td>\n",
       "                        <td id=\"T_fd8631f6_58be_11ea_954f_edae4404b4c2row7_col1\" class=\"data row7 col1\" >100.00</td>\n",
       "                        <td id=\"T_fd8631f6_58be_11ea_954f_edae4404b4c2row7_col2\" class=\"data row7 col2\" >27.74</td>\n",
       "                        <td id=\"T_fd8631f6_58be_11ea_954f_edae4404b4c2row7_col3\" class=\"data row7 col3\" >1.00</td>\n",
       "                        <td id=\"T_fd8631f6_58be_11ea_954f_edae4404b4c2row7_col4\" class=\"data row7 col4\" >0.87</td>\n",
       "                        <td id=\"T_fd8631f6_58be_11ea_954f_edae4404b4c2row7_col5\" class=\"data row7 col5\" >8.78</td>\n",
       "                        <td id=\"T_fd8631f6_58be_11ea_954f_edae4404b4c2row7_col6\" class=\"data row7 col6\" >100.00</td>\n",
       "                        <td id=\"T_fd8631f6_58be_11ea_954f_edae4404b4c2row7_col7\" class=\"data row7 col7\" >12.13</td>\n",
       "                        <td id=\"T_fd8631f6_58be_11ea_954f_edae4404b4c2row7_col8\" class=\"data row7 col8\" >24.00</td>\n",
       "                        <td id=\"T_fd8631f6_58be_11ea_954f_edae4404b4c2row7_col9\" class=\"data row7 col9\" >711.00</td>\n",
       "                        <td id=\"T_fd8631f6_58be_11ea_954f_edae4404b4c2row7_col10\" class=\"data row7 col10\" >22.00</td>\n",
       "                        <td id=\"T_fd8631f6_58be_11ea_954f_edae4404b4c2row7_col11\" class=\"data row7 col11\" >396.90</td>\n",
       "                        <td id=\"T_fd8631f6_58be_11ea_954f_edae4404b4c2row7_col12\" class=\"data row7 col12\" >36.98</td>\n",
       "            </tr>\n",
       "    </tbody></table>"
      ],
      "text/plain": [
       "<pandas.io.formats.style.Styler at 0x7f24c9def750>"
      ]
     },
     "metadata": {},
     "output_type": "display_data"
    },
    {
     "data": {
      "text/html": [
       "<style  type=\"text/css\" >\n",
       "</style><table id=\"T_fd8d1f0c_58be_11ea_954f_edae4404b4c2\" ><caption>After normalization :</caption><thead>    <tr>        <th class=\"blank level0\" ></th>        <th class=\"col_heading level0 col0\" >crim</th>        <th class=\"col_heading level0 col1\" >zn</th>        <th class=\"col_heading level0 col2\" >indus</th>        <th class=\"col_heading level0 col3\" >chas</th>        <th class=\"col_heading level0 col4\" >nox</th>        <th class=\"col_heading level0 col5\" >rm</th>        <th class=\"col_heading level0 col6\" >age</th>        <th class=\"col_heading level0 col7\" >dis</th>        <th class=\"col_heading level0 col8\" >rad</th>        <th class=\"col_heading level0 col9\" >tax</th>        <th class=\"col_heading level0 col10\" >ptratio</th>        <th class=\"col_heading level0 col11\" >b</th>        <th class=\"col_heading level0 col12\" >lstat</th>    </tr></thead><tbody>\n",
       "                <tr>\n",
       "                        <th id=\"T_fd8d1f0c_58be_11ea_954f_edae4404b4c2level0_row0\" class=\"row_heading level0 row0\" >count</th>\n",
       "                        <td id=\"T_fd8d1f0c_58be_11ea_954f_edae4404b4c2row0_col0\" class=\"data row0 col0\" >354.00</td>\n",
       "                        <td id=\"T_fd8d1f0c_58be_11ea_954f_edae4404b4c2row0_col1\" class=\"data row0 col1\" >354.00</td>\n",
       "                        <td id=\"T_fd8d1f0c_58be_11ea_954f_edae4404b4c2row0_col2\" class=\"data row0 col2\" >354.00</td>\n",
       "                        <td id=\"T_fd8d1f0c_58be_11ea_954f_edae4404b4c2row0_col3\" class=\"data row0 col3\" >354.00</td>\n",
       "                        <td id=\"T_fd8d1f0c_58be_11ea_954f_edae4404b4c2row0_col4\" class=\"data row0 col4\" >354.00</td>\n",
       "                        <td id=\"T_fd8d1f0c_58be_11ea_954f_edae4404b4c2row0_col5\" class=\"data row0 col5\" >354.00</td>\n",
       "                        <td id=\"T_fd8d1f0c_58be_11ea_954f_edae4404b4c2row0_col6\" class=\"data row0 col6\" >354.00</td>\n",
       "                        <td id=\"T_fd8d1f0c_58be_11ea_954f_edae4404b4c2row0_col7\" class=\"data row0 col7\" >354.00</td>\n",
       "                        <td id=\"T_fd8d1f0c_58be_11ea_954f_edae4404b4c2row0_col8\" class=\"data row0 col8\" >354.00</td>\n",
       "                        <td id=\"T_fd8d1f0c_58be_11ea_954f_edae4404b4c2row0_col9\" class=\"data row0 col9\" >354.00</td>\n",
       "                        <td id=\"T_fd8d1f0c_58be_11ea_954f_edae4404b4c2row0_col10\" class=\"data row0 col10\" >354.00</td>\n",
       "                        <td id=\"T_fd8d1f0c_58be_11ea_954f_edae4404b4c2row0_col11\" class=\"data row0 col11\" >354.00</td>\n",
       "                        <td id=\"T_fd8d1f0c_58be_11ea_954f_edae4404b4c2row0_col12\" class=\"data row0 col12\" >354.00</td>\n",
       "            </tr>\n",
       "            <tr>\n",
       "                        <th id=\"T_fd8d1f0c_58be_11ea_954f_edae4404b4c2level0_row1\" class=\"row_heading level0 row1\" >mean</th>\n",
       "                        <td id=\"T_fd8d1f0c_58be_11ea_954f_edae4404b4c2row1_col0\" class=\"data row1 col0\" >-0.00</td>\n",
       "                        <td id=\"T_fd8d1f0c_58be_11ea_954f_edae4404b4c2row1_col1\" class=\"data row1 col1\" >-0.00</td>\n",
       "                        <td id=\"T_fd8d1f0c_58be_11ea_954f_edae4404b4c2row1_col2\" class=\"data row1 col2\" >0.00</td>\n",
       "                        <td id=\"T_fd8d1f0c_58be_11ea_954f_edae4404b4c2row1_col3\" class=\"data row1 col3\" >-0.00</td>\n",
       "                        <td id=\"T_fd8d1f0c_58be_11ea_954f_edae4404b4c2row1_col4\" class=\"data row1 col4\" >-0.00</td>\n",
       "                        <td id=\"T_fd8d1f0c_58be_11ea_954f_edae4404b4c2row1_col5\" class=\"data row1 col5\" >-0.00</td>\n",
       "                        <td id=\"T_fd8d1f0c_58be_11ea_954f_edae4404b4c2row1_col6\" class=\"data row1 col6\" >0.00</td>\n",
       "                        <td id=\"T_fd8d1f0c_58be_11ea_954f_edae4404b4c2row1_col7\" class=\"data row1 col7\" >0.00</td>\n",
       "                        <td id=\"T_fd8d1f0c_58be_11ea_954f_edae4404b4c2row1_col8\" class=\"data row1 col8\" >0.00</td>\n",
       "                        <td id=\"T_fd8d1f0c_58be_11ea_954f_edae4404b4c2row1_col9\" class=\"data row1 col9\" >0.00</td>\n",
       "                        <td id=\"T_fd8d1f0c_58be_11ea_954f_edae4404b4c2row1_col10\" class=\"data row1 col10\" >0.00</td>\n",
       "                        <td id=\"T_fd8d1f0c_58be_11ea_954f_edae4404b4c2row1_col11\" class=\"data row1 col11\" >0.00</td>\n",
       "                        <td id=\"T_fd8d1f0c_58be_11ea_954f_edae4404b4c2row1_col12\" class=\"data row1 col12\" >0.00</td>\n",
       "            </tr>\n",
       "            <tr>\n",
       "                        <th id=\"T_fd8d1f0c_58be_11ea_954f_edae4404b4c2level0_row2\" class=\"row_heading level0 row2\" >std</th>\n",
       "                        <td id=\"T_fd8d1f0c_58be_11ea_954f_edae4404b4c2row2_col0\" class=\"data row2 col0\" >1.00</td>\n",
       "                        <td id=\"T_fd8d1f0c_58be_11ea_954f_edae4404b4c2row2_col1\" class=\"data row2 col1\" >1.00</td>\n",
       "                        <td id=\"T_fd8d1f0c_58be_11ea_954f_edae4404b4c2row2_col2\" class=\"data row2 col2\" >1.00</td>\n",
       "                        <td id=\"T_fd8d1f0c_58be_11ea_954f_edae4404b4c2row2_col3\" class=\"data row2 col3\" >1.00</td>\n",
       "                        <td id=\"T_fd8d1f0c_58be_11ea_954f_edae4404b4c2row2_col4\" class=\"data row2 col4\" >1.00</td>\n",
       "                        <td id=\"T_fd8d1f0c_58be_11ea_954f_edae4404b4c2row2_col5\" class=\"data row2 col5\" >1.00</td>\n",
       "                        <td id=\"T_fd8d1f0c_58be_11ea_954f_edae4404b4c2row2_col6\" class=\"data row2 col6\" >1.00</td>\n",
       "                        <td id=\"T_fd8d1f0c_58be_11ea_954f_edae4404b4c2row2_col7\" class=\"data row2 col7\" >1.00</td>\n",
       "                        <td id=\"T_fd8d1f0c_58be_11ea_954f_edae4404b4c2row2_col8\" class=\"data row2 col8\" >1.00</td>\n",
       "                        <td id=\"T_fd8d1f0c_58be_11ea_954f_edae4404b4c2row2_col9\" class=\"data row2 col9\" >1.00</td>\n",
       "                        <td id=\"T_fd8d1f0c_58be_11ea_954f_edae4404b4c2row2_col10\" class=\"data row2 col10\" >1.00</td>\n",
       "                        <td id=\"T_fd8d1f0c_58be_11ea_954f_edae4404b4c2row2_col11\" class=\"data row2 col11\" >1.00</td>\n",
       "                        <td id=\"T_fd8d1f0c_58be_11ea_954f_edae4404b4c2row2_col12\" class=\"data row2 col12\" >1.00</td>\n",
       "            </tr>\n",
       "            <tr>\n",
       "                        <th id=\"T_fd8d1f0c_58be_11ea_954f_edae4404b4c2level0_row3\" class=\"row_heading level0 row3\" >min</th>\n",
       "                        <td id=\"T_fd8d1f0c_58be_11ea_954f_edae4404b4c2row3_col0\" class=\"data row3 col0\" >-0.38</td>\n",
       "                        <td id=\"T_fd8d1f0c_58be_11ea_954f_edae4404b4c2row3_col1\" class=\"data row3 col1\" >-0.51</td>\n",
       "                        <td id=\"T_fd8d1f0c_58be_11ea_954f_edae4404b4c2row3_col2\" class=\"data row3 col2\" >-1.53</td>\n",
       "                        <td id=\"T_fd8d1f0c_58be_11ea_954f_edae4404b4c2row3_col3\" class=\"data row3 col3\" >-0.29</td>\n",
       "                        <td id=\"T_fd8d1f0c_58be_11ea_954f_edae4404b4c2row3_col4\" class=\"data row3 col4\" >-1.45</td>\n",
       "                        <td id=\"T_fd8d1f0c_58be_11ea_954f_edae4404b4c2row3_col5\" class=\"data row3 col5\" >-3.48</td>\n",
       "                        <td id=\"T_fd8d1f0c_58be_11ea_954f_edae4404b4c2row3_col6\" class=\"data row3 col6\" >-2.31</td>\n",
       "                        <td id=\"T_fd8d1f0c_58be_11ea_954f_edae4404b4c2row3_col7\" class=\"data row3 col7\" >-1.30</td>\n",
       "                        <td id=\"T_fd8d1f0c_58be_11ea_954f_edae4404b4c2row3_col8\" class=\"data row3 col8\" >-0.96</td>\n",
       "                        <td id=\"T_fd8d1f0c_58be_11ea_954f_edae4404b4c2row3_col9\" class=\"data row3 col9\" >-1.27</td>\n",
       "                        <td id=\"T_fd8d1f0c_58be_11ea_954f_edae4404b4c2row3_col10\" class=\"data row3 col10\" >-2.69</td>\n",
       "                        <td id=\"T_fd8d1f0c_58be_11ea_954f_edae4404b4c2row3_col11\" class=\"data row3 col11\" >-4.15</td>\n",
       "                        <td id=\"T_fd8d1f0c_58be_11ea_954f_edae4404b4c2row3_col12\" class=\"data row3 col12\" >-1.49</td>\n",
       "            </tr>\n",
       "            <tr>\n",
       "                        <th id=\"T_fd8d1f0c_58be_11ea_954f_edae4404b4c2level0_row4\" class=\"row_heading level0 row4\" >25%</th>\n",
       "                        <td id=\"T_fd8d1f0c_58be_11ea_954f_edae4404b4c2row4_col0\" class=\"data row4 col0\" >-0.38</td>\n",
       "                        <td id=\"T_fd8d1f0c_58be_11ea_954f_edae4404b4c2row4_col1\" class=\"data row4 col1\" >-0.51</td>\n",
       "                        <td id=\"T_fd8d1f0c_58be_11ea_954f_edae4404b4c2row4_col2\" class=\"data row4 col2\" >-0.84</td>\n",
       "                        <td id=\"T_fd8d1f0c_58be_11ea_954f_edae4404b4c2row4_col3\" class=\"data row4 col3\" >-0.29</td>\n",
       "                        <td id=\"T_fd8d1f0c_58be_11ea_954f_edae4404b4c2row4_col4\" class=\"data row4 col4\" >-0.89</td>\n",
       "                        <td id=\"T_fd8d1f0c_58be_11ea_954f_edae4404b4c2row4_col5\" class=\"data row4 col5\" >-0.58</td>\n",
       "                        <td id=\"T_fd8d1f0c_58be_11ea_954f_edae4404b4c2row4_col6\" class=\"data row4 col6\" >-0.81</td>\n",
       "                        <td id=\"T_fd8d1f0c_58be_11ea_954f_edae4404b4c2row4_col7\" class=\"data row4 col7\" >-0.83</td>\n",
       "                        <td id=\"T_fd8d1f0c_58be_11ea_954f_edae4404b4c2row4_col8\" class=\"data row4 col8\" >-0.61</td>\n",
       "                        <td id=\"T_fd8d1f0c_58be_11ea_954f_edae4404b4c2row4_col9\" class=\"data row4 col9\" >-0.73</td>\n",
       "                        <td id=\"T_fd8d1f0c_58be_11ea_954f_edae4404b4c2row4_col10\" class=\"data row4 col10\" >-0.66</td>\n",
       "                        <td id=\"T_fd8d1f0c_58be_11ea_954f_edae4404b4c2row4_col11\" class=\"data row4 col11\" >0.19</td>\n",
       "                        <td id=\"T_fd8d1f0c_58be_11ea_954f_edae4404b4c2row4_col12\" class=\"data row4 col12\" >-0.77</td>\n",
       "            </tr>\n",
       "            <tr>\n",
       "                        <th id=\"T_fd8d1f0c_58be_11ea_954f_edae4404b4c2level0_row5\" class=\"row_heading level0 row5\" >50%</th>\n",
       "                        <td id=\"T_fd8d1f0c_58be_11ea_954f_edae4404b4c2row5_col0\" class=\"data row5 col0\" >-0.36</td>\n",
       "                        <td id=\"T_fd8d1f0c_58be_11ea_954f_edae4404b4c2row5_col1\" class=\"data row5 col1\" >-0.51</td>\n",
       "                        <td id=\"T_fd8d1f0c_58be_11ea_954f_edae4404b4c2row5_col2\" class=\"data row5 col2\" >-0.34</td>\n",
       "                        <td id=\"T_fd8d1f0c_58be_11ea_954f_edae4404b4c2row5_col3\" class=\"data row5 col3\" >-0.29</td>\n",
       "                        <td id=\"T_fd8d1f0c_58be_11ea_954f_edae4404b4c2row5_col4\" class=\"data row5 col4\" >-0.14</td>\n",
       "                        <td id=\"T_fd8d1f0c_58be_11ea_954f_edae4404b4c2row5_col5\" class=\"data row5 col5\" >-0.17</td>\n",
       "                        <td id=\"T_fd8d1f0c_58be_11ea_954f_edae4404b4c2row5_col6\" class=\"data row5 col6\" >0.31</td>\n",
       "                        <td id=\"T_fd8d1f0c_58be_11ea_954f_edae4404b4c2row5_col7\" class=\"data row5 col7\" >-0.23</td>\n",
       "                        <td id=\"T_fd8d1f0c_58be_11ea_954f_edae4404b4c2row5_col8\" class=\"data row5 col8\" >-0.49</td>\n",
       "                        <td id=\"T_fd8d1f0c_58be_11ea_954f_edae4404b4c2row5_col9\" class=\"data row5 col9\" >-0.53</td>\n",
       "                        <td id=\"T_fd8d1f0c_58be_11ea_954f_edae4404b4c2row5_col10\" class=\"data row5 col10\" >0.12</td>\n",
       "                        <td id=\"T_fd8d1f0c_58be_11ea_954f_edae4404b4c2row5_col11\" class=\"data row5 col11\" >0.37</td>\n",
       "                        <td id=\"T_fd8d1f0c_58be_11ea_954f_edae4404b4c2row5_col12\" class=\"data row5 col12\" >-0.21</td>\n",
       "            </tr>\n",
       "            <tr>\n",
       "                        <th id=\"T_fd8d1f0c_58be_11ea_954f_edae4404b4c2level0_row6\" class=\"row_heading level0 row6\" >75%</th>\n",
       "                        <td id=\"T_fd8d1f0c_58be_11ea_954f_edae4404b4c2row6_col0\" class=\"data row6 col0\" >-0.09</td>\n",
       "                        <td id=\"T_fd8d1f0c_58be_11ea_954f_edae4404b4c2row6_col1\" class=\"data row6 col1\" >0.32</td>\n",
       "                        <td id=\"T_fd8d1f0c_58be_11ea_954f_edae4404b4c2row6_col2\" class=\"data row6 col2\" >1.07</td>\n",
       "                        <td id=\"T_fd8d1f0c_58be_11ea_954f_edae4404b4c2row6_col3\" class=\"data row6 col3\" >-0.29</td>\n",
       "                        <td id=\"T_fd8d1f0c_58be_11ea_954f_edae4404b4c2row6_col4\" class=\"data row6 col4\" >0.65</td>\n",
       "                        <td id=\"T_fd8d1f0c_58be_11ea_954f_edae4404b4c2row6_col5\" class=\"data row6 col5\" >0.48</td>\n",
       "                        <td id=\"T_fd8d1f0c_58be_11ea_954f_edae4404b4c2row6_col6\" class=\"data row6 col6\" >0.91</td>\n",
       "                        <td id=\"T_fd8d1f0c_58be_11ea_954f_edae4404b4c2row6_col7\" class=\"data row6 col7\" >0.65</td>\n",
       "                        <td id=\"T_fd8d1f0c_58be_11ea_954f_edae4404b4c2row6_col8\" class=\"data row6 col8\" >-0.14</td>\n",
       "                        <td id=\"T_fd8d1f0c_58be_11ea_954f_edae4404b4c2row6_col9\" class=\"data row6 col9\" >1.31</td>\n",
       "                        <td id=\"T_fd8d1f0c_58be_11ea_954f_edae4404b4c2row6_col10\" class=\"data row6 col10\" >0.81</td>\n",
       "                        <td id=\"T_fd8d1f0c_58be_11ea_954f_edae4404b4c2row6_col11\" class=\"data row6 col11\" >0.41</td>\n",
       "                        <td id=\"T_fd8d1f0c_58be_11ea_954f_edae4404b4c2row6_col12\" class=\"data row6 col12\" >0.61</td>\n",
       "            </tr>\n",
       "            <tr>\n",
       "                        <th id=\"T_fd8d1f0c_58be_11ea_954f_edae4404b4c2level0_row7\" class=\"row_heading level0 row7\" >max</th>\n",
       "                        <td id=\"T_fd8d1f0c_58be_11ea_954f_edae4404b4c2row7_col0\" class=\"data row7 col0\" >9.10</td>\n",
       "                        <td id=\"T_fd8d1f0c_58be_11ea_954f_edae4404b4c2row7_col1\" class=\"data row7 col1\" >3.64</td>\n",
       "                        <td id=\"T_fd8d1f0c_58be_11ea_954f_edae4404b4c2row7_col2\" class=\"data row7 col2\" >2.49</td>\n",
       "                        <td id=\"T_fd8d1f0c_58be_11ea_954f_edae4404b4c2row7_col3\" class=\"data row7 col3\" >3.41</td>\n",
       "                        <td id=\"T_fd8d1f0c_58be_11ea_954f_edae4404b4c2row7_col4\" class=\"data row7 col4\" >2.87</td>\n",
       "                        <td id=\"T_fd8d1f0c_58be_11ea_954f_edae4404b4c2row7_col5\" class=\"data row7 col5\" >3.57</td>\n",
       "                        <td id=\"T_fd8d1f0c_58be_11ea_954f_edae4404b4c2row7_col6\" class=\"data row7 col6\" >1.14</td>\n",
       "                        <td id=\"T_fd8d1f0c_58be_11ea_954f_edae4404b4c2row7_col7\" class=\"data row7 col7\" >3.85</td>\n",
       "                        <td id=\"T_fd8d1f0c_58be_11ea_954f_edae4404b4c2row7_col8\" class=\"data row7 col8\" >1.74</td>\n",
       "                        <td id=\"T_fd8d1f0c_58be_11ea_954f_edae4404b4c2row7_col9\" class=\"data row7 col9\" >1.88</td>\n",
       "                        <td id=\"T_fd8d1f0c_58be_11ea_954f_edae4404b4c2row7_col10\" class=\"data row7 col10\" >1.64</td>\n",
       "                        <td id=\"T_fd8d1f0c_58be_11ea_954f_edae4404b4c2row7_col11\" class=\"data row7 col11\" >0.42</td>\n",
       "                        <td id=\"T_fd8d1f0c_58be_11ea_954f_edae4404b4c2row7_col12\" class=\"data row7 col12\" >3.38</td>\n",
       "            </tr>\n",
       "    </tbody></table>"
      ],
      "text/plain": [
       "<pandas.io.formats.style.Styler at 0x7f244d9dd150>"
      ]
     },
     "metadata": {},
     "output_type": "display_data"
    }
   ],
   "source": [
    "display(x_train.describe().style.format(\"{0:.2f}\").set_caption(\"Before normalization :\"))\n",
    "\n",
    "mean = x_train.mean()\n",
    "std  = x_train.std()\n",
    "x_train = (x_train - mean) / std\n",
    "x_test  = (x_test  - mean) / std\n",
    "\n",
    "display(x_train.describe().style.format(\"{0:.2f}\").set_caption(\"After normalization :\"))\n",
    "\n",
    "x_train, y_train = np.array(x_train), np.array(y_train)\n",
    "x_test,  y_test  = np.array(x_test),  np.array(y_test)\n"
   ]
  },
  {
   "cell_type": "markdown",
   "metadata": {},
   "source": [
    "## Step 4 - Build a model\n",
    "More informations about : \n",
    " - [Optimizer](https://www.tensorflow.org/api_docs/python/tf/keras/optimizers)\n",
    " - [Activation](https://www.tensorflow.org/api_docs/python/tf/keras/activations)\n",
    " - [Loss](https://www.tensorflow.org/api_docs/python/tf/keras/losses)\n",
    " - [Metrics](https://www.tensorflow.org/api_docs/python/tf/keras/metrics)"
   ]
  },
  {
   "cell_type": "code",
   "execution_count": 5,
   "metadata": {},
   "outputs": [],
   "source": [
    "  def get_model_v1(shape):\n",
    "    \n",
    "    model = keras.models.Sequential()\n",
    "    model.add(keras.layers.Input(shape, name=\"InputLayer\"))\n",
    "    model.add(keras.layers.Dense(64, activation='relu', name='Dense_n1'))\n",
    "    model.add(keras.layers.Dense(64, activation='relu', name='Dense_n2'))\n",
    "    model.add(keras.layers.Dense(1, name='Output'))\n",
    "    \n",
    "    model.compile(optimizer = 'rmsprop',\n",
    "                  loss      = 'mse',\n",
    "                  metrics   = ['mae', 'mse'] )\n",
    "    return model"
   ]
  },
  {
   "cell_type": "markdown",
   "metadata": {},
   "source": [
    "## 5 - Train the model\n",
    "### 5.1 - Get it"
   ]
  },
  {
   "cell_type": "code",
   "execution_count": 6,
   "metadata": {},
   "outputs": [
    {
     "name": "stdout",
     "output_type": "stream",
     "text": [
      "Model: \"sequential\"\n",
      "_________________________________________________________________\n",
      "Layer (type)                 Output Shape              Param #   \n",
      "=================================================================\n",
      "Dense_n1 (Dense)             (None, 64)                896       \n",
      "_________________________________________________________________\n",
      "Dense_n2 (Dense)             (None, 64)                4160      \n",
      "_________________________________________________________________\n",
      "Output (Dense)               (None, 1)                 65        \n",
      "=================================================================\n",
      "Total params: 5,121\n",
      "Trainable params: 5,121\n",
      "Non-trainable params: 0\n",
      "_________________________________________________________________\n"
     ]
    },
    {
     "data": {
      "image/png": "[encoded data removed]",
      "text/plain": [
       "<IPython.core.display.Image object>"
      ]
     },
     "execution_count": 6,
     "metadata": {},
     "output_type": "execute_result"
    }
   ],
   "source": [
    "model=get_model_v1( (13,) )\n",
    "\n",
    "model.summary()\n",
    "keras.utils.plot_model( model, to_file='./run/model.png', show_shapes=True, show_layer_names=True, dpi=96)"
   ]
  },
  {
   "cell_type": "markdown",
   "metadata": {},
   "source": [
    "### 5.2 - Add callback"
   ]
  },
  {
   "cell_type": "code",
   "execution_count": 7,
   "metadata": {},
   "outputs": [],
   "source": [
    "os.makedirs('./run/models',   mode=0o750, exist_ok=True)\n",
    "save_dir = \"./run/models/best_model.h5\"\n",
    "\n",
    "savemodel_callback = tf.keras.callbacks.ModelCheckpoint(filepath=save_dir, verbose=0, save_best_only=True)"
   ]
  },
  {
   "cell_type": "markdown",
   "metadata": {},
   "source": [
    "### 5.3 - Train it"
   ]
  },
  {
   "cell_type": "code",
   "execution_count": 8,
   "metadata": {},
   "outputs": [
    {
     "name": "stdout",
     "output_type": "stream",
     "text": [
      "Train on 354 samples, validate on 152 samples\n",
      "Epoch 1/100\n",
      "354/354 [==============================] - 1s 2ms/sample - loss: 492.8138 - mae: 20.3339 - mse: 492.8138 - val_loss: 407.4318 - val_mae: 18.0155 - val_mse: 407.4319\n",
      "Epoch 2/100\n",
      "354/354 [==============================] - 0s 227us/sample - loss: 270.9110 - mae: 14.4363 - mse: 270.9110 - val_loss: 174.6818 - val_mae: 10.7105 - val_mse: 174.6818\n",
      "Epoch 3/100\n",
      "354/354 [==============================] - 0s 228us/sample - loss: 92.9392 - mae: 7.6230 - mse: 92.9392 - val_loss: 65.1059 - val_mae: 6.0160 - val_mse: 65.1059\n",
      "Epoch 4/100\n",
      "354/354 [==============================] - 0s 217us/sample - loss: 39.6349 - mae: 4.7199 - mse: 39.6349 - val_loss: 39.0192 - val_mae: 4.4194 - val_mse: 39.0192\n",
      "Epoch 5/100\n",
      "354/354 [==============================] - 0s 210us/sample - loss: 25.7522 - mae: 3.6619 - mse: 25.7521 - val_loss: 31.3153 - val_mae: 3.8863 - val_mse: 31.3153\n",
      "Epoch 6/100\n",
      "354/354 [==============================] - 0s 221us/sample - loss: 20.5144 - mae: 3.2484 - mse: 20.5144 - val_loss: 28.4388 - val_mae: 3.6434 - val_mse: 28.4388\n",
      "Epoch 7/100\n",
      "354/354 [==============================] - 0s 227us/sample - loss: 18.2619 - mae: 3.0625 - mse: 18.2619 - val_loss: 25.6375 - val_mae: 3.5123 - val_mse: 25.6375\n",
      "Epoch 8/100\n",
      "354/354 [==============================] - 0s 213us/sample - loss: 16.4484 - mae: 2.8664 - mse: 16.4484 - val_loss: 23.8719 - val_mae: 3.3062 - val_mse: 23.8719\n",
      "Epoch 9/100\n",
      "354/354 [==============================] - 0s 217us/sample - loss: 14.8711 - mae: 2.7510 - mse: 14.8711 - val_loss: 22.3218 - val_mae: 3.2885 - val_mse: 22.3218\n",
      "Epoch 10/100\n",
      "354/354 [==============================] - 0s 169us/sample - loss: 13.9053 - mae: 2.6427 - mse: 13.9053 - val_loss: 22.6876 - val_mae: 3.1905 - val_mse: 22.6876\n",
      "Epoch 11/100\n",
      "354/354 [==============================] - 0s 212us/sample - loss: 13.2405 - mae: 2.5373 - mse: 13.2405 - val_loss: 21.4726 - val_mae: 3.1210 - val_mse: 21.4726\n",
      "Epoch 12/100\n",
      "354/354 [==============================] - 0s 212us/sample - loss: 12.4025 - mae: 2.4540 - mse: 12.4025 - val_loss: 20.1153 - val_mae: 3.1025 - val_mse: 20.1153\n",
      "Epoch 13/100\n",
      "354/354 [==============================] - 0s 161us/sample - loss: 12.1724 - mae: 2.4405 - mse: 12.1724 - val_loss: 20.2576 - val_mae: 3.1057 - val_mse: 20.2576\n",
      "Epoch 14/100\n",
      "354/354 [==============================] - 0s 216us/sample - loss: 11.7212 - mae: 2.3730 - mse: 11.7212 - val_loss: 19.8864 - val_mae: 3.0552 - val_mse: 19.8864\n",
      "Epoch 15/100\n",
      "354/354 [==============================] - 0s 210us/sample - loss: 11.3366 - mae: 2.3673 - mse: 11.3366 - val_loss: 19.0607 - val_mae: 2.9963 - val_mse: 19.0607\n",
      "Epoch 16/100\n",
      "354/354 [==============================] - 0s 221us/sample - loss: 10.8612 - mae: 2.2981 - mse: 10.8612 - val_loss: 18.8568 - val_mae: 2.9460 - val_mse: 18.8568\n",
      "Epoch 17/100\n",
      "354/354 [==============================] - 0s 219us/sample - loss: 10.6142 - mae: 2.2892 - mse: 10.6142 - val_loss: 18.7533 - val_mae: 2.9133 - val_mse: 18.7533\n",
      "Epoch 18/100\n",
      "354/354 [==============================] - 0s 213us/sample - loss: 10.5073 - mae: 2.2551 - mse: 10.5073 - val_loss: 18.3180 - val_mae: 2.9078 - val_mse: 18.3180\n",
      "Epoch 19/100\n",
      "354/354 [==============================] - 0s 167us/sample - loss: 10.4158 - mae: 2.2372 - mse: 10.4158 - val_loss: 18.8145 - val_mae: 2.9186 - val_mse: 18.8145\n",
      "Epoch 20/100\n",
      "354/354 [==============================] - 0s 173us/sample - loss: 9.8233 - mae: 2.1800 - mse: 9.8233 - val_loss: 18.7075 - val_mae: 3.0457 - val_mse: 18.7075\n",
      "Epoch 21/100\n",
      "354/354 [==============================] - 0s 169us/sample - loss: 9.7787 - mae: 2.2096 - mse: 9.7787 - val_loss: 18.5517 - val_mae: 2.8966 - val_mse: 18.5517\n",
      "Epoch 22/100\n",
      "354/354 [==============================] - 0s 223us/sample - loss: 9.5516 - mae: 2.1806 - mse: 9.5516 - val_loss: 17.0947 - val_mae: 2.8382 - val_mse: 17.0947\n",
      "Epoch 23/100\n",
      "354/354 [==============================] - 0s 157us/sample - loss: 9.3722 - mae: 2.1813 - mse: 9.3722 - val_loss: 17.3946 - val_mae: 2.8243 - val_mse: 17.3946\n",
      "Epoch 24/100\n",
      "354/354 [==============================] - 0s 167us/sample - loss: 9.2101 - mae: 2.1159 - mse: 9.2101 - val_loss: 17.5853 - val_mae: 2.7938 - val_mse: 17.5853\n",
      "Epoch 25/100\n",
      "354/354 [==============================] - 0s 208us/sample - loss: 8.9463 - mae: 2.0970 - mse: 8.9463 - val_loss: 16.6825 - val_mae: 2.8262 - val_mse: 16.6825\n",
      "Epoch 26/100\n",
      "354/354 [==============================] - 0s 161us/sample - loss: 9.1902 - mae: 2.1226 - mse: 9.1902 - val_loss: 17.2559 - val_mae: 2.7986 - val_mse: 17.2559\n",
      "Epoch 27/100\n",
      "354/354 [==============================] - 0s 164us/sample - loss: 8.6915 - mae: 2.0817 - mse: 8.6915 - val_loss: 17.2847 - val_mae: 2.7818 - val_mse: 17.2847\n",
      "Epoch 28/100\n",
      "354/354 [==============================] - 0s 169us/sample - loss: 8.6410 - mae: 2.0553 - mse: 8.6410 - val_loss: 16.9470 - val_mae: 2.9064 - val_mse: 16.9470\n",
      "Epoch 29/100\n",
      "354/354 [==============================] - 0s 213us/sample - loss: 8.5536 - mae: 2.0797 - mse: 8.5536 - val_loss: 16.6180 - val_mae: 2.8684 - val_mse: 16.6180\n",
      "Epoch 30/100\n",
      "354/354 [==============================] - 0s 209us/sample - loss: 8.4240 - mae: 2.0782 - mse: 8.4240 - val_loss: 16.1003 - val_mae: 2.8414 - val_mse: 16.1003\n",
      "Epoch 31/100\n",
      "354/354 [==============================] - 0s 172us/sample - loss: 8.2710 - mae: 2.0562 - mse: 8.2710 - val_loss: 16.3428 - val_mae: 2.7119 - val_mse: 16.3428\n",
      "Epoch 32/100\n",
      "354/354 [==============================] - 0s 171us/sample - loss: 8.1119 - mae: 2.0277 - mse: 8.1119 - val_loss: 16.3815 - val_mae: 2.7865 - val_mse: 16.3815\n",
      "Epoch 33/100\n",
      "354/354 [==============================] - 0s 166us/sample - loss: 8.1918 - mae: 2.0308 - mse: 8.1918 - val_loss: 16.2353 - val_mae: 2.7153 - val_mse: 16.2353\n",
      "Epoch 34/100\n",
      "354/354 [==============================] - 0s 218us/sample - loss: 7.9849 - mae: 1.9902 - mse: 7.9849 - val_loss: 15.7380 - val_mae: 2.6690 - val_mse: 15.7380\n",
      "Epoch 35/100\n",
      "354/354 [==============================] - 0s 159us/sample - loss: 7.9413 - mae: 2.0112 - mse: 7.9413 - val_loss: 16.1214 - val_mae: 2.6838 - val_mse: 16.1214\n",
      "Epoch 36/100\n",
      "354/354 [==============================] - 0s 168us/sample - loss: 7.8063 - mae: 1.9897 - mse: 7.8063 - val_loss: 16.3512 - val_mae: 2.6823 - val_mse: 16.3512\n",
      "Epoch 37/100\n",
      "354/354 [==============================] - 0s 169us/sample - loss: 7.7355 - mae: 1.9812 - mse: 7.7355 - val_loss: 16.4847 - val_mae: 2.7186 - val_mse: 16.4847\n",
      "Epoch 38/100\n",
      "354/354 [==============================] - 0s 217us/sample - loss: 7.6815 - mae: 1.9707 - mse: 7.6815 - val_loss: 15.5910 - val_mae: 2.7221 - val_mse: 15.5910\n",
      "Epoch 39/100\n",
      "354/354 [==============================] - 0s 165us/sample - loss: 7.4555 - mae: 1.9477 - mse: 7.4555 - val_loss: 15.7338 - val_mae: 2.7056 - val_mse: 15.7338\n",
      "Epoch 40/100\n",
      "354/354 [==============================] - 0s 216us/sample - loss: 7.5960 - mae: 1.9470 - mse: 7.5960 - val_loss: 15.4743 - val_mae: 2.6696 - val_mse: 15.4743\n",
      "Epoch 41/100\n",
      "354/354 [==============================] - 0s 220us/sample - loss: 6.9951 - mae: 1.9196 - mse: 6.9951 - val_loss: 15.3223 - val_mae: 2.6842 - val_mse: 15.3223\n",
      "Epoch 42/100\n",
      "354/354 [==============================] - 0s 164us/sample - loss: 7.1013 - mae: 1.9189 - mse: 7.1013 - val_loss: 15.5466 - val_mae: 2.7655 - val_mse: 15.5466\n",
      "Epoch 43/100\n",
      "354/354 [==============================] - 0s 173us/sample - loss: 7.0727 - mae: 1.9444 - mse: 7.0727 - val_loss: 16.9088 - val_mae: 2.7190 - val_mse: 16.9088\n",
      "Epoch 44/100\n",
      "354/354 [==============================] - 0s 220us/sample - loss: 7.1573 - mae: 1.9191 - mse: 7.1573 - val_loss: 15.1798 - val_mae: 2.6062 - val_mse: 15.1798\n",
      "Epoch 45/100\n",
      "354/354 [==============================] - 0s 165us/sample - loss: 7.0358 - mae: 1.8749 - mse: 7.0358 - val_loss: 15.3766 - val_mae: 2.7889 - val_mse: 15.3766\n",
      "Epoch 46/100\n",
      "354/354 [==============================] - 0s 210us/sample - loss: 6.9060 - mae: 1.9052 - mse: 6.9060 - val_loss: 15.0909 - val_mae: 2.5988 - val_mse: 15.0909\n",
      "Epoch 47/100\n",
      "354/354 [==============================] - 0s 167us/sample - loss: 6.8635 - mae: 1.9062 - mse: 6.8635 - val_loss: 15.5013 - val_mae: 2.8070 - val_mse: 15.5013\n",
      "Epoch 48/100\n",
      "354/354 [==============================] - 0s 159us/sample - loss: 6.7794 - mae: 1.9122 - mse: 6.7794 - val_loss: 16.2729 - val_mae: 2.7203 - val_mse: 16.2729\n",
      "Epoch 49/100\n",
      "354/354 [==============================] - 0s 159us/sample - loss: 6.3733 - mae: 1.8263 - mse: 6.3733 - val_loss: 15.6572 - val_mae: 2.8380 - val_mse: 15.6572\n",
      "Epoch 50/100\n",
      "354/354 [==============================] - 0s 171us/sample - loss: 6.6483 - mae: 1.8630 - mse: 6.6483 - val_loss: 15.1825 - val_mae: 2.6010 - val_mse: 15.1825\n",
      "Epoch 51/100\n",
      "354/354 [==============================] - 0s 180us/sample - loss: 6.4573 - mae: 1.8512 - mse: 6.4573 - val_loss: 15.6393 - val_mae: 2.6149 - val_mse: 15.6393\n",
      "Epoch 52/100\n",
      "354/354 [==============================] - 0s 211us/sample - loss: 6.3801 - mae: 1.8381 - mse: 6.3801 - val_loss: 14.8845 - val_mae: 2.5834 - val_mse: 14.8845\n",
      "Epoch 53/100\n",
      "354/354 [==============================] - 0s 179us/sample - loss: 6.3297 - mae: 1.8233 - mse: 6.3297 - val_loss: 15.6113 - val_mae: 2.7212 - val_mse: 15.6113\n",
      "Epoch 54/100\n",
      "354/354 [==============================] - 0s 169us/sample - loss: 6.2057 - mae: 1.7945 - mse: 6.2057 - val_loss: 15.7076 - val_mae: 2.6109 - val_mse: 15.7076\n",
      "Epoch 55/100\n",
      "354/354 [==============================] - 0s 215us/sample - loss: 6.2918 - mae: 1.8183 - mse: 6.2918 - val_loss: 14.6338 - val_mae: 2.6111 - val_mse: 14.6338\n",
      "Epoch 56/100\n",
      "354/354 [==============================] - 0s 164us/sample - loss: 6.0562 - mae: 1.7805 - mse: 6.0562 - val_loss: 14.7823 - val_mae: 2.6265 - val_mse: 14.7823\n",
      "Epoch 57/100\n",
      "354/354 [==============================] - 0s 166us/sample - loss: 6.1291 - mae: 1.8176 - mse: 6.1291 - val_loss: 15.0973 - val_mae: 2.6218 - val_mse: 15.0973\n",
      "Epoch 58/100\n",
      "354/354 [==============================] - 0s 171us/sample - loss: 5.7409 - mae: 1.7755 - mse: 5.7409 - val_loss: 15.9924 - val_mae: 2.7079 - val_mse: 15.9924\n",
      "Epoch 59/100\n",
      "354/354 [==============================] - 0s 167us/sample - loss: 6.0236 - mae: 1.7585 - mse: 6.0236 - val_loss: 14.6860 - val_mae: 2.5744 - val_mse: 14.6860\n",
      "Epoch 60/100\n",
      "354/354 [==============================] - 0s 169us/sample - loss: 5.9595 - mae: 1.7907 - mse: 5.9595 - val_loss: 15.0726 - val_mae: 2.6175 - val_mse: 15.0726\n",
      "Epoch 61/100\n",
      "354/354 [==============================] - 0s 216us/sample - loss: 5.7280 - mae: 1.7589 - mse: 5.7280 - val_loss: 14.4822 - val_mae: 2.5480 - val_mse: 14.4822\n",
      "Epoch 62/100\n",
      "354/354 [==============================] - 0s 163us/sample - loss: 5.7664 - mae: 1.7767 - mse: 5.7664 - val_loss: 14.6256 - val_mae: 2.5334 - val_mse: 14.6256\n",
      "Epoch 63/100\n",
      "354/354 [==============================] - 0s 162us/sample - loss: 5.5867 - mae: 1.7646 - mse: 5.5867 - val_loss: 16.3896 - val_mae: 2.6416 - val_mse: 16.3896\n",
      "Epoch 64/100\n",
      "354/354 [==============================] - 0s 210us/sample - loss: 5.6291 - mae: 1.7258 - mse: 5.6291 - val_loss: 14.2331 - val_mae: 2.4908 - val_mse: 14.2331\n",
      "Epoch 65/100\n",
      "354/354 [==============================] - 0s 165us/sample - loss: 5.5284 - mae: 1.7099 - mse: 5.5284 - val_loss: 14.3109 - val_mae: 2.5810 - val_mse: 14.3109\n",
      "Epoch 66/100\n",
      "354/354 [==============================] - 0s 172us/sample - loss: 5.2182 - mae: 1.7117 - mse: 5.2182 - val_loss: 15.0785 - val_mae: 2.5368 - val_mse: 15.0785\n",
      "Epoch 67/100\n",
      "354/354 [==============================] - 0s 159us/sample - loss: 5.4204 - mae: 1.7002 - mse: 5.4204 - val_loss: 16.3017 - val_mae: 2.6305 - val_mse: 16.3017\n",
      "Epoch 68/100\n",
      "354/354 [==============================] - 0s 163us/sample - loss: 5.4612 - mae: 1.7117 - mse: 5.4612 - val_loss: 15.0867 - val_mae: 2.5165 - val_mse: 15.0867\n",
      "Epoch 69/100\n",
      "354/354 [==============================] - 0s 164us/sample - loss: 5.4129 - mae: 1.7000 - mse: 5.4129 - val_loss: 14.8684 - val_mae: 2.5073 - val_mse: 14.8684\n",
      "Epoch 70/100\n",
      "354/354 [==============================] - 0s 169us/sample - loss: 5.2621 - mae: 1.6623 - mse: 5.2621 - val_loss: 14.6805 - val_mae: 2.5521 - val_mse: 14.6805\n",
      "Epoch 71/100\n",
      "354/354 [==============================] - 0s 166us/sample - loss: 5.1718 - mae: 1.6528 - mse: 5.1718 - val_loss: 14.3739 - val_mae: 2.5512 - val_mse: 14.3739\n",
      "Epoch 72/100\n",
      "354/354 [==============================] - 0s 164us/sample - loss: 4.8794 - mae: 1.6359 - mse: 4.8794 - val_loss: 15.9902 - val_mae: 2.5960 - val_mse: 15.9902\n",
      "Epoch 73/100\n",
      "354/354 [==============================] - 0s 163us/sample - loss: 5.0003 - mae: 1.6338 - mse: 5.0003 - val_loss: 14.3421 - val_mae: 2.6004 - val_mse: 14.3421\n",
      "Epoch 74/100\n",
      "354/354 [==============================] - 0s 169us/sample - loss: 4.9487 - mae: 1.6558 - mse: 4.9487 - val_loss: 15.0409 - val_mae: 2.6790 - val_mse: 15.0409\n",
      "Epoch 75/100\n",
      "354/354 [==============================] - 0s 165us/sample - loss: 4.9659 - mae: 1.6515 - mse: 4.9659 - val_loss: 14.6962 - val_mae: 2.6398 - val_mse: 14.6962\n",
      "Epoch 76/100\n",
      "354/354 [==============================] - 0s 213us/sample - loss: 4.6030 - mae: 1.6493 - mse: 4.6030 - val_loss: 14.1598 - val_mae: 2.4762 - val_mse: 14.1598\n",
      "Epoch 77/100\n",
      "354/354 [==============================] - 0s 163us/sample - loss: 4.8425 - mae: 1.6324 - mse: 4.8425 - val_loss: 14.3428 - val_mae: 2.4559 - val_mse: 14.3428\n",
      "Epoch 78/100\n",
      "354/354 [==============================] - 0s 160us/sample - loss: 4.4911 - mae: 1.5643 - mse: 4.4911 - val_loss: 14.6917 - val_mae: 2.4930 - val_mse: 14.6917\n",
      "Epoch 79/100\n",
      "354/354 [==============================] - 0s 164us/sample - loss: 4.6710 - mae: 1.6011 - mse: 4.6710 - val_loss: 14.8064 - val_mae: 2.5343 - val_mse: 14.8064\n",
      "Epoch 80/100\n",
      "354/354 [==============================] - 0s 214us/sample - loss: 4.7346 - mae: 1.6153 - mse: 4.7346 - val_loss: 13.9854 - val_mae: 2.4285 - val_mse: 13.9854\n",
      "Epoch 81/100\n",
      "354/354 [==============================] - 0s 164us/sample - loss: 4.4532 - mae: 1.5694 - mse: 4.4532 - val_loss: 15.1536 - val_mae: 2.6388 - val_mse: 15.1536\n",
      "Epoch 82/100\n",
      "354/354 [==============================] - 0s 163us/sample - loss: 4.4388 - mae: 1.5643 - mse: 4.4388 - val_loss: 15.7038 - val_mae: 2.5911 - val_mse: 15.7038\n",
      "Epoch 83/100\n",
      "354/354 [==============================] - 0s 165us/sample - loss: 4.4841 - mae: 1.5555 - mse: 4.4841 - val_loss: 14.5639 - val_mae: 2.5436 - val_mse: 14.5639\n",
      "Epoch 84/100\n",
      "354/354 [==============================] - 0s 160us/sample - loss: 4.3242 - mae: 1.5403 - mse: 4.3242 - val_loss: 17.1588 - val_mae: 2.7549 - val_mse: 17.1588\n",
      "Epoch 85/100\n",
      "354/354 [==============================] - 0s 163us/sample - loss: 4.2066 - mae: 1.5217 - mse: 4.2066 - val_loss: 15.1860 - val_mae: 2.5559 - val_mse: 15.1860\n",
      "Epoch 86/100\n",
      "354/354 [==============================] - 0s 157us/sample - loss: 4.1626 - mae: 1.5233 - mse: 4.1626 - val_loss: 14.0627 - val_mae: 2.4766 - val_mse: 14.0627\n",
      "Epoch 87/100\n",
      "354/354 [==============================] - 0s 164us/sample - loss: 4.1595 - mae: 1.5441 - mse: 4.1595 - val_loss: 15.5289 - val_mae: 2.6236 - val_mse: 15.5289\n",
      "Epoch 88/100\n",
      "354/354 [==============================] - 0s 167us/sample - loss: 4.2402 - mae: 1.5440 - mse: 4.2402 - val_loss: 14.3521 - val_mae: 2.4475 - val_mse: 14.3521\n",
      "Epoch 89/100\n",
      "354/354 [==============================] - 0s 167us/sample - loss: 4.0009 - mae: 1.5064 - mse: 4.0009 - val_loss: 15.1365 - val_mae: 2.6158 - val_mse: 15.1365\n",
      "Epoch 90/100\n",
      "354/354 [==============================] - 0s 168us/sample - loss: 4.0595 - mae: 1.4949 - mse: 4.0595 - val_loss: 14.6071 - val_mae: 2.4938 - val_mse: 14.6071\n",
      "Epoch 91/100\n",
      "354/354 [==============================] - 0s 168us/sample - loss: 4.0692 - mae: 1.5074 - mse: 4.0692 - val_loss: 15.0121 - val_mae: 2.5201 - val_mse: 15.0121\n",
      "Epoch 92/100\n",
      "354/354 [==============================] - 0s 167us/sample - loss: 3.9964 - mae: 1.4940 - mse: 3.9964 - val_loss: 15.1498 - val_mae: 2.5384 - val_mse: 15.1498\n",
      "Epoch 93/100\n",
      "354/354 [==============================] - 0s 170us/sample - loss: 3.9493 - mae: 1.5102 - mse: 3.9493 - val_loss: 14.3516 - val_mae: 2.5398 - val_mse: 14.3516\n",
      "Epoch 94/100\n",
      "354/354 [==============================] - 0s 169us/sample - loss: 3.7438 - mae: 1.4719 - mse: 3.7438 - val_loss: 14.2705 - val_mae: 2.4448 - val_mse: 14.2705\n",
      "Epoch 95/100\n",
      "354/354 [==============================] - 0s 162us/sample - loss: 3.7455 - mae: 1.4551 - mse: 3.7455 - val_loss: 14.5044 - val_mae: 2.4705 - val_mse: 14.5044\n",
      "Epoch 96/100\n",
      "354/354 [==============================] - 0s 166us/sample - loss: 3.8153 - mae: 1.4834 - mse: 3.8153 - val_loss: 14.4317 - val_mae: 2.5976 - val_mse: 14.4317\n",
      "Epoch 97/100\n",
      "354/354 [==============================] - 0s 211us/sample - loss: 3.7644 - mae: 1.4647 - mse: 3.7644 - val_loss: 13.9224 - val_mae: 2.3992 - val_mse: 13.9224\n",
      "Epoch 98/100\n",
      "354/354 [==============================] - 0s 170us/sample - loss: 3.7750 - mae: 1.4464 - mse: 3.7750 - val_loss: 15.2701 - val_mae: 2.6804 - val_mse: 15.2701\n",
      "Epoch 99/100\n",
      "354/354 [==============================] - 0s 215us/sample - loss: 3.6751 - mae: 1.4225 - mse: 3.6751 - val_loss: 13.7514 - val_mae: 2.4409 - val_mse: 13.7514\n",
      "Epoch 100/100\n",
      "354/354 [==============================] - 0s 210us/sample - loss: 3.7457 - mae: 1.4496 - mse: 3.7457 - val_loss: 13.6171 - val_mae: 2.4261 - val_mse: 13.6171\n"
     ]
    }
   ],
   "source": [
    "history = model.fit(x_train,\n",
    "                    y_train,\n",
    "                    epochs          = 100,\n",
    "                    batch_size      = 10,\n",
    "                    verbose         = 1,\n",
    "                    validation_data = (x_test, y_test),\n",
    "                    callbacks       = [savemodel_callback])"
   ]
  },
  {
   "cell_type": "markdown",
   "metadata": {},
   "source": [
    "## Step 6 - Evaluate\n",
    "### 6.1 - Model evaluation\n",
    "MAE =  Mean Absolute Error (between the labels and predictions)  \n",
    "A mae equal to 3 represents an average error in prediction of $3k."
   ]
  },
  {
   "cell_type": "code",
   "execution_count": 9,
   "metadata": {},
   "outputs": [
    {
     "name": "stdout",
     "output_type": "stream",
     "text": [
      "x_test / loss      : 13.6171\n",
      "x_test / mae       : 2.4261\n",
      "x_test / mse       : 13.6171\n"
     ]
    }
   ],
   "source": [
    "score = model.evaluate(x_test, y_test, verbose=0)\n",
    "\n",
    "print('x_test / loss      : {:5.4f}'.format(score[0]))\n",
    "print('x_test / mae       : {:5.4f}'.format(score[1]))\n",
    "print('x_test / mse       : {:5.4f}'.format(score[2]))"
   ]
  },
  {
   "cell_type": "markdown",
   "metadata": {},
   "source": [
    "### 6.2 - Training history\n",
    "What was the best result during our training ?"
   ]
  },
  {
   "cell_type": "code",
   "execution_count": 10,
   "metadata": {},
   "outputs": [
    {
     "name": "stdout",
     "output_type": "stream",
     "text": [
      "min( val_mae ) : 2.3992\n"
     ]
    }
   ],
   "source": [
    "print(\"min( val_mae ) : {:.4f}\".format( min(history.history[\"val_mae\"]) ) )"
   ]
  },
  {
   "cell_type": "code",
   "execution_count": 11,
   "metadata": {},
   "outputs": [
    {
     "data": {
      "image/png": "[encoded data removed]",
      "text/plain": [
       "<Figure size 576x432 with 1 Axes>"
      ]
     },
     "metadata": {
      "needs_background": "light"
     },
     "output_type": "display_data"
    },
    {
     "data": {
      "image/png": "[encoded data removed]",
      "text/plain": [
       "<Figure size 576x432 with 1 Axes>"
      ]
     },
     "metadata": {
      "needs_background": "light"
     },
     "output_type": "display_data"
    },
    {
     "data": {
      "image/png": "[encoded data removed]",
      "text/plain": [
       "<Figure size 576x432 with 1 Axes>"
      ]
     },
     "metadata": {
      "needs_background": "light"
     },
     "output_type": "display_data"
    }
   ],
   "source": [
    "ooo.plot_history(history, plot={'MSE' :['mse', 'val_mse'],\n",
    "                                'MAE' :['mae', 'val_mae'],\n",
    "                                'LOSS':['loss','val_loss']})"
   ]
  },
  {
   "cell_type": "markdown",
   "metadata": {},
   "source": [
    "## Step 7 - Restore a model :"
   ]
  },
  {
   "cell_type": "markdown",
   "metadata": {},
   "source": [
    "### 7.1 - Reload model"
   ]
  },
  {
   "cell_type": "code",
   "execution_count": 12,
   "metadata": {},
   "outputs": [
    {
     "name": "stdout",
     "output_type": "stream",
     "text": [
      "Model: \"sequential\"\n",
      "_________________________________________________________________\n",
      "Layer (type)                 Output Shape              Param #   \n",
      "=================================================================\n",
      "Dense_n1 (Dense)             (None, 64)                896       \n",
      "_________________________________________________________________\n",
      "Dense_n2 (Dense)             (None, 64)                4160      \n",
      "_________________________________________________________________\n",
      "Output (Dense)               (None, 1)                 65        \n",
      "=================================================================\n",
      "Total params: 5,121\n",
      "Trainable params: 5,121\n",
      "Non-trainable params: 0\n",
      "_________________________________________________________________\n",
      "Loaded.\n"
     ]
    }
   ],
   "source": [
    "loaded_model = tf.keras.models.load_model('./run/models/best_model.h5')\n",
    "loaded_model.summary()\n",
    "print(\"Loaded.\")"
   ]
  },
  {
   "cell_type": "markdown",
   "metadata": {},
   "source": [
    "### 7.2 - Evaluate it :"
   ]
  },
  {
   "cell_type": "code",
   "execution_count": 13,
   "metadata": {},
   "outputs": [
    {
     "name": "stdout",
     "output_type": "stream",
     "text": [
      "x_test / loss      : 13.6171\n",
      "x_test / mae       : 2.4261\n",
      "x_test / mse       : 13.6171\n"
     ]
    }
   ],
   "source": [
    "score = loaded_model.evaluate(x_test, y_test, verbose=0)\n",
    "\n",
    "print('x_test / loss      : {:5.4f}'.format(score[0]))\n",
    "print('x_test / mae       : {:5.4f}'.format(score[1]))\n",
    "print('x_test / mse       : {:5.4f}'.format(score[2]))"
   ]
  },
  {
   "cell_type": "markdown",
   "metadata": {},
   "source": [
    "### 7.3 - Make a prediction"
   ]
  },
  {
   "cell_type": "code",
   "execution_count": 14,
   "metadata": {},
   "outputs": [],
   "source": [
    "my_data = [ 1.26425925, -0.48522739,  1.0436489 , -0.23112788,  1.37120745,\n",
    "       -2.14308942,  1.13489104, -1.06802005,  1.71189006,  1.57042287,\n",
    "        0.77859951,  0.14769795,  2.7585581 ]\n",
    "real_price = 10.4\n",
    "\n",
    "my_data=np.array(my_data).reshape(1,13)"
   ]
  },
  {
   "cell_type": "code",
   "execution_count": 15,
   "metadata": {},
   "outputs": [
    {
     "name": "stdout",
     "output_type": "stream",
     "text": [
      "Prédiction : 10.85 K$   Reality : 10.40 K$\n"
     ]
    }
   ],
   "source": [
    "predictions = loaded_model.predict( my_data )\n",
    "print(\"Prédiction : {:.2f} K$   Reality : {:.2f} K$\".format(predictions[0][0], real_price))"
   ]
  },
  {
   "cell_type": "markdown",
   "metadata": {},
   "source": [
    "---\n",
    "<img width=\"80px\" src=\"../fidle/img/00-Fidle-logo-01.svg\"></img>"
   ]
  }
 ],
 "metadata": {
  "kernelspec": {
   "display_name": "Python 3",
   "language": "python",
   "name": "python3"
  },
  "language_info": {
   "codemirror_mode": {
    "name": "ipython",
    "version": 3
   },
   "file_extension": ".py",
   "mimetype": "text/x-python",
   "name": "python",
   "nbconvert_exporter": "python",
   "pygments_lexer": "ipython3",
   "version": "3.7.6"
  }
 },
 "nbformat": 4,
 "nbformat_minor": 4
}
