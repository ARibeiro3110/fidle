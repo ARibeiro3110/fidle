{
 "cells": [
  {
   "cell_type": "markdown",
   "metadata": {},
   "source": [
    "<img width=\"800px\" src=\"../fidle/img/00-Fidle-header-01.svg\"></img>\n",
    "\n",
    "# <!-- TITLE --> [BHP2] - Regression with a Dense Network (DNN) - Advanced code\n",
    "  <!-- DESC -->  More advanced example of DNN network code - BHPD dataset\n",
    "  <!-- AUTHOR : Jean-Luc Parouty (CNRS/SIMaP) -->\n",
    "\n",
    "## Objectives :\n",
    " - Predicts **housing prices** from a set of house features. \n",
    " - Understanding the principle and the architecture of a regression with a dense neural network with backup and restore of the trained model. \n",
    "\n",
    "The **[Boston Housing Dataset](https://www.cs.toronto.edu/~delve/data/boston/bostonDetail.html)** consists of price of houses in various places in Boston.  \n",
    "Alongside with price, the dataset also provide these information :\n",
    "\n",
    " - CRIM: This is the per capita crime rate by town\n",
    " - ZN: This is the proportion of residential land zoned for lots larger than 25,000 sq.ft\n",
    " - INDUS: This is the proportion of non-retail business acres per town\n",
    " - CHAS: This is the Charles River dummy variable (this is equal to 1 if tract bounds river; 0 otherwise)\n",
    " - NOX: This is the nitric oxides concentration (parts per 10 million)\n",
    " - RM: This is the average number of rooms per dwelling\n",
    " - AGE: This is the proportion of owner-occupied units built prior to 1940\n",
    " - DIS: This is the weighted distances to five Boston employment centers\n",
    " - RAD: This is the index of accessibility to radial highways\n",
    " - TAX: This is the full-value property-tax rate per 10,000 dollars\n",
    " - PTRATIO: This is the pupil-teacher ratio by town\n",
    " - B: This is calculated as 1000(Bk — 0.63)^2, where Bk is the proportion of people of African American descent by town\n",
    " - LSTAT: This is the percentage lower status of the population\n",
    " - MEDV: This is the median value of owner-occupied homes in 1000 dollars\n",
    "\n",
    "## What we're going to do :\n",
    "\n",
    " - (Retrieve data)\n",
    " - (Preparing the data)\n",
    " - (Build a model)\n",
    " - Train and save the model\n",
    " - Restore saved model\n",
    " - Evaluate the model\n",
    " - Make some predictions\n"
   ]
  },
  {
   "cell_type": "markdown",
   "metadata": {},
   "source": [
    "## Step 1 - Import and init"
   ]
  },
  {
   "cell_type": "code",
   "execution_count": 1,
   "metadata": {},
   "outputs": [
    {
     "data": {
      "text/html": [
       "<style>\n",
       "\n",
       "div.warn {    \n",
       "    background-color: #fcf2f2;\n",
       "    border-color: #dFb5b4;\n",
       "    border-left: 5px solid #dfb5b4;\n",
       "    padding: 0.5em;\n",
       "    font-weight: bold;\n",
       "    font-size: 1.1em;;\n",
       "    }\n",
       "\n",
       "\n",
       "\n",
       "div.nota {    \n",
       "    background-color: #DAFFDE;\n",
       "    border-left: 5px solid #92CC99;\n",
       "    padding: 0.5em;\n",
       "    }\n",
       "\n",
       "div.todo:before { content:url(data:image/svg+xml;base64,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);\n",
       "    float:left;\n",
       "    margin-right:20px;\n",
       "    margin-top:-20px;\n",
       "    margin-bottom:20px;\n",
       "}\n",
       "div.todo{\n",
       "    font-weight: bold;\n",
       "    font-size: 1.1em;\n",
       "    margin-top:40px;\n",
       "}\n",
       "div.todo ul{\n",
       "    margin: 0.2em;\n",
       "}\n",
       "div.todo li{\n",
       "    margin-left:60px;\n",
       "    margin-top:0;\n",
       "    margin-bottom:0;\n",
       "}\n",
       "\n",
       "\n",
       "</style>\n",
       "\n"
      ],
      "text/plain": [
       "<IPython.core.display.HTML object>"
      ]
     },
     "metadata": {},
     "output_type": "display_data"
    },
    {
     "name": "stdout",
     "output_type": "stream",
     "text": [
      "\n",
      "FIDLE 2020 - Practical Work Module\n",
      "Version              : 0.4.3\n",
      "Run time             : Friday 28 February 2020, 10:23:12\n",
      "TensorFlow version   : 2.0.0\n",
      "Keras version        : 2.2.4-tf\n"
     ]
    }
   ],
   "source": [
    "import tensorflow as tf\n",
    "from tensorflow import keras\n",
    "\n",
    "import numpy as np\n",
    "import matplotlib.pyplot as plt\n",
    "import pandas as pd\n",
    "import os,sys\n",
    "\n",
    "from IPython.display import Markdown\n",
    "from importlib import reload\n",
    "\n",
    "sys.path.append('..')\n",
    "import fidle.pwk as ooo\n",
    "\n",
    "ooo.init()\n",
    "os.makedirs('./run/models',   mode=0o750, exist_ok=True)"
   ]
  },
  {
   "cell_type": "markdown",
   "metadata": {},
   "source": [
    "## Step 2 - Retrieve data\n",
    "\n",
    "### 2.1 - Option 1  : From Keras\n",
    "Boston housing is a famous historic dataset, so we can get it directly from [Keras datasets](https://www.tensorflow.org/api_docs/python/tf/keras/datasets)  "
   ]
  },
  {
   "cell_type": "raw",
   "metadata": {},
   "source": [
    "(x_train, y_train), (x_test, y_test) = keras.datasets.boston_housing.load_data(test_split=0.2, seed=113)"
   ]
  },
  {
   "cell_type": "markdown",
   "metadata": {},
   "source": [
    "### 2.2 - Option 2 : From a csv file\n",
    "More fun !"
   ]
  },
  {
   "cell_type": "code",
   "execution_count": 2,
   "metadata": {},
   "outputs": [
    {
     "data": {
      "text/html": [
       "<style  type=\"text/css\" >\n",
       "</style><table id=\"T_f61cd91c_5a0b_11ea_81e5_41c397e73795\" ><thead>    <tr>        <th class=\"blank level0\" ></th>        <th class=\"col_heading level0 col0\" >crim</th>        <th class=\"col_heading level0 col1\" >zn</th>        <th class=\"col_heading level0 col2\" >indus</th>        <th class=\"col_heading level0 col3\" >chas</th>        <th class=\"col_heading level0 col4\" >nox</th>        <th class=\"col_heading level0 col5\" >rm</th>        <th class=\"col_heading level0 col6\" >age</th>        <th class=\"col_heading level0 col7\" >dis</th>        <th class=\"col_heading level0 col8\" >rad</th>        <th class=\"col_heading level0 col9\" >tax</th>        <th class=\"col_heading level0 col10\" >ptratio</th>        <th class=\"col_heading level0 col11\" >b</th>        <th class=\"col_heading level0 col12\" >lstat</th>        <th class=\"col_heading level0 col13\" >medv</th>    </tr></thead><tbody>\n",
       "                <tr>\n",
       "                        <th id=\"T_f61cd91c_5a0b_11ea_81e5_41c397e73795level0_row0\" class=\"row_heading level0 row0\" >0</th>\n",
       "                        <td id=\"T_f61cd91c_5a0b_11ea_81e5_41c397e73795row0_col0\" class=\"data row0 col0\" >0.01</td>\n",
       "                        <td id=\"T_f61cd91c_5a0b_11ea_81e5_41c397e73795row0_col1\" class=\"data row0 col1\" >18.00</td>\n",
       "                        <td id=\"T_f61cd91c_5a0b_11ea_81e5_41c397e73795row0_col2\" class=\"data row0 col2\" >2.31</td>\n",
       "                        <td id=\"T_f61cd91c_5a0b_11ea_81e5_41c397e73795row0_col3\" class=\"data row0 col3\" >0.00</td>\n",
       "                        <td id=\"T_f61cd91c_5a0b_11ea_81e5_41c397e73795row0_col4\" class=\"data row0 col4\" >0.54</td>\n",
       "                        <td id=\"T_f61cd91c_5a0b_11ea_81e5_41c397e73795row0_col5\" class=\"data row0 col5\" >6.58</td>\n",
       "                        <td id=\"T_f61cd91c_5a0b_11ea_81e5_41c397e73795row0_col6\" class=\"data row0 col6\" >65.20</td>\n",
       "                        <td id=\"T_f61cd91c_5a0b_11ea_81e5_41c397e73795row0_col7\" class=\"data row0 col7\" >4.09</td>\n",
       "                        <td id=\"T_f61cd91c_5a0b_11ea_81e5_41c397e73795row0_col8\" class=\"data row0 col8\" >1.00</td>\n",
       "                        <td id=\"T_f61cd91c_5a0b_11ea_81e5_41c397e73795row0_col9\" class=\"data row0 col9\" >296.00</td>\n",
       "                        <td id=\"T_f61cd91c_5a0b_11ea_81e5_41c397e73795row0_col10\" class=\"data row0 col10\" >15.30</td>\n",
       "                        <td id=\"T_f61cd91c_5a0b_11ea_81e5_41c397e73795row0_col11\" class=\"data row0 col11\" >396.90</td>\n",
       "                        <td id=\"T_f61cd91c_5a0b_11ea_81e5_41c397e73795row0_col12\" class=\"data row0 col12\" >4.98</td>\n",
       "                        <td id=\"T_f61cd91c_5a0b_11ea_81e5_41c397e73795row0_col13\" class=\"data row0 col13\" >24.00</td>\n",
       "            </tr>\n",
       "            <tr>\n",
       "                        <th id=\"T_f61cd91c_5a0b_11ea_81e5_41c397e73795level0_row1\" class=\"row_heading level0 row1\" >1</th>\n",
       "                        <td id=\"T_f61cd91c_5a0b_11ea_81e5_41c397e73795row1_col0\" class=\"data row1 col0\" >0.03</td>\n",
       "                        <td id=\"T_f61cd91c_5a0b_11ea_81e5_41c397e73795row1_col1\" class=\"data row1 col1\" >0.00</td>\n",
       "                        <td id=\"T_f61cd91c_5a0b_11ea_81e5_41c397e73795row1_col2\" class=\"data row1 col2\" >7.07</td>\n",
       "                        <td id=\"T_f61cd91c_5a0b_11ea_81e5_41c397e73795row1_col3\" class=\"data row1 col3\" >0.00</td>\n",
       "                        <td id=\"T_f61cd91c_5a0b_11ea_81e5_41c397e73795row1_col4\" class=\"data row1 col4\" >0.47</td>\n",
       "                        <td id=\"T_f61cd91c_5a0b_11ea_81e5_41c397e73795row1_col5\" class=\"data row1 col5\" >6.42</td>\n",
       "                        <td id=\"T_f61cd91c_5a0b_11ea_81e5_41c397e73795row1_col6\" class=\"data row1 col6\" >78.90</td>\n",
       "                        <td id=\"T_f61cd91c_5a0b_11ea_81e5_41c397e73795row1_col7\" class=\"data row1 col7\" >4.97</td>\n",
       "                        <td id=\"T_f61cd91c_5a0b_11ea_81e5_41c397e73795row1_col8\" class=\"data row1 col8\" >2.00</td>\n",
       "                        <td id=\"T_f61cd91c_5a0b_11ea_81e5_41c397e73795row1_col9\" class=\"data row1 col9\" >242.00</td>\n",
       "                        <td id=\"T_f61cd91c_5a0b_11ea_81e5_41c397e73795row1_col10\" class=\"data row1 col10\" >17.80</td>\n",
       "                        <td id=\"T_f61cd91c_5a0b_11ea_81e5_41c397e73795row1_col11\" class=\"data row1 col11\" >396.90</td>\n",
       "                        <td id=\"T_f61cd91c_5a0b_11ea_81e5_41c397e73795row1_col12\" class=\"data row1 col12\" >9.14</td>\n",
       "                        <td id=\"T_f61cd91c_5a0b_11ea_81e5_41c397e73795row1_col13\" class=\"data row1 col13\" >21.60</td>\n",
       "            </tr>\n",
       "            <tr>\n",
       "                        <th id=\"T_f61cd91c_5a0b_11ea_81e5_41c397e73795level0_row2\" class=\"row_heading level0 row2\" >2</th>\n",
       "                        <td id=\"T_f61cd91c_5a0b_11ea_81e5_41c397e73795row2_col0\" class=\"data row2 col0\" >0.03</td>\n",
       "                        <td id=\"T_f61cd91c_5a0b_11ea_81e5_41c397e73795row2_col1\" class=\"data row2 col1\" >0.00</td>\n",
       "                        <td id=\"T_f61cd91c_5a0b_11ea_81e5_41c397e73795row2_col2\" class=\"data row2 col2\" >7.07</td>\n",
       "                        <td id=\"T_f61cd91c_5a0b_11ea_81e5_41c397e73795row2_col3\" class=\"data row2 col3\" >0.00</td>\n",
       "                        <td id=\"T_f61cd91c_5a0b_11ea_81e5_41c397e73795row2_col4\" class=\"data row2 col4\" >0.47</td>\n",
       "                        <td id=\"T_f61cd91c_5a0b_11ea_81e5_41c397e73795row2_col5\" class=\"data row2 col5\" >7.18</td>\n",
       "                        <td id=\"T_f61cd91c_5a0b_11ea_81e5_41c397e73795row2_col6\" class=\"data row2 col6\" >61.10</td>\n",
       "                        <td id=\"T_f61cd91c_5a0b_11ea_81e5_41c397e73795row2_col7\" class=\"data row2 col7\" >4.97</td>\n",
       "                        <td id=\"T_f61cd91c_5a0b_11ea_81e5_41c397e73795row2_col8\" class=\"data row2 col8\" >2.00</td>\n",
       "                        <td id=\"T_f61cd91c_5a0b_11ea_81e5_41c397e73795row2_col9\" class=\"data row2 col9\" >242.00</td>\n",
       "                        <td id=\"T_f61cd91c_5a0b_11ea_81e5_41c397e73795row2_col10\" class=\"data row2 col10\" >17.80</td>\n",
       "                        <td id=\"T_f61cd91c_5a0b_11ea_81e5_41c397e73795row2_col11\" class=\"data row2 col11\" >392.83</td>\n",
       "                        <td id=\"T_f61cd91c_5a0b_11ea_81e5_41c397e73795row2_col12\" class=\"data row2 col12\" >4.03</td>\n",
       "                        <td id=\"T_f61cd91c_5a0b_11ea_81e5_41c397e73795row2_col13\" class=\"data row2 col13\" >34.70</td>\n",
       "            </tr>\n",
       "            <tr>\n",
       "                        <th id=\"T_f61cd91c_5a0b_11ea_81e5_41c397e73795level0_row3\" class=\"row_heading level0 row3\" >3</th>\n",
       "                        <td id=\"T_f61cd91c_5a0b_11ea_81e5_41c397e73795row3_col0\" class=\"data row3 col0\" >0.03</td>\n",
       "                        <td id=\"T_f61cd91c_5a0b_11ea_81e5_41c397e73795row3_col1\" class=\"data row3 col1\" >0.00</td>\n",
       "                        <td id=\"T_f61cd91c_5a0b_11ea_81e5_41c397e73795row3_col2\" class=\"data row3 col2\" >2.18</td>\n",
       "                        <td id=\"T_f61cd91c_5a0b_11ea_81e5_41c397e73795row3_col3\" class=\"data row3 col3\" >0.00</td>\n",
       "                        <td id=\"T_f61cd91c_5a0b_11ea_81e5_41c397e73795row3_col4\" class=\"data row3 col4\" >0.46</td>\n",
       "                        <td id=\"T_f61cd91c_5a0b_11ea_81e5_41c397e73795row3_col5\" class=\"data row3 col5\" >7.00</td>\n",
       "                        <td id=\"T_f61cd91c_5a0b_11ea_81e5_41c397e73795row3_col6\" class=\"data row3 col6\" >45.80</td>\n",
       "                        <td id=\"T_f61cd91c_5a0b_11ea_81e5_41c397e73795row3_col7\" class=\"data row3 col7\" >6.06</td>\n",
       "                        <td id=\"T_f61cd91c_5a0b_11ea_81e5_41c397e73795row3_col8\" class=\"data row3 col8\" >3.00</td>\n",
       "                        <td id=\"T_f61cd91c_5a0b_11ea_81e5_41c397e73795row3_col9\" class=\"data row3 col9\" >222.00</td>\n",
       "                        <td id=\"T_f61cd91c_5a0b_11ea_81e5_41c397e73795row3_col10\" class=\"data row3 col10\" >18.70</td>\n",
       "                        <td id=\"T_f61cd91c_5a0b_11ea_81e5_41c397e73795row3_col11\" class=\"data row3 col11\" >394.63</td>\n",
       "                        <td id=\"T_f61cd91c_5a0b_11ea_81e5_41c397e73795row3_col12\" class=\"data row3 col12\" >2.94</td>\n",
       "                        <td id=\"T_f61cd91c_5a0b_11ea_81e5_41c397e73795row3_col13\" class=\"data row3 col13\" >33.40</td>\n",
       "            </tr>\n",
       "            <tr>\n",
       "                        <th id=\"T_f61cd91c_5a0b_11ea_81e5_41c397e73795level0_row4\" class=\"row_heading level0 row4\" >4</th>\n",
       "                        <td id=\"T_f61cd91c_5a0b_11ea_81e5_41c397e73795row4_col0\" class=\"data row4 col0\" >0.07</td>\n",
       "                        <td id=\"T_f61cd91c_5a0b_11ea_81e5_41c397e73795row4_col1\" class=\"data row4 col1\" >0.00</td>\n",
       "                        <td id=\"T_f61cd91c_5a0b_11ea_81e5_41c397e73795row4_col2\" class=\"data row4 col2\" >2.18</td>\n",
       "                        <td id=\"T_f61cd91c_5a0b_11ea_81e5_41c397e73795row4_col3\" class=\"data row4 col3\" >0.00</td>\n",
       "                        <td id=\"T_f61cd91c_5a0b_11ea_81e5_41c397e73795row4_col4\" class=\"data row4 col4\" >0.46</td>\n",
       "                        <td id=\"T_f61cd91c_5a0b_11ea_81e5_41c397e73795row4_col5\" class=\"data row4 col5\" >7.15</td>\n",
       "                        <td id=\"T_f61cd91c_5a0b_11ea_81e5_41c397e73795row4_col6\" class=\"data row4 col6\" >54.20</td>\n",
       "                        <td id=\"T_f61cd91c_5a0b_11ea_81e5_41c397e73795row4_col7\" class=\"data row4 col7\" >6.06</td>\n",
       "                        <td id=\"T_f61cd91c_5a0b_11ea_81e5_41c397e73795row4_col8\" class=\"data row4 col8\" >3.00</td>\n",
       "                        <td id=\"T_f61cd91c_5a0b_11ea_81e5_41c397e73795row4_col9\" class=\"data row4 col9\" >222.00</td>\n",
       "                        <td id=\"T_f61cd91c_5a0b_11ea_81e5_41c397e73795row4_col10\" class=\"data row4 col10\" >18.70</td>\n",
       "                        <td id=\"T_f61cd91c_5a0b_11ea_81e5_41c397e73795row4_col11\" class=\"data row4 col11\" >396.90</td>\n",
       "                        <td id=\"T_f61cd91c_5a0b_11ea_81e5_41c397e73795row4_col12\" class=\"data row4 col12\" >5.33</td>\n",
       "                        <td id=\"T_f61cd91c_5a0b_11ea_81e5_41c397e73795row4_col13\" class=\"data row4 col13\" >36.20</td>\n",
       "            </tr>\n",
       "    </tbody></table>"
      ],
      "text/plain": [
       "<pandas.io.formats.style.Styler at 0x7f2b48bd6f90>"
      ]
     },
     "metadata": {},
     "output_type": "display_data"
    },
    {
     "name": "stdout",
     "output_type": "stream",
     "text": [
      "Données manquantes :  0   Shape is :  (506, 14)\n"
     ]
    }
   ],
   "source": [
    "data = pd.read_csv('./data/BostonHousing.csv', header=0)\n",
    "\n",
    "display(data.head(5).style.format(\"{0:.2f}\"))\n",
    "print('Données manquantes : ',data.isna().sum().sum(), '  Shape is : ', data.shape)"
   ]
  },
  {
   "cell_type": "markdown",
   "metadata": {},
   "source": [
    "## Step 3 - Preparing the data\n",
    "### 3.1 - Split data\n",
    "We will use 80% of the data for training and 20% for validation.  \n",
    "x will be input data and y the expected output"
   ]
  },
  {
   "cell_type": "code",
   "execution_count": 3,
   "metadata": {},
   "outputs": [
    {
     "name": "stdout",
     "output_type": "stream",
     "text": [
      "Original data shape was :  (506, 14)\n",
      "x_train :  (354, 13) y_train :  (354,)\n",
      "x_test  :  (152, 13) y_test  :  (152,)\n"
     ]
    }
   ],
   "source": [
    "# ---- Split => train, test\n",
    "#\n",
    "data_train = data.sample(frac=0.7, axis=0)\n",
    "data_test  = data.drop(data_train.index)\n",
    "\n",
    "# ---- Split => x,y (medv is price)\n",
    "#\n",
    "x_train = data_train.drop('medv',  axis=1)\n",
    "y_train = data_train['medv']\n",
    "x_test  = data_test.drop('medv',   axis=1)\n",
    "y_test  = data_test['medv']\n",
    "\n",
    "print('Original data shape was : ',data.shape)\n",
    "print('x_train : ',x_train.shape, 'y_train : ',y_train.shape)\n",
    "print('x_test  : ',x_test.shape,  'y_test  : ',y_test.shape)"
   ]
  },
  {
   "cell_type": "markdown",
   "metadata": {},
   "source": [
    "### 3.2 - Data normalization\n",
    "**Note :** \n",
    " - All input data must be normalized, train and test.  \n",
    " - To do this we will subtract the mean and divide by the standard deviation.  \n",
    " - But test data should not be used in any way, even for normalization.  \n",
    " - The mean and the standard deviation will therefore only be calculated with the train data."
   ]
  },
  {
   "cell_type": "code",
   "execution_count": 4,
   "metadata": {},
   "outputs": [
    {
     "data": {
      "text/html": [
       "<style  type=\"text/css\" >\n",
       "</style><table id=\"T_f7d13686_5a0b_11ea_81e5_41c397e73795\" ><caption>Before normalization :</caption><thead>    <tr>        <th class=\"blank level0\" ></th>        <th class=\"col_heading level0 col0\" >crim</th>        <th class=\"col_heading level0 col1\" >zn</th>        <th class=\"col_heading level0 col2\" >indus</th>        <th class=\"col_heading level0 col3\" >chas</th>        <th class=\"col_heading level0 col4\" >nox</th>        <th class=\"col_heading level0 col5\" >rm</th>        <th class=\"col_heading level0 col6\" >age</th>        <th class=\"col_heading level0 col7\" >dis</th>        <th class=\"col_heading level0 col8\" >rad</th>        <th class=\"col_heading level0 col9\" >tax</th>        <th class=\"col_heading level0 col10\" >ptratio</th>        <th class=\"col_heading level0 col11\" >b</th>        <th class=\"col_heading level0 col12\" >lstat</th>    </tr></thead><tbody>\n",
       "                <tr>\n",
       "                        <th id=\"T_f7d13686_5a0b_11ea_81e5_41c397e73795level0_row0\" class=\"row_heading level0 row0\" >count</th>\n",
       "                        <td id=\"T_f7d13686_5a0b_11ea_81e5_41c397e73795row0_col0\" class=\"data row0 col0\" >354.00</td>\n",
       "                        <td id=\"T_f7d13686_5a0b_11ea_81e5_41c397e73795row0_col1\" class=\"data row0 col1\" >354.00</td>\n",
       "                        <td id=\"T_f7d13686_5a0b_11ea_81e5_41c397e73795row0_col2\" class=\"data row0 col2\" >354.00</td>\n",
       "                        <td id=\"T_f7d13686_5a0b_11ea_81e5_41c397e73795row0_col3\" class=\"data row0 col3\" >354.00</td>\n",
       "                        <td id=\"T_f7d13686_5a0b_11ea_81e5_41c397e73795row0_col4\" class=\"data row0 col4\" >354.00</td>\n",
       "                        <td id=\"T_f7d13686_5a0b_11ea_81e5_41c397e73795row0_col5\" class=\"data row0 col5\" >354.00</td>\n",
       "                        <td id=\"T_f7d13686_5a0b_11ea_81e5_41c397e73795row0_col6\" class=\"data row0 col6\" >354.00</td>\n",
       "                        <td id=\"T_f7d13686_5a0b_11ea_81e5_41c397e73795row0_col7\" class=\"data row0 col7\" >354.00</td>\n",
       "                        <td id=\"T_f7d13686_5a0b_11ea_81e5_41c397e73795row0_col8\" class=\"data row0 col8\" >354.00</td>\n",
       "                        <td id=\"T_f7d13686_5a0b_11ea_81e5_41c397e73795row0_col9\" class=\"data row0 col9\" >354.00</td>\n",
       "                        <td id=\"T_f7d13686_5a0b_11ea_81e5_41c397e73795row0_col10\" class=\"data row0 col10\" >354.00</td>\n",
       "                        <td id=\"T_f7d13686_5a0b_11ea_81e5_41c397e73795row0_col11\" class=\"data row0 col11\" >354.00</td>\n",
       "                        <td id=\"T_f7d13686_5a0b_11ea_81e5_41c397e73795row0_col12\" class=\"data row0 col12\" >354.00</td>\n",
       "            </tr>\n",
       "            <tr>\n",
       "                        <th id=\"T_f7d13686_5a0b_11ea_81e5_41c397e73795level0_row1\" class=\"row_heading level0 row1\" >mean</th>\n",
       "                        <td id=\"T_f7d13686_5a0b_11ea_81e5_41c397e73795row1_col0\" class=\"data row1 col0\" >3.80</td>\n",
       "                        <td id=\"T_f7d13686_5a0b_11ea_81e5_41c397e73795row1_col1\" class=\"data row1 col1\" >10.67</td>\n",
       "                        <td id=\"T_f7d13686_5a0b_11ea_81e5_41c397e73795row1_col2\" class=\"data row1 col2\" >11.27</td>\n",
       "                        <td id=\"T_f7d13686_5a0b_11ea_81e5_41c397e73795row1_col3\" class=\"data row1 col3\" >0.08</td>\n",
       "                        <td id=\"T_f7d13686_5a0b_11ea_81e5_41c397e73795row1_col4\" class=\"data row1 col4\" >0.56</td>\n",
       "                        <td id=\"T_f7d13686_5a0b_11ea_81e5_41c397e73795row1_col5\" class=\"data row1 col5\" >6.30</td>\n",
       "                        <td id=\"T_f7d13686_5a0b_11ea_81e5_41c397e73795row1_col6\" class=\"data row1 col6\" >67.72</td>\n",
       "                        <td id=\"T_f7d13686_5a0b_11ea_81e5_41c397e73795row1_col7\" class=\"data row1 col7\" >3.76</td>\n",
       "                        <td id=\"T_f7d13686_5a0b_11ea_81e5_41c397e73795row1_col8\" class=\"data row1 col8\" >9.64</td>\n",
       "                        <td id=\"T_f7d13686_5a0b_11ea_81e5_41c397e73795row1_col9\" class=\"data row1 col9\" >411.60</td>\n",
       "                        <td id=\"T_f7d13686_5a0b_11ea_81e5_41c397e73795row1_col10\" class=\"data row1 col10\" >18.45</td>\n",
       "                        <td id=\"T_f7d13686_5a0b_11ea_81e5_41c397e73795row1_col11\" class=\"data row1 col11\" >355.42</td>\n",
       "                        <td id=\"T_f7d13686_5a0b_11ea_81e5_41c397e73795row1_col12\" class=\"data row1 col12\" >12.47</td>\n",
       "            </tr>\n",
       "            <tr>\n",
       "                        <th id=\"T_f7d13686_5a0b_11ea_81e5_41c397e73795level0_row2\" class=\"row_heading level0 row2\" >std</th>\n",
       "                        <td id=\"T_f7d13686_5a0b_11ea_81e5_41c397e73795row2_col0\" class=\"data row2 col0\" >9.33</td>\n",
       "                        <td id=\"T_f7d13686_5a0b_11ea_81e5_41c397e73795row2_col1\" class=\"data row2 col1\" >22.26</td>\n",
       "                        <td id=\"T_f7d13686_5a0b_11ea_81e5_41c397e73795row2_col2\" class=\"data row2 col2\" >6.84</td>\n",
       "                        <td id=\"T_f7d13686_5a0b_11ea_81e5_41c397e73795row2_col3\" class=\"data row2 col3\" >0.27</td>\n",
       "                        <td id=\"T_f7d13686_5a0b_11ea_81e5_41c397e73795row2_col4\" class=\"data row2 col4\" >0.12</td>\n",
       "                        <td id=\"T_f7d13686_5a0b_11ea_81e5_41c397e73795row2_col5\" class=\"data row2 col5\" >0.69</td>\n",
       "                        <td id=\"T_f7d13686_5a0b_11ea_81e5_41c397e73795row2_col6\" class=\"data row2 col6\" >28.69</td>\n",
       "                        <td id=\"T_f7d13686_5a0b_11ea_81e5_41c397e73795row2_col7\" class=\"data row2 col7\" >2.09</td>\n",
       "                        <td id=\"T_f7d13686_5a0b_11ea_81e5_41c397e73795row2_col8\" class=\"data row2 col8\" >8.75</td>\n",
       "                        <td id=\"T_f7d13686_5a0b_11ea_81e5_41c397e73795row2_col9\" class=\"data row2 col9\" >170.38</td>\n",
       "                        <td id=\"T_f7d13686_5a0b_11ea_81e5_41c397e73795row2_col10\" class=\"data row2 col10\" >2.18</td>\n",
       "                        <td id=\"T_f7d13686_5a0b_11ea_81e5_41c397e73795row2_col11\" class=\"data row2 col11\" >91.02</td>\n",
       "                        <td id=\"T_f7d13686_5a0b_11ea_81e5_41c397e73795row2_col12\" class=\"data row2 col12\" >6.91</td>\n",
       "            </tr>\n",
       "            <tr>\n",
       "                        <th id=\"T_f7d13686_5a0b_11ea_81e5_41c397e73795level0_row3\" class=\"row_heading level0 row3\" >min</th>\n",
       "                        <td id=\"T_f7d13686_5a0b_11ea_81e5_41c397e73795row3_col0\" class=\"data row3 col0\" >0.01</td>\n",
       "                        <td id=\"T_f7d13686_5a0b_11ea_81e5_41c397e73795row3_col1\" class=\"data row3 col1\" >0.00</td>\n",
       "                        <td id=\"T_f7d13686_5a0b_11ea_81e5_41c397e73795row3_col2\" class=\"data row3 col2\" >1.25</td>\n",
       "                        <td id=\"T_f7d13686_5a0b_11ea_81e5_41c397e73795row3_col3\" class=\"data row3 col3\" >0.00</td>\n",
       "                        <td id=\"T_f7d13686_5a0b_11ea_81e5_41c397e73795row3_col4\" class=\"data row3 col4\" >0.39</td>\n",
       "                        <td id=\"T_f7d13686_5a0b_11ea_81e5_41c397e73795row3_col5\" class=\"data row3 col5\" >3.56</td>\n",
       "                        <td id=\"T_f7d13686_5a0b_11ea_81e5_41c397e73795row3_col6\" class=\"data row3 col6\" >2.90</td>\n",
       "                        <td id=\"T_f7d13686_5a0b_11ea_81e5_41c397e73795row3_col7\" class=\"data row3 col7\" >1.13</td>\n",
       "                        <td id=\"T_f7d13686_5a0b_11ea_81e5_41c397e73795row3_col8\" class=\"data row3 col8\" >1.00</td>\n",
       "                        <td id=\"T_f7d13686_5a0b_11ea_81e5_41c397e73795row3_col9\" class=\"data row3 col9\" >187.00</td>\n",
       "                        <td id=\"T_f7d13686_5a0b_11ea_81e5_41c397e73795row3_col10\" class=\"data row3 col10\" >12.60</td>\n",
       "                        <td id=\"T_f7d13686_5a0b_11ea_81e5_41c397e73795row3_col11\" class=\"data row3 col11\" >0.32</td>\n",
       "                        <td id=\"T_f7d13686_5a0b_11ea_81e5_41c397e73795row3_col12\" class=\"data row3 col12\" >1.73</td>\n",
       "            </tr>\n",
       "            <tr>\n",
       "                        <th id=\"T_f7d13686_5a0b_11ea_81e5_41c397e73795level0_row4\" class=\"row_heading level0 row4\" >25%</th>\n",
       "                        <td id=\"T_f7d13686_5a0b_11ea_81e5_41c397e73795row4_col0\" class=\"data row4 col0\" >0.08</td>\n",
       "                        <td id=\"T_f7d13686_5a0b_11ea_81e5_41c397e73795row4_col1\" class=\"data row4 col1\" >0.00</td>\n",
       "                        <td id=\"T_f7d13686_5a0b_11ea_81e5_41c397e73795row4_col2\" class=\"data row4 col2\" >5.19</td>\n",
       "                        <td id=\"T_f7d13686_5a0b_11ea_81e5_41c397e73795row4_col3\" class=\"data row4 col3\" >0.00</td>\n",
       "                        <td id=\"T_f7d13686_5a0b_11ea_81e5_41c397e73795row4_col4\" class=\"data row4 col4\" >0.45</td>\n",
       "                        <td id=\"T_f7d13686_5a0b_11ea_81e5_41c397e73795row4_col5\" class=\"data row4 col5\" >5.89</td>\n",
       "                        <td id=\"T_f7d13686_5a0b_11ea_81e5_41c397e73795row4_col6\" class=\"data row4 col6\" >42.25</td>\n",
       "                        <td id=\"T_f7d13686_5a0b_11ea_81e5_41c397e73795row4_col7\" class=\"data row4 col7\" >2.08</td>\n",
       "                        <td id=\"T_f7d13686_5a0b_11ea_81e5_41c397e73795row4_col8\" class=\"data row4 col8\" >4.00</td>\n",
       "                        <td id=\"T_f7d13686_5a0b_11ea_81e5_41c397e73795row4_col9\" class=\"data row4 col9\" >279.00</td>\n",
       "                        <td id=\"T_f7d13686_5a0b_11ea_81e5_41c397e73795row4_col10\" class=\"data row4 col10\" >17.00</td>\n",
       "                        <td id=\"T_f7d13686_5a0b_11ea_81e5_41c397e73795row4_col11\" class=\"data row4 col11\" >374.46</td>\n",
       "                        <td id=\"T_f7d13686_5a0b_11ea_81e5_41c397e73795row4_col12\" class=\"data row4 col12\" >7.12</td>\n",
       "            </tr>\n",
       "            <tr>\n",
       "                        <th id=\"T_f7d13686_5a0b_11ea_81e5_41c397e73795level0_row5\" class=\"row_heading level0 row5\" >50%</th>\n",
       "                        <td id=\"T_f7d13686_5a0b_11ea_81e5_41c397e73795row5_col0\" class=\"data row5 col0\" >0.23</td>\n",
       "                        <td id=\"T_f7d13686_5a0b_11ea_81e5_41c397e73795row5_col1\" class=\"data row5 col1\" >0.00</td>\n",
       "                        <td id=\"T_f7d13686_5a0b_11ea_81e5_41c397e73795row5_col2\" class=\"data row5 col2\" >9.79</td>\n",
       "                        <td id=\"T_f7d13686_5a0b_11ea_81e5_41c397e73795row5_col3\" class=\"data row5 col3\" >0.00</td>\n",
       "                        <td id=\"T_f7d13686_5a0b_11ea_81e5_41c397e73795row5_col4\" class=\"data row5 col4\" >0.54</td>\n",
       "                        <td id=\"T_f7d13686_5a0b_11ea_81e5_41c397e73795row5_col5\" class=\"data row5 col5\" >6.21</td>\n",
       "                        <td id=\"T_f7d13686_5a0b_11ea_81e5_41c397e73795row5_col6\" class=\"data row5 col6\" >76.50</td>\n",
       "                        <td id=\"T_f7d13686_5a0b_11ea_81e5_41c397e73795row5_col7\" class=\"data row5 col7\" >3.21</td>\n",
       "                        <td id=\"T_f7d13686_5a0b_11ea_81e5_41c397e73795row5_col8\" class=\"data row5 col8\" >5.00</td>\n",
       "                        <td id=\"T_f7d13686_5a0b_11ea_81e5_41c397e73795row5_col9\" class=\"data row5 col9\" >332.00</td>\n",
       "                        <td id=\"T_f7d13686_5a0b_11ea_81e5_41c397e73795row5_col10\" class=\"data row5 col10\" >19.10</td>\n",
       "                        <td id=\"T_f7d13686_5a0b_11ea_81e5_41c397e73795row5_col11\" class=\"data row5 col11\" >390.94</td>\n",
       "                        <td id=\"T_f7d13686_5a0b_11ea_81e5_41c397e73795row5_col12\" class=\"data row5 col12\" >10.99</td>\n",
       "            </tr>\n",
       "            <tr>\n",
       "                        <th id=\"T_f7d13686_5a0b_11ea_81e5_41c397e73795level0_row6\" class=\"row_heading level0 row6\" >75%</th>\n",
       "                        <td id=\"T_f7d13686_5a0b_11ea_81e5_41c397e73795row6_col0\" class=\"data row6 col0\" >3.69</td>\n",
       "                        <td id=\"T_f7d13686_5a0b_11ea_81e5_41c397e73795row6_col1\" class=\"data row6 col1\" >12.50</td>\n",
       "                        <td id=\"T_f7d13686_5a0b_11ea_81e5_41c397e73795row6_col2\" class=\"data row6 col2\" >18.10</td>\n",
       "                        <td id=\"T_f7d13686_5a0b_11ea_81e5_41c397e73795row6_col3\" class=\"data row6 col3\" >0.00</td>\n",
       "                        <td id=\"T_f7d13686_5a0b_11ea_81e5_41c397e73795row6_col4\" class=\"data row6 col4\" >0.63</td>\n",
       "                        <td id=\"T_f7d13686_5a0b_11ea_81e5_41c397e73795row6_col5\" class=\"data row6 col5\" >6.63</td>\n",
       "                        <td id=\"T_f7d13686_5a0b_11ea_81e5_41c397e73795row6_col6\" class=\"data row6 col6\" >94.25</td>\n",
       "                        <td id=\"T_f7d13686_5a0b_11ea_81e5_41c397e73795row6_col7\" class=\"data row6 col7\" >5.12</td>\n",
       "                        <td id=\"T_f7d13686_5a0b_11ea_81e5_41c397e73795row6_col8\" class=\"data row6 col8\" >24.00</td>\n",
       "                        <td id=\"T_f7d13686_5a0b_11ea_81e5_41c397e73795row6_col9\" class=\"data row6 col9\" >666.00</td>\n",
       "                        <td id=\"T_f7d13686_5a0b_11ea_81e5_41c397e73795row6_col10\" class=\"data row6 col10\" >20.20</td>\n",
       "                        <td id=\"T_f7d13686_5a0b_11ea_81e5_41c397e73795row6_col11\" class=\"data row6 col11\" >396.12</td>\n",
       "                        <td id=\"T_f7d13686_5a0b_11ea_81e5_41c397e73795row6_col12\" class=\"data row6 col12\" >16.63</td>\n",
       "            </tr>\n",
       "            <tr>\n",
       "                        <th id=\"T_f7d13686_5a0b_11ea_81e5_41c397e73795level0_row7\" class=\"row_heading level0 row7\" >max</th>\n",
       "                        <td id=\"T_f7d13686_5a0b_11ea_81e5_41c397e73795row7_col0\" class=\"data row7 col0\" >88.98</td>\n",
       "                        <td id=\"T_f7d13686_5a0b_11ea_81e5_41c397e73795row7_col1\" class=\"data row7 col1\" >100.00</td>\n",
       "                        <td id=\"T_f7d13686_5a0b_11ea_81e5_41c397e73795row7_col2\" class=\"data row7 col2\" >27.74</td>\n",
       "                        <td id=\"T_f7d13686_5a0b_11ea_81e5_41c397e73795row7_col3\" class=\"data row7 col3\" >1.00</td>\n",
       "                        <td id=\"T_f7d13686_5a0b_11ea_81e5_41c397e73795row7_col4\" class=\"data row7 col4\" >0.87</td>\n",
       "                        <td id=\"T_f7d13686_5a0b_11ea_81e5_41c397e73795row7_col5\" class=\"data row7 col5\" >8.70</td>\n",
       "                        <td id=\"T_f7d13686_5a0b_11ea_81e5_41c397e73795row7_col6\" class=\"data row7 col6\" >100.00</td>\n",
       "                        <td id=\"T_f7d13686_5a0b_11ea_81e5_41c397e73795row7_col7\" class=\"data row7 col7\" >12.13</td>\n",
       "                        <td id=\"T_f7d13686_5a0b_11ea_81e5_41c397e73795row7_col8\" class=\"data row7 col8\" >24.00</td>\n",
       "                        <td id=\"T_f7d13686_5a0b_11ea_81e5_41c397e73795row7_col9\" class=\"data row7 col9\" >711.00</td>\n",
       "                        <td id=\"T_f7d13686_5a0b_11ea_81e5_41c397e73795row7_col10\" class=\"data row7 col10\" >22.00</td>\n",
       "                        <td id=\"T_f7d13686_5a0b_11ea_81e5_41c397e73795row7_col11\" class=\"data row7 col11\" >396.90</td>\n",
       "                        <td id=\"T_f7d13686_5a0b_11ea_81e5_41c397e73795row7_col12\" class=\"data row7 col12\" >37.97</td>\n",
       "            </tr>\n",
       "    </tbody></table>"
      ],
      "text/plain": [
       "<pandas.io.formats.style.Styler at 0x7f2b48b9b810>"
      ]
     },
     "metadata": {},
     "output_type": "display_data"
    },
    {
     "data": {
      "text/html": [
       "<style  type=\"text/css\" >\n",
       "</style><table id=\"T_f7d89eee_5a0b_11ea_81e5_41c397e73795\" ><caption>After normalization :</caption><thead>    <tr>        <th class=\"blank level0\" ></th>        <th class=\"col_heading level0 col0\" >crim</th>        <th class=\"col_heading level0 col1\" >zn</th>        <th class=\"col_heading level0 col2\" >indus</th>        <th class=\"col_heading level0 col3\" >chas</th>        <th class=\"col_heading level0 col4\" >nox</th>        <th class=\"col_heading level0 col5\" >rm</th>        <th class=\"col_heading level0 col6\" >age</th>        <th class=\"col_heading level0 col7\" >dis</th>        <th class=\"col_heading level0 col8\" >rad</th>        <th class=\"col_heading level0 col9\" >tax</th>        <th class=\"col_heading level0 col10\" >ptratio</th>        <th class=\"col_heading level0 col11\" >b</th>        <th class=\"col_heading level0 col12\" >lstat</th>    </tr></thead><tbody>\n",
       "                <tr>\n",
       "                        <th id=\"T_f7d89eee_5a0b_11ea_81e5_41c397e73795level0_row0\" class=\"row_heading level0 row0\" >count</th>\n",
       "                        <td id=\"T_f7d89eee_5a0b_11ea_81e5_41c397e73795row0_col0\" class=\"data row0 col0\" >354.00</td>\n",
       "                        <td id=\"T_f7d89eee_5a0b_11ea_81e5_41c397e73795row0_col1\" class=\"data row0 col1\" >354.00</td>\n",
       "                        <td id=\"T_f7d89eee_5a0b_11ea_81e5_41c397e73795row0_col2\" class=\"data row0 col2\" >354.00</td>\n",
       "                        <td id=\"T_f7d89eee_5a0b_11ea_81e5_41c397e73795row0_col3\" class=\"data row0 col3\" >354.00</td>\n",
       "                        <td id=\"T_f7d89eee_5a0b_11ea_81e5_41c397e73795row0_col4\" class=\"data row0 col4\" >354.00</td>\n",
       "                        <td id=\"T_f7d89eee_5a0b_11ea_81e5_41c397e73795row0_col5\" class=\"data row0 col5\" >354.00</td>\n",
       "                        <td id=\"T_f7d89eee_5a0b_11ea_81e5_41c397e73795row0_col6\" class=\"data row0 col6\" >354.00</td>\n",
       "                        <td id=\"T_f7d89eee_5a0b_11ea_81e5_41c397e73795row0_col7\" class=\"data row0 col7\" >354.00</td>\n",
       "                        <td id=\"T_f7d89eee_5a0b_11ea_81e5_41c397e73795row0_col8\" class=\"data row0 col8\" >354.00</td>\n",
       "                        <td id=\"T_f7d89eee_5a0b_11ea_81e5_41c397e73795row0_col9\" class=\"data row0 col9\" >354.00</td>\n",
       "                        <td id=\"T_f7d89eee_5a0b_11ea_81e5_41c397e73795row0_col10\" class=\"data row0 col10\" >354.00</td>\n",
       "                        <td id=\"T_f7d89eee_5a0b_11ea_81e5_41c397e73795row0_col11\" class=\"data row0 col11\" >354.00</td>\n",
       "                        <td id=\"T_f7d89eee_5a0b_11ea_81e5_41c397e73795row0_col12\" class=\"data row0 col12\" >354.00</td>\n",
       "            </tr>\n",
       "            <tr>\n",
       "                        <th id=\"T_f7d89eee_5a0b_11ea_81e5_41c397e73795level0_row1\" class=\"row_heading level0 row1\" >mean</th>\n",
       "                        <td id=\"T_f7d89eee_5a0b_11ea_81e5_41c397e73795row1_col0\" class=\"data row1 col0\" >-0.00</td>\n",
       "                        <td id=\"T_f7d89eee_5a0b_11ea_81e5_41c397e73795row1_col1\" class=\"data row1 col1\" >-0.00</td>\n",
       "                        <td id=\"T_f7d89eee_5a0b_11ea_81e5_41c397e73795row1_col2\" class=\"data row1 col2\" >0.00</td>\n",
       "                        <td id=\"T_f7d89eee_5a0b_11ea_81e5_41c397e73795row1_col3\" class=\"data row1 col3\" >0.00</td>\n",
       "                        <td id=\"T_f7d89eee_5a0b_11ea_81e5_41c397e73795row1_col4\" class=\"data row1 col4\" >-0.00</td>\n",
       "                        <td id=\"T_f7d89eee_5a0b_11ea_81e5_41c397e73795row1_col5\" class=\"data row1 col5\" >0.00</td>\n",
       "                        <td id=\"T_f7d89eee_5a0b_11ea_81e5_41c397e73795row1_col6\" class=\"data row1 col6\" >0.00</td>\n",
       "                        <td id=\"T_f7d89eee_5a0b_11ea_81e5_41c397e73795row1_col7\" class=\"data row1 col7\" >-0.00</td>\n",
       "                        <td id=\"T_f7d89eee_5a0b_11ea_81e5_41c397e73795row1_col8\" class=\"data row1 col8\" >0.00</td>\n",
       "                        <td id=\"T_f7d89eee_5a0b_11ea_81e5_41c397e73795row1_col9\" class=\"data row1 col9\" >0.00</td>\n",
       "                        <td id=\"T_f7d89eee_5a0b_11ea_81e5_41c397e73795row1_col10\" class=\"data row1 col10\" >0.00</td>\n",
       "                        <td id=\"T_f7d89eee_5a0b_11ea_81e5_41c397e73795row1_col11\" class=\"data row1 col11\" >0.00</td>\n",
       "                        <td id=\"T_f7d89eee_5a0b_11ea_81e5_41c397e73795row1_col12\" class=\"data row1 col12\" >-0.00</td>\n",
       "            </tr>\n",
       "            <tr>\n",
       "                        <th id=\"T_f7d89eee_5a0b_11ea_81e5_41c397e73795level0_row2\" class=\"row_heading level0 row2\" >std</th>\n",
       "                        <td id=\"T_f7d89eee_5a0b_11ea_81e5_41c397e73795row2_col0\" class=\"data row2 col0\" >1.00</td>\n",
       "                        <td id=\"T_f7d89eee_5a0b_11ea_81e5_41c397e73795row2_col1\" class=\"data row2 col1\" >1.00</td>\n",
       "                        <td id=\"T_f7d89eee_5a0b_11ea_81e5_41c397e73795row2_col2\" class=\"data row2 col2\" >1.00</td>\n",
       "                        <td id=\"T_f7d89eee_5a0b_11ea_81e5_41c397e73795row2_col3\" class=\"data row2 col3\" >1.00</td>\n",
       "                        <td id=\"T_f7d89eee_5a0b_11ea_81e5_41c397e73795row2_col4\" class=\"data row2 col4\" >1.00</td>\n",
       "                        <td id=\"T_f7d89eee_5a0b_11ea_81e5_41c397e73795row2_col5\" class=\"data row2 col5\" >1.00</td>\n",
       "                        <td id=\"T_f7d89eee_5a0b_11ea_81e5_41c397e73795row2_col6\" class=\"data row2 col6\" >1.00</td>\n",
       "                        <td id=\"T_f7d89eee_5a0b_11ea_81e5_41c397e73795row2_col7\" class=\"data row2 col7\" >1.00</td>\n",
       "                        <td id=\"T_f7d89eee_5a0b_11ea_81e5_41c397e73795row2_col8\" class=\"data row2 col8\" >1.00</td>\n",
       "                        <td id=\"T_f7d89eee_5a0b_11ea_81e5_41c397e73795row2_col9\" class=\"data row2 col9\" >1.00</td>\n",
       "                        <td id=\"T_f7d89eee_5a0b_11ea_81e5_41c397e73795row2_col10\" class=\"data row2 col10\" >1.00</td>\n",
       "                        <td id=\"T_f7d89eee_5a0b_11ea_81e5_41c397e73795row2_col11\" class=\"data row2 col11\" >1.00</td>\n",
       "                        <td id=\"T_f7d89eee_5a0b_11ea_81e5_41c397e73795row2_col12\" class=\"data row2 col12\" >1.00</td>\n",
       "            </tr>\n",
       "            <tr>\n",
       "                        <th id=\"T_f7d89eee_5a0b_11ea_81e5_41c397e73795level0_row3\" class=\"row_heading level0 row3\" >min</th>\n",
       "                        <td id=\"T_f7d89eee_5a0b_11ea_81e5_41c397e73795row3_col0\" class=\"data row3 col0\" >-0.41</td>\n",
       "                        <td id=\"T_f7d89eee_5a0b_11ea_81e5_41c397e73795row3_col1\" class=\"data row3 col1\" >-0.48</td>\n",
       "                        <td id=\"T_f7d89eee_5a0b_11ea_81e5_41c397e73795row3_col2\" class=\"data row3 col2\" >-1.46</td>\n",
       "                        <td id=\"T_f7d89eee_5a0b_11ea_81e5_41c397e73795row3_col3\" class=\"data row3 col3\" >-0.29</td>\n",
       "                        <td id=\"T_f7d89eee_5a0b_11ea_81e5_41c397e73795row3_col4\" class=\"data row3 col4\" >-1.46</td>\n",
       "                        <td id=\"T_f7d89eee_5a0b_11ea_81e5_41c397e73795row3_col5\" class=\"data row3 col5\" >-3.99</td>\n",
       "                        <td id=\"T_f7d89eee_5a0b_11ea_81e5_41c397e73795row3_col6\" class=\"data row3 col6\" >-2.26</td>\n",
       "                        <td id=\"T_f7d89eee_5a0b_11ea_81e5_41c397e73795row3_col7\" class=\"data row3 col7\" >-1.26</td>\n",
       "                        <td id=\"T_f7d89eee_5a0b_11ea_81e5_41c397e73795row3_col8\" class=\"data row3 col8\" >-0.99</td>\n",
       "                        <td id=\"T_f7d89eee_5a0b_11ea_81e5_41c397e73795row3_col9\" class=\"data row3 col9\" >-1.32</td>\n",
       "                        <td id=\"T_f7d89eee_5a0b_11ea_81e5_41c397e73795row3_col10\" class=\"data row3 col10\" >-2.69</td>\n",
       "                        <td id=\"T_f7d89eee_5a0b_11ea_81e5_41c397e73795row3_col11\" class=\"data row3 col11\" >-3.90</td>\n",
       "                        <td id=\"T_f7d89eee_5a0b_11ea_81e5_41c397e73795row3_col12\" class=\"data row3 col12\" >-1.55</td>\n",
       "            </tr>\n",
       "            <tr>\n",
       "                        <th id=\"T_f7d89eee_5a0b_11ea_81e5_41c397e73795level0_row4\" class=\"row_heading level0 row4\" >25%</th>\n",
       "                        <td id=\"T_f7d89eee_5a0b_11ea_81e5_41c397e73795row4_col0\" class=\"data row4 col0\" >-0.40</td>\n",
       "                        <td id=\"T_f7d89eee_5a0b_11ea_81e5_41c397e73795row4_col1\" class=\"data row4 col1\" >-0.48</td>\n",
       "                        <td id=\"T_f7d89eee_5a0b_11ea_81e5_41c397e73795row4_col2\" class=\"data row4 col2\" >-0.89</td>\n",
       "                        <td id=\"T_f7d89eee_5a0b_11ea_81e5_41c397e73795row4_col3\" class=\"data row4 col3\" >-0.29</td>\n",
       "                        <td id=\"T_f7d89eee_5a0b_11ea_81e5_41c397e73795row4_col4\" class=\"data row4 col4\" >-0.91</td>\n",
       "                        <td id=\"T_f7d89eee_5a0b_11ea_81e5_41c397e73795row4_col5\" class=\"data row4 col5\" >-0.59</td>\n",
       "                        <td id=\"T_f7d89eee_5a0b_11ea_81e5_41c397e73795row4_col6\" class=\"data row4 col6\" >-0.89</td>\n",
       "                        <td id=\"T_f7d89eee_5a0b_11ea_81e5_41c397e73795row4_col7\" class=\"data row4 col7\" >-0.80</td>\n",
       "                        <td id=\"T_f7d89eee_5a0b_11ea_81e5_41c397e73795row4_col8\" class=\"data row4 col8\" >-0.65</td>\n",
       "                        <td id=\"T_f7d89eee_5a0b_11ea_81e5_41c397e73795row4_col9\" class=\"data row4 col9\" >-0.78</td>\n",
       "                        <td id=\"T_f7d89eee_5a0b_11ea_81e5_41c397e73795row4_col10\" class=\"data row4 col10\" >-0.67</td>\n",
       "                        <td id=\"T_f7d89eee_5a0b_11ea_81e5_41c397e73795row4_col11\" class=\"data row4 col11\" >0.21</td>\n",
       "                        <td id=\"T_f7d89eee_5a0b_11ea_81e5_41c397e73795row4_col12\" class=\"data row4 col12\" >-0.77</td>\n",
       "            </tr>\n",
       "            <tr>\n",
       "                        <th id=\"T_f7d89eee_5a0b_11ea_81e5_41c397e73795level0_row5\" class=\"row_heading level0 row5\" >50%</th>\n",
       "                        <td id=\"T_f7d89eee_5a0b_11ea_81e5_41c397e73795row5_col0\" class=\"data row5 col0\" >-0.38</td>\n",
       "                        <td id=\"T_f7d89eee_5a0b_11ea_81e5_41c397e73795row5_col1\" class=\"data row5 col1\" >-0.48</td>\n",
       "                        <td id=\"T_f7d89eee_5a0b_11ea_81e5_41c397e73795row5_col2\" class=\"data row5 col2\" >-0.22</td>\n",
       "                        <td id=\"T_f7d89eee_5a0b_11ea_81e5_41c397e73795row5_col3\" class=\"data row5 col3\" >-0.29</td>\n",
       "                        <td id=\"T_f7d89eee_5a0b_11ea_81e5_41c397e73795row5_col4\" class=\"data row5 col4\" >-0.17</td>\n",
       "                        <td id=\"T_f7d89eee_5a0b_11ea_81e5_41c397e73795row5_col5\" class=\"data row5 col5\" >-0.12</td>\n",
       "                        <td id=\"T_f7d89eee_5a0b_11ea_81e5_41c397e73795row5_col6\" class=\"data row5 col6\" >0.31</td>\n",
       "                        <td id=\"T_f7d89eee_5a0b_11ea_81e5_41c397e73795row5_col7\" class=\"data row5 col7\" >-0.26</td>\n",
       "                        <td id=\"T_f7d89eee_5a0b_11ea_81e5_41c397e73795row5_col8\" class=\"data row5 col8\" >-0.53</td>\n",
       "                        <td id=\"T_f7d89eee_5a0b_11ea_81e5_41c397e73795row5_col9\" class=\"data row5 col9\" >-0.47</td>\n",
       "                        <td id=\"T_f7d89eee_5a0b_11ea_81e5_41c397e73795row5_col10\" class=\"data row5 col10\" >0.30</td>\n",
       "                        <td id=\"T_f7d89eee_5a0b_11ea_81e5_41c397e73795row5_col11\" class=\"data row5 col11\" >0.39</td>\n",
       "                        <td id=\"T_f7d89eee_5a0b_11ea_81e5_41c397e73795row5_col12\" class=\"data row5 col12\" >-0.21</td>\n",
       "            </tr>\n",
       "            <tr>\n",
       "                        <th id=\"T_f7d89eee_5a0b_11ea_81e5_41c397e73795level0_row6\" class=\"row_heading level0 row6\" >75%</th>\n",
       "                        <td id=\"T_f7d89eee_5a0b_11ea_81e5_41c397e73795row6_col0\" class=\"data row6 col0\" >-0.01</td>\n",
       "                        <td id=\"T_f7d89eee_5a0b_11ea_81e5_41c397e73795row6_col1\" class=\"data row6 col1\" >0.08</td>\n",
       "                        <td id=\"T_f7d89eee_5a0b_11ea_81e5_41c397e73795row6_col2\" class=\"data row6 col2\" >1.00</td>\n",
       "                        <td id=\"T_f7d89eee_5a0b_11ea_81e5_41c397e73795row6_col3\" class=\"data row6 col3\" >-0.29</td>\n",
       "                        <td id=\"T_f7d89eee_5a0b_11ea_81e5_41c397e73795row6_col4\" class=\"data row6 col4\" >0.62</td>\n",
       "                        <td id=\"T_f7d89eee_5a0b_11ea_81e5_41c397e73795row6_col5\" class=\"data row6 col5\" >0.49</td>\n",
       "                        <td id=\"T_f7d89eee_5a0b_11ea_81e5_41c397e73795row6_col6\" class=\"data row6 col6\" >0.92</td>\n",
       "                        <td id=\"T_f7d89eee_5a0b_11ea_81e5_41c397e73795row6_col7\" class=\"data row6 col7\" >0.65</td>\n",
       "                        <td id=\"T_f7d89eee_5a0b_11ea_81e5_41c397e73795row6_col8\" class=\"data row6 col8\" >1.64</td>\n",
       "                        <td id=\"T_f7d89eee_5a0b_11ea_81e5_41c397e73795row6_col9\" class=\"data row6 col9\" >1.49</td>\n",
       "                        <td id=\"T_f7d89eee_5a0b_11ea_81e5_41c397e73795row6_col10\" class=\"data row6 col10\" >0.80</td>\n",
       "                        <td id=\"T_f7d89eee_5a0b_11ea_81e5_41c397e73795row6_col11\" class=\"data row6 col11\" >0.45</td>\n",
       "                        <td id=\"T_f7d89eee_5a0b_11ea_81e5_41c397e73795row6_col12\" class=\"data row6 col12\" >0.60</td>\n",
       "            </tr>\n",
       "            <tr>\n",
       "                        <th id=\"T_f7d89eee_5a0b_11ea_81e5_41c397e73795level0_row7\" class=\"row_heading level0 row7\" >max</th>\n",
       "                        <td id=\"T_f7d89eee_5a0b_11ea_81e5_41c397e73795row7_col0\" class=\"data row7 col0\" >9.13</td>\n",
       "                        <td id=\"T_f7d89eee_5a0b_11ea_81e5_41c397e73795row7_col1\" class=\"data row7 col1\" >4.01</td>\n",
       "                        <td id=\"T_f7d89eee_5a0b_11ea_81e5_41c397e73795row7_col2\" class=\"data row7 col2\" >2.41</td>\n",
       "                        <td id=\"T_f7d89eee_5a0b_11ea_81e5_41c397e73795row7_col3\" class=\"data row7 col3\" >3.41</td>\n",
       "                        <td id=\"T_f7d89eee_5a0b_11ea_81e5_41c397e73795row7_col4\" class=\"data row7 col4\" >2.64</td>\n",
       "                        <td id=\"T_f7d89eee_5a0b_11ea_81e5_41c397e73795row7_col5\" class=\"data row7 col5\" >3.50</td>\n",
       "                        <td id=\"T_f7d89eee_5a0b_11ea_81e5_41c397e73795row7_col6\" class=\"data row7 col6\" >1.13</td>\n",
       "                        <td id=\"T_f7d89eee_5a0b_11ea_81e5_41c397e73795row7_col7\" class=\"data row7 col7\" >4.01</td>\n",
       "                        <td id=\"T_f7d89eee_5a0b_11ea_81e5_41c397e73795row7_col8\" class=\"data row7 col8\" >1.64</td>\n",
       "                        <td id=\"T_f7d89eee_5a0b_11ea_81e5_41c397e73795row7_col9\" class=\"data row7 col9\" >1.76</td>\n",
       "                        <td id=\"T_f7d89eee_5a0b_11ea_81e5_41c397e73795row7_col10\" class=\"data row7 col10\" >1.63</td>\n",
       "                        <td id=\"T_f7d89eee_5a0b_11ea_81e5_41c397e73795row7_col11\" class=\"data row7 col11\" >0.46</td>\n",
       "                        <td id=\"T_f7d89eee_5a0b_11ea_81e5_41c397e73795row7_col12\" class=\"data row7 col12\" >3.69</td>\n",
       "            </tr>\n",
       "    </tbody></table>"
      ],
      "text/plain": [
       "<pandas.io.formats.style.Styler at 0x7f2b48814c10>"
      ]
     },
     "metadata": {},
     "output_type": "display_data"
    }
   ],
   "source": [
    "display(x_train.describe().style.format(\"{0:.2f}\").set_caption(\"Before normalization :\"))\n",
    "\n",
    "mean = x_train.mean()\n",
    "std  = x_train.std()\n",
    "x_train = (x_train - mean) / std\n",
    "x_test  = (x_test  - mean) / std\n",
    "\n",
    "display(x_train.describe().style.format(\"{0:.2f}\").set_caption(\"After normalization :\"))\n",
    "\n",
    "x_train, y_train = np.array(x_train), np.array(y_train)\n",
    "x_test,  y_test  = np.array(x_test),  np.array(y_test)\n"
   ]
  },
  {
   "cell_type": "markdown",
   "metadata": {},
   "source": [
    "## Step 4 - Build a model\n",
    "More informations about : \n",
    " - [Optimizer](https://www.tensorflow.org/api_docs/python/tf/keras/optimizers)\n",
    " - [Activation](https://www.tensorflow.org/api_docs/python/tf/keras/activations)\n",
    " - [Loss](https://www.tensorflow.org/api_docs/python/tf/keras/losses)\n",
    " - [Metrics](https://www.tensorflow.org/api_docs/python/tf/keras/metrics)"
   ]
  },
  {
   "cell_type": "code",
   "execution_count": 5,
   "metadata": {},
   "outputs": [],
   "source": [
    "  def get_model_v1(shape):\n",
    "    \n",
    "    model = keras.models.Sequential()\n",
    "    model.add(keras.layers.Input(shape, name=\"InputLayer\"))\n",
    "    model.add(keras.layers.Dense(64, activation='relu', name='Dense_n1'))\n",
    "    model.add(keras.layers.Dense(64, activation='relu', name='Dense_n2'))\n",
    "    model.add(keras.layers.Dense(1, name='Output'))\n",
    "    \n",
    "    model.compile(optimizer = 'rmsprop',\n",
    "                  loss      = 'mse',\n",
    "                  metrics   = ['mae', 'mse'] )\n",
    "    return model"
   ]
  },
  {
   "cell_type": "markdown",
   "metadata": {},
   "source": [
    "## 5 - Train the model\n",
    "### 5.1 - Get it"
   ]
  },
  {
   "cell_type": "code",
   "execution_count": 6,
   "metadata": {},
   "outputs": [
    {
     "name": "stdout",
     "output_type": "stream",
     "text": [
      "Model: \"sequential\"\n",
      "_________________________________________________________________\n",
      "Layer (type)                 Output Shape              Param #   \n",
      "=================================================================\n",
      "Dense_n1 (Dense)             (None, 64)                896       \n",
      "_________________________________________________________________\n",
      "Dense_n2 (Dense)             (None, 64)                4160      \n",
      "_________________________________________________________________\n",
      "Output (Dense)               (None, 1)                 65        \n",
      "=================================================================\n",
      "Total params: 5,121\n",
      "Trainable params: 5,121\n",
      "Non-trainable params: 0\n",
      "_________________________________________________________________\n"
     ]
    },
    {
     "data": {
      "image/png": "[encoded data removed]",
      "text/plain": [
       "<IPython.core.display.Image object>"
      ]
     },
     "metadata": {},
     "output_type": "display_data"
    }
   ],
   "source": [
    "model=get_model_v1( (13,) )\n",
    "\n",
    "model.summary()\n",
    "img=keras.utils.plot_model( model, to_file='./run/model.png', show_shapes=True, show_layer_names=True, dpi=96)\n",
    "display(img)"
   ]
  },
  {
   "cell_type": "markdown",
   "metadata": {},
   "source": [
    "### 5.2 - Add callback"
   ]
  },
  {
   "cell_type": "code",
   "execution_count": 7,
   "metadata": {},
   "outputs": [],
   "source": [
    "os.makedirs('./run/models',   mode=0o750, exist_ok=True)\n",
    "save_dir = \"./run/models/best_model.h5\"\n",
    "\n",
    "savemodel_callback = tf.keras.callbacks.ModelCheckpoint(filepath=save_dir, verbose=0, save_best_only=True)"
   ]
  },
  {
   "cell_type": "markdown",
   "metadata": {},
   "source": [
    "### 5.3 - Train it"
   ]
  },
  {
   "cell_type": "code",
   "execution_count": 8,
   "metadata": {},
   "outputs": [
    {
     "name": "stdout",
     "output_type": "stream",
     "text": [
      "Train on 354 samples, validate on 152 samples\n",
      "Epoch 1/100\n",
      "354/354 [==============================] - 1s 3ms/sample - loss: 452.0200 - mae: 19.1483 - mse: 452.0200 - val_loss: 295.4043 - val_mae: 15.2476 - val_mse: 295.4043\n",
      "Epoch 2/100\n",
      "354/354 [==============================] - 0s 318us/sample - loss: 203.8159 - mae: 11.9110 - mse: 203.8159 - val_loss: 102.2654 - val_mae: 8.2041 - val_mse: 102.2654\n",
      "Epoch 3/100\n",
      "354/354 [==============================] - 0s 322us/sample - loss: 82.2725 - mae: 6.6720 - mse: 82.2725 - val_loss: 48.9591 - val_mae: 5.3325 - val_mse: 48.9591\n",
      "Epoch 4/100\n",
      "354/354 [==============================] - 0s 330us/sample - loss: 47.3532 - mae: 4.9323 - mse: 47.3532 - val_loss: 30.3381 - val_mae: 4.0806 - val_mse: 30.3381\n",
      "Epoch 5/100\n",
      "354/354 [==============================] - 0s 332us/sample - loss: 34.2380 - mae: 4.1989 - mse: 34.2380 - val_loss: 25.3102 - val_mae: 3.6149 - val_mse: 25.3102\n",
      "Epoch 6/100\n",
      "354/354 [==============================] - 0s 330us/sample - loss: 27.7203 - mae: 3.7333 - mse: 27.7203 - val_loss: 24.1136 - val_mae: 3.4089 - val_mse: 24.1136\n",
      "Epoch 7/100\n",
      "354/354 [==============================] - 0s 336us/sample - loss: 23.4702 - mae: 3.4503 - mse: 23.4702 - val_loss: 21.9095 - val_mae: 3.1906 - val_mse: 21.9095\n",
      "Epoch 8/100\n",
      "354/354 [==============================] - 0s 322us/sample - loss: 19.8215 - mae: 3.1687 - mse: 19.8215 - val_loss: 21.9063 - val_mae: 3.2564 - val_mse: 21.9063\n",
      "Epoch 9/100\n",
      "354/354 [==============================] - 0s 326us/sample - loss: 17.6146 - mae: 2.9640 - mse: 17.6146 - val_loss: 19.1573 - val_mae: 2.9280 - val_mse: 19.1573\n",
      "Epoch 10/100\n",
      "354/354 [==============================] - 0s 288us/sample - loss: 15.9631 - mae: 2.8267 - mse: 15.9631 - val_loss: 19.1600 - val_mae: 2.8806 - val_mse: 19.1600\n",
      "Epoch 11/100\n",
      "354/354 [==============================] - 0s 326us/sample - loss: 14.4344 - mae: 2.6588 - mse: 14.4344 - val_loss: 18.0972 - val_mae: 2.7704 - val_mse: 18.0972\n",
      "Epoch 12/100\n",
      "354/354 [==============================] - 0s 330us/sample - loss: 13.3890 - mae: 2.5821 - mse: 13.3890 - val_loss: 18.0529 - val_mae: 2.7683 - val_mse: 18.0529\n",
      "Epoch 13/100\n",
      "354/354 [==============================] - 0s 326us/sample - loss: 12.7002 - mae: 2.5117 - mse: 12.7002 - val_loss: 17.7848 - val_mae: 2.6781 - val_mse: 17.7848\n",
      "Epoch 14/100\n",
      "354/354 [==============================] - 0s 279us/sample - loss: 11.8030 - mae: 2.4625 - mse: 11.8030 - val_loss: 18.4840 - val_mae: 2.7626 - val_mse: 18.4840\n",
      "Epoch 15/100\n",
      "354/354 [==============================] - 0s 331us/sample - loss: 11.4627 - mae: 2.3904 - mse: 11.4627 - val_loss: 17.1289 - val_mae: 2.6199 - val_mse: 17.1289\n",
      "Epoch 16/100\n",
      "354/354 [==============================] - 0s 284us/sample - loss: 11.1781 - mae: 2.3387 - mse: 11.1781 - val_loss: 17.9369 - val_mae: 2.6804 - val_mse: 17.9369\n",
      "Epoch 17/100\n",
      "354/354 [==============================] - 0s 326us/sample - loss: 10.7485 - mae: 2.3250 - mse: 10.7485 - val_loss: 16.6649 - val_mae: 2.5390 - val_mse: 16.6649\n",
      "Epoch 18/100\n",
      "354/354 [==============================] - 0s 294us/sample - loss: 10.5149 - mae: 2.2548 - mse: 10.5149 - val_loss: 18.1112 - val_mae: 2.6858 - val_mse: 18.1112\n",
      "Epoch 19/100\n",
      "354/354 [==============================] - 0s 295us/sample - loss: 10.4495 - mae: 2.2872 - mse: 10.4495 - val_loss: 17.9377 - val_mae: 2.6937 - val_mse: 17.9377\n",
      "Epoch 20/100\n",
      "354/354 [==============================] - 0s 277us/sample - loss: 10.2075 - mae: 2.2586 - mse: 10.2075 - val_loss: 17.5565 - val_mae: 2.5374 - val_mse: 17.5565\n",
      "Epoch 21/100\n",
      "354/354 [==============================] - 0s 325us/sample - loss: 10.0869 - mae: 2.2396 - mse: 10.0869 - val_loss: 16.2770 - val_mae: 2.4551 - val_mse: 16.2770\n",
      "Epoch 22/100\n",
      "354/354 [==============================] - 0s 278us/sample - loss: 9.5957 - mae: 2.1407 - mse: 9.5957 - val_loss: 17.8160 - val_mae: 2.6874 - val_mse: 17.8160\n",
      "Epoch 23/100\n",
      "354/354 [==============================] - 0s 304us/sample - loss: 9.7569 - mae: 2.2057 - mse: 9.7569 - val_loss: 15.5761 - val_mae: 2.4537 - val_mse: 15.5761\n",
      "Epoch 24/100\n",
      "354/354 [==============================] - 0s 286us/sample - loss: 9.4873 - mae: 2.1643 - mse: 9.4873 - val_loss: 16.8661 - val_mae: 2.5735 - val_mse: 16.8661\n",
      "Epoch 25/100\n",
      "354/354 [==============================] - 0s 287us/sample - loss: 9.0956 - mae: 2.1422 - mse: 9.0956 - val_loss: 16.5815 - val_mae: 2.4812 - val_mse: 16.5815\n",
      "Epoch 26/100\n",
      "354/354 [==============================] - 0s 288us/sample - loss: 9.3352 - mae: 2.1471 - mse: 9.3352 - val_loss: 16.0146 - val_mae: 2.4404 - val_mse: 16.0146\n",
      "Epoch 27/100\n",
      "354/354 [==============================] - 0s 286us/sample - loss: 8.6794 - mae: 2.0948 - mse: 8.6794 - val_loss: 18.2565 - val_mae: 2.7272 - val_mse: 18.2565\n",
      "Epoch 28/100\n",
      "354/354 [==============================] - 0s 294us/sample - loss: 8.9854 - mae: 2.1159 - mse: 8.9854 - val_loss: 16.4515 - val_mae: 2.5282 - val_mse: 16.4515\n",
      "Epoch 29/100\n",
      "354/354 [==============================] - 0s 286us/sample - loss: 8.8348 - mae: 2.1032 - mse: 8.8348 - val_loss: 17.2604 - val_mae: 2.5932 - val_mse: 17.2604\n",
      "Epoch 30/100\n",
      "354/354 [==============================] - 0s 244us/sample - loss: 8.7365 - mae: 2.0970 - mse: 8.7365 - val_loss: 16.1155 - val_mae: 2.4509 - val_mse: 16.1155\n",
      "Epoch 31/100\n",
      "354/354 [==============================] - 0s 282us/sample - loss: 8.6290 - mae: 2.0487 - mse: 8.6290 - val_loss: 16.9125 - val_mae: 2.5010 - val_mse: 16.9125\n",
      "Epoch 32/100\n",
      "354/354 [==============================] - 0s 280us/sample - loss: 8.6531 - mae: 2.0411 - mse: 8.6531 - val_loss: 15.7585 - val_mae: 2.4288 - val_mse: 15.7585\n",
      "Epoch 33/100\n",
      "354/354 [==============================] - 0s 330us/sample - loss: 8.6551 - mae: 2.0516 - mse: 8.6551 - val_loss: 15.4765 - val_mae: 2.4073 - val_mse: 15.4765\n",
      "Epoch 34/100\n",
      "354/354 [==============================] - 0s 292us/sample - loss: 8.4218 - mae: 2.0072 - mse: 8.4218 - val_loss: 16.2900 - val_mae: 2.5081 - val_mse: 16.2900\n",
      "Epoch 35/100\n",
      "354/354 [==============================] - 0s 293us/sample - loss: 8.3149 - mae: 1.9851 - mse: 8.3149 - val_loss: 15.7184 - val_mae: 2.4337 - val_mse: 15.7184\n",
      "Epoch 36/100\n",
      "354/354 [==============================] - 0s 289us/sample - loss: 8.4496 - mae: 2.0142 - mse: 8.4496 - val_loss: 16.2760 - val_mae: 2.5489 - val_mse: 16.2760\n",
      "Epoch 37/100\n",
      "354/354 [==============================] - 0s 334us/sample - loss: 8.0962 - mae: 1.9872 - mse: 8.0962 - val_loss: 15.3895 - val_mae: 2.3543 - val_mse: 15.3895\n",
      "Epoch 38/100\n",
      "354/354 [==============================] - 0s 298us/sample - loss: 8.1599 - mae: 1.9882 - mse: 8.1599 - val_loss: 16.0081 - val_mae: 2.3977 - val_mse: 16.0081\n",
      "Epoch 39/100\n",
      "354/354 [==============================] - 0s 286us/sample - loss: 7.9958 - mae: 1.9817 - mse: 7.9958 - val_loss: 15.8999 - val_mae: 2.4583 - val_mse: 15.8999\n",
      "Epoch 40/100\n",
      "354/354 [==============================] - 0s 282us/sample - loss: 7.8666 - mae: 1.9441 - mse: 7.8666 - val_loss: 16.8131 - val_mae: 2.6931 - val_mse: 16.8131\n",
      "Epoch 41/100\n",
      "354/354 [==============================] - 0s 293us/sample - loss: 7.9312 - mae: 1.9216 - mse: 7.9312 - val_loss: 15.4608 - val_mae: 2.3995 - val_mse: 15.4608\n",
      "Epoch 42/100\n",
      "354/354 [==============================] - 0s 286us/sample - loss: 7.6752 - mae: 1.9127 - mse: 7.6752 - val_loss: 15.8675 - val_mae: 2.5118 - val_mse: 15.8675\n",
      "Epoch 43/100\n",
      "354/354 [==============================] - 0s 332us/sample - loss: 7.7535 - mae: 1.9296 - mse: 7.7535 - val_loss: 15.2040 - val_mae: 2.3731 - val_mse: 15.2040\n",
      "Epoch 44/100\n",
      "354/354 [==============================] - 0s 331us/sample - loss: 7.6188 - mae: 1.9150 - mse: 7.6188 - val_loss: 15.0409 - val_mae: 2.3680 - val_mse: 15.0409\n",
      "Epoch 45/100\n",
      "354/354 [==============================] - 0s 284us/sample - loss: 7.6286 - mae: 1.8755 - mse: 7.6286 - val_loss: 15.1650 - val_mae: 2.3595 - val_mse: 15.1650\n",
      "Epoch 46/100\n",
      "354/354 [==============================] - 0s 278us/sample - loss: 7.7937 - mae: 1.9318 - mse: 7.7937 - val_loss: 15.7196 - val_mae: 2.4218 - val_mse: 15.7196\n",
      "Epoch 47/100\n",
      "354/354 [==============================] - 0s 275us/sample - loss: 7.4244 - mae: 1.9022 - mse: 7.4244 - val_loss: 15.5651 - val_mae: 2.4811 - val_mse: 15.5651\n",
      "Epoch 48/100\n",
      "354/354 [==============================] - 0s 330us/sample - loss: 7.4042 - mae: 1.9083 - mse: 7.4042 - val_loss: 14.7377 - val_mae: 2.3598 - val_mse: 14.7377\n",
      "Epoch 49/100\n",
      "354/354 [==============================] - 0s 270us/sample - loss: 7.3230 - mae: 1.8741 - mse: 7.3230 - val_loss: 15.2313 - val_mae: 2.4210 - val_mse: 15.2313\n",
      "Epoch 50/100\n",
      "354/354 [==============================] - 0s 276us/sample - loss: 7.3075 - mae: 1.8614 - mse: 7.3075 - val_loss: 14.7584 - val_mae: 2.3305 - val_mse: 14.7584\n",
      "Epoch 51/100\n",
      "354/354 [==============================] - 0s 270us/sample - loss: 7.4376 - mae: 1.8956 - mse: 7.4376 - val_loss: 15.3226 - val_mae: 2.3742 - val_mse: 15.3226\n",
      "Epoch 52/100\n",
      "354/354 [==============================] - 0s 287us/sample - loss: 7.1467 - mae: 1.8380 - mse: 7.1467 - val_loss: 15.5150 - val_mae: 2.4291 - val_mse: 15.5150\n",
      "Epoch 53/100\n",
      "354/354 [==============================] - 0s 271us/sample - loss: 6.9376 - mae: 1.8018 - mse: 6.9376 - val_loss: 16.2807 - val_mae: 2.5440 - val_mse: 16.2807\n",
      "Epoch 54/100\n",
      "354/354 [==============================] - 0s 289us/sample - loss: 7.0885 - mae: 1.8170 - mse: 7.0885 - val_loss: 15.2975 - val_mae: 2.4258 - val_mse: 15.2975\n",
      "Epoch 55/100\n",
      "354/354 [==============================] - 0s 284us/sample - loss: 7.0596 - mae: 1.8107 - mse: 7.0596 - val_loss: 15.7460 - val_mae: 2.4825 - val_mse: 15.7460\n",
      "Epoch 56/100\n",
      "354/354 [==============================] - 0s 288us/sample - loss: 6.7812 - mae: 1.8335 - mse: 6.7812 - val_loss: 14.7849 - val_mae: 2.3684 - val_mse: 14.7849\n",
      "Epoch 57/100\n",
      "354/354 [==============================] - 0s 290us/sample - loss: 6.9172 - mae: 1.8140 - mse: 6.9172 - val_loss: 15.1139 - val_mae: 2.4500 - val_mse: 15.1139\n",
      "Epoch 58/100\n",
      "354/354 [==============================] - 0s 284us/sample - loss: 6.8010 - mae: 1.7637 - mse: 6.8010 - val_loss: 16.7211 - val_mae: 2.5769 - val_mse: 16.7211\n",
      "Epoch 59/100\n",
      "354/354 [==============================] - 0s 271us/sample - loss: 6.8954 - mae: 1.8046 - mse: 6.8954 - val_loss: 15.1101 - val_mae: 2.4743 - val_mse: 15.1101\n",
      "Epoch 60/100\n",
      "354/354 [==============================] - 0s 280us/sample - loss: 6.7740 - mae: 1.7866 - mse: 6.7740 - val_loss: 15.0811 - val_mae: 2.3838 - val_mse: 15.0811\n",
      "Epoch 61/100\n",
      "354/354 [==============================] - 0s 323us/sample - loss: 6.8996 - mae: 1.7872 - mse: 6.8996 - val_loss: 14.4203 - val_mae: 2.3199 - val_mse: 14.4203\n",
      "Epoch 62/100\n",
      "354/354 [==============================] - 0s 277us/sample - loss: 6.7188 - mae: 1.7858 - mse: 6.7188 - val_loss: 14.5972 - val_mae: 2.3610 - val_mse: 14.5972\n",
      "Epoch 63/100\n",
      "354/354 [==============================] - 0s 266us/sample - loss: 6.5708 - mae: 1.7710 - mse: 6.5708 - val_loss: 14.5145 - val_mae: 2.3563 - val_mse: 14.5145\n",
      "Epoch 64/100\n",
      "354/354 [==============================] - 0s 273us/sample - loss: 6.1133 - mae: 1.6706 - mse: 6.1133 - val_loss: 14.9870 - val_mae: 2.4017 - val_mse: 14.9870\n",
      "Epoch 65/100\n",
      "354/354 [==============================] - 0s 313us/sample - loss: 6.4980 - mae: 1.7295 - mse: 6.4980 - val_loss: 14.0636 - val_mae: 2.3661 - val_mse: 14.0636\n",
      "Epoch 66/100\n",
      "354/354 [==============================] - 0s 262us/sample - loss: 6.5237 - mae: 1.7277 - mse: 6.5237 - val_loss: 14.2366 - val_mae: 2.3318 - val_mse: 14.2366\n",
      "Epoch 67/100\n",
      "354/354 [==============================] - 0s 326us/sample - loss: 6.3067 - mae: 1.7433 - mse: 6.3067 - val_loss: 14.0032 - val_mae: 2.3350 - val_mse: 14.0032\n",
      "Epoch 68/100\n",
      "354/354 [==============================] - 0s 286us/sample - loss: 6.4447 - mae: 1.7336 - mse: 6.4447 - val_loss: 14.4271 - val_mae: 2.3149 - val_mse: 14.4271\n",
      "Epoch 69/100\n",
      "354/354 [==============================] - 0s 332us/sample - loss: 6.3821 - mae: 1.7012 - mse: 6.3821 - val_loss: 13.9716 - val_mae: 2.3141 - val_mse: 13.9716\n",
      "Epoch 70/100\n",
      "354/354 [==============================] - 0s 251us/sample - loss: 6.3734 - mae: 1.7080 - mse: 6.3734 - val_loss: 14.9184 - val_mae: 2.4716 - val_mse: 14.9184\n",
      "Epoch 71/100\n",
      "354/354 [==============================] - 0s 321us/sample - loss: 6.4273 - mae: 1.7281 - mse: 6.4273 - val_loss: 13.8686 - val_mae: 2.3176 - val_mse: 13.8686\n",
      "Epoch 72/100\n",
      "354/354 [==============================] - 0s 285us/sample - loss: 6.2473 - mae: 1.6967 - mse: 6.2473 - val_loss: 14.2249 - val_mae: 2.3450 - val_mse: 14.2249\n",
      "Epoch 73/100\n",
      "354/354 [==============================] - 0s 286us/sample - loss: 6.3427 - mae: 1.7034 - mse: 6.3427 - val_loss: 14.3159 - val_mae: 2.3431 - val_mse: 14.3159\n",
      "Epoch 74/100\n",
      "354/354 [==============================] - 0s 287us/sample - loss: 6.0929 - mae: 1.6752 - mse: 6.0929 - val_loss: 14.2151 - val_mae: 2.3644 - val_mse: 14.2151\n",
      "Epoch 75/100\n",
      "354/354 [==============================] - 0s 289us/sample - loss: 6.1445 - mae: 1.6985 - mse: 6.1445 - val_loss: 14.8251 - val_mae: 2.4202 - val_mse: 14.8251\n",
      "Epoch 76/100\n",
      "354/354 [==============================] - 0s 311us/sample - loss: 6.2184 - mae: 1.6867 - mse: 6.2184 - val_loss: 14.0596 - val_mae: 2.3274 - val_mse: 14.0596\n",
      "Epoch 77/100\n",
      "354/354 [==============================] - 0s 340us/sample - loss: 6.1201 - mae: 1.6785 - mse: 6.1201 - val_loss: 13.4886 - val_mae: 2.2769 - val_mse: 13.4886\n",
      "Epoch 78/100\n",
      "354/354 [==============================] - 0s 286us/sample - loss: 5.9001 - mae: 1.6716 - mse: 5.9001 - val_loss: 14.0295 - val_mae: 2.3214 - val_mse: 14.0295\n",
      "Epoch 79/100\n",
      "354/354 [==============================] - 0s 284us/sample - loss: 6.0389 - mae: 1.6783 - mse: 6.0389 - val_loss: 14.0250 - val_mae: 2.3245 - val_mse: 14.0250\n",
      "Epoch 80/100\n",
      "354/354 [==============================] - 0s 288us/sample - loss: 5.8268 - mae: 1.6458 - mse: 5.8268 - val_loss: 15.2746 - val_mae: 2.4834 - val_mse: 15.2746\n",
      "Epoch 81/100\n",
      "354/354 [==============================] - 0s 284us/sample - loss: 5.8671 - mae: 1.6680 - mse: 5.8671 - val_loss: 14.4935 - val_mae: 2.4353 - val_mse: 14.4935\n",
      "Epoch 82/100\n",
      "354/354 [==============================] - 0s 274us/sample - loss: 5.8115 - mae: 1.6742 - mse: 5.8115 - val_loss: 14.6922 - val_mae: 2.3631 - val_mse: 14.6922\n",
      "Epoch 83/100\n",
      "354/354 [==============================] - 0s 331us/sample - loss: 5.8561 - mae: 1.6727 - mse: 5.8561 - val_loss: 13.4236 - val_mae: 2.2982 - val_mse: 13.4236\n",
      "Epoch 84/100\n",
      "354/354 [==============================] - 0s 290us/sample - loss: 5.7500 - mae: 1.5833 - mse: 5.7500 - val_loss: 14.4867 - val_mae: 2.4330 - val_mse: 14.4867\n",
      "Epoch 85/100\n",
      "354/354 [==============================] - 0s 286us/sample - loss: 5.6700 - mae: 1.6435 - mse: 5.6700 - val_loss: 13.9873 - val_mae: 2.3614 - val_mse: 13.9873\n",
      "Epoch 86/100\n",
      "354/354 [==============================] - 0s 268us/sample - loss: 5.6816 - mae: 1.6524 - mse: 5.6816 - val_loss: 13.4864 - val_mae: 2.3505 - val_mse: 13.4864\n",
      "Epoch 87/100\n",
      "354/354 [==============================] - 0s 267us/sample - loss: 5.5838 - mae: 1.6220 - mse: 5.5838 - val_loss: 15.4727 - val_mae: 2.5215 - val_mse: 15.4727\n",
      "Epoch 88/100\n",
      "354/354 [==============================] - 0s 284us/sample - loss: 5.6117 - mae: 1.6208 - mse: 5.6117 - val_loss: 13.6392 - val_mae: 2.3150 - val_mse: 13.6392\n",
      "Epoch 89/100\n",
      "354/354 [==============================] - 0s 324us/sample - loss: 5.5648 - mae: 1.6051 - mse: 5.5648 - val_loss: 13.2082 - val_mae: 2.2858 - val_mse: 13.2082\n",
      "Epoch 90/100\n",
      "354/354 [==============================] - 0s 288us/sample - loss: 5.6019 - mae: 1.5946 - mse: 5.6019 - val_loss: 13.7882 - val_mae: 2.3677 - val_mse: 13.7882\n",
      "Epoch 91/100\n",
      "354/354 [==============================] - 0s 336us/sample - loss: 5.4979 - mae: 1.6000 - mse: 5.4979 - val_loss: 12.9619 - val_mae: 2.2898 - val_mse: 12.9619\n",
      "Epoch 92/100\n",
      "354/354 [==============================] - 0s 294us/sample - loss: 5.4595 - mae: 1.5815 - mse: 5.4595 - val_loss: 13.8617 - val_mae: 2.3735 - val_mse: 13.8617\n",
      "Epoch 93/100\n",
      "354/354 [==============================] - 0s 321us/sample - loss: 5.1999 - mae: 1.6043 - mse: 5.1999 - val_loss: 12.9011 - val_mae: 2.3053 - val_mse: 12.9011\n",
      "Epoch 94/100\n",
      "354/354 [==============================] - 0s 268us/sample - loss: 5.2630 - mae: 1.5463 - mse: 5.2630 - val_loss: 14.3610 - val_mae: 2.4348 - val_mse: 14.3610\n",
      "Epoch 95/100\n",
      "354/354 [==============================] - 0s 300us/sample - loss: 5.3272 - mae: 1.6047 - mse: 5.3272 - val_loss: 12.9650 - val_mae: 2.2989 - val_mse: 12.9650\n",
      "Epoch 96/100\n",
      "354/354 [==============================] - 0s 283us/sample - loss: 5.3137 - mae: 1.5796 - mse: 5.3137 - val_loss: 13.9091 - val_mae: 2.3669 - val_mse: 13.9091\n",
      "Epoch 97/100\n",
      "354/354 [==============================] - 0s 280us/sample - loss: 5.2891 - mae: 1.5773 - mse: 5.2891 - val_loss: 13.2578 - val_mae: 2.3012 - val_mse: 13.2578\n",
      "Epoch 98/100\n",
      "354/354 [==============================] - 0s 264us/sample - loss: 5.3977 - mae: 1.5920 - mse: 5.3977 - val_loss: 13.8690 - val_mae: 2.4075 - val_mse: 13.8690\n",
      "Epoch 99/100\n",
      "354/354 [==============================] - 0s 273us/sample - loss: 5.3071 - mae: 1.5391 - mse: 5.3071 - val_loss: 12.9043 - val_mae: 2.2816 - val_mse: 12.9043\n",
      "Epoch 100/100\n",
      "354/354 [==============================] - 0s 318us/sample - loss: 5.2748 - mae: 1.5458 - mse: 5.2748 - val_loss: 12.6915 - val_mae: 2.2683 - val_mse: 12.6915\n"
     ]
    }
   ],
   "source": [
    "history = model.fit(x_train,\n",
    "                    y_train,\n",
    "                    epochs          = 100,\n",
    "                    batch_size      = 10,\n",
    "                    verbose         = 1,\n",
    "                    validation_data = (x_test, y_test),\n",
    "                    callbacks       = [savemodel_callback])"
   ]
  },
  {
   "cell_type": "markdown",
   "metadata": {},
   "source": [
    "## Step 6 - Evaluate\n",
    "### 6.1 - Model evaluation\n",
    "MAE =  Mean Absolute Error (between the labels and predictions)  \n",
    "A mae equal to 3 represents an average error in prediction of $3k."
   ]
  },
  {
   "cell_type": "code",
   "execution_count": 9,
   "metadata": {},
   "outputs": [
    {
     "name": "stdout",
     "output_type": "stream",
     "text": [
      "x_test / loss      : 12.6915\n",
      "x_test / mae       : 2.2683\n",
      "x_test / mse       : 12.6915\n"
     ]
    }
   ],
   "source": [
    "score = model.evaluate(x_test, y_test, verbose=0)\n",
    "\n",
    "print('x_test / loss      : {:5.4f}'.format(score[0]))\n",
    "print('x_test / mae       : {:5.4f}'.format(score[1]))\n",
    "print('x_test / mse       : {:5.4f}'.format(score[2]))"
   ]
  },
  {
   "cell_type": "markdown",
   "metadata": {},
   "source": [
    "### 6.2 - Training history\n",
    "What was the best result during our training ?"
   ]
  },
  {
   "cell_type": "code",
   "execution_count": 10,
   "metadata": {},
   "outputs": [
    {
     "name": "stdout",
     "output_type": "stream",
     "text": [
      "min( val_mae ) : 2.2683\n"
     ]
    }
   ],
   "source": [
    "print(\"min( val_mae ) : {:.4f}\".format( min(history.history[\"val_mae\"]) ) )"
   ]
  },
  {
   "cell_type": "code",
   "execution_count": 11,
   "metadata": {},
   "outputs": [
    {
     "data": {
      "image/png": "[encoded data removed]",
      "text/plain": [
       "<Figure size 576x432 with 1 Axes>"
      ]
     },
     "metadata": {
      "needs_background": "light"
     },
     "output_type": "display_data"
    },
    {
     "data": {
      "image/png": "[encoded data removed]",
      "text/plain": [
       "<Figure size 576x432 with 1 Axes>"
      ]
     },
     "metadata": {
      "needs_background": "light"
     },
     "output_type": "display_data"
    },
    {
     "data": {
      "image/png": "[encoded data removed]",
      "text/plain": [
       "<Figure size 576x432 with 1 Axes>"
      ]
     },
     "metadata": {
      "needs_background": "light"
     },
     "output_type": "display_data"
    }
   ],
   "source": [
    "ooo.plot_history(history, plot={'MSE' :['mse', 'val_mse'],\n",
    "                                'MAE' :['mae', 'val_mae'],\n",
    "                                'LOSS':['loss','val_loss']})"
   ]
  },
  {
   "cell_type": "markdown",
   "metadata": {},
   "source": [
    "## Step 7 - Restore a model :"
   ]
  },
  {
   "cell_type": "markdown",
   "metadata": {},
   "source": [
    "### 7.1 - Reload model"
   ]
  },
  {
   "cell_type": "code",
   "execution_count": 12,
   "metadata": {},
   "outputs": [
    {
     "name": "stdout",
     "output_type": "stream",
     "text": [
      "Model: \"sequential\"\n",
      "_________________________________________________________________\n",
      "Layer (type)                 Output Shape              Param #   \n",
      "=================================================================\n",
      "Dense_n1 (Dense)             (None, 64)                896       \n",
      "_________________________________________________________________\n",
      "Dense_n2 (Dense)             (None, 64)                4160      \n",
      "_________________________________________________________________\n",
      "Output (Dense)               (None, 1)                 65        \n",
      "=================================================================\n",
      "Total params: 5,121\n",
      "Trainable params: 5,121\n",
      "Non-trainable params: 0\n",
      "_________________________________________________________________\n",
      "Loaded.\n"
     ]
    }
   ],
   "source": [
    "loaded_model = tf.keras.models.load_model('./run/models/best_model.h5')\n",
    "loaded_model.summary()\n",
    "print(\"Loaded.\")"
   ]
  },
  {
   "cell_type": "markdown",
   "metadata": {},
   "source": [
    "### 7.2 - Evaluate it :"
   ]
  },
  {
   "cell_type": "code",
   "execution_count": 13,
   "metadata": {},
   "outputs": [
    {
     "name": "stdout",
     "output_type": "stream",
     "text": [
      "x_test / loss      : 12.6915\n",
      "x_test / mae       : 2.2683\n",
      "x_test / mse       : 12.6915\n"
     ]
    }
   ],
   "source": [
    "score = loaded_model.evaluate(x_test, y_test, verbose=0)\n",
    "\n",
    "print('x_test / loss      : {:5.4f}'.format(score[0]))\n",
    "print('x_test / mae       : {:5.4f}'.format(score[1]))\n",
    "print('x_test / mse       : {:5.4f}'.format(score[2]))"
   ]
  },
  {
   "cell_type": "markdown",
   "metadata": {},
   "source": [
    "### 7.3 - Make a prediction"
   ]
  },
  {
   "cell_type": "code",
   "execution_count": 14,
   "metadata": {},
   "outputs": [],
   "source": [
    "my_data = [ 1.26425925, -0.48522739,  1.0436489 , -0.23112788,  1.37120745,\n",
    "       -2.14308942,  1.13489104, -1.06802005,  1.71189006,  1.57042287,\n",
    "        0.77859951,  0.14769795,  2.7585581 ]\n",
    "real_price = 10.4\n",
    "\n",
    "my_data=np.array(my_data).reshape(1,13)"
   ]
  },
  {
   "cell_type": "code",
   "execution_count": 15,
   "metadata": {},
   "outputs": [
    {
     "name": "stdout",
     "output_type": "stream",
     "text": [
      "Prédiction : 10.75 K$   Reality : 10.40 K$\n"
     ]
    }
   ],
   "source": [
    "predictions = loaded_model.predict( my_data )\n",
    "print(\"Prédiction : {:.2f} K$   Reality : {:.2f} K$\".format(predictions[0][0], real_price))"
   ]
  },
  {
   "cell_type": "markdown",
   "metadata": {},
   "source": [
    "---\n",
    "<img width=\"80px\" src=\"../fidle/img/00-Fidle-logo-01.svg\"></img>"
   ]
  }
 ],
 "metadata": {
  "kernelspec": {
   "display_name": "Python 3",
   "language": "python",
   "name": "python3"
  },
  "language_info": {
   "codemirror_mode": {
    "name": "ipython",
    "version": 3
   },
   "file_extension": ".py",
   "mimetype": "text/x-python",
   "name": "python",
   "nbconvert_exporter": "python",
   "pygments_lexer": "ipython3",
   "version": "3.7.6"
  }
 },
 "nbformat": 4,
 "nbformat_minor": 4
}
