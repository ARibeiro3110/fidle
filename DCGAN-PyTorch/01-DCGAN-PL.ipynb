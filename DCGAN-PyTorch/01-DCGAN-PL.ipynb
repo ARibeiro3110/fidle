{
 "cells": [
  {
   "cell_type": "markdown",
   "metadata": {},
   "source": [
    "# GAN using PyTorch Lightning \n",
    "\n",
    "See : \n",
    "- https://pytorch-lightning.readthedocs.io/en/stable/notebooks/lightning_examples/basic-gan.html\n",
    "- https://www.assemblyai.com/blog/pytorch-lightning-for-dummies/\n",
    "\n",
    "\n",
    "Note : Need \n",
    "```pip install ipywidgets lightning tqdm```"
   ]
  },
  {
   "cell_type": "markdown",
   "metadata": {},
   "source": [
    "## Step 1 - Init and parameters\n",
    "#### Python init"
   ]
  },
  {
   "cell_type": "code",
   "execution_count": null,
   "metadata": {
    "tags": []
   },
   "outputs": [],
   "source": [
    "import os\n",
    "import sys\n",
    "\n",
    "import numpy as np\n",
    "import torch\n",
    "import torch.nn as nn\n",
    "import torch.nn.functional as F\n",
    "import torchvision\n",
    "import torchvision.transforms as transforms\n",
    "from lightning import LightningDataModule, LightningModule, Trainer\n",
    "from lightning.pytorch.callbacks.progress.tqdm_progress import TQDMProgressBar\n",
    "from lightning.pytorch.callbacks.progress.base          import ProgressBarBase\n",
    "from lightning.pytorch.callbacks                        import ModelCheckpoint\n",
    "from lightning.pytorch.loggers.tensorboard              import TensorBoardLogger\n",
    "\n",
    "from tqdm import tqdm\n",
    "from torch.utils.data import DataLoader\n",
    "\n",
    "import fidle\n",
    "\n",
    "from modules.SmartProgressBar    import SmartProgressBar\n",
    "from modules.QuickDrawDataModule import QuickDrawDataModule\n",
    "\n",
    "from modules.GAN                 import GAN\n",
    "from modules.Generators          import *\n",
    "from modules.Discriminators      import *\n",
    "\n",
    "# Init Fidle environment\n",
    "run_id, run_dir, datasets_dir = fidle.init('SHEEP3')"
   ]
  },
  {
   "cell_type": "markdown",
   "metadata": {},
   "source": [
    "#### Few parameters"
   ]
  },
  {
   "cell_type": "code",
   "execution_count": null,
   "metadata": {
    "tags": []
   },
   "outputs": [],
   "source": [
    "latent_dim          = 128\n",
    "    \n",
    "generator_class     = 'Generator_1'\n",
    "discriminator_class = 'Discriminator_1'    \n",
    "    \n",
    "scale               = .1\n",
    "epochs              = 10\n",
    "batch_size          = 32\n",
    "num_img             = 36\n",
    "fit_verbosity       = 2\n",
    "    \n",
    "dataset_file        = datasets_dir+'/QuickDraw/origine/sheep.npy' \n",
    "data_shape          = (28,28,1)"
   ]
  },
  {
   "cell_type": "markdown",
   "metadata": {},
   "source": [
    "## Step 2 - Get some nice data"
   ]
  },
  {
   "cell_type": "markdown",
   "metadata": {},
   "source": [
    "#### Get a Nice DataModule\n",
    "Our DataModule is defined in [./modules/QuickDrawDataModule.py](./modules/QuickDrawDataModule.py)   \n",
    "This is a [LightningDataModule](https://pytorch-lightning.readthedocs.io/en/stable/data/datamodule.html)"
   ]
  },
  {
   "cell_type": "code",
   "execution_count": null,
   "metadata": {
    "tags": []
   },
   "outputs": [],
   "source": [
    "dm = QuickDrawDataModule(dataset_file, scale, batch_size, num_workers=8)\n",
    "dm.setup()"
   ]
  },
  {
   "cell_type": "markdown",
   "metadata": {},
   "source": [
    "#### Have a look"
   ]
  },
  {
   "cell_type": "code",
   "execution_count": null,
   "metadata": {},
   "outputs": [],
   "source": [
    "dl         = dm.train_dataloader()\n",
    "batch_data = next(iter(dl))\n",
    "\n",
    "fidle.scrawler.images( batch_data.reshape(-1,28,28), indices=range(batch_size), columns=12, x_size=1, y_size=1, \n",
    "                       y_padding=0,spines_alpha=0, save_as='01-Sheeps')"
   ]
  },
  {
   "cell_type": "markdown",
   "metadata": {},
   "source": [
    "## Step 3 - Get a nice GAN model\n",
    "\n",
    "Our Generators are defined in [./modules/Generators.py](./modules/Generators.py)  \n",
    "Our Discriminators are defined in [./modules/Discriminators.py](./modules/Discriminators.py)  \n",
    "\n",
    "\n",
    "Our GAN is defined in [./modules/GAN.py](./modules/GAN.py)  "
   ]
  },
  {
   "cell_type": "markdown",
   "metadata": {},
   "source": [
    "#### Basic test - Just to be sure it (could) works... ;-)"
   ]
  },
  {
   "cell_type": "code",
   "execution_count": null,
   "metadata": {
    "tags": []
   },
   "outputs": [],
   "source": [
    "print('\\nInstantiation :\\n')\n",
    "generator     = Generator_1(latent_dim=latent_dim, data_shape=data_shape)\n",
    "discriminator = Discriminator_1(latent_dim=latent_dim, data_shape=data_shape)\n",
    "\n",
    "print('\\nFew tests :\\n')\n",
    "z = torch.randn(batch_size, latent_dim)\n",
    "print('z size        : ',z.size())\n",
    "\n",
    "fake_img = generator.forward(z)\n",
    "print('fake_img      : ', fake_img.size())\n",
    "\n",
    "p = discriminator.forward(fake_img)\n",
    "print('pred fake     : ', p.size())\n",
    "\n",
    "print('batch_data    : ',batch_data.size())\n",
    "\n",
    "p = discriminator.forward(batch_data)\n",
    "print('pred real     : ', p.size())\n",
    "\n",
    "nimg = fake_img.detach().numpy()\n",
    "fidle.scrawler.images( nimg.reshape(-1,28,28), indices=range(batch_size), columns=12, x_size=1, y_size=1, \n",
    "                       y_padding=0,spines_alpha=0, save_as='01-Sheeps')"
   ]
  },
  {
   "cell_type": "markdown",
   "metadata": {},
   "source": [
    "#### GAN model\n",
    "To simplify our code, the GAN class is defined separately in the module [./modules/GAN.py](./modules/GAN.py)  \n",
    "Passing the classe names for generator/discriminator by parameter allows to stay modular and to use the PL checkpoints."
   ]
  },
  {
   "cell_type": "code",
   "execution_count": null,
   "metadata": {},
   "outputs": [],
   "source": [
    "gan = GAN( data_shape          = data_shape,  \n",
    "           batch_size          = batch_size, \n",
    "           latent_dim          = latent_dim, \n",
    "           generator_class     = generator_class, \n",
    "           discriminator_class = discriminator_class)"
   ]
  },
  {
   "cell_type": "markdown",
   "metadata": {},
   "source": [
    "## Step 5 - Train it !\n",
    "#### Instantiate Callbacks, Logger & co.\n",
    "More about :\n",
    "- [Checkpoints](https://pytorch-lightning.readthedocs.io/en/stable/common/checkpointing_basic.html)\n",
    "- [modelCheckpoint](https://pytorch-lightning.readthedocs.io/en/stable/api/pytorch_lightning.callbacks.ModelCheckpoint.html#pytorch_lightning.callbacks.ModelCheckpoint)"
   ]
  },
  {
   "cell_type": "code",
   "execution_count": null,
   "metadata": {
    "tags": []
   },
   "outputs": [],
   "source": [
    "\n",
    "# ---- for tensorboard logs\n",
    "#\n",
    "logger       = TensorBoardLogger(       save_dir       = f'{run_dir}',\n",
    "                                        name           = 'tb_logs'  )\n",
    "\n",
    "# ---- To save checkpoints\n",
    "#\n",
    "callback_checkpoints = ModelCheckpoint( dirpath        = f'{run_dir}/models', \n",
    "                                        filename       = 'bestModel', \n",
    "                                        save_top_k     = 1, \n",
    "                                        save_last      = True,\n",
    "                                        every_n_epochs = 1, \n",
    "                                        monitor        = \"g_loss\")\n",
    "\n",
    "# ---- To have a nive progress bar\n",
    "#\n",
    "callback_progressBar = SmartProgressBar(verbosity=2)          # Usable evertywhere\n",
    "# progress_bar = TQDMProgressBar(refresh_rate=1)              # Usable in real jupyter lab (bug in vscode)"
   ]
  },
  {
   "cell_type": "markdown",
   "metadata": {},
   "source": [
    "#### Train it"
   ]
  },
  {
   "cell_type": "code",
   "execution_count": null,
   "metadata": {
    "tags": []
   },
   "outputs": [],
   "source": [
    "\n",
    "trainer = Trainer(\n",
    "    accelerator        = \"auto\",\n",
    "#    devices            = 1 if torch.cuda.is_available() else None,  # limiting got iPython runs\n",
    "    max_epochs         = epochs,\n",
    "    callbacks          = [callback_progressBar, callback_checkpoints],\n",
    "    log_every_n_steps  = batch_size,\n",
    "    logger             = logger\n",
    ")\n",
    "\n",
    "trainer.fit(gan, dm)"
   ]
  },
  {
   "cell_type": "markdown",
   "metadata": {},
   "source": [
    "## Step 6 - Reload a checkpoint"
   ]
  },
  {
   "cell_type": "code",
   "execution_count": null,
   "metadata": {},
   "outputs": [],
   "source": [
    "# gan = GAN.load_from_checkpoint('./run/SHEEP3/lightning_logs/version_3/checkpoints/epoch=4-step=1980.ckpt')"
   ]
  },
  {
   "cell_type": "code",
   "execution_count": null,
   "metadata": {},
   "outputs": [],
   "source": []
  }
 ],
 "metadata": {
  "kernelspec": {
   "display_name": "pytorch-gpu-1.13.0_py3.10.8",
   "language": "python",
   "name": "module-conda-env-pytorch-gpu-1.13.0_py3.10.8"
  },
  "language_info": {
   "codemirror_mode": {
    "name": "ipython",
    "version": 3
   },
   "file_extension": ".py",
   "mimetype": "text/x-python",
   "name": "python",
   "nbconvert_exporter": "python",
   "pygments_lexer": "ipython3",
   "version": "3.10.8"
  },
  "vscode": {
   "interpreter": {
    "hash": "b3929042cc22c1274d74e3e946c52b845b57cb6d84f2d591ffe0519b38e4896d"
   }
  }
 },
 "nbformat": 4,
 "nbformat_minor": 4
}
