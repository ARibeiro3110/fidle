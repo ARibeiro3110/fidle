{
 "cells": [
  {
   "cell_type": "markdown",
   "metadata": {},
   "source": [
    "<img width=\"800px\" src=\"../fidle/img/00-Fidle-header-01.svg\"></img>\n",
    "\n",
    "# <!-- TITLE --> [GTSRB7] - Batch reports\n",
    "<!-- DESC -->  Episode 7 : Displaying our jobs report, and the winner is...\n",
    "<!-- AUTHOR : Jean-Luc Parouty (CNRS/SIMaP) -->\n",
    "\n",
    "## Objectives :\n",
    " - Compare the results of different dataset-model combinations\n",
    "\n",
    "Les rapports (format json) sont générés par les jobs \"Full convolution\" [GTS5][GTS6]\n",
    "\n",
    "\n",
    "## What we're going to do :\n",
    "\n",
    " - Read json files and display results\n",
    "\n",
    "## Step 1 - Import and init\n",
    "### 1.1 - Python stuffs"
   ]
  },
  {
   "cell_type": "code",
   "execution_count": 1,
   "metadata": {},
   "outputs": [
    {
     "data": {
      "text/html": [
       "<style>\n",
       "\n",
       "div.warn {    \n",
       "    background-color: #fcf2f2;\n",
       "    border-color: #dFb5b4;\n",
       "    border-left: 5px solid #dfb5b4;\n",
       "    padding: 0.5em;\n",
       "    font-weight: bold;\n",
       "    font-size: 1.1em;;\n",
       "    }\n",
       "\n",
       "\n",
       "\n",
       "div.nota {    \n",
       "    background-color: #DAFFDE;\n",
       "    border-left: 5px solid #92CC99;\n",
       "    padding: 0.5em;\n",
       "    }\n",
       "\n",
       "div.todo:before { content:url(data:image/svg+xml;base64,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);\n",
       "    float:left;\n",
       "    margin-right:20px;\n",
       "    margin-top:-20px;\n",
       "    margin-bottom:20px;\n",
       "}\n",
       "div.todo{\n",
       "    font-weight: bold;\n",
       "    font-size: 1.1em;\n",
       "    margin-top:40px;\n",
       "}\n",
       "div.todo ul{\n",
       "    margin: 0.2em;\n",
       "}\n",
       "div.todo li{\n",
       "    margin-left:60px;\n",
       "    margin-top:0;\n",
       "    margin-bottom:0;\n",
       "}\n",
       "\n",
       "div .comment{\n",
       "    font-size:0.8em;\n",
       "    color:#696969;\n",
       "}\n",
       "\n",
       "\n",
       "\n",
       "</style>\n",
       "\n"
      ],
      "text/plain": [
       "<IPython.core.display.HTML object>"
      ]
     },
     "metadata": {},
     "output_type": "display_data"
    },
    {
     "data": {
      "text/markdown": [
       "**\\*\\* Overrided parameters : \\*\\***"
      ],
      "text/plain": [
       "<IPython.core.display.Markdown object>"
      ]
     },
     "metadata": {},
     "output_type": "display_data"
    },
    {
     "name": "stdout",
     "output_type": "stream",
     "text": [
      "run_dir              : ./run/GTSRB7_done\n"
     ]
    },
    {
     "data": {
      "text/markdown": [
       "<br>**FIDLE 2020 - Practical Work Module**"
      ],
      "text/plain": [
       "<IPython.core.display.Markdown object>"
      ]
     },
     "metadata": {},
     "output_type": "display_data"
    },
    {
     "name": "stdout",
     "output_type": "stream",
     "text": [
      "Version              : 2.0.7\n",
      "Notebook id          : GTSRB7\n",
      "Run time             : Wednesday 27 January 2021, 19:11:19\n",
      "TensorFlow version   : 2.2.0\n",
      "Keras version        : 2.3.0-tf\n",
      "Datasets dir         : /gpfswork/rech/mlh/uja62cb/datasets\n",
      "Run dir              : ./run/GTSRB7_done\n",
      "Update keras cache   : False\n",
      "Save figs            : True\n",
      "Path figs            : ./run/GTSRB7_done/figs\n"
     ]
    }
   ],
   "source": [
    "import pandas as pd\n",
    "import sys,os,glob,json\n",
    "from pathlib import Path\n",
    "from IPython.display import display, Markdown\n",
    "\n",
    "sys.path.append('..')\n",
    "import fidle.pwk as pwk\n",
    "\n",
    "run_dir = './run/GTSRB7'\n",
    "datasets_dir = pwk.init('GTSRB7', run_dir)"
   ]
  },
  {
   "cell_type": "markdown",
   "metadata": {},
   "source": [
    "### 1.2 - Parameters\n",
    "Where to find the report"
   ]
  },
  {
   "cell_type": "code",
   "execution_count": 2,
   "metadata": {},
   "outputs": [],
   "source": [
    "report_dir = './run/GTSRB5'"
   ]
  },
  {
   "cell_type": "markdown",
   "metadata": {},
   "source": [
    "Override parameters (batch mode) - Just forget this cell"
   ]
  },
  {
   "cell_type": "code",
   "execution_count": 3,
   "metadata": {},
   "outputs": [
    {
     "data": {
      "text/markdown": [
       "**\\*\\* Overrided parameters : \\*\\***"
      ],
      "text/plain": [
       "<IPython.core.display.Markdown object>"
      ]
     },
     "metadata": {},
     "output_type": "display_data"
    },
    {
     "name": "stdout",
     "output_type": "stream",
     "text": [
      "report_dir           : ./run/GTSRB5_done\n"
     ]
    }
   ],
   "source": [
    "pwk.override('report_dir')"
   ]
  },
  {
   "cell_type": "markdown",
   "metadata": {},
   "source": [
    "## Step 2 - Few nice functions"
   ]
  },
  {
   "cell_type": "code",
   "execution_count": 4,
   "metadata": {},
   "outputs": [],
   "source": [
    "def highlight_max(s):\n",
    "    is_max = (s == s.max())\n",
    "    return ['background-color: yellow' if v else '' for v in is_max]\n",
    "\n",
    "def show_report(file):\n",
    "    # ---- Read json file\n",
    "    with open(file) as infile:\n",
    "        dict_report = json.load( infile )\n",
    "    output      = dict_report['output']\n",
    "    description = dict_report['description']\n",
    "    # ---- about\n",
    "    pwk.subtitle(f'Report : {Path(file).stem}')\n",
    "    print(    \"Desc.  : \",description,'\\n')\n",
    "    # ---- Create a pandas\n",
    "    report       = pd.DataFrame (output)\n",
    "    col_accuracy = [ c for c in output.keys() if c.endswith('Accuracy')]\n",
    "    col_duration = [ c for c in output.keys() if c.endswith('Duration')]\n",
    "    # ---- Build formats\n",
    "    lambda_acc = lambda x : '{:.2f} %'.format(x) if (isinstance(x, float)) else '{:}'.format(x)\n",
    "    lambda_dur = lambda x : '{:.1f} s'.format(x) if (isinstance(x, float)) else '{:}'.format(x)\n",
    "    formats = {'Size':'{:.2f} Mo'}\n",
    "    for c in col_accuracy:   \n",
    "        formats[c]=lambda_acc\n",
    "    for c in col_duration:\n",
    "        formats[c]=lambda_dur\n",
    "    t=report.style.highlight_max(subset=col_accuracy).format(formats).hide_index()\n",
    "    display(t)"
   ]
  },
  {
   "cell_type": "markdown",
   "metadata": {},
   "source": [
    "## Step 3 - Reports display"
   ]
  },
  {
   "cell_type": "code",
   "execution_count": 5,
   "metadata": {},
   "outputs": [
    {
     "data": {
      "text/markdown": [
       "<br>**Report : report_091548**"
      ],
      "text/plain": [
       "<IPython.core.display.Markdown object>"
      ]
     },
     "metadata": {},
     "output_type": "display_data"
    },
    {
     "name": "stdout",
     "output_type": "stream",
     "text": [
      "Desc.  :  scale=1 batch_size=64 epochs=16 data_aug=False \n",
      "\n"
     ]
    },
    {
     "data": {
      "text/html": [
       "<style  type=\"text/css\" >\n",
       "    #T_0de541d0_60cb_11eb_80e4_ac1f6bce5dd9row1_col2 {\n",
       "            background-color:  yellow;\n",
       "        }    #T_0de541d0_60cb_11eb_80e4_ac1f6bce5dd9row1_col4 {\n",
       "            background-color:  yellow;\n",
       "        }</style><table id=\"T_0de541d0_60cb_11eb_80e4_ac1f6bce5dd9\" ><thead>    <tr>        <th class=\"col_heading level0 col0\" >Dataset</th>        <th class=\"col_heading level0 col1\" >Size</th>        <th class=\"col_heading level0 col2\" >v2_Accuracy</th>        <th class=\"col_heading level0 col3\" >v2_Duration</th>        <th class=\"col_heading level0 col4\" >v3_Accuracy</th>        <th class=\"col_heading level0 col5\" >v3_Duration</th>    </tr></thead><tbody>\n",
       "                <tr>\n",
       "                                <td id=\"T_0de541d0_60cb_11eb_80e4_ac1f6bce5dd9row0_col0\" class=\"data row0 col0\" >set-48x48-L</td>\n",
       "                        <td id=\"T_0de541d0_60cb_11eb_80e4_ac1f6bce5dd9row0_col1\" class=\"data row0 col1\" >913.90 Mo</td>\n",
       "                        <td id=\"T_0de541d0_60cb_11eb_80e4_ac1f6bce5dd9row0_col2\" class=\"data row0 col2\" >97.66 %</td>\n",
       "                        <td id=\"T_0de541d0_60cb_11eb_80e4_ac1f6bce5dd9row0_col3\" class=\"data row0 col3\" >117.9 s</td>\n",
       "                        <td id=\"T_0de541d0_60cb_11eb_80e4_ac1f6bce5dd9row0_col4\" class=\"data row0 col4\" >97.35 %</td>\n",
       "                        <td id=\"T_0de541d0_60cb_11eb_80e4_ac1f6bce5dd9row0_col5\" class=\"data row0 col5\" >90.1 s</td>\n",
       "            </tr>\n",
       "            <tr>\n",
       "                                <td id=\"T_0de541d0_60cb_11eb_80e4_ac1f6bce5dd9row1_col0\" class=\"data row1 col0\" >set-48x48-RGB</td>\n",
       "                        <td id=\"T_0de541d0_60cb_11eb_80e4_ac1f6bce5dd9row1_col1\" class=\"data row1 col1\" >2736.36 Mo</td>\n",
       "                        <td id=\"T_0de541d0_60cb_11eb_80e4_ac1f6bce5dd9row1_col2\" class=\"data row1 col2\" >98.20 %</td>\n",
       "                        <td id=\"T_0de541d0_60cb_11eb_80e4_ac1f6bce5dd9row1_col3\" class=\"data row1 col3\" >122.6 s</td>\n",
       "                        <td id=\"T_0de541d0_60cb_11eb_80e4_ac1f6bce5dd9row1_col4\" class=\"data row1 col4\" >97.62 %</td>\n",
       "                        <td id=\"T_0de541d0_60cb_11eb_80e4_ac1f6bce5dd9row1_col5\" class=\"data row1 col5\" >96.8 s</td>\n",
       "            </tr>\n",
       "    </tbody></table>"
      ],
      "text/plain": [
       "<pandas.io.formats.style.Styler at 0x15435a522090>"
      ]
     },
     "metadata": {},
     "output_type": "display_data"
    },
    {
     "data": {
      "text/markdown": [
       "<br>**Report : report_051213**"
      ],
      "text/plain": [
       "<IPython.core.display.Markdown object>"
      ]
     },
     "metadata": {},
     "output_type": "display_data"
    },
    {
     "name": "stdout",
     "output_type": "stream",
     "text": [
      "Desc.  :  scale=1 batch_size=64 epochs=16 data_aug=False \n",
      "\n"
     ]
    },
    {
     "data": {
      "text/html": [
       "<style  type=\"text/css\" >\n",
       "    #T_0de7b852_60cb_11eb_80e4_ac1f6bce5dd9row3_col6 {\n",
       "            background-color:  yellow;\n",
       "        }    #T_0de7b852_60cb_11eb_80e4_ac1f6bce5dd9row6_col2 {\n",
       "            background-color:  yellow;\n",
       "        }    #T_0de7b852_60cb_11eb_80e4_ac1f6bce5dd9row6_col4 {\n",
       "            background-color:  yellow;\n",
       "        }</style><table id=\"T_0de7b852_60cb_11eb_80e4_ac1f6bce5dd9\" ><thead>    <tr>        <th class=\"col_heading level0 col0\" >Dataset</th>        <th class=\"col_heading level0 col1\" >Size</th>        <th class=\"col_heading level0 col2\" >v1_Accuracy</th>        <th class=\"col_heading level0 col3\" >v1_Duration</th>        <th class=\"col_heading level0 col4\" >v2_Accuracy</th>        <th class=\"col_heading level0 col5\" >v2_Duration</th>        <th class=\"col_heading level0 col6\" >v3_Accuracy</th>        <th class=\"col_heading level0 col7\" >v3_Duration</th>    </tr></thead><tbody>\n",
       "                <tr>\n",
       "                                <td id=\"T_0de7b852_60cb_11eb_80e4_ac1f6bce5dd9row0_col0\" class=\"data row0 col0\" >set-24x24-L</td>\n",
       "                        <td id=\"T_0de7b852_60cb_11eb_80e4_ac1f6bce5dd9row0_col1\" class=\"data row0 col1\" >228.77 Mo</td>\n",
       "                        <td id=\"T_0de7b852_60cb_11eb_80e4_ac1f6bce5dd9row0_col2\" class=\"data row0 col2\" >95.20 %</td>\n",
       "                        <td id=\"T_0de7b852_60cb_11eb_80e4_ac1f6bce5dd9row0_col3\" class=\"data row0 col3\" >47.8 s</td>\n",
       "                        <td id=\"T_0de7b852_60cb_11eb_80e4_ac1f6bce5dd9row0_col4\" class=\"data row0 col4\" >96.84 %</td>\n",
       "                        <td id=\"T_0de7b852_60cb_11eb_80e4_ac1f6bce5dd9row0_col5\" class=\"data row0 col5\" >52.4 s</td>\n",
       "                        <td id=\"T_0de7b852_60cb_11eb_80e4_ac1f6bce5dd9row0_col6\" class=\"data row0 col6\" >95.17 %</td>\n",
       "                        <td id=\"T_0de7b852_60cb_11eb_80e4_ac1f6bce5dd9row0_col7\" class=\"data row0 col7\" >51.0 s</td>\n",
       "            </tr>\n",
       "            <tr>\n",
       "                                <td id=\"T_0de7b852_60cb_11eb_80e4_ac1f6bce5dd9row1_col0\" class=\"data row1 col0\" >set-24x24-RGB</td>\n",
       "                        <td id=\"T_0de7b852_60cb_11eb_80e4_ac1f6bce5dd9row1_col1\" class=\"data row1 col1\" >684.39 Mo</td>\n",
       "                        <td id=\"T_0de7b852_60cb_11eb_80e4_ac1f6bce5dd9row1_col2\" class=\"data row1 col2\" >96.24 %</td>\n",
       "                        <td id=\"T_0de7b852_60cb_11eb_80e4_ac1f6bce5dd9row1_col3\" class=\"data row1 col3\" >47.6 s</td>\n",
       "                        <td id=\"T_0de7b852_60cb_11eb_80e4_ac1f6bce5dd9row1_col4\" class=\"data row1 col4\" >97.70 %</td>\n",
       "                        <td id=\"T_0de7b852_60cb_11eb_80e4_ac1f6bce5dd9row1_col5\" class=\"data row1 col5\" >55.5 s</td>\n",
       "                        <td id=\"T_0de7b852_60cb_11eb_80e4_ac1f6bce5dd9row1_col6\" class=\"data row1 col6\" >95.82 %</td>\n",
       "                        <td id=\"T_0de7b852_60cb_11eb_80e4_ac1f6bce5dd9row1_col7\" class=\"data row1 col7\" >53.4 s</td>\n",
       "            </tr>\n",
       "            <tr>\n",
       "                                <td id=\"T_0de7b852_60cb_11eb_80e4_ac1f6bce5dd9row2_col0\" class=\"data row2 col0\" >set-48x48-L</td>\n",
       "                        <td id=\"T_0de7b852_60cb_11eb_80e4_ac1f6bce5dd9row2_col1\" class=\"data row2 col1\" >913.90 Mo</td>\n",
       "                        <td id=\"T_0de7b852_60cb_11eb_80e4_ac1f6bce5dd9row2_col2\" class=\"data row2 col2\" >95.80 %</td>\n",
       "                        <td id=\"T_0de7b852_60cb_11eb_80e4_ac1f6bce5dd9row2_col3\" class=\"data row2 col3\" >131.4 s</td>\n",
       "                        <td id=\"T_0de7b852_60cb_11eb_80e4_ac1f6bce5dd9row2_col4\" class=\"data row2 col4\" >97.73 %</td>\n",
       "                        <td id=\"T_0de7b852_60cb_11eb_80e4_ac1f6bce5dd9row2_col5\" class=\"data row2 col5\" >115.2 s</td>\n",
       "                        <td id=\"T_0de7b852_60cb_11eb_80e4_ac1f6bce5dd9row2_col6\" class=\"data row2 col6\" >97.40 %</td>\n",
       "                        <td id=\"T_0de7b852_60cb_11eb_80e4_ac1f6bce5dd9row2_col7\" class=\"data row2 col7\" >90.8 s</td>\n",
       "            </tr>\n",
       "            <tr>\n",
       "                                <td id=\"T_0de7b852_60cb_11eb_80e4_ac1f6bce5dd9row3_col0\" class=\"data row3 col0\" >set-48x48-RGB</td>\n",
       "                        <td id=\"T_0de7b852_60cb_11eb_80e4_ac1f6bce5dd9row3_col1\" class=\"data row3 col1\" >2736.36 Mo</td>\n",
       "                        <td id=\"T_0de7b852_60cb_11eb_80e4_ac1f6bce5dd9row3_col2\" class=\"data row3 col2\" >96.61 %</td>\n",
       "                        <td id=\"T_0de7b852_60cb_11eb_80e4_ac1f6bce5dd9row3_col3\" class=\"data row3 col3\" >138.2 s</td>\n",
       "                        <td id=\"T_0de7b852_60cb_11eb_80e4_ac1f6bce5dd9row3_col4\" class=\"data row3 col4\" >97.98 %</td>\n",
       "                        <td id=\"T_0de7b852_60cb_11eb_80e4_ac1f6bce5dd9row3_col5\" class=\"data row3 col5\" >121.6 s</td>\n",
       "                        <td id=\"T_0de7b852_60cb_11eb_80e4_ac1f6bce5dd9row3_col6\" class=\"data row3 col6\" >97.58 %</td>\n",
       "                        <td id=\"T_0de7b852_60cb_11eb_80e4_ac1f6bce5dd9row3_col7\" class=\"data row3 col7\" >97.6 s</td>\n",
       "            </tr>\n",
       "            <tr>\n",
       "                                <td id=\"T_0de7b852_60cb_11eb_80e4_ac1f6bce5dd9row4_col0\" class=\"data row4 col0\" >set-24x24-L-LHE</td>\n",
       "                        <td id=\"T_0de7b852_60cb_11eb_80e4_ac1f6bce5dd9row4_col1\" class=\"data row4 col1\" >228.77 Mo</td>\n",
       "                        <td id=\"T_0de7b852_60cb_11eb_80e4_ac1f6bce5dd9row4_col2\" class=\"data row4 col2\" >96.03 %</td>\n",
       "                        <td id=\"T_0de7b852_60cb_11eb_80e4_ac1f6bce5dd9row4_col3\" class=\"data row4 col3\" >46.3 s</td>\n",
       "                        <td id=\"T_0de7b852_60cb_11eb_80e4_ac1f6bce5dd9row4_col4\" class=\"data row4 col4\" >96.89 %</td>\n",
       "                        <td id=\"T_0de7b852_60cb_11eb_80e4_ac1f6bce5dd9row4_col5\" class=\"data row4 col5\" >52.1 s</td>\n",
       "                        <td id=\"T_0de7b852_60cb_11eb_80e4_ac1f6bce5dd9row4_col6\" class=\"data row4 col6\" >95.30 %</td>\n",
       "                        <td id=\"T_0de7b852_60cb_11eb_80e4_ac1f6bce5dd9row4_col7\" class=\"data row4 col7\" >51.6 s</td>\n",
       "            </tr>\n",
       "            <tr>\n",
       "                                <td id=\"T_0de7b852_60cb_11eb_80e4_ac1f6bce5dd9row5_col0\" class=\"data row5 col0\" >set-24x24-RGB-HE</td>\n",
       "                        <td id=\"T_0de7b852_60cb_11eb_80e4_ac1f6bce5dd9row5_col1\" class=\"data row5 col1\" >684.39 Mo</td>\n",
       "                        <td id=\"T_0de7b852_60cb_11eb_80e4_ac1f6bce5dd9row5_col2\" class=\"data row5 col2\" >95.24 %</td>\n",
       "                        <td id=\"T_0de7b852_60cb_11eb_80e4_ac1f6bce5dd9row5_col3\" class=\"data row5 col3\" >47.8 s</td>\n",
       "                        <td id=\"T_0de7b852_60cb_11eb_80e4_ac1f6bce5dd9row5_col4\" class=\"data row5 col4\" >96.89 %</td>\n",
       "                        <td id=\"T_0de7b852_60cb_11eb_80e4_ac1f6bce5dd9row5_col5\" class=\"data row5 col5\" >54.7 s</td>\n",
       "                        <td id=\"T_0de7b852_60cb_11eb_80e4_ac1f6bce5dd9row5_col6\" class=\"data row5 col6\" >94.16 %</td>\n",
       "                        <td id=\"T_0de7b852_60cb_11eb_80e4_ac1f6bce5dd9row5_col7\" class=\"data row5 col7\" >54.9 s</td>\n",
       "            </tr>\n",
       "            <tr>\n",
       "                                <td id=\"T_0de7b852_60cb_11eb_80e4_ac1f6bce5dd9row6_col0\" class=\"data row6 col0\" >set-48x48-L-LHE</td>\n",
       "                        <td id=\"T_0de7b852_60cb_11eb_80e4_ac1f6bce5dd9row6_col1\" class=\"data row6 col1\" >913.90 Mo</td>\n",
       "                        <td id=\"T_0de7b852_60cb_11eb_80e4_ac1f6bce5dd9row6_col2\" class=\"data row6 col2\" >97.07 %</td>\n",
       "                        <td id=\"T_0de7b852_60cb_11eb_80e4_ac1f6bce5dd9row6_col3\" class=\"data row6 col3\" >129.6 s</td>\n",
       "                        <td id=\"T_0de7b852_60cb_11eb_80e4_ac1f6bce5dd9row6_col4\" class=\"data row6 col4\" >98.23 %</td>\n",
       "                        <td id=\"T_0de7b852_60cb_11eb_80e4_ac1f6bce5dd9row6_col5\" class=\"data row6 col5\" >114.8 s</td>\n",
       "                        <td id=\"T_0de7b852_60cb_11eb_80e4_ac1f6bce5dd9row6_col6\" class=\"data row6 col6\" >97.40 %</td>\n",
       "                        <td id=\"T_0de7b852_60cb_11eb_80e4_ac1f6bce5dd9row6_col7\" class=\"data row6 col7\" >90.0 s</td>\n",
       "            </tr>\n",
       "            <tr>\n",
       "                                <td id=\"T_0de7b852_60cb_11eb_80e4_ac1f6bce5dd9row7_col0\" class=\"data row7 col0\" >set-48x48-RGB-HE</td>\n",
       "                        <td id=\"T_0de7b852_60cb_11eb_80e4_ac1f6bce5dd9row7_col1\" class=\"data row7 col1\" >2736.36 Mo</td>\n",
       "                        <td id=\"T_0de7b852_60cb_11eb_80e4_ac1f6bce5dd9row7_col2\" class=\"data row7 col2\" >94.85 %</td>\n",
       "                        <td id=\"T_0de7b852_60cb_11eb_80e4_ac1f6bce5dd9row7_col3\" class=\"data row7 col3\" >137.2 s</td>\n",
       "                        <td id=\"T_0de7b852_60cb_11eb_80e4_ac1f6bce5dd9row7_col4\" class=\"data row7 col4\" >98.03 %</td>\n",
       "                        <td id=\"T_0de7b852_60cb_11eb_80e4_ac1f6bce5dd9row7_col5\" class=\"data row7 col5\" >121.7 s</td>\n",
       "                        <td id=\"T_0de7b852_60cb_11eb_80e4_ac1f6bce5dd9row7_col6\" class=\"data row7 col6\" >96.88 %</td>\n",
       "                        <td id=\"T_0de7b852_60cb_11eb_80e4_ac1f6bce5dd9row7_col7\" class=\"data row7 col7\" >99.3 s</td>\n",
       "            </tr>\n",
       "    </tbody></table>"
      ],
      "text/plain": [
       "<pandas.io.formats.style.Styler at 0x154359dada50>"
      ]
     },
     "metadata": {},
     "output_type": "display_data"
    }
   ],
   "source": [
    "for file in glob.glob(f'{report_dir}/*.json'):\n",
    "    show_report(file)\n"
   ]
  },
  {
   "cell_type": "code",
   "execution_count": 6,
   "metadata": {},
   "outputs": [
    {
     "name": "stdout",
     "output_type": "stream",
     "text": [
      "End time is : Wednesday 27 January 2021, 19:11:19\n",
      "Duration is : 00:00:00 146ms\n",
      "This notebook ends here\n"
     ]
    }
   ],
   "source": [
    "pwk.end()"
   ]
  },
  {
   "cell_type": "markdown",
   "metadata": {},
   "source": [
    "---\n",
    "<img width=\"80px\" src=\"../fidle/img/00-Fidle-logo-01.svg\"></img>"
   ]
  }
 ],
 "metadata": {
  "kernelspec": {
   "display_name": "Python 3",
   "language": "python",
   "name": "python3"
  },
  "language_info": {
   "codemirror_mode": {
    "name": "ipython",
    "version": 3
   },
   "file_extension": ".py",
   "mimetype": "text/x-python",
   "name": "python",
   "nbconvert_exporter": "python",
   "pygments_lexer": "ipython3",
   "version": "3.7.7"
  }
 },
 "nbformat": 4,
 "nbformat_minor": 4
}
