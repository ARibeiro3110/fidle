{
 "cells": [
  {
   "cell_type": "markdown",
   "metadata": {},
   "source": [
    "<img width=\"800px\" src=\"../fidle/img/00-Fidle-header-01.svg\"></img>\n",
    "\n",
    "# <!-- TITLE --> [GTS7] - Full convolutions Report\n",
    "<!-- DESC -->  Episode 7 : Displaying the reports of the different jobs\n",
    "<!-- AUTHOR : Jean-Luc Parouty (CNRS/SIMaP) -->\n",
    "\n",
    "## Objectives :\n",
    " - Compare the results of different dataset-model combinations\n",
    "\n",
    "Les rapports (format json) sont générés par les jobs \"Full convolution\" [GTS5][GTS6]\n",
    "\n",
    "\n",
    "## What we're going to do :\n",
    "\n",
    " - Read json files and display results\n",
    "\n",
    "## 1/ Python import"
   ]
  },
  {
   "cell_type": "code",
   "execution_count": 1,
   "metadata": {},
   "outputs": [],
   "source": [
    "import pandas as pd\n",
    "import os,glob,json\n",
    "from pathlib import Path\n",
    "from IPython.display import display, Markdown"
   ]
  },
  {
   "cell_type": "markdown",
   "metadata": {},
   "source": [
    "## 2/ A nice function"
   ]
  },
  {
   "cell_type": "code",
   "execution_count": 2,
   "metadata": {},
   "outputs": [],
   "source": [
    "def highlight_max(s):\n",
    "    is_max = (s == s.max())\n",
    "    return ['background-color: yellow' if v else '' for v in is_max]\n",
    "\n",
    "def show_report(file):\n",
    "    # ---- Read json file\n",
    "    with open(file) as infile:\n",
    "        dict_report = json.load( infile )\n",
    "    output      = dict_report['output']\n",
    "    description = dict_report['description']\n",
    "    # ---- about\n",
    "    print(\"\\n\\n\\nReport : \",Path(file).stem)\n",
    "    print(    \"Desc.  : \",description,'\\n')\n",
    "    # ---- Create a pandas\n",
    "    report       = pd.DataFrame (output)\n",
    "    col_accuracy = [ c for c in output.keys() if c.endswith('Accuracy')]\n",
    "    col_duration = [ c for c in output.keys() if c.endswith('Duration')]\n",
    "    # ---- Build formats\n",
    "    lambda_acc = lambda x : '{:.2f} %'.format(x) if (isinstance(x, float)) else '{:}'.format(x)\n",
    "    lambda_dur = lambda x : '{:.1f} s'.format(x) if (isinstance(x, float)) else '{:}'.format(x)\n",
    "    formats = {'Size':'{:.2f} Mo'}\n",
    "    for c in col_accuracy:   \n",
    "        formats[c]=lambda_acc\n",
    "    for c in col_duration:\n",
    "        formats[c]=lambda_dur\n",
    "    t=report.style.highlight_max(subset=col_accuracy).format(formats).hide_index()\n",
    "    display(t)"
   ]
  },
  {
   "cell_type": "markdown",
   "metadata": {},
   "source": [
    "## 3/ Reports display"
   ]
  },
  {
   "cell_type": "code",
   "execution_count": 3,
   "metadata": {},
   "outputs": [
    {
     "name": "stdout",
     "output_type": "stream",
     "text": [
      "\n",
      "\n",
      "\n",
      "Report :  report_028304\n",
      "Desc.  :  train_size=1 test_size=1 batch_size=64 epochs=16 data_aug=False \n",
      "\n"
     ]
    },
    {
     "data": {
      "text/html": [
       "<style  type=\"text/css\" >\n",
       "    #T_8ba672d6_5a61_11ea_b801_83191f9a9757row2_col2 {\n",
       "            background-color:  yellow;\n",
       "        }    #T_8ba672d6_5a61_11ea_b801_83191f9a9757row2_col4 {\n",
       "            background-color:  yellow;\n",
       "        }    #T_8ba672d6_5a61_11ea_b801_83191f9a9757row3_col6 {\n",
       "            background-color:  yellow;\n",
       "        }</style><table id=\"T_8ba672d6_5a61_11ea_b801_83191f9a9757\" ><thead>    <tr>        <th class=\"col_heading level0 col0\" >Dataset</th>        <th class=\"col_heading level0 col1\" >Size</th>        <th class=\"col_heading level0 col2\" >v1_Accuracy</th>        <th class=\"col_heading level0 col3\" >v1_Duration</th>        <th class=\"col_heading level0 col4\" >v2_Accuracy</th>        <th class=\"col_heading level0 col5\" >v2_Duration</th>        <th class=\"col_heading level0 col6\" >v3_Accuracy</th>        <th class=\"col_heading level0 col7\" >v3_Duration</th>    </tr></thead><tbody>\n",
       "                <tr>\n",
       "                                <td id=\"T_8ba672d6_5a61_11ea_b801_83191f9a9757row0_col0\" class=\"data row0 col0\" >set-24x24-L</td>\n",
       "                        <td id=\"T_8ba672d6_5a61_11ea_b801_83191f9a9757row0_col1\" class=\"data row0 col1\" >228.77 Mo</td>\n",
       "                        <td id=\"T_8ba672d6_5a61_11ea_b801_83191f9a9757row0_col2\" class=\"data row0 col2\" >95.53 %</td>\n",
       "                        <td id=\"T_8ba672d6_5a61_11ea_b801_83191f9a9757row0_col3\" class=\"data row0 col3\" >52.5 s</td>\n",
       "                        <td id=\"T_8ba672d6_5a61_11ea_b801_83191f9a9757row0_col4\" class=\"data row0 col4\" >96.37 %</td>\n",
       "                        <td id=\"T_8ba672d6_5a61_11ea_b801_83191f9a9757row0_col5\" class=\"data row0 col5\" >55.3 s</td>\n",
       "                        <td id=\"T_8ba672d6_5a61_11ea_b801_83191f9a9757row0_col6\" class=\"data row0 col6\" >95.85 %</td>\n",
       "                        <td id=\"T_8ba672d6_5a61_11ea_b801_83191f9a9757row0_col7\" class=\"data row0 col7\" >54.5 s</td>\n",
       "            </tr>\n",
       "            <tr>\n",
       "                                <td id=\"T_8ba672d6_5a61_11ea_b801_83191f9a9757row1_col0\" class=\"data row1 col0\" >set-24x24-RGB</td>\n",
       "                        <td id=\"T_8ba672d6_5a61_11ea_b801_83191f9a9757row1_col1\" class=\"data row1 col1\" >684.39 Mo</td>\n",
       "                        <td id=\"T_8ba672d6_5a61_11ea_b801_83191f9a9757row1_col2\" class=\"data row1 col2\" >96.58 %</td>\n",
       "                        <td id=\"T_8ba672d6_5a61_11ea_b801_83191f9a9757row1_col3\" class=\"data row1 col3\" >49.4 s</td>\n",
       "                        <td id=\"T_8ba672d6_5a61_11ea_b801_83191f9a9757row1_col4\" class=\"data row1 col4\" >97.65 %</td>\n",
       "                        <td id=\"T_8ba672d6_5a61_11ea_b801_83191f9a9757row1_col5\" class=\"data row1 col5\" >57.5 s</td>\n",
       "                        <td id=\"T_8ba672d6_5a61_11ea_b801_83191f9a9757row1_col6\" class=\"data row1 col6\" >95.38 %</td>\n",
       "                        <td id=\"T_8ba672d6_5a61_11ea_b801_83191f9a9757row1_col7\" class=\"data row1 col7\" >56.7 s</td>\n",
       "            </tr>\n",
       "            <tr>\n",
       "                                <td id=\"T_8ba672d6_5a61_11ea_b801_83191f9a9757row2_col0\" class=\"data row2 col0\" >set-48x48-L</td>\n",
       "                        <td id=\"T_8ba672d6_5a61_11ea_b801_83191f9a9757row2_col1\" class=\"data row2 col1\" >913.90 Mo</td>\n",
       "                        <td id=\"T_8ba672d6_5a61_11ea_b801_83191f9a9757row2_col2\" class=\"data row2 col2\" >96.68 %</td>\n",
       "                        <td id=\"T_8ba672d6_5a61_11ea_b801_83191f9a9757row2_col3\" class=\"data row2 col3\" >138.2 s</td>\n",
       "                        <td id=\"T_8ba672d6_5a61_11ea_b801_83191f9a9757row2_col4\" class=\"data row2 col4\" >98.04 %</td>\n",
       "                        <td id=\"T_8ba672d6_5a61_11ea_b801_83191f9a9757row2_col5\" class=\"data row2 col5\" >122.5 s</td>\n",
       "                        <td id=\"T_8ba672d6_5a61_11ea_b801_83191f9a9757row2_col6\" class=\"data row2 col6\" >97.54 %</td>\n",
       "                        <td id=\"T_8ba672d6_5a61_11ea_b801_83191f9a9757row2_col7\" class=\"data row2 col7\" >95.9 s</td>\n",
       "            </tr>\n",
       "            <tr>\n",
       "                                <td id=\"T_8ba672d6_5a61_11ea_b801_83191f9a9757row3_col0\" class=\"data row3 col0\" >set-48x48-RGB</td>\n",
       "                        <td id=\"T_8ba672d6_5a61_11ea_b801_83191f9a9757row3_col1\" class=\"data row3 col1\" >2736.36 Mo</td>\n",
       "                        <td id=\"T_8ba672d6_5a61_11ea_b801_83191f9a9757row3_col2\" class=\"data row3 col2\" >96.10 %</td>\n",
       "                        <td id=\"T_8ba672d6_5a61_11ea_b801_83191f9a9757row3_col3\" class=\"data row3 col3\" >146.6 s</td>\n",
       "                        <td id=\"T_8ba672d6_5a61_11ea_b801_83191f9a9757row3_col4\" class=\"data row3 col4\" >97.56 %</td>\n",
       "                        <td id=\"T_8ba672d6_5a61_11ea_b801_83191f9a9757row3_col5\" class=\"data row3 col5\" >128.8 s</td>\n",
       "                        <td id=\"T_8ba672d6_5a61_11ea_b801_83191f9a9757row3_col6\" class=\"data row3 col6\" >97.93 %</td>\n",
       "                        <td id=\"T_8ba672d6_5a61_11ea_b801_83191f9a9757row3_col7\" class=\"data row3 col7\" >104.3 s</td>\n",
       "            </tr>\n",
       "            <tr>\n",
       "                                <td id=\"T_8ba672d6_5a61_11ea_b801_83191f9a9757row4_col0\" class=\"data row4 col0\" >set-24x24-L-LHE</td>\n",
       "                        <td id=\"T_8ba672d6_5a61_11ea_b801_83191f9a9757row4_col1\" class=\"data row4 col1\" >228.77 Mo</td>\n",
       "                        <td id=\"T_8ba672d6_5a61_11ea_b801_83191f9a9757row4_col2\" class=\"data row4 col2\" >95.89 %</td>\n",
       "                        <td id=\"T_8ba672d6_5a61_11ea_b801_83191f9a9757row4_col3\" class=\"data row4 col3\" >46.2 s</td>\n",
       "                        <td id=\"T_8ba672d6_5a61_11ea_b801_83191f9a9757row4_col4\" class=\"data row4 col4\" >97.17 %</td>\n",
       "                        <td id=\"T_8ba672d6_5a61_11ea_b801_83191f9a9757row4_col5\" class=\"data row4 col5\" >54.8 s</td>\n",
       "                        <td id=\"T_8ba672d6_5a61_11ea_b801_83191f9a9757row4_col6\" class=\"data row4 col6\" >95.41 %</td>\n",
       "                        <td id=\"T_8ba672d6_5a61_11ea_b801_83191f9a9757row4_col7\" class=\"data row4 col7\" >55.5 s</td>\n",
       "            </tr>\n",
       "            <tr>\n",
       "                                <td id=\"T_8ba672d6_5a61_11ea_b801_83191f9a9757row5_col0\" class=\"data row5 col0\" >set-24x24-RGB-HE</td>\n",
       "                        <td id=\"T_8ba672d6_5a61_11ea_b801_83191f9a9757row5_col1\" class=\"data row5 col1\" >684.39 Mo</td>\n",
       "                        <td id=\"T_8ba672d6_5a61_11ea_b801_83191f9a9757row5_col2\" class=\"data row5 col2\" >95.19 %</td>\n",
       "                        <td id=\"T_8ba672d6_5a61_11ea_b801_83191f9a9757row5_col3\" class=\"data row5 col3\" >49.4 s</td>\n",
       "                        <td id=\"T_8ba672d6_5a61_11ea_b801_83191f9a9757row5_col4\" class=\"data row5 col4\" >96.40 %</td>\n",
       "                        <td id=\"T_8ba672d6_5a61_11ea_b801_83191f9a9757row5_col5\" class=\"data row5 col5\" >57.9 s</td>\n",
       "                        <td id=\"T_8ba672d6_5a61_11ea_b801_83191f9a9757row5_col6\" class=\"data row5 col6\" >93.36 %</td>\n",
       "                        <td id=\"T_8ba672d6_5a61_11ea_b801_83191f9a9757row5_col7\" class=\"data row5 col7\" >57.0 s</td>\n",
       "            </tr>\n",
       "            <tr>\n",
       "                                <td id=\"T_8ba672d6_5a61_11ea_b801_83191f9a9757row6_col0\" class=\"data row6 col0\" >set-48x48-L-LHE</td>\n",
       "                        <td id=\"T_8ba672d6_5a61_11ea_b801_83191f9a9757row6_col1\" class=\"data row6 col1\" >913.90 Mo</td>\n",
       "                        <td id=\"T_8ba672d6_5a61_11ea_b801_83191f9a9757row6_col2\" class=\"data row6 col2\" >96.42 %</td>\n",
       "                        <td id=\"T_8ba672d6_5a61_11ea_b801_83191f9a9757row6_col3\" class=\"data row6 col3\" >137.4 s</td>\n",
       "                        <td id=\"T_8ba672d6_5a61_11ea_b801_83191f9a9757row6_col4\" class=\"data row6 col4\" >97.96 %</td>\n",
       "                        <td id=\"T_8ba672d6_5a61_11ea_b801_83191f9a9757row6_col5\" class=\"data row6 col5\" >122.4 s</td>\n",
       "                        <td id=\"T_8ba672d6_5a61_11ea_b801_83191f9a9757row6_col6\" class=\"data row6 col6\" >97.70 %</td>\n",
       "                        <td id=\"T_8ba672d6_5a61_11ea_b801_83191f9a9757row6_col7\" class=\"data row6 col7\" >94.7 s</td>\n",
       "            </tr>\n",
       "            <tr>\n",
       "                                <td id=\"T_8ba672d6_5a61_11ea_b801_83191f9a9757row7_col0\" class=\"data row7 col0\" >set-48x48-RGB-HE</td>\n",
       "                        <td id=\"T_8ba672d6_5a61_11ea_b801_83191f9a9757row7_col1\" class=\"data row7 col1\" >2736.36 Mo</td>\n",
       "                        <td id=\"T_8ba672d6_5a61_11ea_b801_83191f9a9757row7_col2\" class=\"data row7 col2\" >95.50 %</td>\n",
       "                        <td id=\"T_8ba672d6_5a61_11ea_b801_83191f9a9757row7_col3\" class=\"data row7 col3\" >145.6 s</td>\n",
       "                        <td id=\"T_8ba672d6_5a61_11ea_b801_83191f9a9757row7_col4\" class=\"data row7 col4\" >98.01 %</td>\n",
       "                        <td id=\"T_8ba672d6_5a61_11ea_b801_83191f9a9757row7_col5\" class=\"data row7 col5\" >130.0 s</td>\n",
       "                        <td id=\"T_8ba672d6_5a61_11ea_b801_83191f9a9757row7_col6\" class=\"data row7 col6\" >96.48 %</td>\n",
       "                        <td id=\"T_8ba672d6_5a61_11ea_b801_83191f9a9757row7_col7\" class=\"data row7 col7\" >103.6 s</td>\n",
       "            </tr>\n",
       "    </tbody></table>"
      ],
      "text/plain": [
       "<pandas.io.formats.style.Styler at 0x7f9e08b71d50>"
      ]
     },
     "metadata": {},
     "output_type": "display_data"
    },
    {
     "name": "stdout",
     "output_type": "stream",
     "text": [
      "\n",
      "\n",
      "\n",
      "Report :  report_029273\n",
      "Desc.  :  train_size=1 test_size=1 batch_size=64 epochs=16 data_aug=False \n",
      "\n"
     ]
    },
    {
     "data": {
      "text/html": [
       "<style  type=\"text/css\" >\n",
       "    #T_8ba871c6_5a61_11ea_b801_83191f9a9757row2_col6 {\n",
       "            background-color:  yellow;\n",
       "        }    #T_8ba871c6_5a61_11ea_b801_83191f9a9757row3_col4 {\n",
       "            background-color:  yellow;\n",
       "        }    #T_8ba871c6_5a61_11ea_b801_83191f9a9757row6_col2 {\n",
       "            background-color:  yellow;\n",
       "        }</style><table id=\"T_8ba871c6_5a61_11ea_b801_83191f9a9757\" ><thead>    <tr>        <th class=\"col_heading level0 col0\" >Dataset</th>        <th class=\"col_heading level0 col1\" >Size</th>        <th class=\"col_heading level0 col2\" >v1_Accuracy</th>        <th class=\"col_heading level0 col3\" >v1_Duration</th>        <th class=\"col_heading level0 col4\" >v2_Accuracy</th>        <th class=\"col_heading level0 col5\" >v2_Duration</th>        <th class=\"col_heading level0 col6\" >v3_Accuracy</th>        <th class=\"col_heading level0 col7\" >v3_Duration</th>    </tr></thead><tbody>\n",
       "                <tr>\n",
       "                                <td id=\"T_8ba871c6_5a61_11ea_b801_83191f9a9757row0_col0\" class=\"data row0 col0\" >set-24x24-L</td>\n",
       "                        <td id=\"T_8ba871c6_5a61_11ea_b801_83191f9a9757row0_col1\" class=\"data row0 col1\" >228.77 Mo</td>\n",
       "                        <td id=\"T_8ba871c6_5a61_11ea_b801_83191f9a9757row0_col2\" class=\"data row0 col2\" >95.55 %</td>\n",
       "                        <td id=\"T_8ba871c6_5a61_11ea_b801_83191f9a9757row0_col3\" class=\"data row0 col3\" >45.8 s</td>\n",
       "                        <td id=\"T_8ba871c6_5a61_11ea_b801_83191f9a9757row0_col4\" class=\"data row0 col4\" >96.68 %</td>\n",
       "                        <td id=\"T_8ba871c6_5a61_11ea_b801_83191f9a9757row0_col5\" class=\"data row0 col5\" >52.1 s</td>\n",
       "                        <td id=\"T_8ba871c6_5a61_11ea_b801_83191f9a9757row0_col6\" class=\"data row0 col6\" >95.87 %</td>\n",
       "                        <td id=\"T_8ba871c6_5a61_11ea_b801_83191f9a9757row0_col7\" class=\"data row0 col7\" >53.4 s</td>\n",
       "            </tr>\n",
       "            <tr>\n",
       "                                <td id=\"T_8ba871c6_5a61_11ea_b801_83191f9a9757row1_col0\" class=\"data row1 col0\" >set-24x24-RGB</td>\n",
       "                        <td id=\"T_8ba871c6_5a61_11ea_b801_83191f9a9757row1_col1\" class=\"data row1 col1\" >684.39 Mo</td>\n",
       "                        <td id=\"T_8ba871c6_5a61_11ea_b801_83191f9a9757row1_col2\" class=\"data row1 col2\" >96.22 %</td>\n",
       "                        <td id=\"T_8ba871c6_5a61_11ea_b801_83191f9a9757row1_col3\" class=\"data row1 col3\" >47.0 s</td>\n",
       "                        <td id=\"T_8ba871c6_5a61_11ea_b801_83191f9a9757row1_col4\" class=\"data row1 col4\" >97.34 %</td>\n",
       "                        <td id=\"T_8ba871c6_5a61_11ea_b801_83191f9a9757row1_col5\" class=\"data row1 col5\" >55.7 s</td>\n",
       "                        <td id=\"T_8ba871c6_5a61_11ea_b801_83191f9a9757row1_col6\" class=\"data row1 col6\" >95.75 %</td>\n",
       "                        <td id=\"T_8ba871c6_5a61_11ea_b801_83191f9a9757row1_col7\" class=\"data row1 col7\" >53.4 s</td>\n",
       "            </tr>\n",
       "            <tr>\n",
       "                                <td id=\"T_8ba871c6_5a61_11ea_b801_83191f9a9757row2_col0\" class=\"data row2 col0\" >set-48x48-L</td>\n",
       "                        <td id=\"T_8ba871c6_5a61_11ea_b801_83191f9a9757row2_col1\" class=\"data row2 col1\" >913.90 Mo</td>\n",
       "                        <td id=\"T_8ba871c6_5a61_11ea_b801_83191f9a9757row2_col2\" class=\"data row2 col2\" >96.22 %</td>\n",
       "                        <td id=\"T_8ba871c6_5a61_11ea_b801_83191f9a9757row2_col3\" class=\"data row2 col3\" >136.8 s</td>\n",
       "                        <td id=\"T_8ba871c6_5a61_11ea_b801_83191f9a9757row2_col4\" class=\"data row2 col4\" >98.00 %</td>\n",
       "                        <td id=\"T_8ba871c6_5a61_11ea_b801_83191f9a9757row2_col5\" class=\"data row2 col5\" >119.3 s</td>\n",
       "                        <td id=\"T_8ba871c6_5a61_11ea_b801_83191f9a9757row2_col6\" class=\"data row2 col6\" >97.78 %</td>\n",
       "                        <td id=\"T_8ba871c6_5a61_11ea_b801_83191f9a9757row2_col7\" class=\"data row2 col7\" >93.4 s</td>\n",
       "            </tr>\n",
       "            <tr>\n",
       "                                <td id=\"T_8ba871c6_5a61_11ea_b801_83191f9a9757row3_col0\" class=\"data row3 col0\" >set-48x48-RGB</td>\n",
       "                        <td id=\"T_8ba871c6_5a61_11ea_b801_83191f9a9757row3_col1\" class=\"data row3 col1\" >2736.36 Mo</td>\n",
       "                        <td id=\"T_8ba871c6_5a61_11ea_b801_83191f9a9757row3_col2\" class=\"data row3 col2\" >96.28 %</td>\n",
       "                        <td id=\"T_8ba871c6_5a61_11ea_b801_83191f9a9757row3_col3\" class=\"data row3 col3\" >144.2 s</td>\n",
       "                        <td id=\"T_8ba871c6_5a61_11ea_b801_83191f9a9757row3_col4\" class=\"data row3 col4\" >98.60 %</td>\n",
       "                        <td id=\"T_8ba871c6_5a61_11ea_b801_83191f9a9757row3_col5\" class=\"data row3 col5\" >126.8 s</td>\n",
       "                        <td id=\"T_8ba871c6_5a61_11ea_b801_83191f9a9757row3_col6\" class=\"data row3 col6\" >97.55 %</td>\n",
       "                        <td id=\"T_8ba871c6_5a61_11ea_b801_83191f9a9757row3_col7\" class=\"data row3 col7\" >101.9 s</td>\n",
       "            </tr>\n",
       "            <tr>\n",
       "                                <td id=\"T_8ba871c6_5a61_11ea_b801_83191f9a9757row4_col0\" class=\"data row4 col0\" >set-24x24-L-LHE</td>\n",
       "                        <td id=\"T_8ba871c6_5a61_11ea_b801_83191f9a9757row4_col1\" class=\"data row4 col1\" >228.77 Mo</td>\n",
       "                        <td id=\"T_8ba871c6_5a61_11ea_b801_83191f9a9757row4_col2\" class=\"data row4 col2\" >96.00 %</td>\n",
       "                        <td id=\"T_8ba871c6_5a61_11ea_b801_83191f9a9757row4_col3\" class=\"data row4 col3\" >45.1 s</td>\n",
       "                        <td id=\"T_8ba871c6_5a61_11ea_b801_83191f9a9757row4_col4\" class=\"data row4 col4\" >97.12 %</td>\n",
       "                        <td id=\"T_8ba871c6_5a61_11ea_b801_83191f9a9757row4_col5\" class=\"data row4 col5\" >53.6 s</td>\n",
       "                        <td id=\"T_8ba871c6_5a61_11ea_b801_83191f9a9757row4_col6\" class=\"data row4 col6\" >95.65 %</td>\n",
       "                        <td id=\"T_8ba871c6_5a61_11ea_b801_83191f9a9757row4_col7\" class=\"data row4 col7\" >53.2 s</td>\n",
       "            </tr>\n",
       "            <tr>\n",
       "                                <td id=\"T_8ba871c6_5a61_11ea_b801_83191f9a9757row5_col0\" class=\"data row5 col0\" >set-24x24-RGB-HE</td>\n",
       "                        <td id=\"T_8ba871c6_5a61_11ea_b801_83191f9a9757row5_col1\" class=\"data row5 col1\" >684.39 Mo</td>\n",
       "                        <td id=\"T_8ba871c6_5a61_11ea_b801_83191f9a9757row5_col2\" class=\"data row5 col2\" >95.27 %</td>\n",
       "                        <td id=\"T_8ba871c6_5a61_11ea_b801_83191f9a9757row5_col3\" class=\"data row5 col3\" >47.2 s</td>\n",
       "                        <td id=\"T_8ba871c6_5a61_11ea_b801_83191f9a9757row5_col4\" class=\"data row5 col4\" >96.47 %</td>\n",
       "                        <td id=\"T_8ba871c6_5a61_11ea_b801_83191f9a9757row5_col5\" class=\"data row5 col5\" >56.3 s</td>\n",
       "                        <td id=\"T_8ba871c6_5a61_11ea_b801_83191f9a9757row5_col6\" class=\"data row5 col6\" >95.27 %</td>\n",
       "                        <td id=\"T_8ba871c6_5a61_11ea_b801_83191f9a9757row5_col7\" class=\"data row5 col7\" >54.6 s</td>\n",
       "            </tr>\n",
       "            <tr>\n",
       "                                <td id=\"T_8ba871c6_5a61_11ea_b801_83191f9a9757row6_col0\" class=\"data row6 col0\" >set-48x48-L-LHE</td>\n",
       "                        <td id=\"T_8ba871c6_5a61_11ea_b801_83191f9a9757row6_col1\" class=\"data row6 col1\" >913.90 Mo</td>\n",
       "                        <td id=\"T_8ba871c6_5a61_11ea_b801_83191f9a9757row6_col2\" class=\"data row6 col2\" >96.41 %</td>\n",
       "                        <td id=\"T_8ba871c6_5a61_11ea_b801_83191f9a9757row6_col3\" class=\"data row6 col3\" >138.6 s</td>\n",
       "                        <td id=\"T_8ba871c6_5a61_11ea_b801_83191f9a9757row6_col4\" class=\"data row6 col4\" >97.93 %</td>\n",
       "                        <td id=\"T_8ba871c6_5a61_11ea_b801_83191f9a9757row6_col5\" class=\"data row6 col5\" >119.1 s</td>\n",
       "                        <td id=\"T_8ba871c6_5a61_11ea_b801_83191f9a9757row6_col6\" class=\"data row6 col6\" >97.55 %</td>\n",
       "                        <td id=\"T_8ba871c6_5a61_11ea_b801_83191f9a9757row6_col7\" class=\"data row6 col7\" >93.7 s</td>\n",
       "            </tr>\n",
       "            <tr>\n",
       "                                <td id=\"T_8ba871c6_5a61_11ea_b801_83191f9a9757row7_col0\" class=\"data row7 col0\" >set-48x48-RGB-HE</td>\n",
       "                        <td id=\"T_8ba871c6_5a61_11ea_b801_83191f9a9757row7_col1\" class=\"data row7 col1\" >2736.36 Mo</td>\n",
       "                        <td id=\"T_8ba871c6_5a61_11ea_b801_83191f9a9757row7_col2\" class=\"data row7 col2\" >94.62 %</td>\n",
       "                        <td id=\"T_8ba871c6_5a61_11ea_b801_83191f9a9757row7_col3\" class=\"data row7 col3\" >145.6 s</td>\n",
       "                        <td id=\"T_8ba871c6_5a61_11ea_b801_83191f9a9757row7_col4\" class=\"data row7 col4\" >97.49 %</td>\n",
       "                        <td id=\"T_8ba871c6_5a61_11ea_b801_83191f9a9757row7_col5\" class=\"data row7 col5\" >127.4 s</td>\n",
       "                        <td id=\"T_8ba871c6_5a61_11ea_b801_83191f9a9757row7_col6\" class=\"data row7 col6\" >96.52 %</td>\n",
       "                        <td id=\"T_8ba871c6_5a61_11ea_b801_83191f9a9757row7_col7\" class=\"data row7 col7\" >104.3 s</td>\n",
       "            </tr>\n",
       "    </tbody></table>"
      ],
      "text/plain": [
       "<pandas.io.formats.style.Styler at 0x7f9e338e96d0>"
      ]
     },
     "metadata": {},
     "output_type": "display_data"
    },
    {
     "name": "stdout",
     "output_type": "stream",
     "text": [
      "\n",
      "\n",
      "\n",
      "Report :  report_033476\n",
      "Desc.  :  train_size=1 test_size=1 batch_size=64 epochs=16 data_aug=False \n",
      "\n"
     ]
    },
    {
     "data": {
      "text/html": [
       "<style  type=\"text/css\" >\n",
       "    #T_8baa2ff2_5a61_11ea_b801_83191f9a9757row2_col2 {\n",
       "            background-color:  yellow;\n",
       "        }    #T_8baa2ff2_5a61_11ea_b801_83191f9a9757row2_col6 {\n",
       "            background-color:  yellow;\n",
       "        }    #T_8baa2ff2_5a61_11ea_b801_83191f9a9757row3_col4 {\n",
       "            background-color:  yellow;\n",
       "        }</style><table id=\"T_8baa2ff2_5a61_11ea_b801_83191f9a9757\" ><thead>    <tr>        <th class=\"col_heading level0 col0\" >Dataset</th>        <th class=\"col_heading level0 col1\" >Size</th>        <th class=\"col_heading level0 col2\" >v1_Accuracy</th>        <th class=\"col_heading level0 col3\" >v1_Duration</th>        <th class=\"col_heading level0 col4\" >v2_Accuracy</th>        <th class=\"col_heading level0 col5\" >v2_Duration</th>        <th class=\"col_heading level0 col6\" >v3_Accuracy</th>        <th class=\"col_heading level0 col7\" >v3_Duration</th>    </tr></thead><tbody>\n",
       "                <tr>\n",
       "                                <td id=\"T_8baa2ff2_5a61_11ea_b801_83191f9a9757row0_col0\" class=\"data row0 col0\" >set-24x24-L</td>\n",
       "                        <td id=\"T_8baa2ff2_5a61_11ea_b801_83191f9a9757row0_col1\" class=\"data row0 col1\" >228.77 Mo</td>\n",
       "                        <td id=\"T_8baa2ff2_5a61_11ea_b801_83191f9a9757row0_col2\" class=\"data row0 col2\" >95.06 %</td>\n",
       "                        <td id=\"T_8baa2ff2_5a61_11ea_b801_83191f9a9757row0_col3\" class=\"data row0 col3\" >50.7 s</td>\n",
       "                        <td id=\"T_8baa2ff2_5a61_11ea_b801_83191f9a9757row0_col4\" class=\"data row0 col4\" >96.51 %</td>\n",
       "                        <td id=\"T_8baa2ff2_5a61_11ea_b801_83191f9a9757row0_col5\" class=\"data row0 col5\" >52.9 s</td>\n",
       "                        <td id=\"T_8baa2ff2_5a61_11ea_b801_83191f9a9757row0_col6\" class=\"data row0 col6\" >95.12 %</td>\n",
       "                        <td id=\"T_8baa2ff2_5a61_11ea_b801_83191f9a9757row0_col7\" class=\"data row0 col7\" >51.4 s</td>\n",
       "            </tr>\n",
       "            <tr>\n",
       "                                <td id=\"T_8baa2ff2_5a61_11ea_b801_83191f9a9757row1_col0\" class=\"data row1 col0\" >set-24x24-RGB</td>\n",
       "                        <td id=\"T_8baa2ff2_5a61_11ea_b801_83191f9a9757row1_col1\" class=\"data row1 col1\" >684.39 Mo</td>\n",
       "                        <td id=\"T_8baa2ff2_5a61_11ea_b801_83191f9a9757row1_col2\" class=\"data row1 col2\" >96.14 %</td>\n",
       "                        <td id=\"T_8baa2ff2_5a61_11ea_b801_83191f9a9757row1_col3\" class=\"data row1 col3\" >46.7 s</td>\n",
       "                        <td id=\"T_8baa2ff2_5a61_11ea_b801_83191f9a9757row1_col4\" class=\"data row1 col4\" >97.53 %</td>\n",
       "                        <td id=\"T_8baa2ff2_5a61_11ea_b801_83191f9a9757row1_col5\" class=\"data row1 col5\" >55.2 s</td>\n",
       "                        <td id=\"T_8baa2ff2_5a61_11ea_b801_83191f9a9757row1_col6\" class=\"data row1 col6\" >95.29 %</td>\n",
       "                        <td id=\"T_8baa2ff2_5a61_11ea_b801_83191f9a9757row1_col7\" class=\"data row1 col7\" >56.0 s</td>\n",
       "            </tr>\n",
       "            <tr>\n",
       "                                <td id=\"T_8baa2ff2_5a61_11ea_b801_83191f9a9757row2_col0\" class=\"data row2 col0\" >set-48x48-L</td>\n",
       "                        <td id=\"T_8baa2ff2_5a61_11ea_b801_83191f9a9757row2_col1\" class=\"data row2 col1\" >913.90 Mo</td>\n",
       "                        <td id=\"T_8baa2ff2_5a61_11ea_b801_83191f9a9757row2_col2\" class=\"data row2 col2\" >96.93 %</td>\n",
       "                        <td id=\"T_8baa2ff2_5a61_11ea_b801_83191f9a9757row2_col3\" class=\"data row2 col3\" >137.3 s</td>\n",
       "                        <td id=\"T_8baa2ff2_5a61_11ea_b801_83191f9a9757row2_col4\" class=\"data row2 col4\" >97.60 %</td>\n",
       "                        <td id=\"T_8baa2ff2_5a61_11ea_b801_83191f9a9757row2_col5\" class=\"data row2 col5\" >117.3 s</td>\n",
       "                        <td id=\"T_8baa2ff2_5a61_11ea_b801_83191f9a9757row2_col6\" class=\"data row2 col6\" >97.96 %</td>\n",
       "                        <td id=\"T_8baa2ff2_5a61_11ea_b801_83191f9a9757row2_col7\" class=\"data row2 col7\" >95.3 s</td>\n",
       "            </tr>\n",
       "            <tr>\n",
       "                                <td id=\"T_8baa2ff2_5a61_11ea_b801_83191f9a9757row3_col0\" class=\"data row3 col0\" >set-48x48-RGB</td>\n",
       "                        <td id=\"T_8baa2ff2_5a61_11ea_b801_83191f9a9757row3_col1\" class=\"data row3 col1\" >2736.36 Mo</td>\n",
       "                        <td id=\"T_8baa2ff2_5a61_11ea_b801_83191f9a9757row3_col2\" class=\"data row3 col2\" >96.58 %</td>\n",
       "                        <td id=\"T_8baa2ff2_5a61_11ea_b801_83191f9a9757row3_col3\" class=\"data row3 col3\" >146.6 s</td>\n",
       "                        <td id=\"T_8baa2ff2_5a61_11ea_b801_83191f9a9757row3_col4\" class=\"data row3 col4\" >97.86 %</td>\n",
       "                        <td id=\"T_8baa2ff2_5a61_11ea_b801_83191f9a9757row3_col5\" class=\"data row3 col5\" >128.3 s</td>\n",
       "                        <td id=\"T_8baa2ff2_5a61_11ea_b801_83191f9a9757row3_col6\" class=\"data row3 col6\" >97.73 %</td>\n",
       "                        <td id=\"T_8baa2ff2_5a61_11ea_b801_83191f9a9757row3_col7\" class=\"data row3 col7\" >103.1 s</td>\n",
       "            </tr>\n",
       "            <tr>\n",
       "                                <td id=\"T_8baa2ff2_5a61_11ea_b801_83191f9a9757row4_col0\" class=\"data row4 col0\" >set-24x24-L-LHE</td>\n",
       "                        <td id=\"T_8baa2ff2_5a61_11ea_b801_83191f9a9757row4_col1\" class=\"data row4 col1\" >228.77 Mo</td>\n",
       "                        <td id=\"T_8baa2ff2_5a61_11ea_b801_83191f9a9757row4_col2\" class=\"data row4 col2\" >96.11 %</td>\n",
       "                        <td id=\"T_8baa2ff2_5a61_11ea_b801_83191f9a9757row4_col3\" class=\"data row4 col3\" >45.2 s</td>\n",
       "                        <td id=\"T_8baa2ff2_5a61_11ea_b801_83191f9a9757row4_col4\" class=\"data row4 col4\" >97.15 %</td>\n",
       "                        <td id=\"T_8baa2ff2_5a61_11ea_b801_83191f9a9757row4_col5\" class=\"data row4 col5\" >53.0 s</td>\n",
       "                        <td id=\"T_8baa2ff2_5a61_11ea_b801_83191f9a9757row4_col6\" class=\"data row4 col6\" >95.16 %</td>\n",
       "                        <td id=\"T_8baa2ff2_5a61_11ea_b801_83191f9a9757row4_col7\" class=\"data row4 col7\" >54.5 s</td>\n",
       "            </tr>\n",
       "            <tr>\n",
       "                                <td id=\"T_8baa2ff2_5a61_11ea_b801_83191f9a9757row5_col0\" class=\"data row5 col0\" >set-24x24-RGB-HE</td>\n",
       "                        <td id=\"T_8baa2ff2_5a61_11ea_b801_83191f9a9757row5_col1\" class=\"data row5 col1\" >684.39 Mo</td>\n",
       "                        <td id=\"T_8baa2ff2_5a61_11ea_b801_83191f9a9757row5_col2\" class=\"data row5 col2\" >95.10 %</td>\n",
       "                        <td id=\"T_8baa2ff2_5a61_11ea_b801_83191f9a9757row5_col3\" class=\"data row5 col3\" >47.1 s</td>\n",
       "                        <td id=\"T_8baa2ff2_5a61_11ea_b801_83191f9a9757row5_col4\" class=\"data row5 col4\" >96.41 %</td>\n",
       "                        <td id=\"T_8baa2ff2_5a61_11ea_b801_83191f9a9757row5_col5\" class=\"data row5 col5\" >55.5 s</td>\n",
       "                        <td id=\"T_8baa2ff2_5a61_11ea_b801_83191f9a9757row5_col6\" class=\"data row5 col6\" >94.40 %</td>\n",
       "                        <td id=\"T_8baa2ff2_5a61_11ea_b801_83191f9a9757row5_col7\" class=\"data row5 col7\" >52.6 s</td>\n",
       "            </tr>\n",
       "            <tr>\n",
       "                                <td id=\"T_8baa2ff2_5a61_11ea_b801_83191f9a9757row6_col0\" class=\"data row6 col0\" >set-48x48-L-LHE</td>\n",
       "                        <td id=\"T_8baa2ff2_5a61_11ea_b801_83191f9a9757row6_col1\" class=\"data row6 col1\" >913.90 Mo</td>\n",
       "                        <td id=\"T_8baa2ff2_5a61_11ea_b801_83191f9a9757row6_col2\" class=\"data row6 col2\" >96.45 %</td>\n",
       "                        <td id=\"T_8baa2ff2_5a61_11ea_b801_83191f9a9757row6_col3\" class=\"data row6 col3\" >137.3 s</td>\n",
       "                        <td id=\"T_8baa2ff2_5a61_11ea_b801_83191f9a9757row6_col4\" class=\"data row6 col4\" >97.74 %</td>\n",
       "                        <td id=\"T_8baa2ff2_5a61_11ea_b801_83191f9a9757row6_col5\" class=\"data row6 col5\" >117.7 s</td>\n",
       "                        <td id=\"T_8baa2ff2_5a61_11ea_b801_83191f9a9757row6_col6\" class=\"data row6 col6\" >97.42 %</td>\n",
       "                        <td id=\"T_8baa2ff2_5a61_11ea_b801_83191f9a9757row6_col7\" class=\"data row6 col7\" >91.8 s</td>\n",
       "            </tr>\n",
       "            <tr>\n",
       "                                <td id=\"T_8baa2ff2_5a61_11ea_b801_83191f9a9757row7_col0\" class=\"data row7 col0\" >set-48x48-RGB-HE</td>\n",
       "                        <td id=\"T_8baa2ff2_5a61_11ea_b801_83191f9a9757row7_col1\" class=\"data row7 col1\" >2736.36 Mo</td>\n",
       "                        <td id=\"T_8baa2ff2_5a61_11ea_b801_83191f9a9757row7_col2\" class=\"data row7 col2\" >95.08 %</td>\n",
       "                        <td id=\"T_8baa2ff2_5a61_11ea_b801_83191f9a9757row7_col3\" class=\"data row7 col3\" >146.7 s</td>\n",
       "                        <td id=\"T_8baa2ff2_5a61_11ea_b801_83191f9a9757row7_col4\" class=\"data row7 col4\" >97.65 %</td>\n",
       "                        <td id=\"T_8baa2ff2_5a61_11ea_b801_83191f9a9757row7_col5\" class=\"data row7 col5\" >130.2 s</td>\n",
       "                        <td id=\"T_8baa2ff2_5a61_11ea_b801_83191f9a9757row7_col6\" class=\"data row7 col6\" >96.91 %</td>\n",
       "                        <td id=\"T_8baa2ff2_5a61_11ea_b801_83191f9a9757row7_col7\" class=\"data row7 col7\" >108.1 s</td>\n",
       "            </tr>\n",
       "    </tbody></table>"
      ],
      "text/plain": [
       "<pandas.io.formats.style.Styler at 0x7f9e07433250>"
      ]
     },
     "metadata": {},
     "output_type": "display_data"
    },
    {
     "name": "stdout",
     "output_type": "stream",
     "text": [
      "\n",
      "\n",
      "\n",
      "Report :  report_035478\n",
      "Desc.  :  train_size=1 test_size=1 batch_size=64 epochs=20 data_aug=True \n",
      "\n"
     ]
    },
    {
     "data": {
      "text/html": [
       "<style  type=\"text/css\" >\n",
       "    #T_8bab4aa4_5a61_11ea_b801_83191f9a9757row0_col2 {\n",
       "            background-color:  yellow;\n",
       "        }</style><table id=\"T_8bab4aa4_5a61_11ea_b801_83191f9a9757\" ><thead>    <tr>        <th class=\"col_heading level0 col0\" >Dataset</th>        <th class=\"col_heading level0 col1\" >Size</th>        <th class=\"col_heading level0 col2\" >v2_Accuracy</th>        <th class=\"col_heading level0 col3\" >v2_Duration</th>    </tr></thead><tbody>\n",
       "                <tr>\n",
       "                                <td id=\"T_8bab4aa4_5a61_11ea_b801_83191f9a9757row0_col0\" class=\"data row0 col0\" >set-48x48-RGB</td>\n",
       "                        <td id=\"T_8bab4aa4_5a61_11ea_b801_83191f9a9757row0_col1\" class=\"data row0 col1\" >2736.36 Mo</td>\n",
       "                        <td id=\"T_8bab4aa4_5a61_11ea_b801_83191f9a9757row0_col2\" class=\"data row0 col2\" >98.71 %</td>\n",
       "                        <td id=\"T_8bab4aa4_5a61_11ea_b801_83191f9a9757row0_col3\" class=\"data row0 col3\" >564.0 s</td>\n",
       "            </tr>\n",
       "    </tbody></table>"
      ],
      "text/plain": [
       "<pandas.io.formats.style.Styler at 0x7f9e345ccd50>"
      ]
     },
     "metadata": {},
     "output_type": "display_data"
    },
    {
     "name": "stdout",
     "output_type": "stream",
     "text": [
      "\n",
      "\n",
      "\n",
      "Report :  report_049176\n",
      "Desc.  :  train_size=1 test_size=1 batch_size=64 epochs=20 data_aug=True \n",
      "\n"
     ]
    },
    {
     "data": {
      "text/html": [
       "<style  type=\"text/css\" >\n",
       "    #T_8bac19e8_5a61_11ea_b801_83191f9a9757row0_col2 {\n",
       "            background-color:  yellow;\n",
       "        }</style><table id=\"T_8bac19e8_5a61_11ea_b801_83191f9a9757\" ><thead>    <tr>        <th class=\"col_heading level0 col0\" >Dataset</th>        <th class=\"col_heading level0 col1\" >Size</th>        <th class=\"col_heading level0 col2\" >v2_Accuracy</th>        <th class=\"col_heading level0 col3\" >v2_Duration</th>    </tr></thead><tbody>\n",
       "                <tr>\n",
       "                                <td id=\"T_8bac19e8_5a61_11ea_b801_83191f9a9757row0_col0\" class=\"data row0 col0\" >set-48x48-RGB</td>\n",
       "                        <td id=\"T_8bac19e8_5a61_11ea_b801_83191f9a9757row0_col1\" class=\"data row0 col1\" >2736.36 Mo</td>\n",
       "                        <td id=\"T_8bac19e8_5a61_11ea_b801_83191f9a9757row0_col2\" class=\"data row0 col2\" >98.81 %</td>\n",
       "                        <td id=\"T_8bac19e8_5a61_11ea_b801_83191f9a9757row0_col3\" class=\"data row0 col3\" >564.2 s</td>\n",
       "            </tr>\n",
       "    </tbody></table>"
      ],
      "text/plain": [
       "<pandas.io.formats.style.Styler at 0x7f9e06a1d910>"
      ]
     },
     "metadata": {},
     "output_type": "display_data"
    },
    {
     "name": "stdout",
     "output_type": "stream",
     "text": [
      "\n",
      "\n",
      "\n",
      "Report :  report_094813\n",
      "Desc.  :  train_size=1 test_size=1 batch_size=64 epochs=20 data_aug=True \n",
      "\n"
     ]
    },
    {
     "data": {
      "text/html": [
       "<style  type=\"text/css\" >\n",
       "    #T_8bacebfc_5a61_11ea_b801_83191f9a9757row0_col2 {\n",
       "            background-color:  yellow;\n",
       "        }</style><table id=\"T_8bacebfc_5a61_11ea_b801_83191f9a9757\" ><thead>    <tr>        <th class=\"col_heading level0 col0\" >Dataset</th>        <th class=\"col_heading level0 col1\" >Size</th>        <th class=\"col_heading level0 col2\" >v2_Accuracy</th>        <th class=\"col_heading level0 col3\" >v2_Duration</th>    </tr></thead><tbody>\n",
       "                <tr>\n",
       "                                <td id=\"T_8bacebfc_5a61_11ea_b801_83191f9a9757row0_col0\" class=\"data row0 col0\" >set-48x48-RGB</td>\n",
       "                        <td id=\"T_8bacebfc_5a61_11ea_b801_83191f9a9757row0_col1\" class=\"data row0 col1\" >2736.36 Mo</td>\n",
       "                        <td id=\"T_8bacebfc_5a61_11ea_b801_83191f9a9757row0_col2\" class=\"data row0 col2\" >98.92 %</td>\n",
       "                        <td id=\"T_8bacebfc_5a61_11ea_b801_83191f9a9757row0_col3\" class=\"data row0 col3\" >570.1 s</td>\n",
       "            </tr>\n",
       "    </tbody></table>"
      ],
      "text/plain": [
       "<pandas.io.formats.style.Styler at 0x7f9e06e48750>"
      ]
     },
     "metadata": {},
     "output_type": "display_data"
    }
   ],
   "source": [
    "for file in glob.glob(\"./run/*.json\"):\n",
    "    show_report(file)\n"
   ]
  },
  {
   "cell_type": "markdown",
   "metadata": {},
   "source": [
    "---\n",
    "<img width=\"80px\" src=\"../fidle/img/00-Fidle-logo-01.svg\"></img>"
   ]
  }
 ],
 "metadata": {
  "kernelspec": {
   "display_name": "Python 3",
   "language": "python",
   "name": "python3"
  },
  "language_info": {
   "codemirror_mode": {
    "name": "ipython",
    "version": 3
   },
   "file_extension": ".py",
   "mimetype": "text/x-python",
   "name": "python",
   "nbconvert_exporter": "python",
   "pygments_lexer": "ipython3",
   "version": "3.7.6"
  }
 },
 "nbformat": 4,
 "nbformat_minor": 4
}
