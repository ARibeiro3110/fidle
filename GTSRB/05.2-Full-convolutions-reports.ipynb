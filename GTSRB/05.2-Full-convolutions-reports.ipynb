{
 "cells": [
  {
   "cell_type": "markdown",
   "metadata": {},
   "source": [
    "German Traffic Sign Recognition Benchmark (GTSRB)\n",
    "=================================================\n",
    "---\n",
    "Introduction au Deep Learning  (IDLE) - S. Arias, E. Maldonado, JL. Parouty - CNRS/SARI/DEVLOG - 2020  \n",
    "\n",
    "## Episode 5.2 : Full Convolutions Reports\n",
    "\n",
    "Ou main steps :\n",
    " - Show reports\n",
    "\n",
    "## 1/ Import"
   ]
  },
  {
   "cell_type": "code",
   "execution_count": 1,
   "metadata": {},
   "outputs": [],
   "source": [
    "import pandas as pd\n",
    "import os,glob\n",
    "from pathlib import Path\n",
    "from IPython.display import display, Markdown"
   ]
  },
  {
   "cell_type": "markdown",
   "metadata": {},
   "source": [
    "## 2/ A nice function"
   ]
  },
  {
   "cell_type": "code",
   "execution_count": 2,
   "metadata": {},
   "outputs": [],
   "source": [
    "def show_report(report_name):\n",
    "    # ---- Read report\n",
    "    output = pd.read_hdf(report_name, 'output')\n",
    "    params = pd.read_hdf(report_name, 'params')\n",
    "    # ---- Build format\n",
    "    lambda_acc = lambda x : '{:.2f} %'.format(x) if (isinstance(x, float)) else '{:}'.format(x)\n",
    "    lambda_dur = lambda x : '{:.1f} s'.format(x) if (isinstance(x, float)) else '{:}'.format(x)\n",
    "    format_dict = {'Size':'{:.2f} Mo'}\n",
    "    for m in params['models'].tolist():\n",
    "        format_dict[m+' Accuracy']=lambda_acc\n",
    "        format_dict[m+' Duration']=lambda_dur\n",
    "    t=output.style.format(format_dict).hide_index()\n",
    "    display(t)"
   ]
  },
  {
   "cell_type": "markdown",
   "metadata": {},
   "source": [
    "## 3/ Reports display"
   ]
  },
  {
   "cell_type": "code",
   "execution_count": 3,
   "metadata": {},
   "outputs": [
    {
     "name": "stdout",
     "output_type": "stream",
     "text": [
      "\n",
      "\n",
      "Report :  report-2020-01-19_12h45m57s \n",
      "\n"
     ]
    },
    {
     "data": {
      "text/html": [
       "<style  type=\"text/css\" >\n",
       "</style><table id=\"T_5d373846_3ac6_11ea_820c_836bead0fd53\" ><thead>    <tr>        <th class=\"col_heading level0 col0\" >Dataset</th>        <th class=\"col_heading level0 col1\" >Size</th>        <th class=\"col_heading level0 col2\" >v1 Accuracy</th>        <th class=\"col_heading level0 col3\" >v1 Duration</th>        <th class=\"col_heading level0 col4\" >v3 Accuracy</th>        <th class=\"col_heading level0 col5\" >v3 Duration</th>    </tr></thead><tbody>\n",
       "                <tr>\n",
       "                                <td id=\"T_5d373846_3ac6_11ea_820c_836bead0fd53row0_col0\" class=\"data row0 col0\" >set-24x24-L</td>\n",
       "                        <td id=\"T_5d373846_3ac6_11ea_820c_836bead0fd53row0_col1\" class=\"data row0 col1\" >228.77 Mo</td>\n",
       "                        <td id=\"T_5d373846_3ac6_11ea_820c_836bead0fd53row0_col2\" class=\"data row0 col2\" >11.99 %</td>\n",
       "                        <td id=\"T_5d373846_3ac6_11ea_820c_836bead0fd53row0_col3\" class=\"data row0 col3\" >8.5 s</td>\n",
       "                        <td id=\"T_5d373846_3ac6_11ea_820c_836bead0fd53row0_col4\" class=\"data row0 col4\" >-</td>\n",
       "                        <td id=\"T_5d373846_3ac6_11ea_820c_836bead0fd53row0_col5\" class=\"data row0 col5\" >-</td>\n",
       "            </tr>\n",
       "            <tr>\n",
       "                                <td id=\"T_5d373846_3ac6_11ea_820c_836bead0fd53row1_col0\" class=\"data row1 col0\" >set-24x24-RGB</td>\n",
       "                        <td id=\"T_5d373846_3ac6_11ea_820c_836bead0fd53row1_col1\" class=\"data row1 col1\" >684.39 Mo</td>\n",
       "                        <td id=\"T_5d373846_3ac6_11ea_820c_836bead0fd53row1_col2\" class=\"data row1 col2\" >16.95 %</td>\n",
       "                        <td id=\"T_5d373846_3ac6_11ea_820c_836bead0fd53row1_col3\" class=\"data row1 col3\" >8.4 s</td>\n",
       "                        <td id=\"T_5d373846_3ac6_11ea_820c_836bead0fd53row1_col4\" class=\"data row1 col4\" >-</td>\n",
       "                        <td id=\"T_5d373846_3ac6_11ea_820c_836bead0fd53row1_col5\" class=\"data row1 col5\" >-</td>\n",
       "            </tr>\n",
       "    </tbody></table>"
      ],
      "text/plain": [
       "<pandas.io.formats.style.Styler at 0x7fb458777110>"
      ]
     },
     "metadata": {},
     "output_type": "display_data"
    },
    {
     "name": "stdout",
     "output_type": "stream",
     "text": [
      "\n",
      "\n",
      "Report :  report-2020-01-19_13h53m43s \n",
      "\n"
     ]
    },
    {
     "data": {
      "text/html": [
       "<style  type=\"text/css\" >\n",
       "</style><table id=\"T_5d39a356_3ac6_11ea_820c_836bead0fd53\" ><thead>    <tr>        <th class=\"col_heading level0 col0\" >Dataset</th>        <th class=\"col_heading level0 col1\" >Size</th>        <th class=\"col_heading level0 col2\" >v1 Accuracy</th>        <th class=\"col_heading level0 col3\" >v1 Duration</th>        <th class=\"col_heading level0 col4\" >v3 Accuracy</th>        <th class=\"col_heading level0 col5\" >v3 Duration</th>    </tr></thead><tbody>\n",
       "                <tr>\n",
       "                                <td id=\"T_5d39a356_3ac6_11ea_820c_836bead0fd53row0_col0\" class=\"data row0 col0\" >set-24x24-L</td>\n",
       "                        <td id=\"T_5d39a356_3ac6_11ea_820c_836bead0fd53row0_col1\" class=\"data row0 col1\" >228.77 Mo</td>\n",
       "                        <td id=\"T_5d39a356_3ac6_11ea_820c_836bead0fd53row0_col2\" class=\"data row0 col2\" >10.48 %</td>\n",
       "                        <td id=\"T_5d39a356_3ac6_11ea_820c_836bead0fd53row0_col3\" class=\"data row0 col3\" >8.4 s</td>\n",
       "                        <td id=\"T_5d39a356_3ac6_11ea_820c_836bead0fd53row0_col4\" class=\"data row0 col4\" >-</td>\n",
       "                        <td id=\"T_5d39a356_3ac6_11ea_820c_836bead0fd53row0_col5\" class=\"data row0 col5\" >-</td>\n",
       "            </tr>\n",
       "            <tr>\n",
       "                                <td id=\"T_5d39a356_3ac6_11ea_820c_836bead0fd53row1_col0\" class=\"data row1 col0\" >set-24x24-RGB</td>\n",
       "                        <td id=\"T_5d39a356_3ac6_11ea_820c_836bead0fd53row1_col1\" class=\"data row1 col1\" >684.39 Mo</td>\n",
       "                        <td id=\"T_5d39a356_3ac6_11ea_820c_836bead0fd53row1_col2\" class=\"data row1 col2\" >15.67 %</td>\n",
       "                        <td id=\"T_5d39a356_3ac6_11ea_820c_836bead0fd53row1_col3\" class=\"data row1 col3\" >8.3 s</td>\n",
       "                        <td id=\"T_5d39a356_3ac6_11ea_820c_836bead0fd53row1_col4\" class=\"data row1 col4\" >-</td>\n",
       "                        <td id=\"T_5d39a356_3ac6_11ea_820c_836bead0fd53row1_col5\" class=\"data row1 col5\" >-</td>\n",
       "            </tr>\n",
       "    </tbody></table>"
      ],
      "text/plain": [
       "<pandas.io.formats.style.Styler at 0x7fb45815d350>"
      ]
     },
     "metadata": {},
     "output_type": "display_data"
    },
    {
     "name": "stdout",
     "output_type": "stream",
     "text": [
      "\n",
      "\n",
      "Report :  report-2020-01-19_14h26m21s \n",
      "\n"
     ]
    },
    {
     "data": {
      "text/html": [
       "<style  type=\"text/css\" >\n",
       "</style><table id=\"T_5d3bfef8_3ac6_11ea_820c_836bead0fd53\" ><thead>    <tr>        <th class=\"col_heading level0 col0\" >Dataset</th>        <th class=\"col_heading level0 col1\" >Size</th>        <th class=\"col_heading level0 col2\" >v1 Accuracy</th>        <th class=\"col_heading level0 col3\" >v1 Duration</th>        <th class=\"col_heading level0 col4\" >v3 Accuracy</th>        <th class=\"col_heading level0 col5\" >v3 Duration</th>    </tr></thead><tbody>\n",
       "                <tr>\n",
       "                                <td id=\"T_5d3bfef8_3ac6_11ea_820c_836bead0fd53row0_col0\" class=\"data row0 col0\" >set-24x24-L</td>\n",
       "                        <td id=\"T_5d3bfef8_3ac6_11ea_820c_836bead0fd53row0_col1\" class=\"data row0 col1\" >228.77 Mo</td>\n",
       "                        <td id=\"T_5d3bfef8_3ac6_11ea_820c_836bead0fd53row0_col2\" class=\"data row0 col2\" >10.68 %</td>\n",
       "                        <td id=\"T_5d3bfef8_3ac6_11ea_820c_836bead0fd53row0_col3\" class=\"data row0 col3\" >8.5 s</td>\n",
       "                        <td id=\"T_5d3bfef8_3ac6_11ea_820c_836bead0fd53row0_col4\" class=\"data row0 col4\" >-</td>\n",
       "                        <td id=\"T_5d3bfef8_3ac6_11ea_820c_836bead0fd53row0_col5\" class=\"data row0 col5\" >-</td>\n",
       "            </tr>\n",
       "            <tr>\n",
       "                                <td id=\"T_5d3bfef8_3ac6_11ea_820c_836bead0fd53row1_col0\" class=\"data row1 col0\" >set-24x24-RGB</td>\n",
       "                        <td id=\"T_5d3bfef8_3ac6_11ea_820c_836bead0fd53row1_col1\" class=\"data row1 col1\" >684.39 Mo</td>\n",
       "                        <td id=\"T_5d3bfef8_3ac6_11ea_820c_836bead0fd53row1_col2\" class=\"data row1 col2\" >18.24 %</td>\n",
       "                        <td id=\"T_5d3bfef8_3ac6_11ea_820c_836bead0fd53row1_col3\" class=\"data row1 col3\" >8.4 s</td>\n",
       "                        <td id=\"T_5d3bfef8_3ac6_11ea_820c_836bead0fd53row1_col4\" class=\"data row1 col4\" >-</td>\n",
       "                        <td id=\"T_5d3bfef8_3ac6_11ea_820c_836bead0fd53row1_col5\" class=\"data row1 col5\" >-</td>\n",
       "            </tr>\n",
       "    </tbody></table>"
      ],
      "text/plain": [
       "<pandas.io.formats.style.Styler at 0x7fb457f9d350>"
      ]
     },
     "metadata": {},
     "output_type": "display_data"
    },
    {
     "name": "stdout",
     "output_type": "stream",
     "text": [
      "\n",
      "\n",
      "Report :  report-2020-01-19_14h27m02s \n",
      "\n"
     ]
    },
    {
     "data": {
      "text/html": [
       "<style  type=\"text/css\" >\n",
       "</style><table id=\"T_5d3f7fba_3ac6_11ea_820c_836bead0fd53\" ><thead>    <tr>        <th class=\"col_heading level0 col0\" >Dataset</th>        <th class=\"col_heading level0 col1\" >Size</th>        <th class=\"col_heading level0 col2\" >v1 Accuracy</th>        <th class=\"col_heading level0 col3\" >v1 Duration</th>        <th class=\"col_heading level0 col4\" >v3 Accuracy</th>        <th class=\"col_heading level0 col5\" >v3 Duration</th>    </tr></thead><tbody>\n",
       "                <tr>\n",
       "                                <td id=\"T_5d3f7fba_3ac6_11ea_820c_836bead0fd53row0_col0\" class=\"data row0 col0\" >set-24x24-L</td>\n",
       "                        <td id=\"T_5d3f7fba_3ac6_11ea_820c_836bead0fd53row0_col1\" class=\"data row0 col1\" >228.77 Mo</td>\n",
       "                        <td id=\"T_5d3f7fba_3ac6_11ea_820c_836bead0fd53row0_col2\" class=\"data row0 col2\" >7.00 %</td>\n",
       "                        <td id=\"T_5d3f7fba_3ac6_11ea_820c_836bead0fd53row0_col3\" class=\"data row0 col3\" >9.2 s</td>\n",
       "                        <td id=\"T_5d3f7fba_3ac6_11ea_820c_836bead0fd53row0_col4\" class=\"data row0 col4\" >-</td>\n",
       "                        <td id=\"T_5d3f7fba_3ac6_11ea_820c_836bead0fd53row0_col5\" class=\"data row0 col5\" >-</td>\n",
       "            </tr>\n",
       "            <tr>\n",
       "                                <td id=\"T_5d3f7fba_3ac6_11ea_820c_836bead0fd53row1_col0\" class=\"data row1 col0\" >set-24x24-RGB</td>\n",
       "                        <td id=\"T_5d3f7fba_3ac6_11ea_820c_836bead0fd53row1_col1\" class=\"data row1 col1\" >684.39 Mo</td>\n",
       "                        <td id=\"T_5d3f7fba_3ac6_11ea_820c_836bead0fd53row1_col2\" class=\"data row1 col2\" >11.59 %</td>\n",
       "                        <td id=\"T_5d3f7fba_3ac6_11ea_820c_836bead0fd53row1_col3\" class=\"data row1 col3\" >8.9 s</td>\n",
       "                        <td id=\"T_5d3f7fba_3ac6_11ea_820c_836bead0fd53row1_col4\" class=\"data row1 col4\" >-</td>\n",
       "                        <td id=\"T_5d3f7fba_3ac6_11ea_820c_836bead0fd53row1_col5\" class=\"data row1 col5\" >-</td>\n",
       "            </tr>\n",
       "    </tbody></table>"
      ],
      "text/plain": [
       "<pandas.io.formats.style.Styler at 0x7fb45849c750>"
      ]
     },
     "metadata": {},
     "output_type": "display_data"
    },
    {
     "name": "stdout",
     "output_type": "stream",
     "text": [
      "\n",
      "\n",
      "Report :  report-2020-01-19_14h31m50s \n",
      "\n"
     ]
    },
    {
     "data": {
      "text/html": [
       "<style  type=\"text/css\" >\n",
       "</style><table id=\"T_5d42c210_3ac6_11ea_820c_836bead0fd53\" ><thead>    <tr>        <th class=\"col_heading level0 col0\" >Dataset</th>        <th class=\"col_heading level0 col1\" >Size</th>        <th class=\"col_heading level0 col2\" >v1 Accuracy</th>        <th class=\"col_heading level0 col3\" >v1 Duration</th>        <th class=\"col_heading level0 col4\" >v3 Accuracy</th>        <th class=\"col_heading level0 col5\" >v3 Duration</th>    </tr></thead><tbody>\n",
       "                <tr>\n",
       "                                <td id=\"T_5d42c210_3ac6_11ea_820c_836bead0fd53row0_col0\" class=\"data row0 col0\" >set-24x24-L</td>\n",
       "                        <td id=\"T_5d42c210_3ac6_11ea_820c_836bead0fd53row0_col1\" class=\"data row0 col1\" >228.77 Mo</td>\n",
       "                        <td id=\"T_5d42c210_3ac6_11ea_820c_836bead0fd53row0_col2\" class=\"data row0 col2\" >10.22 %</td>\n",
       "                        <td id=\"T_5d42c210_3ac6_11ea_820c_836bead0fd53row0_col3\" class=\"data row0 col3\" >8.6 s</td>\n",
       "                        <td id=\"T_5d42c210_3ac6_11ea_820c_836bead0fd53row0_col4\" class=\"data row0 col4\" >-</td>\n",
       "                        <td id=\"T_5d42c210_3ac6_11ea_820c_836bead0fd53row0_col5\" class=\"data row0 col5\" >-</td>\n",
       "            </tr>\n",
       "            <tr>\n",
       "                                <td id=\"T_5d42c210_3ac6_11ea_820c_836bead0fd53row1_col0\" class=\"data row1 col0\" >set-24x24-RGB</td>\n",
       "                        <td id=\"T_5d42c210_3ac6_11ea_820c_836bead0fd53row1_col1\" class=\"data row1 col1\" >684.39 Mo</td>\n",
       "                        <td id=\"T_5d42c210_3ac6_11ea_820c_836bead0fd53row1_col2\" class=\"data row1 col2\" >12.98 %</td>\n",
       "                        <td id=\"T_5d42c210_3ac6_11ea_820c_836bead0fd53row1_col3\" class=\"data row1 col3\" >8.2 s</td>\n",
       "                        <td id=\"T_5d42c210_3ac6_11ea_820c_836bead0fd53row1_col4\" class=\"data row1 col4\" >-</td>\n",
       "                        <td id=\"T_5d42c210_3ac6_11ea_820c_836bead0fd53row1_col5\" class=\"data row1 col5\" >-</td>\n",
       "            </tr>\n",
       "    </tbody></table>"
      ],
      "text/plain": [
       "<pandas.io.formats.style.Styler at 0x7fb45850fed0>"
      ]
     },
     "metadata": {},
     "output_type": "display_data"
    },
    {
     "name": "stdout",
     "output_type": "stream",
     "text": [
      "\n",
      "\n",
      "Report :  report-2020-01-19_14h56m27s \n",
      "\n"
     ]
    },
    {
     "data": {
      "text/html": [
       "<style  type=\"text/css\" >\n",
       "</style><table id=\"T_5d461c80_3ac6_11ea_820c_836bead0fd53\" ><thead>    <tr>        <th class=\"col_heading level0 col0\" >Dataset</th>        <th class=\"col_heading level0 col1\" >Size</th>        <th class=\"col_heading level0 col2\" >v1 Accuracy</th>        <th class=\"col_heading level0 col3\" >v1 Duration</th>        <th class=\"col_heading level0 col4\" >v3 Accuracy</th>        <th class=\"col_heading level0 col5\" >v3 Duration</th>    </tr></thead><tbody>\n",
       "                <tr>\n",
       "                                <td id=\"T_5d461c80_3ac6_11ea_820c_836bead0fd53row0_col0\" class=\"data row0 col0\" >set-24x24-L</td>\n",
       "                        <td id=\"T_5d461c80_3ac6_11ea_820c_836bead0fd53row0_col1\" class=\"data row0 col1\" >228.77 Mo</td>\n",
       "                        <td id=\"T_5d461c80_3ac6_11ea_820c_836bead0fd53row0_col2\" class=\"data row0 col2\" >-</td>\n",
       "                        <td id=\"T_5d461c80_3ac6_11ea_820c_836bead0fd53row0_col3\" class=\"data row0 col3\" >-</td>\n",
       "                        <td id=\"T_5d461c80_3ac6_11ea_820c_836bead0fd53row0_col4\" class=\"data row0 col4\" >-</td>\n",
       "                        <td id=\"T_5d461c80_3ac6_11ea_820c_836bead0fd53row0_col5\" class=\"data row0 col5\" >-</td>\n",
       "            </tr>\n",
       "            <tr>\n",
       "                                <td id=\"T_5d461c80_3ac6_11ea_820c_836bead0fd53row1_col0\" class=\"data row1 col0\" >set-24x24-RGB</td>\n",
       "                        <td id=\"T_5d461c80_3ac6_11ea_820c_836bead0fd53row1_col1\" class=\"data row1 col1\" >684.39 Mo</td>\n",
       "                        <td id=\"T_5d461c80_3ac6_11ea_820c_836bead0fd53row1_col2\" class=\"data row1 col2\" >-</td>\n",
       "                        <td id=\"T_5d461c80_3ac6_11ea_820c_836bead0fd53row1_col3\" class=\"data row1 col3\" >-</td>\n",
       "                        <td id=\"T_5d461c80_3ac6_11ea_820c_836bead0fd53row1_col4\" class=\"data row1 col4\" >-</td>\n",
       "                        <td id=\"T_5d461c80_3ac6_11ea_820c_836bead0fd53row1_col5\" class=\"data row1 col5\" >-</td>\n",
       "            </tr>\n",
       "    </tbody></table>"
      ],
      "text/plain": [
       "<pandas.io.formats.style.Styler at 0x7fb4587551d0>"
      ]
     },
     "metadata": {},
     "output_type": "display_data"
    }
   ],
   "source": [
    "for file in glob.glob(\"./run/*.h5\"):\n",
    "    print(\"\\n\\nReport : \",Path(file).stem,'\\n') \n",
    "    show_report(file)"
   ]
  },
  {
   "cell_type": "markdown",
   "metadata": {},
   "source": [
    "---\n",
    "\n",
    "\n",
    "### Some old results :  \n",
    "\n"
   ]
  },
  {
   "cell_type": "markdown",
   "metadata": {},
   "source": [
    "|         Datasets         |       Size      |     Model : v1     |    Model : v2      |     Model : v3     |\n",
    "|:------------------------:|:---------------:|:------------------:|:------------------:|:------------------:|\n",
    "| set-24x24-L              |          229 Mo |   95.91%  75.04s   |   96.86% 102.28s   |   -      -         |\n",
    "| set-24x24-RGB            |          684 Mo |   96.60%  77.24s   |   97.32% 103.93s   |   -      -         |\n",
    "| set-48x48-L              |          914 Mo | **96.71%** 123.94s |   97.68% 149.57s   |  97.60%  91.53s    |\n",
    "| set-48x48-RGB            |         2736 Mo |   96.36% 117.74s   | **98.20%** 142.63s |  97.28%  91.29s    |\n",
    "| set-24x24-L-LHE          |          229 Mo |   95.95%  66.12s   |   96.75%  89.45s   |   -      -         |\n",
    "| set-24x24-RGB-HE         |          684 Mo |   95.30%  68.89s   |   96.28%  92.15s   |   -      -         |\n",
    "| set-48x48-L-LHE          |          914 Mo |   96.69% 109.28s   |   97.94% 135.17s   | **97.97%** 83.80s  |\n",
    "| set-48x48-RGB-HE         |         2736 Mo |   95.29% 117.70s   | **98.13%** 141.56s |  97.00%  89.38s    |"
   ]
  }
 ],
 "metadata": {
  "kernelspec": {
   "display_name": "Python 3",
   "language": "python",
   "name": "python3"
  },
  "language_info": {
   "codemirror_mode": {
    "name": "ipython",
    "version": 3
   },
   "file_extension": ".py",
   "mimetype": "text/x-python",
   "name": "python",
   "nbconvert_exporter": "python",
   "pygments_lexer": "ipython3",
   "version": "3.7.5"
  }
 },
 "nbformat": 4,
 "nbformat_minor": 4
}
