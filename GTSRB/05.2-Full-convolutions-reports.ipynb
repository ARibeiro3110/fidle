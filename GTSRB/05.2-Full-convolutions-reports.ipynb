{
 "cells": [
  {
   "cell_type": "markdown",
   "metadata": {},
   "source": [
    "German Traffic Sign Recognition Benchmark (GTSRB)\n",
    "=================================================\n",
    "---\n",
    "Introduction au Deep Learning  (IDLE) - S. Arias, E. Maldonado, JL. Parouty - CNRS/SARI/DEVLOG - 2020  \n",
    "\n",
    "## Episode 5.2 : Full Convolutions Reports\n",
    "\n",
    "Ou main steps :\n",
    " - Show reports\n",
    "\n",
    "## 1/ Import"
   ]
  },
  {
   "cell_type": "code",
   "execution_count": 3,
   "metadata": {},
   "outputs": [],
   "source": [
    "import pandas as pd\n",
    "import os,glob,json\n",
    "from pathlib import Path\n",
    "from IPython.display import display, Markdown"
   ]
  },
  {
   "cell_type": "markdown",
   "metadata": {},
   "source": [
    "## 2/ A nice function"
   ]
  },
  {
   "cell_type": "code",
   "execution_count": 7,
   "metadata": {},
   "outputs": [],
   "source": [
    "def highlight_max(s):\n",
    "    is_max = (s == s.max())\n",
    "    return ['background-color: yellow' if v else '' for v in is_max]\n",
    "\n",
    "def show_report(file):\n",
    "    # ---- Read json file\n",
    "    with open(file) as infile:\n",
    "        dict_report = json.load( infile )\n",
    "    output      = dict_report['output']\n",
    "    description = dict_report['description']\n",
    "    # ---- about\n",
    "    print(\"\\n\\n\\nReport : \",Path(file).stem)\n",
    "    print(    \"Desc.  : \",description,'\\n')\n",
    "    # ---- Create a pandas\n",
    "    report       = pd.DataFrame (output)\n",
    "    col_accuracy = [ c for c in output.keys() if c.endswith('Accuracy')]\n",
    "    col_duration = [ c for c in output.keys() if c.endswith('Duration')]\n",
    "    # ---- Build formats\n",
    "    lambda_acc = lambda x : '{:.2f} %'.format(x) if (isinstance(x, float)) else '{:}'.format(x)\n",
    "    lambda_dur = lambda x : '{:.1f} s'.format(x) if (isinstance(x, float)) else '{:}'.format(x)\n",
    "    formats = {'Size':'{:.2f} Mo'}\n",
    "    for c in col_accuracy:   \n",
    "        formats[c]=lambda_acc\n",
    "    for c in col_duration:\n",
    "        formats[c]=lambda_dur\n",
    "    t=report.style.highlight_max(subset=col_accuracy).format(formats).hide_index()\n",
    "    display(t)"
   ]
  },
  {
   "cell_type": "markdown",
   "metadata": {},
   "source": [
    "## 3/ Reports display"
   ]
  },
  {
   "cell_type": "code",
   "execution_count": 8,
   "metadata": {},
   "outputs": [
    {
     "name": "stdout",
     "output_type": "stream",
     "text": [
      "\n",
      "\n",
      "\n",
      "Report :  report_2020_01_20_17h22m23s\n",
      "Desc.  :  train_size=1 test_size=1 batch_size=64 epochs=16 data_aug=False \n",
      "\n"
     ]
    },
    {
     "data": {
      "text/html": [
       "<style  type=\"text/css\" >\n",
       "    #T_24e98e70_3ba8_11ea_9561_9b700250c302row3_col4 {\n",
       "            background-color:  yellow;\n",
       "        }    #T_24e98e70_3ba8_11ea_9561_9b700250c302row3_col6 {\n",
       "            background-color:  yellow;\n",
       "        }    #T_24e98e70_3ba8_11ea_9561_9b700250c302row6_col2 {\n",
       "            background-color:  yellow;\n",
       "        }</style><table id=\"T_24e98e70_3ba8_11ea_9561_9b700250c302\" ><thead>    <tr>        <th class=\"col_heading level0 col0\" >Dataset</th>        <th class=\"col_heading level0 col1\" >Size</th>        <th class=\"col_heading level0 col2\" >v1_Accuracy</th>        <th class=\"col_heading level0 col3\" >v1_Duration</th>        <th class=\"col_heading level0 col4\" >v2_Accuracy</th>        <th class=\"col_heading level0 col5\" >v2_Duration</th>        <th class=\"col_heading level0 col6\" >v3_Accuracy</th>        <th class=\"col_heading level0 col7\" >v3_Duration</th>    </tr></thead><tbody>\n",
       "                <tr>\n",
       "                                <td id=\"T_24e98e70_3ba8_11ea_9561_9b700250c302row0_col0\" class=\"data row0 col0\" >set-24x24-L</td>\n",
       "                        <td id=\"T_24e98e70_3ba8_11ea_9561_9b700250c302row0_col1\" class=\"data row0 col1\" >228.77 Mo</td>\n",
       "                        <td id=\"T_24e98e70_3ba8_11ea_9561_9b700250c302row0_col2\" class=\"data row0 col2\" >95.39 %</td>\n",
       "                        <td id=\"T_24e98e70_3ba8_11ea_9561_9b700250c302row0_col3\" class=\"data row0 col3\" >58.2 s</td>\n",
       "                        <td id=\"T_24e98e70_3ba8_11ea_9561_9b700250c302row0_col4\" class=\"data row0 col4\" >97.32 %</td>\n",
       "                        <td id=\"T_24e98e70_3ba8_11ea_9561_9b700250c302row0_col5\" class=\"data row0 col5\" >52.6 s</td>\n",
       "                        <td id=\"T_24e98e70_3ba8_11ea_9561_9b700250c302row0_col6\" class=\"data row0 col6\" >95.16 %</td>\n",
       "                        <td id=\"T_24e98e70_3ba8_11ea_9561_9b700250c302row0_col7\" class=\"data row0 col7\" >50.3 s</td>\n",
       "            </tr>\n",
       "            <tr>\n",
       "                                <td id=\"T_24e98e70_3ba8_11ea_9561_9b700250c302row1_col0\" class=\"data row1 col0\" >set-24x24-RGB</td>\n",
       "                        <td id=\"T_24e98e70_3ba8_11ea_9561_9b700250c302row1_col1\" class=\"data row1 col1\" >684.39 Mo</td>\n",
       "                        <td id=\"T_24e98e70_3ba8_11ea_9561_9b700250c302row1_col2\" class=\"data row1 col2\" >96.11 %</td>\n",
       "                        <td id=\"T_24e98e70_3ba8_11ea_9561_9b700250c302row1_col3\" class=\"data row1 col3\" >47.2 s</td>\n",
       "                        <td id=\"T_24e98e70_3ba8_11ea_9561_9b700250c302row1_col4\" class=\"data row1 col4\" >97.77 %</td>\n",
       "                        <td id=\"T_24e98e70_3ba8_11ea_9561_9b700250c302row1_col5\" class=\"data row1 col5\" >55.2 s</td>\n",
       "                        <td id=\"T_24e98e70_3ba8_11ea_9561_9b700250c302row1_col6\" class=\"data row1 col6\" >96.52 %</td>\n",
       "                        <td id=\"T_24e98e70_3ba8_11ea_9561_9b700250c302row1_col7\" class=\"data row1 col7\" >52.3 s</td>\n",
       "            </tr>\n",
       "            <tr>\n",
       "                                <td id=\"T_24e98e70_3ba8_11ea_9561_9b700250c302row2_col0\" class=\"data row2 col0\" >set-48x48-L</td>\n",
       "                        <td id=\"T_24e98e70_3ba8_11ea_9561_9b700250c302row2_col1\" class=\"data row2 col1\" >913.90 Mo</td>\n",
       "                        <td id=\"T_24e98e70_3ba8_11ea_9561_9b700250c302row2_col2\" class=\"data row2 col2\" >95.98 %</td>\n",
       "                        <td id=\"T_24e98e70_3ba8_11ea_9561_9b700250c302row2_col3\" class=\"data row2 col3\" >135.2 s</td>\n",
       "                        <td id=\"T_24e98e70_3ba8_11ea_9561_9b700250c302row2_col4\" class=\"data row2 col4\" >97.88 %</td>\n",
       "                        <td id=\"T_24e98e70_3ba8_11ea_9561_9b700250c302row2_col5\" class=\"data row2 col5\" >118.3 s</td>\n",
       "                        <td id=\"T_24e98e70_3ba8_11ea_9561_9b700250c302row2_col6\" class=\"data row2 col6\" >97.38 %</td>\n",
       "                        <td id=\"T_24e98e70_3ba8_11ea_9561_9b700250c302row2_col7\" class=\"data row2 col7\" >92.0 s</td>\n",
       "            </tr>\n",
       "            <tr>\n",
       "                                <td id=\"T_24e98e70_3ba8_11ea_9561_9b700250c302row3_col0\" class=\"data row3 col0\" >set-48x48-RGB</td>\n",
       "                        <td id=\"T_24e98e70_3ba8_11ea_9561_9b700250c302row3_col1\" class=\"data row3 col1\" >2736.36 Mo</td>\n",
       "                        <td id=\"T_24e98e70_3ba8_11ea_9561_9b700250c302row3_col2\" class=\"data row3 col2\" >96.29 %</td>\n",
       "                        <td id=\"T_24e98e70_3ba8_11ea_9561_9b700250c302row3_col3\" class=\"data row3 col3\" >138.7 s</td>\n",
       "                        <td id=\"T_24e98e70_3ba8_11ea_9561_9b700250c302row3_col4\" class=\"data row3 col4\" >97.95 %</td>\n",
       "                        <td id=\"T_24e98e70_3ba8_11ea_9561_9b700250c302row3_col5\" class=\"data row3 col5\" >124.7 s</td>\n",
       "                        <td id=\"T_24e98e70_3ba8_11ea_9561_9b700250c302row3_col6\" class=\"data row3 col6\" >97.53 %</td>\n",
       "                        <td id=\"T_24e98e70_3ba8_11ea_9561_9b700250c302row3_col7\" class=\"data row3 col7\" >98.5 s</td>\n",
       "            </tr>\n",
       "            <tr>\n",
       "                                <td id=\"T_24e98e70_3ba8_11ea_9561_9b700250c302row4_col0\" class=\"data row4 col0\" >set-24x24-L-LHE</td>\n",
       "                        <td id=\"T_24e98e70_3ba8_11ea_9561_9b700250c302row4_col1\" class=\"data row4 col1\" >228.77 Mo</td>\n",
       "                        <td id=\"T_24e98e70_3ba8_11ea_9561_9b700250c302row4_col2\" class=\"data row4 col2\" >95.79 %</td>\n",
       "                        <td id=\"T_24e98e70_3ba8_11ea_9561_9b700250c302row4_col3\" class=\"data row4 col3\" >44.3 s</td>\n",
       "                        <td id=\"T_24e98e70_3ba8_11ea_9561_9b700250c302row4_col4\" class=\"data row4 col4\" >96.41 %</td>\n",
       "                        <td id=\"T_24e98e70_3ba8_11ea_9561_9b700250c302row4_col5\" class=\"data row4 col5\" >53.1 s</td>\n",
       "                        <td id=\"T_24e98e70_3ba8_11ea_9561_9b700250c302row4_col6\" class=\"data row4 col6\" >95.72 %</td>\n",
       "                        <td id=\"T_24e98e70_3ba8_11ea_9561_9b700250c302row4_col7\" class=\"data row4 col7\" >50.9 s</td>\n",
       "            </tr>\n",
       "            <tr>\n",
       "                                <td id=\"T_24e98e70_3ba8_11ea_9561_9b700250c302row5_col0\" class=\"data row5 col0\" >set-24x24-RGB-HE</td>\n",
       "                        <td id=\"T_24e98e70_3ba8_11ea_9561_9b700250c302row5_col1\" class=\"data row5 col1\" >684.39 Mo</td>\n",
       "                        <td id=\"T_24e98e70_3ba8_11ea_9561_9b700250c302row5_col2\" class=\"data row5 col2\" >95.35 %</td>\n",
       "                        <td id=\"T_24e98e70_3ba8_11ea_9561_9b700250c302row5_col3\" class=\"data row5 col3\" >46.0 s</td>\n",
       "                        <td id=\"T_24e98e70_3ba8_11ea_9561_9b700250c302row5_col4\" class=\"data row5 col4\" >96.80 %</td>\n",
       "                        <td id=\"T_24e98e70_3ba8_11ea_9561_9b700250c302row5_col5\" class=\"data row5 col5\" >54.5 s</td>\n",
       "                        <td id=\"T_24e98e70_3ba8_11ea_9561_9b700250c302row5_col6\" class=\"data row5 col6\" >94.29 %</td>\n",
       "                        <td id=\"T_24e98e70_3ba8_11ea_9561_9b700250c302row5_col7\" class=\"data row5 col7\" >52.5 s</td>\n",
       "            </tr>\n",
       "            <tr>\n",
       "                                <td id=\"T_24e98e70_3ba8_11ea_9561_9b700250c302row6_col0\" class=\"data row6 col0\" >set-48x48-L-LHE</td>\n",
       "                        <td id=\"T_24e98e70_3ba8_11ea_9561_9b700250c302row6_col1\" class=\"data row6 col1\" >913.90 Mo</td>\n",
       "                        <td id=\"T_24e98e70_3ba8_11ea_9561_9b700250c302row6_col2\" class=\"data row6 col2\" >96.72 %</td>\n",
       "                        <td id=\"T_24e98e70_3ba8_11ea_9561_9b700250c302row6_col3\" class=\"data row6 col3\" >131.8 s</td>\n",
       "                        <td id=\"T_24e98e70_3ba8_11ea_9561_9b700250c302row6_col4\" class=\"data row6 col4\" >97.80 %</td>\n",
       "                        <td id=\"T_24e98e70_3ba8_11ea_9561_9b700250c302row6_col5\" class=\"data row6 col5\" >117.9 s</td>\n",
       "                        <td id=\"T_24e98e70_3ba8_11ea_9561_9b700250c302row6_col6\" class=\"data row6 col6\" >97.16 %</td>\n",
       "                        <td id=\"T_24e98e70_3ba8_11ea_9561_9b700250c302row6_col7\" class=\"data row6 col7\" >92.8 s</td>\n",
       "            </tr>\n",
       "            <tr>\n",
       "                                <td id=\"T_24e98e70_3ba8_11ea_9561_9b700250c302row7_col0\" class=\"data row7 col0\" >set-48x48-RGB-HE</td>\n",
       "                        <td id=\"T_24e98e70_3ba8_11ea_9561_9b700250c302row7_col1\" class=\"data row7 col1\" >2736.36 Mo</td>\n",
       "                        <td id=\"T_24e98e70_3ba8_11ea_9561_9b700250c302row7_col2\" class=\"data row7 col2\" >94.58 %</td>\n",
       "                        <td id=\"T_24e98e70_3ba8_11ea_9561_9b700250c302row7_col3\" class=\"data row7 col3\" >140.0 s</td>\n",
       "                        <td id=\"T_24e98e70_3ba8_11ea_9561_9b700250c302row7_col4\" class=\"data row7 col4\" >97.77 %</td>\n",
       "                        <td id=\"T_24e98e70_3ba8_11ea_9561_9b700250c302row7_col5\" class=\"data row7 col5\" >124.6 s</td>\n",
       "                        <td id=\"T_24e98e70_3ba8_11ea_9561_9b700250c302row7_col6\" class=\"data row7 col6\" >97.11 %</td>\n",
       "                        <td id=\"T_24e98e70_3ba8_11ea_9561_9b700250c302row7_col7\" class=\"data row7 col7\" >100.1 s</td>\n",
       "            </tr>\n",
       "    </tbody></table>"
      ],
      "text/plain": [
       "<pandas.io.formats.style.Styler at 0x7f1cc3519dd0>"
      ]
     },
     "metadata": {},
     "output_type": "display_data"
    }
   ],
   "source": [
    "for file in glob.glob(\"./run/*.json\"):\n",
    "    show_report(file)\n"
   ]
  },
  {
   "cell_type": "code",
   "execution_count": null,
   "metadata": {},
   "outputs": [],
   "source": []
  },
  {
   "cell_type": "code",
   "execution_count": null,
   "metadata": {},
   "outputs": [],
   "source": []
  }
 ],
 "metadata": {
  "kernelspec": {
   "display_name": "Python 3",
   "language": "python",
   "name": "python3"
  },
  "language_info": {
   "codemirror_mode": {
    "name": "ipython",
    "version": 3
   },
   "file_extension": ".py",
   "mimetype": "text/x-python",
   "name": "python",
   "nbconvert_exporter": "python",
   "pygments_lexer": "ipython3",
   "version": "3.7.5"
  }
 },
 "nbformat": 4,
 "nbformat_minor": 4
}
