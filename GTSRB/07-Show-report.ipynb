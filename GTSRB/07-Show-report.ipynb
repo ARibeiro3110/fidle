{
 "cells": [
  {
   "cell_type": "markdown",
   "metadata": {},
   "source": [
    "<img width=\"800px\" src=\"../fidle/img/00-Fidle-header-01.svg\"></img>\n",
    "\n",
    "# <!-- TITLE --> [GTS7] - CNN with GTSRB dataset - Show reports\n",
    "<!-- DESC -->  Episode 7 : Displaying the reports of the different jobs\n",
    "<!-- AUTHOR : Jean-Luc Parouty (CNRS/SIMaP) -->\n",
    "\n",
    "## Objectives :\n",
    " - Compare the results of different dataset-model combinations\n",
    "\n",
    "Les rapports (format json) sont générés par les jobs \"Full convolution\" [GTS5][GTS6]\n",
    "\n",
    "\n",
    "## What we're going to do :\n",
    "\n",
    " - Read json files and display results\n",
    "\n",
    "## 1/ Python import"
   ]
  },
  {
   "cell_type": "code",
   "execution_count": 1,
   "metadata": {},
   "outputs": [],
   "source": [
    "import pandas as pd\n",
    "import os,glob,json\n",
    "from pathlib import Path\n",
    "from IPython.display import display, Markdown"
   ]
  },
  {
   "cell_type": "markdown",
   "metadata": {},
   "source": [
    "## 2/ A nice function"
   ]
  },
  {
   "cell_type": "code",
   "execution_count": 2,
   "metadata": {},
   "outputs": [],
   "source": [
    "def highlight_max(s):\n",
    "    is_max = (s == s.max())\n",
    "    return ['background-color: yellow' if v else '' for v in is_max]\n",
    "\n",
    "def show_report(file):\n",
    "    # ---- Read json file\n",
    "    with open(file) as infile:\n",
    "        dict_report = json.load( infile )\n",
    "    output      = dict_report['output']\n",
    "    description = dict_report['description']\n",
    "    # ---- about\n",
    "    print(\"\\n\\n\\nReport : \",Path(file).stem)\n",
    "    print(    \"Desc.  : \",description,'\\n')\n",
    "    # ---- Create a pandas\n",
    "    report       = pd.DataFrame (output)\n",
    "    col_accuracy = [ c for c in output.keys() if c.endswith('Accuracy')]\n",
    "    col_duration = [ c for c in output.keys() if c.endswith('Duration')]\n",
    "    # ---- Build formats\n",
    "    lambda_acc = lambda x : '{:.2f} %'.format(x) if (isinstance(x, float)) else '{:}'.format(x)\n",
    "    lambda_dur = lambda x : '{:.1f} s'.format(x) if (isinstance(x, float)) else '{:}'.format(x)\n",
    "    formats = {'Size':'{:.2f} Mo'}\n",
    "    for c in col_accuracy:   \n",
    "        formats[c]=lambda_acc\n",
    "    for c in col_duration:\n",
    "        formats[c]=lambda_dur\n",
    "    t=report.style.highlight_max(subset=col_accuracy).format(formats).hide_index()\n",
    "    display(t)"
   ]
  },
  {
   "cell_type": "markdown",
   "metadata": {},
   "source": [
    "## 3/ Reports display"
   ]
  },
  {
   "cell_type": "code",
   "execution_count": 5,
   "metadata": {},
   "outputs": [
    {
     "name": "stdout",
     "output_type": "stream",
     "text": [
      "\n",
      "\n",
      "\n",
      "Report :  report_029938\n",
      "Desc.  :  train_size=0.2 test_size=0.2 batch_size=64 epochs=5 data_aug=False \n",
      "\n"
     ]
    },
    {
     "data": {
      "text/html": [
       "<style  type=\"text/css\" >\n",
       "    #T_a8a4398c_f2a9_11ea_ab2e_0cc47af5a3b3row2_col2 {\n",
       "            background-color:  yellow;\n",
       "        }    #T_a8a4398c_f2a9_11ea_ab2e_0cc47af5a3b3row2_col4 {\n",
       "            background-color:  yellow;\n",
       "        }    #T_a8a4398c_f2a9_11ea_ab2e_0cc47af5a3b3row2_col6 {\n",
       "            background-color:  yellow;\n",
       "        }</style><table id=\"T_a8a4398c_f2a9_11ea_ab2e_0cc47af5a3b3\" ><thead>    <tr>        <th class=\"col_heading level0 col0\" >Dataset</th>        <th class=\"col_heading level0 col1\" >Size</th>        <th class=\"col_heading level0 col2\" >v1_Accuracy</th>        <th class=\"col_heading level0 col3\" >v1_Duration</th>        <th class=\"col_heading level0 col4\" >v2_Accuracy</th>        <th class=\"col_heading level0 col5\" >v2_Duration</th>        <th class=\"col_heading level0 col6\" >v3_Accuracy</th>        <th class=\"col_heading level0 col7\" >v3_Duration</th>    </tr></thead><tbody>\n",
       "                <tr>\n",
       "                                <td id=\"T_a8a4398c_f2a9_11ea_ab2e_0cc47af5a3b3row0_col0\" class=\"data row0 col0\" >set-24x24-L</td>\n",
       "                        <td id=\"T_a8a4398c_f2a9_11ea_ab2e_0cc47af5a3b3row0_col1\" class=\"data row0 col1\" >228.77 Mo</td>\n",
       "                        <td id=\"T_a8a4398c_f2a9_11ea_ab2e_0cc47af5a3b3row0_col2\" class=\"data row0 col2\" >86.42 %</td>\n",
       "                        <td id=\"T_a8a4398c_f2a9_11ea_ab2e_0cc47af5a3b3row0_col3\" class=\"data row0 col3\" >8.6 s</td>\n",
       "                        <td id=\"T_a8a4398c_f2a9_11ea_ab2e_0cc47af5a3b3row0_col4\" class=\"data row0 col4\" >89.23 %</td>\n",
       "                        <td id=\"T_a8a4398c_f2a9_11ea_ab2e_0cc47af5a3b3row0_col5\" class=\"data row0 col5\" >5.8 s</td>\n",
       "                        <td id=\"T_a8a4398c_f2a9_11ea_ab2e_0cc47af5a3b3row0_col6\" class=\"data row0 col6\" >88.20 %</td>\n",
       "                        <td id=\"T_a8a4398c_f2a9_11ea_ab2e_0cc47af5a3b3row0_col7\" class=\"data row0 col7\" >7.6 s</td>\n",
       "            </tr>\n",
       "            <tr>\n",
       "                                <td id=\"T_a8a4398c_f2a9_11ea_ab2e_0cc47af5a3b3row1_col0\" class=\"data row1 col0\" >set-24x24-RGB</td>\n",
       "                        <td id=\"T_a8a4398c_f2a9_11ea_ab2e_0cc47af5a3b3row1_col1\" class=\"data row1 col1\" >684.39 Mo</td>\n",
       "                        <td id=\"T_a8a4398c_f2a9_11ea_ab2e_0cc47af5a3b3row1_col2\" class=\"data row1 col2\" >88.80 %</td>\n",
       "                        <td id=\"T_a8a4398c_f2a9_11ea_ab2e_0cc47af5a3b3row1_col3\" class=\"data row1 col3\" >6.6 s</td>\n",
       "                        <td id=\"T_a8a4398c_f2a9_11ea_ab2e_0cc47af5a3b3row1_col4\" class=\"data row1 col4\" >90.30 %</td>\n",
       "                        <td id=\"T_a8a4398c_f2a9_11ea_ab2e_0cc47af5a3b3row1_col5\" class=\"data row1 col5\" >5.7 s</td>\n",
       "                        <td id=\"T_a8a4398c_f2a9_11ea_ab2e_0cc47af5a3b3row1_col6\" class=\"data row1 col6\" >89.23 %</td>\n",
       "                        <td id=\"T_a8a4398c_f2a9_11ea_ab2e_0cc47af5a3b3row1_col7\" class=\"data row1 col7\" >7.3 s</td>\n",
       "            </tr>\n",
       "            <tr>\n",
       "                                <td id=\"T_a8a4398c_f2a9_11ea_ab2e_0cc47af5a3b3row2_col0\" class=\"data row2 col0\" >set-48x48-RGB</td>\n",
       "                        <td id=\"T_a8a4398c_f2a9_11ea_ab2e_0cc47af5a3b3row2_col1\" class=\"data row2 col1\" >2736.36 Mo</td>\n",
       "                        <td id=\"T_a8a4398c_f2a9_11ea_ab2e_0cc47af5a3b3row2_col2\" class=\"data row2 col2\" >89.79 %</td>\n",
       "                        <td id=\"T_a8a4398c_f2a9_11ea_ab2e_0cc47af5a3b3row2_col3\" class=\"data row2 col3\" >22.7 s</td>\n",
       "                        <td id=\"T_a8a4398c_f2a9_11ea_ab2e_0cc47af5a3b3row2_col4\" class=\"data row2 col4\" >91.81 %</td>\n",
       "                        <td id=\"T_a8a4398c_f2a9_11ea_ab2e_0cc47af5a3b3row2_col5\" class=\"data row2 col5\" >12.2 s</td>\n",
       "                        <td id=\"T_a8a4398c_f2a9_11ea_ab2e_0cc47af5a3b3row2_col6\" class=\"data row2 col6\" >93.39 %</td>\n",
       "                        <td id=\"T_a8a4398c_f2a9_11ea_ab2e_0cc47af5a3b3row2_col7\" class=\"data row2 col7\" >13.3 s</td>\n",
       "            </tr>\n",
       "    </tbody></table>"
      ],
      "text/plain": [
       "<pandas.io.formats.style.Styler at 0x14d5a24a15d0>"
      ]
     },
     "metadata": {},
     "output_type": "display_data"
    }
   ],
   "source": [
    "for file in glob.glob(\"./run/*.json\"):\n",
    "    show_report(file)\n"
   ]
  },
  {
   "cell_type": "markdown",
   "metadata": {},
   "source": [
    "---\n",
    "<img width=\"80px\" src=\"../fidle/img/00-Fidle-logo-01.svg\"></img>"
   ]
  }
 ],
 "metadata": {
  "kernelspec": {
   "display_name": "Python 3",
   "language": "python",
   "name": "python3"
  },
  "language_info": {
   "codemirror_mode": {
    "name": "ipython",
    "version": 3
   },
   "file_extension": ".py",
   "mimetype": "text/x-python",
   "name": "python",
   "nbconvert_exporter": "python",
   "pygments_lexer": "ipython3",
   "version": "3.7.7"
  }
 },
 "nbformat": 4,
 "nbformat_minor": 4
}
