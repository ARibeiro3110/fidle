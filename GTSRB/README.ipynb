{
 "cells": [
  {
   "cell_type": "markdown",
   "metadata": {},
   "source": [
    "German Traffic Sign Recognition Benchmark (GTSRB)\n",
    "=================================================\n",
    "\n",
    "---\n",
    "Introduction au Deep Learning  (IDLE)  \n",
    "S. Aria, E. Maldonado, JL. Parouty  \n",
    "CNRS/SARI/DEVLOG - 2020\n",
    "\n",
    "Objectives of this practical work\n",
    "---------------------------------\n",
    "   \n",
    "Traffic sign classification with **CNN**, using Tensorflow and **Keras**  \n",
    "\n",
    "\n",
    "Prerequisite\n",
    "------------\n",
    "\n",
    "Environment, with the following packages :\n",
    " - Python 3.6\n",
    " - numpy\n",
    " - Tensorflow 2.0\n",
    " - scikit-image\n",
    " - scikit-learn\n",
    " - Matplotlib\n",
    " - seaborn\n",
    " \n",
    "You can create it from the `environment.yml` file :\n",
    "```\n",
    "# conda env create -f environment.yml\n",
    "```\n",
    "To manage conda environment see [there](https://docs.conda.io/projects/conda/en/latest/user-guide/tasks/manage-environments.html#)  \n",
    "\n",
    "About the dataset\n",
    "-----------------\n",
    "\n",
    "Name : [German Traffic Sign Recognition Benchmark (GTSRB)](http://benchmark.ini.rub.de/?section=gtsrb)  \n",
    "Available [here](https://sid.erda.dk/public/archives/daaeac0d7ce1152aea9b61d9f1e19370/published-archive.html) \n",
    "or on **[kaggle](https://www.kaggle.com/meowmeowmeowmeowmeow/gtsrb-german-traffic-sign)**  \n",
    "\n",
    "A nice example from : [Alex Staravoitau](https://navoshta.com/traffic-signs-classification/)  \n",
    "\n",
    "In few words :\n",
    " - Images : Variable dimensions, rgb\n",
    " - Train set : 39209 images  \n",
    " - Test set : 12630 images\n",
    " - Classes : 0 to 42\n",
    "\n",
    "Episodes\n",
    "--------\n",
    "   \n",
    "**[01 - Preparation of data](01-Preparation-of-data.ipynb)**\n",
    " - Understanding the dataset\n",
    " - Preparing and formatting data\n",
    " - Organize and backup data\n",
    " \n",
    "**[02 - First convolutions](02-First-convolutions.ipynb)**\n",
    " - Read dataset\n",
    " - Build a model\n",
    " - Train the model\n",
    " - Model evaluation\n",
    " "
   ]
  },
  {
   "cell_type": "code",
   "execution_count": null,
   "metadata": {},
   "outputs": [],
   "source": []
  }
 ],
 "metadata": {
  "kernelspec": {
   "display_name": "Python 3",
   "language": "python",
   "name": "python3"
  },
  "language_info": {
   "codemirror_mode": {
    "name": "ipython",
    "version": 3
   },
   "file_extension": ".py",
   "mimetype": "text/x-python",
   "name": "python",
   "nbconvert_exporter": "python",
   "pygments_lexer": "ipython3",
   "version": "3.7.5"
  }
 },
 "nbformat": 4,
 "nbformat_minor": 4
}
