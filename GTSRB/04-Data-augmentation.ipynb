{
 "cells": [
  {
   "cell_type": "markdown",
   "metadata": {},
   "source": [
    "German Traffic Sign Recognition Benchmark (GTSRB)\n",
    "=================================================\n",
    "---\n",
    "Introduction au Deep Learning  (IDLE) - S. Aria, E. Maldonado, JL. Parouty - CNRS/SARI/DEVLOG - 2020\n",
    "\n",
    "## Episode 4 : Data augmentation\n",
    "\n",
    "Our main steps:\n",
    " - Increase and improve the learning dataset\n",
    "\n",
    "## 1/ Import and init"
   ]
  },
  {
   "cell_type": "code",
   "execution_count": 1,
   "metadata": {},
   "outputs": [
    {
     "name": "stdout",
     "output_type": "stream",
     "text": [
      "IDLE 2020 - Practical Work Module\n",
      "  Version            : 0.1.4\n",
      "  Run time           : Monday 13 January 2020, 21:15:42\n",
      "  Matplotlib style   : idle/talk.mplstyle\n",
      "  TensorFlow version : 2.0.0\n",
      "  Keras version      : 2.2.4-tf\n"
     ]
    }
   ],
   "source": [
    "import tensorflow as tf\n",
    "from tensorflow import keras\n",
    "from tensorflow.keras.callbacks import TensorBoard\n",
    "\n",
    "import numpy as np\n",
    "import h5py\n",
    "\n",
    "from sklearn.metrics import confusion_matrix\n",
    "\n",
    "import matplotlib.pyplot as plt\n",
    "import seaborn as sn\n",
    "import os, time, random\n",
    "\n",
    "import idle.pwk as ooo\n",
    "from importlib import reload\n",
    "\n",
    "ooo.init()"
   ]
  },
  {
   "cell_type": "markdown",
   "metadata": {},
   "source": [
    "## 2/ Dataset loader\n",
    "Dataset is one of the saved dataset: RGB25, RGB35, L25, L35, etc.  \n",
    "First of all, we're going to use a smart dataset : **set-24x24-L**  \n",
    "(with a GPU, it only takes 35'' compared to more than 5' with a CPU !)"
   ]
  },
  {
   "cell_type": "code",
   "execution_count": 11,
   "metadata": {},
   "outputs": [
    {
     "name": "stdout",
     "output_type": "stream",
     "text": [
      "Dataset \"set-24x24-L-LHE\" is loaded. (228.8 Mo)\n",
      "\n",
      "CPU times: user 8 ms, sys: 132 ms, total: 140 ms\n",
      "Wall time: 1.32 s\n"
     ]
    }
   ],
   "source": [
    "%%time\n",
    "\n",
    "def read_dataset(name):\n",
    "    '''Reads h5 dataset from ./data\n",
    "\n",
    "    Arguments:  dataset name, without .h5\n",
    "    Returns:    x_train,y_train,x_test,y_test data'''\n",
    "    # ---- Read dataset\n",
    "    filename='./data/'+name+'.h5'\n",
    "    with  h5py.File(filename) as f:\n",
    "        x_train = f['x_train'][:]\n",
    "        y_train = f['y_train'][:]\n",
    "        x_test  = f['x_test'][:]\n",
    "        y_test  = f['y_test'][:]\n",
    "\n",
    "    # ---- done\n",
    "    print('Dataset \"{}\" is loaded. ({:.1f} Mo)\\n'.format(name,os.path.getsize(filename)/(1024*1024)))\n",
    "    return x_train,y_train,x_test,y_test"
   ]
  },
  {
   "cell_type": "markdown",
   "metadata": {},
   "source": [
    "## 3/ Models\n",
    "We will now build a model and train it...\n",
    "\n",
    "This is my model ;-) "
   ]
  },
  {
   "cell_type": "code",
   "execution_count": 37,
   "metadata": {},
   "outputs": [],
   "source": [
    "# A basic model\n",
    "#\n",
    "def get_model_v1(lx,ly,lz):\n",
    "    \n",
    "    model = keras.models.Sequential()\n",
    "    \n",
    "    model.add( keras.layers.Conv2D(96, (3,3), activation='relu', input_shape=(lx,ly,lz)))\n",
    "    model.add( keras.layers.MaxPooling2D((2, 2)))\n",
    "    model.add( keras.layers.Dropout(0.2))\n",
    "\n",
    "    model.add( keras.layers.Conv2D(192, (3, 3), activation='relu'))\n",
    "    model.add( keras.layers.MaxPooling2D((2, 2)))\n",
    "    model.add( keras.layers.Dropout(0.2))\n",
    "\n",
    "    model.add( keras.layers.Flatten()) \n",
    "    model.add( keras.layers.Dense(1500, activation='relu'))\n",
    "    model.add( keras.layers.Dropout(0.5))\n",
    "\n",
    "    model.add( keras.layers.Dense(43, activation='softmax'))\n",
    "    return model\n",
    "\n",
    "# A more sophisticated model\n",
    "#\n",
    "def get_model_v2(lx,ly,lz):\n",
    "    model = keras.models.Sequential()\n",
    "\n",
    "    model.add( keras.layers.Conv2D(64, (3, 3), padding='same', input_shape=(lx,ly,lz), activation='relu'))\n",
    "    model.add( keras.layers.Conv2D(64, (3, 3), activation='relu'))\n",
    "    model.add( keras.layers.MaxPooling2D(pool_size=(2, 2)))\n",
    "    model.add( keras.layers.Dropout(0.2))\n",
    "\n",
    "    model.add( keras.layers.Conv2D(128, (3, 3), padding='same', activation='relu'))\n",
    "    model.add( keras.layers.Conv2D(128, (3, 3), activation='relu'))\n",
    "    model.add( keras.layers.MaxPooling2D(pool_size=(2, 2)))\n",
    "    model.add( keras.layers.Dropout(0.2))\n",
    "\n",
    "    model.add( keras.layers.Conv2D(256, (3, 3), padding='same',activation='relu'))\n",
    "    model.add( keras.layers.Conv2D(256, (3, 3), activation='relu'))\n",
    "    model.add( keras.layers.MaxPooling2D(pool_size=(2, 2)))\n",
    "    model.add( keras.layers.Dropout(0.2))\n",
    "\n",
    "    model.add( keras.layers.Flatten())\n",
    "    model.add( keras.layers.Dense(512, activation='relu'))\n",
    "    model.add( keras.layers.Dropout(0.5))\n",
    "    model.add( keras.layers.Dense(43, activation='softmax'))\n",
    "    return model\n",
    "\n",
    "# My sphisticated model, but small and fast\n",
    "#\n",
    "def get_model_v3(lx,ly,lz):\n",
    "    model = keras.models.Sequential()\n",
    "    model.add( keras.layers.Conv2D(32, (3,3),   activation='relu', input_shape=(lx,ly,lz)))\n",
    "    model.add( keras.layers.MaxPooling2D((2, 2)))\n",
    "    model.add( keras.layers.Dropout(0.5))\n",
    "\n",
    "    model.add( keras.layers.Conv2D(64, (3, 3), activation='relu'))\n",
    "    model.add( keras.layers.MaxPooling2D((2, 2)))\n",
    "    model.add( keras.layers.Dropout(0.5))\n",
    "\n",
    "    model.add( keras.layers.Conv2D(128, (3, 3), activation='relu'))\n",
    "    model.add( keras.layers.MaxPooling2D((2, 2)))\n",
    "    model.add( keras.layers.Dropout(0.5))\n",
    "\n",
    "    model.add( keras.layers.Conv2D(256, (3, 3), activation='relu'))\n",
    "    model.add( keras.layers.MaxPooling2D((2, 2)))\n",
    "    model.add( keras.layers.Dropout(0.5))\n",
    "\n",
    "    model.add( keras.layers.Flatten()) \n",
    "    model.add( keras.layers.Dense(1152, activation='relu'))\n",
    "    model.add( keras.layers.Dropout(0.5))\n",
    "\n",
    "    model.add( keras.layers.Dense(43, activation='softmax'))\n",
    "    return model"
   ]
  },
  {
   "cell_type": "markdown",
   "metadata": {},
   "source": [
    "## 4/ Callbacks  \n",
    "We prepare 2 kind callbacks :  TensorBoard and Model backup"
   ]
  },
  {
   "cell_type": "code",
   "execution_count": 31,
   "metadata": {},
   "outputs": [
    {
     "name": "stdout",
     "output_type": "stream",
     "text": [
      "total 8\n",
      "drwxr-x--- 3 paroutyj l-simap 4096 Jan 13 21:28 logs\n",
      "drwxr-x--- 2 paroutyj l-simap 4096 Jan 13 21:33 models\n"
     ]
    }
   ],
   "source": [
    "%%bash\n",
    "# To clean old logs and saved model, run this cell\n",
    "#\n",
    "#/bin/rm -r ./run/logs 2>/dev/null\n",
    "#/bin/rm -r ./run/models 2>/dev/null\n",
    "/bin/ls -l ./run  2>/dev/null"
   ]
  },
  {
   "cell_type": "code",
   "execution_count": 32,
   "metadata": {},
   "outputs": [],
   "source": [
    "ooo.mkdir('./run/models')\n",
    "ooo.mkdir('./run/logs')\n",
    "\n",
    "# ---- Callback tensorboard\n",
    "log_dir = \"./run/logs/tb_\" + ooo.tag_now()\n",
    "tensorboard_callback = tf.keras.callbacks.TensorBoard(log_dir=log_dir, histogram_freq=1)\n",
    "\n",
    "# ---- Callback ModelCheckpoint - Save best model\n",
    "save_dir = \"./run/models/best-model.h5\"\n",
    "bestmodel_callback = tf.keras.callbacks.ModelCheckpoint(filepath=save_dir, verbose=0, monitor='accuracy', save_best_only=True)\n",
    "\n",
    "# ---- Callback ModelCheckpoint - Save model each epochs\n",
    "save_dir = \"./run/models/model-{epoch:04d}.h5\"\n",
    "savemodel_callback = tf.keras.callbacks.ModelCheckpoint(filepath=save_dir, verbose=0, save_freq=2000*5)"
   ]
  },
  {
   "cell_type": "markdown",
   "metadata": {},
   "source": [
    "## 5/ Load and prepare dataset\n",
    "### 5.1/ Load"
   ]
  },
  {
   "cell_type": "code",
   "execution_count": 33,
   "metadata": {},
   "outputs": [
    {
     "name": "stdout",
     "output_type": "stream",
     "text": [
      "Dataset \"set-48x48-L-LHE\" is loaded. (913.9 Mo)\n",
      "\n"
     ]
    }
   ],
   "source": [
    "x_train,y_train,x_test,y_test = read_dataset('set-48x48-L-LHE')"
   ]
  },
  {
   "cell_type": "markdown",
   "metadata": {},
   "source": [
    "### 5.2/ Data augmentation"
   ]
  },
  {
   "cell_type": "code",
   "execution_count": 34,
   "metadata": {},
   "outputs": [],
   "source": [
    "datagen = keras.preprocessing.image.ImageDataGenerator(featurewise_center=False,\n",
    "                             featurewise_std_normalization=False,\n",
    "                             width_shift_range=0.1,\n",
    "                             height_shift_range=0.1,\n",
    "                             zoom_range=0.2,\n",
    "                             shear_range=0.1,\n",
    "                             rotation_range=10.)\n",
    "datagen.fit(x_train)"
   ]
  },
  {
   "cell_type": "markdown",
   "metadata": {},
   "source": [
    "## 5/ Train the model\n",
    "**Get the shape of my data :**"
   ]
  },
  {
   "cell_type": "code",
   "execution_count": 35,
   "metadata": {},
   "outputs": [
    {
     "name": "stdout",
     "output_type": "stream",
     "text": [
      "Images of the dataset have this folowing shape :  (48, 48, 1)\n"
     ]
    }
   ],
   "source": [
    "(n,lx,ly,lz) = x_train.shape\n",
    "print(\"Images of the dataset have this folowing shape : \",(lx,ly,lz))"
   ]
  },
  {
   "cell_type": "markdown",
   "metadata": {},
   "source": [
    "**Get and compile a model, with the data shape :**"
   ]
  },
  {
   "cell_type": "code",
   "execution_count": 38,
   "metadata": {},
   "outputs": [],
   "source": [
    "model = get_model_v3(lx,ly,lz)\n",
    "\n",
    "# model.summary()\n",
    "\n",
    "model.compile(optimizer='adam',\n",
    "              loss='sparse_categorical_crossentropy',\n",
    "              metrics=['accuracy'])"
   ]
  },
  {
   "cell_type": "markdown",
   "metadata": {},
   "source": [
    "**Train it :**  \n",
    "Note : La courbe d'apprentissage est visible en temps réel avec Tensorboard :    \n",
    "`#tensorboard --logdir ./run/logs`  "
   ]
  },
  {
   "cell_type": "code",
   "execution_count": 40,
   "metadata": {},
   "outputs": [
    {
     "name": "stdout",
     "output_type": "stream",
     "text": [
      "Train for 613 steps, validate on 12630 samples\n",
      "Epoch 1/30\n",
      "613/613 [==============================] - 14s 23ms/step - loss: 2.6682 - accuracy: 0.2347 - val_loss: 1.0431 - val_accuracy: 0.6518\n",
      "Epoch 2/30\n",
      "613/613 [==============================] - 12s 20ms/step - loss: 1.1481 - accuracy: 0.6272 - val_loss: 0.3927 - val_accuracy: 0.8698\n",
      "Epoch 3/30\n",
      "613/613 [==============================] - 13s 22ms/step - loss: 0.7645 - accuracy: 0.7480 - val_loss: 0.2486 - val_accuracy: 0.9294\n",
      "Epoch 4/30\n",
      "613/613 [==============================] - 13s 21ms/step - loss: 0.6177 - accuracy: 0.7999 - val_loss: 0.1862 - val_accuracy: 0.9454\n",
      "Epoch 5/30\n",
      "613/613 [==============================] - 12s 20ms/step - loss: 0.5352 - accuracy: 0.8278 - val_loss: 0.1689 - val_accuracy: 0.9519\n",
      "Epoch 6/30\n",
      "613/613 [==============================] - 14s 23ms/step - loss: 0.4701 - accuracy: 0.8480 - val_loss: 0.1500 - val_accuracy: 0.9527\n",
      "Epoch 7/30\n",
      "613/613 [==============================] - 13s 21ms/step - loss: 0.4300 - accuracy: 0.8629 - val_loss: 0.1231 - val_accuracy: 0.9670\n",
      "Epoch 8/30\n",
      "613/613 [==============================] - 13s 21ms/step - loss: 0.4069 - accuracy: 0.8700 - val_loss: 0.1172 - val_accuracy: 0.9670\n",
      "Epoch 9/30\n",
      "613/613 [==============================] - 12s 20ms/step - loss: 0.3778 - accuracy: 0.8783 - val_loss: 0.1282 - val_accuracy: 0.9640\n",
      "Epoch 10/30\n",
      "613/613 [==============================] - 12s 20ms/step - loss: 0.3633 - accuracy: 0.8856 - val_loss: 0.1058 - val_accuracy: 0.9709\n",
      "Epoch 11/30\n",
      "613/613 [==============================] - 14s 23ms/step - loss: 0.3473 - accuracy: 0.8882 - val_loss: 0.1081 - val_accuracy: 0.9687\n",
      "Epoch 12/30\n",
      "613/613 [==============================] - 13s 22ms/step - loss: 0.3371 - accuracy: 0.8936 - val_loss: 0.1014 - val_accuracy: 0.9710\n",
      "Epoch 13/30\n",
      "613/613 [==============================] - 13s 22ms/step - loss: 0.3326 - accuracy: 0.8968 - val_loss: 0.0883 - val_accuracy: 0.9753\n",
      "Epoch 14/30\n",
      "613/613 [==============================] - 12s 20ms/step - loss: 0.3214 - accuracy: 0.9001 - val_loss: 0.0966 - val_accuracy: 0.9714\n",
      "Epoch 15/30\n",
      "613/613 [==============================] - 12s 20ms/step - loss: 0.3164 - accuracy: 0.9026 - val_loss: 0.0987 - val_accuracy: 0.9703\n",
      "Epoch 16/30\n",
      "613/613 [==============================] - 12s 20ms/step - loss: 0.3052 - accuracy: 0.9056 - val_loss: 0.1026 - val_accuracy: 0.9689\n",
      "Epoch 17/30\n",
      "613/613 [==============================] - 12s 20ms/step - loss: 0.3035 - accuracy: 0.9072 - val_loss: 0.0888 - val_accuracy: 0.9751\n",
      "Epoch 18/30\n",
      "613/613 [==============================] - 13s 21ms/step - loss: 0.2957 - accuracy: 0.9090 - val_loss: 0.0850 - val_accuracy: 0.9764\n",
      "Epoch 19/30\n",
      "613/613 [==============================] - 12s 20ms/step - loss: 0.2931 - accuracy: 0.9098 - val_loss: 0.0853 - val_accuracy: 0.9747\n",
      "Epoch 20/30\n",
      "613/613 [==============================] - 13s 21ms/step - loss: 0.2868 - accuracy: 0.9118 - val_loss: 0.0862 - val_accuracy: 0.9760\n",
      "Epoch 21/30\n",
      "613/613 [==============================] - 13s 21ms/step - loss: 0.2874 - accuracy: 0.9126 - val_loss: 0.0872 - val_accuracy: 0.9754\n",
      "Epoch 22/30\n",
      "613/613 [==============================] - 13s 20ms/step - loss: 0.2823 - accuracy: 0.9129 - val_loss: 0.0858 - val_accuracy: 0.9762\n",
      "Epoch 23/30\n",
      "613/613 [==============================] - 13s 21ms/step - loss: 0.2825 - accuracy: 0.9137 - val_loss: 0.0796 - val_accuracy: 0.9770\n",
      "Epoch 24/30\n",
      "613/613 [==============================] - 13s 21ms/step - loss: 0.2802 - accuracy: 0.9144 - val_loss: 0.0805 - val_accuracy: 0.9752\n",
      "Epoch 25/30\n",
      "613/613 [==============================] - 12s 20ms/step - loss: 0.2767 - accuracy: 0.9172 - val_loss: 0.0764 - val_accuracy: 0.9762\n",
      "Epoch 26/30\n",
      "613/613 [==============================] - 12s 19ms/step - loss: 0.2770 - accuracy: 0.9166 - val_loss: 0.0842 - val_accuracy: 0.9760\n",
      "Epoch 27/30\n",
      "613/613 [==============================] - 12s 20ms/step - loss: 0.2802 - accuracy: 0.9164 - val_loss: 0.0920 - val_accuracy: 0.9724\n",
      "Epoch 28/30\n",
      "613/613 [==============================] - 12s 20ms/step - loss: 0.2729 - accuracy: 0.9189 - val_loss: 0.0774 - val_accuracy: 0.9783\n",
      "Epoch 29/30\n",
      "613/613 [==============================] - 12s 20ms/step - loss: 0.2769 - accuracy: 0.9181 - val_loss: 0.0838 - val_accuracy: 0.9759\n",
      "Epoch 30/30\n",
      "613/613 [==============================] - 12s 20ms/step - loss: 0.2724 - accuracy: 0.9187 - val_loss: 0.0812 - val_accuracy: 0.9768\n",
      "CPU times: user 6min 33s, sys: 11.1 s, total: 6min 45s\n",
      "Wall time: 6min 30s\n"
     ]
    }
   ],
   "source": [
    "%%time\n",
    "\n",
    "batch_size = 64\n",
    "epochs     = 30\n",
    "\n",
    "# ---- Shuffle train data\n",
    "#x_train,y_train=ooo.shuffle_np_dataset(x_train,y_train)\n",
    "\n",
    "# ---- Train\n",
    "#\n",
    "history = model.fit(  datagen.flow(x_train, y_train, batch_size=batch_size),\n",
    "                      epochs=epochs,\n",
    "                      verbose=1,\n",
    "                      validation_data=(x_test, y_test),\n",
    "                      callbacks=[tensorboard_callback, bestmodel_callback, savemodel_callback] )\n",
    "\n",
    "model.save('./run/models/last-model.h5')"
   ]
  },
  {
   "cell_type": "markdown",
   "metadata": {},
   "source": [
    "**Evaluate it :**"
   ]
  },
  {
   "cell_type": "code",
   "execution_count": 41,
   "metadata": {},
   "outputs": [
    {
     "name": "stdout",
     "output_type": "stream",
     "text": [
      "Max validation accuracy is : 0.9783\n"
     ]
    }
   ],
   "source": [
    "max_val_accuracy = max(history.history[\"val_accuracy\"])\n",
    "print(\"Max validation accuracy is : {:.4f}\".format(max_val_accuracy))"
   ]
  },
  {
   "cell_type": "code",
   "execution_count": 42,
   "metadata": {},
   "outputs": [
    {
     "name": "stdout",
     "output_type": "stream",
     "text": [
      "Test loss      : 0.0812\n",
      "Test accuracy  : 0.9768\n"
     ]
    }
   ],
   "source": [
    "score = model.evaluate(x_test, y_test, verbose=0)\n",
    "\n",
    "print('Test loss      : {:5.4f}'.format(score[0]))\n",
    "print('Test accuracy  : {:5.4f}'.format(score[1]))"
   ]
  },
  {
   "cell_type": "markdown",
   "metadata": {},
   "source": [
    "## 6/ History\n",
    "The return of model.fit() returns us the learning history"
   ]
  },
  {
   "cell_type": "code",
   "execution_count": 44,
   "metadata": {
    "jupyter": {
     "source_hidden": true
    }
   },
   "outputs": [
    {
     "data": {
      "image/png": "[encoded data removed]",
      "text/plain": [
       "<Figure size 576x432 with 1 Axes>"
      ]
     },
     "metadata": {
      "needs_background": "light"
     },
     "output_type": "display_data"
    },
    {
     "data": {
      "image/png": "[encoded data removed]",
      "text/plain": [
       "<Figure size 576x432 with 1 Axes>"
      ]
     },
     "metadata": {
      "needs_background": "light"
     },
     "output_type": "display_data"
    }
   ],
   "source": [
    "ooo.plot_history(history)"
   ]
  },
  {
   "cell_type": "markdown",
   "metadata": {},
   "source": [
    "## 8/ Restore and evaluate best model"
   ]
  },
  {
   "cell_type": "markdown",
   "metadata": {},
   "source": [
    "### 8.1/ Restore model :"
   ]
  },
  {
   "cell_type": "code",
   "execution_count": 45,
   "metadata": {},
   "outputs": [
    {
     "name": "stdout",
     "output_type": "stream",
     "text": [
      "Loaded.\n"
     ]
    }
   ],
   "source": [
    "loaded_model = tf.keras.models.load_model('./run/models/best-model.h5')\n",
    "# best_model.summary()\n",
    "print(\"Loaded.\")"
   ]
  },
  {
   "cell_type": "markdown",
   "metadata": {},
   "source": [
    "### 8.2/ Evaluate it :"
   ]
  },
  {
   "cell_type": "code",
   "execution_count": 48,
   "metadata": {},
   "outputs": [
    {
     "name": "stdout",
     "output_type": "stream",
     "text": [
      "Test loss      : 0.0774\n",
      "Test accuracy  : 0.9783\n"
     ]
    }
   ],
   "source": [
    "score = loaded_model.evaluate(x_test, y_test, verbose=0)\n",
    "\n",
    "print('Test loss      : {:5.4f}'.format(score[0]))\n",
    "print('Test accuracy  : {:5.4f}'.format(score[1]))"
   ]
  },
  {
   "cell_type": "markdown",
   "metadata": {},
   "source": [
    "**Plot confusion matrix**"
   ]
  },
  {
   "cell_type": "code",
   "execution_count": 49,
   "metadata": {},
   "outputs": [
    {
     "data": {
      "image/png": "[encoded data removed]",
      "text/plain": [
       "<Figure size 864x576 with 2 Axes>"
      ]
     },
     "metadata": {
      "needs_background": "light"
     },
     "output_type": "display_data"
    }
   ],
   "source": [
    "y_pred   = model.predict_classes(x_test)\n",
    "conf_mat = confusion_matrix(y_test,y_pred, normalize=\"true\", labels=range(43))\n",
    "\n",
    "ooo.plot_confusion_matrix(conf_mat)"
   ]
  },
  {
   "cell_type": "markdown",
   "metadata": {},
   "source": [
    "---\n",
    "That's all folks !"
   ]
  },
  {
   "cell_type": "code",
   "execution_count": null,
   "metadata": {},
   "outputs": [],
   "source": []
  }
 ],
 "metadata": {
  "kernelspec": {
   "display_name": "Python 3",
   "language": "python",
   "name": "python3"
  },
  "language_info": {
   "codemirror_mode": {
    "name": "ipython",
    "version": 3
   },
   "file_extension": ".py",
   "mimetype": "text/x-python",
   "name": "python",
   "nbconvert_exporter": "python",
   "pygments_lexer": "ipython3",
   "version": "3.7.5"
  }
 },
 "nbformat": 4,
 "nbformat_minor": 4
}
