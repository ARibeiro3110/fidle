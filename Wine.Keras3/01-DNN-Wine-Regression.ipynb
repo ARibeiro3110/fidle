{
 "cells": [
  {
   "cell_type": "markdown",
   "metadata": {},
   "source": [
    "<img width=\"800px\" src=\"../fidle/img/header.svg\"></img>\n",
    "\n",
    "# <!-- TITLE --> [K3WINE1] - Wine quality prediction with a Dense Network (DNN)\n",
    "  <!-- DESC -->  Another example of regression, with a wine quality prediction, using Keras 3 and PyTorch\n",
    "  <!-- AUTHOR : Jean-Luc Parouty (CNRS/SIMaP) -->\n",
    "\n",
    "## Objectives :\n",
    " - Predict the **quality of wines**, based on their analysis\n",
    " - Understanding the principle and the architecture of a regression with a dense neural network with backup and restore of the trained model. \n",
    "\n",
    "The **[Wine Quality datasets](https://archive.ics.uci.edu/ml/datasets/wine+Quality)** are made up of analyses of a large number of wines, with an associated quality (between 0 and 10)  \n",
    "This dataset is provide by :  \n",
    "Paulo Cortez, University of Minho, Guimarães, Portugal, http://www3.dsi.uminho.pt/pcortez  \n",
    "A. Cerdeira, F. Almeida, T. Matos and J. Reis, Viticulture Commission of the Vinho Verde Region(CVRVV), Porto, Portugal, @2009  \n",
    "This dataset can be retreive at [University of California Irvine (UCI)](https://archive.ics.uci.edu/dataset/186/wine+quality)\n",
    "\n",
    "\n",
    "Due to privacy and logistic issues, only physicochemical and sensory variables are available  \n",
    "There is no data about grape types, wine brand, wine selling price, etc.\n",
    "\n",
    "- fixed acidity\n",
    "- volatile acidity\n",
    "- citric acid\n",
    "- residual sugar\n",
    "- chlorides\n",
    "- free sulfur dioxide\n",
    "- total sulfur dioxide\n",
    "- density\n",
    "- pH\n",
    "- sulphates\n",
    "- alcohol\n",
    "- quality (score between 0 and 10)\n",
    "\n",
    "## What we're going to do :\n",
    "\n",
    " - (Retrieve data)\n",
    " - (Preparing the data)\n",
    " - (Build a model)\n",
    " - Train and save the model\n",
    " - Restore saved model\n",
    " - Evaluate the model\n",
    " - Make some predictions\n"
   ]
  },
  {
   "cell_type": "markdown",
   "metadata": {},
   "source": [
    "## Step 1 - Import and init\n"
   ]
  },
  {
   "cell_type": "code",
   "execution_count": 27,
   "metadata": {},
   "outputs": [
    {
     "data": {
      "text/html": [
       "<style>\n",
       "\n",
       "div.warn {    \n",
       "    background-color: #fcf2f2;\n",
       "    border-color: #dFb5b4;\n",
       "    border-left: 5px solid #dfb5b4;\n",
       "    padding: 0.5em;\n",
       "    font-weight: bold;\n",
       "    font-size: 1.1em;;\n",
       "    }\n",
       "\n",
       "\n",
       "\n",
       "div.nota {    \n",
       "    background-color: #DAFFDE;\n",
       "    border-left: 5px solid #92CC99;\n",
       "    padding: 0.5em;\n",
       "    }\n",
       "\n",
       "div.todo:before { content:url(data:image/svg+xml;base64,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);\n",
       "    float:left;\n",
       "    margin-right:20px;\n",
       "    margin-top:-20px;\n",
       "    margin-bottom:20px;\n",
       "}\n",
       "div.todo{\n",
       "    font-weight: bold;\n",
       "    font-size: 1.1em;\n",
       "    margin-top:40px;\n",
       "}\n",
       "div.todo ul{\n",
       "    margin: 0.2em;\n",
       "}\n",
       "div.todo li{\n",
       "    margin-left:60px;\n",
       "    margin-top:0;\n",
       "    margin-bottom:0;\n",
       "}\n",
       "\n",
       "div .comment{\n",
       "    font-size:0.8em;\n",
       "    color:#696969;\n",
       "}\n",
       "\n",
       "\n",
       "\n",
       "</style>\n",
       "\n"
      ],
      "text/plain": [
       "<IPython.core.display.HTML object>"
      ]
     },
     "metadata": {},
     "output_type": "display_data"
    },
    {
     "data": {
      "text/markdown": [
       "<br>**FIDLE - Environment initialization**"
      ],
      "text/plain": [
       "<IPython.core.display.Markdown object>"
      ]
     },
     "metadata": {},
     "output_type": "display_data"
    },
    {
     "name": "stdout",
     "output_type": "stream",
     "text": [
      "Version              : 2.3.2\n",
      "Run id               : K3WINE1\n",
      "Run dir              : ./run/K3WINE1\n",
      "Datasets dir         : /data/datasets-fidle\n",
      "Start time           : 03/07/24 09:51:10\n",
      "Hostname             : ebf2030c9b9e (Linux)\n",
      "Tensorflow log level : Info + Warning + Error  (=0)\n",
      "Update keras cache   : False\n",
      "Update torch cache   : False\n",
      "Save figs            : ./run/K3WINE1/figs (False)\n",
      "keras                : 3.0.5\n",
      "numpy                : 1.26.4\n",
      "sklearn              : 1.4.1.post1\n",
      "yaml                 : 6.0.1\n",
      "matplotlib           : 3.8.3\n",
      "pandas               : 2.2.1\n",
      "torch                : 2.2.1+cpu\n"
     ]
    }
   ],
   "source": [
    "import os\n",
    "os.environ['KERAS_BACKEND'] = 'torch'\n",
    "\n",
    "import keras\n",
    "\n",
    "import numpy as np\n",
    "import pandas as pd\n",
    "\n",
    "import fidle\n",
    "\n",
    "# Init Fidle environment\n",
    "run_id, run_dir, datasets_dir = fidle.init('K3WINE1')"
   ]
  },
  {
   "cell_type": "markdown",
   "metadata": {},
   "source": [
    "Verbosity during training : \n",
    "- 0 = silent\n",
    "- 1 = progress bar\n",
    "- 2 = one line per epoch"
   ]
  },
  {
   "cell_type": "code",
   "execution_count": 28,
   "metadata": {},
   "outputs": [],
   "source": [
    "fit_verbosity = 1\n",
    "dataset_name  = 'winequality-red.csv'"
   ]
  },
  {
   "cell_type": "markdown",
   "metadata": {},
   "source": [
    "Override parameters (batch mode) - Just forget this cell"
   ]
  },
  {
   "cell_type": "code",
   "execution_count": 29,
   "metadata": {},
   "outputs": [],
   "source": [
    "fidle.override('fit_verbosity', 'dataset_name')"
   ]
  },
  {
   "cell_type": "markdown",
   "metadata": {},
   "source": [
    "## Step 2 - Retrieve data"
   ]
  },
  {
   "cell_type": "code",
   "execution_count": 30,
   "metadata": {},
   "outputs": [
    {
     "data": {
      "text/html": [
       "<style type=\"text/css\">\n",
       "</style>\n",
       "<table id=\"T_03de2\">\n",
       "  <thead>\n",
       "    <tr>\n",
       "      <th class=\"blank level0\" >&nbsp;</th>\n",
       "      <th id=\"T_03de2_level0_col0\" class=\"col_heading level0 col0\" >fixed acidity</th>\n",
       "      <th id=\"T_03de2_level0_col1\" class=\"col_heading level0 col1\" >volatile acidity</th>\n",
       "      <th id=\"T_03de2_level0_col2\" class=\"col_heading level0 col2\" >citric acid</th>\n",
       "      <th id=\"T_03de2_level0_col3\" class=\"col_heading level0 col3\" >residual sugar</th>\n",
       "      <th id=\"T_03de2_level0_col4\" class=\"col_heading level0 col4\" >chlorides</th>\n",
       "      <th id=\"T_03de2_level0_col5\" class=\"col_heading level0 col5\" >free sulfur dioxide</th>\n",
       "      <th id=\"T_03de2_level0_col6\" class=\"col_heading level0 col6\" >total sulfur dioxide</th>\n",
       "      <th id=\"T_03de2_level0_col7\" class=\"col_heading level0 col7\" >density</th>\n",
       "      <th id=\"T_03de2_level0_col8\" class=\"col_heading level0 col8\" >pH</th>\n",
       "      <th id=\"T_03de2_level0_col9\" class=\"col_heading level0 col9\" >sulphates</th>\n",
       "      <th id=\"T_03de2_level0_col10\" class=\"col_heading level0 col10\" >alcohol</th>\n",
       "      <th id=\"T_03de2_level0_col11\" class=\"col_heading level0 col11\" >quality</th>\n",
       "    </tr>\n",
       "  </thead>\n",
       "  <tbody>\n",
       "    <tr>\n",
       "      <th id=\"T_03de2_level0_row0\" class=\"row_heading level0 row0\" >0</th>\n",
       "      <td id=\"T_03de2_row0_col0\" class=\"data row0 col0\" >7.40</td>\n",
       "      <td id=\"T_03de2_row0_col1\" class=\"data row0 col1\" >0.70</td>\n",
       "      <td id=\"T_03de2_row0_col2\" class=\"data row0 col2\" >0.00</td>\n",
       "      <td id=\"T_03de2_row0_col3\" class=\"data row0 col3\" >1.90</td>\n",
       "      <td id=\"T_03de2_row0_col4\" class=\"data row0 col4\" >0.08</td>\n",
       "      <td id=\"T_03de2_row0_col5\" class=\"data row0 col5\" >11.00</td>\n",
       "      <td id=\"T_03de2_row0_col6\" class=\"data row0 col6\" >34.00</td>\n",
       "      <td id=\"T_03de2_row0_col7\" class=\"data row0 col7\" >1.00</td>\n",
       "      <td id=\"T_03de2_row0_col8\" class=\"data row0 col8\" >3.51</td>\n",
       "      <td id=\"T_03de2_row0_col9\" class=\"data row0 col9\" >0.56</td>\n",
       "      <td id=\"T_03de2_row0_col10\" class=\"data row0 col10\" >9.40</td>\n",
       "      <td id=\"T_03de2_row0_col11\" class=\"data row0 col11\" >5.00</td>\n",
       "    </tr>\n",
       "    <tr>\n",
       "      <th id=\"T_03de2_level0_row1\" class=\"row_heading level0 row1\" >1</th>\n",
       "      <td id=\"T_03de2_row1_col0\" class=\"data row1 col0\" >7.80</td>\n",
       "      <td id=\"T_03de2_row1_col1\" class=\"data row1 col1\" >0.88</td>\n",
       "      <td id=\"T_03de2_row1_col2\" class=\"data row1 col2\" >0.00</td>\n",
       "      <td id=\"T_03de2_row1_col3\" class=\"data row1 col3\" >2.60</td>\n",
       "      <td id=\"T_03de2_row1_col4\" class=\"data row1 col4\" >0.10</td>\n",
       "      <td id=\"T_03de2_row1_col5\" class=\"data row1 col5\" >25.00</td>\n",
       "      <td id=\"T_03de2_row1_col6\" class=\"data row1 col6\" >67.00</td>\n",
       "      <td id=\"T_03de2_row1_col7\" class=\"data row1 col7\" >1.00</td>\n",
       "      <td id=\"T_03de2_row1_col8\" class=\"data row1 col8\" >3.20</td>\n",
       "      <td id=\"T_03de2_row1_col9\" class=\"data row1 col9\" >0.68</td>\n",
       "      <td id=\"T_03de2_row1_col10\" class=\"data row1 col10\" >9.80</td>\n",
       "      <td id=\"T_03de2_row1_col11\" class=\"data row1 col11\" >5.00</td>\n",
       "    </tr>\n",
       "    <tr>\n",
       "      <th id=\"T_03de2_level0_row2\" class=\"row_heading level0 row2\" >2</th>\n",
       "      <td id=\"T_03de2_row2_col0\" class=\"data row2 col0\" >7.80</td>\n",
       "      <td id=\"T_03de2_row2_col1\" class=\"data row2 col1\" >0.76</td>\n",
       "      <td id=\"T_03de2_row2_col2\" class=\"data row2 col2\" >0.04</td>\n",
       "      <td id=\"T_03de2_row2_col3\" class=\"data row2 col3\" >2.30</td>\n",
       "      <td id=\"T_03de2_row2_col4\" class=\"data row2 col4\" >0.09</td>\n",
       "      <td id=\"T_03de2_row2_col5\" class=\"data row2 col5\" >15.00</td>\n",
       "      <td id=\"T_03de2_row2_col6\" class=\"data row2 col6\" >54.00</td>\n",
       "      <td id=\"T_03de2_row2_col7\" class=\"data row2 col7\" >1.00</td>\n",
       "      <td id=\"T_03de2_row2_col8\" class=\"data row2 col8\" >3.26</td>\n",
       "      <td id=\"T_03de2_row2_col9\" class=\"data row2 col9\" >0.65</td>\n",
       "      <td id=\"T_03de2_row2_col10\" class=\"data row2 col10\" >9.80</td>\n",
       "      <td id=\"T_03de2_row2_col11\" class=\"data row2 col11\" >5.00</td>\n",
       "    </tr>\n",
       "    <tr>\n",
       "      <th id=\"T_03de2_level0_row3\" class=\"row_heading level0 row3\" >3</th>\n",
       "      <td id=\"T_03de2_row3_col0\" class=\"data row3 col0\" >11.20</td>\n",
       "      <td id=\"T_03de2_row3_col1\" class=\"data row3 col1\" >0.28</td>\n",
       "      <td id=\"T_03de2_row3_col2\" class=\"data row3 col2\" >0.56</td>\n",
       "      <td id=\"T_03de2_row3_col3\" class=\"data row3 col3\" >1.90</td>\n",
       "      <td id=\"T_03de2_row3_col4\" class=\"data row3 col4\" >0.07</td>\n",
       "      <td id=\"T_03de2_row3_col5\" class=\"data row3 col5\" >17.00</td>\n",
       "      <td id=\"T_03de2_row3_col6\" class=\"data row3 col6\" >60.00</td>\n",
       "      <td id=\"T_03de2_row3_col7\" class=\"data row3 col7\" >1.00</td>\n",
       "      <td id=\"T_03de2_row3_col8\" class=\"data row3 col8\" >3.16</td>\n",
       "      <td id=\"T_03de2_row3_col9\" class=\"data row3 col9\" >0.58</td>\n",
       "      <td id=\"T_03de2_row3_col10\" class=\"data row3 col10\" >9.80</td>\n",
       "      <td id=\"T_03de2_row3_col11\" class=\"data row3 col11\" >6.00</td>\n",
       "    </tr>\n",
       "    <tr>\n",
       "      <th id=\"T_03de2_level0_row4\" class=\"row_heading level0 row4\" >4</th>\n",
       "      <td id=\"T_03de2_row4_col0\" class=\"data row4 col0\" >7.40</td>\n",
       "      <td id=\"T_03de2_row4_col1\" class=\"data row4 col1\" >0.70</td>\n",
       "      <td id=\"T_03de2_row4_col2\" class=\"data row4 col2\" >0.00</td>\n",
       "      <td id=\"T_03de2_row4_col3\" class=\"data row4 col3\" >1.90</td>\n",
       "      <td id=\"T_03de2_row4_col4\" class=\"data row4 col4\" >0.08</td>\n",
       "      <td id=\"T_03de2_row4_col5\" class=\"data row4 col5\" >11.00</td>\n",
       "      <td id=\"T_03de2_row4_col6\" class=\"data row4 col6\" >34.00</td>\n",
       "      <td id=\"T_03de2_row4_col7\" class=\"data row4 col7\" >1.00</td>\n",
       "      <td id=\"T_03de2_row4_col8\" class=\"data row4 col8\" >3.51</td>\n",
       "      <td id=\"T_03de2_row4_col9\" class=\"data row4 col9\" >0.56</td>\n",
       "      <td id=\"T_03de2_row4_col10\" class=\"data row4 col10\" >9.40</td>\n",
       "      <td id=\"T_03de2_row4_col11\" class=\"data row4 col11\" >5.00</td>\n",
       "    </tr>\n",
       "  </tbody>\n",
       "</table>\n"
      ],
      "text/plain": [
       "<pandas.io.formats.style.Styler at 0x7f8e0085eb80>"
      ]
     },
     "metadata": {},
     "output_type": "display_data"
    },
    {
     "name": "stdout",
     "output_type": "stream",
     "text": [
      "Missing Data :  0   Shape is :  (1599, 12)\n"
     ]
    }
   ],
   "source": [
    "data = pd.read_csv(f'{datasets_dir}/WineQuality/origine/{dataset_name}', header=0,sep=';')\n",
    "\n",
    "display(data.head(5).style.format(\"{0:.2f}\"))\n",
    "print('Missing Data : ',data.isna().sum().sum(), '  Shape is : ', data.shape)"
   ]
  },
  {
   "cell_type": "markdown",
   "metadata": {},
   "source": [
    "## Step 3 - Preparing the data\n",
    "### 3.1 - Split data\n",
    "We will use 80% of the data for training and 20% for validation.  \n",
    "x will be the data of the analysis and y the quality"
   ]
  },
  {
   "cell_type": "code",
   "execution_count": 31,
   "metadata": {},
   "outputs": [
    {
     "name": "stdout",
     "output_type": "stream",
     "text": [
      "Original data shape was :  (1599, 12)\n",
      "x_train :  (1279, 11) y_train :  (1279,)\n",
      "x_test  :  (320, 11) y_test  :  (320,)\n"
     ]
    }
   ],
   "source": [
    "# ---- Split => train, test\n",
    "#\n",
    "data       = data.sample(frac=1., axis=0)     # Shuffle\n",
    "data_train = data.sample(frac=0.8, axis=0)    # get 80 %\n",
    "data_test  = data.drop(data_train.index)      # test = all - train\n",
    "\n",
    "# ---- Split => x,y (medv is price)\n",
    "#\n",
    "x_train = data_train.drop('quality',  axis=1)\n",
    "y_train = data_train['quality']\n",
    "x_test  = data_test.drop('quality',   axis=1)\n",
    "y_test  = data_test['quality']\n",
    "\n",
    "print('Original data shape was : ',data.shape)\n",
    "print('x_train : ',x_train.shape, 'y_train : ',y_train.shape)\n",
    "print('x_test  : ',x_test.shape,  'y_test  : ',y_test.shape)"
   ]
  },
  {
   "cell_type": "markdown",
   "metadata": {},
   "source": [
    "### 3.2 - Data normalization\n",
    "**Note :** \n",
    " - All input data must be normalized, train and test.  \n",
    " - To do this we will subtract the mean and divide by the standard deviation.  \n",
    " - But test data should not be used in any way, even for normalization.  \n",
    " - The mean and the standard deviation will therefore only be calculated with the train data."
   ]
  },
  {
   "cell_type": "code",
   "execution_count": 32,
   "metadata": {},
   "outputs": [
    {
     "data": {
      "text/html": [
       "<style type=\"text/css\">\n",
       "</style>\n",
       "<table id=\"T_97456\">\n",
       "  <caption>Before normalization :</caption>\n",
       "  <thead>\n",
       "    <tr>\n",
       "      <th class=\"blank level0\" >&nbsp;</th>\n",
       "      <th id=\"T_97456_level0_col0\" class=\"col_heading level0 col0\" >fixed acidity</th>\n",
       "      <th id=\"T_97456_level0_col1\" class=\"col_heading level0 col1\" >volatile acidity</th>\n",
       "      <th id=\"T_97456_level0_col2\" class=\"col_heading level0 col2\" >citric acid</th>\n",
       "      <th id=\"T_97456_level0_col3\" class=\"col_heading level0 col3\" >residual sugar</th>\n",
       "      <th id=\"T_97456_level0_col4\" class=\"col_heading level0 col4\" >chlorides</th>\n",
       "      <th id=\"T_97456_level0_col5\" class=\"col_heading level0 col5\" >free sulfur dioxide</th>\n",
       "      <th id=\"T_97456_level0_col6\" class=\"col_heading level0 col6\" >total sulfur dioxide</th>\n",
       "      <th id=\"T_97456_level0_col7\" class=\"col_heading level0 col7\" >density</th>\n",
       "      <th id=\"T_97456_level0_col8\" class=\"col_heading level0 col8\" >pH</th>\n",
       "      <th id=\"T_97456_level0_col9\" class=\"col_heading level0 col9\" >sulphates</th>\n",
       "      <th id=\"T_97456_level0_col10\" class=\"col_heading level0 col10\" >alcohol</th>\n",
       "    </tr>\n",
       "  </thead>\n",
       "  <tbody>\n",
       "    <tr>\n",
       "      <th id=\"T_97456_level0_row0\" class=\"row_heading level0 row0\" >count</th>\n",
       "      <td id=\"T_97456_row0_col0\" class=\"data row0 col0\" >1279.00</td>\n",
       "      <td id=\"T_97456_row0_col1\" class=\"data row0 col1\" >1279.00</td>\n",
       "      <td id=\"T_97456_row0_col2\" class=\"data row0 col2\" >1279.00</td>\n",
       "      <td id=\"T_97456_row0_col3\" class=\"data row0 col3\" >1279.00</td>\n",
       "      <td id=\"T_97456_row0_col4\" class=\"data row0 col4\" >1279.00</td>\n",
       "      <td id=\"T_97456_row0_col5\" class=\"data row0 col5\" >1279.00</td>\n",
       "      <td id=\"T_97456_row0_col6\" class=\"data row0 col6\" >1279.00</td>\n",
       "      <td id=\"T_97456_row0_col7\" class=\"data row0 col7\" >1279.00</td>\n",
       "      <td id=\"T_97456_row0_col8\" class=\"data row0 col8\" >1279.00</td>\n",
       "      <td id=\"T_97456_row0_col9\" class=\"data row0 col9\" >1279.00</td>\n",
       "      <td id=\"T_97456_row0_col10\" class=\"data row0 col10\" >1279.00</td>\n",
       "    </tr>\n",
       "    <tr>\n",
       "      <th id=\"T_97456_level0_row1\" class=\"row_heading level0 row1\" >mean</th>\n",
       "      <td id=\"T_97456_row1_col0\" class=\"data row1 col0\" >8.32</td>\n",
       "      <td id=\"T_97456_row1_col1\" class=\"data row1 col1\" >0.53</td>\n",
       "      <td id=\"T_97456_row1_col2\" class=\"data row1 col2\" >0.27</td>\n",
       "      <td id=\"T_97456_row1_col3\" class=\"data row1 col3\" >2.55</td>\n",
       "      <td id=\"T_97456_row1_col4\" class=\"data row1 col4\" >0.09</td>\n",
       "      <td id=\"T_97456_row1_col5\" class=\"data row1 col5\" >15.86</td>\n",
       "      <td id=\"T_97456_row1_col6\" class=\"data row1 col6\" >46.66</td>\n",
       "      <td id=\"T_97456_row1_col7\" class=\"data row1 col7\" >1.00</td>\n",
       "      <td id=\"T_97456_row1_col8\" class=\"data row1 col8\" >3.31</td>\n",
       "      <td id=\"T_97456_row1_col9\" class=\"data row1 col9\" >0.66</td>\n",
       "      <td id=\"T_97456_row1_col10\" class=\"data row1 col10\" >10.41</td>\n",
       "    </tr>\n",
       "    <tr>\n",
       "      <th id=\"T_97456_level0_row2\" class=\"row_heading level0 row2\" >std</th>\n",
       "      <td id=\"T_97456_row2_col0\" class=\"data row2 col0\" >1.75</td>\n",
       "      <td id=\"T_97456_row2_col1\" class=\"data row2 col1\" >0.18</td>\n",
       "      <td id=\"T_97456_row2_col2\" class=\"data row2 col2\" >0.19</td>\n",
       "      <td id=\"T_97456_row2_col3\" class=\"data row2 col3\" >1.44</td>\n",
       "      <td id=\"T_97456_row2_col4\" class=\"data row2 col4\" >0.05</td>\n",
       "      <td id=\"T_97456_row2_col5\" class=\"data row2 col5\" >10.44</td>\n",
       "      <td id=\"T_97456_row2_col6\" class=\"data row2 col6\" >33.20</td>\n",
       "      <td id=\"T_97456_row2_col7\" class=\"data row2 col7\" >0.00</td>\n",
       "      <td id=\"T_97456_row2_col8\" class=\"data row2 col8\" >0.16</td>\n",
       "      <td id=\"T_97456_row2_col9\" class=\"data row2 col9\" >0.17</td>\n",
       "      <td id=\"T_97456_row2_col10\" class=\"data row2 col10\" >1.07</td>\n",
       "    </tr>\n",
       "    <tr>\n",
       "      <th id=\"T_97456_level0_row3\" class=\"row_heading level0 row3\" >min</th>\n",
       "      <td id=\"T_97456_row3_col0\" class=\"data row3 col0\" >4.60</td>\n",
       "      <td id=\"T_97456_row3_col1\" class=\"data row3 col1\" >0.12</td>\n",
       "      <td id=\"T_97456_row3_col2\" class=\"data row3 col2\" >0.00</td>\n",
       "      <td id=\"T_97456_row3_col3\" class=\"data row3 col3\" >0.90</td>\n",
       "      <td id=\"T_97456_row3_col4\" class=\"data row3 col4\" >0.01</td>\n",
       "      <td id=\"T_97456_row3_col5\" class=\"data row3 col5\" >1.00</td>\n",
       "      <td id=\"T_97456_row3_col6\" class=\"data row3 col6\" >6.00</td>\n",
       "      <td id=\"T_97456_row3_col7\" class=\"data row3 col7\" >0.99</td>\n",
       "      <td id=\"T_97456_row3_col8\" class=\"data row3 col8\" >2.74</td>\n",
       "      <td id=\"T_97456_row3_col9\" class=\"data row3 col9\" >0.33</td>\n",
       "      <td id=\"T_97456_row3_col10\" class=\"data row3 col10\" >8.40</td>\n",
       "    </tr>\n",
       "    <tr>\n",
       "      <th id=\"T_97456_level0_row4\" class=\"row_heading level0 row4\" >25%</th>\n",
       "      <td id=\"T_97456_row4_col0\" class=\"data row4 col0\" >7.10</td>\n",
       "      <td id=\"T_97456_row4_col1\" class=\"data row4 col1\" >0.39</td>\n",
       "      <td id=\"T_97456_row4_col2\" class=\"data row4 col2\" >0.10</td>\n",
       "      <td id=\"T_97456_row4_col3\" class=\"data row4 col3\" >1.90</td>\n",
       "      <td id=\"T_97456_row4_col4\" class=\"data row4 col4\" >0.07</td>\n",
       "      <td id=\"T_97456_row4_col5\" class=\"data row4 col5\" >7.00</td>\n",
       "      <td id=\"T_97456_row4_col6\" class=\"data row4 col6\" >22.00</td>\n",
       "      <td id=\"T_97456_row4_col7\" class=\"data row4 col7\" >1.00</td>\n",
       "      <td id=\"T_97456_row4_col8\" class=\"data row4 col8\" >3.21</td>\n",
       "      <td id=\"T_97456_row4_col9\" class=\"data row4 col9\" >0.55</td>\n",
       "      <td id=\"T_97456_row4_col10\" class=\"data row4 col10\" >9.50</td>\n",
       "    </tr>\n",
       "    <tr>\n",
       "      <th id=\"T_97456_level0_row5\" class=\"row_heading level0 row5\" >50%</th>\n",
       "      <td id=\"T_97456_row5_col0\" class=\"data row5 col0\" >7.90</td>\n",
       "      <td id=\"T_97456_row5_col1\" class=\"data row5 col1\" >0.52</td>\n",
       "      <td id=\"T_97456_row5_col2\" class=\"data row5 col2\" >0.26</td>\n",
       "      <td id=\"T_97456_row5_col3\" class=\"data row5 col3\" >2.20</td>\n",
       "      <td id=\"T_97456_row5_col4\" class=\"data row5 col4\" >0.08</td>\n",
       "      <td id=\"T_97456_row5_col5\" class=\"data row5 col5\" >14.00</td>\n",
       "      <td id=\"T_97456_row5_col6\" class=\"data row5 col6\" >38.00</td>\n",
       "      <td id=\"T_97456_row5_col7\" class=\"data row5 col7\" >1.00</td>\n",
       "      <td id=\"T_97456_row5_col8\" class=\"data row5 col8\" >3.31</td>\n",
       "      <td id=\"T_97456_row5_col9\" class=\"data row5 col9\" >0.62</td>\n",
       "      <td id=\"T_97456_row5_col10\" class=\"data row5 col10\" >10.10</td>\n",
       "    </tr>\n",
       "    <tr>\n",
       "      <th id=\"T_97456_level0_row6\" class=\"row_heading level0 row6\" >75%</th>\n",
       "      <td id=\"T_97456_row6_col0\" class=\"data row6 col0\" >9.20</td>\n",
       "      <td id=\"T_97456_row6_col1\" class=\"data row6 col1\" >0.64</td>\n",
       "      <td id=\"T_97456_row6_col2\" class=\"data row6 col2\" >0.43</td>\n",
       "      <td id=\"T_97456_row6_col3\" class=\"data row6 col3\" >2.60</td>\n",
       "      <td id=\"T_97456_row6_col4\" class=\"data row6 col4\" >0.09</td>\n",
       "      <td id=\"T_97456_row6_col5\" class=\"data row6 col5\" >21.00</td>\n",
       "      <td id=\"T_97456_row6_col6\" class=\"data row6 col6\" >62.00</td>\n",
       "      <td id=\"T_97456_row6_col7\" class=\"data row6 col7\" >1.00</td>\n",
       "      <td id=\"T_97456_row6_col8\" class=\"data row6 col8\" >3.41</td>\n",
       "      <td id=\"T_97456_row6_col9\" class=\"data row6 col9\" >0.73</td>\n",
       "      <td id=\"T_97456_row6_col10\" class=\"data row6 col10\" >11.03</td>\n",
       "    </tr>\n",
       "    <tr>\n",
       "      <th id=\"T_97456_level0_row7\" class=\"row_heading level0 row7\" >max</th>\n",
       "      <td id=\"T_97456_row7_col0\" class=\"data row7 col0\" >15.90</td>\n",
       "      <td id=\"T_97456_row7_col1\" class=\"data row7 col1\" >1.58</td>\n",
       "      <td id=\"T_97456_row7_col2\" class=\"data row7 col2\" >1.00</td>\n",
       "      <td id=\"T_97456_row7_col3\" class=\"data row7 col3\" >15.40</td>\n",
       "      <td id=\"T_97456_row7_col4\" class=\"data row7 col4\" >0.61</td>\n",
       "      <td id=\"T_97456_row7_col5\" class=\"data row7 col5\" >72.00</td>\n",
       "      <td id=\"T_97456_row7_col6\" class=\"data row7 col6\" >289.00</td>\n",
       "      <td id=\"T_97456_row7_col7\" class=\"data row7 col7\" >1.00</td>\n",
       "      <td id=\"T_97456_row7_col8\" class=\"data row7 col8\" >4.01</td>\n",
       "      <td id=\"T_97456_row7_col9\" class=\"data row7 col9\" >2.00</td>\n",
       "      <td id=\"T_97456_row7_col10\" class=\"data row7 col10\" >14.90</td>\n",
       "    </tr>\n",
       "  </tbody>\n",
       "</table>\n"
      ],
      "text/plain": [
       "<pandas.io.formats.style.Styler at 0x7f8e008b99d0>"
      ]
     },
     "metadata": {},
     "output_type": "display_data"
    },
    {
     "data": {
      "text/html": [
       "<style type=\"text/css\">\n",
       "</style>\n",
       "<table id=\"T_dcbaf\">\n",
       "  <caption>After normalization :</caption>\n",
       "  <thead>\n",
       "    <tr>\n",
       "      <th class=\"blank level0\" >&nbsp;</th>\n",
       "      <th id=\"T_dcbaf_level0_col0\" class=\"col_heading level0 col0\" >fixed acidity</th>\n",
       "      <th id=\"T_dcbaf_level0_col1\" class=\"col_heading level0 col1\" >volatile acidity</th>\n",
       "      <th id=\"T_dcbaf_level0_col2\" class=\"col_heading level0 col2\" >citric acid</th>\n",
       "      <th id=\"T_dcbaf_level0_col3\" class=\"col_heading level0 col3\" >residual sugar</th>\n",
       "      <th id=\"T_dcbaf_level0_col4\" class=\"col_heading level0 col4\" >chlorides</th>\n",
       "      <th id=\"T_dcbaf_level0_col5\" class=\"col_heading level0 col5\" >free sulfur dioxide</th>\n",
       "      <th id=\"T_dcbaf_level0_col6\" class=\"col_heading level0 col6\" >total sulfur dioxide</th>\n",
       "      <th id=\"T_dcbaf_level0_col7\" class=\"col_heading level0 col7\" >density</th>\n",
       "      <th id=\"T_dcbaf_level0_col8\" class=\"col_heading level0 col8\" >pH</th>\n",
       "      <th id=\"T_dcbaf_level0_col9\" class=\"col_heading level0 col9\" >sulphates</th>\n",
       "      <th id=\"T_dcbaf_level0_col10\" class=\"col_heading level0 col10\" >alcohol</th>\n",
       "    </tr>\n",
       "  </thead>\n",
       "  <tbody>\n",
       "    <tr>\n",
       "      <th id=\"T_dcbaf_level0_row0\" class=\"row_heading level0 row0\" >count</th>\n",
       "      <td id=\"T_dcbaf_row0_col0\" class=\"data row0 col0\" >1279.00</td>\n",
       "      <td id=\"T_dcbaf_row0_col1\" class=\"data row0 col1\" >1279.00</td>\n",
       "      <td id=\"T_dcbaf_row0_col2\" class=\"data row0 col2\" >1279.00</td>\n",
       "      <td id=\"T_dcbaf_row0_col3\" class=\"data row0 col3\" >1279.00</td>\n",
       "      <td id=\"T_dcbaf_row0_col4\" class=\"data row0 col4\" >1279.00</td>\n",
       "      <td id=\"T_dcbaf_row0_col5\" class=\"data row0 col5\" >1279.00</td>\n",
       "      <td id=\"T_dcbaf_row0_col6\" class=\"data row0 col6\" >1279.00</td>\n",
       "      <td id=\"T_dcbaf_row0_col7\" class=\"data row0 col7\" >1279.00</td>\n",
       "      <td id=\"T_dcbaf_row0_col8\" class=\"data row0 col8\" >1279.00</td>\n",
       "      <td id=\"T_dcbaf_row0_col9\" class=\"data row0 col9\" >1279.00</td>\n",
       "      <td id=\"T_dcbaf_row0_col10\" class=\"data row0 col10\" >1279.00</td>\n",
       "    </tr>\n",
       "    <tr>\n",
       "      <th id=\"T_dcbaf_level0_row1\" class=\"row_heading level0 row1\" >mean</th>\n",
       "      <td id=\"T_dcbaf_row1_col0\" class=\"data row1 col0\" >0.00</td>\n",
       "      <td id=\"T_dcbaf_row1_col1\" class=\"data row1 col1\" >-0.00</td>\n",
       "      <td id=\"T_dcbaf_row1_col2\" class=\"data row1 col2\" >0.00</td>\n",
       "      <td id=\"T_dcbaf_row1_col3\" class=\"data row1 col3\" >0.00</td>\n",
       "      <td id=\"T_dcbaf_row1_col4\" class=\"data row1 col4\" >0.00</td>\n",
       "      <td id=\"T_dcbaf_row1_col5\" class=\"data row1 col5\" >-0.00</td>\n",
       "      <td id=\"T_dcbaf_row1_col6\" class=\"data row1 col6\" >0.00</td>\n",
       "      <td id=\"T_dcbaf_row1_col7\" class=\"data row1 col7\" >0.00</td>\n",
       "      <td id=\"T_dcbaf_row1_col8\" class=\"data row1 col8\" >-0.00</td>\n",
       "      <td id=\"T_dcbaf_row1_col9\" class=\"data row1 col9\" >0.00</td>\n",
       "      <td id=\"T_dcbaf_row1_col10\" class=\"data row1 col10\" >-0.00</td>\n",
       "    </tr>\n",
       "    <tr>\n",
       "      <th id=\"T_dcbaf_level0_row2\" class=\"row_heading level0 row2\" >std</th>\n",
       "      <td id=\"T_dcbaf_row2_col0\" class=\"data row2 col0\" >1.00</td>\n",
       "      <td id=\"T_dcbaf_row2_col1\" class=\"data row2 col1\" >1.00</td>\n",
       "      <td id=\"T_dcbaf_row2_col2\" class=\"data row2 col2\" >1.00</td>\n",
       "      <td id=\"T_dcbaf_row2_col3\" class=\"data row2 col3\" >1.00</td>\n",
       "      <td id=\"T_dcbaf_row2_col4\" class=\"data row2 col4\" >1.00</td>\n",
       "      <td id=\"T_dcbaf_row2_col5\" class=\"data row2 col5\" >1.00</td>\n",
       "      <td id=\"T_dcbaf_row2_col6\" class=\"data row2 col6\" >1.00</td>\n",
       "      <td id=\"T_dcbaf_row2_col7\" class=\"data row2 col7\" >1.00</td>\n",
       "      <td id=\"T_dcbaf_row2_col8\" class=\"data row2 col8\" >1.00</td>\n",
       "      <td id=\"T_dcbaf_row2_col9\" class=\"data row2 col9\" >1.00</td>\n",
       "      <td id=\"T_dcbaf_row2_col10\" class=\"data row2 col10\" >1.00</td>\n",
       "    </tr>\n",
       "    <tr>\n",
       "      <th id=\"T_dcbaf_level0_row3\" class=\"row_heading level0 row3\" >min</th>\n",
       "      <td id=\"T_dcbaf_row3_col0\" class=\"data row3 col0\" >-2.12</td>\n",
       "      <td id=\"T_dcbaf_row3_col1\" class=\"data row3 col1\" >-2.26</td>\n",
       "      <td id=\"T_dcbaf_row3_col2\" class=\"data row3 col2\" >-1.41</td>\n",
       "      <td id=\"T_dcbaf_row3_col3\" class=\"data row3 col3\" >-1.15</td>\n",
       "      <td id=\"T_dcbaf_row3_col4\" class=\"data row3 col4\" >-1.55</td>\n",
       "      <td id=\"T_dcbaf_row3_col5\" class=\"data row3 col5\" >-1.42</td>\n",
       "      <td id=\"T_dcbaf_row3_col6\" class=\"data row3 col6\" >-1.22</td>\n",
       "      <td id=\"T_dcbaf_row3_col7\" class=\"data row3 col7\" >-3.52</td>\n",
       "      <td id=\"T_dcbaf_row3_col8\" class=\"data row3 col8\" >-3.67</td>\n",
       "      <td id=\"T_dcbaf_row3_col9\" class=\"data row3 col9\" >-1.93</td>\n",
       "      <td id=\"T_dcbaf_row3_col10\" class=\"data row3 col10\" >-1.88</td>\n",
       "    </tr>\n",
       "    <tr>\n",
       "      <th id=\"T_dcbaf_level0_row4\" class=\"row_heading level0 row4\" >25%</th>\n",
       "      <td id=\"T_dcbaf_row4_col0\" class=\"data row4 col0\" >-0.69</td>\n",
       "      <td id=\"T_dcbaf_row4_col1\" class=\"data row4 col1\" >-0.76</td>\n",
       "      <td id=\"T_dcbaf_row4_col2\" class=\"data row4 col2\" >-0.90</td>\n",
       "      <td id=\"T_dcbaf_row4_col3\" class=\"data row4 col3\" >-0.45</td>\n",
       "      <td id=\"T_dcbaf_row4_col4\" class=\"data row4 col4\" >-0.36</td>\n",
       "      <td id=\"T_dcbaf_row4_col5\" class=\"data row4 col5\" >-0.85</td>\n",
       "      <td id=\"T_dcbaf_row4_col6\" class=\"data row4 col6\" >-0.74</td>\n",
       "      <td id=\"T_dcbaf_row4_col7\" class=\"data row4 col7\" >-0.62</td>\n",
       "      <td id=\"T_dcbaf_row4_col8\" class=\"data row4 col8\" >-0.66</td>\n",
       "      <td id=\"T_dcbaf_row4_col9\" class=\"data row4 col9\" >-0.64</td>\n",
       "      <td id=\"T_dcbaf_row4_col10\" class=\"data row4 col10\" >-0.85</td>\n",
       "    </tr>\n",
       "    <tr>\n",
       "      <th id=\"T_dcbaf_level0_row5\" class=\"row_heading level0 row5\" >50%</th>\n",
       "      <td id=\"T_dcbaf_row5_col0\" class=\"data row5 col0\" >-0.24</td>\n",
       "      <td id=\"T_dcbaf_row5_col1\" class=\"data row5 col1\" >-0.05</td>\n",
       "      <td id=\"T_dcbaf_row5_col2\" class=\"data row5 col2\" >-0.07</td>\n",
       "      <td id=\"T_dcbaf_row5_col3\" class=\"data row5 col3\" >-0.25</td>\n",
       "      <td id=\"T_dcbaf_row5_col4\" class=\"data row5 col4\" >-0.18</td>\n",
       "      <td id=\"T_dcbaf_row5_col5\" class=\"data row5 col5\" >-0.18</td>\n",
       "      <td id=\"T_dcbaf_row5_col6\" class=\"data row5 col6\" >-0.26</td>\n",
       "      <td id=\"T_dcbaf_row5_col7\" class=\"data row5 col7\" >0.01</td>\n",
       "      <td id=\"T_dcbaf_row5_col8\" class=\"data row5 col8\" >-0.02</td>\n",
       "      <td id=\"T_dcbaf_row5_col9\" class=\"data row5 col9\" >-0.23</td>\n",
       "      <td id=\"T_dcbaf_row5_col10\" class=\"data row5 col10\" >-0.29</td>\n",
       "    </tr>\n",
       "    <tr>\n",
       "      <th id=\"T_dcbaf_level0_row6\" class=\"row_heading level0 row6\" >75%</th>\n",
       "      <td id=\"T_dcbaf_row6_col0\" class=\"data row6 col0\" >0.50</td>\n",
       "      <td id=\"T_dcbaf_row6_col1\" class=\"data row6 col1\" >0.61</td>\n",
       "      <td id=\"T_dcbaf_row6_col2\" class=\"data row6 col2\" >0.81</td>\n",
       "      <td id=\"T_dcbaf_row6_col3\" class=\"data row6 col3\" >0.03</td>\n",
       "      <td id=\"T_dcbaf_row6_col4\" class=\"data row6 col4\" >0.05</td>\n",
       "      <td id=\"T_dcbaf_row6_col5\" class=\"data row6 col5\" >0.49</td>\n",
       "      <td id=\"T_dcbaf_row6_col6\" class=\"data row6 col6\" >0.46</td>\n",
       "      <td id=\"T_dcbaf_row6_col7\" class=\"data row6 col7\" >0.57</td>\n",
       "      <td id=\"T_dcbaf_row6_col8\" class=\"data row6 col8\" >0.62</td>\n",
       "      <td id=\"T_dcbaf_row6_col9\" class=\"data row6 col9\" >0.42</td>\n",
       "      <td id=\"T_dcbaf_row6_col10\" class=\"data row6 col10\" >0.58</td>\n",
       "    </tr>\n",
       "    <tr>\n",
       "      <th id=\"T_dcbaf_level0_row7\" class=\"row_heading level0 row7\" >max</th>\n",
       "      <td id=\"T_dcbaf_row7_col0\" class=\"data row7 col0\" >4.32</td>\n",
       "      <td id=\"T_dcbaf_row7_col1\" class=\"data row7 col1\" >5.80</td>\n",
       "      <td id=\"T_dcbaf_row7_col2\" class=\"data row7 col2\" >3.76</td>\n",
       "      <td id=\"T_dcbaf_row7_col3\" class=\"data row7 col3\" >8.91</td>\n",
       "      <td id=\"T_dcbaf_row7_col4\" class=\"data row7 col4\" >10.75</td>\n",
       "      <td id=\"T_dcbaf_row7_col5\" class=\"data row7 col5\" >5.38</td>\n",
       "      <td id=\"T_dcbaf_row7_col6\" class=\"data row7 col6\" >7.30</td>\n",
       "      <td id=\"T_dcbaf_row7_col7\" class=\"data row7 col7\" >3.63</td>\n",
       "      <td id=\"T_dcbaf_row7_col8\" class=\"data row7 col8\" >4.47</td>\n",
       "      <td id=\"T_dcbaf_row7_col9\" class=\"data row7 col9\" >7.89</td>\n",
       "      <td id=\"T_dcbaf_row7_col10\" class=\"data row7 col10\" >4.20</td>\n",
       "    </tr>\n",
       "  </tbody>\n",
       "</table>\n"
      ],
      "text/plain": [
       "<pandas.io.formats.style.Styler at 0x7f8e03bfe520>"
      ]
     },
     "metadata": {},
     "output_type": "display_data"
    }
   ],
   "source": [
    "display(x_train.describe().style.format(\"{0:.2f}\").set_caption(\"Before normalization :\"))\n",
    "\n",
    "mean = x_train.mean()\n",
    "std  = x_train.std()\n",
    "x_train = (x_train - mean) / std\n",
    "x_test  = (x_test  - mean) / std\n",
    "\n",
    "display(x_train.describe().style.format(\"{0:.2f}\").set_caption(\"After normalization :\"))\n",
    "\n",
    "# Convert our DataFrame to numpy array\n",
    "x_train, y_train = np.array(x_train), np.array(y_train)\n",
    "x_test,  y_test  = np.array(x_test),  np.array(y_test)\n"
   ]
  },
  {
   "cell_type": "markdown",
   "metadata": {},
   "source": [
    "## Step 4 - Build a model\n",
    "More informations about : \n",
    " - [Optimizer](https://keras.io/api/optimizers)\n",
    " - [Activation](https://keras.io/api/layers/activations)\n",
    " - [Loss](https://keras.io/api/losses)\n",
    " - [Metrics](https://keras.io/api/metrics)"
   ]
  },
  {
   "cell_type": "code",
   "execution_count": 33,
   "metadata": {},
   "outputs": [],
   "source": [
    "def get_model_v1(shape):\n",
    "  \n",
    "  model = keras.models.Sequential()\n",
    "  model.add(keras.layers.Input(shape, name=\"InputLayer\"))\n",
    "  model.add(keras.layers.Dense(64, activation='relu', name='Dense_n1'))\n",
    "  model.add(keras.layers.Dense(64, activation='relu', name='Dense_n2'))\n",
    "  model.add(keras.layers.Dense(1, name='Output'))\n",
    "\n",
    "  model.compile(optimizer = 'rmsprop', # or 'adam'\n",
    "                loss      = 'mse',\n",
    "                metrics   = ['mae', 'mse'] )\n",
    "  return model"
   ]
  },
  {
   "cell_type": "markdown",
   "metadata": {},
   "source": [
    "## 5 - Train the model\n",
    "### 5.1 - Get it"
   ]
  },
  {
   "cell_type": "code",
   "execution_count": 34,
   "metadata": {},
   "outputs": [
    {
     "data": {
      "text/html": [
       "<pre style=\"white-space:pre;overflow-x:auto;line-height:normal;font-family:Menlo,'DejaVu Sans Mono',consolas,'Courier New',monospace\"><span style=\"font-weight: bold\">Model: \"sequential_1\"</span>\n",
       "</pre>\n"
      ],
      "text/plain": [
       "\u001b[1mModel: \"sequential_1\"\u001b[0m\n"
      ]
     },
     "metadata": {},
     "output_type": "display_data"
    },
    {
     "data": {
      "text/html": [
       "<pre style=\"white-space:pre;overflow-x:auto;line-height:normal;font-family:Menlo,'DejaVu Sans Mono',consolas,'Courier New',monospace\">┏━━━━━━━━━━━━━━━━━━━━━━━━━━━━━━━━━┳━━━━━━━━━━━━━━━━━━━━━━━━┳━━━━━━━━━━━━━━━┓\n",
       "┃<span style=\"font-weight: bold\"> Layer (type)                    </span>┃<span style=\"font-weight: bold\"> Output Shape           </span>┃<span style=\"font-weight: bold\">       Param # </span>┃\n",
       "┡━━━━━━━━━━━━━━━━━━━━━━━━━━━━━━━━━╇━━━━━━━━━━━━━━━━━━━━━━━━╇━━━━━━━━━━━━━━━┩\n",
       "│ Dense_n1 (<span style=\"color: #0087ff; text-decoration-color: #0087ff\">Dense</span>)                │ (<span style=\"color: #00d7ff; text-decoration-color: #00d7ff\">None</span>, <span style=\"color: #00af00; text-decoration-color: #00af00\">64</span>)             │           <span style=\"color: #00af00; text-decoration-color: #00af00\">768</span> │\n",
       "├─────────────────────────────────┼────────────────────────┼───────────────┤\n",
       "│ Dense_n2 (<span style=\"color: #0087ff; text-decoration-color: #0087ff\">Dense</span>)                │ (<span style=\"color: #00d7ff; text-decoration-color: #00d7ff\">None</span>, <span style=\"color: #00af00; text-decoration-color: #00af00\">64</span>)             │         <span style=\"color: #00af00; text-decoration-color: #00af00\">4,160</span> │\n",
       "├─────────────────────────────────┼────────────────────────┼───────────────┤\n",
       "│ Output (<span style=\"color: #0087ff; text-decoration-color: #0087ff\">Dense</span>)                  │ (<span style=\"color: #00d7ff; text-decoration-color: #00d7ff\">None</span>, <span style=\"color: #00af00; text-decoration-color: #00af00\">1</span>)              │            <span style=\"color: #00af00; text-decoration-color: #00af00\">65</span> │\n",
       "└─────────────────────────────────┴────────────────────────┴───────────────┘\n",
       "</pre>\n"
      ],
      "text/plain": [
       "┏━━━━━━━━━━━━━━━━━━━━━━━━━━━━━━━━━┳━━━━━━━━━━━━━━━━━━━━━━━━┳━━━━━━━━━━━━━━━┓\n",
       "┃\u001b[1m \u001b[0m\u001b[1mLayer (type)                   \u001b[0m\u001b[1m \u001b[0m┃\u001b[1m \u001b[0m\u001b[1mOutput Shape          \u001b[0m\u001b[1m \u001b[0m┃\u001b[1m \u001b[0m\u001b[1m      Param #\u001b[0m\u001b[1m \u001b[0m┃\n",
       "┡━━━━━━━━━━━━━━━━━━━━━━━━━━━━━━━━━╇━━━━━━━━━━━━━━━━━━━━━━━━╇━━━━━━━━━━━━━━━┩\n",
       "│ Dense_n1 (\u001b[38;5;33mDense\u001b[0m)                │ (\u001b[38;5;45mNone\u001b[0m, \u001b[38;5;34m64\u001b[0m)             │           \u001b[38;5;34m768\u001b[0m │\n",
       "├─────────────────────────────────┼────────────────────────┼───────────────┤\n",
       "│ Dense_n2 (\u001b[38;5;33mDense\u001b[0m)                │ (\u001b[38;5;45mNone\u001b[0m, \u001b[38;5;34m64\u001b[0m)             │         \u001b[38;5;34m4,160\u001b[0m │\n",
       "├─────────────────────────────────┼────────────────────────┼───────────────┤\n",
       "│ Output (\u001b[38;5;33mDense\u001b[0m)                  │ (\u001b[38;5;45mNone\u001b[0m, \u001b[38;5;34m1\u001b[0m)              │            \u001b[38;5;34m65\u001b[0m │\n",
       "└─────────────────────────────────┴────────────────────────┴───────────────┘\n"
      ]
     },
     "metadata": {},
     "output_type": "display_data"
    },
    {
     "data": {
      "text/html": [
       "<pre style=\"white-space:pre;overflow-x:auto;line-height:normal;font-family:Menlo,'DejaVu Sans Mono',consolas,'Courier New',monospace\"><span style=\"font-weight: bold\"> Total params: </span><span style=\"color: #00af00; text-decoration-color: #00af00\">4,993</span> (19.50 KB)\n",
       "</pre>\n"
      ],
      "text/plain": [
       "\u001b[1m Total params: \u001b[0m\u001b[38;5;34m4,993\u001b[0m (19.50 KB)\n"
      ]
     },
     "metadata": {},
     "output_type": "display_data"
    },
    {
     "data": {
      "text/html": [
       "<pre style=\"white-space:pre;overflow-x:auto;line-height:normal;font-family:Menlo,'DejaVu Sans Mono',consolas,'Courier New',monospace\"><span style=\"font-weight: bold\"> Trainable params: </span><span style=\"color: #00af00; text-decoration-color: #00af00\">4,993</span> (19.50 KB)\n",
       "</pre>\n"
      ],
      "text/plain": [
       "\u001b[1m Trainable params: \u001b[0m\u001b[38;5;34m4,993\u001b[0m (19.50 KB)\n"
      ]
     },
     "metadata": {},
     "output_type": "display_data"
    },
    {
     "data": {
      "text/html": [
       "<pre style=\"white-space:pre;overflow-x:auto;line-height:normal;font-family:Menlo,'DejaVu Sans Mono',consolas,'Courier New',monospace\"><span style=\"font-weight: bold\"> Non-trainable params: </span><span style=\"color: #00af00; text-decoration-color: #00af00\">0</span> (0.00 B)\n",
       "</pre>\n"
      ],
      "text/plain": [
       "\u001b[1m Non-trainable params: \u001b[0m\u001b[38;5;34m0\u001b[0m (0.00 B)\n"
      ]
     },
     "metadata": {},
     "output_type": "display_data"
    }
   ],
   "source": [
    "model=get_model_v1( (11,) )\n",
    "\n",
    "model.summary()"
   ]
  },
  {
   "cell_type": "markdown",
   "metadata": {},
   "source": [
    "### 5.2 - Add callback"
   ]
  },
  {
   "cell_type": "code",
   "execution_count": 35,
   "metadata": {},
   "outputs": [],
   "source": [
    "os.makedirs('./run/models',   mode=0o750, exist_ok=True)\n",
    "save_dir = \"./run/models/best_model.keras\"\n",
    "\n",
    "savemodel_callback = keras.callbacks.ModelCheckpoint( filepath=save_dir, monitor='val_mae', mode='max', save_best_only=True)"
   ]
  },
  {
   "cell_type": "markdown",
   "metadata": {},
   "source": [
    "### 5.3 - Train it"
   ]
  },
  {
   "cell_type": "code",
   "execution_count": 36,
   "metadata": {},
   "outputs": [
    {
     "name": "stdout",
     "output_type": "stream",
     "text": [
      "Epoch 1/100\n",
      "\u001b[1m128/128\u001b[0m \u001b[32m━━━━━━━━━━━━━━━━━━━━\u001b[0m\u001b[37m\u001b[0m \u001b[1m2s\u001b[0m 13ms/step - loss: 11.0818 - mae: 2.8328 - mse: 11.0818 - val_loss: 2.0632 - val_mae: 1.0926 - val_mse: 2.0632\n",
      "Epoch 2/100\n",
      "\u001b[1m128/128\u001b[0m \u001b[32m━━━━━━━━━━━━━━━━━━━━\u001b[0m\u001b[37m\u001b[0m \u001b[1m2s\u001b[0m 12ms/step - loss: 1.9663 - mae: 1.0938 - mse: 1.9663 - val_loss: 1.4317 - val_mae: 0.9170 - val_mse: 1.4317\n",
      "Epoch 3/100\n",
      "\u001b[1m128/128\u001b[0m \u001b[32m━━━━━━━━━━━━━━━━━━━━\u001b[0m\u001b[37m\u001b[0m \u001b[1m2s\u001b[0m 12ms/step - loss: 1.2320 - mae: 0.8633 - mse: 1.2320 - val_loss: 1.0839 - val_mae: 0.8048 - val_mse: 1.0839\n",
      "Epoch 4/100\n",
      "\u001b[1m128/128\u001b[0m \u001b[32m━━━━━━━━━━━━━━━━━━━━\u001b[0m\u001b[37m\u001b[0m \u001b[1m1s\u001b[0m 11ms/step - loss: 0.9778 - mae: 0.7802 - mse: 0.9778 - val_loss: 0.9188 - val_mae: 0.7624 - val_mse: 0.9188\n",
      "Epoch 5/100\n",
      "\u001b[1m128/128\u001b[0m \u001b[32m━━━━━━━━━━━━━━━━━━━━\u001b[0m\u001b[37m\u001b[0m \u001b[1m2s\u001b[0m 12ms/step - loss: 0.7300 - mae: 0.6605 - mse: 0.7300 - val_loss: 0.7255 - val_mae: 0.6588 - val_mse: 0.7255\n",
      "Epoch 6/100\n",
      "\u001b[1m128/128\u001b[0m \u001b[32m━━━━━━━━━━━━━━━━━━━━\u001b[0m\u001b[37m\u001b[0m \u001b[1m2s\u001b[0m 12ms/step - loss: 0.5752 - mae: 0.5854 - mse: 0.5752 - val_loss: 0.6338 - val_mae: 0.6091 - val_mse: 0.6338\n",
      "Epoch 7/100\n",
      "\u001b[1m128/128\u001b[0m \u001b[32m━━━━━━━━━━━━━━━━━━━━\u001b[0m\u001b[37m\u001b[0m \u001b[1m1s\u001b[0m 11ms/step - loss: 0.5054 - mae: 0.5644 - mse: 0.5054 - val_loss: 0.6211 - val_mae: 0.6071 - val_mse: 0.6211\n",
      "Epoch 8/100\n",
      "\u001b[1m128/128\u001b[0m \u001b[32m━━━━━━━━━━━━━━━━━━━━\u001b[0m\u001b[37m\u001b[0m \u001b[1m2s\u001b[0m 13ms/step - loss: 0.4748 - mae: 0.5350 - mse: 0.4748 - val_loss: 0.5422 - val_mae: 0.5873 - val_mse: 0.5422\n",
      "Epoch 9/100\n",
      "\u001b[1m128/128\u001b[0m \u001b[32m━━━━━━━━━━━━━━━━━━━━\u001b[0m\u001b[37m\u001b[0m \u001b[1m2s\u001b[0m 13ms/step - loss: 0.4344 - mae: 0.5085 - mse: 0.4344 - val_loss: 0.5283 - val_mae: 0.5587 - val_mse: 0.5283\n",
      "Epoch 10/100\n",
      "\u001b[1m128/128\u001b[0m \u001b[32m━━━━━━━━━━━━━━━━━━━━\u001b[0m\u001b[37m\u001b[0m \u001b[1m2s\u001b[0m 12ms/step - loss: 0.4111 - mae: 0.4944 - mse: 0.4111 - val_loss: 0.5444 - val_mae: 0.5779 - val_mse: 0.5444\n",
      "Epoch 11/100\n",
      "\u001b[1m128/128\u001b[0m \u001b[32m━━━━━━━━━━━━━━━━━━━━\u001b[0m\u001b[37m\u001b[0m \u001b[1m2s\u001b[0m 12ms/step - loss: 0.4067 - mae: 0.5059 - mse: 0.4067 - val_loss: 0.4737 - val_mae: 0.5316 - val_mse: 0.4737\n",
      "Epoch 12/100\n",
      "\u001b[1m128/128\u001b[0m \u001b[32m━━━━━━━━━━━━━━━━━━━━\u001b[0m\u001b[37m\u001b[0m \u001b[1m2s\u001b[0m 15ms/step - loss: 0.3785 - mae: 0.4774 - mse: 0.3785 - val_loss: 0.4503 - val_mae: 0.5164 - val_mse: 0.4503\n",
      "Epoch 13/100\n",
      "\u001b[1m128/128\u001b[0m \u001b[32m━━━━━━━━━━━━━━━━━━━━\u001b[0m\u001b[37m\u001b[0m \u001b[1m2s\u001b[0m 14ms/step - loss: 0.3913 - mae: 0.4804 - mse: 0.3913 - val_loss: 0.4977 - val_mae: 0.5469 - val_mse: 0.4977\n",
      "Epoch 14/100\n",
      "\u001b[1m128/128\u001b[0m \u001b[32m━━━━━━━━━━━━━━━━━━━━\u001b[0m\u001b[37m\u001b[0m \u001b[1m2s\u001b[0m 18ms/step - loss: 0.3618 - mae: 0.4660 - mse: 0.3618 - val_loss: 0.5627 - val_mae: 0.5938 - val_mse: 0.5627\n",
      "Epoch 15/100\n",
      "\u001b[1m128/128\u001b[0m \u001b[32m━━━━━━━━━━━━━━━━━━━━\u001b[0m\u001b[37m\u001b[0m \u001b[1m3s\u001b[0m 20ms/step - loss: 0.3693 - mae: 0.4715 - mse: 0.3693 - val_loss: 0.4613 - val_mae: 0.5298 - val_mse: 0.4613\n",
      "Epoch 16/100\n",
      "\u001b[1m128/128\u001b[0m \u001b[32m━━━━━━━━━━━━━━━━━━━━\u001b[0m\u001b[37m\u001b[0m \u001b[1m4s\u001b[0m 29ms/step - loss: 0.3681 - mae: 0.4679 - mse: 0.3681 - val_loss: 0.4447 - val_mae: 0.5103 - val_mse: 0.4447\n",
      "Epoch 17/100\n",
      "\u001b[1m128/128\u001b[0m \u001b[32m━━━━━━━━━━━━━━━━━━━━\u001b[0m\u001b[37m\u001b[0m \u001b[1m3s\u001b[0m 20ms/step - loss: 0.3668 - mae: 0.4641 - mse: 0.3668 - val_loss: 0.4971 - val_mae: 0.5443 - val_mse: 0.4971\n",
      "Epoch 18/100\n",
      "\u001b[1m128/128\u001b[0m \u001b[32m━━━━━━━━━━━━━━━━━━━━\u001b[0m\u001b[37m\u001b[0m \u001b[1m3s\u001b[0m 21ms/step - loss: 0.3279 - mae: 0.4440 - mse: 0.3279 - val_loss: 0.4956 - val_mae: 0.5607 - val_mse: 0.4956\n",
      "Epoch 19/100\n",
      "\u001b[1m128/128\u001b[0m \u001b[32m━━━━━━━━━━━━━━━━━━━━\u001b[0m\u001b[37m\u001b[0m \u001b[1m2s\u001b[0m 19ms/step - loss: 0.3427 - mae: 0.4619 - mse: 0.3427 - val_loss: 0.4321 - val_mae: 0.5122 - val_mse: 0.4321\n",
      "Epoch 20/100\n",
      "\u001b[1m128/128\u001b[0m \u001b[32m━━━━━━━━━━━━━━━━━━━━\u001b[0m\u001b[37m\u001b[0m \u001b[1m2s\u001b[0m 12ms/step - loss: 0.3507 - mae: 0.4545 - mse: 0.3507 - val_loss: 0.4547 - val_mae: 0.5285 - val_mse: 0.4547\n",
      "Epoch 21/100\n",
      "\u001b[1m128/128\u001b[0m \u001b[32m━━━━━━━━━━━━━━━━━━━━\u001b[0m\u001b[37m\u001b[0m \u001b[1m2s\u001b[0m 13ms/step - loss: 0.3391 - mae: 0.4410 - mse: 0.3391 - val_loss: 0.4543 - val_mae: 0.5194 - val_mse: 0.4543\n",
      "Epoch 22/100\n",
      "\u001b[1m128/128\u001b[0m \u001b[32m━━━━━━━━━━━━━━━━━━━━\u001b[0m\u001b[37m\u001b[0m \u001b[1m2s\u001b[0m 13ms/step - loss: 0.3204 - mae: 0.4387 - mse: 0.3204 - val_loss: 0.4336 - val_mae: 0.5110 - val_mse: 0.4336\n",
      "Epoch 23/100\n",
      "\u001b[1m128/128\u001b[0m \u001b[32m━━━━━━━━━━━━━━━━━━━━\u001b[0m\u001b[37m\u001b[0m \u001b[1m2s\u001b[0m 14ms/step - loss: 0.3483 - mae: 0.4640 - mse: 0.3483 - val_loss: 0.4709 - val_mae: 0.5310 - val_mse: 0.4709\n",
      "Epoch 24/100\n",
      "\u001b[1m128/128\u001b[0m \u001b[32m━━━━━━━━━━━━━━━━━━━━\u001b[0m\u001b[37m\u001b[0m \u001b[1m2s\u001b[0m 15ms/step - loss: 0.3102 - mae: 0.4273 - mse: 0.3102 - val_loss: 0.4309 - val_mae: 0.5111 - val_mse: 0.4309\n",
      "Epoch 25/100\n",
      "\u001b[1m128/128\u001b[0m \u001b[32m━━━━━━━━━━━━━━━━━━━━\u001b[0m\u001b[37m\u001b[0m \u001b[1m2s\u001b[0m 12ms/step - loss: 0.3131 - mae: 0.4325 - mse: 0.3131 - val_loss: 0.4644 - val_mae: 0.5293 - val_mse: 0.4644\n",
      "Epoch 26/100\n",
      "\u001b[1m128/128\u001b[0m \u001b[32m━━━━━━━━━━━━━━━━━━━━\u001b[0m\u001b[37m\u001b[0m \u001b[1m2s\u001b[0m 14ms/step - loss: 0.3031 - mae: 0.4303 - mse: 0.3031 - val_loss: 0.4778 - val_mae: 0.5299 - val_mse: 0.4778\n",
      "Epoch 27/100\n",
      "\u001b[1m128/128\u001b[0m \u001b[32m━━━━━━━━━━━━━━━━━━━━\u001b[0m\u001b[37m\u001b[0m \u001b[1m2s\u001b[0m 13ms/step - loss: 0.3266 - mae: 0.4402 - mse: 0.3266 - val_loss: 0.4323 - val_mae: 0.5085 - val_mse: 0.4323\n",
      "Epoch 28/100\n",
      "\u001b[1m128/128\u001b[0m \u001b[32m━━━━━━━━━━━━━━━━━━━━\u001b[0m\u001b[37m\u001b[0m \u001b[1m2s\u001b[0m 15ms/step - loss: 0.3127 - mae: 0.4286 - mse: 0.3127 - val_loss: 0.4561 - val_mae: 0.5210 - val_mse: 0.4561\n",
      "Epoch 29/100\n",
      "\u001b[1m128/128\u001b[0m \u001b[32m━━━━━━━━━━━━━━━━━━━━\u001b[0m\u001b[37m\u001b[0m \u001b[1m2s\u001b[0m 16ms/step - loss: 0.2951 - mae: 0.4213 - mse: 0.2951 - val_loss: 0.4855 - val_mae: 0.5383 - val_mse: 0.4855\n",
      "Epoch 30/100\n",
      "\u001b[1m128/128\u001b[0m \u001b[32m━━━━━━━━━━━━━━━━━━━━\u001b[0m\u001b[37m\u001b[0m \u001b[1m3s\u001b[0m 20ms/step - loss: 0.3287 - mae: 0.4407 - mse: 0.3287 - val_loss: 0.5052 - val_mae: 0.5569 - val_mse: 0.5052\n",
      "Epoch 31/100\n",
      "\u001b[1m128/128\u001b[0m \u001b[32m━━━━━━━━━━━━━━━━━━━━\u001b[0m\u001b[37m\u001b[0m \u001b[1m2s\u001b[0m 15ms/step - loss: 0.2961 - mae: 0.4143 - mse: 0.2961 - val_loss: 0.4483 - val_mae: 0.5174 - val_mse: 0.4483\n",
      "Epoch 32/100\n",
      "\u001b[1m128/128\u001b[0m \u001b[32m━━━━━━━━━━━━━━━━━━━━\u001b[0m\u001b[37m\u001b[0m \u001b[1m2s\u001b[0m 13ms/step - loss: 0.3095 - mae: 0.4331 - mse: 0.3095 - val_loss: 0.4370 - val_mae: 0.5068 - val_mse: 0.4370\n",
      "Epoch 33/100\n",
      "\u001b[1m128/128\u001b[0m \u001b[32m━━━━━━━━━━━━━━━━━━━━\u001b[0m\u001b[37m\u001b[0m \u001b[1m2s\u001b[0m 17ms/step - loss: 0.3123 - mae: 0.4291 - mse: 0.3123 - val_loss: 0.4470 - val_mae: 0.5156 - val_mse: 0.4470\n",
      "Epoch 34/100\n",
      "\u001b[1m128/128\u001b[0m \u001b[32m━━━━━━━━━━━━━━━━━━━━\u001b[0m\u001b[37m\u001b[0m \u001b[1m2s\u001b[0m 14ms/step - loss: 0.2926 - mae: 0.4089 - mse: 0.2926 - val_loss: 0.4434 - val_mae: 0.5250 - val_mse: 0.4434\n",
      "Epoch 35/100\n",
      "\u001b[1m128/128\u001b[0m \u001b[32m━━━━━━━━━━━━━━━━━━━━\u001b[0m\u001b[37m\u001b[0m \u001b[1m2s\u001b[0m 14ms/step - loss: 0.3117 - mae: 0.4259 - mse: 0.3117 - val_loss: 0.4285 - val_mae: 0.5003 - val_mse: 0.4285\n",
      "Epoch 36/100\n",
      "\u001b[1m128/128\u001b[0m \u001b[32m━━━━━━━━━━━━━━━━━━━━\u001b[0m\u001b[37m\u001b[0m \u001b[1m2s\u001b[0m 13ms/step - loss: 0.2661 - mae: 0.3966 - mse: 0.2661 - val_loss: 0.4736 - val_mae: 0.5404 - val_mse: 0.4736\n",
      "Epoch 37/100\n",
      "\u001b[1m128/128\u001b[0m \u001b[32m━━━━━━━━━━━━━━━━━━━━\u001b[0m\u001b[37m\u001b[0m \u001b[1m2s\u001b[0m 13ms/step - loss: 0.2940 - mae: 0.4208 - mse: 0.2940 - val_loss: 0.4279 - val_mae: 0.5061 - val_mse: 0.4279\n",
      "Epoch 38/100\n",
      "\u001b[1m128/128\u001b[0m \u001b[32m━━━━━━━━━━━━━━━━━━━━\u001b[0m\u001b[37m\u001b[0m \u001b[1m2s\u001b[0m 17ms/step - loss: 0.2636 - mae: 0.3906 - mse: 0.2636 - val_loss: 0.4665 - val_mae: 0.5305 - val_mse: 0.4665\n",
      "Epoch 39/100\n",
      "\u001b[1m128/128\u001b[0m \u001b[32m━━━━━━━━━━━━━━━━━━━━\u001b[0m\u001b[37m\u001b[0m \u001b[1m2s\u001b[0m 13ms/step - loss: 0.2800 - mae: 0.4038 - mse: 0.2800 - val_loss: 0.4704 - val_mae: 0.5309 - val_mse: 0.4704\n",
      "Epoch 40/100\n",
      "\u001b[1m128/128\u001b[0m \u001b[32m━━━━━━━━━━━━━━━━━━━━\u001b[0m\u001b[37m\u001b[0m \u001b[1m2s\u001b[0m 14ms/step - loss: 0.2549 - mae: 0.3852 - mse: 0.2549 - val_loss: 0.4325 - val_mae: 0.5009 - val_mse: 0.4325\n",
      "Epoch 41/100\n",
      "\u001b[1m128/128\u001b[0m \u001b[32m━━━━━━━━━━━━━━━━━━━━\u001b[0m\u001b[37m\u001b[0m \u001b[1m2s\u001b[0m 17ms/step - loss: 0.2401 - mae: 0.3756 - mse: 0.2401 - val_loss: 0.5640 - val_mae: 0.5880 - val_mse: 0.5640\n",
      "Epoch 42/100\n",
      "\u001b[1m128/128\u001b[0m \u001b[32m━━━━━━━━━━━━━━━━━━━━\u001b[0m\u001b[37m\u001b[0m \u001b[1m3s\u001b[0m 25ms/step - loss: 0.2460 - mae: 0.3891 - mse: 0.2460 - val_loss: 0.4293 - val_mae: 0.4983 - val_mse: 0.4293\n",
      "Epoch 43/100\n",
      "\u001b[1m128/128\u001b[0m \u001b[32m━━━━━━━━━━━━━━━━━━━━\u001b[0m\u001b[37m\u001b[0m \u001b[1m3s\u001b[0m 25ms/step - loss: 0.2667 - mae: 0.3907 - mse: 0.2667 - val_loss: 0.4734 - val_mae: 0.5329 - val_mse: 0.4734\n",
      "Epoch 44/100\n",
      "\u001b[1m128/128\u001b[0m \u001b[32m━━━━━━━━━━━━━━━━━━━━\u001b[0m\u001b[37m\u001b[0m \u001b[1m3s\u001b[0m 24ms/step - loss: 0.2890 - mae: 0.4095 - mse: 0.2890 - val_loss: 0.4385 - val_mae: 0.5171 - val_mse: 0.4385\n",
      "Epoch 45/100\n",
      "\u001b[1m128/128\u001b[0m \u001b[32m━━━━━━━━━━━━━━━━━━━━\u001b[0m\u001b[37m\u001b[0m \u001b[1m2s\u001b[0m 16ms/step - loss: 0.2528 - mae: 0.3918 - mse: 0.2528 - val_loss: 0.5154 - val_mae: 0.5518 - val_mse: 0.5154\n",
      "Epoch 46/100\n",
      "\u001b[1m128/128\u001b[0m \u001b[32m━━━━━━━━━━━━━━━━━━━━\u001b[0m\u001b[37m\u001b[0m \u001b[1m3s\u001b[0m 22ms/step - loss: 0.2715 - mae: 0.4047 - mse: 0.2715 - val_loss: 0.4227 - val_mae: 0.4995 - val_mse: 0.4227\n",
      "Epoch 47/100\n",
      "\u001b[1m128/128\u001b[0m \u001b[32m━━━━━━━━━━━━━━━━━━━━\u001b[0m\u001b[37m\u001b[0m \u001b[1m2s\u001b[0m 15ms/step - loss: 0.2471 - mae: 0.3798 - mse: 0.2471 - val_loss: 0.4339 - val_mae: 0.5160 - val_mse: 0.4339\n",
      "Epoch 48/100\n",
      "\u001b[1m128/128\u001b[0m \u001b[32m━━━━━━━━━━━━━━━━━━━━\u001b[0m\u001b[37m\u001b[0m \u001b[1m2s\u001b[0m 14ms/step - loss: 0.2684 - mae: 0.3967 - mse: 0.2684 - val_loss: 0.4304 - val_mae: 0.5032 - val_mse: 0.4304\n",
      "Epoch 49/100\n",
      "\u001b[1m128/128\u001b[0m \u001b[32m━━━━━━━━━━━━━━━━━━━━\u001b[0m\u001b[37m\u001b[0m \u001b[1m2s\u001b[0m 13ms/step - loss: 0.2601 - mae: 0.3975 - mse: 0.2601 - val_loss: 0.4881 - val_mae: 0.5372 - val_mse: 0.4881\n",
      "Epoch 50/100\n",
      "\u001b[1m128/128\u001b[0m \u001b[32m━━━━━━━━━━━━━━━━━━━━\u001b[0m\u001b[37m\u001b[0m \u001b[1m2s\u001b[0m 14ms/step - loss: 0.2427 - mae: 0.3752 - mse: 0.2427 - val_loss: 0.4676 - val_mae: 0.5282 - val_mse: 0.4676\n",
      "Epoch 51/100\n",
      "\u001b[1m128/128\u001b[0m \u001b[32m━━━━━━━━━━━━━━━━━━━━\u001b[0m\u001b[37m\u001b[0m \u001b[1m2s\u001b[0m 14ms/step - loss: 0.2331 - mae: 0.3733 - mse: 0.2331 - val_loss: 0.4405 - val_mae: 0.5099 - val_mse: 0.4405\n",
      "Epoch 52/100\n",
      "\u001b[1m128/128\u001b[0m \u001b[32m━━━━━━━━━━━━━━━━━━━━\u001b[0m\u001b[37m\u001b[0m \u001b[1m2s\u001b[0m 14ms/step - loss: 0.2374 - mae: 0.3762 - mse: 0.2374 - val_loss: 0.4589 - val_mae: 0.5285 - val_mse: 0.4589\n",
      "Epoch 53/100\n",
      "\u001b[1m128/128\u001b[0m \u001b[32m━━━━━━━━━━━━━━━━━━━━\u001b[0m\u001b[37m\u001b[0m \u001b[1m2s\u001b[0m 16ms/step - loss: 0.2508 - mae: 0.3892 - mse: 0.2508 - val_loss: 0.4426 - val_mae: 0.5278 - val_mse: 0.4426\n",
      "Epoch 54/100\n",
      "\u001b[1m128/128\u001b[0m \u001b[32m━━━━━━━━━━━━━━━━━━━━\u001b[0m\u001b[37m\u001b[0m \u001b[1m2s\u001b[0m 14ms/step - loss: 0.2251 - mae: 0.3701 - mse: 0.2251 - val_loss: 0.4324 - val_mae: 0.5032 - val_mse: 0.4324\n",
      "Epoch 55/100\n",
      "\u001b[1m128/128\u001b[0m \u001b[32m━━━━━━━━━━━━━━━━━━━━\u001b[0m\u001b[37m\u001b[0m \u001b[1m2s\u001b[0m 16ms/step - loss: 0.2265 - mae: 0.3673 - mse: 0.2265 - val_loss: 0.4414 - val_mae: 0.5157 - val_mse: 0.4414\n",
      "Epoch 56/100\n",
      "\u001b[1m128/128\u001b[0m \u001b[32m━━━━━━━━━━━━━━━━━━━━\u001b[0m\u001b[37m\u001b[0m \u001b[1m2s\u001b[0m 14ms/step - loss: 0.2290 - mae: 0.3692 - mse: 0.2290 - val_loss: 0.5184 - val_mae: 0.5519 - val_mse: 0.5184\n",
      "Epoch 57/100\n",
      "\u001b[1m128/128\u001b[0m \u001b[32m━━━━━━━━━━━━━━━━━━━━\u001b[0m\u001b[37m\u001b[0m \u001b[1m2s\u001b[0m 13ms/step - loss: 0.2206 - mae: 0.3615 - mse: 0.2206 - val_loss: 0.4617 - val_mae: 0.5283 - val_mse: 0.4617\n",
      "Epoch 58/100\n",
      "\u001b[1m128/128\u001b[0m \u001b[32m━━━━━━━━━━━━━━━━━━━━\u001b[0m\u001b[37m\u001b[0m \u001b[1m2s\u001b[0m 15ms/step - loss: 0.2330 - mae: 0.3640 - mse: 0.2330 - val_loss: 0.4422 - val_mae: 0.5078 - val_mse: 0.4422\n",
      "Epoch 59/100\n",
      "\u001b[1m128/128\u001b[0m \u001b[32m━━━━━━━━━━━━━━━━━━━━\u001b[0m\u001b[37m\u001b[0m \u001b[1m2s\u001b[0m 14ms/step - loss: 0.2198 - mae: 0.3573 - mse: 0.2198 - val_loss: 0.4387 - val_mae: 0.5129 - val_mse: 0.4387\n",
      "Epoch 60/100\n",
      "\u001b[1m128/128\u001b[0m \u001b[32m━━━━━━━━━━━━━━━━━━━━\u001b[0m\u001b[37m\u001b[0m \u001b[1m2s\u001b[0m 15ms/step - loss: 0.2394 - mae: 0.3783 - mse: 0.2394 - val_loss: 0.4382 - val_mae: 0.5125 - val_mse: 0.4382\n",
      "Epoch 61/100\n",
      "\u001b[1m128/128\u001b[0m \u001b[32m━━━━━━━━━━━━━━━━━━━━\u001b[0m\u001b[37m\u001b[0m \u001b[1m2s\u001b[0m 15ms/step - loss: 0.2295 - mae: 0.3665 - mse: 0.2295 - val_loss: 0.4332 - val_mae: 0.5145 - val_mse: 0.4332\n",
      "Epoch 62/100\n",
      "\u001b[1m128/128\u001b[0m \u001b[32m━━━━━━━━━━━━━━━━━━━━\u001b[0m\u001b[37m\u001b[0m \u001b[1m2s\u001b[0m 13ms/step - loss: 0.2286 - mae: 0.3620 - mse: 0.2286 - val_loss: 0.4700 - val_mae: 0.5285 - val_mse: 0.4700\n",
      "Epoch 63/100\n",
      "\u001b[1m128/128\u001b[0m \u001b[32m━━━━━━━━━━━━━━━━━━━━\u001b[0m\u001b[37m\u001b[0m \u001b[1m2s\u001b[0m 14ms/step - loss: 0.2326 - mae: 0.3741 - mse: 0.2326 - val_loss: 0.4738 - val_mae: 0.5266 - val_mse: 0.4738\n",
      "Epoch 64/100\n",
      "\u001b[1m128/128\u001b[0m \u001b[32m━━━━━━━━━━━━━━━━━━━━\u001b[0m\u001b[37m\u001b[0m \u001b[1m2s\u001b[0m 14ms/step - loss: 0.2239 - mae: 0.3612 - mse: 0.2239 - val_loss: 0.4763 - val_mae: 0.5285 - val_mse: 0.4763\n",
      "Epoch 65/100\n",
      "\u001b[1m128/128\u001b[0m \u001b[32m━━━━━━━━━━━━━━━━━━━━\u001b[0m\u001b[37m\u001b[0m \u001b[1m2s\u001b[0m 15ms/step - loss: 0.2051 - mae: 0.3532 - mse: 0.2051 - val_loss: 0.4587 - val_mae: 0.5212 - val_mse: 0.4587\n",
      "Epoch 66/100\n",
      "\u001b[1m128/128\u001b[0m \u001b[32m━━━━━━━━━━━━━━━━━━━━\u001b[0m\u001b[37m\u001b[0m \u001b[1m2s\u001b[0m 14ms/step - loss: 0.2040 - mae: 0.3486 - mse: 0.2040 - val_loss: 0.4446 - val_mae: 0.5206 - val_mse: 0.4446\n",
      "Epoch 67/100\n",
      "\u001b[1m128/128\u001b[0m \u001b[32m━━━━━━━━━━━━━━━━━━━━\u001b[0m\u001b[37m\u001b[0m \u001b[1m2s\u001b[0m 13ms/step - loss: 0.2327 - mae: 0.3665 - mse: 0.2327 - val_loss: 0.4347 - val_mae: 0.5102 - val_mse: 0.4347\n",
      "Epoch 68/100\n",
      "\u001b[1m128/128\u001b[0m \u001b[32m━━━━━━━━━━━━━━━━━━━━\u001b[0m\u001b[37m\u001b[0m \u001b[1m2s\u001b[0m 15ms/step - loss: 0.2122 - mae: 0.3537 - mse: 0.2122 - val_loss: 0.4526 - val_mae: 0.5259 - val_mse: 0.4526\n",
      "Epoch 69/100\n",
      "\u001b[1m128/128\u001b[0m \u001b[32m━━━━━━━━━━━━━━━━━━━━\u001b[0m\u001b[37m\u001b[0m \u001b[1m3s\u001b[0m 23ms/step - loss: 0.2096 - mae: 0.3520 - mse: 0.2096 - val_loss: 0.4961 - val_mae: 0.5454 - val_mse: 0.4961\n",
      "Epoch 70/100\n",
      "\u001b[1m128/128\u001b[0m \u001b[32m━━━━━━━━━━━━━━━━━━━━\u001b[0m\u001b[37m\u001b[0m \u001b[1m3s\u001b[0m 21ms/step - loss: 0.1954 - mae: 0.3286 - mse: 0.1954 - val_loss: 0.4136 - val_mae: 0.4937 - val_mse: 0.4136\n",
      "Epoch 71/100\n",
      "\u001b[1m128/128\u001b[0m \u001b[32m━━━━━━━━━━━━━━━━━━━━\u001b[0m\u001b[37m\u001b[0m \u001b[1m2s\u001b[0m 12ms/step - loss: 0.2110 - mae: 0.3515 - mse: 0.2110 - val_loss: 0.4182 - val_mae: 0.5051 - val_mse: 0.4182\n",
      "Epoch 72/100\n",
      "\u001b[1m128/128\u001b[0m \u001b[32m━━━━━━━━━━━━━━━━━━━━\u001b[0m\u001b[37m\u001b[0m \u001b[1m2s\u001b[0m 12ms/step - loss: 0.2122 - mae: 0.3518 - mse: 0.2122 - val_loss: 0.4362 - val_mae: 0.5039 - val_mse: 0.4362\n",
      "Epoch 73/100\n",
      "\u001b[1m128/128\u001b[0m \u001b[32m━━━━━━━━━━━━━━━━━━━━\u001b[0m\u001b[37m\u001b[0m \u001b[1m2s\u001b[0m 14ms/step - loss: 0.2077 - mae: 0.3508 - mse: 0.2077 - val_loss: 0.4483 - val_mae: 0.5132 - val_mse: 0.4483\n",
      "Epoch 74/100\n",
      "\u001b[1m128/128\u001b[0m \u001b[32m━━━━━━━━━━━━━━━━━━━━\u001b[0m\u001b[37m\u001b[0m \u001b[1m3s\u001b[0m 27ms/step - loss: 0.2099 - mae: 0.3514 - mse: 0.2099 - val_loss: 0.5598 - val_mae: 0.5773 - val_mse: 0.5598\n",
      "Epoch 75/100\n",
      "\u001b[1m128/128\u001b[0m \u001b[32m━━━━━━━━━━━━━━━━━━━━\u001b[0m\u001b[37m\u001b[0m \u001b[1m2s\u001b[0m 13ms/step - loss: 0.2145 - mae: 0.3562 - mse: 0.2145 - val_loss: 0.4779 - val_mae: 0.5384 - val_mse: 0.4779\n",
      "Epoch 76/100\n",
      "\u001b[1m128/128\u001b[0m \u001b[32m━━━━━━━━━━━━━━━━━━━━\u001b[0m\u001b[37m\u001b[0m \u001b[1m1s\u001b[0m 10ms/step - loss: 0.1937 - mae: 0.3399 - mse: 0.1937 - val_loss: 0.4142 - val_mae: 0.5019 - val_mse: 0.4142\n",
      "Epoch 77/100\n",
      "\u001b[1m128/128\u001b[0m \u001b[32m━━━━━━━━━━━━━━━━━━━━\u001b[0m\u001b[37m\u001b[0m \u001b[1m1s\u001b[0m 11ms/step - loss: 0.1986 - mae: 0.3402 - mse: 0.1986 - val_loss: 0.4407 - val_mae: 0.5075 - val_mse: 0.4407\n",
      "Epoch 78/100\n",
      "\u001b[1m128/128\u001b[0m \u001b[32m━━━━━━━━━━━━━━━━━━━━\u001b[0m\u001b[37m\u001b[0m \u001b[1m3s\u001b[0m 20ms/step - loss: 0.2031 - mae: 0.3441 - mse: 0.2031 - val_loss: 0.4326 - val_mae: 0.4968 - val_mse: 0.4326\n",
      "Epoch 79/100\n",
      "\u001b[1m128/128\u001b[0m \u001b[32m━━━━━━━━━━━━━━━━━━━━\u001b[0m\u001b[37m\u001b[0m \u001b[1m2s\u001b[0m 13ms/step - loss: 0.1846 - mae: 0.3204 - mse: 0.1846 - val_loss: 0.4633 - val_mae: 0.5340 - val_mse: 0.4633\n",
      "Epoch 80/100\n",
      "\u001b[1m128/128\u001b[0m \u001b[32m━━━━━━━━━━━━━━━━━━━━\u001b[0m\u001b[37m\u001b[0m \u001b[1m2s\u001b[0m 14ms/step - loss: 0.2087 - mae: 0.3521 - mse: 0.2087 - val_loss: 0.4458 - val_mae: 0.5142 - val_mse: 0.4458\n",
      "Epoch 81/100\n",
      "\u001b[1m128/128\u001b[0m \u001b[32m━━━━━━━━━━━━━━━━━━━━\u001b[0m\u001b[37m\u001b[0m \u001b[1m2s\u001b[0m 15ms/step - loss: 0.1993 - mae: 0.3465 - mse: 0.1993 - val_loss: 0.4856 - val_mae: 0.5412 - val_mse: 0.4856\n",
      "Epoch 82/100\n",
      "\u001b[1m128/128\u001b[0m \u001b[32m━━━━━━━━━━━━━━━━━━━━\u001b[0m\u001b[37m\u001b[0m \u001b[1m1s\u001b[0m 12ms/step - loss: 0.1764 - mae: 0.3178 - mse: 0.1764 - val_loss: 0.4739 - val_mae: 0.5261 - val_mse: 0.4739\n",
      "Epoch 83/100\n",
      "\u001b[1m128/128\u001b[0m \u001b[32m━━━━━━━━━━━━━━━━━━━━\u001b[0m\u001b[37m\u001b[0m \u001b[1m2s\u001b[0m 16ms/step - loss: 0.1859 - mae: 0.3359 - mse: 0.1859 - val_loss: 0.4636 - val_mae: 0.5223 - val_mse: 0.4636\n",
      "Epoch 84/100\n",
      "\u001b[1m128/128\u001b[0m \u001b[32m━━━━━━━━━━━━━━━━━━━━\u001b[0m\u001b[37m\u001b[0m \u001b[1m2s\u001b[0m 14ms/step - loss: 0.1915 - mae: 0.3325 - mse: 0.1915 - val_loss: 0.4824 - val_mae: 0.5373 - val_mse: 0.4824\n",
      "Epoch 85/100\n",
      "\u001b[1m128/128\u001b[0m \u001b[32m━━━━━━━━━━━━━━━━━━━━\u001b[0m\u001b[37m\u001b[0m \u001b[1m2s\u001b[0m 14ms/step - loss: 0.1769 - mae: 0.3227 - mse: 0.1769 - val_loss: 0.4937 - val_mae: 0.5344 - val_mse: 0.4937\n",
      "Epoch 86/100\n",
      "\u001b[1m128/128\u001b[0m \u001b[32m━━━━━━━━━━━━━━━━━━━━\u001b[0m\u001b[37m\u001b[0m \u001b[1m2s\u001b[0m 14ms/step - loss: 0.1935 - mae: 0.3327 - mse: 0.1935 - val_loss: 0.4436 - val_mae: 0.5144 - val_mse: 0.4436\n",
      "Epoch 87/100\n",
      "\u001b[1m128/128\u001b[0m \u001b[32m━━━━━━━━━━━━━━━━━━━━\u001b[0m\u001b[37m\u001b[0m \u001b[1m2s\u001b[0m 13ms/step - loss: 0.1818 - mae: 0.3203 - mse: 0.1818 - val_loss: 0.4578 - val_mae: 0.5173 - val_mse: 0.4578\n",
      "Epoch 88/100\n",
      "\u001b[1m128/128\u001b[0m \u001b[32m━━━━━━━━━━━━━━━━━━━━\u001b[0m\u001b[37m\u001b[0m \u001b[1m2s\u001b[0m 12ms/step - loss: 0.1902 - mae: 0.3287 - mse: 0.1902 - val_loss: 0.4778 - val_mae: 0.5312 - val_mse: 0.4778\n",
      "Epoch 89/100\n",
      "\u001b[1m128/128\u001b[0m \u001b[32m━━━━━━━━━━━━━━━━━━━━\u001b[0m\u001b[37m\u001b[0m \u001b[1m2s\u001b[0m 14ms/step - loss: 0.1842 - mae: 0.3273 - mse: 0.1842 - val_loss: 0.4920 - val_mae: 0.5408 - val_mse: 0.4920\n",
      "Epoch 90/100\n",
      "\u001b[1m128/128\u001b[0m \u001b[32m━━━━━━━━━━━━━━━━━━━━\u001b[0m\u001b[37m\u001b[0m \u001b[1m2s\u001b[0m 13ms/step - loss: 0.1712 - mae: 0.3198 - mse: 0.1712 - val_loss: 0.4465 - val_mae: 0.5130 - val_mse: 0.4465\n",
      "Epoch 91/100\n",
      "\u001b[1m128/128\u001b[0m \u001b[32m━━━━━━━━━━━━━━━━━━━━\u001b[0m\u001b[37m\u001b[0m \u001b[1m2s\u001b[0m 13ms/step - loss: 0.1663 - mae: 0.3153 - mse: 0.1663 - val_loss: 0.4679 - val_mae: 0.5219 - val_mse: 0.4679\n",
      "Epoch 92/100\n",
      "\u001b[1m128/128\u001b[0m \u001b[32m━━━━━━━━━━━━━━━━━━━━\u001b[0m\u001b[37m\u001b[0m \u001b[1m2s\u001b[0m 14ms/step - loss: 0.1585 - mae: 0.2995 - mse: 0.1585 - val_loss: 0.5196 - val_mae: 0.5496 - val_mse: 0.5196\n",
      "Epoch 93/100\n",
      "\u001b[1m128/128\u001b[0m \u001b[32m━━━━━━━━━━━━━━━━━━━━\u001b[0m\u001b[37m\u001b[0m \u001b[1m2s\u001b[0m 14ms/step - loss: 0.1788 - mae: 0.3272 - mse: 0.1788 - val_loss: 0.4362 - val_mae: 0.5132 - val_mse: 0.4362\n",
      "Epoch 94/100\n",
      "\u001b[1m128/128\u001b[0m \u001b[32m━━━━━━━━━━━━━━━━━━━━\u001b[0m\u001b[37m\u001b[0m \u001b[1m2s\u001b[0m 13ms/step - loss: 0.1839 - mae: 0.3297 - mse: 0.1839 - val_loss: 0.4416 - val_mae: 0.5010 - val_mse: 0.4416\n",
      "Epoch 95/100\n",
      "\u001b[1m128/128\u001b[0m \u001b[32m━━━━━━━━━━━━━━━━━━━━\u001b[0m\u001b[37m\u001b[0m \u001b[1m2s\u001b[0m 14ms/step - loss: 0.1613 - mae: 0.3057 - mse: 0.1613 - val_loss: 0.4487 - val_mae: 0.5077 - val_mse: 0.4487\n",
      "Epoch 96/100\n",
      "\u001b[1m128/128\u001b[0m \u001b[32m━━━━━━━━━━━━━━━━━━━━\u001b[0m\u001b[37m\u001b[0m \u001b[1m2s\u001b[0m 13ms/step - loss: 0.1564 - mae: 0.2998 - mse: 0.1564 - val_loss: 0.4438 - val_mae: 0.5076 - val_mse: 0.4438\n",
      "Epoch 97/100\n",
      "\u001b[1m128/128\u001b[0m \u001b[32m━━━━━━━━━━━━━━━━━━━━\u001b[0m\u001b[37m\u001b[0m \u001b[1m2s\u001b[0m 14ms/step - loss: 0.1765 - mae: 0.3202 - mse: 0.1765 - val_loss: 0.4494 - val_mae: 0.5079 - val_mse: 0.4494\n",
      "Epoch 98/100\n",
      "\u001b[1m128/128\u001b[0m \u001b[32m━━━━━━━━━━━━━━━━━━━━\u001b[0m\u001b[37m\u001b[0m \u001b[1m2s\u001b[0m 15ms/step - loss: 0.1656 - mae: 0.3086 - mse: 0.1656 - val_loss: 0.4513 - val_mae: 0.5095 - val_mse: 0.4513\n",
      "Epoch 99/100\n",
      "\u001b[1m128/128\u001b[0m \u001b[32m━━━━━━━━━━━━━━━━━━━━\u001b[0m\u001b[37m\u001b[0m \u001b[1m2s\u001b[0m 13ms/step - loss: 0.1884 - mae: 0.3342 - mse: 0.1884 - val_loss: 0.4919 - val_mae: 0.5259 - val_mse: 0.4919\n",
      "Epoch 100/100\n",
      "\u001b[1m128/128\u001b[0m \u001b[32m━━━━━━━━━━━━━━━━━━━━\u001b[0m\u001b[37m\u001b[0m \u001b[1m2s\u001b[0m 16ms/step - loss: 0.1759 - mae: 0.3163 - mse: 0.1759 - val_loss: 0.4880 - val_mae: 0.5374 - val_mse: 0.4880\n"
     ]
    }
   ],
   "source": [
    "history = model.fit(x_train,\n",
    "                    y_train,\n",
    "                    epochs          = 100,\n",
    "                    batch_size      = 10,\n",
    "                    verbose         = fit_verbosity,\n",
    "                    validation_data = (x_test, y_test), # usually the validation data and the test data are different\n",
    "                    callbacks       = [savemodel_callback])"
   ]
  },
  {
   "cell_type": "markdown",
   "metadata": {},
   "source": [
    "## Step 6 - Evaluate\n",
    "### 6.1 - Model evaluation\n",
    "MAE =  Mean Absolute Error (between the labels and predictions)  \n",
    "A mae equal to 3 represents an average error in prediction of $3k."
   ]
  },
  {
   "cell_type": "code",
   "execution_count": 37,
   "metadata": {},
   "outputs": [
    {
     "name": "stdout",
     "output_type": "stream",
     "text": [
      "x_test / loss      : 0.4880\n",
      "x_test / mae       : 0.5374\n",
      "x_test / mse       : 0.4880\n"
     ]
    }
   ],
   "source": [
    "score = model.evaluate(x_test, y_test, verbose=0)\n",
    "\n",
    "print('x_test / loss      : {:5.4f}'.format(score[0]))\n",
    "print('x_test / mae       : {:5.4f}'.format(score[1]))\n",
    "print('x_test / mse       : {:5.4f}'.format(score[2]))"
   ]
  },
  {
   "cell_type": "markdown",
   "metadata": {},
   "source": [
    "### 6.2 - Training history\n",
    "What was the best result during our training ?"
   ]
  },
  {
   "cell_type": "code",
   "execution_count": 38,
   "metadata": {},
   "outputs": [
    {
     "name": "stdout",
     "output_type": "stream",
     "text": [
      "min( val_mae ) : 0.4937\n"
     ]
    }
   ],
   "source": [
    "print(\"min( val_mae ) : {:.4f}\".format( min(history.history[\"val_mae\"]) ) )"
   ]
  },
  {
   "cell_type": "code",
   "execution_count": 39,
   "metadata": {},
   "outputs": [
    {
     "data": {
      "image/png": "[encoded data removed]",
      "text/plain": [
       "<Figure size 800x600 with 1 Axes>"
      ]
     },
     "metadata": {},
     "output_type": "display_data"
    },
    {
     "data": {
      "image/png": "[encoded data removed]",
      "text/plain": [
       "<Figure size 800x600 with 1 Axes>"
      ]
     },
     "metadata": {},
     "output_type": "display_data"
    },
    {
     "data": {
      "image/png": "[encoded data removed]",
      "text/plain": [
       "<Figure size 800x600 with 1 Axes>"
      ]
     },
     "metadata": {},
     "output_type": "display_data"
    }
   ],
   "source": [
    "fidle.scrawler.history( history, plot={'MSE' :['mse', 'val_mse'],\n",
    "                        'MAE' :['mae', 'val_mae'],\n",
    "                        'LOSS':['loss','val_loss']}, save_as='01-history')"
   ]
  },
  {
   "cell_type": "markdown",
   "metadata": {},
   "source": [
    "## Step 7 - Restore a model :"
   ]
  },
  {
   "cell_type": "markdown",
   "metadata": {},
   "source": [
    "### 7.1 - Reload model"
   ]
  },
  {
   "cell_type": "code",
   "execution_count": 40,
   "metadata": {},
   "outputs": [
    {
     "data": {
      "text/html": [
       "<pre style=\"white-space:pre;overflow-x:auto;line-height:normal;font-family:Menlo,'DejaVu Sans Mono',consolas,'Courier New',monospace\"><span style=\"font-weight: bold\">Model: \"sequential_1\"</span>\n",
       "</pre>\n"
      ],
      "text/plain": [
       "\u001b[1mModel: \"sequential_1\"\u001b[0m\n"
      ]
     },
     "metadata": {},
     "output_type": "display_data"
    },
    {
     "data": {
      "text/html": [
       "<pre style=\"white-space:pre;overflow-x:auto;line-height:normal;font-family:Menlo,'DejaVu Sans Mono',consolas,'Courier New',monospace\">┏━━━━━━━━━━━━━━━━━━━━━━━━━━━━━━━━━┳━━━━━━━━━━━━━━━━━━━━━━━━┳━━━━━━━━━━━━━━━┓\n",
       "┃<span style=\"font-weight: bold\"> Layer (type)                    </span>┃<span style=\"font-weight: bold\"> Output Shape           </span>┃<span style=\"font-weight: bold\">       Param # </span>┃\n",
       "┡━━━━━━━━━━━━━━━━━━━━━━━━━━━━━━━━━╇━━━━━━━━━━━━━━━━━━━━━━━━╇━━━━━━━━━━━━━━━┩\n",
       "│ Dense_n1 (<span style=\"color: #0087ff; text-decoration-color: #0087ff\">Dense</span>)                │ (<span style=\"color: #00d7ff; text-decoration-color: #00d7ff\">None</span>, <span style=\"color: #00af00; text-decoration-color: #00af00\">64</span>)             │           <span style=\"color: #00af00; text-decoration-color: #00af00\">768</span> │\n",
       "├─────────────────────────────────┼────────────────────────┼───────────────┤\n",
       "│ Dense_n2 (<span style=\"color: #0087ff; text-decoration-color: #0087ff\">Dense</span>)                │ (<span style=\"color: #00d7ff; text-decoration-color: #00d7ff\">None</span>, <span style=\"color: #00af00; text-decoration-color: #00af00\">64</span>)             │         <span style=\"color: #00af00; text-decoration-color: #00af00\">4,160</span> │\n",
       "├─────────────────────────────────┼────────────────────────┼───────────────┤\n",
       "│ Output (<span style=\"color: #0087ff; text-decoration-color: #0087ff\">Dense</span>)                  │ (<span style=\"color: #00d7ff; text-decoration-color: #00d7ff\">None</span>, <span style=\"color: #00af00; text-decoration-color: #00af00\">1</span>)              │            <span style=\"color: #00af00; text-decoration-color: #00af00\">65</span> │\n",
       "└─────────────────────────────────┴────────────────────────┴───────────────┘\n",
       "</pre>\n"
      ],
      "text/plain": [
       "┏━━━━━━━━━━━━━━━━━━━━━━━━━━━━━━━━━┳━━━━━━━━━━━━━━━━━━━━━━━━┳━━━━━━━━━━━━━━━┓\n",
       "┃\u001b[1m \u001b[0m\u001b[1mLayer (type)                   \u001b[0m\u001b[1m \u001b[0m┃\u001b[1m \u001b[0m\u001b[1mOutput Shape          \u001b[0m\u001b[1m \u001b[0m┃\u001b[1m \u001b[0m\u001b[1m      Param #\u001b[0m\u001b[1m \u001b[0m┃\n",
       "┡━━━━━━━━━━━━━━━━━━━━━━━━━━━━━━━━━╇━━━━━━━━━━━━━━━━━━━━━━━━╇━━━━━━━━━━━━━━━┩\n",
       "│ Dense_n1 (\u001b[38;5;33mDense\u001b[0m)                │ (\u001b[38;5;45mNone\u001b[0m, \u001b[38;5;34m64\u001b[0m)             │           \u001b[38;5;34m768\u001b[0m │\n",
       "├─────────────────────────────────┼────────────────────────┼───────────────┤\n",
       "│ Dense_n2 (\u001b[38;5;33mDense\u001b[0m)                │ (\u001b[38;5;45mNone\u001b[0m, \u001b[38;5;34m64\u001b[0m)             │         \u001b[38;5;34m4,160\u001b[0m │\n",
       "├─────────────────────────────────┼────────────────────────┼───────────────┤\n",
       "│ Output (\u001b[38;5;33mDense\u001b[0m)                  │ (\u001b[38;5;45mNone\u001b[0m, \u001b[38;5;34m1\u001b[0m)              │            \u001b[38;5;34m65\u001b[0m │\n",
       "└─────────────────────────────────┴────────────────────────┴───────────────┘\n"
      ]
     },
     "metadata": {},
     "output_type": "display_data"
    },
    {
     "data": {
      "text/html": [
       "<pre style=\"white-space:pre;overflow-x:auto;line-height:normal;font-family:Menlo,'DejaVu Sans Mono',consolas,'Courier New',monospace\"><span style=\"font-weight: bold\"> Total params: </span><span style=\"color: #00af00; text-decoration-color: #00af00\">9,988</span> (39.02 KB)\n",
       "</pre>\n"
      ],
      "text/plain": [
       "\u001b[1m Total params: \u001b[0m\u001b[38;5;34m9,988\u001b[0m (39.02 KB)\n"
      ]
     },
     "metadata": {},
     "output_type": "display_data"
    },
    {
     "data": {
      "text/html": [
       "<pre style=\"white-space:pre;overflow-x:auto;line-height:normal;font-family:Menlo,'DejaVu Sans Mono',consolas,'Courier New',monospace\"><span style=\"font-weight: bold\"> Trainable params: </span><span style=\"color: #00af00; text-decoration-color: #00af00\">4,993</span> (19.50 KB)\n",
       "</pre>\n"
      ],
      "text/plain": [
       "\u001b[1m Trainable params: \u001b[0m\u001b[38;5;34m4,993\u001b[0m (19.50 KB)\n"
      ]
     },
     "metadata": {},
     "output_type": "display_data"
    },
    {
     "data": {
      "text/html": [
       "<pre style=\"white-space:pre;overflow-x:auto;line-height:normal;font-family:Menlo,'DejaVu Sans Mono',consolas,'Courier New',monospace\"><span style=\"font-weight: bold\"> Non-trainable params: </span><span style=\"color: #00af00; text-decoration-color: #00af00\">0</span> (0.00 B)\n",
       "</pre>\n"
      ],
      "text/plain": [
       "\u001b[1m Non-trainable params: \u001b[0m\u001b[38;5;34m0\u001b[0m (0.00 B)\n"
      ]
     },
     "metadata": {},
     "output_type": "display_data"
    },
    {
     "data": {
      "text/html": [
       "<pre style=\"white-space:pre;overflow-x:auto;line-height:normal;font-family:Menlo,'DejaVu Sans Mono',consolas,'Courier New',monospace\"><span style=\"font-weight: bold\"> Optimizer params: </span><span style=\"color: #00af00; text-decoration-color: #00af00\">4,995</span> (19.51 KB)\n",
       "</pre>\n"
      ],
      "text/plain": [
       "\u001b[1m Optimizer params: \u001b[0m\u001b[38;5;34m4,995\u001b[0m (19.51 KB)\n"
      ]
     },
     "metadata": {},
     "output_type": "display_data"
    },
    {
     "name": "stdout",
     "output_type": "stream",
     "text": [
      "Loaded.\n"
     ]
    }
   ],
   "source": [
    "loaded_model = keras.models.load_model('./run/models/best_model.keras')\n",
    "loaded_model.summary()\n",
    "print(\"Loaded.\")"
   ]
  },
  {
   "cell_type": "markdown",
   "metadata": {},
   "source": [
    "### 7.2 - Evaluate it :"
   ]
  },
  {
   "cell_type": "code",
   "execution_count": 41,
   "metadata": {},
   "outputs": [
    {
     "name": "stdout",
     "output_type": "stream",
     "text": [
      "x_test / loss      : 2.0632\n",
      "x_test / mae       : 1.0926\n",
      "x_test / mse       : 2.0632\n"
     ]
    }
   ],
   "source": [
    "score = loaded_model.evaluate(x_test, y_test, verbose=0)\n",
    "\n",
    "print('x_test / loss      : {:5.4f}'.format(score[0]))\n",
    "print('x_test / mae       : {:5.4f}'.format(score[1]))\n",
    "print('x_test / mse       : {:5.4f}'.format(score[2]))"
   ]
  },
  {
   "cell_type": "markdown",
   "metadata": {},
   "source": [
    "### 7.3 - Make a prediction"
   ]
  },
  {
   "cell_type": "code",
   "execution_count": 42,
   "metadata": {},
   "outputs": [],
   "source": [
    "# ---- Pick n entries from our test set\n",
    "n = 200\n",
    "ii = np.random.randint(1,len(x_test),n)\n",
    "x_sample = x_test[ii]\n",
    "y_sample = y_test[ii]"
   ]
  },
  {
   "cell_type": "code",
   "execution_count": 43,
   "metadata": {},
   "outputs": [
    {
     "name": "stdout",
     "output_type": "stream",
     "text": [
      "7/7 - 0s - 7ms/step\n"
     ]
    }
   ],
   "source": [
    "# ---- Make a predictions\n",
    "y_pred = loaded_model.predict( x_sample, verbose=2 )"
   ]
  },
  {
   "cell_type": "code",
   "execution_count": 44,
   "metadata": {},
   "outputs": [
    {
     "name": "stdout",
     "output_type": "stream",
     "text": [
      "Wine    Prediction   Real   Delta\n",
      "000        7.57       7      -0.57 \n",
      "001        6.90       5      -1.90 \n",
      "002        5.45       6      +0.55 \n",
      "003        4.17       5      +0.83 \n",
      "004        4.35       7      +2.65 \n",
      "005        6.04       7      +0.96 \n",
      "006        4.26       6      +1.74 \n",
      "007        3.96       6      +2.04 \n",
      "008        6.56       7      +0.44 \n",
      "009        4.08       5      +0.92 \n",
      "010        7.14       6      -1.14 \n",
      "011        5.57       5      -0.57 \n",
      "012        5.69       6      +0.31 \n",
      "013        6.07       6      -0.07 \n",
      "014        5.42       5      -0.42 \n",
      "015        6.60       5      -1.60 \n",
      "016        5.93       5      -0.93 \n",
      "017        3.96       6      +2.04 \n",
      "018        4.87       6      +1.13 \n",
      "019        5.53       5      -0.53 \n",
      "020        3.55       6      +2.45 \n",
      "021        6.69       6      -0.69 \n",
      "022        5.71       7      +1.29 \n",
      "023        4.75       5      +0.25 \n",
      "024        5.84       6      +0.16 \n",
      "025        4.55       6      +1.45 \n",
      "026        5.93       5      -0.93 \n",
      "027        6.96       7      +0.04 \n",
      "028        4.81       5      +0.19 \n",
      "029        6.53       5      -1.53 \n",
      "030        5.21       6      +0.79 \n",
      "031        4.50       5      +0.50 \n",
      "032        5.78       5      -0.78 \n",
      "033        4.56       6      +1.44 \n",
      "034        5.71       6      +0.29 \n",
      "035        7.60       5      -2.60 \n",
      "036        3.76       6      +2.24 \n",
      "037        4.78       6      +1.22 \n",
      "038        5.13       6      +0.87 \n",
      "039        6.11       6      -0.11 \n",
      "040        7.60       5      -2.60 \n",
      "041        5.88       6      +0.12 \n",
      "042        6.07       6      -0.07 \n",
      "043        5.39       5      -0.39 \n",
      "044        5.68       6      +0.32 \n",
      "045        4.51       5      +0.49 \n",
      "046        4.49       6      +1.51 \n",
      "047        5.02       6      +0.98 \n",
      "048        4.51       5      +0.49 \n",
      "049        6.14       6      -0.14 \n",
      "050        6.14       6      -0.14 \n",
      "051        6.06       5      -1.06 \n",
      "052        4.25       6      +1.75 \n",
      "053        3.68       5      +1.32 \n",
      "054        5.48       6      +0.52 \n",
      "055        5.31       4      -1.31 \n",
      "056        7.42       5      -2.42 \n",
      "057        6.06       5      -1.06 \n",
      "058        5.34       5      -0.34 \n",
      "059        7.22       7      -0.22 \n",
      "060        6.57       6      -0.57 \n",
      "061        6.22       5      -1.22 \n",
      "062        5.29       6      +0.71 \n",
      "063        7.24       6      -1.24 \n",
      "064        6.76       6      -0.76 \n",
      "065        5.77       5      -0.77 \n",
      "066        3.74       5      +1.26 \n",
      "067        5.14       5      -0.14 \n",
      "068        7.01       6      -1.01 \n",
      "069        5.39       5      -0.39 \n",
      "070        7.21       6      -1.21 \n",
      "071        3.64       6      +2.36 \n",
      "072        5.31       4      -1.31 \n",
      "073        6.04       6      -0.04 \n",
      "074        5.21       4      -1.21 \n",
      "075        5.56       5      -0.56 \n",
      "076        4.85       6      +1.15 \n",
      "077        6.14       6      -0.14 \n",
      "078        5.36       5      -0.36 \n",
      "079        4.52       5      +0.48 \n",
      "080        6.67       6      -0.67 \n",
      "081        5.19       6      +0.81 \n",
      "082        6.22       5      -1.22 \n",
      "083        4.95       5      +0.05 \n",
      "084        6.04       6      -0.04 \n",
      "085        7.60       5      -2.60 \n",
      "086        4.55       6      +1.45 \n",
      "087        6.66       6      -0.66 \n",
      "088        5.36       6      +0.64 \n",
      "089        4.95       5      +0.05 \n",
      "090        5.91       5      -0.91 \n",
      "091        5.05       7      +1.95 \n",
      "092        3.92       6      +2.08 \n",
      "093        4.98       7      +2.02 \n",
      "094        3.97       5      +1.03 \n",
      "095        7.44       5      -2.44 \n",
      "096        5.28       5      -0.28 \n",
      "097        7.14       6      -1.14 \n",
      "098        6.67       6      -0.67 \n",
      "099        4.81       5      +0.19 \n",
      "100        4.99       6      +1.01 \n",
      "101        2.61       7      +4.39 \n",
      "102        4.07       5      +0.93 \n",
      "103        5.56       5      -0.56 \n",
      "104        4.21       6      +1.79 \n",
      "105        4.56       6      +1.44 \n",
      "106        4.87       6      +1.13 \n",
      "107        5.57       5      -0.57 \n",
      "108        4.87       5      +0.13 \n",
      "109        6.57       6      -0.57 \n",
      "110        6.33       6      -0.33 \n",
      "111        4.24       6      +1.76 \n",
      "112        4.85       6      +1.15 \n",
      "113        7.57       7      -0.57 \n",
      "114        11.70       5      -6.70 \n",
      "115        4.85       6      +1.15 \n",
      "116        3.56       5      +1.44 \n",
      "117        5.70       6      +0.30 \n",
      "118        7.77       6      -1.77 \n",
      "119        3.19       5      +1.81 \n",
      "120        4.87       5      +0.13 \n",
      "121        5.49       6      +0.51 \n",
      "122        7.77       6      -1.77 \n",
      "123        4.51       5      +0.49 \n",
      "124        3.05       5      +1.95 \n",
      "125        7.51       5      -2.51 \n",
      "126        3.97       5      +1.03 \n",
      "127        5.64       5      -0.64 \n",
      "128        6.07       5      -1.07 \n",
      "129        4.61       6      +1.39 \n",
      "130        3.74       5      +1.26 \n",
      "131        4.79       6      +1.21 \n",
      "132        4.17       6      +1.83 \n",
      "133        4.15       5      +0.85 \n",
      "134        4.51       6      +1.49 \n",
      "135        5.42       6      +0.58 \n",
      "136        4.52       5      +0.48 \n",
      "137        5.08       5      -0.08 \n",
      "138        4.15       5      +0.85 \n",
      "139        5.03       6      +0.97 \n",
      "140        4.33       6      +1.67 \n",
      "141        4.88       5      +0.12 \n",
      "142        5.49       6      +0.51 \n",
      "143        4.75       5      +0.25 \n",
      "144        4.78       6      +1.22 \n",
      "145        4.08       5      +0.92 \n",
      "146        4.70       5      +0.30 \n",
      "147        6.90       5      -1.90 \n",
      "148        4.05       6      +1.95 \n",
      "149        5.73       5      -0.73 \n",
      "150        5.17       6      +0.83 \n",
      "151        5.93       6      +0.07 \n",
      "152        5.51       6      +0.49 \n",
      "153        6.18       4      -2.18 \n",
      "154        6.22       5      -1.22 \n",
      "155        5.68       6      +0.32 \n",
      "156        4.81       5      +0.19 \n",
      "157        6.28       5      -1.28 \n",
      "158        4.14       7      +2.86 \n",
      "159        5.58       6      +0.42 \n",
      "160        5.42       5      -0.42 \n",
      "161        4.70       5      +0.30 \n",
      "162        3.95       5      +1.05 \n",
      "163        4.17       6      +1.83 \n",
      "164        5.79       5      -0.79 \n",
      "165        5.78       5      -0.78 \n",
      "166        5.94       5      -0.94 \n",
      "167        8.60       5      -3.60 \n",
      "168        5.89       7      +1.11 \n",
      "169        5.40       6      +0.60 \n",
      "170        5.21       6      +0.79 \n",
      "171        5.78       5      -0.78 \n",
      "172        5.83       7      +1.17 \n",
      "173        6.08       6      -0.08 \n",
      "174        6.52       7      +0.48 \n",
      "175        3.97       5      +1.03 \n",
      "176        5.71       6      +0.29 \n",
      "177        5.36       6      +0.64 \n",
      "178        6.75       6      -0.75 \n",
      "179        6.06       5      -1.06 \n",
      "180        6.70       6      -0.70 \n",
      "181        5.90       7      +1.10 \n",
      "182        5.01       5      -0.01 \n",
      "183        7.01       6      -1.01 \n",
      "184        5.34       5      -0.34 \n",
      "185        5.86       5      -0.86 \n",
      "186        2.80       5      +2.20 \n",
      "187        3.96       6      +2.04 \n",
      "188        5.01       5      -0.01 \n",
      "189        7.14       6      -1.14 \n",
      "190        7.57       7      -0.57 \n",
      "191        3.03       6      +2.97 \n",
      "192        7.56       6      -1.56 \n",
      "193        3.92       6      +2.08 \n",
      "194        6.78       6      -0.78 \n",
      "195        3.55       6      +2.45 \n",
      "196        4.18       5      +0.82 \n",
      "197        4.18       5      +0.82 \n",
      "198        5.57       5      -0.57 \n",
      "199        4.26       6      +1.74 \n"
     ]
    }
   ],
   "source": [
    "# ---- Show it\n",
    "print('Wine    Prediction   Real   Delta')\n",
    "for i in range(n):\n",
    "    pred   = y_pred[i][0]\n",
    "    real   = y_sample[i]\n",
    "    delta  = real-pred\n",
    "    print(f'{i:03d}        {pred:.2f}       {real}      {delta:+.2f} ')"
   ]
  },
  {
   "cell_type": "markdown",
   "metadata": {},
   "source": [
    "### Few questions :\n",
    "- Can this model be used for red wines from Bordeaux and/or Beaujolais?\n",
    "- What are the limitations of this model?\n",
    "- What are the limitations of this dataset?"
   ]
  },
  {
   "cell_type": "code",
   "execution_count": 45,
   "metadata": {},
   "outputs": [
    {
     "data": {
      "text/markdown": [
       "**End time :** 03/07/24 10:02:09  \n",
       "**Duration :** 00:10:59 870ms  \n",
       "This notebook ends here :-)  \n",
       "[https://fidle.cnrs.fr](https://fidle.cnrs.fr)"
      ],
      "text/plain": [
       "<IPython.core.display.Markdown object>"
      ]
     },
     "metadata": {},
     "output_type": "display_data"
    }
   ],
   "source": [
    "fidle.end()"
   ]
  },
  {
   "cell_type": "markdown",
   "metadata": {},
   "source": [
    "---\n",
    "<img width=\"80px\" src=\"../fidle/img/logo-paysage.svg\"></img>"
   ]
  }
 ],
 "metadata": {
  "kernelspec": {
   "display_name": "Python 3 (ipykernel)",
   "language": "python",
   "name": "python3"
  },
  "vscode": {
   "interpreter": {
    "hash": "b3929042cc22c1274d74e3e946c52b845b57cb6d84f2d591ffe0519b38e4896d"
   }
  }
 },
 "nbformat": 4,
 "nbformat_minor": 4
}
